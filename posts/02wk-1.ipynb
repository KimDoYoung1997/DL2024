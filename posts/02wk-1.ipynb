{
 "cells": [
  {
   "cell_type": "raw",
   "id": "bce6bbae-4a25-4d42-aa00-605f665692b7",
   "metadata": {
    "id": "87b5cded-346b-4915-acf5-b5ec93a5207d"
   },
   "source": [
    "---\n",
    "title: \"02wk-1: 회귀분석 (2) -- Step1~4 / 벡터미분\"\n",
    "author: \"최규빈\"\n",
    "date: \"03/11/2024\"\n",
    "---"
   ]
  },
  {
   "cell_type": "markdown",
   "id": "5c537530-3cb5-4e76-bc98-c6fbb43b082c",
   "metadata": {
    "id": "e67ab8e0"
   },
   "source": [
    "<a href=\"https://colab.research.google.com/github/guebin/DL2024/blob/main/posts/02wk-1.ipynb\"><img src=\"https://colab.research.google.com/assets/colab-badge.svg\" style=\"text-align: left\"></a>"
   ]
  },
  {
   "cell_type": "markdown",
   "id": "22a4476f-6d45-4f1c-bc1d-7084d3491ce3",
   "metadata": {
    "id": "4d47a7c9"
   },
   "source": [
    "# 1. 강의영상"
   ]
  },
  {
   "cell_type": "markdown",
   "id": "21a8732e-1dcb-44d1-9a03-bfe8f4b79476",
   "metadata": {},
   "source": [
    "{{<video https://youtu.be/playlist?list=PLQqh36zP38-wdw3rc9ka0a_JSpsth-XBO&si=Vct3AMxWuodtSlzX >}}"
   ]
  },
  {
   "cell_type": "markdown",
   "id": "de3d75c7-7e6e-41f8-880c-b3ceaec045c3",
   "metadata": {},
   "source": [
    "# 2. Imports"
   ]
  },
  {
   "cell_type": "code",
   "execution_count": 1,
   "id": "903d2bef-18cf-436f-aba0-bbf57ea3bbcb",
   "metadata": {
    "tags": []
   },
   "outputs": [],
   "source": [
    "import torch\n",
    "import matplotlib.pyplot as plt \n",
    "import numpy as np"
   ]
  },
  {
   "cell_type": "markdown",
   "id": "e3887ab6-47df-4024-8ef5-120e09bb5d56",
   "metadata": {},
   "source": [
    "# 3. 회귀모형"
   ]
  },
  {
   "cell_type": "markdown",
   "id": "2036490d-eb78-46cc-9c5c-fe1d84cb4d59",
   "metadata": {},
   "source": [
    "## A. 소설 "
   ]
  },
  {
   "cell_type": "markdown",
   "id": "70f6a1f0-fef0-493e-9739-cc840c4df995",
   "metadata": {},
   "source": [
    "`-` 카페주인인 박혜원씨는 온도와 아이스아메리카노 판매량이 관계가 있다는 것을 알았다. 구체적으로는 \n",
    "\n",
    "> \"온도가 높아질 수록 (=날씨가 더울수록) 아이스아메리카노의 판매량이 증가\"\n",
    "\n",
    "한다는 사실을 알게 되었다. 박혜원씨는 \n",
    "\n",
    "> 일기예보를 보고 오늘의 평균 기온을 입력하면, 오늘의 아이스아메리카노 판매량을 미리 예측할 수 있지 않을까? 그 예측량만큼 아이스아메리카노를 준비하면 장사에 도움이 되지 않을까???\n",
    "\n",
    "라는 생각을 하게 되었고 이를 위하여 아래와 같이 100개의 데이터를 모았다. "
   ]
  },
  {
   "cell_type": "code",
   "execution_count": 2,
   "id": "635a3cff-291d-4c6c-8ae9-2fdf3c1ee71a",
   "metadata": {
    "tags": []
   },
   "outputs": [],
   "source": [
    "temp = [-2.4821, -2.3621, -1.9973, -1.6239, -1.4792, -1.4635, -1.4509, -1.4435,\n",
    "        -1.3722, -1.3079, -1.1904, -1.1092, -1.1054, -1.0875, -0.9469, -0.9319,\n",
    "        -0.8643, -0.7858, -0.7549, -0.7421, -0.6948, -0.6103, -0.5830, -0.5621,\n",
    "        -0.5506, -0.5058, -0.4806, -0.4738, -0.4710, -0.4676, -0.3874, -0.3719,\n",
    "        -0.3688, -0.3159, -0.2775, -0.2772, -0.2734, -0.2721, -0.2668, -0.2155,\n",
    "        -0.2000, -0.1816, -0.1708, -0.1565, -0.1448, -0.1361, -0.1057, -0.0603,\n",
    "        -0.0559, -0.0214,  0.0655,  0.0684,  0.1195,  0.1420,  0.1521,  0.1568,\n",
    "         0.2646,  0.2656,  0.3157,  0.3220,  0.3461,  0.3984,  0.4190,  0.5443,\n",
    "         0.5579,  0.5913,  0.6148,  0.6469,  0.6469,  0.6523,  0.6674,  0.7059,\n",
    "         0.7141,  0.7822,  0.8154,  0.8668,  0.9291,  0.9804,  0.9853,  0.9941,\n",
    "         1.0376,  1.0393,  1.0697,  1.1024,  1.1126,  1.1532,  1.2289,  1.3403,\n",
    "         1.3494,  1.4279,  1.4994,  1.5031,  1.5437,  1.6789,  2.0832,  2.2444,\n",
    "         2.3935,  2.6056,  2.6057,  2.6632]"
   ]
  },
  {
   "cell_type": "code",
   "execution_count": 3,
   "id": "9caee5fc-e3ee-46a8-afe8-20c58f869dcb",
   "metadata": {
    "tags": []
   },
   "outputs": [],
   "source": [
    "sales= [-8.5420, -6.5767, -5.9496, -4.4794, -4.2516, -3.1326, -4.0239, -4.1862,\n",
    "        -3.3403, -2.2027, -2.0262, -2.5619, -1.3353, -2.0466, -0.4664, -1.3513,\n",
    "        -1.6472, -0.1089, -0.3071, -0.6299, -0.0438,  0.4163,  0.4166, -0.0943,\n",
    "         0.2662,  0.4591,  0.8905,  0.8998,  0.6314,  1.3845,  0.8085,  1.2594,\n",
    "         1.1211,  1.9232,  1.0619,  1.3552,  2.1161,  1.1437,  1.6245,  1.7639,\n",
    "         1.6022,  1.7465,  0.9830,  1.7824,  2.1116,  2.8621,  2.1165,  1.5226,\n",
    "         2.5572,  2.8361,  3.3956,  2.0679,  2.8140,  3.4852,  3.6059,  2.5966,\n",
    "         2.8854,  3.9173,  3.6527,  4.1029,  4.3125,  3.4026,  3.2180,  4.5686,\n",
    "         4.3772,  4.3075,  4.4895,  4.4827,  5.3170,  5.4987,  5.4632,  6.0328,\n",
    "         5.2842,  5.0539,  5.4538,  6.0337,  5.7250,  5.7587,  6.2020,  6.5992,\n",
    "         6.4621,  6.5140,  6.6846,  7.3497,  8.0909,  7.0794,  6.8667,  7.4229,\n",
    "         7.2544,  7.1967,  9.5006,  9.0339,  7.4887,  9.0759, 11.0946, 10.3260,\n",
    "        12.2665, 13.0983, 12.5468, 13.8340]"
   ]
  },
  {
   "cell_type": "markdown",
   "id": "b569d63e-88e8-40a4-a757-4caa4611252f",
   "metadata": {},
   "source": [
    "여기에서 `temp`는 평균기온이고, `sales`는 아이스아메리카노 판매량이다.^[판매량이 소수점이고 심지어 음수인것은 그냥 그려러니 하자..] 평균기온과 판매량의 그래프를 그려보면 아래와 같다. "
   ]
  },
  {
   "cell_type": "code",
   "execution_count": null,
   "id": "8e9279f6-5d07-4d73-a64c-a76bb87f46f3",
   "metadata": {
    "tags": []
   },
   "outputs": [],
   "source": [
    "plt.plot(temp,sales,'o')"
   ]
  },
  {
   "cell_type": "markdown",
   "id": "9a707839-58bf-42ba-ba43-dde3cfebb8c8",
   "metadata": {},
   "source": [
    "## B. 모델링"
   ]
  },
  {
   "cell_type": "markdown",
   "id": "571227c8-c37b-4b65-86ee-672ecaf6abbe",
   "metadata": {},
   "source": [
    "`-` 산점도를 살펴본 박혜원씨는 평균기온이 올라갈수록 아이스아메리카노 판매량이 **\"선형적\"**으로 증가한다는 사실을 캐치했다. 물론 약간의 오차는 있어보였다. 오차까지 고려하여 평균기온과 아이스판매량의 관계를 추정하면 아래와 같이 생각할 수 있다. \n",
    "\n",
    "> 아이스아메리카노 판매량 $\\approx$ $w_0$ $+$ $w_1$ $\\times$ 평균기온\n",
    "\n",
    "위의 수식에서 만약에 $w_0$와 $w_1$의 값을 적절히 추정한다면, 평균기온량을 입력으로 하였을때 아이스아메리카노 판매량을 예측할 수 있을 것이다."
   ]
  },
  {
   "cell_type": "markdown",
   "id": "3fccbe58-3e3f-495f-ab3b-c2308bcaa7de",
   "metadata": {},
   "source": [
    "`-` 아이스크림 판매량을 $y_i$로, 평균기온을 $x_i$로 변수화한뒤 박혜원의 수식을 좀 더 수학적으로 표현하면 \n",
    "\n",
    "$$y_i \\approx w_0 + w_1 x_i,\\quad i=1,2,\\dots,100$$ \n",
    "\n",
    "와 같이 쓸 수 있다. 오차항을 포함하여 좀 더 엄밀하게 쓰면 \n",
    "\n",
    "$$y_i = w_0 + w_1 x_i + \\epsilon_i,\\quad i=1,2,\\dots,100$$ \n",
    "\n",
    "와 같이 나타낼 수 있어보인다. 여기에서 $\\epsilon_i \\sim N(0,\\sigma^2)$ 로 가정해도 무방할 듯 하다. 그런데 이를 다시 아래와 같이 표현하는 것이 가능하다. \n",
    "\n",
    "$${\\bf y}={\\bf X}{\\bf W} +\\boldsymbol{\\epsilon}$$\n",
    "\n",
    "단 여기에서 \n",
    "\n",
    "$${\\bf y}=\\begin{bmatrix} y_1 \\\\ y_2 \\\\ \\dots \\\\ y_n\\end{bmatrix}, \\quad {\\bf x}=\\begin{bmatrix} x_1 \\\\ x_2 \\\\ \\dots \\\\ x_n\\end{bmatrix}, \\quad {\\bf X}=\\begin{bmatrix} {\\bf 1} & {\\bf x} \\end{bmatrix}=\\begin{bmatrix} 1 & x_1 \\\\ 1 & x_2 \\\\ \\dots \\\\ 1 & x_n\\end{bmatrix}, \\quad {\\bf W}=\\begin{bmatrix} w_0 \\\\ w_1 \\end{bmatrix}, \\quad \\boldsymbol{\\epsilon}= \\begin{bmatrix} \\epsilon_1 \\\\ \\dots \\\\ \\epsilon_n\\end{bmatrix}$$\n",
    "\n",
    "이다. "
   ]
  },
  {
   "cell_type": "markdown",
   "id": "ef1588c5-3aa8-4a9b-89a0-84576ca9ece3",
   "metadata": {},
   "source": [
    "## C. 데이터를 `torch.tensor`로 변환 "
   ]
  },
  {
   "cell_type": "markdown",
   "id": "6e5f70bb-b2e6-4063-a16e-7a66d9de810a",
   "metadata": {},
   "source": [
    "`-` 현재까지의 상황을 파이토치로 코딩하면 아래와 같다. "
   ]
  },
  {
   "cell_type": "code",
   "execution_count": 6,
   "id": "33aac569-8252-4300-b2fa-75cb274b8918",
   "metadata": {
    "tags": []
   },
   "outputs": [],
   "source": [
    "x = torch.tensor(temp).reshape(-1,1)    # 100 * 1\n",
    "ones = torch.ones(100).reshape(-1,1)    # 100 * 1\n",
    "X = torch.concat([ones,x],axis=1)       # 100 * (1+1)\n",
    "y = torch.tensor(sales).reshape(-1,1)   # 100 * 1\n",
    "#W = ?? 이건 모름.. 추정해야함. \n",
    "#ϵ = ?? 이것도 모름!!"
   ]
  },
  {
   "cell_type": "markdown",
   "id": "210aa796-57c1-47f5-b1b7-d5ebfa881053",
   "metadata": {},
   "source": [
    "## D. 아무렇게나 추정 "
   ]
  },
  {
   "cell_type": "markdown",
   "id": "5e3a1fc3-7f93-43e7-a5bd-3c04b451e5a1",
   "metadata": {},
   "source": [
    "`-` ${\\bf W}$ 에 대한 추정값을 $\\hat{\\bf W}$라고 할때 \n",
    "\n",
    "$$\\hat{\\bf W}=\\begin{bmatrix} \\hat{w}_0 \\\\ \\hat{w}_1 \\end{bmatrix} =\\begin{bmatrix} -5 \\\\ 10 \\end{bmatrix}$$ \n",
    "\n",
    "으로 추정한 상황이라면 커피판매량의 예측값은 \n",
    "\n",
    "$$\\hat{\\bf y} = {\\bf X}\\hat{\\bf W}$$\n",
    "\n",
    "이라고 표현할 수 있다. 이 의미는 아래의 그림에서 주황색 점선으로 커피판매량을 예측한다는 의미이다. "
   ]
  },
  {
   "cell_type": "code",
   "execution_count": null,
   "id": "d3f43091-3a4e-4361-8062-637526871ca5",
   "metadata": {
    "tags": []
   },
   "outputs": [],
   "source": [
    "What = torch.tensor([[-5.0],\n",
    "                     [10.0]])\n",
    "What    # 2x1"
   ]
  },
  {
   "cell_type": "code",
   "execution_count": null,
   "id": "aaff355b",
   "metadata": {},
   "outputs": [],
   "source": [
    "print(What.shape)"
   ]
  },
  {
   "cell_type": "code",
   "execution_count": 14,
   "id": "b8aad2b2-a56d-470e-9bb4-ea384255cb13",
   "metadata": {
    "tags": []
   },
   "outputs": [],
   "source": [
    "yhat = X@What   # 100x2 @ 2x1 == 100x1"
   ]
  },
  {
   "cell_type": "code",
   "execution_count": null,
   "id": "68319c52",
   "metadata": {},
   "outputs": [],
   "source": [
    "yhat.shape"
   ]
  },
  {
   "cell_type": "code",
   "execution_count": null,
   "id": "c19493ee-5e09-40b6-b15a-c6f6b5761d62",
   "metadata": {
    "tags": []
   },
   "outputs": [],
   "source": [
    "plt.plot(x,y,'o')\n",
    "plt.plot(x,yhat,'--')"
   ]
  },
  {
   "cell_type": "markdown",
   "id": "be028899-c8c6-4104-b1df-09c52fee29b6",
   "metadata": {},
   "source": [
    "## E. 추정의 방법"
   ]
  },
  {
   "cell_type": "markdown",
   "id": "6c550585-ab1c-4578-9687-3c18d8cacb48",
   "metadata": {},
   "source": [
    "`-` 방법1: 이론적으로 추론 \\<- 회귀분석시간에 배운것"
   ]
  },
  {
   "cell_type": "code",
   "execution_count": null,
   "id": "3c5298d7-4371-4357-bf58-963f8fb7aebe",
   "metadata": {
    "tags": []
   },
   "outputs": [],
   "source": [
    "# Optimal What은 수식적으로 아래와 같이 구할 수 있다.\n",
    "torch.linalg.inv((X.T @ X)) @ X.T @ y # 공식~ , 최적 w0,w1 값을 행렬 연산으로 구함"
   ]
  },
  {
   "cell_type": "code",
   "execution_count": null,
   "id": "bad26e93-f776-4eff-9168-4ff224ad29e4",
   "metadata": {
    "tags": []
   },
   "outputs": [],
   "source": [
    "plt.plot(x,y,'o')\n",
    "plt.plot(x,2.4459 + 4.0043*x,'--')"
   ]
  },
  {
   "cell_type": "markdown",
   "id": "32be4042-007c-4887-ac04-5acd51f76277",
   "metadata": {},
   "source": [
    "`-` 방법2: **컴퓨터의 반복계산을 이용하여 추론 (손실함수도입 + 경사하강법)**\n",
    "\n",
    "-   1단계: 아무 점선이나 그어본다..\n",
    "-   2단계: 1단계에서 그은 점선보다 더 좋은 점선으로 바꾼다.\n",
    "-   3단계: 1-2단계를 반복한다."
   ]
  },
  {
   "cell_type": "markdown",
   "id": "3817ae2b-ee1f-4b90-96ce-d6a96227e638",
   "metadata": {},
   "source": [
    "# 4. 파이토치의 반복추정 "
   ]
  },
  {
   "cell_type": "markdown",
   "id": "a8cadd8b-357e-4bd0-9a9e-39cba6a406a0",
   "metadata": {},
   "source": [
    "## A. 문제셋팅 다시 복습"
   ]
  },
  {
   "cell_type": "code",
   "execution_count": 19,
   "id": "637dbf73-f2e7-4602-a19b-a236c88efed3",
   "metadata": {
    "tags": []
   },
   "outputs": [
    {
     "name": "stdout",
     "output_type": "stream",
     "text": [
      "torch.Size([100, 2])\n"
     ]
    }
   ],
   "source": [
    "x = torch.tensor(temp).reshape(-1,1)\n",
    "ones = torch.ones(100).reshape(-1,1)\n",
    "X = torch.concat([ones,x],axis=1)       # 100x1 + 100x1 , axis=1 --> 100x2\n",
    "y = torch.tensor(sales).reshape(-1,1)\n",
    "print(X.shape)"
   ]
  },
  {
   "cell_type": "markdown",
   "id": "4aa0d377-01da-4c3d-a4f3-d48000a2be79",
   "metadata": {},
   "source": [
    "## B. 1단계 -- 최초의 점선 "
   ]
  },
  {
   "cell_type": "code",
   "execution_count": 20,
   "id": "02fbce78-fedf-487e-8649-7a629a4f9e5b",
   "metadata": {
    "tags": []
   },
   "outputs": [
    {
     "data": {
      "text/plain": [
       "tensor([[-5.],\n",
       "        [10.]], requires_grad=True)"
      ]
     },
     "execution_count": 20,
     "metadata": {},
     "output_type": "execute_result"
    }
   ],
   "source": [
    "What = torch.tensor([[-5.0],[10.0]],requires_grad=True)     # requires_grad=True 를 하는 이유는 추후  loss.backward() 를 하기 위함\n",
    "What"
   ]
  },
  {
   "cell_type": "code",
   "execution_count": 21,
   "id": "db0f9702",
   "metadata": {},
   "outputs": [
    {
     "data": {
      "text/plain": [
       "tensor([[-5.],\n",
       "        [10.]])"
      ]
     },
     "execution_count": 21,
     "metadata": {},
     "output_type": "execute_result"
    }
   ],
   "source": [
    "What_ = torch.tensor([[-5.0],[10.0]],requires_grad=False)     # requires_grad=True 를 하는 이유는 추후  loss.backward() 를 하기 위함\n",
    "What_"
   ]
  },
  {
   "cell_type": "code",
   "execution_count": 22,
   "id": "c0c5555c-c893-4f7f-bf37-608a3f0a64e5",
   "metadata": {
    "tags": []
   },
   "outputs": [],
   "source": [
    "yhat = X@What \n",
    "yhat_ = X@What_"
   ]
  },
  {
   "cell_type": "code",
   "execution_count": 23,
   "id": "76e517a4-2268-49e9-aa9e-a805984ddd7f",
   "metadata": {
    "tags": []
   },
   "outputs": [
    {
     "data": {
      "text/plain": [
       "[<matplotlib.lines.Line2D at 0x7fe15858c280>]"
      ]
     },
     "execution_count": 23,
     "metadata": {},
     "output_type": "execute_result"
    },
    {
     "data": {
      "image/png": "[encoded data removed]",
      "text/plain": [
       "<Figure size 640x480 with 1 Axes>"
      ]
     },
     "metadata": {},
     "output_type": "display_data"
    }
   ],
   "source": [
    "plt.plot(x,y,'o')\n",
    "plt.plot(x,yhat.data,'x')                       # 그림을 그리기 위해서 yhat의 미분꼬리표를 제거\n",
    "#plt.plot(x,torch.sqrt((y-yhat.data)**2),'--')   # Mean Square Error of each element"
   ]
  },
  {
   "cell_type": "code",
   "execution_count": 24,
   "id": "ffc67677",
   "metadata": {},
   "outputs": [
    {
     "data": {
      "text/plain": [
       "[<matplotlib.lines.Line2D at 0x7fe15846c580>]"
      ]
     },
     "execution_count": 24,
     "metadata": {},
     "output_type": "execute_result"
    },
    {
     "data": {
      "image/png": "[encoded data removed]",
      "text/plain": [
       "<Figure size 640x480 with 1 Axes>"
      ]
     },
     "metadata": {},
     "output_type": "display_data"
    }
   ],
   "source": [
    "plt.plot(x,y,'o')\n",
    "plt.plot(x,yhat_.data,'x')                       # 그림을 그리기 위해서 yhat의 미분꼬리표를 제거\n",
    "#plt.plot(x,torch.sqrt((y-yhat.data)**2),'--')   # Mean Square Error of each element"
   ]
  },
  {
   "cell_type": "markdown",
   "id": "93685ec7-5f56-460b-8639-c6664a868c6a",
   "metadata": {},
   "source": [
    "## C. 2단계 -- update "
   ]
  },
  {
   "cell_type": "markdown",
   "id": "f541dfa4-557e-4619-9615-208ce5405293",
   "metadata": {},
   "source": [
    "`-` ’적당한 정도’를 판단하기 위한 장치: loss function 도입!\n",
    "\n",
    "$$loss=\\sum_{i=1}^{n}(y_i-\\hat{y}_i)^2=\\sum_{i=1}^{n}(y_i-(\\hat{w}_0+\\hat{w}_1x_i))^2=({\\bf y}-{\\bf\\hat{y}})^\\top({\\bf y}-{\\bf\\hat{y}})=({\\bf y}-{\\bf X}{\\bf \\hat{W}})^\\top({\\bf y}-{\\bf X}{\\bf \\hat{W}})$$"
   ]
  },
  {
   "cell_type": "markdown",
   "id": "2a83d762-e05f-4dd6-9ef3-c98b2b52a1ee",
   "metadata": {},
   "source": [
    "`-` loss 함수의 특징 \n",
    "\n",
    "- $y_i \\approx \\hat{y}_i$ 일수록 loss값이 작다.\n",
    "- $y_i \\approx \\hat{y}_i$ 이 되도록 $(\\hat{w}_0,\\hat{w}_1)$을 잘 찍으면\n",
    "loss값이 작다.\n",
    "- (중요) 주황색 점선이 ‘적당할 수록’ loss값이 작다."
   ]
  },
  {
   "cell_type": "code",
   "execution_count": 25,
   "id": "a85ea424-9ef7-4199-870b-8b3a475cbe72",
   "metadata": {
    "tags": []
   },
   "outputs": [
    {
     "data": {
      "text/plain": [
       "tensor(8587.6240, grad_fn=<SumBackward0>)"
      ]
     },
     "execution_count": 25,
     "metadata": {},
     "output_type": "execute_result"
    }
   ],
   "source": [
    "loss = torch.sum((y-yhat)**2)   # error 제곱의 합\n",
    "loss"
   ]
  },
  {
   "cell_type": "code",
   "execution_count": 26,
   "id": "0dacceeb",
   "metadata": {},
   "outputs": [
    {
     "data": {
      "text/plain": [
       "tensor(8587.6240)"
      ]
     },
     "execution_count": 26,
     "metadata": {},
     "output_type": "execute_result"
    }
   ],
   "source": [
    "loss_ = torch.sum((y-yhat_)**2)   # error 제곱의 합\n",
    "loss_"
   ]
  },
  {
   "cell_type": "markdown",
   "id": "d42532e2-45fd-433b-bcc7-0bdf595b4c84",
   "metadata": {},
   "source": [
    "`-` 우리의 목표: 이 loss(=8587.6240)을 더 줄이자. \n",
    "\n",
    "- 궁극적으로는 아예 모든 조합 $(\\hat{w}_0,\\hat{w}_1)$에 대하여 가장 작은 loss를 찾으면 좋겠다. "
   ]
  },
  {
   "cell_type": "markdown",
   "id": "e1f0132d-9cff-46f0-9ab6-e33bd24c0131",
   "metadata": {},
   "source": [
    "`-` 발상의 전환: 가만히 보니까 loss는 $\\hat{\\bf W} =\\begin{bmatrix} \\hat{w}_0 \\\\ \\hat{w}_1 \\end{bmatrix}$ 에 따라서 값이 바뀌는 함수잖아??? 즉 아래와 같이 생각할 수 있음. "
   ]
  },
  {
   "cell_type": "markdown",
   "id": "66726116-d219-4ed0-b7fa-9f0188ee56c8",
   "metadata": {},
   "source": [
    "$$ loss(\\hat{w}_0,\\hat{w}_1) := loss(\\hat{\\bf W})=\\sum_{i=1}^{n}(y_i-(\\hat{w}_0+\\hat{w}_1x_i))^2=({\\bf y}-{\\bf X}{\\bf \\hat{W}})^\\top({\\bf y}-{\\bf X}{\\bf \\hat{W}})$$"
   ]
  },
  {
   "cell_type": "markdown",
   "id": "3da649a8-eb24-4fc5-9529-8801806826fb",
   "metadata": {},
   "source": [
    "따라서 구하고 싶은것은 아래와 같음 "
   ]
  },
  {
   "cell_type": "markdown",
   "id": "b9bf4cf2-a89f-468f-836f-a863936458f6",
   "metadata": {},
   "source": [
    "$$\\hat{\\bf W} := \\underset{\\bf W}{\\operatorname{argmin}} ~ loss({\\bf W})$$"
   ]
  },
  {
   "cell_type": "markdown",
   "id": "e916d40e-0e1f-49f4-9dff-5570e5b600bf",
   "metadata": {},
   "source": [
    "`-` $loss({\\bf W})$를 최소로 만드는 ${\\bf W}$를 컴퓨터로 구하는 방법, 즉 $\\hat{\\bf W} := \\underset{\\bf W}{\\operatorname{argmin}} ~ loss({\\bf W})$를 구하는 방법을 요약하면 아래와 같다. \n",
    "\n",
    "`1`. 임의의 점 $\\hat{\\bf W}$를 찍는다. \n",
    "\n",
    "`2`. 그 점에서 순간기울기를 구한다. 즉 $\\frac{\\partial}{\\partial {\\bf W}}loss({\\bf W})$ 를 계산한다. \n",
    "\n",
    "`3`. $\\hat{\\bf W}$에서의 순간기울기^[$\\frac{\\partial}{\\partial {\\bf W}}loss({\\bf W})$]의 부호를 살펴보고 부호와 반대방향으로 움직인다. 이때 기울기의 절대값 크기^[$\\left|\\frac{\\partial}{\\partial {\\bf W}}loss({\\bf W})\\right|$]와 비례하여 보폭(=움직이는 정도)을 각각 조절한다. 즉 아래의 수식에 따라 업데이트 한다. \n",
    "\n",
    "$$\\hat{\\bf W} \\leftarrow \\hat{\\bf W} - \\alpha \\times \\frac{\\partial}{\\partial {\\bf W}}loss({\\bf W})$$"
   ]
  },
  {
   "cell_type": "markdown",
   "id": "5aadddb9-e103-46df-a6ca-81b979041218",
   "metadata": {},
   "source": [
    "`-` 여기에서 미분을 어떻게...?? 즉 아래를 어떻게 계산해..?\n",
    "\n",
    "$$\\frac{\\partial}{\\partial {\\bf W}}loss({\\bf W}):= \\begin{bmatrix} \\frac{\\partial}{\\partial w_0} \\\\ \\frac{\\partial}{\\partial w_1}\\end{bmatrix}loss({\\bf W}) =  \\begin{bmatrix} \\frac{\\partial}{\\partial w_0}loss({\\bf W}) \\\\ \\frac{\\partial}{\\partial w_1}loss({\\bf W})\\end{bmatrix} $$"
   ]
  },
  {
   "cell_type": "markdown",
   "id": "bb6fede9-1869-4a6f-a319-7bb7cb108032",
   "metadata": {},
   "source": [
    "> `loss.backward()`를 실행하면 `What.grad`에 미분값이 업데이트 되어요!"
   ]
  },
  {
   "cell_type": "markdown",
   "id": "0c2bf611-8adb-4e34-9418-9150532b406f",
   "metadata": {},
   "source": [
    "(실행전)"
   ]
  },
  {
   "cell_type": "code",
   "execution_count": 27,
   "id": "b55a88c6-bbf2-4d1f-8708-aeaa87186ae6",
   "metadata": {
    "tags": []
   },
   "outputs": [
    {
     "name": "stdout",
     "output_type": "stream",
     "text": [
      "None\n",
      "None\n"
     ]
    }
   ],
   "source": [
    "print(What.grad)\n",
    "print(What_.grad)"
   ]
  },
  {
   "cell_type": "markdown",
   "id": "ba62df11-532e-4f3e-8865-ce58805b8457",
   "metadata": {},
   "source": [
    "(실행후)"
   ]
  },
  {
   "cell_type": "code",
   "execution_count": 28,
   "id": "81f47dfa-1eea-4449-bd4a-01b75fbdfe7f",
   "metadata": {
    "tags": []
   },
   "outputs": [],
   "source": [
    "loss.backward()"
   ]
  },
  {
   "cell_type": "code",
   "execution_count": 29,
   "id": "5b424e57",
   "metadata": {},
   "outputs": [
    {
     "ename": "RuntimeError",
     "evalue": "element 0 of tensors does not require grad and does not have a grad_fn",
     "output_type": "error",
     "traceback": [
      "\u001b[0;31m---------------------------------------------------------------------------\u001b[0m",
      "\u001b[0;31mRuntimeError\u001b[0m                              Traceback (most recent call last)",
      "Cell \u001b[0;32mIn[29], line 1\u001b[0m\n\u001b[0;32m----> 1\u001b[0m \u001b[43mloss_\u001b[49m\u001b[38;5;241;43m.\u001b[39;49m\u001b[43mbackward\u001b[49m\u001b[43m(\u001b[49m\u001b[43m)\u001b[49m\n",
      "File \u001b[0;32m~/.conda/envs/dl2024/lib/python3.8/site-packages/torch/_tensor.py:521\u001b[0m, in \u001b[0;36mTensor.backward\u001b[0;34m(self, gradient, retain_graph, create_graph, inputs)\u001b[0m\n\u001b[1;32m    511\u001b[0m \u001b[38;5;28;01mif\u001b[39;00m has_torch_function_unary(\u001b[38;5;28mself\u001b[39m):\n\u001b[1;32m    512\u001b[0m     \u001b[38;5;28;01mreturn\u001b[39;00m handle_torch_function(\n\u001b[1;32m    513\u001b[0m         Tensor\u001b[38;5;241m.\u001b[39mbackward,\n\u001b[1;32m    514\u001b[0m         (\u001b[38;5;28mself\u001b[39m,),\n\u001b[0;32m   (...)\u001b[0m\n\u001b[1;32m    519\u001b[0m         inputs\u001b[38;5;241m=\u001b[39minputs,\n\u001b[1;32m    520\u001b[0m     )\n\u001b[0;32m--> 521\u001b[0m \u001b[43mtorch\u001b[49m\u001b[38;5;241;43m.\u001b[39;49m\u001b[43mautograd\u001b[49m\u001b[38;5;241;43m.\u001b[39;49m\u001b[43mbackward\u001b[49m\u001b[43m(\u001b[49m\n\u001b[1;32m    522\u001b[0m \u001b[43m    \u001b[49m\u001b[38;5;28;43mself\u001b[39;49m\u001b[43m,\u001b[49m\u001b[43m \u001b[49m\u001b[43mgradient\u001b[49m\u001b[43m,\u001b[49m\u001b[43m \u001b[49m\u001b[43mretain_graph\u001b[49m\u001b[43m,\u001b[49m\u001b[43m \u001b[49m\u001b[43mcreate_graph\u001b[49m\u001b[43m,\u001b[49m\u001b[43m \u001b[49m\u001b[43minputs\u001b[49m\u001b[38;5;241;43m=\u001b[39;49m\u001b[43minputs\u001b[49m\n\u001b[1;32m    523\u001b[0m \u001b[43m\u001b[49m\u001b[43m)\u001b[49m\n",
      "File \u001b[0;32m~/.conda/envs/dl2024/lib/python3.8/site-packages/torch/autograd/__init__.py:289\u001b[0m, in \u001b[0;36mbackward\u001b[0;34m(tensors, grad_tensors, retain_graph, create_graph, grad_variables, inputs)\u001b[0m\n\u001b[1;32m    284\u001b[0m     retain_graph \u001b[38;5;241m=\u001b[39m create_graph\n\u001b[1;32m    286\u001b[0m \u001b[38;5;66;03m# The reason we repeat the same comment below is that\u001b[39;00m\n\u001b[1;32m    287\u001b[0m \u001b[38;5;66;03m# some Python versions print out the first line of a multi-line function\u001b[39;00m\n\u001b[1;32m    288\u001b[0m \u001b[38;5;66;03m# calls in the traceback and some print out the last line\u001b[39;00m\n\u001b[0;32m--> 289\u001b[0m \u001b[43m_engine_run_backward\u001b[49m\u001b[43m(\u001b[49m\n\u001b[1;32m    290\u001b[0m \u001b[43m    \u001b[49m\u001b[43mtensors\u001b[49m\u001b[43m,\u001b[49m\n\u001b[1;32m    291\u001b[0m \u001b[43m    \u001b[49m\u001b[43mgrad_tensors_\u001b[49m\u001b[43m,\u001b[49m\n\u001b[1;32m    292\u001b[0m \u001b[43m    \u001b[49m\u001b[43mretain_graph\u001b[49m\u001b[43m,\u001b[49m\n\u001b[1;32m    293\u001b[0m \u001b[43m    \u001b[49m\u001b[43mcreate_graph\u001b[49m\u001b[43m,\u001b[49m\n\u001b[1;32m    294\u001b[0m \u001b[43m    \u001b[49m\u001b[43minputs\u001b[49m\u001b[43m,\u001b[49m\n\u001b[1;32m    295\u001b[0m \u001b[43m    \u001b[49m\u001b[43mallow_unreachable\u001b[49m\u001b[38;5;241;43m=\u001b[39;49m\u001b[38;5;28;43;01mTrue\u001b[39;49;00m\u001b[43m,\u001b[49m\n\u001b[1;32m    296\u001b[0m \u001b[43m    \u001b[49m\u001b[43maccumulate_grad\u001b[49m\u001b[38;5;241;43m=\u001b[39;49m\u001b[38;5;28;43;01mTrue\u001b[39;49;00m\u001b[43m,\u001b[49m\n\u001b[1;32m    297\u001b[0m \u001b[43m\u001b[49m\u001b[43m)\u001b[49m\n",
      "File \u001b[0;32m~/.conda/envs/dl2024/lib/python3.8/site-packages/torch/autograd/graph.py:769\u001b[0m, in \u001b[0;36m_engine_run_backward\u001b[0;34m(t_outputs, *args, **kwargs)\u001b[0m\n\u001b[1;32m    767\u001b[0m     unregister_hooks \u001b[38;5;241m=\u001b[39m _register_logging_hooks_on_whole_graph(t_outputs)\n\u001b[1;32m    768\u001b[0m \u001b[38;5;28;01mtry\u001b[39;00m:\n\u001b[0;32m--> 769\u001b[0m     \u001b[38;5;28;01mreturn\u001b[39;00m \u001b[43mVariable\u001b[49m\u001b[38;5;241;43m.\u001b[39;49m\u001b[43m_execution_engine\u001b[49m\u001b[38;5;241;43m.\u001b[39;49m\u001b[43mrun_backward\u001b[49m\u001b[43m(\u001b[49m\u001b[43m  \u001b[49m\u001b[38;5;66;43;03m# Calls into the C++ engine to run the backward pass\u001b[39;49;00m\n\u001b[1;32m    770\u001b[0m \u001b[43m        \u001b[49m\u001b[43mt_outputs\u001b[49m\u001b[43m,\u001b[49m\u001b[43m \u001b[49m\u001b[38;5;241;43m*\u001b[39;49m\u001b[43margs\u001b[49m\u001b[43m,\u001b[49m\u001b[43m \u001b[49m\u001b[38;5;241;43m*\u001b[39;49m\u001b[38;5;241;43m*\u001b[39;49m\u001b[43mkwargs\u001b[49m\n\u001b[1;32m    771\u001b[0m \u001b[43m    \u001b[49m\u001b[43m)\u001b[49m  \u001b[38;5;66;03m# Calls into the C++ engine to run the backward pass\u001b[39;00m\n\u001b[1;32m    772\u001b[0m \u001b[38;5;28;01mfinally\u001b[39;00m:\n\u001b[1;32m    773\u001b[0m     \u001b[38;5;28;01mif\u001b[39;00m attach_logging_hooks:\n",
      "\u001b[0;31mRuntimeError\u001b[0m: element 0 of tensors does not require grad and does not have a grad_fn"
     ]
    }
   ],
   "source": [
    "loss_.backward()"
   ]
  },
  {
   "cell_type": "code",
   "execution_count": 30,
   "id": "8705092d-e742-4aa4-a768-0d3fc80d2444",
   "metadata": {
    "tags": []
   },
   "outputs": [
    {
     "name": "stdout",
     "output_type": "stream",
     "text": [
      "tensor([[-1342.2465],\n",
      "        [ 1188.9203]])\n"
     ]
    }
   ],
   "source": [
    "print(What.grad)"
   ]
  },
  {
   "cell_type": "markdown",
   "id": "3bc87bab-4177-4db5-bcae-4c6bee13e123",
   "metadata": {},
   "source": [
    "`-` 계산결과의 검토 (1)\n",
    "\n",
    "- $loss({\\bf W})=({\\bf y}-\\hat{\\bf y})^\\top ({\\bf y}-\\hat{\\bf y})=({\\bf y}-{\\bf XW})^\\top ({\\bf y}-{\\bf XW})$\n",
    "\n",
    "- $\\frac{\\partial}{\\partial {\\bf W}}loss({\\bf W})=-2{\\bf X}^\\top {\\bf y}+2{\\bf X}^\\top {\\bf X W}$"
   ]
  },
  {
   "cell_type": "code",
   "execution_count": 31,
   "id": "282d69d6-ac9d-48c0-a227-bd8cbfeddbda",
   "metadata": {
    "tags": []
   },
   "outputs": [
    {
     "data": {
      "text/plain": [
       "tensor([[-1342.2465],\n",
       "        [ 1188.9198]], grad_fn=<AddBackward0>)"
      ]
     },
     "execution_count": 31,
     "metadata": {},
     "output_type": "execute_result"
    }
   ],
   "source": [
    "- 2 * X.T @ y + 2 * X.T @ X @ What"
   ]
  },
  {
   "cell_type": "code",
   "execution_count": 32,
   "id": "a5f8c908",
   "metadata": {},
   "outputs": [
    {
     "data": {
      "text/plain": [
       "tensor([[-1342.2465],\n",
       "        [ 1188.9198]])"
      ]
     },
     "execution_count": 32,
     "metadata": {},
     "output_type": "execute_result"
    }
   ],
   "source": [
    "- 2 * X.T @ y + 2 * X.T @ X @ What_"
   ]
  },
  {
   "cell_type": "markdown",
   "id": "9b812799-4bd9-4e05-87a6-43140ecd30da",
   "metadata": {},
   "source": [
    "`-` 계산결과의 검토 (2)"
   ]
  },
  {
   "cell_type": "markdown",
   "id": "c79d45ee-4788-4caf-bff7-b152d41a898d",
   "metadata": {},
   "source": [
    "$$\\frac{\\partial}{\\partial {\\bf W} } loss({\\bf W})=\\begin{bmatrix}\\frac{\\partial}{\\partial w_0} \\\\ \\frac{\\partial}{\\partial w_1} \\end{bmatrix}loss({\\bf W}) =\\begin{bmatrix}\\frac{\\partial}{\\partial w_0}loss(w_0,w_1) \\\\ \\frac{\\partial}{\\partial w_1}loss(w_0,w_1) \\end{bmatrix}$$"
   ]
  },
  {
   "cell_type": "markdown",
   "id": "8b985994-4293-44d4-a519-dc4cd640df91",
   "metadata": {},
   "source": [
    "를 계산하고 싶은데 벡터미분을 할줄 모른다고 하자. 편미분의 정의를 살펴보면, \n",
    "\n",
    "$$\\frac{\\partial}{\\partial w_0}loss(w_0,w_1) \\approx \\frac{loss(w_0+h,w_1)-loss(w_0,w_1)}{h}$$\n",
    "\n",
    "$$\\frac{\\partial}{\\partial w_1}loss(w_0,w_1) \\approx \\frac{loss(w_0,w_1+h)-loss(w_0,w_1)}{h}$$"
   ]
  },
  {
   "cell_type": "markdown",
   "id": "3f6b6435-42cd-42e3-a6ef-302378b5a601",
   "metadata": {},
   "source": [
    "라고 볼 수 있다. 이를 이용하여 근사계산하면 "
   ]
  },
  {
   "cell_type": "code",
   "execution_count": 33,
   "id": "56d4889f-421e-4b22-9944-e641018cfa5f",
   "metadata": {
    "tags": []
   },
   "outputs": [],
   "source": [
    "def l(w0,w1):\n",
    "    return torch.sum((y-w0-w1*x)**2)"
   ]
  },
  {
   "cell_type": "code",
   "execution_count": 34,
   "id": "eae6f4e5-fc15-4f9d-87a1-892f1105ee2f",
   "metadata": {
    "tags": []
   },
   "outputs": [
    {
     "data": {
      "text/plain": [
       "(tensor(8587.6240), tensor(8587.6240, grad_fn=<SumBackward0>))"
      ]
     },
     "execution_count": 34,
     "metadata": {},
     "output_type": "execute_result"
    }
   ],
   "source": [
    "l(-5,10), loss # 로스값일치"
   ]
  },
  {
   "cell_type": "code",
   "execution_count": 35,
   "id": "eccb798c-6440-4142-a11a-63fd219bb908",
   "metadata": {
    "tags": []
   },
   "outputs": [
    {
     "data": {
      "text/plain": [
       "tensor(-1342.7733)"
      ]
     },
     "execution_count": 35,
     "metadata": {},
     "output_type": "execute_result"
    }
   ],
   "source": [
    "h=0.001 \n",
    "(l(-5+h,10) - l(-5,10))/h"
   ]
  },
  {
   "cell_type": "code",
   "execution_count": 36,
   "id": "132b7f20-a12d-4b0c-9ab6-b31b8902aa7b",
   "metadata": {
    "tags": []
   },
   "outputs": [
    {
     "data": {
      "text/plain": [
       "tensor(1189.4531)"
      ]
     },
     "execution_count": 36,
     "metadata": {},
     "output_type": "execute_result"
    }
   ],
   "source": [
    "h=0.001 \n",
    "(l(-5,10+h) - l(-5,10))/h"
   ]
  },
  {
   "cell_type": "markdown",
   "id": "398a561b-41c1-4a73-8c09-60933cced8cb",
   "metadata": {},
   "source": [
    "이 값은 `What.grad`에 저장된 값과 거의 비슷하다. "
   ]
  },
  {
   "cell_type": "code",
   "execution_count": null,
   "id": "98c1a029-208f-424e-b6fb-e808051645bf",
   "metadata": {
    "tags": []
   },
   "outputs": [],
   "source": [
    "What.grad"
   ]
  },
  {
   "cell_type": "markdown",
   "id": "a637c27c-f88d-44e6-8f18-70feccb98700",
   "metadata": {},
   "source": [
    "`-` 이제 아래의 공식에 넣고 업데이트해보자"
   ]
  },
  {
   "cell_type": "markdown",
   "id": "6f60d016-e7fd-499c-9864-30ff34d107ad",
   "metadata": {},
   "source": [
    "$$\\hat{\\bf W} \\leftarrow \\hat{\\bf W} - \\alpha \\times \\frac{\\partial}{\\partial {\\bf W}}loss({\\bf W})$$"
   ]
  },
  {
   "cell_type": "code",
   "execution_count": 37,
   "id": "3fcf4f9f-9eca-4358-8776-9d30338f44e1",
   "metadata": {
    "tags": []
   },
   "outputs": [
    {
     "name": "stdout",
     "output_type": "stream",
     "text": [
      "tensor([[-5.],\n",
      "        [10.]]) -- 수정전\n",
      "tensor([[ 1.3422],\n",
      "        [-1.1889]]) -- 수정하는폭\n",
      "tensor([[-3.6578],\n",
      "        [ 8.8111]]) -- 수정후\n",
      "tensor([[2.4459],\n",
      "        [4.0043]]) -- 회귀분석으로 구한값\n",
      "tensor([[2.5000],\n",
      "        [4.0000]]) -- 참값(이건 비밀~~)\n"
     ]
    }
   ],
   "source": [
    "alpha = 0.001 \n",
    "print(f\"{What.data} -- 수정전\")\n",
    "print(f\"{-alpha*What.grad} -- 수정하는폭\")\n",
    "print(f\"{What.data-alpha*What.grad} -- 수정후\")\n",
    "print(f\"{torch.linalg.inv((X.T @ X)) @ X.T @ y} -- 회귀분석으로 구한값\")\n",
    "print(f\"{torch.tensor([[2.5],[4]])} -- 참값(이건 비밀~~)\")"
   ]
  },
  {
   "cell_type": "markdown",
   "id": "0010f236-cd1d-414e-a1b3-2dcd9358c652",
   "metadata": {},
   "source": [
    "- alpha를 잘 잡아야함~"
   ]
  },
  {
   "cell_type": "markdown",
   "id": "db984ae4-f3d4-474f-945a-37ea19ad9338",
   "metadata": {},
   "source": [
    "`-` 1회 수정결과를 시각화 "
   ]
  },
  {
   "cell_type": "code",
   "execution_count": 40,
   "id": "afa6d3d1",
   "metadata": {},
   "outputs": [
    {
     "data": {
      "text/plain": [
       "tensor([[-5.],\n",
       "        [10.]])"
      ]
     },
     "execution_count": 40,
     "metadata": {},
     "output_type": "execute_result"
    }
   ],
   "source": [
    "What.data"
   ]
  },
  {
   "cell_type": "code",
   "execution_count": 41,
   "id": "1507ea51-6bdd-4d75-a9af-a23ce0bf5750",
   "metadata": {
    "tags": []
   },
   "outputs": [
    {
     "data": {
      "text/plain": [
       "(tensor([[-5.],\n",
       "         [10.]]),\n",
       " tensor([[-3.6578],\n",
       "         [ 8.8111]]),\n",
       " tensor([[-1.3422],\n",
       "         [ 1.1889]]))"
      ]
     },
     "execution_count": 41,
     "metadata": {},
     "output_type": "execute_result"
    }
   ],
   "source": [
    "Wbefore = What.data\n",
    "Wafter = What.data - alpha * What.grad \n",
    "Wbefore, Wafter , alpha * What.grad "
   ]
  },
  {
   "cell_type": "code",
   "execution_count": 39,
   "id": "20faf831",
   "metadata": {},
   "outputs": [
    {
     "name": "stdout",
     "output_type": "stream",
     "text": [
      "None\n",
      "tensor([[-1342.2465],\n",
      "        [ 1188.9203]])\n",
      "None\n"
     ]
    }
   ],
   "source": [
    "print( Wafter.grad )\n",
    "print( What.grad )\n",
    "print(Wbefore.grad)"
   ]
  },
  {
   "cell_type": "code",
   "execution_count": 42,
   "id": "502be054-34fd-417f-8651-3d5662066d72",
   "metadata": {
    "tags": []
   },
   "outputs": [
    {
     "data": {
      "text/plain": [
       "<matplotlib.legend.Legend at 0x7fe151c7afa0>"
      ]
     },
     "execution_count": 42,
     "metadata": {},
     "output_type": "execute_result"
    },
    {
     "data": {
      "image/png": "[encoded data removed]",
      "text/plain": [
       "<Figure size 640x480 with 1 Axes>"
      ]
     },
     "metadata": {},
     "output_type": "display_data"
    }
   ],
   "source": [
    "plt.plot(x,y,'o',label=r'observed data')\n",
    "plt.plot(x,X@Wbefore,'--', label=r\"$\\hat{\\bf y}_{before}={\\bf X}@\\hat{\\bf W}_{before}$\")\n",
    "plt.plot(x,X@Wafter,'--', label=r\"$\\hat{\\bf y}_{after}={\\bf X}@\\hat{\\bf W}_{after}$\")\n",
    "plt.legend()"
   ]
  },
  {
   "cell_type": "markdown",
   "id": "dce2ad5a-c535-4170-a179-8b641af78090",
   "metadata": {},
   "source": [
    "## D. 3단계 -- iteration (=learn = estimate $\\bf{\\hat W}$)"
   ]
  },
  {
   "cell_type": "code",
   "execution_count": 44,
   "id": "51a77074-cd6b-49aa-8d99-5aec13e97235",
   "metadata": {
    "tags": []
   },
   "outputs": [],
   "source": [
    "x = torch.tensor(temp).reshape(-1,1)\n",
    "ones = torch.ones(100).reshape(-1,1)\n",
    "X = torch.concat([ones,x],axis=1)\n",
    "y = torch.tensor(sales).reshape(-1,1)"
   ]
  },
  {
   "cell_type": "code",
   "execution_count": 45,
   "id": "19463efe-2c4b-46ac-b9de-bd0211425640",
   "metadata": {
    "tags": []
   },
   "outputs": [
    {
     "data": {
      "text/plain": [
       "tensor([[-5.],\n",
       "        [10.]], requires_grad=True)"
      ]
     },
     "execution_count": 45,
     "metadata": {},
     "output_type": "execute_result"
    }
   ],
   "source": [
    "What = torch.tensor([[-5.0],[10.0]],requires_grad=True)\n",
    "What"
   ]
  },
  {
   "cell_type": "code",
   "execution_count": 46,
   "id": "ef53f676-cd07-472e-b6b3-b4caa27fb763",
   "metadata": {
    "tags": []
   },
   "outputs": [],
   "source": [
    "for epoc in range(30):\n",
    "    yhat = X @ What\n",
    "    loss = torch.sum((y-yhat)**2)\n",
    "    loss.backward()\n",
    "    What.data = What.data - 0.001 * What.grad\n",
    "    What.grad = None        # 다음 Gradiend descent step으로 가기 위해서는 None으로 초기화 해줘야한다. RNN 모델의 경우 초기화 하지 않는다고도 하다."
   ]
  },
  {
   "cell_type": "code",
   "execution_count": 47,
   "id": "7e026227-c4a9-49a3-b344-a65e770f373d",
   "metadata": {
    "tags": []
   },
   "outputs": [
    {
     "data": {
      "text/plain": [
       "<matplotlib.legend.Legend at 0x7fe151aca9a0>"
      ]
     },
     "execution_count": 47,
     "metadata": {},
     "output_type": "execute_result"
    },
    {
     "data": {
      "image/png": "[encoded data removed]",
      "text/plain": [
       "<Figure size 640x480 with 1 Axes>"
      ]
     },
     "metadata": {},
     "output_type": "display_data"
    }
   ],
   "source": [
    "plt.plot(x,y,'o', label = \"ovserved data\")\n",
    "plt.plot(x,X@What.data,'--', label = r\"$\\hat{\\bf y}={\\bf X}@\\hat{\\bf W}$ after 30 iterations (=epochs)\")\n",
    "plt.legend()"
   ]
  },
  {
   "cell_type": "markdown",
   "id": "e1d41b68-ed31-4c15-a361-fc72b26a56d8",
   "metadata": {},
   "source": [
    "# 5. 파라메터의 학습과정 음미"
   ]
  },
  {
   "cell_type": "markdown",
   "id": "15129c14-aa99-45a5-89a3-349791b851d2",
   "metadata": {},
   "source": [
    "## A. 단순무식한 print "
   ]
  },
  {
   "cell_type": "code",
   "execution_count": 48,
   "id": "60ef1c1b-7164-44ab-98c0-0485354a0997",
   "metadata": {
    "tags": []
   },
   "outputs": [
    {
     "name": "stdout",
     "output_type": "stream",
     "text": [
      "시작값 = tensor([-5., 10.])\n",
      "loss = 8587.62 \t 업데이트폭 = tensor([ 1.3422, -1.1889]) \t 업데이트결과: tensor([-3.6578,  8.8111])\n",
      "loss = 5675.18 \t 업데이트폭 = tensor([ 1.1029, -0.9499]) \t 업데이트결과: tensor([-2.5548,  7.8612])\n",
      "loss = 3755.63 \t 업데이트폭 = tensor([ 0.9056, -0.7596]) \t 업데이트결과: tensor([-1.6492,  7.1016])\n",
      "loss = 2489.58 \t 업데이트폭 = tensor([ 0.7431, -0.6081]) \t 업데이트결과: tensor([-0.9061,  6.4935])\n",
      "loss = 1654.04 \t 업데이트폭 = tensor([ 0.6094, -0.4872]) \t 업데이트결과: tensor([-0.2967,  6.0063])\n",
      "loss = 1102.33 \t 업데이트폭 = tensor([ 0.4995, -0.3907]) \t 업데이트결과: tensor([0.2028, 5.6156])\n",
      "loss = 737.85 \t 업데이트폭 = tensor([ 0.4091, -0.3136]) \t 업데이트결과: tensor([0.6119, 5.3020])\n",
      "loss = 496.97 \t 업데이트폭 = tensor([ 0.3350, -0.2519]) \t 업데이트결과: tensor([0.9469, 5.0501])\n",
      "loss = 337.72 \t 업데이트폭 = tensor([ 0.2742, -0.2025]) \t 업데이트결과: tensor([1.2211, 4.8477])\n",
      "loss = 232.40 \t 업데이트폭 = tensor([ 0.2243, -0.1629]) \t 업데이트결과: tensor([1.4453, 4.6848])\n",
      "loss = 162.73 \t 업데이트폭 = tensor([ 0.1834, -0.1311]) \t 업데이트결과: tensor([1.6288, 4.5537])\n",
      "loss = 116.64 \t 업데이트폭 = tensor([ 0.1500, -0.1056]) \t 업데이트결과: tensor([1.7787, 4.4481])\n",
      "loss = 86.13 \t 업데이트폭 = tensor([ 0.1226, -0.0851]) \t 업데이트결과: tensor([1.9013, 4.3629])\n",
      "loss = 65.94 \t 업데이트폭 = tensor([ 0.1001, -0.0687]) \t 업데이트결과: tensor([2.0014, 4.2942])\n",
      "loss = 52.57 \t 업데이트폭 = tensor([ 0.0818, -0.0554]) \t 업데이트결과: tensor([2.0832, 4.2388])\n",
      "loss = 43.72 \t 업데이트폭 = tensor([ 0.0668, -0.0447]) \t 업데이트결과: tensor([2.1500, 4.1941])\n",
      "loss = 37.86 \t 업데이트폭 = tensor([ 0.0545, -0.0361]) \t 업데이트결과: tensor([2.2045, 4.1579])\n",
      "loss = 33.98 \t 업데이트폭 = tensor([ 0.0445, -0.0292]) \t 업데이트결과: tensor([2.2490, 4.1287])\n",
      "loss = 31.41 \t 업데이트폭 = tensor([ 0.0363, -0.0236]) \t 업데이트결과: tensor([2.2853, 4.1051])\n",
      "loss = 29.70 \t 업데이트폭 = tensor([ 0.0296, -0.0191]) \t 업데이트결과: tensor([2.3150, 4.0860])\n",
      "loss = 28.58 \t 업데이트폭 = tensor([ 0.0242, -0.0155]) \t 업데이트결과: tensor([2.3391, 4.0705])\n",
      "loss = 27.83 \t 업데이트폭 = tensor([ 0.0197, -0.0125]) \t 업데이트결과: tensor([2.3589, 4.0580])\n",
      "loss = 27.33 \t 업데이트폭 = tensor([ 0.0161, -0.0101]) \t 업데이트결과: tensor([2.3749, 4.0479])\n",
      "loss = 27.01 \t 업데이트폭 = tensor([ 0.0131, -0.0082]) \t 업데이트결과: tensor([2.3881, 4.0396])\n",
      "loss = 26.79 \t 업데이트폭 = tensor([ 0.0107, -0.0067]) \t 업데이트결과: tensor([2.3988, 4.0330])\n",
      "loss = 26.65 \t 업데이트폭 = tensor([ 0.0087, -0.0054]) \t 업데이트결과: tensor([2.4075, 4.0276])\n",
      "loss = 26.55 \t 업데이트폭 = tensor([ 0.0071, -0.0044]) \t 업데이트결과: tensor([2.4146, 4.0232])\n",
      "loss = 26.49 \t 업데이트폭 = tensor([ 0.0058, -0.0035]) \t 업데이트결과: tensor([2.4204, 4.0197])\n",
      "loss = 26.45 \t 업데이트폭 = tensor([ 0.0047, -0.0029]) \t 업데이트결과: tensor([2.4251, 4.0168])\n",
      "loss = 26.42 \t 업데이트폭 = tensor([ 0.0038, -0.0023]) \t 업데이트결과: tensor([2.4289, 4.0145])\n"
     ]
    }
   ],
   "source": [
    "What = torch.tensor([[-5.0],[10.0]],requires_grad=True)\n",
    "alpha = 0.001\n",
    "print(f\"시작값 = {What.data.reshape(-1)}\")\n",
    "for epoc in range(30):\n",
    "    yhat = X @ What\n",
    "    loss = torch.sum((y-yhat)**2)\n",
    "    loss.backward()\n",
    "    What.data = What.data - 0.001 * What.grad\n",
    "    print(f'loss = {loss:.2f} \\t 업데이트폭 = {-0.001 * What.grad.reshape(-1)} \\t 업데이트결과: {What.data.reshape(-1)}')\n",
    "    What.grad = None"
   ]
  },
  {
   "cell_type": "code",
   "execution_count": null,
   "id": "1beeb168",
   "metadata": {},
   "outputs": [],
   "source": [
    "What"
   ]
  },
  {
   "cell_type": "markdown",
   "id": "e7d5ef5c-6315-4bfb-82be-0a8e5e586a25",
   "metadata": {},
   "source": [
    "## B. 반복시각화 -- yhat의 관점에서!"
   ]
  },
  {
   "cell_type": "code",
   "execution_count": 49,
   "id": "d63da263-eda0-48d1-8e2d-54b43e087f80",
   "metadata": {
    "tags": []
   },
   "outputs": [
    {
     "data": {
      "image/png": "[encoded data removed]",
      "text/plain": [
       "<Figure size 640x480 with 1 Axes>"
      ]
     },
     "metadata": {},
     "output_type": "display_data"
    }
   ],
   "source": [
    "What = torch.tensor([[-5.0],[10.0]],requires_grad=True)\n",
    "alpha = 0.001\n",
    "fig = plt.plot(x,y,'o',label = \"observed\")\n",
    "plt.plot(x,X@What.data,'--',color=\"C1\")\n",
    "for epoc in range(30):\n",
    "    yhat = X @ What\n",
    "    loss = torch.sum((y-yhat)**2)\n",
    "    loss.backward()\n",
    "    What.data = What.data - 0.001 * What.grad\n",
    "    plt.plot(x,X@What.data,'--',color=\"C1\",alpha=0.1)\n",
    "    What.grad = None"
   ]
  },
  {
   "cell_type": "markdown",
   "id": "5653d83a-25d0-4695-8d2a-de18cbeedf58",
   "metadata": {},
   "source": [
    "## C. 반복시각화 -- loss의 관점에서!! "
   ]
  },
  {
   "cell_type": "code",
   "execution_count": 50,
   "id": "d39cf41d-f745-41ee-9d43-30b6c91ab1ae",
   "metadata": {
    "tags": []
   },
   "outputs": [],
   "source": [
    "def plot_loss():\n",
    "    fig = plt.figure()\n",
    "    ax = fig.add_subplot(projection='3d')\n",
    "    w0 = np.arange(-6, 11, 0.5) \n",
    "    w1 = np.arange(-6, 11, 0.5)\n",
    "    W1,W0 = np.meshgrid(w1,w0)\n",
    "    LOSS=W0*0\n",
    "    for i in range(len(w0)):\n",
    "        for j in range(len(w1)):\n",
    "            LOSS[i,j]=torch.sum((y-w0[i]-w1[j]*x)**2)\n",
    "    ax.plot_surface(W0, W1, LOSS, rstride=1, cstride=1, color='b',alpha=0.1)\n",
    "    ax.azim = 30  ## 3d plot의 view 조절 \n",
    "    ax.dist = 8   ## 3d plot의 view 조절 \n",
    "    ax.elev = 5   ## 3d plot의 view 조절 \n",
    "    ax.set_xlabel(r'$w_0$')  # x축 레이블 설정\n",
    "    ax.set_ylabel(r'$w_1$')  # y축 레이블 설정\n",
    "    ax.set_xticks([-5,0,5,10])  # x축 틱 간격 설정\n",
    "    ax.set_yticks([-5,0,5,10])  # y축 틱 간격 설정\n",
    "    return fig"
   ]
  },
  {
   "cell_type": "code",
   "execution_count": null,
   "id": "fcd174b7-e9dc-4e31-8c2c-06339c850322",
   "metadata": {
    "tags": []
   },
   "outputs": [],
   "source": [
    "l(-5,10)"
   ]
  },
  {
   "cell_type": "code",
   "execution_count": null,
   "id": "3ef9b183-cba5-4c0f-8fc1-0ef2bc8020f4",
   "metadata": {
    "tags": []
   },
   "outputs": [],
   "source": [
    "fig = plot_loss()"
   ]
  },
  {
   "cell_type": "code",
   "execution_count": null,
   "id": "adbb32cc-7d8d-473a-ae68-14578c9acae8",
   "metadata": {
    "tags": []
   },
   "outputs": [],
   "source": [
    "fig = plot_loss()\n",
    "ax = fig.gca()\n",
    "ax.scatter(2.5, 4, l(2.5,4), s=200, marker='*', color='red', label=r\"${\\bf W}=[2.5, 4]'$\")\n",
    "ax.scatter(-5, 10, l(-5,10), s=200, marker='*', color='blue', label=r\"initial $\\hat{\\bf W}=[-5, 10]'$\")\n",
    "ax.legend()"
   ]
  },
  {
   "cell_type": "code",
   "execution_count": 42,
   "id": "7029f62d-a3cd-4c8a-9f15-c47f71a6f63f",
   "metadata": {
    "tags": []
   },
   "outputs": [],
   "source": [
    "w0,w1 = What.data.reshape(-1)"
   ]
  },
  {
   "cell_type": "code",
   "execution_count": null,
   "id": "cda5d267-7fd4-4e8a-8657-f7bd975d846a",
   "metadata": {
    "tags": []
   },
   "outputs": [],
   "source": [
    "What.data"
   ]
  },
  {
   "cell_type": "code",
   "execution_count": null,
   "id": "be76580c-9293-4d7f-ac0e-945c06fd5759",
   "metadata": {
    "tags": []
   },
   "outputs": [],
   "source": [
    "w0,w1"
   ]
  },
  {
   "cell_type": "code",
   "execution_count": 63,
   "id": "564a5083-7cde-47ca-b040-4634bf070c6f",
   "metadata": {
    "tags": []
   },
   "outputs": [],
   "source": [
    "What = torch.tensor([[-5.0],[10.0]],requires_grad=True)\n",
    "alpha = 0.001\n",
    "for epoc in range(30):\n",
    "    yhat = X @ What\n",
    "    loss = torch.sum((y-yhat)**2)\n",
    "    loss.backward()\n",
    "    What.data = What.data - 0.001 * What.grad\n",
    "    w0,w1 = What.data.reshape(-1) \n",
    "    ax.scatter(w0,w1,l(w0,w1),s=5,marker='o',color='blue')\n",
    "    What.grad = None"
   ]
  },
  {
   "cell_type": "code",
   "execution_count": null,
   "id": "9d8da848-f681-4b25-a0ca-3397d21a7cf5",
   "metadata": {
    "tags": []
   },
   "outputs": [],
   "source": [
    "fig"
   ]
  },
  {
   "cell_type": "markdown",
   "id": "a60602ac-3c91-4170-b0ba-6b7dfc5f04fd",
   "metadata": {},
   "source": [
    "## D. 애니메이션 "
   ]
  },
  {
   "cell_type": "code",
   "execution_count": 47,
   "id": "8a77e485-b027-4e42-b71d-080a5e3af313",
   "metadata": {
    "tags": []
   },
   "outputs": [],
   "source": [
    "from matplotlib import animation"
   ]
  },
  {
   "cell_type": "code",
   "execution_count": 48,
   "id": "717a8db7-b9b8-489b-8813-4bc23d450acf",
   "metadata": {
    "tags": []
   },
   "outputs": [],
   "source": [
    "plt.rcParams['figure.figsize'] = (7.5,2.5)\n",
    "plt.rcParams[\"animation.html\"] = \"jshtml\" "
   ]
  },
  {
   "cell_type": "code",
   "execution_count": 49,
   "id": "d0face1f-4984-48a5-95b5-477980bf6b33",
   "metadata": {
    "tags": []
   },
   "outputs": [],
   "source": [
    "def show_animation(alpha=0.001):\n",
    "    ## 1. 히스토리 기록을 위한 list 초기화\n",
    "    loss_history = [] \n",
    "    yhat_history = [] \n",
    "    What_history = [] \n",
    "\n",
    "    ## 2. 학습 + 학습과정기록\n",
    "    What= torch.tensor([[-5.0],[10.0]],requires_grad=True)\n",
    "    What_history.append(What.data.tolist())\n",
    "    for epoc in range(30): \n",
    "        yhat=X@What ; yhat_history.append(yhat.data.tolist())\n",
    "        loss=torch.sum((y-yhat)**2); loss_history.append(loss.item())\n",
    "        loss.backward() \n",
    "        What.data = What.data - alpha * What.grad; What_history.append(What.data.tolist())\n",
    "        What.grad = None    \n",
    "\n",
    "    ## 3. 시각화 \n",
    "    fig = plt.figure()\n",
    "    ax1 = fig.add_subplot(1, 2, 1)\n",
    "    ax2 = fig.add_subplot(1, 2, 2, projection='3d')\n",
    "\n",
    "    #### ax1: yhat의 관점에서.. \n",
    "    ax1.plot(x,y,'o',label=r\"$(x_i,y_i)$\")\n",
    "    line, = ax1.plot(x,yhat_history[0],label=r\"$(x_i,\\hat{y}_i)$\") \n",
    "    ax1.legend()\n",
    "    #### ax2: loss의 관점에서.. \n",
    "    w0 = np.arange(-6, 11, 0.5) \n",
    "    w1 = np.arange(-6, 11, 0.5)\n",
    "    W1,W0 = np.meshgrid(w1,w0)\n",
    "    LOSS=W0*0\n",
    "    for i in range(len(w0)):\n",
    "        for j in range(len(w1)):\n",
    "            LOSS[i,j]=torch.sum((y-w0[i]-w1[j]*x)**2)\n",
    "    ax2.plot_surface(W0, W1, LOSS, rstride=1, cstride=1, color='b',alpha=0.1)\n",
    "    ax2.azim = 30  ## 3d plot의 view 조절 \n",
    "    ax2.dist = 8   ## 3d plot의 view 조절 \n",
    "    ax2.elev = 5   ## 3d plot의 view 조절 \n",
    "    ax2.set_xlabel(r'$w_0$')  # x축 레이블 설정\n",
    "    ax2.set_ylabel(r'$w_1$')  # y축 레이블 설정\n",
    "    ax2.set_xticks([-5,0,5,10])  # x축 틱 간격 설정\n",
    "    ax2.set_yticks([-5,0,5,10])  # y축 틱 간격 설정\n",
    "    ax2.scatter(2.5, 4, l(2.5,4), s=200, marker='*', color='red', label=r\"${\\bf W}=[2.5, 4]'$\")\n",
    "    ax2.scatter(-5, 10, l(-5,10), s=200, marker='*', color='blue')\n",
    "    ax2.legend()\n",
    "    def animate(epoc):\n",
    "        line.set_ydata(yhat_history[epoc])\n",
    "        ax2.scatter(np.array(What_history)[epoc,0],np.array(What_history)[epoc,1],loss_history[epoc],color='grey')\n",
    "        fig.suptitle(f\"alpha = {alpha} / epoch = {epoc}\")\n",
    "        return line\n",
    "\n",
    "    ani = animation.FuncAnimation(fig, animate, frames=30)\n",
    "    plt.close()\n",
    "    return ani"
   ]
  },
  {
   "cell_type": "markdown",
   "id": "efc9d4be-09ba-4689-8cb5-a193bf3cdf59",
   "metadata": {},
   "source": [
    "> epoch = 0 부터 시작하여 시작점에서 출발하도록 애니메이션을 수정했습니당. "
   ]
  },
  {
   "cell_type": "code",
   "execution_count": null,
   "id": "13189450-8579-4734-b865-afc2a2f95be4",
   "metadata": {
    "tags": []
   },
   "outputs": [],
   "source": [
    "ani = show_animation(alpha=0.001)\n",
    "ani"
   ]
  },
  {
   "cell_type": "markdown",
   "id": "234be359-286b-4081-8b64-fa577c375014",
   "metadata": {},
   "source": [
    "## E. 학습률에 따른 시각화 "
   ]
  },
  {
   "cell_type": "markdown",
   "id": "b2667f38-4de2-48b2-95d3-b86342e806ca",
   "metadata": {},
   "source": [
    "`-` $\\alpha$가 너무 작다면 비효율적임 "
   ]
  },
  {
   "cell_type": "code",
   "execution_count": null,
   "id": "7337a666-f106-473c-a5d5-1d9773d2171e",
   "metadata": {
    "tags": []
   },
   "outputs": [],
   "source": [
    "show_animation(alpha=0.0001)"
   ]
  },
  {
   "cell_type": "markdown",
   "id": "7e89a760-b00f-4941-8008-9f71e7a80a65",
   "metadata": {},
   "source": [
    "`-` $\\alpha$가 크다고 무조건 좋은건 또 아님"
   ]
  },
  {
   "cell_type": "code",
   "execution_count": null,
   "id": "50d4e34e-2e78-4b1c-b85d-b404a106c72a",
   "metadata": {
    "tags": []
   },
   "outputs": [],
   "source": [
    "show_animation(alpha=0.0083)"
   ]
  },
  {
   "cell_type": "markdown",
   "id": "b8255c5d-e807-417e-a20e-14b3891f53fd",
   "metadata": {},
   "source": [
    "`-` 수틀리면 수렴안할수도?? "
   ]
  },
  {
   "cell_type": "code",
   "execution_count": null,
   "id": "7fa45af9-24ce-4f93-9768-46a027fde071",
   "metadata": {
    "tags": []
   },
   "outputs": [],
   "source": [
    "show_animation(alpha=0.0085)"
   ]
  },
  {
   "cell_type": "markdown",
   "id": "10d9ab1a-7ef6-4717-8d19-515d6f0ffcff",
   "metadata": {},
   "source": [
    "`-` 그냥 망할수도?? "
   ]
  },
  {
   "cell_type": "code",
   "execution_count": null,
   "id": "dd55c4a9-a739-4195-baaa-809fab0a66d7",
   "metadata": {
    "tags": []
   },
   "outputs": [],
   "source": [
    "show_animation(alpha=0.01)"
   ]
  },
  {
   "cell_type": "markdown",
   "id": "10a99980-d7da-44cc-93c3-89e38c743c0e",
   "metadata": {},
   "source": [
    "# 6. HW"
   ]
  },
  {
   "cell_type": "markdown",
   "id": "aea2550e-e97d-417e-8a3a-efe06d4b6c82",
   "metadata": {},
   "source": [
    "학습률$(\\alpha$)를 조정하면서 실습해보고 스크린샷 제출 "
   ]
  },
  {
   "cell_type": "markdown",
   "id": "d6fdba21-2589-441c-8c5e-1150e0284177",
   "metadata": {},
   "source": [
    "# A1. 벡터미분"
   ]
  },
  {
   "cell_type": "markdown",
   "id": "a2303d4d-57b2-490b-b6ed-30b4b60e8faf",
   "metadata": {},
   "source": [
    "## A. 해결하고 싶은것 "
   ]
  },
  {
   "cell_type": "markdown",
   "id": "d086c491-1712-46e2-85cc-f7610fac4426",
   "metadata": {},
   "source": [
    "아래와 같은 선형모형이 있다고 가정하자. "
   ]
  },
  {
   "cell_type": "markdown",
   "id": "32770197-4c7c-4c3f-a935-920e1818e7b5",
   "metadata": {},
   "source": [
    "$${\\bf y}={\\bf X}{\\boldsymbol \\beta} + {\\boldsymbol \\epsilon}$$"
   ]
  },
  {
   "cell_type": "markdown",
   "id": "23436b16-f043-4414-be4c-73a1c748ddbc",
   "metadata": {},
   "source": [
    "이러한 모형에 대하여 아래와 같이 손실함수를 정의하자.  \n",
    "\n",
    "$$loss({\\boldsymbol \\beta}) = ({\\bf y} - {\\bf X}{\\boldsymbol \\beta})^\\top({\\bf y} - {\\bf X}{\\boldsymbol \\beta}) $$"
   ]
  },
  {
   "cell_type": "markdown",
   "id": "159e2f5d-38d5-4c07-bab3-9adde60e83de",
   "metadata": {},
   "source": [
    "이때 손실함수의 미분값을 아래와 같이 주어지고, "
   ]
  },
  {
   "cell_type": "markdown",
   "id": "dff2f9aa-be87-437d-8201-7edad38a2f33",
   "metadata": {},
   "source": [
    "$$\\frac{\\partial}{\\partial {\\boldsymbol \\beta}}loss({\\boldsymbol \\beta}) = -2{\\bf X}^\\top{\\bf y}+2{\\bf X}^\\top{\\bf X}{\\boldsymbol \\beta}$$"
   ]
  },
  {
   "cell_type": "markdown",
   "id": "18a0a48b-2d1d-4bac-9bec-683d3642ac49",
   "metadata": {},
   "source": [
    "따라서 손실함수를 최소화하는 추정량이 아래와 같이 주어짐을 보여라. "
   ]
  },
  {
   "cell_type": "markdown",
   "id": "eeb7046b-688f-4a43-a06d-f3fd4c846702",
   "metadata": {},
   "source": [
    "$$\\hat{\\boldsymbol \\beta} = ({\\bf X}^\\top {\\bf X})^{-1}{\\bf X}^\\top{\\bf y}$$"
   ]
  },
  {
   "cell_type": "markdown",
   "id": "d0ac2407-ffed-47e2-ac82-f32be85149f2",
   "metadata": {},
   "source": [
    "## B. 해설강의 및 보충자료 "
   ]
  },
  {
   "cell_type": "markdown",
   "id": "9659272f-233d-4604-8dce-0c65498bc173",
   "metadata": {},
   "source": [
    "{{<video https://youtu.be/playlist?list=PLQqh36zP38-zPLHXfSQ1xtloXmczqwzod&si=zZ7bvAQEPVRGthhk >}}"
   ]
  },
  {
   "cell_type": "markdown",
   "id": "1d7a08cf-bbe1-4f95-bcdb-c9fa9914a863",
   "metadata": {
    "tags": []
   },
   "source": [
    "<https://github.com/guebin/DL2024/blob/main/posts/02wksupp.pdf>"
   ]
  },
  {
   "cell_type": "markdown",
   "id": "1ff39801",
   "metadata": {},
   "source": []
  }
 ],
 "metadata": {
  "kernelspec": {
   "display_name": "Python 3 (ipykernel)",
   "language": "python",
   "name": "python3"
  },
  "language_info": {
   "codemirror_mode": {
    "name": "ipython",
    "version": 3
   },
   "file_extension": ".py",
   "mimetype": "text/x-python",
   "name": "python",
   "nbconvert_exporter": "python",
   "pygments_lexer": "ipython3",
   "version": "3.8.19"
  }
 },
 "nbformat": 4,
 "nbformat_minor": 5
}
