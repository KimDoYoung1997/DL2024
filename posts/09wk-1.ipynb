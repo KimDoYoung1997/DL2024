{
 "cells": [
  {
   "cell_type": "raw",
   "id": "b6824b0a-708d-47a9-94dd-bb8f41aa0945",
   "metadata": {
    "tags": []
   },
   "source": [
    "---\n",
    "title: \"09wk-1: 추천시스템\"\n",
    "author: \"최규빈\"\n",
    "date: \"04/28/2024\"\n",
    "draft: true\n",
    "---"
   ]
  },
  {
   "cell_type": "code",
   "execution_count": 2,
   "id": "be01850b-e0ed-45be-a675-799d9c90c0ee",
   "metadata": {
    "tags": []
   },
   "outputs": [],
   "source": [
    "import torch\n",
    "import numpy as np \n",
    "import pandas as pd\n",
    "import fastai.collab"
   ]
  },
  {
   "cell_type": "code",
   "execution_count": 3,
   "id": "9ad42043-cdba-46a1-92f0-51aa4ce6e161",
   "metadata": {
    "tags": []
   },
   "outputs": [
    {
     "data": {
      "text/html": [
       "<div>\n",
       "<style scoped>\n",
       "    .dataframe tbody tr th:only-of-type {\n",
       "        vertical-align: middle;\n",
       "    }\n",
       "\n",
       "    .dataframe tbody tr th {\n",
       "        vertical-align: top;\n",
       "    }\n",
       "\n",
       "    .dataframe thead th {\n",
       "        text-align: right;\n",
       "    }\n",
       "</style>\n",
       "<table border=\"1\" class=\"dataframe\">\n",
       "  <thead>\n",
       "    <tr style=\"text-align: right;\">\n",
       "      <th></th>\n",
       "      <th>영식</th>\n",
       "      <th>영철</th>\n",
       "      <th>영호</th>\n",
       "      <th>광수</th>\n",
       "      <th>상철</th>\n",
       "      <th>영수</th>\n",
       "    </tr>\n",
       "  </thead>\n",
       "  <tbody>\n",
       "    <tr>\n",
       "      <th>옥순</th>\n",
       "      <td>3.9</td>\n",
       "      <td>4.1</td>\n",
       "      <td>NaN</td>\n",
       "      <td>0.5</td>\n",
       "      <td>0.3</td>\n",
       "      <td>NaN</td>\n",
       "    </tr>\n",
       "    <tr>\n",
       "      <th>영자</th>\n",
       "      <td>4.5</td>\n",
       "      <td>NaN</td>\n",
       "      <td>3.7</td>\n",
       "      <td>0.5</td>\n",
       "      <td>NaN</td>\n",
       "      <td>0.2</td>\n",
       "    </tr>\n",
       "    <tr>\n",
       "      <th>정숙</th>\n",
       "      <td>NaN</td>\n",
       "      <td>4.9</td>\n",
       "      <td>4.7</td>\n",
       "      <td>NaN</td>\n",
       "      <td>1.2</td>\n",
       "      <td>1.3</td>\n",
       "    </tr>\n",
       "    <tr>\n",
       "      <th>영숙</th>\n",
       "      <td>0.6</td>\n",
       "      <td>0.2</td>\n",
       "      <td>NaN</td>\n",
       "      <td>4.1</td>\n",
       "      <td>4.3</td>\n",
       "      <td>NaN</td>\n",
       "    </tr>\n",
       "    <tr>\n",
       "      <th>순자</th>\n",
       "      <td>0.7</td>\n",
       "      <td>0.9</td>\n",
       "      <td>NaN</td>\n",
       "      <td>4.2</td>\n",
       "      <td>NaN</td>\n",
       "      <td>3.9</td>\n",
       "    </tr>\n",
       "    <tr>\n",
       "      <th>현숙</th>\n",
       "      <td>NaN</td>\n",
       "      <td>0.2</td>\n",
       "      <td>0.3</td>\n",
       "      <td>NaN</td>\n",
       "      <td>3.5</td>\n",
       "      <td>3.4</td>\n",
       "    </tr>\n",
       "  </tbody>\n",
       "</table>\n",
       "</div>"
      ],
      "text/plain": [
       "     영식   영철   영호   광수   상철   영수\n",
       "옥순  3.9  4.1  NaN  0.5  0.3  NaN\n",
       "영자  4.5  NaN  3.7  0.5  NaN  0.2\n",
       "정숙  NaN  4.9  4.7  NaN  1.2  1.3\n",
       "영숙  0.6  0.2  NaN  4.1  4.3  NaN\n",
       "순자  0.7  0.9  NaN  4.2  NaN  3.9\n",
       "현숙  NaN  0.2  0.3  NaN  3.5  3.4"
      ]
     },
     "execution_count": 3,
     "metadata": {},
     "output_type": "execute_result"
    }
   ],
   "source": [
    "df_view = pd.read_csv('https://raw.githubusercontent.com/guebin/STML2022/main/posts/V.%20RecSys/2022-12-21-rcmdsolo.csv',index_col=0)\n",
    "df_view "
   ]
  },
  {
   "cell_type": "code",
   "execution_count": 4,
   "id": "43bbdba0-1ced-4e09-8d39-5105ca5fcb3e",
   "metadata": {
    "tags": []
   },
   "outputs": [],
   "source": [
    "a1 = np.array([1.9,0.0]).reshape(2,1) \n",
    "b1= np.array([2.0,0.1]).reshape(2,1)"
   ]
  },
  {
   "cell_type": "code",
   "execution_count": 5,
   "id": "737a962b-3e43-4d3d-9a9e-a5011970ce14",
   "metadata": {
    "tags": []
   },
   "outputs": [
    {
     "data": {
      "text/plain": [
       "array([3.8])"
      ]
     },
     "execution_count": 5,
     "metadata": {},
     "output_type": "execute_result"
    }
   ],
   "source": [
    "sum(a1*b1)"
   ]
  },
  {
   "cell_type": "code",
   "execution_count": 6,
   "id": "1679a6fd-7604-4e86-92b9-6aa53b834b74",
   "metadata": {
    "tags": []
   },
   "outputs": [
    {
     "data": {
      "text/plain": [
       "array([[1.9, 2. , 2.5, 0.1, 0.2, 0. ],\n",
       "       [0. , 0.1, 1. , 1.9, 2.1, 1.5]])"
      ]
     },
     "execution_count": 6,
     "metadata": {},
     "output_type": "execute_result"
    }
   ],
   "source": [
    "a1= np.array([1.9,0.0]).reshape(2,1)\n",
    "a2= np.array([2.0,0.1]).reshape(2,1)\n",
    "a3= np.array([2.5,1.0]).reshape(2,1)\n",
    "a4= np.array([0.1,1.9]).reshape(2,1)\n",
    "a5= np.array([0.2,2.1]).reshape(2,1)\n",
    "a6= np.array([0.0,1.5]).reshape(2,1)\n",
    "A = np.concatenate([a1,a2,a3,a4,a5,a6],axis=1)\n",
    "A"
   ]
  },
  {
   "cell_type": "code",
   "execution_count": 7,
   "id": "946ea60e-e30b-4188-8bae-7c1b25ca0f47",
   "metadata": {
    "tags": []
   },
   "outputs": [
    {
     "data": {
      "text/plain": [
       "array([[2. , 1.9, 1.8, 0.3, 0.2, 0.1],\n",
       "       [0.1, 0.2, 0.3, 2.1, 2. , 1.9]])"
      ]
     },
     "execution_count": 7,
     "metadata": {},
     "output_type": "execute_result"
    }
   ],
   "source": [
    "b1= np.array([2.0,0.1]).reshape(2,1)\n",
    "b2= np.array([1.9,0.2]).reshape(2,1)\n",
    "b3= np.array([1.8,0.3]).reshape(2,1)\n",
    "b4= np.array([0.3,2.1]).reshape(2,1)\n",
    "b5= np.array([0.2,2.0]).reshape(2,1)\n",
    "b6= np.array([0.1,1.9]).reshape(2,1)\n",
    "B = np.concatenate([b1,b2,b3,b4,b5,b6],axis=1)\n",
    "B"
   ]
  },
  {
   "cell_type": "code",
   "execution_count": 8,
   "id": "7336587f-95f1-478f-bb9a-746cc318d1ab",
   "metadata": {
    "tags": []
   },
   "outputs": [
    {
     "data": {
      "text/plain": [
       "array([[3.8 , 3.61, 3.42, 0.57, 0.38, 0.19],\n",
       "       [4.01, 3.82, 3.63, 0.81, 0.6 , 0.39],\n",
       "       [5.1 , 4.95, 4.8 , 2.85, 2.5 , 2.15],\n",
       "       [0.39, 0.57, 0.75, 4.02, 3.82, 3.62],\n",
       "       [0.61, 0.8 , 0.99, 4.47, 4.24, 4.01],\n",
       "       [0.15, 0.3 , 0.45, 3.15, 3.  , 2.85]])"
      ]
     },
     "execution_count": 8,
     "metadata": {},
     "output_type": "execute_result"
    }
   ],
   "source": [
    "A.T@B"
   ]
  },
  {
   "cell_type": "code",
   "execution_count": 9,
   "id": "b8294204-113c-4bde-9f17-9a24a6ff4d0e",
   "metadata": {
    "tags": []
   },
   "outputs": [
    {
     "data": {
      "text/plain": [
       "(array([[3.8]]), array([[3.82]]), array([[5.1]]))"
      ]
     },
     "execution_count": 9,
     "metadata": {},
     "output_type": "execute_result"
    }
   ],
   "source": [
    "a1.T@b1, a2.T@b2, a3.T@b1"
   ]
  },
  {
   "cell_type": "code",
   "execution_count": 10,
   "id": "33901998-5c7c-44fc-b97d-5a579514b540",
   "metadata": {
    "tags": []
   },
   "outputs": [
    {
     "data": {
      "text/plain": [
       "array([[3.8 , 3.61, 3.42, 0.57, 0.38, 0.19],\n",
       "       [4.01, 3.82, 3.63, 0.81, 0.6 , 0.39],\n",
       "       [5.1 , 4.95, 4.8 , 2.85, 2.5 , 2.15],\n",
       "       [0.39, 0.57, 0.75, 4.02, 3.82, 3.62],\n",
       "       [0.61, 0.8 , 0.99, 4.47, 4.24, 4.01],\n",
       "       [0.15, 0.3 , 0.45, 3.15, 3.  , 2.85]])"
      ]
     },
     "execution_count": 10,
     "metadata": {},
     "output_type": "execute_result"
    }
   ],
   "source": [
    "A.T@B "
   ]
  },
  {
   "cell_type": "code",
   "execution_count": 11,
   "id": "931cdb35-1082-4386-ad02-5c08b8ca1d0a",
   "metadata": {
    "tags": []
   },
   "outputs": [
    {
     "data": {
      "text/html": [
       "<div>\n",
       "<style scoped>\n",
       "    .dataframe tbody tr th:only-of-type {\n",
       "        vertical-align: middle;\n",
       "    }\n",
       "\n",
       "    .dataframe tbody tr th {\n",
       "        vertical-align: top;\n",
       "    }\n",
       "\n",
       "    .dataframe thead th {\n",
       "        text-align: right;\n",
       "    }\n",
       "</style>\n",
       "<table border=\"1\" class=\"dataframe\">\n",
       "  <thead>\n",
       "    <tr style=\"text-align: right;\">\n",
       "      <th></th>\n",
       "      <th>영식</th>\n",
       "      <th>영철</th>\n",
       "      <th>영호</th>\n",
       "      <th>광수</th>\n",
       "      <th>상철</th>\n",
       "      <th>영수</th>\n",
       "    </tr>\n",
       "  </thead>\n",
       "  <tbody>\n",
       "    <tr>\n",
       "      <th>옥순</th>\n",
       "      <td>3.9</td>\n",
       "      <td>4.1</td>\n",
       "      <td>NaN</td>\n",
       "      <td>0.5</td>\n",
       "      <td>0.3</td>\n",
       "      <td>NaN</td>\n",
       "    </tr>\n",
       "    <tr>\n",
       "      <th>영자</th>\n",
       "      <td>4.5</td>\n",
       "      <td>NaN</td>\n",
       "      <td>3.7</td>\n",
       "      <td>0.5</td>\n",
       "      <td>NaN</td>\n",
       "      <td>0.2</td>\n",
       "    </tr>\n",
       "    <tr>\n",
       "      <th>정숙</th>\n",
       "      <td>NaN</td>\n",
       "      <td>4.9</td>\n",
       "      <td>4.7</td>\n",
       "      <td>NaN</td>\n",
       "      <td>1.2</td>\n",
       "      <td>1.3</td>\n",
       "    </tr>\n",
       "    <tr>\n",
       "      <th>영숙</th>\n",
       "      <td>0.6</td>\n",
       "      <td>0.2</td>\n",
       "      <td>NaN</td>\n",
       "      <td>4.1</td>\n",
       "      <td>4.3</td>\n",
       "      <td>NaN</td>\n",
       "    </tr>\n",
       "    <tr>\n",
       "      <th>순자</th>\n",
       "      <td>0.7</td>\n",
       "      <td>0.9</td>\n",
       "      <td>NaN</td>\n",
       "      <td>4.2</td>\n",
       "      <td>NaN</td>\n",
       "      <td>3.9</td>\n",
       "    </tr>\n",
       "    <tr>\n",
       "      <th>현숙</th>\n",
       "      <td>NaN</td>\n",
       "      <td>0.2</td>\n",
       "      <td>0.3</td>\n",
       "      <td>NaN</td>\n",
       "      <td>3.5</td>\n",
       "      <td>3.4</td>\n",
       "    </tr>\n",
       "  </tbody>\n",
       "</table>\n",
       "</div>"
      ],
      "text/plain": [
       "     영식   영철   영호   광수   상철   영수\n",
       "옥순  3.9  4.1  NaN  0.5  0.3  NaN\n",
       "영자  4.5  NaN  3.7  0.5  NaN  0.2\n",
       "정숙  NaN  4.9  4.7  NaN  1.2  1.3\n",
       "영숙  0.6  0.2  NaN  4.1  4.3  NaN\n",
       "순자  0.7  0.9  NaN  4.2  NaN  3.9\n",
       "현숙  NaN  0.2  0.3  NaN  3.5  3.4"
      ]
     },
     "execution_count": 11,
     "metadata": {},
     "output_type": "execute_result"
    }
   ],
   "source": [
    "df_view"
   ]
  },
  {
   "cell_type": "code",
   "execution_count": 12,
   "id": "cc391e6d-0eaa-49df-b21d-b474f3931b87",
   "metadata": {
    "tags": []
   },
   "outputs": [
    {
     "data": {
      "text/html": [
       "<div>\n",
       "<style scoped>\n",
       "    .dataframe tbody tr th:only-of-type {\n",
       "        vertical-align: middle;\n",
       "    }\n",
       "\n",
       "    .dataframe tbody tr th {\n",
       "        vertical-align: top;\n",
       "    }\n",
       "\n",
       "    .dataframe thead th {\n",
       "        text-align: right;\n",
       "    }\n",
       "</style>\n",
       "<table border=\"1\" class=\"dataframe\">\n",
       "  <thead>\n",
       "    <tr style=\"text-align: right;\">\n",
       "      <th></th>\n",
       "      <th>X1</th>\n",
       "      <th>X2</th>\n",
       "      <th>y</th>\n",
       "    </tr>\n",
       "  </thead>\n",
       "  <tbody>\n",
       "    <tr>\n",
       "      <th>0</th>\n",
       "      <td>옥순</td>\n",
       "      <td>영식</td>\n",
       "      <td>3.9</td>\n",
       "    </tr>\n",
       "    <tr>\n",
       "      <th>1</th>\n",
       "      <td>옥순</td>\n",
       "      <td>영철</td>\n",
       "      <td>4.1</td>\n",
       "    </tr>\n",
       "    <tr>\n",
       "      <th>2</th>\n",
       "      <td>옥순</td>\n",
       "      <td>광수</td>\n",
       "      <td>0.5</td>\n",
       "    </tr>\n",
       "    <tr>\n",
       "      <th>3</th>\n",
       "      <td>옥순</td>\n",
       "      <td>상철</td>\n",
       "      <td>0.3</td>\n",
       "    </tr>\n",
       "    <tr>\n",
       "      <th>4</th>\n",
       "      <td>영자</td>\n",
       "      <td>영식</td>\n",
       "      <td>4.5</td>\n",
       "    </tr>\n",
       "    <tr>\n",
       "      <th>5</th>\n",
       "      <td>영자</td>\n",
       "      <td>영호</td>\n",
       "      <td>3.7</td>\n",
       "    </tr>\n",
       "    <tr>\n",
       "      <th>6</th>\n",
       "      <td>영자</td>\n",
       "      <td>광수</td>\n",
       "      <td>0.5</td>\n",
       "    </tr>\n",
       "    <tr>\n",
       "      <th>7</th>\n",
       "      <td>영자</td>\n",
       "      <td>영수</td>\n",
       "      <td>0.2</td>\n",
       "    </tr>\n",
       "    <tr>\n",
       "      <th>8</th>\n",
       "      <td>정숙</td>\n",
       "      <td>영철</td>\n",
       "      <td>4.9</td>\n",
       "    </tr>\n",
       "    <tr>\n",
       "      <th>9</th>\n",
       "      <td>정숙</td>\n",
       "      <td>영호</td>\n",
       "      <td>4.7</td>\n",
       "    </tr>\n",
       "    <tr>\n",
       "      <th>10</th>\n",
       "      <td>정숙</td>\n",
       "      <td>상철</td>\n",
       "      <td>1.2</td>\n",
       "    </tr>\n",
       "    <tr>\n",
       "      <th>11</th>\n",
       "      <td>정숙</td>\n",
       "      <td>영수</td>\n",
       "      <td>1.3</td>\n",
       "    </tr>\n",
       "    <tr>\n",
       "      <th>12</th>\n",
       "      <td>영숙</td>\n",
       "      <td>영식</td>\n",
       "      <td>0.6</td>\n",
       "    </tr>\n",
       "    <tr>\n",
       "      <th>13</th>\n",
       "      <td>영숙</td>\n",
       "      <td>영철</td>\n",
       "      <td>0.2</td>\n",
       "    </tr>\n",
       "    <tr>\n",
       "      <th>14</th>\n",
       "      <td>영숙</td>\n",
       "      <td>광수</td>\n",
       "      <td>4.1</td>\n",
       "    </tr>\n",
       "    <tr>\n",
       "      <th>15</th>\n",
       "      <td>영숙</td>\n",
       "      <td>상철</td>\n",
       "      <td>4.3</td>\n",
       "    </tr>\n",
       "    <tr>\n",
       "      <th>16</th>\n",
       "      <td>순자</td>\n",
       "      <td>영식</td>\n",
       "      <td>0.7</td>\n",
       "    </tr>\n",
       "    <tr>\n",
       "      <th>17</th>\n",
       "      <td>순자</td>\n",
       "      <td>영철</td>\n",
       "      <td>0.9</td>\n",
       "    </tr>\n",
       "    <tr>\n",
       "      <th>18</th>\n",
       "      <td>순자</td>\n",
       "      <td>광수</td>\n",
       "      <td>4.2</td>\n",
       "    </tr>\n",
       "    <tr>\n",
       "      <th>19</th>\n",
       "      <td>순자</td>\n",
       "      <td>영수</td>\n",
       "      <td>3.9</td>\n",
       "    </tr>\n",
       "    <tr>\n",
       "      <th>20</th>\n",
       "      <td>현숙</td>\n",
       "      <td>영철</td>\n",
       "      <td>0.2</td>\n",
       "    </tr>\n",
       "    <tr>\n",
       "      <th>21</th>\n",
       "      <td>현숙</td>\n",
       "      <td>영호</td>\n",
       "      <td>0.3</td>\n",
       "    </tr>\n",
       "    <tr>\n",
       "      <th>22</th>\n",
       "      <td>현숙</td>\n",
       "      <td>상철</td>\n",
       "      <td>3.5</td>\n",
       "    </tr>\n",
       "    <tr>\n",
       "      <th>23</th>\n",
       "      <td>현숙</td>\n",
       "      <td>영수</td>\n",
       "      <td>3.4</td>\n",
       "    </tr>\n",
       "  </tbody>\n",
       "</table>\n",
       "</div>"
      ],
      "text/plain": [
       "    X1  X2    y\n",
       "0   옥순  영식  3.9\n",
       "1   옥순  영철  4.1\n",
       "2   옥순  광수  0.5\n",
       "3   옥순  상철  0.3\n",
       "4   영자  영식  4.5\n",
       "5   영자  영호  3.7\n",
       "6   영자  광수  0.5\n",
       "7   영자  영수  0.2\n",
       "8   정숙  영철  4.9\n",
       "9   정숙  영호  4.7\n",
       "10  정숙  상철  1.2\n",
       "11  정숙  영수  1.3\n",
       "12  영숙  영식  0.6\n",
       "13  영숙  영철  0.2\n",
       "14  영숙  광수  4.1\n",
       "15  영숙  상철  4.3\n",
       "16  순자  영식  0.7\n",
       "17  순자  영철  0.9\n",
       "18  순자  광수  4.2\n",
       "19  순자  영수  3.9\n",
       "20  현숙  영철  0.2\n",
       "21  현숙  영호  0.3\n",
       "22  현숙  상철  3.5\n",
       "23  현숙  영수  3.4"
      ]
     },
     "execution_count": 12,
     "metadata": {},
     "output_type": "execute_result"
    }
   ],
   "source": [
    "df = pd.DataFrame([(f,m,df_view.loc[f,m]) for f in df_view.index for m in df_view.columns if not np.isnan(df_view.loc[f,m])])\n",
    "df.columns = ['X1','X2','y']\n",
    "df"
   ]
  },
  {
   "cell_type": "code",
   "execution_count": 13,
   "id": "4aa701b1-bb2d-4b6f-affa-4f997ff1ff07",
   "metadata": {
    "tags": []
   },
   "outputs": [
    {
     "data": {
      "text/plain": [
       "({'옥순': 0, '영자': 1, '정숙': 2, '영숙': 3, '순자': 4, '현숙': 5},\n",
       " {'영식': 0, '영철': 1, '광수': 2, '상철': 3, '영호': 4, '영수': 5})"
      ]
     },
     "execution_count": 13,
     "metadata": {},
     "output_type": "execute_result"
    }
   ],
   "source": [
    "mapp1 = {k[1]:k[0] for k in enumerate(df.X1.unique())}\n",
    "mapp2 = {k[1]:k[0] for k in enumerate(df.X2.unique())}\n",
    "mapp1,mapp2"
   ]
  },
  {
   "cell_type": "code",
   "execution_count": 38,
   "id": "03d09c5c-7773-4ded-9474-c7c11e744972",
   "metadata": {
    "tags": []
   },
   "outputs": [],
   "source": [
    "X1 = torch.tensor(list(map(lambda name: mapp1[name], df.X1)))\n",
    "X2 = torch.tensor(list(map(lambda name: mapp2[name], df.X2)))\n",
    "X1_onehot = torch.nn.functional.one_hot(X1).float()\n",
    "X2_onehot = torch.nn.functional.one_hot(X2).float()\n",
    "y = torch.tensor(df.y).float()"
   ]
  },
  {
   "cell_type": "code",
   "execution_count": 39,
   "id": "1123cf30-6faf-4a5d-9ce2-3b0f795ca8cd",
   "metadata": {
    "tags": []
   },
   "outputs": [
    {
     "data": {
      "text/plain": [
       "(tensor([0, 0, 0, 0, 1, 1, 1, 1, 2, 2, 2, 2, 3, 3, 3, 3, 4, 4, 4, 4, 5, 5, 5, 5]),\n",
       " tensor([0, 1, 2, 3, 0, 4, 2, 5, 1, 4, 3, 5, 0, 1, 2, 3, 0, 1, 2, 5, 1, 4, 3, 5]),\n",
       " tensor([3.9000, 4.1000, 0.5000, 0.3000, 4.5000, 3.7000, 0.5000, 0.2000, 4.9000,\n",
       "         4.7000, 1.2000, 1.3000, 0.6000, 0.2000, 4.1000, 4.3000, 0.7000, 0.9000,\n",
       "         4.2000, 3.9000, 0.2000, 0.3000, 3.5000, 3.4000]))"
      ]
     },
     "execution_count": 39,
     "metadata": {},
     "output_type": "execute_result"
    }
   ],
   "source": [
    "X1,X2,y"
   ]
  },
  {
   "cell_type": "code",
   "execution_count": 40,
   "id": "bcc47048-6223-4f69-9578-48feed6e6de5",
   "metadata": {
    "tags": []
   },
   "outputs": [
    {
     "data": {
      "text/plain": [
       "tensor([[1., 0., 0., 0., 0., 0.],\n",
       "        [1., 0., 0., 0., 0., 0.],\n",
       "        [1., 0., 0., 0., 0., 0.],\n",
       "        [1., 0., 0., 0., 0., 0.],\n",
       "        [0., 1., 0., 0., 0., 0.],\n",
       "        [0., 1., 0., 0., 0., 0.],\n",
       "        [0., 1., 0., 0., 0., 0.],\n",
       "        [0., 1., 0., 0., 0., 0.],\n",
       "        [0., 0., 1., 0., 0., 0.],\n",
       "        [0., 0., 1., 0., 0., 0.],\n",
       "        [0., 0., 1., 0., 0., 0.],\n",
       "        [0., 0., 1., 0., 0., 0.],\n",
       "        [0., 0., 0., 1., 0., 0.],\n",
       "        [0., 0., 0., 1., 0., 0.],\n",
       "        [0., 0., 0., 1., 0., 0.],\n",
       "        [0., 0., 0., 1., 0., 0.],\n",
       "        [0., 0., 0., 0., 1., 0.],\n",
       "        [0., 0., 0., 0., 1., 0.],\n",
       "        [0., 0., 0., 0., 1., 0.],\n",
       "        [0., 0., 0., 0., 1., 0.],\n",
       "        [0., 0., 0., 0., 0., 1.],\n",
       "        [0., 0., 0., 0., 0., 1.],\n",
       "        [0., 0., 0., 0., 0., 1.],\n",
       "        [0., 0., 0., 0., 0., 1.]])"
      ]
     },
     "execution_count": 40,
     "metadata": {},
     "output_type": "execute_result"
    }
   ],
   "source": [
    "X1_ebdd"
   ]
  },
  {
   "cell_type": "code",
   "execution_count": 41,
   "id": "ab0f48b6-c1d5-4ea6-8b87-34e7a4fa2dc1",
   "metadata": {
    "tags": []
   },
   "outputs": [],
   "source": [
    "e1 = torch.nn.Embedding(6,2)\n",
    "l1 = torch.nn.Linear(in_features=6,out_features=2) "
   ]
  },
  {
   "cell_type": "code",
   "execution_count": 42,
   "id": "5f859ea2-bde3-45d2-bc71-01a406c27c25",
   "metadata": {
    "tags": []
   },
   "outputs": [
    {
     "data": {
      "text/plain": [
       "(tensor([[ 2.6026,  0.4667],\n",
       "         [ 2.6026,  0.4667],\n",
       "         [ 2.6026,  0.4667],\n",
       "         [ 2.6026,  0.4667],\n",
       "         [ 0.1359, -0.1735],\n",
       "         [ 0.1359, -0.1735],\n",
       "         [ 0.1359, -0.1735],\n",
       "         [ 0.1359, -0.1735],\n",
       "         [-1.0644, -0.2754],\n",
       "         [-1.0644, -0.2754],\n",
       "         [-1.0644, -0.2754],\n",
       "         [-1.0644, -0.2754],\n",
       "         [-1.0586,  0.3923],\n",
       "         [-1.0586,  0.3923],\n",
       "         [-1.0586,  0.3923],\n",
       "         [-1.0586,  0.3923],\n",
       "         [-0.4783, -1.7533],\n",
       "         [-0.4783, -1.7533],\n",
       "         [-0.4783, -1.7533],\n",
       "         [-0.4783, -1.7533],\n",
       "         [ 0.6503, -0.0975],\n",
       "         [ 0.6503, -0.0975],\n",
       "         [ 0.6503, -0.0975],\n",
       "         [ 0.6503, -0.0975]], grad_fn=<EmbeddingBackward0>),\n",
       " tensor([[-0.0844,  0.3446],\n",
       "         [-0.0844,  0.3446],\n",
       "         [-0.0844,  0.3446],\n",
       "         [-0.0844,  0.3446],\n",
       "         [-0.1052, -0.0718],\n",
       "         [-0.1052, -0.0718],\n",
       "         [-0.1052, -0.0718],\n",
       "         [-0.1052, -0.0718],\n",
       "         [-0.0119,  0.2076],\n",
       "         [-0.0119,  0.2076],\n",
       "         [-0.0119,  0.2076],\n",
       "         [-0.0119,  0.2076],\n",
       "         [-0.2060,  0.1455],\n",
       "         [-0.2060,  0.1455],\n",
       "         [-0.2060,  0.1455],\n",
       "         [-0.2060,  0.1455],\n",
       "         [-0.0590, -0.1849],\n",
       "         [-0.0590, -0.1849],\n",
       "         [-0.0590, -0.1849],\n",
       "         [-0.0590, -0.1849],\n",
       "         [ 0.0080,  0.1759],\n",
       "         [ 0.0080,  0.1759],\n",
       "         [ 0.0080,  0.1759],\n",
       "         [ 0.0080,  0.1759]], grad_fn=<AddmmBackward0>))"
      ]
     },
     "execution_count": 42,
     "metadata": {},
     "output_type": "execute_result"
    }
   ],
   "source": [
    "ebdd(X1),l1(X1_onehot)"
   ]
  },
  {
   "cell_type": "code",
   "execution_count": null,
   "id": "2148df47-d9f0-4216-b4b5-54c0d141ba64",
   "metadata": {},
   "outputs": [],
   "source": [
    "li"
   ]
  },
  {
   "cell_type": "code",
   "execution_count": null,
   "id": "b279a1ee-3ee7-4dea-92fc-fc711b93d61b",
   "metadata": {},
   "outputs": [],
   "source": []
  }
 ],
 "metadata": {
  "kernelspec": {
   "display_name": "Python 3 (ipykernel)",
   "language": "python",
   "name": "python3"
  },
  "language_info": {
   "codemirror_mode": {
    "name": "ipython",
    "version": 3
   },
   "file_extension": ".py",
   "mimetype": "text/x-python",
   "name": "python",
   "nbconvert_exporter": "python",
   "pygments_lexer": "ipython3",
   "version": "3.11.8"
  }
 },
 "nbformat": 4,
 "nbformat_minor": 5
}
