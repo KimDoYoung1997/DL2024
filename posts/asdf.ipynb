{
 "cells": [
  {
   "cell_type": "raw",
   "id": "fb8a5bfd-39ce-425f-9eba-930063ac332f",
   "metadata": {
    "tags": []
   },
   "source": [
    "---\n",
    "title: \"12wk-1: 순환신경망 (2) -- RNN\"\n",
    "author: \"최규빈\"\n",
    "date: \"05/15/2024\"\n",
    "draft: true\n",
    "---"
   ]
  },
  {
   "cell_type": "code",
   "execution_count": null,
   "id": "960ac3d8-273b-4a4d-b9c0-b9f1857bb1d1",
   "metadata": {},
   "outputs": [],
   "source": []
  },
  {
   "cell_type": "markdown",
   "id": "1bac5afc-e664-4f75-be98-91d649ed019e",
   "metadata": {},
   "source": [
    "## E. 구현3 -- RNN"
   ]
  },
  {
   "cell_type": "markdown",
   "id": "f705cbcd-544a-4f79-b5f0-d8bda312c5c3",
   "metadata": {},
   "source": [
    "ref: <https://pytorch.org/docs/stable/generated/torch.nn.RNN.html>"
   ]
  },
  {
   "cell_type": "markdown",
   "id": "5ffe893f-e8e2-4125-a954-e6cfd90bc260",
   "metadata": {
    "tags": []
   },
   "source": [
    "`-` 데이터정리 "
   ]
  },
  {
   "cell_type": "code",
   "execution_count": 153,
   "id": "075e6213-fc63-4c6b-8f85-b21fed283e7e",
   "metadata": {
    "tags": []
   },
   "outputs": [],
   "source": [
    "x = torch.tensor(df_train.x.map({'A':0,'b':1,'c':2,'d':3}))\n",
    "y = torch.tensor(df_train.y.map({'A':0,'b':1,'c':2,'d':3}))\n",
    "X = torch.nn.functional.one_hot(x).float()\n",
    "y = torch.nn.functional.one_hot(y).float()"
   ]
  },
  {
   "cell_type": "markdown",
   "id": "92add7c8-234e-42b2-bdc6-8389ae7d1fc4",
   "metadata": {},
   "source": [
    "`-` Net설계 및 가중치 설정 (구현1,2와 동일하도록 가중치 초기화)"
   ]
  },
  {
   "cell_type": "code",
   "execution_count": 154,
   "id": "b0e48f72-aed4-4432-804f-f6ea6e6b1bba",
   "metadata": {
    "tags": []
   },
   "outputs": [],
   "source": [
    "torch.manual_seed(43052)\n",
    "_rnncell = rNNCell()\n",
    "cook = torch.nn.Linear(2,4)"
   ]
  },
  {
   "cell_type": "code",
   "execution_count": 155,
   "id": "e5cfa17d-6ab8-4060-9937-b4470b6cac4c",
   "metadata": {
    "tags": []
   },
   "outputs": [],
   "source": [
    "rnn = torch.nn.RNN(4,2)\n",
    "rnn.weight_ih_l0.data = _rnncell.i2h.weight.data \n",
    "rnn.weight_hh_l0.data = _rnncell.h2h.weight.data \n",
    "rnn.bias_ih_l0.data = _rnncell.i2h.bias.data \n",
    "rnn.bias_hh_l0.data = _rnncell.h2h.bias.data "
   ]
  },
  {
   "cell_type": "markdown",
   "id": "cd4b5a3e-c888-4259-b3c2-601bf0cfcba4",
   "metadata": {},
   "source": [
    "`-` 손실함수 및 옵티마이저 설정 "
   ]
  },
  {
   "cell_type": "code",
   "execution_count": 156,
   "id": "6c0f4309-f82f-469c-82da-505830baff9d",
   "metadata": {
    "tags": []
   },
   "outputs": [],
   "source": [
    "loss_fn = torch.nn.CrossEntropyLoss() \n",
    "optimizr = torch.optim.Adam(list(rnn.parameters())+list(cook.parameters()),lr=0.1)"
   ]
  },
  {
   "cell_type": "markdown",
   "id": "72ae5682-1859-49f3-9b3d-4e5259ca6887",
   "metadata": {},
   "source": [
    "`-` 학습"
   ]
  },
  {
   "cell_type": "code",
   "execution_count": 157,
   "id": "6ada29c3-7b61-480f-be0e-a8a0abae8c6b",
   "metadata": {
    "tags": []
   },
   "outputs": [],
   "source": [
    "Water = torch.zeros(1,2) # 여기에서 1=D*num_layers임 //  D는 단방향=1 양방향=2, num_layers는 stacking RNN의 중첩수 \n",
    "for epoc in range(200):\n",
    "    ## 1 \n",
    "    h,hL = rnn(X,Water)\n",
    "    netout = cook(h) \n",
    "    ## 2 \n",
    "    loss = loss_fn(netout,y)\n",
    "    ## 3 \n",
    "    loss.backward()\n",
    "    ## 4 \n",
    "    optimizr.step()\n",
    "    optimizr.zero_grad()"
   ]
  },
  {
   "cell_type": "markdown",
   "id": "5699b33c-34f6-443e-ae70-676689d241cd",
   "metadata": {},
   "source": [
    "`-` 결과확인  "
   ]
  },
  {
   "cell_type": "code",
   "execution_count": 158,
   "id": "f8dcb396-1ef3-454b-86ea-502933877979",
   "metadata": {
    "tags": []
   },
   "outputs": [
    {
     "data": {
      "text/plain": [
       "tensor([[4.1805e-03, 9.4591e-01, 1.9270e-06, 4.9911e-02],\n",
       "        [9.9994e-01, 5.5487e-05, 8.4018e-10, 1.3082e-06],\n",
       "        [2.1175e-07, 1.1337e-06, 9.7028e-01, 2.9717e-02],\n",
       "        ...,\n",
       "        [2.1166e-07, 1.1331e-06, 9.7029e-01, 2.9709e-02],\n",
       "        [9.9900e-01, 9.7465e-04, 6.9224e-09, 2.2068e-05],\n",
       "        [7.5071e-04, 2.6708e-02, 3.1534e-02, 9.4101e-01]],\n",
       "       grad_fn=<SoftmaxBackward0>)"
      ]
     },
     "execution_count": 158,
     "metadata": {},
     "output_type": "execute_result"
    }
   ],
   "source": [
    "h,_ = rnn(X,Water)\n",
    "netout = cook(h)\n",
    "yhat = soft(netout)\n",
    "yhat"
   ]
  },
  {
   "cell_type": "markdown",
   "id": "8ee59dcd-495a-4b53-9603-8c4df78c174d",
   "metadata": {},
   "source": [
    "- 구현1, 구현2와 같은결과 "
   ]
  }
 ],
 "metadata": {
  "kernelspec": {
   "display_name": "Python 3 (ipykernel)",
   "language": "python",
   "name": "python3"
  },
  "language_info": {
   "codemirror_mode": {
    "name": "ipython",
    "version": 3
   },
   "file_extension": ".py",
   "mimetype": "text/x-python",
   "name": "python",
   "nbconvert_exporter": "python",
   "pygments_lexer": "ipython3",
   "version": "3.11.8"
  }
 },
 "nbformat": 4,
 "nbformat_minor": 5
}
