{
 "cells": [
  {
   "cell_type": "raw",
   "id": "855d203d-e1fd-40dc-9c2c-e90e8380f06e",
   "metadata": {},
   "source": [
    "---\n",
    "title: \"13wk-2: 강화학습 (1) -- Bandit\"\n",
    "author: \"최규빈\"\n",
    "date: \"05/29/2024\"\n",
    "---"
   ]
  },
  {
   "cell_type": "markdown",
   "id": "e2c13712-1185-4386-90e7-3e23c62be398",
   "metadata": {
    "id": "e67ab8e0"
   },
   "source": [
    "<a href=\"https://colab.research.google.com/github/guebin/DL2024/blob/main/posts/13wk-2.ipynb\"><img src=\"https://colab.research.google.com/assets/colab-badge.svg\" style=\"text-align: left\"></a>"
   ]
  },
  {
   "cell_type": "markdown",
   "id": "2a0d11f9-7f12-401a-82da-e4b2e568dde6",
   "metadata": {
    "tags": []
   },
   "source": [
    "# 1. 강의영상 "
   ]
  },
  {
   "cell_type": "code",
   "execution_count": 1,
   "id": "4685c071-46e9-4bcb-84a7-ece876eb4654",
   "metadata": {
    "tags": []
   },
   "outputs": [],
   "source": [
    "#{{<video https://youtu.be/playlist?list=PLQqh36zP38-zoOHd7w3N5q9Jc5P34Ux8X&si=MdJTHM3a27MCAssp >}}"
   ]
  },
  {
   "cell_type": "markdown",
   "id": "fcc5c5b0-94a7-4a3d-bb6c-1623909505e1",
   "metadata": {},
   "source": [
    "# 2. Imports "
   ]
  },
  {
   "cell_type": "code",
   "execution_count": 149,
   "id": "da124c05-12c5-4e50-b7c2-c7156427cc82",
   "metadata": {
    "tags": []
   },
   "outputs": [],
   "source": [
    "import numpy as np"
   ]
  },
  {
   "cell_type": "markdown",
   "id": "69de1a84-3d65-40d2-a1ee-3f5213791081",
   "metadata": {},
   "source": [
    "# 3. 강화학습 Intro "
   ]
  },
  {
   "cell_type": "markdown",
   "id": "46e0f4e9-06d3-412a-9bd9-79399e11414f",
   "metadata": {},
   "source": [
    "`-` 강화학습(대충설명): 어떠한 \"(게임)환경\"이 있을때 거기서 \"뭘 할지\"를 학습하는 과업"
   ]
  },
  {
   "cell_type": "markdown",
   "id": "b4eab2ee-e9e4-4032-8344-a72188f96b27",
   "metadata": {},
   "source": [
    "`-` 딥마인드: breakout $\\to$ 알파고 \n",
    "\n",
    "- <https://www.youtube.com/watch?v=TmPfTpjtdgg>"
   ]
  },
  {
   "cell_type": "markdown",
   "id": "047016d4-087a-4087-8440-072610804ec2",
   "metadata": {},
   "source": [
    "`-` 강화학습 미래? (이거 잘하면 먹고 살 수 있을까?) "
   ]
  },
  {
   "cell_type": "markdown",
   "id": "a79839a6-f30a-4a3c-baf9-aa3ccc8797e5",
   "metadata": {},
   "source": [
    "# 4. Game1: `Bandit` 게임"
   ]
  },
  {
   "cell_type": "markdown",
   "id": "9b366221-0891-4c37-8e73-bd1622cd0a0d",
   "metadata": {},
   "source": [
    "## A. 게임설명 및 원시코드"
   ]
  },
  {
   "cell_type": "markdown",
   "id": "4b629176-ac93-4d67-8c4c-ce616e8709f0",
   "metadata": {},
   "source": [
    "`-` 문제설명: 두 개의 버튼이 있다. `버튼0`을 누르면 1의 보상을, `버튼1`을 누르면 10의 보상을 준다고 가정 "
   ]
  },
  {
   "cell_type": "markdown",
   "id": "89f0db51-86d9-45c1-925b-23561fe9d0d0",
   "metadata": {},
   "source": [
    "`-` 처음에 어떤 행동을 해야 하는가?\n",
    "\n",
    "- 처음에는 아는게 없음\n",
    "- 일단 \"아무거나\" 눌러보자. "
   ]
  },
  {
   "cell_type": "markdown",
   "id": "57d02dba-7da9-48b9-8371-18ceea6de043",
   "metadata": {},
   "source": [
    "`-` 버튼을 아무거나 누르는 코드를 작성해보자. "
   ]
  },
  {
   "cell_type": "code",
   "execution_count": 36,
   "id": "cd4a7dbb-f420-479c-a420-4097bb2bad59",
   "metadata": {
    "tags": []
   },
   "outputs": [
    {
     "data": {
      "text/plain": [
       "'버튼0'"
      ]
     },
     "execution_count": 36,
     "metadata": {},
     "output_type": "execute_result"
    }
   ],
   "source": [
    "action_space = ['버튼0', '버튼1'] \n",
    "action = np.random.choice(action_space)\n",
    "action"
   ]
  },
  {
   "cell_type": "markdown",
   "id": "6cce19f2-b173-4af0-ac97-d6f5f3ea6987",
   "metadata": {},
   "source": [
    "> `action_space` 와 `action` 이라는 용어를 기억할 것 "
   ]
  },
  {
   "cell_type": "markdown",
   "id": "1b58ae92-18be-4d72-9be9-6bed4ac5d7ef",
   "metadata": {},
   "source": [
    "`-` 버튼을 누른 행위에 따른 보상을 구현하자."
   ]
  },
  {
   "cell_type": "code",
   "execution_count": 37,
   "id": "61b66eff-ec7c-4884-9e55-0a61279495a8",
   "metadata": {
    "tags": []
   },
   "outputs": [],
   "source": [
    "if action == '버튼0': # button0을 눌렀다면 \n",
    "    reward = 1\n",
    "else: # button1을 눌렀다면 \n",
    "    reward = 10"
   ]
  },
  {
   "cell_type": "markdown",
   "id": "60ad8d94-ce00-44a2-b64c-25ca1ad1bc91",
   "metadata": {},
   "source": [
    "> `reward`라는 용어를 기억할 것 "
   ]
  },
  {
   "cell_type": "code",
   "execution_count": 38,
   "id": "d81e4baa-7bb5-4dfd-a786-488ac021a364",
   "metadata": {
    "tags": []
   },
   "outputs": [
    {
     "data": {
      "text/plain": [
       "1"
      ]
     },
     "execution_count": 38,
     "metadata": {},
     "output_type": "execute_result"
    }
   ],
   "source": [
    "reward"
   ]
  },
  {
   "cell_type": "markdown",
   "id": "0a2653f6-e9b0-4aff-b52e-a3e2cc34414a",
   "metadata": {},
   "source": [
    "`-` 아무버튼이나 10번정도 눌러보면서 데이터를 쌓아보자. "
   ]
  },
  {
   "cell_type": "code",
   "execution_count": 41,
   "id": "d1e676d0-b3b8-427d-ace9-a887ff371c9e",
   "metadata": {
    "tags": []
   },
   "outputs": [
    {
     "name": "stdout",
     "output_type": "stream",
     "text": [
      "버튼0 1\n",
      "버튼1 10\n",
      "버튼0 1\n",
      "버튼1 10\n",
      "버튼1 10\n",
      "버튼0 1\n",
      "버튼1 10\n",
      "버튼1 10\n",
      "버튼1 10\n",
      "버튼1 10\n"
     ]
    }
   ],
   "source": [
    "for _ in range(10):\n",
    "    action = np.random.choice(action_space)\n",
    "    if action == '버튼0': \n",
    "        reward = 1 \n",
    "    else: \n",
    "        reward = 10    \n",
    "    print(action,reward) "
   ]
  },
  {
   "cell_type": "markdown",
   "id": "8a666665-184a-4dc9-822a-1c993a2e3c78",
   "metadata": {},
   "source": [
    "`-` 깨달았음: `버튼0`을 누르면 1점을 받고, `버튼1`을 누르면 10점을 받는 \"환경(environment)\"이구나? $\\to$ `버튼1`을 누르는 \"동작(=action)\"을 해야하는 상황이구나? \n",
    "\n",
    "- 여기에서 $\\to$의 과정을 체계화 시킨 학문이 강화학습 "
   ]
  },
  {
   "cell_type": "markdown",
   "id": "64a6794d-15d2-48e0-b44d-8ee12b664e00",
   "metadata": {},
   "source": [
    "> `environment`라는 용어를 기억할 것 "
   ]
  },
  {
   "cell_type": "code",
   "execution_count": 42,
   "id": "84bb28cb-bae0-4364-b208-43f88a1e8690",
   "metadata": {
    "tags": []
   },
   "outputs": [
    {
     "name": "stdout",
     "output_type": "stream",
     "text": [
      "버튼1 10\n",
      "버튼1 10\n",
      "버튼1 10\n",
      "버튼1 10\n",
      "버튼1 10\n",
      "버튼1 10\n",
      "버튼1 10\n",
      "버튼1 10\n",
      "버튼1 10\n",
      "버튼1 10\n"
     ]
    }
   ],
   "source": [
    "for _ in range(10):\n",
    "    action = action_space[1]\n",
    "    if action == '버튼0': \n",
    "        reward = 1\n",
    "    else: \n",
    "        reward = 10   \n",
    "    print(action,reward) "
   ]
  },
  {
   "cell_type": "markdown",
   "id": "00d1129a-5d3e-47f7-b3b8-d90631494289",
   "metadata": {},
   "source": [
    "- 게임 클리어"
   ]
  },
  {
   "cell_type": "markdown",
   "id": "e8cdee96-6c0e-4e26-8551-d76ce1629188",
   "metadata": {},
   "source": [
    "`-` 강화학습: 환경(environment)을 이해 $\\to$ 에이전트(agent)가 행동(action)을 결정 "
   ]
  },
  {
   "cell_type": "markdown",
   "id": "4fcf0472-6529-4462-acd8-1f1ffadef928",
   "metadata": {
    "tags": []
   },
   "source": [
    "> `agent`라는 용어를 기억할 것 "
   ]
  },
  {
   "cell_type": "markdown",
   "id": "9df2f276-9417-4a55-9ca2-016dbf1bc921",
   "metadata": {},
   "source": [
    "***위의 과정이 잘 되었다는 의미로 사용하는 문장들*** \n",
    "\n",
    "- 강화학습이 성공적으로 잘 되었다. \n",
    "- 에이전트가 환경의 과제를 완료했다. \n",
    "- 에이전트가 환경에서 성공적으로 학습했다. \n",
    "- 에이전트가 올바른 행동을 학습했다. \n",
    "- 게임 클리어 (비공식) "
   ]
  },
  {
   "cell_type": "markdown",
   "id": "6947330d-217b-4ae6-90f2-bdc44cf60d49",
   "metadata": {},
   "source": [
    "`-` 게임이 클리어 되었다는 것을 의미하는 지표를 정하고 싶다. \n",
    "\n",
    "- 첫 생각: `버튼1`을 누르는 순간 게임클리어로 보면 되지 않나?\n",
    "- 두번째 생각: 아니지? 우연히 누를수도 있잖아?\n",
    "- 게임클리어조건: (1) 20번은 그냥 진행 (2) 최근 20번의 보상의 평균이 9.5점 이상이면 게임이 클리어 되었다고 생각하자.^[`버튼1`을 눌러야 하는건 맞지만 몇번의 실수는 눈감아 주자는 의미]"
   ]
  },
  {
   "cell_type": "markdown",
   "id": "a1f6dc80-305e-4fb7-a6e2-817a49e7db52",
   "metadata": {},
   "source": [
    "`-` 원시코드1: 환경을 이해하지 못한 에이전트 -- 게임을 클리어할 수 없다. "
   ]
  },
  {
   "cell_type": "code",
   "execution_count": 127,
   "id": "88406414-89f3-44bc-bdd7-bc1b43788f74",
   "metadata": {
    "tags": []
   },
   "outputs": [
    {
     "name": "stdout",
     "output_type": "stream",
     "text": [
      "n_try = 1\taction = 1\treward = 10\tmean(recent_rewards) = 10.0\n",
      "n_try = 2\taction = 0\treward = 1\tmean(recent_rewards) = 5.5\n",
      "n_try = 3\taction = 1\treward = 10\tmean(recent_rewards) = 7.0\n",
      "n_try = 4\taction = 1\treward = 10\tmean(recent_rewards) = 7.75\n",
      "n_try = 5\taction = 1\treward = 10\tmean(recent_rewards) = 8.2\n",
      "n_try = 6\taction = 0\treward = 1\tmean(recent_rewards) = 7.0\n",
      "n_try = 7\taction = 0\treward = 1\tmean(recent_rewards) = 6.142857142857143\n",
      "n_try = 8\taction = 1\treward = 10\tmean(recent_rewards) = 6.625\n",
      "n_try = 9\taction = 0\treward = 1\tmean(recent_rewards) = 6.0\n",
      "n_try = 10\taction = 0\treward = 1\tmean(recent_rewards) = 5.5\n",
      "n_try = 11\taction = 0\treward = 1\tmean(recent_rewards) = 5.090909090909091\n",
      "n_try = 12\taction = 0\treward = 1\tmean(recent_rewards) = 4.75\n",
      "n_try = 13\taction = 0\treward = 1\tmean(recent_rewards) = 4.461538461538462\n",
      "n_try = 14\taction = 1\treward = 10\tmean(recent_rewards) = 4.857142857142857\n",
      "n_try = 15\taction = 1\treward = 10\tmean(recent_rewards) = 5.2\n",
      "n_try = 16\taction = 1\treward = 10\tmean(recent_rewards) = 5.5\n",
      "n_try = 17\taction = 0\treward = 1\tmean(recent_rewards) = 5.235294117647059\n",
      "n_try = 18\taction = 1\treward = 10\tmean(recent_rewards) = 5.5\n",
      "n_try = 19\taction = 0\treward = 1\tmean(recent_rewards) = 5.2631578947368425\n",
      "n_try = 20\taction = 0\treward = 1\tmean(recent_rewards) = 5.05\n",
      "--\n",
      "n_try = 21\taction = 1\treward = 10\tmean(recent_rewards) = 5.05\n",
      "n_try = 22\taction = 1\treward = 10\tmean(recent_rewards) = 5.5\n",
      "n_try = 23\taction = 1\treward = 10\tmean(recent_rewards) = 5.5\n",
      "n_try = 24\taction = 0\treward = 1\tmean(recent_rewards) = 5.05\n",
      "n_try = 25\taction = 1\treward = 10\tmean(recent_rewards) = 5.05\n",
      "n_try = 26\taction = 0\treward = 1\tmean(recent_rewards) = 5.05\n",
      "n_try = 27\taction = 1\treward = 10\tmean(recent_rewards) = 5.5\n",
      "n_try = 28\taction = 1\treward = 10\tmean(recent_rewards) = 5.5\n",
      "n_try = 29\taction = 1\treward = 10\tmean(recent_rewards) = 5.95\n",
      "n_try = 30\taction = 0\treward = 1\tmean(recent_rewards) = 5.95\n",
      "n_try = 31\taction = 0\treward = 1\tmean(recent_rewards) = 5.95\n",
      "n_try = 32\taction = 1\treward = 10\tmean(recent_rewards) = 6.4\n",
      "n_try = 33\taction = 0\treward = 1\tmean(recent_rewards) = 6.4\n",
      "n_try = 34\taction = 1\treward = 10\tmean(recent_rewards) = 6.4\n",
      "n_try = 35\taction = 0\treward = 1\tmean(recent_rewards) = 5.95\n",
      "n_try = 36\taction = 0\treward = 1\tmean(recent_rewards) = 5.5\n",
      "n_try = 37\taction = 0\treward = 1\tmean(recent_rewards) = 5.5\n",
      "n_try = 38\taction = 1\treward = 10\tmean(recent_rewards) = 5.5\n",
      "n_try = 39\taction = 0\treward = 1\tmean(recent_rewards) = 5.5\n",
      "n_try = 40\taction = 0\treward = 1\tmean(recent_rewards) = 5.5\n",
      "n_try = 41\taction = 1\treward = 10\tmean(recent_rewards) = 5.5\n",
      "n_try = 42\taction = 1\treward = 10\tmean(recent_rewards) = 5.5\n",
      "n_try = 43\taction = 1\treward = 10\tmean(recent_rewards) = 5.5\n",
      "n_try = 44\taction = 0\treward = 1\tmean(recent_rewards) = 5.5\n",
      "n_try = 45\taction = 1\treward = 10\tmean(recent_rewards) = 5.5\n",
      "n_try = 46\taction = 0\treward = 1\tmean(recent_rewards) = 5.5\n",
      "n_try = 47\taction = 0\treward = 1\tmean(recent_rewards) = 5.05\n",
      "n_try = 48\taction = 0\treward = 1\tmean(recent_rewards) = 4.6\n",
      "n_try = 49\taction = 0\treward = 1\tmean(recent_rewards) = 4.15\n",
      "n_try = 50\taction = 0\treward = 1\tmean(recent_rewards) = 4.15\n"
     ]
    }
   ],
   "source": [
    "action_space = [0,1] \n",
    "rewards = [] \n",
    "for t in range(1,51): # 10000번을 해도 못깸  \n",
    "    action = np.random.choice(action_space) # 무지한자의 행동 (찍어) \n",
    "    if action == 0: \n",
    "        reward = 1 \n",
    "        rewards.append(reward)\n",
    "    else: \n",
    "        reward = 10\n",
    "        rewards.append(reward)\n",
    "    #--# \n",
    "    print(\n",
    "        f\"n_try = {t}\\t\"\n",
    "        f\"action = {action}\\t\"\n",
    "        f\"reward = {reward}\\t\"\n",
    "        f\"mean(recent_rewards) = {np.mean(rewards[-20:])}\"\n",
    "    )\n",
    "    #--#\n",
    "    if t < 20:\n",
    "        pass\n",
    "    elif t == 20:\n",
    "        print('--')\n",
    "    else:\n",
    "        if np.mean(rewards[-20:]) >= 95:\n",
    "            print('Game Clear')\n",
    "            break "
   ]
  },
  {
   "cell_type": "markdown",
   "id": "e7f2f62e-2057-447e-99da-9ffffd21b510",
   "metadata": {},
   "source": [
    "`-` 원시코드2: 환경을 깨달은 에이전트 -- 게임클리어 "
   ]
  },
  {
   "cell_type": "code",
   "execution_count": 129,
   "id": "a2f7b8d7-ba44-4bc7-987d-bd2660890203",
   "metadata": {
    "tags": []
   },
   "outputs": [
    {
     "name": "stdout",
     "output_type": "stream",
     "text": [
      "n_try = 1\taction = 1\treward = 10\tmean(recent_rewards) = 10.0\n",
      "n_try = 2\taction = 1\treward = 10\tmean(recent_rewards) = 10.0\n",
      "n_try = 3\taction = 1\treward = 10\tmean(recent_rewards) = 10.0\n",
      "n_try = 4\taction = 1\treward = 10\tmean(recent_rewards) = 10.0\n",
      "n_try = 5\taction = 1\treward = 10\tmean(recent_rewards) = 10.0\n",
      "n_try = 6\taction = 1\treward = 10\tmean(recent_rewards) = 10.0\n",
      "n_try = 7\taction = 1\treward = 10\tmean(recent_rewards) = 10.0\n",
      "n_try = 8\taction = 1\treward = 10\tmean(recent_rewards) = 10.0\n",
      "n_try = 9\taction = 1\treward = 10\tmean(recent_rewards) = 10.0\n",
      "n_try = 10\taction = 1\treward = 10\tmean(recent_rewards) = 10.0\n",
      "n_try = 11\taction = 1\treward = 10\tmean(recent_rewards) = 10.0\n",
      "n_try = 12\taction = 1\treward = 10\tmean(recent_rewards) = 10.0\n",
      "n_try = 13\taction = 1\treward = 10\tmean(recent_rewards) = 10.0\n",
      "n_try = 14\taction = 1\treward = 10\tmean(recent_rewards) = 10.0\n",
      "n_try = 15\taction = 1\treward = 10\tmean(recent_rewards) = 10.0\n",
      "n_try = 16\taction = 1\treward = 10\tmean(recent_rewards) = 10.0\n",
      "n_try = 17\taction = 1\treward = 10\tmean(recent_rewards) = 10.0\n",
      "n_try = 18\taction = 1\treward = 10\tmean(recent_rewards) = 10.0\n",
      "n_try = 19\taction = 1\treward = 10\tmean(recent_rewards) = 10.0\n",
      "n_try = 20\taction = 1\treward = 10\tmean(recent_rewards) = 10.0\n",
      "--\n",
      "n_try = 21\taction = 1\treward = 10\tmean(recent_rewards) = 10.0\n",
      "Game Clear\n"
     ]
    }
   ],
   "source": [
    "action_space = [0,1]\n",
    "rewards = [] \n",
    "for t in range(1,51): \n",
    "    #action = np.random.choice(action_space) # 무지한자의 행동 (찍어) \n",
    "    action = 1 # 환경을 이해한 에이전트의 행동\n",
    "    if action == 0: \n",
    "        reward = 1 \n",
    "        rewards.append(reward)\n",
    "    else: \n",
    "        reward = 10\n",
    "        rewards.append(reward)\n",
    "    #--# \n",
    "    print(\n",
    "        f\"n_try = {t}\\t\"\n",
    "        f\"action = {action}\\t\"\n",
    "        f\"reward = {reward}\\t\"\n",
    "        f\"mean(recent_rewards) = {np.mean(rewards[-20:])}\"\n",
    "    )\n",
    "    #--#\n",
    "    if t < 20:\n",
    "        pass\n",
    "    elif t == 20:\n",
    "        print('--')\n",
    "    else:\n",
    "        if np.mean(rewards[-20:]) >= 9.5:\n",
    "            print('Game Clear')\n",
    "            break "
   ]
  },
  {
   "cell_type": "markdown",
   "id": "3fd4cff1-c6d8-4ae2-b8c0-8fb1422485f0",
   "metadata": {},
   "source": [
    "## B. 수정1: `Env` 구현 "
   ]
  },
  {
   "cell_type": "markdown",
   "id": "eaf810ba-a4dc-407f-93c6-54d9784b5109",
   "metadata": {},
   "source": [
    "`-` `Bandit` 클래스 선언 + `.step()` 구현 "
   ]
  },
  {
   "cell_type": "code",
   "execution_count": 130,
   "id": "c6091a16-b766-4546-aa94-877ed2653c52",
   "metadata": {
    "tags": []
   },
   "outputs": [],
   "source": [
    "class Bandit: \n",
    "    def step(self, action):\n",
    "        if action == 0:\n",
    "            return 1 \n",
    "        else: \n",
    "            return 10"
   ]
  },
  {
   "cell_type": "code",
   "execution_count": 135,
   "id": "28fb2c07-c995-4270-8f44-352b16fa9ca0",
   "metadata": {
    "tags": []
   },
   "outputs": [
    {
     "name": "stdout",
     "output_type": "stream",
     "text": [
      "n_try = 1\taction = 0\treward = 1\tmean(recent_rewards) = 1.0\n",
      "n_try = 2\taction = 0\treward = 1\tmean(recent_rewards) = 1.0\n",
      "n_try = 3\taction = 0\treward = 1\tmean(recent_rewards) = 1.0\n",
      "n_try = 4\taction = 0\treward = 1\tmean(recent_rewards) = 1.0\n",
      "n_try = 5\taction = 1\treward = 10\tmean(recent_rewards) = 2.8\n",
      "n_try = 6\taction = 1\treward = 10\tmean(recent_rewards) = 4.0\n",
      "n_try = 7\taction = 0\treward = 1\tmean(recent_rewards) = 3.5714285714285716\n",
      "n_try = 8\taction = 0\treward = 1\tmean(recent_rewards) = 3.25\n",
      "n_try = 9\taction = 1\treward = 10\tmean(recent_rewards) = 4.0\n",
      "n_try = 10\taction = 1\treward = 10\tmean(recent_rewards) = 4.6\n",
      "n_try = 11\taction = 1\treward = 10\tmean(recent_rewards) = 5.090909090909091\n",
      "n_try = 12\taction = 1\treward = 10\tmean(recent_rewards) = 5.5\n",
      "n_try = 13\taction = 1\treward = 10\tmean(recent_rewards) = 5.846153846153846\n",
      "n_try = 14\taction = 0\treward = 1\tmean(recent_rewards) = 5.5\n",
      "n_try = 15\taction = 0\treward = 1\tmean(recent_rewards) = 5.2\n",
      "n_try = 16\taction = 0\treward = 1\tmean(recent_rewards) = 4.9375\n",
      "n_try = 17\taction = 1\treward = 10\tmean(recent_rewards) = 5.235294117647059\n",
      "n_try = 18\taction = 0\treward = 1\tmean(recent_rewards) = 5.0\n",
      "n_try = 19\taction = 0\treward = 1\tmean(recent_rewards) = 4.7894736842105265\n",
      "n_try = 20\taction = 1\treward = 10\tmean(recent_rewards) = 5.05\n",
      "---\n",
      "n_try = 21\taction = 1\treward = 10\tmean(recent_rewards) = 5.5\n",
      "n_try = 22\taction = 0\treward = 1\tmean(recent_rewards) = 5.5\n",
      "n_try = 23\taction = 1\treward = 10\tmean(recent_rewards) = 5.95\n",
      "n_try = 24\taction = 1\treward = 10\tmean(recent_rewards) = 6.4\n",
      "n_try = 25\taction = 0\treward = 1\tmean(recent_rewards) = 5.95\n",
      "n_try = 26\taction = 0\treward = 1\tmean(recent_rewards) = 5.5\n",
      "n_try = 27\taction = 0\treward = 1\tmean(recent_rewards) = 5.5\n",
      "n_try = 28\taction = 0\treward = 1\tmean(recent_rewards) = 5.5\n",
      "n_try = 29\taction = 1\treward = 10\tmean(recent_rewards) = 5.5\n",
      "n_try = 30\taction = 1\treward = 10\tmean(recent_rewards) = 5.5\n",
      "n_try = 31\taction = 0\treward = 1\tmean(recent_rewards) = 5.05\n",
      "n_try = 32\taction = 0\treward = 1\tmean(recent_rewards) = 4.6\n",
      "n_try = 33\taction = 0\treward = 1\tmean(recent_rewards) = 4.15\n",
      "n_try = 34\taction = 0\treward = 1\tmean(recent_rewards) = 4.15\n",
      "n_try = 35\taction = 1\treward = 10\tmean(recent_rewards) = 4.6\n",
      "n_try = 36\taction = 0\treward = 1\tmean(recent_rewards) = 4.6\n",
      "n_try = 37\taction = 1\treward = 10\tmean(recent_rewards) = 4.6\n",
      "n_try = 38\taction = 0\treward = 1\tmean(recent_rewards) = 4.6\n",
      "n_try = 39\taction = 0\treward = 1\tmean(recent_rewards) = 4.6\n",
      "n_try = 40\taction = 0\treward = 1\tmean(recent_rewards) = 4.15\n",
      "n_try = 41\taction = 1\treward = 10\tmean(recent_rewards) = 4.15\n",
      "n_try = 42\taction = 0\treward = 1\tmean(recent_rewards) = 4.15\n",
      "n_try = 43\taction = 1\treward = 10\tmean(recent_rewards) = 4.15\n",
      "n_try = 44\taction = 0\treward = 1\tmean(recent_rewards) = 3.7\n",
      "n_try = 45\taction = 0\treward = 1\tmean(recent_rewards) = 3.7\n",
      "n_try = 46\taction = 1\treward = 10\tmean(recent_rewards) = 4.15\n",
      "n_try = 47\taction = 0\treward = 1\tmean(recent_rewards) = 4.15\n",
      "n_try = 48\taction = 0\treward = 1\tmean(recent_rewards) = 4.15\n",
      "n_try = 49\taction = 1\treward = 10\tmean(recent_rewards) = 4.15\n",
      "n_try = 50\taction = 0\treward = 1\tmean(recent_rewards) = 3.7\n"
     ]
    }
   ],
   "source": [
    "action_space = [0,1]\n",
    "env = Bandit()\n",
    "rewards = []\n",
    "for t in range(1,51): \n",
    "    action = np.random.choice(action_space)\n",
    "    #action = 1\n",
    "    reward = env.step(action)\n",
    "    rewards.append(reward)\n",
    "    #--# \n",
    "    print(\n",
    "        f\"n_try = {t}\\t\"\n",
    "        f\"action = {action}\\t\"\n",
    "        f\"reward = {reward}\\t\"\n",
    "        f\"mean(recent_rewards) = {np.mean(rewards[-20:])}\"\n",
    "    )\n",
    "    #--#\n",
    "    if t < 20:\n",
    "        pass\n",
    "    elif t == 20:\n",
    "        print(\"---\")\n",
    "    else:\n",
    "        if np.mean(rewards[-20:]) >= 9.5:\n",
    "            print(\"Game Clear\")\n",
    "            break  "
   ]
  },
  {
   "cell_type": "markdown",
   "id": "124b10aa-1577-4438-8878-d93414e0592b",
   "metadata": {},
   "source": [
    "## C. 수정2: `Agent` 구현 (인간지능)"
   ]
  },
  {
   "cell_type": "markdown",
   "id": "d10343b7-fb36-479e-aca1-61a94cc045e9",
   "metadata": {},
   "source": [
    "`-` Agent 클래스 설계\n",
    "\n",
    "- 액션을 하고, 본인의 행동과 환경에서 받은 reward를 기억 \n",
    "- `.act()`함수와 `.save_experience()`함수 구현 "
   ]
  },
  {
   "cell_type": "code",
   "execution_count": 136,
   "id": "0e5d87ae-8fe3-417d-848a-f49786c2b2ed",
   "metadata": {
    "tags": []
   },
   "outputs": [],
   "source": [
    "class Agent:\n",
    "    def __init__(self):\n",
    "        self.action_space = [0,1]\n",
    "        self.action = None \n",
    "        self.reward = None \n",
    "        self.actions = [] \n",
    "        self.rewards = []\n",
    "    def act(self):\n",
    "        self.action = np.random.choice(self.action_space) # 무지한자 \n",
    "        #self.action = 1 # 깨달은 자\n",
    "    def save_experience(self):\n",
    "        self.actions.append(self.action)\n",
    "        self.rewards.append(self.reward)"
   ]
  },
  {
   "cell_type": "markdown",
   "id": "a993f656-12f6-47a3-bc8c-b3e15d147c45",
   "metadata": {},
   "source": [
    "--- 대충 아래와 같은 느낌으로 코드가 돌아가요 ---"
   ]
  },
  {
   "cell_type": "markdown",
   "id": "3ea9c806-87eb-4892-b38c-8c7229ad7ee6",
   "metadata": {},
   "source": [
    "**시점0**: init "
   ]
  },
  {
   "cell_type": "code",
   "execution_count": 137,
   "id": "6ee01a47-2ecc-41c9-9344-419f06f89d09",
   "metadata": {
    "tags": []
   },
   "outputs": [],
   "source": [
    "env = Bandit()\n",
    "agent = Agent() "
   ]
  },
  {
   "cell_type": "code",
   "execution_count": 138,
   "id": "43397ed8-1846-4db8-85e5-feab67bb12f1",
   "metadata": {
    "tags": []
   },
   "outputs": [
    {
     "data": {
      "text/plain": [
       "(None, None)"
      ]
     },
     "execution_count": 138,
     "metadata": {},
     "output_type": "execute_result"
    }
   ],
   "source": [
    "agent.action, agent.reward"
   ]
  },
  {
   "cell_type": "markdown",
   "id": "75799c0a-2ee2-4229-8ee3-6d259c430355",
   "metadata": {},
   "source": [
    "**시점1**: agent가 actoin을 선택"
   ]
  },
  {
   "cell_type": "code",
   "execution_count": 139,
   "id": "94b910e3-9d0d-4e32-bfe4-1ea5bc7a537b",
   "metadata": {
    "tags": []
   },
   "outputs": [],
   "source": [
    "agent.act()"
   ]
  },
  {
   "cell_type": "code",
   "execution_count": 140,
   "id": "88ca0c67-6c67-461b-adad-5781c23e366a",
   "metadata": {
    "tags": []
   },
   "outputs": [
    {
     "data": {
      "text/plain": [
       "(1, None)"
      ]
     },
     "execution_count": 140,
     "metadata": {},
     "output_type": "execute_result"
    }
   ],
   "source": [
    "agent.action, agent.reward"
   ]
  },
  {
   "cell_type": "markdown",
   "id": "32765dfd-7627-4fca-b565-a290855b1991",
   "metadata": {},
   "source": [
    "**시점2**: env가 agent에게 보상을 줌"
   ]
  },
  {
   "cell_type": "code",
   "execution_count": 142,
   "id": "0c06f08a-96f0-454f-bb0e-76f3b80650a0",
   "metadata": {
    "tags": []
   },
   "outputs": [],
   "source": [
    "agent.reward = env.step(agent.action)"
   ]
  },
  {
   "cell_type": "code",
   "execution_count": 143,
   "id": "92121832-fc74-40ca-885b-1b7ebbc0b2ef",
   "metadata": {
    "tags": []
   },
   "outputs": [
    {
     "data": {
      "text/plain": [
       "(1, 10, 1)"
      ]
     },
     "execution_count": 143,
     "metadata": {},
     "output_type": "execute_result"
    }
   ],
   "source": [
    "agent.action, agent.reward"
   ]
  },
  {
   "cell_type": "code",
   "execution_count": 144,
   "id": "5de5658f-352b-4080-a452-c7b9ceb32181",
   "metadata": {
    "tags": []
   },
   "outputs": [
    {
     "data": {
      "text/plain": [
       "([], [])"
      ]
     },
     "execution_count": 144,
     "metadata": {},
     "output_type": "execute_result"
    }
   ],
   "source": [
    "agent.actions,agent.rewards"
   ]
  },
  {
   "cell_type": "markdown",
   "id": "2a322072-6c68-4236-a477-83f958aa63a5",
   "metadata": {},
   "source": [
    "**시점3**: 경험을 저장"
   ]
  },
  {
   "cell_type": "code",
   "execution_count": 145,
   "id": "5e3ea513-38ff-42a0-b298-c2b17347e30c",
   "metadata": {
    "tags": []
   },
   "outputs": [],
   "source": [
    "agent.save_experience()"
   ]
  },
  {
   "cell_type": "code",
   "execution_count": 146,
   "id": "89f2ead3-14ff-4db7-91b7-e7444900a2ae",
   "metadata": {
    "tags": []
   },
   "outputs": [
    {
     "data": {
      "text/plain": [
       "([1], [10])"
      ]
     },
     "execution_count": 146,
     "metadata": {},
     "output_type": "execute_result"
    }
   ],
   "source": [
    "agent.actions,agent.rewards"
   ]
  },
  {
   "cell_type": "markdown",
   "id": "5ae975d1-5725-41f0-b063-3d57fb6f91df",
   "metadata": {},
   "source": [
    "-- 전체코드 -- "
   ]
  },
  {
   "cell_type": "code",
   "execution_count": 151,
   "id": "94d5f2d2-b38f-472c-97b1-a64c58f68455",
   "metadata": {
    "tags": []
   },
   "outputs": [
    {
     "name": "stdout",
     "output_type": "stream",
     "text": [
      "n_try = 1\taction = 0\treward = 1\tmean(recent_rewards) = 1.0\n",
      "n_try = 2\taction = 1\treward = 10\tmean(recent_rewards) = 5.5\n",
      "n_try = 3\taction = 0\treward = 1\tmean(recent_rewards) = 4.0\n",
      "n_try = 4\taction = 1\treward = 10\tmean(recent_rewards) = 5.5\n",
      "n_try = 5\taction = 0\treward = 1\tmean(recent_rewards) = 4.6\n",
      "n_try = 6\taction = 1\treward = 10\tmean(recent_rewards) = 5.5\n",
      "n_try = 7\taction = 1\treward = 10\tmean(recent_rewards) = 6.142857142857143\n",
      "n_try = 8\taction = 1\treward = 10\tmean(recent_rewards) = 6.625\n",
      "n_try = 9\taction = 1\treward = 10\tmean(recent_rewards) = 7.0\n",
      "n_try = 10\taction = 1\treward = 10\tmean(recent_rewards) = 7.3\n",
      "n_try = 11\taction = 0\treward = 1\tmean(recent_rewards) = 6.7272727272727275\n",
      "n_try = 12\taction = 0\treward = 1\tmean(recent_rewards) = 6.25\n",
      "n_try = 13\taction = 1\treward = 10\tmean(recent_rewards) = 6.538461538461538\n",
      "n_try = 14\taction = 0\treward = 1\tmean(recent_rewards) = 6.142857142857143\n",
      "n_try = 15\taction = 0\treward = 1\tmean(recent_rewards) = 5.8\n",
      "n_try = 16\taction = 0\treward = 1\tmean(recent_rewards) = 5.5\n",
      "n_try = 17\taction = 0\treward = 1\tmean(recent_rewards) = 5.235294117647059\n",
      "n_try = 18\taction = 0\treward = 1\tmean(recent_rewards) = 5.0\n",
      "n_try = 19\taction = 1\treward = 10\tmean(recent_rewards) = 5.2631578947368425\n",
      "n_try = 20\taction = 1\treward = 10\tmean(recent_rewards) = 5.5\n",
      "n_try = 21\taction = 0\treward = 1\tmean(recent_rewards) = 5.5\n",
      "n_try = 22\taction = 1\treward = 10\tmean(recent_rewards) = 5.5\n",
      "n_try = 23\taction = 1\treward = 10\tmean(recent_rewards) = 5.95\n",
      "n_try = 24\taction = 0\treward = 1\tmean(recent_rewards) = 5.5\n",
      "n_try = 25\taction = 1\treward = 10\tmean(recent_rewards) = 5.95\n",
      "n_try = 26\taction = 1\treward = 10\tmean(recent_rewards) = 5.95\n",
      "n_try = 27\taction = 0\treward = 1\tmean(recent_rewards) = 5.5\n",
      "n_try = 28\taction = 0\treward = 1\tmean(recent_rewards) = 5.05\n",
      "n_try = 29\taction = 0\treward = 1\tmean(recent_rewards) = 4.6\n",
      "n_try = 30\taction = 1\treward = 10\tmean(recent_rewards) = 4.6\n",
      "n_try = 31\taction = 0\treward = 1\tmean(recent_rewards) = 4.6\n",
      "n_try = 32\taction = 1\treward = 10\tmean(recent_rewards) = 5.05\n",
      "n_try = 33\taction = 1\treward = 10\tmean(recent_rewards) = 5.05\n",
      "n_try = 34\taction = 1\treward = 10\tmean(recent_rewards) = 5.5\n",
      "n_try = 35\taction = 0\treward = 1\tmean(recent_rewards) = 5.5\n",
      "n_try = 36\taction = 0\treward = 1\tmean(recent_rewards) = 5.5\n",
      "n_try = 37\taction = 1\treward = 10\tmean(recent_rewards) = 5.95\n",
      "n_try = 38\taction = 1\treward = 10\tmean(recent_rewards) = 6.4\n",
      "n_try = 39\taction = 1\treward = 10\tmean(recent_rewards) = 6.4\n",
      "n_try = 40\taction = 1\treward = 10\tmean(recent_rewards) = 6.4\n",
      "n_try = 41\taction = 1\treward = 10\tmean(recent_rewards) = 6.85\n",
      "n_try = 42\taction = 1\treward = 10\tmean(recent_rewards) = 6.85\n",
      "n_try = 43\taction = 1\treward = 10\tmean(recent_rewards) = 6.85\n",
      "n_try = 44\taction = 1\treward = 10\tmean(recent_rewards) = 7.3\n",
      "n_try = 45\taction = 0\treward = 1\tmean(recent_rewards) = 6.85\n",
      "n_try = 46\taction = 0\treward = 1\tmean(recent_rewards) = 6.4\n",
      "n_try = 47\taction = 0\treward = 1\tmean(recent_rewards) = 6.4\n",
      "n_try = 48\taction = 0\treward = 1\tmean(recent_rewards) = 6.4\n",
      "n_try = 49\taction = 0\treward = 1\tmean(recent_rewards) = 6.4\n",
      "n_try = 50\taction = 1\treward = 10\tmean(recent_rewards) = 6.4\n"
     ]
    }
   ],
   "source": [
    "env = Bandit() \n",
    "agent = Agent()\n",
    "for t in range(1,51): \n",
    "    # step1: 행동\n",
    "    agent.act() \n",
    "    # step2: 보상\n",
    "    agent.reward = env.step(agent.action)\n",
    "    # step3: 저장 \n",
    "    agent.save_experience()  \n",
    "    #--# \n",
    "    print(\n",
    "        f\"n_try = {t}\\t\"\n",
    "        f\"action = {agent.action}\\t\"\n",
    "        f\"reward = {agent.reward}\\t\"\n",
    "        f\"mean(recent_rewards) = {np.mean(agent.rewards[-20:])}\"\n",
    "    )\n",
    "    #--#\n",
    "    if t < 20:\n",
    "        pass\n",
    "    else:\n",
    "        if np.mean(agent.rewards[-20:]) >= 9.5:\n",
    "            print(\"Game Clear\")\n",
    "            break  "
   ]
  },
  {
   "cell_type": "markdown",
   "id": "9b17361b-9b5c-461a-b6a3-574c8e1c904b",
   "metadata": {},
   "source": [
    "## D. 수정3: `Agent` 구현 (인공지능)"
   ]
  },
  {
   "cell_type": "markdown",
   "id": "77e84973-7e84-44f0-b0c0-a86889a39205",
   "metadata": {},
   "source": [
    "`-` 지금까지 풀이의 한계\n",
    "\n",
    "- 사실 강화학습은 \"환경을 이해 $\\to$ 행동을 결정\" 의 과정에서 \"$\\to$\"의 과정을 수식화 한 것이다.\n",
    "- 그런데 지금까지 했던 코드는 환경(environment)를 이해하는 순간 에이전트(agent)가 최적의 행동(action)^[`버튼1`을 누른다]을 **\"직관적으로\"** 결정하였으므로 기계가 스스로 학습을 했다고 볼 수 없다. "
   ]
  },
  {
   "cell_type": "markdown",
   "id": "369c83bb-8afd-44ef-875c-972a8019934d",
   "metadata": {},
   "source": [
    "`-` 에이전트가 데이터를 보고 스스로 학습할 수 있도록 설계 -- 부제: `agent.learn()`을 설계하자. "
   ]
  },
  {
   "cell_type": "markdown",
   "id": "a6a98672-9ef6-4625-b108-3f19e53d3821",
   "metadata": {},
   "source": [
    "1. 데이터를 모아서 `q_table` 를 만든다. `q_table`은 아래와 같은 내용을 포함한다. \n",
    "\n",
    "|행동|보상(추정값)|\n",
    "|:--:|:--:|\n",
    "|버튼0 ($=a_0$)|1 ($=q_0$)|\n",
    "|버튼1 ($=a_1$)|100 ($=q_1$)|"
   ]
  },
  {
   "cell_type": "markdown",
   "id": "0e8bed72-386d-47e9-b7ac-caced2e56eb7",
   "metadata": {},
   "source": [
    "2. `q_table`을 바탕으로 적절한 정책(=`policy`)을 설정한다. \n",
    "\n",
    "- 이 예제에서는 버튼0과 버튼1을 각각 $\\big(\\frac{q_0}{q_0+q_1},\\frac{q_1}{q_0+q_1}\\big)$ 의 확률로 선택하는 \"정책\"을 이용하면 충분할 듯 "
   ]
  },
  {
   "cell_type": "markdown",
   "id": "3acdd922-7ab3-42d2-8efc-b923bc581d5f",
   "metadata": {},
   "source": [
    "> 여기에서 `q_table`, `policy`라는 용어를 기억하세요."
   ]
  },
  {
   "cell_type": "markdown",
   "id": "52f8fb01-71c0-47f6-9484-eea924f03ccf",
   "metadata": {},
   "source": [
    "`-` `q_table`을 계산하는 코드 예시"
   ]
  },
  {
   "cell_type": "code",
   "execution_count": 96,
   "id": "f725954b-d1fa-47e9-ab79-46ec3a53eef2",
   "metadata": {
    "tags": []
   },
   "outputs": [],
   "source": [
    "agent.actions = [0, 1, 1,  0, 1,   0, 0] \n",
    "agent.rewards = [1, 9, 10, 1, 9.5, 1, 1.2] \n",
    "actions = np.array(agent.actions)\n",
    "rewards = np.array(agent.rewards)"
   ]
  },
  {
   "cell_type": "code",
   "execution_count": 97,
   "id": "2ca4712f-f522-431c-b71d-816820b5f6b2",
   "metadata": {
    "tags": []
   },
   "outputs": [],
   "source": [
    "q0 = rewards[actions == 0].mean()\n",
    "q1 = rewards[actions == 1].mean()"
   ]
  },
  {
   "cell_type": "code",
   "execution_count": 98,
   "id": "0f400b80-ff55-4b0c-bb7c-6bf4eded24f6",
   "metadata": {
    "tags": []
   },
   "outputs": [
    {
     "data": {
      "text/plain": [
       "array([1.05, 9.5 ])"
      ]
     },
     "execution_count": 98,
     "metadata": {},
     "output_type": "execute_result"
    }
   ],
   "source": [
    "agent.q = np.array([q0,q1]) \n",
    "agent.q"
   ]
  },
  {
   "cell_type": "code",
   "execution_count": 99,
   "id": "3d52e620-b8ed-42de-a1a1-7d5961ccbccb",
   "metadata": {
    "tags": []
   },
   "outputs": [
    {
     "data": {
      "text/plain": [
       "array([0.09952607, 0.90047393])"
      ]
     },
     "execution_count": 99,
     "metadata": {},
     "output_type": "execute_result"
    }
   ],
   "source": [
    "prob = agent.q / agent.q.sum()\n",
    "prob "
   ]
  },
  {
   "cell_type": "code",
   "execution_count": 100,
   "id": "3ef3f7fe-29a4-473b-bfac-3bb00c45b045",
   "metadata": {
    "tags": []
   },
   "outputs": [
    {
     "data": {
      "text/plain": [
       "1"
      ]
     },
     "execution_count": 100,
     "metadata": {},
     "output_type": "execute_result"
    }
   ],
   "source": [
    "action = np.random.choice([0,1], p= prob)\n",
    "action"
   ]
  },
  {
   "cell_type": "markdown",
   "id": "8209e84e-49e3-47c1-939d-f0ab723b33cf",
   "metadata": {},
   "source": [
    "`-` 최종코드정리 "
   ]
  },
  {
   "cell_type": "code",
   "execution_count": 101,
   "id": "a218caa5-b032-4e57-ab22-cca6b2c8ab02",
   "metadata": {
    "tags": []
   },
   "outputs": [],
   "source": [
    "class Bandit: \n",
    "    def step(self, action):\n",
    "        if action == 0:\n",
    "            return 1 \n",
    "        else: \n",
    "            return 10\n",
    "class Agent:\n",
    "    def __init__(self):\n",
    "        self.action_space = [0,1]\n",
    "        self.action = None \n",
    "        self.reward = None \n",
    "        self.actions = [] \n",
    "        self.rewards = []\n",
    "        self.q_table = np.array([0,0]) \n",
    "        self.n_experience = 0 \n",
    "    def act(self):\n",
    "        if self.n_experience < 20: \n",
    "            self.action = np.random.choice(self.action_space)\n",
    "        else: \n",
    "            prob = self.q_table / self.q_table.sum()\n",
    "            self.action = np.random.choice(self.action_space, p= prob)\n",
    "    def save_experience(self):\n",
    "        self.actions.append(self.action)\n",
    "        self.rewards.append(self.reward)\n",
    "        self.n_experience += 1 \n",
    "    def learn(self):\n",
    "        if self.n_experience<20: \n",
    "            pass \n",
    "        else: \n",
    "            actions = np.array(self.actions)\n",
    "            rewards = np.array(self.rewards)\n",
    "            q0 = rewards[actions == 0].mean()\n",
    "            q1 = rewards[actions == 1].mean()\n",
    "            self.q_table = np.array([q0,q1]) "
   ]
  },
  {
   "cell_type": "code",
   "execution_count": 105,
   "id": "23269b00-b8b6-4e57-89b2-963594874899",
   "metadata": {
    "tags": []
   },
   "outputs": [
    {
     "name": "stdout",
     "output_type": "stream",
     "text": [
      "n_try = 1\taction = 0\treward = 1\tmean(recent_rewards) = 1.0\n",
      "n_try = 2\taction = 0\treward = 1\tmean(recent_rewards) = 1.0\n",
      "n_try = 3\taction = 1\treward = 10\tmean(recent_rewards) = 4.0\n",
      "n_try = 4\taction = 0\treward = 1\tmean(recent_rewards) = 3.25\n",
      "n_try = 5\taction = 1\treward = 10\tmean(recent_rewards) = 4.6\n",
      "n_try = 6\taction = 0\treward = 1\tmean(recent_rewards) = 4.0\n",
      "n_try = 7\taction = 0\treward = 1\tmean(recent_rewards) = 3.5714285714285716\n",
      "n_try = 8\taction = 0\treward = 1\tmean(recent_rewards) = 3.25\n",
      "n_try = 9\taction = 0\treward = 1\tmean(recent_rewards) = 3.0\n",
      "n_try = 10\taction = 0\treward = 1\tmean(recent_rewards) = 2.8\n",
      "n_try = 11\taction = 0\treward = 1\tmean(recent_rewards) = 2.6363636363636362\n",
      "n_try = 12\taction = 0\treward = 1\tmean(recent_rewards) = 2.5\n",
      "n_try = 13\taction = 0\treward = 1\tmean(recent_rewards) = 2.3846153846153846\n",
      "n_try = 14\taction = 0\treward = 1\tmean(recent_rewards) = 2.2857142857142856\n",
      "n_try = 15\taction = 1\treward = 10\tmean(recent_rewards) = 2.8\n",
      "n_try = 16\taction = 0\treward = 1\tmean(recent_rewards) = 2.6875\n",
      "n_try = 17\taction = 0\treward = 1\tmean(recent_rewards) = 2.588235294117647\n",
      "n_try = 18\taction = 1\treward = 10\tmean(recent_rewards) = 3.0\n",
      "n_try = 19\taction = 0\treward = 1\tmean(recent_rewards) = 2.8947368421052633\n",
      "n_try = 20\taction = 0\treward = 1\tmean(recent_rewards) = 2.8\n",
      "n_try = 21\taction = 1\treward = 10\tmean(recent_rewards) = 3.25\n",
      "n_try = 22\taction = 1\treward = 10\tmean(recent_rewards) = 3.7\n",
      "n_try = 23\taction = 1\treward = 10\tmean(recent_rewards) = 3.7\n",
      "n_try = 24\taction = 1\treward = 10\tmean(recent_rewards) = 4.15\n",
      "n_try = 25\taction = 1\treward = 10\tmean(recent_rewards) = 4.15\n",
      "n_try = 26\taction = 1\treward = 10\tmean(recent_rewards) = 4.6\n",
      "n_try = 27\taction = 1\treward = 10\tmean(recent_rewards) = 5.05\n",
      "n_try = 28\taction = 1\treward = 10\tmean(recent_rewards) = 5.5\n",
      "n_try = 29\taction = 1\treward = 10\tmean(recent_rewards) = 5.95\n",
      "n_try = 30\taction = 1\treward = 10\tmean(recent_rewards) = 6.4\n",
      "n_try = 31\taction = 1\treward = 10\tmean(recent_rewards) = 6.85\n",
      "n_try = 32\taction = 1\treward = 10\tmean(recent_rewards) = 7.3\n",
      "n_try = 33\taction = 1\treward = 10\tmean(recent_rewards) = 7.75\n",
      "n_try = 34\taction = 1\treward = 10\tmean(recent_rewards) = 8.2\n",
      "n_try = 35\taction = 1\treward = 10\tmean(recent_rewards) = 8.2\n",
      "n_try = 36\taction = 1\treward = 10\tmean(recent_rewards) = 8.65\n",
      "n_try = 37\taction = 0\treward = 1\tmean(recent_rewards) = 8.65\n",
      "n_try = 38\taction = 1\treward = 10\tmean(recent_rewards) = 8.65\n",
      "n_try = 39\taction = 1\treward = 10\tmean(recent_rewards) = 9.1\n",
      "n_try = 40\taction = 1\treward = 10\tmean(recent_rewards) = 9.55\n",
      "Game Clear\n"
     ]
    }
   ],
   "source": [
    "env = Bandit() \n",
    "agent = Agent()\n",
    "for t in range(50): \n",
    "    ## 1. main 코드 \n",
    "    # step1: 행동\n",
    "    agent.act() \n",
    "    # step2: 보상\n",
    "    agent.reward = env.step(agent.action)\n",
    "    # step3: 저장 & 학습\n",
    "    agent.learn()\n",
    "    agent.save_experience()     \n",
    "    #--# \n",
    "    print(\n",
    "        f\"n_try = {t+1}\\t\"\n",
    "        f\"action = {agent.action}\\t\"\n",
    "        f\"reward = {agent.reward}\\t\"\n",
    "        f\"mean(recent_rewards) = {np.mean(agent.rewards[-20:])}\"\n",
    "    )\n",
    "    #--#\n",
    "    if t < 20:\n",
    "        pass\n",
    "    else:\n",
    "        if np.mean(agent.rewards[-20:]) >= 9.5:\n",
    "            print(\"Game Clear\")\n",
    "            break  "
   ]
  }
 ],
 "metadata": {
  "kernelspec": {
   "display_name": "Python 3 (ipykernel)",
   "language": "python",
   "name": "python3"
  },
  "language_info": {
   "codemirror_mode": {
    "name": "ipython",
    "version": 3
   },
   "file_extension": ".py",
   "mimetype": "text/x-python",
   "name": "python",
   "nbconvert_exporter": "python",
   "pygments_lexer": "ipython3",
   "version": "3.11.8"
  }
 },
 "nbformat": 4,
 "nbformat_minor": 5
}
