{
 "cells": [
  {
   "cell_type": "raw",
   "id": "d8117487-32f0-4b29-b2f5-23c095a03708",
   "metadata": {
    "tags": []
   },
   "source": [
    "---\n",
    "title: \"12wk-1: 순환신경망 (2) -- RNN\"\n",
    "author: \"최규빈\"\n",
    "date: \"05/15/2024\"\n",
    "---"
   ]
  },
  {
   "cell_type": "markdown",
   "id": "96424407-aacc-4b93-aebf-6d405fcd9089",
   "metadata": {
    "id": "e67ab8e0"
   },
   "source": [
    "<a href=\"https://colab.research.google.com/github/guebin/DL2024/blob/main/posts/12wk-1.ipynb\"><img src=\"https://colab.research.google.com/assets/colab-badge.svg\" style=\"text-align: left\"></a>"
   ]
  },
  {
   "cell_type": "markdown",
   "id": "b2d94b2c-7a81-4095-afcc-a9524882680f",
   "metadata": {},
   "source": [
    "# 1. 강의영상 "
   ]
  },
  {
   "cell_type": "code",
   "execution_count": 1,
   "id": "5438ffc0-e158-4c22-9e4b-f759b5af2f75",
   "metadata": {
    "tags": []
   },
   "outputs": [],
   "source": [
    "# {{<video https://youtu.be/playlist?list=PLQqh36zP38-yrZ4HbNgYDmklcumxJHSOp&si=XO2ZBUtY_m1mSFvX >}}"
   ]
  },
  {
   "cell_type": "markdown",
   "id": "ea83c1bd-e306-4b85-976a-b056d96282a2",
   "metadata": {
    "tags": []
   },
   "source": [
    "# 2. Import"
   ]
  },
  {
   "cell_type": "code",
   "execution_count": 2,
   "id": "97a51172-4f15-4481-95c2-0c3afdb59b0d",
   "metadata": {
    "tags": []
   },
   "outputs": [],
   "source": [
    "import torch\n",
    "import pandas as pd\n",
    "import matplotlib.pyplot as plt"
   ]
  },
  {
   "cell_type": "code",
   "execution_count": 3,
   "id": "5b49b5ec-8728-462e-867a-5e8698c7934a",
   "metadata": {
    "tags": []
   },
   "outputs": [],
   "source": [
    "soft = torch.nn.Softmax(dim=1)"
   ]
  },
  {
   "cell_type": "markdown",
   "id": "d26ff2f5-4b04-4747-ae91-3d2b1333387d",
   "metadata": {},
   "source": [
    "# 3. AbAcAd -- 실패"
   ]
  },
  {
   "cell_type": "markdown",
   "id": "8f595506-94f1-49e7-b9d6-7e81dc36e1a3",
   "metadata": {},
   "source": [
    "## A. Data"
   ]
  },
  {
   "cell_type": "markdown",
   "id": "2bb7a81d-fe25-45b6-b396-608744701d7d",
   "metadata": {},
   "source": [
    "`-` 데이터 정리 "
   ]
  },
  {
   "cell_type": "code",
   "execution_count": 4,
   "id": "5cb99a8b-a460-42b8-9a01-17358722e316",
   "metadata": {
    "tags": []
   },
   "outputs": [
    {
     "data": {
      "text/plain": [
       "['A', 'b', 'A', 'c', 'A', 'd', 'A', 'b', 'A', 'c']"
      ]
     },
     "execution_count": 4,
     "metadata": {},
     "output_type": "execute_result"
    }
   ],
   "source": [
    "txt = list('AbAcAd'*50)\n",
    "txt[:10]"
   ]
  },
  {
   "cell_type": "code",
   "execution_count": 5,
   "id": "88500bd3-a944-44ab-96e7-2cdd39ef0dee",
   "metadata": {
    "tags": []
   },
   "outputs": [
    {
     "data": {
      "text/html": [
       "<div>\n",
       "<style scoped>\n",
       "    .dataframe tbody tr th:only-of-type {\n",
       "        vertical-align: middle;\n",
       "    }\n",
       "\n",
       "    .dataframe tbody tr th {\n",
       "        vertical-align: top;\n",
       "    }\n",
       "\n",
       "    .dataframe thead th {\n",
       "        text-align: right;\n",
       "    }\n",
       "</style>\n",
       "<table border=\"1\" class=\"dataframe\">\n",
       "  <thead>\n",
       "    <tr style=\"text-align: right;\">\n",
       "      <th></th>\n",
       "      <th>x</th>\n",
       "      <th>y</th>\n",
       "    </tr>\n",
       "  </thead>\n",
       "  <tbody>\n",
       "    <tr>\n",
       "      <th>0</th>\n",
       "      <td>A</td>\n",
       "      <td>b</td>\n",
       "    </tr>\n",
       "    <tr>\n",
       "      <th>1</th>\n",
       "      <td>b</td>\n",
       "      <td>A</td>\n",
       "    </tr>\n",
       "    <tr>\n",
       "      <th>2</th>\n",
       "      <td>A</td>\n",
       "      <td>c</td>\n",
       "    </tr>\n",
       "    <tr>\n",
       "      <th>3</th>\n",
       "      <td>c</td>\n",
       "      <td>A</td>\n",
       "    </tr>\n",
       "    <tr>\n",
       "      <th>4</th>\n",
       "      <td>A</td>\n",
       "      <td>d</td>\n",
       "    </tr>\n",
       "  </tbody>\n",
       "</table>\n",
       "</div>"
      ],
      "text/plain": [
       "   x  y\n",
       "0  A  b\n",
       "1  b  A\n",
       "2  A  c\n",
       "3  c  A\n",
       "4  A  d"
      ]
     },
     "execution_count": 5,
     "metadata": {},
     "output_type": "execute_result"
    }
   ],
   "source": [
    "df_train = pd.DataFrame({'x':txt[:-1], 'y':txt[1:]})\n",
    "df_train[:5]"
   ]
  },
  {
   "cell_type": "code",
   "execution_count": 6,
   "id": "c7d1717a-610e-4c78-8f60-d4343dba4c6f",
   "metadata": {
    "tags": []
   },
   "outputs": [],
   "source": [
    "x = torch.tensor(df_train.x.map({'A':0,'b':1,'c':2,'d':3}))\n",
    "y = torch.tensor(df_train.y.map({'A':0,'b':1,'c':2,'d':3}))"
   ]
  },
  {
   "cell_type": "code",
   "execution_count": 7,
   "id": "48d96002-a6ac-4a5a-ad81-73a961ce57f0",
   "metadata": {
    "tags": []
   },
   "outputs": [
    {
     "data": {
      "text/plain": [
       "(tensor([0, 1, 0, 2, 0, 3, 0, 1]), tensor([1, 0, 2, 0, 3, 0, 1, 0]))"
      ]
     },
     "execution_count": 7,
     "metadata": {},
     "output_type": "execute_result"
    }
   ],
   "source": [
    "x[:8],y[:8]"
   ]
  },
  {
   "cell_type": "markdown",
   "id": "a237a394-ae19-462c-be07-09e7c9e34e38",
   "metadata": {},
   "source": [
    "## B. 풀이 -- 실패 "
   ]
  },
  {
   "cell_type": "code",
   "execution_count": 8,
   "id": "486ac21f-bd40-4f11-b9d7-ef43b66f309c",
   "metadata": {
    "tags": []
   },
   "outputs": [],
   "source": [
    "net = torch.nn.Sequential(\n",
    "    torch.nn.Embedding(num_embeddings=4,embedding_dim=2),\n",
    "    torch.nn.Tanh(),\n",
    "    torch.nn.Linear(in_features=2,out_features=4),\n",
    "    #torch.nn.Softmax()\n",
    ")\n",
    "loss_fn = torch.nn.CrossEntropyLoss()\n",
    "optimizr = torch.optim.Adam(net.parameters(),lr=0.1)"
   ]
  },
  {
   "cell_type": "code",
   "execution_count": 9,
   "id": "b1081f38-6806-4f46-9404-e53d1869fc7f",
   "metadata": {
    "tags": []
   },
   "outputs": [],
   "source": [
    "ebdd,tanh,linr = net"
   ]
  },
  {
   "cell_type": "code",
   "execution_count": 10,
   "id": "1c0cb05d-1a9c-436a-a705-23fc15b93c17",
   "metadata": {
    "tags": []
   },
   "outputs": [],
   "source": [
    "ebdd.weight.data = ebdd.weight.data*0 + 0.1\n",
    "linr.weight.data = linr.weight.data*0 + 0.1 \n",
    "linr.bias.data = linr.bias.data*0 + 0.1 "
   ]
  },
  {
   "cell_type": "code",
   "execution_count": 11,
   "id": "e70aab8b-2fde-47d1-bd3d-b694faf74077",
   "metadata": {
    "tags": []
   },
   "outputs": [],
   "source": [
    "for epoc in range(200):\n",
    "    ## 1 \n",
    "    netout = net(x)\n",
    "    ## 2 \n",
    "    loss = loss_fn(netout,y)\n",
    "    ## 3 \n",
    "    loss.backward()\n",
    "    ## 4 \n",
    "    optimizr.step()\n",
    "    optimizr.zero_grad()"
   ]
  },
  {
   "cell_type": "code",
   "execution_count": 12,
   "id": "157ca264-f647-4618-a152-dd68545f9a31",
   "metadata": {
    "tags": []
   },
   "outputs": [
    {
     "data": {
      "image/png": "[encoded data removed]",
      "text/plain": [
       "<Figure size 400x666.667 with 2 Axes>"
      ]
     },
     "metadata": {},
     "output_type": "display_data"
    }
   ],
   "source": [
    "h = tanh(ebdd(x)).data[:10]\n",
    "yhat = soft(net(x)).data[:10]\n",
    "mat = torch.concat([h,yhat],axis=1)\n",
    "#---#\n",
    "plt.matshow(mat,cmap=\"bwr\",vmin=-1,vmax=1)\n",
    "plt.colorbar()\n",
    "plt.axvline(1.5,color=\"lime\")\n",
    "plt.xticks(ticks=range(6),labels=[r\"$h_1$\",r\"$h_2$\",r\"$P_A$\",r\"$P_b$\",r\"$P_c$\",r\"$P_d$\"]);"
   ]
  },
  {
   "cell_type": "markdown",
   "id": "149461b1-997e-4ead-9e7d-be4e780d752c",
   "metadata": {},
   "source": [
    "- 망했음 \n",
    "- 왜? "
   ]
  },
  {
   "cell_type": "markdown",
   "id": "c6f46876-e15f-4394-a8df-1dba432155ed",
   "metadata": {},
   "source": [
    "`-` 일단 망한건 망한거고 분석을 위해서 숫자좀 체크하자. "
   ]
  },
  {
   "cell_type": "code",
   "execution_count": 13,
   "id": "37620690-43cb-4492-9f55-9b495d9d56b3",
   "metadata": {
    "tags": []
   },
   "outputs": [
    {
     "data": {
      "text/plain": [
       "tensor([[-3.8668,  3.6836,  3.6836,  3.6836],\n",
       "        [ 5.4879, -4.9081, -4.9081, -4.9081],\n",
       "        [-3.8668,  3.6836,  3.6836,  3.6836],\n",
       "        ...,\n",
       "        [-3.8668,  3.6836,  3.6836,  3.6836],\n",
       "        [ 5.4879, -4.9081, -4.9081, -4.9081],\n",
       "        [-3.8668,  3.6836,  3.6836,  3.6836]], grad_fn=<AddmmBackward0>)"
      ]
     },
     "execution_count": 13,
     "metadata": {},
     "output_type": "execute_result"
    }
   ],
   "source": [
    "net(x)"
   ]
  },
  {
   "cell_type": "markdown",
   "id": "e02e4160-2888-4148-8038-2ccda222c5b6",
   "metadata": {
    "tags": []
   },
   "source": [
    "## C. 실패한 풀이의 다른구현1"
   ]
  },
  {
   "cell_type": "code",
   "execution_count": 17,
   "id": "4a0a0b81-ef21-4896-ad49-4dd1e9cb570a",
   "metadata": {
    "tags": []
   },
   "outputs": [],
   "source": [
    "x = torch.tensor(df_train.x.map({'A':0,'b':1,'c':2,'d':3}))\n",
    "y = torch.tensor(df_train.y.map({'A':0,'b':1,'c':2,'d':3}))\n",
    "X = torch.nn.functional.one_hot(x).float()\n",
    "y = torch.nn.functional.one_hot(y).float()"
   ]
  },
  {
   "cell_type": "code",
   "execution_count": 18,
   "id": "c9841ffa-9065-4297-92d0-670c704818c8",
   "metadata": {
    "tags": []
   },
   "outputs": [
    {
     "data": {
      "text/plain": [
       "(torch.Size([299, 4]), torch.Size([299, 4]))"
      ]
     },
     "execution_count": 18,
     "metadata": {},
     "output_type": "execute_result"
    }
   ],
   "source": [
    "X.shape,y.shape"
   ]
  },
  {
   "cell_type": "code",
   "execution_count": 19,
   "id": "e974b8d0-aa41-4a26-8ee4-8db8f04c31f9",
   "metadata": {
    "tags": []
   },
   "outputs": [],
   "source": [
    "class Hnet(torch.nn.Module):\n",
    "    def __init__(self):\n",
    "        super().__init__()\n",
    "        self.i2h = torch.nn.Linear(in_features=4,out_features=2,bias=False)\n",
    "        self.tanh = torch.nn.Tanh()\n",
    "    def forward(self,x):\n",
    "        h = self.tanh(self.i2h(x))\n",
    "        return h"
   ]
  },
  {
   "cell_type": "code",
   "execution_count": 20,
   "id": "41728b06-da66-4bc1-a335-c14d06b11ea1",
   "metadata": {
    "tags": []
   },
   "outputs": [],
   "source": [
    "hnet = Hnet()\n",
    "linr = torch.nn.Linear(in_features=2,out_features=4)\n",
    "loss_fn = torch.nn.CrossEntropyLoss()\n",
    "optimizr = torch.optim.Adam(list(hnet.parameters()) + list(linr.parameters()),lr=0.1)\n",
    "#--#\n",
    "hnet.i2h.weight.data = hnet.i2h.weight.data*0 + 0.1\n",
    "linr.weight.data = linr.weight.data*0 + 0.1\n",
    "linr.bias.data = linr.bias.data*0 + 0.1"
   ]
  },
  {
   "cell_type": "code",
   "execution_count": 21,
   "id": "9adba260-cb57-447f-a907-e1857bfd07e2",
   "metadata": {
    "tags": []
   },
   "outputs": [],
   "source": [
    "for epoc in range(200):\n",
    "    ## 1 \n",
    "    h = hnet(X)\n",
    "    netout = linr(h)\n",
    "    ## 2 \n",
    "    loss = loss_fn(netout,y)\n",
    "    ## 3 \n",
    "    loss.backward()\n",
    "    ## 4 \n",
    "    optimizr.step()\n",
    "    optimizr.zero_grad()"
   ]
  },
  {
   "cell_type": "code",
   "execution_count": 22,
   "id": "aa067c72-0ef0-45b2-b802-1ba1af55bbe6",
   "metadata": {
    "tags": []
   },
   "outputs": [
    {
     "data": {
      "image/png": "[encoded data removed]",
      "text/plain": [
       "<Figure size 400x666.667 with 2 Axes>"
      ]
     },
     "metadata": {},
     "output_type": "display_data"
    }
   ],
   "source": [
    "h = hnet(X).data[:10]\n",
    "yhat = soft(linr(hnet(X))).data[:10]\n",
    "mat = torch.concat([h,yhat],axis=1)\n",
    "#---#\n",
    "plt.matshow(mat,cmap=\"bwr\",vmin=-1,vmax=1)\n",
    "plt.colorbar()\n",
    "plt.axvline(1.5,color=\"lime\")\n",
    "plt.xticks(ticks=range(6),labels=[r\"$h_1$\",r\"$h_2$\",r\"$P_A$\",r\"$P_b$\",r\"$P_c$\",r\"$P_d$\"]);"
   ]
  },
  {
   "cell_type": "markdown",
   "id": "31018206-cd3d-440f-9149-c359191530e5",
   "metadata": {},
   "source": [
    "`-` 망한건 망한거고.. 이것도 숫자좀 체크해보자. "
   ]
  },
  {
   "cell_type": "code",
   "execution_count": 23,
   "id": "94581028-0d77-4867-9b1e-4ee94ea04247",
   "metadata": {
    "tags": []
   },
   "outputs": [
    {
     "data": {
      "text/plain": [
       "tensor([[-3.8668,  3.6836,  3.6836,  3.6836],\n",
       "        [ 5.4879, -4.9081, -4.9081, -4.9081],\n",
       "        [-3.8668,  3.6836,  3.6836,  3.6836],\n",
       "        ...,\n",
       "        [-3.8668,  3.6836,  3.6836,  3.6836],\n",
       "        [ 5.4879, -4.9081, -4.9081, -4.9081],\n",
       "        [-3.8668,  3.6836,  3.6836,  3.6836]], grad_fn=<AddmmBackward0>)"
      ]
     },
     "execution_count": 23,
     "metadata": {},
     "output_type": "execute_result"
    }
   ],
   "source": [
    "linr(hnet(X))"
   ]
  },
  {
   "cell_type": "markdown",
   "id": "91486116-b92a-478c-b47c-6028632314c0",
   "metadata": {},
   "source": [
    "## D. 실패한 풀이의 다른구현2"
   ]
  },
  {
   "cell_type": "markdown",
   "id": "95151108-c209-4e37-8804-55c8bd73e198",
   "metadata": {
    "tags": []
   },
   "source": [
    "`# 예비학습` -- 아래를 관찰하자. "
   ]
  },
  {
   "cell_type": "code",
   "execution_count": 59,
   "id": "52a3de2a-93e8-4810-a1a2-8b3999d212a5",
   "metadata": {
    "tags": []
   },
   "outputs": [],
   "source": [
    "X = torch.tensor(\n",
    "    [[1., 0., 0., 0.],\n",
    "     [0., 1., 0., 0.]]\n",
    ")\n",
    "linr = torch.nn.Linear(4,2)"
   ]
  },
  {
   "cell_type": "code",
   "execution_count": 60,
   "id": "13f5c536-6093-420f-ad11-199d9438bc2d",
   "metadata": {
    "tags": []
   },
   "outputs": [
    {
     "data": {
      "text/plain": [
       "tensor([[ 0.0270,  0.3646],\n",
       "        [-0.0892,  0.5947]], grad_fn=<AddmmBackward0>)"
      ]
     },
     "execution_count": 60,
     "metadata": {},
     "output_type": "execute_result"
    }
   ],
   "source": [
    "linr(X)"
   ]
  },
  {
   "cell_type": "code",
   "execution_count": 61,
   "id": "180fb0ee-24bf-4a39-9a04-f583876bfb24",
   "metadata": {
    "tags": []
   },
   "outputs": [
    {
     "data": {
      "text/plain": [
       "(tensor([[0.0270, 0.3646]], grad_fn=<AddmmBackward0>),\n",
       " tensor([[-0.0892,  0.5947]], grad_fn=<AddmmBackward0>))"
      ]
     },
     "execution_count": 61,
     "metadata": {},
     "output_type": "execute_result"
    }
   ],
   "source": [
    "linr(X[[0]]),linr(X[[1]])"
   ]
  },
  {
   "cell_type": "code",
   "execution_count": 62,
   "id": "01fce4c3-be94-4cc4-9edf-eaf0a6d6dd06",
   "metadata": {
    "tags": []
   },
   "outputs": [
    {
     "data": {
      "text/plain": [
       "(tensor([0.0270, 0.3646], grad_fn=<ViewBackward0>),\n",
       " tensor([-0.0892,  0.5947], grad_fn=<ViewBackward0>))"
      ]
     },
     "execution_count": 62,
     "metadata": {},
     "output_type": "execute_result"
    }
   ],
   "source": [
    "linr(X[0]),linr(X[1])"
   ]
  },
  {
   "cell_type": "markdown",
   "id": "642f0f66-66f2-4f0e-aacd-4cd82fb1e3e6",
   "metadata": {},
   "source": [
    "`#`"
   ]
  },
  {
   "cell_type": "code",
   "execution_count": 63,
   "id": "c510971e-fec0-4445-8cfe-267e57a6177b",
   "metadata": {
    "tags": []
   },
   "outputs": [],
   "source": [
    "x = torch.tensor(df_train.x.map({'A':0,'b':1,'c':2,'d':3}))\n",
    "y = torch.tensor(df_train.y.map({'A':0,'b':1,'c':2,'d':3}))\n",
    "X = torch.nn.functional.one_hot(x).float()\n",
    "y = torch.nn.functional.one_hot(y).float()"
   ]
  },
  {
   "cell_type": "code",
   "execution_count": 64,
   "id": "ea986083-a3a1-4719-8253-13709f34d280",
   "metadata": {
    "tags": []
   },
   "outputs": [],
   "source": [
    "class Hnet(torch.nn.Module):\n",
    "    def __init__(self):\n",
    "        super().__init__()\n",
    "        self.i2h = torch.nn.Linear(in_features=4,out_features=2,bias=False)\n",
    "        self.tanh = torch.nn.Tanh()\n",
    "    def forward(self,x):\n",
    "        h = self.tanh(self.i2h(x))\n",
    "        return h"
   ]
  },
  {
   "cell_type": "code",
   "execution_count": 65,
   "id": "0c61f306-d751-4588-95e1-fb6f5ec3a433",
   "metadata": {
    "tags": []
   },
   "outputs": [],
   "source": [
    "hnet = Hnet()\n",
    "linr = torch.nn.Linear(in_features=2,out_features=4)\n",
    "loss_fn = torch.nn.CrossEntropyLoss()\n",
    "optimizr = torch.optim.Adam(list(hnet.parameters()) + list(linr.parameters()),lr=0.1)\n",
    "#--#\n",
    "hnet.i2h.weight.data = hnet.i2h.weight.data*0 + 0.1\n",
    "linr.weight.data = linr.weight.data*0 + 0.1\n",
    "linr.bias.data = linr.bias.data*0 + 0.1"
   ]
  },
  {
   "cell_type": "code",
   "execution_count": 66,
   "id": "1c996054-8b3a-40aa-ac37-d6ba2550d3e3",
   "metadata": {
    "tags": []
   },
   "outputs": [],
   "source": [
    "L = len(X)\n",
    "for epoc in range(200):\n",
    "    ## 1~2 \n",
    "    loss = 0 \n",
    "    for t in range(L):\n",
    "        Xt,yt = X[t],y[t]\n",
    "        ht = hnet(Xt)\n",
    "        ot = linr(ht)\n",
    "        loss = loss + loss_fn(ot,yt)\n",
    "    loss = loss/L\n",
    "    ## 3 \n",
    "    loss.backward()\n",
    "    ## 4 \n",
    "    optimizr.step()\n",
    "    optimizr.zero_grad()"
   ]
  },
  {
   "cell_type": "code",
   "execution_count": 67,
   "id": "ae9a60f3-122f-47fd-ae5b-bc8f670ed3cb",
   "metadata": {
    "tags": []
   },
   "outputs": [
    {
     "data": {
      "image/png": "[encoded data removed]",
      "text/plain": [
       "<Figure size 400x666.667 with 2 Axes>"
      ]
     },
     "metadata": {},
     "output_type": "display_data"
    }
   ],
   "source": [
    "h = hnet(X).data[:10]\n",
    "yhat = soft(linr(hnet(X))).data[:10]\n",
    "mat = torch.concat([h,yhat],axis=1)\n",
    "#---#\n",
    "plt.matshow(mat,cmap=\"bwr\",vmin=-1,vmax=1)\n",
    "plt.colorbar()\n",
    "plt.axvline(1.5,color=\"lime\")\n",
    "plt.xticks(ticks=range(6),labels=[r\"$h_1$\",r\"$h_2$\",r\"$P_A$\",r\"$P_b$\",r\"$P_c$\",r\"$P_d$\"]);"
   ]
  },
  {
   "cell_type": "markdown",
   "id": "6340840f-9a55-41c6-be63-bbb7a223f9e4",
   "metadata": {},
   "source": [
    "`-` 망한건 망한거고.. 이것도 숫자좀 체크해보자. "
   ]
  },
  {
   "cell_type": "code",
   "execution_count": 68,
   "id": "6a75cd2f-82ff-428a-963c-e64ffe25443d",
   "metadata": {
    "tags": []
   },
   "outputs": [
    {
     "data": {
      "text/plain": [
       "tensor([[-3.8668,  3.6836,  3.6836,  3.6836],\n",
       "        [ 5.4879, -4.9081, -4.9081, -4.9081],\n",
       "        [-3.8668,  3.6836,  3.6836,  3.6836],\n",
       "        ...,\n",
       "        [-3.8668,  3.6836,  3.6836,  3.6836],\n",
       "        [ 5.4879, -4.9081, -4.9081, -4.9081],\n",
       "        [-3.8668,  3.6836,  3.6836,  3.6836]], grad_fn=<AddmmBackward0>)"
      ]
     },
     "execution_count": 68,
     "metadata": {},
     "output_type": "execute_result"
    }
   ],
   "source": [
    "linr(hnet(X))"
   ]
  },
  {
   "cell_type": "markdown",
   "id": "5ee3d581-77cd-420f-8766-53757e4b024c",
   "metadata": {},
   "source": [
    "`-` 임베딩공간의 해석 "
   ]
  },
  {
   "cell_type": "code",
   "execution_count": 69,
   "id": "e1975117-20f7-4581-b9e2-a9ebb9b1eb7c",
   "metadata": {
    "tags": []
   },
   "outputs": [],
   "source": [
    "h1,h2 = hnet(X).T.data"
   ]
  },
  {
   "cell_type": "code",
   "execution_count": 70,
   "id": "e09640b6-6b28-486b-90a8-3283fcb7afdf",
   "metadata": {
    "tags": []
   },
   "outputs": [
    {
     "data": {
      "text/plain": [
       "<matplotlib.legend.Legend at 0x79f85592e310>"
      ]
     },
     "execution_count": 70,
     "metadata": {},
     "output_type": "execute_result"
    },
    {
     "data": {
      "image/png": "[encoded data removed]",
      "text/plain": [
       "<Figure size 640x480 with 1 Axes>"
      ]
     },
     "metadata": {},
     "output_type": "display_data"
    }
   ],
   "source": [
    "plt.plot(h1[::6],h2[::6],'X',alpha=0.5,label=r\"$A$\")\n",
    "plt.plot(h1[1::6],h2[1::6],'X',alpha=0.5,label=r\"$b$\")\n",
    "plt.plot(h1[2::6],h2[2::6],'X',alpha=0.5,label=r\"$A$\")\n",
    "plt.plot(h1[3::6],h2[3::6],'X',alpha=0.5,label=r\"$c$\")\n",
    "plt.plot(h1[4::6],h2[4::6],'X',alpha=0.5,label=r\"$A$\")\n",
    "plt.plot(h1[5::6],h2[5::6],'X',alpha=0.5,label=r\"$d$\")\n",
    "plt.legend()"
   ]
  },
  {
   "cell_type": "markdown",
   "id": "18345b47-556b-462b-b20b-eb710b6e6e31",
   "metadata": {},
   "source": [
    "> 임베딩공간의 해석? b,c,d는 사실상 같은 문자로 취급한다. "
   ]
  },
  {
   "cell_type": "markdown",
   "id": "1897e64d-7ddd-4128-85e7-b2c2ac550ae1",
   "metadata": {},
   "source": [
    "# 4. `AbAcAd` -- 성공"
   ]
  },
  {
   "cell_type": "markdown",
   "id": "8ec5f9e9-ef3c-4158-9f94-eadb0c688c85",
   "metadata": {},
   "source": [
    "## A. 순환신경망의 모티브 "
   ]
  },
  {
   "cell_type": "markdown",
   "id": "22a8a325-a7f4-465a-8f10-7a005e72e318",
   "metadata": {},
   "source": [
    "***(예비생각1) ${\\boldsymbol h}$에 대한 이해***"
   ]
  },
  {
   "cell_type": "markdown",
   "id": "ed78b19a-ca3c-4441-a280-35e29b03a96e",
   "metadata": {},
   "source": [
    "`-` ${\\boldsymbol h}$는 사실 문자열 \"abcd\"들을 숫자로 바꾼 표현이라 해석할 수 있음. 즉 원핫인코딩과 다른 또 다른 형태의 숫자표현이라 해석할 수 있다. "
   ]
  },
  {
   "cell_type": "markdown",
   "id": "f3d27a5c-5c83-403a-a48e-9c0deae837f4",
   "metadata": {},
   "source": [
    "`-` 사실 ${\\boldsymbol h}$는 원핫인코딩보다 약간 더 (1) 액기스만 남은 느낌 + (2) 숙성된 느낌을 준다\n",
    "\n",
    "- (why1) ${\\boldsymbol h}$는 ${\\boldsymbol x}$ 보다 ${\\boldsymbol y}$를 예측함에 좀 더 직접적인 역할을 한다. 즉 ${\\boldsymbol x}$ 숫자보다 ${\\boldsymbol h}$ 숫자가 잘 정리되어 있고 (차원이 낮고) 입력의 특징을 잘 정리한 (추천시스템의 MBTI처럼) 의미있는 숫자이다. \n",
    "- (why2) ${\\boldsymbol x}$는 학습없이 그냥 얻어지는 숫자표현이지만, ${\\boldsymbol h}$는 학습을 통하여 고치고 고치고 고친 숫자표현이다. "
   ]
  },
  {
   "cell_type": "markdown",
   "id": "0a01ad07-fa64-4279-bc4f-c8a1c90bb3b8",
   "metadata": {},
   "source": [
    "결론: 사실 ${\\boldsymbol h}$는 잘 숙성되어있는 입력정보 ${\\boldsymbol x}$ 그 자체로 해석 할 수 있다. "
   ]
  },
  {
   "cell_type": "markdown",
   "id": "12d914b6-2ad8-41fc-b98d-8a1409ca4e7e",
   "metadata": {},
   "source": [
    "***(예비생각2) [수백년전통을 이어가는 방법](https://www.joongang.co.kr/article/24087690#home)***"
   ]
  },
  {
   "cell_type": "markdown",
   "id": "d7b544a0-1fe2-46d2-ba1d-77501b34c820",
   "metadata": {},
   "source": [
    "```\n",
    "“1리터에 500만원에 낙찰된 적 있습니다.”\n",
    "“2kg에 1억원 정도 추산됩니다.”\n",
    "“20여 종 종자장을 블렌딩해 100ml에 5000만원씩 분양 예정입니다.”\n",
    "\n",
    "모두 씨간장(종자장) 가격에 관한 실제 일화다.\n",
    "\n",
    "(중략...)\n",
    "\n",
    "위스키나 와인처럼 블렌딩을 하기도 한다. \n",
    "새로 담근 간장에 씨간장을 넣거나, 씨간장독에 햇간장을 넣어 맛을 유지하기도 한다. \n",
    "이를 겹장(또는 덧장)이라 한다. \n",
    "몇몇 종갓집에선 씨간장 잇기를 몇백 년째 해오고 있다. \n",
    "매년 새로 간장을 담가야 이어갈 수 있으니 불씨 꺼트리지 않는 것처럼 굉장히 어려운 일이다.\n",
    "이렇게 하는 이유는 집집마다 내려오는 고유 장맛을 잃지 않기 위함이다. \n",
    "씨간장이란 그만큼 소중한 주방의 자산이며 정체성이다.\n",
    "```"
   ]
  },
  {
   "cell_type": "markdown",
   "id": "90a745ca-0856-48c1-bf32-df8ee554cb2b",
   "metadata": {},
   "source": [
    "덧장: 새로운간장을 만들때, 옛날간장을 섞어서 만듬 "
   ]
  },
  {
   "cell_type": "markdown",
   "id": "c2241a86-c2a4-4b00-9ed3-7a5fc31509c0",
   "metadata": {},
   "source": [
    "`*` 기존방식\n",
    "- $\\text{콩물} \\overset{\\text{숙성}}{\\longrightarrow} \\text{간장}$"
   ]
  },
  {
   "cell_type": "markdown",
   "id": "045cb095-746b-4200-ba2a-c2de1b0ec81c",
   "metadata": {},
   "source": [
    "`*` 수백년 전통의 간장맛을 유지하는 방식\n",
    "\n",
    "- $\\text{콩물}_1 \\overset{\\text{숙성}}{\\longrightarrow} \\text{간장}_1$\n",
    "- $\\text{콩물}_2, \\text{간장}_1 \\overset{\\text{숙성}}{\\longrightarrow} \\text{간장}_2$\n",
    "- $\\text{콩물}_3, \\text{간장}_2 \\overset{\\text{숙성}}{\\longrightarrow} \\text{간장}_3$"
   ]
  },
  {
   "cell_type": "markdown",
   "id": "715932ee-b674-4c93-b2c6-3b3f0cf4454a",
   "metadata": {},
   "source": [
    "`*` 수백년 전통의 간장맛을 유지하면서 조리를 한다면? \n",
    "\n",
    "- $\\text{콩물}_1 \\overset{\\text{숙성}}{\\longrightarrow} \\text{간장}_1 \\overset{\\text{조리}}{\\longrightarrow} \\text{간장계란밥}_1$\n",
    "- $\\text{콩물}_2, \\text{간장}_1 \\overset{\\text{숙성}}{\\longrightarrow} \\text{간장}_2 \\overset{\\text{조리}}{\\longrightarrow} \\text{간장계란밥}_2$\n",
    "- $\\text{콩물}_3, \\text{간장}_2 \\overset{\\text{숙성}}{\\longrightarrow} \\text{간장}_3 \\overset{\\text{조리}}{\\longrightarrow} \\text{간장계란밥}_3$"
   ]
  },
  {
   "cell_type": "markdown",
   "id": "a6a2714d-8f18-462c-bc3f-5a18e70c75d1",
   "metadata": {},
   "source": [
    "점점 맛있는 간장계란밥이 탄생함 "
   ]
  },
  {
   "cell_type": "markdown",
   "id": "8114e1c5-5781-4bb0-9a70-3a8534d5f69c",
   "metadata": {},
   "source": [
    "`*` 알고리즘의 편의상 아래와 같이 생각해도 무방 \n",
    "\n",
    "- $\\text{콩물}_1, \\text{간장}_0 \\overset{\\text{숙성}}{\\longrightarrow} \\text{간장}_1 \\overset{\\text{조리}}{\\longrightarrow} \\text{간장계란밥}_1$, $\\text{간장}_0=\\text{맹물}$\n",
    "- $\\text{콩물}_2, \\text{간장}_1 \\overset{\\text{숙성}}{\\longrightarrow} \\text{간장}_2 \\overset{\\text{조리}}{\\longrightarrow} \\text{간장계란밥}_2$\n",
    "- $\\text{콩물}_3, \\text{간장}_2 \\overset{\\text{숙성}}{\\longrightarrow} \\text{간장}_3 \\overset{\\text{조리}}{\\longrightarrow} \\text{간장계란밥}_3$"
   ]
  },
  {
   "cell_type": "markdown",
   "id": "bc2bdd4e-5905-49a0-8d42-98bc20be7ac7",
   "metadata": {},
   "source": [
    "***아이디어***"
   ]
  },
  {
   "cell_type": "markdown",
   "id": "1e333f3f-d0ef-416a-9951-05279a6dff76",
   "metadata": {},
   "source": [
    "`*` 수백년 전통의 간장맛을 유지하면서 조리하는 과정을 수식으로? (콩물을 $x$로, 간장을 $h$로!!)\n",
    "\n",
    "- $\\boldsymbol{x}_1, \\boldsymbol{h}_0 \\overset{\\text{숙성}}{\\longrightarrow} \\boldsymbol{h}_1 \\overset{\\text{조리}}{\\longrightarrow} \\hat{\\boldsymbol y}_1$\n",
    "- $\\boldsymbol{x}_2, \\boldsymbol{h}_1 \\overset{\\text{숙성}}{\\longrightarrow} \\boldsymbol{h}_2 \\overset{\\text{조리}}{\\longrightarrow} \\hat{\\boldsymbol y}_2$\n",
    "- $\\boldsymbol{x}_3, \\boldsymbol{h}_2 \\overset{\\text{숙성}}{\\longrightarrow} \\boldsymbol{h}_3 \\overset{\\text{조리}}{\\longrightarrow} \\hat{\\boldsymbol y}_3$"
   ]
  },
  {
   "cell_type": "markdown",
   "id": "9c9cb063-3588-4e1c-b65d-b6fac75f0812",
   "metadata": {},
   "source": [
    "이제 우리가 배울것은 (1) \"$\\text{콩물}_{t}$\"와 \"$\\text{간장}_{t-1}$\"로 \"$\\text{간장}_t$\"를 `숙성`하는 방법 (2) \"$\\text{간장}_t$\"로 \"$\\text{간장계란밥}_t$를 `조리`하는 방법이다 \n",
    "\n",
    "즉 `숙성`담당 네트워크와 `조리`담당 네트워크를 각각 만들어 학습하면 된다. "
   ]
  },
  {
   "cell_type": "markdown",
   "id": "5676d915-25b5-4ae3-ae91-8dbac8007f17",
   "metadata": {},
   "source": [
    "## B. 순환신경망 알고리즘"
   ]
  },
  {
   "cell_type": "markdown",
   "id": "ef013c8d-348b-4f81-b872-0f18c1ddc429",
   "metadata": {},
   "source": [
    "***`# 버전1`***"
   ]
  },
  {
   "cell_type": "markdown",
   "id": "5a6e7235-b957-44d8-9d39-39c4b0ba1236",
   "metadata": {},
   "source": [
    "**step 1**: 일단 $\\text{간장}_0(={\\boldsymbol h}_0)$을 맹물로 초기화 한다. 즉 아래를 수행한다. \n",
    "\n",
    "$${\\boldsymbol h}_0 = [[0,0]]$$ \n",
    "\n",
    "이때 ${\\boldsymbol h}_0 = [[0,0]]$ 은 이론상에서는 shape이 (1,2) 이지만 알고리즘 상에서는 shape 을 (2,)로 생각해도 무방하다. "
   ]
  },
  {
   "cell_type": "markdown",
   "id": "c0de1700-4b8e-4414-be16-cfa9f8f8aacd",
   "metadata": {},
   "source": [
    "**step 2**: $\\text{콩물}_1(={\\boldsymbol x}_1)$, $\\text{간장}_0(={\\boldsymbol h}_0)$ 을 이용하여 $\\text{간장}_1(={\\boldsymbol h}_1)$을 숙성한다. 즉 아래를 수행한다.  \n",
    "\n",
    "$${\\boldsymbol h}_1= \\tanh({\\boldsymbol x}_1{\\bf W}_{ih}+{\\boldsymbol h}_0{\\bf W}_{hh}+{\\boldsymbol b}_{ih}+{\\boldsymbol b}_{hh})$$\n",
    "\n",
    "이때 변수들의 차원은 아래와 같다. \n",
    "\n",
    "- ${\\boldsymbol x}_1$: (1,4) 이지만 (4,) 로 생각한다. \n",
    "- ${\\boldsymbol h}_0$,${\\boldsymbol h}_1$: (1,2) 이지만 (2,) 로 생각한다. \n",
    "- ${\\bf W}_{ih}$: (4,2) // ${\\bf W}_{hh}$: (2,2) // ${\\boldsymbol b}_{ih}$: (1,2) // ${\\boldsymbol b}_{hh}$: (1,2) 로 생각한다. "
   ]
  },
  {
   "cell_type": "markdown",
   "id": "42a0aa70-7e01-4e83-9d9f-9e8790ad5135",
   "metadata": {},
   "source": [
    "**step 3:** $\\text{간장}_1$을 이용하여 $\\text{간장계란밥}_1$을 만든다. 그리고 $\\hat{\\boldsymbol y}_1$을 만든다. \n",
    "\n",
    "$${\\boldsymbol o}_1= {\\bf W}_{ho}{\\boldsymbol h}_1+{\\boldsymbol b}_{ho}$$\n",
    "\n",
    "$$\\hat{\\boldsymbol y}_1 = \\text{soft}({\\boldsymbol o}_1)$$"
   ]
  },
  {
   "cell_type": "markdown",
   "id": "55d6d098-d194-49f3-b407-364035c894d2",
   "metadata": {},
   "source": [
    "**step 4**: $t=2,3,4,5,\\dots,L$ 에 대하여 step2-3을 반복한다. "
   ]
  },
  {
   "cell_type": "markdown",
   "id": "71da54d5-9930-4155-bf1e-439f4b33a0cb",
   "metadata": {},
   "source": [
    "`#`"
   ]
  },
  {
   "cell_type": "markdown",
   "id": "b875f007-5067-4675-9126-a9b9dcc6673e",
   "metadata": {},
   "source": [
    "***`# 버전2`***\n",
    "\n",
    "init $\\boldsymbol{h}_0$ \n",
    "\n",
    "for $t$ in $1:L$ \n",
    "\n",
    "- ${\\boldsymbol h}_t= \\tanh({\\boldsymbol x}_t{\\bf W}_{ih}+{\\boldsymbol h}_{t-1}{\\bf W}_{hh}+{\\boldsymbol b}_{ih}+{\\boldsymbol b}_{hh})$\n",
    "- ${\\boldsymbol o}_t= {\\bf W}_{ho}{\\boldsymbol h}_1+{\\boldsymbol b}_{ho}$\n",
    "- $\\hat{\\boldsymbol y}_t = \\text{soft}({\\boldsymbol o}_t)$\n",
    "    "
   ]
  },
  {
   "cell_type": "markdown",
   "id": "6c1eb55e-43fe-4440-9c28-7a28e9758648",
   "metadata": {},
   "source": [
    "`#`"
   ]
  },
  {
   "cell_type": "markdown",
   "id": "03b67fc0-a12b-4d51-8b03-04861868f8a8",
   "metadata": {},
   "source": [
    "***`# 버전3`***\n",
    "\n",
    "```Python \n",
    "ht = [0,0]\n",
    "for t in 1:T \n",
    "    ht = tanh(linr(xt)+linr(ht))\n",
    "    ot = linr(ht)\n",
    "    yt_hat = soft(ot)\n",
    "```    "
   ]
  },
  {
   "cell_type": "markdown",
   "id": "be4aa350-a33b-4b84-a1fa-d17356ecd6a5",
   "metadata": {},
   "source": [
    "- 코드상으로는 $h_t$와 $h_{t-1}$의 구분이 교모하게 사라진다. (그래서 오히려 좋아)"
   ]
  },
  {
   "cell_type": "markdown",
   "id": "680964f5-0e0c-4441-b97b-891298eeb007",
   "metadata": {},
   "source": [
    "`#`"
   ]
  },
  {
   "cell_type": "code",
   "execution_count": null,
   "id": "e9c053c7-a252-437f-9cc4-ef53f897fff9",
   "metadata": {},
   "outputs": [],
   "source": [
    "`-` 따라서 실질적인 전체코드는 아래와 같은 방식으로 구현할 수 있다. "
   ]
  },
  {
   "cell_type": "markdown",
   "id": "f2f5c72f-0a03-445b-b6f0-1977377178e6",
   "metadata": {},
   "source": [
    "```Python \n",
    "class rNNCell(torch.nn.Module):\n",
    "    def __init__(self):\n",
    "        super().__init__()\n",
    "        linr1 = torch.nn.Linear(?,?) \n",
    "        linr2 = torch.nn.Linear(?,?) \n",
    "        tanh = torch.nn.Tanh()\n",
    "    def forward(self,xt,ht):\n",
    "        ht = tanh(lrnr1(xt)+lrnr2(ht))\n",
    "        return ht\n",
    "\n",
    "init ht\n",
    "rnncell = rNNCell()\n",
    "\n",
    "for t in 1:T \n",
    "    xt, yt = X[t], y[t]\n",
    "    ht = rnncell(xt, ht)\n",
    "    ot = linr(ht) \n",
    "    loss = loss + loss_fn(ot, yt)\n",
    "\n",
    "```    "
   ]
  },
  {
   "cell_type": "markdown",
   "id": "afab04ee-13b0-4f22-8b33-31ffaec5de65",
   "metadata": {},
   "source": [
    "## C. 구현1 -- rNNCell"
   ]
  },
  {
   "cell_type": "markdown",
   "id": "03c77158-17a4-480f-91d4-95ac02e82162",
   "metadata": {
    "tags": []
   },
   "source": [
    "`-` 데이터정리 "
   ]
  },
  {
   "cell_type": "code",
   "execution_count": 128,
   "id": "f765c57b-faa7-4075-b3ce-b2438552413e",
   "metadata": {
    "tags": []
   },
   "outputs": [],
   "source": [
    "x = torch.tensor(df_train.x.map({'A':0,'b':1,'c':2,'d':3}))\n",
    "y = torch.tensor(df_train.y.map({'A':0,'b':1,'c':2,'d':3}))\n",
    "X = torch.nn.functional.one_hot(x).float()\n",
    "y = torch.nn.functional.one_hot(y).float()"
   ]
  },
  {
   "cell_type": "markdown",
   "id": "beac01c3-438b-41c8-aee5-cccd2c1d14d6",
   "metadata": {},
   "source": [
    "`-` Net설계 "
   ]
  },
  {
   "cell_type": "code",
   "execution_count": 129,
   "id": "f2976630-e2b9-45c4-a74d-78aae6eda7d2",
   "metadata": {
    "tags": []
   },
   "outputs": [],
   "source": [
    "class rNNCell(torch.nn.Module):\n",
    "    def __init__(self):\n",
    "        super().__init__()\n",
    "        self.i2h = torch.nn.Linear(4,2) \n",
    "        self.h2h = torch.nn.Linear(2,2) \n",
    "        self.tanh = torch.nn.Tanh()\n",
    "    def forward(self,xt,ht):\n",
    "        ht = self.tanh(self.i2h(xt)+self.h2h(ht))\n",
    "        return ht"
   ]
  },
  {
   "cell_type": "code",
   "execution_count": 130,
   "id": "74e7ff3a-df1b-422a-9685-74e5b46aa422",
   "metadata": {
    "tags": []
   },
   "outputs": [],
   "source": [
    "torch.manual_seed(43052) # 시드고정해야만 답나옴\n",
    "rnncell = rNNCell() # 숙성담당 네트워크 \n",
    "cook = torch.nn.Linear(2,4) "
   ]
  },
  {
   "cell_type": "markdown",
   "id": "3aa7e701-b76d-48f3-b914-c3f845b7c5c4",
   "metadata": {},
   "source": [
    "`-` 손실함수 및 옵티마이저 설정 "
   ]
  },
  {
   "cell_type": "code",
   "execution_count": 131,
   "id": "2b79a8d9-1daa-4bb6-a893-e9f7e86dcd24",
   "metadata": {
    "tags": []
   },
   "outputs": [],
   "source": [
    "loss_fn = torch.nn.CrossEntropyLoss() \n",
    "optimizr = torch.optim.Adam(list(rnncell.parameters())+list(cook.parameters()),lr=0.1)"
   ]
  },
  {
   "cell_type": "markdown",
   "id": "876a9bae-3527-4e15-b956-1b154346caa0",
   "metadata": {},
   "source": [
    "`-` 학습"
   ]
  },
  {
   "cell_type": "code",
   "execution_count": 132,
   "id": "90d9c9d5-675b-401a-9290-9a91061d8961",
   "metadata": {
    "tags": []
   },
   "outputs": [],
   "source": [
    "L = len(X) \n",
    "for epoc in range(200): \n",
    "    ## 1~2\n",
    "    loss = 0 \n",
    "    ht = torch.zeros(2) \n",
    "    for Xt,yt in zip(X,y):\n",
    "        ht = rnncell(Xt,ht) \n",
    "        ot = cook(ht) \n",
    "        loss = loss + loss_fn(ot,yt) \n",
    "    loss = loss / L\n",
    "    ## 3 \n",
    "    loss.backward()\n",
    "    ## 4 \n",
    "    optimizr.step()\n",
    "    optimizr.zero_grad()"
   ]
  },
  {
   "cell_type": "markdown",
   "id": "85cef08c-ac12-481e-82fe-7e28e0e4d8ba",
   "metadata": {},
   "source": [
    "`-` 결과 확인 및 시각화 "
   ]
  },
  {
   "cell_type": "code",
   "execution_count": 152,
   "id": "a19c0eef-2f05-4cf0-a33e-60bb0f010a86",
   "metadata": {
    "tags": []
   },
   "outputs": [
    {
     "data": {
      "text/plain": [
       "tensor([[4.1846e-03, 9.4624e-01, 1.8415e-06, 4.9573e-02],\n",
       "        [9.9994e-01, 5.3795e-05, 7.8845e-10, 1.2601e-06],\n",
       "        [2.0517e-07, 1.0812e-06, 9.7048e-01, 2.9522e-02],\n",
       "        ...,\n",
       "        [2.0508e-07, 1.0807e-06, 9.7048e-01, 2.9514e-02],\n",
       "        [9.9904e-01, 9.4137e-04, 6.4566e-09, 2.1150e-05],\n",
       "        [7.2273e-04, 2.5203e-02, 3.2440e-02, 9.4163e-01]],\n",
       "       grad_fn=<SoftmaxBackward0>)"
      ]
     },
     "execution_count": 152,
     "metadata": {},
     "output_type": "execute_result"
    }
   ],
   "source": [
    "L = len(X)\n",
    "h = torch.zeros(L,2) #L년치 h를 담을 변수 \n",
    "water = torch.zeros(2)\n",
    "h[0] = rnncell(X[0],water) \n",
    "for t in range(1,L):\n",
    "    h[t] = rnncell(X[t],h[t-1]) \n",
    "yhat = soft(cook(h))\n",
    "yhat"
   ]
  },
  {
   "cell_type": "code",
   "execution_count": 134,
   "id": "3822de3c-1035-476d-b1ea-df34df902e0e",
   "metadata": {
    "tags": []
   },
   "outputs": [
    {
     "data": {
      "image/png": "[encoded data removed]",
      "text/plain": [
       "<Figure size 400x1000 with 2 Axes>"
      ]
     },
     "metadata": {},
     "output_type": "display_data"
    }
   ],
   "source": [
    "mat = torch.concat([h,yhat],axis=1).data\n",
    "#---#\n",
    "plt.matshow(mat[:15],cmap=\"bwr\",vmin=-1,vmax=1)\n",
    "plt.colorbar()\n",
    "plt.axvline(1.5,color=\"lime\")\n",
    "plt.xticks(ticks=range(6),labels=[r\"$h_1$\",r\"$h_2$\",r\"$P_A$\",r\"$P_b$\",r\"$P_c$\",r\"$P_d$\"]);"
   ]
  },
  {
   "cell_type": "markdown",
   "id": "5d03462d-7c3f-4b04-9edd-786890bb5c60",
   "metadata": {},
   "source": [
    "`-` yhat 값 분석"
   ]
  },
  {
   "cell_type": "code",
   "execution_count": 136,
   "id": "a1270480-8701-4d1c-8015-919c504299f5",
   "metadata": {
    "tags": []
   },
   "outputs": [
    {
     "data": {
      "text/plain": [
       "array([[0.004, 0.946, 0.   , 0.05 ],\n",
       "       [1.   , 0.   , 0.   , 0.   ],\n",
       "       [0.   , 0.   , 0.97 , 0.03 ],\n",
       "       [0.999, 0.001, 0.   , 0.   ],\n",
       "       [0.001, 0.025, 0.033, 0.941],\n",
       "       [0.983, 0.016, 0.   , 0.   ],\n",
       "       [0.004, 0.965, 0.   , 0.031],\n",
       "       [1.   , 0.   , 0.   , 0.   ],\n",
       "       [0.   , 0.   , 0.97 , 0.03 ],\n",
       "       [0.999, 0.001, 0.   , 0.   ]], dtype=float32)"
      ]
     },
     "execution_count": 136,
     "metadata": {},
     "output_type": "execute_result"
    }
   ],
   "source": [
    "yhat.data.numpy().round(3)[:10]"
   ]
  },
  {
   "cell_type": "markdown",
   "id": "e6758618-4a26-432a-a583-6bb866c81a22",
   "metadata": {},
   "source": [
    "- 미세하지만 뒤로갈수록 좀 더 성능이 좋다. "
   ]
  },
  {
   "cell_type": "markdown",
   "id": "44baaeae-156d-479f-ba10-4a45550a50bb",
   "metadata": {},
   "source": [
    "`-` h1,h2 분석 (= 임베딩스페이스 분석)"
   ]
  },
  {
   "cell_type": "code",
   "execution_count": 111,
   "id": "4f20bb7c-7d84-4c90-b81c-717cd23755bb",
   "metadata": {
    "tags": []
   },
   "outputs": [],
   "source": [
    "h1,h2 = h.T.data"
   ]
  },
  {
   "cell_type": "code",
   "execution_count": 112,
   "id": "eb9c505f-fbb9-49c4-b697-5725dfa46c9e",
   "metadata": {
    "tags": []
   },
   "outputs": [
    {
     "data": {
      "text/plain": [
       "<matplotlib.legend.Legend at 0x79f8553a0710>"
      ]
     },
     "execution_count": 112,
     "metadata": {},
     "output_type": "execute_result"
    },
    {
     "data": {
      "image/png": "[encoded data removed]",
      "text/plain": [
       "<Figure size 640x480 with 1 Axes>"
      ]
     },
     "metadata": {},
     "output_type": "display_data"
    }
   ],
   "source": [
    "plt.plot(h1[::6],h2[::6],'X',alpha=0.5,label=r\"$A$\")\n",
    "plt.plot(h1[1::6],h2[1::6],'X',alpha=0.5,label=r\"$b$\")\n",
    "plt.plot(h1[2::6],h2[2::6],'X',alpha=0.5,label=r\"$A$\")\n",
    "plt.plot(h1[3::6],h2[3::6],'X',alpha=0.5,label=r\"$c$\")\n",
    "plt.plot(h1[4::6],h2[4::6],'X',alpha=0.5,label=r\"$A$\")\n",
    "plt.plot(h1[5::6],h2[5::6],'X',alpha=0.5,label=r\"$d$\")\n",
    "plt.legend()"
   ]
  },
  {
   "cell_type": "markdown",
   "id": "4f705080-c3ec-4039-ab78-b3a2f1edaf0d",
   "metadata": {},
   "source": [
    "## D. 구현2 -- RNNCell"
   ]
  },
  {
   "cell_type": "markdown",
   "id": "a16fe498-8895-4830-92d1-5fad00be8c85",
   "metadata": {},
   "source": [
    "ref: <https://pytorch.org/docs/stable/generated/torch.nn.RNNCell.html>"
   ]
  },
  {
   "cell_type": "markdown",
   "id": "c7f2b791-8ea9-4a6a-b710-fb8ba4c157b2",
   "metadata": {
    "tags": []
   },
   "source": [
    "`-` 데이터정리 "
   ]
  },
  {
   "cell_type": "code",
   "execution_count": 128,
   "id": "83aec004-1cde-4696-bdef-3919283c53df",
   "metadata": {
    "tags": []
   },
   "outputs": [],
   "source": [
    "x = torch.tensor(df_train.x.map({'A':0,'b':1,'c':2,'d':3}))\n",
    "y = torch.tensor(df_train.y.map({'A':0,'b':1,'c':2,'d':3}))\n",
    "X = torch.nn.functional.one_hot(x).float()\n",
    "y = torch.nn.functional.one_hot(y).float()"
   ]
  },
  {
   "cell_type": "markdown",
   "id": "ffd1c3c7-614d-405d-acc7-a3e26324c847",
   "metadata": {},
   "source": [
    "`-` Net설계 및 가중치 설정 (구현1과 동일하도록 가중치 초기화)"
   ]
  },
  {
   "cell_type": "code",
   "execution_count": 137,
   "id": "8620447b-82c0-4dc0-9193-ec7f78492d9b",
   "metadata": {
    "tags": []
   },
   "outputs": [],
   "source": [
    "torch.manual_seed(43052)\n",
    "_rnncell = rNNCell()\n",
    "cook = torch.nn.Linear(2,4)"
   ]
  },
  {
   "cell_type": "code",
   "execution_count": 138,
   "id": "ef32746a-c3a8-4ee8-913a-cf2e974d608d",
   "metadata": {
    "tags": []
   },
   "outputs": [],
   "source": [
    "rnncell = torch.nn.RNNCell(4,2)\n",
    "rnncell.weight_ih.data = _rnncell.i2h.weight.data \n",
    "rnncell.weight_hh.data = _rnncell.h2h.weight.data \n",
    "rnncell.bias_ih.data = _rnncell.i2h.bias.data \n",
    "rnncell.bias_hh.data = _rnncell.h2h.bias.data "
   ]
  },
  {
   "cell_type": "markdown",
   "id": "139d0b20-ab25-440e-87a0-e090cf4348f0",
   "metadata": {},
   "source": [
    "`-` 손실함수 및 옵티마이저 설정 "
   ]
  },
  {
   "cell_type": "code",
   "execution_count": 139,
   "id": "9500d720-0e29-4213-abe4-64d0d21baa49",
   "metadata": {
    "tags": []
   },
   "outputs": [],
   "source": [
    "loss_fn = torch.nn.CrossEntropyLoss() \n",
    "optimizr = torch.optim.Adam(list(rnncell.parameters())+list(cook.parameters()),lr=0.1)"
   ]
  },
  {
   "cell_type": "markdown",
   "id": "9c2a0932-d8ca-4885-a317-eeecb580c225",
   "metadata": {},
   "source": [
    "`-` 학습"
   ]
  },
  {
   "cell_type": "code",
   "execution_count": 140,
   "id": "ef728118-f55b-4c18-b95b-4519fb8398c8",
   "metadata": {
    "tags": []
   },
   "outputs": [],
   "source": [
    "L = len(X) \n",
    "for epoc in range(200): \n",
    "    ## 1~2\n",
    "    loss = 0 \n",
    "    ht = torch.zeros(2)\n",
    "    for t in range(L):\n",
    "        Xt,yt = X[t],y[t]\n",
    "        ht = rnncell(Xt,ht) \n",
    "        ot = cook(ht) \n",
    "        loss = loss + loss_fn(ot,yt) \n",
    "    loss = loss / L\n",
    "    ## 3 \n",
    "    loss.backward()\n",
    "    ## 4 \n",
    "    optimizr.step()\n",
    "    optimizr.zero_grad()"
   ]
  },
  {
   "cell_type": "markdown",
   "id": "6016c86b-7322-4d8d-994e-7fd8dea4cfe9",
   "metadata": {},
   "source": [
    "`-` 결과확인  "
   ]
  },
  {
   "cell_type": "code",
   "execution_count": 141,
   "id": "ae557a31-3847-4cca-83ed-b0dc5ea16871",
   "metadata": {
    "tags": []
   },
   "outputs": [],
   "source": [
    "L = len(X)\n",
    "h = torch.zeros(L,2) #L년치 h를 담을 변수 \n",
    "water = torch.zeros(2)\n",
    "h[0] = rnncell(X[0],water) \n",
    "for t in range(1,L):\n",
    "    h[t] = rnncell(X[t],h[t-1]) \n",
    "yhat = soft(cook(h))    "
   ]
  },
  {
   "cell_type": "code",
   "execution_count": 143,
   "id": "f8cbbb2f-e3ca-44c1-b134-43bb41b4bb74",
   "metadata": {
    "tags": []
   },
   "outputs": [
    {
     "data": {
      "text/plain": [
       "tensor([[4.1978e-03, 9.4555e-01, 1.9557e-06, 5.0253e-02],\n",
       "        [9.9994e-01, 5.5569e-05, 8.4751e-10, 1.3143e-06],\n",
       "        [2.1349e-07, 1.1345e-06, 9.7019e-01, 2.9806e-02],\n",
       "        ...,\n",
       "        [2.1339e-07, 1.1339e-06, 9.7020e-01, 2.9798e-02],\n",
       "        [9.9901e-01, 9.6573e-04, 6.9303e-09, 2.1945e-05],\n",
       "        [7.2919e-04, 2.5484e-02, 3.3011e-02, 9.4078e-01]],\n",
       "       grad_fn=<SoftmaxBackward0>)"
      ]
     },
     "execution_count": 143,
     "metadata": {},
     "output_type": "execute_result"
    }
   ],
   "source": [
    "yhat"
   ]
  },
  {
   "cell_type": "markdown",
   "id": "5c644d06-606a-4de6-a26d-1f692fcbc7a6",
   "metadata": {},
   "source": [
    "- 구현1과 같은 결과 "
   ]
  }
 ],
 "metadata": {
  "kernelspec": {
   "display_name": "Python 3 (ipykernel)",
   "language": "python",
   "name": "python3"
  },
  "language_info": {
   "codemirror_mode": {
    "name": "ipython",
    "version": 3
   },
   "file_extension": ".py",
   "mimetype": "text/x-python",
   "name": "python",
   "nbconvert_exporter": "python",
   "pygments_lexer": "ipython3",
   "version": "3.11.8"
  }
 },
 "nbformat": 4,
 "nbformat_minor": 5
}
