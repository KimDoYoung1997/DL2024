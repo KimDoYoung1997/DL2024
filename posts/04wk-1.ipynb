{
 "cells": [
  {
   "cell_type": "raw",
   "id": "e752103d-d6a6-4dcf-b652-73f961d0490c",
   "metadata": {
    "id": "e752103d-d6a6-4dcf-b652-73f961d0490c"
   },
   "source": [
    "---\n",
    "title: \"04wk-1: 깊은 신경망 (2) -- 꺽인그래프의 한계(?), 시벤코정리, MNIST\"\n",
    "author: \"최규빈\"\n",
    "date: \"03/25/2024\"\n",
    "---"
   ]
  },
  {
   "cell_type": "markdown",
   "id": "f0b609ec-c024-4f0a-b89b-edf9a919288b",
   "metadata": {
    "id": "f0b609ec-c024-4f0a-b89b-edf9a919288b"
   },
   "source": [
    "<a href=\"https://colab.research.google.com/github/guebin/DL2024/blob/main/posts/04wk-1.ipynb\"><img src=\"https://colab.research.google.com/assets/colab-badge.svg\" style=\"text-align: left\"></a>"
   ]
  },
  {
   "cell_type": "markdown",
   "id": "7c0ae308-9d46-4884-a51c-2e45e42014a3",
   "metadata": {
    "id": "7c0ae308-9d46-4884-a51c-2e45e42014a3"
   },
   "source": [
    "# 1. 강의영상"
   ]
  },
  {
   "cell_type": "markdown",
   "id": "eb55e95e-6f12-4599-b03b-f5cf0b6ebb96",
   "metadata": {
    "id": "eb55e95e-6f12-4599-b03b-f5cf0b6ebb96",
    "tags": []
   },
   "source": [
    "{{<video https://youtu.be/playlist?list=PLQqh36zP38-wD7Am2wZ7NNZjHpt55gwEH&si=Yj3LYi8Y9uU5SYtp >}}"
   ]
  },
  {
   "cell_type": "markdown",
   "id": "3f6bc57b-ec11-45a5-851c-38f0c7e6909f",
   "metadata": {
    "id": "3f6bc57b-ec11-45a5-851c-38f0c7e6909f"
   },
   "source": [
    "# 2. Imports"
   ]
  },
  {
   "cell_type": "code",
   "execution_count": null,
   "id": "798b2db1",
   "metadata": {},
   "outputs": [],
   "source": [
    "print(\"1\")\n",
    "import torch"
   ]
  },
  {
   "cell_type": "code",
   "execution_count": 1,
   "id": "96c5201b",
   "metadata": {},
   "outputs": [
    {
     "name": "stdout",
     "output_type": "stream",
     "text": [
      "Channels:\n",
      " - defaults\n",
      " - conda-forge\n",
      " - nvidia\n",
      " - pytorch\n",
      "Platform: linux-64\n",
      "Collecting package metadata (repodata.json): done\n",
      "Solving environment: done\n",
      "\n",
      "## Package Plan ##\n",
      "\n",
      "  environment location: /home/myuser/.conda/envs/dl2024\n",
      "\n",
      "  added / updated specs:\n",
      "    - pandas\n",
      "\n",
      "\n",
      "The following packages will be downloaded:\n",
      "\n",
      "    package                    |            build\n",
      "    ---------------------------|-----------------\n",
      "    pandas-2.0.3               |   py38h1128e8f_0        12.4 MB\n",
      "    ------------------------------------------------------------\n",
      "                                           Total:        12.4 MB\n",
      "\n",
      "The following NEW packages will be INSTALLED:\n",
      "\n",
      "  bottleneck         pkgs/main/linux-64::bottleneck-1.3.7-py38ha9d4c09_0 \n",
      "  numexpr            pkgs/main/linux-64::numexpr-2.8.4-py38hc78ab66_1 \n",
      "  pandas             pkgs/main/linux-64::pandas-2.0.3-py38h1128e8f_0 \n",
      "  python-tzdata      pkgs/main/noarch::python-tzdata-2023.3-pyhd3eb1b0_0 \n",
      "\n",
      "The following packages will be SUPERSEDED by a higher-priority channel:\n",
      "\n",
      "  certifi            conda-forge/noarch::certifi-2024.7.4-~ --> pkgs/main/linux-64::certifi-2024.7.4-py38h06a4308_0 \n",
      "\n",
      "\n",
      "Proceed ([y]/n)? "
     ]
    }
   ],
   "source": [
    "!conda install pandas\n"
   ]
  },
  {
   "cell_type": "code",
   "execution_count": 5,
   "id": "aa01caab-3fbc-4508-a78d-f2825c6821b2",
   "metadata": {
    "id": "aa01caab-3fbc-4508-a78d-f2825c6821b2",
    "tags": []
   },
   "outputs": [
    {
     "ename": "ModuleNotFoundError",
     "evalue": "No module named 'pandas'",
     "output_type": "error",
     "traceback": [
      "\u001b[0;31m---------------------------------------------------------------------------\u001b[0m",
      "\u001b[0;31mModuleNotFoundError\u001b[0m                       Traceback (most recent call last)",
      "Cell \u001b[0;32mIn[5], line 4\u001b[0m\n\u001b[1;32m      2\u001b[0m \u001b[38;5;28;01mimport\u001b[39;00m \u001b[38;5;21;01mnumpy\u001b[39;00m \u001b[38;5;28;01mas\u001b[39;00m \u001b[38;5;21;01mnp\u001b[39;00m\n\u001b[1;32m      3\u001b[0m \u001b[38;5;28;01mimport\u001b[39;00m \u001b[38;5;21;01mmatplotlib\u001b[39;00m\u001b[38;5;21;01m.\u001b[39;00m\u001b[38;5;21;01mpyplot\u001b[39;00m \u001b[38;5;28;01mas\u001b[39;00m \u001b[38;5;21;01mplt\u001b[39;00m\n\u001b[0;32m----> 4\u001b[0m \u001b[38;5;28;01mimport\u001b[39;00m \u001b[38;5;21;01mpandas\u001b[39;00m \u001b[38;5;28;01mas\u001b[39;00m \u001b[38;5;21;01mpd\u001b[39;00m\n\u001b[1;32m      5\u001b[0m \u001b[38;5;66;03m# # import torchvision\u001b[39;00m\n\u001b[1;32m      6\u001b[0m \u001b[38;5;66;03m# import fastai.data.all \u001b[39;00m\n",
      "\u001b[0;31mModuleNotFoundError\u001b[0m: No module named 'pandas'"
     ]
    }
   ],
   "source": [
    "import torch\n",
    "import numpy as np\n",
    "import matplotlib.pyplot as plt\n",
    "import pandas as pd\n",
    "# # import torchvision\n",
    "# import fastai.data.all "
   ]
  },
  {
   "cell_type": "markdown",
   "id": "f8128051-ee1d-4ed2-9cb1-d7d452e5f160",
   "metadata": {
    "id": "f8128051-ee1d-4ed2-9cb1-d7d452e5f160"
   },
   "source": [
    "# 3. 꺽인그래프의 한계?"
   ]
  },
  {
   "cell_type": "markdown",
   "id": "cac321ff-8e32-4872-85c1-92d9fc8d89e9",
   "metadata": {
    "id": "cac321ff-8e32-4872-85c1-92d9fc8d89e9"
   },
   "source": [
    "`-` 걱정: 지난시간에 배운 기술은 sig를 취하기 전이 꺽은선인 형태만 가능할 듯 하다. 그래서 이 역시 표현력이 부족할 듯 하다.\n",
    "\n",
    "`-` 그런데 생각보다 표현력이 풍부한 편이다. 즉 생각보다 쓸 만하다."
   ]
  },
  {
   "cell_type": "markdown",
   "id": "de36c56c-2c6e-4f3b-91ca-ba7e5cc9dfc6",
   "metadata": {
    "id": "de36c56c-2c6e-4f3b-91ca-ba7e5cc9dfc6"
   },
   "source": [
    "## A. Step은 표현 불가능하지 않나?"
   ]
  },
  {
   "cell_type": "markdown",
   "id": "36c62c7e-3d8b-4804-8311-9038fc72f94e",
   "metadata": {
    "id": "36c62c7e-3d8b-4804-8311-9038fc72f94e"
   },
   "source": [
    "`-` 맞춰봐"
   ]
  },
  {
   "cell_type": "code",
   "execution_count": null,
   "id": "b8e14341-5276-4595-b7a7-ed04ef0da491",
   "metadata": {
    "id": "b8e14341-5276-4595-b7a7-ed04ef0da491",
    "tags": []
   },
   "outputs": [],
   "source": [
    "torch.manual_seed(43052)\n",
    "x = torch.linspace(-1,1,2000).reshape(-1,1)\n",
    "u = 0*x-3\n",
    "u[x<-0.2] = (15*x+6)[x<-0.2]\n",
    "u[(-0.2<x)&(x<0.4)] = (0*x-1)[(-0.2<x)&(x<0.4)]\n",
    "sig = torch.nn.Sigmoid()\n",
    "v = π = sig(u)\n",
    "y = torch.bernoulli(v)"
   ]
  },
  {
   "cell_type": "code",
   "execution_count": null,
   "id": "7543f566-6518-4dac-84d9-c1da22cd3548",
   "metadata": {
    "colab": {
     "base_uri": "https://localhost:8080/",
     "height": 447
    },
    "id": "7543f566-6518-4dac-84d9-c1da22cd3548",
    "outputId": "170dea99-5903-4c44-e7d2-21222b5e63e1",
    "tags": []
   },
   "outputs": [],
   "source": [
    "#plt.plot(u,alpha=0.2)\n",
    "plt.plot(x,y,'.',alpha=0.01,color=\"C0\")\n",
    "plt.plot(x[0],y[0],'o',color=\"C0\",label=r\"observed data (with error): $(x_i,y_i)$\")\n",
    "plt.plot(x,v,'--',label=r\"prob (true, unknown): $(x_i,\\pi_i)$ or $(x_i,v_i)$\",color=\"C1\")\n",
    "plt.legend()"
   ]
  },
  {
   "cell_type": "markdown",
   "id": "2dfdb9c9-0734-4662-9bd6-c4712a008d46",
   "metadata": {
    "id": "2dfdb9c9-0734-4662-9bd6-c4712a008d46"
   },
   "source": [
    "`-` 저 주황색 구조를 어떻게 표현하지? $\\to$ 선이 많이 꺽이면되는거아냐?"
   ]
  },
  {
   "cell_type": "markdown",
   "id": "07acc7db-8c47-4f52-81e6-238d0cff4079",
   "metadata": {
    "id": "07acc7db-8c47-4f52-81e6-238d0cff4079",
    "tags": []
   },
   "source": [
    "$$\\underset{(n,1)}{\\bf X} \\overset{l_1}{\\to} \\underset{(n,256)}{\\boldsymbol u^{(1)}} \\overset{a_1}{\\to} \\underset{(n,256)}{\\boldsymbol v^{(1)}} \\overset{l_1}{\\to} \\underset{(n,1)}{\\boldsymbol u^{(2)}} \\overset{a_2}{\\to} \\underset{(n,1)}{\\boldsymbol v^{(2)}}=\\underset{(n,1)}{\\hat{\\boldsymbol y}}$$"
   ]
  },
  {
   "cell_type": "code",
   "execution_count": null,
   "id": "8bde2bec-7eeb-40bb-b204-3806749e333b",
   "metadata": {
    "id": "8bde2bec-7eeb-40bb-b204-3806749e333b",
    "tags": []
   },
   "outputs": [],
   "source": [
    "#torch.manual_seed(43052)\n",
    "net = torch.nn.Sequential(\n",
    "    torch.nn.Linear(1,256),\n",
    "    torch.nn.ReLU(),\n",
    "    torch.nn.Linear(256,1),\n",
    "    #torch.nn.Sigmoid()\n",
    ")\n",
    "#loss_fn = torch.nn.BCELoss()\n",
    "loss_fn = torch.nn.BCEWithLogitsLoss()\n",
    "optimizr = torch.optim.Adam(net.parameters())\n",
    "#--#\n",
    "for epoc in range(5000):\n",
    "    ## 1\n",
    "    yhat = net(x)\n",
    "    ## 2\n",
    "    loss = loss_fn(yhat,y)\n",
    "    ## 3\n",
    "    loss.backward()\n",
    "    ## 4\n",
    "    optimizr.step()\n",
    "    optimizr.zero_grad()"
   ]
  },
  {
   "cell_type": "code",
   "execution_count": null,
   "id": "62f09798-2e66-4fff-9486-e68a2bc53425",
   "metadata": {
    "colab": {
     "base_uri": "https://localhost:8080/",
     "height": 469
    },
    "id": "62f09798-2e66-4fff-9486-e68a2bc53425",
    "outputId": "2cff5b01-aae5-4272-e0b0-06739d433d93",
    "tags": []
   },
   "outputs": [],
   "source": [
    "fig,ax = plt.subplots(1,2)\n",
    "ax[0].plot(x,u,'--',label=r\"$(x_i,u_i)$\")\n",
    "ax[0].plot(x,yhat.data,'--',label=r\"$(x_i,\\hat{u}_i)$\")\n",
    "ax[0].legend()\n",
    "ax[0].set_title(\"before sig\")\n",
    "ax[1].plot(x,y,'.',alpha=0.02,color=\"blue\")\n",
    "ax[1].plot(x,v,'--', color=\"C0\", label=r\"$(x_i,v_i)$ or $(x_i,\\pi_i)$\")\n",
    "ax[1].plot(x,sig(yhat.data),'--',color=\"C1\",label=r\"$(x_i,\\hat{v}_i)$ or $(x_i,\\hat{\\pi}_i)$\")\n",
    "ax[1].legend()\n",
    "ax[1].set_title(\"after sig\")"
   ]
  },
  {
   "cell_type": "markdown",
   "id": "0da722f1-b49a-4c3f-bb66-4fd5338b6026",
   "metadata": {
    "id": "0da722f1-b49a-4c3f-bb66-4fd5338b6026"
   },
   "source": [
    "## B. 곡선은 표현 불가능하지 않나?"
   ]
  },
  {
   "cell_type": "markdown",
   "id": "2b724540-d71b-4f84-afbe-f375dff9e79b",
   "metadata": {
    "id": "2b724540-d71b-4f84-afbe-f375dff9e79b"
   },
   "source": [
    "`-` 맞춰봐^[2024년 수능 미적30번 문제에 나온 함수응용]"
   ]
  },
  {
   "cell_type": "markdown",
   "id": "dfd54d3e-2d9a-4f86-a516-ad549741c3b4",
   "metadata": {
    "id": "dfd54d3e-2d9a-4f86-a516-ad549741c3b4"
   },
   "source": [
    "$$y_i = e^{-x_i} \\times  |\\cos(5x_i)| \\times \\sin(5x) + \\epsilon_i, \\quad \\epsilon_i \\sim N(0,\\sigma^2)$$"
   ]
  },
  {
   "cell_type": "code",
   "execution_count": null,
   "id": "7ea9daf4-d85d-4133-808d-327b1a7ef27d",
   "metadata": {
    "id": "7ea9daf4-d85d-4133-808d-327b1a7ef27d",
    "tags": []
   },
   "outputs": [],
   "source": [
    "torch.manual_seed(43052)\n",
    "x = torch.linspace(0,2,2000).reshape(-1,1)\n",
    "eps = torch.randn(2000).reshape(-1,1)*0.05\n",
    "fx = torch.exp(-1*x)* torch.abs(torch.cos(3*x))*(torch.sin(3*x))\n",
    "y = fx + eps"
   ]
  },
  {
   "cell_type": "code",
   "execution_count": null,
   "id": "56c0caba-42eb-4180-9545-eaa19893a7c9",
   "metadata": {
    "colab": {
     "base_uri": "https://localhost:8080/",
     "height": 447
    },
    "id": "56c0caba-42eb-4180-9545-eaa19893a7c9",
    "outputId": "cbcb709a-ad52-487b-ae24-c0693d0f3c4b",
    "tags": []
   },
   "outputs": [],
   "source": [
    "plt.plot(x,y,label=r\"observed data (with error): $(x_i,y_i)$\", alpha=0.2)\n",
    "plt.plot(x,fx,'--',color=\"C0\",label=r\"underlying (true, unknown): $e^{-x}|\\cos(3x)|\\sin(3x)$\")\n",
    "plt.legend()"
   ]
  },
  {
   "cell_type": "markdown",
   "id": "17c3980e-a190-4660-b963-f0b3f4d81839",
   "metadata": {
    "id": "17c3980e-a190-4660-b963-f0b3f4d81839"
   },
   "source": [
    "`-` 맞춰본다.."
   ]
  },
  {
   "cell_type": "markdown",
   "id": "82106d8b-ad05-49c3-a11f-24c80f624bf5",
   "metadata": {
    "id": "82106d8b-ad05-49c3-a11f-24c80f624bf5",
    "tags": []
   },
   "source": [
    "-   $\\underset{(n,1)}{\\bf X} \\overset{l_1}{\\to} \\underset{(n,1024)}{\\boldsymbol u^{(1)}} \\overset{a_1}{\\to} \\underset{(n,1024)}{\\boldsymbol v^{(1)}} \\overset{l_1}{\\to} \\underset{(n,1)}{\\boldsymbol u^{(2)}} \\overset{a_2}{\\to} \\underset{(n,1)}{\\boldsymbol v^{(2)}}=\\underset{(n,1)}{\\hat{\\boldsymbol y}}$"
   ]
  },
  {
   "cell_type": "code",
   "execution_count": null,
   "id": "6cbf3e76-00c7-45e7-a9f7-c42847910c41",
   "metadata": {
    "id": "6cbf3e76-00c7-45e7-a9f7-c42847910c41",
    "tags": []
   },
   "outputs": [],
   "source": [
    "#torch.manual_seed(43052)\n",
    "net = torch.nn.Sequential(\n",
    "    torch.nn.Linear(1,1024),\n",
    "    torch.nn.ReLU(),\n",
    "    torch.nn.Linear(1024,1)\n",
    ")\n",
    "loss_fn = torch.nn.MSELoss()\n",
    "optimizr = torch.optim.Adam(net.parameters())\n",
    "#--#\n",
    "for epoc in range(5000):\n",
    "    ## 1\n",
    "    yhat = net(x)\n",
    "    ## 2\n",
    "    loss = loss_fn(yhat,y)\n",
    "    ## 3\n",
    "    loss.backward()\n",
    "    ## 4\n",
    "    optimizr.step()\n",
    "    optimizr.zero_grad()"
   ]
  },
  {
   "cell_type": "code",
   "execution_count": null,
   "id": "c44b2ade-cf55-4ee0-9c5d-fa64730a61dc",
   "metadata": {
    "colab": {
     "base_uri": "https://localhost:8080/",
     "height": 447
    },
    "id": "c44b2ade-cf55-4ee0-9c5d-fa64730a61dc",
    "outputId": "ec1e1309-5653-46e4-9448-070a21997948",
    "tags": []
   },
   "outputs": [],
   "source": [
    "plt.plot(x,y,label=r\"observed data: $(x_i,y_i)$\", alpha=0.2)\n",
    "plt.plot(x,fx,'--',color=\"C0\",label=r\"underlying (true, unkown): $e^{-x}|\\cos(3x)|\\sin(3x)$\")\n",
    "plt.plot(x,yhat.data,'--',color=\"C1\",label=r\"underlying (esimated): $(x_i,\\hat{y}_i)$\")\n",
    "plt.legend()"
   ]
  },
  {
   "cell_type": "markdown",
   "id": "1f139a9e-ad22-4342-8935-44a8d2d0ee41",
   "metadata": {
    "id": "1f139a9e-ad22-4342-8935-44a8d2d0ee41"
   },
   "source": [
    "# 4. 시벤코정리"
   ]
  },
  {
   "cell_type": "markdown",
   "id": "165f6d3c-7066-4dda-be99-b2fbd9438c9d",
   "metadata": {
    "id": "165f6d3c-7066-4dda-be99-b2fbd9438c9d"
   },
   "source": [
    "## A. 시벤코의 정리 소개"
   ]
  },
  {
   "cell_type": "markdown",
   "id": "ceeb763e-ee27-42a9-b04d-9eedeaf33ee7",
   "metadata": {
    "id": "ceeb763e-ee27-42a9-b04d-9eedeaf33ee7"
   },
   "source": [
    "::: {.callout-note}\n",
    "### Universal Approximation Thm [@cybenko1989approximation]\n",
    "\n",
    "하나의 은닉층을 가지는 아래와 같은 꼴의 네트워크 $net: {\\bf X}_{n \\times p} \\to {\\bf y}_{n\\times q}$는\n",
    "\n",
    "```Python\n",
    "net = torch.nn.Sequential(\n",
    "    torch.nn.Linear(p,???),\n",
    "    torch.nn.Sigmoid(),\n",
    "    torch.nn.Linear(???,q)\n",
    ")\n",
    "```\n",
    "\n",
    "모든 continuous mapping\n",
    "\n",
    "$$f: {\\bf X}_{n \\times p} \\to {\\bf y}_{n\\times q}$$\n",
    "\n",
    "를 원하는 정확도로 \"근사\"시킬 수 있다. 쉽게 말하면 ${\\bf X} \\to {\\bf y}$ 인 어떠한 복잡한 규칙라도 하나의 은닉층을 가진 신경망이 원하는 정확도로 근사시킨다는 의미이다. 예를들면 아래와 같은 문제를 해결할 수 있다.\n",
    "\n",
    "- ${\\bf X}$는 토익점수, GPA, 공모전참가여부, ${\\bf y}$는 취업여부일 경우 ${\\bf X} \\to {\\bf y}$인 규칙을 심층신경망은 항상 찾을 수 있다.\n",
    "- ${\\bf X}$는 주택이미지, 지역정보, 주택면적, 주택에 대한 설명 ${\\bf y}$는 주택가격일 경우 ${\\bf X} \\to {\\bf y}$인 규칙을 심층신경망은 항상 찾을 수 있다.\n",
    "\n",
    "즉 하나의 은닉층을 가진 신경망의 표현력은 무한대라 볼 수 있다.\n",
    ":::\n",
    "\n"
   ]
  },
  {
   "cell_type": "markdown",
   "id": "f2da5228-a51e-496c-b8a8-0c8d55dbcd2d",
   "metadata": {
    "id": "f2da5228-a51e-496c-b8a8-0c8d55dbcd2d"
   },
   "source": [
    "## B. 왜 가능한가?"
   ]
  },
  {
   "cell_type": "markdown",
   "id": "75155557-cc73-48ce-afff-1510e4fca6c4",
   "metadata": {
    "id": "75155557-cc73-48ce-afff-1510e4fca6c4"
   },
   "source": [
    "`-` 데이터"
   ]
  },
  {
   "cell_type": "code",
   "execution_count": null,
   "id": "4115767c-8769-4bf5-aee8-ff966f775e8c",
   "metadata": {
    "id": "4115767c-8769-4bf5-aee8-ff966f775e8c",
    "tags": []
   },
   "outputs": [],
   "source": [
    "x = torch.linspace(-10,10,200).reshape(-1,1)"
   ]
  },
  {
   "cell_type": "markdown",
   "id": "9621b86b-9722-4564-9851-a345007aa9b4",
   "metadata": {
    "id": "9621b86b-9722-4564-9851-a345007aa9b4"
   },
   "source": [
    "`-` 아래와 같은 네트워크를 고려하자. (스펙올라도 취업못하는 예제에서 썼던 네크워크랑 비슷해요)"
   ]
  },
  {
   "cell_type": "code",
   "execution_count": null,
   "id": "4c0ffe52-de32-4018-b737-28ad38055fda",
   "metadata": {
    "id": "4c0ffe52-de32-4018-b737-28ad38055fda",
    "tags": []
   },
   "outputs": [],
   "source": [
    "l1 = torch.nn.Linear(in_features=1,out_features=2)\n",
    "a1 = torch.nn.Sigmoid()\n",
    "l2 = torch.nn.Linear(in_features=2,out_features=1)"
   ]
  },
  {
   "cell_type": "markdown",
   "id": "cd9b79d3-a666-41e2-a3d6-036f8a3ea70f",
   "metadata": {
    "id": "cd9b79d3-a666-41e2-a3d6-036f8a3ea70f"
   },
   "source": [
    "`-` 직관1: $l_1$,$l_2$의 가중치를 잘 결합하다보면 우연히 아래와 같이 만들 수 있다."
   ]
  },
  {
   "cell_type": "code",
   "execution_count": null,
   "id": "106c8a26-baa1-4db5-b369-4909a67ff964",
   "metadata": {
    "id": "106c8a26-baa1-4db5-b369-4909a67ff964",
    "tags": []
   },
   "outputs": [],
   "source": [
    "l1.weight.data = torch.tensor([[-5.00],[5.00]])\n",
    "l1.bias.data = torch.tensor([+10.00,+10.00])"
   ]
  },
  {
   "cell_type": "code",
   "execution_count": null,
   "id": "a7525e1d-ce76-41bb-a07b-a037a7c261b1",
   "metadata": {
    "id": "a7525e1d-ce76-41bb-a07b-a037a7c261b1",
    "tags": []
   },
   "outputs": [],
   "source": [
    "l2.weight.data = torch.tensor([[1.00,1.00]])\n",
    "l2.bias.data = torch.tensor([-1.00])"
   ]
  },
  {
   "cell_type": "code",
   "execution_count": null,
   "id": "653f221c-4d7f-41e1-882e-975ee5030dd6",
   "metadata": {
    "colab": {
     "base_uri": "https://localhost:8080/",
     "height": 333
    },
    "id": "653f221c-4d7f-41e1-882e-975ee5030dd6",
    "outputId": "5c41ab44-f436-4964-cb50-22fdc47932d1",
    "tags": []
   },
   "outputs": [],
   "source": [
    "fig,ax = plt.subplots(1,3,figsize=(9,3))\n",
    "ax[0].plot(x,l1(x)[:,[0]].data,label=r\"$-5x+10$\")\n",
    "ax[0].plot(x,l1(x)[:,[1]].data,label=r\"$5x+10$\")\n",
    "ax[0].set_title('$l_1(x)$')\n",
    "ax[0].legend()\n",
    "ax[1].plot(x,a1(l1(x))[:,[0]].data,label=r\"$v_1=sig(-5x+10)$\")\n",
    "ax[1].plot(x,a1(l1(x))[:,[1]].data,label=r\"$v_2=sig(5x+10)$\")\n",
    "ax[1].set_title('$(a_1 \\circ l_1)(x)$')\n",
    "ax[1].legend()\n",
    "ax[2].plot(x,l2(a1(l1(x))).data,color='C2',label=r\"$v_1+v_2-1$\")\n",
    "ax[2].set_title('$(l_2 \\circ a_1 \\circ \\l_1)(x)$')\n",
    "ax[2].legend()"
   ]
  },
  {
   "cell_type": "markdown",
   "id": "8aa73d82-1d12-407f-ae1d-f950e262d115",
   "metadata": {
    "id": "8aa73d82-1d12-407f-ae1d-f950e262d115"
   },
   "source": [
    "`-` 직관2: 아래들도 가능할듯?"
   ]
  },
  {
   "cell_type": "code",
   "execution_count": null,
   "id": "f5e9d663-3483-44f2-ae9f-d1351251b699",
   "metadata": {
    "colab": {
     "base_uri": "https://localhost:8080/",
     "height": 333
    },
    "id": "f5e9d663-3483-44f2-ae9f-d1351251b699",
    "outputId": "ac57530f-141b-4a8a-8198-13f560c5a03d",
    "tags": []
   },
   "outputs": [],
   "source": [
    "l1.weight.data = torch.tensor([[-5.00],[5.00]])\n",
    "l1.bias.data = torch.tensor([+0.00,+20.00])\n",
    "l2.weight.data = torch.tensor([[1.00,1.00]])\n",
    "l2.bias.data = torch.tensor([-1.00])\n",
    "fig,ax = plt.subplots(1,3,figsize=(9,3))\n",
    "ax[0].plot(x,l1(x).data.numpy(),'--',color='C0'); ax[0].set_title('$l_1(x)$')\n",
    "ax[1].plot(x,a1(l1(x)).data.numpy(),'--',color='C0'); ax[1].set_title('$(a_1 \\circ l_1)(x)$')\n",
    "ax[2].plot(x,l2(a1(l1(x))).data,'--',color='C0'); ax[2].set_title('$(l_2 \\circ a_1 \\circ \\l_1)(x)$');\n",
    "ax[2].set_ylim(-0.1,2.6)"
   ]
  },
  {
   "cell_type": "code",
   "execution_count": null,
   "id": "0636a6de-a70f-48a5-8af4-eb4a27d18f90",
   "metadata": {
    "colab": {
     "base_uri": "https://localhost:8080/",
     "height": 333
    },
    "id": "0636a6de-a70f-48a5-8af4-eb4a27d18f90",
    "outputId": "e2307b59-0b77-445c-cb76-45e10cab4489",
    "tags": []
   },
   "outputs": [],
   "source": [
    "l1.weight.data = torch.tensor([[-5.00],[5.00]])\n",
    "l1.bias.data = torch.tensor([+20.00,+00.00])\n",
    "l2.weight.data = torch.tensor([[2.50,2.50]])\n",
    "l2.bias.data = torch.tensor([-2.50])\n",
    "fig,ax = plt.subplots(1,3,figsize=(9,3))\n",
    "ax[0].plot(x,l1(x).data.numpy(),'--',color='C1'); ax[0].set_title('$l_1(x)$')\n",
    "ax[1].plot(x,a1(l1(x)).data.numpy(),'--',color='C1'); ax[1].set_title('$(a_1 \\circ l_1)(x)$')\n",
    "ax[2].plot(x,l2(a1(l1(x))).data,'--',color='C1'); ax[2].set_title('$(l_2 \\circ a_1 \\circ \\l_1)(x)$');\n",
    "ax[2].set_ylim(-0.1,2.6)"
   ]
  },
  {
   "cell_type": "markdown",
   "id": "bd63e816-5721-4596-9082-d640f5f1f26f",
   "metadata": {
    "id": "bd63e816-5721-4596-9082-d640f5f1f26f"
   },
   "source": [
    "`-` 직관3: `은닉층의노드수=4`로 하고 적당한 가중치를 조정하면 $(l_2\\circ a_1 \\circ l_1)(x)$의 결과로 주황색선 + 파란색선도 가능할 것 같다. $\\to$ 실제로 가능함"
   ]
  },
  {
   "cell_type": "code",
   "execution_count": null,
   "id": "4c03911e-23f6-4b43-a328-8a92d4ab9619",
   "metadata": {
    "id": "4c03911e-23f6-4b43-a328-8a92d4ab9619",
    "tags": []
   },
   "outputs": [],
   "source": [
    "l1 = torch.nn.Linear(in_features=1,out_features=4)\n",
    "a1 = torch.nn.Sigmoid()\n",
    "l2 = torch.nn.Linear(in_features=4,out_features=1)"
   ]
  },
  {
   "cell_type": "code",
   "execution_count": null,
   "id": "222669f7-33ba-47bb-91e0-a1f284c94814",
   "metadata": {
    "id": "222669f7-33ba-47bb-91e0-a1f284c94814",
    "tags": []
   },
   "outputs": [],
   "source": [
    "l1.weight.data = torch.tensor([[-5.00],[5.00],[-5.00],[5.00]])\n",
    "l1.bias.data = torch.tensor([0.00, 20.00, 20.00, 0])\n",
    "l2.weight.data = torch.tensor([[1.00,  1.00, 2.50,  2.50]])\n",
    "l2.bias.data = torch.tensor([-1.0-2.5])"
   ]
  },
  {
   "cell_type": "code",
   "execution_count": null,
   "id": "9c17fd18-259d-4b20-ba61-21bf0200eeab",
   "metadata": {
    "colab": {
     "base_uri": "https://localhost:8080/",
     "height": 471
    },
    "id": "9c17fd18-259d-4b20-ba61-21bf0200eeab",
    "outputId": "d2bdf106-045a-415d-9ea7-ba200f179b1b",
    "tags": []
   },
   "outputs": [],
   "source": [
    "plt.plot(l2(a1(l1(x))).data,'--')\n",
    "plt.title(r\"$(l_2 \\circ a_1 \\circ l_1)(x)$\")"
   ]
  },
  {
   "cell_type": "markdown",
   "id": "044d445d-142d-4b8f-8585-eeceec5fdd4e",
   "metadata": {
    "id": "044d445d-142d-4b8f-8585-eeceec5fdd4e",
    "tags": []
   },
   "source": [
    "> 이러한 함수는 계단모양이며, 0을 제외한 서로다른 계단의 높이는 2개가 된다. 이를 간단히 \"2단계-계단함수\"라고 칭하자."
   ]
  },
  {
   "cell_type": "markdown",
   "id": "a512f057-c366-411a-87f6-ac48c6b107eb",
   "metadata": {
    "id": "a512f057-c366-411a-87f6-ac48c6b107eb"
   },
   "source": [
    "`-` 정리1: 2개의 시그모이드를 우연히 잘 결합하면 아래와 같은 \"1단계-계단함수\" 함수 $h$를 만들 수 있다."
   ]
  },
  {
   "cell_type": "code",
   "execution_count": null,
   "id": "c873fec8-95bc-4377-bf04-d1d43527de0f",
   "metadata": {
    "id": "c873fec8-95bc-4377-bf04-d1d43527de0f",
    "tags": []
   },
   "outputs": [],
   "source": [
    "h = lambda x: torch.sigmoid(200*(x+0.5))+torch.sigmoid(-200*(x-0.5))-1.0"
   ]
  },
  {
   "cell_type": "code",
   "execution_count": null,
   "id": "fff5f8d2-9158-491d-8d8b-658a6bc184e8",
   "metadata": {
    "colab": {
     "base_uri": "https://localhost:8080/",
     "height": 471
    },
    "id": "fff5f8d2-9158-491d-8d8b-658a6bc184e8",
    "outputId": "22026c5e-c845-4611-db68-bd3c35bc57cc",
    "tags": []
   },
   "outputs": [],
   "source": [
    "plt.plot(x,h(x))\n",
    "plt.title(\"$h(x)$\")"
   ]
  },
  {
   "cell_type": "markdown",
   "id": "686824b2-c97e-43cb-89df-d718f904dc92",
   "metadata": {
    "id": "686824b2-c97e-43cb-89df-d718f904dc92"
   },
   "source": [
    "`-` 정리2: 위와 같은 함수 $h$를 활성화함수로 하고 $m$개의 노드를 가지는 은닉층을 생각해보자. 이러한 은닉층을 사용한다면 \"m단계-계단함수\"와 같은 형태의 네트워크는 아래와 같이 $m$개의 은닉노드를 써서 항상 표현할 수 있다."
   ]
  },
  {
   "cell_type": "markdown",
   "id": "2aa129e5-1b27-4dd6-8d0c-93b85dc318aa",
   "metadata": {
    "id": "2aa129e5-1b27-4dd6-8d0c-93b85dc318aa"
   },
   "source": [
    "$$\\underset{(n,1)}{\\bf X} \\overset{l_1}{\\to} \\underset{(n,m)}{\\boldsymbol u^{(1)}} \\overset{h}{\\to} \\underset{(n,m)}{\\boldsymbol v^{(1)}} \\overset{l_2}{\\to} \\underset{(n,1)}{\\hat{\\boldsymbol y}}$$"
   ]
  },
  {
   "cell_type": "markdown",
   "id": "710fbd73-aed2-4079-87ab-5ff65fb843a3",
   "metadata": {
    "id": "710fbd73-aed2-4079-87ab-5ff65fb843a3"
   },
   "source": [
    "그리고 위의 네트워크와 동일한 효과를 주는 아래의 네트워크가 항상 존재함."
   ]
  },
  {
   "cell_type": "markdown",
   "id": "704b9b08-7947-4a0d-93dd-1d71cf14b0c8",
   "metadata": {
    "id": "704b9b08-7947-4a0d-93dd-1d71cf14b0c8"
   },
   "source": [
    "$$\\underset{(n,1)}{\\bf X} \\overset{l_1}{\\to} \\underset{(n,2m)}{\\boldsymbol u^{(1)}} \\overset{sig}{\\to} \\underset{(n,2m)}{\\boldsymbol v^{(1)}} \\overset{l_2}{\\to} \\underset{(n,1)}{\\hat{\\boldsymbol y}}$$"
   ]
  },
  {
   "cell_type": "markdown",
   "id": "f6a18dbb-bd5e-498c-ace8-3a35953253b8",
   "metadata": {
    "id": "f6a18dbb-bd5e-498c-ace8-3a35953253b8",
    "tags": []
   },
   "source": [
    "`-` 직관4: 그런데 어떠한 함수형태라도 구불구불한 \"m단계-계단함수\"로 다 근사할 수 있지 않나?"
   ]
  },
  {
   "cell_type": "markdown",
   "id": "722e80df-09dd-476d-a099-edb5607755e8",
   "metadata": {
    "id": "722e80df-09dd-476d-a099-edb5607755e8"
   },
   "source": [
    "## C. $h$의 위력"
   ]
  },
  {
   "cell_type": "markdown",
   "id": "9671c46c-5867-496e-b59f-142a1f1e5545",
   "metadata": {
    "id": "9671c46c-5867-496e-b59f-142a1f1e5545"
   },
   "source": [
    "`-` $h(x)$를 생성하는 클래스를 만들어보자."
   ]
  },
  {
   "cell_type": "code",
   "execution_count": null,
   "id": "0621cd71-a43d-4dfa-b9da-e9222cb51323",
   "metadata": {
    "id": "0621cd71-a43d-4dfa-b9da-e9222cb51323",
    "tags": []
   },
   "outputs": [],
   "source": [
    "class MyActivation(torch.nn.Module): ## 사용자정의 활성화함수를 선언하는 방법\n",
    "    def __init__(self):\n",
    "        super().__init__()\n",
    "    def forward(self, u):\n",
    "        h = lambda x: torch.sigmoid(200*(x+0.5))+torch.sigmoid(-200*(x-0.5))-1.0\n",
    "        v = h(u)\n",
    "        return v # activation 의 출력"
   ]
  },
  {
   "cell_type": "code",
   "execution_count": null,
   "id": "9c333329-32cc-4f9f-9216-a334c30f9559",
   "metadata": {
    "id": "9c333329-32cc-4f9f-9216-a334c30f9559",
    "tags": []
   },
   "outputs": [],
   "source": [
    "a1 = MyActivation()\n",
    "# a1 = torch.nn.Sigmoid(), a1 = torch.nn.ReLU() 대신에 a1 = MyActivation()"
   ]
  },
  {
   "cell_type": "markdown",
   "id": "c18db2d0-842a-4efa-a6b7-73dea080f50a",
   "metadata": {
    "id": "c18db2d0-842a-4efa-a6b7-73dea080f50a"
   },
   "source": [
    "`-` 아래와 같이 하나의 은닉층을 가지고 있더라도 많은 노드수만 보장되면 매우 충분한 표현력을 가짐"
   ]
  },
  {
   "cell_type": "markdown",
   "id": "b6b15bed-71aa-4f4d-8a27-04f326bbb18d",
   "metadata": {
    "id": "b6b15bed-71aa-4f4d-8a27-04f326bbb18d"
   },
   "source": [
    "$$\\underset{(n,1)}{\\bf X} \\overset{l_1}{\\to} \\underset{(n,m)}{\\boldsymbol u^{(1)}} \\overset{h}{\\to} \\underset{(n,m)}{\\boldsymbol v^{(1)}} \\overset{l_2}{\\to} \\underset{(n,1)}{\\hat{\\boldsymbol y}}$$"
   ]
  },
  {
   "cell_type": "markdown",
   "id": "1a30fae0-e04a-480f-8a1f-664e313b849f",
   "metadata": {
    "id": "1a30fae0-e04a-480f-8a1f-664e313b849f"
   },
   "source": [
    "`-` $h$의 위력"
   ]
  },
  {
   "cell_type": "markdown",
   "id": "f53ac640-729c-4906-8d9e-4a39365bfa96",
   "metadata": {
    "id": "f53ac640-729c-4906-8d9e-4a39365bfa96"
   },
   "source": [
    "**예제1** -- 스펙높아도 취업이 안된다고??"
   ]
  },
  {
   "cell_type": "code",
   "execution_count": null,
   "id": "9061e69a-71bf-4e3c-b4c9-2849ea14a26f",
   "metadata": {
    "id": "9061e69a-71bf-4e3c-b4c9-2849ea14a26f",
    "tags": []
   },
   "outputs": [],
   "source": [
    "df = pd.read_csv(\"https://raw.githubusercontent.com/guebin/DL2024/main/posts/dnnex.csv\")\n",
    "x = torch.tensor(df.x).float().reshape(-1,1)\n",
    "y = torch.tensor(df.y).float().reshape(-1,1)\n",
    "prob = torch.tensor(df.prob).float().reshape(-1,1)"
   ]
  },
  {
   "cell_type": "code",
   "execution_count": null,
   "id": "607fcb0d-74ea-4f19-8e7d-a293b3c95793",
   "metadata": {
    "id": "607fcb0d-74ea-4f19-8e7d-a293b3c95793",
    "tags": []
   },
   "outputs": [],
   "source": [
    "torch.manual_seed(43052)\n",
    "class MyActivation(torch.nn.Module):\n",
    "    def __init__(self):\n",
    "        super().__init__()\n",
    "    def forward(self, u):\n",
    "        h = lambda x: torch.sigmoid(200*(x+0.5))+torch.sigmoid(-200*(x-0.5))-1.0\n",
    "        v = h(u)\n",
    "        return v\n",
    "#---#\n",
    "net = torch.nn.Sequential(\n",
    "    torch.nn.Linear(1,2048),\n",
    "    MyActivation(),\n",
    "    torch.nn.Linear(2048,1),\n",
    "    torch.nn.Sigmoid()\n",
    ")\n",
    "loss_fn = torch.nn.BCELoss()\n",
    "optimizr = torch.optim.Adam(net.parameters())\n",
    "#---#\n",
    "for epoc in range(100):\n",
    "    ## 1\n",
    "    yhat = net(x)\n",
    "    ## 2\n",
    "    loss = loss_fn(yhat,y)\n",
    "    ## 3\n",
    "    loss.backward()\n",
    "    ## 4\n",
    "    optimizr.step()\n",
    "    optimizr.zero_grad()"
   ]
  },
  {
   "cell_type": "code",
   "execution_count": null,
   "id": "666b3106-f7de-45e2-9921-8b9d95c6185b",
   "metadata": {
    "colab": {
     "base_uri": "https://localhost:8080/",
     "height": 447
    },
    "id": "666b3106-f7de-45e2-9921-8b9d95c6185b",
    "outputId": "770da565-c059-4e58-9d97-6fd69fcaac73",
    "tags": []
   },
   "outputs": [],
   "source": [
    "plt.plot(x,y,'o',alpha=0.2, label=\"observed data (with error)\")\n",
    "plt.plot(x,prob,'--', label=\"prob (true, unknown)\")\n",
    "plt.plot(x,net(x).data,'--',label=\"prob (estimated)\")\n",
    "plt.legend()"
   ]
  },
  {
   "cell_type": "markdown",
   "id": "7b78e485-56e9-4748-922d-fe0ed116076b",
   "metadata": {
    "id": "7b78e485-56e9-4748-922d-fe0ed116076b"
   },
   "source": [
    "**예제2** -- 수능에 나왔다던 이상한 곡선..?"
   ]
  },
  {
   "cell_type": "code",
   "execution_count": null,
   "id": "70503c55-d689-4b36-b63d-60f1347db07e",
   "metadata": {
    "id": "70503c55-d689-4b36-b63d-60f1347db07e",
    "tags": []
   },
   "outputs": [],
   "source": [
    "torch.manual_seed(43052)\n",
    "x = torch.linspace(0,2,2000).reshape(-1,1)\n",
    "eps = torch.randn(2000).reshape(-1,1)*0.05\n",
    "fx = torch.exp(-1*x)* torch.abs(torch.cos(3*x))*(torch.sin(3*x))\n",
    "y = fx + eps"
   ]
  },
  {
   "cell_type": "code",
   "execution_count": null,
   "id": "9f71f731-0fe0-462d-9e0e-1246885c267f",
   "metadata": {
    "id": "9f71f731-0fe0-462d-9e0e-1246885c267f",
    "tags": []
   },
   "outputs": [],
   "source": [
    "torch.manual_seed(43052)\n",
    "class MyActivation(torch.nn.Module):\n",
    "    def __init__(self):\n",
    "        super().__init__()\n",
    "    def forward(self, u):\n",
    "        h = lambda x: torch.sigmoid(200*(x+0.5))+torch.sigmoid(-200*(x-0.5))-1.0\n",
    "        v = h(u)\n",
    "        return v\n",
    "#---#\n",
    "net = torch.nn.Sequential(\n",
    "    torch.nn.Linear(1,2048),\n",
    "    MyActivation(),\n",
    "    torch.nn.Linear(2048,1),\n",
    ")\n",
    "loss_fn = torch.nn.MSELoss()\n",
    "optimizr = torch.optim.Adam(net.parameters())\n",
    "#---#\n",
    "for epoc in range(100):\n",
    "    ## 1\n",
    "    yhat = net(x)\n",
    "    ## 2\n",
    "    loss = loss_fn(yhat,y)\n",
    "    ## 3\n",
    "    loss.backward()\n",
    "    ## 4\n",
    "    optimizr.step()\n",
    "    optimizr.zero_grad()"
   ]
  },
  {
   "cell_type": "code",
   "execution_count": null,
   "id": "e6009dba-b741-4c83-969d-407618dbb883",
   "metadata": {
    "colab": {
     "base_uri": "https://localhost:8080/",
     "height": 447
    },
    "id": "e6009dba-b741-4c83-969d-407618dbb883",
    "outputId": "16ee3e97-d6dc-4f5d-c7f2-bbb6eec6371f",
    "tags": []
   },
   "outputs": [],
   "source": [
    "plt.plot(x,y,alpha=0.2,label=\"observed data (with error)\")\n",
    "plt.plot(x,fx,'--',label=\"underlying (true, unknown)\")\n",
    "plt.plot(x,net(x).data,'--',label=\"underlying (estimated)\")\n",
    "plt.legend()"
   ]
  },
  {
   "cell_type": "markdown",
   "id": "37076b14-da00-4bc5-b983-9fc403219e09",
   "metadata": {
    "id": "37076b14-da00-4bc5-b983-9fc403219e09"
   },
   "source": [
    "## D. 의문점"
   ]
  },
  {
   "cell_type": "markdown",
   "id": "7e7e5f5b-e02c-41aa-88fa-adacdd19606e",
   "metadata": {
    "id": "7e7e5f5b-e02c-41aa-88fa-adacdd19606e"
   },
   "source": [
    "`-` 이 수업을 잘 이해한 사람: 그냥 활성화함수를 $h$로 쓰면 끝 아니야? 뭐하러 relu 를 쓰는거지?"
   ]
  },
  {
   "cell_type": "markdown",
   "id": "ba832358-3edc-4a3a-a4df-15b277c15ed1",
   "metadata": {
    "id": "ba832358-3edc-4a3a-a4df-15b277c15ed1",
    "tags": []
   },
   "source": [
    "`-` 딥러닝을 좀 공부해본사람1: 왜 딥러닝이 2010년이 지나서야 떳지? 1989년에 세상의 모든 문제가 풀려야 하는것 아닌가?"
   ]
  },
  {
   "cell_type": "markdown",
   "id": "8cf19ab6-1502-438e-9db8-c299087a68d7",
   "metadata": {
    "id": "8cf19ab6-1502-438e-9db8-c299087a68d7",
    "tags": []
   },
   "source": [
    "`-` 딥러닝을 좀 공부해본사람2: 하나의 은닉층을 표현하는 네크워크는 잘 안쓰지 않나? 은닉층이 많을수록 좋다고 들었는데?"
   ]
  },
  {
   "cell_type": "markdown",
   "id": "6ac00c11-9296-4eff-b31a-9eef3b232d61",
   "metadata": {
    "id": "6ac00c11-9296-4eff-b31a-9eef3b232d61",
    "tags": []
   },
   "source": [
    "`-` 약간의 의구심이 있지만 아무튼 우리는 아래의 무기를 가진 꼴이 되었다.\n",
    "\n",
    "::: {.callout-tip}\n",
    "### 우리의 무기\n",
    "\n",
    "하나의 은닉층을 가지는 아래와 같은 꼴의 네트워크로,\n",
    "```Python\n",
    "net = torch.nn.Sequential(\n",
    "    torch.nn.Linear(p,???),\n",
    "    torch.nn.Sigmoid(),\n",
    "    torch.nn.Linear(???,q)\n",
    ")\n",
    "```\n",
    "\n",
    "$f: {\\bf X}_{n \\times p} \\to {\\bf y}_{n\\times q}$ 인 모든 continuous mapping $f$ 을 원하는 정확도로 \"근사\"시킬 수 있다.\n",
    ":::\n",
    "\n"
   ]
  },
  {
   "cell_type": "markdown",
   "id": "90c1cab6-ef21-491a-b569-890a949c0982",
   "metadata": {
    "id": "90c1cab6-ef21-491a-b569-890a949c0982"
   },
   "source": [
    "# 5. MNIST 해결"
   ]
  },
  {
   "cell_type": "markdown",
   "id": "6c32e827-d008-4067-8297-bbfb1eddf77b",
   "metadata": {
    "id": "6c32e827-d008-4067-8297-bbfb1eddf77b"
   },
   "source": [
    "## A. 데이터 다운로드"
   ]
  },
  {
   "cell_type": "code",
   "execution_count": null,
   "id": "13e399e1-be80-4571-b07f-832d208881b2",
   "metadata": {
    "tags": []
   },
   "outputs": [],
   "source": [
    "import fastai.data.all"
   ]
  },
  {
   "cell_type": "code",
   "execution_count": null,
   "id": "f2f90f6c-4035-4bd6-9c40-e9ed6053eb63",
   "metadata": {
    "colab": {
     "base_uri": "https://localhost:8080/",
     "height": 54
    },
    "id": "f2f90f6c-4035-4bd6-9c40-e9ed6053eb63",
    "outputId": "aca0aa31-740b-4582-944b-f46ac387caa3",
    "tags": []
   },
   "outputs": [],
   "source": [
    "fastai.data.external.untar_data('https://s3.amazonaws.com/fast-ai-imageclas/mnist_png.tgz')"
   ]
  },
  {
   "cell_type": "code",
   "execution_count": null,
   "id": "3f33cb6e-8732-4a29-be67-a2bc026c09f4",
   "metadata": {
    "colab": {
     "base_uri": "https://localhost:8080/"
    },
    "id": "3f33cb6e-8732-4a29-be67-a2bc026c09f4",
    "outputId": "e4124ba5-c556-4f4a-a548-83d4bcbfd6aa",
    "tags": []
   },
   "outputs": [],
   "source": [
    "!ls '/root/.fastai/data/mnist_png'"
   ]
  },
  {
   "cell_type": "code",
   "execution_count": null,
   "id": "9090ed65-0e02-4c42-a99c-adeaf8d4ef47",
   "metadata": {
    "colab": {
     "base_uri": "https://localhost:8080/"
    },
    "id": "9090ed65-0e02-4c42-a99c-adeaf8d4ef47",
    "outputId": "f9625f47-a36d-4937-d1e6-8e0d8b54e71a",
    "tags": []
   },
   "outputs": [],
   "source": [
    "!ls '/root/.fastai/data/mnist_png/training/'"
   ]
  },
  {
   "cell_type": "code",
   "execution_count": null,
   "id": "b6b17101-d5b9-49d8-b832-928ad9e4d166",
   "metadata": {
    "colab": {
     "base_uri": "https://localhost:8080/"
    },
    "id": "b6b17101-d5b9-49d8-b832-928ad9e4d166",
    "outputId": "fc9ca7bc-7e64-4c74-d11b-404f25ee6410",
    "tags": []
   },
   "outputs": [],
   "source": [
    "!ls '/root/.fastai/data/mnist_png/training/3' | head"
   ]
  },
  {
   "cell_type": "code",
   "execution_count": null,
   "id": "ad7808df-3777-4ddd-89bd-6f328eef0492",
   "metadata": {
    "id": "ad7808df-3777-4ddd-89bd-6f328eef0492",
    "tags": []
   },
   "outputs": [],
   "source": [
    "import torchvision"
   ]
  },
  {
   "cell_type": "code",
   "execution_count": null,
   "id": "071515f4-53d0-49d1-b08e-dd7f325e5624",
   "metadata": {
    "colab": {
     "base_uri": "https://localhost:8080/",
     "height": 447
    },
    "id": "071515f4-53d0-49d1-b08e-dd7f325e5624",
    "outputId": "080667f9-de9e-403e-8a01-d9d2d52733e3",
    "tags": []
   },
   "outputs": [],
   "source": [
    "img3 = torchvision.io.read_image('/root/.fastai/data/mnist_png/training/3/10.png')\n",
    "plt.imshow(img3.reshape(28,28),cmap=\"gray\")"
   ]
  },
  {
   "cell_type": "markdown",
   "id": "0e16d6b4-1fe2-4175-b072-e4817022c4e6",
   "metadata": {
    "id": "0e16d6b4-1fe2-4175-b072-e4817022c4e6"
   },
   "source": [
    "## B. 예비학습 -- ``plt.imshow()`"
   ]
  },
  {
   "cell_type": "markdown",
   "id": "27eb958d-be2f-499a-b0fb-c7e799a534e1",
   "metadata": {
    "id": "27eb958d-be2f-499a-b0fb-c7e799a534e1"
   },
   "source": [
    "`-` `plt.imshow(...)` 에서 `...`이 shape이 (??,??)이면 흑백이미지를 출력"
   ]
  },
  {
   "cell_type": "code",
   "execution_count": null,
   "id": "9cbf5f79-426e-43b2-aa03-1d09e539d680",
   "metadata": {
    "colab": {
     "base_uri": "https://localhost:8080/",
     "height": 452
    },
    "id": "9cbf5f79-426e-43b2-aa03-1d09e539d680",
    "outputId": "bbd382b0-2e79-4d17-d8f4-dfc557660cba",
    "tags": []
   },
   "outputs": [],
   "source": [
    "plt.imshow([[0,255],[0,255]],cmap='gray')"
   ]
  },
  {
   "cell_type": "markdown",
   "id": "df5d472b-96df-4fc1-afef-5253733e9372",
   "metadata": {
    "id": "df5d472b-96df-4fc1-afef-5253733e9372"
   },
   "source": [
    "`-` `plt.imshow(...)` 에서 `...`의 shape이 (??,??,3)이면 칼라이미지를 출력"
   ]
  },
  {
   "cell_type": "code",
   "execution_count": null,
   "id": "577efa5e-a6f9-4005-9cad-f4e3343fdb70",
   "metadata": {
    "colab": {
     "base_uri": "https://localhost:8080/",
     "height": 452
    },
    "id": "577efa5e-a6f9-4005-9cad-f4e3343fdb70",
    "outputId": "e0d82acc-b717-4dff-87cb-2f4af6e32e49",
    "tags": []
   },
   "outputs": [],
   "source": [
    "r = [[0,255],[0,255]]\n",
    "g = [[255,0],[0,0]]\n",
    "b = [[0,0],[255,0]]\n",
    "plt.imshow(np.stack([r,g,b],axis=2))"
   ]
  },
  {
   "cell_type": "markdown",
   "id": "44782a86-c20c-4e42-a89d-76aa5275bb2d",
   "metadata": {
    "id": "44782a86-c20c-4e42-a89d-76aa5275bb2d"
   },
   "source": [
    "`-` `plt.imshow(...)` 에서 `...`의 자료형이 int인지 float인지에 따라서 인식이 다름"
   ]
  },
  {
   "cell_type": "code",
   "execution_count": null,
   "id": "9c1a9e58-0322-4fe9-b88f-84cdbf227c98",
   "metadata": {
    "colab": {
     "base_uri": "https://localhost:8080/",
     "height": 452
    },
    "id": "9c1a9e58-0322-4fe9-b88f-84cdbf227c98",
    "outputId": "bb4c79a8-552a-4eb1-c80e-50bc067e39d7",
    "tags": []
   },
   "outputs": [],
   "source": [
    "r = [[0,1],[0,1]]\n",
    "g = [[1,0],[0,0]]\n",
    "b = [[0,0],[1,0]]\n",
    "plt.imshow(np.stack([r,g,b],axis=2))"
   ]
  },
  {
   "cell_type": "code",
   "execution_count": null,
   "id": "cb9ca1c5-b4bc-48df-a75b-3ef32377649e",
   "metadata": {
    "colab": {
     "base_uri": "https://localhost:8080/",
     "height": 452
    },
    "id": "cb9ca1c5-b4bc-48df-a75b-3ef32377649e",
    "outputId": "c57c632f-2176-415d-9fb2-ddb46e157848",
    "tags": []
   },
   "outputs": [],
   "source": [
    "r = [[0,1.0],[0,1.0]]\n",
    "g = [[1.0,0],[0,0]]\n",
    "b = [[0,0],[1.0,0]]\n",
    "plt.imshow(np.stack([r,g,b],axis=2))"
   ]
  },
  {
   "cell_type": "markdown",
   "id": "58b4e47c-2cd3-482e-9c04-69f905c3289a",
   "metadata": {
    "id": "58b4e47c-2cd3-482e-9c04-69f905c3289a"
   },
   "source": [
    "## C. 예비학습 -- pathlib"
   ]
  },
  {
   "cell_type": "markdown",
   "id": "b8878803-4d05-40af-8f50-0916e53730d0",
   "metadata": {
    "id": "b8878803-4d05-40af-8f50-0916e53730d0"
   },
   "source": [
    "`-` 오브젝트 생성"
   ]
  },
  {
   "cell_type": "code",
   "execution_count": null,
   "id": "4ba6ddb3-23a5-499a-9253-405aef0c20fe",
   "metadata": {
    "colab": {
     "base_uri": "https://localhost:8080/"
    },
    "id": "4ba6ddb3-23a5-499a-9253-405aef0c20fe",
    "outputId": "771455ac-92e7-4ee9-aa26-10c6be437076",
    "tags": []
   },
   "outputs": [],
   "source": [
    "path = fastai.imports.Path('.')\n",
    "path"
   ]
  },
  {
   "cell_type": "markdown",
   "id": "ec185bcb-84eb-414f-bce3-0d4b981373ec",
   "metadata": {
    "id": "ec185bcb-84eb-414f-bce3-0d4b981373ec"
   },
   "source": [
    "`-` 기능1 -- `.ls()`"
   ]
  },
  {
   "cell_type": "code",
   "execution_count": null,
   "id": "c2ad1637-2afa-438e-b8ad-3bbdcfb68f32",
   "metadata": {
    "colab": {
     "base_uri": "https://localhost:8080/"
    },
    "id": "c2ad1637-2afa-438e-b8ad-3bbdcfb68f32",
    "outputId": "fa5b3f95-289f-4005-e6c5-94e96db5e0ba",
    "tags": []
   },
   "outputs": [],
   "source": [
    "path.ls()"
   ]
  },
  {
   "cell_type": "markdown",
   "id": "994b55a8-a385-49d2-890c-5c40965e2941",
   "metadata": {
    "id": "994b55a8-a385-49d2-890c-5c40965e2941"
   },
   "source": [
    "`-` 이미지 파일이 저장된 경로로 새로운 `path`오브젝트를 만들고 기능1 수행"
   ]
  },
  {
   "cell_type": "code",
   "execution_count": null,
   "id": "9f6e5c71-0c1b-4dbb-b383-3d620f32f93f",
   "metadata": {
    "colab": {
     "base_uri": "https://localhost:8080/"
    },
    "id": "9f6e5c71-0c1b-4dbb-b383-3d620f32f93f",
    "outputId": "c0113f41-7881-452f-8bbb-211ea9a2315e",
    "tags": []
   },
   "outputs": [],
   "source": [
    "path = fastai.imports.Path('/root/.fastai/data/mnist_png')\n",
    "path"
   ]
  },
  {
   "cell_type": "code",
   "execution_count": null,
   "id": "df9d9b9c-8579-40e1-854e-4b24793cf6dd",
   "metadata": {
    "colab": {
     "base_uri": "https://localhost:8080/"
    },
    "id": "df9d9b9c-8579-40e1-854e-4b24793cf6dd",
    "outputId": "35f4cb01-33c2-4e65-d201-7e094f48eaca",
    "tags": []
   },
   "outputs": [],
   "source": [
    "path.ls()"
   ]
  },
  {
   "cell_type": "markdown",
   "id": "4122059e-0863-41da-8a08-0bd347447de4",
   "metadata": {
    "id": "4122059e-0863-41da-8a08-0bd347447de4"
   },
   "source": [
    "`-` 기능2: `/` 로 새로운 path 생성하기"
   ]
  },
  {
   "cell_type": "code",
   "execution_count": null,
   "id": "35237b29-c315-4501-92a1-8e680f819782",
   "metadata": {
    "colab": {
     "base_uri": "https://localhost:8080/"
    },
    "id": "35237b29-c315-4501-92a1-8e680f819782",
    "outputId": "31008d1f-d9ed-4114-8c74-3dbd45860d25",
    "tags": []
   },
   "outputs": [],
   "source": [
    "(path / 'training')"
   ]
  },
  {
   "cell_type": "markdown",
   "id": "d2d1526c-0c22-45ec-92b2-82ecf2a8c7e1",
   "metadata": {
    "id": "d2d1526c-0c22-45ec-92b2-82ecf2a8c7e1"
   },
   "source": [
    "`-` 기능1,2의 결합"
   ]
  },
  {
   "cell_type": "code",
   "execution_count": null,
   "id": "5c8f83ce-2341-4054-89cd-008d1715aa3c",
   "metadata": {
    "colab": {
     "base_uri": "https://localhost:8080/"
    },
    "id": "5c8f83ce-2341-4054-89cd-008d1715aa3c",
    "outputId": "b433d341-d46b-4057-fde1-a1f1a2aa454b",
    "tags": []
   },
   "outputs": [],
   "source": [
    "(path / 'training').ls()"
   ]
  },
  {
   "cell_type": "markdown",
   "id": "743654dc-bc27-4939-8b42-64af6178d8eb",
   "metadata": {
    "id": "743654dc-bc27-4939-8b42-64af6178d8eb"
   },
   "source": [
    "## D. 데이터정리"
   ]
  },
  {
   "cell_type": "markdown",
   "id": "2fec8a3d-1078-4577-8021-cc0e514e664b",
   "metadata": {
    "id": "2fec8a3d-1078-4577-8021-cc0e514e664b"
   },
   "source": [
    "`-` 데이터가 저장된 path 설정"
   ]
  },
  {
   "cell_type": "code",
   "execution_count": null,
   "id": "ef86287c-3500-4ddb-8268-f9cbfabe9500",
   "metadata": {
    "id": "ef86287c-3500-4ddb-8268-f9cbfabe9500",
    "tags": []
   },
   "outputs": [],
   "source": [
    "path = fastai.imports.Path('/root/.fastai/data/mnist_png')"
   ]
  },
  {
   "cell_type": "markdown",
   "id": "53bdaaff-100b-41d8-9f3d-06df67916844",
   "metadata": {
    "id": "53bdaaff-100b-41d8-9f3d-06df67916844"
   },
   "source": [
    "`-` `X` ,`y`를 만듦"
   ]
  },
  {
   "cell_type": "code",
   "execution_count": null,
   "id": "dd9897fa-d5e7-407a-bd70-954ac8f1477b",
   "metadata": {
    "id": "dd9897fa-d5e7-407a-bd70-954ac8f1477b",
    "tags": []
   },
   "outputs": [],
   "source": [
    "X3 = torch.stack([torchvision.io.read_image(str(i)) for i in (path/'training/3').ls()],axis=0)\n",
    "X7 = torch.stack([torchvision.io.read_image(str(i)) for i in (path/'training/7').ls()],axis=0)"
   ]
  },
  {
   "cell_type": "code",
   "execution_count": null,
   "id": "53e01b4d-3a4e-45db-8077-a0ffac807566",
   "metadata": {
    "colab": {
     "base_uri": "https://localhost:8080/"
    },
    "id": "53e01b4d-3a4e-45db-8077-a0ffac807566",
    "outputId": "b91e93e1-16e7-45d9-9242-e5f6b1688334",
    "tags": []
   },
   "outputs": [],
   "source": [
    "X3.shape, X7.shape"
   ]
  },
  {
   "cell_type": "code",
   "execution_count": null,
   "id": "a1723d4d-8898-4126-9764-08f8b5dd72e5",
   "metadata": {
    "id": "a1723d4d-8898-4126-9764-08f8b5dd72e5",
    "tags": []
   },
   "outputs": [],
   "source": [
    "y = torch.tensor([0.0]*6131+[1.0]*6265).reshape(-1,1)"
   ]
  },
  {
   "cell_type": "code",
   "execution_count": null,
   "id": "05d84e2f-f02a-4bcf-8649-e082a3ffe158",
   "metadata": {
    "colab": {
     "base_uri": "https://localhost:8080/"
    },
    "id": "05d84e2f-f02a-4bcf-8649-e082a3ffe158",
    "outputId": "4f7c39ff-dae8-4c52-8d6f-5094e4c74b9f",
    "tags": []
   },
   "outputs": [],
   "source": [
    "X = torch.concat([X3,X7],axis=0)\n",
    "X.shape"
   ]
  },
  {
   "cell_type": "code",
   "execution_count": null,
   "id": "647befcb-6888-4c68-96a4-cc400cef5091",
   "metadata": {
    "colab": {
     "base_uri": "https://localhost:8080/",
     "height": 447
    },
    "id": "647befcb-6888-4c68-96a4-cc400cef5091",
    "outputId": "53b78aa7-78bf-4a0a-bb6f-5b81279cbb15",
    "tags": []
   },
   "outputs": [],
   "source": [
    "plt.plot(y,'o')"
   ]
  },
  {
   "cell_type": "markdown",
   "id": "3543f880-783c-4378-b222-b3075d149b25",
   "metadata": {
    "id": "3543f880-783c-4378-b222-b3075d149b25",
    "tags": []
   },
   "source": [
    "- \"y=0.0\" 은 숫자3을 의미함, \"y=1.0\" 은 숫자7을 의미함\n",
    "- 숫자3은 6131개, 숫자7은 6265개 있음"
   ]
  },
  {
   "cell_type": "markdown",
   "id": "d3bed581-6314-4664-b39f-caa1b6564c3b",
   "metadata": {
    "id": "d3bed581-6314-4664-b39f-caa1b6564c3b"
   },
   "source": [
    "`-` 우리는 ${\\bf X}: (n,1,28,28)$ 에서 ${\\bf y}: (n,1)$으로 가는 맵핑을 배우고 싶음. $\\to$ 이런건 배운적이 없는데?.. $\\to$ 그렇다면 ${\\bf X}:(n,784) \\to {\\bf y}:(n,1)$ 으로 가는 맵핑을 학습하자."
   ]
  },
  {
   "cell_type": "code",
   "execution_count": null,
   "id": "d7646da7-6d2b-4a18-b248-bc9e3447cd6d",
   "metadata": {
    "colab": {
     "base_uri": "https://localhost:8080/"
    },
    "id": "d7646da7-6d2b-4a18-b248-bc9e3447cd6d",
    "outputId": "392488a4-89ec-4391-b01d-95899992df74",
    "tags": []
   },
   "outputs": [],
   "source": [
    "X = torch.concat([X3,X7],axis=0).reshape(-1,28*28).float()\n",
    "X.shape, y.shape"
   ]
  },
  {
   "cell_type": "markdown",
   "id": "ad474438-92c6-4f0a-9b38-4ccd667f804c",
   "metadata": {
    "id": "ad474438-92c6-4f0a-9b38-4ccd667f804c"
   },
   "source": [
    "## E. 학습"
   ]
  },
  {
   "cell_type": "code",
   "execution_count": null,
   "id": "e506d9d8-94d8-4c06-8d09-87a8d8e7e4bc",
   "metadata": {
    "id": "e506d9d8-94d8-4c06-8d09-87a8d8e7e4bc",
    "tags": []
   },
   "outputs": [],
   "source": [
    "torch.manual_seed(43052)\n",
    "net = torch.nn.Sequential(\n",
    "    torch.nn.Linear(784,32),\n",
    "    torch.nn.ReLU(),\n",
    "    torch.nn.Linear(32,1),\n",
    "    torch.nn.Sigmoid()\n",
    ")\n",
    "loss_fn = torch.nn.BCELoss()\n",
    "optimizr = torch.optim.Adam(net.parameters())\n",
    "#--#\n",
    "for epoc in range(200):\n",
    "    ## step1\n",
    "    yhat = net(X)\n",
    "    ## step2\n",
    "    loss = loss_fn(yhat,y)\n",
    "    ## step3\n",
    "    loss.backward()\n",
    "    ## step4\n",
    "    optimizr.step()\n",
    "    optimizr.zero_grad()"
   ]
  },
  {
   "cell_type": "code",
   "execution_count": null,
   "id": "47a54512-eb4f-4480-9d22-0a7fb2427466",
   "metadata": {
    "colab": {
     "base_uri": "https://localhost:8080/",
     "height": 447
    },
    "id": "47a54512-eb4f-4480-9d22-0a7fb2427466",
    "outputId": "80bc4a01-2fd6-4493-e896-49336e3c995e",
    "tags": []
   },
   "outputs": [],
   "source": [
    "plt.plot(y,'o',label=r\"$(i,y_i)$ -- training data set\")\n",
    "plt.plot(net(X).data,'.',alpha=0.2, label=r\"$(i,\\hat{y}_i$ -- training data set\")\n",
    "plt.legend()"
   ]
  },
  {
   "cell_type": "markdown",
   "id": "e989a656-3e12-48ef-adf9-480c13ca0e90",
   "metadata": {
    "id": "e989a656-3e12-48ef-adf9-480c13ca0e90"
   },
   "source": [
    "- 잘맞추는데?\n",
    "- 믿을수가 없는데..?"
   ]
  },
  {
   "cell_type": "code",
   "execution_count": null,
   "id": "78f79d91-58cf-44eb-a83f-9a5856f11082",
   "metadata": {
    "colab": {
     "base_uri": "https://localhost:8080/"
    },
    "id": "78f79d91-58cf-44eb-a83f-9a5856f11082",
    "outputId": "af95d0bc-8b8f-41ad-bd7c-ea3887e4d123",
    "tags": []
   },
   "outputs": [],
   "source": [
    "((yhat.data > 0.5) == y).float().mean() # train_accuracy"
   ]
  },
  {
   "cell_type": "markdown",
   "id": "2faf652e-ef9f-405b-88cf-199640088453",
   "metadata": {
    "id": "2faf652e-ef9f-405b-88cf-199640088453"
   },
   "source": [
    "## F. Test"
   ]
  },
  {
   "cell_type": "code",
   "execution_count": null,
   "id": "da810307-8871-4657-bd70-6ddeea7b4c27",
   "metadata": {
    "colab": {
     "base_uri": "https://localhost:8080/"
    },
    "id": "da810307-8871-4657-bd70-6ddeea7b4c27",
    "outputId": "69fb147e-fd12-49ee-baac-1eddf016f1ad",
    "tags": []
   },
   "outputs": [],
   "source": [
    "path.ls()"
   ]
  },
  {
   "cell_type": "code",
   "execution_count": null,
   "id": "9be934f1-55cc-4959-8daf-039a3bb40814",
   "metadata": {
    "id": "9be934f1-55cc-4959-8daf-039a3bb40814",
    "tags": []
   },
   "outputs": [],
   "source": [
    "XX3 = torch.stack([torchvision.io.read_image(str(i)) for i in (path/'testing/3').ls()],axis=0)\n",
    "XX7 = torch.stack([torchvision.io.read_image(str(i)) for i in (path/'testing/7').ls()],axis=0)"
   ]
  },
  {
   "cell_type": "code",
   "execution_count": null,
   "id": "e5460468-7d20-4633-bea1-7263b39f2701",
   "metadata": {
    "colab": {
     "base_uri": "https://localhost:8080/"
    },
    "id": "e5460468-7d20-4633-bea1-7263b39f2701",
    "outputId": "88699ab3-26d7-453b-9ddd-c13c63f53d0c",
    "tags": []
   },
   "outputs": [],
   "source": [
    "XX3.shape,XX7.shape"
   ]
  },
  {
   "cell_type": "code",
   "execution_count": null,
   "id": "eda2623c-b729-40b5-bcd4-7965a243a5f7",
   "metadata": {
    "colab": {
     "base_uri": "https://localhost:8080/"
    },
    "id": "eda2623c-b729-40b5-bcd4-7965a243a5f7",
    "outputId": "da6c1e33-c8c3-4bea-80b4-3292d081ec28",
    "tags": []
   },
   "outputs": [],
   "source": [
    "XX = torch.concatenate([XX3,XX7],axis=0).reshape(-1,1*28*28).float()\n",
    "XX.shape"
   ]
  },
  {
   "cell_type": "code",
   "execution_count": null,
   "id": "5de46325-d798-428d-9966-ae26ce7d8b13",
   "metadata": {
    "colab": {
     "base_uri": "https://localhost:8080/"
    },
    "id": "5de46325-d798-428d-9966-ae26ce7d8b13",
    "outputId": "a12520d1-8bae-4c18-9cc2-46411e8bfb7a",
    "tags": []
   },
   "outputs": [],
   "source": [
    "yy = torch.tensor([0]*1010 + [1]*1028).reshape(-1,1).float()\n",
    "yy.shape"
   ]
  },
  {
   "cell_type": "code",
   "execution_count": null,
   "id": "c69e3487-18e4-4f02-8d7b-549742d6892c",
   "metadata": {
    "colab": {
     "base_uri": "https://localhost:8080/",
     "height": 447
    },
    "id": "c69e3487-18e4-4f02-8d7b-549742d6892c",
    "outputId": "e937f4d8-a6ee-4532-bc82-eef9472a539d",
    "tags": []
   },
   "outputs": [],
   "source": [
    "plt.plot(yy,'o',label=r\"$(i,y_i)$ -- test data set\")\n",
    "plt.plot(net(XX).data,'.',label=r\"$(i,\\hat{y}_i)$ -- test data set\")\n",
    "plt.legend()"
   ]
  },
  {
   "cell_type": "code",
   "execution_count": null,
   "id": "4be28c7d-8963-49fa-99a9-1c71c00325bb",
   "metadata": {
    "colab": {
     "base_uri": "https://localhost:8080/"
    },
    "id": "4be28c7d-8963-49fa-99a9-1c71c00325bb",
    "outputId": "4b83c7a0-318a-4156-b69e-42a8696d0f93",
    "tags": []
   },
   "outputs": [],
   "source": [
    "(yy == (net(XX)>0.5)).float().mean() # test accuracy"
   ]
  },
  {
   "cell_type": "markdown",
   "id": "2a06bba2-7249-4431-9b1b-e799b4e6e018",
   "metadata": {
    "id": "2a06bba2-7249-4431-9b1b-e799b4e6e018"
   },
   "source": [
    "- test 에서도 잘 맞춘다.."
   ]
  },
  {
   "cell_type": "markdown",
   "id": "a44dbb16-17f0-48e6-a90f-e4c9e397c5d2",
   "metadata": {
    "id": "a44dbb16-17f0-48e6-a90f-e4c9e397c5d2"
   },
   "source": [
    "# 6. HW"
   ]
  },
  {
   "cell_type": "markdown",
   "id": "eba06580-1078-4a4d-9a32-cfc3a612bc5d",
   "metadata": {
    "id": "eba06580-1078-4a4d-9a32-cfc3a612bc5d",
    "tags": []
   },
   "source": [
    "`# 5. MNIST 해결 -- E. 학습` 에 소개된 학습코드는 아래와 같다."
   ]
  },
  {
   "cell_type": "markdown",
   "id": "df271c61-630e-4be3-af43-7b25cbadd396",
   "metadata": {
    "id": "df271c61-630e-4be3-af43-7b25cbadd396"
   },
   "source": [
    "```Python\n",
    "torch.manual_seed(43052)\n",
    "net = torch.nn.Sequential(\n",
    "    torch.nn.Linear(784,32),\n",
    "    torch.nn.ReLU(),\n",
    "    torch.nn.Linear(32,1),\n",
    "    torch.nn.Sigmoid()\n",
    ")\n",
    "loss_fn = torch.nn.BCELoss()\n",
    "optimizr = torch.optim.Adam(net.parameters())\n",
    "#--#\n",
    "for epoc in range(200):\n",
    "    ## step1\n",
    "    yhat = net(X)\n",
    "    ## step2\n",
    "    loss = loss_fn(yhat,y)\n",
    "    ## step3\n",
    "    loss.backward()\n",
    "    ## step4\n",
    "    optimizr.step()\n",
    "    optimizr.zero_grad()\n",
    "```"
   ]
  },
  {
   "cell_type": "markdown",
   "id": "83f16d1a-5892-42bd-8096-cfadfca99e31",
   "metadata": {
    "id": "83f16d1a-5892-42bd-8096-cfadfca99e31",
    "tags": []
   },
   "source": [
    "이 코드에 사용된 네트워크를 아래와 같이 변형하고, 적절한 `loss_fn` 을 다시 정의하여 학습하라."
   ]
  },
  {
   "cell_type": "markdown",
   "id": "d95b5693-91fd-43fd-8a9c-e28318a5e332",
   "metadata": {
    "id": "d95b5693-91fd-43fd-8a9c-e28318a5e332",
    "tags": []
   },
   "source": [
    "```Python\n",
    "torch.manual_seed(43052)\n",
    "net = torch.nn.Sequential(\n",
    "    torch.nn.Linear(784,32),\n",
    "    torch.nn.ReLU(),\n",
    "    torch.nn.Linear(32,1)\n",
    "    #torch.nn.Sigmoid()\n",
    ")\n",
    "```"
   ]
  },
  {
   "cell_type": "markdown",
   "id": "7e2ac143-881d-4fc2-a61d-1c6b4d41e783",
   "metadata": {
    "id": "7e2ac143-881d-4fc2-a61d-1c6b4d41e783",
    "tags": []
   },
   "source": [
    "학습결과를 확인하고 accuracy를 구하라."
   ]
  },
  {
   "cell_type": "markdown",
   "id": "2e6b13c8-ccdb-499f-b8c2-83dee23e0e5b",
   "metadata": {},
   "source": [
    "(풀이)"
   ]
  },
  {
   "cell_type": "code",
   "execution_count": null,
   "id": "62db9d94-64e9-47a5-a3e1-1d547c49287f",
   "metadata": {
    "tags": []
   },
   "outputs": [],
   "source": [
    "## Step1 \n",
    "path = fastai.imports.Path('/root/.fastai/data/mnist_png')\n",
    "X3 = torch.stack([torchvision.io.read_image(str(i)) for i in (path/'training/3').ls()],axis=0)\n",
    "X7 = torch.stack([torchvision.io.read_image(str(i)) for i in (path/'training/7').ls()],axis=0)\n",
    "X = torch.concat([X3,X7],axis=0).reshape(-1,28*28).float()\n",
    "y = torch.tensor([0.0]*6131+[1.0]*6265).reshape(-1,1)\n",
    "## Step2 \n",
    "torch.manual_seed(43052)\n",
    "net = torch.nn.Sequential(\n",
    "    torch.nn.Linear(784,32),\n",
    "    torch.nn.ReLU(),\n",
    "    torch.nn.Linear(32,1),\n",
    ")\n",
    "loss_fn = torch.nn.BCEWithLogitsLoss()\n",
    "optimizr = torch.optim.Adam(net.parameters())\n",
    "## Step3 \n",
    "for epoc in range(200):\n",
    "    ## step1\n",
    "    netout = net(X)\n",
    "    ## step2\n",
    "    loss = loss_fn(netout,y)\n",
    "    ## step3\n",
    "    loss.backward()\n",
    "    ## step4\n",
    "    optimizr.step()\n",
    "    optimizr.zero_grad()\n",
    "## Step4 \n",
    "sig = torch.nn.Sigmoid()\n",
    "print(f'acc(방법1) = {((sig(netout) > 0.5) == y).float().mean()}')\n",
    "print(f'acc(방법2) = {((netout>0) == y).float().mean()}')"
   ]
  },
  {
   "cell_type": "markdown",
   "id": "8afc70c4-923d-4bda-914c-12cd10745fcd",
   "metadata": {},
   "source": [
    "- 두번째 방법은 시그모이드 취하기전의 값이 0보다 커야, 시그모이드를 취한 값이 0.5 이상이 됨을 이용한 것이다. (참고로 시그모이드 취하기 전의 값이 딱 0이라면 시그모이드를 취한값은 0.5가 된다) 즉 $netout>0 \\Leftrightarrow sig(netout)>0.5$를 이용한 것임.\n",
    "\n",
    "\n"
   ]
  }
 ],
 "metadata": {
  "colab": {
   "provenance": []
  },
  "kernelspec": {
   "display_name": "Python 3 (ipykernel)",
   "language": "python",
   "name": "python3"
  },
  "language_info": {
   "codemirror_mode": {
    "name": "ipython",
    "version": 3
   },
   "file_extension": ".py",
   "mimetype": "text/x-python",
   "name": "python",
   "nbconvert_exporter": "python",
   "pygments_lexer": "ipython3",
   "version": "3.8.19"
  }
 },
 "nbformat": 4,
 "nbformat_minor": 5
}
