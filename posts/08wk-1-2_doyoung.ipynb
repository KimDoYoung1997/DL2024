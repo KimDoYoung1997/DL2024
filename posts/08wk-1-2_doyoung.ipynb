{
 "cells": [
  {
   "cell_type": "raw",
   "id": "9c91760c-0490-4bbd-a907-f67f3abb9fb2",
   "metadata": {
    "tags": []
   },
   "source": [
    "---\n",
    "title: \"08wk-1,2: 생성모형 -- Generative Adversarial Network (GAN)\"\n",
    "author: \"최규빈\"\n",
    "date: \"04/22/2024\"\n",
    "categories:\n",
    "---"
   ]
  },
  {
   "cell_type": "markdown",
   "id": "b13452ba-0daf-4e48-ae96-6c2b94316491",
   "metadata": {
    "id": "e67ab8e0"
   },
   "source": [
    "<a href=\"https://colab.research.google.com/github/guebin/DL2024/blob/main/posts/08wk-1-2.ipynb\"><img src=\"https://colab.research.google.com/assets/colab-badge.svg\" style=\"text-align: left\"></a>"
   ]
  },
  {
   "cell_type": "markdown",
   "id": "22b6c0ff-0060-496d-b9dc-20f843d2a7eb",
   "metadata": {},
   "source": [
    "# 1. 강의영상 "
   ]
  },
  {
   "cell_type": "markdown",
   "id": "577ba98a-adbd-414d-b4f4-fa104ba5f92e",
   "metadata": {
    "tags": []
   },
   "source": [
    "{{<video https://youtu.be/playlist?list=PLQqh36zP38-xfh-AQQI0B_GONOjgj9DCi&si=uWImDc1bYBoNqCB_ >}}"
   ]
  },
  {
   "cell_type": "markdown",
   "id": "78c28f9b-64a4-4979-9eab-dbf88f2f7f89",
   "metadata": {},
   "source": [
    "# 2. Imports"
   ]
  },
  {
   "cell_type": "code",
   "execution_count": 4,
   "id": "8f622828-1f15-4ee0-a2fd-680c24d412ad",
   "metadata": {
    "tags": []
   },
   "outputs": [],
   "source": [
    "import torch \n",
    "import torchvision\n",
    "import fastai.vision.all \n",
    "import matplotlib.pyplot as plt "
   ]
  },
  {
   "cell_type": "markdown",
   "id": "401b10e9-8a60-4b7c-b0b3-9473659eaf70",
   "metadata": {
    "slideshow": {
     "slide_type": "slide"
    }
   },
   "source": [
    "# 3. GAN [@goodfellow2014generative] intro"
   ]
  },
  {
   "cell_type": "markdown",
   "id": "bf632713-7419-4a65-9fef-74ea6fb71370",
   "metadata": {
    "slideshow": {
     "slide_type": "slide"
    }
   },
   "source": [
    "`-` 저자: 이안굿펠로우 \n",
    "\n",
    "- 천재임 \n",
    "- 지도교수가 요수아 벤지오 "
   ]
  },
  {
   "cell_type": "markdown",
   "id": "cc84280c-e32f-41ab-9365-b586b7b7490e",
   "metadata": {
    "slideshow": {
     "slide_type": "slide"
    }
   },
   "source": [
    "`-` 저는 아래의 논문 읽고 소름돋았어요.. \n",
    "\n",
    "- https://arxiv.org/abs/1406.2661 (2021-09, 38751회 인용.. $\\to$ 2022-09, 48978회 인용.. $\\to$ 2024-03, 66609 인용..)"
   ]
  },
  {
   "cell_type": "markdown",
   "id": "052bd17f-125d-4fea-84a9-02ddc8e133f8",
   "metadata": {
    "slideshow": {
     "slide_type": "fragment"
    }
   },
   "source": [
    "`-` 최근 10년간 머신러닝 분야에서 가장 혁신적인 아이디어이다. (얀르쿤, 2014년 시점..) "
   ]
  },
  {
   "cell_type": "markdown",
   "id": "73e1cb52-376d-4b3a-af31-cfe29a540b67",
   "metadata": {
    "slideshow": {
     "slide_type": "fragment"
    }
   },
   "source": [
    "`-` 무슨내용? 생성모형 "
   ]
  },
  {
   "cell_type": "markdown",
   "id": "0c1afad5-4598-480f-85e5-808d19bdac24",
   "metadata": {
    "slideshow": {
     "slide_type": "slide"
    }
   },
   "source": [
    "## A. 생성모형이란? (쉬운 설명)"
   ]
  },
  {
   "cell_type": "markdown",
   "id": "fdf4e02c-8f3f-46a7-98d9-03f9e1768e38",
   "metadata": {
    "slideshow": {
     "slide_type": "fragment"
    }
   },
   "source": [
    "> 만들수 없다면 이해하지 못한 것이다, 리처드 파인만 (천재 물리학자) "
   ]
  },
  {
   "cell_type": "markdown",
   "id": "c49bb7fa-c917-4011-a9e2-4f13fe117b49",
   "metadata": {
    "slideshow": {
     "slide_type": "slide"
    }
   },
   "source": [
    "`-` 사진속에 들어있는 동물이 개인지 고양이인지 맞출수 있는 기계와 개와 고양이를 그릴수 있는 기계중 어떤것이 더 시각적보에 대한 이해가 깊다고 볼 수 있는가? "
   ]
  },
  {
   "cell_type": "markdown",
   "id": "cab319f4-7392-4ae3-8e55-c72939ae847f",
   "metadata": {
    "slideshow": {
     "slide_type": "fragment"
    }
   },
   "source": [
    "`-` 진정으로 인공지능이 이미지자료를 이해했다면, 이미지를 만들수도 있어야 한다. $\\to$ 이미지를 생성하는 모형을 만들어보자 $\\to$ 성공 "
   ]
  },
  {
   "cell_type": "markdown",
   "id": "dd481c59-5d4c-46b7-b429-df16f1abddd8",
   "metadata": {
    "slideshow": {
     "slide_type": "slide"
    }
   },
   "source": [
    "![](https://upload.wikimedia.org/wikipedia/commons/1/1f/Woman_1.jpg){width=70%}"
   ]
  },
  {
   "cell_type": "markdown",
   "id": "e2771aca-477a-4277-9650-a9f575d02da5",
   "metadata": {
    "slideshow": {
     "slide_type": "slide"
    }
   },
   "source": [
    "## B. GAN의 응용분야"
   ]
  },
  {
   "cell_type": "markdown",
   "id": "52074c49-e433-4c85-9de1-cc8d19989dd9",
   "metadata": {
    "slideshow": {
     "slide_type": "fragment"
    }
   },
   "source": [
    "`-` 내가 찍은 사진이 피카소의 화풍으로 표현된다면?"
   ]
  },
  {
   "cell_type": "markdown",
   "id": "9f171dd8-53cd-496e-8262-19e82147cd21",
   "metadata": {
    "slideshow": {
     "slide_type": "fragment"
    }
   },
   "source": [
    "`-` 퀸의 라이브에이드가 4k로 나온다면?"
   ]
  },
  {
   "cell_type": "markdown",
   "id": "1443a32f-8f45-47c9-9da9-62c10a5972b2",
   "metadata": {
    "slideshow": {
     "slide_type": "fragment"
    }
   },
   "source": [
    "`-` 1920년대 서울의 모습이 칼라로 복원된다면? "
   ]
  },
  {
   "cell_type": "markdown",
   "id": "e800b9c7-a4cf-4a4c-aab4-51b6383b1117",
   "metadata": {
    "slideshow": {
     "slide_type": "fragment"
    }
   },
   "source": [
    "`-` 딥페이크: 유명인의 가짜 포르노, 가짜뉴스, 협박(거짓기소) \n"
   ]
  },
  {
   "cell_type": "markdown",
   "id": "f9ad6b94-282c-48ca-8502-9da318c20825",
   "metadata": {
    "slideshow": {
     "slide_type": "fragment"
    }
   },
   "source": [
    "`-` 거북이의 커버.. "
   ]
  },
  {
   "cell_type": "markdown",
   "id": "b50b335a-c1c0-4a35-ae01-ef524170947c",
   "metadata": {
    "slideshow": {
     "slide_type": "fragment"
    }
   },
   "source": [
    "`-` 너무 많아요....."
   ]
  },
  {
   "cell_type": "markdown",
   "id": "ab1bc26b-4092-4096-aec1-a17a8111e784",
   "metadata": {
    "slideshow": {
     "slide_type": "slide"
    },
    "tags": []
   },
   "source": [
    "## C. 생성모형이란? 통계학과 버전의 설명 "
   ]
  },
  {
   "cell_type": "markdown",
   "id": "d7a1ce1e-c105-4d31-9c34-e7097ff076f0",
   "metadata": {
    "slideshow": {
     "slide_type": "fragment"
    }
   },
   "source": [
    "> 제한된 정보만으로 어떤 문제를 풀 때, 그 과정에서 원래의 문제보다 일반적인 문제를 풀지 말고 (=문제를 괜히 어렵게 만들어서 풀지 말고), 가능한 원래의 문제를 직접 풀어야한다. 배프닉 (SVM 창시자) "
   ]
  },
  {
   "cell_type": "markdown",
   "id": "8f474310-9e9b-4d85-9fab-2fa1754dc741",
   "metadata": {
    "slideshow": {
     "slide_type": "slide"
    }
   },
   "source": [
    "`-` 이미지 $\\boldsymbol{X}$ 가 주어졌을 경우 라벨을 $y$ 라고 하자. "
   ]
  },
  {
   "cell_type": "markdown",
   "id": "5ab2872e-adf0-4b5f-b012-a4c5f8da1966",
   "metadata": {
    "slideshow": {
     "slide_type": "fragment"
    }
   },
   "source": [
    "`-` 이미지를 보고 라벨을 맞추는 일은 $p(y| \\boldsymbol{X})$에 관심이 있다. -- 판별모형"
   ]
  },
  {
   "cell_type": "markdown",
   "id": "0feb467c-c1eb-4144-97e6-2cb5d5a75498",
   "metadata": {
    "slideshow": {
     "slide_type": "fragment"
    }
   },
   "source": [
    "`-` 이미지를 생성하는 일은 $p(\\boldsymbol{X},y)$에 관심이 있는것이다. -- 생성모형"
   ]
  },
  {
   "cell_type": "markdown",
   "id": "e39678e4-fa4c-47ea-b787-553f7a0b5088",
   "metadata": {
    "slideshow": {
     "slide_type": "fragment"
    }
   },
   "source": [
    "`-` 데이터의 생성확률 $p(\\boldsymbol{X},y)$을 알면 클래스의 사후확률 $p(y|\\boldsymbol{X})$를 알 수 있음. (아래의 수식 참고) 하지만 역은 불가능 \n",
    "\n",
    "$$p(y|{\\boldsymbol X}) = \\frac{p({\\boldsymbol X},y)}{p({\\boldsymbol X})} = \\frac{p({\\boldsymbol X},y)}{\\sum_{y}p({\\boldsymbol X},y)}$$"
   ]
  },
  {
   "cell_type": "markdown",
   "id": "ff48237f-740a-4e4a-914e-3105f9f18e3a",
   "metadata": {
    "slideshow": {
     "slide_type": "fragment"
    }
   },
   "source": [
    "- 즉 이미지를 생성하는일은 분류문제보다 더 어려운 일이라 해석가능 "
   ]
  },
  {
   "cell_type": "markdown",
   "id": "31989e8e-a39a-4349-b141-e2de4d2c8c7b",
   "metadata": {
    "slideshow": {
     "slide_type": "slide"
    }
   },
   "source": [
    "`-` 따라서 배프닉의 원리에 의하면 일반적인 분류문제를 해결할때 \"판별모형이 생성모형보다 더 바람직한 접근법\"이라 할 수 있음. 즉 개와 고양이를 구분할 때, 그려진 개와 고양이 사진을 잘 구분하면 되는 것이지 굳이 개와 고양이를 그릴줄 알아야하는건 아니라는 의미. "
   ]
  },
  {
   "cell_type": "markdown",
   "id": "ce8a46dc-c085-4a8e-aa89-13933ae2d823",
   "metadata": {
    "slideshow": {
     "slide_type": "fragment"
    }
   },
   "source": [
    "`-` 예전에는 머신러닝의 응용분야가 \"분류/회귀\"에 한정된 느낌이었는데 요즘은 생성모형도 인기있음. "
   ]
  },
  {
   "cell_type": "markdown",
   "id": "c1f001b9-042e-4de4-91ca-c8ef911c91fc",
   "metadata": {
    "slideshow": {
     "slide_type": "slide"
    }
   },
   "source": [
    "## D. GAN의 원리"
   ]
  },
  {
   "cell_type": "markdown",
   "id": "9ea6f56f-c919-407d-80a7-85f1d1b6de30",
   "metadata": {
    "slideshow": {
     "slide_type": "slide"
    }
   },
   "source": [
    "`-` GAN은 생성모형 중 하나임 "
   ]
  },
  {
   "cell_type": "markdown",
   "id": "679d836f-9cdc-498b-b3f4-b0b5f0c4ee17",
   "metadata": {
    "slideshow": {
     "slide_type": "slide"
    }
   },
   "source": [
    "`-` GAN의 원리는 경찰과 위조지폐범이 서로 선의의(?) 경쟁을 통하여 서로 발전하는 모형으로 설명할 수 있다."
   ]
  },
  {
   "cell_type": "markdown",
   "id": "0446fc09-05d8-4372-bf16-2a5108a62557",
   "metadata": {
    "slideshow": {
     "slide_type": "fragment"
    }
   },
   "source": [
    "> The generative model can be thought of as analogous to a team of fakers,\n",
    "trying to produce fake currency and use it without detection, while the discriminative model is\n",
    "analogous to the police, trying to detect the counterfeit currency. Competition in this game drives\n",
    "both teams to improve their methods until the counterfeits are indistiguishable from the genuine\n",
    "articles."
   ]
  },
  {
   "cell_type": "markdown",
   "id": "311fa6ef-e096-497d-8e7e-871051f673f2",
   "metadata": {
    "slideshow": {
     "slide_type": "slide"
    }
   },
   "source": [
    "`-` 서로 적대적인(adversarial) 네트워크(network)를 동시에 학습시켜 가짜이미지를 만든다(generate) "
   ]
  },
  {
   "cell_type": "markdown",
   "id": "ef826614-e5a0-4e91-b51b-5423f13bf726",
   "metadata": {
    "slideshow": {
     "slide_type": "slide"
    }
   },
   "source": [
    "`-` 무식한 상황극.. "
   ]
  },
  {
   "cell_type": "markdown",
   "id": "ebe7c1a7-8726-4d80-9770-ee683dbd70a4",
   "metadata": {
    "slideshow": {
     "slide_type": "slide"
    }
   },
   "source": [
    "- 위조범: 가짜돈을 만들어서 부자가 되어야지! (가짜돈을 그림) \n",
    "- 경찰: (위조범이 만든 돈을 보고) 이건 가짜다! \n",
    "- 위조범: 걸렸군.. 더 정교하게 만들어야지.. \n",
    "- 경찰: 이건 진짠가?... --> 상사에게 혼남. 그것도 구분못하냐고 --> (판별능력 업그레이드) --> 이건 가짜다!! \n",
    "- 위조범: 더 정교하게 만들자.. \n",
    "- 경찰: 더 판별능력을 업그레이드 하자! \n",
    "- 반복.. "
   ]
  },
  {
   "cell_type": "markdown",
   "id": "649d8e98-0935-4e00-8605-1f09d4d0bc0e",
   "metadata": {
    "slideshow": {
     "slide_type": "slide"
    }
   },
   "source": [
    "`-` 굉장히 우수한 경찰조차도 진짜와 가짜를 구분하지 못할때(=진짜 이미지를 **0.5**의 확률로만 진짜라고 말할때 = 가짜 이미지를 **0.5**의 확률로만 가짜라고 말할때) 학습을 멈춘다. "
   ]
  },
  {
   "cell_type": "markdown",
   "id": "64432128-6ac3-4b51-be41-835cc28ab843",
   "metadata": {
    "tags": []
   },
   "source": [
    "# 4. GAN의 구현"
   ]
  },
  {
   "cell_type": "markdown",
   "id": "7f64e9ba-265c-48fe-80be-93afd1c59587",
   "metadata": {},
   "source": [
    "## A. Data "
   ]
  },
  {
   "cell_type": "code",
   "execution_count": 5,
   "id": "8ce06afe-ad52-41bb-82ce-6184c8a714c9",
   "metadata": {
    "tags": []
   },
   "outputs": [],
   "source": [
    "path = fastai.data.external.untar_data(fastai.data.external.URLs.MNIST)"
   ]
  },
  {
   "cell_type": "code",
   "execution_count": 6,
   "id": "891fca54-9896-45a0-a66d-3037a3a831e9",
   "metadata": {
    "tags": []
   },
   "outputs": [],
   "source": [
    "X_real = torch.stack([torchvision.io.read_image(str(l)) for l in (path/'training/3').ls()],axis=0)/255"
   ]
  },
  {
   "cell_type": "code",
   "execution_count": null,
   "id": "86de9668-5aca-4737-af82-184aaa8a4e27",
   "metadata": {
    "tags": []
   },
   "outputs": [],
   "source": [
    "# plt.imshow(X_real[0].reshape(28,28),cmap=\"gray\")"
   ]
  },
  {
   "cell_type": "markdown",
   "id": "7a0f7474-02e8-4211-8cfd-91776d9c623d",
   "metadata": {},
   "source": [
    "## B. 페이커 생성"
   ]
  },
  {
   "cell_type": "markdown",
   "id": "d6c8da25-f617-46dc-8198-53ae9ea836f1",
   "metadata": {},
   "source": [
    "> \"net_faker: noise $\\to$ 가짜이미지\" 를 만들자. "
   ]
  },
  {
   "cell_type": "markdown",
   "id": "40574235-6806-4e97-841c-5b974cd0f3a0",
   "metadata": {},
   "source": [
    "`-` 네트워크의 입력: (n,??) 인 랜덤으로 뽑은 아무 숫자. 즉 Noise z "
   ]
  },
  {
   "cell_type": "markdown",
   "id": "72cb20b6-fcda-42a0-a5df-6b4544200377",
   "metadata": {},
   "source": [
    "`-` 네트워크의 출력: (n,1,28,28)의 텐서 "
   ]
  },
  {
   "cell_type": "code",
   "execution_count": null,
   "id": "129f9915-26e0-4716-896d-a4c382194e0b",
   "metadata": {
    "tags": []
   },
   "outputs": [],
   "source": [
    "# torch.randn(1,4) # 이게 들어온다고 상상하자. Noise z 가 들어온다."
   ]
  },
  {
   "cell_type": "code",
   "execution_count": 7,
   "id": "84b617e7",
   "metadata": {},
   "outputs": [],
   "source": [
    "# torch.nn.Module을 상속함\n",
    "class Reshape2828(torch.nn.Module):\n",
    "    def __init__(self):\n",
    "        super().__init__()\n",
    "    # X를 받아서 reshape 하도록 forward 함수 구성\n",
    "    def forward(self,X):\n",
    "        return X.reshape(-1,1,28,28)"
   ]
  },
  {
   "cell_type": "code",
   "execution_count": 8,
   "id": "5186df22",
   "metadata": {},
   "outputs": [],
   "source": [
    "net_faker = torch.nn.Sequential(\n",
    "    # noise z 를 64 차원으로 선형 변환\n",
    "    torch.nn.Linear(4,64),\n",
    "    torch.nn.ReLU(),\n",
    "    torch.nn.Linear(64,64),\n",
    "    torch.nn.ReLU(),\n",
    "    # 28x28 이미지를 위한 선형 변환\n",
    "    torch.nn.Linear(64,784),\n",
    "    # 출력값이 이미지 출력을 누르기 위해 0~1 사이를 갖도록 activation 함수로 sigmoid를 사용\n",
    "    torch.nn.Sigmoid(),\n",
    "    # 784 차원을 받아서, -1,1,28,28으로 Reshape하자.\n",
    "    Reshape2828()\n",
    ")"
   ]
  },
  {
   "cell_type": "code",
   "execution_count": 9,
   "id": "3381a416",
   "metadata": {},
   "outputs": [],
   "source": [
    "# plt.imshow(net_faker(torch.randn(1,4)).reshape(28,28).data ,cmap=\"gray\")"
   ]
  },
  {
   "cell_type": "markdown",
   "id": "0fae8804-015b-4d71-afa2-76442e181774",
   "metadata": {},
   "source": [
    "## C. 경찰 생성"
   ]
  },
  {
   "cell_type": "markdown",
   "id": "9e13759d-132e-4405-a6b6-f17ab442cc13",
   "metadata": {},
   "source": [
    "> net_police: 진짜이미지 $\\to$ 0 // 가짜이미지 $\\to$ 1 와 같은 네트워크를 설계하자. "
   ]
  },
  {
   "cell_type": "markdown",
   "id": "28eb7a1a-a1e8-4898-b0e1-b8e9d7c7e670",
   "metadata": {},
   "source": [
    "`-` 네트워크의 입력: (n,1,28,28) 인 이미지 "
   ]
  },
  {
   "cell_type": "markdown",
   "id": "dada3a59-55f1-410d-9d3e-fb11e3166101",
   "metadata": {},
   "source": [
    "`-` 네트워크의 출력: 0,1 "
   ]
  },
  {
   "cell_type": "code",
   "execution_count": 10,
   "id": "adf66f3b",
   "metadata": {},
   "outputs": [],
   "source": [
    "net_police = torch.nn.Sequential(\n",
    "    torch.nn.Flatten(),\n",
    "    torch.nn.Linear(784,30),\n",
    "    torch.nn.ReLU(),\n",
    "    torch.nn.Linear(30,1),\n",
    "    # 이진 분류를 확률로 표현하기 위해 Sigmoid 를 사용함\n",
    "    torch.nn.Sigmoid()\n",
    ")"
   ]
  },
  {
   "cell_type": "markdown",
   "id": "8cff0644-90a9-43c0-9ee7-936b7d89d8a5",
   "metadata": {},
   "source": [
    "## D. 바보경찰, 바보페이커"
   ]
  },
  {
   "cell_type": "markdown",
   "id": "df735ee5-32f2-4d2b-9be7-1f62a17ea6be",
   "metadata": {},
   "source": [
    "> 스토리를 전개해볼까? "
   ]
  },
  {
   "cell_type": "markdown",
   "id": "5609b4ec-4d45-4aba-a18a-751dcb7e75e2",
   "metadata": {},
   "source": [
    "`-` 경찰네트워크가 가짜이미지를 봤을때 어떤 판단을 하는지, 진짜 이미지를 봤을떄 어떤 판단을 하는지 살펴보자. "
   ]
  },
  {
   "cell_type": "markdown",
   "id": "87a9c1f5-d930-472d-b636-6bb6b3559eda",
   "metadata": {},
   "source": [
    "***<경찰이 진짜이미지를 봤다면>***"
   ]
  },
  {
   "cell_type": "markdown",
   "id": "2e7f86e0-3128-4972-8f89-9a3a37478a78",
   "metadata": {},
   "source": [
    "`-` 진짜이미지 "
   ]
  },
  {
   "cell_type": "code",
   "execution_count": null,
   "id": "bd8dea27-2d63-477e-b4b2-d4412cc1139d",
   "metadata": {
    "tags": []
   },
   "outputs": [],
   "source": [
    "# plt.imshow(X_real[0].reshape(28,28),cmap=\"gray\")"
   ]
  },
  {
   "cell_type": "markdown",
   "id": "7d64cedf-7833-4645-af60-a340f0dc9d73",
   "metadata": {},
   "source": [
    "`-` 진짜 이미지를 경찰한테 한장 줘볼까? $\\to$ yhat이 나올텐데, 이 값이 0이어야 함"
   ]
  },
  {
   "cell_type": "code",
   "execution_count": 11,
   "id": "7440657f",
   "metadata": {},
   "outputs": [],
   "source": [
    "yhat_real = net_police(X_real[[0]])\n",
    "# yhat_real.data"
   ]
  },
  {
   "cell_type": "markdown",
   "id": "7af9161a-c816-49b9-8e4f-dfea7ac73493",
   "metadata": {},
   "source": [
    "- 진짜 이미지가 입력으로 왔으므로 `yhat_real` $\\approx$ `0` 이어야 함\n",
    "- 그런데 0과 거리가 멀어보임. (=배운것이 없는 무능한 경찰)"
   ]
  },
  {
   "cell_type": "markdown",
   "id": "c0855a36-d03f-4e54-8687-c18f3dc33f55",
   "metadata": {},
   "source": [
    "***<경찰이 가짜이미지를 봤다면>***"
   ]
  },
  {
   "cell_type": "markdown",
   "id": "ce80265c-1661-4eae-8af5-d261689adcc1",
   "metadata": {},
   "source": [
    "`-` 가짜이미지 -- 데이터셋이 있는게 아니고 net_faker가 생성해야하는 데이터 "
   ]
  },
  {
   "cell_type": "code",
   "execution_count": 12,
   "id": "2ffdd7b7",
   "metadata": {},
   "outputs": [],
   "source": [
    "Noise = torch.randn(1,4)\n",
    "# Noise.shape"
   ]
  },
  {
   "cell_type": "code",
   "execution_count": 13,
   "id": "bb698532",
   "metadata": {},
   "outputs": [],
   "source": [
    "# plt.imshow(net_faker(Noise).data.reshape(28,28),cmap=\"gray\")"
   ]
  },
  {
   "cell_type": "markdown",
   "id": "ccac23a4-30e1-4607-b0e6-a35bdaea69d7",
   "metadata": {},
   "source": [
    "- 누가봐도 가짜이미지"
   ]
  },
  {
   "cell_type": "markdown",
   "id": "2a9b8df6-08f5-4c15-acf5-c480a6a91d82",
   "metadata": {},
   "source": [
    "`-` 가짜 이미지를 경찰한테 한장 줘볼까? $\\to$ yhat이 나올텐데, 이 값이 1이어야 함"
   ]
  },
  {
   "cell_type": "code",
   "execution_count": 14,
   "id": "332e8618",
   "metadata": {},
   "outputs": [
    {
     "data": {
      "text/plain": [
       "tensor([[0.4996]], grad_fn=<SigmoidBackward0>)"
      ]
     },
     "execution_count": 14,
     "metadata": {},
     "output_type": "execute_result"
    }
   ],
   "source": [
    "# yhat인데 fake이미지를 받았을 떄의 yhat을 yhat_fake라 하자.\n",
    "yhat_fake=net_police(net_faker(Noise).data)     # net_faker(Noise).data == X_fake\n",
    "yhat_fake # 이 값이 1이 되어야함"
   ]
  },
  {
   "cell_type": "markdown",
   "id": "d48e88a6-bd27-4c70-830a-72e51a9c3851",
   "metadata": {},
   "source": [
    "- 가짜 이미지가 입력으로 왔으므로 `yhat_fake` $\\approx$ `1` 이어야 함\n",
    "- 그런데 1과 거리가 멀어보임. (=배운것이 없는 무능한 경찰)"
   ]
  },
  {
   "cell_type": "markdown",
   "id": "48701c33-831a-41a6-8255-a4224c21fa4e",
   "metadata": {},
   "source": [
    "`-` 페이커의 무능함 (왼쪽 이미지를 가짜이미라고 만들어 놓았음) + 경찰의 무능함 (왼쪽과 오른쪽을 보고 뭐가 진짜인지도 모름)"
   ]
  },
  {
   "cell_type": "markdown",
   "id": "39df3054-25e8-4f8c-ae2e-42e3c80d7eeb",
   "metadata": {},
   "source": [
    "## E. 똑똑해진 경찰"
   ]
  },
  {
   "cell_type": "code",
   "execution_count": null,
   "id": "0cc1e72a",
   "metadata": {},
   "outputs": [],
   "source": [
    "# X_real[0].unsqueeze(0).shape , X_real[[0]].shape"
   ]
  },
  {
   "cell_type": "code",
   "execution_count": null,
   "id": "0464e239-fd21-479b-9104-54e57d0dfe87",
   "metadata": {
    "tags": []
   },
   "outputs": [],
   "source": [
    "# X_real.shape"
   ]
  },
  {
   "cell_type": "code",
   "execution_count": 24,
   "id": "2f2d8754",
   "metadata": {},
   "outputs": [],
   "source": [
    "# Noises_=torch.randn(6131,4)\n",
    "# X_real = torch.stack([torchvision.io.read_image(str(l)) for l in (path/'training/3').ls()],axis=0)/255\n",
    "# X_fake_ = net_faker(Noises_).data\n",
    "# yhat_real_ = net_police(X_real)\n",
    "# yhat_fake_ = net_police(X_fake_)\n",
    "# y_real_ = torch.tensor([0.0]*6131).reshape(-1,1).float()\n",
    "# y_fake_ = torch.tensor([1.0]*6131).reshape(-1,1).float()"
   ]
  },
  {
   "cell_type": "markdown",
   "id": "7ca2c258-34c1-405c-8170-e35f970e5fb5",
   "metadata": {},
   "source": [
    "`-` 데이터 정리 \n",
    "\n",
    "- 원래 $n=6131$개의 이미지 자료가 있음. 이를 ${\\bf X}_{real}$ 라고 하자. 따라서 ${\\bf X}_{real}$ 의 차원은 (6131,1,28,28). \n",
    "- 위조범이 만든 가짜자료를 원래 자료와 같은 숫자인 6131개 만듦. 이 가짜자료를 ${\\bf X}_{fake}$ 라고 하자. 따라서 ${\\bf X}_{fake}$ 의 차원은 (6131,1,28,28). \n",
    "- 진짜자료 y_real는 0, 가짜자료 y_fake는 1으로 라벨링. "
   ]
  },
  {
   "cell_type": "markdown",
   "id": "cbaf9924-6d33-4321-9d62-cc344510823b",
   "metadata": {},
   "source": [
    "`-` step1: X_real, X_fake를 보고 각각 **yhat_real**, **yhat_fake** , **y_real**,**y_fake**를 만드는 과정 "
   ]
  },
  {
   "cell_type": "code",
   "execution_count": 59,
   "id": "934acd0f",
   "metadata": {},
   "outputs": [],
   "source": [
    "net_faker = torch.nn.Sequential(\n",
    "    # noise z 를 64 차원으로 선형 변환\n",
    "    torch.nn.Linear(4,64),\n",
    "    torch.nn.ReLU(),\n",
    "    torch.nn.Linear(64,64),\n",
    "    torch.nn.ReLU(),\n",
    "    # 28x28 이미지를 위한 선형 변환\n",
    "    torch.nn.Linear(64,784),\n",
    "    # 출력값이 이미지 출력을 누르기 위해 0~1 사이를 갖도록 activation 함수로 sigmoid를 사용\n",
    "    torch.nn.Sigmoid(),\n",
    "    # 784 차원을 받아서, -1,1,28,28으로 Reshape하자.\n",
    "    Reshape2828()\n",
    ")\n",
    "net_police = torch.nn.Sequential(\n",
    "    torch.nn.Flatten(),\n",
    "    torch.nn.Linear(784,30),\n",
    "    torch.nn.ReLU(),\n",
    "    torch.nn.Linear(30,1),\n",
    "    # 이진 분류를 확률로 표현하기 위해 Sigmoid 를 사용함\n",
    "    torch.nn.Sigmoid()\n",
    ")"
   ]
  },
  {
   "cell_type": "code",
   "execution_count": 60,
   "id": "e4947c9f",
   "metadata": {},
   "outputs": [],
   "source": [
    "# 가짜 X를 만들기 위한 Noise\n",
    "Noise = torch.randn(6131,4)     # n = 6131\n",
    "\n",
    "# 진짜 X 학습용 데이터\n",
    "X_real = torch.stack([torchvision.io.read_image(str(l)) for l in (path/'training/3').ls()],axis=0)/255\n",
    "# Noise z로 만든 가짜 X\n",
    "X_fake = net_faker(Noise).data\n",
    "\n",
    "# 진짜 X 를 net_police에 태웠을때 예측 출력값\n",
    "yhat_real = net_police(X_real)\n",
    "# 가짜 X 를 net_police에 태웠을때 예측 출력값\n",
    "yhat_fake = net_police(X_fake)\n",
    "\n",
    "y_real = torch.tensor([0.0]*6131).reshape(-1,1).float()\n",
    "y_fake = torch.tensor([1.0]*6131).reshape(-1,1).float()"
   ]
  },
  {
   "cell_type": "markdown",
   "id": "94fe68ad-666f-4cd5-9f4b-f4b1c7b6ee0e",
   "metadata": {},
   "source": [
    "`-` step2: 손실을 계산 -- 경찰의 미덕은 \n",
    "- (1) 가짜이미지를 가짜라고 하고 (yhat_fake $\\approx$ y_fake) \n",
    "- (2) 진짜이미지를 진짜라고 해야한다. (yhat_real $\\approx$ y_real)"
   ]
  },
  {
   "cell_type": "code",
   "execution_count": 61,
   "id": "50c7b218",
   "metadata": {},
   "outputs": [
    {
     "data": {
      "text/plain": [
       "tensor(1.4320, grad_fn=<AddBackward0>)"
      ]
     },
     "execution_count": 61,
     "metadata": {},
     "output_type": "execute_result"
    }
   ],
   "source": [
    "bce = torch.nn.BCELoss()\n",
    "loss_police = bce(yhat_real,y_real)+bce(yhat_fake,y_fake)\n",
    "loss_police "
   ]
  },
  {
   "cell_type": "markdown",
   "id": "4d9631ed-4316-46b9-897a-e618ad9f6149",
   "metadata": {},
   "source": [
    "`-` step3~4는 별로 특별한게 없음. 그래서 바로 epoch을 진행시켜보자."
   ]
  },
  {
   "cell_type": "code",
   "execution_count": 62,
   "id": "db0e410b",
   "metadata": {},
   "outputs": [],
   "source": [
    "optimizr_police = torch.optim.Adam(net_police.parameters())"
   ]
  },
  {
   "cell_type": "code",
   "execution_count": 34,
   "id": "15bc6eaf",
   "metadata": {},
   "outputs": [],
   "source": [
    "for epoc in range(50):\n",
    "    # Noise = torch.randn(6131,4) \n",
    "    # X_fake = net_faker(Noise).data\n",
    "    # step1\n",
    "    yhat_real=net_police(X_real)\n",
    "    yhat_fake=net_police(X_fake)\n",
    "    # step2\n",
    "    loss_police = bce(yhat_real,y_real)+bce(yhat_fake,y_fake)\n",
    "    loss_police.backward()\n",
    "    # step3\n",
    "    optimizr_police.step()\n",
    "    optimizr_police.zero_grad()\n",
    "    "
   ]
  },
  {
   "cell_type": "code",
   "execution_count": 63,
   "id": "fb63a613",
   "metadata": {},
   "outputs": [],
   "source": [
    "# torch.manual_seed(43052)\n",
    "\n",
    "for epoc in range(50):\n",
    "    Noise = torch.randn(6131,4) \n",
    "    X_fake = net_faker(Noise).data\n",
    "\n",
    "    yhat_real = net_police(X_real)\n",
    "    yhat_fake = net_police(X_fake)\n",
    "    loss_police = bce(yhat_real,y_real)+bce(yhat_fake,y_fake)\n",
    "    loss_police.backward()\n",
    "    optimizr_police.step()\n",
    "    optimizr_police.zero_grad()"
   ]
  },
  {
   "cell_type": "markdown",
   "id": "efa3777b-4e9e-44f7-86b8-12c74055050a",
   "metadata": {},
   "source": [
    "`-` 훈련된 경찰의 성능을 살펴보자. "
   ]
  },
  {
   "cell_type": "code",
   "execution_count": 64,
   "id": "c3cb58b9",
   "metadata": {},
   "outputs": [
    {
     "data": {
      "text/plain": [
       "tensor([[0.0088],\n",
       "        [0.0138],\n",
       "        [0.0005],\n",
       "        ...,\n",
       "        [0.0083],\n",
       "        [0.0124],\n",
       "        [0.0025]], grad_fn=<SigmoidBackward0>)"
      ]
     },
     "execution_count": 64,
     "metadata": {},
     "output_type": "execute_result"
    }
   ],
   "source": [
    "net_police(X_real) # 거의 0으로!"
   ]
  },
  {
   "cell_type": "code",
   "execution_count": 70,
   "id": "afc227ba",
   "metadata": {},
   "outputs": [
    {
     "data": {
      "text/plain": [
       "tensor([[0.9949],\n",
       "        [0.9950],\n",
       "        [0.9950],\n",
       "        ...,\n",
       "        [0.9951],\n",
       "        [0.9951],\n",
       "        [0.9950]], grad_fn=<SigmoidBackward0>)"
      ]
     },
     "execution_count": 70,
     "metadata": {},
     "output_type": "execute_result"
    }
   ],
   "source": [
    "net_police(X_fake) # 거의 1으로!"
   ]
  },
  {
   "cell_type": "markdown",
   "id": "134f6b37-4bb0-45b6-afe1-efb60bce8666",
   "metadata": {},
   "source": [
    "`-` 꽤 우수한 경찰이 되었음"
   ]
  },
  {
   "cell_type": "markdown",
   "id": "b548e1be-c70c-4817-b81e-27c13ab37415",
   "metadata": {},
   "source": [
    "## F. 더 똑똑해지는 페이커"
   ]
  },
  {
   "cell_type": "markdown",
   "id": "0242a957-b812-460d-8ee9-4bd1225cb8de",
   "metadata": {},
   "source": [
    "`-` step1: Noise $\\to$ X_fake"
   ]
  },
  {
   "cell_type": "code",
   "execution_count": 244,
   "id": "fc61d389",
   "metadata": {},
   "outputs": [],
   "source": [
    "net_faker = torch.nn.Sequential(\n",
    "    # noise z 를 64 차원으로 선형 변환\n",
    "    torch.nn.Linear(4,64),\n",
    "    torch.nn.ReLU(),\n",
    "    torch.nn.Linear(64,64),\n",
    "    torch.nn.ReLU(),\n",
    "    # 28x28 이미지를 위한 선형 변환\n",
    "    torch.nn.Linear(64,784),\n",
    "    # 출력값이 이미지 출력을 누르기 위해 0~1 사이를 갖도록 activation 함수로 sigmoid를 사용\n",
    "    torch.nn.Sigmoid(),\n",
    "    # 784 차원을 받아서, -1,1,28,28으로 Reshape하자.\n",
    "    Reshape2828()\n",
    ")\n",
    "# net_police = torch.nn.Sequential(\n",
    "#     torch.nn.Flatten(),\n",
    "#     torch.nn.Linear(784,30),\n",
    "#     torch.nn.ReLU(),\n",
    "#     torch.nn.Linear(30,1),\n",
    "#     # 이진 분류를 확률로 표현하기 위해 Sigmoid 를 사용함\n",
    "#     torch.nn.Sigmoid()\n",
    "# )\n",
    "\n",
    "# 가짜 X를 만들기 위한 Noise\n",
    "Noise = torch.randn(6131,4)     # n = 6131\n",
    "\n",
    "# 진짜 X 학습용 데이터\n",
    "X_real = torch.stack([torchvision.io.read_image(str(l)) for l in (path/'training/3').ls()],axis=0)/255\n",
    "# Noise z로 만든 가짜 X\n",
    "X_fake = net_faker(Noise).data\n",
    "\n",
    "# 진짜 X 를 net_police에 태웠을때 예측 출력값\n",
    "yhat_real = net_police(X_real)\n",
    "# 가짜 X 를 net_police에 태웠을때 예측 출력값\n",
    "yhat_fake = net_police(X_fake)\n",
    "\n",
    "y_real = torch.tensor([0.0]*6131).reshape(-1,1).float()\n",
    "y_fake = torch.tensor([1.0]*6131).reshape(-1,1).float()"
   ]
  },
  {
   "cell_type": "markdown",
   "id": "d619fecd-a594-4c5d-b12d-0cb1ae3a535a",
   "metadata": {},
   "source": [
    "`-` step2: 손실함수 -- 페이커의 미덕은 **(잘 훈련된)** 경찰이 가짜이미지를 진짜라고 판단하는 것. 즉 `yhat_fake` $\\approx$ `y_real` 이어야 페이커의 실력이 우수하다고 볼 수 있음. \n",
    "- 이때 X_fake = net_faker(Noise).data\n",
    "- 이때 **yhat_fake = net_police(X_fake) = net_police(net_faker(Noise))**\n",
    "- 이때 y_real = torch.tensor([0.0]*6131).reshape(-1,1).float()\n"
   ]
  },
  {
   "cell_type": "code",
   "execution_count": 245,
   "id": "3b2fe798",
   "metadata": {},
   "outputs": [],
   "source": [
    "# Noise = torch.randn(6131,4)\n",
    "# X_fake = net_faker(Noise).data\n",
    "# yhat_fake=net_police(X_fake)\n",
    "# yhat_real=net_police(X_real)\n",
    "\n",
    "loss_faker = bce(yhat_fake,y_real)\n",
    "loss_faker = bce(net_police(net_faker(Noise).data),y_real)"
   ]
  },
  {
   "cell_type": "markdown",
   "id": "a6ae0af3-a0b3-4e30-bd11-67ac2013297e",
   "metadata": {},
   "source": [
    "`-` step3~4는 별로 특별한게 없음. 그래서 바로 epoch을 진행시켜보자."
   ]
  },
  {
   "cell_type": "markdown",
   "id": "d25869cd",
   "metadata": {},
   "source": [
    "Noise가 매번같긴함. 가장 큰 문제는 X_fake가 고정되어있으니까 net_fake가 학습이 안 됨."
   ]
  },
  {
   "cell_type": "code",
   "execution_count": 209,
   "id": "45c9cbb7",
   "metadata": {},
   "outputs": [
    {
     "name": "stdout",
     "output_type": "stream",
     "text": [
      "same, no update\n",
      "same N\n",
      "same, no update\n",
      "same N\n",
      "same, no update\n",
      "same N\n",
      "same, no update\n",
      "same N\n",
      "same, no update\n",
      "same N\n",
      "same, no update\n",
      "same N\n",
      "same, no update\n",
      "same N\n",
      "same, no update\n",
      "same N\n",
      "same, no update\n",
      "same N\n",
      "same, no update\n",
      "same N\n",
      "same, no update\n",
      "same N\n",
      "same, no update\n",
      "same N\n",
      "same, no update\n",
      "same N\n",
      "same, no update\n",
      "same N\n",
      "same, no update\n",
      "same N\n",
      "same, no update\n",
      "same N\n",
      "same, no update\n",
      "same N\n",
      "same, no update\n",
      "same N\n",
      "same, no update\n",
      "same N\n",
      "same, no update\n",
      "same N\n"
     ]
    }
   ],
   "source": [
    "optimizr_faker = torch.optim.Adam(net_faker.parameters())\n",
    "for epoc in range(20):\n",
    "    # X_fake = net_faker(Noise)       # 매번 새로운 Noise에 의한 새로운 X_fake\n",
    "\n",
    "    yhat_fake=net_police(X_fake)\n",
    "    # print(Noise.tolist())\n",
    "\n",
    "    loss_faker = bce(yhat_fake,y_real)\n",
    "    \n",
    "    loss_faker.backward()\n",
    "    optimizr_faker.step()\n",
    "    optimizr_faker.zero_grad()\n",
    "    if X_fake_next is not None and torch.equal(X_fake_next, X_fake):\n",
    "        print(\"same, no update\")\n",
    "    else:\n",
    "        print(\"not same\")\n",
    "    if Noise_next is not None and torch.equal(Noise_next, Noise):\n",
    "        print(\"same N\")\n",
    "    else:\n",
    "        print(\"not same N\")\n",
    "\n",
    "    X_fake_next = X_fake\n",
    "    Noise_next = Noise\n"
   ]
  },
  {
   "cell_type": "markdown",
   "id": "915afa30",
   "metadata": {},
   "source": [
    "Noise 가 매번 같아도 net_fake는 update됨"
   ]
  },
  {
   "cell_type": "code",
   "execution_count": 222,
   "id": "5a4b2c28",
   "metadata": {},
   "outputs": [
    {
     "name": "stdout",
     "output_type": "stream",
     "text": [
      "not same, updating\n",
      "same N\n",
      "not same, updating\n",
      "same N\n",
      "not same, updating\n",
      "same N\n",
      "not same, updating\n",
      "same N\n",
      "not same, updating\n",
      "same N\n",
      "not same, updating\n",
      "same N\n",
      "not same, updating\n",
      "same N\n",
      "not same, updating\n",
      "same N\n",
      "not same, updating\n",
      "same N\n",
      "not same, updating\n",
      "same N\n",
      "not same, updating\n",
      "same N\n",
      "not same, updating\n",
      "same N\n",
      "not same, updating\n",
      "same N\n",
      "not same, updating\n",
      "same N\n",
      "not same, updating\n",
      "same N\n",
      "not same, updating\n",
      "same N\n",
      "not same, updating\n",
      "same N\n",
      "not same, updating\n",
      "same N\n",
      "not same, updating\n",
      "same N\n",
      "not same, updating\n",
      "same N\n"
     ]
    }
   ],
   "source": [
    "optimizr_faker = torch.optim.Adam(net_faker.parameters())\n",
    "X_fake_next = None\n",
    "\n",
    "for epoc in range(20):\n",
    "    torch.manual_seed(5)\n",
    "    Noise = torch.randn(6131,4)     # 매번 새로운 Noise\n",
    "    # print(Noise.tolist())\n",
    "    X_fake = net_faker(Noise)       # 매번 새로운 Noise에 의한 새로운 X_fake\n",
    "    yhat_fake=net_police(X_fake)    # faker 는 이게 0(real) 에 가깝길 바람. 0.5 이하가 될 수록 경찰이 잘 속는다는 말이고, 경찰은 descriptor를 개선해야 적대적 신경망에 균형이 맞아짐\n",
    "    #loss_faker = bce(yhat_fake,y_real)\n",
    "    loss_faker = bce(net_police(X_fake),y_real)\n",
    "\n",
    "    loss_faker.backward()\n",
    "    optimizr_faker.step()\n",
    "    optimizr_faker.zero_grad()\n",
    "    if X_fake_next is not None and torch.equal(X_fake_next, X_fake):\n",
    "        print(\"same\")\n",
    "    else:\n",
    "        print(\"not same, updating\")\n",
    "    if Noise_next is not None and torch.equal(Noise_next, Noise):\n",
    "        print(\"same N\")\n",
    "    else:\n",
    "        print(\"not same N\")\n",
    "\n",
    "    X_fake_next = X_fake\n",
    "    Noise_next = Noise\n",
    "\n"
   ]
  },
  {
   "cell_type": "markdown",
   "id": "e003d2f9",
   "metadata": {},
   "source": [
    "Noise 가 중복되지 않도록 for 문 안에서 매번 Noise를 생성하여 학습이 됨"
   ]
  },
  {
   "cell_type": "code",
   "execution_count": 250,
   "id": "96b27ab5",
   "metadata": {},
   "outputs": [
    {
     "name": "stdout",
     "output_type": "stream",
     "text": [
      "not same\n",
      "not same N\n",
      "not same\n",
      "not same N\n",
      "not same\n",
      "not same N\n",
      "not same\n",
      "not same N\n",
      "not same\n",
      "not same N\n",
      "not same\n",
      "not same N\n",
      "not same\n",
      "not same N\n",
      "not same\n",
      "not same N\n",
      "not same\n",
      "not same N\n",
      "not same\n",
      "not same N\n"
     ]
    }
   ],
   "source": [
    "optimizr_faker = torch.optim.Adam(net_faker.parameters())\n",
    "X_fake_next = None\n",
    "\n",
    "for epoc in range(10):\n",
    "    # torch.manual_seed(5)\n",
    "    Noise = torch.randn(6131,4)     # 매번 새로운 Noise\n",
    "    # print(Noise.tolist())\n",
    "    X_fake = net_faker(Noise)       # 매번 새로운 Noise에 의한 새로운 X_fake\n",
    "    yhat_fake=net_police(X_fake)    # faker 는 이게 0(real) 에 가깝길 바람. 0.5 이하가 될 수록 경찰이 잘 속는다는 말이고, 경찰은 descriptor를 개선해야 적대적 신경망에 균형이 맞아짐\n",
    "    #loss_faker = bce(yhat_fake,y_real)\n",
    "    loss_faker = bce(net_police(X_fake),y_real)\n",
    "\n",
    "    loss_faker.backward()\n",
    "    optimizr_faker.step()\n",
    "    optimizr_faker.zero_grad()\n",
    "    if X_fake_next is not None and torch.equal(X_fake_next, X_fake):\n",
    "        print(\"same\")\n",
    "    else:\n",
    "        print(\"not same\")\n",
    "    if Noise_next is not None and torch.equal(Noise_next, Noise):\n",
    "        print(\"same N\")\n",
    "    else:\n",
    "        print(\"not same N\")\n",
    "\n",
    "    X_fake_next = X_fake\n",
    "    Noise_next = Noise\n",
    "\n"
   ]
  },
  {
   "cell_type": "code",
   "execution_count": 251,
   "id": "8d95cf8c",
   "metadata": {},
   "outputs": [
    {
     "data": {
      "image/png": "[encoded data removed]",
      "text/plain": [
       "<Figure size 1000x400 with 10 Axes>"
      ]
     },
     "metadata": {},
     "output_type": "display_data"
    }
   ],
   "source": [
    "fig,ax = plt.subplots(2,5,figsize=(10,4))\n",
    "k = 0 \n",
    "for i in range(2):\n",
    "    for j in range(5):\n",
    "        ax[i][j].imshow(X_fake[k].reshape(28,28).data,cmap=\"gray\")\n",
    "        ax[i][j].set_title(f\"police hat = {yhat_fake[k].item():.4f}\")\n",
    "        k = k+1 \n",
    "fig.tight_layout()"
   ]
  },
  {
   "cell_type": "code",
   "execution_count": 260,
   "id": "6cb96771",
   "metadata": {},
   "outputs": [
    {
     "data": {
      "text/plain": [
       "<matplotlib.image.AxesImage at 0x7c54d20a55b0>"
      ]
     },
     "execution_count": 260,
     "metadata": {},
     "output_type": "execute_result"
    },
    {
     "data": {
      "image/png": "[encoded data removed]",
      "text/plain": [
       "<Figure size 640x480 with 1 Axes>"
      ]
     },
     "metadata": {},
     "output_type": "display_data"
    }
   ],
   "source": [
    "my_noise = torch.tensor([1,222222222222222,2222222222,2222222222222222]).float()\n",
    "plt.imshow(net_faker(my_noise).data.reshape(28,28),cmap=\"gray\")"
   ]
  },
  {
   "cell_type": "code",
   "execution_count": 241,
   "id": "288408da",
   "metadata": {},
   "outputs": [
    {
     "data": {
      "text/plain": [
       "tensor([[False],\n",
       "        [False],\n",
       "        [False],\n",
       "        ...,\n",
       "        [False],\n",
       "        [False],\n",
       "        [False]])"
      ]
     },
     "execution_count": 241,
     "metadata": {},
     "output_type": "execute_result"
    }
   ],
   "source": [
    "yhat_fake > 0.5 # yhat_fake > 0.5 가 True 라는건 위조지폐라는게 걸렸다는 의미. 잘 속였다!"
   ]
  },
  {
   "cell_type": "code",
   "execution_count": 242,
   "id": "4d0acdd5",
   "metadata": {},
   "outputs": [
    {
     "data": {
      "text/plain": [
       "tensor(1.)"
      ]
     },
     "execution_count": 242,
     "metadata": {},
     "output_type": "execute_result"
    }
   ],
   "source": [
    "((yhat_fake> 0.5)==(y_real)).float().mean() # 사기에 성공한 비율, faker가 만든 가짜 이미지를 경찰이 진짜라고 잘못 생각한 비율 , 가짜면 1 진짜면 0"
   ]
  },
  {
   "cell_type": "code",
   "execution_count": 243,
   "id": "e3fdcd4a",
   "metadata": {},
   "outputs": [
    {
     "data": {
      "text/plain": [
       "tensor(0.)"
      ]
     },
     "execution_count": 243,
     "metadata": {},
     "output_type": "execute_result"
    }
   ],
   "source": [
    "((yhat_fake< 0.5)==(y_real)).float().mean() # 사기에 실패한 비율, faker가 만든 가짜 이미지를 경찰이 가짜라고 맞춘 비율"
   ]
  },
  {
   "cell_type": "markdown",
   "id": "fd7f9364-b5d8-41a8-8566-53ebad467453",
   "metadata": {},
   "source": [
    "`-` 위조범의 실력향상을 감상해보자. "
   ]
  },
  {
   "cell_type": "markdown",
   "id": "72339c95-84c9-428d-afd0-fdb396d1b332",
   "metadata": {},
   "source": [
    "## G. 경쟁학습"
   ]
  },
  {
   "cell_type": "markdown",
   "id": "97bd651d-b03f-4f1e-bf39-e06a24565d4f",
   "metadata": {},
   "source": [
    "> 두 적대적인 네트워크를 경쟁시키자!\n",
    "- GAN은 경찰과 도둑이 서로 학습의 속도가 비슷해야 한다.. (단점) , 이를 해결하기 위해선 Cycle Gan이 필요"
   ]
  },
  {
   "cell_type": "code",
   "execution_count": null,
   "id": "82987ccd-4000-478e-978d-0819fbb3eff2",
   "metadata": {
    "tags": []
   },
   "outputs": [],
   "source": [
    "torch.manual_seed(43052)\n",
    "net_police = torch.nn.Sequential(\n",
    "    torch.nn.Flatten(),\n",
    "    torch.nn.Linear(in_features=784,out_features=30),\n",
    "    torch.nn.ReLU(),\n",
    "    torch.nn.Linear(in_features=30,out_features=1),\n",
    "    torch.nn.Sigmoid()\n",
    ")\n",
    "net_faker = torch.nn.Sequential(\n",
    "    torch.nn.Linear(in_features=4, out_features=64), # (n,4) -> (n,64) \n",
    "    torch.nn.ReLU(),\n",
    "    torch.nn.Linear(in_features=64, out_features=64), # (n,64) -> (n,64)   \n",
    "    torch.nn.ReLU(),\n",
    "    torch.nn.Linear(in_features=64, out_features=784), # (n,64) -> (n,784) \n",
    "    torch.nn.Sigmoid(), \n",
    "    Reshape2828()\n",
    ")\n",
    "bce = torch.nn.BCELoss()\n",
    "optimizr_police = torch.optim.Adam(net_police.parameters(),lr=0.001,betas=(0.5,0.999))\n",
    "optimizr_faker = torch.optim.Adam(net_faker.parameters(),lr=0.0002,betas=(0.5,0.999))"
   ]
  },
  {
   "cell_type": "code",
   "execution_count": 310,
   "id": "3a4de9b8",
   "metadata": {},
   "outputs": [],
   "source": [
    "class Reshape2828(torch.nn.Module):\n",
    "    def __init__(self):\n",
    "        super().__init__()\n",
    "    def forward(self,X):\n",
    "        return X.reshape(-1,1,28,28)\n",
    "torch.manual_seed(43052)\n",
    "net_police = torch.nn.Sequential(\n",
    "    torch.nn.Flatten(),\n",
    "    torch.nn.Linear(784,30),\n",
    "    torch.nn.ReLU(),\n",
    "    torch.nn.Linear(30,1),\n",
    "    torch.nn.Sigmoid()\n",
    ")\n",
    "net_faker=torch.nn.Sequential(\n",
    "    torch.nn.Linear(4,64),\n",
    "    torch.nn.ReLU(),\n",
    "    torch.nn.Linear(64,64),\n",
    "    torch.nn.ReLU(),\n",
    "    torch.nn.Linear(64,784),\n",
    "    torch.nn.Sigmoid(), # 이미지 픽셀들 값을 0~1 사이로 눌러주기 위해\n",
    "    Reshape2828()\n",
    ")\n",
    "\n",
    "optimizr_police = torch.optim.Adam(net_police.parameters(),lr=0.001,betas=(0.5,0.999))\n",
    "optimizr_faker = torch.optim.Adam(net_faker.parameters(),lr=0.0002,betas=(0.5,0.999))\n",
    "bce = torch.nn.BCELoss()\n",
    "\n",
    "X_real = torch.stack([torchvision.io.read_image(str(l)) for l in (path/'training/3').ls()],axis=0)/255\n",
    "y_real = torch.tensor([0.0]*6131).float().reshape(-1,1)\n",
    "y_fake = torch.tensor([1.0]*6131).float().reshape(-1,1)\n",
    "\n",
    "\n",
    "X_fake = net_faker(Noise).data\n",
    "yhat_fake = net_police(X_fake)\n",
    "yhat_real = net_police(X_real)\n",
    "\n",
    "for epoc in range(100):\n",
    "    Noise = torch.randn(6131,4)\n",
    "    # X_fake = net_faker(Noise)             # 매우 중요! : 이렇게 해버리면 학습이 안 됨 \n",
    "    X_fake = net_faker(Noise).data          # 매우 중요! : net_police 를 훈련하는 과정이므로,  net_faker(Noise) 의 미분값은 필요 없어서 net_faker(Noise).data로 사용해야만 한다.\n",
    "\n",
    "    ###### police ######\n",
    "    # step 1\n",
    "    yhat_real = net_police(X_real)\n",
    "    yhat_fake = net_police(X_fake)\n",
    "    # step 2\n",
    "    loss_police = bce(yhat_fake,y_fake) + bce(yhat_real,y_real)\n",
    "    # step 3\n",
    "    loss_police.backward() \n",
    "    # step 4\n",
    "    optimizr_police.step()\n",
    "    optimizr_police.zero_grad()\n",
    "    ###### police ######\n",
    "    \n",
    "    \n",
    "    ###### faker ######\n",
    "    # X_fake = net_faker(Noise).data        # 매우 중요! : 이렇게 해버리면 학습이 안 됨 \n",
    "    X_fake = net_faker(Noise)               # 매우 중요! : net_fake 를 훈련하는 과정이므로,  net_faker(Noise) 의 미분값은 필요 하므로 net_faker(Noise) 그대로 사용해야만 한다.\n",
    "    yhat_fake = net_police(X_fake)  \n",
    "\n",
    "    loss_faker = bce(net_police(X_fake),y_real)\n",
    "    loss_faker.backward()\n",
    "    optimizr_faker.step()\n",
    "    optimizr_faker.zero_grad()\n",
    "    ###### faker ######"
   ]
  },
  {
   "cell_type": "code",
   "execution_count": 287,
   "id": "6a13b02e-d9ae-46dc-9558-78432453abca",
   "metadata": {
    "tags": []
   },
   "outputs": [],
   "source": [
    "# for epoc in range(1000):\n",
    "#     # net_police 을 훈련\n",
    "#     Noise = torch.randn(6131,4) \n",
    "#     X_fake = net_faker(Noise).data # net_faker에 대한 미분꼬리표는 여기선 필요없으므로 .data 만을 이용\n",
    "#     ## step1 \n",
    "#     yhat_real = net_police(X_real)\n",
    "#     yhat_fake = net_police(X_fake)\n",
    "#     ## step2 \n",
    "#     loss_police = bce(yhat_real,y_real) + bce(yhat_fake,y_fake)\n",
    "#     ## step3 \n",
    "#     loss_police.backward()\n",
    "#     ## step4 \n",
    "#     optimizr_police.step()\n",
    "#     optimizr_police.zero_grad()\n",
    "#     # net_faker 를 훈련\n",
    "#     ## step1 \n",
    "#     Noise = torch.randn(6131,4) \n",
    "#     X_fake = net_faker(Noise)\n",
    "#     ## step2 \n",
    "#     yhat_fake = net_police(X_fake)\n",
    "#     loss_faker = bce(yhat_fake,y_real) \n",
    "#     ## step3\n",
    "#     loss_faker.backward()\n",
    "#     ## step4 \n",
    "#     optimizr_faker.step()\n",
    "#     optimizr_faker.zero_grad()"
   ]
  },
  {
   "cell_type": "code",
   "execution_count": 311,
   "id": "f9ed6e8c-342c-42a5-9a91-f2867ad4505f",
   "metadata": {
    "tags": []
   },
   "outputs": [
    {
     "data": {
      "image/png": "[encoded data removed]",
      "text/plain": [
       "<Figure size 1000x400 with 10 Axes>"
      ]
     },
     "metadata": {},
     "output_type": "display_data"
    }
   ],
   "source": [
    "fig,ax = plt.subplots(2,5,figsize=(10,4))\n",
    "k = 0 \n",
    "for i in range(2):\n",
    "    for j in range(5):\n",
    "        ax[i][j].imshow(X_fake[k].reshape(28,28).data,cmap=\"gray\")\n",
    "        ax[i][j].set_title(f\"police hat = {yhat_fake[k].item():.4f}\")\n",
    "        k = k+1 \n",
    "fig.tight_layout()"
   ]
  },
  {
   "cell_type": "markdown",
   "id": "1c6ff981",
   "metadata": {},
   "source": [
    "CUDA 사용하여 학습 30000회"
   ]
  },
  {
   "cell_type": "code",
   "execution_count": 313,
   "id": "942c87a5",
   "metadata": {},
   "outputs": [
    {
     "name": "stdout",
     "output_type": "stream",
     "text": [
      "Using device: cuda:0\n"
     ]
    }
   ],
   "source": [
    "\n",
    "# CUDA 사용 가능한지 확인\n",
    "device = torch.device(\"cuda:0\" if torch.cuda.is_available() else \"cpu\")\n",
    "print(\"Using device:\", device)\n",
    "\n",
    "# 임의의 시드 설정\n",
    "torch.manual_seed(43052)\n",
    "\n",
    "# 모델 정의\n",
    "class Reshape2828(torch.nn.Module):\n",
    "    def forward(self, x):\n",
    "        return x.view(-1, 28, 28)  # (n, 784) -> (n, 28, 28)\n",
    "\n",
    "net_police = torch.nn.Sequential(\n",
    "    torch.nn.Flatten(),\n",
    "    torch.nn.Linear(in_features=784, out_features=30),\n",
    "    torch.nn.ReLU(),\n",
    "    torch.nn.Linear(in_features=30, out_features=1),\n",
    "    torch.nn.Sigmoid()\n",
    ").to(device)\n",
    "\n",
    "net_faker = torch.nn.Sequential(\n",
    "    torch.nn.Linear(in_features=4, out_features=64),\n",
    "    torch.nn.ReLU(),\n",
    "    torch.nn.Linear(in_features=64, out_features=64),\n",
    "    torch.nn.ReLU(),\n",
    "    torch.nn.Linear(in_features=64, out_features=784),\n",
    "    torch.nn.Sigmoid(),\n",
    "    Reshape2828()\n",
    ").to(device)\n",
    "\n",
    "\n"
   ]
  },
  {
   "cell_type": "code",
   "execution_count": 314,
   "id": "f41a6988",
   "metadata": {},
   "outputs": [],
   "source": [
    "# 손실 함수와 옵티마이저\n",
    "bce = torch.nn.BCELoss().to(device)\n",
    "optimizr_police = torch.optim.Adam(net_police.parameters(), lr=0.001, betas=(0.5, 0.999))\n",
    "optimizr_faker = torch.optim.Adam(net_faker.parameters(), lr=0.0002, betas=(0.5, 0.999))\n",
    "\n",
    "for epoc in range(30000):\n",
    "    # net_police 훈련\n",
    "    Noise = torch.randn(6131, 4).to(device) \n",
    "    X_fake = net_faker(Noise).data  # .detach() 사용하여 불필요한 그래디언트 추적 방지\n",
    "    yhat_real = net_police(X_real.to(device))\n",
    "    yhat_fake = net_police(X_fake)\n",
    "    loss_police = bce(yhat_real, y_real.to(device)) + bce(yhat_fake, y_fake.to(device))\n",
    "    loss_police.backward()\n",
    "    optimizr_police.step()\n",
    "    optimizr_police.zero_grad()\n",
    "\n",
    "    # net_faker 훈련\n",
    "    Noise = torch.randn(6131, 4).to(device)\n",
    "    X_fake = net_faker(Noise)\n",
    "    yhat_fake = net_police(X_fake)\n",
    "    loss_faker = bce(yhat_fake, y_real.to(device))\n",
    "    loss_faker.backward()\n",
    "    optimizr_faker.step()\n",
    "    optimizr_faker.zero_grad()"
   ]
  },
  {
   "cell_type": "code",
   "execution_count": 315,
   "id": "af699d7d",
   "metadata": {},
   "outputs": [
    {
     "data": {
      "image/png": "[encoded data removed]",
      "text/plain": [
       "<Figure size 1000x400 with 15 Axes>"
      ]
     },
     "metadata": {},
     "output_type": "display_data"
    }
   ],
   "source": [
    "fig,ax = plt.subplots(3,5,figsize=(10,4))\n",
    "k = 0 \n",
    "for i in range(3):\n",
    "    for j in range(5):\n",
    "        ax[i][j].imshow(X_fake[k].to(\"cpu\").reshape(28,28).data,cmap=\"gray\")\n",
    "        ax[i][j].set_title(f\"police hat = {yhat_fake[k].item():.4f}\")\n",
    "        k = k+1 \n",
    "fig.tight_layout()"
   ]
  },
  {
   "cell_type": "code",
   "execution_count": 329,
   "id": "6d875ca8",
   "metadata": {},
   "outputs": [
    {
     "data": {
      "text/plain": [
       "<matplotlib.image.AxesImage at 0x7c54d3645640>"
      ]
     },
     "execution_count": 329,
     "metadata": {},
     "output_type": "execute_result"
    },
    {
     "data": {
      "image/png": "[encoded data removed]",
      "text/plain": [
       "<Figure size 640x480 with 1 Axes>"
      ]
     },
     "metadata": {},
     "output_type": "display_data"
    }
   ],
   "source": [
    "my_noise = torch.tensor([0,111111111111111,111110,0]).float().to(device)\n",
    "plt.imshow(net_faker(my_noise).data.reshape(28,28).to(\"cpu\"),cmap=\"gray\")"
   ]
  },
  {
   "cell_type": "code",
   "execution_count": 328,
   "id": "e4a54f4e",
   "metadata": {},
   "outputs": [
    {
     "data": {
      "text/plain": [
       "<matplotlib.image.AxesImage at 0x7c54d2d410d0>"
      ]
     },
     "execution_count": 328,
     "metadata": {},
     "output_type": "execute_result"
    },
    {
     "data": {
      "image/png": "[encoded data removed]",
      "text/plain": [
       "<Figure size 640x480 with 1 Axes>"
      ]
     },
     "metadata": {},
     "output_type": "display_data"
    }
   ],
   "source": [
    "my_noise = torch.tensor([111111111111111110,0,0,0]).float().to(device)\n",
    "plt.imshow(net_faker(my_noise).data.reshape(28,28).to(\"cpu\"),cmap=\"gray\")"
   ]
  },
  {
   "cell_type": "markdown",
   "id": "9a437c46",
   "metadata": {},
   "source": [
    "CUDA 사용하여 학습 10000회"
   ]
  },
  {
   "cell_type": "code",
   "execution_count": null,
   "id": "2e80e53a",
   "metadata": {},
   "outputs": [],
   "source": [
    "\n",
    "# CUDA 사용 가능한지 확인\n",
    "device = torch.device(\"cuda:0\" if torch.cuda.is_available() else \"cpu\")\n",
    "print(\"Using device:\", device)\n",
    "\n",
    "# 임의의 시드 설정\n",
    "torch.manual_seed(43052)\n",
    "\n",
    "# 모델 정의\n",
    "class Reshape2828(torch.nn.Module):\n",
    "    def forward(self, x):\n",
    "        return x.view(-1, 28, 28)  # (n, 784) -> (n, 28, 28)\n",
    "\n",
    "net_police = torch.nn.Sequential(\n",
    "    torch.nn.Flatten(),\n",
    "    torch.nn.Linear(in_features=784, out_features=30),\n",
    "    torch.nn.ReLU(),\n",
    "    torch.nn.Linear(in_features=30, out_features=1),\n",
    "    torch.nn.Sigmoid()\n",
    ").to(device)\n",
    "\n",
    "net_faker = torch.nn.Sequential(\n",
    "    torch.nn.Linear(in_features=4, out_features=64),\n",
    "    torch.nn.ReLU(),\n",
    "    torch.nn.Linear(in_features=64, out_features=64),\n",
    "    torch.nn.ReLU(),\n",
    "    torch.nn.Linear(in_features=64, out_features=784),\n",
    "    torch.nn.Sigmoid(),\n",
    "    Reshape2828()\n",
    ").to(device)\n",
    "\n",
    "\n"
   ]
  },
  {
   "cell_type": "code",
   "execution_count": 43,
   "id": "5f77af6e",
   "metadata": {},
   "outputs": [],
   "source": [
    "# 손실 함수와 옵티마이저\n",
    "bce = torch.nn.BCELoss().to(device)\n",
    "optimizr_police = torch.optim.Adam(net_police.parameters(), lr=0.001, betas=(0.5, 0.999))\n",
    "optimizr_faker = torch.optim.Adam(net_faker.parameters(), lr=0.0002, betas=(0.5, 0.999))\n",
    "\n",
    "for epoc in range(10000):\n",
    "    # net_police 훈련\n",
    "    Noise = torch.randn(6131, 4).to(device) \n",
    "    X_fake = net_faker(Noise).detach()  # .detach() 사용하여 불필요한 그래디언트 추적 방지\n",
    "    yhat_real = net_police(X_real.to(device))\n",
    "    yhat_fake = net_police(X_fake)\n",
    "    loss_police = bce(yhat_real, y_real.to(device)) + bce(yhat_fake, y_fake.to(device))\n",
    "    loss_police.backward()\n",
    "    optimizr_police.step()\n",
    "    optimizr_police.zero_grad()\n",
    "\n",
    "    # net_faker 훈련\n",
    "    Noise = torch.randn(6131, 4).to(device)\n",
    "    X_fake = net_faker(Noise)\n",
    "    yhat_fake = net_police(X_fake)\n",
    "    loss_faker = bce(yhat_fake, y_real.to(device))\n",
    "    loss_faker.backward()\n",
    "    optimizr_faker.step()\n",
    "    optimizr_faker.zero_grad()"
   ]
  },
  {
   "cell_type": "code",
   "execution_count": null,
   "id": "ec25a3d7",
   "metadata": {},
   "outputs": [],
   "source": [
    "fig,ax = plt.subplots(3,5,figsize=(10,4))\n",
    "k = 0 \n",
    "for i in range(3):\n",
    "    for j in range(5):\n",
    "        ax[i][j].imshow(X_fake[k].to(\"cpu\").reshape(28,28).data,cmap=\"gray\")\n",
    "        ax[i][j].set_title(f\"police hat = {yhat_fake[k].item():.4f}\")\n",
    "        k = k+1 \n",
    "fig.tight_layout()"
   ]
  },
  {
   "cell_type": "markdown",
   "id": "a0296711",
   "metadata": {},
   "source": [
    "CUDA 사용하여 학습 1000회"
   ]
  },
  {
   "cell_type": "code",
   "execution_count": null,
   "id": "9cd94f9c",
   "metadata": {},
   "outputs": [],
   "source": [
    "\n",
    "# CUDA 사용 가능한지 확인\n",
    "device = torch.device(\"cuda:0\" if torch.cuda.is_available() else \"cpu\")\n",
    "print(\"Using device:\", device)\n",
    "\n",
    "# 임의의 시드 설정\n",
    "torch.manual_seed(43052)\n",
    "\n",
    "# 모델 정의\n",
    "class Reshape2828(torch.nn.Module):\n",
    "    def forward(self, x):\n",
    "        return x.view(-1, 28, 28)  # (n, 784) -> (n, 28, 28)\n",
    "\n",
    "net_police = torch.nn.Sequential(\n",
    "    torch.nn.Flatten(),\n",
    "    torch.nn.Linear(in_features=784, out_features=30),\n",
    "    torch.nn.ReLU(),\n",
    "    torch.nn.Linear(in_features=30, out_features=1),\n",
    "    torch.nn.Sigmoid()\n",
    ").to(device)\n",
    "\n",
    "net_faker = torch.nn.Sequential(\n",
    "    torch.nn.Linear(in_features=4, out_features=64),\n",
    "    torch.nn.ReLU(),\n",
    "    torch.nn.Linear(in_features=64, out_features=64),\n",
    "    torch.nn.ReLU(),\n",
    "    torch.nn.Linear(in_features=64, out_features=784),\n",
    "    torch.nn.Sigmoid(),\n",
    "    Reshape2828()\n",
    ").to(device)\n",
    "\n",
    "\n",
    "# 손실 함수와 옵티마이저\n",
    "bce = torch.nn.BCELoss().to(device)\n",
    "optimizr_police = torch.optim.Adam(net_police.parameters(), lr=0.001, betas=(0.5, 0.999))\n",
    "optimizr_faker = torch.optim.Adam(net_faker.parameters(), lr=0.0002, betas=(0.5, 0.999))"
   ]
  },
  {
   "cell_type": "code",
   "execution_count": 46,
   "id": "5251eb34",
   "metadata": {},
   "outputs": [],
   "source": [
    "for epoc in range(1000):\n",
    "    # net_police 훈련\n",
    "    Noise = torch.randn(6131, 4).to(device) \n",
    "    X_fake = net_faker(Noise).detach()  # .detach() 사용하여 불필요한 그래디언트 추적 방지\n",
    "    yhat_real = net_police(X_real.to(device))\n",
    "    yhat_fake = net_police(X_fake)\n",
    "    loss_police = bce(yhat_real, y_real.to(device)) + bce(yhat_fake, y_fake.to(device))\n",
    "    loss_police.backward()\n",
    "    optimizr_police.step()\n",
    "    optimizr_police.zero_grad()\n",
    "\n",
    "    # net_faker 훈련\n",
    "    Noise = torch.randn(6131, 4).to(device)\n",
    "    X_fake = net_faker(Noise)\n",
    "    yhat_fake = net_police(X_fake)\n",
    "    loss_faker = bce(yhat_fake, y_real.to(device))\n",
    "    loss_faker.backward()\n",
    "    optimizr_faker.step()\n",
    "    optimizr_faker.zero_grad()"
   ]
  },
  {
   "cell_type": "code",
   "execution_count": null,
   "id": "27b96328",
   "metadata": {},
   "outputs": [],
   "source": [
    "fig,ax = plt.subplots(3,5,figsize=(10,10))\n",
    "k = 0 \n",
    "for i in range(3):\n",
    "    for j in range(5):\n",
    "        ax[i][j].imshow(X_fake[k].to(\"cpu\").reshape(28,28).data,cmap=\"gray\")\n",
    "        ax[i][j].set_title(f\"police hat = {yhat_fake[k].item():.4f}\")\n",
    "        k = k+1 \n",
    "fig.tight_layout()"
   ]
  },
  {
   "cell_type": "markdown",
   "id": "a15273d5-5b0e-4d03-95b1-0ed6adce48c1",
   "metadata": {},
   "source": [
    "# 5. 초기 GAN의 한계점 "
   ]
  },
  {
   "cell_type": "markdown",
   "id": "db174dad-0f9e-43e0-a690-4950e8255d96",
   "metadata": {},
   "source": [
    "`-` 두 네트워크의 균형이 매우 중요함 -- 균형이 깨지는 순간 학습은 실패함"
   ]
  },
  {
   "cell_type": "markdown",
   "id": "2614cf01-f54e-4074-96e4-b1f209e4d51a",
   "metadata": {},
   "source": [
    "`-` 생성되는 이미지의 다양성이 부족한 경우가 발생함. (mode collapse)"
   ]
  }
 ],
 "metadata": {
  "kernelspec": {
   "display_name": "Python 3 (ipykernel)",
   "language": "python",
   "name": "python3"
  },
  "language_info": {
   "codemirror_mode": {
    "name": "ipython",
    "version": 3
   },
   "file_extension": ".py",
   "mimetype": "text/x-python",
   "name": "python",
   "nbconvert_exporter": "python",
   "pygments_lexer": "ipython3",
   "version": "3.8.19"
  }
 },
 "nbformat": 4,
 "nbformat_minor": 5
}
