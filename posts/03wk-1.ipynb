{
 "cells": [
  {
   "cell_type": "raw",
   "id": "076aefe4-51e0-46d8-9f2e-dc09851fa5f1",
   "metadata": {
    "id": "87b5cded-346b-4915-acf5-b5ec93a5207d"
   },
   "source": [
    "---\n",
    "title: \"03wk-1: 로지스틱 -- 로지스틱 소개, BCELoss, Adam, 로지스틱의 한계\"\n",
    "author: \"최규빈\"\n",
    "date: \"03/18/2024\"\n",
    "---"
   ]
  },
  {
   "cell_type": "markdown",
   "id": "69e80848-6bc5-4060-a4bb-967e4581c628",
   "metadata": {
    "id": "e67ab8e0"
   },
   "source": [
    "<a href=\"https://colab.research.google.com/github/guebin/DL2024/blob/main/posts/03wk-1.ipynb\"><img src=\"https://colab.research.google.com/assets/colab-badge.svg\" style=\"text-align: left\"></a>"
   ]
  },
  {
   "cell_type": "markdown",
   "id": "7281faef-d1ac-4989-8558-78125a407c3b",
   "metadata": {
    "id": "4d47a7c9"
   },
   "source": [
    "# 1. 강의영상"
   ]
  },
  {
   "cell_type": "markdown",
   "id": "7b048ad1-5ad6-4537-a0ce-e6819a2a199b",
   "metadata": {
    "tags": []
   },
   "source": [
    "{{<video https://youtu.be/playlist?list=PLQqh36zP38-wO_Mc_74QoweAxCWw5A86_&si=iWAgttM-CIgsi1x3 >}}"
   ]
  },
  {
   "cell_type": "markdown",
   "id": "ecb48bf6-d080-4c5f-9e17-7ed63d38bbd1",
   "metadata": {},
   "source": [
    "# 2. Imports"
   ]
  },
  {
   "cell_type": "code",
   "execution_count": 1,
   "id": "8775f9a1-175d-473b-ac73-1e664c4c2795",
   "metadata": {
    "tags": []
   },
   "outputs": [],
   "source": [
    "import torch\n",
    "import matplotlib.pyplot as plt \n",
    "import numpy as np\n",
    "import pandas as pd\n"
   ]
  },
  {
   "cell_type": "code",
   "execution_count": 2,
   "id": "7f289820-e846-4ed5-ac3d-7c371ed7cf44",
   "metadata": {
    "tags": []
   },
   "outputs": [],
   "source": [
    "def plot_loss(loss_fn, ax=None, Wstar=[-1,5]):\n",
    "    w0hat,w1hat =torch.meshgrid(torch.arange(-10,3,0.1),torch.arange(-1,10,0.1),indexing='ij')\n",
    "    w0hat = w0hat.reshape(-1)\n",
    "    w1hat = w1hat.reshape(-1)\n",
    "    def l(w0hat,w1hat):\n",
    "        yhat = torch.exp(w0hat+w1hat*x)/(1+torch.exp(w0hat+w1hat*x))\n",
    "        return loss_fn(yhat,y) \n",
    "    loss = list(map(l,w0hat,w1hat))\n",
    "    #---#\n",
    "    if ax is None: \n",
    "        fig = plt.figure()\n",
    "        ax = fig.add_subplot(1,1,1,projection='3d')\n",
    "    ax.scatter(w0hat,w1hat,loss,s=0.001) \n",
    "    ax.scatter(w0hat[::20],w1hat[::20],loss[::20],s=0.1,color='C0') \n",
    "    w0star,w1star = np.array(Wstar).reshape(-1)\n",
    "    ax.scatter(w0star,w1star,l(w0star,w1star),s=200,marker='*',color='red',label=f\"W=[{w0star:.1f},{w1star:.1f}]\")\n",
    "    #---#\n",
    "    ax.elev = 15\n",
    "    ax.dist = -20\n",
    "    ax.azim = 75    \n",
    "    ax.legend()\n",
    "    ax.set_xlabel(r'$w_0$')  # x축 레이블 설정\n",
    "    ax.set_ylabel(r'$w_1$')  # y축 레이블 설정\n",
    "    ax.set_xticks([-10,-5,0])  # x축 틱 간격 설정\n",
    "    ax.set_yticks([-10,0,10])  # y축 틱 간격 설정"
   ]
  },
  {
   "cell_type": "code",
   "execution_count": 3,
   "id": "dbb48ed0-f043-4d04-8a93-39e89e91d601",
   "metadata": {
    "tags": []
   },
   "outputs": [],
   "source": [
    "def learn_and_record(net, loss_fn, optimizr):\n",
    "    yhat_history = [] \n",
    "    loss_history = []\n",
    "    What_history = []\n",
    "    Whatgrad_history = []\n",
    "    What_history.append([net[0].bias.data.item(), net[0].weight.data.item()])\n",
    "    for epoc in range(100): \n",
    "        ## step1 \n",
    "        yhat = net(x)\n",
    "        ## step2 \n",
    "        loss = loss_fn(yhat,y)\n",
    "        ## step3\n",
    "        loss.backward() \n",
    "        ## step4 \n",
    "        optimizr.step()\n",
    "        ## record \n",
    "        if epoc % 5 ==0: \n",
    "            yhat_history.append(yhat.reshape(-1).data.tolist())\n",
    "            loss_history.append(loss.item())\n",
    "            What_history.append([net[0].bias.data.item(), net[0].weight.data.item()])\n",
    "            Whatgrad_history.append([net[0].bias.grad.item(), net[0].weight.grad.item()])\n",
    "        optimizr.zero_grad() \n",
    "        \n",
    "    return yhat_history, loss_history, What_history, Whatgrad_history"
   ]
  },
  {
   "cell_type": "code",
   "execution_count": 4,
   "id": "6661b8cd-5b7b-419f-b110-9e6870dddd2e",
   "metadata": {
    "tags": []
   },
   "outputs": [],
   "source": [
    "def show_animation(net, loss_fn, optimizr):\n",
    "    yhat_history,loss_history,What_history,Whatgrad_history = learn_and_record(net,loss_fn,optimizr)\n",
    "    \n",
    "    fig = plt.figure(figsize=(7.5,3.5))\n",
    "    ax1 = fig.add_subplot(1, 2, 1)\n",
    "    ax2 = fig.add_subplot(1, 2, 2, projection='3d')\n",
    "    ## ax1: 왼쪽그림 \n",
    "    ax1.scatter(x,y,alpha=0.01)\n",
    "    ax1.scatter(x[0],y[0],color='C0',label=r\"observed data = $(x_i,y_i)$\")\n",
    "    ax1.plot(x,v,'--',label=r\"prob (true) = $(x_i,\\frac{exp(-1+5x_i)}{1+exp(-1+5x_i)})$\")    \n",
    "    line, = ax1.plot(x,yhat_history[0],'--',label=r\"prob (estimated) = $(x_i,\\hat{y}_i)$\") \n",
    "    ax1.legend()\n",
    "    ## ax2: 오른쪽그림 \n",
    "    plot_loss(loss_fn,ax2)\n",
    "    ax2.scatter(np.array(What_history)[0,0],np.array(What_history)[0,1],loss_history[0],color='blue',s=200,marker='*')    \n",
    "    def animate(epoc):\n",
    "        line.set_ydata(yhat_history[epoc])\n",
    "        w0hat = np.array(What_history)[epoc,0]\n",
    "        w1hat = np.array(What_history)[epoc,1]\n",
    "        w0hatgrad = np.array(Whatgrad_history)[epoc,0]\n",
    "        w1hatgrad = np.array(Whatgrad_history)[epoc,1]\n",
    "        ax2.scatter(w0hat,w1hat,loss_history[epoc],color='grey')\n",
    "        ax2.set_title(f\"What.grad=[{w0hatgrad:.4f},{w1hatgrad:.4f}]\",y=0.8)\n",
    "        fig.suptitle(f\"epoch={epoc*5} // What=[{w0hat:.2f},{w1hat:.2f}] // Loss={loss_fn.__class__.__name__} // Opt={optimizr.__class__.__name__}\")\n",
    "        return line\n",
    "    ani = animation.FuncAnimation(fig, animate, frames=20)    \n",
    "    plt.close()\n",
    "    return ani"
   ]
  },
  {
   "cell_type": "code",
   "execution_count": 5,
   "id": "c73b5b7d-3bc8-4d7e-a1ef-6fd241495028",
   "metadata": {
    "tags": []
   },
   "outputs": [],
   "source": [
    "from matplotlib import animation\n",
    "plt.rcParams[\"animation.html\"] = \"jshtml\""
   ]
  },
  {
   "cell_type": "markdown",
   "id": "30807b24-d829-4881-a24b-3e47942f2d58",
   "metadata": {},
   "source": [
    "# 3. ToyData1"
   ]
  },
  {
   "cell_type": "markdown",
   "id": "a0dad0a9-d654-44a8-a9a9-4af1e1139442",
   "metadata": {},
   "source": [
    "`-` $X$를 가지고 $y$를 맞추는 아래와 같은 문제"
   ]
  },
  {
   "cell_type": "code",
   "execution_count": 6,
   "id": "fdddab84-d421-4a83-980e-b1ca8972faa2",
   "metadata": {
    "tags": []
   },
   "outputs": [
    {
     "data": {
      "text/plain": [
       "[<matplotlib.lines.Line2D at 0x7770103c68e0>]"
      ]
     },
     "execution_count": 6,
     "metadata": {},
     "output_type": "execute_result"
    },
    {
     "data": {
      "image/png": "[encoded data removed]",
      "text/plain": [
       "<Figure size 640x480 with 1 Axes>"
      ]
     },
     "metadata": {},
     "output_type": "display_data"
    }
   ],
   "source": [
    "x = torch.tensor([-6,-5,-4,-3,-2,-1, 0, 1, 2, 3, 4, 5, 6.0]).reshape(-1,1)\n",
    "y = torch.tensor([ 0, 0, 0, 0, 0, 0, 1, 0, 1, 1, 1, 1, 1]).reshape(-1,1)\n",
    "plt.plot(x,y,'o')"
   ]
  },
  {
   "cell_type": "markdown",
   "id": "76d85ae2-d0f5-4e1d-880f-fb710012ca0b",
   "metadata": {
    "tags": []
   },
   "source": [
    "- yhat이 굳이 0 혹은 1이어야 할까? \n",
    "- (회귀문제를 떠올리며) 우리가 맞추고 싶은건 사실 $y_i$ 자체가 아니라 $y_i$를 만들어내는 underlying 아니었어? "
   ]
  },
  {
   "cell_type": "markdown",
   "id": "8acfe109-8d8b-4f14-ac36-1779e7fb853d",
   "metadata": {
    "tags": []
   },
   "source": [
    "`-` 아래와 같이 모형화 하면? "
   ]
  },
  {
   "cell_type": "code",
   "execution_count": 7,
   "id": "37c2652a-977f-409d-85da-08a997934969",
   "metadata": {
    "tags": []
   },
   "outputs": [
    {
     "data": {
      "text/plain": [
       "<matplotlib.legend.Legend at 0x7770dc4387c0>"
      ]
     },
     "execution_count": 7,
     "metadata": {},
     "output_type": "execute_result"
    },
    {
     "data": {
      "image/png": "[encoded data removed]",
      "text/plain": [
       "<Figure size 640x480 with 1 Axes>"
      ]
     },
     "metadata": {},
     "output_type": "display_data"
    }
   ],
   "source": [
    "plt.plot(x,y,'o', label=r\"observed data (with error) = $(x_i,y_i)$\")\n",
    "plt.plot(x,torch.exp(x)/(1+torch.exp(x)),'o--', label = \"underlying (without error)\")\n",
    "plt.legend()"
   ]
  },
  {
   "cell_type": "markdown",
   "id": "c6276ec8-2412-4675-bb77-6b391d78026a",
   "metadata": {
    "tags": []
   },
   "source": [
    "- 우리가 예측하고 싶은건 랜덤하게 나오는 오차가 아니야. (만약 예측할 수 있다면 이미 랜덤이 아닌걸?)"
   ]
  },
  {
   "cell_type": "markdown",
   "id": "8ce2e164-d7cd-4f74-8cce-36bea393afe2",
   "metadata": {},
   "source": [
    "# 4. ToyData2"
   ]
  },
  {
   "cell_type": "markdown",
   "id": "0e0ab758-4fe5-4d67-af37-80fdbf822daa",
   "metadata": {},
   "source": [
    "## A. 로지스틱 모형"
   ]
  },
  {
   "cell_type": "markdown",
   "id": "3a0fa2ed-65a4-4d07-a682-98e57a78dce6",
   "metadata": {
    "tags": []
   },
   "source": [
    "`-` $x$가 커질수록 $y=1$이 잘나오는 모형은 아래와 같이 설계할 수 있음\n",
    "\\<— 외우세요!!!\n",
    "\n",
    "-   $y_i \\sim {\\cal B}(\\pi_i),\\quad$ where\n",
    "    $\\pi_i = \\frac{\\exp(w_0+w_1x_i)}{1+\\exp(w_0+w_1x_i)} = \\frac{1}{1+\\exp(-w_0-w_1x_i)}$\n",
    "\n",
    "-   $\\hat{y}_i= \\frac{\\exp(\\hat{w}_0+\\hat{w}_1x_i)}{1+\\exp(\\hat{w}_0+\\hat{w}_1x_i)}=\\frac{1}{1+\\exp(-\\hat{w}_0-\\hat{w}_1x_i)}$\n",
    "\n",
    "-   $loss= - \\sum_{i=1}^{n} \\big(y_i\\log(\\hat{y}_i)+(1-y_i)\\log(1-\\hat{y}_i)\\big)$\n",
    "    \\<— 외우세요!!"
   ]
  },
  {
   "cell_type": "markdown",
   "id": "a7dc23c7-fedc-4486-9f5e-e0b2d9f12497",
   "metadata": {},
   "source": [
    "`-` 회귀모형과 로지스틱 모형의 비교 \n",
    "\n",
    "- 회귀모형: $y_i \\sim {\\cal N}(w_0+w_1x_i, \\sigma^2)$^[원래는 이렇게 썼었지.. $y_i = w_0 + w_1x_i + \\epsilon_i \\quad \\epsilon_i \\sim {\\cal N}(0,\\sigma^2)$]\n",
    "- 로지스틱: $y_i \\sim {\\cal B}\\big(\\frac{\\exp(w_0+w_1x_i)}{1+\\exp(w_0+w_1x_i)}\\big)$"
   ]
  },
  {
   "cell_type": "markdown",
   "id": "1b4f849f-8333-474e-8823-1c1a8f32a344",
   "metadata": {},
   "source": [
    "`-` 우리가 예측하고 싶은것 \n",
    "\n",
    "- 회귀모형: 정규분포의 평균을 예측하고 싶음. 즉 $w_0+w_1x_i$를 예측하고 싶음. 예측값으로는 $\\hat{w}_0 + \\hat{w}_1x_i$를 사용!\n",
    "- 로지스틱: 베르누이의 평균을 예측하고 싶음. 즉 $\\frac{\\exp(w_0+w_1x_i)}{1+\\exp(w_0+w_1x_i)}$를 예측하고 싶음. 예측값으로는 $\\frac{\\exp(\\hat{w}_0+\\hat{w}_1x_i)}{1+\\exp(\\hat{w}_0+\\hat{w}_1x_i)}$를 사용!"
   ]
  },
  {
   "cell_type": "markdown",
   "id": "5e827d48-4ebe-4858-929a-ec06072842b6",
   "metadata": {},
   "source": [
    "## B. 데이터 "
   ]
  },
  {
   "cell_type": "code",
   "execution_count": 8,
   "id": "aa4784d2-94ea-4a51-bcbf-5f52ceb1716e",
   "metadata": {
    "tags": []
   },
   "outputs": [],
   "source": [
    "x = torch.linspace(-3,3,2000).reshape(2000,1)\n",
    "w0 = -1\n",
    "w1 = 5\n",
    "u = w0 + x*w1 # 선형변환이네?\n",
    "v = torch.exp(u) / (1+torch.exp(u))  # 시그모이드 함수  \n",
    "y = torch.bernoulli(v)               # 베르누이 분포"
   ]
  },
  {
   "cell_type": "code",
   "execution_count": 9,
   "id": "a87bb040-73db-48a4-94a2-575197435d34",
   "metadata": {
    "tags": []
   },
   "outputs": [
    {
     "data": {
      "text/plain": [
       "<matplotlib.legend.Legend at 0x777010808df0>"
      ]
     },
     "execution_count": 9,
     "metadata": {},
     "output_type": "execute_result"
    },
    {
     "data": {
      "image/png": "[encoded data removed]",
      "text/plain": [
       "<Figure size 640x480 with 1 Axes>"
      ]
     },
     "metadata": {},
     "output_type": "display_data"
    }
   ],
   "source": [
    "plt.plot(x,y,'.',alpha=0.03)\n",
    "plt.plot(x[0],y[0],'o',label=r\"$(x_i,y_i)$\",color=\"C0\")\n",
    "plt.plot(x,v,'--r',label=r\"prob (true, unknown) = $\\frac{exp(-1+5x)}{1+exp(-1+5x)}$\")\n",
    "plt.legend()"
   ]
  },
  {
   "cell_type": "markdown",
   "id": "ae904bcf-1a82-4364-ae8c-cd8fef0c9399",
   "metadata": {},
   "source": [
    "우리의 목적: $x_i$가 들어가면 빨간곡선 $\\hat{y}_i$의 값을 만들어주는 mapping을 학습해보자. "
   ]
  },
  {
   "cell_type": "markdown",
   "id": "8893ba2b-dfcd-4ac3-8ca1-90bdd8bd2549",
   "metadata": {},
   "source": [
    "## C. Step1: net 설계 (모델링)"
   ]
  },
  {
   "cell_type": "markdown",
   "id": "ad9d34bf-f93c-4c3a-ac6e-10da1d9d758f",
   "metadata": {},
   "source": [
    "`-` 최초의 곡선을 그려보자. ($net: x \\to yhat$ 을 수행하는 네트워크를 설계해보자는 의미)"
   ]
  },
  {
   "cell_type": "code",
   "execution_count": 10,
   "id": "89e58e36-c6f1-40b4-8308-890756335ec4",
   "metadata": {
    "tags": []
   },
   "outputs": [],
   "source": [
    "w0hat = -0.8\n",
    "w1hat = -0.3"
   ]
  },
  {
   "cell_type": "code",
   "execution_count": 11,
   "id": "37bda779-8615-4484-8ed0-2cba9dd5b9b9",
   "metadata": {
    "tags": []
   },
   "outputs": [],
   "source": [
    "# custom sigmoid function\n",
    "def sigmoid(x):\n",
    "    return torch.exp(x)/(1+torch.exp(x))"
   ]
  },
  {
   "cell_type": "code",
   "execution_count": 12,
   "id": "982ecbc5-8cc3-4f63-9dec-93783df14ab2",
   "metadata": {
    "tags": []
   },
   "outputs": [
    {
     "data": {
      "text/plain": [
       "<matplotlib.legend.Legend at 0x7770dc22e190>"
      ]
     },
     "execution_count": 12,
     "metadata": {},
     "output_type": "execute_result"
    },
    {
     "data": {
      "image/png": "[encoded data removed]",
      "text/plain": [
       "<Figure size 640x480 with 1 Axes>"
      ]
     },
     "metadata": {},
     "output_type": "display_data"
    }
   ],
   "source": [
    "plt.plot(x,y,'.',alpha=0.03)\n",
    "plt.plot(x[0],y[0],'o',label=r\"$(x_i,y_i)$\",color=\"C0\")\n",
    "plt.plot(x,v,'--r',label=r\"prob (true, unknown) = $\\frac{exp(-1+5x)}{1+exp(-1+5x)}$\")\n",
    "plt.plot(x,sigmoid(w0hat + w1hat*x),'--b', label=r\"prob (estimated) = $(x_i,\\hat{y}_i)$ -- first curve\")\n",
    "plt.legend()"
   ]
  },
  {
   "cell_type": "code",
   "execution_count": 13,
   "id": "d88bb6a8",
   "metadata": {},
   "outputs": [
    {
     "data": {
      "text/plain": [
       "<matplotlib.legend.Legend at 0x77700fdcd670>"
      ]
     },
     "execution_count": 13,
     "metadata": {},
     "output_type": "execute_result"
    },
    {
     "data": {
      "image/png": "[encoded data removed]",
      "text/plain": [
       "<Figure size 640x480 with 1 Axes>"
      ]
     },
     "metadata": {},
     "output_type": "display_data"
    }
   ],
   "source": [
    "# 현재 추정하고 있는 model의 plot상태. Ground Truth와 사뭇 다르다. 이를 수정해서 Ground Truth에 가깝도록 튜닝해야됨.\n",
    "plt.plot(x,sigmoid(w0hat + w1hat*x),'--b', label=r\"prob (estimated) = $(x_i,\\hat{y}_i)$ -- first curve\")\n",
    "plt.plot(x,torch.bernoulli(sigmoid(w0hat + w1hat*x)),'-o',alpha=0.03)\n",
    "plt.legend()"
   ]
  },
  {
   "cell_type": "code",
   "execution_count": 14,
   "id": "841152f0",
   "metadata": {},
   "outputs": [
    {
     "data": {
      "text/plain": [
       "(-0.8, -0.3)"
      ]
     },
     "execution_count": 14,
     "metadata": {},
     "output_type": "execute_result"
    }
   ],
   "source": [
    "w0hat,w1hat"
   ]
  },
  {
   "cell_type": "markdown",
   "id": "3eaa648c-7087-4c44-aedf-3ee7ba87ecac",
   "metadata": {
    "tags": []
   },
   "source": [
    "`-` `w0hat + w1hat*x` 이 부분을 `torch.nn.Linear(bias = False)`로 구현"
   ]
  },
  {
   "cell_type": "code",
   "execution_count": 15,
   "id": "5c91a820",
   "metadata": {},
   "outputs": [
    {
     "data": {
      "text/plain": [
       "Parameter containing:\n",
       "tensor([[-0.3186,  0.5468]], requires_grad=True)"
      ]
     },
     "execution_count": 15,
     "metadata": {},
     "output_type": "execute_result"
    }
   ],
   "source": [
    "X = torch.concat([torch.ones(2000).reshape(-1,1),x],axis=1)\n",
    "l1 = torch.nn.Linear(\n",
    "    in_features=2,\n",
    "    out_features=1,\n",
    "    bias=False\n",
    ")\n",
    "\n",
    "l1.weight   # random w0, w1"
   ]
  },
  {
   "cell_type": "code",
   "execution_count": 16,
   "id": "9aac96b5-9cb1-4565-82e2-5f273d29f24d",
   "metadata": {
    "tags": []
   },
   "outputs": [],
   "source": [
    "l1.weight.data = torch.tensor([[-0.8,  -0.3]])      # shape에 주의. "
   ]
  },
  {
   "cell_type": "code",
   "execution_count": 17,
   "id": "22166f86",
   "metadata": {},
   "outputs": [
    {
     "data": {
      "text/plain": [
       "torch.Size([1, 2])"
      ]
     },
     "execution_count": 17,
     "metadata": {},
     "output_type": "execute_result"
    }
   ],
   "source": [
    "l1.weight.data.shape"
   ]
  },
  {
   "cell_type": "code",
   "execution_count": 18,
   "id": "a7bcfcbd-a9fc-4ad4-a9af-3fabf01900fa",
   "metadata": {
    "tags": []
   },
   "outputs": [
    {
     "data": {
      "text/plain": [
       "(tensor([[ 0.1000],\n",
       "         [ 0.0991],\n",
       "         [ 0.0982],\n",
       "         ...,\n",
       "         [-1.6982],\n",
       "         [-1.6991],\n",
       "         [-1.7000]], grad_fn=<MmBackward0>),\n",
       " tensor([[ 0.1000],\n",
       "         [ 0.0991],\n",
       "         [ 0.0982],\n",
       "         ...,\n",
       "         [-1.6982],\n",
       "         [-1.6991],\n",
       "         [-1.7000]]))"
      ]
     },
     "execution_count": 18,
     "metadata": {},
     "output_type": "execute_result"
    }
   ],
   "source": [
    "l1(X), w0hat + w1hat*x # 똑같죠"
   ]
  },
  {
   "cell_type": "markdown",
   "id": "4b522525-4f7a-4b53-bba4-0115ec4fc5df",
   "metadata": {
    "tags": []
   },
   "source": [
    "`-` `w0hat + w1hat*x` 이 부분을 `torch.nn.Linear(bias = True)`로 구현"
   ]
  },
  {
   "cell_type": "code",
   "execution_count": 19,
   "id": "334b2def-8466-4ba6-965b-4a319d7b0995",
   "metadata": {
    "tags": []
   },
   "outputs": [
    {
     "data": {
      "text/plain": [
       "(Parameter containing:\n",
       " tensor([[-0.1681]], requires_grad=True),\n",
       " Parameter containing:\n",
       " tensor([0.1412], requires_grad=True))"
      ]
     },
     "execution_count": 19,
     "metadata": {},
     "output_type": "execute_result"
    }
   ],
   "source": [
    "#X = torch.concat([torch.ones(2000).reshape(-1,1),x],axis=1)\n",
    "l1 = torch.nn.Linear(in_features=1, out_features=1) # bias=True 기본\n",
    "l1.weight, l1.bias"
   ]
  },
  {
   "cell_type": "code",
   "execution_count": 20,
   "id": "c041a7bf-bafb-4e33-9156-420095dea13e",
   "metadata": {
    "tags": []
   },
   "outputs": [],
   "source": [
    "l1.weight.data = torch.tensor([[-0.3]])\n",
    "l1.bias.data = torch.tensor([-0.8])"
   ]
  },
  {
   "cell_type": "code",
   "execution_count": 21,
   "id": "6f742d45-f90a-40ed-90ce-31b32ee08c85",
   "metadata": {
    "tags": []
   },
   "outputs": [
    {
     "data": {
      "text/plain": [
       "(tensor([[ 0.1000],\n",
       "         [ 0.0991],\n",
       "         [ 0.0982],\n",
       "         ...,\n",
       "         [-1.6982],\n",
       "         [-1.6991],\n",
       "         [-1.7000]], grad_fn=<AddmmBackward0>),\n",
       " tensor([[ 0.1000],\n",
       "         [ 0.0991],\n",
       "         [ 0.0982],\n",
       "         ...,\n",
       "         [-1.6982],\n",
       "         [-1.6991],\n",
       "         [-1.7000]]))"
      ]
     },
     "execution_count": 21,
     "metadata": {},
     "output_type": "execute_result"
    }
   ],
   "source": [
    "l1(x), w0hat + w1hat*x # 이것도 똑같죠!"
   ]
  },
  {
   "cell_type": "markdown",
   "id": "710ede99-a75c-49d0-a0f3-52f5f19a51cc",
   "metadata": {
    "tags": []
   },
   "source": [
    "`-` 내가만든 sigmoid 대신에 토치에서 제공하는 sigmoid 사용 "
   ]
  },
  {
   "cell_type": "code",
   "execution_count": 22,
   "id": "6429f002-8815-4df5-adc2-9158c8e98fcf",
   "metadata": {
    "tags": []
   },
   "outputs": [],
   "source": [
    "a1 = torch.nn.Sigmoid()"
   ]
  },
  {
   "cell_type": "code",
   "execution_count": 23,
   "id": "e05fb0b9",
   "metadata": {},
   "outputs": [
    {
     "data": {
      "text/plain": [
       "tensor([[0.5250],\n",
       "        [0.5248],\n",
       "        [0.5245],\n",
       "        ...,\n",
       "        [0.1547],\n",
       "        [0.1546],\n",
       "        [0.1545]], grad_fn=<SigmoidBackward0>)"
      ]
     },
     "execution_count": 23,
     "metadata": {},
     "output_type": "execute_result"
    }
   ],
   "source": [
    "a1(l1(x)) # 똑같아요. sigmoid 에 linear transform 한 x 를 통과시킴"
   ]
  },
  {
   "cell_type": "code",
   "execution_count": 24,
   "id": "3cab0c5d",
   "metadata": {},
   "outputs": [
    {
     "data": {
      "text/plain": [
       "tensor([[0.5250],\n",
       "        [0.5248],\n",
       "        [0.5245],\n",
       "        ...,\n",
       "        [0.1547],\n",
       "        [0.1546],\n",
       "        [0.1545]], grad_fn=<DivBackward0>)"
      ]
     },
     "execution_count": 24,
     "metadata": {},
     "output_type": "execute_result"
    }
   ],
   "source": [
    "sigmoid(l1(x)) # 똑같아요"
   ]
  },
  {
   "cell_type": "code",
   "execution_count": 25,
   "id": "10d1e273-d84f-452d-b442-3985f83c04c6",
   "metadata": {
    "tags": []
   },
   "outputs": [
    {
     "data": {
      "text/plain": [
       "(tensor([[0.5250],\n",
       "         [0.5248],\n",
       "         [0.5245],\n",
       "         ...,\n",
       "         [0.1547],\n",
       "         [0.1546],\n",
       "         [0.1545]], grad_fn=<DivBackward0>),\n",
       " tensor([[0.5250],\n",
       "         [0.5248],\n",
       "         [0.5245],\n",
       "         ...,\n",
       "         [0.1547],\n",
       "         [0.1546],\n",
       "         [0.1545]], grad_fn=<SigmoidBackward0>))"
      ]
     },
     "execution_count": 25,
     "metadata": {},
     "output_type": "execute_result"
    }
   ],
   "source": [
    "sigmoid(l1(x)),   a1(l1(x)) # 똑같아요"
   ]
  },
  {
   "cell_type": "markdown",
   "id": "85e3afc7-e71a-4168-b66f-02a8a0e83a07",
   "metadata": {},
   "source": [
    "`-` 지금까지의 구현 확인 "
   ]
  },
  {
   "cell_type": "code",
   "execution_count": 26,
   "id": "001583a6-a1d7-4416-a590-d77f8806eba6",
   "metadata": {
    "tags": []
   },
   "outputs": [
    {
     "data": {
      "text/plain": [
       "<matplotlib.legend.Legend at 0x77700f94c580>"
      ]
     },
     "execution_count": 26,
     "metadata": {},
     "output_type": "execute_result"
    },
    {
     "data": {
      "image/png": "[encoded data removed]",
      "text/plain": [
       "<Figure size 640x480 with 1 Axes>"
      ]
     },
     "metadata": {},
     "output_type": "display_data"
    }
   ],
   "source": [
    "plt.plot(x,y,'.',alpha=0.03)\n",
    "plt.plot(x[0],y[0],'o',label=r\"$(x_i,y_i)$\",color=\"C0\")\n",
    "plt.plot(x,v,'--r',label=r\"prob (true, unknown) = $\\frac{exp(-1+5x)}{1+exp(-1+5x)}$\")\n",
    "plt.plot(x,sigmoid(w0hat + w1hat*x),'--b', label=r\"prob (estimated) = $(x_i,\\hat{y}_i)$ -- first curve\")\n",
    "plt.plot(x,a1(l1(x)).data,'--b', label=r\"prob (estimated) = $(x_i,\\hat{y}_i)$ -- first curve with $(a_1 \\circ l_1)(x)$\")\n",
    "plt.legend()"
   ]
  },
  {
   "cell_type": "markdown",
   "id": "5ccfe8da-6492-4af7-a347-73fc2e2dbf83",
   "metadata": {},
   "source": [
    "`-` 관찰: 지금 아래의 구조이다. \n",
    "\n",
    "$${\\boldsymbol x} \\overset{l_1}{\\to} {\\boldsymbol u} \\overset{a_1}{\\to} {\\boldsymbol v} = \\hat{\\boldsymbol y}$$"
   ]
  },
  {
   "cell_type": "markdown",
   "id": "1611cbf7",
   "metadata": {},
   "source": [
    "l1 함수는 linear transform을, a1 함수는 sigmoid 변환을 의미한다.  \n",
    "  \n",
    "l1 = torch.nn.Linear(in_features=1, out_features=1) # bias=True 기본  \n",
    "a1 = torch.nn.Sigmoid()  "
   ]
  },
  {
   "cell_type": "markdown",
   "id": "dae43c37-f957-4625-9bb5-0d96d30d43f2",
   "metadata": {},
   "source": [
    "`-` 소망: 함수 $l_1, a_1$ 의 합성을 하나로 묶어서 \n",
    "\n",
    "$$(a_1\\circ l_1)({\\boldsymbol x}) := net({\\boldsymbol x})$$\n",
    "\n",
    "이러한 기능을 하는 하나의 함수 $net$을 만들 수 없을까? "
   ]
  },
  {
   "cell_type": "code",
   "execution_count": 27,
   "id": "36bc4c2a",
   "metadata": {},
   "outputs": [
    {
     "name": "stdout",
     "output_type": "stream",
     "text": [
      "\u001b[0;31mInit signature:\u001b[0m \u001b[0mtorch\u001b[0m\u001b[0;34m.\u001b[0m\u001b[0mnn\u001b[0m\u001b[0;34m.\u001b[0m\u001b[0mSequential\u001b[0m\u001b[0;34m(\u001b[0m\u001b[0;34m*\u001b[0m\u001b[0margs\u001b[0m\u001b[0;34m)\u001b[0m\u001b[0;34m\u001b[0m\u001b[0;34m\u001b[0m\u001b[0m\n",
      "\u001b[0;31mDocstring:\u001b[0m     \n",
      "A sequential container.\n",
      "\n",
      "Modules will be added to it in the order they are passed in the\n",
      "constructor. Alternatively, an ``OrderedDict`` of modules can be\n",
      "passed in. The ``forward()`` method of ``Sequential`` accepts any\n",
      "input and forwards it to the first module it contains. It then\n",
      "\"chains\" outputs to inputs sequentially for each subsequent module,\n",
      "finally returning the output of the last module.\n",
      "\n",
      "The value a ``Sequential`` provides over manually calling a sequence\n",
      "of modules is that it allows treating the whole container as a\n",
      "single module, such that performing a transformation on the\n",
      "``Sequential`` applies to each of the modules it stores (which are\n",
      "each a registered submodule of the ``Sequential``).\n",
      "\n",
      "What's the difference between a ``Sequential`` and a\n",
      ":class:`torch.nn.ModuleList`? A ``ModuleList`` is exactly what it\n",
      "sounds like--a list for storing ``Module`` s! On the other hand,\n",
      "the layers in a ``Sequential`` are connected in a cascading way.\n",
      "\n",
      "Example::\n",
      "\n",
      "    # Using Sequential to create a small model. When `model` is run,\n",
      "    # input will first be passed to `Conv2d(1,20,5)`. The output of\n",
      "    # `Conv2d(1,20,5)` will be used as the input to the first\n",
      "    # `ReLU`; the output of the first `ReLU` will become the input\n",
      "    # for `Conv2d(20,64,5)`. Finally, the output of\n",
      "    # `Conv2d(20,64,5)` will be used as input to the second `ReLU`\n",
      "    model = nn.Sequential(\n",
      "              nn.Conv2d(1,20,5),\n",
      "              nn.ReLU(),\n",
      "              nn.Conv2d(20,64,5),\n",
      "              nn.ReLU()\n",
      "            )\n",
      "\n",
      "    # Using Sequential with OrderedDict. This is functionally the\n",
      "    # same as the above code\n",
      "    model = nn.Sequential(OrderedDict([\n",
      "              ('conv1', nn.Conv2d(1,20,5)),\n",
      "              ('relu1', nn.ReLU()),\n",
      "              ('conv2', nn.Conv2d(20,64,5)),\n",
      "              ('relu2', nn.ReLU())\n",
      "            ]))\n",
      "\u001b[0;31mInit docstring:\u001b[0m Initialize internal Module state, shared by both nn.Module and ScriptModule.\n",
      "\u001b[0;31mFile:\u001b[0m           ~/.conda/envs/dl2024/lib/python3.8/site-packages/torch/nn/modules/container.py\n",
      "\u001b[0;31mType:\u001b[0m           type\n",
      "\u001b[0;31mSubclasses:\u001b[0m     _FusedModule"
     ]
    }
   ],
   "source": [
    "torch.nn.Sequential?"
   ]
  },
  {
   "cell_type": "code",
   "execution_count": 28,
   "id": "2bcc0519-3663-4f41-8f14-9d777ab6e8a5",
   "metadata": {
    "tags": []
   },
   "outputs": [],
   "source": [
    "net = torch.nn.Sequential(l1,a1) #l1을 취하고 그다음에 a1을 취하라는 의미"
   ]
  },
  {
   "cell_type": "code",
   "execution_count": 29,
   "id": "72e56ba6-26e5-487c-ace5-fcd23cf7848c",
   "metadata": {
    "tags": []
   },
   "outputs": [
    {
     "data": {
      "text/plain": [
       "(tensor([[0.5250],\n",
       "         [0.5248],\n",
       "         [0.5245],\n",
       "         ...,\n",
       "         [0.1547],\n",
       "         [0.1546],\n",
       "         [0.1545]], grad_fn=<SigmoidBackward0>),\n",
       " tensor([[0.5250],\n",
       "         [0.5248],\n",
       "         [0.5245],\n",
       "         ...,\n",
       "         [0.1547],\n",
       "         [0.1546],\n",
       "         [0.1545]], grad_fn=<SigmoidBackward0>),\n",
       " tensor([[0.5250],\n",
       "         [0.5248],\n",
       "         [0.5245],\n",
       "         ...,\n",
       "         [0.1547],\n",
       "         [0.1546],\n",
       "         [0.1545]]))"
      ]
     },
     "execution_count": 29,
     "metadata": {},
     "output_type": "execute_result"
    }
   ],
   "source": [
    "net(x), a1(l1(x)), sigmoid(w0hat+ w1hat*x)  # 셋이 똑같음"
   ]
  },
  {
   "cell_type": "markdown",
   "id": "8e5af3cc-265f-4797-836d-9c6220c52b5b",
   "metadata": {},
   "source": [
    "`-` net 살펴보기: 초보버전 -- \"파이토치 30일만에 완성하기\" 이런책에 보면 내용이 나올지도?"
   ]
  },
  {
   "cell_type": "code",
   "execution_count": 30,
   "id": "c7f91583-de63-46d4-8879-1a4c0f0e2881",
   "metadata": {
    "tags": []
   },
   "outputs": [
    {
     "data": {
      "text/plain": [
       "Sequential(\n",
       "  (0): Linear(in_features=1, out_features=1, bias=True)\n",
       "  (1): Sigmoid()\n",
       ")"
      ]
     },
     "execution_count": 30,
     "metadata": {},
     "output_type": "execute_result"
    }
   ],
   "source": [
    "net"
   ]
  },
  {
   "cell_type": "markdown",
   "id": "e0aab847-8fdb-464f-996f-add9c7ac56fe",
   "metadata": {
    "tags": []
   },
   "source": [
    "- 처음에는 선형변환하고, 그담에는 Sigmoid를 수행하라는 의미"
   ]
  },
  {
   "cell_type": "markdown",
   "id": "05b5b2de-a646-4ade-94b4-76599b88a130",
   "metadata": {},
   "source": [
    "`-` net 살펴보기: 고수버전 -- 책 안보고 코딩배우기"
   ]
  },
  {
   "cell_type": "code",
   "execution_count": 31,
   "id": "2e506367-df56-45ec-8da0-61933e114cb3",
   "metadata": {
    "tags": []
   },
   "outputs": [
    {
     "data": {
      "text/plain": [
       "{'__call__', '__getitem__'}"
      ]
     },
     "execution_count": 31,
     "metadata": {},
     "output_type": "execute_result"
    }
   ],
   "source": [
    "set(dir(net)) & {'__call__', '__getitem__'}"
   ]
  },
  {
   "cell_type": "markdown",
   "id": "728367d8-1e23-4943-9fec-8624f232b7a1",
   "metadata": {},
   "source": [
    "- 좋은거 가지고 있네 ㅎㅎ \n",
    "- callable 이면서 subscriptable 오브젝트.. "
   ]
  },
  {
   "cell_type": "code",
   "execution_count": 32,
   "id": "9f065569-3406-49d8-a764-41688db716b3",
   "metadata": {
    "tags": []
   },
   "outputs": [
    {
     "data": {
      "text/plain": [
       "33"
      ]
     },
     "execution_count": 32,
     "metadata": {},
     "output_type": "execute_result"
    }
   ],
   "source": [
    "lst = [11,22,33]\n",
    "lst.__getitem__(-1) # lst[-1]"
   ]
  },
  {
   "cell_type": "code",
   "execution_count": 33,
   "id": "00b40a2a-31e3-4c39-a0e2-b1c36a9ba955",
   "metadata": {
    "tags": []
   },
   "outputs": [
    {
     "data": {
      "text/plain": [
       "tensor([[0.0474],\n",
       "        [0.0476],\n",
       "        [0.0477],\n",
       "        ...,\n",
       "        [0.9523],\n",
       "        [0.9524],\n",
       "        [0.9526]])"
      ]
     },
     "execution_count": 33,
     "metadata": {},
     "output_type": "execute_result"
    }
   ],
   "source": [
    "sigmoid.__call__(x) # sigmoid(x)"
   ]
  },
  {
   "cell_type": "code",
   "execution_count": 34,
   "id": "9a8ffe96-a412-4b91-81de-5d0c702f1e18",
   "metadata": {
    "tags": []
   },
   "outputs": [
    {
     "ename": "TypeError",
     "evalue": "'function' object is not subscriptable",
     "output_type": "error",
     "traceback": [
      "\u001b[0;31m---------------------------------------------------------------------------\u001b[0m",
      "\u001b[0;31mTypeError\u001b[0m                                 Traceback (most recent call last)",
      "Cell \u001b[0;32mIn[34], line 1\u001b[0m\n\u001b[0;32m----> 1\u001b[0m \u001b[43msigmoid\u001b[49m\u001b[43m[\u001b[49m\u001b[38;5;241;43m0\u001b[39;49m\u001b[43m]\u001b[49m \u001b[38;5;66;03m# 난 스크립터블 하지 않은걸? (= 난 리스트처럼 인덱싱 못해요)\u001b[39;00m\n",
      "\u001b[0;31mTypeError\u001b[0m: 'function' object is not subscriptable"
     ]
    }
   ],
   "source": [
    "sigmoid[0] # 난 스크립터블 하지 않은걸? (= 난 리스트처럼 인덱싱 못해요)"
   ]
  },
  {
   "cell_type": "code",
   "execution_count": null,
   "id": "be62ed78-a6c0-43f5-9cb4-ec84ce1d04e0",
   "metadata": {
    "tags": []
   },
   "outputs": [],
   "source": [
    "lst(x)# 난 컬러블하지 않은걸? (= 난 함수처럼 입력을 받고 출력을 주는 일은 못해요)"
   ]
  },
  {
   "cell_type": "code",
   "execution_count": null,
   "id": "b3d18af1-be8c-4971-8061-1363188b3854",
   "metadata": {
    "tags": []
   },
   "outputs": [],
   "source": [
    "net(x) # 컬러블이면서"
   ]
  },
  {
   "cell_type": "code",
   "execution_count": null,
   "id": "9d67882f-2f57-40c7-a58f-606218424299",
   "metadata": {
    "tags": []
   },
   "outputs": [],
   "source": [
    "net[0]# 섭스크립터블"
   ]
  },
  {
   "cell_type": "code",
   "execution_count": null,
   "id": "da5fbfe0",
   "metadata": {},
   "outputs": [],
   "source": [
    "net[1]# 섭스크립터블"
   ]
  },
  {
   "cell_type": "code",
   "execution_count": null,
   "id": "0a0d1f08-3633-410f-a825-bd1778c43346",
   "metadata": {
    "tags": []
   },
   "outputs": [],
   "source": [
    "_l1, _a1 = net # 언패킹!! (섭스크립터블하니까..)"
   ]
  },
  {
   "cell_type": "code",
   "execution_count": null,
   "id": "fbc82150-d447-4369-8a70-f7f111f9d870",
   "metadata": {
    "tags": []
   },
   "outputs": [],
   "source": [
    "_l1.weight, _l1.bias # 내가 설정한 웨이트도 그대로 들어가있음"
   ]
  },
  {
   "cell_type": "markdown",
   "id": "6ba78b3c-5487-4732-b3bb-e40701e2b39d",
   "metadata": {},
   "source": [
    "## D. Step 1~4"
   ]
  },
  {
   "cell_type": "code",
   "execution_count": null,
   "id": "d2e8e76e-32c9-49ba-9a6c-634007c01939",
   "metadata": {
    "tags": []
   },
   "outputs": [],
   "source": [
    "net = torch.nn.Sequential(\n",
    "    torch.nn.Linear(in_features=1, out_features=1),\n",
    "    torch.nn.Sigmoid()\n",
    ")\n",
    "l1, a1 = net # 네트워크는 섭스크립터블 오브젝트이니까..  , 언패킹도 가능\n",
    "l1.weight.data = torch.tensor([[-0.3]])\n",
    "l1.bias.data = torch.tensor([-0.8])\n",
    "#loss_fn = torch.nn.MSELoss() # -- 이 코드 일단 쓰지 않을게여\n",
    "optimizr = torch.optim.SGD(net.parameters(),lr=0.25)\n",
    "#---#\n",
    "for epoc in range(100):\n",
    "    ## 1\n",
    "    yhat = net(x) \n",
    "    ## 2 \n",
    "    loss = torch.mean((y-yhat)**2)\n",
    "    ## 3\n",
    "    loss.backward()\n",
    "    ## 4 \n",
    "    optimizr.step()\n",
    "    optimizr.zero_grad()"
   ]
  },
  {
   "cell_type": "code",
   "execution_count": null,
   "id": "e9ec18cd-738f-42d1-82c2-c761448126fb",
   "metadata": {
    "tags": []
   },
   "outputs": [],
   "source": [
    "plt.plot(x,y,'.',alpha=0.05)\n",
    "plt.plot(x,v,'--r')\n",
    "plt.plot(x,yhat.data,'--b')\n",
    "# plt.plot(x,y-yhat.data,'--g',alpha=0.6)\n",
    "plt.title('after 100 epochs')"
   ]
  },
  {
   "cell_type": "code",
   "execution_count": null,
   "id": "f7ec7d42-1c1a-48f4-b025-61dced7406ea",
   "metadata": {
    "tags": []
   },
   "outputs": [],
   "source": [
    "for epoc in range(4900):\n",
    "    ## 1\n",
    "    yhat = net(x) \n",
    "    ## 2 \n",
    "    loss = torch.mean((y-yhat)**2)\n",
    "    ## 3\n",
    "    loss.backward()\n",
    "    ## 4 \n",
    "    optimizr.step()\n",
    "    optimizr.zero_grad()"
   ]
  },
  {
   "cell_type": "code",
   "execution_count": null,
   "id": "22a631a2-144d-4623-9383-10086ec3156d",
   "metadata": {
    "tags": []
   },
   "outputs": [],
   "source": [
    "plt.plot(x,y,'.',alpha=0.05)\n",
    "plt.plot(x,v,'--r')\n",
    "plt.plot(x,yhat.data,'--b')\n",
    "plt.title('after 5000 epochs')"
   ]
  },
  {
   "cell_type": "markdown",
   "id": "83b98f6e-baba-4824-abf0-d8a113d483ea",
   "metadata": {},
   "source": [
    "성공했나? "
   ]
  },
  {
   "cell_type": "markdown",
   "id": "705e99fc-2218-4318-8bdc-1fc84f2dbeca",
   "metadata": {},
   "source": [
    "# 5. 학습과정 시각화 및 문제인식 "
   ]
  },
  {
   "cell_type": "markdown",
   "id": "1f180fa9-1eda-4df0-9f29-056d190784f8",
   "metadata": {},
   "source": [
    "## A. 좋은 초기값"
   ]
  },
  {
   "cell_type": "code",
   "execution_count": null,
   "id": "9f5c55f6-9459-4f4a-ba09-dc144400887e",
   "metadata": {
    "tags": []
   },
   "outputs": [],
   "source": [
    "net = torch.nn.Sequential(\n",
    "    torch.nn.Linear(1,1),\n",
    "    torch.nn.Sigmoid()\n",
    ") \n",
    "net[0].bias.data = torch.tensor([-0.8])\n",
    "net[0].weight.data = torch.tensor([[-0.3]])\n",
    "loss_fn = torch.nn.MSELoss()\n",
    "optimizr = torch.optim.SGD(net.parameters(),lr=0.25) \n",
    "#---#\n",
    "show_animation(net,loss_fn,optimizr)"
   ]
  },
  {
   "cell_type": "markdown",
   "id": "69494d29-a793-48ee-bff4-9a24c285d204",
   "metadata": {},
   "source": [
    "## B. 가능성 있는 초기값 "
   ]
  },
  {
   "cell_type": "code",
   "execution_count": null,
   "id": "ad6d4f02-9a73-4c9e-9ed9-fe090b65002e",
   "metadata": {
    "tags": []
   },
   "outputs": [],
   "source": [
    "net = torch.nn.Sequential(\n",
    "    torch.nn.Linear(1,1),\n",
    "    torch.nn.Sigmoid()\n",
    ")\n",
    "# A 케이스에서 초기값만 -3,-1 으로 바꾼 경우 \n",
    "net[0].bias.data = torch.tensor([-3.0])\n",
    "net[0].weight.data = torch.tensor([[-1.0]])\n",
    "loss_fn = torch.nn.MSELoss()\n",
    "optimizr = torch.optim.SGD(net.parameters(),lr=0.25) \n",
    "#---#\n",
    "show_animation(net,loss_fn,optimizr)"
   ]
  },
  {
   "cell_type": "markdown",
   "id": "88357da0-6a5d-448a-a429-e5b6ba79481a",
   "metadata": {},
   "source": [
    "## C. 최악의 초기값"
   ]
  },
  {
   "cell_type": "code",
   "execution_count": null,
   "id": "f5a4c4e0-0f28-419e-adb8-f408ca957622",
   "metadata": {
    "tags": []
   },
   "outputs": [],
   "source": [
    "net = torch.nn.Sequential(\n",
    "    torch.nn.Linear(1,1),\n",
    "    torch.nn.Sigmoid()\n",
    ") \n",
    "net[0].bias.data = torch.tensor([-10.0])\n",
    "net[0].weight.data = torch.tensor([[-1.0]])\n",
    "loss_fn = torch.nn.MSELoss()\n",
    "optimizr = torch.optim.SGD(net.parameters(),lr=0.25) \n",
    "#---#\n",
    "show_animation(net,loss_fn,optimizr)"
   ]
  },
  {
   "cell_type": "markdown",
   "id": "726fce96-23a9-4da1-ad3e-2ea108ec727d",
   "metadata": {},
   "source": [
    "해결하는 접근법:\n",
    "\n",
    "- 컴공스타일: 에폭을 늘려볼까?\n",
    "- 산공스타일: 옵티마이저를 바꿔볼까? \n",
    "- 통계스타일: Loss를 바꿔볼까?"
   ]
  },
  {
   "cell_type": "markdown",
   "id": "418a3e1f-1840-47ae-a72a-cd5568519b6e",
   "metadata": {},
   "source": [
    "# 6. 손실함수의 개선 (통계스타일)"
   ]
  },
  {
   "cell_type": "markdown",
   "id": "b62daa38-a9ec-4797-986f-498059b26f27",
   "metadata": {},
   "source": [
    "## A. BCE Loss를 사용하여 학습"
   ]
  },
  {
   "cell_type": "markdown",
   "id": "6db132fd-da50-42f1-a93c-3557be529a31",
   "metadata": {},
   "source": [
    "`-` BCE loss라는게 있음. \n",
    "\n",
    "- <https://en.wikipedia.org/wiki/Cross-entropy>\n",
    "강의 **21:20** 에서, `-torch.mean(y*torch.log(yhat) + (1-y)*torch.log(1-yhat)` 수식이 베르누이 분포의 -log likelihood 와 같고,  \n",
    "이 수식은 두번 미분했을때 음수, 즉 convex하다는게 이미 증명되어있다.\n",
    "즉 BCE loss는 convex하기때문에 비선형성이 MSE 보다 작아서 해당 경우에 유리하다. "
   ]
  },
  {
   "cell_type": "markdown",
   "id": "c3686dc6",
   "metadata": {},
   "source": [
    "`-` 강의 **21:55** 에서 회귀 분석(regression)에서는 그러면 왜 BCE를 안 썼냐?\n",
    "- 회귀분석에서는 binomial(bernoui) 이 아닌 nomal(error를 정규분포라 가정했으므로) 에서 평균을 추정하는 문제였으며, 이 경우에는 MSE가 convex하다고 증명되어있다고 한다."
   ]
  },
  {
   "cell_type": "code",
   "execution_count": null,
   "id": "a620c159-09e1-431f-b4a6-ed96b1860ea0",
   "metadata": {
    "tags": []
   },
   "outputs": [],
   "source": [
    "net = torch.nn.Sequential(\n",
    "    torch.nn.Linear(in_features=1, out_features=1),\n",
    "    torch.nn.Sigmoid()\n",
    ")\n",
    "l1, a1 = net # 네트워크는 섭스크립터블 오브젝트이니까..\n",
    "l1.weight.data = torch.tensor([[-0.3]])\n",
    "l1.bias.data = torch.tensor([-0.8])\n",
    "optimizr = torch.optim.SGD(net.parameters(),lr=0.25)\n",
    "#---#\n",
    "for epoc in range(100):\n",
    "    ## 1\n",
    "    yhat = net(x) \n",
    "    ## 2 \n",
    "    #loss = torch.mean((y-yhat)**2)\n",
    "    loss = -torch.mean(y*torch.log(yhat) + (1-y)*torch.log(1-yhat))     # 직접 BCE 를 공식으로 구현\n",
    "    ## 3\n",
    "    loss.backward()\n",
    "    ## 4 \n",
    "    optimizr.step()\n",
    "    optimizr.zero_grad()"
   ]
  },
  {
   "cell_type": "code",
   "execution_count": null,
   "id": "d2859629",
   "metadata": {},
   "outputs": [],
   "source": [
    "y*torch.log(yhat)"
   ]
  },
  {
   "cell_type": "code",
   "execution_count": null,
   "id": "7f439ac0-86df-44a2-a78b-9b7a2f5caf2f",
   "metadata": {
    "tags": []
   },
   "outputs": [],
   "source": [
    "plt.plot(x,y,'.',alpha=0.05)\n",
    "plt.plot(x,v,'--r')\n",
    "plt.plot(x,yhat.data,'--b')\n",
    "plt.title('after 100 epochs')"
   ]
  },
  {
   "cell_type": "code",
   "execution_count": null,
   "id": "5038ab6a",
   "metadata": {},
   "outputs": [],
   "source": [
    "# plt.plot(x,y,'.',alpha=0.05)\n",
    "# plt.plot(x,v,'--r')\n",
    "# plt.plot(x,yhat.data,'--b')\n",
    "# plt.plot(x,y-yhat.data,'--g',alpha=0.6)\n",
    "# plt.title('after 100 epochs')"
   ]
  },
  {
   "cell_type": "code",
   "execution_count": null,
   "id": "6849ad62",
   "metadata": {},
   "outputs": [],
   "source": [
    "sigmoid(l1(x)),   a1(l1(x)) # 똑같아요"
   ]
  },
  {
   "cell_type": "markdown",
   "id": "ec21786a-076f-416c-858c-286dca9ccfcc",
   "metadata": {},
   "source": [
    "같은 100 에폭인데 훨씬 잘맞춤.."
   ]
  },
  {
   "cell_type": "markdown",
   "id": "2324f38f-142a-497a-b35a-c3fb21be2c8b",
   "metadata": {},
   "source": [
    "`-` loss수식을 못외우겠다면? "
   ]
  },
  {
   "cell_type": "code",
   "execution_count": null,
   "id": "279bd1af-461c-46d8-bc63-b1d257cad0c6",
   "metadata": {
    "tags": []
   },
   "outputs": [],
   "source": [
    "net = torch.nn.Sequential(\n",
    "    torch.nn.Linear(in_features=1, out_features=1),\n",
    "    torch.nn.Sigmoid()\n",
    ")\n",
    "l1, a1 = net # 네트워크는 섭스크립터블 오브젝트이니까..\n",
    "l1.weight.data = torch.tensor([[-0.3]])\n",
    "l1.bias.data = torch.tensor([-0.8])\n",
    "#loss_fn = -torch.mean(y*torch.log(yhat) + (1-y)*torch.log(1-yhat))     # 직접 BCE 를 공식으로 구현 ,  맞는걸(y=1) 틀리다(yhat=0) 하고, 틀린걸(y=0) 맞다고(yhat=1) 하면 loss가 커짐. 즉 안 좋아짐.\n",
    "loss_fn = torch.nn.BCELoss()\n",
    "optimizr = torch.optim.SGD(net.parameters(),lr=0.25)\n",
    "#---#\n",
    "for epoc in range(100):\n",
    "    ## 1\n",
    "    yhat = net(x) \n",
    "    ## 2 \n",
    "    loss = loss_fn(yhat,y) # yhat부터 써야함\n",
    "    ## 3\n",
    "    loss.backward()\n",
    "    ## 4 \n",
    "    optimizr.step()\n",
    "    optimizr.zero_grad()"
   ]
  },
  {
   "cell_type": "code",
   "execution_count": null,
   "id": "ee2bd53c-e0c9-4977-a64d-e2fd7db70ff1",
   "metadata": {
    "tags": []
   },
   "outputs": [],
   "source": [
    "plt.plot(x,y,'.',alpha=0.05)\n",
    "plt.plot(x,v,'--r')\n",
    "plt.plot(x,yhat.data,'--b')\n",
    "plt.title('after 100 epochs')"
   ]
  },
  {
   "cell_type": "markdown",
   "id": "1dd2d6c0-fdcc-455d-8209-3b37bcd796bd",
   "metadata": {},
   "source": [
    "## B. Loss Function 시각화"
   ]
  },
  {
   "cell_type": "code",
   "execution_count": null,
   "id": "5d22df8b-fab6-4506-beaa-39166a14b04d",
   "metadata": {
    "tags": []
   },
   "outputs": [],
   "source": [
    "plot_loss(torch.nn.MSELoss())"
   ]
  },
  {
   "cell_type": "code",
   "execution_count": null,
   "id": "d883c514-ee89-4237-b94c-45179c5b05ad",
   "metadata": {
    "tags": []
   },
   "outputs": [],
   "source": [
    "plot_loss(torch.nn.BCELoss())"
   ]
  },
  {
   "cell_type": "markdown",
   "id": "69db775b-d10c-4088-a28c-079ddca723d0",
   "metadata": {},
   "source": [
    "`-` 비교해보자. "
   ]
  },
  {
   "cell_type": "code",
   "execution_count": null,
   "id": "56da4625-66c2-4b3b-af7f-6d3e22b0ce9a",
   "metadata": {
    "tags": []
   },
   "outputs": [],
   "source": [
    "fig = plt.figure()\n",
    "ax1 = fig.add_subplot(1,2,1,projection='3d')\n",
    "ax2 = fig.add_subplot(1,2,2,projection='3d')\n",
    "plot_loss(torch.nn.MSELoss(),ax1)\n",
    "plot_loss(torch.nn.BCELoss(),ax2)"
   ]
  },
  {
   "cell_type": "markdown",
   "id": "967b90bd-9e66-4eb9-8929-2a3a16aab416",
   "metadata": {},
   "source": [
    "## C. 학습과정 시각화 -- 좋은 초기값"
   ]
  },
  {
   "cell_type": "markdown",
   "id": "1e1c43a0-cb0d-4ac3-948f-76161e33fb4e",
   "metadata": {},
   "source": [
    "`-` MSELoss "
   ]
  },
  {
   "cell_type": "code",
   "execution_count": null,
   "id": "95fc6161-5ba9-4f25-b676-8e7278daea30",
   "metadata": {
    "tags": []
   },
   "outputs": [],
   "source": [
    "net = torch.nn.Sequential(\n",
    "    torch.nn.Linear(1,1),\n",
    "    torch.nn.Sigmoid()\n",
    ") \n",
    "net[0].bias.data = torch.tensor([-0.8])\n",
    "net[0].weight.data = torch.tensor([[-0.3]])\n",
    "loss_fn = torch.nn.MSELoss()\n",
    "optimizr = torch.optim.SGD(net.parameters(),lr=0.25) \n",
    "#---#\n",
    "show_animation(net,loss_fn,optimizr)"
   ]
  },
  {
   "cell_type": "markdown",
   "id": "1d780011-49dd-4f1a-8ff6-7239451842fc",
   "metadata": {},
   "source": [
    "`-` BCELoss "
   ]
  },
  {
   "cell_type": "code",
   "execution_count": null,
   "id": "f827df4a-fdaf-49f3-80a6-093da7345bb9",
   "metadata": {
    "tags": []
   },
   "outputs": [],
   "source": [
    "net = torch.nn.Sequential(\n",
    "    torch.nn.Linear(1,1),\n",
    "    torch.nn.Sigmoid()\n",
    ") \n",
    "net[0].bias.data = torch.tensor([-0.8])\n",
    "net[0].weight.data = torch.tensor([[-0.3]])\n",
    "loss_fn = torch.nn.BCELoss()\n",
    "optimizr = torch.optim.SGD(net.parameters(),lr=0.25) \n",
    "#---#\n",
    "show_animation(net,loss_fn,optimizr)"
   ]
  },
  {
   "cell_type": "markdown",
   "id": "a1dcaeb5-9d51-444a-b16f-597a42f2d1c2",
   "metadata": {},
   "source": [
    "## D. 학습과정 시각화 -- 가능성 있는 초기값"
   ]
  },
  {
   "cell_type": "markdown",
   "id": "84040e51-9181-422d-963d-a6ac6bbec6e0",
   "metadata": {},
   "source": [
    "`-` MSELoss "
   ]
  },
  {
   "cell_type": "code",
   "execution_count": null,
   "id": "a74cc156-a881-49ea-a1d4-b49c44c66590",
   "metadata": {
    "tags": []
   },
   "outputs": [],
   "source": [
    "net = torch.nn.Sequential(\n",
    "    torch.nn.Linear(1,1),\n",
    "    torch.nn.Sigmoid()\n",
    ") \n",
    "net[0].bias.data = torch.tensor([-3.0])\n",
    "net[0].weight.data = torch.tensor([[-1.0]])\n",
    "loss_fn = torch.nn.MSELoss()\n",
    "optimizr = torch.optim.SGD(net.parameters(),lr=0.25) \n",
    "#---#\n",
    "show_animation(net,loss_fn,optimizr)"
   ]
  },
  {
   "cell_type": "markdown",
   "id": "ce14ce74-e91c-4120-8dcc-909e2bea0453",
   "metadata": {},
   "source": [
    "`-` BCELoss "
   ]
  },
  {
   "cell_type": "code",
   "execution_count": null,
   "id": "58546d08-a575-4106-aced-683158df1fc9",
   "metadata": {
    "tags": []
   },
   "outputs": [],
   "source": [
    "net = torch.nn.Sequential(\n",
    "    torch.nn.Linear(1,1),\n",
    "    torch.nn.Sigmoid()\n",
    ") \n",
    "net[0].bias.data = torch.tensor([-3.0])\n",
    "net[0].weight.data = torch.tensor([[-1.0]])\n",
    "loss_fn = torch.nn.BCELoss()\n",
    "optimizr = torch.optim.SGD(net.parameters(),lr=0.25) \n",
    "#---#\n",
    "show_animation(net,loss_fn,optimizr)"
   ]
  },
  {
   "cell_type": "markdown",
   "id": "a3261489-dbc8-4e24-9fce-f92b552edcc8",
   "metadata": {},
   "source": [
    "## E. 학습과정 시각화 -- 최악의 초기값"
   ]
  },
  {
   "cell_type": "markdown",
   "id": "e1befc6e-af99-4742-8480-12cf80dc3491",
   "metadata": {},
   "source": [
    "`-` MSELoss "
   ]
  },
  {
   "cell_type": "code",
   "execution_count": null,
   "id": "9900bfea-7cc5-45be-aa02-3392e2382a04",
   "metadata": {
    "tags": []
   },
   "outputs": [],
   "source": [
    "net = torch.nn.Sequential(\n",
    "    torch.nn.Linear(1,1),\n",
    "    torch.nn.Sigmoid()\n",
    ") \n",
    "net[0].bias.data = torch.tensor([-10.0])\n",
    "net[0].weight.data = torch.tensor([[-1.0]])\n",
    "loss_fn = torch.nn.MSELoss()\n",
    "optimizr = torch.optim.SGD(net.parameters(),lr=0.25) \n",
    "#---#\n",
    "show_animation(net,loss_fn,optimizr)"
   ]
  },
  {
   "cell_type": "markdown",
   "id": "0e6aeaa0-16a2-405b-a751-26ef2851fede",
   "metadata": {},
   "source": [
    "`-` BCELoss "
   ]
  },
  {
   "cell_type": "code",
   "execution_count": null,
   "id": "67c29652-7532-4f56-a0d3-36e1b561eaaf",
   "metadata": {
    "tags": []
   },
   "outputs": [],
   "source": [
    "net = torch.nn.Sequential(\n",
    "    torch.nn.Linear(1,1),\n",
    "    torch.nn.Sigmoid()\n",
    ") \n",
    "net[0].bias.data = torch.tensor([-10.0])\n",
    "net[0].weight.data = torch.tensor([[-1.0]])\n",
    "loss_fn = torch.nn.BCELoss()\n",
    "optimizr = torch.optim.SGD(net.parameters(),lr=0.25) \n",
    "#---#\n",
    "show_animation(net,loss_fn,optimizr)"
   ]
  },
  {
   "cell_type": "markdown",
   "id": "787f117d-91ed-46c8-82b9-f31fc9afc707",
   "metadata": {},
   "source": [
    "# 7. 옵티마이저의 개선 (산공 스타일)"
   ]
  },
  {
   "cell_type": "markdown",
   "id": "8ff1f3d5-3d17-4266-8ab9-ee4223d044c8",
   "metadata": {},
   "source": [
    "## C. 학습과정 시각화 -- 좋은 초기값"
   ]
  },
  {
   "cell_type": "markdown",
   "id": "4eb67ccc-cdb1-4a1a-97a1-3d4d465fa196",
   "metadata": {},
   "source": [
    "`-` MSELoss + SGD "
   ]
  },
  {
   "cell_type": "code",
   "execution_count": null,
   "id": "20aa08fc-69a3-4058-a19b-5ee7fbc689f8",
   "metadata": {
    "tags": []
   },
   "outputs": [],
   "source": [
    "# net = torch.nn.Sequential(\n",
    "#     torch.nn.Linear(1,1),\n",
    "#     torch.nn.Sigmoid()\n",
    "# ) \n",
    "# net[0].bias.data = torch.tensor([-0.8470])\n",
    "# net[0].weight.data = torch.tensor([[-0.3467]])\n",
    "# loss_fn = torch.nn.MSELoss()\n",
    "# optimizr = torch.optim.SGD(net.parameters(),lr=0.25) \n",
    "# #---#\n",
    "# show_animation(net,loss_fn,optimizr)"
   ]
  },
  {
   "cell_type": "markdown",
   "id": "3ebafde7-daa0-49a1-a857-3c7961f575d5",
   "metadata": {},
   "source": [
    "`-` MSELoss + Adam"
   ]
  },
  {
   "cell_type": "code",
   "execution_count": null,
   "id": "c4c5b765-58f4-4759-bd23-78979b40a1bb",
   "metadata": {
    "tags": []
   },
   "outputs": [],
   "source": [
    "net = torch.nn.Sequential(\n",
    "    torch.nn.Linear(1,1),\n",
    "    torch.nn.Sigmoid()\n",
    ") \n",
    "net[0].bias.data = torch.tensor([-0.8])\n",
    "net[0].weight.data = torch.tensor([[-0.3]])\n",
    "loss_fn = torch.nn.MSELoss()        # 일부로 좋은? loss 인 BCE 를 안 주고, 안 좋은 MSE loss를 줘봤다.  opitimizer를 SGD에서 Adam으로 바꿈으로서 잘 수렴하는지 확인해보자!\n",
    "optimizr = torch.optim.Adam(net.parameters(),lr=0.25) \n",
    "#---#\n",
    "show_animation(net,loss_fn,optimizr)"
   ]
  },
  {
   "cell_type": "markdown",
   "id": "3640f0e9-79b5-4e86-b3e4-acf41ecaeee4",
   "metadata": {},
   "source": [
    "## D. 학습과정 시각화 -- 가능성 있는 초기값"
   ]
  },
  {
   "cell_type": "markdown",
   "id": "d1ca6d33-5b1d-40c7-b3eb-173fc0c21a95",
   "metadata": {},
   "source": [
    "`-` MSELoss + SGD"
   ]
  },
  {
   "cell_type": "code",
   "execution_count": null,
   "id": "cb750d42-6dba-45d0-bd99-f03663243d16",
   "metadata": {
    "tags": []
   },
   "outputs": [],
   "source": [
    "# net = torch.nn.Sequential(\n",
    "#     torch.nn.Linear(1,1),\n",
    "#     torch.nn.Sigmoid()\n",
    "# ) \n",
    "# net[0].bias.data = torch.tensor([-3.0])\n",
    "# net[0].weight.data = torch.tensor([[-1.0]])\n",
    "# loss_fn = torch.nn.MSELoss()\n",
    "# optimizr = torch.optim.SGD(net.parameters(),lr=0.25) \n",
    "# #---#\n",
    "# show_animation(net,loss_fn,optimizr)"
   ]
  },
  {
   "cell_type": "markdown",
   "id": "39d95b93-b4eb-4190-bf78-1fc936cab16d",
   "metadata": {},
   "source": [
    "`-` MSELoss + Adam "
   ]
  },
  {
   "cell_type": "code",
   "execution_count": null,
   "id": "d6198b58-c4df-4d3e-8308-96d89504d141",
   "metadata": {
    "tags": []
   },
   "outputs": [],
   "source": [
    "net = torch.nn.Sequential(\n",
    "    torch.nn.Linear(1,1),\n",
    "    torch.nn.Sigmoid()\n",
    ") \n",
    "net[0].bias.data = torch.tensor([-3.0])\n",
    "net[0].weight.data = torch.tensor([[-1.0]])\n",
    "loss_fn = torch.nn.MSELoss()    # 일부로 좋은? loss 인 BCE 를 안 주고, 안 좋은 MSE loss를 줘봤다.  opitimizer를 SGD에서 Adam으로 바꿈으로서 잘 수렴하는지 확인해보자!\n",
    "optimizr = torch.optim.Adam(net.parameters(),lr=0.25) \n",
    "#---#\n",
    "show_animation(net,loss_fn,optimizr)"
   ]
  },
  {
   "cell_type": "markdown",
   "id": "0a9d3098-49bf-4c99-b8a9-020ad5299b6f",
   "metadata": {},
   "source": [
    "## E. 학습과정 시각화 -- 최악의 초기값"
   ]
  },
  {
   "cell_type": "markdown",
   "id": "0fa09d9f-5968-44de-86b5-aa7844da5132",
   "metadata": {},
   "source": [
    "`-` MSELoss + SGD"
   ]
  },
  {
   "cell_type": "code",
   "execution_count": null,
   "id": "57aee815-bde2-4cae-8819-86a2acc332ca",
   "metadata": {
    "tags": []
   },
   "outputs": [],
   "source": [
    "# net = torch.nn.Sequential(\n",
    "#     torch.nn.Linear(1,1),\n",
    "#     torch.nn.Sigmoid()\n",
    "# ) \n",
    "# net[0].bias.data = torch.tensor([-10.0])\n",
    "# net[0].weight.data = torch.tensor([[-1.0]])\n",
    "# loss_fn = torch.nn.MSELoss()\n",
    "# optimizr = torch.optim.SGD(net.parameters(),lr=0.05) \n",
    "# #---#\n",
    "# show_animation(net,loss_fn,optimizr)"
   ]
  },
  {
   "cell_type": "markdown",
   "id": "2970af5e-89c2-43ab-99e8-e5876137d759",
   "metadata": {},
   "source": [
    "`-` MSELoss + Adam"
   ]
  },
  {
   "cell_type": "code",
   "execution_count": null,
   "id": "1bcdf8db-9ba1-479a-8b17-a3c5f6f1b4d6",
   "metadata": {
    "tags": []
   },
   "outputs": [],
   "source": [
    "net = torch.nn.Sequential(\n",
    "    torch.nn.Linear(1,1),\n",
    "    torch.nn.Sigmoid()\n",
    ") \n",
    "net[0].bias.data = torch.tensor([-10.0])\n",
    "net[0].weight.data = torch.tensor([[-1.0]])\n",
    "loss_fn = torch.nn.MSELoss()    # 일부로 좋은? loss 인 BCE 를 안 주고, 안 좋은 MSE loss를 줘봤다.  opitimizer를 SGD에서 Adam으로 바꿈으로서 잘 수렴하는지 확인해보자!\n",
    "optimizr = torch.optim.Adam(net.parameters(),lr=0.25) \n",
    "#---#\n",
    "show_animation(net,loss_fn,optimizr)"
   ]
  },
  {
   "cell_type": "markdown",
   "id": "d5c863ac-0ce8-4b96-b6a2-867f5c579675",
   "metadata": {},
   "source": [
    "# 8. 로지스틱의 한계 "
   ]
  },
  {
   "cell_type": "markdown",
   "id": "397ef1ee-2535-4dca-929a-87d233968099",
   "metadata": {},
   "source": [
    "## A. 신문기사 (데이터의 모티브)"
   ]
  },
  {
   "cell_type": "markdown",
   "id": "c1a59907-f34c-4794-b5f1-3cdd20950303",
   "metadata": {},
   "source": [
    "`-` [스펙이 높아도 취업이 안된다고\n",
    "합니다..](https://www.joongang.co.kr/article/23637092#home)\n",
    "\n",
    "**중소·지방 기업 “뽑아봤자 그만두니까”**\n",
    "\n",
    "중소기업 관계자들은 고스펙 지원자를 꺼리는 이유로 높은 퇴직률을 꼽는다.\n",
    "여건이 좋은 대기업으로 이직하거나 회사를 관두는 경우가 많다는 하소연이다. \n",
    "고용정보원이 지난 3일 공개한 자료에 따르면 중소기업 청년취업자 가운데 49.5%가 2년 내에 회사를 그만두는 것으로 나타났다.\n",
    "\n",
    "중소 IT업체 관계자는 “기업 입장에서 가장 뼈아픈 게 신입사원이 그만둬서 새로 뽑는 일”이라며 “명문대 나온 스펙 좋은 지원자를 뽑아놔도 1년을\n",
    "채우지 않고 그만두는 사원이 대부분이라 우리도 눈을 낮춰 사람을 뽑는다”고 말했다."
   ]
  },
  {
   "cell_type": "markdown",
   "id": "25496756-0e88-472c-a469-3e885b287af3",
   "metadata": {},
   "source": [
    "## B. 가짜데이터 "
   ]
  },
  {
   "cell_type": "code",
   "execution_count": null,
   "id": "d4eaf4de-0c28-4a57-8ae3-7c94c432f984",
   "metadata": {
    "tags": []
   },
   "outputs": [],
   "source": [
    "df = pd.read_csv(\"https://raw.githubusercontent.com/guebin/DL2024/main/posts/dnnex.csv\")\n",
    "df"
   ]
  },
  {
   "cell_type": "code",
   "execution_count": null,
   "id": "d198e4b3-38e3-4fb1-9418-50eccffa9bf2",
   "metadata": {
    "tags": []
   },
   "outputs": [],
   "source": [
    "x = torch.tensor(df.x).float().reshape(-1,1)\n",
    "y = torch.tensor(df.y).float().reshape(-1,1)\n",
    "prob = torch.tensor(df.prob).float().reshape(-1,1)"
   ]
  },
  {
   "cell_type": "code",
   "execution_count": null,
   "id": "b99b4325-142d-47f0-a869-51d1f3a6c31f",
   "metadata": {
    "tags": []
   },
   "outputs": [],
   "source": [
    "plt.plot(x,y,'o',alpha=0.02)\n",
    "plt.plot(x[0],y[0],'o',label= r\"observed data = $(x_i,y_i)$\",color=\"C0\")\n",
    "plt.plot(x,prob,'--b',label= r\"prob (true, unknown)\")\n",
    "plt.legend()"
   ]
  },
  {
   "cell_type": "markdown",
   "id": "fa9c2409-373e-43ac-b8ba-e101d4f7ea71",
   "metadata": {},
   "source": [
    "## C. 로지스틱으로 적합 "
   ]
  },
  {
   "cell_type": "code",
   "execution_count": null,
   "id": "5eeb39d1-5091-4711-a3be-ec2613f67dae",
   "metadata": {
    "tags": []
   },
   "outputs": [],
   "source": [
    "net = torch.nn.Sequential(\n",
    "    torch.nn.Linear(1,1),\n",
    "    torch.nn.Sigmoid()\n",
    ")\n",
    "loss_fn = torch.nn.BCELoss()\n",
    "optimizr = torch.optim.Adam(net.parameters())\n",
    "#---# \n",
    "for epoc in range(5000):\n",
    "    ## 1 \n",
    "    yhat = net(x)\n",
    "    ## 2 \n",
    "    loss = loss_fn(yhat,y)\n",
    "    ## 3 \n",
    "    loss.backward()\n",
    "    ## 4 \n",
    "    optimizr.step()\n",
    "    optimizr.zero_grad()"
   ]
  },
  {
   "cell_type": "code",
   "execution_count": null,
   "id": "61909439-8c96-4bea-955c-5fe9b631dd07",
   "metadata": {
    "tags": []
   },
   "outputs": [],
   "source": [
    "plt.plot(x,y,'o',alpha=0.02)\n",
    "plt.plot(x[0],y[0],'o',label= r\"observed data = $(x_i,y_i)$\",color=\"C0\")\n",
    "plt.plot(x,prob,'--b',label= r\"prob (true, unknown)\")\n",
    "plt.plot(x,net(x).data, '--', label= r\"prob (estimated) = $(x_i,\\hat{y}_i)$\")\n",
    "plt.legend()"
   ]
  },
  {
   "cell_type": "markdown",
   "id": "b842e888-d201-4c22-89b4-bc07078d3958",
   "metadata": {},
   "source": [
    "`-` Epoch을 10억번으로 설정해도 이건 못 맞출것 같음. \n",
    "\n",
    "- 결국 올라가다가 내려가는 언더라잉을 맞춰야 하는데 현재 모형으로는 이걸 표현할 수 없다. \n",
    "- 모형의 표현력이 낮다. "
   ]
  },
  {
   "cell_type": "markdown",
   "id": "eaff1c28-cb1a-4e20-af7a-c453624a3c07",
   "metadata": {},
   "source": [
    "## D. 해결책 (아이디어 수준만)"
   ]
  },
  {
   "cell_type": "markdown",
   "id": "12ad5b89-906d-47b2-aa99-226cca029182",
   "metadata": {},
   "source": [
    "`-` sigmoid를 넣기 전의 상태가 직선이 아니라 꺽이는 직선이야 한다. "
   ]
  },
  {
   "cell_type": "code",
   "execution_count": null,
   "id": "a82aa496-1f36-4c5b-a033-b89bac73e6fa",
   "metadata": {
    "tags": []
   },
   "outputs": [],
   "source": [
    "a = torch.nn.Sigmoid()"
   ]
  },
  {
   "cell_type": "code",
   "execution_count": null,
   "id": "7781e8ad-028e-42da-8287-9bee666f3f9d",
   "metadata": {
    "tags": []
   },
   "outputs": [],
   "source": [
    "fig,ax = plt.subplots(4,2,figsize=(8,8))\n",
    "u1 = torch.tensor([-6,-4,-2,0,2,4,6])\n",
    "u2 = torch.tensor([6,4,2,0,-2,-4,-6])\n",
    "u3 = torch.tensor([-6,-2,2,6,2,-2,-6])\n",
    "u4 = torch.tensor([-6,-2,2,6,4,2,0])\n",
    "ax[0,0].plot(u1,'--o',color='C0',label = r\"$u_1$\")\n",
    "ax[0,0].legend()\n",
    "ax[0,1].plot(a(u1),'--o',color='C0',label = r\"$a(u_1)=\\frac{exp(u_1)}{exp(u_1)+1}$\")\n",
    "ax[0,1].legend()\n",
    "ax[1,0].plot(u2,'--o',color='C1',label = r\"$u_2$\")\n",
    "ax[1,0].legend()\n",
    "ax[1,1].plot(a(u2),'--o',color='C1',label = r\"$a(u_2)=\\frac{exp(u_2)}{exp(u_2)+1}$\")\n",
    "ax[1,1].legend()\n",
    "ax[2,0].plot(u3,'--o',color='C2', label = r\"$u_3$\")\n",
    "ax[2,0].legend()\n",
    "ax[2,1].plot(a(u3),'--o',color='C2', label = r\"$a(u_3)=\\frac{exp(u_3)}{exp(u_3)+1}$\")\n",
    "ax[2,1].legend()\n",
    "ax[3,0].plot(u4,'--o',color='C3', label = r\"$u_4$\")\n",
    "ax[3,0].legend()\n",
    "ax[3,1].plot(a(u4),'--o',color='C3', label = r\"$a(u_4)=\\frac{exp(u_4)}{exp(u_4)+1}$\")\n",
    "ax[3,1].legend()"
   ]
  },
  {
   "cell_type": "markdown",
   "id": "63f9a203-5987-4c4d-9b12-4f69c5bc73dc",
   "metadata": {},
   "source": [
    "# 9. HW "
   ]
  },
  {
   "cell_type": "markdown",
   "id": "d9d77363-dda3-45d1-83bf-ead698f3af1e",
   "metadata": {},
   "source": [
    "강의노트의 로직스틱 예제 `ToyData2` 에 소개된 데이터를 불러오고, 다양한 초기값에서 BCE loss 와 Adma을 이용하여 학습한뒤 시각화하라."
   ]
  },
  {
   "cell_type": "markdown",
   "id": "ad3cb195",
   "metadata": {},
   "source": []
  }
 ],
 "metadata": {
  "kernelspec": {
   "display_name": "Python 3 (ipykernel)",
   "language": "python",
   "name": "python3"
  },
  "language_info": {
   "codemirror_mode": {
    "name": "ipython",
    "version": 3
   },
   "file_extension": ".py",
   "mimetype": "text/x-python",
   "name": "python",
   "nbconvert_exporter": "python",
   "pygments_lexer": "ipython3",
   "version": "3.8.19"
  }
 },
 "nbformat": 4,
 "nbformat_minor": 5
}
