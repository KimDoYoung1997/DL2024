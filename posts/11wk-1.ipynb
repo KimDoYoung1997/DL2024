{
 "cells": [
  {
   "cell_type": "raw",
   "id": "f9c0a36b-92aa-454e-a739-86a18cbe0da7",
   "metadata": {
    "tags": []
   },
   "source": [
    "---\n",
    "title: \"11wk-1: 추천시스템 (2) -- Embedding 레이어, 사용자정의 네트워크, NN-based 추천시스템, A1-A2\"\n",
    "author: \"최규빈\"\n",
    "date: \"05/13/2024\"\n",
    "---"
   ]
  },
  {
   "cell_type": "markdown",
   "id": "af514aeb-2552-4cf1-969c-93b348f0726f",
   "metadata": {
    "id": "e67ab8e0"
   },
   "source": [
    "<a href=\"https://colab.research.google.com/github/guebin/DL2024/blob/main/posts/11wk-1.ipynb\"><img src=\"https://colab.research.google.com/assets/colab-badge.svg\" style=\"text-align: left\"></a>"
   ]
  },
  {
   "cell_type": "markdown",
   "id": "b4cdaebf-ee06-49f4-b826-34de3343f5b3",
   "metadata": {},
   "source": [
    "# 1. 강의영상 "
   ]
  },
  {
   "cell_type": "markdown",
   "id": "85855466-e2fa-4bee-b29f-563ca5698d5a",
   "metadata": {
    "tags": []
   },
   "source": [
    "{{<video https://youtu.be/playlist?list=PLQqh36zP38-y4jDwHKvjCIA0zPHvUsYxx&si=X5fHH0vOTVR_-iXZ >}}"
   ]
  },
  {
   "cell_type": "markdown",
   "id": "487265af-8ad7-43b7-8271-42a750e79c23",
   "metadata": {},
   "source": [
    "# 2. Imports "
   ]
  },
  {
   "cell_type": "code",
   "execution_count": 1,
   "id": "4dab14d4-fa0a-4be1-a9eb-3f25a4ed1150",
   "metadata": {
    "tags": []
   },
   "outputs": [],
   "source": [
    "import torch\n",
    "import pandas as pd\n",
    "import matplotlib.pyplot as plt"
   ]
  },
  {
   "cell_type": "markdown",
   "id": "b261551b-790c-4d6a-bd17-dec43e44709b",
   "metadata": {
    "tags": []
   },
   "source": [
    "# 3. `torch.nn.Embedding`"
   ]
  },
  {
   "cell_type": "markdown",
   "id": "c654a836-df88-4fcf-8400-01bda062a951",
   "metadata": {},
   "source": [
    "## A. 임베딩레이어 "
   ]
  },
  {
   "cell_type": "markdown",
   "id": "1c69ce4e-fe34-48e3-b318-6861013ff640",
   "metadata": {},
   "source": [
    "`-` 모티브: `torch.nn.functional.one_hot` + `torch.nn.Linear` 를 매번 쓰는건 너무 귀찮지 않어? "
   ]
  },
  {
   "cell_type": "code",
   "execution_count": null,
   "id": "77f2224a",
   "metadata": {},
   "outputs": [],
   "source": [
    "torch.manual_seed(43052)\n",
    "#x = ['옥순','영숙','하니','옥순','영숙']\n",
    "x = torch.tensor([0,1,2,0,1])\n",
    "E = torch.nn.functional.one_hot(x).float()\n",
    "linr = torch.nn.Linear(3,1,bias=False) \n",
    "lf = linr(E)    # torch.nn.Linear 는 float 자료형을 input으로 쓰기에 linr 의 자료형을 float로 형변환함\n",
    "lf"
   ]
  },
  {
   "cell_type": "markdown",
   "id": "50aa95d3-1890-49e1-9a0a-08c7bc222008",
   "metadata": {},
   "source": [
    "`-` 코드를 뜯어보면.. "
   ]
  },
  {
   "cell_type": "code",
   "execution_count": null,
   "id": "d7338471",
   "metadata": {},
   "outputs": [],
   "source": [
    "E.shape"
   ]
  },
  {
   "cell_type": "code",
   "execution_count": null,
   "id": "f92bf6f0-bbe0-45ed-9666-6a59fd20e4e7",
   "metadata": {
    "tags": []
   },
   "outputs": [],
   "source": [
    "linr.weight , linr.weight.shape"
   ]
  },
  {
   "cell_type": "code",
   "execution_count": null,
   "id": "ff51b9a0-5849-4d9a-83cd-87a511bd3c19",
   "metadata": {
    "tags": []
   },
   "outputs": [],
   "source": [
    "E @ linr.weight.T"
   ]
  },
  {
   "cell_type": "markdown",
   "id": "a668bb3c-f726-4e4e-97a5-248ae7279790",
   "metadata": {},
   "source": [
    "-   ${\\boldsymbol x}= \\begin{bmatrix} 0 \\\\ 1 \\\\ 2 \\\\ 0 \\\\ 1 \\end{bmatrix} \\Longrightarrow {\\bf E}= \\begin{bmatrix} 1 & 0 & 0 \\\\ 0 & 1 & 0 \\\\ 0 & 0 & 1 \\\\ 1 & 0 & 0 \\\\ 0 & 1 & 0 \\end{bmatrix}$\n",
    "\n",
    "- $\\text{linr}({\\bf E})= \\begin{bmatrix} 1 & 0 & 0 \\\\ 0 & 1 & 0 \\\\ 0 & 0 & 1 \\\\ 1 & 0 & 0 \\\\ 0 & 1 & 0 \\end{bmatrix}\\begin{bmatrix} -0.2002 \\\\ -0.4890 \\\\ 0.2081 \\end{bmatrix} = \\begin{bmatrix} -0.2002 \\\\ -0.4890 \\\\ 0.2081 \\\\ -0.2002 \\\\ -0.4890 \\end{bmatrix}$"
   ]
  },
  {
   "cell_type": "markdown",
   "id": "e3ca0cd6-5c33-4b1e-84cd-29472183b256",
   "metadata": {},
   "source": [
    "`-` `torch.nn.functional.one_hot` + `torch.nn.Linear` 를 함께처리해주는 레이어 `torch.nn.Embedding` 존재 "
   ]
  },
  {
   "cell_type": "code",
   "execution_count": null,
   "id": "5e993dff-ace1-46f3-b70c-3e93445bc014",
   "metadata": {
    "tags": []
   },
   "outputs": [],
   "source": [
    "torch.manual_seed(43052)\n",
    "\n",
    "# 기존 방법\n",
    "E_ = torch.nn.functional.one_hot(x).float()\n",
    "linr_ = torch.nn.Linear(3,1,bias=False)\n",
    "lf_ = linr_(E_)\n",
    "\n",
    "# torch.nn.Embedding을 사용하는 더 간단한 방법\n",
    "ebdd = torch.nn.Embedding(3,1) \n",
    "ebdd.weight.data = linr.weight.data.T\n",
    "ebdd(x) , lf_"
   ]
  },
  {
   "cell_type": "markdown",
   "id": "0bf2b1bb-8b16-45ef-8064-df142ef563ed",
   "metadata": {},
   "source": [
    "- $\\text{ebdd}({\\boldsymbol x})= \\text{linr}\\big(\\text{onehot}({\\boldsymbol x})\\big) = \\begin{bmatrix} 1 & 0 & 0 \\\\ 0 & 1 & 0 \\\\ 0 & 0 & 1 \\\\ 1 & 0 & 0 \\\\ 0 & 1 & 0 \\end{bmatrix}\\begin{bmatrix} -0.2002 \\\\ -0.4890 \\\\ 0.2081 \\end{bmatrix} = \\begin{bmatrix} -0.2002 \\\\ -0.4890 \\\\ 0.2081 \\\\ -0.2002 \\\\ -0.4890 \\end{bmatrix}$"
   ]
  },
  {
   "cell_type": "markdown",
   "id": "22366e11-ce55-422d-a49b-9985e90cc21d",
   "metadata": {},
   "source": [
    "- 우리가 이전에 구현했던 코드 \"onehot + linr\" 와 \"ebdd\"는 정확하게 동일한 동작을 수행함. "
   ]
  },
  {
   "cell_type": "markdown",
   "id": "7172557d-5012-4224-ae62-c17938b2dd8c",
   "metadata": {
    "tags": []
   },
   "source": [
    "`-` 결론: 아래의 두개의 코드는 같다. \n",
    "\n",
    "```Python \n",
    "X = torch.tensor([0,1,2,0,1])\n",
    "\n",
    "## 코드1 \n",
    "linr = torch.nn.Linear(3,1) \n",
    "linr(torch.nn.functional.one_hot(X))\n",
    "\n",
    "## 코드2 \n",
    "ebdd = torch.nn.Embedding(3,1)\n",
    "ebdd(X) \n",
    "```"
   ]
  },
  {
   "cell_type": "markdown",
   "id": "b8c06c2e-aee0-4e6d-a674-cca070f70863",
   "metadata": {},
   "source": [
    "`# 의문`: 그냥 원핫인코딩없이 바로 선형변환하면 안되나? (= 꼭 임베딩레이어를 써야하나?)"
   ]
  },
  {
   "cell_type": "code",
   "execution_count": null,
   "id": "80425748-2575-4418-9ec1-12c35afa9af3",
   "metadata": {
    "tags": []
   },
   "outputs": [],
   "source": [
    "x = torch.tensor([0,1,2,0,1])   # 길이가 5이며, 자료형은 int , 스칼라\n",
    "X = x.reshape(-1,1).float()     # 길이가 5이며, 자료형은 float, 벡터\n",
    "x,X"
   ]
  },
  {
   "cell_type": "code",
   "execution_count": null,
   "id": "6f23c789-ea69-4e87-b697-85f7f113dcf5",
   "metadata": {
    "tags": []
   },
   "outputs": [],
   "source": [
    "torch.manual_seed(43052)\n",
    "l1 = torch.nn.Linear(1,1)\n",
    "print(l1.weight.data , l1.bias.data)\n",
    "l1(X)"
   ]
  },
  {
   "cell_type": "code",
   "execution_count": 26,
   "id": "d61e3940-a2d7-49a0-841d-acb9a2f542cc",
   "metadata": {
    "tags": []
   },
   "outputs": [
    {
     "data": {
      "text/plain": [
       "tensor([[-0.8178],\n",
       "        [-0.7052],\n",
       "        [-0.5843],\n",
       "        [-0.8178],\n",
       "        [-0.7052]], grad_fn=<EmbeddingBackward0>)"
      ]
     },
     "execution_count": 26,
     "metadata": {},
     "output_type": "execute_result"
    }
   ],
   "source": [
    "torch.manual_seed(43052)\n",
    "ebdd = torch.nn.Embedding(3,1) \n",
    "ebdd(x)"
   ]
  },
  {
   "cell_type": "markdown",
   "id": "741acb40-abd2-4624-99f7-551631e1bc1a",
   "metadata": {},
   "source": [
    "결과적으로 0,1,2 를 다른숫자들로 맵핑한건 비슷해보이는데? "
   ]
  },
  {
   "cell_type": "markdown",
   "id": "039133ac-2029-4e08-895a-39571956257c",
   "metadata": {},
   "source": [
    "`-` 수식의 차이: 비슷해보이지만 계산방식이 조금 다름 "
   ]
  },
  {
   "cell_type": "code",
   "execution_count": 27,
   "id": "e556b75f-55e0-4b56-b551-a60a30b12c9b",
   "metadata": {
    "tags": []
   },
   "outputs": [
    {
     "data": {
      "text/plain": [
       "(Parameter containing:\n",
       " tensor([[-0.3467]], requires_grad=True),\n",
       " Parameter containing:\n",
       " tensor([-0.8470], requires_grad=True))"
      ]
     },
     "execution_count": 27,
     "metadata": {},
     "output_type": "execute_result"
    }
   ],
   "source": [
    "l1.weight, l1.bias"
   ]
  },
  {
   "cell_type": "code",
   "execution_count": 28,
   "id": "1c99b265",
   "metadata": {},
   "outputs": [
    {
     "data": {
      "text/plain": [
       "Parameter containing:\n",
       "tensor([[-0.8178],\n",
       "        [-0.7052],\n",
       "        [-0.5843]], requires_grad=True)"
      ]
     },
     "execution_count": 28,
     "metadata": {},
     "output_type": "execute_result"
    }
   ],
   "source": [
    "ebdd.weight"
   ]
  },
  {
   "cell_type": "markdown",
   "id": "36acfb9b-4df0-4834-871e-eb7e078ec750",
   "metadata": {},
   "source": [
    "- $l_1({\\bf X}) = \\begin{bmatrix} 0 \\\\ 1 \\\\ 2 \\\\ 0 \\\\ 1 \\end{bmatrix} \\times (-0.3467) + (-0.8470)=\\begin{bmatrix} -0.8470 \\\\ -1.1937 \\\\ -1.5404 \\\\ -0.8470 \\\\ -1.1937 \\end{bmatrix}$"
   ]
  },
  {
   "cell_type": "markdown",
   "id": "4e19dc95-d070-4e92-9830-985733d0ee6f",
   "metadata": {},
   "source": [
    "- $\\text{ebdd}({\\boldsymbol x})= \\text{linr}\\big(\\text{onehot}({\\boldsymbol x})\\big) = \\begin{bmatrix} 1 & 0 & 0 \\\\ 0 & 1 & 0 \\\\ 0 & 0 & 1 \\\\ 1 & 0 & 0 \\\\ 0 & 1 & 0 \\end{bmatrix}\\begin{bmatrix} -0.8178 \\\\ -0.7052 \\\\ -0.5843 \\end{bmatrix} = \\begin{bmatrix} -0.8178 \\\\ -0.7052 \\\\ -0.5843 \\\\ -0.8178 \\\\ -0.7052 \\end{bmatrix}$"
   ]
  },
  {
   "cell_type": "markdown",
   "id": "d4eea635-abfe-4f03-a710-e458adaac94e",
   "metadata": {},
   "source": [
    "`-` 데이터를 읽으며 해석: 사실상 0,1,2에 대한 의미는 \"옥순\",\"영숙\",\"하니\" 같은 자료였고, 임베딩의 결과는 \"옥순\",\"영숙\",\"하니\"가 가지는 어떠한 특징이었음 (예를들면 매력같은). 데이터를 상상하며 위의 결과를 다시 해석해보자. \n",
    "\n",
    "**옥순이 가지는 어떠한 특징 (-0.8470 혹은 -0.8178) 을 바꾸고 싶다면?**\n",
    "\n",
    "- `ebdd`의 경우: `ebdd.weigth`에 있는 -0.8178 이라는 숫자를 조정하면 된다. 이 조정은 옥순의 특징만 바꾸며 영숙과 하니의 특징은 바꾸지 않는다. (개별조정이 쉬움)\n",
    "- `linr`의 경우: `linr.weight`에 있는 -0.3467 혹은 `linr.bias`에 있는 -0.8470 을 조정하면 되는데, 이를 조정하면 옥순의 특징을 바꿈과 동시에 영숙/하니의 특징까지 같이 바뀌게 된다. (개별조정이 어려움) \n",
    "\n",
    "**만약에 출연자가 1000명이라면??**\n",
    "\n",
    "- `linr`의 경우: 1000명의 특징을 단 2개의 파라메터로 조정해야한다. (그리고 한명의 특징을 바꾸면 999명의 특징이 같이 바뀐다, 개별조정은 애초에 가능하지 않음.) \n",
    "- `ebdd`의 경우: 1000개의 특징을 조정할 수 있는 1000개의 파라메터를 확보할 수 있게 된다. "
   ]
  },
  {
   "cell_type": "markdown",
   "id": "cd611c35-7411-40ff-9fbf-c0c17371b35a",
   "metadata": {},
   "source": [
    "`-` 결론: ebdd가 더 파라메터 미세조정을 통하여 특징을 학습하기 용이하다. (독립적으로 특징값을 줄 수 있으니까!)"
   ]
  },
  {
   "cell_type": "markdown",
   "id": "47f97206-50a6-44bf-90dd-08f6a62e180c",
   "metadata": {
    "tags": []
   },
   "source": [
    "> 만약에 문자열이 \"최우수(A)\", \"우수(B)\", \"보통(C)\", \"미흡(D)\", \"매우미흡(F)\" 이었다면 특징을 뽑아낼때 linr 가 더 적절했겠죠? "
   ]
  },
  {
   "cell_type": "markdown",
   "id": "70df89c6-e622-470f-96ab-25d2c26ae548",
   "metadata": {},
   "source": [
    "## B. MF-based 추천시스템 재설계"
   ]
  },
  {
   "cell_type": "markdown",
   "id": "8e3fce18-6350-4a18-8e06-c595667d5a8e",
   "metadata": {},
   "source": [
    "아래의 자료를 활용하여 추천시스템을 설계하고자한다. "
   ]
  },
  {
   "cell_type": "code",
   "execution_count": 24,
   "id": "32312f78-6890-4878-b22c-372df4797dd7",
   "metadata": {
    "tags": []
   },
   "outputs": [
    {
     "data": {
      "text/html": [
       "<div>\n",
       "<style scoped>\n",
       "    .dataframe tbody tr th:only-of-type {\n",
       "        vertical-align: middle;\n",
       "    }\n",
       "\n",
       "    .dataframe tbody tr th {\n",
       "        vertical-align: top;\n",
       "    }\n",
       "\n",
       "    .dataframe thead th {\n",
       "        text-align: right;\n",
       "    }\n",
       "</style>\n",
       "<table border=\"1\" class=\"dataframe\">\n",
       "  <thead>\n",
       "    <tr style=\"text-align: right;\">\n",
       "      <th></th>\n",
       "      <th>영식(IN)</th>\n",
       "      <th>영철(IN)</th>\n",
       "      <th>영호(IS)</th>\n",
       "      <th>광수(IS)</th>\n",
       "      <th>상철(EN)</th>\n",
       "      <th>영수(EN)</th>\n",
       "      <th>규빈(ES)</th>\n",
       "      <th>다호(ES)</th>\n",
       "    </tr>\n",
       "  </thead>\n",
       "  <tbody>\n",
       "    <tr>\n",
       "      <th>옥순(IN)</th>\n",
       "      <td>NaN</td>\n",
       "      <td>4.02</td>\n",
       "      <td>3.45</td>\n",
       "      <td>3.42</td>\n",
       "      <td>0.84</td>\n",
       "      <td>1.12</td>\n",
       "      <td>0.43</td>\n",
       "      <td>0.49</td>\n",
       "    </tr>\n",
       "    <tr>\n",
       "      <th>영자(IN)</th>\n",
       "      <td>3.93</td>\n",
       "      <td>3.99</td>\n",
       "      <td>3.63</td>\n",
       "      <td>3.43</td>\n",
       "      <td>0.98</td>\n",
       "      <td>0.96</td>\n",
       "      <td>0.52</td>\n",
       "      <td>NaN</td>\n",
       "    </tr>\n",
       "    <tr>\n",
       "      <th>정숙(IS)</th>\n",
       "      <td>3.52</td>\n",
       "      <td>3.42</td>\n",
       "      <td>4.05</td>\n",
       "      <td>4.06</td>\n",
       "      <td>0.39</td>\n",
       "      <td>NaN</td>\n",
       "      <td>0.93</td>\n",
       "      <td>0.99</td>\n",
       "    </tr>\n",
       "    <tr>\n",
       "      <th>영숙(IS)</th>\n",
       "      <td>3.43</td>\n",
       "      <td>3.57</td>\n",
       "      <td>NaN</td>\n",
       "      <td>3.95</td>\n",
       "      <td>0.56</td>\n",
       "      <td>0.52</td>\n",
       "      <td>0.89</td>\n",
       "      <td>0.89</td>\n",
       "    </tr>\n",
       "    <tr>\n",
       "      <th>순자(EN)</th>\n",
       "      <td>1.12</td>\n",
       "      <td>NaN</td>\n",
       "      <td>0.59</td>\n",
       "      <td>0.43</td>\n",
       "      <td>4.01</td>\n",
       "      <td>4.16</td>\n",
       "      <td>3.52</td>\n",
       "      <td>3.38</td>\n",
       "    </tr>\n",
       "    <tr>\n",
       "      <th>현숙(EN)</th>\n",
       "      <td>0.94</td>\n",
       "      <td>1.05</td>\n",
       "      <td>0.32</td>\n",
       "      <td>0.45</td>\n",
       "      <td>4.02</td>\n",
       "      <td>3.78</td>\n",
       "      <td>NaN</td>\n",
       "      <td>3.54</td>\n",
       "    </tr>\n",
       "    <tr>\n",
       "      <th>서연(ES)</th>\n",
       "      <td>0.51</td>\n",
       "      <td>0.56</td>\n",
       "      <td>0.88</td>\n",
       "      <td>0.89</td>\n",
       "      <td>3.50</td>\n",
       "      <td>3.64</td>\n",
       "      <td>4.04</td>\n",
       "      <td>4.10</td>\n",
       "    </tr>\n",
       "    <tr>\n",
       "      <th>보람(ES)</th>\n",
       "      <td>0.48</td>\n",
       "      <td>0.51</td>\n",
       "      <td>1.03</td>\n",
       "      <td>NaN</td>\n",
       "      <td>3.52</td>\n",
       "      <td>4.00</td>\n",
       "      <td>3.82</td>\n",
       "      <td>NaN</td>\n",
       "    </tr>\n",
       "    <tr>\n",
       "      <th>하니(I)</th>\n",
       "      <td>4.85</td>\n",
       "      <td>4.82</td>\n",
       "      <td>NaN</td>\n",
       "      <td>4.98</td>\n",
       "      <td>4.53</td>\n",
       "      <td>4.39</td>\n",
       "      <td>4.45</td>\n",
       "      <td>4.52</td>\n",
       "    </tr>\n",
       "  </tbody>\n",
       "</table>\n",
       "</div>"
      ],
      "text/plain": [
       "        영식(IN)  영철(IN)  영호(IS)  광수(IS)  상철(EN)  영수(EN)  규빈(ES)  다호(ES)\n",
       "옥순(IN)     NaN    4.02    3.45    3.42    0.84    1.12    0.43    0.49\n",
       "영자(IN)    3.93    3.99    3.63    3.43    0.98    0.96    0.52     NaN\n",
       "정숙(IS)    3.52    3.42    4.05    4.06    0.39     NaN    0.93    0.99\n",
       "영숙(IS)    3.43    3.57     NaN    3.95    0.56    0.52    0.89    0.89\n",
       "순자(EN)    1.12     NaN    0.59    0.43    4.01    4.16    3.52    3.38\n",
       "현숙(EN)    0.94    1.05    0.32    0.45    4.02    3.78     NaN    3.54\n",
       "서연(ES)    0.51    0.56    0.88    0.89    3.50    3.64    4.04    4.10\n",
       "보람(ES)    0.48    0.51    1.03     NaN    3.52    4.00    3.82     NaN\n",
       "하니(I)     4.85    4.82     NaN    4.98    4.53    4.39    4.45    4.52"
      ]
     },
     "execution_count": 24,
     "metadata": {},
     "output_type": "execute_result"
    }
   ],
   "source": [
    "df_view = pd.read_csv('https://raw.githubusercontent.com/guebin/DL2024/main/posts/solo.csv',index_col=0)\n",
    "df_view"
   ]
  },
  {
   "cell_type": "code",
   "execution_count": 25,
   "id": "1a5017f3-f863-483a-a894-c63f960aa739",
   "metadata": {
    "tags": []
   },
   "outputs": [],
   "source": [
    "df_train = df_view.stack().reset_index().set_axis(['W','M','y'],axis=1)\n",
    "w = {'옥순(IN)':0, '영자(IN)':1, '정숙(IS)':2, '영숙(IS)':3, '순자(EN)':4, '현숙(EN)':5, '서연(ES)':6, '보람(ES)':7, '하니(I)':8}\n",
    "m = {'영식(IN)':0, '영철(IN)':1, '영호(IS)':2, '광수(IS)':3, '상철(EN)':4, '영수(EN)':5, '규빈(ES)':6, '다호(ES)':7}\n",
    "X1 = torch.tensor(df_train['W'].map(w)) # length-n int vector \n",
    "X2 = torch.tensor(df_train['M'].map(m)) # length-n int vector \n",
    "y = torch.tensor(df_train['y']).float().reshape(-1,1) # (n,1) float vector"
   ]
  },
  {
   "cell_type": "markdown",
   "id": "eee01986-3dbf-4595-b8db-457faf146aed",
   "metadata": {},
   "source": [
    "임베딩레이어를 활용하여 MF-based 추천시스템을 설계하라. "
   ]
  },
  {
   "cell_type": "markdown",
   "id": "b8f908db-bea5-4a4d-b3d4-0f903c39769f",
   "metadata": {},
   "source": [
    "(풀이)"
   ]
  },
  {
   "cell_type": "code",
   "execution_count": 29,
   "id": "14cc7f8f-0075-41f5-9365-23d9ccce6443",
   "metadata": {
    "tags": []
   },
   "outputs": [],
   "source": [
    "torch.manual_seed(43052)\n",
    "ebdd1 = torch.nn.Embedding(9,2)\n",
    "b1 = torch.nn.Embedding(9,1)\n",
    "ebdd2 = torch.nn.Embedding(8,2)\n",
    "b2 = torch.nn.Embedding(8,1)\n",
    "sig = torch.nn.Sigmoid()\n",
    "loss_fn = torch.nn.MSELoss()\n",
    "params = list(ebdd1.parameters())+list(b1.parameters())+list(ebdd2.parameters())+list(b2.parameters()) \n",
    "optimizr = torch.optim.Adam(params, lr=0.1) \n",
    "#--#\n",
    "for epoc in range(100):\n",
    "    # 1\n",
    "    W_feature = ebdd1(X1)\n",
    "    W_bias = b1(X1)\n",
    "    M_feature = ebdd2(X2)\n",
    "    M_bias = b2(X2)\n",
    "    score = (W_feature * M_feature).sum(axis=1).reshape(-1,1) + W_bias + M_bias\n",
    "    yhat = sig(score)*5 \n",
    "    # 2 \n",
    "    loss = loss_fn(yhat,y)\n",
    "    # 3 \n",
    "    loss.backward()\n",
    "    # 4 \n",
    "    optimizr.step()\n",
    "    optimizr.zero_grad()"
   ]
  },
  {
   "cell_type": "code",
   "execution_count": 30,
   "id": "a1df7f97-f3b1-4e55-aaf2-9485c11f0f32",
   "metadata": {
    "tags": []
   },
   "outputs": [
    {
     "data": {
      "text/plain": [
       "tensor([[4.1083, 4.0200],\n",
       "        [0.9388, 1.1200],\n",
       "        [4.0483, 3.9900],\n",
       "        [0.9707, 0.9600],\n",
       "        [4.2264, 4.0500],\n",
       "        [0.9518, 0.9900],\n",
       "        [0.5124, 0.5600],\n",
       "        [1.1198, 1.1200],\n",
       "        [4.0588, 4.1600],\n",
       "        [1.0596, 1.0500],\n",
       "        [3.9666, 3.7800],\n",
       "        [0.9472, 0.8800],\n",
       "        [3.9194, 4.0400],\n",
       "        [1.0346, 1.0300],\n",
       "        [4.8851, 4.8500],\n",
       "        [4.5387, 4.3900]], grad_fn=<SliceBackward0>)"
      ]
     },
     "execution_count": 30,
     "metadata": {},
     "output_type": "execute_result"
    }
   ],
   "source": [
    "torch.concat([yhat,y],axis=1)[::4]"
   ]
  },
  {
   "cell_type": "markdown",
   "id": "5ed13586-4822-42ad-be6a-78fd11c29835",
   "metadata": {},
   "source": [
    "# 4. 사용자정의 네트워크 "
   ]
  },
  {
   "cell_type": "markdown",
   "id": "d73223f6-1881-4c30-ad2f-9d509a47009e",
   "metadata": {},
   "source": [
    "## A. 사용자정의 네트워크 사용법"
   ]
  },
  {
   "cell_type": "markdown",
   "id": "f00b1af1-cd6b-4018-81b6-343112979862",
   "metadata": {},
   "source": [
    "`# 예비학습1`: `net(x)`와 사실 `net.forward(x)`는 같다."
   ]
  },
  {
   "cell_type": "code",
   "execution_count": 31,
   "id": "dd1a7b1c-38e3-4d6e-bbc4-718f59683558",
   "metadata": {
    "tags": []
   },
   "outputs": [],
   "source": [
    "net = torch.nn.Sequential(\n",
    "    torch.nn.Linear(1,1),\n",
    "    torch.nn.Sigmoid()\n",
    ")"
   ]
  },
  {
   "cell_type": "code",
   "execution_count": 32,
   "id": "5f9803b2-90bc-4a61-88df-3808d8e71ec3",
   "metadata": {
    "tags": []
   },
   "outputs": [
    {
     "data": {
      "text/plain": [
       "tensor([[ 0.3837],\n",
       "        [ 0.7194],\n",
       "        [-0.2655],\n",
       "        [-1.2488],\n",
       "        [ 0.5538]])"
      ]
     },
     "execution_count": 32,
     "metadata": {},
     "output_type": "execute_result"
    }
   ],
   "source": [
    "X = torch.randn(5,1)    # observation이 5개고 feature가 1개인 데이터.\n",
    "X"
   ]
  },
  {
   "cell_type": "code",
   "execution_count": 33,
   "id": "593af51e-60a3-4f62-a92a-483b90dfedd5",
   "metadata": {
    "tags": []
   },
   "outputs": [
    {
     "data": {
      "text/plain": [
       "tensor([[0.3901],\n",
       "        [0.3808],\n",
       "        [0.4083],\n",
       "        [0.4362],\n",
       "        [0.3854]], grad_fn=<SigmoidBackward0>)"
      ]
     },
     "execution_count": 33,
     "metadata": {},
     "output_type": "execute_result"
    }
   ],
   "source": [
    "net(X)"
   ]
  },
  {
   "cell_type": "code",
   "execution_count": 34,
   "id": "453cc4cb-f63a-4e35-8b79-0fdc23471a0a",
   "metadata": {
    "tags": []
   },
   "outputs": [
    {
     "data": {
      "text/plain": [
       "tensor([[0.3901],\n",
       "        [0.3808],\n",
       "        [0.4083],\n",
       "        [0.4362],\n",
       "        [0.3854]], grad_fn=<SigmoidBackward0>)"
      ]
     },
     "execution_count": 34,
     "metadata": {},
     "output_type": "execute_result"
    }
   ],
   "source": [
    "net.forward(X)"
   ]
  },
  {
   "cell_type": "markdown",
   "id": "9cffab7b-d918-4333-a312-64d4a5961679",
   "metadata": {},
   "source": [
    "그래서 `net.forward`를 재정의하면 `net(x)`의 기능을 재정의 할 수 있다."
   ]
  },
  {
   "cell_type": "code",
   "execution_count": 35,
   "id": "d3e7a61c-ee75-4aec-97c7-4752297a7ca9",
   "metadata": {
    "tags": []
   },
   "outputs": [],
   "source": [
    "net.forward = lambda x: '메롱'"
   ]
  },
  {
   "cell_type": "markdown",
   "id": "5b089fb8-3218-427a-90dc-70351ffd95e9",
   "metadata": {},
   "source": [
    "-   `lambda x: '메롱'` 은 입력이 x 출력이 '메롱'인 함수를 의미 (즉 입력값에 상관없이 항상 '메롱'을 출력하는 함수)\n",
    "-   `net.forward = lambda x:1` 이라고 새롭게 선언하였므로 앞으론 `net.forward(x)`, `net(x)` 도 입력값에 상관없이 항상 '메롱'을 출력하게 될것임"
   ]
  },
  {
   "cell_type": "code",
   "execution_count": 36,
   "id": "da78a850-7eac-446f-ad53-760939555332",
   "metadata": {
    "tags": []
   },
   "outputs": [
    {
     "data": {
      "text/plain": [
       "'메롱'"
      ]
     },
     "execution_count": 36,
     "metadata": {},
     "output_type": "execute_result"
    }
   ],
   "source": [
    "net.forward(X)"
   ]
  },
  {
   "cell_type": "code",
   "execution_count": 37,
   "id": "f5e60aa4-0ddb-4cbb-9cc5-25f5ddd1d1d9",
   "metadata": {
    "tags": []
   },
   "outputs": [
    {
     "data": {
      "text/plain": [
       "'메롱'"
      ]
     },
     "execution_count": 37,
     "metadata": {},
     "output_type": "execute_result"
    }
   ],
   "source": [
    "net(X)"
   ]
  },
  {
   "cell_type": "markdown",
   "id": "4cd8be77-e376-4088-ab5c-c18bb9933374",
   "metadata": {},
   "source": [
    "`#`"
   ]
  },
  {
   "cell_type": "markdown",
   "id": "eca6347c-a752-49cd-a083-f6b5c1dbc376",
   "metadata": {},
   "source": [
    "`# 예비학습2`: `torch.nn.Module`을 상속받아서 네트워크를 만들면 (= “`class XXX(torch.nn.Module):`” 와 같은 방식으로 클래스를 선언하면) 약속된 아키텍처를 가진 네트워크를 찍어내는 함수를 만들 수 있다."
   ]
  },
  {
   "cell_type": "markdown",
   "id": "732ccee9-8ab5-4263-b1ff-69992c8880fd",
   "metadata": {},
   "source": [
    "(예시1)"
   ]
  },
  {
   "cell_type": "code",
   "execution_count": 51,
   "id": "b2054f44",
   "metadata": {},
   "outputs": [
    {
     "name": "stdout",
     "output_type": "stream",
     "text": [
      "Object is called! Value is 10\n"
     ]
    }
   ],
   "source": [
    "class MyClass:\n",
    "    def __init__(self, value):\n",
    "        self.value = value\n",
    "\n",
    "    def __call__(self):\n",
    "        print(f\"Object is called! Value is {self.value}\")\n",
    "\n",
    "# 클래스 인스턴스 생성\n",
    "obj = MyClass(10)\n",
    "\n",
    "# 객체를 함수처럼 호출\n",
    "obj()  # \"Object is called! Value is 10\" 출력\n"
   ]
  },
  {
   "cell_type": "code",
   "execution_count": 55,
   "id": "1d8eb6bc",
   "metadata": {},
   "outputs": [
    {
     "name": "stdout",
     "output_type": "stream",
     "text": [
      "Object is self.value.valueled! Value is \n"
     ]
    }
   ],
   "source": [
    "class MyClass(torch.nn.Module):\n",
    "    def __init__(self):\n",
    "        super().__init__()\n",
    "\n",
    "    def __call__(self,x):\n",
    "        print(f\"Object is self.value.valueled! Value is \")\n",
    "    # def forward(self,x):\n",
    "    #     print(f\"Object is self.value.valueled! Value is \")\n",
    "    #     return None\n",
    "# 클래스 인스턴스 생성\n",
    "obj = MyClass()\n",
    "\n",
    "# 객체를 함수처럼 호출\n",
    "# obj()  # \"Object is called! Value is 10\" 출력\n",
    "obj(x)"
   ]
  },
  {
   "cell_type": "code",
   "execution_count": 56,
   "id": "982c2476-cedc-4719-9564-81cfbcacb7d1",
   "metadata": {
    "tags": []
   },
   "outputs": [],
   "source": [
    "class Mynet1(torch.nn.Module):\n",
    "    def __init__(self):\n",
    "        super().__init__()\n",
    "        self.l1 = torch.nn.Linear(in_features=1,out_features=1,bias=True)\n",
    "        self.a1 = torch.nn.Sigmoid()\n",
    "        self.l2 = torch.nn.Linear(in_features=1,out_features=1,bias=False)\n",
    "    def forward(self,x):\n",
    "        yhat = self.l2(self.a1(self.l1(x)))\n",
    "        return yhat"
   ]
  },
  {
   "cell_type": "markdown",
   "id": "fb8e8f91-1c22-4f54-b316-41ac79d9cd4e",
   "metadata": {
    "tags": []
   },
   "source": [
    "이제\n",
    "\n",
    "``` python\n",
    "net = Mynet1()\n",
    "```\n",
    "\n",
    "는 아래와 같은 효과를 가진다.\n",
    "\n",
    "``` python\n",
    "net = torch.nn.Sequential(\n",
    "    torch.nn.Linear(in_features=1,out_features=1,bias=True),\n",
    "    torch.nn.Sigmoid(),\n",
    "    torch.nn.Linear(in_features=1,out_features=1,bias=False)\n",
    ")\n",
    "```"
   ]
  },
  {
   "cell_type": "markdown",
   "id": "b1bbe9bf-f3e4-40ae-9d72-63e9c780c78f",
   "metadata": {
    "tags": []
   },
   "source": [
    "(예시2)"
   ]
  },
  {
   "cell_type": "code",
   "execution_count": 22,
   "id": "f7e575f5-5738-4dac-a2a8-1e1c9b63eab0",
   "metadata": {
    "tags": []
   },
   "outputs": [],
   "source": [
    "class Mynet2(torch.nn.Module):\n",
    "    def __init__(self):\n",
    "        super().__init__()\n",
    "        self.l1 = torch.nn.Linear(in_features=1,out_features=1,bias=True)\n",
    "        self.a1 = torch.nn.ReLU()\n",
    "        self.l2 = torch.nn.Linear(in_features=1,out_features=1,bias=False)\n",
    "    def forward(self,x):\n",
    "        yhat = self.l2(self.a1(self.l1(x)))\n",
    "        return yhat"
   ]
  },
  {
   "cell_type": "markdown",
   "id": "de7aa295-6a79-467a-af75-3aefcf4f7df8",
   "metadata": {},
   "source": [
    "이제\n",
    "\n",
    "``` python\n",
    "net = Mynet2()\n",
    "```\n",
    "\n",
    "는 아래와 같은 효과를 가진다.\n",
    "\n",
    "``` python\n",
    "net = torch.nn.Sequential(\n",
    "    torch.nn.Linear(in_features=1,out_features=1,bias=True),\n",
    "    torch.nn.RuLU(),\n",
    "    torch.nn.Linear(in_features=1,out_features=1,bias=False)\n",
    ")\n",
    "```"
   ]
  },
  {
   "cell_type": "markdown",
   "id": "784c1ddd-423f-43d5-aff4-c67b99760fcd",
   "metadata": {},
   "source": [
    "***클래스에 대한 이해가 부족한 학생을 위한 암기방법***\n",
    "\n",
    "**step1:** 아래와 코드를 복사하여 틀을 만든다. (이건 무조건 고정임, XXXX 자리는 원하는 이름을 넣는다)\n",
    "\n",
    "``` python\n",
    "class XXXX(torch.nn.Module):\n",
    "    def __init__(self):\n",
    "        super().__init__()\n",
    "        ## 우리가 yhat을 구할때 사용할 레이어를 정의 \n",
    "        \n",
    "        ## 정의 끝\n",
    "    def forward(self,X):\n",
    "        ## yhat을 어떻게 구할것인지 정의 \n",
    "        \n",
    "        ## 정의 끝\n",
    "        return yhat\n",
    "```\n",
    "\n",
    "- `forward`의 입력: `X`는 `net(X)`에 사용하는 `X`임\n",
    "- `forward`의 출력: `yhat`은 `net.forward(X)` 함수의 리턴값임\n",
    "-  사실, `X`/`yhat`은 다른 변수로 써도 무방하나 (예를들면 `input`/`output` 이라든지, `netin`/`netout` 이라든지) 설명의 편의상 `X`와 `yhat`을 고정한다."
   ]
  },
  {
   "cell_type": "markdown",
   "id": "cbccb5c8-3172-4c62-babc-316274b5db62",
   "metadata": {},
   "source": [
    "**step2:** `def __init__(self):`에 yhat을 구하기 위해 필요한 재료를 레이어를 정의하고 이름을 붙인다. 이름은 항상 `self.xxx` 와 같은 식으로 정의한다.\n",
    "\n",
    "``` python\n",
    "class XXXX(torch.nn.Module):\n",
    "    def __init__(self):\n",
    "        super().__init__()\n",
    "        ## 우리가 yhat을 구할때 사용할 레이어를 정의 \n",
    "        self.xxx1 = torch.nn.Linear(in_features=1,out_features=1,bias=True)\n",
    "        self.xxx2 = torch.nn.Sigmoid()\n",
    "        self.xxx3 = torch.nn.Linear(in_features=1,out_features=1,bias=True)\n",
    "        ## 정의 끝\n",
    "    def forward(self,X):\n",
    "        ## yhat을 어떻게 구할것인지 정의 \n",
    "        \n",
    "        ## 정의 끝\n",
    "        return yhat\n",
    "```"
   ]
  },
  {
   "cell_type": "markdown",
   "id": "94184f71-0edf-405f-9352-2b81b39cc26e",
   "metadata": {},
   "source": [
    "**step3:** `def forward:`에 \"X –\\> yhat\" 으로 가는 과정을 묘사한 코드를 작성하고 yhat을 리턴하도록 한다.\n",
    "\n",
    "``` python\n",
    "class XXXX(torch.nn.Module):\n",
    "    def __init__(self):\n",
    "        super().__init__()\n",
    "        ## 우리가 yhat을 구할때 사용할 레이어를 정의 \n",
    "        self.xxx1 = torch.nn.Linear(in_features=1,out_features=1,bias=True)\n",
    "        self.xxx2 = torch.nn.Sigmoid()\n",
    "        self.xxx3 = torch.nn.Linear(in_features=1,out_features=1,bias=True)\n",
    "        ## 정의 끝\n",
    "    def forward(self,X):\n",
    "        ## yhat을 어떻게 구할것인지 정의 \n",
    "        u = self.xxx1(X) \n",
    "        v = self.xxx2(u)\n",
    "        yhat = self.xxx3(v) \n",
    "        ## 정의 끝\n",
    "        return yhat\n",
    "```"
   ]
  },
  {
   "cell_type": "markdown",
   "id": "931a6386-c160-4fc2-b818-3756e443fee8",
   "metadata": {},
   "source": [
    "`#`"
   ]
  },
  {
   "cell_type": "markdown",
   "id": "2983836c-bf2e-4f40-a457-f5a21d62c9f9",
   "metadata": {},
   "source": [
    "`# 실습`: 사용자정의 네트워크를 사용하여 아래의 자료를 학습해보자. "
   ]
  },
  {
   "cell_type": "code",
   "execution_count": 57,
   "id": "1c4cdc0a-f1b7-42c3-9035-f071ca50b756",
   "metadata": {
    "tags": []
   },
   "outputs": [],
   "source": [
    "torch.manual_seed(43052)\n",
    "x,_ = torch.randn(100).sort()\n",
    "x = x.reshape(-1,1)\n",
    "ϵ = torch.randn(100).reshape(-1,1)*0.5\n",
    "y = 2.5+ 4*x + ϵ"
   ]
  },
  {
   "cell_type": "code",
   "execution_count": 58,
   "id": "915f53b7-86c9-4a07-9862-d6dd5520c647",
   "metadata": {
    "tags": []
   },
   "outputs": [
    {
     "data": {
      "text/plain": [
       "[<matplotlib.lines.Line2D at 0x7b05245de580>]"
      ]
     },
     "execution_count": 58,
     "metadata": {},
     "output_type": "execute_result"
    },
    {
     "data": {
      "image/png": "[encoded data removed]",
      "text/plain": [
       "<Figure size 640x480 with 1 Axes>"
      ]
     },
     "metadata": {},
     "output_type": "display_data"
    }
   ],
   "source": [
    "plt.plot(x,y,'o')"
   ]
  },
  {
   "cell_type": "code",
   "execution_count": 69,
   "id": "492a3a0a",
   "metadata": {},
   "outputs": [
    {
     "data": {
      "text/plain": [
       "[<matplotlib.lines.Line2D at 0x7b051db5f400>]"
      ]
     },
     "execution_count": 69,
     "metadata": {},
     "output_type": "execute_result"
    },
    {
     "data": {
      "image/png": "[encoded data removed]",
      "text/plain": [
       "<Figure size 640x480 with 1 Axes>"
      ]
     },
     "metadata": {},
     "output_type": "display_data"
    }
   ],
   "source": [
    "ll1_=torch.nn.Linear(1,30)\n",
    "aa1_=torch.nn.ReLU()\n",
    "ll2_=torch.nn.Linear(30,1)\n",
    "\n",
    "plt.plot(x,y,'o')\n",
    "plt.plot(x,ll2_(aa1_(ll1_(x))).data,'--')"
   ]
  },
  {
   "cell_type": "code",
   "execution_count": 88,
   "id": "cdaf7de4",
   "metadata": {},
   "outputs": [
    {
     "data": {
      "text/plain": [
       "[<matplotlib.lines.Line2D at 0x7b051cd66bb0>]"
      ]
     },
     "execution_count": 88,
     "metadata": {},
     "output_type": "execute_result"
    },
    {
     "data": {
      "image/png": "[encoded data removed]",
      "text/plain": [
       "<Figure size 640x480 with 1 Axes>"
      ]
     },
     "metadata": {},
     "output_type": "display_data"
    }
   ],
   "source": [
    "class Net_dy(torch.nn.Module):\n",
    "    def __init__(self):\n",
    "        super().__init__()\n",
    "        self.l1 = torch.nn.Linear(1,30)\n",
    "        self.a1 = torch.nn.ReLU()\n",
    "        self.l2 = torch.nn.Linear(30,1)\n",
    "    def forward(self,X):\n",
    "        yhat=self.l2(self.a1(self.l1(x)))\n",
    "        return yhat\n",
    "net_dy_ = Net_dy()\n",
    "loss_fn = torch.nn.MSELoss()\n",
    "optimizr = torch.optim.SGD(net_dy_.parameters(),lr=0.1)\n",
    "\n",
    "for epco in range(30):\n",
    "    yhat = net_dy_(x)\n",
    "    loss = loss_fn(yhat,y)\n",
    "    loss.backward()\n",
    "    optimizr.step()\n",
    "    optimizr.zero_grad()\n",
    "\n",
    "plt.plot(x,y,'o')\n",
    "plt.plot(x,net_dy_(x).data,'--')"
   ]
  },
  {
   "cell_type": "markdown",
   "id": "cff6df44-8bed-4116-a526-c9d20b916f4f",
   "metadata": {},
   "source": [
    "(풀이)"
   ]
  },
  {
   "cell_type": "code",
   "execution_count": 94,
   "id": "363609bd-a671-4df9-b043-2b3b439f809f",
   "metadata": {
    "tags": []
   },
   "outputs": [],
   "source": [
    "class Net(torch.nn.Module):\n",
    "    def __init__(self):\n",
    "        super().__init__()\n",
    "        ## 우리가 yhat을 구할때 사용할 레어어를 정의\n",
    "        self.linr = torch.nn.Linear(1,1)\n",
    "        ## 정의 끝\n",
    "    def forward(self,X):\n",
    "        ## yhat을 어떻게 구할것인지 정의 \n",
    "        yhat = self.linr(X)\n",
    "        ## 정의 끝\n",
    "        return yhat"
   ]
  },
  {
   "cell_type": "code",
   "execution_count": 95,
   "id": "59a9a864-5f30-44eb-98ff-a45b1e498965",
   "metadata": {
    "tags": []
   },
   "outputs": [],
   "source": [
    "net = Net()"
   ]
  },
  {
   "cell_type": "code",
   "execution_count": 97,
   "id": "92ae294f",
   "metadata": {},
   "outputs": [
    {
     "data": {
      "text/plain": [
       "tensor([[-1.5187],\n",
       "        [-1.4693],\n",
       "        [-1.3189],\n",
       "        [-1.1650],\n",
       "        [-1.1054],\n",
       "        [-1.0989],\n",
       "        [-1.0937],\n",
       "        [-1.0907],\n",
       "        [-1.0613],\n",
       "        [-1.0348],\n",
       "        [-0.9863],\n",
       "        [-0.9529],\n",
       "        [-0.9513],\n",
       "        [-0.9439],\n",
       "        [-0.8860],\n",
       "        [-0.8798],\n",
       "        [-0.8519],\n",
       "        [-0.8196],\n",
       "        [-0.8068],\n",
       "        [-0.8016],\n",
       "        [-0.7821],\n",
       "        [-0.7472],\n",
       "        [-0.7360],\n",
       "        [-0.7274],\n",
       "        [-0.7226],\n",
       "        [-0.7041],\n",
       "        [-0.6938],\n",
       "        [-0.6910],\n",
       "        [-0.6898],\n",
       "        [-0.6884],\n",
       "        [-0.6553],\n",
       "        [-0.6490],\n",
       "        [-0.6477],\n",
       "        [-0.6259],\n",
       "        [-0.6101],\n",
       "        [-0.6099],\n",
       "        [-0.6084],\n",
       "        [-0.6078],\n",
       "        [-0.6056],\n",
       "        [-0.5845],\n",
       "        [-0.5781],\n",
       "        [-0.5705],\n",
       "        [-0.5661],\n",
       "        [-0.5602],\n",
       "        [-0.5554],\n",
       "        [-0.5518],\n",
       "        [-0.5392],\n",
       "        [-0.5205],\n",
       "        [-0.5187],\n",
       "        [-0.5045],\n",
       "        [-0.4687],\n",
       "        [-0.4675],\n",
       "        [-0.4464],\n",
       "        [-0.4372],\n",
       "        [-0.4330],\n",
       "        [-0.4311],\n",
       "        [-0.3866],\n",
       "        [-0.3862],\n",
       "        [-0.3656],\n",
       "        [-0.3629],\n",
       "        [-0.3530],\n",
       "        [-0.3315],\n",
       "        [-0.3230],\n",
       "        [-0.2713],\n",
       "        [-0.2657],\n",
       "        [-0.2520],\n",
       "        [-0.2423],\n",
       "        [-0.2291],\n",
       "        [-0.2290],\n",
       "        [-0.2268],\n",
       "        [-0.2206],\n",
       "        [-0.2047],\n",
       "        [-0.2013],\n",
       "        [-0.1733],\n",
       "        [-0.1596],\n",
       "        [-0.1384],\n",
       "        [-0.1127],\n",
       "        [-0.0916],\n",
       "        [-0.0896],\n",
       "        [-0.0859],\n",
       "        [-0.0680],\n",
       "        [-0.0673],\n",
       "        [-0.0548],\n",
       "        [-0.0413],\n",
       "        [-0.0371],\n",
       "        [-0.0204],\n",
       "        [ 0.0109],\n",
       "        [ 0.0568],\n",
       "        [ 0.0605],\n",
       "        [ 0.0929],\n",
       "        [ 0.1224],\n",
       "        [ 0.1239],\n",
       "        [ 0.1406],\n",
       "        [ 0.1963],\n",
       "        [ 0.3630],\n",
       "        [ 0.4294],\n",
       "        [ 0.4909],\n",
       "        [ 0.5783],\n",
       "        [ 0.5783],\n",
       "        [ 0.6020]], grad_fn=<AddmmBackward0>)"
      ]
     },
     "execution_count": 97,
     "metadata": {},
     "output_type": "execute_result"
    }
   ],
   "source": [
    "net(x)"
   ]
  },
  {
   "cell_type": "code",
   "execution_count": 91,
   "id": "5240d6c3-183c-4496-bec1-44403a1ae6fb",
   "metadata": {
    "tags": []
   },
   "outputs": [
    {
     "data": {
      "text/plain": [
       "[<matplotlib.lines.Line2D at 0x7b051cccba30>]"
      ]
     },
     "execution_count": 91,
     "metadata": {},
     "output_type": "execute_result"
    },
    {
     "data": {
      "image/png": "[encoded data removed]",
      "text/plain": [
       "<Figure size 640x480 with 1 Axes>"
      ]
     },
     "metadata": {},
     "output_type": "display_data"
    }
   ],
   "source": [
    "plt.plot(x,y,'o')\n",
    "plt.plot(x,net(x).data,'--') # 최초의 직선"
   ]
  },
  {
   "cell_type": "code",
   "execution_count": 92,
   "id": "f716d2d3-d17d-49df-bce0-bfa77c220043",
   "metadata": {
    "tags": []
   },
   "outputs": [],
   "source": [
    "net = Net()\n",
    "loss_fn = torch.nn.MSELoss()\n",
    "optimizr = torch.optim.SGD(net.parameters(),lr=0.1)\n",
    "for epoc in range(30):\n",
    "    # 1\n",
    "    yhat = net(x)\n",
    "    # 2 \n",
    "    loss = loss_fn(yhat,y)\n",
    "    # 3 \n",
    "    loss.backward()\n",
    "    # 4 \n",
    "    optimizr.step()\n",
    "    optimizr.zero_grad()"
   ]
  },
  {
   "cell_type": "code",
   "execution_count": 93,
   "id": "bf3b1d7c-4536-4fbe-a43a-6a715778f45f",
   "metadata": {
    "tags": []
   },
   "outputs": [
    {
     "data": {
      "text/plain": [
       "[<matplotlib.lines.Line2D at 0x7b051ccb4cd0>]"
      ]
     },
     "execution_count": 93,
     "metadata": {},
     "output_type": "execute_result"
    },
    {
     "data": {
      "image/png": "[encoded data removed]",
      "text/plain": [
       "<Figure size 640x480 with 1 Axes>"
      ]
     },
     "metadata": {},
     "output_type": "display_data"
    }
   ],
   "source": [
    "plt.plot(x,y,'o')\n",
    "plt.plot(x,net(x).data,'--')"
   ]
  },
  {
   "cell_type": "markdown",
   "id": "4101790a-5e6e-4c80-adf9-ad56010daf8e",
   "metadata": {},
   "source": [
    "`#`"
   ]
  },
  {
   "cell_type": "markdown",
   "id": "55f24035-5dde-4bb7-9a33-1614272d9127",
   "metadata": {
    "tags": []
   },
   "source": [
    "## B. MF-based 추천시스템 재설계"
   ]
  },
  {
   "cell_type": "markdown",
   "id": "c3d7fb84-9d21-4cda-9f01-487af6cf576b",
   "metadata": {},
   "source": [
    "아래의 자료를 활용하여 추천시스템을 설계하고자한다. "
   ]
  },
  {
   "cell_type": "code",
   "execution_count": 128,
   "id": "23143b68-f0fb-4392-84c3-51c18749603e",
   "metadata": {
    "tags": []
   },
   "outputs": [
    {
     "data": {
      "text/html": [
       "<div>\n",
       "<style scoped>\n",
       "    .dataframe tbody tr th:only-of-type {\n",
       "        vertical-align: middle;\n",
       "    }\n",
       "\n",
       "    .dataframe tbody tr th {\n",
       "        vertical-align: top;\n",
       "    }\n",
       "\n",
       "    .dataframe thead th {\n",
       "        text-align: right;\n",
       "    }\n",
       "</style>\n",
       "<table border=\"1\" class=\"dataframe\">\n",
       "  <thead>\n",
       "    <tr style=\"text-align: right;\">\n",
       "      <th></th>\n",
       "      <th>영식(IN)</th>\n",
       "      <th>영철(IN)</th>\n",
       "      <th>영호(IS)</th>\n",
       "      <th>광수(IS)</th>\n",
       "      <th>상철(EN)</th>\n",
       "      <th>영수(EN)</th>\n",
       "      <th>규빈(ES)</th>\n",
       "      <th>다호(ES)</th>\n",
       "    </tr>\n",
       "  </thead>\n",
       "  <tbody>\n",
       "    <tr>\n",
       "      <th>옥순(IN)</th>\n",
       "      <td>NaN</td>\n",
       "      <td>4.02</td>\n",
       "      <td>3.45</td>\n",
       "      <td>3.42</td>\n",
       "      <td>0.84</td>\n",
       "      <td>1.12</td>\n",
       "      <td>0.43</td>\n",
       "      <td>0.49</td>\n",
       "    </tr>\n",
       "    <tr>\n",
       "      <th>영자(IN)</th>\n",
       "      <td>3.93</td>\n",
       "      <td>3.99</td>\n",
       "      <td>3.63</td>\n",
       "      <td>3.43</td>\n",
       "      <td>0.98</td>\n",
       "      <td>0.96</td>\n",
       "      <td>0.52</td>\n",
       "      <td>NaN</td>\n",
       "    </tr>\n",
       "    <tr>\n",
       "      <th>정숙(IS)</th>\n",
       "      <td>3.52</td>\n",
       "      <td>3.42</td>\n",
       "      <td>4.05</td>\n",
       "      <td>4.06</td>\n",
       "      <td>0.39</td>\n",
       "      <td>NaN</td>\n",
       "      <td>0.93</td>\n",
       "      <td>0.99</td>\n",
       "    </tr>\n",
       "    <tr>\n",
       "      <th>영숙(IS)</th>\n",
       "      <td>3.43</td>\n",
       "      <td>3.57</td>\n",
       "      <td>NaN</td>\n",
       "      <td>3.95</td>\n",
       "      <td>0.56</td>\n",
       "      <td>0.52</td>\n",
       "      <td>0.89</td>\n",
       "      <td>0.89</td>\n",
       "    </tr>\n",
       "    <tr>\n",
       "      <th>순자(EN)</th>\n",
       "      <td>1.12</td>\n",
       "      <td>NaN</td>\n",
       "      <td>0.59</td>\n",
       "      <td>0.43</td>\n",
       "      <td>4.01</td>\n",
       "      <td>4.16</td>\n",
       "      <td>3.52</td>\n",
       "      <td>3.38</td>\n",
       "    </tr>\n",
       "    <tr>\n",
       "      <th>현숙(EN)</th>\n",
       "      <td>0.94</td>\n",
       "      <td>1.05</td>\n",
       "      <td>0.32</td>\n",
       "      <td>0.45</td>\n",
       "      <td>4.02</td>\n",
       "      <td>3.78</td>\n",
       "      <td>NaN</td>\n",
       "      <td>3.54</td>\n",
       "    </tr>\n",
       "    <tr>\n",
       "      <th>서연(ES)</th>\n",
       "      <td>0.51</td>\n",
       "      <td>0.56</td>\n",
       "      <td>0.88</td>\n",
       "      <td>0.89</td>\n",
       "      <td>3.50</td>\n",
       "      <td>3.64</td>\n",
       "      <td>4.04</td>\n",
       "      <td>4.10</td>\n",
       "    </tr>\n",
       "    <tr>\n",
       "      <th>보람(ES)</th>\n",
       "      <td>0.48</td>\n",
       "      <td>0.51</td>\n",
       "      <td>1.03</td>\n",
       "      <td>NaN</td>\n",
       "      <td>3.52</td>\n",
       "      <td>4.00</td>\n",
       "      <td>3.82</td>\n",
       "      <td>NaN</td>\n",
       "    </tr>\n",
       "    <tr>\n",
       "      <th>하니(I)</th>\n",
       "      <td>4.85</td>\n",
       "      <td>4.82</td>\n",
       "      <td>NaN</td>\n",
       "      <td>4.98</td>\n",
       "      <td>4.53</td>\n",
       "      <td>4.39</td>\n",
       "      <td>4.45</td>\n",
       "      <td>4.52</td>\n",
       "    </tr>\n",
       "  </tbody>\n",
       "</table>\n",
       "</div>"
      ],
      "text/plain": [
       "        영식(IN)  영철(IN)  영호(IS)  광수(IS)  상철(EN)  영수(EN)  규빈(ES)  다호(ES)\n",
       "옥순(IN)     NaN    4.02    3.45    3.42    0.84    1.12    0.43    0.49\n",
       "영자(IN)    3.93    3.99    3.63    3.43    0.98    0.96    0.52     NaN\n",
       "정숙(IS)    3.52    3.42    4.05    4.06    0.39     NaN    0.93    0.99\n",
       "영숙(IS)    3.43    3.57     NaN    3.95    0.56    0.52    0.89    0.89\n",
       "순자(EN)    1.12     NaN    0.59    0.43    4.01    4.16    3.52    3.38\n",
       "현숙(EN)    0.94    1.05    0.32    0.45    4.02    3.78     NaN    3.54\n",
       "서연(ES)    0.51    0.56    0.88    0.89    3.50    3.64    4.04    4.10\n",
       "보람(ES)    0.48    0.51    1.03     NaN    3.52    4.00    3.82     NaN\n",
       "하니(I)     4.85    4.82     NaN    4.98    4.53    4.39    4.45    4.52"
      ]
     },
     "execution_count": 128,
     "metadata": {},
     "output_type": "execute_result"
    }
   ],
   "source": [
    "df_view = pd.read_csv('https://raw.githubusercontent.com/guebin/DL2024/main/posts/solo.csv',index_col=0)\n",
    "df_view"
   ]
  },
  {
   "cell_type": "code",
   "execution_count": 129,
   "id": "c8453f26-93a6-4b60-9ed5-73cdf85a01d1",
   "metadata": {
    "tags": []
   },
   "outputs": [],
   "source": [
    "df_train = df_view.stack().reset_index().set_axis(['W','M','y'],axis=1)\n",
    "w = {'옥순(IN)':0, '영자(IN)':1, '정숙(IS)':2, '영숙(IS)':3, '순자(EN)':4, '현숙(EN)':5, '서연(ES)':6, '보람(ES)':7, '하니(I)':8}\n",
    "m = {'영식(IN)':0, '영철(IN)':1, '영호(IS)':2, '광수(IS)':3, '상철(EN)':4, '영수(EN)':5, '규빈(ES)':6, '다호(ES)':7}\n",
    "X1 = torch.tensor(df_train['W'].map(w)) # length-n int vector \n",
    "X2 = torch.tensor(df_train['M'].map(m)) # length-n int vector \n",
    "y = torch.tensor(df_train['y']).float().reshape(-1,1) # (n,1) float vector"
   ]
  },
  {
   "cell_type": "markdown",
   "id": "67fb91cc-b18b-4403-a05c-ed9be8525687",
   "metadata": {},
   "source": [
    "사용자정의 네트워크를 이용하여 MF-based 추천시스템을 설계하라. "
   ]
  },
  {
   "cell_type": "markdown",
   "id": "157e6025-8bbd-4263-aaac-631538d10192",
   "metadata": {},
   "source": [
    "(풀이1) -- `net(X1,X2)`"
   ]
  },
  {
   "cell_type": "code",
   "execution_count": 130,
   "id": "38c3ae91-f198-418f-9fd3-a81fb754d8fc",
   "metadata": {
    "tags": []
   },
   "outputs": [],
   "source": [
    "class Net(torch.nn.Module):\n",
    "    def __init__(self):\n",
    "        super().__init__()\n",
    "        #--#\n",
    "        self.ebdd1 = torch.nn.Embedding(9,2)\n",
    "        self.ebdd2 = torch.nn.Embedding(8,2)\n",
    "        self.b1 = torch.nn.Embedding(9,1)\n",
    "        self.b2 = torch.nn.Embedding(8,1)\n",
    "        self.sig = torch.nn.Sigmoid()\n",
    "    def forward(self,X1,X2):\n",
    "        W_feature = self.ebdd1(X1)\n",
    "        W_bias = self.b1(X1)\n",
    "        M_feature = self.ebdd2(X2)\n",
    "        M_bias = self.b2(X2)\n",
    "        score = (W_feature * M_feature).sum(axis=1).reshape(-1,1) + W_bias + M_bias \n",
    "        yhat = sig(score) * 5 \n",
    "        return yhat"
   ]
  },
  {
   "cell_type": "code",
   "execution_count": 131,
   "id": "f4a763d2-4645-432e-807f-96ee1d44cc9a",
   "metadata": {
    "tags": []
   },
   "outputs": [],
   "source": [
    "net = Net()\n",
    "loss_fn = torch.nn.MSELoss()\n",
    "optimizr = torch.optim.Adam(net.parameters(),lr=0.1) # 이게 편해요!!\n",
    "#--# \n",
    "for epoc in range(100):\n",
    "    # 1\n",
    "    yhat = net(X1,X2) \n",
    "    # 2\n",
    "    loss = loss_fn(yhat,y)\n",
    "    # 3 \n",
    "    loss.backward()\n",
    "    # 4 \n",
    "    optimizr.step()\n",
    "    optimizr.zero_grad()"
   ]
  },
  {
   "cell_type": "code",
   "execution_count": 132,
   "id": "13574fdd-37d1-42cb-8623-cf7c2da1df1c",
   "metadata": {
    "tags": []
   },
   "outputs": [
    {
     "data": {
      "text/plain": [
       "tensor([[4.0317, 4.0200],\n",
       "        [0.5446, 0.4300],\n",
       "        [3.4643, 3.4300],\n",
       "        [3.4364, 3.4200],\n",
       "        [0.9496, 0.9900],\n",
       "        [0.6185, 0.5200],\n",
       "        [0.4837, 0.4300],\n",
       "        [0.8507, 0.9400],\n",
       "        [4.0053, 3.7800],\n",
       "        [0.8712, 0.8900],\n",
       "        [0.6029, 0.4800],\n",
       "        [3.7517, 3.8200],\n",
       "        [4.4160, 4.3900]])"
      ]
     },
     "execution_count": 132,
     "metadata": {},
     "output_type": "execute_result"
    }
   ],
   "source": [
    "torch.concat([yhat.data,y],axis=1)[::5]"
   ]
  },
  {
   "cell_type": "markdown",
   "id": "ff3688e7-98a6-4308-a052-24eab4bf2634",
   "metadata": {},
   "source": [
    "(풀이2) -- `net(X)`"
   ]
  },
  {
   "cell_type": "code",
   "execution_count": 137,
   "id": "d071d522",
   "metadata": {},
   "outputs": [
    {
     "data": {
      "text/plain": [
       "(torch.Size([63]), torch.Size([63]))"
      ]
     },
     "execution_count": 137,
     "metadata": {},
     "output_type": "execute_result"
    }
   ],
   "source": [
    "X1.shape , X2.shape"
   ]
  },
  {
   "cell_type": "code",
   "execution_count": 139,
   "id": "a1d5df19-0796-446e-a285-9df9a336f12c",
   "metadata": {
    "tags": []
   },
   "outputs": [
    {
     "data": {
      "text/plain": [
       "(tensor([[0, 1],\n",
       "         [0, 2],\n",
       "         [0, 3],\n",
       "         [0, 4],\n",
       "         [0, 5]]),\n",
       " torch.Size([63, 2]))"
      ]
     },
     "execution_count": 139,
     "metadata": {},
     "output_type": "execute_result"
    }
   ],
   "source": [
    "X = torch.stack([X1,X2],axis=1)\n",
    "X[:5] , X.shape"
   ]
  },
  {
   "cell_type": "code",
   "execution_count": 140,
   "id": "030d6434-a850-4a63-86f7-33c43dfe6016",
   "metadata": {
    "tags": []
   },
   "outputs": [
    {
     "data": {
      "text/plain": [
       "(tensor([0, 0, 0, 0, 0, 0, 0, 1, 1, 1, 1, 1, 1, 1, 2, 2, 2, 2, 2, 2, 2, 3, 3, 3,\n",
       "         3, 3, 3, 3, 4, 4, 4, 4, 4, 4, 4, 5, 5, 5, 5, 5, 5, 5, 6, 6, 6, 6, 6, 6,\n",
       "         6, 6, 7, 7, 7, 7, 7, 7, 8, 8, 8, 8, 8, 8, 8]),\n",
       " tensor([1, 2, 3, 4, 5, 6, 7, 0, 1, 2, 3, 4, 5, 6, 0, 1, 2, 3, 4, 6, 7, 0, 1, 3,\n",
       "         4, 5, 6, 7, 0, 2, 3, 4, 5, 6, 7, 0, 1, 2, 3, 4, 5, 7, 0, 1, 2, 3, 4, 5,\n",
       "         6, 7, 0, 1, 2, 4, 5, 6, 0, 1, 3, 4, 5, 6, 7]))"
      ]
     },
     "execution_count": 140,
     "metadata": {},
     "output_type": "execute_result"
    }
   ],
   "source": [
    "X[:,0], X[:,1]"
   ]
  },
  {
   "cell_type": "code",
   "execution_count": 141,
   "id": "74dbc47f-1236-4030-b6f9-44814dee2696",
   "metadata": {
    "tags": []
   },
   "outputs": [],
   "source": [
    "class Net(torch.nn.Module):\n",
    "    def __init__(self):\n",
    "        super().__init__()\n",
    "        #--#\n",
    "        self.ebdd1 = torch.nn.Embedding(9,2)\n",
    "        self.ebdd2 = torch.nn.Embedding(8,2)\n",
    "        self.b1 = torch.nn.Embedding(9,1)\n",
    "        self.b2 = torch.nn.Embedding(8,1)\n",
    "        self.sig = torch.nn.Sigmoid()\n",
    "    def forward(self,X):\n",
    "        X1,X2 = X[:,0],X[:,1]\n",
    "        W_feature = self.ebdd1(X1)\n",
    "        W_bias = self.b1(X1)\n",
    "        M_feature = self.ebdd2(X2)\n",
    "        M_bias = self.b2(X2)\n",
    "        score = (W_feature * M_feature).sum(axis=1).reshape(-1,1) + W_bias + M_bias \n",
    "        yhat = sig(score) * 5 \n",
    "        return yhat"
   ]
  },
  {
   "cell_type": "code",
   "execution_count": 38,
   "id": "0ecbec60-fc8a-433c-a6ce-3ba5a5b64d79",
   "metadata": {
    "tags": []
   },
   "outputs": [],
   "source": [
    "net = Net()\n",
    "loss_fn = torch.nn.MSELoss()\n",
    "optimizr = torch.optim.Adam(net.parameters(),lr=0.1) # 이게 편해요!!\n",
    "#--# \n",
    "for epoc in range(100):\n",
    "    # 1\n",
    "    yhat = net(X) \n",
    "    # 2\n",
    "    loss = loss_fn(yhat,y)\n",
    "    # 3 \n",
    "    loss.backward()\n",
    "    # 4 \n",
    "    optimizr.step()\n",
    "    optimizr.zero_grad()"
   ]
  },
  {
   "cell_type": "code",
   "execution_count": null,
   "id": "5527bfd7-36de-48bd-9258-c33f01547d50",
   "metadata": {
    "tags": []
   },
   "outputs": [],
   "source": [
    "torch.concat([yhat.data,y],axis=1)[::5]"
   ]
  },
  {
   "cell_type": "markdown",
   "id": "8b8cb063-00fd-43e8-8ad0-8a60ceff00e9",
   "metadata": {},
   "source": [
    "# 5. NN-based 추천시스템"
   ]
  },
  {
   "cell_type": "markdown",
   "id": "43f7fedb-79dc-48c2-b792-6040c574c94e",
   "metadata": {},
   "source": [
    "## A. NN-based 방식 "
   ]
  },
  {
   "cell_type": "markdown",
   "id": "a23f4d96-8ae2-41d4-a130-a77890ab330a",
   "metadata": {},
   "source": [
    "아래의 자료를 활용하여 추천시스템을 설계하고자한다. "
   ]
  },
  {
   "cell_type": "code",
   "execution_count": 102,
   "id": "1351ee6f-0b65-4f43-94d2-00afabfc4601",
   "metadata": {
    "tags": []
   },
   "outputs": [
    {
     "data": {
      "text/html": [
       "<div>\n",
       "<style scoped>\n",
       "    .dataframe tbody tr th:only-of-type {\n",
       "        vertical-align: middle;\n",
       "    }\n",
       "\n",
       "    .dataframe tbody tr th {\n",
       "        vertical-align: top;\n",
       "    }\n",
       "\n",
       "    .dataframe thead th {\n",
       "        text-align: right;\n",
       "    }\n",
       "</style>\n",
       "<table border=\"1\" class=\"dataframe\">\n",
       "  <thead>\n",
       "    <tr style=\"text-align: right;\">\n",
       "      <th></th>\n",
       "      <th>영식(IN)</th>\n",
       "      <th>영철(IN)</th>\n",
       "      <th>영호(IS)</th>\n",
       "      <th>광수(IS)</th>\n",
       "      <th>상철(EN)</th>\n",
       "      <th>영수(EN)</th>\n",
       "      <th>규빈(ES)</th>\n",
       "      <th>다호(ES)</th>\n",
       "    </tr>\n",
       "  </thead>\n",
       "  <tbody>\n",
       "    <tr>\n",
       "      <th>옥순(IN)</th>\n",
       "      <td>NaN</td>\n",
       "      <td>4.02</td>\n",
       "      <td>3.45</td>\n",
       "      <td>3.42</td>\n",
       "      <td>0.84</td>\n",
       "      <td>1.12</td>\n",
       "      <td>0.43</td>\n",
       "      <td>0.49</td>\n",
       "    </tr>\n",
       "    <tr>\n",
       "      <th>영자(IN)</th>\n",
       "      <td>3.93</td>\n",
       "      <td>3.99</td>\n",
       "      <td>3.63</td>\n",
       "      <td>3.43</td>\n",
       "      <td>0.98</td>\n",
       "      <td>0.96</td>\n",
       "      <td>0.52</td>\n",
       "      <td>NaN</td>\n",
       "    </tr>\n",
       "    <tr>\n",
       "      <th>정숙(IS)</th>\n",
       "      <td>3.52</td>\n",
       "      <td>3.42</td>\n",
       "      <td>4.05</td>\n",
       "      <td>4.06</td>\n",
       "      <td>0.39</td>\n",
       "      <td>NaN</td>\n",
       "      <td>0.93</td>\n",
       "      <td>0.99</td>\n",
       "    </tr>\n",
       "    <tr>\n",
       "      <th>영숙(IS)</th>\n",
       "      <td>3.43</td>\n",
       "      <td>3.57</td>\n",
       "      <td>NaN</td>\n",
       "      <td>3.95</td>\n",
       "      <td>0.56</td>\n",
       "      <td>0.52</td>\n",
       "      <td>0.89</td>\n",
       "      <td>0.89</td>\n",
       "    </tr>\n",
       "    <tr>\n",
       "      <th>순자(EN)</th>\n",
       "      <td>1.12</td>\n",
       "      <td>NaN</td>\n",
       "      <td>0.59</td>\n",
       "      <td>0.43</td>\n",
       "      <td>4.01</td>\n",
       "      <td>4.16</td>\n",
       "      <td>3.52</td>\n",
       "      <td>3.38</td>\n",
       "    </tr>\n",
       "    <tr>\n",
       "      <th>현숙(EN)</th>\n",
       "      <td>0.94</td>\n",
       "      <td>1.05</td>\n",
       "      <td>0.32</td>\n",
       "      <td>0.45</td>\n",
       "      <td>4.02</td>\n",
       "      <td>3.78</td>\n",
       "      <td>NaN</td>\n",
       "      <td>3.54</td>\n",
       "    </tr>\n",
       "    <tr>\n",
       "      <th>서연(ES)</th>\n",
       "      <td>0.51</td>\n",
       "      <td>0.56</td>\n",
       "      <td>0.88</td>\n",
       "      <td>0.89</td>\n",
       "      <td>3.50</td>\n",
       "      <td>3.64</td>\n",
       "      <td>4.04</td>\n",
       "      <td>4.10</td>\n",
       "    </tr>\n",
       "    <tr>\n",
       "      <th>보람(ES)</th>\n",
       "      <td>0.48</td>\n",
       "      <td>0.51</td>\n",
       "      <td>1.03</td>\n",
       "      <td>NaN</td>\n",
       "      <td>3.52</td>\n",
       "      <td>4.00</td>\n",
       "      <td>3.82</td>\n",
       "      <td>NaN</td>\n",
       "    </tr>\n",
       "    <tr>\n",
       "      <th>하니(I)</th>\n",
       "      <td>4.85</td>\n",
       "      <td>4.82</td>\n",
       "      <td>NaN</td>\n",
       "      <td>4.98</td>\n",
       "      <td>4.53</td>\n",
       "      <td>4.39</td>\n",
       "      <td>4.45</td>\n",
       "      <td>4.52</td>\n",
       "    </tr>\n",
       "  </tbody>\n",
       "</table>\n",
       "</div>"
      ],
      "text/plain": [
       "        영식(IN)  영철(IN)  영호(IS)  광수(IS)  상철(EN)  영수(EN)  규빈(ES)  다호(ES)\n",
       "옥순(IN)     NaN    4.02    3.45    3.42    0.84    1.12    0.43    0.49\n",
       "영자(IN)    3.93    3.99    3.63    3.43    0.98    0.96    0.52     NaN\n",
       "정숙(IS)    3.52    3.42    4.05    4.06    0.39     NaN    0.93    0.99\n",
       "영숙(IS)    3.43    3.57     NaN    3.95    0.56    0.52    0.89    0.89\n",
       "순자(EN)    1.12     NaN    0.59    0.43    4.01    4.16    3.52    3.38\n",
       "현숙(EN)    0.94    1.05    0.32    0.45    4.02    3.78     NaN    3.54\n",
       "서연(ES)    0.51    0.56    0.88    0.89    3.50    3.64    4.04    4.10\n",
       "보람(ES)    0.48    0.51    1.03     NaN    3.52    4.00    3.82     NaN\n",
       "하니(I)     4.85    4.82     NaN    4.98    4.53    4.39    4.45    4.52"
      ]
     },
     "execution_count": 102,
     "metadata": {},
     "output_type": "execute_result"
    }
   ],
   "source": [
    "df_view = pd.read_csv('https://raw.githubusercontent.com/guebin/DL2024/main/posts/solo.csv',index_col=0)\n",
    "df_view"
   ]
  },
  {
   "cell_type": "code",
   "execution_count": 103,
   "id": "2d522a56-bcf5-45f0-8c10-342e14a7002f",
   "metadata": {
    "tags": []
   },
   "outputs": [],
   "source": [
    "df_train = df_view.stack().reset_index().set_axis(['W','M','y'],axis=1)\n",
    "w = {'옥순(IN)':0, '영자(IN)':1, '정숙(IS)':2, '영숙(IS)':3, '순자(EN)':4, '현숙(EN)':5, '서연(ES)':6, '보람(ES)':7, '하니(I)':8}\n",
    "m = {'영식(IN)':0, '영철(IN)':1, '영호(IS)':2, '광수(IS)':3, '상철(EN)':4, '영수(EN)':5, '규빈(ES)':6, '다호(ES)':7}\n",
    "X1 = torch.tensor(df_train['W'].map(w)) # length-n int vector \n",
    "X2 = torch.tensor(df_train['M'].map(m)) # length-n int vector \n",
    "y = torch.tensor(df_train['y']).float().reshape(-1,1) # (n,1) float vector"
   ]
  },
  {
   "cell_type": "code",
   "execution_count": 111,
   "id": "dfa65752",
   "metadata": {},
   "outputs": [
    {
     "data": {
      "text/plain": [
       "(tensor([0, 0, 0, 0, 0, 0, 0, 1, 1, 1, 1, 1, 1, 1, 2, 2, 2, 2, 2, 2, 2, 3, 3, 3,\n",
       "         3, 3, 3, 3, 4, 4, 4, 4, 4, 4, 4, 5, 5, 5, 5, 5, 5, 5, 6, 6, 6, 6, 6, 6,\n",
       "         6, 6, 7, 7, 7, 7, 7, 7, 8, 8, 8, 8, 8, 8, 8]),\n",
       " tensor([1, 2, 3, 4, 5, 6, 7, 0, 1, 2, 3, 4, 5, 6, 0, 1, 2, 3, 4, 6, 7, 0, 1, 3,\n",
       "         4, 5, 6, 7, 0, 2, 3, 4, 5, 6, 7, 0, 1, 2, 3, 4, 5, 7, 0, 1, 2, 3, 4, 5,\n",
       "         6, 7, 0, 1, 2, 4, 5, 6, 0, 1, 3, 4, 5, 6, 7]))"
      ]
     },
     "execution_count": 111,
     "metadata": {},
     "output_type": "execute_result"
    }
   ],
   "source": [
    "X1 , X2"
   ]
  },
  {
   "cell_type": "markdown",
   "id": "789f3f42-c30b-441f-b4c2-e31309239ebb",
   "metadata": {},
   "source": [
    "NN-based 추천시스템을 설계하라. "
   ]
  },
  {
   "cell_type": "markdown",
   "id": "10020c6b-4f3f-4c62-92ef-1e8233be9a8b",
   "metadata": {},
   "source": [
    "(풀이1) -- 실패"
   ]
  },
  {
   "cell_type": "code",
   "execution_count": 104,
   "id": "7103a280-dcc4-4d00-950e-fcac841f4312",
   "metadata": {
    "tags": []
   },
   "outputs": [],
   "source": [
    "class Net(torch.nn.Module):\n",
    "    def __init__(self):\n",
    "        super().__init__()\n",
    "        #--#\n",
    "        self.ebdd1 = torch.nn.Embedding(9,2)\n",
    "        self.ebdd2 = torch.nn.Embedding(8,2)\n",
    "        self.b1 = torch.nn.Embedding(9,1)\n",
    "        self.b2 = torch.nn.Embedding(8,1)\n",
    "        self.mlp = torch.nn.Sequential(\n",
    "            torch.nn.Linear(6,1),\n",
    "            torch.nn.Sigmoid()\n",
    "        )   \n",
    "    def forward(self,X1,X2):\n",
    "        W_feature = self.ebdd1(X1)\n",
    "        M_feature = self.ebdd2(X2)\n",
    "        W_bias = self.b1(X1)\n",
    "        M_bias = self.b2(X2)\n",
    "        Z = torch.concat([W_feature,M_feature,W_bias,M_bias],axis=1)\n",
    "        yhat = self.mlp(Z) * 5 \n",
    "        return yhat"
   ]
  },
  {
   "cell_type": "code",
   "execution_count": 105,
   "id": "db750148-e75a-49da-885a-73c1ecf1ea34",
   "metadata": {
    "tags": []
   },
   "outputs": [],
   "source": [
    "net = Net()\n",
    "loss_fn = torch.nn.MSELoss()\n",
    "optimizr = torch.optim.Adam(net.parameters(),lr=0.1) # 이게 편해요!!\n",
    "#--# \n",
    "for epoc in range(1000):\n",
    "    # 1\n",
    "    yhat = net(X1,X2) \n",
    "    # 2\n",
    "    loss = loss_fn(yhat,y)\n",
    "    # 3 \n",
    "    loss.backward()\n",
    "    # 4 \n",
    "    optimizr.step()\n",
    "    optimizr.zero_grad()"
   ]
  },
  {
   "cell_type": "code",
   "execution_count": 121,
   "id": "cedcd6e5",
   "metadata": {},
   "outputs": [
    {
     "data": {
      "text/plain": [
       "torch.Size([63, 2])"
      ]
     },
     "execution_count": 121,
     "metadata": {},
     "output_type": "execute_result"
    }
   ],
   "source": [
    "X1.shape , X2.shape\n",
    "torch.stack([X1,X2],axis=1).shape\n",
    "# torch.concat([X1,X2],axis=0).shape"
   ]
  },
  {
   "cell_type": "code",
   "execution_count": 109,
   "id": "efaec3ad",
   "metadata": {},
   "outputs": [
    {
     "data": {
      "text/plain": [
       "[Parameter containing:\n",
       " tensor([[-0.8352, -0.1074],\n",
       "         [-0.2523,  0.4612],\n",
       "         [-0.8948, -1.1775],\n",
       "         [-0.7251,  0.9839],\n",
       "         [-0.2631,  0.0970],\n",
       "         [-0.4959,  0.3298],\n",
       "         [-0.6047, -0.8093],\n",
       "         [-0.0632,  1.5813],\n",
       "         [ 2.8293, -1.8899]], requires_grad=True),\n",
       " Parameter containing:\n",
       " tensor([[ 1.1596,  0.5711],\n",
       "         [-0.3716, -1.0846],\n",
       "         [ 0.5865,  0.9773],\n",
       "         [-0.9223,  1.2665],\n",
       "         [ 0.6264, -0.9327],\n",
       "         [-0.7263, -0.5299],\n",
       "         [ 1.7419,  0.7298],\n",
       "         [-0.2238, -0.1756]], requires_grad=True),\n",
       " Parameter containing:\n",
       " tensor([[ 0.1390],\n",
       "         [ 1.0122],\n",
       "         [ 1.8643],\n",
       "         [ 0.9084],\n",
       "         [ 0.6220],\n",
       "         [-0.3849],\n",
       "         [-0.0273],\n",
       "         [ 0.4759],\n",
       "         [ 0.2202]], requires_grad=True),\n",
       " Parameter containing:\n",
       " tensor([[-0.8319],\n",
       "         [-0.2118],\n",
       "         [-0.7348],\n",
       "         [ 1.8677],\n",
       "         [-1.1760],\n",
       "         [ 1.4584],\n",
       "         [ 0.0911],\n",
       "         [-0.3168]], requires_grad=True),\n",
       " Parameter containing:\n",
       " tensor([[ 0.7336, -0.2068, -0.0762, -0.1471,  0.1857,  0.1084]],\n",
       "        requires_grad=True),\n",
       " Parameter containing:\n",
       " tensor([0.1234], requires_grad=True)]"
      ]
     },
     "execution_count": 109,
     "metadata": {},
     "output_type": "execute_result"
    }
   ],
   "source": [
    "list(net.parameters())"
   ]
  },
  {
   "cell_type": "code",
   "execution_count": 125,
   "id": "f6f2ec15",
   "metadata": {},
   "outputs": [
    {
     "data": {
      "text/plain": [
       "(torch.Size([63, 1]), torch.Size([63, 1]))"
      ]
     },
     "execution_count": 125,
     "metadata": {},
     "output_type": "execute_result"
    }
   ],
   "source": [
    "yhat.shape , y.shape"
   ]
  },
  {
   "cell_type": "code",
   "execution_count": 127,
   "id": "b3361aa2-94cc-4367-87ab-3564afea76a4",
   "metadata": {
    "tags": []
   },
   "outputs": [
    {
     "data": {
      "text/plain": [
       "(tensor([[2.1566, 4.0200],\n",
       "         [1.6908, 0.4300],\n",
       "         [2.6466, 3.4300],\n",
       "         [2.7759, 3.4200],\n",
       "         [2.5815, 0.9900],\n",
       "         [2.3104, 0.5200],\n",
       "         [2.6402, 0.4300],\n",
       "         [1.7232, 0.9400],\n",
       "         [2.3892, 3.7800],\n",
       "         [2.4107, 0.8900],\n",
       "         [1.9775, 0.4800],\n",
       "         [2.0164, 3.8200],\n",
       "         [4.7447, 4.3900]]),\n",
       " torch.Size([63, 2]))"
      ]
     },
     "execution_count": 127,
     "metadata": {},
     "output_type": "execute_result"
    }
   ],
   "source": [
    "torch.concat([yhat.data,y],axis=1)[::5] , torch.concat([yhat.data,y],axis=1).shape"
   ]
  },
  {
   "cell_type": "markdown",
   "id": "c7bd3df4-328b-4d00-b57b-e6b6d3e3d42a",
   "metadata": {},
   "source": [
    "- 못하겠네?"
   ]
  },
  {
   "cell_type": "markdown",
   "id": "ad6dd805-0fe0-4e80-aff7-d5d69fd9baa9",
   "metadata": {},
   "source": [
    "(풀이2) -- 에라 모르겠다 깊은신경망.. "
   ]
  },
  {
   "cell_type": "code",
   "execution_count": 45,
   "id": "eb7b4c62-25c9-43b5-9c23-81023c731113",
   "metadata": {
    "tags": []
   },
   "outputs": [],
   "source": [
    "class Net(torch.nn.Module):\n",
    "    def __init__(self):\n",
    "        super().__init__()\n",
    "        #--#\n",
    "        self.ebdd1 = torch.nn.Embedding(9,2)\n",
    "        self.ebdd2 = torch.nn.Embedding(8,2)\n",
    "        self.b1 = torch.nn.Embedding(9,1)\n",
    "        self.b2 = torch.nn.Embedding(8,1)\n",
    "        self.mlp = torch.nn.Sequential(\n",
    "            torch.nn.Linear(6,15),\n",
    "            torch.nn.ReLU(),\n",
    "            torch.nn.Linear(15,15),\n",
    "            torch.nn.ReLU(),\n",
    "            torch.nn.Linear(15,1),\n",
    "            torch.nn.Sigmoid()\n",
    "        )   \n",
    "    def forward(self,X1,X2):\n",
    "        W_feature = self.ebdd1(X1)\n",
    "        M_feature = self.ebdd2(X2)\n",
    "        W_bias = self.b1(X1)\n",
    "        M_bias = self.b2(X2)\n",
    "        Z = torch.concat([W_feature,M_feature,W_bias,M_bias],axis=1)\n",
    "        yhat = self.mlp(Z) * 5 \n",
    "        return yhat"
   ]
  },
  {
   "cell_type": "code",
   "execution_count": 46,
   "id": "920d811c-844a-4e91-855a-ae8886407c7b",
   "metadata": {
    "tags": []
   },
   "outputs": [],
   "source": [
    "torch.manual_seed(43052)\n",
    "net = Net()\n",
    "loss_fn = torch.nn.MSELoss()\n",
    "optimizr = torch.optim.Adam(net.parameters(),lr=0.1) # 이게 편해요!!\n",
    "#--# \n",
    "for epoc in range(1000):\n",
    "    # 1\n",
    "    yhat = net(X1,X2) \n",
    "    # 2\n",
    "    loss = loss_fn(yhat,y)\n",
    "    # 3 \n",
    "    loss.backward()\n",
    "    # 4 \n",
    "    optimizr.step()\n",
    "    optimizr.zero_grad()"
   ]
  },
  {
   "cell_type": "code",
   "execution_count": null,
   "id": "594c1a90-9ec1-47c6-ab15-fd8f6b050caf",
   "metadata": {
    "tags": []
   },
   "outputs": [],
   "source": [
    "torch.concat([yhat.data,y],axis=1)[::5]"
   ]
  },
  {
   "cell_type": "markdown",
   "id": "543e5dcf-e691-4037-a323-0133b89c9895",
   "metadata": {},
   "source": [
    "- 잘 맞추긴했는데 불안함"
   ]
  },
  {
   "cell_type": "code",
   "execution_count": null,
   "id": "1f0b7bb1-f025-4b90-8fb6-49070ed70cc6",
   "metadata": {
    "tags": []
   },
   "outputs": [],
   "source": [
    "df_view"
   ]
  },
  {
   "cell_type": "markdown",
   "id": "ea48e096-41e6-41c4-b9e2-1333e1bee280",
   "metadata": {},
   "source": [
    "(옥순-영식), (영자-다호), (하니-영호) 를 예측해보자. "
   ]
  },
  {
   "cell_type": "code",
   "execution_count": 49,
   "id": "bb83cd8a-6911-4b4d-a491-ac1f0dbceeba",
   "metadata": {
    "tags": []
   },
   "outputs": [],
   "source": [
    "XX1 = torch.tensor([0,1,8])\n",
    "XX2 = torch.tensor([1,7,2])"
   ]
  },
  {
   "cell_type": "code",
   "execution_count": null,
   "id": "9e2ca08f-479d-4b43-91ce-eb1b0f8b47dd",
   "metadata": {
    "tags": []
   },
   "outputs": [],
   "source": [
    "net(XX1,XX2)"
   ]
  },
  {
   "cell_type": "markdown",
   "id": "2e2cd14f-b680-439e-a5b4-79037e980a8a",
   "metadata": {},
   "source": [
    "그럴싸함.. (오버피팅 아닌듯)"
   ]
  },
  {
   "cell_type": "markdown",
   "id": "5bd3c5c4-6faf-4f55-a556-24379ac853ea",
   "metadata": {},
   "source": [
    "## B. NCF [@he2017neural]"
   ]
  },
  {
   "cell_type": "markdown",
   "id": "1894aec0-b2f4-4174-8e28-2db759fdd929",
   "metadata": {
    "tags": []
   },
   "source": [
    "![](https://github.com/guebin/DL2024/blob/main/posts/NCF.png?raw=true)"
   ]
  },
  {
   "cell_type": "markdown",
   "id": "abfb17fb-1bd3-4f5a-bb9d-7826d81ccb5d",
   "metadata": {
    "tags": []
   },
   "source": [
    "# A1. 자잘한 용어 정리 ($\\star$)"
   ]
  },
  {
   "cell_type": "markdown",
   "id": "d2ca9abd-2fb1-42da-9f2a-9b35103469af",
   "metadata": {
    "jp-MarkdownHeadingCollapsed": true,
    "tags": []
   },
   "source": [
    "## A. 지도학습 \n",
    "\n",
    "`-` 우리가 수업에서 다루는 데이터는 주로 아래와 같은 느낌이다. \n",
    "\n",
    "1.  데이터는 $(X,y)$의 형태로 정리되어 있다. \n",
    "\n",
    "2.  $y$는 우리가 관심이 있는 변수이다. 즉 우리는 $y$를 적절하게 추정하는 것에 관심이 있다.\n",
    "\n",
    "3.  $X$는 $y$를 추정하기 위해 필요한 정보이다.\n",
    "\n",
    "|  $X$ = 설명변수 = 독립변수   | $y$ = 반응변수 = 종속변수  |     비고     |     순서     |           예시           |\n",
    "|:-------------:|:-------------:|:-------------:|:-------------:|:-------------:|\n",
    "|            이미지            |          카테고리          | 합성곱신경망 |   상관없음   |  개/고양이 이미지 구분   |\n",
    "|         유저,아이템          |            평점            |  추천시스템  |   상관없음   |    넷플릭스 영화추천     |\n",
    "|     과거~오늘까지의주가      |          내일주가          |  순환신경망  | 순서상관있음 |         주가예측         |\n",
    "| 처음 $m$개의 단어(혹은 문장) | 이후 1개의 단어(혹은 문장) |  순환신경망  | 순서상관있음 |     챗봇, 텍스트생성     |\n",
    "| 처음 $m$개의 단어(혹은 문장) |          카테고리          |  순환신경망  | 순서상관있음 | 영화리뷰 텍스트 감정분류 |\n",
    "\n",
    "`-` 이러한 문제상황, 즉 $(X,y)$가 주어졌을때 $X \\to y$를 추정하는 문제를 supervised learning 이라한다. "
   ]
  },
  {
   "cell_type": "markdown",
   "id": "1da83b5f-8c9f-4f9e-bcca-62b617c64262",
   "metadata": {},
   "source": [
    "## B. 모델이란? "
   ]
  },
  {
   "cell_type": "markdown",
   "id": "733ab3ae-e3fe-4d9a-83b0-6243f63dc2e9",
   "metadata": {},
   "source": [
    "> 모델이란 단어는 제 발작버튼이었어요.. "
   ]
  },
  {
   "cell_type": "markdown",
   "id": "91de74aa-3c49-46ff-8209-bc6dfdeb72ef",
   "metadata": {},
   "source": [
    "`-` 통계학에서 모델은 y와 x의 관계를 의미하며 오차항의 설계를 포함하는 개념이다. 이는 통계학이 \"데이터 = 정보 + 오차\"의 관점을 유지하기 때문이다. 따라서 통계학에서 모델링이란 \n",
    "\n",
    "$$y_i = net(x_i) + \\epsilon_i$$\n",
    "\n",
    "에서 (1) 적절한 함수 $net$를 선택하는 일 (2) 적절한 오차항 $\\epsilon_i$ 을 설계하는일 모두를 포함한다. "
   ]
  },
  {
   "cell_type": "markdown",
   "id": "2bad2223-39f8-41b8-8fbc-3054d6de9e55",
   "metadata": {},
   "source": [
    "`-` 딥러닝 혹은 머신러닝에서 모델은 단순히\n",
    "\n",
    "$$y_i \\approx net(x_i)$$\n",
    "\n",
    "를 의미하는 경우가 많다. 즉 \"model=net\"라고 생각해도 무방하다. 이 경우 \"모델링\"이란 단순히 적절한 $net$을 설계하는 것만을 의미할 경우가 많다. "
   ]
  },
  {
   "cell_type": "markdown",
   "id": "acc25997-0a27-422d-985a-d5f3ff4744e6",
   "metadata": {},
   "source": [
    "`-` 그래서 생긴일\n",
    "\n",
    "- 통계학교재 특: 분류문제와 회귀문제를 엄밀하게 구분하지 않는다. 사실 오차항만 다를뿐이지 크게보면 같은 회귀모형이라는 관점이다. 그래서 일반화선형모형(GLM)이라는 용어를 쓴다. \n",
    "- 머신러닝/딥러닝교재 특: 회귀문제와 분류문제를 구분해서 설명한다. (표도 만듦) 이는 오차항에 대한 기술을 모호하게 하여 생기는 현상이다."
   ]
  },
  {
   "cell_type": "markdown",
   "id": "897fa4f1-6e6c-49de-bedb-e4330908f951",
   "metadata": {
    "tags": []
   },
   "source": [
    "## C. 학습이란? \n",
    "\n",
    "`-` 학습이란 주어진 자료 $(X,y)$를 잘 분석하여 $X$에서 $y$로 가는 어떠한 “규칙” 혹은 “원리”를 찾는 것이다.\n",
    "\n",
    "-   학습이란 주어진 자료 $(X,y)$를 잘 분석하여 $X$에서 $y$로 가는 어떠한 “맵핑”을 찾는 것이다.\n",
    "-   학습이란 주어진 자료 $(X,y)$를 잘 분석하여 $X$에서 $y$로 가는 어떠한 \"함수”을 찾는 것이다. 즉 $y\\approx f(X)$가 되도록 만드는 $f$를 잘 찾는 것이다. (이 경우 \"함수를 추정한다\"라고 표현)\n",
    "-   학습이란 주어진 자료 $(X,y)$를 잘 분석하여 $X$에서 $y$로 가는 어떠한 “모델” 혹은 \"모형\"을 찾는 것이다. 즉 $y\\approx model(X)$가 되도록 만드는 $model$을 잘 찾는 것이다. (이 경우 \"모형을 학습시킨다\"라고 표현)\n",
    "-   **학습이란 주어진 자료 $(X,y)$를 잘 분석하여 $X$에서 $y$로 가는 어떠한 “네트워크”을 찾는 것이다. 즉 $y\\approx net(X)$가 되도록 만드는 $net$을 잘 찾는 것이다. (이 경우 \"네트워크를 학습시킨다\"라고 표현)**\n",
    "\n",
    "`-` prediction이란 학습과정에서 찾은 “규칙” 혹은 “원리”를 $X$에 적용하여 $\\hat{y}$을 구하는 과정이다. 학습과정에서 찾은 규칙 혹은 원리는 $f$,$model$,$net$ 으로 생각가능한데 이에 따르면 아래가 성립한다.\n",
    "\n",
    "-   $\\hat{y} = f(X)$\n",
    "-   $\\hat{y} = model(X)$\n",
    "-   $\\hat{y} = net(X)$"
   ]
  },
  {
   "cell_type": "markdown",
   "id": "d8c7488d-5ba5-4bd9-bdcc-9082b5148585",
   "metadata": {
    "tags": []
   },
   "source": [
    "## D. $\\hat{y}$를 부르는 다양한 이름\n",
    "\n",
    "`-` $\\hat{y}$는 $X$가 주어진 자료에 있는 값인지 아니면 새로운 값 인지에 따라 지칭하는 이름이 미묘하게 다르다.\n",
    "\n",
    "1.  $X \\in data$: $\\hat{y}=net(X)$ 는 predicted value, fitted value 라고 부른다.\n",
    "\n",
    "2.  $X \\notin data$: $\\hat{y}=net(X)$ 는 predicted value, predicted\n",
    "    value with new data 라고 부른다."
   ]
  },
  {
   "cell_type": "markdown",
   "id": "761fe5b1-16f8-4532-8d23-a881580cf82a",
   "metadata": {
    "tags": []
   },
   "source": [
    "## E. 다양한 코드들 "
   ]
  },
  {
   "cell_type": "markdown",
   "id": "779c54ca-f8ea-4550-91a5-831550560108",
   "metadata": {
    "tags": []
   },
   "source": [
    "\n",
    "`-` 파이썬 코드..\n",
    "\n",
    "```Python\n",
    "#Python\n",
    "predictor.fit(X,y) # autogluon 에서 \"학습\"을 의미하는 과정\n",
    "model.fit(X,y) # sklearn 에서 \"학습\"을 의미하는 과정\n",
    "learner.learn() # fastai 에서 \"학습\"을 의미하는 과정\n",
    "learner.fine_tune(1) # fastai 에서 \"부분학습\"을 의미하는 과정\n",
    "learner.predict(cat1) # fastai 에서 \"예측\"을 의미하는 과정 \n",
    "model.fit(x, y, batch_size=32, epochs=10) # keras에서 \"학습\"을 의미하는 과정\n",
    "model.predict(test_img) # keras에서 \"예측\"을 의미하는 과정 \n",
    "```\n",
    "\n",
    "`-` R 코드..\n",
    "\n",
    "```r\n",
    "# R\n",
    "ols <- lm(y~x) # 선형회귀분석에서 학습을 의미하는 함수\n",
    "ols$fitted.values # 선형회귀분석에서 yhat을 출력 \n",
    "predict(ols, newdata=test) # 선형회귀분석에서 test에 대한 예측값을 출력하는 함수\n",
    "ols$coef # 선형회귀분석에서 weight를 확인하는 방법\n",
    "```\n"
   ]
  },
  {
   "cell_type": "markdown",
   "id": "6c99de41-10f5-449e-b0d6-f545a3056a06",
   "metadata": {
    "tags": []
   },
   "source": [
    "# A2. 참고자료들 "
   ]
  },
  {
   "cell_type": "markdown",
   "id": "55e94f48-50b4-4113-b1d6-9b6af3d24dff",
   "metadata": {},
   "source": [
    "`-` 케라스/텐서플로우: <https://guebin.github.io/STBDA2022/>"
   ]
  },
  {
   "cell_type": "markdown",
   "id": "6e34a8e1-12b8-47a1-8b3b-961b9999b2c8",
   "metadata": {},
   "source": [
    "`-` 상속: <https://guebin.github.io/PP2023/posts/03_Class/2023-06-12-15wk-1.html>"
   ]
  },
  {
   "cell_type": "markdown",
   "id": "7af6d7e3-9f75-4a05-a000-91a93999667d",
   "metadata": {},
   "source": [
    "`-` sklearn/autogluon: <https://guebin.github.io/MP2023/>"
   ]
  },
  {
   "cell_type": "markdown",
   "id": "1cfe7410-b8cf-4595-9eb0-7a0981f1e436",
   "metadata": {
    "tags": []
   },
   "source": [
    "`-` 리눅스관련: <https://guebin.github.io/DSTBX2024/> -- 자료 부실함.. 강의영상 없는것 많음.. "
   ]
  },
  {
   "cell_type": "markdown",
   "id": "3cfc6d67-6549-4270-8862-0d181496c034",
   "metadata": {},
   "source": [
    "`-` 클래스기본: <https://guebin.github.io/PP2023/> -- `10wk-2` ~ `15wk-1`"
   ]
  }
 ],
 "metadata": {
  "kernelspec": {
   "display_name": "Python 3 (ipykernel)",
   "language": "python",
   "name": "python3"
  },
  "language_info": {
   "codemirror_mode": {
    "name": "ipython",
    "version": 3
   },
   "file_extension": ".py",
   "mimetype": "text/x-python",
   "name": "python",
   "nbconvert_exporter": "python",
   "pygments_lexer": "ipython3",
   "version": "3.8.19"
  }
 },
 "nbformat": 4,
 "nbformat_minor": 5
}
