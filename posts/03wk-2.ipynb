{
 "cells": [
  {
   "cell_type": "raw",
   "id": "0ffd2ed3-3589-47da-9fe0-d7e5049b9bb3",
   "metadata": {
    "id": "87b5cded-346b-4915-acf5-b5ec93a5207d"
   },
   "source": [
    "---\n",
    "title: \"03wk-2: 깊은 신경망 (1) -- 로지스틱의 한계 극복\"\n",
    "author: \"최규빈\"\n",
    "date: \"03/20/2024\"\n",
    "---"
   ]
  },
  {
   "cell_type": "markdown",
   "id": "d4d9c828-e959-497b-887d-f60466e285aa",
   "metadata": {
    "id": "e67ab8e0"
   },
   "source": [
    "<a href=\"https://colab.research.google.com/github/guebin/DL2024/blob/main/posts/03wk-2.ipynb\"><img src=\"https://colab.research.google.com/assets/colab-badge.svg\" style=\"text-align: left\"></a>"
   ]
  },
  {
   "cell_type": "markdown",
   "id": "e43b7b0e-a8f7-4033-bef0-67ef15689a0d",
   "metadata": {
    "id": "4d47a7c9"
   },
   "source": [
    "# 1. 강의영상"
   ]
  },
  {
   "cell_type": "markdown",
   "id": "9a704c88-c8e0-43aa-91e4-bf3e783fb827",
   "metadata": {
    "tags": []
   },
   "source": [
    "{{<video https://youtu.be/playlist?list=PLQqh36zP38-y4BW27vnVa08AtMixu1IwL&si=v_BjoNGj2eVBht3Z >}}"
   ]
  },
  {
   "cell_type": "markdown",
   "id": "e59faca4-3f0b-46b6-a445-9d809545a428",
   "metadata": {},
   "source": [
    "# 2. Imports"
   ]
  },
  {
   "cell_type": "code",
   "execution_count": null,
   "id": "dd3e2acd-7950-4fb9-96cd-3a598686b677",
   "metadata": {
    "tags": []
   },
   "outputs": [],
   "source": [
    "import torch\n",
    "import matplotlib.pyplot as plt \n",
    "import pandas as pd"
   ]
  },
  {
   "cell_type": "markdown",
   "id": "b1a77149-823e-44b0-b722-532033a37f66",
   "metadata": {},
   "source": [
    "# 3. 꺽인그래프를 만드는 방법 "
   ]
  },
  {
   "cell_type": "markdown",
   "id": "02c58b9b-c1bb-4fc2-bd11-57fc8edef4b7",
   "metadata": {},
   "source": [
    "`-` 로지스틱의 한계를 극복하기 위해서는 시그모이드를 취하기 전에 꺽인 그래프 모양을 만드는 기술이 있어야겠음. "
   ]
  },
  {
   "cell_type": "markdown",
   "id": "989a0e62-fe4d-45d2-bbc5-4aea24b45902",
   "metadata": {},
   "source": [
    "`-` 아래와 같은 벡터 ${\\boldsymbol x}$를 가정하자. "
   ]
  },
  {
   "cell_type": "code",
   "execution_count": null,
   "id": "b7342520-6750-4952-a629-44a0d0fdec7f",
   "metadata": {
    "tags": []
   },
   "outputs": [],
   "source": [
    "x = torch.linspace(-1,1,1001).reshape(-1,1)\n",
    "x"
   ]
  },
  {
   "cell_type": "markdown",
   "id": "1e798759-1b2a-4a5d-bae2-73225c76a9d9",
   "metadata": {},
   "source": [
    "`-` 목표: 아래와 같은 벡터 ${\\boldsymbol y}$를 만들어보자.\n",
    "\n",
    "$${\\boldsymbol y} = [y_1,y_2,\\dots,y_{n}], \\quad y_i = \\begin{cases} 9x_i +4.5& x_i <0 \\\\ -4.5x_i + 4.5& x_i >0 \\end{cases}$$"
   ]
  },
  {
   "cell_type": "markdown",
   "id": "0f904078-fa39-44d2-b944-45b9865db054",
   "metadata": {},
   "source": [
    "## A. 방법1"
   ]
  },
  {
   "cell_type": "code",
   "execution_count": null,
   "id": "da54ec95-ed9f-4205-b4af-02f769e7d196",
   "metadata": {
    "tags": []
   },
   "outputs": [],
   "source": [
    "y = x*0     # 0으로 초기화\n",
    "y[x<0] = (9*x+4.5)[x<0]\n",
    "y[x>0] = (-4.5*x+4.5)[x>0]"
   ]
  },
  {
   "cell_type": "code",
   "execution_count": null,
   "id": "19605fdc-b9b0-4b7e-8db7-b1f51be238ca",
   "metadata": {
    "tags": []
   },
   "outputs": [],
   "source": [
    "plt.plot(y,'--')"
   ]
  },
  {
   "cell_type": "markdown",
   "id": "7261722e-6932-461a-baec-83dd63c2fb0b",
   "metadata": {
    "tags": []
   },
   "source": [
    "\n",
    "::: {.callout-note}\n",
    "\n",
    "\n",
    "강의영상에 보셨듯이 아래의 코드실행결과는 다르게 나옵니다. \n",
    "\n",
    "```Python\n",
    "## 아래를 실행하면 꺽인선이 나오는데용...\n",
    "x = torch.linspace(-1,1,1001).reshape(-1,1)\n",
    "y = x*0 + x \n",
    "y[x<0] = (9*x+4.5)[x<0]\n",
    "y[x>0] = (-4.5*x+4.5)[x>0]\n",
    "plt.plot(x,y)\n",
    "```\n",
    "\n",
    "```Python\n",
    "## 이걸 실행하면 그냥 직선이 나옵니다...\n",
    "x = torch.linspace(-1,1,1001).reshape(-1,1)\n",
    "y = x \n",
    "y[x<0] = (9*x+4.5)[x<0]\n",
    "y[x>0] = (-4.5*x+4.5)[x>0]\n",
    "plt.plot(x,y)\n",
    "```\n",
    "\n",
    "다르게 나오는 이유가 너무 궁금하시다면 아래의 링크로 가셔서 깊은복사/얕은복사에 대한 개념을 이해하시면 됩니다. (그렇지만 가능하다면 궁금해하지 마세요.....)\n",
    "\n",
    "- [깊은복사 얕은복사 강의들으러 가기](https://guebin.github.io/PP2023/posts/2023-06-21-13wk-1.html)\n",
    "\n",
    "\n",
    ":::\n",
    "\n"
   ]
  },
  {
   "cell_type": "markdown",
   "id": "ffb25ce6-7945-49ad-8464-f204678676d5",
   "metadata": {
    "tags": []
   },
   "source": [
    "## B. 방법2 -- 렐루이용 "
   ]
  },
  {
   "cell_type": "code",
   "execution_count": null,
   "id": "8771d2bb-4dda-4c11-8479-0191a6582079",
   "metadata": {
    "tags": []
   },
   "outputs": [],
   "source": [
    "relu = torch.nn.ReLU()"
   ]
  },
  {
   "cell_type": "code",
   "execution_count": null,
   "id": "15dfca77-f1ea-4ecc-bfe3-12199323e2fe",
   "metadata": {
    "tags": []
   },
   "outputs": [],
   "source": [
    "plt.plot(relu(x),'--',label=r'$relu(x)$')\n",
    "plt.plot(relu(-x),'--',label=r'$relu(-x)$')\n",
    "plt.legend()"
   ]
  },
  {
   "cell_type": "code",
   "execution_count": null,
   "id": "74392d57-82a2-4ca8-a216-d6e5bdf5dad4",
   "metadata": {
    "tags": []
   },
   "outputs": [],
   "source": [
    "plt.plot(-4.5*relu(x),'--',label=r'$-4.5\\times relu(x) + 4.5$')\n",
    "plt.plot(-9*relu(-x),'--',label=r'$-9\\times relu(-x) + 4.5$')\n",
    "plt.legend()"
   ]
  },
  {
   "cell_type": "code",
   "execution_count": null,
   "id": "e22e7d43-df43-40e1-ac0d-3e4841e8ccc4",
   "metadata": {
    "tags": []
   },
   "outputs": [],
   "source": [
    "plt.plot(-4.5*relu(x)-9*relu(-x),'--',label=r'$-4.5\\times relu(x) -9 \\times relu(-x)$')\n",
    "plt.plot(y,'--',label=r'$y$')\n",
    "plt.plot(-4.5*relu(x)-9*relu(-x)+4.5,'--',label=r'$-4.5\\times relu(x) -9 \\times relu(-x)+4.5$')\n",
    "plt.legend()"
   ]
  },
  {
   "cell_type": "markdown",
   "id": "3f56739d",
   "metadata": {},
   "source": [
    "`-` 우리의 목표: 저 초록선에서 시그모이드를 태우면된다. 즉 아래의 느낌임 "
   ]
  },
  {
   "cell_type": "code",
   "execution_count": null,
   "id": "ad85c852-0782-4548-a215-ce1730cd8885",
   "metadata": {
    "tags": []
   },
   "outputs": [],
   "source": [
    "sig = torch.nn.Sigmoid()"
   ]
  },
  {
   "cell_type": "code",
   "execution_count": null,
   "id": "f2c297fd",
   "metadata": {
    "tags": []
   },
   "outputs": [],
   "source": [
    "fig = plt.figure(figsize=(8, 4))\n",
    "spec = fig.add_gridspec(4, 4)\n",
    "ax1 = fig.add_subplot(spec[:2,0]); ax1.set_title(r'$x$'); ax1.set_ylim(-1,1)\n",
    "ax2 = fig.add_subplot(spec[2:,0]); ax2.set_title(r'$-x$'); ax2.set_ylim(-1,1)\n",
    "ax3 = fig.add_subplot(spec[:2,1]); ax3.set_title(r'$relu(x)$'); ax3.set_ylim(-1,1)\n",
    "ax4 = fig.add_subplot(spec[2:,1]); ax4.set_title(r'$relu(-x)$'); ax4.set_ylim(-1,1)\n",
    "ax5 = fig.add_subplot(spec[1:3,2]); ax5.set_title(r'$-4.5 relu(x)-9 relu(-x)+4.5$')\n",
    "ax6 = fig.add_subplot(spec[1:3,3]); ax6.set_title('sig(...)');\n",
    "#---#\n",
    "ax1.plot(x,'--',color='C0')\n",
    "ax2.plot(-x,'--',color='C1')\n",
    "ax3.plot(relu(x),'--',color='C0')\n",
    "ax4.plot(relu(-x),'--',color='C1')\n",
    "ax5.plot(-4.5*relu(x)-9*relu(-x)+4.5,'--',color='C2')\n",
    "ax6.plot(sig(-4.5*relu(x)-9*relu(-x)+4.5),'--',color='C2')\n",
    "fig.tight_layout()"
   ]
  },
  {
   "cell_type": "markdown",
   "id": "e288f1a4-6772-4d0d-bfff-dac0aea8a5a0",
   "metadata": {},
   "source": [
    "## C. 방법2의 다른구현  "
   ]
  },
  {
   "cell_type": "markdown",
   "id": "9edde4cf-3730-46b2-a135-a25eb05e6664",
   "metadata": {},
   "source": [
    "`-` 렐루이용하여 만드는 방법 정리 \n",
    "\n",
    "1. 벡터 x와 relu함수를 준비한다.\n",
    "2. u = [x,-x] 를 계산한다. \n",
    "3. v = [relu(x), relu(-x)] 를 계산한다. \n",
    "4. y = -4.5 * relu(x) + 9 * relu(-x) +4.5 를 계산한다. "
   ]
  },
  {
   "cell_type": "markdown",
   "id": "f9fe8c8a-5284-40f2-ab4d-6412c12bfdb9",
   "metadata": {},
   "source": [
    "`-` 1단계"
   ]
  },
  {
   "cell_type": "code",
   "execution_count": null,
   "id": "034b25f9-ac00-4489-ad2d-2ddcc4867657",
   "metadata": {
    "tags": []
   },
   "outputs": [],
   "source": [
    "x,relu"
   ]
  },
  {
   "cell_type": "markdown",
   "id": "25aa9ff3-c31a-48bc-b2df-ac1ebd5cffb8",
   "metadata": {},
   "source": [
    "`-` 2단계 "
   ]
  },
  {
   "cell_type": "code",
   "execution_count": null,
   "id": "11ece33a-b1dd-4a87-ad89-3f844a7fac7a",
   "metadata": {
    "tags": []
   },
   "outputs": [],
   "source": [
    "u = torch.concat([x,-x],axis=1) # u = [x, -x] 같은것\n",
    "u"
   ]
  },
  {
   "cell_type": "markdown",
   "id": "7127d713-410b-403c-97e9-d6955ec1bdf5",
   "metadata": {},
   "source": [
    "`-` 3단계"
   ]
  },
  {
   "cell_type": "code",
   "execution_count": null,
   "id": "f9f574aa-a216-4051-86f2-67ff3c3a4de5",
   "metadata": {
    "tags": []
   },
   "outputs": [],
   "source": [
    "v = relu(u) # 각각의 column에 렐루취함\n",
    "v,v.shape"
   ]
  },
  {
   "cell_type": "markdown",
   "id": "a0b568cf-6aab-4bff-96aa-8611fbf947de",
   "metadata": {},
   "source": [
    "`-` 4단계 "
   ]
  },
  {
   "cell_type": "code",
   "execution_count": null,
   "id": "d755be3a",
   "metadata": {},
   "outputs": [],
   "source": [
    "v[:,[0]]     # v의 첫번째 열을 slicing하는 방법\n",
    "v[:,[0]].shape"
   ]
  },
  {
   "cell_type": "code",
   "execution_count": null,
   "id": "64d7ec7b-cc5c-41e8-9af9-8d44c491867d",
   "metadata": {
    "tags": []
   },
   "outputs": [],
   "source": [
    "-4.5 * v[:,[0]] - 9.0 * v[:,[1]] +4.5   # 첫 번째 열과 ,두 번째 열에 각각 선형변환한걸 서로 합침"
   ]
  },
  {
   "cell_type": "code",
   "execution_count": null,
   "id": "95af1027-0139-4a03-b345-8e8384d7e208",
   "metadata": {
    "tags": []
   },
   "outputs": [],
   "source": [
    "y, y.shape"
   ]
  },
  {
   "cell_type": "markdown",
   "id": "8e86ace5-ac43-489b-ba90-ff63bf3f962f",
   "metadata": {},
   "source": [
    "`-` 그런데, 4단계는 아래와 같이 볼 수 있다. "
   ]
  },
  {
   "cell_type": "markdown",
   "id": "3cd82d3e-252d-4113-980b-848be7ce840a",
   "metadata": {},
   "source": [
    "- ${\\boldsymbol v}\\begin{bmatrix} -4.5 \\\\ -9.0 \\end{bmatrix} + 4.5 = \\begin{bmatrix} \n",
    "v_{11} & v_{12}  \\\\ \n",
    "v_{21} & v_{22}  \\\\ \n",
    "\\dots & \\dots  \\\\ \n",
    "v_{n1} & v_{n2}  \\\\ \n",
    "\\end{bmatrix}\\begin{bmatrix} -4.5 \\\\ -9.0 \\end{bmatrix} + 4.5 = \n",
    "\\begin{bmatrix} \n",
    "-4.5 v_{11} - 9.0 v_{12} + 4.5  \\\\ \n",
    "-4.5 v_{21} - 9.0 v_{22} + 4.5  \\\\ \n",
    "\\dots \\\\ \n",
    "-4.5 v_{n1} - 9.0 v_{n2} + 4.5 \\\\ \n",
    "\\end{bmatrix}$"
   ]
  },
  {
   "cell_type": "markdown",
   "id": "18c2fa80-c589-4206-a5a8-79de294d8b4f",
   "metadata": {},
   "source": [
    "위의 수식을 참고하여 매트릭스의 곱 형태로 다시 포현하면 아래와 같다. "
   ]
  },
  {
   "cell_type": "code",
   "execution_count": null,
   "id": "966a4c2e",
   "metadata": {},
   "outputs": [],
   "source": [
    "What = torch.tensor([[-4.5],[9.0]])\n",
    "v@What+4.5"
   ]
  },
  {
   "cell_type": "code",
   "execution_count": null,
   "id": "f1d597b6-709f-4cc9-8e59-731cc924015d",
   "metadata": {
    "tags": []
   },
   "outputs": [],
   "source": [
    "#-4.5 * v[:,[0]] - 9.0 * v[:,[1]] +4.5\n",
    "What = torch.tensor([[-4.5],[-9.0]]) \n",
    "v @ What + 4.5 "
   ]
  },
  {
   "cell_type": "markdown",
   "id": "39831593-3a96-40a7-bf48-1f94d61f48c3",
   "metadata": {},
   "source": [
    "이제 매트릭스의 곱 대신에 `torch.nn.Linear()`를 이용하면 아래의 코드와 같아진다. "
   ]
  },
  {
   "cell_type": "code",
   "execution_count": null,
   "id": "543f25db-81d4-4662-a708-0183d86764e8",
   "metadata": {
    "tags": []
   },
   "outputs": [],
   "source": [
    "l2 = torch.nn.Linear(\n",
    "    in_features=2,\n",
    "    out_features=1 \n",
    "    # bias = true\n",
    ")"
   ]
  },
  {
   "cell_type": "code",
   "execution_count": null,
   "id": "22965f65-445b-4763-a436-22f9fb71cfbd",
   "metadata": {
    "tags": []
   },
   "outputs": [],
   "source": [
    "l2.weight.data = torch.tensor([[-4.5,-9.0]])\n",
    "l2.bias.data = torch.tensor([4.5])"
   ]
  },
  {
   "cell_type": "code",
   "execution_count": null,
   "id": "dc9dfde0-707c-4f99-8151-b895729a0d9a",
   "metadata": {
    "tags": []
   },
   "outputs": [],
   "source": [
    "l2(v)"
   ]
  },
  {
   "cell_type": "code",
   "execution_count": null,
   "id": "efbca6c3",
   "metadata": {},
   "outputs": [],
   "source": [
    "print(v.shape)\n",
    "print(l2(v).shape)"
   ]
  },
  {
   "cell_type": "markdown",
   "id": "cd37db59-1ac6-4c71-9f4b-d0349f3d2410",
   "metadata": {},
   "source": [
    "`-` 사실 2단계도 아래와 같이 볼 수 있다. "
   ]
  },
  {
   "cell_type": "markdown",
   "id": "cf2900b6",
   "metadata": {},
   "source": [
    "$$\\begin{bmatrix}\n",
    "x_1 \\\\\n",
    "x_2 \\\\\n",
    "\\dots \\\\ \n",
    "x_n \n",
    "\\end{bmatrix}\\begin{bmatrix} 1 & -1 \\end{bmatrix} = \\begin{bmatrix} x_1 & -x_1 \\\\ x_2 & -x_2 \\\\ \\dots & \\dots \\\\ x_n & -x_n \\end{bmatrix}$$"
   ]
  },
  {
   "cell_type": "code",
   "execution_count": null,
   "id": "c3679474-9661-4415-aa2f-eb9bff07ffe7",
   "metadata": {
    "tags": []
   },
   "outputs": [],
   "source": [
    "#u = torch.concat([x,-x],axis=1) # u1 = [x, -x] 같은것"
   ]
  },
  {
   "cell_type": "code",
   "execution_count": null,
   "id": "416a91c3",
   "metadata": {
    "tags": []
   },
   "outputs": [],
   "source": [
    "l1 = torch.nn.Linear(1,2)\n",
    "l1.weight.data = torch.tensor([[1.0],[-1.0]])\n",
    "l1.bias.data = torch.tensor([0.0,0.0])"
   ]
  },
  {
   "cell_type": "code",
   "execution_count": null,
   "id": "5741e0e4",
   "metadata": {
    "tags": []
   },
   "outputs": [],
   "source": [
    "l1(x)"
   ]
  },
  {
   "cell_type": "markdown",
   "id": "ba9b1998-ddcc-46e0-8078-a62ba68365f5",
   "metadata": {},
   "source": [
    "`-` 따라서 `torch.nn` 에 포함된 레이어를 이용하면 아래와 같이 표현할 할 수 있다. "
   ]
  },
  {
   "cell_type": "code",
   "execution_count": null,
   "id": "5e0f02d7",
   "metadata": {
    "tags": []
   },
   "outputs": [],
   "source": [
    "l1 = torch.nn.Linear(1,2)\n",
    "l1.weight.data = torch.tensor([[1.0],[-1.0]])\n",
    "l1.bias.data = torch.tensor([0.0,0.0])\n",
    "a1 = torch.nn.ReLU()\n",
    "l2 = torch.nn.Linear(2,1)\n",
    "l2.weight.data = torch.tensor([[-4.5,-9.0]])\n",
    "l2.bias.data = torch.tensor([4.5])"
   ]
  },
  {
   "cell_type": "code",
   "execution_count": null,
   "id": "86d2a237",
   "metadata": {
    "tags": []
   },
   "outputs": [],
   "source": [
    "plt.plot(x,l2(a1(l1(x))).data)"
   ]
  },
  {
   "cell_type": "code",
   "execution_count": null,
   "id": "47d0eb41",
   "metadata": {},
   "outputs": [],
   "source": [
    "l2(a1(l1(x))) == y # 서로 똑같아"
   ]
  },
  {
   "cell_type": "markdown",
   "id": "bbebb8b3-da93-4c58-acbb-be98a65b2467",
   "metadata": {},
   "source": [
    "`-` 각각의 layer를 `torch.nn.Sequential()` 로 묶으면 아래와 같이 정리할 수 있다. "
   ]
  },
  {
   "cell_type": "code",
   "execution_count": null,
   "id": "19054fca",
   "metadata": {
    "tags": []
   },
   "outputs": [],
   "source": [
    "net = torch.nn.Sequential(\n",
    "    torch.nn.Linear(1,2),\n",
    "    torch.nn.ReLU(),\n",
    "    torch.nn.Linear(2,1)\n",
    ")\n",
    "l1,a1,l2 = net\n",
    "# net.weight.data 의 차원은 (out_features,in_features)\n",
    "l1.weight.data = torch.tensor([[1.0],[-1.0]])  # l1 의 weigh.data의 차원은 2x1\n",
    "l1.bias.data = torch.tensor([0.0,0.0])\n",
    "l2.weight.data = torch.tensor([[-4.5,-9.0]])   # l2 의 weigh.data의 차원은 1x2\n",
    "l2.bias.data = torch.tensor([4.5])"
   ]
  },
  {
   "cell_type": "code",
   "execution_count": null,
   "id": "d203e846",
   "metadata": {
    "tags": []
   },
   "outputs": [],
   "source": [
    "net(x)==y    # 서로 같다"
   ]
  },
  {
   "cell_type": "code",
   "execution_count": null,
   "id": "463ac1ab",
   "metadata": {},
   "outputs": [],
   "source": [
    "plt.plot(x,net(x).data)"
   ]
  },
  {
   "cell_type": "markdown",
   "id": "af9c39f2",
   "metadata": {},
   "source": [
    "## D. 수식표현"
   ]
  },
  {
   "cell_type": "markdown",
   "id": "12b0219e-2883-4128-b22b-bfe36039dda1",
   "metadata": {
    "tags": []
   },
   "source": [
    "`(1)` ${\\bf X}=\\begin{bmatrix} x_1 \\\\ \\dots \\\\ x_n \\end{bmatrix}$\n",
    "\n",
    "`(2)`\n",
    "$l_1({\\bf X})={\\bf X}{\\bf W}^{(1)}\\overset{bc}{+} {\\boldsymbol b}^{(1)}=\\begin{bmatrix} x_1 & -x_1 \\\\ x_2 & -x_2 \\\\ \\dots & \\dots \\\\ x_n & -x_n\\end{bmatrix}$\n",
    "\n",
    "-   ${\\bf W}^{(1)}=\\begin{bmatrix} 1 & -1 \\end{bmatrix}$\n",
    "-   ${\\boldsymbol b}^{(1)}=\\begin{bmatrix} 0 & 0 \\end{bmatrix}$\n",
    "\n",
    "`(3)`\n",
    "$(a_1\\circ l_1)({\\bf X})=\\text{relu}\\big({\\bf X}{\\bf W}^{(1)}\\overset{bc}{+}{\\boldsymbol b}^{(1)}\\big)=\\begin{bmatrix} \\text{relu}(x_1) & \\text{relu}(-x_1) \\\\ \\text{relu}(x_2) & \\text{relu}(-x_2) \\\\ \\dots & \\dots \\\\ \\text{relu}(x_n) & \\text{relu}(-x_n)\\end{bmatrix}$\n",
    "\n",
    "`(4)`\n",
    "$(l_2 \\circ a_1\\circ l_1)({\\bf X})=\\text{relu}\\big({\\bf X}{\\bf W}^{(1)}\\overset{bc}{+}{\\boldsymbol b}^{(1)}\\big){\\bf W}^{(2)}\\overset{bc}{+}b^{(2)}$\n",
    "\n",
    "$\\quad=\\begin{bmatrix} -4.5\\times\\text{relu}(x_1) -9.0 \\times \\text{relu}(-x_1) +4.5 \\\\ -4.5\\times\\text{relu}(x_2) -9.0 \\times\\text{relu}(-x_2) + 4.5 \\\\ \\dots \\\\ -4.5\\times \\text{relu}(x_n) -9.0 \\times\\text{relu}(-x_n)+4.5 \\end{bmatrix}$\n",
    "\n",
    "-   ${\\bf W}^{(2)}=\\begin{bmatrix} -4.5 \\\\ -9 \\end{bmatrix}$\n",
    "-   $b^{(2)}=4.5$\n",
    "\n",
    "`(5)`\n",
    "$net({\\bf X})=(l_2 \\circ a_1\\circ l_1)({\\bf X})=\\text{relu}\\big({\\bf X}{\\bf W}^{(1)}\\overset{bc}{+}{\\boldsymbol b}^{(1)}\\big){\\bf W}^{(2)}\\overset{bc}{+}b^{(2)}$\n",
    "\n",
    "$\\quad =\\begin{bmatrix} -4.5\\times\\text{relu}(x_1) -9.0 \\times \\text{relu}(-x_1) +4.5 \\\\ -4.5\\times\\text{relu}(x_2) -9.0 \\times\\text{relu}(-x_2) + 4.5 \\\\ \\dots \\\\ -4.5\\times \\text{relu}(x_n) -9.0 \\times\\text{relu}(-x_n)+4.5 \\end{bmatrix}$"
   ]
  },
  {
   "cell_type": "markdown",
   "id": "170fae5c",
   "metadata": {},
   "source": [
    "# 4. 로지스틱의 한계 극복"
   ]
  },
  {
   "cell_type": "markdown",
   "id": "57d1d63d-769d-4484-85cd-e37480512b72",
   "metadata": {},
   "source": [
    "## A. 데이터 "
   ]
  },
  {
   "cell_type": "code",
   "execution_count": null,
   "id": "9eef0054-a918-43dc-8c63-827c57b589dc",
   "metadata": {
    "tags": []
   },
   "outputs": [],
   "source": [
    "df = pd.read_csv(\"https://raw.githubusercontent.com/guebin/DL2024/main/posts/dnnex.csv\")\n",
    "df"
   ]
  },
  {
   "cell_type": "code",
   "execution_count": null,
   "id": "f9c64252-10e4-436f-a33d-60232b7812b5",
   "metadata": {
    "tags": []
   },
   "outputs": [],
   "source": [
    "x = torch.tensor(df.x).float().reshape(-1,1)\n",
    "y = torch.tensor(df.y).float().reshape(-1,1)\n",
    "prob = torch.tensor(df.prob).float().reshape(-1,1)"
   ]
  },
  {
   "cell_type": "code",
   "execution_count": null,
   "id": "625869c1-cdf7-46d1-84c0-a942b9b15ce6",
   "metadata": {
    "tags": []
   },
   "outputs": [],
   "source": [
    "plt.plot(x,y,'o',alpha=0.02)\n",
    "plt.plot(x[0],y[0],'o',label= r\"observed data = $(x_i,y_i)$\",color=\"C0\")\n",
    "plt.plot(x,prob,'--b',label= r\"prob (true, unknown)\")\n",
    "plt.legend()"
   ]
  },
  {
   "cell_type": "markdown",
   "id": "e3d8901a-8c7e-42a7-94f5-c2eef9dd4e13",
   "metadata": {},
   "source": [
    "## B. Step 1~4"
   ]
  },
  {
   "cell_type": "markdown",
   "id": "d01729ef-aee9-4cdc-a3b2-087964170767",
   "metadata": {
    "tags": []
   },
   "source": [
    "`-` Step1에 대한 생각: 네트워크를 어떻게 만들까? = 아키텍처를 어떻게 만들까? = 모델링 "
   ]
  },
  {
   "cell_type": "markdown",
   "id": "9ce4a326-b64d-43eb-9be4-9220ffc52eb6",
   "metadata": {
    "tags": []
   },
   "source": [
    "\n",
    "\n",
    "$$\\underset{(n,1)}{\\bf X} \\overset{l_1}{\\to} \\underset{(n,2)}{\\boldsymbol u^{(1)}} \\overset{a_1}{\\to} \\underset{(n,2)}{\\boldsymbol v^{(1)}} \\overset{l_1}{\\to} \\underset{(n,1)}{\\boldsymbol u^{(2)}} \\overset{a_2}{\\to} \\underset{(n,1)}{\\boldsymbol v^{(2)}}=\\underset{(n,1)}{\\hat{\\boldsymbol y}}$$"
   ]
  },
  {
   "cell_type": "markdown",
   "id": "13a2cb19-f999-46ce-8d34-42870e59294d",
   "metadata": {
    "tags": []
   },
   "source": [
    "`-` Step2,3,4 는 너무 뻔해서.."
   ]
  },
  {
   "cell_type": "code",
   "execution_count": null,
   "id": "5ae66d1c",
   "metadata": {},
   "outputs": [],
   "source": [
    "torch.manual_seed(43052)\n",
    "net = torch.nn.Sequential(\n",
    "    torch.nn.Linear(1,2),\n",
    "    torch.nn.ReLU(),\n",
    "    torch.nn.Linear(2,1),\n",
    "    torch.nn.Sigmoid()\n",
    ")\n",
    "# list unpacking\n",
    "l1,a1,l2,a2=net \n",
    "\n",
    "# initial value\n",
    "l1.weight.data=torch.tensor([[1.0],[-1.0]])\n",
    "l1.bias.data=torch.tensor([[0.0,0.0]])\n",
    "l2.weight.data=torch.tensor([[-4.5,-9.0]])\n",
    "l2.bias.data = torch.tensor([4.5])\n",
    "\n",
    "# optimizer\n",
    "optimizr = torch.optim.Adam(net.parameters(),lr=0.001)\n",
    "\n",
    "# loss\n",
    "loss_fn=torch.nn.BCELoss()\n",
    "for epoc in range(3000):\n",
    "    # step1 yhat\n",
    "    yhat =net(x)\n",
    "    # step2 loss\n",
    "    loss = loss_fn(yhat,y)\n",
    "    # step3 differntial\n",
    "    loss.backward()\n",
    "    # step4 update with optim\n",
    "    optimizr.step()\n",
    "    optimizr.zero_grad()"
   ]
  },
  {
   "cell_type": "code",
   "execution_count": null,
   "id": "e3d05bed-d4d5-4266-b069-dba1f85d4d78",
   "metadata": {
    "tags": []
   },
   "outputs": [],
   "source": [
    "torch.manual_seed(43052)\n",
    "net = torch.nn.Sequential(\n",
    "    torch.nn.Linear(1,2),\n",
    "    torch.nn.ReLU(),\n",
    "    torch.nn.Linear(2,1),\n",
    "    torch.nn.Sigmoid()\n",
    ")\n",
    "loss_fn = torch.nn.BCELoss()\n",
    "optimizr = torch.optim.Adam(net.parameters())\n",
    "#---#\n",
    "for epoc in range(3000):\n",
    "    ## step 1\n",
    "    yhat = net(x)\n",
    "    ## step 2\n",
    "    loss = loss_fn(yhat,y)\n",
    "    ## step 3\n",
    "    loss.backward()\n",
    "    ## step 4\n",
    "    optimizr.step()\n",
    "    optimizr.zero_grad()"
   ]
  },
  {
   "cell_type": "code",
   "execution_count": null,
   "id": "ba69a29c-39b6-4714-920f-791956adf2a5",
   "metadata": {
    "tags": []
   },
   "outputs": [],
   "source": [
    "plt.plot(x,y,'o',alpha=0.02)\n",
    "plt.plot(x[0],y[0],'o',label= r\"observed data = $(x_i,y_i)$\",color=\"C0\")\n",
    "plt.plot(x,prob,'--b',label= r\"prob (true, unknown)\")\n",
    "plt.plot(x,net(x).data,'--',label=\"prob (estimated) -- after 3000 epochs\")\n",
    "plt.legend()"
   ]
  },
  {
   "cell_type": "code",
   "execution_count": null,
   "id": "05f6f9a4-c15b-4c52-854a-515f30375865",
   "metadata": {
    "tags": []
   },
   "outputs": [],
   "source": [
    "for epoc in range(3000):\n",
    "    ## \n",
    "    yhat = net(x)\n",
    "    ## \n",
    "    loss = loss_fn(yhat,y)\n",
    "    ## \n",
    "    loss.backward()\n",
    "    ## \n",
    "    optimizr.step()\n",
    "    optimizr.zero_grad()"
   ]
  },
  {
   "cell_type": "code",
   "execution_count": null,
   "id": "72bfb73b-928a-4ac9-83ba-4fd790579516",
   "metadata": {
    "tags": []
   },
   "outputs": [],
   "source": [
    "plt.plot(x,y,'o',alpha=0.02)\n",
    "plt.plot(x[0],y[0],'o',label= r\"observed data = $(x_i,y_i)$\",color=\"C0\")\n",
    "plt.plot(x,prob,'--b',label= r\"prob (true, unknown)\")\n",
    "plt.plot(x,net(x).data,'--',label=\"prob (estimated) -- after 6000 epochs\")\n",
    "plt.legend()"
   ]
  }
 ],
 "metadata": {
  "kernelspec": {
   "display_name": "Python 3 (ipykernel)",
   "language": "python",
   "name": "python3"
  },
  "language_info": {
   "codemirror_mode": {
    "name": "ipython",
    "version": 3
   },
   "file_extension": ".py",
   "mimetype": "text/x-python",
   "name": "python",
   "nbconvert_exporter": "python",
   "pygments_lexer": "ipython3",
   "version": "3.8.19"
  }
 },
 "nbformat": 4,
 "nbformat_minor": 5
}
