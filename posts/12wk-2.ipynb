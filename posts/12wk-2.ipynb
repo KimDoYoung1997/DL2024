{
 "cells": [
  {
   "cell_type": "raw",
   "id": "2c011390",
   "metadata": {},
   "source": [
    "---\n",
    "title: \"12wk-2: 순환신경망 (3) -- `RNN`, `LSTM`\"\n",
    "author: \"최규빈\"\n",
    "date: \"05/21/2024\"\n",
    "---"
   ]
  },
  {
   "cell_type": "markdown",
   "id": "3165ef5b-7740-4afd-9ef5-c0aa0d68f797",
   "metadata": {
    "id": "e67ab8e0"
   },
   "source": [
    "<a href=\"https://colab.research.google.com/github/guebin/DL2024/blob/main/posts/12wk-2.ipynb\"><img src=\"https://colab.research.google.com/assets/colab-badge.svg\" style=\"text-align: left\"></a>"
   ]
  },
  {
   "cell_type": "markdown",
   "id": "efa2f4bb-a2a0-4943-a6e8-d6c82e63e31b",
   "metadata": {},
   "source": [
    "# 1. 강의영상 "
   ]
  },
  {
   "cell_type": "markdown",
   "id": "a2cab7e2-b35c-470e-a0b3-798e6eef29d7",
   "metadata": {
    "tags": []
   },
   "source": [
    "{{<video https://youtu.be/playlist?list=PLQqh36zP38-xq0bBQn8ZP607mS0ZKI8Sg&si=-cQULuc2x7noftgE >}}"
   ]
  },
  {
   "cell_type": "markdown",
   "id": "c23fb097-5c0e-4020-93d3-0e7e0aa3076f",
   "metadata": {
    "tags": []
   },
   "source": [
    "# 2. Import"
   ]
  },
  {
   "cell_type": "code",
   "execution_count": 1,
   "id": "ae13ade3-992a-40fa-a77c-dd7af67f2ee1",
   "metadata": {
    "tags": []
   },
   "outputs": [],
   "source": [
    "import torch\n",
    "import pandas as pd\n",
    "import matplotlib.pyplot as plt"
   ]
  },
  {
   "cell_type": "code",
   "execution_count": 2,
   "id": "420cfa15-75f5-4a1a-a411-bbfbe2110c72",
   "metadata": {
    "tags": []
   },
   "outputs": [],
   "source": [
    "soft = torch.nn.Softmax(dim=1)"
   ]
  },
  {
   "cell_type": "markdown",
   "id": "3f3057a8-6722-41c3-b068-832161067cc3",
   "metadata": {},
   "source": [
    "# 3. `AbAcAd` -- `RNN` + GPU"
   ]
  },
  {
   "cell_type": "markdown",
   "id": "d1080316-981f-4bee-83ad-bfe197bde6f2",
   "metadata": {},
   "source": [
    "## A. Data"
   ]
  },
  {
   "cell_type": "markdown",
   "id": "f963c7db-3faa-4ccf-b589-d776eab6ed2a",
   "metadata": {},
   "source": [
    "`-` 데이터 정리 "
   ]
  },
  {
   "cell_type": "code",
   "execution_count": 142,
   "id": "f976566e-f085-44cd-a05f-af9031671d53",
   "metadata": {
    "tags": []
   },
   "outputs": [
    {
     "data": {
      "text/plain": [
       "['A', 'b', 'A', 'c', 'A', 'd', 'A', 'b', 'A', 'c']"
      ]
     },
     "execution_count": 142,
     "metadata": {},
     "output_type": "execute_result"
    }
   ],
   "source": [
    "txt = list('AbAcAd'*50)\n",
    "txt[:10]"
   ]
  },
  {
   "cell_type": "code",
   "execution_count": 143,
   "id": "59efc62f-6b6b-4da4-b979-73c28782e9f4",
   "metadata": {
    "tags": []
   },
   "outputs": [
    {
     "data": {
      "text/html": [
       "<div>\n",
       "<style scoped>\n",
       "    .dataframe tbody tr th:only-of-type {\n",
       "        vertical-align: middle;\n",
       "    }\n",
       "\n",
       "    .dataframe tbody tr th {\n",
       "        vertical-align: top;\n",
       "    }\n",
       "\n",
       "    .dataframe thead th {\n",
       "        text-align: right;\n",
       "    }\n",
       "</style>\n",
       "<table border=\"1\" class=\"dataframe\">\n",
       "  <thead>\n",
       "    <tr style=\"text-align: right;\">\n",
       "      <th></th>\n",
       "      <th>x</th>\n",
       "      <th>y</th>\n",
       "    </tr>\n",
       "  </thead>\n",
       "  <tbody>\n",
       "    <tr>\n",
       "      <th>0</th>\n",
       "      <td>A</td>\n",
       "      <td>b</td>\n",
       "    </tr>\n",
       "    <tr>\n",
       "      <th>1</th>\n",
       "      <td>b</td>\n",
       "      <td>A</td>\n",
       "    </tr>\n",
       "    <tr>\n",
       "      <th>2</th>\n",
       "      <td>A</td>\n",
       "      <td>c</td>\n",
       "    </tr>\n",
       "    <tr>\n",
       "      <th>3</th>\n",
       "      <td>c</td>\n",
       "      <td>A</td>\n",
       "    </tr>\n",
       "    <tr>\n",
       "      <th>4</th>\n",
       "      <td>A</td>\n",
       "      <td>d</td>\n",
       "    </tr>\n",
       "  </tbody>\n",
       "</table>\n",
       "</div>"
      ],
      "text/plain": [
       "   x  y\n",
       "0  A  b\n",
       "1  b  A\n",
       "2  A  c\n",
       "3  c  A\n",
       "4  A  d"
      ]
     },
     "execution_count": 143,
     "metadata": {},
     "output_type": "execute_result"
    }
   ],
   "source": [
    "df_train = pd.DataFrame({'x':txt[:-1], 'y':txt[1:]})\n",
    "df_train[:5]"
   ]
  },
  {
   "cell_type": "markdown",
   "id": "7ad9ac63-901f-4bcb-b1a4-ab3bd3734523",
   "metadata": {},
   "source": [
    "## B. 구현1 -- RNNCell (지난시간)"
   ]
  },
  {
   "cell_type": "markdown",
   "id": "b8729adc-be22-44a6-a8e0-255aafed96ef",
   "metadata": {},
   "source": [
    "ref: <https://pytorch.org/docs/stable/generated/torch.nn.RNNCell.html>"
   ]
  },
  {
   "cell_type": "markdown",
   "id": "d3bc3642-59ca-4f6c-a07f-f423dfa2f248",
   "metadata": {
    "tags": []
   },
   "source": [
    "`-` 데이터정리 "
   ]
  },
  {
   "cell_type": "code",
   "execution_count": 83,
   "id": "80e6fd64-0138-4784-9655-2c1626fd3cd0",
   "metadata": {
    "tags": []
   },
   "outputs": [],
   "source": [
    "x = torch.tensor(df_train.x.map({'A':0,'b':1,'c':2,'d':3}))\n",
    "y = torch.tensor(df_train.y.map({'A':0,'b':1,'c':2,'d':3}))\n",
    "X = torch.nn.functional.one_hot(x).float()\n",
    "y = torch.nn.functional.one_hot(y).float()"
   ]
  },
  {
   "cell_type": "markdown",
   "id": "f814ca11-837b-4c91-9f0d-5c7bfbcff341",
   "metadata": {},
   "source": [
    "`-` Net설계 및 가중치 설정 (구현1과 동일하도록 가중치 초기화)"
   ]
  },
  {
   "cell_type": "code",
   "execution_count": 84,
   "id": "ee4a2dbc-be4b-4041-b383-4bd64b8690bf",
   "metadata": {
    "tags": []
   },
   "outputs": [],
   "source": [
    "torch.manual_seed(4) \n",
    "rnncell = torch.nn.RNNCell(4,2)\n",
    "cook = torch.nn.Linear(2,4)"
   ]
  },
  {
   "cell_type": "markdown",
   "id": "8196d77b-6802-4f5f-b0c7-1da7e806f8c6",
   "metadata": {},
   "source": [
    "`-` 손실함수 및 옵티마이저 설정 "
   ]
  },
  {
   "cell_type": "code",
   "execution_count": 57,
   "id": "ef704847-ca89-4f11-b2dc-575fde24a9d8",
   "metadata": {
    "tags": []
   },
   "outputs": [],
   "source": [
    "loss_fn = torch.nn.CrossEntropyLoss() \n",
    "optimizr = torch.optim.Adam(list(rnncell.parameters())+list(cook.parameters()),lr=0.1)"
   ]
  },
  {
   "cell_type": "code",
   "execution_count": 58,
   "id": "6ab91c74-b522-4e50-adca-4c2b21b8e6f5",
   "metadata": {
    "tags": []
   },
   "outputs": [],
   "source": [
    "L = len(X)\n",
    "for epoc in range(200):\n",
    "    ## 1~2 \n",
    "    ht = torch.zeros(2) # 첫간장은 맹물\n",
    "    loss = 0\n",
    "    for t in range(L):\n",
    "        Xt, yt = X[t], y[t]\n",
    "        ht = rnncell(Xt, ht)\n",
    "        ot = cook(ht) \n",
    "        loss = loss + loss_fn(ot, yt)\n",
    "    loss = loss/L\n",
    "    ## 3 \n",
    "    loss.backward()\n",
    "    ## 4 \n",
    "    optimizr.step()\n",
    "    optimizr.zero_grad()"
   ]
  },
  {
   "cell_type": "code",
   "execution_count": 59,
   "id": "1dc8a9a4-bfaf-476f-839e-1f3d06b5da80",
   "metadata": {
    "tags": []
   },
   "outputs": [
    {
     "data": {
      "text/plain": [
       "tensor([[2.1032e-03, 7.4842e-01, 2.4849e-01, 9.8890e-04],\n",
       "        [9.9601e-01, 6.1446e-05, 3.9266e-03, 2.8410e-09],\n",
       "        [5.0120e-05, 2.2370e-02, 9.7758e-01, 2.4300e-07],\n",
       "        ...,\n",
       "        [5.0229e-05, 2.2415e-02, 9.7753e-01, 2.4398e-07],\n",
       "        [9.9858e-01, 9.3154e-05, 1.3903e-08, 1.3301e-03],\n",
       "        [2.2350e-05, 1.9198e-02, 1.1779e-07, 9.8078e-01]],\n",
       "       grad_fn=<SoftmaxBackward0>)"
      ]
     },
     "execution_count": 59,
     "metadata": {},
     "output_type": "execute_result"
    }
   ],
   "source": [
    "h = torch.zeros(L,2)\n",
    "water = torch.zeros(2)\n",
    "h[0] = rnncell(X[0],water)\n",
    "for t in range(1,L):\n",
    "    h[t] = rnncell(X[t],h[t-1])\n",
    "yhat = soft(cook(h))\n",
    "yhat"
   ]
  },
  {
   "cell_type": "code",
   "execution_count": 60,
   "id": "886ae12d-fedb-4490-80d6-fd3ced8dc0ac",
   "metadata": {
    "tags": []
   },
   "outputs": [
    {
     "data": {
      "image/png": "[encoded data removed]",
      "text/plain": [
       "<Figure size 400x666.667 with 1 Axes>"
      ]
     },
     "metadata": {},
     "output_type": "display_data"
    }
   ],
   "source": [
    "mat = torch.concat([h,yhat],axis=1).data[:10]\n",
    "plt.matshow(mat,cmap='bwr',vmin=-1,vmax=1)\n",
    "plt.axvline(x=1.5,color='lime')\n",
    "plt.xticks(range(6),[r'$h_1$',r'$h_2$',r'$P_A$',r'$P_b$',r'$P_c$',r'$P_d$']);"
   ]
  },
  {
   "cell_type": "markdown",
   "id": "88813c9c-e6e2-4c74-8877-5a7682b48896",
   "metadata": {},
   "source": [
    "## C. 구현2 -- RNN"
   ]
  },
  {
   "cell_type": "markdown",
   "id": "7153664a-edd3-4970-a817-1869b987f2f4",
   "metadata": {},
   "source": [
    "ref: <https://pytorch.org/docs/stable/generated/torch.nn.RNN.html>"
   ]
  },
  {
   "cell_type": "code",
   "execution_count": 61,
   "id": "fdc8c1a5-92a3-4f33-be0e-5584fd81fc5e",
   "metadata": {
    "tags": []
   },
   "outputs": [],
   "source": [
    "x = torch.tensor(df_train.x.map({'A':0,'b':1,'c':2,'d':3}))\n",
    "y = torch.tensor(df_train.y.map({'A':0,'b':1,'c':2,'d':3}))\n",
    "X = torch.nn.functional.one_hot(x).float()\n",
    "y = torch.nn.functional.one_hot(y).float()"
   ]
  },
  {
   "cell_type": "code",
   "execution_count": 62,
   "id": "1f126ff1-45a0-411e-bf5d-7083379d075e",
   "metadata": {
    "tags": []
   },
   "outputs": [],
   "source": [
    "torch.manual_seed(4) \n",
    "rnncell = torch.nn.RNNCell(4,2)\n",
    "cook = torch.nn.Linear(2,4)"
   ]
  },
  {
   "cell_type": "code",
   "execution_count": 63,
   "id": "45948ef6-303f-40f5-a58f-58efe6a35542",
   "metadata": {
    "tags": []
   },
   "outputs": [],
   "source": [
    "rnn = torch.nn.RNN(4,2)\n",
    "rnn.weight_ih_l0.data = rnncell.weight_ih.data\n",
    "rnn.bias_ih_l0.data = rnncell.bias_ih.data\n",
    "rnn.weight_hh_l0.data = rnncell.weight_hh.data\n",
    "rnn.bias_hh_l0.data = rnncell.bias_hh.data"
   ]
  },
  {
   "cell_type": "code",
   "execution_count": 64,
   "id": "395f1a1e-c721-42d0-94cd-99a7d641d012",
   "metadata": {
    "tags": []
   },
   "outputs": [],
   "source": [
    "loss_fn = torch.nn.CrossEntropyLoss() \n",
    "optimizr = torch.optim.Adam(list(rnn.parameters())+list(cook.parameters()),lr=0.1)"
   ]
  },
  {
   "cell_type": "code",
   "execution_count": 65,
   "id": "45295481-70da-4d6b-a16f-80a55455af52",
   "metadata": {
    "tags": []
   },
   "outputs": [],
   "source": [
    "Water = torch.zeros(1,2)\n",
    "for epoc in range(200):\n",
    "    ## 1\n",
    "    h,hL = rnn(X,Water)\n",
    "    netout = cook(h)\n",
    "    ## 2 \n",
    "    loss = loss_fn(netout,y)\n",
    "    ## 3 \n",
    "    loss.backward()\n",
    "    ## 4 \n",
    "    optimizr.step()\n",
    "    optimizr.zero_grad()"
   ]
  },
  {
   "cell_type": "code",
   "execution_count": 66,
   "id": "db56391d-75cf-413b-8de9-e99b57104780",
   "metadata": {
    "tags": []
   },
   "outputs": [
    {
     "data": {
      "text/plain": [
       "tensor([[2.1032e-03, 7.4842e-01, 2.4849e-01, 9.8888e-04],\n",
       "        [9.9601e-01, 6.1446e-05, 3.9266e-03, 2.8410e-09],\n",
       "        [5.0120e-05, 2.2370e-02, 9.7758e-01, 2.4300e-07],\n",
       "        ...,\n",
       "        [5.0229e-05, 2.2415e-02, 9.7753e-01, 2.4399e-07],\n",
       "        [9.9858e-01, 9.3154e-05, 1.3902e-08, 1.3302e-03],\n",
       "        [2.2350e-05, 1.9198e-02, 1.1779e-07, 9.8078e-01]],\n",
       "       grad_fn=<SoftmaxBackward0>)"
      ]
     },
     "execution_count": 66,
     "metadata": {},
     "output_type": "execute_result"
    }
   ],
   "source": [
    "h,hL = rnn(X,Water)\n",
    "netout = cook(h)\n",
    "yhat = soft(netout)\n",
    "yhat"
   ]
  },
  {
   "cell_type": "code",
   "execution_count": 67,
   "id": "e0f71e50-8478-4350-be24-aceb62b84cb9",
   "metadata": {
    "tags": []
   },
   "outputs": [
    {
     "data": {
      "image/png": "[encoded data removed]",
      "text/plain": [
       "<Figure size 400x666.667 with 1 Axes>"
      ]
     },
     "metadata": {},
     "output_type": "display_data"
    }
   ],
   "source": [
    "mat = torch.concat([h,yhat],axis=1).data[:10]\n",
    "plt.matshow(mat,cmap='bwr',vmin=-1,vmax=1)\n",
    "plt.axvline(x=1.5,color='lime')\n",
    "plt.xticks(range(6),[r'$h_1$',r'$h_2$',r'$P_A$',r'$P_b$',r'$P_c$',r'$P_d$']);"
   ]
  },
  {
   "cell_type": "markdown",
   "id": "247640d5-5480-4d45-804c-fe354a9b95ff",
   "metadata": {},
   "source": [
    "## D. 구현3 -- RNN + GPU "
   ]
  },
  {
   "cell_type": "code",
   "execution_count": 68,
   "id": "88ed3725-d932-44d3-b972-1f86fe09c400",
   "metadata": {
    "tags": []
   },
   "outputs": [],
   "source": [
    "x = torch.tensor(df_train.x.map({'A':0,'b':1,'c':2,'d':3}))\n",
    "y = torch.tensor(df_train.y.map({'A':0,'b':1,'c':2,'d':3}))\n",
    "X = torch.nn.functional.one_hot(x).float()\n",
    "y = torch.nn.functional.one_hot(y).float()"
   ]
  },
  {
   "cell_type": "code",
   "execution_count": 69,
   "id": "527edf36-792e-4a00-a4b7-be2fbd2c0fac",
   "metadata": {
    "tags": []
   },
   "outputs": [],
   "source": [
    "torch.manual_seed(4) \n",
    "rnncell = torch.nn.RNNCell(4,2)\n",
    "cook = torch.nn.Linear(2,4)"
   ]
  },
  {
   "cell_type": "code",
   "execution_count": 70,
   "id": "f683d18f-84b2-4e24-a294-9788f8a54ae4",
   "metadata": {
    "tags": []
   },
   "outputs": [],
   "source": [
    "rnn = torch.nn.RNN(4,2)\n",
    "rnn.weight_ih_l0.data = rnncell.weight_ih.data\n",
    "rnn.bias_ih_l0.data = rnncell.bias_ih.data\n",
    "rnn.weight_hh_l0.data = rnncell.weight_hh.data\n",
    "rnn.bias_hh_l0.data = rnncell.bias_hh.data"
   ]
  },
  {
   "cell_type": "code",
   "execution_count": 71,
   "id": "944ce9c9-0737-43bd-8a3f-5c7e00219015",
   "metadata": {
    "tags": []
   },
   "outputs": [],
   "source": [
    "loss_fn = torch.nn.CrossEntropyLoss() \n",
    "optimizr = torch.optim.Adam(list(rnn.parameters())+list(cook.parameters()),lr=0.1)"
   ]
  },
  {
   "cell_type": "code",
   "execution_count": 72,
   "id": "e6f0edcc-b379-4085-ab01-dcf45b090c21",
   "metadata": {
    "tags": []
   },
   "outputs": [],
   "source": [
    "X = X.to(\"cuda:0\")\n",
    "y = y.to(\"cuda:0\")\n",
    "rnn.to(\"cuda:0\") \n",
    "cook.to(\"cuda:0\")\n",
    "Water = torch.zeros(1,2).to(\"cuda:0\")\n",
    "for epoc in range(200):\n",
    "    ## 1\n",
    "    h,hL = rnn(X,Water)\n",
    "    netout = cook(h)\n",
    "    ## 2 \n",
    "    loss = loss_fn(netout,y)\n",
    "    ## 3 \n",
    "    loss.backward()\n",
    "    ## 4 \n",
    "    optimizr.step()\n",
    "    optimizr.zero_grad()"
   ]
  },
  {
   "cell_type": "code",
   "execution_count": 73,
   "id": "0168429e-84ea-4b9e-992a-1019798965a6",
   "metadata": {
    "tags": []
   },
   "outputs": [
    {
     "data": {
      "text/plain": [
       "tensor([[2.1034e-03, 7.4850e-01, 2.4841e-01, 9.8938e-04],\n",
       "        [9.9601e-01, 6.1439e-05, 3.9265e-03, 2.8412e-09],\n",
       "        [5.0124e-05, 2.2368e-02, 9.7758e-01, 2.4295e-07],\n",
       "        ...,\n",
       "        [5.0233e-05, 2.2413e-02, 9.7754e-01, 2.4393e-07],\n",
       "        [9.9858e-01, 9.3186e-05, 1.3921e-08, 1.3297e-03],\n",
       "        [2.2340e-05, 1.9198e-02, 1.1779e-07, 9.8078e-01]], device='cuda:0',\n",
       "       grad_fn=<SoftmaxBackward0>)"
      ]
     },
     "execution_count": 73,
     "metadata": {},
     "output_type": "execute_result"
    }
   ],
   "source": [
    "h,hL = rnn(X,Water)\n",
    "netout = cook(h)\n",
    "yhat = soft(netout)\n",
    "yhat"
   ]
  },
  {
   "cell_type": "markdown",
   "id": "3d53275b-21c4-460f-8ac4-09da553ce901",
   "metadata": {},
   "source": [
    "- 살짝결과다름 "
   ]
  },
  {
   "cell_type": "code",
   "execution_count": 74,
   "id": "f986f897-ed60-4523-8c5d-e1c411571722",
   "metadata": {
    "tags": []
   },
   "outputs": [
    {
     "data": {
      "image/png": "[encoded data removed]",
      "text/plain": [
       "<Figure size 400x666.667 with 1 Axes>"
      ]
     },
     "metadata": {},
     "output_type": "display_data"
    }
   ],
   "source": [
    "mat = torch.concat([h,yhat],axis=1).data[:10].to(\"cpu\")\n",
    "plt.matshow(mat,cmap='bwr',vmin=-1,vmax=1)\n",
    "plt.axvline(x=1.5,color='lime')\n",
    "plt.xticks(range(6),[r'$h_1$',r'$h_2$',r'$P_A$',r'$P_b$',r'$P_c$',r'$P_d$']);"
   ]
  },
  {
   "cell_type": "markdown",
   "id": "fa8e1c42-927c-474b-9382-d2d7ea1239e9",
   "metadata": {},
   "source": [
    "## E. 구현3 -- RNN + GPU + 맹물생략 "
   ]
  },
  {
   "cell_type": "code",
   "execution_count": 99,
   "id": "0bd76e8a-d000-443b-830d-85e540dd52aa",
   "metadata": {
    "tags": []
   },
   "outputs": [],
   "source": [
    "x = torch.tensor(df_train.x.map({'A':0,'b':1,'c':2,'d':3}))\n",
    "y = torch.tensor(df_train.y.map({'A':0,'b':1,'c':2,'d':3}))\n",
    "X = torch.nn.functional.one_hot(x).float()\n",
    "y = torch.nn.functional.one_hot(y).float()"
   ]
  },
  {
   "cell_type": "code",
   "execution_count": 100,
   "id": "dcca37f0-9e81-4b6c-9ef8-93b009e59236",
   "metadata": {
    "tags": []
   },
   "outputs": [],
   "source": [
    "torch.manual_seed(4) \n",
    "rnncell = torch.nn.RNNCell(4,2)\n",
    "cook = torch.nn.Linear(2,4)"
   ]
  },
  {
   "cell_type": "code",
   "execution_count": 101,
   "id": "8a736532-c7da-4b59-9733-e45282bcc74d",
   "metadata": {
    "tags": []
   },
   "outputs": [],
   "source": [
    "rnn = torch.nn.RNN(4,2)\n",
    "rnn.weight_ih_l0.data = rnncell.weight_ih.data\n",
    "rnn.bias_ih_l0.data = rnncell.bias_ih.data\n",
    "rnn.weight_hh_l0.data = rnncell.weight_hh.data\n",
    "rnn.bias_hh_l0.data = rnncell.bias_hh.data"
   ]
  },
  {
   "cell_type": "code",
   "execution_count": 102,
   "id": "b5aa2a0d-2da6-43b0-a7b9-c66ef21ba062",
   "metadata": {
    "tags": []
   },
   "outputs": [],
   "source": [
    "loss_fn = torch.nn.CrossEntropyLoss() \n",
    "optimizr = torch.optim.Adam(list(rnn.parameters())+list(cook.parameters()),lr=0.1)"
   ]
  },
  {
   "cell_type": "code",
   "execution_count": 103,
   "id": "6f7194ba-b0e3-4923-80df-268293eac90d",
   "metadata": {
    "tags": []
   },
   "outputs": [],
   "source": [
    "X = X.to(\"cuda:0\")\n",
    "y = y.to(\"cuda:0\")\n",
    "rnn.to(\"cuda:0\") \n",
    "cook.to(\"cuda:0\")\n",
    "Water = torch.zeros(1,2).to(\"cuda:0\")\n",
    "for epoc in range(200):\n",
    "    ## 1\n",
    "    h,_ = rnn(X)\n",
    "    netout = cook(h)\n",
    "    ## 2 \n",
    "    loss = loss_fn(netout,y)\n",
    "    ## 3 \n",
    "    loss.backward()\n",
    "    ## 4 \n",
    "    optimizr.step()\n",
    "    optimizr.zero_grad()"
   ]
  },
  {
   "cell_type": "code",
   "execution_count": 104,
   "id": "ed7a920e-6c5a-4918-a2dd-271f4a51412e",
   "metadata": {
    "tags": []
   },
   "outputs": [
    {
     "data": {
      "text/plain": [
       "tensor([[2.1034e-03, 7.4850e-01, 2.4841e-01, 9.8938e-04],\n",
       "        [9.9601e-01, 6.1439e-05, 3.9265e-03, 2.8412e-09],\n",
       "        [5.0124e-05, 2.2368e-02, 9.7758e-01, 2.4295e-07],\n",
       "        ...,\n",
       "        [5.0233e-05, 2.2413e-02, 9.7754e-01, 2.4393e-07],\n",
       "        [9.9858e-01, 9.3186e-05, 1.3921e-08, 1.3297e-03],\n",
       "        [2.2340e-05, 1.9198e-02, 1.1779e-07, 9.8078e-01]], device='cuda:0',\n",
       "       grad_fn=<SoftmaxBackward0>)"
      ]
     },
     "execution_count": 104,
     "metadata": {},
     "output_type": "execute_result"
    }
   ],
   "source": [
    "h,_ = rnn(X)\n",
    "netout = cook(h)\n",
    "yhat = soft(netout)\n",
    "yhat"
   ]
  },
  {
   "cell_type": "code",
   "execution_count": 106,
   "id": "76ced2b1-7cd7-401d-9b52-e231b408a105",
   "metadata": {
    "tags": []
   },
   "outputs": [
    {
     "data": {
      "image/png": "[encoded data removed]",
      "text/plain": [
       "<Figure size 400x666.667 with 1 Axes>"
      ]
     },
     "metadata": {},
     "output_type": "display_data"
    }
   ],
   "source": [
    "mat = torch.concat([h,yhat],axis=1).data[:10].to(\"cpu\")\n",
    "plt.matshow(mat,cmap='bwr',vmin=-1,vmax=1)\n",
    "plt.axvline(x=1.5,color='lime')\n",
    "plt.xticks(range(6),[r'$h_1$',r'$h_2$',r'$P_A$',r'$P_b$',r'$P_c$',r'$P_d$']);"
   ]
  },
  {
   "cell_type": "markdown",
   "id": "7bca71f3-ff42-47cb-ba56-c8c81b3c0161",
   "metadata": {},
   "source": [
    "## F. 은닉노드 비교실험 "
   ]
  },
  {
   "cell_type": "code",
   "execution_count": 146,
   "id": "a1ebda43-f6f5-4e0a-9cd8-5826653f7252",
   "metadata": {
    "tags": []
   },
   "outputs": [
    {
     "data": {
      "image/png": "[encoded data removed]",
      "text/plain": [
       "<Figure size 1000x1000 with 25 Axes>"
      ]
     },
     "metadata": {},
     "output_type": "display_data"
    }
   ],
   "source": [
    "x = torch.tensor(df_train.x.map({'A':0,'b':1,'c':2,'d':3}))\n",
    "y = torch.tensor(df_train.y.map({'A':0,'b':1,'c':2,'d':3}))\n",
    "X = torch.nn.functional.one_hot(x).float().to(\"cuda:0\")\n",
    "y = torch.nn.functional.one_hot(y).float().to(\"cuda:0\")\n",
    "fig,ax = plt.subplots(5,5,figsize=(10,10))\n",
    "for i in range(5):\n",
    "    for j in range(5):\n",
    "        rnn = torch.nn.RNN(4,2).to(\"cuda:0\")\n",
    "        cook = torch.nn.Linear(2,4).to(\"cuda:0\")\n",
    "        loss_fn = torch.nn.CrossEntropyLoss()\n",
    "        optimizr = torch.optim.Adam(list(rnn.parameters()) + list(cook.parameters()), lr=0.1)\n",
    "        for epoc in range(200):\n",
    "            ## 1\n",
    "            h,_ = rnn(X)\n",
    "            netout = cook(h)\n",
    "            ## 2 \n",
    "            loss = loss_fn(netout,y)\n",
    "            ## 3 \n",
    "            loss.backward()\n",
    "            ## 4 \n",
    "            optimizr.step()\n",
    "            optimizr.zero_grad()\n",
    "        h = rnn(X)[0].data.to(\"cpu\")\n",
    "        yhat = soft(cook(rnn(X)[0])).data.to(\"cpu\")\n",
    "        mat = torch.concat([h,yhat],axis=1)[:8]\n",
    "        ax[i][j].matshow(mat,cmap=\"bwr\")\n",
    "        ax[i][j].axvline(x=1.5,color=\"lime\")\n",
    "        ax[i][j].set_xticks(range(6),[r'$h_1$',r'$h_2$',r'$P_A$',r'$P_b$',r'$P_c$',r'$P_d$'])\n",
    "fig.suptitle(\"RNN -- # of hidden nodes = 2\",size=20)\n",
    "fig.tight_layout()"
   ]
  },
  {
   "cell_type": "code",
   "execution_count": 147,
   "id": "a334fe0f-a1af-4058-b833-a56c6ae7dad3",
   "metadata": {},
   "outputs": [
    {
     "ename": "AttributeError",
     "evalue": "'Figure' object has no attribute 'tight_laytight_layout'",
     "output_type": "error",
     "traceback": [
      "\u001b[0;31m---------------------------------------------------------------------------\u001b[0m",
      "\u001b[0;31mAttributeError\u001b[0m                            Traceback (most recent call last)",
      "Cell \u001b[0;32mIn[147], line 30\u001b[0m\n\u001b[1;32m     28\u001b[0m         ax[i][j]\u001b[38;5;241m.\u001b[39mset_xticks(\u001b[38;5;28mrange\u001b[39m(\u001b[38;5;241m7\u001b[39m),[\u001b[38;5;124mr\u001b[39m\u001b[38;5;124m'\u001b[39m\u001b[38;5;124m$h_1$\u001b[39m\u001b[38;5;124m'\u001b[39m,\u001b[38;5;124mr\u001b[39m\u001b[38;5;124m'\u001b[39m\u001b[38;5;124m$h_2$\u001b[39m\u001b[38;5;124m'\u001b[39m,\u001b[38;5;124mr\u001b[39m\u001b[38;5;124m'\u001b[39m\u001b[38;5;124m$h_3$\u001b[39m\u001b[38;5;124m'\u001b[39m,\u001b[38;5;124mr\u001b[39m\u001b[38;5;124m'\u001b[39m\u001b[38;5;124m$P_A$\u001b[39m\u001b[38;5;124m'\u001b[39m,\u001b[38;5;124mr\u001b[39m\u001b[38;5;124m'\u001b[39m\u001b[38;5;124m$P_b$\u001b[39m\u001b[38;5;124m'\u001b[39m,\u001b[38;5;124mr\u001b[39m\u001b[38;5;124m'\u001b[39m\u001b[38;5;124m$P_c$\u001b[39m\u001b[38;5;124m'\u001b[39m,\u001b[38;5;124mr\u001b[39m\u001b[38;5;124m'\u001b[39m\u001b[38;5;124m$P_d$\u001b[39m\u001b[38;5;124m'\u001b[39m])\n\u001b[1;32m     29\u001b[0m fig\u001b[38;5;241m.\u001b[39msuptitle(\u001b[38;5;124m\"\u001b[39m\u001b[38;5;124mRNN -- # of hidden nodes = 3\u001b[39m\u001b[38;5;124m\"\u001b[39m,size\u001b[38;5;241m=\u001b[39m\u001b[38;5;241m20\u001b[39m)\n\u001b[0;32m---> 30\u001b[0m fig\u001b[38;5;241m.\u001b[39mtight_laytight_layout\n",
      "\u001b[0;31mAttributeError\u001b[0m: 'Figure' object has no attribute 'tight_laytight_layout'"
     ]
    },
    {
     "data": {
      "image/png": "[encoded data removed]",
      "text/plain": [
       "<Figure size 1000x1000 with 25 Axes>"
      ]
     },
     "metadata": {},
     "output_type": "display_data"
    }
   ],
   "source": [
    "x = torch.tensor(df_train.x.map({'A':0,'b':1,'c':2,'d':3}))\n",
    "y = torch.tensor(df_train.y.map({'A':0,'b':1,'c':2,'d':3}))\n",
    "X = torch.nn.functional.one_hot(x).float().to(\"cuda:0\")\n",
    "y = torch.nn.functional.one_hot(y).float().to(\"cuda:0\")\n",
    "fig,ax = plt.subplots(5,5,figsize=(10,10))\n",
    "for i in range(5):\n",
    "    for j in range(5):\n",
    "        rnn = torch.nn.RNN(4,3).to(\"cuda:0\")\n",
    "        cook = torch.nn.Linear(3,4).to(\"cuda:0\")\n",
    "        loss_fn = torch.nn.CrossEntropyLoss()\n",
    "        optimizr = torch.optim.Adam(list(rnn.parameters()) + list(cook.parameters()), lr=0.1)\n",
    "        for epoc in range(200):\n",
    "            ## 1\n",
    "            h,_ = rnn(X)\n",
    "            netout = cook(h)\n",
    "            ## 2 \n",
    "            loss = loss_fn(netout,y)\n",
    "            ## 3 \n",
    "            loss.backward()\n",
    "            ## 4 \n",
    "            optimizr.step()\n",
    "            optimizr.zero_grad()\n",
    "        h = rnn(X)[0].data.to(\"cpu\")\n",
    "        yhat = soft(cook(rnn(X)[0])).data.to(\"cpu\")\n",
    "        mat = torch.concat([h,yhat],axis=1)[:8]\n",
    "        ax[i][j].matshow(mat,cmap=\"bwr\")\n",
    "        ax[i][j].axvline(x=2.5,color=\"lime\")\n",
    "        ax[i][j].set_xticks(range(7),[r'$h_1$',r'$h_2$',r'$h_3$',r'$P_A$',r'$P_b$',r'$P_c$',r'$P_d$'])\n",
    "fig.suptitle(\"RNN -- # of hidden nodes = 3\",size=20)\n",
    "fig.tight_laytight_layout"
   ]
  },
  {
   "cell_type": "code",
   "execution_count": null,
   "id": "be712d28-10c9-4caa-839b-20b4ddb91811",
   "metadata": {
    "tags": []
   },
   "outputs": [],
   "source": [
    "x = torch.tensor(df_train.x.map({'A':0,'b':1,'c':2,'d':3}))\n",
    "y = torch.tensor(df_train.y.map({'A':0,'b':1,'c':2,'d':3}))\n",
    "X = torch.nn.functional.one_hot(x).float().to(\"cuda:0\")\n",
    "y = torch.nn.functional.one_hot(y).float().to(\"cuda:0\")\n",
    "fig,ax = plt.subplots(5,5,figsize=(10,10))\n",
    "for i in range(5):\n",
    "    for j in range(5):\n",
    "        rnn = torch.nn.RNN(4,4).to(\"cuda:0\")\n",
    "        cook = torch.nn.Linear(4,4).to(\"cuda:0\")\n",
    "        loss_fn = torch.nn.CrossEntropyLoss()\n",
    "        optimizr = torch.optim.Adam(list(rnn.parameters()) + list(cook.parameters()), lr=0.1)\n",
    "        for epoc in range(200):\n",
    "            ## 1\n",
    "            h,_ = rnn(X)\n",
    "            netout = cook(h)\n",
    "            ## 2 \n",
    "            loss = loss_fn(netout,y)\n",
    "            ## 3 \n",
    "            loss.backward()\n",
    "            ## 4 \n",
    "            optimizr.step()\n",
    "            optimizr.zero_grad()\n",
    "        h = rnn(X)[0].data.to(\"cpu\")\n",
    "        yhat = soft(cook(rnn(X)[0])).data.to(\"cpu\")\n",
    "        mat = torch.concat([h,yhat],axis=1)[:8]\n",
    "        ax[i][j].matshow(mat,cmap=\"bwr\")\n",
    "        ax[i][j].axvline(x=3.5,color=\"lime\")\n",
    "        ax[i][j].set_xticks(range(8),[r'$h_1$',r'$h_2$',r'$h_3$',r'$h_4$',r'$P_A$',r'$P_b$',r'$P_c$',r'$P_d$'])\n",
    "fig.suptitle(\"RNN -- # of hidden nodes = 4\",size=20)\n",
    "fig.tight_layout()"
   ]
  },
  {
   "cell_type": "markdown",
   "id": "fdf05a8f-8d06-4feb-ac07-e97d643027fa",
   "metadata": {},
   "source": [
    "# 4. `abcabC` "
   ]
  },
  {
   "cell_type": "markdown",
   "id": "8451d082-a105-496a-b4b3-4990c4764c9e",
   "metadata": {},
   "source": [
    "## A. Data"
   ]
  },
  {
   "cell_type": "markdown",
   "id": "74b94078-e25e-46a5-b686-1d86684b8cf5",
   "metadata": {},
   "source": [
    "`-` 데이터 정리 "
   ]
  },
  {
   "cell_type": "code",
   "execution_count": 149,
   "id": "da7c76fb-2aeb-4ea3-94cc-81e11af1f066",
   "metadata": {
    "tags": []
   },
   "outputs": [
    {
     "data": {
      "text/plain": [
       "['a', 'b', 'c', 'a', 'b', 'C', 'a', 'b', 'c', 'a']"
      ]
     },
     "execution_count": 149,
     "metadata": {},
     "output_type": "execute_result"
    }
   ],
   "source": [
    "txt = list('abcabC'*50)\n",
    "txt[:10]"
   ]
  },
  {
   "cell_type": "code",
   "execution_count": 150,
   "id": "e67e3959-a183-43db-b9bf-a35a092ff9b4",
   "metadata": {
    "tags": []
   },
   "outputs": [
    {
     "data": {
      "text/html": [
       "<div>\n",
       "<style scoped>\n",
       "    .dataframe tbody tr th:only-of-type {\n",
       "        vertical-align: middle;\n",
       "    }\n",
       "\n",
       "    .dataframe tbody tr th {\n",
       "        vertical-align: top;\n",
       "    }\n",
       "\n",
       "    .dataframe thead th {\n",
       "        text-align: right;\n",
       "    }\n",
       "</style>\n",
       "<table border=\"1\" class=\"dataframe\">\n",
       "  <thead>\n",
       "    <tr style=\"text-align: right;\">\n",
       "      <th></th>\n",
       "      <th>x</th>\n",
       "      <th>y</th>\n",
       "    </tr>\n",
       "  </thead>\n",
       "  <tbody>\n",
       "    <tr>\n",
       "      <th>0</th>\n",
       "      <td>a</td>\n",
       "      <td>b</td>\n",
       "    </tr>\n",
       "    <tr>\n",
       "      <th>1</th>\n",
       "      <td>b</td>\n",
       "      <td>c</td>\n",
       "    </tr>\n",
       "    <tr>\n",
       "      <th>2</th>\n",
       "      <td>c</td>\n",
       "      <td>a</td>\n",
       "    </tr>\n",
       "    <tr>\n",
       "      <th>3</th>\n",
       "      <td>a</td>\n",
       "      <td>b</td>\n",
       "    </tr>\n",
       "    <tr>\n",
       "      <th>4</th>\n",
       "      <td>b</td>\n",
       "      <td>C</td>\n",
       "    </tr>\n",
       "  </tbody>\n",
       "</table>\n",
       "</div>"
      ],
      "text/plain": [
       "   x  y\n",
       "0  a  b\n",
       "1  b  c\n",
       "2  c  a\n",
       "3  a  b\n",
       "4  b  C"
      ]
     },
     "execution_count": 150,
     "metadata": {},
     "output_type": "execute_result"
    }
   ],
   "source": [
    "df_train = pd.DataFrame({'x':txt[:-1], 'y':txt[1:]})\n",
    "df_train[:5]"
   ]
  },
  {
   "cell_type": "markdown",
   "id": "ec097936-c34b-47fc-8ff3-a5f503e12d07",
   "metadata": {},
   "source": [
    "## B. RNN"
   ]
  },
  {
   "cell_type": "markdown",
   "id": "a8cedcbd-9165-4ffc-a86e-7cd24e347d6c",
   "metadata": {},
   "source": [
    "ref: <https://pytorch.org/docs/stable/generated/torch.nn.RNNCell.html>"
   ]
  },
  {
   "cell_type": "code",
   "execution_count": null,
   "id": "ff0986d3-b0d9-4873-836c-e8da16c2f474",
   "metadata": {
    "tags": []
   },
   "outputs": [],
   "source": [
    "x = torch.tensor(df_train.x.map({'a':0,'b':1,'c':2,'C':3}))\n",
    "y = torch.tensor(df_train.y.map({'a':0,'b':1,'c':2,'C':3}))\n",
    "X = torch.nn.functional.one_hot(x).float().to(\"cuda:0\")\n",
    "y = torch.nn.functional.one_hot(y).float().to(\"cuda:0\")\n",
    "fig,ax = plt.subplots(5,5,figsize=(10,10))\n",
    "for i in range(5):\n",
    "    for j in range(5):\n",
    "        rnn = torch.nn.RNN(4,4).to(\"cuda:0\")\n",
    "        cook = torch.nn.Linear(4,4).to(\"cuda:0\")\n",
    "        loss_fn = torch.nn.CrossEntropyLoss()\n",
    "        optimizr = torch.optim.Adam(list(rnn.parameters()) + list(cook.parameters()), lr=0.1)\n",
    "        for epoc in range(500):\n",
    "            ## 1\n",
    "            h,_ = rnn(X)\n",
    "            netout = cook(h)\n",
    "            ## 2 \n",
    "            loss = loss_fn(netout,y)\n",
    "            ## 3 \n",
    "            loss.backward()\n",
    "            ## 4 \n",
    "            optimizr.step()\n",
    "            optimizr.zero_grad()\n",
    "        h = rnn(X)[0].data.to(\"cpu\")\n",
    "        yhat = soft(cook(rnn(X)[0])).data.to(\"cpu\")\n",
    "        mat = torch.concat([h,yhat],axis=1)[:8]\n",
    "        ax[i][j].matshow(mat,cmap=\"bwr\")\n",
    "        ax[i][j].axvline(x=3.5,color=\"lime\")\n",
    "        ax[i][j].set_xticks(range(8),[r'$h_1$',r'$h_2$',r'$h_3$',r'$h_4$',r'$P_a$',r'$P_b$',r'$P_c$',r'$P_C$'])\n",
    "fig.suptitle(\"RNN -- # of hidden nodes = 4\",size=20)\n",
    "fig.tight_layout()"
   ]
  },
  {
   "cell_type": "markdown",
   "id": "f815fdbb-e501-4468-a60a-3e1d3302c73b",
   "metadata": {},
   "source": [
    "## C. LSTM "
   ]
  },
  {
   "cell_type": "code",
   "execution_count": null,
   "id": "904dc979-14b3-4d10-8896-1a2ae1c2370d",
   "metadata": {
    "tags": []
   },
   "outputs": [],
   "source": [
    "x = torch.tensor(df_train.x.map({'a':0,'b':1,'c':2,'C':3}))\n",
    "y = torch.tensor(df_train.y.map({'a':0,'b':1,'c':2,'C':3}))\n",
    "X = torch.nn.functional.one_hot(x).float().to(\"cuda:0\")\n",
    "y = torch.nn.functional.one_hot(y).float().to(\"cuda:0\")\n",
    "fig,ax = plt.subplots(5,5,figsize=(10,10))\n",
    "for i in range(5):\n",
    "    for j in range(5):\n",
    "        lstm = torch.nn.LSTM(4,4).to(\"cuda:0\")\n",
    "        cook = torch.nn.Linear(4,4).to(\"cuda:0\")\n",
    "        loss_fn = torch.nn.CrossEntropyLoss()\n",
    "        optimizr = torch.optim.Adam(list(lstm.parameters()) + list(cook.parameters()), lr=0.1)\n",
    "        for epoc in range(500):\n",
    "            ## 1\n",
    "            h,_ = lstm(X)\n",
    "            netout = cook(h)\n",
    "            ## 2 \n",
    "            loss = loss_fn(netout,y)\n",
    "            ## 3 \n",
    "            loss.backward()\n",
    "            ## 4 \n",
    "            optimizr.step()\n",
    "            optimizr.zero_grad()\n",
    "        h = lstm(X)[0].data.to(\"cpu\")\n",
    "        yhat = soft(cook(lstm(X)[0])).data.to(\"cpu\")\n",
    "        mat = torch.concat([h,yhat],axis=1)[:8]\n",
    "        ax[i][j].matshow(mat,cmap=\"bwr\",vmin=-1,vmax=1)\n",
    "        ax[i][j].axvline(x=3.5,color=\"lime\")\n",
    "        ax[i][j].set_xticks(range(8),[r'$h_1$',r'$h_2$',r'$h_3$',r'$h_4$',r'$P_a$',r'$P_b$',r'$P_c$',r'$P_C$'])\n",
    "fig.suptitle(\"LSTM -- # of hidden nodes = 4\",size=20)\n",
    "fig.tight_layout()"
   ]
  }
 ],
 "metadata": {
  "kernelspec": {
   "display_name": "Python 3 (ipykernel)",
   "language": "python",
   "name": "python3"
  },
  "language_info": {
   "codemirror_mode": {
    "name": "ipython",
    "version": 3
   },
   "file_extension": ".py",
   "mimetype": "text/x-python",
   "name": "python",
   "nbconvert_exporter": "python",
   "pygments_lexer": "ipython3",
   "version": "3.11.8"
  }
 },
 "nbformat": 4,
 "nbformat_minor": 5
}
