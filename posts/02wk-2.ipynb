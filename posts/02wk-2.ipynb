{
 "cells": [
  {
   "cell_type": "raw",
   "id": "ad63f547-00a2-4f67-af6d-5956323a9e83",
   "metadata": {
    "id": "87b5cded-346b-4915-acf5-b5ec93a5207d"
   },
   "source": [
    "---\n",
    "title: \"02wk-2: 회귀분석 (3) -- Step1,2,4 의 변형\"\n",
    "author: \"최규빈\"\n",
    "date: \"03/13/2024\"\n",
    "---"
   ]
  },
  {
   "cell_type": "markdown",
   "id": "80f0ac2f-64ab-4941-af65-a3be2b4ace92",
   "metadata": {
    "id": "e67ab8e0"
   },
   "source": [
    "<a href=\"https://colab.research.google.com/github/guebin/DL2024/blob/main/posts/02wk-2.ipynb\"><img src=\"https://colab.research.google.com/assets/colab-badge.svg\" style=\"text-align: left\"></a>"
   ]
  },
  {
   "cell_type": "markdown",
   "id": "b07401da-f425-45dc-a183-345d65fa4911",
   "metadata": {
    "id": "4d47a7c9"
   },
   "source": [
    "# 1. 강의영상"
   ]
  },
  {
   "cell_type": "markdown",
   "id": "07cdba92",
   "metadata": {
    "tags": []
   },
   "source": [
    "{{<video https://youtu.be/playlist?list=PLQqh36zP38-xrw8e2pQ1KqKFb-i3lVtsI&si=dDAjAteouM7Y30HU >}}"
   ]
  },
  {
   "cell_type": "markdown",
   "id": "ef8cc96a-25a1-47c9-86a1-9364d9ed9c68",
   "metadata": {},
   "source": [
    "# 2. Imports"
   ]
  },
  {
   "cell_type": "code",
   "execution_count": 1,
   "id": "c0c54c1b-8839-4c46-b4c7-83e85bd7107d",
   "metadata": {
    "tags": []
   },
   "outputs": [],
   "source": [
    "import torch\n",
    "import matplotlib.pyplot as plt \n",
    "import numpy as np"
   ]
  },
  {
   "cell_type": "markdown",
   "id": "f9bec482-7e38-47f6-aab7-ca7728afc952",
   "metadata": {},
   "source": [
    "# 3. 회귀분석 예제의 다양한 구현"
   ]
  },
  {
   "cell_type": "markdown",
   "id": "bc14fe0b-d922-457e-ad42-c0e075c4be5d",
   "metadata": {},
   "source": [
    "## A. Data"
   ]
  },
  {
   "cell_type": "code",
   "execution_count": 2,
   "id": "a9d8670a-75b9-4052-b93b-876986add1c3",
   "metadata": {
    "tags": []
   },
   "outputs": [],
   "source": [
    "temp = [-2.4821, -2.3621, -1.9973, -1.6239, -1.4792, -1.4635, -1.4509, -1.4435,\n",
    "        -1.3722, -1.3079, -1.1904, -1.1092, -1.1054, -1.0875, -0.9469, -0.9319,\n",
    "        -0.8643, -0.7858, -0.7549, -0.7421, -0.6948, -0.6103, -0.5830, -0.5621,\n",
    "        -0.5506, -0.5058, -0.4806, -0.4738, -0.4710, -0.4676, -0.3874, -0.3719,\n",
    "        -0.3688, -0.3159, -0.2775, -0.2772, -0.2734, -0.2721, -0.2668, -0.2155,\n",
    "        -0.2000, -0.1816, -0.1708, -0.1565, -0.1448, -0.1361, -0.1057, -0.0603,\n",
    "        -0.0559, -0.0214,  0.0655,  0.0684,  0.1195,  0.1420,  0.1521,  0.1568,\n",
    "         0.2646,  0.2656,  0.3157,  0.3220,  0.3461,  0.3984,  0.4190,  0.5443,\n",
    "         0.5579,  0.5913,  0.6148,  0.6469,  0.6469,  0.6523,  0.6674,  0.7059,\n",
    "         0.7141,  0.7822,  0.8154,  0.8668,  0.9291,  0.9804,  0.9853,  0.9941,\n",
    "         1.0376,  1.0393,  1.0697,  1.1024,  1.1126,  1.1532,  1.2289,  1.3403,\n",
    "         1.3494,  1.4279,  1.4994,  1.5031,  1.5437,  1.6789,  2.0832,  2.2444,\n",
    "         2.3935,  2.6056,  2.6057,  2.6632]\n",
    "sales= [-8.5420, -6.5767, -5.9496, -4.4794, -4.2516, -3.1326, -4.0239, -4.1862,\n",
    "        -3.3403, -2.2027, -2.0262, -2.5619, -1.3353, -2.0466, -0.4664, -1.3513,\n",
    "        -1.6472, -0.1089, -0.3071, -0.6299, -0.0438,  0.4163,  0.4166, -0.0943,\n",
    "         0.2662,  0.4591,  0.8905,  0.8998,  0.6314,  1.3845,  0.8085,  1.2594,\n",
    "         1.1211,  1.9232,  1.0619,  1.3552,  2.1161,  1.1437,  1.6245,  1.7639,\n",
    "         1.6022,  1.7465,  0.9830,  1.7824,  2.1116,  2.8621,  2.1165,  1.5226,\n",
    "         2.5572,  2.8361,  3.3956,  2.0679,  2.8140,  3.4852,  3.6059,  2.5966,\n",
    "         2.8854,  3.9173,  3.6527,  4.1029,  4.3125,  3.4026,  3.2180,  4.5686,\n",
    "         4.3772,  4.3075,  4.4895,  4.4827,  5.3170,  5.4987,  5.4632,  6.0328,\n",
    "         5.2842,  5.0539,  5.4538,  6.0337,  5.7250,  5.7587,  6.2020,  6.5992,\n",
    "         6.4621,  6.5140,  6.6846,  7.3497,  8.0909,  7.0794,  6.8667,  7.4229,\n",
    "         7.2544,  7.1967,  9.5006,  9.0339,  7.4887,  9.0759, 11.0946, 10.3260,\n",
    "        12.2665, 13.0983, 12.5468, 13.8340]\n",
    "x = torch.tensor(temp).reshape(-1,1)\n",
    "ones = torch.ones(100).reshape(-1,1)\n",
    "X = torch.concat([ones,x],axis=1)\n",
    "y = torch.tensor(sales).reshape(-1,1)"
   ]
  },
  {
   "cell_type": "markdown",
   "id": "3718d759-28e4-4edf-937d-ef0529477b4b",
   "metadata": {
    "tags": []
   },
   "source": [
    "## B. 파이토치를 이용한 학습 "
   ]
  },
  {
   "cell_type": "markdown",
   "id": "cad3ed7c-6700-4a5f-9b9f-6779be4e670e",
   "metadata": {},
   "source": [
    "`-` 외우세여"
   ]
  },
  {
   "cell_type": "code",
   "execution_count": 3,
   "id": "20ecbdda",
   "metadata": {},
   "outputs": [],
   "source": [
    "What = torch.tensor([[-5.0],[10.0]],requires_grad=True)\n",
    "for epoc in range(30):\n",
    "    ## step1 yhat Prediction\n",
    "    yhat = X@What\n",
    "    ## step2 loss (초기 선이 적합한지 기준)\n",
    "    loss = torch.sum((y-yhat)**2)       # SSE : Sum of Square error\n",
    "    ## step3 미분  (업데이트를 위한 준비)\n",
    "    loss.backward()\n",
    "    # print(What.grad)\n",
    "    ## step4 업데이트\n",
    "    What.data = What.data -0.001 * What.grad\n",
    "    What.grad = None    # 왜 None으로 초기화 다시 해야하는지?    \n",
    "    ## step1 반복"
   ]
  },
  {
   "cell_type": "markdown",
   "id": "8afdc057-f260-419a-b409-38e65968320a",
   "metadata": {},
   "source": [
    "`-` 결과 시각화 "
   ]
  },
  {
   "cell_type": "code",
   "execution_count": 4,
   "id": "e80990ad-2915-45f6-8aa4-fc392ba226ac",
   "metadata": {
    "tags": []
   },
   "outputs": [
    {
     "data": {
      "image/png": "[encoded data removed]",
      "text/plain": [
       "<Figure size 640x480 with 1 Axes>"
      ]
     },
     "metadata": {},
     "output_type": "display_data"
    }
   ],
   "source": [
    "plt.plot(x,y,'o')\n",
    "plt.plot(x,X@What.data,'--')\n",
    "plt.title(f'What={What.data.reshape(-1)}');"
   ]
  },
  {
   "cell_type": "markdown",
   "id": "6afe135f-715c-4bc6-a1c9-230b8961fa76",
   "metadata": {},
   "source": [
    "## C. Step2의 수정"
   ]
  },
  {
   "cell_type": "markdown",
   "id": "b6a45b87-32da-4b65-bb1e-15de3fbb4efc",
   "metadata": {},
   "source": [
    "`-` 수정된 코드  \n",
    "- loss_fn = torch.nn.MSELoss() 의 등장  "
   ]
  },
  {
   "cell_type": "markdown",
   "id": "dfc7494c",
   "metadata": {},
   "source": [
    "여기서 learning rate가 기존 **0.001** 에서 **0.1** 으로 대폭? 커졌다. SSE에서 MSE로 가면서, loss가 평균화로 작아지는 것에 대해 기울기 grad 값도 같이 작아져서, update가 더뎌지는걸 learning rate를 높여서 보상? 했다고 생각하면 될 듯."
   ]
  },
  {
   "cell_type": "code",
   "execution_count": 5,
   "id": "ad72faf0",
   "metadata": {},
   "outputs": [],
   "source": [
    "What = torch.tensor([[-5.0],[10.0]],requires_grad=True)\n",
    "loss_fn = torch.nn.MSELoss()\n",
    "for epoc in range(30):\n",
    "    ## step 1 : Yhat prediction\n",
    "    yhat = X@What \n",
    "    ## step 2 : Loss definition\n",
    "    #loss = torch.sum((y-yhat)**2)/100\n",
    "    loss = loss_fn(yhat,y)                  # 여기서는 큰 상관없지만 습관적으로 yhat을 먼저넣는 연습을 하자!!\n",
    "    ## step 3 : Calculate gradient\n",
    "    loss.backward()\n",
    "    ## step 4 : Update\n",
    "    What.data = What.data -0.1*What.grad    # 여기서 learning rate가 기존 0.001 에서 0.1 으로 대폭? 커졌다. SSE에서 MSE로 가면서, loss가 평균화로 작아지는 것에 대해 기울기 grad 값도 같이 작아져서, update가 더뎌지는걸 learning rate를 높여서 보상? 했다고 생각하면 될 듯.\n",
    "    What.grad =None"
   ]
  },
  {
   "cell_type": "code",
   "execution_count": 6,
   "id": "3c04b176",
   "metadata": {},
   "outputs": [
    {
     "data": {
      "image/png": "[encoded data removed]",
      "text/plain": [
       "<Figure size 640x480 with 1 Axes>"
      ]
     },
     "metadata": {},
     "output_type": "display_data"
    }
   ],
   "source": [
    "plt.plot(x,y,'o')\n",
    "plt.plot(x,X@What.data,'--')\n",
    "plt.title(f'What={What.data.reshape(-1)}');"
   ]
  },
  {
   "cell_type": "markdown",
   "id": "6c7b17a9",
   "metadata": {},
   "source": [
    "여기서 learning rate가 **기존 0.001** 으로 하면 **30 epoch**으로는 택도 없다. **3000** 정도는 되어야 한다."
   ]
  },
  {
   "cell_type": "code",
   "execution_count": 7,
   "id": "472d91ae-faa4-41d1-b79e-0a17640eef2a",
   "metadata": {
    "tags": []
   },
   "outputs": [],
   "source": [
    "What = torch.tensor([[-5.0],[10.0]],requires_grad=True)\n",
    "loss_fn = torch.nn.MSELoss()\n",
    "for epoc in range(3000):\n",
    "    ## step 1 : Yhat prediction\n",
    "    yhat = X@What \n",
    "    ## step 2 : Loss definition\n",
    "    #loss = torch.sum((y-yhat)**2)/100\n",
    "    loss = loss_fn(yhat,y)                  # 여기서는 큰 상관없지만 습관적으로 yhat을 먼저넣는 연습을 하자!!\n",
    "    ## step 3 : Calculate gradient\n",
    "    loss.backward()\n",
    "    ## step 4 : Update\n",
    "    What.data = What.data -0.001*What.grad    # 여기서 learning rate가 기존 0.001 으로 하면 30 epoch으로는 택도 없다. 3000 정도는 되어야 한다.\n",
    "    What.grad =None"
   ]
  },
  {
   "cell_type": "markdown",
   "id": "16bc80c9-26c1-4f24-8090-319d66e8cb81",
   "metadata": {},
   "source": [
    "`-` 결과확인 "
   ]
  },
  {
   "cell_type": "code",
   "execution_count": 8,
   "id": "00f21ab6-951e-4971-920e-606a7a754841",
   "metadata": {
    "tags": []
   },
   "outputs": [
    {
     "data": {
      "image/png": "[encoded data removed]",
      "text/plain": [
       "<Figure size 640x480 with 1 Axes>"
      ]
     },
     "metadata": {},
     "output_type": "display_data"
    }
   ],
   "source": [
    "plt.plot(x,y,'o')\n",
    "plt.plot(x,X@What.data,'--')\n",
    "plt.title(f'What={What.data.reshape(-1)}');"
   ]
  },
  {
   "cell_type": "markdown",
   "id": "b6eb1ff4-e616-40be-81cd-d3305fac000f",
   "metadata": {},
   "source": [
    "## D. Step1의 수정 -- `net`의 이용"
   ]
  },
  {
   "cell_type": "markdown",
   "id": "1186f7e4-1250-436c-a361-77afca395fbf",
   "metadata": {},
   "source": [
    "`-` net 오브젝트란? \n",
    "net = torch.nn.Linear(\n",
    "    in_features=int(2),          # input의 차원 , X=(n:데이터 개수,2:차원), 즉 x(n,2)에서 n이 아닌 2를 넣어야되네.     # 02wk-2 강의 18:42 에서 이유 설명\n",
    "    out_features=int(1),         # output의 차원    y=(2,1) , 즉 y(n,1) 에서 1을 넣어야되네                       # 02wk-2 강의 19:16 에서 이유 설명 .  쉽게 말해 w0와 w1으로 y를 찾고싶은거니까!\n",
    "    bias=True (default)     # bias\n",
    ")"
   ]
  },
  {
   "cell_type": "code",
   "execution_count": 9,
   "id": "7b653965",
   "metadata": {},
   "outputs": [
    {
     "name": "stdout",
     "output_type": "stream",
     "text": [
      "\u001b[0;31mInit signature:\u001b[0m\n",
      "\u001b[0mtorch\u001b[0m\u001b[0;34m.\u001b[0m\u001b[0mnn\u001b[0m\u001b[0;34m.\u001b[0m\u001b[0mLinear\u001b[0m\u001b[0;34m(\u001b[0m\u001b[0;34m\u001b[0m\n",
      "\u001b[0;34m\u001b[0m    \u001b[0min_features\u001b[0m\u001b[0;34m:\u001b[0m \u001b[0mint\u001b[0m\u001b[0;34m,\u001b[0m\u001b[0;34m\u001b[0m\n",
      "\u001b[0;34m\u001b[0m    \u001b[0mout_features\u001b[0m\u001b[0;34m:\u001b[0m \u001b[0mint\u001b[0m\u001b[0;34m,\u001b[0m\u001b[0;34m\u001b[0m\n",
      "\u001b[0;34m\u001b[0m    \u001b[0mbias\u001b[0m\u001b[0;34m:\u001b[0m \u001b[0mbool\u001b[0m \u001b[0;34m=\u001b[0m \u001b[0;32mTrue\u001b[0m\u001b[0;34m,\u001b[0m\u001b[0;34m\u001b[0m\n",
      "\u001b[0;34m\u001b[0m    \u001b[0mdevice\u001b[0m\u001b[0;34m=\u001b[0m\u001b[0;32mNone\u001b[0m\u001b[0;34m,\u001b[0m\u001b[0;34m\u001b[0m\n",
      "\u001b[0;34m\u001b[0m    \u001b[0mdtype\u001b[0m\u001b[0;34m=\u001b[0m\u001b[0;32mNone\u001b[0m\u001b[0;34m,\u001b[0m\u001b[0;34m\u001b[0m\n",
      "\u001b[0;34m\u001b[0m\u001b[0;34m)\u001b[0m \u001b[0;34m->\u001b[0m \u001b[0;32mNone\u001b[0m\u001b[0;34m\u001b[0m\u001b[0;34m\u001b[0m\u001b[0m\n",
      "\u001b[0;31mDocstring:\u001b[0m     \n",
      "Applies a linear transformation to the incoming data: :math:`y = xA^T + b`.\n",
      "\n",
      "This module supports :ref:`TensorFloat32<tf32_on_ampere>`.\n",
      "\n",
      "On certain ROCm devices, when using float16 inputs this module will use :ref:`different precision<fp16_on_mi200>` for backward.\n",
      "\n",
      "Args:\n",
      "    in_features: size of each input sample\n",
      "    out_features: size of each output sample\n",
      "    bias: If set to ``False``, the layer will not learn an additive bias.\n",
      "        Default: ``True``\n",
      "\n",
      "Shape:\n",
      "    - Input: :math:`(*, H_{in})` where :math:`*` means any number of\n",
      "      dimensions including none and :math:`H_{in} = \\text{in\\_features}`.\n",
      "    - Output: :math:`(*, H_{out})` where all but the last dimension\n",
      "      are the same shape as the input and :math:`H_{out} = \\text{out\\_features}`.\n",
      "\n",
      "Attributes:\n",
      "    weight: the learnable weights of the module of shape\n",
      "        :math:`(\\text{out\\_features}, \\text{in\\_features})`. The values are\n",
      "        initialized from :math:`\\mathcal{U}(-\\sqrt{k}, \\sqrt{k})`, where\n",
      "        :math:`k = \\frac{1}{\\text{in\\_features}}`\n",
      "    bias:   the learnable bias of the module of shape :math:`(\\text{out\\_features})`.\n",
      "            If :attr:`bias` is ``True``, the values are initialized from\n",
      "            :math:`\\mathcal{U}(-\\sqrt{k}, \\sqrt{k})` where\n",
      "            :math:`k = \\frac{1}{\\text{in\\_features}}`\n",
      "\n",
      "Examples::\n",
      "\n",
      "    >>> m = nn.Linear(20, 30)\n",
      "    >>> input = torch.randn(128, 20)\n",
      "    >>> output = m(input)\n",
      "    >>> print(output.size())\n",
      "    torch.Size([128, 30])\n",
      "\u001b[0;31mInit docstring:\u001b[0m Initialize internal Module state, shared by both nn.Module and ScriptModule.\n",
      "\u001b[0;31mFile:\u001b[0m           ~/.conda/envs/dl2024/lib/python3.8/site-packages/torch/nn/modules/linear.py\n",
      "\u001b[0;31mType:\u001b[0m           type\n",
      "\u001b[0;31mSubclasses:\u001b[0m     NonDynamicallyQuantizableLinear, LazyLinear, Linear, LinearBn1d, Linear"
     ]
    }
   ],
   "source": [
    "torch.nn.Linear?"
   ]
  },
  {
   "cell_type": "markdown",
   "id": "e8e24290-6a83-4b65-958a-153abcd6e0d3",
   "metadata": {},
   "source": [
    "원래 yhat을 이런식으로 구했는데 ~"
   ]
  },
  {
   "cell_type": "code",
   "execution_count": null,
   "id": "6245848b-2525-41da-9df2-705f6aa3695c",
   "metadata": {
    "tags": []
   },
   "outputs": [],
   "source": [
    "What = torch.tensor([[-5.0],[10.0]],requires_grad = True)\n",
    "(X@What.data)[:5]"
   ]
  },
  {
   "cell_type": "markdown",
   "id": "4f7e70b0-d18d-469f-8a52-6c862549d123",
   "metadata": {},
   "source": [
    "이런식으로도 구할수 있음!"
   ]
  },
  {
   "cell_type": "code",
   "execution_count": null,
   "id": "b45173f1-7b60-45f6-917d-68739eea2e5f",
   "metadata": {
    "tags": []
   },
   "outputs": [],
   "source": [
    "net = torch.nn.Linear(\n",
    "    in_features=2,      # w0,w1\n",
    "    out_features=1,     # y\n",
    "    bias=False          # already w0 exists\n",
    ")"
   ]
  },
  {
   "cell_type": "markdown",
   "id": "23f5019b",
   "metadata": {},
   "source": [
    "torch.nn.Linear 으로 생성된 net 객체는 __callable__ 하므로 () 호출자 사용이 가능"
   ]
  },
  {
   "cell_type": "code",
   "execution_count": null,
   "id": "9cb4c309",
   "metadata": {},
   "outputs": [],
   "source": [
    "dir(net)"
   ]
  },
  {
   "cell_type": "code",
   "execution_count": null,
   "id": "2a75f423-b056-46f9-b1b9-88f0e6142d49",
   "metadata": {
    "tags": []
   },
   "outputs": [],
   "source": [
    "net.weight.data = torch.tensor([[-5.0,  10.0]]) # in_features와 동일한 입력인자 개수, 여기선 column 벡터가 아닌 row 벡터를 넣어줘야 한다.\n",
    "net.weight      # w0 : -5 , w1 : 10 , What의 Transform 형태로 정의됨"
   ]
  },
  {
   "cell_type": "code",
   "execution_count": null,
   "id": "10bea7c8",
   "metadata": {},
   "outputs": [],
   "source": [
    "net(X)          # 입력 X 가 네트워크 net을 타고 yhat이 되는 과정"
   ]
  },
  {
   "cell_type": "code",
   "execution_count": null,
   "id": "c88ea242-e70a-493e-a975-bf3c28aa688b",
   "metadata": {
    "tags": []
   },
   "outputs": [],
   "source": [
    "net(X)[:5]"
   ]
  },
  {
   "cell_type": "code",
   "execution_count": null,
   "id": "a0abb3b9",
   "metadata": {},
   "outputs": [],
   "source": [
    "plt.plot(x,y,'o')\n",
    "plt.plot(x,net(X).data,'--')\n",
    "plt.title(f'net.weight.data={net.weight.data.reshape(-1)}');"
   ]
  },
  {
   "cell_type": "markdown",
   "id": "8b8e481c-3e0b-4b22-beed-8b8209e153f2",
   "metadata": {},
   "source": [
    "`-` 학습 "
   ]
  },
  {
   "cell_type": "markdown",
   "id": "3a3ae7af",
   "metadata": {},
   "source": [
    "구버전"
   ]
  },
  {
   "cell_type": "code",
   "execution_count": null,
   "id": "4e817a75",
   "metadata": {},
   "outputs": [],
   "source": [
    "What = torch.tensor([[-5.0],[10.0]],requires_grad=True)\n",
    "loss_fn = torch.nn.MSELoss()\n",
    "for epoc in range(30):\n",
    "    ## step 1 : Yhat prediction\n",
    "    yhat = X@What \n",
    "    ## step 2 : Loss definition\n",
    "    #loss = torch.sum((y-yhat)**2)/100\n",
    "    loss = loss_fn(yhat,y)                  # 여기서는 큰 상관없지만 습관적으로 yhat을 먼저넣는 연습을 하자!!\n",
    "    ## step 3 : Calculate gradient\n",
    "    loss.backward()\n",
    "    ## step 4 : Update\n",
    "    What.data = What.data -0.1*What.grad    # 여기서 learning rate가 기존 0.001 에서 0.1 으로 대폭? 커졌다. SSE에서 MSE로 가면서, loss가 평균화로 작아지는 것에 대해 기울기 grad 값도 같이 작아져서, update가 더뎌지는걸 learning rate를 높여서 보상? 했다고 생각하면 될 듯.\n",
    "    What.grad =None"
   ]
  },
  {
   "cell_type": "markdown",
   "id": "81471bc7",
   "metadata": {},
   "source": [
    "신버전  \n",
    "- new(X) = X@What\n",
    "- net.weight = What  "
   ]
  },
  {
   "cell_type": "code",
   "execution_count": null,
   "id": "c7bb0533-11f1-4658-8697-05cb72c27540",
   "metadata": {
    "tags": []
   },
   "outputs": [],
   "source": [
    "# step1을 위한 사전준비\n",
    "net = torch.nn.Linear(\n",
    "    in_features=2,\n",
    "    out_features=1,\n",
    "    bias=False\n",
    ")\n",
    "net.weight.data = torch.tensor([[-5.0,  10.0]]) # 이때 차원이 column 이 아닌 row 인걸 주의해라.\n",
    "# step2를 위한 사전준비\n",
    "loss_fn = torch.nn.MSELoss()\n",
    "for epoc in range(30):\n",
    "    # step1: yhat \n",
    "    yhat = net(X)\n",
    "    # step2: loss\n",
    "    loss = loss_fn(yhat,y)\n",
    "    # step3: 미분\n",
    "    loss.backward()\n",
    "    # step4: update\n",
    "    net.weight.data = net.weight.data - 0.1 * net.weight.grad\n",
    "    net.weight.grad = None"
   ]
  },
  {
   "cell_type": "markdown",
   "id": "b3646780-05bb-434f-bcd0-0dbec46046a3",
   "metadata": {},
   "source": [
    "`-` 결과확인"
   ]
  },
  {
   "cell_type": "code",
   "execution_count": null,
   "id": "a1e1d8ca-19c1-466e-b90e-332d2075058b",
   "metadata": {
    "tags": []
   },
   "outputs": [],
   "source": [
    "plt.plot(x,y,'o')\n",
    "plt.plot(x,net(X).data,'--')\n",
    "plt.title(f'net.weight={net.weight.data.reshape(-1)}');"
   ]
  },
  {
   "cell_type": "markdown",
   "id": "59a55bbd-759c-44d4-aa4f-36cc6b3ee245",
   "metadata": {},
   "source": [
    "## E. Step4의 수정 -- optimizer의 이용 "
   ]
  },
  {
   "cell_type": "markdown",
   "id": "ccde83f0-21e5-4ab0-9522-07af00019eb3",
   "metadata": {
    "tags": []
   },
   "source": [
    "***기존코드의 에폭별분해***"
   ]
  },
  {
   "cell_type": "markdown",
   "id": "c7265ad1-e207-429e-a25d-24935da378f8",
   "metadata": {},
   "source": [
    "`-` 준비과정"
   ]
  },
  {
   "cell_type": "code",
   "execution_count": null,
   "id": "801c4c0e-0cba-4fe0-92c1-65da50845c9f",
   "metadata": {
    "tags": []
   },
   "outputs": [],
   "source": [
    "# step1을 위한 사전준비\n",
    "net = torch.nn.Linear(\n",
    "    in_features=2,\n",
    "    out_features=1,\n",
    "    bias=False\n",
    ")\n",
    "net.weight.data = torch.tensor([[-5.0,  10.0]])\n",
    "# step2를 위한 사전준비\n",
    "loss_fn = torch.nn.MSELoss()"
   ]
  },
  {
   "cell_type": "markdown",
   "id": "9bbcf618-9532-425a-91ea-8d6c78efeea6",
   "metadata": {},
   "source": [
    "`-` 에폭별분해 "
   ]
  },
  {
   "cell_type": "markdown",
   "id": "af282af0-9fa2-466b-b003-db3420dce39c",
   "metadata": {},
   "source": [
    "(미분전) -- step1~2 완료"
   ]
  },
  {
   "cell_type": "code",
   "execution_count": null,
   "id": "55ef6c53-dbda-4204-b964-b663b37c0f3f",
   "metadata": {
    "tags": []
   },
   "outputs": [],
   "source": [
    "yhat = net(X)\n",
    "loss = loss_fn(yhat,y)"
   ]
  },
  {
   "cell_type": "code",
   "execution_count": null,
   "id": "71366888-d58f-42f6-a378-abf4d8584c54",
   "metadata": {
    "tags": []
   },
   "outputs": [],
   "source": [
    "print(f'파라메터 = {net.weight.data}')\n",
    "print(f'미분값 = {net.weight.grad}')"
   ]
  },
  {
   "cell_type": "markdown",
   "id": "42f91913-2fe6-47df-a2d5-b67edfe59f86",
   "metadata": {},
   "source": [
    "(미분후, 업데이트 진행전) -- step3 완료"
   ]
  },
  {
   "cell_type": "code",
   "execution_count": null,
   "id": "7d0f070d-4a55-494d-9a3b-7c7f190bc660",
   "metadata": {
    "tags": []
   },
   "outputs": [],
   "source": [
    "loss.backward()"
   ]
  },
  {
   "cell_type": "code",
   "execution_count": null,
   "id": "06ae294b-0678-462f-ba90-98ab70d491a0",
   "metadata": {
    "tags": []
   },
   "outputs": [],
   "source": [
    "print(f'파라메터 = {net.weight.data}')\n",
    "print(f'미분값 = {net.weight.grad}')"
   ]
  },
  {
   "cell_type": "markdown",
   "id": "bcbe409e-2745-4bb4-b66a-36febcb7513d",
   "metadata": {},
   "source": [
    "(업데이트 진행후) -- step4 의 첫째줄 완료 "
   ]
  },
  {
   "cell_type": "code",
   "execution_count": null,
   "id": "a2e3e002-c7e4-4a36-b7e4-8738b488a601",
   "metadata": {
    "tags": []
   },
   "outputs": [],
   "source": [
    "net.weight.data = net.weight.data - 0.1 * net.weight.grad"
   ]
  },
  {
   "cell_type": "code",
   "execution_count": null,
   "id": "c5cf3873-e9f5-408b-9951-9d5d954d6054",
   "metadata": {
    "tags": []
   },
   "outputs": [],
   "source": [
    "print(f'파라메터 = {net.weight.data}')\n",
    "print(f'미분값 = {net.weight.grad}')    # 미분값은 그대로 있는데 weight값은 반영됨"
   ]
  },
  {
   "cell_type": "markdown",
   "id": "4bfb2904-6bce-4dc6-bd11-e8bfd824a1f3",
   "metadata": {},
   "source": [
    "(업데이트 완료 후 초기화까지 끝냄) -- step4 의 두번째줄 완료 "
   ]
  },
  {
   "cell_type": "code",
   "execution_count": null,
   "id": "43bcf154-b9b4-4153-8368-e9ae2592dc4c",
   "metadata": {
    "tags": []
   },
   "outputs": [],
   "source": [
    "net.weight.grad = None"
   ]
  },
  {
   "cell_type": "code",
   "execution_count": null,
   "id": "37f036dd-4fa6-4a69-a7a4-79e05b23d0d0",
   "metadata": {
    "tags": []
   },
   "outputs": [],
   "source": [
    "print(f'파라메터 = {net.weight.data}')\n",
    "print(f'미분값 = {net.weight.grad}')"
   ]
  },
  {
   "cell_type": "markdown",
   "id": "55c61b69-d8dc-4bc9-84b5-2c5973680aeb",
   "metadata": {
    "tags": []
   },
   "source": [
    "***새로운코드의 에폭별분해***"
   ]
  },
  {
   "cell_type": "markdown",
   "id": "2afa06bd-2494-4b81-aad7-868b42e63036",
   "metadata": {},
   "source": [
    "`-` 준비과정 -- 옵티마이저라는 오브젝트를 셋팅한다!"
   ]
  },
  {
   "cell_type": "code",
   "execution_count": null,
   "id": "804d38ba",
   "metadata": {},
   "outputs": [],
   "source": [
    "torch.optim.SGD?"
   ]
  },
  {
   "cell_type": "code",
   "execution_count": 10,
   "id": "821d9ec0-7bab-45ce-9f8b-db0b60cfa351",
   "metadata": {
    "tags": []
   },
   "outputs": [],
   "source": [
    "# step1인 yhat을 위한 사전준비 , \n",
    "# What = torch.tensor([[-5],[10]] grad true), yhat=X@What -> yhat=net(X)\n",
    "net = torch.nn.Linear(\n",
    "    in_features=2,\n",
    "    out_features=1,\n",
    "    bias=False\n",
    ")\n",
    "net.weight.data = torch.tensor([[-5.0,  10.0]])\n",
    "# step2 loss를 위한 사전준비\n",
    "# loss = loss_fn(yhat,y)\n",
    "loss_fn = torch.nn.MSELoss()\n",
    "# step 4 update를 위한 사전준비 \n",
    "optimizr = torch.optim.SGD(params=net.parameters(),lr=0.1)  #  net.parameters() == tensor([[-5., 10.]], requires_grad=True)"
   ]
  },
  {
   "cell_type": "markdown",
   "id": "6a75f902",
   "metadata": {},
   "source": [
    "net.parameters() 를 출력해보면 generator object 라고 뜨면서 메모리 주소가 뜬다.."
   ]
  },
  {
   "cell_type": "code",
   "execution_count": null,
   "id": "a07c3366",
   "metadata": {},
   "outputs": [],
   "source": [
    "net.parameters()"
   ]
  },
  {
   "cell_type": "markdown",
   "id": "f42a4681",
   "metadata": {},
   "source": [
    "참고로 generator object  는 list 로 감싸면 값을 출력할 수 있다고 한다."
   ]
  },
  {
   "cell_type": "code",
   "execution_count": null,
   "id": "fc36fcf0",
   "metadata": {},
   "outputs": [],
   "source": [
    "list(net.parameters())"
   ]
  },
  {
   "cell_type": "code",
   "execution_count": null,
   "id": "faff782d",
   "metadata": {},
   "outputs": [],
   "source": [
    "optimizr"
   ]
  },
  {
   "cell_type": "markdown",
   "id": "6b2e3af8-29a1-4a9a-8753-60e78fefa4d5",
   "metadata": {},
   "source": [
    "`-` 에폭별분해 "
   ]
  },
  {
   "cell_type": "markdown",
   "id": "8096d860-e4c6-48fc-8084-abd8a04e9a62",
   "metadata": {},
   "source": [
    "(미분전) -- step1~2 완료"
   ]
  },
  {
   "cell_type": "code",
   "execution_count": null,
   "id": "8a8405ac-3629-4637-9d30-33e92aa94a3b",
   "metadata": {
    "tags": []
   },
   "outputs": [],
   "source": [
    "yhat = net(X)\n",
    "loss = loss_fn(yhat,y)"
   ]
  },
  {
   "cell_type": "code",
   "execution_count": null,
   "id": "fb744ec3-3102-449a-bee4-9ac8ad8f2b79",
   "metadata": {
    "tags": []
   },
   "outputs": [],
   "source": [
    "print(f'파라메터 = {net.weight.data}')\n",
    "print(f'미분값 = {net.weight.grad}')"
   ]
  },
  {
   "cell_type": "markdown",
   "id": "0c49eccb-1c2f-4ed4-93b0-58720b0a41b1",
   "metadata": {},
   "source": [
    "(미분후, 업데이트 진행전) -- step3 완료"
   ]
  },
  {
   "cell_type": "code",
   "execution_count": null,
   "id": "9c1264fd-f836-42af-8836-0280f2b742ea",
   "metadata": {
    "tags": []
   },
   "outputs": [],
   "source": [
    "loss.backward()"
   ]
  },
  {
   "cell_type": "code",
   "execution_count": null,
   "id": "64cb7cb3-11ea-48b8-9afb-a18630205508",
   "metadata": {
    "tags": []
   },
   "outputs": [],
   "source": [
    "print(f'파라메터 = {net.weight.data}')\n",
    "print(f'미분값 = {net.weight.grad}')"
   ]
  },
  {
   "cell_type": "markdown",
   "id": "688400b4-93fa-415f-90a4-67d1dc0c0398",
   "metadata": {},
   "source": [
    "(업데이트 진행후) -- step4 의 첫째줄 완료 "
   ]
  },
  {
   "cell_type": "code",
   "execution_count": null,
   "id": "6220984c-23f7-40ce-aa2c-6eab097f470b",
   "metadata": {
    "tags": []
   },
   "outputs": [],
   "source": [
    "#net.weight.data = net.weight.data - 0.1 * net.weight.grad\n",
    "optimizr.step()"
   ]
  },
  {
   "cell_type": "code",
   "execution_count": null,
   "id": "056581d0-71c7-4ce6-9938-f0e232cba157",
   "metadata": {
    "tags": []
   },
   "outputs": [],
   "source": [
    "print(f'파라메터 = {net.weight.data}')\n",
    "print(f'미분값 = {net.weight.grad}')"
   ]
  },
  {
   "cell_type": "markdown",
   "id": "426e91ac-94c5-4ce3-8469-61d47cfabbe0",
   "metadata": {},
   "source": [
    "(업데이트 완료 후 초기화까지 끝냄) -- step4 의 두번째줄 완료 "
   ]
  },
  {
   "cell_type": "code",
   "execution_count": null,
   "id": "162c2046-abd9-4ead-818d-0d135c71ce0f",
   "metadata": {
    "tags": []
   },
   "outputs": [],
   "source": [
    "#net.weight.grad = None\n",
    "optimizr.zero_grad()"
   ]
  },
  {
   "cell_type": "code",
   "execution_count": null,
   "id": "1e06c04e-cc8f-4b22-bab3-bed2398f37e5",
   "metadata": {
    "tags": []
   },
   "outputs": [],
   "source": [
    "print(f'파라메터 = {net.weight.data}')\n",
    "print(f'미분값 = {net.weight.grad}')"
   ]
  },
  {
   "cell_type": "markdown",
   "id": "8af1819a-5cfe-4bc6-a8c7-eaf365414bd2",
   "metadata": {},
   "source": [
    "***최종코드***"
   ]
  },
  {
   "cell_type": "markdown",
   "id": "bed865dd-96cc-41ee-922d-965c68866c8d",
   "metadata": {},
   "source": [
    "`-` 학습 "
   ]
  },
  {
   "cell_type": "code",
   "execution_count": 11,
   "id": "318baa0a-00cd-4766-912a-d58bd1f42ca5",
   "metadata": {
    "tags": []
   },
   "outputs": [],
   "source": [
    "# step1을 위한 사전준비\n",
    "net = torch.nn.Linear(\n",
    "    in_features=2,\n",
    "    out_features=1,\n",
    "    bias=False\n",
    ")\n",
    "net.weight.data = torch.tensor([[-5.0,  10.0]]) # 차원 조심, row 벡터로 할 것\n",
    "# step2를 위한 사전준비\n",
    "loss_fn = torch.nn.MSELoss()\n",
    "# step4를 위한 사전준비 \n",
    "optimizr = torch.optim.SGD(net.parameters(),lr=0.1)\n",
    "for epoc in range(30):\n",
    "    # step1: yhat \n",
    "    yhat = net(X)\n",
    "    # step2: loss\n",
    "    loss = loss_fn(yhat,y)\n",
    "    # step3: 미분\n",
    "    loss.backward()\n",
    "    # step4: update\n",
    "    optimizr.step()\n",
    "    optimizr.zero_grad()"
   ]
  },
  {
   "cell_type": "code",
   "execution_count": 12,
   "id": "c55a671b",
   "metadata": {},
   "outputs": [
    {
     "name": "stdout",
     "output_type": "stream",
     "text": [
      "\u001b[0;31mSignature:\u001b[0m \u001b[0moptimizr\u001b[0m\u001b[0;34m.\u001b[0m\u001b[0mstep\u001b[0m\u001b[0;34m(\u001b[0m\u001b[0mclosure\u001b[0m\u001b[0;34m=\u001b[0m\u001b[0;32mNone\u001b[0m\u001b[0;34m)\u001b[0m\u001b[0;34m\u001b[0m\u001b[0;34m\u001b[0m\u001b[0m\n",
      "\u001b[0;31mDocstring:\u001b[0m\n",
      "Performs a single optimization step.\n",
      "\n",
      "Args:\n",
      "    closure (Callable, optional): A closure that reevaluates the model\n",
      "        and returns the loss.\n",
      "\u001b[0;31mFile:\u001b[0m      ~/.conda/envs/dl2024/lib/python3.8/site-packages/torch/optim/sgd.py\n",
      "\u001b[0;31mType:\u001b[0m      method"
     ]
    }
   ],
   "source": [
    "optimizr.step?"
   ]
  },
  {
   "cell_type": "markdown",
   "id": "8acaa3ad-4c9f-430d-bc07-fbedef75f6bb",
   "metadata": {},
   "source": [
    "`-` 결과확인 "
   ]
  },
  {
   "cell_type": "code",
   "execution_count": 13,
   "id": "ab5007a3-46a8-40a8-8436-955b8f308bef",
   "metadata": {
    "tags": []
   },
   "outputs": [
    {
     "data": {
      "image/png": "[encoded data removed]",
      "text/plain": [
       "<Figure size 640x480 with 1 Axes>"
      ]
     },
     "metadata": {},
     "output_type": "display_data"
    }
   ],
   "source": [
    "plt.plot(x,y,'o')\n",
    "plt.plot(x,yhat.data,'--')\n",
    "plt.title(f'net.weight={net.weight.data.reshape(-1)}');"
   ]
  },
  {
   "cell_type": "code",
   "execution_count": null,
   "id": "c8aa4ad4",
   "metadata": {},
   "outputs": [],
   "source": []
  }
 ],
 "metadata": {
  "kernelspec": {
   "display_name": "Python 3 (ipykernel)",
   "language": "python",
   "name": "python3"
  },
  "language_info": {
   "codemirror_mode": {
    "name": "ipython",
    "version": 3
   },
   "file_extension": ".py",
   "mimetype": "text/x-python",
   "name": "python",
   "nbconvert_exporter": "python",
   "pygments_lexer": "ipython3",
   "version": "3.8.19"
  }
 },
 "nbformat": 4,
 "nbformat_minor": 5
}
