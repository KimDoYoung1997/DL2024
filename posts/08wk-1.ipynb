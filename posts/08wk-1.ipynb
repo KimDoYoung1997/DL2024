{
 "cells": [
  {
   "cell_type": "raw",
   "id": "9c91760c-0490-4bbd-a907-f67f3abb9fb2",
   "metadata": {
    "tags": []
   },
   "source": [
    "---\n",
    "title: \"08wk-1: 적대적 생성 신경망 (GAN)\"\n",
    "author: \"최규빈\"\n",
    "date: \"04/22/2024\"\n",
    "categories:\n",
    "---"
   ]
  },
  {
   "cell_type": "markdown",
   "id": "22b6c0ff-0060-496d-b9dc-20f843d2a7eb",
   "metadata": {},
   "source": [
    "# 1. 강의영상 "
   ]
  },
  {
   "cell_type": "markdown",
   "id": "78c28f9b-64a4-4979-9eab-dbf88f2f7f89",
   "metadata": {},
   "source": [
    "# 2. Imports"
   ]
  },
  {
   "cell_type": "code",
   "execution_count": 3,
   "id": "8f622828-1f15-4ee0-a2fd-680c24d412ad",
   "metadata": {
    "tags": []
   },
   "outputs": [],
   "source": [
    "# import torch \n",
    "# from fastai.vision.all import *"
   ]
  },
  {
   "cell_type": "markdown",
   "id": "401b10e9-8a60-4b7c-b0b3-9473659eaf70",
   "metadata": {
    "slideshow": {
     "slide_type": "slide"
    }
   },
   "source": [
    "# 3. GAN intro"
   ]
  },
  {
   "cell_type": "markdown",
   "id": "bf632713-7419-4a65-9fef-74ea6fb71370",
   "metadata": {
    "slideshow": {
     "slide_type": "slide"
    }
   },
   "source": [
    "`-` 저자: 이안굿펠로우 \n",
    "- 천재임 \n",
    "- 지도교수가 요수아 벤지오 "
   ]
  },
  {
   "cell_type": "markdown",
   "id": "cc84280c-e32f-41ab-9365-b586b7b7490e",
   "metadata": {
    "slideshow": {
     "slide_type": "slide"
    }
   },
   "source": [
    "`-` 논문 NIPS, 저는 이 논문 읽고 소름돋았어요.. \n",
    "- https://arxiv.org/abs/1406.2661 (현재시점, 38751회 인용되었음 $\\to$ 48978회 인용..)"
   ]
  },
  {
   "cell_type": "markdown",
   "id": "052bd17f-125d-4fea-84a9-02ddc8e133f8",
   "metadata": {
    "slideshow": {
     "slide_type": "fragment"
    }
   },
   "source": [
    "`-` 최근 10년간 머신러닝 분야에서 가장 혁신적인 아이디어이다. (얀르쿤, 2014년 시점..) "
   ]
  },
  {
   "cell_type": "markdown",
   "id": "73e1cb52-376d-4b3a-af31-cfe29a540b67",
   "metadata": {
    "slideshow": {
     "slide_type": "fragment"
    }
   },
   "source": [
    "`-` 무슨내용? 생성모형 "
   ]
  },
  {
   "cell_type": "markdown",
   "id": "0c1afad5-4598-480f-85e5-808d19bdac24",
   "metadata": {
    "slideshow": {
     "slide_type": "slide"
    }
   },
   "source": [
    "## A. 생성모형이란? (쉬운 설명)"
   ]
  },
  {
   "cell_type": "markdown",
   "id": "fdf4e02c-8f3f-46a7-98d9-03f9e1768e38",
   "metadata": {
    "slideshow": {
     "slide_type": "fragment"
    }
   },
   "source": [
    "> 만들수 없다면 이해하지 못한 것이다, 리처드 파인만 (천재 물리학자) "
   ]
  },
  {
   "cell_type": "markdown",
   "id": "c49bb7fa-c917-4011-a9e2-4f13fe117b49",
   "metadata": {
    "slideshow": {
     "slide_type": "slide"
    }
   },
   "source": [
    "`-` 사진속에 들어있는 동물이 개인지 고양이인지 맞출수 있는 기계와 개와 고양이를 그릴수 있는 기계중 어떤것이 더 시각적보에 대한 이해가 깊다고 볼수 있는가? "
   ]
  },
  {
   "cell_type": "markdown",
   "id": "cab319f4-7392-4ae3-8e55-c72939ae847f",
   "metadata": {
    "slideshow": {
     "slide_type": "fragment"
    }
   },
   "source": [
    "`-` 진정으로 인공지능이 이미지를 이해했다면, 이미지를 만들수도 있어야 한다. $\\to$ 이미지를 생성하는 모형을 만들어보자 $\\to$ 성공 "
   ]
  },
  {
   "cell_type": "markdown",
   "id": "dd481c59-5d4c-46b7-b429-df16f1abddd8",
   "metadata": {
    "slideshow": {
     "slide_type": "slide"
    }
   },
   "source": [
    "![](https://upload.wikimedia.org/wikipedia/commons/1/1f/Woman_1.jpg){width=70%}"
   ]
  },
  {
   "cell_type": "markdown",
   "id": "e2771aca-477a-4277-9650-a9f575d02da5",
   "metadata": {
    "slideshow": {
     "slide_type": "slide"
    }
   },
   "source": [
    "## B. GAN의 응용분야"
   ]
  },
  {
   "cell_type": "markdown",
   "id": "52074c49-e433-4c85-9de1-cc8d19989dd9",
   "metadata": {
    "slideshow": {
     "slide_type": "fragment"
    }
   },
   "source": [
    "`-` 내가 찍은 사진이 피카소의 화풍으로 표현된다면?"
   ]
  },
  {
   "cell_type": "markdown",
   "id": "151df415-2a37-49aa-a1d4-da8fef66171f",
   "metadata": {
    "slideshow": {
     "slide_type": "fragment"
    }
   },
   "source": [
    "`-` 퀸의 라이브에이드가 4k로 나온다면?\n",
    "\n",
    "`-` 1920년대 서울의 모습이 칼라로 복원된다면? "
   ]
  },
  {
   "cell_type": "markdown",
   "id": "e800b9c7-a4cf-4a4c-aab4-51b6383b1117",
   "metadata": {
    "slideshow": {
     "slide_type": "fragment"
    }
   },
   "source": [
    "`-` 딥페이크: 유명인의 가짜 포르노, 가짜뉴스, 협박(거짓기소) \n"
   ]
  },
  {
   "cell_type": "markdown",
   "id": "013bed1c-8753-4be1-8b61-8dd9a550b414",
   "metadata": {
    "slideshow": {
     "slide_type": "fragment"
    }
   },
   "source": [
    "`-` 게임영상 (파이널판타지)"
   ]
  },
  {
   "cell_type": "markdown",
   "id": "f9ad6b94-282c-48ca-8502-9da318c20825",
   "metadata": {
    "slideshow": {
     "slide_type": "fragment"
    }
   },
   "source": [
    "`-` 거북이의 커버.. "
   ]
  },
  {
   "cell_type": "markdown",
   "id": "b50b335a-c1c0-4a35-ae01-ef524170947c",
   "metadata": {
    "slideshow": {
     "slide_type": "fragment"
    }
   },
   "source": [
    "`-` 너무 많아요....."
   ]
  },
  {
   "cell_type": "markdown",
   "id": "ab1bc26b-4092-4096-aec1-a17a8111e784",
   "metadata": {
    "slideshow": {
     "slide_type": "slide"
    },
    "tags": []
   },
   "source": [
    "## C. 생성모형이란? 통계학과 버전의 설명 "
   ]
  },
  {
   "cell_type": "markdown",
   "id": "d7a1ce1e-c105-4d31-9c34-e7097ff076f0",
   "metadata": {
    "slideshow": {
     "slide_type": "fragment"
    }
   },
   "source": [
    "> 제한된 정보만으로 어떤 문제를 풀 때, 그 과정에서 원래의 문제보다 일반적인 문제를 풀지 말고, 가능한 원래의 문제를 직접 풀어야한다. 배프닉 (SVM 창시자) "
   ]
  },
  {
   "cell_type": "markdown",
   "id": "8f474310-9e9b-4d85-9fab-2fa1754dc741",
   "metadata": {
    "slideshow": {
     "slide_type": "slide"
    }
   },
   "source": [
    "`-` 이미지 $\\boldsymbol{x}$가 주어졌을 경우 라벨을 $y$라고 하자. "
   ]
  },
  {
   "cell_type": "markdown",
   "id": "5ab2872e-adf0-4b5f-b012-a4c5f8da1966",
   "metadata": {
    "slideshow": {
     "slide_type": "fragment"
    }
   },
   "source": [
    "`-` 이미지를 보고 라벨을 맞추는 일은 $p(y| \\boldsymbol{x})$에 관심이 있다. "
   ]
  },
  {
   "cell_type": "markdown",
   "id": "0feb467c-c1eb-4144-97e6-2cb5d5a75498",
   "metadata": {
    "slideshow": {
     "slide_type": "fragment"
    }
   },
   "source": [
    "`-` 이미지를 생성하는 일은 $p(\\boldsymbol{x},y)$에 관심이 있는것이다. "
   ]
  },
  {
   "cell_type": "markdown",
   "id": "e39678e4-fa4c-47ea-b787-553f7a0b5088",
   "metadata": {
    "slideshow": {
     "slide_type": "fragment"
    }
   },
   "source": [
    "`-` 데이터의 생성확률 $p(\\boldsymbol{x},y)$을 알면 클래스의 사후확률 $p(y|\\boldsymbol{x})$를 알 수 있음. (아래의 수식 참고) 하지만 역은 불가능 \n",
    "\n",
    "$$p(y|x) = \\frac{p(x,y)}{p(x)} = \\frac{p(x,y)}{\\sum_{y}p(x,y)} $$"
   ]
  },
  {
   "cell_type": "markdown",
   "id": "ff48237f-740a-4e4a-914e-3105f9f18e3a",
   "metadata": {
    "slideshow": {
     "slide_type": "fragment"
    }
   },
   "source": [
    "- 즉 이미지를 생성하는일은 분류문제보다 더 어려운 일이라 해석가능 "
   ]
  },
  {
   "cell_type": "markdown",
   "id": "31989e8e-a39a-4349-b141-e2de4d2c8c7b",
   "metadata": {
    "slideshow": {
     "slide_type": "slide"
    }
   },
   "source": [
    "`-` 따라서 배프닉의 원리에 의하면 식별적 분류가 생성적 분류보다 바람직한 접근법이라 할 수 있음. "
   ]
  },
  {
   "cell_type": "markdown",
   "id": "ce8a46dc-c085-4a8e-aa89-13933ae2d823",
   "metadata": {
    "slideshow": {
     "slide_type": "fragment"
    }
   },
   "source": [
    "`-` 하지만 다양한 현실문제에서 생성모형이 유용할때가 많다. "
   ]
  },
  {
   "cell_type": "markdown",
   "id": "c1f001b9-042e-4de4-91ca-c8ef911c91fc",
   "metadata": {
    "slideshow": {
     "slide_type": "slide"
    }
   },
   "source": [
    "## D. GAN의 원리"
   ]
  },
  {
   "cell_type": "markdown",
   "id": "9ea6f56f-c919-407d-80a7-85f1d1b6de30",
   "metadata": {
    "slideshow": {
     "slide_type": "slide"
    }
   },
   "source": [
    "`-` GAN은 생성모형중 하나임 "
   ]
  },
  {
   "cell_type": "markdown",
   "id": "679d836f-9cdc-498b-b3f4-b0b5f0c4ee17",
   "metadata": {
    "slideshow": {
     "slide_type": "slide"
    }
   },
   "source": [
    "`-` GAN의 원리는 경찰과 위조지폐범이 서로 선의의(?) 경쟁을 통하여 서로 발전하는 모형으로 설명할 수 있다. "
   ]
  },
  {
   "cell_type": "markdown",
   "id": "0446fc09-05d8-4372-bf16-2a5108a62557",
   "metadata": {
    "slideshow": {
     "slide_type": "fragment"
    }
   },
   "source": [
    "> The generative model can be thought of as analogous to a team of counterfeiters,\n",
    "trying to produce fake currency and use it without detection, while the discriminative model is\n",
    "analogous to the police, trying to detect the counterfeit currency. Competition in this game drives\n",
    "both teams to improve their methods until the counterfeits are indistiguishable from the genuine\n",
    "articles."
   ]
  },
  {
   "cell_type": "markdown",
   "id": "311fa6ef-e096-497d-8e7e-871051f673f2",
   "metadata": {
    "slideshow": {
     "slide_type": "slide"
    }
   },
   "source": [
    "`-` 서로 적대적인(adversarial) 네트워크(network)를 동시에 학습시켜 가짜이미지를 만든다(generate) "
   ]
  },
  {
   "cell_type": "markdown",
   "id": "ef826614-e5a0-4e91-b51b-5423f13bf726",
   "metadata": {
    "slideshow": {
     "slide_type": "slide"
    }
   },
   "source": [
    "`-` 무식한 상황극.. "
   ]
  },
  {
   "cell_type": "markdown",
   "id": "ebe7c1a7-8726-4d80-9770-ee683dbd70a4",
   "metadata": {
    "slideshow": {
     "slide_type": "slide"
    }
   },
   "source": [
    "- 위조범: 가짜돈을 만들어서 부자가 되어야지! (가짜돈을 그림) \n",
    "- 경찰: (위조범이 만든 돈을 보고) 이건 가짜다! \n",
    "- 위조범: 걸렸군.. 더 정교하게 만들어야지.. \n",
    "- 경찰: 이건 진짠가?... --> 상사에게 혼남. 그것도 구분못하냐고 \n",
    "- 위조범: 더 정교하게 만들자.. \n",
    "- 경찰: 더 판별능력을 업그레이드 하자! \n",
    "- 반복.. "
   ]
  },
  {
   "cell_type": "markdown",
   "id": "649d8e98-0935-4e00-8605-1f09d4d0bc0e",
   "metadata": {
    "slideshow": {
     "slide_type": "slide"
    }
   },
   "source": [
    "`-` 굉장히 우수한 경찰조차도 진짜와 가짜를 구분하지 못할때(=진짜 이미지를 0.5의 확률로만 진짜라고 말할때 = 가짜 이미지를 0.5의 확률로만 가짜라고 말할때) 학습을 멈춘다. "
   ]
  },
  {
   "cell_type": "markdown",
   "id": "64432128-6ac3-4b51-be41-835cc28ab843",
   "metadata": {
    "tags": []
   },
   "source": [
    "# 4. GAN의 구현"
   ]
  },
  {
   "cell_type": "markdown",
   "id": "7f64e9ba-265c-48fe-80be-93afd1c59587",
   "metadata": {},
   "source": [
    "## A. Data "
   ]
  },
  {
   "cell_type": "code",
   "execution_count": 159,
   "id": "bf8730c5-c1ec-4815-8bf3-86bbdcbd9c10",
   "metadata": {},
   "outputs": [],
   "source": [
    "path = untar_data(URLs.MNIST_SAMPLE)"
   ]
  },
  {
   "cell_type": "code",
   "execution_count": 160,
   "id": "d9f4ac1c-20c4-4c6e-be45-6da24fadac09",
   "metadata": {},
   "outputs": [],
   "source": [
    "threes = (path/'train'/'3').ls()"
   ]
  },
  {
   "cell_type": "code",
   "execution_count": 161,
   "id": "2bf76b21-9526-4233-8d91-22277eb7f5c5",
   "metadata": {},
   "outputs": [],
   "source": [
    "X = torch.stack([tensor(Image.open(i)) for i in threes]).float()/255"
   ]
  },
  {
   "cell_type": "code",
   "execution_count": 162,
   "id": "c46c3ac6-894f-44cf-81da-107ffd75c5f5",
   "metadata": {},
   "outputs": [
    {
     "data": {
      "text/plain": [
       "torch.Size([6131, 28, 28])"
      ]
     },
     "execution_count": 162,
     "metadata": {},
     "output_type": "execute_result"
    }
   ],
   "source": [
    "X.shape"
   ]
  },
  {
   "cell_type": "code",
   "execution_count": 163,
   "id": "37202b22-48f7-4d6d-bcd8-c6bc79731a27",
   "metadata": {},
   "outputs": [
    {
     "data": {
      "text/plain": [
       "<matplotlib.image.AxesImage at 0x7f981c427ac0>"
      ]
     },
     "execution_count": 163,
     "metadata": {},
     "output_type": "execute_result"
    },
    {
     "data": {
      "image/png": "[encoded data removed]",
      "text/plain": [
       "<Figure size 432x288 with 1 Axes>"
      ]
     },
     "metadata": {
      "needs_background": "light"
     },
     "output_type": "display_data"
    }
   ],
   "source": [
    "plt.imshow(X[0])"
   ]
  },
  {
   "cell_type": "markdown",
   "id": "c13a6f23-05eb-416d-b616-fba54375167f",
   "metadata": {},
   "source": [
    "`-` MLP를 이용해 학습하기 위해 X의 차원을 변경"
   ]
  },
  {
   "cell_type": "code",
   "execution_count": 164,
   "id": "12111ace-5b12-4cb2-8163-7376a7d3f0f2",
   "metadata": {},
   "outputs": [
    {
     "data": {
      "text/plain": [
       "torch.Size([6131, 784])"
      ]
     },
     "execution_count": 164,
     "metadata": {},
     "output_type": "execute_result"
    }
   ],
   "source": [
    "X=X.reshape(6131,28*28)\n",
    "X.shape"
   ]
  },
  {
   "cell_type": "markdown",
   "id": "7a0f7474-02e8-4211-8cfd-91776d9c623d",
   "metadata": {},
   "source": [
    "## B. 위조지폐범의 설계: noise $\\to$ 가짜이미지를 만들어 내는 네트워크를 만들자. "
   ]
  },
  {
   "cell_type": "markdown",
   "id": "ad1b0a33-43d9-4fe2-a490-af45323e2eda",
   "metadata": {},
   "source": [
    "`-` 네트워크의 입력? 적당한 벡터, 혹은 매트릭스에 노이즈(랜덤으로 채운 어떠한 숫자들)를 채운것 "
   ]
  },
  {
   "cell_type": "markdown",
   "id": "19c4d2cf-0489-429b-bc58-83162ec53ed6",
   "metadata": {},
   "source": [
    "`-` 네트워크의 출력? (28,28)의 텐서, 784의 벡터 "
   ]
  },
  {
   "cell_type": "code",
   "execution_count": 165,
   "id": "6b11d312-bd4b-4ece-a994-446d37287d18",
   "metadata": {},
   "outputs": [],
   "source": [
    "net1 = torch.nn.Sequential(torch.nn.Linear(in_features=28, out_features=64),\n",
    "                           torch.nn.ReLU(),\n",
    "                           torch.nn.Linear(in_features=64, out_features=64), \n",
    "                           torch.nn.ReLU(),\n",
    "                           torch.nn.Linear(in_features=64, out_features=784),\n",
    "                           torch.nn.Sigmoid()) ## 마지막의 시그모이드는 출력이 0~1사이로 나오게 하기 위함 \n",
    "counterfeiter = net1 "
   ]
  },
  {
   "cell_type": "markdown",
   "id": "0fae8804-015b-4d71-afa2-76442e181774",
   "metadata": {},
   "source": [
    "## C. 경찰의 설계: 진짜이미지는 1, 가짜이미지는 0으로 판별하는 DNN을 만들자. "
   ]
  },
  {
   "cell_type": "markdown",
   "id": "c3ee66f8-e1c3-41a2-a9dd-a71f76b6410a",
   "metadata": {},
   "source": [
    "`-` 네트워크의 입력? (28,28)의 텐서, 혹은 784의 벡터 "
   ]
  },
  {
   "cell_type": "markdown",
   "id": "5f7f8c7f-967d-4405-b389-d64c10b3b3ab",
   "metadata": {},
   "source": [
    "`-` 네트워크의 출력? yhat (y는 0 or 1)"
   ]
  },
  {
   "cell_type": "code",
   "execution_count": 166,
   "id": "98478467-6de5-4a0e-94da-d378e1f7c7de",
   "metadata": {},
   "outputs": [],
   "source": [
    "net2 = torch.nn.Sequential(torch.nn.Linear(in_features=784,out_features=64),\n",
    "                           torch.nn.ReLU(),\n",
    "                           torch.nn.Linear(in_features=64,out_features=28),\n",
    "                           torch.nn.ReLU(),\n",
    "                           torch.nn.Linear(in_features=28,out_features=1),\n",
    "                           torch.nn.Sigmoid()\n",
    "                           )\n",
    "police = net2 "
   ]
  },
  {
   "cell_type": "markdown",
   "id": "8cff0644-90a9-43c0-9ee7-936b7d89d8a5",
   "metadata": {},
   "source": [
    "## D. 바보들끼리.. "
   ]
  },
  {
   "cell_type": "markdown",
   "id": "1a0028af-7b48-4824-8878-6f24c5e4f6e0",
   "metadata": {},
   "source": [
    "`-` 아래는 진짜이미지 "
   ]
  },
  {
   "cell_type": "code",
   "execution_count": 167,
   "id": "fe1e98ac-4d84-4a3c-89ae-2807a1462353",
   "metadata": {},
   "outputs": [
    {
     "data": {
      "text/plain": [
       "<matplotlib.image.AxesImage at 0x7f981d1e6190>"
      ]
     },
     "execution_count": 167,
     "metadata": {},
     "output_type": "execute_result"
    },
    {
     "data": {
      "image/png": "[encoded data removed]",
      "text/plain": [
       "<Figure size 432x288 with 1 Axes>"
      ]
     },
     "metadata": {
      "needs_background": "light"
     },
     "output_type": "display_data"
    }
   ],
   "source": [
    "realimage=X[0].reshape(28,28)\n",
    "plt.imshow(realimage)"
   ]
  },
  {
   "cell_type": "markdown",
   "id": "f33caaa5-2b46-49e4-85c6-0d0a0e6f01cf",
   "metadata": {},
   "source": [
    "`-` 위와 같은 진짜 이미지를 경찰이 봤음 $\\to$ yhat이 나오겠죠? "
   ]
  },
  {
   "cell_type": "code",
   "execution_count": 168,
   "id": "7d354e26-5918-4f54-9874-06d4852e9ffa",
   "metadata": {},
   "outputs": [
    {
     "data": {
      "text/plain": [
       "tensor([0.5241], grad_fn=<SigmoidBackward0>)"
      ]
     },
     "execution_count": 168,
     "metadata": {},
     "output_type": "execute_result"
    }
   ],
   "source": [
    "policehat_from_realimage = police(realimage.reshape(-1))\n",
    "policehat_from_realimage"
   ]
  },
  {
   "cell_type": "markdown",
   "id": "6b5b1b4f-0ffb-4063-a3c6-82bdba170e0a",
   "metadata": {},
   "source": [
    "- 진짜 이미지일수록 policehat_from_realimage $\\approx$ 1 이어야 함 \n",
    "- 하지만 그렇지 못함 (배운것이 없는 무능한 경찰) "
   ]
  },
  {
   "cell_type": "markdown",
   "id": "ba3c19b6-50fc-4da6-a1d5-8c64142325ab",
   "metadata": {},
   "source": [
    "`-` 이번에는 가짜이미지를 경찰이 봤다고 생각해보자. "
   ]
  },
  {
   "cell_type": "markdown",
   "id": "663377bd-b890-4b7b-88fc-cf36bf892591",
   "metadata": {},
   "source": [
    "(step1) 랜덤으로 아무숫자나 28개를 생성한다. "
   ]
  },
  {
   "cell_type": "code",
   "execution_count": 169,
   "id": "585219ac-5751-4b93-9873-733be85a5568",
   "metadata": {},
   "outputs": [
    {
     "data": {
      "text/plain": [
       "tensor([-0.8568, -2.2982,  0.3489, -1.5801,  1.8611,  0.9158, -0.2985,  1.1087,\n",
       "         1.3798,  1.4870, -0.4455,  0.2140,  1.0784,  1.4805, -1.4886,  0.5036,\n",
       "         0.3742, -0.7351,  1.0031,  0.4538,  1.5372,  1.0739,  0.7793, -1.5347,\n",
       "        -0.5060,  0.0113,  0.2833, -0.8466])"
      ]
     },
     "execution_count": 169,
     "metadata": {},
     "output_type": "execute_result"
    }
   ],
   "source": [
    "err= torch.randn(28)\n",
    "err"
   ]
  },
  {
   "cell_type": "markdown",
   "id": "b716ccc0-00fe-43d5-a18b-b1973c45d5f5",
   "metadata": {},
   "source": [
    "(step2) 위조범은 err를 입력으로 받고 가짜이미지를 만든다. "
   ]
  },
  {
   "cell_type": "code",
   "execution_count": 170,
   "id": "b443a6c5-81f4-4f33-a33e-4ebb0ce964c1",
   "metadata": {},
   "outputs": [
    {
     "data": {
      "text/plain": [
       "<matplotlib.image.AxesImage at 0x7f981f4261c0>"
      ]
     },
     "execution_count": 170,
     "metadata": {},
     "output_type": "execute_result"
    },
    {
     "data": {
      "image/png": "[encoded data removed]",
      "text/plain": [
       "<Figure size 432x288 with 1 Axes>"
      ]
     },
     "metadata": {
      "needs_background": "light"
     },
     "output_type": "display_data"
    }
   ],
   "source": [
    "couterfeiter_output = counterfeiter(err)\n",
    "fakeimage=couterfeiter_output.reshape(28,28)\n",
    "plt.imshow(fakeimage.detach())"
   ]
  },
  {
   "cell_type": "markdown",
   "id": "4bdace37-dad7-4f54-923f-651a4a8c555e",
   "metadata": {},
   "source": [
    "- 누가봐도 가짜자료임\n",
    "- 위조범의 실력이 형편없음 "
   ]
  },
  {
   "cell_type": "markdown",
   "id": "e50b88fb-beea-44d0-97dc-82db1bfd32c8",
   "metadata": {},
   "source": [
    "(step3) 위조범이 생성한 이미지를 경찰한테 넘긴다. "
   ]
  },
  {
   "cell_type": "code",
   "execution_count": 171,
   "id": "cbd1ebe9-5896-4082-aeb3-cb83dba390c1",
   "metadata": {},
   "outputs": [
    {
     "data": {
      "text/plain": [
       "tensor([0.5290], grad_fn=<SigmoidBackward0>)"
      ]
     },
     "execution_count": 171,
     "metadata": {},
     "output_type": "execute_result"
    }
   ],
   "source": [
    "policehat_from_fakeimage = police(couterfeiter_output)\n",
    "#policehat_from_fakeimage = police(fakeimage.detach().reshape(-1))\n",
    "policehat_from_fakeimage"
   ]
  },
  {
   "cell_type": "markdown",
   "id": "5ba3cc9f-6636-4a52-903f-5ac2d690c6ed",
   "metadata": {},
   "source": [
    "`-` 경찰의 실력도 형편없고 위조범의 실력도 형편없다. "
   ]
  },
  {
   "cell_type": "markdown",
   "id": "39df3054-25e8-4f8c-ae2e-42e3c80d7eeb",
   "metadata": {},
   "source": [
    "## E. 경찰네트워크의 실력을 향상시키자. "
   ]
  },
  {
   "cell_type": "markdown",
   "id": "7ca2c258-34c1-405c-8170-e35f970e5fb5",
   "metadata": {},
   "source": [
    "`-` 데이터 정리 \n",
    "- 원래 $n=6131$개의 이미지 자료가 있음. 이를 ${\\bf X}$라고 하자. 따라서 ${\\bf X}$의 차원은 (6131,784). \n",
    "- 위조범이 만든 가짜자료를 원래 자료와 같은 숫자인 6131개 만듬. 이 가짜자료를 $\\tilde{\\bf X}$라고 하자. 따라서 $\\tilde{\\bf X}$의 차원은 (6131,784). \n",
    "- 진짜자료는 1, 가짜자료는 0으로 라벨링. "
   ]
  },
  {
   "cell_type": "code",
   "execution_count": 172,
   "id": "f5101a24-dc5a-4e13-9798-4e284a304265",
   "metadata": {},
   "outputs": [
    {
     "data": {
      "text/plain": [
       "torch.Size([6131, 784])"
      ]
     },
     "execution_count": 172,
     "metadata": {},
     "output_type": "execute_result"
    }
   ],
   "source": [
    "X.shape"
   ]
  },
  {
   "cell_type": "code",
   "execution_count": 173,
   "id": "7830665e-724b-4d29-9358-d6e6c61a8ba7",
   "metadata": {},
   "outputs": [],
   "source": [
    "err= torch.randn(6131,28)\n",
    "counterfeiter_output = counterfeiter(err) # counterfeiter_output를 Xtilde로 생각하면 된다. "
   ]
  },
  {
   "cell_type": "code",
   "execution_count": 174,
   "id": "44041d1e-7a9a-4933-8a68-b20dab19fb3d",
   "metadata": {},
   "outputs": [],
   "source": [
    "real_label=torch.tensor([[1.0]]*6131) ## y=1 \n",
    "fake_label=torch.tensor([[0.0]]*6131) ## y=0"
   ]
  },
  {
   "cell_type": "markdown",
   "id": "13f887bd-c2e2-4a5d-a90a-8e7bd27a7e6a",
   "metadata": {},
   "source": [
    "`-` step1: yhat, 경찰의 예측 "
   ]
  },
  {
   "cell_type": "code",
   "execution_count": 175,
   "id": "d02923a8-d424-4ad5-ac06-ee4279d6119b",
   "metadata": {},
   "outputs": [],
   "source": [
    "policehat_from_realimage = police(X) \n",
    "policehat_from_fakeimage = police(counterfeiter_output) "
   ]
  },
  {
   "cell_type": "markdown",
   "id": "c8b5ecf2-d910-498f-a3ad-519585455c98",
   "metadata": {},
   "source": [
    "`-` step2: 손실함수? 경찰의 미덕은 (1) 가짜를 가짜라고 하고 (2) 진짜를 진짜라 해야한다. "
   ]
  },
  {
   "cell_type": "code",
   "execution_count": 176,
   "id": "854b6110-cd12-4c0a-a5d1-35f1ca961e0f",
   "metadata": {},
   "outputs": [],
   "source": [
    "loss_fn = torch.nn.BCELoss() "
   ]
  },
  {
   "cell_type": "code",
   "execution_count": 181,
   "id": "23ffdd50-0588-4a9a-87ee-dea7a10ad5b9",
   "metadata": {},
   "outputs": [
    {
     "data": {
      "text/plain": [
       "tensor(1.4023, grad_fn=<AddBackward0>)"
      ]
     },
     "execution_count": 181,
     "metadata": {},
     "output_type": "execute_result"
    }
   ],
   "source": [
    "loss_of_police =\\\n",
    "loss_fn(policehat_from_fakeimage,fake_label)+\\\n",
    "loss_fn(policehat_from_realimage,real_label)\n",
    "\n",
    "loss_of_police"
   ]
  },
  {
   "cell_type": "markdown",
   "id": "fe7fd583-c13c-433b-9d79-9902c9871887",
   "metadata": {},
   "source": [
    "`-` step3~4는 미분이후 업데이트 "
   ]
  },
  {
   "cell_type": "markdown",
   "id": "d79b0b23-280e-410b-99b3-5490449fc8fe",
   "metadata": {},
   "source": [
    "`-` 옵티마이저를 설계하자. "
   ]
  },
  {
   "cell_type": "code",
   "execution_count": 182,
   "id": "60a29217-54b3-470e-9f9c-ca057bad67c9",
   "metadata": {},
   "outputs": [],
   "source": [
    "optimizer_of_police = torch.optim.Adam(police.parameters())"
   ]
  },
  {
   "cell_type": "markdown",
   "id": "19c18c3a-7f3c-4f7c-84c4-f6f46f397702",
   "metadata": {},
   "source": [
    "`-` for 문을 돌리자. "
   ]
  },
  {
   "cell_type": "code",
   "execution_count": 183,
   "id": "e78fdad9-4ea3-41df-a286-5d8c59272695",
   "metadata": {},
   "outputs": [],
   "source": [
    "for i in range(50): \n",
    "    ## 1 yhat \n",
    "    policehat_from_realimage = police(X) \n",
    "    \n",
    "    #policehat_from_fakeimage = police(Xitlde)\n",
    "    err= torch.randn(6131,28)\n",
    "    counterfeiter_output = counterfeiter(err) # counterfeiter_output를 Xtilde로 생각하면 된다. \n",
    "    policehat_from_fakeimage= police(counterfeiter_output)\n",
    "    \n",
    "    ## 2 loss \n",
    "    loss_of_police =\\\n",
    "    loss_fn(policehat_from_fakeimage,fake_label)+\\\n",
    "    loss_fn(policehat_from_realimage,real_label)\n",
    "    \n",
    "    ## 3 back propagation \n",
    "    loss_of_police.backward()\n",
    "    \n",
    "    ## 4 update\n",
    "    optimizer_of_police.step()\n",
    "    optimizer_of_police.zero_grad()"
   ]
  },
  {
   "cell_type": "markdown",
   "id": "fd8fa464-ea4e-436c-8499-1c5e985473e9",
   "metadata": {},
   "source": [
    "`-` 훈련된 경찰의 성능을 살펴보자. "
   ]
  },
  {
   "cell_type": "code",
   "execution_count": 185,
   "id": "e93125f7-63c1-4460-9257-23087f481a31",
   "metadata": {},
   "outputs": [
    {
     "data": {
      "text/plain": [
       "tensor([[0.0061],\n",
       "        [0.0061],\n",
       "        [0.0061],\n",
       "        ...,\n",
       "        [0.0062],\n",
       "        [0.0061],\n",
       "        [0.0061]], grad_fn=<SigmoidBackward0>)"
      ]
     },
     "execution_count": 185,
     "metadata": {},
     "output_type": "execute_result"
    }
   ],
   "source": [
    "police(counterfeiter_output)"
   ]
  },
  {
   "cell_type": "code",
   "execution_count": 186,
   "id": "561cfbef-129a-4588-81bf-3f47fc3a81c0",
   "metadata": {},
   "outputs": [
    {
     "data": {
      "text/plain": [
       "tensor([[0.9999],\n",
       "        [0.9989],\n",
       "        [0.9995],\n",
       "        ...,\n",
       "        [0.9969],\n",
       "        [0.9995],\n",
       "        [0.9973]], grad_fn=<SigmoidBackward0>)"
      ]
     },
     "execution_count": 186,
     "metadata": {},
     "output_type": "execute_result"
    }
   ],
   "source": [
    "police(X)"
   ]
  },
  {
   "cell_type": "markdown",
   "id": "5b6c217f-8e86-4d6d-b8bf-fd1cf51f79f2",
   "metadata": {},
   "source": [
    "`-` 우수한 경찰 (비록 위조범의 수준이 낮긴하지만) "
   ]
  },
  {
   "cell_type": "markdown",
   "id": "b548e1be-c70c-4817-b81e-27c13ab37415",
   "metadata": {},
   "source": [
    "## F. 위조범네트워크의 성능을 향상시키자. "
   ]
  },
  {
   "cell_type": "markdown",
   "id": "b466c4f8-6896-47db-9eea-7fca8d0c01f6",
   "metadata": {},
   "source": [
    "`-` 자료구조: X는 임의의 에러이미지, net(X)는 fakeimage "
   ]
  },
  {
   "cell_type": "code",
   "execution_count": 187,
   "id": "dd833ee0-6107-4a19-9adc-4243a8086096",
   "metadata": {},
   "outputs": [],
   "source": [
    "err=torch.randn(6131,28) \n",
    "counterfeiter_output= counterfeiter(err) "
   ]
  },
  {
   "cell_type": "markdown",
   "id": "f860b2ba-39d8-4f96-8d8e-ace62805cc5b",
   "metadata": {},
   "source": [
    "`-` 손실함수: 잘 훈련된 경찰조차도 잘못된 판단을 내릴만큼 가짜지폐를 잘 만들면 위조범의 실력이 우수하다 볼 수 있음 "
   ]
  },
  {
   "cell_type": "code",
   "execution_count": 188,
   "id": "5c488a46-8373-4705-8e23-7411c0b2e28b",
   "metadata": {},
   "outputs": [],
   "source": [
    "policehat_from_fakeimage = police(counterfeiter_output) \n",
    "loss_of_counterfeiter = loss_fn(policehat_from_fakeimage,real_label) ## 가짜이미지를 보고 경찰이 진짜라고 믿으면 위조범의 실력이 좋은것임  "
   ]
  },
  {
   "cell_type": "markdown",
   "id": "3e652356-d165-4446-9bea-965c3c7724c4",
   "metadata": {},
   "source": [
    "`-` 옵티마이저 "
   ]
  },
  {
   "cell_type": "code",
   "execution_count": 189,
   "id": "cbcfc6f5-a2e6-4677-83e4-2fabf6ee2f12",
   "metadata": {},
   "outputs": [],
   "source": [
    "optimizer_of_counterfeiter = torch.optim.Adam(counterfeiter.parameters())"
   ]
  },
  {
   "cell_type": "markdown",
   "id": "70cbc950-8899-4de0-85d0-7a0612a0e3ba",
   "metadata": {},
   "source": [
    "`-` 학습"
   ]
  },
  {
   "cell_type": "code",
   "execution_count": 190,
   "id": "1c72f516-88e6-40d1-b4b3-926b478379d9",
   "metadata": {},
   "outputs": [],
   "source": [
    "for i in range(50): \n",
    "    ## 1 \n",
    "    err=torch.randn(6131,28) \n",
    "    counterfeiter_output= counterfeiter(err)  \n",
    "    policehat_from_fakeimage = police(counterfeiter_output) \n",
    "    ## 2 \n",
    "    loss_of_counterfeiter = loss_fn(policehat_from_fakeimage,real_label)\n",
    "    ## 3 \n",
    "    loss_of_counterfeiter.backward()\n",
    "    ## 4 \n",
    "    optimizer_of_counterfeiter.step()\n",
    "    optimizer_of_counterfeiter.zero_grad()"
   ]
  },
  {
   "cell_type": "markdown",
   "id": "6c445179-3adb-45aa-bd99-3e9ce88fa892",
   "metadata": {},
   "source": [
    "`-` 위조범의 실력향상을 감상해보자. "
   ]
  },
  {
   "cell_type": "code",
   "execution_count": 195,
   "id": "abd3bfec-ad5d-4598-bd75-3dd3759fb16e",
   "metadata": {},
   "outputs": [
    {
     "data": {
      "text/plain": [
       "<matplotlib.image.AxesImage at 0x7f981397ae20>"
      ]
     },
     "execution_count": 195,
     "metadata": {},
     "output_type": "execute_result"
    },
    {
     "data": {
      "image/png": "[encoded data removed]",
      "text/plain": [
       "<Figure size 432x288 with 1 Axes>"
      ]
     },
     "metadata": {
      "needs_background": "light"
     },
     "output_type": "display_data"
    }
   ],
   "source": [
    "plt.imshow(counterfeiter_output[0].reshape(28,28).data)"
   ]
  },
  {
   "cell_type": "markdown",
   "id": "72339c95-84c9-428d-afd0-fdb396d1b332",
   "metadata": {},
   "source": [
    "## G. 두 적대적 네트워크를 경쟁시키자. "
   ]
  },
  {
   "cell_type": "code",
   "execution_count": 196,
   "id": "5a46e28b-0d1c-48db-9760-1ebf91b625d3",
   "metadata": {},
   "outputs": [],
   "source": [
    "for k in range(100): \n",
    "    for i in range(50): \n",
    "        ## 1 yhat \n",
    "        policehat_from_realimage = police(X) \n",
    "    \n",
    "        #policehat_from_fakeimage = police(Xitlde)\n",
    "        err= torch.randn(6131,28)\n",
    "        counterfeiter_output = counterfeiter(err) # counterfeiter_output를 Xtilde로 생각하면 된다. \n",
    "        policehat_from_fakeimage= police(counterfeiter_output)\n",
    "    \n",
    "        ## 2 loss \n",
    "        loss_of_police =\\\n",
    "        loss_fn(policehat_from_fakeimage,fake_label)+\\\n",
    "        loss_fn(policehat_from_realimage,real_label)\n",
    "    \n",
    "        ## 3 back propagation \n",
    "        loss_of_police.backward()\n",
    "    \n",
    "        ## 4 update\n",
    "        optimizer_of_police.step()\n",
    "        optimizer_of_police.zero_grad()\n",
    "        \n",
    "    for i in range(50): \n",
    "        ## 1 \n",
    "        err=torch.randn(6131,28) \n",
    "        counterfeiter_output= counterfeiter(err)  \n",
    "        policehat_from_fakeimage = police(counterfeiter_output) \n",
    "        ## 2 \n",
    "        loss_of_counterfeiter = loss_fn(policehat_from_fakeimage,real_label)\n",
    "        ## 3 \n",
    "        loss_of_counterfeiter.backward()\n",
    "        ## 4 \n",
    "        optimizer_of_counterfeiter.step()\n",
    "        optimizer_of_counterfeiter.zero_grad()        "
   ]
  },
  {
   "cell_type": "markdown",
   "id": "c9b275d8-6518-4c0f-aae9-1f47cf232f9a",
   "metadata": {},
   "source": [
    "`-` 위조범의 최종적 실력향상감상 "
   ]
  },
  {
   "cell_type": "code",
   "execution_count": 198,
   "id": "14b1607a-0300-436b-8dd5-1110b1d6c9d6",
   "metadata": {},
   "outputs": [
    {
     "data": {
      "text/plain": [
       "<matplotlib.image.AxesImage at 0x7f9813856970>"
      ]
     },
     "execution_count": 198,
     "metadata": {},
     "output_type": "execute_result"
    },
    {
     "data": {
      "image/png": "[encoded data removed]",
      "text/plain": [
       "<Figure size 432x288 with 1 Axes>"
      ]
     },
     "metadata": {
      "needs_background": "light"
     },
     "output_type": "display_data"
    }
   ],
   "source": [
    "plt.imshow(counterfeiter_output[0].reshape(28,28).data)"
   ]
  }
 ],
 "metadata": {
  "kernelspec": {
   "display_name": "Python 3 (ipykernel)",
   "language": "python",
   "name": "python3"
  },
  "language_info": {
   "codemirror_mode": {
    "name": "ipython",
    "version": 3
   },
   "file_extension": ".py",
   "mimetype": "text/x-python",
   "name": "python",
   "nbconvert_exporter": "python",
   "pygments_lexer": "ipython3",
   "version": "3.10.13"
  }
 },
 "nbformat": 4,
 "nbformat_minor": 5
}
