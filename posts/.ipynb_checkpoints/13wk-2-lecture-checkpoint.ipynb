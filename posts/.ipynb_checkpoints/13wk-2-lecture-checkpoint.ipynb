{
 "cells": [
  {
   "cell_type": "raw",
   "id": "855d203d-e1fd-40dc-9c2c-e90e8380f06e",
   "metadata": {},
   "source": [
    "---\n",
    "title: \"13wk-1: 강화학습 (1) -- bandit\"\n",
    "author: \"최규빈\"\n",
    "date: \"05/29/2024\"\n",
    "draft: true\n",
    "---"
   ]
  },
  {
   "cell_type": "markdown",
   "id": "e2c13712-1185-4386-90e7-3e23c62be398",
   "metadata": {
    "id": "e67ab8e0"
   },
   "source": [
    "<a href=\"https://colab.research.google.com/github/guebin/DL2024/blob/main/posts/13wk-2.ipynb\"><img src=\"https://colab.research.google.com/assets/colab-badge.svg\" style=\"text-align: left\"></a>"
   ]
  },
  {
   "cell_type": "markdown",
   "id": "2a0d11f9-7f12-401a-82da-e4b2e568dde6",
   "metadata": {
    "tags": []
   },
   "source": [
    "# 1. 강의영상 "
   ]
  },
  {
   "cell_type": "code",
   "execution_count": 2,
   "id": "4685c071-46e9-4bcb-84a7-ece876eb4654",
   "metadata": {
    "tags": []
   },
   "outputs": [],
   "source": [
    "#{{<video https://youtu.be/playlist?list=PLQqh36zP38-zoOHd7w3N5q9Jc5P34Ux8X&si=MdJTHM3a27MCAssp >}}"
   ]
  },
  {
   "cell_type": "markdown",
   "id": "963beba8-d0a6-487b-bc61-2bfa3d05b255",
   "metadata": {},
   "source": [
    "# 2. 환경셋팅 ($\\star\\star\\star$)"
   ]
  },
  {
   "cell_type": "markdown",
   "id": "ecb23742-65c3-4c4c-88c1-94a0aa048bd1",
   "metadata": {},
   "source": [
    "`-` 설치 (코랩)\n",
    "\n",
    "```Python\n",
    "!pip install -q swig\n",
    "!pip install gymnasium\n",
    "!pip install gymnasium[box2d]\n",
    "```"
   ]
  },
  {
   "cell_type": "markdown",
   "id": "fcc5c5b0-94a7-4a3d-bb6c-1623909505e1",
   "metadata": {},
   "source": [
    "# 3. Imports "
   ]
  },
  {
   "cell_type": "code",
   "execution_count": 30,
   "id": "da124c05-12c5-4e50-b7c2-c7156427cc82",
   "metadata": {
    "tags": []
   },
   "outputs": [],
   "source": [
    "import gymnasium as gym\n",
    "import numpy as np\n",
    "import matplotlib.pyplot as plt"
   ]
  },
  {
   "cell_type": "markdown",
   "id": "ae27afc5-05fd-48ec-9059-29a4523ef47c",
   "metadata": {},
   "source": [
    "- ref: <https://gymnasium.farama.org/index.html>"
   ]
  },
  {
   "cell_type": "markdown",
   "id": "69de1a84-3d65-40d2-a1ee-3f5213791081",
   "metadata": {},
   "source": [
    "# 4. 강화학습 Intro "
   ]
  },
  {
   "cell_type": "markdown",
   "id": "46e0f4e9-06d3-412a-9bd9-79399e11414f",
   "metadata": {},
   "source": [
    "`-` 강화학습(대충설명): 어떠한 \"(게임)환경\"이 있을때 거기서 \"뭘 할지\"를 학습하는 과업"
   ]
  },
  {
   "cell_type": "markdown",
   "id": "b4eab2ee-e9e4-4032-8344-a72188f96b27",
   "metadata": {},
   "source": [
    "`-` 딥마인드: breakout $\\to$ 알파고 \n",
    "\n",
    "- <https://www.youtube.com/watch?v=TmPfTpjtdgg>"
   ]
  },
  {
   "cell_type": "markdown",
   "id": "047016d4-087a-4087-8440-072610804ec2",
   "metadata": {},
   "source": [
    "`-` 강화학습 미래? (이거 잘하면 먹고 살 수 있을까?) "
   ]
  },
  {
   "cell_type": "markdown",
   "id": "a79839a6-f30a-4a3c-baf9-aa3ccc8797e5",
   "metadata": {},
   "source": [
    "# 5. Game1: `Bandit` 게임"
   ]
  },
  {
   "cell_type": "markdown",
   "id": "9b366221-0891-4c37-8e73-bd1622cd0a0d",
   "metadata": {},
   "source": [
    "## A. 게임설명 및 원시코드"
   ]
  },
  {
   "cell_type": "markdown",
   "id": "4b629176-ac93-4d67-8c4c-ce616e8709f0",
   "metadata": {},
   "source": [
    "`-` 문제설명: 두 개의 버튼이 있다. 버튼0을 누르면 1의 보상을, 버튼1을 누르면 100의 보상을 준다고 가정 "
   ]
  },
  {
   "cell_type": "markdown",
   "id": "89f0db51-86d9-45c1-925b-23561fe9d0d0",
   "metadata": {},
   "source": [
    "`-` 처음에 어떤 행동을 해야 하는가? ---> ??? 처음에는 아는게 없음 ---> 일단 \"아무거나\" 눌러보자. "
   ]
  },
  {
   "cell_type": "markdown",
   "id": "57d02dba-7da9-48b9-8371-18ceea6de043",
   "metadata": {},
   "source": [
    "`-` 버튼을 아무거나 누르는 함수를 구현해보자. "
   ]
  },
  {
   "cell_type": "code",
   "execution_count": null,
   "id": "55124f7a-19ec-4a7b-87c4-1d02b2b3d9df",
   "metadata": {},
   "outputs": [],
   "source": []
  },
  {
   "cell_type": "code",
   "execution_count": null,
   "id": "38d33da8-2026-4412-aecd-7862c1a0edb5",
   "metadata": {},
   "outputs": [],
   "source": []
  },
  {
   "cell_type": "markdown",
   "id": "1b58ae92-18be-4d72-9be9-6bed4ac5d7ef",
   "metadata": {},
   "source": [
    "`-` 보상을 주는 함수를 구현해보자. "
   ]
  },
  {
   "cell_type": "code",
   "execution_count": null,
   "id": "0bb519f6-08db-46d6-9ee4-65b1d940f10d",
   "metadata": {},
   "outputs": [],
   "source": []
  },
  {
   "cell_type": "code",
   "execution_count": null,
   "id": "21b7dbf7-80cc-4a5b-9df5-1fde55d02999",
   "metadata": {},
   "outputs": [],
   "source": []
  },
  {
   "cell_type": "markdown",
   "id": "0a2653f6-e9b0-4aff-b52e-a3e2cc34414a",
   "metadata": {},
   "source": [
    "`-` 아무버튼이나 10번정도 눌러보면서 데이터를 쌓아보자. "
   ]
  },
  {
   "cell_type": "code",
   "execution_count": null,
   "id": "10c65e72-f9c1-4a06-8978-b3403057ffeb",
   "metadata": {},
   "outputs": [],
   "source": []
  },
  {
   "cell_type": "code",
   "execution_count": null,
   "id": "d2a1d09d-ef1d-4063-90d1-1931382a58a8",
   "metadata": {},
   "outputs": [],
   "source": []
  },
  {
   "cell_type": "markdown",
   "id": "821cb259-4d6d-468b-8dc7-d61154be7ecd",
   "metadata": {},
   "source": [
    "`-` 깨달았음: `button0`을 누르면 1점을 받고, `button1`을 누르면 100점을 받는 \"환경\"이구나? $\\to$ `button1`을 누르는 \"동작\"을 해야하는 상황이구나? \n",
    "\n",
    "- 여기에서 \"$\\to$\"의 과정을 체계화 시킨 학문이 강화학습 "
   ]
  },
  {
   "cell_type": "code",
   "execution_count": null,
   "id": "40193cb8-29e0-4a63-92e1-d3a73d9dfbd3",
   "metadata": {},
   "outputs": [],
   "source": []
  },
  {
   "cell_type": "code",
   "execution_count": null,
   "id": "f172c967-a3eb-4698-826a-293d597728cb",
   "metadata": {},
   "outputs": [],
   "source": []
  },
  {
   "cell_type": "markdown",
   "id": "00d1129a-5d3e-47f7-b3b8-d90631494289",
   "metadata": {},
   "source": [
    "- 게임 클리어"
   ]
  },
  {
   "cell_type": "markdown",
   "id": "e8cdee96-6c0e-4e26-8551-d76ce1629188",
   "metadata": {},
   "source": [
    "`-` 강화학습: 환경을 이해 $\\to$ 행동을 결정 "
   ]
  },
  {
   "cell_type": "markdown",
   "id": "9df2f276-9417-4a55-9ca2-016dbf1bc921",
   "metadata": {},
   "source": [
    "***위의 과정이 잘 되었다는 의미로 사용하는 문장들*** \n",
    "\n",
    "- 강화학습이 성공적으로 잘 되었다. \n",
    "- 에이전트가 환경의 과제를 완료했다. \n",
    "- 에이전트가 환경에서 성공적으로 학습했다. \n",
    "- 에이전트가 올바른 행동을 학습했다. \n",
    "- 게임 클리어 (비공식) "
   ]
  },
  {
   "cell_type": "markdown",
   "id": "6947330d-217b-4ae6-90f2-bdc44cf60d49",
   "metadata": {},
   "source": [
    "`-` 게임이 클리어 되었다는 것을 의미하는 지표를 정하고 싶다. \n",
    "\n",
    "- 첫 생각: `button1`을 누르는 순간 게임클리어로 보면 되지 않나?\n",
    "- 두번째 생각: 아니지? 우연히 누를수도 있잖아?\n",
    "- 게임클리어조건: 최근 20번의 보상이 1900점 이상이면 게임이 클리어 되었다고 생각하자.^[`button1`을 눌러야 하는건 맞지만 20번에 한번정도의 실수는 눈감아 주는 조건]"
   ]
  },
  {
   "cell_type": "markdown",
   "id": "a1f6dc80-305e-4fb7-a6e2-817a49e7db52",
   "metadata": {},
   "source": [
    "`-` 무지한자 -- 게임을 클리어할 수 없다. "
   ]
  },
  {
   "cell_type": "code",
   "execution_count": null,
   "id": "a5381425-030f-49c4-b55e-dc1019596172",
   "metadata": {},
   "outputs": [],
   "source": []
  },
  {
   "cell_type": "code",
   "execution_count": null,
   "id": "50333c66-7648-4ad6-9efb-e53a2e55fc5b",
   "metadata": {},
   "outputs": [],
   "source": []
  },
  {
   "cell_type": "markdown",
   "id": "e7f2f62e-2057-447e-99da-9ffffd21b510",
   "metadata": {},
   "source": [
    "`-` 깨달은자 -- 게임클리어 "
   ]
  },
  {
   "cell_type": "code",
   "execution_count": null,
   "id": "820b7e38-6d86-4946-83d0-8c5f553ca13c",
   "metadata": {},
   "outputs": [],
   "source": []
  },
  {
   "cell_type": "code",
   "execution_count": null,
   "id": "894a0486-0c94-4f62-a6bf-02a8b89f4b59",
   "metadata": {},
   "outputs": [],
   "source": []
  },
  {
   "cell_type": "markdown",
   "id": "e2e7aff0-5d87-4f25-8ffe-ec9a5547e975",
   "metadata": {},
   "source": [
    "## B. 수정1: `action_space` 수정 "
   ]
  },
  {
   "cell_type": "code",
   "execution_count": null,
   "id": "588b6027-f44e-4de5-9382-fdf022721d59",
   "metadata": {},
   "outputs": [],
   "source": []
  },
  {
   "cell_type": "code",
   "execution_count": null,
   "id": "502477ff-a519-48c1-b6cb-2796a6e1da3f",
   "metadata": {},
   "outputs": [],
   "source": []
  },
  {
   "cell_type": "markdown",
   "id": "f1cecaec-3717-4d73-8d8f-9adce9c3ce84",
   "metadata": {},
   "source": [
    "`-` 좋은점1: sample "
   ]
  },
  {
   "cell_type": "code",
   "execution_count": null,
   "id": "ba4c4846-e03f-418d-87e7-83ee1008344a",
   "metadata": {},
   "outputs": [],
   "source": []
  },
  {
   "cell_type": "code",
   "execution_count": null,
   "id": "2fb7ee2c-e8d4-4899-9144-d274cedb6742",
   "metadata": {},
   "outputs": [],
   "source": []
  },
  {
   "cell_type": "markdown",
   "id": "1852f9bb-0584-4239-aa08-38d6cf2821ff",
   "metadata": {},
   "source": [
    "`-` 좋은점2: in "
   ]
  },
  {
   "cell_type": "code",
   "execution_count": null,
   "id": "c807baeb-c834-483c-bf64-fa5c90c0e81d",
   "metadata": {},
   "outputs": [],
   "source": []
  },
  {
   "cell_type": "code",
   "execution_count": null,
   "id": "5997cd71-30a6-49bb-9147-4b5cc1a91cd7",
   "metadata": {},
   "outputs": [],
   "source": []
  },
  {
   "cell_type": "markdown",
   "id": "38e9288c-40e4-4641-8e00-44bc4cd277d9",
   "metadata": {},
   "source": [
    "`-` 코드 1차수정"
   ]
  },
  {
   "cell_type": "code",
   "execution_count": null,
   "id": "92ae005b-daf8-4577-a1b6-791f3b812de8",
   "metadata": {},
   "outputs": [],
   "source": []
  },
  {
   "cell_type": "code",
   "execution_count": null,
   "id": "383c73e6-7150-4e8e-82cf-84071ea5ea45",
   "metadata": {},
   "outputs": [],
   "source": []
  },
  {
   "cell_type": "markdown",
   "id": "3fd4cff1-c6d8-4ae2-b8c0-8fb1422485f0",
   "metadata": {},
   "source": [
    "## C. 수정2: `Env` 구현 "
   ]
  },
  {
   "cell_type": "markdown",
   "id": "eaf810ba-a4dc-407f-93c6-54d9784b5109",
   "metadata": {},
   "source": [
    "`-` env 클래스 선언 "
   ]
  },
  {
   "cell_type": "code",
   "execution_count": null,
   "id": "c6152ff3-3606-4baf-860e-dac95284b4ae",
   "metadata": {},
   "outputs": [],
   "source": []
  },
  {
   "cell_type": "code",
   "execution_count": null,
   "id": "3176d22f-f80e-4f42-8ab6-f95cc1c44770",
   "metadata": {},
   "outputs": [],
   "source": []
  },
  {
   "cell_type": "markdown",
   "id": "124b10aa-1577-4438-8878-d93414e0592b",
   "metadata": {},
   "source": [
    "## D. 수정3: `Agent` 구현 (인간지능)"
   ]
  },
  {
   "cell_type": "markdown",
   "id": "d10343b7-fb36-479e-aca1-61a94cc045e9",
   "metadata": {},
   "source": [
    "`-` Agent 클래스를 만들자. (액션을 하고, 환경에서 받은 reward를 간직) "
   ]
  },
  {
   "cell_type": "code",
   "execution_count": null,
   "id": "156bd4b9-01de-4fc5-ab62-a63b8b298b72",
   "metadata": {},
   "outputs": [],
   "source": []
  },
  {
   "cell_type": "code",
   "execution_count": null,
   "id": "66cb083d-1463-44c0-80c7-b3ec990c0be8",
   "metadata": {},
   "outputs": [],
   "source": []
  },
  {
   "cell_type": "markdown",
   "id": "a993f656-12f6-47a3-bc8c-b3e15d147c45",
   "metadata": {},
   "source": [
    "--- 대충 아래와 같은 느낌으로 코드가 돌아가요 ---"
   ]
  },
  {
   "cell_type": "markdown",
   "id": "3ea9c806-87eb-4892-b38c-8c7229ad7ee6",
   "metadata": {},
   "source": [
    "**시점0**: init "
   ]
  },
  {
   "cell_type": "code",
   "execution_count": null,
   "id": "bfcd0ab2-4952-407a-938a-bf9f9e4165be",
   "metadata": {},
   "outputs": [],
   "source": []
  },
  {
   "cell_type": "code",
   "execution_count": null,
   "id": "71ee59d3-53b8-4519-a0f9-ffa1989b9ef5",
   "metadata": {},
   "outputs": [],
   "source": []
  },
  {
   "cell_type": "markdown",
   "id": "75799c0a-2ee2-4229-8ee3-6d259c430355",
   "metadata": {},
   "source": [
    "**시점1**: agent >> env "
   ]
  },
  {
   "cell_type": "code",
   "execution_count": null,
   "id": "a705f270-ab71-4dcd-822c-a42e7d187d52",
   "metadata": {},
   "outputs": [],
   "source": []
  },
  {
   "cell_type": "code",
   "execution_count": null,
   "id": "9838f9c1-f464-4015-8b2d-31f4d53d71bd",
   "metadata": {},
   "outputs": [],
   "source": []
  },
  {
   "cell_type": "markdown",
   "id": "32765dfd-7627-4fca-b565-a290855b1991",
   "metadata": {},
   "source": [
    "**시점2**: agent << env "
   ]
  },
  {
   "cell_type": "code",
   "execution_count": null,
   "id": "5600db96-3fb1-4e72-804b-55c0b249d669",
   "metadata": {},
   "outputs": [],
   "source": []
  },
  {
   "cell_type": "code",
   "execution_count": null,
   "id": "2a504a4d-6112-4ff7-b1c6-fdc50380eda8",
   "metadata": {},
   "outputs": [],
   "source": []
  },
  {
   "cell_type": "markdown",
   "id": "5ae975d1-5725-41f0-b063-3d57fb6f91df",
   "metadata": {},
   "source": [
    "-- 전체코드 -- "
   ]
  },
  {
   "cell_type": "code",
   "execution_count": null,
   "id": "6763fc2d-f898-47cd-8f78-2c6fe41c5fc3",
   "metadata": {},
   "outputs": [],
   "source": []
  },
  {
   "cell_type": "code",
   "execution_count": null,
   "id": "3add191a-59d7-4a71-b9c7-4e3587357794",
   "metadata": {},
   "outputs": [],
   "source": []
  },
  {
   "cell_type": "markdown",
   "id": "9b17361b-9b5c-461a-b6a3-574c8e1c904b",
   "metadata": {},
   "source": [
    "## E. 수정4: `Agent` 구현 (인공지능)"
   ]
  },
  {
   "cell_type": "markdown",
   "id": "77e84973-7e84-44f0-b0c0-a86889a39205",
   "metadata": {},
   "source": [
    "`-` Game1에 대한 생각: \n",
    "\n",
    "- 사실 강화학습은 \"환경을 이해 $\\to$ 행동을 결정\" 의 과정에서 $\\to$의 과정을 수식화 한 것이다.\n",
    "- 그런데 지금까지 했던 코드는 환경(env)를 이해하는 순간 에이전트가 최적의 행동(action)^[`button1`을 누른다]을 직관적으로 결정하였으므로 기계가 스스로 학습을 했다고 볼 수 없다. "
   ]
  },
  {
   "cell_type": "markdown",
   "id": "b280e541-17f2-4fdf-8b65-3141fb2b3811",
   "metadata": {},
   "source": [
    "`-` 지금까지의 코드 복습 \n",
    "\n",
    "1. 클래스를 선언하는 부분\n",
    "    - Env 클래스의 선언\n",
    "    - Agent 클래스의 선언\n",
    "2. 환경과 에이전트를 인스턴스화 (초기화)\n",
    "3. for loop를 반복하여 게임을 진행\n",
    "   - 메인코드: (1) agent $\\to$ env (2) agent $\\leftarrow$ env \n",
    "   - 비본질적코드: 학습과정을 display, 학습의 종료조건체크 "
   ]
  },
  {
   "cell_type": "markdown",
   "id": "f5ab98c0-997e-4f9a-a040-6721b05ce9c6",
   "metadata": {},
   "source": [
    "`-` 앞으로 구성할 코드의 형태: 에이전트가 데이터를 보고 스스로 `button1`을 눌러야 한다는 생각을 했으면 좋겠음. \n",
    "\n",
    "1. 클래스를 선언하는 부분\n",
    "    - Env 클래스의 선언\n",
    "    - **Agent 클래스의 선언** // <---- `학습의 과정이 포함되어야 한다`, `act함수의 수정`, `learn함수의 추가` \n",
    "2. 환경과 에이전트를 인스턴스화 (초기화)\n",
    "3. for loop를 반복하여 게임을 진행\n",
    "   - **메인코드** (1) agent $\\to$ env (2) agent $\\leftarrow$ env // <---- `agent가 데이터를 분석하고 학습하는 과정이 추가`\n",
    "   - 비본질적코드: 학습과정을 display, 학습의 종료조건체크 "
   ]
  },
  {
   "cell_type": "markdown",
   "id": "86f1c123-5c8c-4660-9465-316bf75990f4",
   "metadata": {},
   "source": [
    "`-` 에이전트가 학습을 어떻게 하는가? 아래와 같이 버튼을 누르도록 한다면 \n",
    "\n",
    "- 버튼0을 누를 확률: $\\frac{q_0}{q_0+q_1}$\n",
    "- 버튼1을 누를 확률: $\\frac{q_1}{q_0+q_1}$\n",
    "\n",
    "시간이 지날수록 버튼1을 주로 누를 것이다. "
   ]
  },
  {
   "cell_type": "markdown",
   "id": "5c812320-4aca-4a7a-8690-5a5ae021d25a",
   "metadata": {},
   "source": [
    "`-` 걱정: $t=0$ 이면 어쩌지? $t=1$이면 어쩌지?... $\\to$ 해결책: 일정시간동안 랜덤액션을 하면서 데이터를 쌓고 그 뒤에 $q_0,q_1$을 계산 "
   ]
  },
  {
   "cell_type": "markdown",
   "id": "52f8fb01-71c0-47f6-9484-eea924f03ccf",
   "metadata": {},
   "source": [
    "`-` 쌓은 데이터를 바탕으로 환경을 이해하고 action을 뽑는 코드 "
   ]
  },
  {
   "cell_type": "code",
   "execution_count": null,
   "id": "82256ff2-9d74-4de7-9711-d4f4ad43327e",
   "metadata": {},
   "outputs": [],
   "source": []
  },
  {
   "cell_type": "code",
   "execution_count": null,
   "id": "b928ee72-fdd3-49b9-aca8-8a726e33d204",
   "metadata": {},
   "outputs": [],
   "source": []
  },
  {
   "cell_type": "markdown",
   "id": "8209e84e-49e3-47c1-939d-f0ab723b33cf",
   "metadata": {},
   "source": [
    "`-` 최종코드정리 "
   ]
  },
  {
   "cell_type": "code",
   "execution_count": null,
   "id": "88b824ab-85df-4071-9e45-8882224c1b07",
   "metadata": {},
   "outputs": [],
   "source": []
  },
  {
   "cell_type": "code",
   "execution_count": null,
   "id": "6a705786-53d2-4518-b492-1cd1a3085daa",
   "metadata": {},
   "outputs": [],
   "source": []
  }
 ],
 "metadata": {
  "kernelspec": {
   "display_name": "Python 3 (ipykernel)",
   "language": "python",
   "name": "python3"
  },
  "language_info": {
   "codemirror_mode": {
    "name": "ipython",
    "version": 3
   },
   "file_extension": ".py",
   "mimetype": "text/x-python",
   "name": "python",
   "nbconvert_exporter": "python",
   "pygments_lexer": "ipython3",
   "version": "3.11.8"
  }
 },
 "nbformat": 4,
 "nbformat_minor": 5
}
