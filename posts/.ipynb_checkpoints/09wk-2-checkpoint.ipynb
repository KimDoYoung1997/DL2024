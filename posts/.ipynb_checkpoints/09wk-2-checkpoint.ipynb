{
 "cells": [
  {
   "cell_type": "raw",
   "id": "3ddf3247-250f-4b60-97f5-9b0e8dd890c1",
   "metadata": {},
   "source": [
    "---\n",
    "title: \"09wk-2: 중간고사 (예상문제)\"\n",
    "author: \"최규빈\"\n",
    "date: \"05/01/2024\"\n",
    "---"
   ]
  },
  {
   "cell_type": "code",
   "execution_count": 1,
   "id": "911f01f4-c5a9-4ac0-b41d-7500b8e3abc8",
   "metadata": {
    "tags": []
   },
   "outputs": [],
   "source": [
    "import torch \n",
    "import numpy as np\n",
    "import pandas as pd \n",
    "import matplotlib.pyplot as plt\n",
    "import fastai.vision.all"
   ]
  },
  {
   "cell_type": "markdown",
   "id": "c138cc43-7fe8-42e2-91e2-b8c0d43fdf6f",
   "metadata": {},
   "source": [
    "## `1`. 크롤링을 통한 이미지 분석 및 CAM"
   ]
  },
  {
   "cell_type": "markdown",
   "id": "61fc14c8-d547-406e-bdbd-c0dcbeaac61e",
   "metadata": {},
   "source": [
    "`(1)` 두 가지 키워드로 크롤링을 수행하여 이미지자료를 모아라. (키워드는 각자 마음에 드는 것으로 설정할 것) -- 01wk-1 의 HW를 그대로 활용해도 무방"
   ]
  },
  {
   "cell_type": "markdown",
   "id": "a82b3bfe-1721-47c1-8707-0e114c139e55",
   "metadata": {},
   "source": [
    "`(2)` ImageDataLoaders.from_folder 를 이용하여 dls를 만들어라. "
   ]
  },
  {
   "cell_type": "markdown",
   "id": "220ff21e-e8c0-4179-b8fc-e18ec3df16aa",
   "metadata": {},
   "source": [
    "`(3)` resnet34를 이용하여 학습하라. "
   ]
  },
  {
   "cell_type": "markdown",
   "id": "e96560c0-8eb5-4fd4-a1c5-0cf3cd599cb4",
   "metadata": {},
   "source": [
    "`(4)` CAM (class activation mapping)을 이용하여 (3)의 모형의 판단근거를 시각화하라. "
   ]
  }
 ],
 "metadata": {
  "kernelspec": {
   "display_name": "Python 3 (ipykernel)",
   "language": "python",
   "name": "python3"
  },
  "language_info": {
   "codemirror_mode": {
    "name": "ipython",
    "version": 3
   },
   "file_extension": ".py",
   "mimetype": "text/x-python",
   "name": "python",
   "nbconvert_exporter": "python",
   "pygments_lexer": "ipython3",
   "version": "3.10.13"
  }
 },
 "nbformat": 4,
 "nbformat_minor": 5
}
