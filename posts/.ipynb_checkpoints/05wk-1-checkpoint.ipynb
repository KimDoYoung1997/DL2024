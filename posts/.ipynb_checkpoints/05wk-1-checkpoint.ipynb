{
 "cells": [
  {
   "cell_type": "raw",
   "id": "51e1d740-b82a-4af2-a0d9-394ed0756728",
   "metadata": {
    "id": "87b5cded-346b-4915-acf5-b5ec93a5207d"
   },
   "source": [
    "---\n",
    "title: \"05wk-1: 깊은신경망 (4) -- GPU 사용법, SGD, Softmax와 CrossEntropy\"\n",
    "author: \"최규빈\"\n",
    "date: \"04/01/2024\"\n",
    "---"
   ]
  },
  {
   "cell_type": "markdown",
   "id": "bd5d0a99-db20-4891-b2e2-14080c1d8a43",
   "metadata": {
    "id": "e67ab8e0"
   },
   "source": [
    "<a href=\"https://colab.research.google.com/github/guebin/DL2024/blob/main/posts/05wk-1.ipynb\"><img src=\"https://colab.research.google.com/assets/colab-badge.svg\" style=\"text-align: left\"></a>"
   ]
  },
  {
   "cell_type": "markdown",
   "id": "85595e0d-d9a6-4e79-a1e6-8ce6d7465d08",
   "metadata": {
    "id": "4d47a7c9",
    "tags": []
   },
   "source": [
    "# 1. 강의영상"
   ]
  },
  {
   "cell_type": "code",
   "execution_count": 1,
   "id": "df00dc1a-14ec-4073-b40d-836a31ac908c",
   "metadata": {
    "tags": []
   },
   "outputs": [],
   "source": [
    "#{{<video https://youtu.be/playlist?list=PLQqh36zP38-wHAizLm_MYaUweataauffD&si=U5TXo5UgkRGc6a-F >}}"
   ]
  },
  {
   "cell_type": "markdown",
   "id": "53144898-ba7e-4f40-b9c4-77020801a055",
   "metadata": {},
   "source": [
    "# 2. Imports"
   ]
  },
  {
   "cell_type": "code",
   "execution_count": 2,
   "id": "a84306e3-564a-472e-ae0a-5322379da476",
   "metadata": {
    "tags": []
   },
   "outputs": [],
   "source": [
    "import torch\n",
    "import matplotlib.pyplot as plt\n",
    "from fastai.data.all import *\n",
    "import torchvision"
   ]
  },
  {
   "cell_type": "markdown",
   "id": "de59a45c-2115-47c9-bbc7-f07f66d9d6d7",
   "metadata": {},
   "source": [
    "# 3. CPU vs GPU "
   ]
  },
  {
   "cell_type": "markdown",
   "id": "3618df51-1ff6-4c58-94df-ced67d4c37df",
   "metadata": {},
   "source": [
    "`-` 파이토치에서 GPU를 쓰는 방법을 알아보자. (사실 지금까지 우리는 CPU만 쓰고 있었음) "
   ]
  },
  {
   "cell_type": "markdown",
   "id": "9d9403b4-9751-430e-8810-8ca8f2302dac",
   "metadata": {},
   "source": [
    "## A. GPU 사용방법 "
   ]
  },
  {
   "cell_type": "markdown",
   "id": "5eb51ffe-27e0-4dde-a471-bc06f3926c1e",
   "metadata": {},
   "source": [
    "`-` cpu 연산이 가능한 메모리에 데이터 저장"
   ]
  },
  {
   "cell_type": "code",
   "execution_count": 3,
   "id": "3d54e22e-e238-4206-a7b6-ad0a42ea3048",
   "metadata": {
    "tags": []
   },
   "outputs": [],
   "source": [
    "torch.manual_seed(43052)\n",
    "x_cpu = torch.tensor([0.0,0.1,0.2]).reshape(-1,1) \n",
    "y_cpu = torch.tensor([0.0,0.2,0.4]).reshape(-1,1) \n",
    "net_cpu = torch.nn.Linear(1,1) "
   ]
  },
  {
   "cell_type": "markdown",
   "id": "5f95efdc-7889-4892-b0ec-00189110af24",
   "metadata": {},
   "source": [
    "`-` gpu 연산이 가능한 메모리에 데이터 저장 "
   ]
  },
  {
   "cell_type": "code",
   "execution_count": 4,
   "id": "91fc404a-ec68-4306-8c44-10f453373da7",
   "metadata": {
    "tags": []
   },
   "outputs": [
    {
     "name": "stdout",
     "output_type": "stream",
     "text": [
      "Mon Apr  1 12:48:31 2024       \r\n",
      "+---------------------------------------------------------------------------------------+\r\n",
      "| NVIDIA-SMI 535.161.07             Driver Version: 535.161.07   CUDA Version: 12.2     |\r\n",
      "|-----------------------------------------+----------------------+----------------------+\r\n",
      "| GPU  Name                 Persistence-M | Bus-Id        Disp.A | Volatile Uncorr. ECC |\r\n",
      "| Fan  Temp   Perf          Pwr:Usage/Cap |         Memory-Usage | GPU-Util  Compute M. |\r\n",
      "|                                         |                      |               MIG M. |\r\n",
      "|=========================================+======================+======================|\r\n",
      "|   0  NVIDIA GeForce RTX 3090        Off | 00000000:09:00.0 Off |                  N/A |\r\n",
      "|  0%   36C    P8              29W / 420W |     26MiB / 24576MiB |      0%      Default |\r\n",
      "|                                         |                      |                  N/A |\r\n",
      "+-----------------------------------------+----------------------+----------------------+\r\n",
      "                                                                                         \r\n",
      "+---------------------------------------------------------------------------------------+\r\n",
      "| Processes:                                                                            |\r\n",
      "|  GPU   GI   CI        PID   Type   Process name                            GPU Memory |\r\n",
      "|        ID   ID                                                             Usage      |\r\n",
      "|=======================================================================================|\r\n",
      "|    0   N/A  N/A      1130      G   /usr/lib/xorg/Xorg                            9MiB |\r\n",
      "|    0   N/A  N/A      1209      G   /usr/bin/gnome-shell                          8MiB |\r\n",
      "+---------------------------------------------------------------------------------------+\r\n"
     ]
    }
   ],
   "source": [
    "!nvidia-smi # before"
   ]
  },
  {
   "cell_type": "code",
   "execution_count": 5,
   "id": "f22b2e9c-9e14-4ad2-84ef-8885ffcea830",
   "metadata": {
    "tags": []
   },
   "outputs": [],
   "source": [
    "torch.manual_seed(43052)\n",
    "x_gpu = x_cpu.to(\"cuda:0\")\n",
    "y_gpu = y_cpu.to(\"cuda:0\")\n",
    "net_gpu = torch.nn.Linear(1,1).to(\"cuda:0\") "
   ]
  },
  {
   "cell_type": "code",
   "execution_count": 6,
   "id": "9601e845-9a4b-4bec-9053-879be0749db5",
   "metadata": {
    "tags": []
   },
   "outputs": [
    {
     "name": "stdout",
     "output_type": "stream",
     "text": [
      "Mon Apr  1 12:48:39 2024       \r\n",
      "+---------------------------------------------------------------------------------------+\r\n",
      "| NVIDIA-SMI 535.161.07             Driver Version: 535.161.07   CUDA Version: 12.2     |\r\n",
      "|-----------------------------------------+----------------------+----------------------+\r\n",
      "| GPU  Name                 Persistence-M | Bus-Id        Disp.A | Volatile Uncorr. ECC |\r\n",
      "| Fan  Temp   Perf          Pwr:Usage/Cap |         Memory-Usage | GPU-Util  Compute M. |\r\n",
      "|                                         |                      |               MIG M. |\r\n",
      "|=========================================+======================+======================|\r\n",
      "|   0  NVIDIA GeForce RTX 3090        Off | 00000000:09:00.0 Off |                  N/A |\r\n",
      "|  0%   43C    P2             122W / 420W |    287MiB / 24576MiB |      0%      Default |\r\n",
      "|                                         |                      |                  N/A |\r\n",
      "+-----------------------------------------+----------------------+----------------------+\r\n",
      "                                                                                         \r\n",
      "+---------------------------------------------------------------------------------------+\r\n",
      "| Processes:                                                                            |\r\n",
      "|  GPU   GI   CI        PID   Type   Process name                            GPU Memory |\r\n",
      "|        ID   ID                                                             Usage      |\r\n",
      "|=======================================================================================|\r\n",
      "|    0   N/A  N/A      1130      G   /usr/lib/xorg/Xorg                            9MiB |\r\n",
      "|    0   N/A  N/A      1209      G   /usr/bin/gnome-shell                          8MiB |\r\n",
      "|    0   N/A  N/A    358799      C   ...b3/anaconda3/envs/dl2024/bin/python      256MiB |\r\n",
      "+---------------------------------------------------------------------------------------+\r\n"
     ]
    }
   ],
   "source": [
    "!nvidia-smi"
   ]
  },
  {
   "cell_type": "markdown",
   "id": "8e3fbd2e-84fc-47cb-ad1d-6f4b26f137e0",
   "metadata": {},
   "source": [
    "> GPU에 메모리를 올리면 GPU메모리가 점유된다! (26MiB -> 287MiB) "
   ]
  },
  {
   "cell_type": "markdown",
   "id": "3e53fcb8-275d-41c4-b3dc-d56d5f5a96fc",
   "metadata": {},
   "source": [
    "`-` cpu 혹은 gpu 연산이 가능한 메모리에 저장된 값들을 확인 "
   ]
  },
  {
   "cell_type": "code",
   "execution_count": 7,
   "id": "4ed37ca9-745f-4e78-bea6-c17993c9fcc5",
   "metadata": {
    "tags": []
   },
   "outputs": [
    {
     "data": {
      "text/plain": [
       "(tensor([[0.0000],\n",
       "         [0.1000],\n",
       "         [0.2000]]),\n",
       " tensor([[0.0000],\n",
       "         [0.2000],\n",
       "         [0.4000]]),\n",
       " Parameter containing:\n",
       " tensor([[-0.3467]], requires_grad=True),\n",
       " Parameter containing:\n",
       " tensor([-0.8470], requires_grad=True))"
      ]
     },
     "execution_count": 7,
     "metadata": {},
     "output_type": "execute_result"
    }
   ],
   "source": [
    "x_cpu, y_cpu, net_cpu.weight, net_cpu.bias"
   ]
  },
  {
   "cell_type": "code",
   "execution_count": 8,
   "id": "ae7cb375-73ca-4bdd-a290-ecedfc2bf7c0",
   "metadata": {
    "tags": []
   },
   "outputs": [
    {
     "data": {
      "text/plain": [
       "(tensor([[0.0000],\n",
       "         [0.1000],\n",
       "         [0.2000]], device='cuda:0'),\n",
       " tensor([[0.0000],\n",
       "         [0.2000],\n",
       "         [0.4000]], device='cuda:0'),\n",
       " Parameter containing:\n",
       " tensor([[-0.3467]], device='cuda:0', requires_grad=True),\n",
       " Parameter containing:\n",
       " tensor([-0.8470], device='cuda:0', requires_grad=True))"
      ]
     },
     "execution_count": 8,
     "metadata": {},
     "output_type": "execute_result"
    }
   ],
   "source": [
    "x_gpu, y_gpu, net_gpu.weight, net_gpu.bias"
   ]
  },
  {
   "cell_type": "markdown",
   "id": "f4f5b0f1-7529-47ec-bab5-8ed91640a1ac",
   "metadata": {},
   "source": [
    "`-` gpu는 gpu끼리 연산가능하고 cpu는 cpu끼리 연산가능함 "
   ]
  },
  {
   "cell_type": "markdown",
   "id": "967c42fa-5f99-411b-9655-0711a2375220",
   "metadata": {},
   "source": [
    "(예시1)"
   ]
  },
  {
   "cell_type": "code",
   "execution_count": 9,
   "id": "9843f929-e8e0-46b3-a799-c99ba1e46fa3",
   "metadata": {
    "tags": []
   },
   "outputs": [
    {
     "data": {
      "text/plain": [
       "tensor([[-0.8470],\n",
       "        [-0.8817],\n",
       "        [-0.9164]], grad_fn=<AddmmBackward0>)"
      ]
     },
     "execution_count": 9,
     "metadata": {},
     "output_type": "execute_result"
    }
   ],
   "source": [
    "net_cpu(x_cpu) "
   ]
  },
  {
   "cell_type": "markdown",
   "id": "276fbba8-de43-4442-83f0-ab19642039b0",
   "metadata": {},
   "source": [
    "(예시2)"
   ]
  },
  {
   "cell_type": "code",
   "execution_count": 10,
   "id": "16bdd165-cb2c-4c9b-9d16-e03c2346f273",
   "metadata": {
    "tags": []
   },
   "outputs": [
    {
     "data": {
      "text/plain": [
       "tensor([[-0.8470],\n",
       "        [-0.8817],\n",
       "        [-0.9164]], device='cuda:0', grad_fn=<AddmmBackward0>)"
      ]
     },
     "execution_count": 10,
     "metadata": {},
     "output_type": "execute_result"
    }
   ],
   "source": [
    "net_gpu(x_gpu) "
   ]
  },
  {
   "cell_type": "markdown",
   "id": "df2ee03b-ddcd-479e-a1de-681c629bd241",
   "metadata": {},
   "source": [
    "(예시3)"
   ]
  },
  {
   "cell_type": "code",
   "execution_count": 11,
   "id": "97bae322-4185-43e4-92c2-8b3229153934",
   "metadata": {
    "tags": []
   },
   "outputs": [
    {
     "ename": "RuntimeError",
     "evalue": "Expected all tensors to be on the same device, but found at least two devices, cpu and cuda:0! (when checking argument for argument mat1 in method wrapper_CUDA_addmm)",
     "output_type": "error",
     "traceback": [
      "\u001b[0;31m---------------------------------------------------------------------------\u001b[0m",
      "\u001b[0;31mRuntimeError\u001b[0m                              Traceback (most recent call last)",
      "Cell \u001b[0;32mIn[11], line 1\u001b[0m\n\u001b[0;32m----> 1\u001b[0m net_cpu(x_gpu)\n",
      "File \u001b[0;32m~/anaconda3/envs/dl2024/lib/python3.11/site-packages/torch/nn/modules/module.py:1511\u001b[0m, in \u001b[0;36mModule._wrapped_call_impl\u001b[0;34m(self, *args, **kwargs)\u001b[0m\n\u001b[1;32m   1509\u001b[0m     \u001b[38;5;28;01mreturn\u001b[39;00m \u001b[38;5;28mself\u001b[39m\u001b[38;5;241m.\u001b[39m_compiled_call_impl(\u001b[38;5;241m*\u001b[39margs, \u001b[38;5;241m*\u001b[39m\u001b[38;5;241m*\u001b[39mkwargs)  \u001b[38;5;66;03m# type: ignore[misc]\u001b[39;00m\n\u001b[1;32m   1510\u001b[0m \u001b[38;5;28;01melse\u001b[39;00m:\n\u001b[0;32m-> 1511\u001b[0m     \u001b[38;5;28;01mreturn\u001b[39;00m \u001b[38;5;28mself\u001b[39m\u001b[38;5;241m.\u001b[39m_call_impl(\u001b[38;5;241m*\u001b[39margs, \u001b[38;5;241m*\u001b[39m\u001b[38;5;241m*\u001b[39mkwargs)\n",
      "File \u001b[0;32m~/anaconda3/envs/dl2024/lib/python3.11/site-packages/torch/nn/modules/module.py:1520\u001b[0m, in \u001b[0;36mModule._call_impl\u001b[0;34m(self, *args, **kwargs)\u001b[0m\n\u001b[1;32m   1515\u001b[0m \u001b[38;5;66;03m# If we don't have any hooks, we want to skip the rest of the logic in\u001b[39;00m\n\u001b[1;32m   1516\u001b[0m \u001b[38;5;66;03m# this function, and just call forward.\u001b[39;00m\n\u001b[1;32m   1517\u001b[0m \u001b[38;5;28;01mif\u001b[39;00m \u001b[38;5;129;01mnot\u001b[39;00m (\u001b[38;5;28mself\u001b[39m\u001b[38;5;241m.\u001b[39m_backward_hooks \u001b[38;5;129;01mor\u001b[39;00m \u001b[38;5;28mself\u001b[39m\u001b[38;5;241m.\u001b[39m_backward_pre_hooks \u001b[38;5;129;01mor\u001b[39;00m \u001b[38;5;28mself\u001b[39m\u001b[38;5;241m.\u001b[39m_forward_hooks \u001b[38;5;129;01mor\u001b[39;00m \u001b[38;5;28mself\u001b[39m\u001b[38;5;241m.\u001b[39m_forward_pre_hooks\n\u001b[1;32m   1518\u001b[0m         \u001b[38;5;129;01mor\u001b[39;00m _global_backward_pre_hooks \u001b[38;5;129;01mor\u001b[39;00m _global_backward_hooks\n\u001b[1;32m   1519\u001b[0m         \u001b[38;5;129;01mor\u001b[39;00m _global_forward_hooks \u001b[38;5;129;01mor\u001b[39;00m _global_forward_pre_hooks):\n\u001b[0;32m-> 1520\u001b[0m     \u001b[38;5;28;01mreturn\u001b[39;00m forward_call(\u001b[38;5;241m*\u001b[39margs, \u001b[38;5;241m*\u001b[39m\u001b[38;5;241m*\u001b[39mkwargs)\n\u001b[1;32m   1522\u001b[0m \u001b[38;5;28;01mtry\u001b[39;00m:\n\u001b[1;32m   1523\u001b[0m     result \u001b[38;5;241m=\u001b[39m \u001b[38;5;28;01mNone\u001b[39;00m\n",
      "File \u001b[0;32m~/anaconda3/envs/dl2024/lib/python3.11/site-packages/torch/nn/modules/linear.py:116\u001b[0m, in \u001b[0;36mLinear.forward\u001b[0;34m(self, input)\u001b[0m\n\u001b[1;32m    115\u001b[0m \u001b[38;5;28;01mdef\u001b[39;00m \u001b[38;5;21mforward\u001b[39m(\u001b[38;5;28mself\u001b[39m, \u001b[38;5;28minput\u001b[39m: Tensor) \u001b[38;5;241m-\u001b[39m\u001b[38;5;241m>\u001b[39m Tensor:\n\u001b[0;32m--> 116\u001b[0m     \u001b[38;5;28;01mreturn\u001b[39;00m F\u001b[38;5;241m.\u001b[39mlinear(\u001b[38;5;28minput\u001b[39m, \u001b[38;5;28mself\u001b[39m\u001b[38;5;241m.\u001b[39mweight, \u001b[38;5;28mself\u001b[39m\u001b[38;5;241m.\u001b[39mbias)\n",
      "\u001b[0;31mRuntimeError\u001b[0m: Expected all tensors to be on the same device, but found at least two devices, cpu and cuda:0! (when checking argument for argument mat1 in method wrapper_CUDA_addmm)"
     ]
    }
   ],
   "source": [
    "net_cpu(x_gpu) "
   ]
  },
  {
   "cell_type": "markdown",
   "id": "a28a42c6-4fea-4011-9940-5eb438d3d937",
   "metadata": {},
   "source": [
    "(예시4)"
   ]
  },
  {
   "cell_type": "code",
   "execution_count": 12,
   "id": "e25a3a7a-bc4e-4007-83cb-d2f8c3f9a4fe",
   "metadata": {
    "tags": []
   },
   "outputs": [
    {
     "ename": "RuntimeError",
     "evalue": "Expected all tensors to be on the same device, but found at least two devices, cuda:0 and cpu! (when checking argument for argument mat1 in method wrapper_CUDA_addmm)",
     "output_type": "error",
     "traceback": [
      "\u001b[0;31m---------------------------------------------------------------------------\u001b[0m",
      "\u001b[0;31mRuntimeError\u001b[0m                              Traceback (most recent call last)",
      "Cell \u001b[0;32mIn[12], line 1\u001b[0m\n\u001b[0;32m----> 1\u001b[0m net_gpu(x_cpu)\n",
      "File \u001b[0;32m~/anaconda3/envs/dl2024/lib/python3.11/site-packages/torch/nn/modules/module.py:1511\u001b[0m, in \u001b[0;36mModule._wrapped_call_impl\u001b[0;34m(self, *args, **kwargs)\u001b[0m\n\u001b[1;32m   1509\u001b[0m     \u001b[38;5;28;01mreturn\u001b[39;00m \u001b[38;5;28mself\u001b[39m\u001b[38;5;241m.\u001b[39m_compiled_call_impl(\u001b[38;5;241m*\u001b[39margs, \u001b[38;5;241m*\u001b[39m\u001b[38;5;241m*\u001b[39mkwargs)  \u001b[38;5;66;03m# type: ignore[misc]\u001b[39;00m\n\u001b[1;32m   1510\u001b[0m \u001b[38;5;28;01melse\u001b[39;00m:\n\u001b[0;32m-> 1511\u001b[0m     \u001b[38;5;28;01mreturn\u001b[39;00m \u001b[38;5;28mself\u001b[39m\u001b[38;5;241m.\u001b[39m_call_impl(\u001b[38;5;241m*\u001b[39margs, \u001b[38;5;241m*\u001b[39m\u001b[38;5;241m*\u001b[39mkwargs)\n",
      "File \u001b[0;32m~/anaconda3/envs/dl2024/lib/python3.11/site-packages/torch/nn/modules/module.py:1520\u001b[0m, in \u001b[0;36mModule._call_impl\u001b[0;34m(self, *args, **kwargs)\u001b[0m\n\u001b[1;32m   1515\u001b[0m \u001b[38;5;66;03m# If we don't have any hooks, we want to skip the rest of the logic in\u001b[39;00m\n\u001b[1;32m   1516\u001b[0m \u001b[38;5;66;03m# this function, and just call forward.\u001b[39;00m\n\u001b[1;32m   1517\u001b[0m \u001b[38;5;28;01mif\u001b[39;00m \u001b[38;5;129;01mnot\u001b[39;00m (\u001b[38;5;28mself\u001b[39m\u001b[38;5;241m.\u001b[39m_backward_hooks \u001b[38;5;129;01mor\u001b[39;00m \u001b[38;5;28mself\u001b[39m\u001b[38;5;241m.\u001b[39m_backward_pre_hooks \u001b[38;5;129;01mor\u001b[39;00m \u001b[38;5;28mself\u001b[39m\u001b[38;5;241m.\u001b[39m_forward_hooks \u001b[38;5;129;01mor\u001b[39;00m \u001b[38;5;28mself\u001b[39m\u001b[38;5;241m.\u001b[39m_forward_pre_hooks\n\u001b[1;32m   1518\u001b[0m         \u001b[38;5;129;01mor\u001b[39;00m _global_backward_pre_hooks \u001b[38;5;129;01mor\u001b[39;00m _global_backward_hooks\n\u001b[1;32m   1519\u001b[0m         \u001b[38;5;129;01mor\u001b[39;00m _global_forward_hooks \u001b[38;5;129;01mor\u001b[39;00m _global_forward_pre_hooks):\n\u001b[0;32m-> 1520\u001b[0m     \u001b[38;5;28;01mreturn\u001b[39;00m forward_call(\u001b[38;5;241m*\u001b[39margs, \u001b[38;5;241m*\u001b[39m\u001b[38;5;241m*\u001b[39mkwargs)\n\u001b[1;32m   1522\u001b[0m \u001b[38;5;28;01mtry\u001b[39;00m:\n\u001b[1;32m   1523\u001b[0m     result \u001b[38;5;241m=\u001b[39m \u001b[38;5;28;01mNone\u001b[39;00m\n",
      "File \u001b[0;32m~/anaconda3/envs/dl2024/lib/python3.11/site-packages/torch/nn/modules/linear.py:116\u001b[0m, in \u001b[0;36mLinear.forward\u001b[0;34m(self, input)\u001b[0m\n\u001b[1;32m    115\u001b[0m \u001b[38;5;28;01mdef\u001b[39;00m \u001b[38;5;21mforward\u001b[39m(\u001b[38;5;28mself\u001b[39m, \u001b[38;5;28minput\u001b[39m: Tensor) \u001b[38;5;241m-\u001b[39m\u001b[38;5;241m>\u001b[39m Tensor:\n\u001b[0;32m--> 116\u001b[0m     \u001b[38;5;28;01mreturn\u001b[39;00m F\u001b[38;5;241m.\u001b[39mlinear(\u001b[38;5;28minput\u001b[39m, \u001b[38;5;28mself\u001b[39m\u001b[38;5;241m.\u001b[39mweight, \u001b[38;5;28mself\u001b[39m\u001b[38;5;241m.\u001b[39mbias)\n",
      "\u001b[0;31mRuntimeError\u001b[0m: Expected all tensors to be on the same device, but found at least two devices, cuda:0 and cpu! (when checking argument for argument mat1 in method wrapper_CUDA_addmm)"
     ]
    }
   ],
   "source": [
    "net_gpu(x_cpu)"
   ]
  },
  {
   "cell_type": "markdown",
   "id": "4fd836ac-5da1-4d85-ad0b-1de6c16120cf",
   "metadata": {},
   "source": [
    "(예시5)"
   ]
  },
  {
   "cell_type": "code",
   "execution_count": 13,
   "id": "63858552-cc37-453f-8cf8-cac3d3d267c2",
   "metadata": {
    "tags": []
   },
   "outputs": [
    {
     "data": {
      "text/plain": [
       "tensor(1.2068, grad_fn=<MeanBackward0>)"
      ]
     },
     "execution_count": 13,
     "metadata": {},
     "output_type": "execute_result"
    }
   ],
   "source": [
    "torch.mean((y_cpu-net_cpu(x_cpu))**2)"
   ]
  },
  {
   "cell_type": "markdown",
   "id": "f538e301-9c48-40f2-b5bd-6e599a1521cc",
   "metadata": {},
   "source": [
    "(예시6)"
   ]
  },
  {
   "cell_type": "code",
   "execution_count": 14,
   "id": "72472217-0944-4268-8a3f-6bee4b8c8b29",
   "metadata": {
    "tags": []
   },
   "outputs": [
    {
     "data": {
      "text/plain": [
       "tensor(1.2068, device='cuda:0', grad_fn=<MeanBackward0>)"
      ]
     },
     "execution_count": 14,
     "metadata": {},
     "output_type": "execute_result"
    }
   ],
   "source": [
    "torch.mean((y_gpu-net_gpu(x_gpu))**2)"
   ]
  },
  {
   "cell_type": "markdown",
   "id": "4bb1fe1e-ade1-4fdf-b814-97b14b9a05e4",
   "metadata": {},
   "source": [
    "(예시7)"
   ]
  },
  {
   "cell_type": "code",
   "execution_count": 15,
   "id": "6bc92139-3108-47c5-89b1-b01266c9d19c",
   "metadata": {
    "tags": []
   },
   "outputs": [
    {
     "ename": "RuntimeError",
     "evalue": "Expected all tensors to be on the same device, but found at least two devices, cuda:0 and cpu!",
     "output_type": "error",
     "traceback": [
      "\u001b[0;31m---------------------------------------------------------------------------\u001b[0m",
      "\u001b[0;31mRuntimeError\u001b[0m                              Traceback (most recent call last)",
      "Cell \u001b[0;32mIn[15], line 1\u001b[0m\n\u001b[0;32m----> 1\u001b[0m torch\u001b[38;5;241m.\u001b[39mmean((y_gpu\u001b[38;5;241m-\u001b[39mnet_cpu(x_cpu))\u001b[38;5;241m*\u001b[39m\u001b[38;5;241m*\u001b[39m\u001b[38;5;241m2\u001b[39m)\n",
      "\u001b[0;31mRuntimeError\u001b[0m: Expected all tensors to be on the same device, but found at least two devices, cuda:0 and cpu!"
     ]
    }
   ],
   "source": [
    "torch.mean((y_gpu-net_cpu(x_cpu))**2)"
   ]
  },
  {
   "cell_type": "markdown",
   "id": "b12465e2-8b7a-4a28-8f0b-51c6aa716af8",
   "metadata": {},
   "source": [
    "(예시8)"
   ]
  },
  {
   "cell_type": "code",
   "execution_count": 16,
   "id": "07158f86-6034-411e-8530-633758eaad34",
   "metadata": {
    "tags": []
   },
   "outputs": [
    {
     "ename": "RuntimeError",
     "evalue": "Expected all tensors to be on the same device, but found at least two devices, cuda:0 and cpu!",
     "output_type": "error",
     "traceback": [
      "\u001b[0;31m---------------------------------------------------------------------------\u001b[0m",
      "\u001b[0;31mRuntimeError\u001b[0m                              Traceback (most recent call last)",
      "Cell \u001b[0;32mIn[16], line 1\u001b[0m\n\u001b[0;32m----> 1\u001b[0m torch\u001b[38;5;241m.\u001b[39mmean((y_cpu\u001b[38;5;241m-\u001b[39mnet_gpu(x_gpu))\u001b[38;5;241m*\u001b[39m\u001b[38;5;241m*\u001b[39m\u001b[38;5;241m2\u001b[39m)\n",
      "\u001b[0;31mRuntimeError\u001b[0m: Expected all tensors to be on the same device, but found at least two devices, cuda:0 and cpu!"
     ]
    }
   ],
   "source": [
    "torch.mean((y_cpu-net_gpu(x_gpu))**2)"
   ]
  },
  {
   "cell_type": "markdown",
   "id": "6dd12bfa-6e85-4265-962e-8619fe0b2105",
   "metadata": {},
   "source": [
    "## B. 시간측정 (예비학습) "
   ]
  },
  {
   "cell_type": "code",
   "execution_count": 1,
   "id": "a19a108c-fa7a-411d-8a3e-67d40fe149aa",
   "metadata": {
    "tags": []
   },
   "outputs": [],
   "source": [
    "import time "
   ]
  },
  {
   "cell_type": "code",
   "execution_count": 2,
   "id": "fccfd426-6b42-4b95-a862-c3de3dd6cb7e",
   "metadata": {
    "tags": []
   },
   "outputs": [],
   "source": [
    "t1 = time.time()"
   ]
  },
  {
   "cell_type": "code",
   "execution_count": 3,
   "id": "8e3f20e7-28a5-425e-8da1-4397987d1bb0",
   "metadata": {
    "tags": []
   },
   "outputs": [],
   "source": [
    "t2 = time.time()"
   ]
  },
  {
   "cell_type": "code",
   "execution_count": 4,
   "id": "a89fe25c-94a1-4b53-8efa-b13afc1f705f",
   "metadata": {
    "tags": []
   },
   "outputs": [
    {
     "data": {
      "text/plain": [
       "1.6584296226501465"
      ]
     },
     "execution_count": 4,
     "metadata": {},
     "output_type": "execute_result"
    }
   ],
   "source": [
    "t2-t1"
   ]
  },
  {
   "cell_type": "markdown",
   "id": "ad8e185b-733a-452e-9221-d5cdfad0ddbf",
   "metadata": {
    "tags": []
   },
   "source": [
    "## C. CPU vs GPU (512 nodes)"
   ]
  },
  {
   "cell_type": "markdown",
   "id": "fb010616-edf0-418d-ab29-5ad06b7cb5d5",
   "metadata": {},
   "source": [
    "`-` CPU (512 nodes) "
   ]
  },
  {
   "cell_type": "code",
   "execution_count": 22,
   "id": "458f74a6-03cd-4dd0-ad04-961bdae321a5",
   "metadata": {
    "tags": []
   },
   "outputs": [
    {
     "data": {
      "text/plain": [
       "0.3646550178527832"
      ]
     },
     "execution_count": 22,
     "metadata": {},
     "output_type": "execute_result"
    }
   ],
   "source": [
    "torch.manual_seed(5) \n",
    "x=torch.linspace(0,1,100).reshape(-1,1)\n",
    "y=torch.randn(100).reshape(-1,1)*0.01\n",
    "#--#\n",
    "net = torch.nn.Sequential(\n",
    "    torch.nn.Linear(1,512),\n",
    "    torch.nn.ReLU(),\n",
    "    torch.nn.Linear(512,1)\n",
    ")\n",
    "loss_fn = torch.nn.MSELoss()\n",
    "optimizr = torch.optim.Adam(net.parameters())\n",
    "#--#\n",
    "t1= time.time()\n",
    "for epoc in range(1000):\n",
    "    ## 1 \n",
    "    yhat = net(x) \n",
    "    ## 2 \n",
    "    loss = loss_fn(yhat,y)\n",
    "    ## 3 \n",
    "    loss.backward()\n",
    "    ## 4 \n",
    "    optimizr.step()\n",
    "    optimizr.zero_grad()\n",
    "t2 = time.time()\n",
    "t2-t1"
   ]
  },
  {
   "cell_type": "markdown",
   "id": "cb85e79b-564b-4e22-b35b-3d50de40a64d",
   "metadata": {},
   "source": [
    "`-` GPU (512 nodes) "
   ]
  },
  {
   "cell_type": "code",
   "execution_count": 23,
   "id": "efd447aa-d119-444f-9bb9-40180f679ff2",
   "metadata": {
    "tags": []
   },
   "outputs": [
    {
     "data": {
      "text/plain": [
       "0.5489270687103271"
      ]
     },
     "execution_count": 23,
     "metadata": {},
     "output_type": "execute_result"
    }
   ],
   "source": [
    "torch.manual_seed(5) \n",
    "x=torch.linspace(0,1,100).reshape(-1,1).to(\"cuda:0\")\n",
    "y=(torch.randn(100).reshape(-1,1)*0.01).to(\"cuda:0\")\n",
    "#--#\n",
    "net = torch.nn.Sequential(\n",
    "    torch.nn.Linear(1,512),\n",
    "    torch.nn.ReLU(),\n",
    "    torch.nn.Linear(512,1)\n",
    ").to(\"cuda:0\")\n",
    "loss_fn = torch.nn.MSELoss()\n",
    "optimizr = torch.optim.Adam(net.parameters())\n",
    "#--#\n",
    "t1= time.time()\n",
    "for epoc in range(1000):\n",
    "    ## 1 \n",
    "    yhat = net(x) \n",
    "    ## 2 \n",
    "    loss = loss_fn(yhat,y)\n",
    "    ## 3 \n",
    "    loss.backward()\n",
    "    ## 4 \n",
    "    optimizr.step()\n",
    "    optimizr.zero_grad()\n",
    "t2 = time.time()\n",
    "t2-t1"
   ]
  },
  {
   "cell_type": "markdown",
   "id": "8a5630e4-1610-49cd-a2b8-ee67c5210e39",
   "metadata": {},
   "source": [
    "- !! CPU가 더 빠르다?"
   ]
  },
  {
   "cell_type": "markdown",
   "id": "613f64f6-bca2-42d6-87b3-d9609729d338",
   "metadata": {},
   "source": [
    "## D. CPU vs GPU (20,480 nodes)"
   ]
  },
  {
   "cell_type": "markdown",
   "id": "994456c9-cfbd-4164-8d5f-23199460924b",
   "metadata": {},
   "source": [
    "`-` CPU (20,480)"
   ]
  },
  {
   "cell_type": "code",
   "execution_count": 24,
   "id": "cd17ff3e-a648-4765-878b-af6e93e79479",
   "metadata": {
    "tags": []
   },
   "outputs": [
    {
     "data": {
      "text/plain": [
       "2.7162528038024902"
      ]
     },
     "execution_count": 24,
     "metadata": {},
     "output_type": "execute_result"
    }
   ],
   "source": [
    "torch.manual_seed(5) \n",
    "x=torch.linspace(0,1,100).reshape(-1,1)\n",
    "y=torch.randn(100).reshape(-1,1)*0.01\n",
    "#--#\n",
    "net = torch.nn.Sequential(\n",
    "    torch.nn.Linear(1,20480),\n",
    "    torch.nn.ReLU(),\n",
    "    torch.nn.Linear(20480,1)\n",
    ")\n",
    "loss_fn = torch.nn.MSELoss()\n",
    "optimizr = torch.optim.Adam(net.parameters())\n",
    "#--#\n",
    "t1= time.time()\n",
    "for epoc in range(1000):\n",
    "    ## 1 \n",
    "    yhat = net(x) \n",
    "    ## 2 \n",
    "    loss = loss_fn(yhat,y)\n",
    "    ## 3 \n",
    "    loss.backward()\n",
    "    ## 4 \n",
    "    optimizr.step()\n",
    "    optimizr.zero_grad()\n",
    "t2 = time.time()\n",
    "t2-t1"
   ]
  },
  {
   "cell_type": "markdown",
   "id": "97ea7890-1ec1-4d6f-af39-1392882ebd24",
   "metadata": {},
   "source": [
    "`-` GPU (20,480)"
   ]
  },
  {
   "cell_type": "code",
   "execution_count": 25,
   "id": "8a1d4c0d-62bd-4249-8675-cb3ce9d43bf7",
   "metadata": {
    "tags": []
   },
   "outputs": [
    {
     "data": {
      "text/plain": [
       "0.4658212661743164"
      ]
     },
     "execution_count": 25,
     "metadata": {},
     "output_type": "execute_result"
    }
   ],
   "source": [
    "torch.manual_seed(5) \n",
    "x=torch.linspace(0,1,100).reshape(-1,1).to(\"cuda:0\")\n",
    "y=(torch.randn(100).reshape(-1,1)*0.01).to(\"cuda:0\")\n",
    "#--#\n",
    "net = torch.nn.Sequential(\n",
    "    torch.nn.Linear(1,20480),\n",
    "    torch.nn.ReLU(),\n",
    "    torch.nn.Linear(20480,1)\n",
    ").to(\"cuda:0\")\n",
    "loss_fn = torch.nn.MSELoss()\n",
    "optimizr = torch.optim.Adam(net.parameters())\n",
    "#--#\n",
    "t1= time.time()\n",
    "for epoc in range(1000):\n",
    "    ## 1 \n",
    "    yhat = net(x) \n",
    "    ## 2 \n",
    "    loss = loss_fn(yhat,y)\n",
    "    ## 3 \n",
    "    loss.backward()\n",
    "    ## 4 \n",
    "    optimizr.step()\n",
    "    optimizr.zero_grad()\n",
    "t2 = time.time()\n",
    "t2-t1"
   ]
  },
  {
   "cell_type": "markdown",
   "id": "6d94ff63-02a6-4de3-98c7-4905f1c8f44f",
   "metadata": {},
   "source": [
    "- 왜 이런 차이가 나는가? \n",
    "- 연산을 하는 주체는 코어인데 CPU는 수는 적지만 일을 잘하는 코어들을 가지고 있고 GPU는 일은 못하지만 다수의 코어를 가지고 있기 때문 "
   ]
  },
  {
   "cell_type": "markdown",
   "id": "5b5e6aa5-069b-4069-9699-a16451da140f",
   "metadata": {},
   "source": [
    "## E. CPU vs GPU (204,800 nodes)"
   ]
  },
  {
   "cell_type": "markdown",
   "id": "4fdf5035-822b-4dcd-8023-1cb59d8a1cd7",
   "metadata": {},
   "source": [
    "`-` CPU (204,800)"
   ]
  },
  {
   "cell_type": "code",
   "execution_count": 26,
   "id": "c0bca592-0980-4960-8969-73cd2f686460",
   "metadata": {
    "tags": []
   },
   "outputs": [
    {
     "data": {
      "text/plain": [
       "78.40236139297485"
      ]
     },
     "execution_count": 26,
     "metadata": {},
     "output_type": "execute_result"
    }
   ],
   "source": [
    "torch.manual_seed(5) \n",
    "x=torch.linspace(0,1,100).reshape(-1,1)\n",
    "y=torch.randn(100).reshape(-1,1)*0.01\n",
    "#--#\n",
    "net = torch.nn.Sequential(\n",
    "    torch.nn.Linear(1,204800),\n",
    "    torch.nn.ReLU(),\n",
    "    torch.nn.Linear(204800,1)\n",
    ")\n",
    "loss_fn = torch.nn.MSELoss()\n",
    "optimizr = torch.optim.Adam(net.parameters())\n",
    "#--#\n",
    "t1= time.time()\n",
    "for epoc in range(1000):\n",
    "    ## 1 \n",
    "    yhat = net(x) \n",
    "    ## 2 \n",
    "    loss = loss_fn(yhat,y)\n",
    "    ## 3 \n",
    "    loss.backward()\n",
    "    ## 4 \n",
    "    optimizr.step()\n",
    "    optimizr.zero_grad()\n",
    "t2 = time.time()\n",
    "t2-t1"
   ]
  },
  {
   "cell_type": "markdown",
   "id": "5c0476c5-8e67-4258-b4b8-61b2a4419f04",
   "metadata": {},
   "source": [
    "`-` GPU (204,800)"
   ]
  },
  {
   "cell_type": "code",
   "execution_count": 27,
   "id": "423fecb9-4fae-4bee-a6d5-1d382217b754",
   "metadata": {
    "tags": []
   },
   "outputs": [
    {
     "data": {
      "text/plain": [
       "1.4069130420684814"
      ]
     },
     "execution_count": 27,
     "metadata": {},
     "output_type": "execute_result"
    }
   ],
   "source": [
    "torch.manual_seed(5) \n",
    "x=torch.linspace(0,1,100).reshape(-1,1).to(\"cuda:0\")\n",
    "y=(torch.randn(100).reshape(-1,1)*0.01).to(\"cuda:0\")\n",
    "#--#\n",
    "net = torch.nn.Sequential(\n",
    "    torch.nn.Linear(1,204800),\n",
    "    torch.nn.ReLU(),\n",
    "    torch.nn.Linear(204800,1)\n",
    ").to(\"cuda:0\")\n",
    "loss_fn = torch.nn.MSELoss()\n",
    "optimizr = torch.optim.Adam(net.parameters())\n",
    "#--#\n",
    "t1= time.time()\n",
    "for epoc in range(1000):\n",
    "    ## 1 \n",
    "    yhat = net(x) \n",
    "    ## 2 \n",
    "    loss = loss_fn(yhat,y)\n",
    "    ## 3 \n",
    "    loss.backward()\n",
    "    ## 4 \n",
    "    optimizr.step()\n",
    "    optimizr.zero_grad()\n",
    "t2 = time.time()\n",
    "t2-t1"
   ]
  },
  {
   "cell_type": "markdown",
   "id": "5c4b8bed-a7c0-408f-86a2-dcc55f4ee356",
   "metadata": {},
   "source": [
    "# 3. \"확률적\" 경사하강법"
   ]
  },
  {
   "cell_type": "markdown",
   "id": "7fd71642-4b9d-4e05-b617-9559249bb814",
   "metadata": {},
   "source": [
    "## A. 의문: 좀 이상하지 않아요? "
   ]
  },
  {
   "cell_type": "markdown",
   "id": "7a0f7132-5af5-4930-872f-078a4c5082c0",
   "metadata": {},
   "source": [
    "`-` GPU 비싸요..\n",
    "\n",
    "- GPU 메모리 끽해봐야 24GB, 그래도 비싸요.. <http://shop.danawa.com/virtualestimate/?controller=estimateMain&methods=index&marketPlaceSeq=16>\n",
    "- GPU 메모리가 80GB일 경우 가격: <https://prod.danawa.com/info/?pcode=21458333>"
   ]
  },
  {
   "cell_type": "markdown",
   "id": "11a05215-135e-463f-bbbf-771b5f65b0ea",
   "metadata": {},
   "source": [
    "`-` 우리가 분석하는 데이터: 빅데이터..?"
   ]
  },
  {
   "cell_type": "code",
   "execution_count": 28,
   "id": "7c0e8920-2867-49f5-bb5c-7d88f7ebf771",
   "metadata": {
    "tags": []
   },
   "outputs": [],
   "source": [
    "x = torch.linspace(-10,10,100000).reshape(-1,1)\n",
    "eps = torch.randn(100000).reshape(-1,1)\n",
    "y = x*2 + eps "
   ]
  },
  {
   "cell_type": "code",
   "execution_count": 29,
   "id": "fe70984f-d684-4ddb-b948-113fb16d4f0d",
   "metadata": {
    "tags": []
   },
   "outputs": [
    {
     "data": {
      "text/plain": [
       "[<matplotlib.lines.Line2D at 0x7fd09a727a50>]"
      ]
     },
     "execution_count": 29,
     "metadata": {},
     "output_type": "execute_result"
    },
    {
     "data": {
      "image/png": "[encoded data removed]",
      "text/plain": [
       "<Figure size 640x480 with 1 Axes>"
      ]
     },
     "metadata": {},
     "output_type": "display_data"
    }
   ],
   "source": [
    "plt.plot(x,y,'o',alpha=0.05)\n",
    "plt.plot(x,2*x)"
   ]
  },
  {
   "cell_type": "markdown",
   "id": "b418df34-7660-4e95-9080-85d4e976a813",
   "metadata": {},
   "source": [
    "`-` 데이터의 크기가 커지는 순간 `X.to(\"cuda:0\")`, `y.to(\"cuda:0\")` 쓰면 난리나겠는걸? "
   ]
  },
  {
   "cell_type": "markdown",
   "id": "0cea0878-c743-4930-bf34-76abaf578783",
   "metadata": {},
   "source": [
    "`-` 데이터를 100개중에 1개만 꼴로만 쓰면 어떨까? "
   ]
  },
  {
   "cell_type": "code",
   "execution_count": 30,
   "id": "f1422d07-a351-438d-bba0-024c9ef07cc5",
   "metadata": {
    "tags": []
   },
   "outputs": [
    {
     "data": {
      "text/plain": [
       "[<matplotlib.lines.Line2D at 0x7fd09a726350>]"
      ]
     },
     "execution_count": 30,
     "metadata": {},
     "output_type": "execute_result"
    },
    {
     "data": {
      "image/png": "[encoded data removed]",
      "text/plain": [
       "<Figure size 640x480 with 1 Axes>"
      ]
     },
     "metadata": {},
     "output_type": "display_data"
    }
   ],
   "source": [
    "plt.plot(x[::100],y[::100],'o',alpha=0.05)\n",
    "plt.plot(x,2*x)"
   ]
  },
  {
   "cell_type": "markdown",
   "id": "ba287425-1536-40de-92ab-bd47c1744d75",
   "metadata": {},
   "source": [
    "- 대충 이거만 가지고 적합해도 충분히 정확할것 같은데?"
   ]
  },
  {
   "cell_type": "markdown",
   "id": "5cbad39b-ca43-48d4-98dd-4abd5ba19890",
   "metadata": {},
   "source": [
    "## B. X,y 데이터를 굳이 모두 GPU에 넘겨야 하는가?"
   ]
  },
  {
   "cell_type": "markdown",
   "id": "f83d7735-3663-4ca2-99f2-2829b9dd9c66",
   "metadata": {},
   "source": [
    "`-` 데이터셋을 짝홀로 나누어서 번갈아가면서 GPU에 올렸다 내렸다하면 안되나? "
   ]
  },
  {
   "cell_type": "markdown",
   "id": "b395028f-300c-4d92-8ee8-e18cd8c6c28a",
   "metadata": {},
   "source": [
    "`-` 아래의 알고리즘을 생각해보자. \n",
    "\n",
    "1. 데이터를 반으로 나눈다. \n",
    "2. 짝수obs의 x,y 그리고 net의 모든 파라메터를 GPU에 올린다. \n",
    "3. yhat, loss, grad, update 수행\n",
    "4. 짝수obs의 x,y를 GPU메모리에서 내린다. 그리고 홀수obs의 x,y를 GPU메모리에 올린다. \n",
    "5. yhat, loss, grad, update 수행 \n",
    "6. 홀수obs의 x,y를 GPU메모리에서 내린다. 그리고 짝수obs의 x,y를 GPU메모리에 올린다. \n",
    "7. 반복 "
   ]
  },
  {
   "cell_type": "markdown",
   "id": "f484eb1d",
   "metadata": {},
   "source": [
    "> 이러면 되는거아니야???? ---> 맞아요"
   ]
  },
  {
   "cell_type": "markdown",
   "id": "3685c5eb-e7c3-4533-8ca2-5e1d1507a3b5",
   "metadata": {},
   "source": [
    "## C. 경사하강법, 확률적경사하강법, 미니배치 경사하강법 "
   ]
  },
  {
   "cell_type": "markdown",
   "id": "e70f3b2e-3405-4992-86d3-ab928e8f2785",
   "metadata": {},
   "source": [
    "10개의 샘플이 있다고 가정. $\\{(x_i,y_i)\\}_{i=1}^{10}$"
   ]
  },
  {
   "cell_type": "markdown",
   "id": "e2af6ccf-7523-43da-826a-1891d10ee663",
   "metadata": {},
   "source": [
    "`# ver1` --  모든 샘플을 이용하여 slope 계산"
   ]
  },
  {
   "cell_type": "markdown",
   "id": "008f45b4-ee4a-4960-b537-4a8342eebe60",
   "metadata": {},
   "source": [
    "(epoch 1) $loss=\\sum_{i=1}^{10}(y_i-w_0-w_1x_i)^2 \\to slope  \\to update$"
   ]
  },
  {
   "cell_type": "markdown",
   "id": "e9caaf97-f13a-4742-9966-f982058c0a00",
   "metadata": {},
   "source": [
    "(epoch 2) $loss=\\sum_{i=1}^{10}(y_i-w_0-w_1x_i)^2 \\to slope  \\to update$"
   ]
  },
  {
   "cell_type": "markdown",
   "id": "fd45cefa-9807-4437-83f3-db58cf80ebd5",
   "metadata": {},
   "source": [
    "..."
   ]
  },
  {
   "cell_type": "markdown",
   "id": "c376f5ff-5786-45a8-a3a5-272a93d3901c",
   "metadata": {},
   "source": [
    "> 우리가 항상 이렇게 했죠!"
   ]
  },
  {
   "cell_type": "markdown",
   "id": "7700db88-6fbd-4e2f-a1d8-8861bb6674d1",
   "metadata": {},
   "source": [
    "`# ver2` -- 하나의 샘플만을 이용하여 slope 계산"
   ]
  },
  {
   "cell_type": "markdown",
   "id": "a0a184d8-bf1b-4abe-a723-27b1e94e848d",
   "metadata": {},
   "source": [
    "(epoch 1) \n",
    "\n",
    "- $loss=(y_1-w_0-w_1x_1)^2 \\to slope \\to update$\n",
    "- $loss=(y_2-w_0-w_1x_2)^2 \\to slope \\to update$\n",
    "- ...\n",
    "- $loss=(y_{10}-w_0-w_1x_{10})^2  \\to  slope  \\to  update$"
   ]
  },
  {
   "cell_type": "markdown",
   "id": "5ee15892-09b4-4f29-aa05-c720ca6a3777",
   "metadata": {},
   "source": [
    "(epoch 2) \n",
    "\n",
    "- $loss=(y_1-w_0-w_1x_1)^2  \\to slope  \\to  update$\n",
    "- $loss=(y_2-w_0-w_1x_2)^2  \\to slope  \\to  update$\n",
    "- ...\n",
    "- $loss=(y_{10}-w_0-w_1x_{10})^2  \\to  slope  \\to  update$"
   ]
  },
  {
   "cell_type": "markdown",
   "id": "30ab1cd8-be7b-4ee5-8c97-c196f9de88fd",
   "metadata": {},
   "source": [
    "..."
   ]
  },
  {
   "cell_type": "markdown",
   "id": "6b9dc8d0-b7ea-4778-966e-c2c8e8cba3e1",
   "metadata": {},
   "source": [
    "`# ver3` -- $m (\\leq n)$ 개의 샘플을 이용하여 slope 계산"
   ]
  },
  {
   "cell_type": "markdown",
   "id": "8626bb7d-07e2-4078-a9e2-c9db8ee13f3d",
   "metadata": {},
   "source": [
    "$m=3$이라고 하자. "
   ]
  },
  {
   "cell_type": "markdown",
   "id": "48c3b3aa-cbc0-48c0-bbf5-40ba698a1e34",
   "metadata": {},
   "source": [
    "(epoch 1) \n",
    "\n",
    "- $loss=\\sum_{i=1}^{3}(y_i-w_0-w_1x_i)^2  \\to  slope  \\to  update$\n",
    "- $loss=\\sum_{i=4}^{6}(y_i-w_0-w_1x_i)^2  \\to  slope  \\to  update$\n",
    "- $loss=\\sum_{i=7}^{9}(y_i-w_0-w_1x_i)^2  \\to  slope  \\to  update$\n",
    "- $loss=(y_{10}-w_0-w_1x_{10})^2  \\to  slope  \\to  update$"
   ]
  },
  {
   "cell_type": "markdown",
   "id": "39d1e55b-045c-4389-81fd-69ef9ab9b122",
   "metadata": {},
   "source": [
    "(epoch 2) \n",
    "\n",
    "- $loss=\\sum_{i=1}^{3}(y_i-w_0-w_1x_i)^2  \\to  slope  \\to  update$\n",
    "- $loss=\\sum_{i=4}^{6}(y_i-w_0-w_1x_i)^2  \\to  slope  \\to  update$\n",
    "- $loss=\\sum_{i=7}^{9}(y_i-w_0-w_1x_i)^2  \\to  slope  \\to  update$\n",
    "- $loss=(y_{10}-w_0-w_1x_{10})^2  \\to  slope  \\to  update$"
   ]
  },
  {
   "cell_type": "markdown",
   "id": "017ff5b2-8fa4-4756-ae22-21995eca38f7",
   "metadata": {},
   "source": [
    "..."
   ]
  },
  {
   "cell_type": "markdown",
   "id": "f5071655-fd59-4193-a765-40011743de77",
   "metadata": {},
   "source": [
    "## D. 용어의 정리 "
   ]
  },
  {
   "cell_type": "markdown",
   "id": "b8eff37b-d7aa-4468-9098-908dc16538cb",
   "metadata": {},
   "source": [
    "**옛날**"
   ]
  },
  {
   "cell_type": "markdown",
   "id": "507cb47c-cba9-41b0-977d-93bbef211aca",
   "metadata": {},
   "source": [
    "`-` ver1: gradient descent, batch gradient descent\n",
    "\n",
    "`-` ver2: stochastic gradient descent\n",
    "\n",
    "`-` ver3: mini-batch gradient descent, mini-batch stochastic gradient descent"
   ]
  },
  {
   "cell_type": "markdown",
   "id": "3fd197cc-e449-421c-b38e-15270423aed6",
   "metadata": {},
   "source": [
    "**요즘**"
   ]
  },
  {
   "cell_type": "markdown",
   "id": "dbf62fb9-69da-4fbd-a4fb-4790fb635c9c",
   "metadata": {},
   "source": [
    "`-` ver1: gradient descent\n",
    "\n",
    "`-` ver2: stochastic gradient descent with batch size = 1\n",
    "\n",
    "`-` **ver3: stochastic gradient descent**\n",
    "- https://www.deeplearningbook.org/contents/optimization.html, 알고리즘 8-1 참고."
   ]
  },
  {
   "cell_type": "markdown",
   "id": "5648dc2f-b339-4500-9898-aac476469b53",
   "metadata": {},
   "source": [
    "## E. Dataset(`ds`), DataLoader(`dl`)"
   ]
  },
  {
   "cell_type": "markdown",
   "id": "39cc8064",
   "metadata": {},
   "source": [
    "> 취지는 알겠으나, C의 과정을 실제 구현하려면 진짜 힘들것 같아요.. (입코딩과 손코딩의 차이)"
   ]
  },
  {
   "cell_type": "markdown",
   "id": "eb8bfcf7-8401-407d-843d-64280a88dcb5",
   "metadata": {},
   "source": [
    "`-` ds: 이터러블하지 않지만 섭스크립터블함 "
   ]
  },
  {
   "cell_type": "code",
   "execution_count": 42,
   "id": "fd133a9e-03df-4a28-80a1-eb07f327da25",
   "metadata": {
    "tags": []
   },
   "outputs": [
    {
     "data": {
      "text/plain": [
       "tensor([[0., 1.],\n",
       "        [1., 1.],\n",
       "        [2., 1.],\n",
       "        [3., 1.],\n",
       "        [4., 1.],\n",
       "        [5., 0.],\n",
       "        [6., 0.],\n",
       "        [7., 0.],\n",
       "        [8., 0.],\n",
       "        [9., 0.]])"
      ]
     },
     "execution_count": 42,
     "metadata": {},
     "output_type": "execute_result"
    }
   ],
   "source": [
    "x=torch.tensor(range(10)).float().reshape(-1,1)\n",
    "y=torch.tensor([1.0]*5+[0.0]*5).reshape(-1,1)\n",
    "torch.concat([x,y],axis=1)"
   ]
  },
  {
   "cell_type": "code",
   "execution_count": 9,
   "id": "b339974a-d346-4aef-b991-eb737f4dbbba",
   "metadata": {
    "tags": []
   },
   "outputs": [
    {
     "data": {
      "text/plain": [
       "<torch.utils.data.dataset.TensorDataset at 0x7fb6f99dbf90>"
      ]
     },
     "execution_count": 9,
     "metadata": {},
     "output_type": "execute_result"
    }
   ],
   "source": [
    "ds=torch.utils.data.TensorDataset(x,y)\n",
    "ds"
   ]
  },
  {
   "cell_type": "code",
   "execution_count": 18,
   "id": "38c41614-ece3-4067-8092-4ff8720279bd",
   "metadata": {
    "tags": []
   },
   "outputs": [
    {
     "data": {
      "text/plain": [
       "(tensor([[0.],\n",
       "         [1.],\n",
       "         [2.],\n",
       "         [3.],\n",
       "         [4.],\n",
       "         [5.],\n",
       "         [6.],\n",
       "         [7.],\n",
       "         [8.],\n",
       "         [9.]]),\n",
       " tensor([[1.],\n",
       "         [1.],\n",
       "         [1.],\n",
       "         [1.],\n",
       "         [1.],\n",
       "         [0.],\n",
       "         [0.],\n",
       "         [0.],\n",
       "         [0.],\n",
       "         [0.]]))"
      ]
     },
     "execution_count": 18,
     "metadata": {},
     "output_type": "execute_result"
    }
   ],
   "source": [
    "ds.tensors \n",
    "# 생긴건 ds.tensors = (x,y) 임"
   ]
  },
  {
   "cell_type": "code",
   "execution_count": 33,
   "id": "d93c4c02",
   "metadata": {},
   "outputs": [
    {
     "data": {
      "text/plain": [
       "((tensor([0.]), tensor([1.])),\n",
       " tensor([[0.],\n",
       "         [1.],\n",
       "         [2.],\n",
       "         [3.],\n",
       "         [4.],\n",
       "         [5.],\n",
       "         [6.],\n",
       "         [7.],\n",
       "         [8.],\n",
       "         [9.]]))"
      ]
     },
     "execution_count": 33,
     "metadata": {},
     "output_type": "execute_result"
    }
   ],
   "source": [
    "ds[0],(x,y)[0] # (x,y) 튜플자체는 아님.. 인덱싱이 다르게 동작"
   ]
  },
  {
   "cell_type": "markdown",
   "id": "b9418f1f-cdab-45c6-a4b1-d8203cedcb2c",
   "metadata": {},
   "source": [
    "`-` dl: 섭스크립터블하지 않지만 이터러블함 "
   ]
  },
  {
   "cell_type": "code",
   "execution_count": 51,
   "id": "05b05710-3ee4-4f65-b6cf-d0702c884166",
   "metadata": {
    "tags": []
   },
   "outputs": [],
   "source": [
    "dl=torch.utils.data.DataLoader(ds,batch_size=3)\n",
    "#set(dir(dl)) & {'__iter__'}"
   ]
  },
  {
   "cell_type": "code",
   "execution_count": 55,
   "id": "bb8c3d6b-8497-4ee2-b718-b74836298e78",
   "metadata": {
    "tags": []
   },
   "outputs": [
    {
     "name": "stdout",
     "output_type": "stream",
     "text": [
      "x_batch=[[0.0], [1.0], [2.0]] \t y_batch=[[1.0], [1.0], [1.0]]\n",
      "x_batch=[[3.0], [4.0], [5.0]] \t y_batch=[[1.0], [1.0], [0.0]]\n",
      "x_batch=[[6.0], [7.0], [8.0]] \t y_batch=[[0.0], [0.0], [0.0]]\n",
      "x_batch=[[9.0]] \t y_batch=[[0.0]]\n"
     ]
    }
   ],
   "source": [
    "for xi,yi in dl:\n",
    "    print(f'x_batch={xi.tolist()} \\t y_batch={yi.tolist()}')"
   ]
  },
  {
   "cell_type": "markdown",
   "id": "9d04bfbd",
   "metadata": {},
   "source": [
    "`-` 마지막관측치는 뭔데 단독으로 업데이트하냐?? --> shuffle True 같이 자잘한 옵션도 있음.. "
   ]
  },
  {
   "cell_type": "code",
   "execution_count": 56,
   "id": "35537fb1",
   "metadata": {},
   "outputs": [
    {
     "name": "stdout",
     "output_type": "stream",
     "text": [
      "x_batch=[[6.0], [2.0], [8.0]] \t y_batch=[[0.0], [1.0], [0.0]]\n",
      "x_batch=[[3.0], [4.0], [5.0]] \t y_batch=[[1.0], [1.0], [0.0]]\n",
      "x_batch=[[9.0], [7.0], [0.0]] \t y_batch=[[0.0], [0.0], [1.0]]\n",
      "x_batch=[[1.0]] \t y_batch=[[1.0]]\n"
     ]
    }
   ],
   "source": [
    "dl = torch.utils.data.DataLoader(ds,batch_size=3,shuffle=True)\n",
    "for xi,yi in dl:\n",
    "    print(f'x_batch={xi.tolist()} \\t y_batch={yi.tolist()}')"
   ]
  },
  {
   "cell_type": "markdown",
   "id": "32381ec5-1ac2-4621-8314-de10e2088c27",
   "metadata": {},
   "source": [
    "## F. ds, dl을 이용한 MNIST 구현"
   ]
  },
  {
   "cell_type": "markdown",
   "id": "4fb3ec7c",
   "metadata": {},
   "source": [
    "`-` 목표: 확률적경사하강법과 그냥 경사하강법의 성능을 \"동일 반복횟수\"로 비교해보자.\n",
    "\n",
    "- batch_size = 2048로 설정할것 "
   ]
  },
  {
   "cell_type": "markdown",
   "id": "4cd6b0dd-1223-440b-8a6d-1a21b68f34bc",
   "metadata": {
    "tags": []
   },
   "source": [
    "`-` 그냥 경사하강법 -- 미니배치 안쓰는 학습 "
   ]
  },
  {
   "cell_type": "code",
   "execution_count": 31,
   "id": "0e853019-48ca-4bb6-8b4d-f02e248cf9b8",
   "metadata": {
    "tags": []
   },
   "outputs": [
    {
     "data": {
      "text/plain": [
       "tensor(0.9953)"
      ]
     },
     "execution_count": 31,
     "metadata": {},
     "output_type": "execute_result"
    }
   ],
   "source": [
    "## Step1: 데이터준비 \n",
    "path = untar_data(URLs.MNIST)\n",
    "X0 = torch.stack([torchvision.io.read_image(str(fname)) for fname in (path/'training/0').ls()])\n",
    "X1 = torch.stack([torchvision.io.read_image(str(fname)) for fname in (path/'training/1').ls()])\n",
    "X = torch.concat([X0,X1],axis=0).reshape(-1,1*28*28)/255\n",
    "y = torch.tensor([0.0]*len(X0) + [1.0]*len(X1)).reshape(-1,1)\n",
    "## Step2: 학습가능한 오브젝트 생성\n",
    "torch.manual_seed(1)\n",
    "net = torch.nn.Sequential(\n",
    "    torch.nn.Linear(784,32),\n",
    "    torch.nn.ReLU(),\n",
    "    torch.nn.Linear(32,1),\n",
    "    torch.nn.Sigmoid()\n",
    ")\n",
    "loss_fn = torch.nn.BCELoss()\n",
    "optimizr = torch.optim.SGD(net.parameters())\n",
    "## Step3: fit  \n",
    "for epoc in range(700): \n",
    "    ## 1 \n",
    "    yhat = net(X) \n",
    "    ## 2 \n",
    "    loss= loss_fn(yhat,y) \n",
    "    ## 3 \n",
    "    loss.backward()\n",
    "    ## 4 \n",
    "    optimizr.step()\n",
    "    optimizr.zero_grad() \n",
    "## Step4: Predict \n",
    "torch.sum((yhat>0.5) == y) / len(y) "
   ]
  },
  {
   "cell_type": "markdown",
   "id": "34b65fc1-7d39-4721-aef8-29ae3daae42b",
   "metadata": {
    "tags": []
   },
   "source": [
    "`-` \"확률적\"경사하강법 -- 미니배치 쓰는 학습 "
   ]
  },
  {
   "cell_type": "code",
   "execution_count": 35,
   "id": "b2e6cacb-2191-4194-acb4-4da455019a9d",
   "metadata": {
    "tags": []
   },
   "outputs": [
    {
     "data": {
      "text/plain": [
       "tensor(0.9931)"
      ]
     },
     "execution_count": 35,
     "metadata": {},
     "output_type": "execute_result"
    }
   ],
   "source": [
    "## Step1: 데이터준비 \n",
    "path = untar_data(URLs.MNIST)\n",
    "X0 = torch.stack([torchvision.io.read_image(str(fname)) for fname in (path/'training/0').ls()])\n",
    "X1 = torch.stack([torchvision.io.read_image(str(fname)) for fname in (path/'training/1').ls()])\n",
    "X = torch.concat([X0,X1],axis=0).reshape(-1,1*28*28)/255\n",
    "y = torch.tensor([0.0]*len(X0) + [1.0]*len(X1)).reshape(-1,1)\n",
    "ds = torch.utils.data.TensorDataset(X,y)\n",
    "dl = torch.utils.data.DataLoader(ds,batch_size=2048) \n",
    "## Step2: 학습가능한 오브젝트 생성\n",
    "torch.manual_seed(1)\n",
    "net = torch.nn.Sequential(\n",
    "    torch.nn.Linear(784,32),\n",
    "    torch.nn.ReLU(),\n",
    "    torch.nn.Linear(32,1),\n",
    ")\n",
    "loss_fn = torch.nn.BCEWithLogitsLoss()\n",
    "optimizr = torch.optim.SGD(net.parameters())\n",
    "## Step3: fit  \n",
    "for epoc in range(100):\n",
    "    for xi,yi in dl: # 여기서 7번 돌아가요\n",
    "        ## 1\n",
    "        #yihat = net(xi) <-- 쓰기 귀찮을때도 있음.. + 노테이션이 지저분함.. + 쓰기 애매할떄도 있음\n",
    "        ## 2 \n",
    "        loss = loss_fn(net(xi),yi) \n",
    "        ## 3 \n",
    "        loss.backward() \n",
    "        ## 4 \n",
    "        optimizr.step()\n",
    "        optimizr.zero_grad()\n",
    "## Step4: Predict \n",
    "torch.sum((net(X)>0) == y) / len(y) "
   ]
  },
  {
   "cell_type": "markdown",
   "id": "4faa6914-d986-401d-a071-53534475d15f",
   "metadata": {
    "tags": []
   },
   "source": [
    "`-` GPU를 활용하는 \"확률적\"경사하강법 -- 실제적으로는 이게 최종알고리즘 "
   ]
  },
  {
   "cell_type": "code",
   "execution_count": 36,
   "id": "a6653186-733c-447d-bde7-da5f5881b2db",
   "metadata": {
    "tags": []
   },
   "outputs": [
    {
     "data": {
      "text/plain": [
       "tensor(0.9931)"
      ]
     },
     "execution_count": 36,
     "metadata": {},
     "output_type": "execute_result"
    }
   ],
   "source": [
    "## Step1: 데이터준비 \n",
    "path = untar_data(URLs.MNIST)\n",
    "X0 = torch.stack([torchvision.io.read_image(str(fname)) for fname in (path/'training/0').ls()])\n",
    "X1 = torch.stack([torchvision.io.read_image(str(fname)) for fname in (path/'training/1').ls()])\n",
    "X = torch.concat([X0,X1],axis=0).reshape(-1,1*28*28)/255\n",
    "y = torch.tensor([0.0]*len(X0) + [1.0]*len(X1)).reshape(-1,1)\n",
    "ds = torch.utils.data.TensorDataset(X,y)\n",
    "dl = torch.utils.data.DataLoader(ds,batch_size=2048) \n",
    "## Step2: 학습가능한 오브젝트 생성\n",
    "torch.manual_seed(1)\n",
    "net = torch.nn.Sequential(\n",
    "    torch.nn.Linear(784,32),\n",
    "    torch.nn.ReLU(),\n",
    "    torch.nn.Linear(32,1),\n",
    ").to(\"cuda:0\")\n",
    "loss_fn = torch.nn.BCEWithLogitsLoss()\n",
    "optimizr = torch.optim.SGD(net.parameters())\n",
    "## Step3: fit  \n",
    "for epoc in range(100):\n",
    "    for xi,yi in dl: # 이게 에폭별로 7번씩 돌아가요\n",
    "        ## 1\n",
    "        #yihat = net(xi) <-- 쓰기 귀찮을때도 있음.. + 노테이션이 지저분함.. + 쓰기 애매할떄도 있음\n",
    "        ## 2 \n",
    "        loss = loss_fn(net(xi.to(\"cuda:0\")),yi.to(\"cuda:0\"))\n",
    "        ## 3 \n",
    "        loss.backward() \n",
    "        ## 4 \n",
    "        optimizr.step()\n",
    "        optimizr.zero_grad()\n",
    "## Step4: Predict \n",
    "net.to(\"cpu\")\n",
    "torch.sum((net(X)>0) == y) / len(y) "
   ]
  },
  {
   "cell_type": "markdown",
   "id": "1581bfc7-1ddc-4c08-b48e-c7e3d935f9bf",
   "metadata": {},
   "source": [
    "# 4. 다중클래스 분류"
   ]
  },
  {
   "cell_type": "markdown",
   "id": "ae2a0408-7def-4176-a521-e05ba7a4da52",
   "metadata": {},
   "source": [
    "## A. 결론 (그냥 외우세요)"
   ]
  },
  {
   "cell_type": "markdown",
   "id": "29eb7b3b-acc9-4924-a07e-6c8bd38010fc",
   "metadata": {},
   "source": [
    "`-` 2개의 class를 구분하는 문제가 아니라 $k$개의 class를 구분해야 한다면? \n",
    "\n",
    "***일반적인 개념*** \n",
    "\n",
    "- 손실함수: BCE loss $\\to$ Cross Entropy loss \n",
    "- 마지막층의 선형변환: torch.nn.Linear(?,1) $\\to$ torch.nn.Linear(?,k) \n",
    "- **마지막층의 활성화: sig $\\to$ softmax**\n",
    "\n",
    "***파이토치 한정*** \n",
    "\n",
    "- **y의형태: (n,) vector + int형 // (n,k) one-hot encoded vector + float형**\n",
    "- 손실함수: torch.nn.BCEWithLogitsLoss,  $\\to$ torch.nn.CrossEntropyLoss\n",
    "- 마지막층의 선형변환: torch.nn.Linear(?,1) $\\to$ torch.nn.Linear(?,k) \n",
    "- **마지막층의 활성화: None $\\to$ None (손실함수에 이미 마지막층의 활성화가 포함)**"
   ]
  },
  {
   "cell_type": "markdown",
   "id": "a457d0d5-fad0-4406-93b8-09de9ee15abf",
   "metadata": {},
   "source": [
    "## B. 실습: 3개의 클래스를 구분 "
   ]
  },
  {
   "cell_type": "markdown",
   "id": "2d267516-87b1-44df-b52d-857fe4f415b2",
   "metadata": {},
   "source": [
    "`-` 정리된 코드1: 통계잘하는데 파이토치 못쓰는 사람의 코드 "
   ]
  },
  {
   "cell_type": "code",
   "execution_count": 37,
   "id": "f6d19628-cdc0-40ed-aebc-2f5ff95e0d3c",
   "metadata": {
    "tags": []
   },
   "outputs": [],
   "source": [
    "## Step1: 데이터준비 \n",
    "path = untar_data(URLs.MNIST)\n",
    "X0 = torch.stack([torchvision.io.read_image(str(fname)) for fname in (path/'training/0').ls()])\n",
    "X1 = torch.stack([torchvision.io.read_image(str(fname)) for fname in (path/'training/1').ls()])\n",
    "X2 = torch.stack([torchvision.io.read_image(str(fname)) for fname in (path/'training/2').ls()])\n",
    "X = torch.concat([X0,X1,X2]).reshape(-1,1*28*28)/255\n",
    "y = torch.nn.functional.one_hot(torch.tensor([0]*len(X0) + [1]*len(X1)+ [2]*len(X2))).float()\n",
    "## Step2: 학습가능한 오브젝트 생성\n",
    "torch.manual_seed(43052)\n",
    "net = torch.nn.Sequential(\n",
    "    torch.nn.Linear(784,32),\n",
    "    torch.nn.ReLU(),\n",
    "    torch.nn.Linear(32,3),\n",
    "    #torch.nn.Softmax()\n",
    ")\n",
    "loss_fn = torch.nn.CrossEntropyLoss()\n",
    "optimizr = torch.optim.Adam(net.parameters())\n",
    "## Step3: fit  \n",
    "for epoc in range(70): \n",
    "    ## 1 \n",
    "    yhat = net(X) \n",
    "    ## 2 \n",
    "    loss= loss_fn(yhat,y) \n",
    "    ## 3 \n",
    "    loss.backward()\n",
    "    ## 4 \n",
    "    optimizr.step()\n",
    "    optimizr.zero_grad() \n",
    "## Step4: Predict \n",
    "softmax = torch.nn.Softmax()\n",
    "#net(X).argmax(axis=1) == yhat "
   ]
  },
  {
   "cell_type": "code",
   "execution_count": 38,
   "id": "d9614064-7bd9-497d-bd6d-8079d6cd9ec5",
   "metadata": {
    "tags": []
   },
   "outputs": [
    {
     "data": {
      "text/plain": [
       "tensor(0.9793)"
      ]
     },
     "execution_count": 38,
     "metadata": {},
     "output_type": "execute_result"
    }
   ],
   "source": [
    "(net(X).argmax(axis=1) == y.argmax(axis=1)).float().mean()"
   ]
  },
  {
   "cell_type": "markdown",
   "id": "9998db61-9083-4921-84b4-86ed42cc331e",
   "metadata": {},
   "source": [
    "`-` 정리된 코드2: 파이토치를 잘하는 사람의 코드 "
   ]
  },
  {
   "cell_type": "code",
   "execution_count": 39,
   "id": "be8953ee-bd7a-489c-be88-0946917e949e",
   "metadata": {
    "tags": []
   },
   "outputs": [
    {
     "data": {
      "text/plain": [
       "tensor(0.9793)"
      ]
     },
     "execution_count": 39,
     "metadata": {},
     "output_type": "execute_result"
    }
   ],
   "source": [
    "## Step1: 데이터준비 \n",
    "path = untar_data(URLs.MNIST)\n",
    "X0 = torch.stack([torchvision.io.read_image(str(fname)) for fname in (path/'training/0').ls()])\n",
    "X1 = torch.stack([torchvision.io.read_image(str(fname)) for fname in (path/'training/1').ls()])\n",
    "X2 = torch.stack([torchvision.io.read_image(str(fname)) for fname in (path/'training/2').ls()])\n",
    "X = torch.concat([X0,X1,X2]).reshape(-1,1*28*28)/255\n",
    "#y = torch.nn.functional.one_hot(torch.tensor([0]*len(X0) + [1]*len(X1)+ [2]*len(X2))).float()\n",
    "y = torch.tensor([0]*len(X0) + [1]*len(X1)+ [2]*len(X2))\n",
    "## Step2: 학습가능한 오브젝트 생성\n",
    "torch.manual_seed(43052)\n",
    "net = torch.nn.Sequential(\n",
    "    torch.nn.Linear(784,32),\n",
    "    torch.nn.ReLU(),\n",
    "    torch.nn.Linear(32,3),\n",
    "    #torch.nn.Softmax()\n",
    ")\n",
    "loss_fn = torch.nn.CrossEntropyLoss()\n",
    "optimizr = torch.optim.Adam(net.parameters())\n",
    "## Step3: fit  \n",
    "for epoc in range(70): \n",
    "    ## 1 \n",
    "    yhat = net(X) \n",
    "    ## 2 \n",
    "    loss= loss_fn(yhat,y) \n",
    "    ## 3 \n",
    "    loss.backward()\n",
    "    ## 4 \n",
    "    optimizr.step()\n",
    "    optimizr.zero_grad() \n",
    "## Step4: Predict \n",
    "softmax = torch.nn.Softmax()\n",
    "(net(X).argmax(axis=1) == y).float().mean()"
   ]
  },
  {
   "cell_type": "markdown",
   "id": "ba6c26dc-146e-4d02-893f-de4b8d8f4b64",
   "metadata": {
    "tags": []
   },
   "source": [
    "## C. Softmax "
   ]
  },
  {
   "cell_type": "markdown",
   "id": "1a3ca91d-babe-4dca-99a6-ff7210f5710c",
   "metadata": {},
   "source": [
    "`-` 눈치: softmax를 쓰기 직전의 숫자들은 (n,k)꼴로 되어있음. 각 observation 마다 k개의 숫자가 있는데, 그중에서 유난히 큰 하나의 숫자가 있음. "
   ]
  },
  {
   "cell_type": "code",
   "execution_count": 40,
   "id": "2356aac1-893d-485c-98c6-42c800d6cce4",
   "metadata": {
    "tags": []
   },
   "outputs": [
    {
     "data": {
      "text/plain": [
       "tensor([[ 3.6941, -3.7892, -3.3333],\n",
       "        [ 1.3807, -2.7186,  0.2011],\n",
       "        [ 5.0991, -6.4073, -0.9572],\n",
       "        ...,\n",
       "        [-0.8254, -0.5244,  0.4326],\n",
       "        [-1.9080, -0.1876,  0.3984],\n",
       "        [-1.3289, -2.0007,  4.5881]], grad_fn=<AddmmBackward0>)"
      ]
     },
     "execution_count": 40,
     "metadata": {},
     "output_type": "execute_result"
    }
   ],
   "source": [
    "net(X) # 이전예제의 결과"
   ]
  },
  {
   "cell_type": "code",
   "execution_count": 41,
   "id": "cd9c8eff-8c9f-4460-b08d-2bc11812216c",
   "metadata": {
    "tags": []
   },
   "outputs": [
    {
     "data": {
      "text/plain": [
       "tensor([0, 0, 0,  ..., 2, 2, 2])"
      ]
     },
     "execution_count": 41,
     "metadata": {},
     "output_type": "execute_result"
    }
   ],
   "source": [
    "y # y의 라벨"
   ]
  },
  {
   "cell_type": "markdown",
   "id": "b60565f1-c18c-4045-94a6-d10666527408",
   "metadata": {},
   "source": [
    "`-` 수식 \n",
    "\n",
    "- $\\text{sig}(u)=\\frac{e^u}{1+e^u}$\n",
    "- $\\text{softmax}({\\boldsymbol u})=\\text{softmax}([u_1,u_2,\\dots,u_k])=\\big[ \\frac{e^{u_1}}{e^{u_1}+\\dots e^{u_k}},\\dots,\\frac{e^{u_k}}{e^{u_1}+\\dots e^{u_k}}\\big]$"
   ]
  },
  {
   "cell_type": "markdown",
   "id": "f75eba0b-deb7-4a3f-b897-1c4ebe6d37bb",
   "metadata": {},
   "source": [
    "`-` torch.nn.Softmax() 손계산 "
   ]
  },
  {
   "cell_type": "markdown",
   "id": "d4313a62-900c-422b-ae64-24e846f5cf6c",
   "metadata": {},
   "source": [
    "(예시1) -- 잘못계산 "
   ]
  },
  {
   "cell_type": "code",
   "execution_count": 42,
   "id": "4d3ee620-908d-4a66-9c2e-314f7ecfadce",
   "metadata": {
    "tags": []
   },
   "outputs": [],
   "source": [
    "softmax = torch.nn.Softmax(dim=0)"
   ]
  },
  {
   "cell_type": "code",
   "execution_count": 43,
   "id": "e6c35f4f-9b07-4de6-b7bb-6b8a09b9490c",
   "metadata": {
    "tags": []
   },
   "outputs": [
    {
     "data": {
      "text/plain": [
       "tensor([[-2.0000, -2.0000,  0.0000],\n",
       "        [ 3.1400,  3.1400,  3.1400],\n",
       "        [ 0.0000,  0.0000,  2.0000],\n",
       "        [ 2.0000,  2.0000,  4.0000],\n",
       "        [ 0.0000,  0.0000,  0.0000]])"
      ]
     },
     "execution_count": 43,
     "metadata": {},
     "output_type": "execute_result"
    }
   ],
   "source": [
    "netout = torch.tensor([[-2.0,-2.0,0.0],\n",
    "                        [3.14,3.14,3.14],\n",
    "                        [0.0,0.0,2.0],\n",
    "                        [2.0,2.0,4.0],\n",
    "                        [0.0,0.0,0.0]])\n",
    "netout"
   ]
  },
  {
   "cell_type": "code",
   "execution_count": 44,
   "id": "e65a43be-188d-4304-a8b5-ba766136bee6",
   "metadata": {
    "tags": []
   },
   "outputs": [
    {
     "data": {
      "text/plain": [
       "tensor([[0.0041, 0.0041, 0.0115],\n",
       "        [0.7081, 0.7081, 0.2653],\n",
       "        [0.0306, 0.0306, 0.0848],\n",
       "        [0.2265, 0.2265, 0.6269],\n",
       "        [0.0306, 0.0306, 0.0115]])"
      ]
     },
     "execution_count": 44,
     "metadata": {},
     "output_type": "execute_result"
    }
   ],
   "source": [
    "softmax(netout) "
   ]
  },
  {
   "cell_type": "markdown",
   "id": "2a934bda-8458-44f5-9f58-f1d85d19a52a",
   "metadata": {},
   "source": [
    "(예시2) -- 이게 맞게 계산되는 것임 "
   ]
  },
  {
   "cell_type": "code",
   "execution_count": 45,
   "id": "bab3e4f5-2796-4399-b223-d910ea182e72",
   "metadata": {
    "tags": []
   },
   "outputs": [],
   "source": [
    "softmax = torch.nn.Softmax(dim=1)"
   ]
  },
  {
   "cell_type": "code",
   "execution_count": 46,
   "id": "0dafa544-0d9e-4977-8bb7-da1c945e0bb7",
   "metadata": {
    "tags": []
   },
   "outputs": [
    {
     "data": {
      "text/plain": [
       "tensor([[-2.0000, -2.0000,  0.0000],\n",
       "        [ 3.1400,  3.1400,  3.1400],\n",
       "        [ 0.0000,  0.0000,  2.0000],\n",
       "        [ 2.0000,  2.0000,  4.0000],\n",
       "        [ 0.0000,  0.0000,  0.0000]])"
      ]
     },
     "execution_count": 46,
     "metadata": {},
     "output_type": "execute_result"
    }
   ],
   "source": [
    "netout"
   ]
  },
  {
   "cell_type": "code",
   "execution_count": 47,
   "id": "525e3435-eefa-49d9-82a8-13cb40571046",
   "metadata": {
    "tags": []
   },
   "outputs": [
    {
     "data": {
      "text/plain": [
       "tensor([[0.1065, 0.1065, 0.7870],\n",
       "        [0.3333, 0.3333, 0.3333],\n",
       "        [0.1065, 0.1065, 0.7870],\n",
       "        [0.1065, 0.1065, 0.7870],\n",
       "        [0.3333, 0.3333, 0.3333]])"
      ]
     },
     "execution_count": 47,
     "metadata": {},
     "output_type": "execute_result"
    }
   ],
   "source": [
    "softmax(netout)"
   ]
  },
  {
   "cell_type": "markdown",
   "id": "ff382de5-9054-414e-92dc-91714810b9d6",
   "metadata": {},
   "source": [
    "(예시3) -- 차원을 명시안하면 맞게 계산해주고 경고 줌 "
   ]
  },
  {
   "cell_type": "code",
   "execution_count": 48,
   "id": "1c7c8926-7e1e-4994-a04c-4ca3ea3f14a3",
   "metadata": {
    "tags": []
   },
   "outputs": [],
   "source": [
    "softmax = torch.nn.Softmax()"
   ]
  },
  {
   "cell_type": "code",
   "execution_count": 49,
   "id": "5e59a46d-e2c1-4247-aae3-ff6171bb1d17",
   "metadata": {
    "tags": []
   },
   "outputs": [
    {
     "data": {
      "text/plain": [
       "tensor([[-2.0000, -2.0000,  0.0000],\n",
       "        [ 3.1400,  3.1400,  3.1400],\n",
       "        [ 0.0000,  0.0000,  2.0000],\n",
       "        [ 2.0000,  2.0000,  4.0000],\n",
       "        [ 0.0000,  0.0000,  0.0000]])"
      ]
     },
     "execution_count": 49,
     "metadata": {},
     "output_type": "execute_result"
    }
   ],
   "source": [
    "netout"
   ]
  },
  {
   "cell_type": "code",
   "execution_count": 50,
   "id": "040d3bb0-49d1-4bc4-9ffb-eaadbd1228bc",
   "metadata": {
    "tags": []
   },
   "outputs": [
    {
     "name": "stderr",
     "output_type": "stream",
     "text": [
      "/home/cgb3/anaconda3/envs/dl2024/lib/python3.11/site-packages/torch/nn/modules/module.py:1511: UserWarning: Implicit dimension choice for softmax has been deprecated. Change the call to include dim=X as an argument.\n",
      "  return self._call_impl(*args, **kwargs)\n"
     ]
    },
    {
     "data": {
      "text/plain": [
       "tensor([[0.1065, 0.1065, 0.7870],\n",
       "        [0.3333, 0.3333, 0.3333],\n",
       "        [0.1065, 0.1065, 0.7870],\n",
       "        [0.1065, 0.1065, 0.7870],\n",
       "        [0.3333, 0.3333, 0.3333]])"
      ]
     },
     "execution_count": 50,
     "metadata": {},
     "output_type": "execute_result"
    }
   ],
   "source": [
    "softmax(netout)"
   ]
  },
  {
   "cell_type": "markdown",
   "id": "6dcb6df4-b9de-48c5-a0d2-65373288f3df",
   "metadata": {},
   "source": [
    "(예시4) -- 진짜 손계산 "
   ]
  },
  {
   "cell_type": "code",
   "execution_count": 51,
   "id": "e80c623f-eab4-4324-a079-16252ece7706",
   "metadata": {
    "tags": []
   },
   "outputs": [
    {
     "data": {
      "text/plain": [
       "tensor([[-2.0000, -2.0000,  0.0000],\n",
       "        [ 3.1400,  3.1400,  3.1400],\n",
       "        [ 0.0000,  0.0000,  2.0000],\n",
       "        [ 2.0000,  2.0000,  4.0000],\n",
       "        [ 0.0000,  0.0000,  0.0000]])"
      ]
     },
     "execution_count": 51,
     "metadata": {},
     "output_type": "execute_result"
    }
   ],
   "source": [
    "netout "
   ]
  },
  {
   "cell_type": "code",
   "execution_count": 52,
   "id": "9551d3b6-a6c4-4d6a-a402-8be14fe1c0d1",
   "metadata": {
    "tags": []
   },
   "outputs": [
    {
     "data": {
      "text/plain": [
       "tensor([[ 0.1353,  0.1353,  1.0000],\n",
       "        [23.1039, 23.1039, 23.1039],\n",
       "        [ 1.0000,  1.0000,  7.3891],\n",
       "        [ 7.3891,  7.3891, 54.5981],\n",
       "        [ 1.0000,  1.0000,  1.0000]])"
      ]
     },
     "execution_count": 52,
     "metadata": {},
     "output_type": "execute_result"
    }
   ],
   "source": [
    "torch.exp(netout)"
   ]
  },
  {
   "cell_type": "code",
   "execution_count": 53,
   "id": "694b5993-06b0-469b-a8aa-dfb6ef26a9af",
   "metadata": {
    "tags": []
   },
   "outputs": [
    {
     "data": {
      "text/plain": [
       "(0.10648512513773022, 0.10648512513773022, 0.7870297497245397)"
      ]
     },
     "execution_count": 53,
     "metadata": {},
     "output_type": "execute_result"
    }
   ],
   "source": [
    "0.1353/(0.1353 + 0.1353 + 1.0000), 0.1353/(0.1353 + 0.1353 + 1.0000), 1.0000/(0.1353 + 0.1353 + 1.0000) # 첫 obs"
   ]
  },
  {
   "cell_type": "code",
   "execution_count": 54,
   "id": "f7e12995-da3a-4c23-8146-301dbaec52dc",
   "metadata": {
    "tags": []
   },
   "outputs": [
    {
     "data": {
      "text/plain": [
       "tensor([0.3333, 0.3333, 0.3333])"
      ]
     },
     "execution_count": 54,
     "metadata": {},
     "output_type": "execute_result"
    }
   ],
   "source": [
    "torch.exp(netout[1])/torch.exp(netout[1]).sum() # 두번째 obs "
   ]
  },
  {
   "cell_type": "markdown",
   "id": "6758fd94-753e-4f54-b4b2-b680d5400bee",
   "metadata": {},
   "source": [
    "## D. CrossEntropyLoss"
   ]
  },
  {
   "cell_type": "markdown",
   "id": "19777a84-daf8-4868-a2d7-d802bc4b37a2",
   "metadata": {},
   "source": [
    "`-` 수식 "
   ]
  },
  {
   "cell_type": "markdown",
   "id": "25900c98-21f2-47dd-818f-53b06dde35fb",
   "metadata": {
    "tags": []
   },
   "source": [
    "***`# 2개의 카테고리`***"
   ]
  },
  {
   "cell_type": "markdown",
   "id": "80dc931b-5238-41a4-b2f7-f0c76c2a6dfe",
   "metadata": {},
   "source": [
    "`-` 예제1: BCELoss vs BCEWithLogisticLoss"
   ]
  },
  {
   "cell_type": "code",
   "execution_count": 57,
   "id": "accd1529-6526-4a8f-85a2-e068d09f025b",
   "metadata": {
    "tags": []
   },
   "outputs": [
    {
     "data": {
      "text/plain": [
       "(tensor([[0.],\n",
       "         [0.],\n",
       "         [1.]]),\n",
       " tensor([[-1.],\n",
       "         [ 0.],\n",
       "         [ 1.]]))"
      ]
     },
     "execution_count": 57,
     "metadata": {},
     "output_type": "execute_result"
    }
   ],
   "source": [
    "y = torch.tensor([0,0,1]).reshape(-1,1).float()\n",
    "netout = torch.tensor([-1, 0, 1]).reshape(-1,1).float()\n",
    "y,netout"
   ]
  },
  {
   "cell_type": "code",
   "execution_count": 58,
   "id": "9dfb02cb-1749-4391-8446-fdec0734f6cb",
   "metadata": {
    "tags": []
   },
   "outputs": [
    {
     "data": {
      "text/plain": [
       "tensor(0.4399)"
      ]
     },
     "execution_count": 58,
     "metadata": {},
     "output_type": "execute_result"
    }
   ],
   "source": [
    "# 계산방법1: 공식암기\n",
    "sig = torch.nn.Sigmoid()\n",
    "yhat = sig(netout)\n",
    "-torch.mean(torch.log(yhat)*y + torch.log(1-yhat)*(1-y))"
   ]
  },
  {
   "cell_type": "code",
   "execution_count": 59,
   "id": "736829af-f7ab-440d-82b5-768c60bea69a",
   "metadata": {
    "tags": []
   },
   "outputs": [
    {
     "data": {
      "text/plain": [
       "tensor(0.4399)"
      ]
     },
     "execution_count": 59,
     "metadata": {},
     "output_type": "execute_result"
    }
   ],
   "source": [
    "# 계산방법2: torch.nn.BCELoss() 이용\n",
    "sig = torch.nn.Sigmoid()\n",
    "loss_fn = torch.nn.BCELoss()\n",
    "loss_fn(sig(netout),y)"
   ]
  },
  {
   "cell_type": "code",
   "execution_count": 60,
   "id": "244f971b-a33a-46b5-9c99-38e4e9638ede",
   "metadata": {
    "tags": []
   },
   "outputs": [
    {
     "data": {
      "text/plain": [
       "tensor(0.4399)"
      ]
     },
     "execution_count": 60,
     "metadata": {},
     "output_type": "execute_result"
    }
   ],
   "source": [
    "# 계산방법3: torch.nn.BCEWithLogitsLoss() 이용\n",
    "loss_fn = torch.nn.BCEWithLogitsLoss()\n",
    "loss_fn(netout,y)"
   ]
  },
  {
   "cell_type": "markdown",
   "id": "34e4a3cf-7911-4b4a-b833-50541329c0b9",
   "metadata": {},
   "source": [
    "`-` 예제2: BCEWithLogisticLoss vs CrossEntropyLoss"
   ]
  },
  {
   "cell_type": "code",
   "execution_count": 61,
   "id": "e54ce802-ab28-4f1b-b061-462feb61baf9",
   "metadata": {
    "tags": []
   },
   "outputs": [
    {
     "data": {
      "text/plain": [
       "(tensor([[1., 0.],\n",
       "         [1., 0.],\n",
       "         [0., 1.]]),\n",
       " tensor([[1., 0.],\n",
       "         [0., 0.],\n",
       "         [0., 1.]]))"
      ]
     },
     "execution_count": 61,
     "metadata": {},
     "output_type": "execute_result"
    }
   ],
   "source": [
    "netout = torch.tensor([[1,0],[0,0],[0,1]]).float()\n",
    "y = torch.tensor([[1,0],[1,0],[0,1]]).float()\n",
    "y,netout #,netout[:,[1]]-netout[:,[0]]"
   ]
  },
  {
   "cell_type": "code",
   "execution_count": 62,
   "id": "992b1412-3913-4ca1-87e7-829c2951658d",
   "metadata": {
    "tags": []
   },
   "outputs": [
    {
     "data": {
      "text/plain": [
       "tensor(0.4399)"
      ]
     },
     "execution_count": 62,
     "metadata": {},
     "output_type": "execute_result"
    }
   ],
   "source": [
    "# 계산방법1: torch.nn.CrossEntropyLoss() 이용 + y는 one-hot으로 정리\n",
    "loss_fn = torch.nn.CrossEntropyLoss()\n",
    "loss_fn(netout,y)"
   ]
  },
  {
   "cell_type": "code",
   "execution_count": 63,
   "id": "2cc88737-fd06-450d-ad23-0084d1924e71",
   "metadata": {
    "tags": []
   },
   "outputs": [
    {
     "data": {
      "text/plain": [
       "tensor(0.4399)"
      ]
     },
     "execution_count": 63,
     "metadata": {},
     "output_type": "execute_result"
    }
   ],
   "source": [
    "# 계산방법2: 공식암기\n",
    "yhat = softmax(netout)\n",
    "-torch.sum(torch.log(yhat)*y)/3"
   ]
  },
  {
   "cell_type": "code",
   "execution_count": 64,
   "id": "090abc37-f55c-42ae-8116-4e34097f2b78",
   "metadata": {
    "tags": []
   },
   "outputs": [
    {
     "data": {
      "text/plain": [
       "(tensor([[1., 0.],\n",
       "         [0., 0.],\n",
       "         [0., 1.]]),\n",
       " tensor([0, 0, 1]))"
      ]
     },
     "execution_count": 64,
     "metadata": {},
     "output_type": "execute_result"
    }
   ],
   "source": [
    "# 계산방법3: torch.nn.CrossEntropyLoss() 이용 + y는 0,1 로 정리\n",
    "y = y[:,-1].long() \n",
    "netout, y"
   ]
  },
  {
   "cell_type": "code",
   "execution_count": 65,
   "id": "bced33bc-df19-4b7f-aff3-879f3bfe3122",
   "metadata": {
    "tags": []
   },
   "outputs": [
    {
     "data": {
      "text/plain": [
       "tensor(0.4399)"
      ]
     },
     "execution_count": 65,
     "metadata": {},
     "output_type": "execute_result"
    }
   ],
   "source": [
    "loss_fn = torch.nn.CrossEntropyLoss()\n",
    "loss_fn(netout,y)"
   ]
  },
  {
   "cell_type": "markdown",
   "id": "cc824652-98e3-48b4-9025-c874e37c6fcb",
   "metadata": {
    "tags": []
   },
   "source": [
    "`#`"
   ]
  },
  {
   "cell_type": "markdown",
   "id": "670b9992-40a2-4922-9803-69d6ea0e466f",
   "metadata": {},
   "source": [
    "***`# 3개의 카테고리`***"
   ]
  },
  {
   "cell_type": "code",
   "execution_count": 66,
   "id": "548b72d7-3caa-43be-83fa-c920eafb9654",
   "metadata": {
    "tags": []
   },
   "outputs": [
    {
     "data": {
      "text/plain": [
       "(tensor([2, 1, 2, 2, 0]),\n",
       " tensor([[0, 0, 1],\n",
       "         [0, 1, 0],\n",
       "         [0, 0, 1],\n",
       "         [0, 0, 1],\n",
       "         [1, 0, 0]]))"
      ]
     },
     "execution_count": 66,
     "metadata": {},
     "output_type": "execute_result"
    }
   ],
   "source": [
    "y = torch.tensor([2,1,2,2,0])\n",
    "y_onehot = torch.nn.functional.one_hot(y)\n",
    "netout = torch.tensor(\n",
    "    [[-2.0000, -2.0000,  0.0000],\n",
    "     [ 3.1400,  3.1400,  3.1400],\n",
    "     [ 0.0000,  0.0000,  2.0000],\n",
    "     [ 2.0000,  2.0000,  4.0000],\n",
    "     [ 0.0000,  0.0000,  0.0000]]\n",
    ")\n",
    "y,y_onehot"
   ]
  },
  {
   "cell_type": "code",
   "execution_count": 67,
   "id": "01854de7-1bf6-424e-8365-d7a99e74994f",
   "metadata": {
    "tags": []
   },
   "outputs": [
    {
     "data": {
      "text/plain": [
       "tensor(0.5832)"
      ]
     },
     "execution_count": 67,
     "metadata": {},
     "output_type": "execute_result"
    }
   ],
   "source": [
    "## 방법1 -- 추천X\n",
    "loss_fn = torch.nn.CrossEntropyLoss()\n",
    "loss_fn(netout,y_onehot.float())"
   ]
  },
  {
   "cell_type": "code",
   "execution_count": 68,
   "id": "ea9ac430-21df-4477-90ed-f875e53b9316",
   "metadata": {
    "tags": []
   },
   "outputs": [
    {
     "data": {
      "text/plain": [
       "tensor(0.5832)"
      ]
     },
     "execution_count": 68,
     "metadata": {},
     "output_type": "execute_result"
    }
   ],
   "source": [
    "## 방법2 -- 추천O\n",
    "loss_fn = torch.nn.CrossEntropyLoss()\n",
    "loss_fn(netout,y)"
   ]
  },
  {
   "cell_type": "code",
   "execution_count": 69,
   "id": "386860b6-e2ce-49e9-8bda-dccab3f625ae",
   "metadata": {
    "tags": []
   },
   "outputs": [
    {
     "data": {
      "text/plain": [
       "tensor(0.5832)"
      ]
     },
     "execution_count": 69,
     "metadata": {},
     "output_type": "execute_result"
    }
   ],
   "source": [
    "## 방법3 -- 공식.. (이걸 쓰는사람은 없겠지?)\n",
    "sft = torch.nn.Softmax()\n",
    "loss_fn = torch.nn.CrossEntropyLoss()\n",
    "- torch.sum(torch.log(sft(netout))*y_onehot)/5"
   ]
  },
  {
   "cell_type": "markdown",
   "id": "86dce89e-21ad-42b2-8a70-b35d6e10c4dc",
   "metadata": {},
   "source": [
    "`#`"
   ]
  },
  {
   "cell_type": "markdown",
   "id": "92e05f3e-a7f1-4b31-b90a-17b4812540c2",
   "metadata": {},
   "source": [
    "`-` 계산하는 공식을 아는것도 중요한데 torch.nn.CrossEntropyLoss() 에는 softmax 활성화함수가 이미 포함되어 있다는 것을 확인하는 것이 더 중요함. "
   ]
  },
  {
   "cell_type": "markdown",
   "id": "2e564a21-4c20-4ef9-ac3b-2bb66a72663e",
   "metadata": {},
   "source": [
    "`-` torch.nn.CrossEntropyLoss() 는 사실 torch.nn.CEWithSoftmaxLoss() 정도로 바꾸는 것이 더 말이 되는 것 같다. "
   ]
  },
  {
   "cell_type": "markdown",
   "id": "57818858-a52b-47dd-a8e9-2e84312cd8dd",
   "metadata": {},
   "source": [
    "## E. Minor Topic: 이진분류와 CrossEntropy"
   ]
  },
  {
   "cell_type": "markdown",
   "id": "1a96ecda-1fbb-48f7-b5de-8cede28b9b9c",
   "metadata": {},
   "source": [
    "`-` 2개의 클래스일경우에도 CrossEntropy를 쓸 수 있지 않을까? "
   ]
  },
  {
   "cell_type": "code",
   "execution_count": 70,
   "id": "f3ebe3ec-d6b4-4f39-8ba7-84185ac104f2",
   "metadata": {
    "tags": []
   },
   "outputs": [
    {
     "data": {
      "text/plain": [
       "tensor(0.9983)"
      ]
     },
     "execution_count": 70,
     "metadata": {},
     "output_type": "execute_result"
    }
   ],
   "source": [
    "## Step1: 데이터준비 \n",
    "path = untar_data(URLs.MNIST)\n",
    "X0 = torch.stack([torchvision.io.read_image(str(fname)) for fname in (path/'training/0').ls()])\n",
    "X1 = torch.stack([torchvision.io.read_image(str(fname)) for fname in (path/'training/1').ls()])\n",
    "X = torch.concat([X0,X1]).reshape(-1,1*28*28)/255\n",
    "y = torch.tensor([0]*len(X0) + [1]*len(X1))\n",
    "## Step2: 학습가능한 오브젝트 생성\n",
    "torch.manual_seed(43052)\n",
    "net = torch.nn.Sequential(\n",
    "    torch.nn.Linear(784,32),\n",
    "    torch.nn.ReLU(),\n",
    "    torch.nn.Linear(32,2),\n",
    "    #torch.nn.Softmax()\n",
    ")\n",
    "loss_fn = torch.nn.CrossEntropyLoss()\n",
    "optimizr = torch.optim.Adam(net.parameters())\n",
    "## Step3: fit  \n",
    "for epoc in range(70): \n",
    "    ## 1 \n",
    "    ## 2 \n",
    "    loss= loss_fn(net(X),y) \n",
    "    ## 3 \n",
    "    loss.backward()\n",
    "    ## 4 \n",
    "    optimizr.step()\n",
    "    optimizr.zero_grad() \n",
    "## Step4: Predict \n",
    "softmax = torch.nn.Softmax()\n",
    "(net(X).argmax(axis=1) == y).float().mean()"
   ]
  },
  {
   "cell_type": "markdown",
   "id": "bacd7a09-5563-4565-aecc-68dd25deb87e",
   "metadata": {},
   "source": [
    "`-` 이진분류문제 = \"y=0 or y=1\" 을 맞추는 문제 = 성공과 실패를 맞추는 문제 = 성공확률과 실패확률을 추정하는 문제 "
   ]
  },
  {
   "cell_type": "markdown",
   "id": "a51d270f-de1a-4653-98bb-ee87cde06921",
   "metadata": {},
   "source": [
    "`-` softmax, sigmoid\n",
    "\n",
    "- softmax: (실패확률, 성공확률) 꼴로 결과가 나옴 // softmax는 실패확률과 성공확률을 둘다 추정한다. \n",
    "- sigmoid: (성공확률) 꼴로 결과가 나옴 // sigmoid는 성공확률만 추정한다. "
   ]
  },
  {
   "cell_type": "markdown",
   "id": "213a26d3-6f3f-40e2-be5a-fdbc31ca3615",
   "metadata": {},
   "source": [
    "`-` 그런데 \"실패확률=1-성공확률\" 이므로 사실상 둘은 같은걸 추정하는 셈이다. (성공확률만 추정하면 실패확률은 저절로 추정되니까) "
   ]
  },
  {
   "cell_type": "markdown",
   "id": "b9103832-a80d-4f2e-9f06-f272ca11fc2b",
   "metadata": {},
   "source": [
    "`-` 즉 아래는 같은 표현력을 가진 모형이다. "
   ]
  },
  {
   "cell_type": "markdown",
   "id": "afb5b98b-0c92-412f-8bc6-c2add35abe92",
   "metadata": {},
   "source": [
    "![](https://guebin.github.io/DL2022/posts/III.%20CNN/2022-10-20-8wk-1_files/figure-html/cell-53-output-1.svg)"
   ]
  },
  {
   "cell_type": "markdown",
   "id": "dcd1f316-19fe-4843-9540-58001bc536a3",
   "metadata": {},
   "source": [
    "![](https://guebin.github.io/DL2022/posts/III.%20CNN/2022-10-20-8wk-1_files/figure-html/cell-54-output-1.svg)"
   ]
  },
  {
   "cell_type": "markdown",
   "id": "de30736d-9e20-48e9-a771-f9939899864a",
   "metadata": {},
   "source": [
    "`-` 둘은 같은 표현력을 가진 모형인데 학습할 파라메터는 sigmoid의 경우가 더 적다. $\\to$ sigmoid를 사용하는 모형이 비용은 싸고 효과는 동일하다는 말 $\\to$ 이진분류 한정해서는 softmax를 쓰지말고 sigmoid를 써야함. \n",
    "\n",
    "- softmax가 갑자기 너무 안좋아보이는데 sigmoid는 k개의 클래스로 확장이 불가능한 반면 softmax는 확장이 용이하다는 장점이 있음."
   ]
  },
  {
   "cell_type": "markdown",
   "id": "8aac81d5-7949-44a8-87cd-ab7cb11e540a",
   "metadata": {},
   "source": [
    "## F. 정리 "
   ]
  },
  {
   "cell_type": "markdown",
   "id": "f029e2bd-7e58-4446-987b-6b22c2844762",
   "metadata": {},
   "source": [
    "`-` 결론 \n",
    "\n",
    "1. 소프트맥스는 시그모이드의 확장이다. \n",
    "2. 클래스의 수가 2개일 경우에는 (Sigmoid, BCEloss) 조합을 사용해야 하고 클래스의 수가 2개보다 클 경우에는 (Softmax, CrossEntropyLoss) 를 사용해야 한다. \n"
   ]
  },
  {
   "cell_type": "markdown",
   "id": "7cc630f4-5ac1-490c-82da-c5e07e0080b9",
   "metadata": {},
   "source": [
    "`-` 그런데 사실.. 클래스의 수가 2개일 경우일때 (Softmax, CrossEntropyLoss)를 사용해도 그렇게 큰일나는것은 아니다. (그냥 좀 비효율적인 느낌이 드는 것 뿐임. 흑백이미지를 칼라잉크로 출력하는 느낌) "
   ]
  },
  {
   "cell_type": "markdown",
   "id": "3f790de3-194e-4413-80f9-f9ba4430583c",
   "metadata": {},
   "source": [
    "***참고***\n",
    "\n",
    "|$y$|분포가정|마지막층의 활성화함수|손실함수|\n",
    "|:--:|:--:|:--:|:--:|\n",
    "|3.45, 4.43, ... (연속형) |정규분포|None (or Identity)|MSE|\n",
    "|0 or 1|이항분포 with $n=1$ (=베르누이) |Sigmoid| BCE|\n",
    "|[0,0,1], [0,1,0], [1,0,0]| 다항분포 with $n=1$|Softmax| Cross Entropy |"
   ]
  },
  {
   "cell_type": "markdown",
   "id": "25a2ad28-be07-46be-bcb9-5c7c7bf3a619",
   "metadata": {
    "tags": []
   },
   "source": [
    "# A1. 자잘한 용어 정리 ($\\star$)"
   ]
  },
  {
   "cell_type": "markdown",
   "id": "34d4ccf9-def8-459e-a0dc-04eab6978acd",
   "metadata": {
    "tags": []
   },
   "source": [
    "## A. 지도학습 \n",
    "\n",
    "`-` 우리가 수업에서 다루는 데이터는 주로 아래와 같은 느낌이다. \n",
    "\n",
    "1.  데이터는 $(X,y)$의 형태로 정리되어 있다. \n",
    "\n",
    "2.  $y$는 우리가 관심이 있는 변수이다. 즉 우리는 $y$를 적절하게 추정하는 것에 관심이 있다.\n",
    "\n",
    "3.  $X$는 $y$를 추정하기 위해 필요한 정보이다.\n",
    "\n",
    "|  $X$ = 설명변수 = 독립변수   | $y$ = 반응변수 = 종속변수  |     비고     |     순서     |           예시           |\n",
    "|:-------------:|:-------------:|:-------------:|:-------------:|:-------------:|\n",
    "|            이미지            |          카테고리          | 합성곱신경망 |   상관없음   |  개/고양이 이미지 구분   |\n",
    "|         유저,아이템          |            평점            |  추천시스템  |   상관없음   |    넷플릭스 영화추천     |\n",
    "|     과거~오늘까지의주가      |          내일주가          |  순환신경망  | 순서상관있음 |         주가예측         |\n",
    "| 처음 $m$개의 단어(혹은 문장) | 이후 1개의 단어(혹은 문장) |  순환신경망  | 순서상관있음 |     챗봇, 텍스트생성     |\n",
    "| 처음 $m$개의 단어(혹은 문장) |          카테고리          |  순환신경망  | 순서상관있음 | 영화리뷰 텍스트 감정분류 |\n",
    "\n",
    "`-` 이러한 문제상황, 즉 $(X,y)$가 주어졌을때 $X \\to y$를 추정하는 문제를 supervised learning 이라한다. "
   ]
  },
  {
   "cell_type": "markdown",
   "id": "d5aa1105",
   "metadata": {},
   "source": [
    "## B. 모델이란? "
   ]
  },
  {
   "cell_type": "markdown",
   "id": "a6f2e4ac-a5bb-461e-87c8-313fec856bc6",
   "metadata": {},
   "source": [
    "> 모델이란 단어는 제 발작버튼이었어요.. "
   ]
  },
  {
   "cell_type": "markdown",
   "id": "fd02ae62",
   "metadata": {},
   "source": [
    "`-` 통계학에서 모델은 y와 x의 관계를 의미하며 오차항의 설계를 포함하는 개념이다. 이는 통계학이 \"데이터 = 정보 + 오차\"의 관점을 유지하기 때문이다. 따라서 통계학에서 모델링이란 \n",
    "\n",
    "$$y_i = net(x_i) + \\epsilon_i$$\n",
    "\n",
    "에서 (1) 적절한 함수 $net$를 선택하는 일 (2) 적절한 오차항 $\\epsilon_i$ 을 설계하는일 모두를 포함한다. "
   ]
  },
  {
   "cell_type": "markdown",
   "id": "aa34d44b",
   "metadata": {},
   "source": [
    "`-` 딥러닝 혹은 머신러닝에서 모델은 단순히\n",
    "\n",
    "$$y_i \\approx net(x_i)$$\n",
    "\n",
    "를 의미하는 경우가 많다. 즉 \"model=net\"라고 생각해도 무방하다. 이 경우 \"모델링\"이란 단순히 적절한 $net$을 설계하는 것만을 의미할 경우가 많다. "
   ]
  },
  {
   "cell_type": "markdown",
   "id": "98acbbb7",
   "metadata": {},
   "source": [
    "`-` 그래서 생긴일\n",
    "\n",
    "- 통계학교재 특: 분류문제와 회귀문제를 엄밀하게 구분하지 않는다. 사실 오차항만 다를뿐이지 크게보면 같은 회귀모형이라는 관점이다. 그래서 일반화선형모형(GLM)이라는 용어를 쓴다. \n",
    "- 머신러닝/딥러닝교재 특: 회귀문제와 분류문제를 구분해서 설명한다. (표도 만듦) 이는 오차항에 대한 기술을 모호하게 하여 생기는 현상이다."
   ]
  },
  {
   "cell_type": "markdown",
   "id": "92b70cdb-7ece-4516-9ed2-e4eefb622361",
   "metadata": {
    "tags": []
   },
   "source": [
    "## C. 학습이란? \n",
    "\n",
    "`-` 학습이란 주어진 자료 $(X,y)$를 잘 분석하여 $X$에서 $y$로 가는 어떠한 “규칙” 혹은 “원리”를 찾는 것이다.\n",
    "\n",
    "-   학습이란 주어진 자료 $(X,y)$를 잘 분석하여 $X$에서 $y$로 가는 어떠한 “맵핑”을 찾는 것이다.\n",
    "-   학습이란 주어진 자료 $(X,y)$를 잘 분석하여 $X$에서 $y$로 가는 어떠한 \"함수”을 찾는 것이다. 즉 $y\\approx f(X)$가 되도록 만드는 $f$를 잘 찾는 것이다. (이 경우 \"함수를 추정한다\"라고 표현)\n",
    "-   학습이란 주어진 자료 $(X,y)$를 잘 분석하여 $X$에서 $y$로 가는 어떠한 “모델” 혹은 \"모형\"을 찾는 것이다. 즉 $y\\approx model(X)$가 되도록 만드는 $model$을 잘 찾는 것이다. (이 경우 \"모형을 학습시킨다\"라고 표현)\n",
    "-   **학습이란 주어진 자료 $(X,y)$를 잘 분석하여 $X$에서 $y$로 가는 어떠한 “네트워크”을 찾는 것이다. 즉 $y\\approx net(X)$가 되도록 만드는 $net$을 잘 찾는 것이다. (이 경우 \"네트워크를 학습시킨다\"라고 표현)**\n",
    "\n",
    "`-` prediction이란 학습과정에서 찾은 “규칙” 혹은 “원리”를 $X$에 적용하여 $\\hat{y}$을 구하는 과정이다. 학습과정에서 찾은 규칙 혹은 원리는 $f$,$model$,$net$ 으로 생각가능한데 이에 따르면 아래가 성립한다.\n",
    "\n",
    "-   $\\hat{y} = f(X)$\n",
    "-   $\\hat{y} = model(X)$\n",
    "-   $\\hat{y} = net(X)$"
   ]
  },
  {
   "cell_type": "markdown",
   "id": "ca6618c7-78f1-49b6-818b-721619469a8e",
   "metadata": {
    "tags": []
   },
   "source": [
    "## D. $\\hat{y}$를 부르는 다양한 이름\n",
    "\n",
    "`-` $\\hat{y}$는 $X$가 주어진 자료에 있는 값인지 아니면 새로운 값 인지에 따라 지칭하는 이름이 미묘하게 다르다.\n",
    "\n",
    "1.  $X \\in data$: $\\hat{y}=net(X)$ 는 predicted value, fitted value 라고\n",
    "    부른다.\n",
    "\n",
    "2.  $X \\notin data$: $\\hat{y}=net(X)$ 는 predicted value, predicted\n",
    "    value with new data 라고 부른다.\n",
    "\n",
    "`-` 경우1은 “$loss$ = $y$ 와 $\\hat{y}$ 의 차이” 를 정의할 수 있으나 경우2는 그렇지 않다."
   ]
  },
  {
   "cell_type": "markdown",
   "id": "211ead15-1d45-44fa-897a-801a3ee268a7",
   "metadata": {
    "tags": []
   },
   "source": [
    "## E. 다양한 코드들 "
   ]
  },
  {
   "cell_type": "markdown",
   "id": "f7c893df-164d-4849-8e01-b6dd593f5d03",
   "metadata": {
    "tags": []
   },
   "source": [
    "\n",
    "`-` 파이썬 코드..\n",
    "\n",
    "```Python\n",
    "#Python\n",
    "predictor.fit(X,y) # autogluon 에서 \"학습\"을 의미하는 과정\n",
    "model.fit(X,y) # sklearn 에서 \"학습\"을 의미하는 과정\n",
    "learner.learn() # fastai 에서 \"학습\"을 의미하는 과정\n",
    "learner.fine_tune(1) # fastai 에서 \"부분학습\"을 의미하는 과정\n",
    "learner.predict(cat1) # fastai 에서 \"예측\"을 의미하는 과정 \n",
    "model.fit(x, y, batch_size=32, epochs=10) # keras에서 \"학습\"을 의미하는 과정\n",
    "model.predict(test_img) # keras에서 \"예측\"을 의미하는 과정 \n",
    "```\n",
    "\n",
    "`-` R 코드..\n",
    "\n",
    "```r\n",
    "# R\n",
    "ols <- lm(y~x) # 선형회귀분석에서 학습을 의미하는 함수\n",
    "ols$fitted.values # 선형회귀분석에서 yhat을 출력 \n",
    "predict(ols, newdata=test) # 선형회귀분석에서 test에 대한 예측값을 출력하는 함수\n",
    "ols$coef # 선형회귀분석에서 weight를 확인하는 방법\n",
    "```\n"
   ]
  },
  {
   "cell_type": "markdown",
   "id": "333487d4-80a5-428b-bfdd-90b1caa23e73",
   "metadata": {
    "tags": []
   },
   "source": [
    "# A2. 참고자료들 "
   ]
  },
  {
   "cell_type": "markdown",
   "id": "c6227683-8c7e-49fb-9445-61be94261aea",
   "metadata": {},
   "source": [
    "`-` 케라스/텐서플로우: <https://guebin.github.io/STBDA2022/>"
   ]
  },
  {
   "cell_type": "markdown",
   "id": "ff1afd6f-b77f-4b83-b3af-0863487fa23a",
   "metadata": {},
   "source": [
    "`-` 상속: <https://guebin.github.io/PP2023/posts/03_Class/2023-06-12-15wk-1.html>"
   ]
  },
  {
   "cell_type": "markdown",
   "id": "a70aad33-1e4d-48d8-9863-4c8b63ba53d3",
   "metadata": {},
   "source": [
    "`-` sklearn/autogluon: <https://guebin.github.io/MP2023/>"
   ]
  },
  {
   "cell_type": "markdown",
   "id": "32b0d99f-244a-43cb-8a3e-4ade014ec6ce",
   "metadata": {
    "tags": []
   },
   "source": [
    "`-` 리눅스관련: <https://guebin.github.io/DSTBX2024/> -- 자료 부실함.. 강의영상 없는것 많음.. "
   ]
  }
 ],
 "metadata": {
  "kernelspec": {
   "display_name": "Python 3 (ipykernel)",
   "language": "python",
   "name": "python3"
  },
  "language_info": {
   "codemirror_mode": {
    "name": "ipython",
    "version": 3
   },
   "file_extension": ".py",
   "mimetype": "text/x-python",
   "name": "python",
   "nbconvert_exporter": "python",
   "pygments_lexer": "ipython3",
   "version": "3.11.8"
  }
 },
 "nbformat": 4,
 "nbformat_minor": 5
}
