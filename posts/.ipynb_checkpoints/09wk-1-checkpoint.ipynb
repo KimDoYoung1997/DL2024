{
 "cells": [
  {
   "cell_type": "raw",
   "id": "b6824b0a-708d-47a9-94dd-bb8f41aa0945",
   "metadata": {
    "tags": []
   },
   "source": [
    "---\n",
    "title: \"09wk-1: 추천시스템\"\n",
    "author: \"최규빈\"\n",
    "date: \"04/29/2024\"\n",
    "---"
   ]
  },
  {
   "cell_type": "markdown",
   "id": "59f94654-7098-49ba-82cf-fa7b45f0bada",
   "metadata": {
    "id": "e67ab8e0"
   },
   "source": [
    "<a href=\"https://colab.research.google.com/github/guebin/DL2024/blob/main/posts/08wk-1-2.ipynb\"><img src=\"https://colab.research.google.com/assets/colab-badge.svg\" style=\"text-align: left\"></a>"
   ]
  },
  {
   "cell_type": "markdown",
   "id": "6b8859de-8026-48de-bd50-f44ad4094d8a",
   "metadata": {},
   "source": [
    "# 1. 강의영상 "
   ]
  },
  {
   "cell_type": "code",
   "execution_count": 1,
   "id": "cd4bf0dd-4a17-4400-9edd-d1a9a70ff280",
   "metadata": {
    "tags": []
   },
   "outputs": [],
   "source": [
    "#{{<video https://youtu.be/playlist?list=PLQqh36zP38-xfh-AQQI0B_GONOjgj9DCi&si=uWImDc1bYBoNqCB_ >}}"
   ]
  },
  {
   "cell_type": "markdown",
   "id": "79e8a23f-9d5c-4d8e-9763-9062e0c8721e",
   "metadata": {},
   "source": [
    "# 2. Imports "
   ]
  },
  {
   "cell_type": "code",
   "execution_count": 2,
   "id": "be01850b-e0ed-45be-a675-799d9c90c0ee",
   "metadata": {
    "tags": []
   },
   "outputs": [],
   "source": [
    "import torch\n",
    "import numpy as np \n",
    "import pandas as pd\n",
    "import fastai.collab"
   ]
  },
  {
   "cell_type": "markdown",
   "id": "d684f94f-218e-45f5-b4fd-ab816d0ab651",
   "metadata": {},
   "source": [
    "# 3. 예비학습: optimizer 사용 고급 "
   ]
  },
  {
   "cell_type": "markdown",
   "id": "8776fbde-61a6-465d-b3ae-ac3ab94a268e",
   "metadata": {},
   "source": [
    "# 4. 나는 SOLO -- 최초구현"
   ]
  },
  {
   "cell_type": "markdown",
   "id": "e29e92c2-b7ec-41eb-b822-540d6e98cc22",
   "metadata": {},
   "source": [
    "ref: <https://namu.wiki/w/나는%20SOLO>"
   ]
  },
  {
   "cell_type": "markdown",
   "id": "98a8700a-e183-4f8c-ae67-824677c4bfaa",
   "metadata": {},
   "source": [
    "## A. Data"
   ]
  },
  {
   "cell_type": "markdown",
   "id": "e7c96ade-af56-4392-8188-f1730e9c16f2",
   "metadata": {},
   "source": [
    "`-` Data "
   ]
  },
  {
   "cell_type": "code",
   "execution_count": 832,
   "id": "9ad42043-cdba-46a1-92f0-51aa4ce6e161",
   "metadata": {
    "tags": []
   },
   "outputs": [
    {
     "data": {
      "text/html": [
       "<div>\n",
       "<style scoped>\n",
       "    .dataframe tbody tr th:only-of-type {\n",
       "        vertical-align: middle;\n",
       "    }\n",
       "\n",
       "    .dataframe tbody tr th {\n",
       "        vertical-align: top;\n",
       "    }\n",
       "\n",
       "    .dataframe thead th {\n",
       "        text-align: right;\n",
       "    }\n",
       "</style>\n",
       "<table border=\"1\" class=\"dataframe\">\n",
       "  <thead>\n",
       "    <tr style=\"text-align: right;\">\n",
       "      <th></th>\n",
       "      <th>영식</th>\n",
       "      <th>영철</th>\n",
       "      <th>영호</th>\n",
       "      <th>광수</th>\n",
       "      <th>상철</th>\n",
       "      <th>영수</th>\n",
       "    </tr>\n",
       "  </thead>\n",
       "  <tbody>\n",
       "    <tr>\n",
       "      <th>옥순</th>\n",
       "      <td>3.9</td>\n",
       "      <td>4.1</td>\n",
       "      <td>NaN</td>\n",
       "      <td>0.5</td>\n",
       "      <td>0.3</td>\n",
       "      <td>NaN</td>\n",
       "    </tr>\n",
       "    <tr>\n",
       "      <th>영자</th>\n",
       "      <td>4.5</td>\n",
       "      <td>NaN</td>\n",
       "      <td>3.7</td>\n",
       "      <td>0.5</td>\n",
       "      <td>NaN</td>\n",
       "      <td>0.4</td>\n",
       "    </tr>\n",
       "    <tr>\n",
       "      <th>정숙</th>\n",
       "      <td>NaN</td>\n",
       "      <td>4.9</td>\n",
       "      <td>4.7</td>\n",
       "      <td>NaN</td>\n",
       "      <td>1.2</td>\n",
       "      <td>1.3</td>\n",
       "    </tr>\n",
       "    <tr>\n",
       "      <th>영숙</th>\n",
       "      <td>0.6</td>\n",
       "      <td>0.2</td>\n",
       "      <td>NaN</td>\n",
       "      <td>4.1</td>\n",
       "      <td>4.3</td>\n",
       "      <td>NaN</td>\n",
       "    </tr>\n",
       "    <tr>\n",
       "      <th>순자</th>\n",
       "      <td>0.7</td>\n",
       "      <td>0.9</td>\n",
       "      <td>NaN</td>\n",
       "      <td>4.2</td>\n",
       "      <td>NaN</td>\n",
       "      <td>4.8</td>\n",
       "    </tr>\n",
       "    <tr>\n",
       "      <th>현숙</th>\n",
       "      <td>NaN</td>\n",
       "      <td>0.2</td>\n",
       "      <td>0.3</td>\n",
       "      <td>NaN</td>\n",
       "      <td>3.5</td>\n",
       "      <td>3.4</td>\n",
       "    </tr>\n",
       "  </tbody>\n",
       "</table>\n",
       "</div>"
      ],
      "text/plain": [
       "     영식   영철   영호   광수   상철   영수\n",
       "옥순  3.9  4.1  NaN  0.5  0.3  NaN\n",
       "영자  4.5  NaN  3.7  0.5  NaN  0.4\n",
       "정숙  NaN  4.9  4.7  NaN  1.2  1.3\n",
       "영숙  0.6  0.2  NaN  4.1  4.3  NaN\n",
       "순자  0.7  0.9  NaN  4.2  NaN  4.8\n",
       "현숙  NaN  0.2  0.3  NaN  3.5  3.4"
      ]
     },
     "execution_count": 832,
     "metadata": {},
     "output_type": "execute_result"
    }
   ],
   "source": [
    "df_view = pd.read_csv('https://raw.githubusercontent.com/guebin/DL2024/main/posts/solo.csv',index_col=0)\n",
    "df_view "
   ]
  },
  {
   "cell_type": "code",
   "execution_count": 892,
   "id": "61c8b9d5-dc68-407b-b772-153d16a3b3e5",
   "metadata": {
    "tags": []
   },
   "outputs": [],
   "source": [
    "df_view.iloc[2,2] = 4.9"
   ]
  },
  {
   "cell_type": "code",
   "execution_count": 895,
   "id": "4a16abaa-f0d5-4537-92d9-052231b469d6",
   "metadata": {
    "tags": []
   },
   "outputs": [],
   "source": [
    "df_view.iloc[-2,-1] = 4.0"
   ]
  },
  {
   "cell_type": "code",
   "execution_count": 898,
   "id": "ce3bb757-0639-4e7f-95bf-62c3f17b8377",
   "metadata": {
    "tags": []
   },
   "outputs": [],
   "source": [
    "df_view.iloc[-1,2] = 0"
   ]
  },
  {
   "cell_type": "code",
   "execution_count": 901,
   "id": "59ec3b05-db0e-4e21-9bf5-9d8ef6c0b370",
   "metadata": {
    "tags": []
   },
   "outputs": [],
   "source": [
    "df_view.iloc[-1,-2] = 3.1"
   ]
  },
  {
   "cell_type": "code",
   "execution_count": 902,
   "id": "2a60b549-be25-44fb-838f-dbf0ef4404c0",
   "metadata": {
    "tags": []
   },
   "outputs": [
    {
     "data": {
      "text/html": [
       "<div>\n",
       "<style scoped>\n",
       "    .dataframe tbody tr th:only-of-type {\n",
       "        vertical-align: middle;\n",
       "    }\n",
       "\n",
       "    .dataframe tbody tr th {\n",
       "        vertical-align: top;\n",
       "    }\n",
       "\n",
       "    .dataframe thead th {\n",
       "        text-align: right;\n",
       "    }\n",
       "</style>\n",
       "<table border=\"1\" class=\"dataframe\">\n",
       "  <thead>\n",
       "    <tr style=\"text-align: right;\">\n",
       "      <th></th>\n",
       "      <th>영식</th>\n",
       "      <th>영철</th>\n",
       "      <th>영호</th>\n",
       "      <th>광수</th>\n",
       "      <th>상철</th>\n",
       "      <th>영수</th>\n",
       "    </tr>\n",
       "  </thead>\n",
       "  <tbody>\n",
       "    <tr>\n",
       "      <th>옥순</th>\n",
       "      <td>3.9</td>\n",
       "      <td>4.1</td>\n",
       "      <td>NaN</td>\n",
       "      <td>0.5</td>\n",
       "      <td>0.3</td>\n",
       "      <td>NaN</td>\n",
       "    </tr>\n",
       "    <tr>\n",
       "      <th>영자</th>\n",
       "      <td>4.5</td>\n",
       "      <td>NaN</td>\n",
       "      <td>3.7</td>\n",
       "      <td>0.5</td>\n",
       "      <td>NaN</td>\n",
       "      <td>0.4</td>\n",
       "    </tr>\n",
       "    <tr>\n",
       "      <th>정숙</th>\n",
       "      <td>NaN</td>\n",
       "      <td>4.9</td>\n",
       "      <td>4.9</td>\n",
       "      <td>NaN</td>\n",
       "      <td>1.2</td>\n",
       "      <td>1.3</td>\n",
       "    </tr>\n",
       "    <tr>\n",
       "      <th>영숙</th>\n",
       "      <td>0.6</td>\n",
       "      <td>0.2</td>\n",
       "      <td>NaN</td>\n",
       "      <td>4.1</td>\n",
       "      <td>4.3</td>\n",
       "      <td>NaN</td>\n",
       "    </tr>\n",
       "    <tr>\n",
       "      <th>순자</th>\n",
       "      <td>0.7</td>\n",
       "      <td>0.9</td>\n",
       "      <td>NaN</td>\n",
       "      <td>4.2</td>\n",
       "      <td>NaN</td>\n",
       "      <td>4.0</td>\n",
       "    </tr>\n",
       "    <tr>\n",
       "      <th>현숙</th>\n",
       "      <td>NaN</td>\n",
       "      <td>0.2</td>\n",
       "      <td>0.0</td>\n",
       "      <td>NaN</td>\n",
       "      <td>3.1</td>\n",
       "      <td>3.4</td>\n",
       "    </tr>\n",
       "  </tbody>\n",
       "</table>\n",
       "</div>"
      ],
      "text/plain": [
       "     영식   영철   영호   광수   상철   영수\n",
       "옥순  3.9  4.1  NaN  0.5  0.3  NaN\n",
       "영자  4.5  NaN  3.7  0.5  NaN  0.4\n",
       "정숙  NaN  4.9  4.9  NaN  1.2  1.3\n",
       "영숙  0.6  0.2  NaN  4.1  4.3  NaN\n",
       "순자  0.7  0.9  NaN  4.2  NaN  4.0\n",
       "현숙  NaN  0.2  0.0  NaN  3.1  3.4"
      ]
     },
     "execution_count": 902,
     "metadata": {},
     "output_type": "execute_result"
    }
   ],
   "source": [
    "df_view"
   ]
  },
  {
   "cell_type": "markdown",
   "id": "013454ce-1ef8-4555-8552-0061f22266b7",
   "metadata": {},
   "source": [
    "`-` 데이터를 이해할 때 필요한 가정들 -- 제가 마음대로 설정했어요.. \n",
    "\n",
    "- 궁합이 잘맞으면 5점, 잘 안맞으면 0점 이다. \n",
    "- ((옥순,영자,정숙),(영식,영철,영호))은 MBTI가 I로 시작하고 ((영숙,순자,현숙),(광수,상철,영수))는 MBTI가 E로 시작한다고 설정하자.\n",
    "- (옥순,영자,정숙)은 (영식,영철,영호)와 성격이 잘 맞고 (영숙,순자,현숙)은 (광수,상철,영수)와 성격이 잘맞음. \n",
    "- 정숙은 대체적으로 모든 사람들이랑 궁합이 잘 맞는 편인것 같다. \n",
    "- 현숙은 전체적으로 모든 사람들이랑 궁합이 잘 안맞는 편인것 같다. (눈이 높아보인다)"
   ]
  },
  {
   "cell_type": "markdown",
   "id": "263d0825-18d2-4692-a614-fff7f3e9bd11",
   "metadata": {},
   "source": [
    "## B. Fit / Predict"
   ]
  },
  {
   "cell_type": "markdown",
   "id": "28b52f5f-f7f8-4221-b1e4-3194fdcebf52",
   "metadata": {},
   "source": [
    "`-` 목표: NaN을 추정 "
   ]
  },
  {
   "cell_type": "markdown",
   "id": "d0ef66c8-0214-4a65-a542-9a41a3c10388",
   "metadata": {},
   "source": [
    "`-` 수동추론: \n",
    "\n",
    "- (옥순,영호)이 만난다면? $\\to$ 둘다 I성향이니까 잘 맞지 않을까? $\\to$ 4.0 정도? \n",
    "- (정숙,영식)조합은? $\\to$ 둘다 I성향이니까 잘 맞지 않을까? + 정숙은 다 잘맞던데..? $\\to$ 4.8 정도? \n",
    "- (현숙,영식)조합은? $\\to$ 현숙은 E성향인데 영식은 I성향이므로 잘 안맞을 것임 + 현숙은 원래 좀 눈이 높음 $\\to$ 0.25 정도? "
   ]
  },
  {
   "cell_type": "markdown",
   "id": "9eee5d06-faad-452e-8378-49acce3b3e2f",
   "metadata": {},
   "source": [
    "`-` 좀 더 체계적인 추론 전략: 사람들이 가지고 있는 성향들을 두 개의 숫자로 표현하자. \n",
    "\n",
    "- 옥순의 성향 = (I성향,E성향) = (1.9, 0.0) \n",
    "- 영식의 성향 = (I성향,E성향) = (2.0, 0.1) \n",
    "- 현숙의 성향 = (I성향,E성향) = (0.0, 1.5) "
   ]
  },
  {
   "cell_type": "markdown",
   "id": "fba3f03e-af43-442b-b5f9-1d96bb7c8b41",
   "metadata": {},
   "source": [
    "> 사람에 따라 E,I 둘다 높게 설정할수도있고, 둘다 낮게 설정할 수도 있다. "
   ]
  },
  {
   "cell_type": "markdown",
   "id": "0edef4ce-4138-4cf4-85f6-fe239e364e8b",
   "metadata": {},
   "source": [
    "**(1)** 옥순과 영식의 궁합 $\\approx$ 옥순의I성향$\\times$영식의I성향 $+$ 옥순의E성향$\\times$영식의E성향 // 적합"
   ]
  },
  {
   "cell_type": "code",
   "execution_count": 643,
   "id": "96e2b6fb-9dea-432e-bd1a-3ee34975a5ff",
   "metadata": {
    "tags": []
   },
   "outputs": [
    {
     "data": {
      "text/plain": [
       "3.799999952316284"
      ]
     },
     "execution_count": 643,
     "metadata": {},
     "output_type": "execute_result"
    }
   ],
   "source": [
    "옥순성향 = torch.tensor([1.9,0.0]).reshape(2,1) \n",
    "영식성향 = torch.tensor([2.0,0.1]).reshape(2,1) \n",
    "#(옥순성향*영식성향).sum().item() # 옥순과 영식의 궁합: a ∘ b 로 내적구함 \n",
    "(옥순성향.T @ 영식성향).item() # 옥순과 영식의 궁합: a.T @ b 로 내적구함 "
   ]
  },
  {
   "cell_type": "markdown",
   "id": "9baa4b80-8e13-40ae-83bb-d18786de8233",
   "metadata": {},
   "source": [
    "**(2)** 현숙과 영식의 궁합 $\\approx$ 현숙의I성향$\\times$영식의I성향 $+$ 현숙의E성향$\\times$영식의E성향 // 예측"
   ]
  },
  {
   "cell_type": "code",
   "execution_count": 644,
   "id": "5d7b2b4e-f216-4717-8b38-4815faefa8e4",
   "metadata": {
    "tags": []
   },
   "outputs": [
    {
     "data": {
      "text/plain": [
       "0.15000000596046448"
      ]
     },
     "execution_count": 644,
     "metadata": {},
     "output_type": "execute_result"
    }
   ],
   "source": [
    "현숙성향 = torch.tensor([0.0,1.5]).reshape(2,1)\n",
    "#(현숙성향*영식성향).sum().item() # 현숙과 영식의 궁합: a ∘ b 로 내적구함 \n",
    "(현숙성향.T @ 영식성향).item() # 현숙과 영식의 궁합: a.T @ b 로 내적구함 "
   ]
  },
  {
   "cell_type": "markdown",
   "id": "b145c094-0697-4029-8472-03ff21af89f1",
   "metadata": {},
   "source": [
    "- 그럴싸함. "
   ]
  },
  {
   "cell_type": "markdown",
   "id": "7e41b51f-a000-4af7-8232-0f08ab069b8a",
   "metadata": {},
   "source": [
    "`-` 전체 사용자의 설정값 "
   ]
  },
  {
   "cell_type": "code",
   "execution_count": 645,
   "id": "1679a6fd-7604-4e86-92b9-6aa53b834b74",
   "metadata": {
    "tags": []
   },
   "outputs": [
    {
     "data": {
      "text/plain": [
       "tensor([[1.9000, 2.0000, 2.5000, 0.1000, 0.2000, 0.0000],\n",
       "        [0.0000, 0.1000, 1.0000, 1.9000, 2.1000, 1.5000]])"
      ]
     },
     "execution_count": 645,
     "metadata": {},
     "output_type": "execute_result"
    }
   ],
   "source": [
    "옥순성향 = a1 = torch.tensor([1.9,0.0]).reshape(2,1)\n",
    "영자성향 = a2 = torch.tensor([2.0,0.1]).reshape(2,1)\n",
    "정숙성향 = a3 = torch.tensor([2.5,1.0]).reshape(2,1)\n",
    "영숙성향 = a4 = torch.tensor([0.1,1.9]).reshape(2,1)\n",
    "순자성향 = a5 = torch.tensor([0.2,2.1]).reshape(2,1)\n",
    "현숙성향 = a6 = torch.tensor([0.0,1.5]).reshape(2,1)\n",
    "A = torch.concat([a1,a2,a3,a4,a5,a6],axis=1)\n",
    "A # 각 column은 여성출연자들의 성향을 의미함 "
   ]
  },
  {
   "cell_type": "code",
   "execution_count": 646,
   "id": "946ea60e-e30b-4188-8bae-7c1b25ca0f47",
   "metadata": {
    "tags": []
   },
   "outputs": [
    {
     "data": {
      "text/plain": [
       "tensor([[2.0000, 1.9000, 1.8000, 0.3000, 0.2000, 0.1000],\n",
       "        [0.1000, 0.2000, 0.3000, 2.1000, 2.0000, 1.9000]])"
      ]
     },
     "execution_count": 646,
     "metadata": {},
     "output_type": "execute_result"
    }
   ],
   "source": [
    "영식성향 = b1 = torch.tensor([2.0,0.1]).reshape(2,1)\n",
    "영철성향 = b2 = torch.tensor([1.9,0.2]).reshape(2,1)\n",
    "영호성향 = b3 = torch.tensor([1.8,0.3]).reshape(2,1)\n",
    "광수성향 = b4 = torch.tensor([0.3,2.1]).reshape(2,1)\n",
    "상철성향 = b5 = torch.tensor([0.2,2.0]).reshape(2,1)\n",
    "영수성향 = b6 = torch.tensor([0.1,1.9]).reshape(2,1)\n",
    "B = torch.concat([b1,b2,b3,b4,b5,b6],axis=1)\n",
    "B # 각 column은 남성출연자의 성향을 의미함"
   ]
  },
  {
   "cell_type": "markdown",
   "id": "f801bc70-a655-4f31-8fac-6097d6a648a5",
   "metadata": {},
   "source": [
    "`-` 아래의 행렬곱 관찰 "
   ]
  },
  {
   "cell_type": "code",
   "execution_count": 690,
   "id": "33901998-5c7c-44fc-b97d-5a579514b540",
   "metadata": {
    "tags": []
   },
   "outputs": [
    {
     "data": {
      "text/plain": [
       "tensor([[3.8000, 3.6100, 3.4200, 0.5700, 0.3800, 0.1900],\n",
       "        [4.0100, 3.8200, 3.6300, 0.8100, 0.6000, 0.3900],\n",
       "        [5.1000, 4.9500, 4.8000, 2.8500, 2.5000, 2.1500],\n",
       "        [0.3900, 0.5700, 0.7500, 4.0200, 3.8200, 3.6200],\n",
       "        [0.6100, 0.8000, 0.9900, 4.4700, 4.2400, 4.0100],\n",
       "        [0.1500, 0.3000, 0.4500, 3.1500, 3.0000, 2.8500]])"
      ]
     },
     "execution_count": 690,
     "metadata": {},
     "output_type": "execute_result"
    }
   ],
   "source": [
    "A.T@B "
   ]
  },
  {
   "cell_type": "markdown",
   "id": "b8d4cf35-33b4-4efc-bc23-82185785fc50",
   "metadata": {},
   "source": [
    "---저거 따져보자--- "
   ]
  },
  {
   "cell_type": "markdown",
   "id": "f5aabf2b-c49b-4a78-8b0c-b6a3f2259c97",
   "metadata": {},
   "source": [
    "${\\bf A}_{2 \\times 6} = \\begin{bmatrix} {\\boldsymbol a}_{\\text{옥순}} & {\\boldsymbol a}_{\\text{영자}}  & {\\boldsymbol a}_{\\text{정숙}} & {\\boldsymbol a}_{\\text{영숙}}  & {\\boldsymbol a}_{\\text{순자}}  & {\\boldsymbol a}_{\\text{현숙}} \\end{bmatrix} = \\begin{bmatrix} 1.9 & 2.0 & 2.5 & 0.1 & 0.2  & 0 \\\\  0 & 0.1 & 1.0 & 1.9 & 2.1  & 1.5  \\end{bmatrix}$\n",
    "\n",
    "${\\bf B}_{2 \\times 6} = \\begin{bmatrix} {\\boldsymbol b}_{\\text{영식}} & {\\boldsymbol b}_{\\text{영철}}  & {\\boldsymbol b}_{\\text{영호}} & {\\boldsymbol b}_{\\text{광수}}  & {\\boldsymbol b}_{\\text{상철}}  & {\\boldsymbol b}_{\\text{영수}} \\end{bmatrix} = \\begin{bmatrix} 2.0 & 1.0 & 1.8 & 0.3 & 0.2 & 0.1 \\\\  0.1 & 0.2 & 0.3 & 2.1 & 2.0 & 1.9  \\end{bmatrix}$"
   ]
  },
  {
   "cell_type": "markdown",
   "id": "25290440-b335-486c-ac03-372473883e65",
   "metadata": {},
   "source": [
    "$\\begin{align*}{\\bf A}^\\top @ {\\bf B} & = \\begin{bmatrix}\n",
    "1.9 & 0.0 \\\\\n",
    "2.0 & 0.1 \\\\\n",
    "2.5 & 1.0 \\\\\n",
    "0.1 & 1.9 \\\\\n",
    "0.2 & 2.1 \\\\\n",
    "0.0 & 1.5 \\\\\n",
    "\\end{bmatrix} \\begin{bmatrix} 2.0 & 1.0 & 1.8 & 0.3 & 0.2 & 0.1 \\\\  0.1 & 0.2 & 0.3 & 2.1 & 2.0 & 1.9  \\end{bmatrix} \\\\ \\\\ \n",
    "& = \\begin{bmatrix}\n",
    "3.8 & 3.61 & 3.42 & 0.57 & 0.38 & 0.19 \\\\\n",
    "4.01 & 3.82 & 3.63 & 0.81 & 0.6 & 0.39 \\\\\n",
    "5.1 & 4.95 & 4.8 & 2.85 & 2.5 & 2.15 \\\\\n",
    "0.39 & 0.57 & 0.75 & 4.02 & 3.82 & 3.62 \\\\\n",
    "0.61 & 0.8 & 0.99 & 4.47 & 4.24 & 4.01 \\\\\n",
    "0.15 & 0.3 & 0.45 & 3.15 & 3 & 2.85 \\\\\n",
    "\\end{bmatrix} \\\\ \\\\ \n",
    "& =\\begin{bmatrix}\n",
    "{\\boldsymbol a}_{\\text{옥순}}^\\top @ {\\boldsymbol b}^{ }_{\\text{영식}} & {\\boldsymbol a}_{\\text{옥순}}^\\top @ {\\boldsymbol b}^{ }_{\\text{영철}} & {\\boldsymbol a}_{\\text{옥순}}^\\top @ {\\boldsymbol b}^{ }_{\\text{영호}} & {\\boldsymbol a}_{\\text{옥순}}^\\top @ {\\boldsymbol b}^{ }_{\\text{광수}} & {\\boldsymbol a}_{\\text{옥순}}^\\top @ {\\boldsymbol b}^{ }_{\\text{상철}} & {\\boldsymbol a}_{\\text{옥순}}^\\top @ {\\boldsymbol b}^{ }_{\\text{영수}} \\\\\n",
    "{\\boldsymbol a}_{\\text{영자}}^\\top @ {\\boldsymbol b}^{ }_{\\text{영식}} & {\\boldsymbol a}_{\\text{영자}}^\\top @ {\\boldsymbol b}^{ }_{\\text{영철}} & {\\boldsymbol a}_{\\text{영자}}^\\top @ {\\boldsymbol b}^{ }_{\\text{영호}} & {\\boldsymbol a}_{\\text{영자}}^\\top @ {\\boldsymbol b}^{ }_{\\text{광수}} & {\\boldsymbol a}_{\\text{영자}}^\\top @ {\\boldsymbol b}^{ }_{\\text{상철}} & {\\boldsymbol a}_{\\text{영자}}^\\top @ {\\boldsymbol b}^{ }_{\\text{영수}}  \\\\\n",
    "{\\boldsymbol a}_{\\text{정숙}}^\\top @ {\\boldsymbol b}^{ }_{\\text{영식}} & {\\boldsymbol a}_{\\text{정숙}}^\\top @ {\\boldsymbol b}^{ }_{\\text{영철}} & {\\boldsymbol a}_{\\text{정숙}}^\\top @ {\\boldsymbol b}^{ }_{\\text{영호}} & {\\boldsymbol a}_{\\text{정숙}}^\\top @ {\\boldsymbol b}^{ }_{\\text{광수}} & {\\boldsymbol a}_{\\text{정숙}}^\\top @ {\\boldsymbol b}^{ }_{\\text{상철}} & {\\boldsymbol a}_{\\text{정숙}}^\\top @ {\\boldsymbol b}^{ }_{\\text{영수}} \\\\\n",
    "{\\boldsymbol a}_{\\text{영숙}}^\\top @ {\\boldsymbol b}^{ }_{\\text{영식}} & {\\boldsymbol a}_{\\text{영숙}}^\\top @ {\\boldsymbol b}^{ }_{\\text{영철}} & {\\boldsymbol a}_{\\text{영숙}}^\\top @ {\\boldsymbol b}^{ }_{\\text{영호}} & {\\boldsymbol a}_{\\text{영숙}}^\\top @ {\\boldsymbol b}^{ }_{\\text{광수}} & {\\boldsymbol a}_{\\text{영숙}}^\\top @ {\\boldsymbol b}^{ }_{\\text{상철}} & {\\boldsymbol a}_{\\text{영숙}}^\\top @ {\\boldsymbol b}^{ }_{\\text{영수}}  \\\\\n",
    "{\\boldsymbol a}_{\\text{순자}}^\\top @ {\\boldsymbol b}^{ }_{\\text{영식}} & {\\boldsymbol a}_{\\text{순자}}^\\top @ {\\boldsymbol b}^{ }_{\\text{영철}} & {\\boldsymbol a}_{\\text{순자}}^\\top @ {\\boldsymbol b}^{ }_{\\text{영호}} & {\\boldsymbol a}_{\\text{순자}}^\\top @ {\\boldsymbol b}^{ }_{\\text{광수}} & {\\boldsymbol a}_{\\text{순자}}^\\top @ {\\boldsymbol b}^{ }_{\\text{상철}} & {\\boldsymbol a}_{\\text{순자}}^\\top @ {\\boldsymbol b}^{ }_{\\text{영수}}  \\\\\n",
    "{\\boldsymbol a}_{\\text{현숙}}^\\top @ {\\boldsymbol b}^{ }_{\\text{영식}} & {\\boldsymbol a}_{\\text{현숙}}^\\top @ {\\boldsymbol b}^{ }_{\\text{영철}} & {\\boldsymbol a}_{\\text{현숙}}^\\top @ {\\boldsymbol b}^{ }_{\\text{영호}} & {\\boldsymbol a}_{\\text{현숙}}^\\top @ {\\boldsymbol b}^{ }_{\\text{광수}} & {\\boldsymbol a}_{\\text{현숙}}^\\top @ {\\boldsymbol b}^{ }_{\\text{상철}} & {\\boldsymbol a}_{\\text{현숙}}^\\top @ {\\boldsymbol b}^{ }_{\\text{영수}}  \\\\\n",
    "\\end{bmatrix}\\end{align*}$"
   ]
  },
  {
   "cell_type": "markdown",
   "id": "79fcf2c0-6456-42bb-b226-8d991cd540b5",
   "metadata": {
    "tags": []
   },
   "source": [
    "`-` 궁합매트릭스: ${\\bf A}^\\top @ {\\bf B}$를 계산하면 (6,6) 인 행렬이 나올텐데 이 행렬의 $(i,j)$의 원소는 $i$-th 여성출연자와 $j$-th 남성출연자가 얼마나 잘 맞는지를 나타내는 숫자가 된다. (숫자가 높을수록 잘 맞음) 이 수업에서는 이 매트릭스를 \"궁합매트릭스\" 라고 정의하자. \n",
    "\n",
    "- 걱정1: 5.0이 넘는 값도 있네?\n",
    "- 걱정2: 잘못잡으면 음수가 나올지도? \n",
    "- 로지스틱 느낌 나지 않음??"
   ]
  },
  {
   "cell_type": "markdown",
   "id": "19259891-a407-4b0f-a200-415e88227487",
   "metadata": {},
   "source": [
    "`-` 주어진 자료와 우리가 임의로 만든 궁합매트릭스를 비교해보자. "
   ]
  },
  {
   "cell_type": "code",
   "execution_count": 691,
   "id": "5b043949-5231-49ca-8d5e-c357f8ba2dbe",
   "metadata": {
    "tags": []
   },
   "outputs": [
    {
     "data": {
      "text/plain": [
       "(tensor([[3.8000, 3.6100, 3.4200, 0.5700, 0.3800, 0.1900],\n",
       "         [4.0100, 3.8200, 3.6300, 0.8100, 0.6000, 0.3900],\n",
       "         [5.1000, 4.9500, 4.8000, 2.8500, 2.5000, 2.1500],\n",
       "         [0.3900, 0.5700, 0.7500, 4.0200, 3.8200, 3.6200],\n",
       "         [0.6100, 0.8000, 0.9900, 4.4700, 4.2400, 4.0100],\n",
       "         [0.1500, 0.3000, 0.4500, 3.1500, 3.0000, 2.8500]]),\n",
       " tensor([[3.9000, 4.1000,    nan, 0.5000, 0.3000,    nan],\n",
       "         [4.5000,    nan, 3.7000, 0.5000,    nan, 0.4000],\n",
       "         [   nan, 4.9000, 4.7000,    nan, 1.2000, 1.3000],\n",
       "         [0.6000, 0.2000,    nan, 4.1000, 4.3000,    nan],\n",
       "         [0.7000, 0.9000,    nan, 4.2000,    nan, 4.8000],\n",
       "         [   nan, 0.2000, 0.3000,    nan, 3.5000, 3.4000]]))"
      ]
     },
     "execution_count": 691,
     "metadata": {},
     "output_type": "execute_result"
    }
   ],
   "source": [
    "A.T @ B, torch.tensor(np.array(df_view)).float()"
   ]
  },
  {
   "cell_type": "markdown",
   "id": "325da463-6dc0-45bf-ac24-45e4784bc4e8",
   "metadata": {
    "tags": []
   },
   "source": [
    "`-` 우리의 전략\n",
    "\n",
    "1. ${\\bf A}^\\top @~ {\\bf B}$의 값과 `df_view` 의 값이 `nan`을 제외한 곳에서 거의 비슷하게 되도록 ${\\bf A}$, ${\\bf B}$를 잘 때려맞추면 되는것 아니야?\n",
    "\n",
    "2. 1을 만족하는 ${\\bf A}$, ${\\bf B}$를 찾았으면 그 숫자들을 이용하여 `df_view`의 `nan` 을 추정한다. "
   ]
  },
  {
   "cell_type": "markdown",
   "id": "e6f45c30-e173-454c-8fdc-d67aec24e975",
   "metadata": {
    "tags": []
   },
   "source": [
    "`-` 따라서 모형은 아래와 같이 볼 수 있다. "
   ]
  },
  {
   "cell_type": "markdown",
   "id": "abf46458-a5d7-4422-b1b2-2d1c92790174",
   "metadata": {},
   "source": [
    "$${\\tt df\\_view} \\approx {\\bf A}^\\top @~ {\\bf B}$$"
   ]
  },
  {
   "cell_type": "markdown",
   "id": "05f20d98-6568-4885-90c2-56d3a767b316",
   "metadata": {},
   "source": [
    "`-` 아래의 정보를 참고하여 위의 수식을 다시 정리하면.."
   ]
  },
  {
   "cell_type": "code",
   "execution_count": 692,
   "id": "93deeda5-66b8-470e-b8b5-25f6d4857dea",
   "metadata": {
    "tags": []
   },
   "outputs": [
    {
     "data": {
      "text/html": [
       "<div>\n",
       "<style scoped>\n",
       "    .dataframe tbody tr th:only-of-type {\n",
       "        vertical-align: middle;\n",
       "    }\n",
       "\n",
       "    .dataframe tbody tr th {\n",
       "        vertical-align: top;\n",
       "    }\n",
       "\n",
       "    .dataframe thead th {\n",
       "        text-align: right;\n",
       "    }\n",
       "</style>\n",
       "<table border=\"1\" class=\"dataframe\">\n",
       "  <thead>\n",
       "    <tr style=\"text-align: right;\">\n",
       "      <th></th>\n",
       "      <th>영식</th>\n",
       "      <th>영철</th>\n",
       "      <th>영호</th>\n",
       "      <th>광수</th>\n",
       "      <th>상철</th>\n",
       "      <th>영수</th>\n",
       "    </tr>\n",
       "  </thead>\n",
       "  <tbody>\n",
       "    <tr>\n",
       "      <th>옥순</th>\n",
       "      <td>3.9</td>\n",
       "      <td>4.1</td>\n",
       "      <td>NaN</td>\n",
       "      <td>0.5</td>\n",
       "      <td>0.3</td>\n",
       "      <td>NaN</td>\n",
       "    </tr>\n",
       "    <tr>\n",
       "      <th>영자</th>\n",
       "      <td>4.5</td>\n",
       "      <td>NaN</td>\n",
       "      <td>3.7</td>\n",
       "      <td>0.5</td>\n",
       "      <td>NaN</td>\n",
       "      <td>0.4</td>\n",
       "    </tr>\n",
       "    <tr>\n",
       "      <th>정숙</th>\n",
       "      <td>NaN</td>\n",
       "      <td>4.9</td>\n",
       "      <td>4.7</td>\n",
       "      <td>NaN</td>\n",
       "      <td>1.2</td>\n",
       "      <td>1.3</td>\n",
       "    </tr>\n",
       "    <tr>\n",
       "      <th>영숙</th>\n",
       "      <td>0.6</td>\n",
       "      <td>0.2</td>\n",
       "      <td>NaN</td>\n",
       "      <td>4.1</td>\n",
       "      <td>4.3</td>\n",
       "      <td>NaN</td>\n",
       "    </tr>\n",
       "    <tr>\n",
       "      <th>순자</th>\n",
       "      <td>0.7</td>\n",
       "      <td>0.9</td>\n",
       "      <td>NaN</td>\n",
       "      <td>4.2</td>\n",
       "      <td>NaN</td>\n",
       "      <td>4.8</td>\n",
       "    </tr>\n",
       "    <tr>\n",
       "      <th>현숙</th>\n",
       "      <td>NaN</td>\n",
       "      <td>0.2</td>\n",
       "      <td>0.3</td>\n",
       "      <td>NaN</td>\n",
       "      <td>3.5</td>\n",
       "      <td>3.4</td>\n",
       "    </tr>\n",
       "  </tbody>\n",
       "</table>\n",
       "</div>"
      ],
      "text/plain": [
       "     영식   영철   영호   광수   상철   영수\n",
       "옥순  3.9  4.1  NaN  0.5  0.3  NaN\n",
       "영자  4.5  NaN  3.7  0.5  NaN  0.4\n",
       "정숙  NaN  4.9  4.7  NaN  1.2  1.3\n",
       "영숙  0.6  0.2  NaN  4.1  4.3  NaN\n",
       "순자  0.7  0.9  NaN  4.2  NaN  4.8\n",
       "현숙  NaN  0.2  0.3  NaN  3.5  3.4"
      ]
     },
     "execution_count": 692,
     "metadata": {},
     "output_type": "execute_result"
    }
   ],
   "source": [
    "df_view"
   ]
  },
  {
   "cell_type": "code",
   "execution_count": 650,
   "id": "ca2024ec-724e-45db-b9c6-ba34fd4c42df",
   "metadata": {
    "tags": []
   },
   "outputs": [
    {
     "data": {
      "text/html": [
       "<div>\n",
       "<style scoped>\n",
       "    .dataframe tbody tr th:only-of-type {\n",
       "        vertical-align: middle;\n",
       "    }\n",
       "\n",
       "    .dataframe tbody tr th {\n",
       "        vertical-align: top;\n",
       "    }\n",
       "\n",
       "    .dataframe thead th {\n",
       "        text-align: right;\n",
       "    }\n",
       "</style>\n",
       "<table border=\"1\" class=\"dataframe\">\n",
       "  <thead>\n",
       "    <tr style=\"text-align: right;\">\n",
       "      <th></th>\n",
       "      <th>I성향</th>\n",
       "      <th>E성향</th>\n",
       "    </tr>\n",
       "  </thead>\n",
       "  <tbody>\n",
       "    <tr>\n",
       "      <th>옥순</th>\n",
       "      <td>1.9</td>\n",
       "      <td>0.0</td>\n",
       "    </tr>\n",
       "    <tr>\n",
       "      <th>영자</th>\n",
       "      <td>2.0</td>\n",
       "      <td>0.1</td>\n",
       "    </tr>\n",
       "    <tr>\n",
       "      <th>정숙</th>\n",
       "      <td>2.5</td>\n",
       "      <td>1.0</td>\n",
       "    </tr>\n",
       "    <tr>\n",
       "      <th>영숙</th>\n",
       "      <td>0.1</td>\n",
       "      <td>1.9</td>\n",
       "    </tr>\n",
       "    <tr>\n",
       "      <th>순자</th>\n",
       "      <td>0.2</td>\n",
       "      <td>2.1</td>\n",
       "    </tr>\n",
       "    <tr>\n",
       "      <th>현숙</th>\n",
       "      <td>0.0</td>\n",
       "      <td>1.5</td>\n",
       "    </tr>\n",
       "  </tbody>\n",
       "</table>\n",
       "</div>"
      ],
      "text/plain": [
       "    I성향  E성향\n",
       "옥순  1.9  0.0\n",
       "영자  2.0  0.1\n",
       "정숙  2.5  1.0\n",
       "영숙  0.1  1.9\n",
       "순자  0.2  2.1\n",
       "현숙  0.0  1.5"
      ]
     },
     "metadata": {},
     "output_type": "display_data"
    },
    {
     "data": {
      "text/html": [
       "<div>\n",
       "<style scoped>\n",
       "    .dataframe tbody tr th:only-of-type {\n",
       "        vertical-align: middle;\n",
       "    }\n",
       "\n",
       "    .dataframe tbody tr th {\n",
       "        vertical-align: top;\n",
       "    }\n",
       "\n",
       "    .dataframe thead th {\n",
       "        text-align: right;\n",
       "    }\n",
       "</style>\n",
       "<table border=\"1\" class=\"dataframe\">\n",
       "  <thead>\n",
       "    <tr style=\"text-align: right;\">\n",
       "      <th></th>\n",
       "      <th>I성향</th>\n",
       "      <th>E성향</th>\n",
       "    </tr>\n",
       "  </thead>\n",
       "  <tbody>\n",
       "    <tr>\n",
       "      <th>영식</th>\n",
       "      <td>2.0</td>\n",
       "      <td>0.1</td>\n",
       "    </tr>\n",
       "    <tr>\n",
       "      <th>영철</th>\n",
       "      <td>1.9</td>\n",
       "      <td>0.2</td>\n",
       "    </tr>\n",
       "    <tr>\n",
       "      <th>영호</th>\n",
       "      <td>1.8</td>\n",
       "      <td>0.3</td>\n",
       "    </tr>\n",
       "    <tr>\n",
       "      <th>광수</th>\n",
       "      <td>0.3</td>\n",
       "      <td>2.1</td>\n",
       "    </tr>\n",
       "    <tr>\n",
       "      <th>상철</th>\n",
       "      <td>0.2</td>\n",
       "      <td>2.0</td>\n",
       "    </tr>\n",
       "    <tr>\n",
       "      <th>영수</th>\n",
       "      <td>0.1</td>\n",
       "      <td>1.9</td>\n",
       "    </tr>\n",
       "  </tbody>\n",
       "</table>\n",
       "</div>"
      ],
      "text/plain": [
       "    I성향  E성향\n",
       "영식  2.0  0.1\n",
       "영철  1.9  0.2\n",
       "영호  1.8  0.3\n",
       "광수  0.3  2.1\n",
       "상철  0.2  2.0\n",
       "영수  0.1  1.9"
      ]
     },
     "metadata": {},
     "output_type": "display_data"
    }
   ],
   "source": [
    "display(pd.DataFrame(A.T.tolist()).set_axis(['옥순','영자','정숙','영숙','순자','현숙']).set_axis(['I성향','E성향'],axis=1))\n",
    "display(pd.DataFrame(B.T.tolist()).set_axis(['영식','영철','영호','광수','상철','영수']).set_axis(['I성향','E성향'],axis=1))"
   ]
  },
  {
   "cell_type": "markdown",
   "id": "3c3fe18a-b270-42a2-80ed-8fc0959b914c",
   "metadata": {},
   "source": [
    "---이런식으로?---"
   ]
  },
  {
   "cell_type": "markdown",
   "id": "c8cf9447-80b8-4f6b-a3cc-57858d7053d3",
   "metadata": {},
   "source": [
    "|W|M|W_IE := ${\\boldsymbol a}_{W}^T$|M_IE := ${\\boldsymbol b}_{M}^T$|yhat|y| \n",
    "|:-:|:-:|:-:|:-:|:-:|:-:\n",
    "|옥순|영식|[1.9, 0.0] | [2.0, 0.1] |3.8| 3.9|\n",
    "|옥순|영철|[1.9, 0.0] | [1.9, 0.2] |3.6| 4.1|\n",
    "|옥순|광수|[1.9, 0.0] | [0.3, 2.1] |0.57| 0.5|\n",
    "|옥순|상철|[1.9, 0.0] | [0.2, 2.0] |0.38| 0.3|\n",
    "|...|...|... | ... | ...|...|\n",
    "|현숙|영철|[0.0, 1.5] | [1.9, 0.2] |0.3| 0.2|\n",
    "|현숙|영호|[0.0, 1.5] | [1.8, 0.3] |0.45| 0.2|\n",
    "|현숙|상철|[0.0, 1.5] | [0.2, 2.0] |3.0| 0.2|\n",
    "|현숙|영수|[0.0, 1.5] | [0.1, 1.9] |2.85| 0.2|"
   ]
  },
  {
   "cell_type": "markdown",
   "id": "c5375d36-3e26-4704-b4ee-cba8137c9d59",
   "metadata": {
    "tags": []
   },
   "source": [
    "`-` 이렇게 정리하면 `yhat` $\\approx$ `y` 를 만족하도록 하면 된다. \n",
    "\n",
    "- `yhat`은 어떻게 구하지? `(W_IE * M_IE).sum()`? \n",
    "- 그럼 `W_IE`,`M_IE`는 어떻게 구하지?? 생각해보니까 데이터에서 주어진건 아니잖아"
   ]
  },
  {
   "cell_type": "markdown",
   "id": "059ca1ab-08cc-40ed-b3c2-be5fe64c730d",
   "metadata": {},
   "source": [
    "`-` `W_IE`,`M_IE` 를 어떻게 만들지?\n",
    "\n",
    "- 그전엔 어떻게 했지?? `W`을 보고 적당히 특징을 상상하고 `W_IE`를 때려넣음 + `M`를 보고 적당히 특징을 상상하고 `M_IE`를 넣음. \n",
    "- 자동화하려면? `W` $\\to$ `W_IE` 인 함수를 만들고 `M` $\\to$ `M_IE` 인 함수를 만들자."
   ]
  },
  {
   "cell_type": "markdown",
   "id": "2f3d5f52-366b-4984-bcb8-91ef917c56d6",
   "metadata": {
    "tags": []
   },
   "source": [
    "`-` 앞으로 할일1:  `W` $\\to$ `W_IE` 인 함수를 만들고 `M` $\\to$ `M_IE` 인 함수를 만들자. 즉 \n",
    "    \n",
    "- 옥순 $\\to$ 1.9, 0.0\n",
    "- 영자 $\\to$ 2.0, 0.1 \n",
    "...\n",
    "- 현숙 $\\to$ 0.0, 1.5 \n",
    "\n",
    "로 가는 함수를 하나 구현하고 \n",
    "\n",
    "- 영식 $\\to$ 2.0, 0.1\n",
    "- 영철 $\\to$ 1.9, 0.2 \n",
    "...\n",
    "- 영수 $\\to$ 0.1, 1.9 \n",
    "\n",
    "를 와 같은 함수도 하나 구현한다. "
   ]
  },
  {
   "cell_type": "markdown",
   "id": "ca0c3086-9bf2-4ca5-97a5-fef8124dcf18",
   "metadata": {},
   "source": [
    "`-` 앞으로 할일2: 우리가 익숙한 셋팅 (step1~4)\n",
    "    \n",
    "1. `W_IE`, `M_IE` $\\to$ `yhat` 를 수행\n",
    "2. `y` $\\approx$ `yhat` 인지 체크: `loss = loss_fn(yhat,y)`\n",
    "3. `loss.backward()`\n",
    "4. 더 나은 `W_IE`, `M_IE` 가 생기도록 update "
   ]
  },
  {
   "cell_type": "markdown",
   "id": "e76268f4-f2b3-484e-b2fb-9594d5fa99ff",
   "metadata": {},
   "source": [
    "## C. 할일1: `W` $\\to$ `W_IE`, `M` $\\to$ `M_IE` 의 구현"
   ]
  },
  {
   "cell_type": "markdown",
   "id": "2687ebe4-b3a9-4f2b-8cee-0efc3a6a058d",
   "metadata": {
    "tags": []
   },
   "source": [
    "`-` dataframe의 변형 "
   ]
  },
  {
   "cell_type": "code",
   "execution_count": 651,
   "id": "2148df47-d9f0-4216-b4b5-54c0d141ba64",
   "metadata": {
    "tags": []
   },
   "outputs": [
    {
     "data": {
      "text/html": [
       "<div>\n",
       "<style scoped>\n",
       "    .dataframe tbody tr th:only-of-type {\n",
       "        vertical-align: middle;\n",
       "    }\n",
       "\n",
       "    .dataframe tbody tr th {\n",
       "        vertical-align: top;\n",
       "    }\n",
       "\n",
       "    .dataframe thead th {\n",
       "        text-align: right;\n",
       "    }\n",
       "</style>\n",
       "<table border=\"1\" class=\"dataframe\">\n",
       "  <thead>\n",
       "    <tr style=\"text-align: right;\">\n",
       "      <th></th>\n",
       "      <th>W</th>\n",
       "      <th>M</th>\n",
       "      <th>y</th>\n",
       "    </tr>\n",
       "  </thead>\n",
       "  <tbody>\n",
       "    <tr>\n",
       "      <th>0</th>\n",
       "      <td>옥순</td>\n",
       "      <td>영식</td>\n",
       "      <td>3.9</td>\n",
       "    </tr>\n",
       "    <tr>\n",
       "      <th>1</th>\n",
       "      <td>옥순</td>\n",
       "      <td>영철</td>\n",
       "      <td>4.1</td>\n",
       "    </tr>\n",
       "    <tr>\n",
       "      <th>2</th>\n",
       "      <td>옥순</td>\n",
       "      <td>광수</td>\n",
       "      <td>0.5</td>\n",
       "    </tr>\n",
       "    <tr>\n",
       "      <th>3</th>\n",
       "      <td>옥순</td>\n",
       "      <td>상철</td>\n",
       "      <td>0.3</td>\n",
       "    </tr>\n",
       "    <tr>\n",
       "      <th>4</th>\n",
       "      <td>영자</td>\n",
       "      <td>영식</td>\n",
       "      <td>4.5</td>\n",
       "    </tr>\n",
       "  </tbody>\n",
       "</table>\n",
       "</div>"
      ],
      "text/plain": [
       "    W   M    y\n",
       "0  옥순  영식  3.9\n",
       "1  옥순  영철  4.1\n",
       "2  옥순  광수  0.5\n",
       "3  옥순  상철  0.3\n",
       "4  영자  영식  4.5"
      ]
     },
     "execution_count": 651,
     "metadata": {},
     "output_type": "execute_result"
    }
   ],
   "source": [
    "df = df_view.stack().reset_index().set_axis(['W','M','y'],axis=1)\n",
    "df[:5]"
   ]
  },
  {
   "cell_type": "markdown",
   "id": "cff5524e-3f12-4204-8def-d7c8435e1e05",
   "metadata": {},
   "source": [
    "`-` 이름을 숫자화"
   ]
  },
  {
   "cell_type": "code",
   "execution_count": 652,
   "id": "75a555d0-cac7-4077-866c-3693e643a0e8",
   "metadata": {
    "tags": []
   },
   "outputs": [],
   "source": [
    "w = {'옥순':0, '영자':1, '정숙':2, '영숙':3, '순자':4, '현숙':5}\n",
    "m = {'영식':0, '영철':1, '영호':2, '광수':3, '상철':4, '영수':5}"
   ]
  },
  {
   "cell_type": "code",
   "execution_count": 653,
   "id": "b279a1ee-3ee7-4dea-92fc-fc711b93d61b",
   "metadata": {
    "tags": []
   },
   "outputs": [
    {
     "data": {
      "text/html": [
       "<div>\n",
       "<style scoped>\n",
       "    .dataframe tbody tr th:only-of-type {\n",
       "        vertical-align: middle;\n",
       "    }\n",
       "\n",
       "    .dataframe tbody tr th {\n",
       "        vertical-align: top;\n",
       "    }\n",
       "\n",
       "    .dataframe thead th {\n",
       "        text-align: right;\n",
       "    }\n",
       "</style>\n",
       "<table border=\"1\" class=\"dataframe\">\n",
       "  <thead>\n",
       "    <tr style=\"text-align: right;\">\n",
       "      <th></th>\n",
       "      <th>W</th>\n",
       "      <th>M</th>\n",
       "      <th>y</th>\n",
       "      <th>X1</th>\n",
       "      <th>X2</th>\n",
       "    </tr>\n",
       "  </thead>\n",
       "  <tbody>\n",
       "    <tr>\n",
       "      <th>0</th>\n",
       "      <td>옥순</td>\n",
       "      <td>영식</td>\n",
       "      <td>3.9</td>\n",
       "      <td>0</td>\n",
       "      <td>0</td>\n",
       "    </tr>\n",
       "    <tr>\n",
       "      <th>1</th>\n",
       "      <td>옥순</td>\n",
       "      <td>영철</td>\n",
       "      <td>4.1</td>\n",
       "      <td>0</td>\n",
       "      <td>1</td>\n",
       "    </tr>\n",
       "    <tr>\n",
       "      <th>2</th>\n",
       "      <td>옥순</td>\n",
       "      <td>광수</td>\n",
       "      <td>0.5</td>\n",
       "      <td>0</td>\n",
       "      <td>3</td>\n",
       "    </tr>\n",
       "    <tr>\n",
       "      <th>3</th>\n",
       "      <td>옥순</td>\n",
       "      <td>상철</td>\n",
       "      <td>0.3</td>\n",
       "      <td>0</td>\n",
       "      <td>4</td>\n",
       "    </tr>\n",
       "    <tr>\n",
       "      <th>4</th>\n",
       "      <td>영자</td>\n",
       "      <td>영식</td>\n",
       "      <td>4.5</td>\n",
       "      <td>1</td>\n",
       "      <td>0</td>\n",
       "    </tr>\n",
       "  </tbody>\n",
       "</table>\n",
       "</div>"
      ],
      "text/plain": [
       "    W   M    y  X1  X2\n",
       "0  옥순  영식  3.9   0   0\n",
       "1  옥순  영철  4.1   0   1\n",
       "2  옥순  광수  0.5   0   3\n",
       "3  옥순  상철  0.3   0   4\n",
       "4  영자  영식  4.5   1   0"
      ]
     },
     "execution_count": 653,
     "metadata": {},
     "output_type": "execute_result"
    }
   ],
   "source": [
    "df['X1'] = df['W'].map(w)\n",
    "df['X2'] = df['M'].map(m)\n",
    "df[:5]"
   ]
  },
  {
   "cell_type": "markdown",
   "id": "9a30d4b5-2a88-4b6a-b7d6-954a6b1419bf",
   "metadata": {
    "tags": []
   },
   "source": [
    "`-` 텐서화 + one_hot-인코딩 "
   ]
  },
  {
   "cell_type": "code",
   "execution_count": 654,
   "id": "c8ff8904-c747-4fff-a8aa-caa5e6c953de",
   "metadata": {
    "tags": []
   },
   "outputs": [
    {
     "name": "stdout",
     "output_type": "stream",
     "text": [
      "y.shape: torch.Size([24, 1])\n",
      "E1.shape: torch.Size([24, 6]) // 이때 6은 여성참가자의 수\n",
      "E2.shape: torch.Size([24, 6]) // 이때 6은 남성참가자의 수\n"
     ]
    }
   ],
   "source": [
    "y = torch.tensor(df['y']).float().reshape(-1,1)\n",
    "E1 = torch.nn.functional.one_hot(torch.tensor(df['X1'])).float()\n",
    "E2 = torch.nn.functional.one_hot(torch.tensor(df['X2'])).float()\n",
    "print(f'y.shape: {y.shape}')\n",
    "print(f'E1.shape: {E1.shape} // 이때 {E1.shape[-1]}은 여성참가자의 수')\n",
    "print(f'E2.shape: {E2.shape} // 이때 {E2.shape[-1]}은 남성참가자의 수')"
   ]
  },
  {
   "cell_type": "markdown",
   "id": "1f03fe14-c484-4973-a4e9-dde30bf554ae",
   "metadata": {
    "tags": []
   },
   "source": [
    "`-` `X1` -> `X1_IE`, `X2` -> `X2_IE` 인 변환구현  "
   ]
  },
  {
   "cell_type": "code",
   "execution_count": 655,
   "id": "b8391d8a-dbfd-476d-bda6-374b74b733a7",
   "metadata": {
    "tags": []
   },
   "outputs": [],
   "source": [
    "torch.manual_seed(43052)\n",
    "l1 = torch.nn.Linear(in_features=6, out_features=2)\n",
    "l2 = torch.nn.Linear(in_features=6, out_features=2)\n",
    "W_IE = l1(E1) # W_IE = l1(onehot(X1))\n",
    "M_IE = l2(E2) # M_IE = l2(onehot(X2))"
   ]
  },
  {
   "cell_type": "code",
   "execution_count": 656,
   "id": "c00cc499-92d1-4992-87d4-27f2284d12c6",
   "metadata": {
    "tags": []
   },
   "outputs": [
    {
     "data": {
      "text/plain": [
       "(tensor([[-0.4139,  0.2151],\n",
       "         [-0.6182, -0.1716],\n",
       "         [-0.1252, -0.0238],\n",
       "         [ 0.1087,  0.3370],\n",
       "         [-0.6351, -0.1291]], grad_fn=<SliceBackward0>),\n",
       " tensor([[ 0.5298,  0.1328],\n",
       "         [ 0.6899, -0.1798],\n",
       "         [ 0.3161,  0.3028],\n",
       "         [ 0.3161,  0.3028],\n",
       "         [ 0.2741,  0.3177]], grad_fn=<SliceBackward0>))"
      ]
     },
     "execution_count": 656,
     "metadata": {},
     "output_type": "execute_result"
    }
   ],
   "source": [
    "W_IE[::5], M_IE[::5]"
   ]
  },
  {
   "cell_type": "markdown",
   "id": "a5d9b550-75a8-4be5-9a51-c4fd1516de74",
   "metadata": {
    "tags": []
   },
   "source": [
    "## D. 할일2: step1~4 수행 "
   ]
  },
  {
   "cell_type": "markdown",
   "id": "44684407-78a4-44d2-b0f1-fae498b473c9",
   "metadata": {},
   "source": [
    "`-` step1: yhat을 구하자. "
   ]
  },
  {
   "cell_type": "code",
   "execution_count": 657,
   "id": "cca7c6e4-d5f0-472c-bb66-ce56f8611bae",
   "metadata": {
    "tags": []
   },
   "outputs": [
    {
     "data": {
      "text/plain": [
       "tensor([[-0.4139,  0.2151],\n",
       "        [-0.6182, -0.1716],\n",
       "        [-0.1252, -0.0238],\n",
       "        [ 0.1087,  0.3370],\n",
       "        [-0.6351, -0.1291]], grad_fn=<SliceBackward0>)"
      ]
     },
     "execution_count": 657,
     "metadata": {},
     "output_type": "execute_result"
    }
   ],
   "source": [
    "W_IE[::5] # 여성참가자의 성향들 "
   ]
  },
  {
   "cell_type": "code",
   "execution_count": 658,
   "id": "c5c9d34b-9961-4fed-8944-950d506b3f4a",
   "metadata": {
    "tags": []
   },
   "outputs": [
    {
     "data": {
      "text/plain": [
       "tensor([[ 0.5298,  0.1328],\n",
       "        [ 0.6899, -0.1798],\n",
       "        [ 0.3161,  0.3028],\n",
       "        [ 0.3161,  0.3028],\n",
       "        [ 0.2741,  0.3177]], grad_fn=<SliceBackward0>)"
      ]
     },
     "execution_count": 658,
     "metadata": {},
     "output_type": "execute_result"
    }
   ],
   "source": [
    "M_IE[::5] # 남성참가자의 성향들"
   ]
  },
  {
   "cell_type": "code",
   "execution_count": 659,
   "id": "5fccc718-511f-4f94-a478-29ce8eae2f2c",
   "metadata": {
    "tags": []
   },
   "outputs": [
    {
     "data": {
      "text/plain": [
       "-0.19071894"
      ]
     },
     "execution_count": 659,
     "metadata": {},
     "output_type": "execute_result"
    }
   ],
   "source": [
    "(-0.4139 * 0.5298) + (0.2151 * 0.1328) # 궁합을 의미하는 값 "
   ]
  },
  {
   "cell_type": "code",
   "execution_count": 660,
   "id": "aa7c4261-adaa-4a95-a9b9-4b9db2934d8d",
   "metadata": {
    "tags": []
   },
   "outputs": [
    {
     "data": {
      "text/plain": [
       "tensor([[-0.1907],\n",
       "        [-0.3957],\n",
       "        [-0.0468],\n",
       "        [ 0.1364],\n",
       "        [-0.2151]], grad_fn=<SliceBackward0>)"
      ]
     },
     "execution_count": 660,
     "metadata": {},
     "output_type": "execute_result"
    }
   ],
   "source": [
    "(W_IE * M_IE).sum(axis=1).reshape(-1,1)[::5]"
   ]
  },
  {
   "cell_type": "markdown",
   "id": "d4a5651d-8af4-4e41-b7c7-f3981768d001",
   "metadata": {},
   "source": [
    "출력결과를 0~5사이로 맞춰주자."
   ]
  },
  {
   "cell_type": "code",
   "execution_count": 661,
   "id": "282459e5-9dd7-4978-bb91-bedf8dcea161",
   "metadata": {
    "tags": []
   },
   "outputs": [
    {
     "data": {
      "text/plain": [
       "tensor([[2.2623],\n",
       "        [2.4436],\n",
       "        [2.5254],\n",
       "        [2.4179],\n",
       "        [2.0665],\n",
       "        [2.0118],\n",
       "        [2.2822],\n",
       "        [1.9860],\n",
       "        [2.4477],\n",
       "        [2.3974],\n",
       "        [2.4415],\n",
       "        [2.3926],\n",
       "        [2.6278],\n",
       "        [2.6709],\n",
       "        [2.6975],\n",
       "        [2.6703],\n",
       "        [2.5091],\n",
       "        [2.6533],\n",
       "        [2.7257],\n",
       "        [2.3260],\n",
       "        [2.2321],\n",
       "        [1.9886],\n",
       "        [2.2016],\n",
       "        [1.9648]], grad_fn=<MulBackward0>)"
      ]
     },
     "execution_count": 661,
     "metadata": {},
     "output_type": "execute_result"
    }
   ],
   "source": [
    "sig = torch.nn.Sigmoid()\n",
    "yhat = sig((W_IE * M_IE).sum(axis=1).reshape(-1,1))*5\n",
    "yhat"
   ]
  },
  {
   "cell_type": "markdown",
   "id": "7b08beb9-6e89-47f8-a0f7-88d9f055dfcf",
   "metadata": {},
   "source": [
    "`-` step2: 손실계산 "
   ]
  },
  {
   "cell_type": "code",
   "execution_count": 662,
   "id": "18614713-76f7-4a54-a233-98289c3bcdc8",
   "metadata": {
    "tags": []
   },
   "outputs": [],
   "source": [
    "loss_fn = torch.nn.MSELoss()\n",
    "loss = loss_fn(yhat,y)"
   ]
  },
  {
   "cell_type": "markdown",
   "id": "e7e0455d-86fd-41e0-971c-e7507a2f72f7",
   "metadata": {
    "tags": []
   },
   "source": [
    "`-` step3: 미분 "
   ]
  },
  {
   "cell_type": "code",
   "execution_count": 663,
   "id": "54ee770b-bcf6-4069-87af-704fe9248c3f",
   "metadata": {
    "tags": []
   },
   "outputs": [
    {
     "data": {
      "text/plain": [
       "(tensor([[-0.1415, -0.3458,  0.1472,  0.3811,  0.1663, -0.3627],\n",
       "         [ 0.1330, -0.2537, -0.1058,  0.2549,  0.3958, -0.2112]]),\n",
       " tensor([-0.2724,  0.0821]),\n",
       " tensor([[ 0.1881, -0.0676,  0.3482, -0.1746, -0.0257,  0.3702],\n",
       "         [-0.0318,  0.1532, -0.3444,  0.2514,  0.1382, -0.2983]]),\n",
       " tensor([0.3417, 0.1646]))"
      ]
     },
     "execution_count": 663,
     "metadata": {},
     "output_type": "execute_result"
    }
   ],
   "source": [
    "l1.weight.data,l1.bias.data,l2.weight.data,l2.bias.data"
   ]
  },
  {
   "cell_type": "code",
   "execution_count": 664,
   "id": "2f6fa3cf-9dd3-49b4-9183-0d47ab236f49",
   "metadata": {
    "tags": []
   },
   "outputs": [
    {
     "data": {
      "text/plain": [
       "(None, None, None, None)"
      ]
     },
     "execution_count": 664,
     "metadata": {},
     "output_type": "execute_result"
    }
   ],
   "source": [
    "l1.weight.grad,l1.bias.grad,l2.weight.grad,l2.bias.grad "
   ]
  },
  {
   "cell_type": "code",
   "execution_count": 665,
   "id": "de90f4e7-9156-48cd-9be5-5475772114fc",
   "metadata": {
    "tags": []
   },
   "outputs": [],
   "source": [
    "loss.backward()"
   ]
  },
  {
   "cell_type": "code",
   "execution_count": 666,
   "id": "164ba1e9-1c94-4bd2-88eb-66c44f32f546",
   "metadata": {
    "tags": []
   },
   "outputs": [
    {
     "data": {
      "text/plain": [
       "(tensor([[-0.1415, -0.3458,  0.1472,  0.3811,  0.1663, -0.3627],\n",
       "         [ 0.1330, -0.2537, -0.1058,  0.2549,  0.3958, -0.2112]]),\n",
       " tensor([-0.2724,  0.0821]),\n",
       " tensor([[ 0.1881, -0.0676,  0.3482, -0.1746, -0.0257,  0.3702],\n",
       "         [-0.0318,  0.1532, -0.3444,  0.2514,  0.1382, -0.2983]]),\n",
       " tensor([0.3417, 0.1646]))"
      ]
     },
     "execution_count": 666,
     "metadata": {},
     "output_type": "execute_result"
    }
   ],
   "source": [
    "l1.weight.data,l1.bias.data,l2.weight.data,l2.bias.data"
   ]
  },
  {
   "cell_type": "code",
   "execution_count": 667,
   "id": "2dd82f5b-eb68-4f71-ba59-c04e252f3c8c",
   "metadata": {
    "tags": []
   },
   "outputs": [
    {
     "data": {
      "text/plain": [
       "(tensor([[-0.0319, -0.1035, -0.1135,  0.1042, -0.0583,  0.0300],\n",
       "         [ 0.0772,  0.0532, -0.0141, -0.0022,  0.0538,  0.0149]]),\n",
       " tensor([-0.1731,  0.1828]),\n",
       " tensor([[ 0.2249, -0.0210,  0.0275, -0.2008, -0.0411,  0.0058],\n",
       "         [ 0.1669,  0.1152,  0.0130, -0.1080,  0.0046, -0.1340]]),\n",
       " tensor([-0.0048,  0.0577]))"
      ]
     },
     "execution_count": 667,
     "metadata": {},
     "output_type": "execute_result"
    }
   ],
   "source": [
    "l1.weight.grad,l1.bias.grad,l2.weight.grad,l2.bias.grad "
   ]
  },
  {
   "cell_type": "markdown",
   "id": "2d4bb9a8-e049-42e6-b8c8-d281f7847c9a",
   "metadata": {},
   "source": [
    "`-` step4: update "
   ]
  },
  {
   "cell_type": "code",
   "execution_count": 668,
   "id": "8c7dcb39-516d-43f4-b203-db6a109d2c74",
   "metadata": {
    "tags": []
   },
   "outputs": [],
   "source": [
    "optimizr = torch.optim.Adam(list(l1.parameters())+list(l2.parameters()))\n",
    "optimizr.step()"
   ]
  },
  {
   "cell_type": "code",
   "execution_count": 669,
   "id": "2c6e5271-5daf-4b4f-baa9-81c7866a7dc8",
   "metadata": {
    "tags": []
   },
   "outputs": [
    {
     "data": {
      "text/plain": [
       "(tensor([[-0.1405, -0.3448,  0.1482,  0.3801,  0.1673, -0.3637],\n",
       "         [ 0.1320, -0.2547, -0.1048,  0.2559,  0.3948, -0.2122]]),\n",
       " tensor([-0.2714,  0.0811]),\n",
       " tensor([[ 0.1871, -0.0666,  0.3472, -0.1736, -0.0247,  0.3692],\n",
       "         [-0.0328,  0.1522, -0.3454,  0.2524,  0.1372, -0.2973]]),\n",
       " tensor([0.3427, 0.1636]))"
      ]
     },
     "execution_count": 669,
     "metadata": {},
     "output_type": "execute_result"
    }
   ],
   "source": [
    "l1.weight.data,l1.bias.data,l2.weight.data,l2.bias.data"
   ]
  },
  {
   "cell_type": "code",
   "execution_count": 670,
   "id": "54970809-5f7e-4047-b7ac-8b5f21b5db69",
   "metadata": {
    "tags": []
   },
   "outputs": [
    {
     "data": {
      "text/plain": [
       "(tensor([[-0.0319, -0.1035, -0.1135,  0.1042, -0.0583,  0.0300],\n",
       "         [ 0.0772,  0.0532, -0.0141, -0.0022,  0.0538,  0.0149]]),\n",
       " tensor([-0.1731,  0.1828]),\n",
       " tensor([[ 0.2249, -0.0210,  0.0275, -0.2008, -0.0411,  0.0058],\n",
       "         [ 0.1669,  0.1152,  0.0130, -0.1080,  0.0046, -0.1340]]),\n",
       " tensor([-0.0048,  0.0577]))"
      ]
     },
     "execution_count": 670,
     "metadata": {},
     "output_type": "execute_result"
    }
   ],
   "source": [
    "l1.weight.grad,l1.bias.grad,l2.weight.grad,l2.bias.grad "
   ]
  },
  {
   "cell_type": "code",
   "execution_count": 671,
   "id": "74973a87-f260-4cf6-a1e7-a964fad656fd",
   "metadata": {
    "tags": []
   },
   "outputs": [],
   "source": [
    "optimizr.zero_grad()"
   ]
  },
  {
   "cell_type": "code",
   "execution_count": 672,
   "id": "a7f76a55-cde0-428d-ba1f-3f589b6376cf",
   "metadata": {
    "tags": []
   },
   "outputs": [
    {
     "data": {
      "text/plain": [
       "(tensor([[-0.1405, -0.3448,  0.1482,  0.3801,  0.1673, -0.3637],\n",
       "         [ 0.1320, -0.2547, -0.1048,  0.2559,  0.3948, -0.2122]]),\n",
       " tensor([-0.2714,  0.0811]),\n",
       " tensor([[ 0.1871, -0.0666,  0.3472, -0.1736, -0.0247,  0.3692],\n",
       "         [-0.0328,  0.1522, -0.3454,  0.2524,  0.1372, -0.2973]]),\n",
       " tensor([0.3427, 0.1636]))"
      ]
     },
     "execution_count": 672,
     "metadata": {},
     "output_type": "execute_result"
    }
   ],
   "source": [
    "l1.weight.data,l1.bias.data,l2.weight.data,l2.bias.data"
   ]
  },
  {
   "cell_type": "code",
   "execution_count": 673,
   "id": "015456f4-a8fa-4ff9-a796-e5da8cdd6940",
   "metadata": {
    "tags": []
   },
   "outputs": [
    {
     "data": {
      "text/plain": [
       "(None, None, None, None)"
      ]
     },
     "execution_count": 673,
     "metadata": {},
     "output_type": "execute_result"
    }
   ],
   "source": [
    "l1.weight.grad,l1.bias.grad,l2.weight.grad,l2.bias.grad "
   ]
  },
  {
   "cell_type": "markdown",
   "id": "b49a1fb6-e490-4c68-b7b3-8dda7815d4a1",
   "metadata": {
    "tags": []
   },
   "source": [
    "## E. 정리된 최종코드 "
   ]
  },
  {
   "cell_type": "markdown",
   "id": "e2fbb127-a6c8-4167-af4c-f5ef2bf3fa45",
   "metadata": {},
   "source": [
    "`-` 데이터를 불러오기 "
   ]
  },
  {
   "cell_type": "code",
   "execution_count": 674,
   "id": "f44dd4cf-7db1-4870-b8da-9c29696c40cb",
   "metadata": {
    "tags": []
   },
   "outputs": [],
   "source": [
    "df_view = pd.read_csv('https://raw.githubusercontent.com/guebin/STML2022/main/posts/V.%20RecSys/2022-12-21-rcmdsolo.csv',index_col=0)\n",
    "df = df_view.stack().reset_index().set_axis(['W','M','y'],axis=1)\n",
    "w = {'옥순':0, '영자':1, '정숙':2, '영숙':3, '순자':4, '현숙':5}\n",
    "m = {'영식':0, '영철':1, '영호':2, '광수':3, '상철':4, '영수':5}\n",
    "X1 = torch.tensor(df['W'].map(w)) # length-n vector \n",
    "X2 = torch.tensor(df['M'].map(m)) # length-n vector \n",
    "E1 = torch.nn.functional.one_hot(X1).float()\n",
    "E2 = torch.nn.functional.one_hot(X2).float()\n",
    "y = torch.tensor(df['y']).float().reshape(-1,1)"
   ]
  },
  {
   "cell_type": "markdown",
   "id": "8688969b-c0ef-4cb8-b3e7-94affc30a2e2",
   "metadata": {},
   "source": [
    "`-` 데이터의 차원 및 dtype가 헷갈릴수 있는데 아래와 같이 되어있어야한다. "
   ]
  },
  {
   "cell_type": "code",
   "execution_count": 675,
   "id": "de6cbdca-32ec-4ede-94fc-b89231cb859f",
   "metadata": {
    "tags": []
   },
   "outputs": [
    {
     "name": "stdout",
     "output_type": "stream",
     "text": [
      "X1: shape = torch.Size([24]), dtype = torch.int64\n",
      "X2: shape = torch.Size([24]), dtype = torch.int64\n",
      "E1: shape = torch.Size([24, 6]), dtype = torch.float32\n",
      "E2: shape = torch.Size([24, 6]), dtype = torch.float32\n",
      "y: shape = torch.Size([24, 1]), dtype = torch.float32\n"
     ]
    }
   ],
   "source": [
    "print(f\"X1: shape = {X1.shape}, dtype = {X1.dtype}\") # one-hot 인코딩 넣을거라서.. lenght-n 벡터로\n",
    "print(f\"X2: shape = {X2.shape}, dtype = {X2.dtype}\") # one-hot 인코딩 넣을거라서.. lenght-n 벡터로\n",
    "print(f\"E1: shape = {E1.shape}, dtype = {E1.dtype}\") # one-hot 인코딩 처리된 X1\n",
    "print(f\"E2: shape = {E2.shape}, dtype = {E2.dtype}\") # one-hot 인코딩 처리된 X2\n",
    "print(f\"y: shape = {y.shape}, dtype = {y.dtype}\")"
   ]
  },
  {
   "cell_type": "markdown",
   "id": "3b9bad54-1fe2-4884-8b9e-32c8577b0f76",
   "metadata": {},
   "source": [
    "`-` 학습"
   ]
  },
  {
   "cell_type": "code",
   "execution_count": 696,
   "id": "496c7cfa-b41c-4e8d-b51a-8b0f02e249a4",
   "metadata": {
    "tags": []
   },
   "outputs": [],
   "source": [
    "# \n",
    "torch.manual_seed(43052)\n",
    "l1 = torch.nn.Linear(in_features=6,out_features=2)\n",
    "l2 = torch.nn.Linear(in_features=6,out_features=2)\n",
    "sig = torch.nn.Sigmoid()\n",
    "loss_fn = torch.nn.MSELoss()\n",
    "optimizr = torch.optim.Adam(\n",
    "    list(l1.parameters())+list(l2.parameters()),\n",
    "    lr = 0.01\n",
    ")\n",
    "#---#\n",
    "for epoc in range(300):\n",
    "    ## step1 \n",
    "    W_features = l1(E1) # W_features = l1(E1)\n",
    "    M_features = l2(E2) # M_features = l1(E1)\n",
    "    score = (W_features * M_features).sum(axis=1)\n",
    "    yhat = (sig(score)*5).reshape(-1,1)\n",
    "    ## step2 \n",
    "    loss = loss_fn(yhat,y)\n",
    "    ## step3 \n",
    "    loss.backward()\n",
    "    ## step4 \n",
    "    optimizr.step()\n",
    "    optimizr.zero_grad()"
   ]
  },
  {
   "cell_type": "markdown",
   "id": "da096e45-b7c3-4147-ab87-b69f5ff35649",
   "metadata": {},
   "source": [
    "`-` 학습된결과 "
   ]
  },
  {
   "cell_type": "code",
   "execution_count": 697,
   "id": "beb462d4-3e25-4b84-a0cc-bac7618d101f",
   "metadata": {
    "tags": []
   },
   "outputs": [],
   "source": [
    "df_ebdspace = pd.DataFrame(torch.concat([W_features.data, M_features.data],axis=1))\n",
    "df_ebdspace.columns = ['여성잠재특징1','여성잠재특징2','남성잠재특징1','남성잠재특징2']\n",
    "df_yhat = pd.DataFrame(yhat.data,columns=['yhat'])"
   ]
  },
  {
   "cell_type": "code",
   "execution_count": 698,
   "id": "c482fcc9-e60a-425e-8d05-2d0b6dd7063c",
   "metadata": {
    "tags": []
   },
   "outputs": [
    {
     "data": {
      "text/html": [
       "<div>\n",
       "<style scoped>\n",
       "    .dataframe tbody tr th:only-of-type {\n",
       "        vertical-align: middle;\n",
       "    }\n",
       "\n",
       "    .dataframe tbody tr th {\n",
       "        vertical-align: top;\n",
       "    }\n",
       "\n",
       "    .dataframe thead th {\n",
       "        text-align: right;\n",
       "    }\n",
       "</style>\n",
       "<table border=\"1\" class=\"dataframe\">\n",
       "  <thead>\n",
       "    <tr style=\"text-align: right;\">\n",
       "      <th></th>\n",
       "      <th>W</th>\n",
       "      <th>M</th>\n",
       "      <th>y</th>\n",
       "      <th>yhat</th>\n",
       "      <th>여성잠재특징1</th>\n",
       "      <th>여성잠재특징2</th>\n",
       "      <th>남성잠재특징1</th>\n",
       "      <th>남성잠재특징2</th>\n",
       "    </tr>\n",
       "  </thead>\n",
       "  <tbody>\n",
       "    <tr>\n",
       "      <th>0</th>\n",
       "      <td>옥순</td>\n",
       "      <td>영식</td>\n",
       "      <td>3.9</td>\n",
       "      <td>4.143693</td>\n",
       "      <td>0.267892</td>\n",
       "      <td>-1.397888</td>\n",
       "      <td>0.750719</td>\n",
       "      <td>-0.984057</td>\n",
       "    </tr>\n",
       "    <tr>\n",
       "      <th>1</th>\n",
       "      <td>옥순</td>\n",
       "      <td>영철</td>\n",
       "      <td>4.1</td>\n",
       "      <td>4.013299</td>\n",
       "      <td>0.267892</td>\n",
       "      <td>-1.397888</td>\n",
       "      <td>2.178255</td>\n",
       "      <td>-0.586216</td>\n",
       "    </tr>\n",
       "    <tr>\n",
       "      <th>2</th>\n",
       "      <td>옥순</td>\n",
       "      <td>광수</td>\n",
       "      <td>0.5</td>\n",
       "      <td>0.560297</td>\n",
       "      <td>0.267892</td>\n",
       "      <td>-1.397888</td>\n",
       "      <td>0.911421</td>\n",
       "      <td>1.655382</td>\n",
       "    </tr>\n",
       "    <tr>\n",
       "      <th>3</th>\n",
       "      <td>옥순</td>\n",
       "      <td>상철</td>\n",
       "      <td>0.3</td>\n",
       "      <td>0.458212</td>\n",
       "      <td>0.267892</td>\n",
       "      <td>-1.397888</td>\n",
       "      <td>0.124914</td>\n",
       "      <td>1.664804</td>\n",
       "    </tr>\n",
       "    <tr>\n",
       "      <th>4</th>\n",
       "      <td>영자</td>\n",
       "      <td>영식</td>\n",
       "      <td>4.5</td>\n",
       "      <td>4.299052</td>\n",
       "      <td>0.234309</td>\n",
       "      <td>-1.664350</td>\n",
       "      <td>0.750719</td>\n",
       "      <td>-0.984057</td>\n",
       "    </tr>\n",
       "    <tr>\n",
       "      <th>5</th>\n",
       "      <td>영자</td>\n",
       "      <td>영호</td>\n",
       "      <td>3.7</td>\n",
       "      <td>3.760194</td>\n",
       "      <td>0.234309</td>\n",
       "      <td>-1.664350</td>\n",
       "      <td>1.862390</td>\n",
       "      <td>-0.404446</td>\n",
       "    </tr>\n",
       "    <tr>\n",
       "      <th>6</th>\n",
       "      <td>영자</td>\n",
       "      <td>광수</td>\n",
       "      <td>0.5</td>\n",
       "      <td>0.364971</td>\n",
       "      <td>0.234309</td>\n",
       "      <td>-1.664350</td>\n",
       "      <td>0.911421</td>\n",
       "      <td>1.655382</td>\n",
       "    </tr>\n",
       "    <tr>\n",
       "      <th>7</th>\n",
       "      <td>영자</td>\n",
       "      <td>영수</td>\n",
       "      <td>0.4</td>\n",
       "      <td>0.346665</td>\n",
       "      <td>0.234309</td>\n",
       "      <td>-1.664350</td>\n",
       "      <td>0.128163</td>\n",
       "      <td>1.578400</td>\n",
       "    </tr>\n",
       "    <tr>\n",
       "      <th>8</th>\n",
       "      <td>정숙</td>\n",
       "      <td>영철</td>\n",
       "      <td>4.9</td>\n",
       "      <td>4.823182</td>\n",
       "      <td>1.307826</td>\n",
       "      <td>-0.780071</td>\n",
       "      <td>2.178255</td>\n",
       "      <td>-0.586216</td>\n",
       "    </tr>\n",
       "    <tr>\n",
       "      <th>9</th>\n",
       "      <td>정숙</td>\n",
       "      <td>영호</td>\n",
       "      <td>4.7</td>\n",
       "      <td>4.699900</td>\n",
       "      <td>1.307826</td>\n",
       "      <td>-0.780071</td>\n",
       "      <td>1.862390</td>\n",
       "      <td>-0.404446</td>\n",
       "    </tr>\n",
       "    <tr>\n",
       "      <th>10</th>\n",
       "      <td>정숙</td>\n",
       "      <td>상철</td>\n",
       "      <td>1.2</td>\n",
       "      <td>1.215922</td>\n",
       "      <td>1.307826</td>\n",
       "      <td>-0.780071</td>\n",
       "      <td>0.124914</td>\n",
       "      <td>1.664804</td>\n",
       "    </tr>\n",
       "    <tr>\n",
       "      <th>11</th>\n",
       "      <td>정숙</td>\n",
       "      <td>영수</td>\n",
       "      <td>1.3</td>\n",
       "      <td>1.283064</td>\n",
       "      <td>1.307826</td>\n",
       "      <td>-0.780071</td>\n",
       "      <td>0.128163</td>\n",
       "      <td>1.578400</td>\n",
       "    </tr>\n",
       "    <tr>\n",
       "      <th>12</th>\n",
       "      <td>영숙</td>\n",
       "      <td>영식</td>\n",
       "      <td>0.6</td>\n",
       "      <td>0.608184</td>\n",
       "      <td>-0.889456</td>\n",
       "      <td>1.330501</td>\n",
       "      <td>0.750719</td>\n",
       "      <td>-0.984057</td>\n",
       "    </tr>\n",
       "    <tr>\n",
       "      <th>13</th>\n",
       "      <td>영숙</td>\n",
       "      <td>영철</td>\n",
       "      <td>0.2</td>\n",
       "      <td>0.309766</td>\n",
       "      <td>-0.889456</td>\n",
       "      <td>1.330501</td>\n",
       "      <td>2.178255</td>\n",
       "      <td>-0.586216</td>\n",
       "    </tr>\n",
       "    <tr>\n",
       "      <th>14</th>\n",
       "      <td>영숙</td>\n",
       "      <td>광수</td>\n",
       "      <td>4.1</td>\n",
       "      <td>4.004413</td>\n",
       "      <td>-0.889456</td>\n",
       "      <td>1.330501</td>\n",
       "      <td>0.911421</td>\n",
       "      <td>1.655382</td>\n",
       "    </tr>\n",
       "    <tr>\n",
       "      <th>15</th>\n",
       "      <td>영숙</td>\n",
       "      <td>상철</td>\n",
       "      <td>4.3</td>\n",
       "      <td>4.456417</td>\n",
       "      <td>-0.889456</td>\n",
       "      <td>1.330501</td>\n",
       "      <td>0.124914</td>\n",
       "      <td>1.664804</td>\n",
       "    </tr>\n",
       "    <tr>\n",
       "      <th>16</th>\n",
       "      <td>순자</td>\n",
       "      <td>영식</td>\n",
       "      <td>0.7</td>\n",
       "      <td>0.770495</td>\n",
       "      <td>-0.355061</td>\n",
       "      <td>1.459525</td>\n",
       "      <td>0.750719</td>\n",
       "      <td>-0.984057</td>\n",
       "    </tr>\n",
       "    <tr>\n",
       "      <th>17</th>\n",
       "      <td>순자</td>\n",
       "      <td>영철</td>\n",
       "      <td>0.9</td>\n",
       "      <td>0.819831</td>\n",
       "      <td>-0.355061</td>\n",
       "      <td>1.459525</td>\n",
       "      <td>2.178255</td>\n",
       "      <td>-0.586216</td>\n",
       "    </tr>\n",
       "    <tr>\n",
       "      <th>18</th>\n",
       "      <td>순자</td>\n",
       "      <td>광수</td>\n",
       "      <td>4.2</td>\n",
       "      <td>4.450842</td>\n",
       "      <td>-0.355061</td>\n",
       "      <td>1.459525</td>\n",
       "      <td>0.911421</td>\n",
       "      <td>1.655382</td>\n",
       "    </tr>\n",
       "    <tr>\n",
       "      <th>19</th>\n",
       "      <td>순자</td>\n",
       "      <td>영수</td>\n",
       "      <td>4.8</td>\n",
       "      <td>4.526781</td>\n",
       "      <td>-0.355061</td>\n",
       "      <td>1.459525</td>\n",
       "      <td>0.128163</td>\n",
       "      <td>1.578400</td>\n",
       "    </tr>\n",
       "    <tr>\n",
       "      <th>20</th>\n",
       "      <td>현숙</td>\n",
       "      <td>영철</td>\n",
       "      <td>0.2</td>\n",
       "      <td>0.191194</td>\n",
       "      <td>-1.320379</td>\n",
       "      <td>0.594991</td>\n",
       "      <td>2.178255</td>\n",
       "      <td>-0.586216</td>\n",
       "    </tr>\n",
       "    <tr>\n",
       "      <th>21</th>\n",
       "      <td>현숙</td>\n",
       "      <td>영호</td>\n",
       "      <td>0.3</td>\n",
       "      <td>0.314954</td>\n",
       "      <td>-1.320379</td>\n",
       "      <td>0.594991</td>\n",
       "      <td>1.862390</td>\n",
       "      <td>-0.404446</td>\n",
       "    </tr>\n",
       "    <tr>\n",
       "      <th>22</th>\n",
       "      <td>현숙</td>\n",
       "      <td>상철</td>\n",
       "      <td>3.5</td>\n",
       "      <td>3.477129</td>\n",
       "      <td>-1.320379</td>\n",
       "      <td>0.594991</td>\n",
       "      <td>0.124914</td>\n",
       "      <td>1.664804</td>\n",
       "    </tr>\n",
       "    <tr>\n",
       "      <th>23</th>\n",
       "      <td>현숙</td>\n",
       "      <td>영수</td>\n",
       "      <td>3.4</td>\n",
       "      <td>3.417507</td>\n",
       "      <td>-1.320379</td>\n",
       "      <td>0.594991</td>\n",
       "      <td>0.128163</td>\n",
       "      <td>1.578400</td>\n",
       "    </tr>\n",
       "  </tbody>\n",
       "</table>\n",
       "</div>"
      ],
      "text/plain": [
       "     W   M    y      yhat   여성잠재특징1   여성잠재특징2   남성잠재특징1   남성잠재특징2\n",
       "0   옥순  영식  3.9  4.143693  0.267892 -1.397888  0.750719 -0.984057\n",
       "1   옥순  영철  4.1  4.013299  0.267892 -1.397888  2.178255 -0.586216\n",
       "2   옥순  광수  0.5  0.560297  0.267892 -1.397888  0.911421  1.655382\n",
       "3   옥순  상철  0.3  0.458212  0.267892 -1.397888  0.124914  1.664804\n",
       "4   영자  영식  4.5  4.299052  0.234309 -1.664350  0.750719 -0.984057\n",
       "5   영자  영호  3.7  3.760194  0.234309 -1.664350  1.862390 -0.404446\n",
       "6   영자  광수  0.5  0.364971  0.234309 -1.664350  0.911421  1.655382\n",
       "7   영자  영수  0.4  0.346665  0.234309 -1.664350  0.128163  1.578400\n",
       "8   정숙  영철  4.9  4.823182  1.307826 -0.780071  2.178255 -0.586216\n",
       "9   정숙  영호  4.7  4.699900  1.307826 -0.780071  1.862390 -0.404446\n",
       "10  정숙  상철  1.2  1.215922  1.307826 -0.780071  0.124914  1.664804\n",
       "11  정숙  영수  1.3  1.283064  1.307826 -0.780071  0.128163  1.578400\n",
       "12  영숙  영식  0.6  0.608184 -0.889456  1.330501  0.750719 -0.984057\n",
       "13  영숙  영철  0.2  0.309766 -0.889456  1.330501  2.178255 -0.586216\n",
       "14  영숙  광수  4.1  4.004413 -0.889456  1.330501  0.911421  1.655382\n",
       "15  영숙  상철  4.3  4.456417 -0.889456  1.330501  0.124914  1.664804\n",
       "16  순자  영식  0.7  0.770495 -0.355061  1.459525  0.750719 -0.984057\n",
       "17  순자  영철  0.9  0.819831 -0.355061  1.459525  2.178255 -0.586216\n",
       "18  순자  광수  4.2  4.450842 -0.355061  1.459525  0.911421  1.655382\n",
       "19  순자  영수  4.8  4.526781 -0.355061  1.459525  0.128163  1.578400\n",
       "20  현숙  영철  0.2  0.191194 -1.320379  0.594991  2.178255 -0.586216\n",
       "21  현숙  영호  0.3  0.314954 -1.320379  0.594991  1.862390 -0.404446\n",
       "22  현숙  상철  3.5  3.477129 -1.320379  0.594991  0.124914  1.664804\n",
       "23  현숙  영수  3.4  3.417507 -1.320379  0.594991  0.128163  1.578400"
      ]
     },
     "execution_count": 698,
     "metadata": {},
     "output_type": "execute_result"
    }
   ],
   "source": [
    "pd.concat([df,df_yhat,df_ebdspace],axis=1)"
   ]
  },
  {
   "cell_type": "markdown",
   "id": "b008dd6d-6504-40aa-a149-5b146906ad19",
   "metadata": {},
   "source": [
    "- 적합결과 양호함 \n",
    "- 해석도 나쁘지 않음. \n",
    "- 현숙과 정숙의 특징이 두드러지지 않음은 살짝 아쉬움"
   ]
  },
  {
   "cell_type": "markdown",
   "id": "35cd8494-0141-46c8-8920-89d72b05574c",
   "metadata": {},
   "source": [
    "## F. 예측? "
   ]
  },
  {
   "cell_type": "markdown",
   "id": "94246b4f-2f66-487b-9125-99717861d5b8",
   "metadata": {},
   "source": [
    "`-` \"(정숙,영식)\" 은 잘 맞을까? --> 그렇지 않을까?"
   ]
  },
  {
   "cell_type": "code",
   "execution_count": 755,
   "id": "6a57e363-b6fc-4945-8920-635633088dff",
   "metadata": {
    "tags": []
   },
   "outputs": [
    {
     "data": {
      "text/html": [
       "<div>\n",
       "<style scoped>\n",
       "    .dataframe tbody tr th:only-of-type {\n",
       "        vertical-align: middle;\n",
       "    }\n",
       "\n",
       "    .dataframe tbody tr th {\n",
       "        vertical-align: top;\n",
       "    }\n",
       "\n",
       "    .dataframe thead th {\n",
       "        text-align: right;\n",
       "    }\n",
       "</style>\n",
       "<table border=\"1\" class=\"dataframe\">\n",
       "  <thead>\n",
       "    <tr style=\"text-align: right;\">\n",
       "      <th></th>\n",
       "      <th>영식</th>\n",
       "      <th>영철</th>\n",
       "      <th>영호</th>\n",
       "      <th>광수</th>\n",
       "      <th>상철</th>\n",
       "      <th>영수</th>\n",
       "    </tr>\n",
       "  </thead>\n",
       "  <tbody>\n",
       "    <tr>\n",
       "      <th>옥순</th>\n",
       "      <td>3.9</td>\n",
       "      <td>4.1</td>\n",
       "      <td>NaN</td>\n",
       "      <td>0.5</td>\n",
       "      <td>0.3</td>\n",
       "      <td>NaN</td>\n",
       "    </tr>\n",
       "    <tr>\n",
       "      <th>영자</th>\n",
       "      <td>4.5</td>\n",
       "      <td>NaN</td>\n",
       "      <td>3.7</td>\n",
       "      <td>0.5</td>\n",
       "      <td>NaN</td>\n",
       "      <td>0.4</td>\n",
       "    </tr>\n",
       "    <tr>\n",
       "      <th>정숙</th>\n",
       "      <td>NaN</td>\n",
       "      <td>4.9</td>\n",
       "      <td>4.7</td>\n",
       "      <td>NaN</td>\n",
       "      <td>1.2</td>\n",
       "      <td>1.3</td>\n",
       "    </tr>\n",
       "    <tr>\n",
       "      <th>영숙</th>\n",
       "      <td>0.6</td>\n",
       "      <td>0.2</td>\n",
       "      <td>NaN</td>\n",
       "      <td>4.1</td>\n",
       "      <td>4.3</td>\n",
       "      <td>NaN</td>\n",
       "    </tr>\n",
       "    <tr>\n",
       "      <th>순자</th>\n",
       "      <td>0.7</td>\n",
       "      <td>0.9</td>\n",
       "      <td>NaN</td>\n",
       "      <td>4.2</td>\n",
       "      <td>NaN</td>\n",
       "      <td>4.8</td>\n",
       "    </tr>\n",
       "    <tr>\n",
       "      <th>현숙</th>\n",
       "      <td>NaN</td>\n",
       "      <td>0.2</td>\n",
       "      <td>0.3</td>\n",
       "      <td>NaN</td>\n",
       "      <td>3.5</td>\n",
       "      <td>3.4</td>\n",
       "    </tr>\n",
       "  </tbody>\n",
       "</table>\n",
       "</div>"
      ],
      "text/plain": [
       "     영식   영철   영호   광수   상철   영수\n",
       "옥순  3.9  4.1  NaN  0.5  0.3  NaN\n",
       "영자  4.5  NaN  3.7  0.5  NaN  0.4\n",
       "정숙  NaN  4.9  4.7  NaN  1.2  1.3\n",
       "영숙  0.6  0.2  NaN  4.1  4.3  NaN\n",
       "순자  0.7  0.9  NaN  4.2  NaN  4.8\n",
       "현숙  NaN  0.2  0.3  NaN  3.5  3.4"
      ]
     },
     "execution_count": 755,
     "metadata": {},
     "output_type": "execute_result"
    }
   ],
   "source": [
    "df_view"
   ]
  },
  {
   "cell_type": "code",
   "execution_count": 786,
   "id": "8bb8dcf2-17c0-4b7f-965b-990f56e88c66",
   "metadata": {
    "tags": []
   },
   "outputs": [],
   "source": [
    "js_onehot = torch.tensor([[0., 0., 1., 0., 0., 0.]])\n",
    "ys_onehot = torch.tensor([[1., 0., 0., 0., 0., 0.]])"
   ]
  },
  {
   "cell_type": "code",
   "execution_count": 787,
   "id": "a7a926e5-a5ec-4597-a809-246655cfd589",
   "metadata": {
    "tags": []
   },
   "outputs": [
    {
     "data": {
      "text/plain": [
       "tensor([4.4583], grad_fn=<MulBackward0>)"
      ]
     },
     "execution_count": 787,
     "metadata": {},
     "output_type": "execute_result"
    }
   ],
   "source": [
    "score = (l1(js_onehot) * l2(ys_onehot)).sum(axis=1)\n",
    "sig(score)*5 "
   ]
  },
  {
   "cell_type": "markdown",
   "id": "9bb47d11-5717-4d8d-bdb0-1ed06c939b4d",
   "metadata": {},
   "source": [
    "`-` \"(현숙,영식)\"은 잘 맞을까? --> 아닐껄?"
   ]
  },
  {
   "cell_type": "code",
   "execution_count": 788,
   "id": "ce695bc4-8ccc-4b5a-843e-4692e0bd3213",
   "metadata": {
    "tags": []
   },
   "outputs": [],
   "source": [
    "hs_onehot = torch.tensor([[0., 0., 0., 0., 0., 1.]])\n",
    "ys_onehot = torch.tensor([[1., 0., 0., 0., 0., 0.]])"
   ]
  },
  {
   "cell_type": "code",
   "execution_count": 785,
   "id": "1caf80aa-b44b-4669-8a1a-861a07d7ce85",
   "metadata": {
    "tags": []
   },
   "outputs": [
    {
     "data": {
      "text/plain": [
       "tensor([0.8801], grad_fn=<MulBackward0>)"
      ]
     },
     "execution_count": 785,
     "metadata": {},
     "output_type": "execute_result"
    }
   ],
   "source": [
    "score = (l1(hs_onehot) * l2(ys_onehot)).sum(axis=1)\n",
    "sig(score)*5 "
   ]
  },
  {
   "cell_type": "markdown",
   "id": "dec8fdf0-bad8-4d70-bb0e-65040f02f3ea",
   "metadata": {},
   "source": [
    "# 5. 나는 SOLO -- 더 좋은구현 (bias를 고려)"
   ]
  },
  {
   "cell_type": "code",
   "execution_count": 888,
   "id": "34694bd1-fc74-4927-806c-23fdc931cb7b",
   "metadata": {
    "tags": []
   },
   "outputs": [],
   "source": [
    "df_view = pd.read_csv('https://raw.githubusercontent.com/guebin/DL2024/main/posts/solo.csv',index_col=0)\n",
    "df = df_view.stack().reset_index().set_axis(['W','M','y'],axis=1)\n",
    "w = {'옥순':0, '영자':1, '정숙':2, '영숙':3, '순자':4, '현숙':5}\n",
    "m = {'영식':0, '영철':1, '영호':2, '광수':3, '상철':4, '영수':5}\n",
    "X1 = torch.tensor(df['W'].map(w)) # length-n vector \n",
    "X2 = torch.tensor(df['M'].map(m)) # length-n vector \n",
    "E1 = torch.nn.functional.one_hot(X1).float()\n",
    "E2 = torch.nn.functional.one_hot(X2).float()\n",
    "y = torch.tensor(df['y']).float().reshape(-1,1)\n",
    "#--#\n",
    "#torch.manual_seed(43052)\n",
    "l1 = torch.nn.Linear(in_features=6,out_features=2)\n",
    "b1 = torch.nn.Linear(in_features=6,out_features=1)\n",
    "l2 = torch.nn.Linear(in_features=6,out_features=2)\n",
    "b2 = torch.nn.Linear(in_features=6,out_features=1)\n",
    "sig = torch.nn.Sigmoid()\n",
    "loss_fn = torch.nn.MSELoss()\n",
    "optimizr = torch.optim.Adam(\n",
    "    list(l1.parameters())+list(l2.parameters())+list(b1.parameters())+list(b2.parameters()),\n",
    "    lr = 0.01\n",
    ")\n",
    "#--#\n",
    "for epoc in range(300):\n",
    "    ## step1 \n",
    "    W_features = l1(E1) \n",
    "    W_bias = b1(E1)\n",
    "    M_features = l2(E2) \n",
    "    M_bias = b2(E2)\n",
    "    dot = (W_features * M_features + W_bias + M_bias).sum(axis=1)\n",
    "    yhat = (sig(dot)*5).reshape(-1,1)\n",
    "    ## step2 \n",
    "    loss = loss_fn(yhat,y)\n",
    "    ## step3 \n",
    "    loss.backward()\n",
    "    ## step4 \n",
    "    optimizr.step()\n",
    "    optimizr.zero_grad()"
   ]
  },
  {
   "cell_type": "code",
   "execution_count": 889,
   "id": "de49800a-7972-4d6c-ad0a-ccd5e19ce680",
   "metadata": {
    "tags": []
   },
   "outputs": [
    {
     "data": {
      "text/html": [
       "<div>\n",
       "<style scoped>\n",
       "    .dataframe tbody tr th:only-of-type {\n",
       "        vertical-align: middle;\n",
       "    }\n",
       "\n",
       "    .dataframe tbody tr th {\n",
       "        vertical-align: top;\n",
       "    }\n",
       "\n",
       "    .dataframe thead th {\n",
       "        text-align: right;\n",
       "    }\n",
       "</style>\n",
       "<table border=\"1\" class=\"dataframe\">\n",
       "  <thead>\n",
       "    <tr style=\"text-align: right;\">\n",
       "      <th></th>\n",
       "      <th>W</th>\n",
       "      <th>M</th>\n",
       "      <th>y</th>\n",
       "      <th>yhat</th>\n",
       "      <th>여성잠재특징1</th>\n",
       "      <th>여성잠재특징2</th>\n",
       "      <th>여성바이어스</th>\n",
       "      <th>남성잠재특징1</th>\n",
       "      <th>남성잠재특징2</th>\n",
       "      <th>남성바이어스</th>\n",
       "    </tr>\n",
       "  </thead>\n",
       "  <tbody>\n",
       "    <tr>\n",
       "      <th>0</th>\n",
       "      <td>옥순</td>\n",
       "      <td>영식</td>\n",
       "      <td>3.9</td>\n",
       "      <td>3.902262</td>\n",
       "      <td>1.150323</td>\n",
       "      <td>-0.848394</td>\n",
       "      <td>-0.496339</td>\n",
       "      <td>1.318488</td>\n",
       "      <td>-1.293640</td>\n",
       "      <td>-0.176610</td>\n",
       "    </tr>\n",
       "    <tr>\n",
       "      <th>1</th>\n",
       "      <td>옥순</td>\n",
       "      <td>영철</td>\n",
       "      <td>4.1</td>\n",
       "      <td>4.107803</td>\n",
       "      <td>1.150323</td>\n",
       "      <td>-0.848394</td>\n",
       "      <td>-0.496339</td>\n",
       "      <td>1.523986</td>\n",
       "      <td>-1.229724</td>\n",
       "      <td>-0.138366</td>\n",
       "    </tr>\n",
       "    <tr>\n",
       "      <th>2</th>\n",
       "      <td>옥순</td>\n",
       "      <td>광수</td>\n",
       "      <td>0.5</td>\n",
       "      <td>0.431532</td>\n",
       "      <td>1.150323</td>\n",
       "      <td>-0.848394</td>\n",
       "      <td>-0.496339</td>\n",
       "      <td>-0.591996</td>\n",
       "      <td>0.578395</td>\n",
       "      <td>-0.097610</td>\n",
       "    </tr>\n",
       "    <tr>\n",
       "      <th>3</th>\n",
       "      <td>옥순</td>\n",
       "      <td>상철</td>\n",
       "      <td>0.3</td>\n",
       "      <td>0.390020</td>\n",
       "      <td>1.150323</td>\n",
       "      <td>-0.848394</td>\n",
       "      <td>-0.496339</td>\n",
       "      <td>-0.470655</td>\n",
       "      <td>1.066773</td>\n",
       "      <td>-0.015326</td>\n",
       "    </tr>\n",
       "    <tr>\n",
       "      <th>4</th>\n",
       "      <td>영자</td>\n",
       "      <td>영식</td>\n",
       "      <td>4.5</td>\n",
       "      <td>4.479515</td>\n",
       "      <td>0.949775</td>\n",
       "      <td>-1.407698</td>\n",
       "      <td>-0.283796</td>\n",
       "      <td>1.318488</td>\n",
       "      <td>-1.293640</td>\n",
       "      <td>-0.176610</td>\n",
       "    </tr>\n",
       "    <tr>\n",
       "      <th>5</th>\n",
       "      <td>영자</td>\n",
       "      <td>영호</td>\n",
       "      <td>3.7</td>\n",
       "      <td>3.713844</td>\n",
       "      <td>0.949775</td>\n",
       "      <td>-1.407698</td>\n",
       "      <td>-0.283796</td>\n",
       "      <td>1.641036</td>\n",
       "      <td>-0.312901</td>\n",
       "      <td>-0.185542</td>\n",
       "    </tr>\n",
       "    <tr>\n",
       "      <th>6</th>\n",
       "      <td>영자</td>\n",
       "      <td>광수</td>\n",
       "      <td>0.5</td>\n",
       "      <td>0.526686</td>\n",
       "      <td>0.949775</td>\n",
       "      <td>-1.407698</td>\n",
       "      <td>-0.283796</td>\n",
       "      <td>-0.591996</td>\n",
       "      <td>0.578395</td>\n",
       "      <td>-0.097610</td>\n",
       "    </tr>\n",
       "    <tr>\n",
       "      <th>7</th>\n",
       "      <td>영자</td>\n",
       "      <td>영수</td>\n",
       "      <td>0.4</td>\n",
       "      <td>0.393854</td>\n",
       "      <td>0.949775</td>\n",
       "      <td>-1.407698</td>\n",
       "      <td>-0.283796</td>\n",
       "      <td>-0.373863</td>\n",
       "      <td>1.118129</td>\n",
       "      <td>0.018750</td>\n",
       "    </tr>\n",
       "    <tr>\n",
       "      <th>8</th>\n",
       "      <td>정숙</td>\n",
       "      <td>영철</td>\n",
       "      <td>4.9</td>\n",
       "      <td>4.844718</td>\n",
       "      <td>1.312412</td>\n",
       "      <td>-0.978038</td>\n",
       "      <td>0.257162</td>\n",
       "      <td>1.523986</td>\n",
       "      <td>-1.229724</td>\n",
       "      <td>-0.138366</td>\n",
       "    </tr>\n",
       "    <tr>\n",
       "      <th>9</th>\n",
       "      <td>정숙</td>\n",
       "      <td>영호</td>\n",
       "      <td>4.7</td>\n",
       "      <td>4.655267</td>\n",
       "      <td>1.312412</td>\n",
       "      <td>-0.978038</td>\n",
       "      <td>0.257162</td>\n",
       "      <td>1.641036</td>\n",
       "      <td>-0.312901</td>\n",
       "      <td>-0.185542</td>\n",
       "    </tr>\n",
       "    <tr>\n",
       "      <th>10</th>\n",
       "      <td>정숙</td>\n",
       "      <td>상철</td>\n",
       "      <td>1.2</td>\n",
       "      <td>1.177629</td>\n",
       "      <td>1.312412</td>\n",
       "      <td>-0.978038</td>\n",
       "      <td>0.257162</td>\n",
       "      <td>-0.470655</td>\n",
       "      <td>1.066773</td>\n",
       "      <td>-0.015326</td>\n",
       "    </tr>\n",
       "    <tr>\n",
       "      <th>11</th>\n",
       "      <td>정숙</td>\n",
       "      <td>영수</td>\n",
       "      <td>1.3</td>\n",
       "      <td>1.313084</td>\n",
       "      <td>1.312412</td>\n",
       "      <td>-0.978038</td>\n",
       "      <td>0.257162</td>\n",
       "      <td>-0.373863</td>\n",
       "      <td>1.118129</td>\n",
       "      <td>0.018750</td>\n",
       "    </tr>\n",
       "    <tr>\n",
       "      <th>12</th>\n",
       "      <td>영숙</td>\n",
       "      <td>영식</td>\n",
       "      <td>0.6</td>\n",
       "      <td>0.419253</td>\n",
       "      <td>-0.875508</td>\n",
       "      <td>1.054203</td>\n",
       "      <td>0.240091</td>\n",
       "      <td>1.318488</td>\n",
       "      <td>-1.293640</td>\n",
       "      <td>-0.176610</td>\n",
       "    </tr>\n",
       "    <tr>\n",
       "      <th>13</th>\n",
       "      <td>영숙</td>\n",
       "      <td>영철</td>\n",
       "      <td>0.2</td>\n",
       "      <td>0.405613</td>\n",
       "      <td>-0.875508</td>\n",
       "      <td>1.054203</td>\n",
       "      <td>0.240091</td>\n",
       "      <td>1.523986</td>\n",
       "      <td>-1.229724</td>\n",
       "      <td>-0.138366</td>\n",
       "    </tr>\n",
       "    <tr>\n",
       "      <th>14</th>\n",
       "      <td>영숙</td>\n",
       "      <td>광수</td>\n",
       "      <td>4.1</td>\n",
       "      <td>4.021197</td>\n",
       "      <td>-0.875508</td>\n",
       "      <td>1.054203</td>\n",
       "      <td>0.240091</td>\n",
       "      <td>-0.591996</td>\n",
       "      <td>0.578395</td>\n",
       "      <td>-0.097610</td>\n",
       "    </tr>\n",
       "    <tr>\n",
       "      <th>15</th>\n",
       "      <td>영숙</td>\n",
       "      <td>상철</td>\n",
       "      <td>4.3</td>\n",
       "      <td>4.396695</td>\n",
       "      <td>-0.875508</td>\n",
       "      <td>1.054203</td>\n",
       "      <td>0.240091</td>\n",
       "      <td>-0.470655</td>\n",
       "      <td>1.066773</td>\n",
       "      <td>-0.015326</td>\n",
       "    </tr>\n",
       "    <tr>\n",
       "      <th>16</th>\n",
       "      <td>순자</td>\n",
       "      <td>영식</td>\n",
       "      <td>0.7</td>\n",
       "      <td>0.810930</td>\n",
       "      <td>-0.817106</td>\n",
       "      <td>0.952372</td>\n",
       "      <td>0.510269</td>\n",
       "      <td>1.318488</td>\n",
       "      <td>-1.293640</td>\n",
       "      <td>-0.176610</td>\n",
       "    </tr>\n",
       "    <tr>\n",
       "      <th>17</th>\n",
       "      <td>순자</td>\n",
       "      <td>영철</td>\n",
       "      <td>0.9</td>\n",
       "      <td>0.790385</td>\n",
       "      <td>-0.817106</td>\n",
       "      <td>0.952372</td>\n",
       "      <td>0.510269</td>\n",
       "      <td>1.523986</td>\n",
       "      <td>-1.229724</td>\n",
       "      <td>-0.138366</td>\n",
       "    </tr>\n",
       "    <tr>\n",
       "      <th>18</th>\n",
       "      <td>순자</td>\n",
       "      <td>광수</td>\n",
       "      <td>4.2</td>\n",
       "      <td>4.326420</td>\n",
       "      <td>-0.817106</td>\n",
       "      <td>0.952372</td>\n",
       "      <td>0.510269</td>\n",
       "      <td>-0.591996</td>\n",
       "      <td>0.578395</td>\n",
       "      <td>-0.097610</td>\n",
       "    </tr>\n",
       "    <tr>\n",
       "      <th>19</th>\n",
       "      <td>순자</td>\n",
       "      <td>영수</td>\n",
       "      <td>4.8</td>\n",
       "      <td>4.594836</td>\n",
       "      <td>-0.817106</td>\n",
       "      <td>0.952372</td>\n",
       "      <td>0.510269</td>\n",
       "      <td>-0.373863</td>\n",
       "      <td>1.118129</td>\n",
       "      <td>0.018750</td>\n",
       "    </tr>\n",
       "    <tr>\n",
       "      <th>20</th>\n",
       "      <td>현숙</td>\n",
       "      <td>영철</td>\n",
       "      <td>0.2</td>\n",
       "      <td>0.178595</td>\n",
       "      <td>-0.944170</td>\n",
       "      <td>0.852314</td>\n",
       "      <td>-0.265977</td>\n",
       "      <td>1.523986</td>\n",
       "      <td>-1.229724</td>\n",
       "      <td>-0.138366</td>\n",
       "    </tr>\n",
       "    <tr>\n",
       "      <th>21</th>\n",
       "      <td>현숙</td>\n",
       "      <td>영호</td>\n",
       "      <td>0.3</td>\n",
       "      <td>0.309265</td>\n",
       "      <td>-0.944170</td>\n",
       "      <td>0.852314</td>\n",
       "      <td>-0.265977</td>\n",
       "      <td>1.641036</td>\n",
       "      <td>-0.312901</td>\n",
       "      <td>-0.185542</td>\n",
       "    </tr>\n",
       "    <tr>\n",
       "      <th>22</th>\n",
       "      <td>현숙</td>\n",
       "      <td>상철</td>\n",
       "      <td>3.5</td>\n",
       "      <td>3.440227</td>\n",
       "      <td>-0.944170</td>\n",
       "      <td>0.852314</td>\n",
       "      <td>-0.265977</td>\n",
       "      <td>-0.470655</td>\n",
       "      <td>1.066773</td>\n",
       "      <td>-0.015326</td>\n",
       "    </tr>\n",
       "    <tr>\n",
       "      <th>23</th>\n",
       "      <td>현숙</td>\n",
       "      <td>영수</td>\n",
       "      <td>3.4</td>\n",
       "      <td>3.462181</td>\n",
       "      <td>-0.944170</td>\n",
       "      <td>0.852314</td>\n",
       "      <td>-0.265977</td>\n",
       "      <td>-0.373863</td>\n",
       "      <td>1.118129</td>\n",
       "      <td>0.018750</td>\n",
       "    </tr>\n",
       "  </tbody>\n",
       "</table>\n",
       "</div>"
      ],
      "text/plain": [
       "     W   M    y      yhat   여성잠재특징1   여성잠재특징2    여성바이어스   남성잠재특징1   남성잠재특징2  \\\n",
       "0   옥순  영식  3.9  3.902262  1.150323 -0.848394 -0.496339  1.318488 -1.293640   \n",
       "1   옥순  영철  4.1  4.107803  1.150323 -0.848394 -0.496339  1.523986 -1.229724   \n",
       "2   옥순  광수  0.5  0.431532  1.150323 -0.848394 -0.496339 -0.591996  0.578395   \n",
       "3   옥순  상철  0.3  0.390020  1.150323 -0.848394 -0.496339 -0.470655  1.066773   \n",
       "4   영자  영식  4.5  4.479515  0.949775 -1.407698 -0.283796  1.318488 -1.293640   \n",
       "5   영자  영호  3.7  3.713844  0.949775 -1.407698 -0.283796  1.641036 -0.312901   \n",
       "6   영자  광수  0.5  0.526686  0.949775 -1.407698 -0.283796 -0.591996  0.578395   \n",
       "7   영자  영수  0.4  0.393854  0.949775 -1.407698 -0.283796 -0.373863  1.118129   \n",
       "8   정숙  영철  4.9  4.844718  1.312412 -0.978038  0.257162  1.523986 -1.229724   \n",
       "9   정숙  영호  4.7  4.655267  1.312412 -0.978038  0.257162  1.641036 -0.312901   \n",
       "10  정숙  상철  1.2  1.177629  1.312412 -0.978038  0.257162 -0.470655  1.066773   \n",
       "11  정숙  영수  1.3  1.313084  1.312412 -0.978038  0.257162 -0.373863  1.118129   \n",
       "12  영숙  영식  0.6  0.419253 -0.875508  1.054203  0.240091  1.318488 -1.293640   \n",
       "13  영숙  영철  0.2  0.405613 -0.875508  1.054203  0.240091  1.523986 -1.229724   \n",
       "14  영숙  광수  4.1  4.021197 -0.875508  1.054203  0.240091 -0.591996  0.578395   \n",
       "15  영숙  상철  4.3  4.396695 -0.875508  1.054203  0.240091 -0.470655  1.066773   \n",
       "16  순자  영식  0.7  0.810930 -0.817106  0.952372  0.510269  1.318488 -1.293640   \n",
       "17  순자  영철  0.9  0.790385 -0.817106  0.952372  0.510269  1.523986 -1.229724   \n",
       "18  순자  광수  4.2  4.326420 -0.817106  0.952372  0.510269 -0.591996  0.578395   \n",
       "19  순자  영수  4.8  4.594836 -0.817106  0.952372  0.510269 -0.373863  1.118129   \n",
       "20  현숙  영철  0.2  0.178595 -0.944170  0.852314 -0.265977  1.523986 -1.229724   \n",
       "21  현숙  영호  0.3  0.309265 -0.944170  0.852314 -0.265977  1.641036 -0.312901   \n",
       "22  현숙  상철  3.5  3.440227 -0.944170  0.852314 -0.265977 -0.470655  1.066773   \n",
       "23  현숙  영수  3.4  3.462181 -0.944170  0.852314 -0.265977 -0.373863  1.118129   \n",
       "\n",
       "      남성바이어스  \n",
       "0  -0.176610  \n",
       "1  -0.138366  \n",
       "2  -0.097610  \n",
       "3  -0.015326  \n",
       "4  -0.176610  \n",
       "5  -0.185542  \n",
       "6  -0.097610  \n",
       "7   0.018750  \n",
       "8  -0.138366  \n",
       "9  -0.185542  \n",
       "10 -0.015326  \n",
       "11  0.018750  \n",
       "12 -0.176610  \n",
       "13 -0.138366  \n",
       "14 -0.097610  \n",
       "15 -0.015326  \n",
       "16 -0.176610  \n",
       "17 -0.138366  \n",
       "18 -0.097610  \n",
       "19  0.018750  \n",
       "20 -0.138366  \n",
       "21 -0.185542  \n",
       "22 -0.015326  \n",
       "23  0.018750  "
      ]
     },
     "execution_count": 889,
     "metadata": {},
     "output_type": "execute_result"
    }
   ],
   "source": [
    "df_ebdspace = pd.DataFrame(torch.concat([W_features.data,W_bias.data, M_features.data, M_bias.data],axis=1))\n",
    "df_ebdspace.columns = ['여성잠재특징1','여성잠재특징2','여성바이어스','남성잠재특징1','남성잠재특징2','남성바이어스']\n",
    "df_yhat = pd.DataFrame(yhat.data,columns=['yhat'])\n",
    "pd.concat([df,df_yhat,df_ebdspace],axis=1)"
   ]
  },
  {
   "cell_type": "markdown",
   "id": "6302eca8-bfa5-45ea-bd18-111716861f32",
   "metadata": {},
   "source": [
    "`-` 예측: bias가 좀 더 반영된 느낌 "
   ]
  },
  {
   "cell_type": "code",
   "execution_count": 795,
   "id": "8609c8fb-615a-4a75-84eb-f3c1d31915d3",
   "metadata": {
    "tags": []
   },
   "outputs": [
    {
     "data": {
      "text/plain": [
       "tensor([4.8571], grad_fn=<MulBackward0>)"
      ]
     },
     "execution_count": 795,
     "metadata": {},
     "output_type": "execute_result"
    }
   ],
   "source": [
    "# js_onehot = torch.tensor([[0., 0., 1., 0., 0., 0.]])\n",
    "# ys_onehot = torch.tensor([[1., 0., 0., 0., 0., 0.]])\n",
    "score = (l1(js_onehot) * l2(ys_onehot) + b1(js_onehot) + b2(ys_onehot)).sum(axis=1) \n",
    "sig(score)*5 "
   ]
  },
  {
   "cell_type": "code",
   "execution_count": 796,
   "id": "3d38331e-8e93-4293-997d-b49694581d41",
   "metadata": {
    "tags": []
   },
   "outputs": [
    {
     "data": {
      "text/plain": [
       "tensor([0.4444], grad_fn=<MulBackward0>)"
      ]
     },
     "execution_count": 796,
     "metadata": {},
     "output_type": "execute_result"
    }
   ],
   "source": [
    "# hs_onehot = torch.tensor([[0., 0., 0., 0., 0., 1.]])\n",
    "# ys_onehot = torch.tensor([[1., 0., 0., 0., 0., 0.]])\n",
    "score = (l1(hs_onehot) * l2(ys_onehot) + b1(hs_onehot) + b2(ys_onehot)).sum(axis=1) \n",
    "sig(score)*5 "
   ]
  },
  {
   "cell_type": "markdown",
   "id": "4a1741a2-329d-4c9d-9053-5663ff2e81a6",
   "metadata": {},
   "source": [
    "# 6. 나는 SOLO -- 5의 다른구현 (torch)"
   ]
  },
  {
   "cell_type": "markdown",
   "id": "17297d4f-618c-4097-a0f4-cf385da54dab",
   "metadata": {
    "tags": []
   },
   "source": [
    "## A. 임베딩레이어 이용 "
   ]
  },
  {
   "cell_type": "code",
   "execution_count": 873,
   "id": "0174ce78-66cc-4c6e-b674-ea45afb698c4",
   "metadata": {
    "tags": []
   },
   "outputs": [],
   "source": [
    "df_view = pd.read_csv('https://raw.githubusercontent.com/guebin/DL2024/main/posts/solo.csv',index_col=0)\n",
    "df = df_view.stack().reset_index().set_axis(['W','M','y'],axis=1)\n",
    "w = {'옥순':0, '영자':1, '정숙':2, '영숙':3, '순자':4, '현숙':5}\n",
    "m = {'영식':0, '영철':1, '영호':2, '광수':3, '상철':4, '영수':5}\n",
    "X1 = torch.tensor(df['W'].map(w)) # length-n vector \n",
    "X2 = torch.tensor(df['M'].map(m)) # length-n vector \n",
    "# E1 = torch.nn.functional.one_hot(X1).float()\n",
    "# E2 = torch.nn.functional.one_hot(X2).float()\n",
    "y = torch.tensor(df['y']).float().reshape(-1,1)"
   ]
  },
  {
   "cell_type": "code",
   "execution_count": 876,
   "id": "819a34d0-7304-42ef-b031-71efc38403e2",
   "metadata": {
    "tags": []
   },
   "outputs": [],
   "source": [
    "#--#\n",
    "#torch.manual_seed(43052)\n",
    "e1 = torch.nn.Embedding(num_embeddings=6,embedding_dim=2)\n",
    "b1 = torch.nn.Embedding(num_embeddings=6,embedding_dim=1)\n",
    "e2 = torch.nn.Embedding(num_embeddings=6,embedding_dim=2)\n",
    "b2 = torch.nn.Embedding(num_embeddings=6,embedding_dim=1)\n",
    "sig = torch.nn.Sigmoid()\n",
    "loss_fn = torch.nn.MSELoss()\n",
    "optimizr = torch.optim.Adam(\n",
    "    list(e1.parameters())+list(e2.parameters())+list(b1.parameters())+list(b2.parameters()),\n",
    "    lr = 0.01\n",
    ")\n",
    "#--#\n",
    "for epoc in range(300):\n",
    "    ## step1 \n",
    "    W_features = e1(X1) \n",
    "    W_bias = b1(X1)\n",
    "    M_features = e2(X2) \n",
    "    M_bias = b2(X2)\n",
    "    dot = (W_features * M_features + W_bias + M_bias).sum(axis=1)\n",
    "    yhat = (sig(dot)*5).reshape(-1,1)\n",
    "    ## step2 \n",
    "    loss = loss_fn(yhat,y)\n",
    "    ## step3 \n",
    "    loss.backward()\n",
    "    ## step4 \n",
    "    optimizr.step()\n",
    "    optimizr.zero_grad()"
   ]
  },
  {
   "cell_type": "code",
   "execution_count": 877,
   "id": "a4432f80-0518-43e9-91b1-32127c55b719",
   "metadata": {
    "tags": []
   },
   "outputs": [
    {
     "data": {
      "text/html": [
       "<div>\n",
       "<style scoped>\n",
       "    .dataframe tbody tr th:only-of-type {\n",
       "        vertical-align: middle;\n",
       "    }\n",
       "\n",
       "    .dataframe tbody tr th {\n",
       "        vertical-align: top;\n",
       "    }\n",
       "\n",
       "    .dataframe thead th {\n",
       "        text-align: right;\n",
       "    }\n",
       "</style>\n",
       "<table border=\"1\" class=\"dataframe\">\n",
       "  <thead>\n",
       "    <tr style=\"text-align: right;\">\n",
       "      <th></th>\n",
       "      <th>W</th>\n",
       "      <th>M</th>\n",
       "      <th>y</th>\n",
       "      <th>yhat</th>\n",
       "      <th>여성잠재특징1</th>\n",
       "      <th>여성잠재특징2</th>\n",
       "      <th>여성바이어스</th>\n",
       "      <th>남성잠재특징1</th>\n",
       "      <th>남성잠재특징2</th>\n",
       "      <th>남성바이어스</th>\n",
       "    </tr>\n",
       "  </thead>\n",
       "  <tbody>\n",
       "    <tr>\n",
       "      <th>0</th>\n",
       "      <td>옥순</td>\n",
       "      <td>영식</td>\n",
       "      <td>3.9</td>\n",
       "      <td>3.886504</td>\n",
       "      <td>0.107161</td>\n",
       "      <td>-0.511349</td>\n",
       "      <td>-0.643985</td>\n",
       "      <td>-0.402219</td>\n",
       "      <td>-1.714856</td>\n",
       "      <td>0.852094</td>\n",
       "    </tr>\n",
       "    <tr>\n",
       "      <th>1</th>\n",
       "      <td>옥순</td>\n",
       "      <td>영철</td>\n",
       "      <td>4.1</td>\n",
       "      <td>4.112225</td>\n",
       "      <td>0.107161</td>\n",
       "      <td>-0.511349</td>\n",
       "      <td>-0.643985</td>\n",
       "      <td>-3.534100</td>\n",
       "      <td>-1.347744</td>\n",
       "      <td>1.255261</td>\n",
       "    </tr>\n",
       "    <tr>\n",
       "      <th>2</th>\n",
       "      <td>옥순</td>\n",
       "      <td>광수</td>\n",
       "      <td>0.5</td>\n",
       "      <td>0.394660</td>\n",
       "      <td>0.107161</td>\n",
       "      <td>-0.511349</td>\n",
       "      <td>-0.643985</td>\n",
       "      <td>0.923043</td>\n",
       "      <td>1.152553</td>\n",
       "      <td>-0.339267</td>\n",
       "    </tr>\n",
       "    <tr>\n",
       "      <th>3</th>\n",
       "      <td>옥순</td>\n",
       "      <td>상철</td>\n",
       "      <td>0.3</td>\n",
       "      <td>0.478040</td>\n",
       "      <td>0.107161</td>\n",
       "      <td>-0.511349</td>\n",
       "      <td>-0.643985</td>\n",
       "      <td>0.985670</td>\n",
       "      <td>1.252181</td>\n",
       "      <td>-0.212180</td>\n",
       "    </tr>\n",
       "    <tr>\n",
       "      <th>4</th>\n",
       "      <td>영자</td>\n",
       "      <td>영식</td>\n",
       "      <td>4.5</td>\n",
       "      <td>4.511586</td>\n",
       "      <td>-0.340610</td>\n",
       "      <td>-0.540787</td>\n",
       "      <td>-0.272660</td>\n",
       "      <td>-0.402219</td>\n",
       "      <td>-1.714856</td>\n",
       "      <td>0.852094</td>\n",
       "    </tr>\n",
       "    <tr>\n",
       "      <th>5</th>\n",
       "      <td>영자</td>\n",
       "      <td>영호</td>\n",
       "      <td>3.7</td>\n",
       "      <td>3.699532</td>\n",
       "      <td>-0.340610</td>\n",
       "      <td>-0.540787</td>\n",
       "      <td>-0.272660</td>\n",
       "      <td>-2.403915</td>\n",
       "      <td>0.402804</td>\n",
       "      <td>0.494918</td>\n",
       "    </tr>\n",
       "    <tr>\n",
       "      <th>6</th>\n",
       "      <td>영자</td>\n",
       "      <td>광수</td>\n",
       "      <td>0.5</td>\n",
       "      <td>0.516290</td>\n",
       "      <td>-0.340610</td>\n",
       "      <td>-0.540787</td>\n",
       "      <td>-0.272660</td>\n",
       "      <td>0.923043</td>\n",
       "      <td>1.152553</td>\n",
       "      <td>-0.339267</td>\n",
       "    </tr>\n",
       "    <tr>\n",
       "      <th>7</th>\n",
       "      <td>영자</td>\n",
       "      <td>영수</td>\n",
       "      <td>0.4</td>\n",
       "      <td>0.362588</td>\n",
       "      <td>-0.340610</td>\n",
       "      <td>-0.540787</td>\n",
       "      <td>-0.272660</td>\n",
       "      <td>0.731219</td>\n",
       "      <td>1.687410</td>\n",
       "      <td>-0.420867</td>\n",
       "    </tr>\n",
       "    <tr>\n",
       "      <th>8</th>\n",
       "      <td>정숙</td>\n",
       "      <td>영철</td>\n",
       "      <td>4.9</td>\n",
       "      <td>4.826328</td>\n",
       "      <td>-1.004248</td>\n",
       "      <td>1.099484</td>\n",
       "      <td>-0.626570</td>\n",
       "      <td>-3.534100</td>\n",
       "      <td>-1.347744</td>\n",
       "      <td>1.255261</td>\n",
       "    </tr>\n",
       "    <tr>\n",
       "      <th>9</th>\n",
       "      <td>정숙</td>\n",
       "      <td>영호</td>\n",
       "      <td>4.7</td>\n",
       "      <td>4.652276</td>\n",
       "      <td>-1.004248</td>\n",
       "      <td>1.099484</td>\n",
       "      <td>-0.626570</td>\n",
       "      <td>-2.403915</td>\n",
       "      <td>0.402804</td>\n",
       "      <td>0.494918</td>\n",
       "    </tr>\n",
       "    <tr>\n",
       "      <th>10</th>\n",
       "      <td>정숙</td>\n",
       "      <td>상철</td>\n",
       "      <td>1.2</td>\n",
       "      <td>1.078753</td>\n",
       "      <td>-1.004248</td>\n",
       "      <td>1.099484</td>\n",
       "      <td>-0.626570</td>\n",
       "      <td>0.985670</td>\n",
       "      <td>1.252181</td>\n",
       "      <td>-0.212180</td>\n",
       "    </tr>\n",
       "    <tr>\n",
       "      <th>11</th>\n",
       "      <td>정숙</td>\n",
       "      <td>영수</td>\n",
       "      <td>1.3</td>\n",
       "      <td>1.370500</td>\n",
       "      <td>-1.004248</td>\n",
       "      <td>1.099484</td>\n",
       "      <td>-0.626570</td>\n",
       "      <td>0.731219</td>\n",
       "      <td>1.687410</td>\n",
       "      <td>-0.420867</td>\n",
       "    </tr>\n",
       "    <tr>\n",
       "      <th>12</th>\n",
       "      <td>영숙</td>\n",
       "      <td>영식</td>\n",
       "      <td>0.6</td>\n",
       "      <td>0.635305</td>\n",
       "      <td>1.590366</td>\n",
       "      <td>1.274448</td>\n",
       "      <td>-0.403107</td>\n",
       "      <td>-0.402219</td>\n",
       "      <td>-1.714856</td>\n",
       "      <td>0.852094</td>\n",
       "    </tr>\n",
       "    <tr>\n",
       "      <th>13</th>\n",
       "      <td>영숙</td>\n",
       "      <td>영철</td>\n",
       "      <td>0.2</td>\n",
       "      <td>0.017811</td>\n",
       "      <td>1.590366</td>\n",
       "      <td>1.274448</td>\n",
       "      <td>-0.403107</td>\n",
       "      <td>-3.534100</td>\n",
       "      <td>-1.347744</td>\n",
       "      <td>1.255261</td>\n",
       "    </tr>\n",
       "    <tr>\n",
       "      <th>14</th>\n",
       "      <td>영숙</td>\n",
       "      <td>광수</td>\n",
       "      <td>4.1</td>\n",
       "      <td>4.051605</td>\n",
       "      <td>1.590366</td>\n",
       "      <td>1.274448</td>\n",
       "      <td>-0.403107</td>\n",
       "      <td>0.923043</td>\n",
       "      <td>1.152553</td>\n",
       "      <td>-0.339267</td>\n",
       "    </tr>\n",
       "    <tr>\n",
       "      <th>15</th>\n",
       "      <td>영숙</td>\n",
       "      <td>상철</td>\n",
       "      <td>4.3</td>\n",
       "      <td>4.367817</td>\n",
       "      <td>1.590366</td>\n",
       "      <td>1.274448</td>\n",
       "      <td>-0.403107</td>\n",
       "      <td>0.985670</td>\n",
       "      <td>1.252181</td>\n",
       "      <td>-0.212180</td>\n",
       "    </tr>\n",
       "    <tr>\n",
       "      <th>16</th>\n",
       "      <td>순자</td>\n",
       "      <td>영식</td>\n",
       "      <td>0.7</td>\n",
       "      <td>0.666860</td>\n",
       "      <td>0.365518</td>\n",
       "      <td>1.949875</td>\n",
       "      <td>-0.042442</td>\n",
       "      <td>-0.402219</td>\n",
       "      <td>-1.714856</td>\n",
       "      <td>0.852094</td>\n",
       "    </tr>\n",
       "    <tr>\n",
       "      <th>17</th>\n",
       "      <td>순자</td>\n",
       "      <td>영철</td>\n",
       "      <td>0.9</td>\n",
       "      <td>0.916558</td>\n",
       "      <td>0.365518</td>\n",
       "      <td>1.949875</td>\n",
       "      <td>-0.042442</td>\n",
       "      <td>-3.534100</td>\n",
       "      <td>-1.347744</td>\n",
       "      <td>1.255261</td>\n",
       "    </tr>\n",
       "    <tr>\n",
       "      <th>18</th>\n",
       "      <td>순자</td>\n",
       "      <td>광수</td>\n",
       "      <td>4.2</td>\n",
       "      <td>4.303614</td>\n",
       "      <td>0.365518</td>\n",
       "      <td>1.949875</td>\n",
       "      <td>-0.042442</td>\n",
       "      <td>0.923043</td>\n",
       "      <td>1.152553</td>\n",
       "      <td>-0.339267</td>\n",
       "    </tr>\n",
       "    <tr>\n",
       "      <th>19</th>\n",
       "      <td>순자</td>\n",
       "      <td>영수</td>\n",
       "      <td>4.8</td>\n",
       "      <td>4.664118</td>\n",
       "      <td>0.365518</td>\n",
       "      <td>1.949875</td>\n",
       "      <td>-0.042442</td>\n",
       "      <td>0.731219</td>\n",
       "      <td>1.687410</td>\n",
       "      <td>-0.420867</td>\n",
       "    </tr>\n",
       "    <tr>\n",
       "      <th>20</th>\n",
       "      <td>현숙</td>\n",
       "      <td>영철</td>\n",
       "      <td>0.2</td>\n",
       "      <td>0.045410</td>\n",
       "      <td>1.062269</td>\n",
       "      <td>1.409438</td>\n",
       "      <td>-0.774566</td>\n",
       "      <td>-3.534100</td>\n",
       "      <td>-1.347744</td>\n",
       "      <td>1.255261</td>\n",
       "    </tr>\n",
       "    <tr>\n",
       "      <th>21</th>\n",
       "      <td>현숙</td>\n",
       "      <td>영호</td>\n",
       "      <td>0.3</td>\n",
       "      <td>0.363758</td>\n",
       "      <td>1.062269</td>\n",
       "      <td>1.409438</td>\n",
       "      <td>-0.774566</td>\n",
       "      <td>-2.403915</td>\n",
       "      <td>0.402804</td>\n",
       "      <td>0.494918</td>\n",
       "    </tr>\n",
       "    <tr>\n",
       "      <th>22</th>\n",
       "      <td>현숙</td>\n",
       "      <td>상철</td>\n",
       "      <td>3.5</td>\n",
       "      <td>3.490667</td>\n",
       "      <td>1.062269</td>\n",
       "      <td>1.409438</td>\n",
       "      <td>-0.774566</td>\n",
       "      <td>0.985670</td>\n",
       "      <td>1.252181</td>\n",
       "      <td>-0.212180</td>\n",
       "    </tr>\n",
       "    <tr>\n",
       "      <th>23</th>\n",
       "      <td>현숙</td>\n",
       "      <td>영수</td>\n",
       "      <td>3.4</td>\n",
       "      <td>3.411307</td>\n",
       "      <td>1.062269</td>\n",
       "      <td>1.409438</td>\n",
       "      <td>-0.774566</td>\n",
       "      <td>0.731219</td>\n",
       "      <td>1.687410</td>\n",
       "      <td>-0.420867</td>\n",
       "    </tr>\n",
       "  </tbody>\n",
       "</table>\n",
       "</div>"
      ],
      "text/plain": [
       "     W   M    y      yhat   여성잠재특징1   여성잠재특징2    여성바이어스   남성잠재특징1   남성잠재특징2  \\\n",
       "0   옥순  영식  3.9  3.886504  0.107161 -0.511349 -0.643985 -0.402219 -1.714856   \n",
       "1   옥순  영철  4.1  4.112225  0.107161 -0.511349 -0.643985 -3.534100 -1.347744   \n",
       "2   옥순  광수  0.5  0.394660  0.107161 -0.511349 -0.643985  0.923043  1.152553   \n",
       "3   옥순  상철  0.3  0.478040  0.107161 -0.511349 -0.643985  0.985670  1.252181   \n",
       "4   영자  영식  4.5  4.511586 -0.340610 -0.540787 -0.272660 -0.402219 -1.714856   \n",
       "5   영자  영호  3.7  3.699532 -0.340610 -0.540787 -0.272660 -2.403915  0.402804   \n",
       "6   영자  광수  0.5  0.516290 -0.340610 -0.540787 -0.272660  0.923043  1.152553   \n",
       "7   영자  영수  0.4  0.362588 -0.340610 -0.540787 -0.272660  0.731219  1.687410   \n",
       "8   정숙  영철  4.9  4.826328 -1.004248  1.099484 -0.626570 -3.534100 -1.347744   \n",
       "9   정숙  영호  4.7  4.652276 -1.004248  1.099484 -0.626570 -2.403915  0.402804   \n",
       "10  정숙  상철  1.2  1.078753 -1.004248  1.099484 -0.626570  0.985670  1.252181   \n",
       "11  정숙  영수  1.3  1.370500 -1.004248  1.099484 -0.626570  0.731219  1.687410   \n",
       "12  영숙  영식  0.6  0.635305  1.590366  1.274448 -0.403107 -0.402219 -1.714856   \n",
       "13  영숙  영철  0.2  0.017811  1.590366  1.274448 -0.403107 -3.534100 -1.347744   \n",
       "14  영숙  광수  4.1  4.051605  1.590366  1.274448 -0.403107  0.923043  1.152553   \n",
       "15  영숙  상철  4.3  4.367817  1.590366  1.274448 -0.403107  0.985670  1.252181   \n",
       "16  순자  영식  0.7  0.666860  0.365518  1.949875 -0.042442 -0.402219 -1.714856   \n",
       "17  순자  영철  0.9  0.916558  0.365518  1.949875 -0.042442 -3.534100 -1.347744   \n",
       "18  순자  광수  4.2  4.303614  0.365518  1.949875 -0.042442  0.923043  1.152553   \n",
       "19  순자  영수  4.8  4.664118  0.365518  1.949875 -0.042442  0.731219  1.687410   \n",
       "20  현숙  영철  0.2  0.045410  1.062269  1.409438 -0.774566 -3.534100 -1.347744   \n",
       "21  현숙  영호  0.3  0.363758  1.062269  1.409438 -0.774566 -2.403915  0.402804   \n",
       "22  현숙  상철  3.5  3.490667  1.062269  1.409438 -0.774566  0.985670  1.252181   \n",
       "23  현숙  영수  3.4  3.411307  1.062269  1.409438 -0.774566  0.731219  1.687410   \n",
       "\n",
       "      남성바이어스  \n",
       "0   0.852094  \n",
       "1   1.255261  \n",
       "2  -0.339267  \n",
       "3  -0.212180  \n",
       "4   0.852094  \n",
       "5   0.494918  \n",
       "6  -0.339267  \n",
       "7  -0.420867  \n",
       "8   1.255261  \n",
       "9   0.494918  \n",
       "10 -0.212180  \n",
       "11 -0.420867  \n",
       "12  0.852094  \n",
       "13  1.255261  \n",
       "14 -0.339267  \n",
       "15 -0.212180  \n",
       "16  0.852094  \n",
       "17  1.255261  \n",
       "18 -0.339267  \n",
       "19 -0.420867  \n",
       "20  1.255261  \n",
       "21  0.494918  \n",
       "22 -0.212180  \n",
       "23 -0.420867  "
      ]
     },
     "execution_count": 877,
     "metadata": {},
     "output_type": "execute_result"
    }
   ],
   "source": [
    "df_ebdspace = pd.DataFrame(torch.concat([W_features.data,W_bias.data, M_features.data, M_bias.data],axis=1))\n",
    "df_ebdspace.columns = ['여성잠재특징1','여성잠재특징2','여성바이어스','남성잠재특징1','남성잠재특징2','남성바이어스']\n",
    "df_yhat = pd.DataFrame(yhat.data,columns=['yhat'])\n",
    "pd.concat([df,df_yhat,df_ebdspace],axis=1)"
   ]
  },
  {
   "cell_type": "markdown",
   "id": "e9f89f04-7e38-454b-b39d-e15d47f7b8df",
   "metadata": {},
   "source": [
    "## B. net이용 "
   ]
  },
  {
   "cell_type": "markdown",
   "id": "94616c3e-37d6-4dd0-8d3c-ea01cf6c7455",
   "metadata": {},
   "source": [
    "# 7. 나는 SOLO -- 5의 다른구현 (fastai)"
   ]
  },
  {
   "cell_type": "markdown",
   "id": "8ebd5af2-df2d-41bf-a313-2fa4fb2e0d9a",
   "metadata": {},
   "source": [
    "## A. 코딩.. "
   ]
  },
  {
   "cell_type": "code",
   "execution_count": 800,
   "id": "8916cee2-3fce-4e92-852e-1b2b7260b9e0",
   "metadata": {
    "tags": []
   },
   "outputs": [
    {
     "data": {
      "text/html": [
       "\n",
       "<style>\n",
       "    /* Turns off some styling */\n",
       "    progress {\n",
       "        /* gets rid of default border in Firefox and Opera. */\n",
       "        border: none;\n",
       "        /* Needs to be in here for Safari polyfill so background images work as expected. */\n",
       "        background-size: auto;\n",
       "    }\n",
       "    progress:not([value]), progress:not([value])::-webkit-progress-bar {\n",
       "        background: repeating-linear-gradient(45deg, #7e7e7e, #7e7e7e 10px, #5c5c5c 10px, #5c5c5c 20px);\n",
       "    }\n",
       "    .progress-bar-interrupted, .progress-bar-interrupted::-webkit-progress-bar {\n",
       "        background: #F44336;\n",
       "    }\n",
       "</style>\n"
      ],
      "text/plain": [
       "<IPython.core.display.HTML object>"
      ]
     },
     "metadata": {},
     "output_type": "display_data"
    },
    {
     "data": {
      "text/html": [
       "<table border=\"1\" class=\"dataframe\">\n",
       "  <thead>\n",
       "    <tr style=\"text-align: left;\">\n",
       "      <th>epoch</th>\n",
       "      <th>train_loss</th>\n",
       "      <th>valid_loss</th>\n",
       "      <th>time</th>\n",
       "    </tr>\n",
       "  </thead>\n",
       "  <tbody>\n",
       "    <tr>\n",
       "      <td>0</td>\n",
       "      <td>4.506458</td>\n",
       "      <td>2.765290</td>\n",
       "      <td>00:00</td>\n",
       "    </tr>\n",
       "    <tr>\n",
       "      <td>1</td>\n",
       "      <td>3.898577</td>\n",
       "      <td>3.248128</td>\n",
       "      <td>00:00</td>\n",
       "    </tr>\n",
       "    <tr>\n",
       "      <td>2</td>\n",
       "      <td>3.067885</td>\n",
       "      <td>1.962692</td>\n",
       "      <td>00:00</td>\n",
       "    </tr>\n",
       "    <tr>\n",
       "      <td>3</td>\n",
       "      <td>2.236785</td>\n",
       "      <td>0.008190</td>\n",
       "      <td>00:00</td>\n",
       "    </tr>\n",
       "    <tr>\n",
       "      <td>4</td>\n",
       "      <td>1.619861</td>\n",
       "      <td>0.099657</td>\n",
       "      <td>00:00</td>\n",
       "    </tr>\n",
       "    <tr>\n",
       "      <td>5</td>\n",
       "      <td>1.221960</td>\n",
       "      <td>0.093989</td>\n",
       "      <td>00:00</td>\n",
       "    </tr>\n",
       "    <tr>\n",
       "      <td>6</td>\n",
       "      <td>0.933670</td>\n",
       "      <td>0.096321</td>\n",
       "      <td>00:00</td>\n",
       "    </tr>\n",
       "    <tr>\n",
       "      <td>7</td>\n",
       "      <td>0.721858</td>\n",
       "      <td>0.027466</td>\n",
       "      <td>00:00</td>\n",
       "    </tr>\n",
       "    <tr>\n",
       "      <td>8</td>\n",
       "      <td>0.564464</td>\n",
       "      <td>0.054740</td>\n",
       "      <td>00:00</td>\n",
       "    </tr>\n",
       "    <tr>\n",
       "      <td>9</td>\n",
       "      <td>0.440905</td>\n",
       "      <td>0.032084</td>\n",
       "      <td>00:00</td>\n",
       "    </tr>\n",
       "    <tr>\n",
       "      <td>10</td>\n",
       "      <td>0.347376</td>\n",
       "      <td>0.039605</td>\n",
       "      <td>00:00</td>\n",
       "    </tr>\n",
       "    <tr>\n",
       "      <td>11</td>\n",
       "      <td>0.274795</td>\n",
       "      <td>0.037677</td>\n",
       "      <td>00:00</td>\n",
       "    </tr>\n",
       "    <tr>\n",
       "      <td>12</td>\n",
       "      <td>0.218245</td>\n",
       "      <td>0.059046</td>\n",
       "      <td>00:00</td>\n",
       "    </tr>\n",
       "    <tr>\n",
       "      <td>13</td>\n",
       "      <td>0.174156</td>\n",
       "      <td>0.061565</td>\n",
       "      <td>00:00</td>\n",
       "    </tr>\n",
       "    <tr>\n",
       "      <td>14</td>\n",
       "      <td>0.139679</td>\n",
       "      <td>0.088224</td>\n",
       "      <td>00:00</td>\n",
       "    </tr>\n",
       "    <tr>\n",
       "      <td>15</td>\n",
       "      <td>0.112385</td>\n",
       "      <td>0.129213</td>\n",
       "      <td>00:00</td>\n",
       "    </tr>\n",
       "    <tr>\n",
       "      <td>16</td>\n",
       "      <td>0.090696</td>\n",
       "      <td>0.133099</td>\n",
       "      <td>00:00</td>\n",
       "    </tr>\n",
       "    <tr>\n",
       "      <td>17</td>\n",
       "      <td>0.073741</td>\n",
       "      <td>0.125532</td>\n",
       "      <td>00:00</td>\n",
       "    </tr>\n",
       "    <tr>\n",
       "      <td>18</td>\n",
       "      <td>0.068432</td>\n",
       "      <td>0.190287</td>\n",
       "      <td>00:00</td>\n",
       "    </tr>\n",
       "    <tr>\n",
       "      <td>19</td>\n",
       "      <td>0.067985</td>\n",
       "      <td>0.336540</td>\n",
       "      <td>00:00</td>\n",
       "    </tr>\n",
       "    <tr>\n",
       "      <td>20</td>\n",
       "      <td>0.064085</td>\n",
       "      <td>0.244691</td>\n",
       "      <td>00:00</td>\n",
       "    </tr>\n",
       "    <tr>\n",
       "      <td>21</td>\n",
       "      <td>0.058193</td>\n",
       "      <td>0.086740</td>\n",
       "      <td>00:00</td>\n",
       "    </tr>\n",
       "    <tr>\n",
       "      <td>22</td>\n",
       "      <td>0.050534</td>\n",
       "      <td>0.108768</td>\n",
       "      <td>00:00</td>\n",
       "    </tr>\n",
       "    <tr>\n",
       "      <td>23</td>\n",
       "      <td>0.042762</td>\n",
       "      <td>0.087573</td>\n",
       "      <td>00:00</td>\n",
       "    </tr>\n",
       "    <tr>\n",
       "      <td>24</td>\n",
       "      <td>0.035789</td>\n",
       "      <td>0.156161</td>\n",
       "      <td>00:00</td>\n",
       "    </tr>\n",
       "    <tr>\n",
       "      <td>25</td>\n",
       "      <td>0.032321</td>\n",
       "      <td>0.146785</td>\n",
       "      <td>00:00</td>\n",
       "    </tr>\n",
       "    <tr>\n",
       "      <td>26</td>\n",
       "      <td>0.026845</td>\n",
       "      <td>0.165115</td>\n",
       "      <td>00:00</td>\n",
       "    </tr>\n",
       "    <tr>\n",
       "      <td>27</td>\n",
       "      <td>0.030625</td>\n",
       "      <td>0.247320</td>\n",
       "      <td>00:00</td>\n",
       "    </tr>\n",
       "    <tr>\n",
       "      <td>28</td>\n",
       "      <td>0.035124</td>\n",
       "      <td>0.283636</td>\n",
       "      <td>00:00</td>\n",
       "    </tr>\n",
       "    <tr>\n",
       "      <td>29</td>\n",
       "      <td>0.040457</td>\n",
       "      <td>0.192986</td>\n",
       "      <td>00:00</td>\n",
       "    </tr>\n",
       "  </tbody>\n",
       "</table>"
      ],
      "text/plain": [
       "<IPython.core.display.HTML object>"
      ]
     },
     "metadata": {},
     "output_type": "display_data"
    }
   ],
   "source": [
    "dls = fastai.collab.CollabDataLoaders.from_df(df,bs=2,valid_pct = 2/24)\n",
    "lrnr = fastai.collab.collab_learner(dls, n_factors=2, y_range=(0,5))\n",
    "lrnr.fit(30,lr=0.1)"
   ]
  },
  {
   "cell_type": "markdown",
   "id": "8344ca67-b9c6-4023-b57b-5f6af672a277",
   "metadata": {},
   "source": [
    "`-` 예측 "
   ]
  },
  {
   "cell_type": "code",
   "execution_count": 806,
   "id": "a98b58d2-2761-4c3e-8996-7b4afb426a22",
   "metadata": {
    "tags": []
   },
   "outputs": [
    {
     "data": {
      "text/html": [
       "<div>\n",
       "<style scoped>\n",
       "    .dataframe tbody tr th:only-of-type {\n",
       "        vertical-align: middle;\n",
       "    }\n",
       "\n",
       "    .dataframe tbody tr th {\n",
       "        vertical-align: top;\n",
       "    }\n",
       "\n",
       "    .dataframe thead th {\n",
       "        text-align: right;\n",
       "    }\n",
       "</style>\n",
       "<table border=\"1\" class=\"dataframe\">\n",
       "  <thead>\n",
       "    <tr style=\"text-align: right;\">\n",
       "      <th></th>\n",
       "      <th>W</th>\n",
       "      <th>M</th>\n",
       "    </tr>\n",
       "  </thead>\n",
       "  <tbody>\n",
       "    <tr>\n",
       "      <th>0</th>\n",
       "      <td>정숙</td>\n",
       "      <td>영식</td>\n",
       "    </tr>\n",
       "    <tr>\n",
       "      <th>1</th>\n",
       "      <td>정숙</td>\n",
       "      <td>영철</td>\n",
       "    </tr>\n",
       "    <tr>\n",
       "      <th>2</th>\n",
       "      <td>정숙</td>\n",
       "      <td>영호</td>\n",
       "    </tr>\n",
       "    <tr>\n",
       "      <th>3</th>\n",
       "      <td>정숙</td>\n",
       "      <td>광수</td>\n",
       "    </tr>\n",
       "    <tr>\n",
       "      <th>4</th>\n",
       "      <td>정숙</td>\n",
       "      <td>상철</td>\n",
       "    </tr>\n",
       "    <tr>\n",
       "      <th>5</th>\n",
       "      <td>정숙</td>\n",
       "      <td>영수</td>\n",
       "    </tr>\n",
       "  </tbody>\n",
       "</table>\n",
       "</div>"
      ],
      "text/plain": [
       "    W   M\n",
       "0  정숙  영식\n",
       "1  정숙  영철\n",
       "2  정숙  영호\n",
       "3  정숙  광수\n",
       "4  정숙  상철\n",
       "5  정숙  영수"
      ]
     },
     "execution_count": 806,
     "metadata": {},
     "output_type": "execute_result"
    }
   ],
   "source": [
    "df_test = pd.DataFrame({'W':['정숙']*6, 'M':['영식','영철','영호','광수','상철','영수']})\n",
    "df_test"
   ]
  },
  {
   "cell_type": "code",
   "execution_count": 819,
   "id": "5b7fa96f-ea5d-40da-a515-06aee462e563",
   "metadata": {
    "tags": []
   },
   "outputs": [
    {
     "data": {
      "text/html": [
       "\n",
       "<style>\n",
       "    /* Turns off some styling */\n",
       "    progress {\n",
       "        /* gets rid of default border in Firefox and Opera. */\n",
       "        border: none;\n",
       "        /* Needs to be in here for Safari polyfill so background images work as expected. */\n",
       "        background-size: auto;\n",
       "    }\n",
       "    progress:not([value]), progress:not([value])::-webkit-progress-bar {\n",
       "        background: repeating-linear-gradient(45deg, #7e7e7e, #7e7e7e 10px, #5c5c5c 10px, #5c5c5c 20px);\n",
       "    }\n",
       "    .progress-bar-interrupted, .progress-bar-interrupted::-webkit-progress-bar {\n",
       "        background: #F44336;\n",
       "    }\n",
       "</style>\n"
      ],
      "text/plain": [
       "<IPython.core.display.HTML object>"
      ]
     },
     "metadata": {},
     "output_type": "display_data"
    },
    {
     "data": {
      "text/html": [],
      "text/plain": [
       "<IPython.core.display.HTML object>"
      ]
     },
     "metadata": {},
     "output_type": "display_data"
    },
    {
     "data": {
      "text/html": [
       "<div>\n",
       "<style scoped>\n",
       "    .dataframe tbody tr th:only-of-type {\n",
       "        vertical-align: middle;\n",
       "    }\n",
       "\n",
       "    .dataframe tbody tr th {\n",
       "        vertical-align: top;\n",
       "    }\n",
       "\n",
       "    .dataframe thead th {\n",
       "        text-align: right;\n",
       "    }\n",
       "</style>\n",
       "<table border=\"1\" class=\"dataframe\">\n",
       "  <thead>\n",
       "    <tr style=\"text-align: right;\">\n",
       "      <th></th>\n",
       "      <th>W</th>\n",
       "      <th>M</th>\n",
       "      <th>yhat</th>\n",
       "    </tr>\n",
       "  </thead>\n",
       "  <tbody>\n",
       "    <tr>\n",
       "      <th>0</th>\n",
       "      <td>정숙</td>\n",
       "      <td>영식</td>\n",
       "      <td>4.755944</td>\n",
       "    </tr>\n",
       "    <tr>\n",
       "      <th>1</th>\n",
       "      <td>정숙</td>\n",
       "      <td>영철</td>\n",
       "      <td>4.883018</td>\n",
       "    </tr>\n",
       "    <tr>\n",
       "      <th>2</th>\n",
       "      <td>정숙</td>\n",
       "      <td>영호</td>\n",
       "      <td>4.799464</td>\n",
       "    </tr>\n",
       "    <tr>\n",
       "      <th>3</th>\n",
       "      <td>정숙</td>\n",
       "      <td>광수</td>\n",
       "      <td>1.065324</td>\n",
       "    </tr>\n",
       "    <tr>\n",
       "      <th>4</th>\n",
       "      <td>정숙</td>\n",
       "      <td>상철</td>\n",
       "      <td>0.853418</td>\n",
       "    </tr>\n",
       "    <tr>\n",
       "      <th>5</th>\n",
       "      <td>정숙</td>\n",
       "      <td>영수</td>\n",
       "      <td>1.410224</td>\n",
       "    </tr>\n",
       "  </tbody>\n",
       "</table>\n",
       "</div>"
      ],
      "text/plain": [
       "    W   M      yhat\n",
       "0  정숙  영식  4.755944\n",
       "1  정숙  영철  4.883018\n",
       "2  정숙  영호  4.799464\n",
       "3  정숙  광수  1.065324\n",
       "4  정숙  상철  0.853418\n",
       "5  정숙  영수  1.410224"
      ]
     },
     "execution_count": 819,
     "metadata": {},
     "output_type": "execute_result"
    }
   ],
   "source": [
    "yhat,_ = lrnr.get_preds(dl = dls.test_dl(df_test))\n",
    "df_test.assign(yhat = yhat)"
   ]
  },
  {
   "cell_type": "markdown",
   "id": "e5f41fed-9479-4d48-a1d2-170d060f4b2c",
   "metadata": {},
   "source": [
    "- 적절해보임 "
   ]
  },
  {
   "cell_type": "markdown",
   "id": "4ee5396d-b54b-4da8-8e0c-16ebe06f264e",
   "metadata": {
    "tags": []
   },
   "source": [
    "## B. `fastai` 의 net, loss 등을 구경 "
   ]
  },
  {
   "cell_type": "code",
   "execution_count": 823,
   "id": "2df84586-9b62-49e7-8821-c19f9cf280e7",
   "metadata": {
    "tags": []
   },
   "outputs": [
    {
     "data": {
      "text/plain": [
       "EmbeddingDotBias(\n",
       "  (u_weight): Embedding(7, 2)\n",
       "  (i_weight): Embedding(7, 2)\n",
       "  (u_bias): Embedding(7, 1)\n",
       "  (i_bias): Embedding(7, 1)\n",
       ")"
      ]
     },
     "execution_count": 823,
     "metadata": {},
     "output_type": "execute_result"
    }
   ],
   "source": [
    "lrnr.model"
   ]
  },
  {
   "cell_type": "code",
   "execution_count": 824,
   "id": "a65bd970-ff8b-4feb-9b62-982a6a34ca99",
   "metadata": {
    "tags": []
   },
   "outputs": [
    {
     "data": {
      "text/plain": [
       "\u001b[0;31mSignature:\u001b[0m \u001b[0mlrnr\u001b[0m\u001b[0;34m.\u001b[0m\u001b[0mforward\u001b[0m\u001b[0;34m(\u001b[0m\u001b[0mx\u001b[0m\u001b[0;34m)\u001b[0m\u001b[0;34m\u001b[0m\u001b[0;34m\u001b[0m\u001b[0m\n",
       "\u001b[0;31mDocstring:\u001b[0m\n",
       "Define the computation performed at every call.\n",
       "\n",
       "Should be overridden by all subclasses.\n",
       "\n",
       ".. note::\n",
       "    Although the recipe for forward pass needs to be defined within\n",
       "    this function, one should call the :class:`Module` instance afterwards\n",
       "    instead of this since the former takes care of running the\n",
       "    registered hooks while the latter silently ignores them.\n",
       "\u001b[0;31mSource:\u001b[0m   \n",
       "    \u001b[0;32mdef\u001b[0m \u001b[0mforward\u001b[0m\u001b[0;34m(\u001b[0m\u001b[0mself\u001b[0m\u001b[0;34m,\u001b[0m \u001b[0mx\u001b[0m\u001b[0;34m)\u001b[0m\u001b[0;34m:\u001b[0m\u001b[0;34m\u001b[0m\n",
       "\u001b[0;34m\u001b[0m        \u001b[0musers\u001b[0m\u001b[0;34m,\u001b[0m\u001b[0mitems\u001b[0m \u001b[0;34m=\u001b[0m \u001b[0mx\u001b[0m\u001b[0;34m[\u001b[0m\u001b[0;34m:\u001b[0m\u001b[0;34m,\u001b[0m\u001b[0;36m0\u001b[0m\u001b[0;34m]\u001b[0m\u001b[0;34m,\u001b[0m\u001b[0mx\u001b[0m\u001b[0;34m[\u001b[0m\u001b[0;34m:\u001b[0m\u001b[0;34m,\u001b[0m\u001b[0;36m1\u001b[0m\u001b[0;34m]\u001b[0m\u001b[0;34m\u001b[0m\n",
       "\u001b[0;34m\u001b[0m        \u001b[0mdot\u001b[0m \u001b[0;34m=\u001b[0m \u001b[0mself\u001b[0m\u001b[0;34m.\u001b[0m\u001b[0mu_weight\u001b[0m\u001b[0;34m(\u001b[0m\u001b[0musers\u001b[0m\u001b[0;34m)\u001b[0m\u001b[0;34m*\u001b[0m \u001b[0mself\u001b[0m\u001b[0;34m.\u001b[0m\u001b[0mi_weight\u001b[0m\u001b[0;34m(\u001b[0m\u001b[0mitems\u001b[0m\u001b[0;34m)\u001b[0m\u001b[0;34m\u001b[0m\n",
       "\u001b[0;34m\u001b[0m        \u001b[0mres\u001b[0m \u001b[0;34m=\u001b[0m \u001b[0mdot\u001b[0m\u001b[0;34m.\u001b[0m\u001b[0msum\u001b[0m\u001b[0;34m(\u001b[0m\u001b[0;36m1\u001b[0m\u001b[0;34m)\u001b[0m \u001b[0;34m+\u001b[0m \u001b[0mself\u001b[0m\u001b[0;34m.\u001b[0m\u001b[0mu_bias\u001b[0m\u001b[0;34m(\u001b[0m\u001b[0musers\u001b[0m\u001b[0;34m)\u001b[0m\u001b[0;34m.\u001b[0m\u001b[0msqueeze\u001b[0m\u001b[0;34m(\u001b[0m\u001b[0;34m)\u001b[0m \u001b[0;34m+\u001b[0m \u001b[0mself\u001b[0m\u001b[0;34m.\u001b[0m\u001b[0mi_bias\u001b[0m\u001b[0;34m(\u001b[0m\u001b[0mitems\u001b[0m\u001b[0;34m)\u001b[0m\u001b[0;34m.\u001b[0m\u001b[0msqueeze\u001b[0m\u001b[0;34m(\u001b[0m\u001b[0;34m)\u001b[0m\u001b[0;34m\u001b[0m\n",
       "\u001b[0;34m\u001b[0m        \u001b[0;32mif\u001b[0m \u001b[0mself\u001b[0m\u001b[0;34m.\u001b[0m\u001b[0my_range\u001b[0m \u001b[0;32mis\u001b[0m \u001b[0;32mNone\u001b[0m\u001b[0;34m:\u001b[0m \u001b[0;32mreturn\u001b[0m \u001b[0mres\u001b[0m\u001b[0;34m\u001b[0m\n",
       "\u001b[0;34m\u001b[0m        \u001b[0;32mreturn\u001b[0m \u001b[0mtorch\u001b[0m\u001b[0;34m.\u001b[0m\u001b[0msigmoid\u001b[0m\u001b[0;34m(\u001b[0m\u001b[0mres\u001b[0m\u001b[0;34m)\u001b[0m \u001b[0;34m*\u001b[0m \u001b[0;34m(\u001b[0m\u001b[0mself\u001b[0m\u001b[0;34m.\u001b[0m\u001b[0my_range\u001b[0m\u001b[0;34m[\u001b[0m\u001b[0;36m1\u001b[0m\u001b[0;34m]\u001b[0m\u001b[0;34m-\u001b[0m\u001b[0mself\u001b[0m\u001b[0;34m.\u001b[0m\u001b[0my_range\u001b[0m\u001b[0;34m[\u001b[0m\u001b[0;36m0\u001b[0m\u001b[0;34m]\u001b[0m\u001b[0;34m)\u001b[0m \u001b[0;34m+\u001b[0m \u001b[0mself\u001b[0m\u001b[0;34m.\u001b[0m\u001b[0my_range\u001b[0m\u001b[0;34m[\u001b[0m\u001b[0;36m0\u001b[0m\u001b[0;34m]\u001b[0m\u001b[0;34m\u001b[0m\u001b[0;34m\u001b[0m\u001b[0m\n",
       "\u001b[0;31mFile:\u001b[0m      ~/anaconda3/envs/dl2024/lib/python3.11/site-packages/fastai/collab.py\n",
       "\u001b[0;31mType:\u001b[0m      method"
      ]
     },
     "metadata": {},
     "output_type": "display_data"
    }
   ],
   "source": [
    "lrnr.forward?? "
   ]
  },
  {
   "cell_type": "markdown",
   "id": "04dcb4a9-a853-4b9d-bc0f-832a9c129b98",
   "metadata": {},
   "source": [
    "- 우리가 만든 모델이랑 같음!"
   ]
  },
  {
   "cell_type": "code",
   "execution_count": 826,
   "id": "621bdaaf-f198-4472-88a7-712adbe52b2b",
   "metadata": {
    "tags": []
   },
   "outputs": [
    {
     "data": {
      "text/plain": [
       "FlattenedLoss of MSELoss()"
      ]
     },
     "execution_count": 826,
     "metadata": {},
     "output_type": "execute_result"
    }
   ],
   "source": [
    "lrnr.loss_func "
   ]
  }
 ],
 "metadata": {
  "kernelspec": {
   "display_name": "Python 3 (ipykernel)",
   "language": "python",
   "name": "python3"
  },
  "language_info": {
   "codemirror_mode": {
    "name": "ipython",
    "version": 3
   },
   "file_extension": ".py",
   "mimetype": "text/x-python",
   "name": "python",
   "nbconvert_exporter": "python",
   "pygments_lexer": "ipython3",
   "version": "3.11.8"
  }
 },
 "nbformat": 4,
 "nbformat_minor": 5
}
