{
 "cells": [
  {
   "cell_type": "raw",
   "id": "53bd0245-60b0-40bc-9fd4-d47470cbbe57",
   "metadata": {
    "id": "87b5cded-346b-4915-acf5-b5ec93a5207d"
   },
   "source": [
    "---\n",
    "title: \"06wk-1: 합성곱신경망 (2) -- MNIST, Fashion-MNIST, ImageNet, CIFAR10 \"\n",
    "author: \"최규빈\"\n",
    "date: \"04/03/2024\"\n",
    "---"
   ]
  },
  {
   "cell_type": "markdown",
   "id": "42aeb201-7db9-4500-967c-df308017c564",
   "metadata": {
    "id": "e67ab8e0"
   },
   "source": [
    "<a href=\"https://colab.research.google.com/github/guebin/DL2024/blob/main/posts/06wk-1.ipynb\"><img src=\"https://colab.research.google.com/assets/colab-badge.svg\" style=\"text-align: left\"></a>"
   ]
  },
  {
   "cell_type": "markdown",
   "id": "4d06b622-d159-4970-b217-ac4787733545",
   "metadata": {
    "id": "4d47a7c9",
    "tags": []
   },
   "source": [
    "# 1. 강의영상"
   ]
  },
  {
   "cell_type": "code",
   "execution_count": 674,
   "id": "12ba7872-1155-4c2f-8f94-e201f3a3ea25",
   "metadata": {
    "tags": []
   },
   "outputs": [],
   "source": [
    "#{{<video https://youtu.be/playlist?list=PLQqh36zP38-wjNGgd4gmQJbQ66NLjUC2y&si=dusDZAwGOJS9TOKJ >}}"
   ]
  },
  {
   "cell_type": "markdown",
   "id": "bbe14a88-1313-4a92-991e-9479afc21636",
   "metadata": {},
   "source": [
    "# 2. Imports"
   ]
  },
  {
   "cell_type": "code",
   "execution_count": 675,
   "id": "66839c05-69cf-4da5-b8a8-861e89481e52",
   "metadata": {
    "tags": []
   },
   "outputs": [],
   "source": [
    "import torch\n",
    "import torchvision\n",
    "import matplotlib.pyplot as plt\n",
    "from fastai.data.all import *\n",
    "from fastai.vision.all import * "
   ]
  },
  {
   "cell_type": "markdown",
   "id": "52f6d9f0-74a1-4c5d-b3cb-6fb61c420139",
   "metadata": {},
   "source": [
    "# 3. torch.eigensum"
   ]
  },
  {
   "cell_type": "markdown",
   "id": "c474cded-48c5-4cef-9941-0e4c8efcf49e",
   "metadata": {},
   "source": [
    "## A. transpose"
   ]
  },
  {
   "cell_type": "code",
   "execution_count": 633,
   "id": "fa3d65ef-9547-4b80-96c1-442457d0e23a",
   "metadata": {},
   "outputs": [
    {
     "data": {
      "text/plain": [
       "tensor([[ 0,  1,  2],\n",
       "        [ 3,  4,  5],\n",
       "        [ 6,  7,  8],\n",
       "        [ 9, 10, 11]])"
      ]
     },
     "execution_count": 633,
     "metadata": {},
     "output_type": "execute_result"
    }
   ],
   "source": [
    "tsr = torch.arange(12).reshape(4,3)\n",
    "tsr"
   ]
  },
  {
   "cell_type": "code",
   "execution_count": 634,
   "id": "01bb899f-b74e-4754-93d3-df0be29348d8",
   "metadata": {
    "tags": []
   },
   "outputs": [
    {
     "data": {
      "text/plain": [
       "tensor([[ 0,  3,  6,  9],\n",
       "        [ 1,  4,  7, 10],\n",
       "        [ 2,  5,  8, 11]])"
      ]
     },
     "execution_count": 634,
     "metadata": {},
     "output_type": "execute_result"
    }
   ],
   "source": [
    "tsr.t()"
   ]
  },
  {
   "cell_type": "code",
   "execution_count": 635,
   "id": "18265793-22d8-4daa-9164-58d3f656e9cc",
   "metadata": {},
   "outputs": [
    {
     "data": {
      "text/plain": [
       "tensor([[ 0,  3,  6,  9],\n",
       "        [ 1,  4,  7, 10],\n",
       "        [ 2,  5,  8, 11]])"
      ]
     },
     "execution_count": 635,
     "metadata": {},
     "output_type": "execute_result"
    }
   ],
   "source": [
    "torch.einsum('ij->ji',tsr)"
   ]
  },
  {
   "cell_type": "markdown",
   "id": "281f9298-4ed2-4b04-9eac-a096723a37f0",
   "metadata": {},
   "source": [
    "## B. 행렬곱"
   ]
  },
  {
   "cell_type": "code",
   "execution_count": 623,
   "id": "87678d33-7443-430a-bb1b-8969b398c792",
   "metadata": {
    "tags": []
   },
   "outputs": [],
   "source": [
    "tsr1 = torch.arange(12).reshape(4,3).float()\n",
    "tsr2 = torch.arange(15).reshape(3,5).float()"
   ]
  },
  {
   "cell_type": "code",
   "execution_count": 624,
   "id": "701aaf62-9245-44e0-8c5b-a82726e2ddaf",
   "metadata": {
    "tags": []
   },
   "outputs": [
    {
     "data": {
      "text/plain": [
       "torch.Size([4, 3])"
      ]
     },
     "execution_count": 624,
     "metadata": {},
     "output_type": "execute_result"
    }
   ],
   "source": [
    "tsr1.shape"
   ]
  },
  {
   "cell_type": "code",
   "execution_count": 625,
   "id": "3efc65bc-8115-4304-a74a-add116f4ca1c",
   "metadata": {
    "tags": []
   },
   "outputs": [
    {
     "data": {
      "text/plain": [
       "torch.Size([3, 5])"
      ]
     },
     "execution_count": 625,
     "metadata": {},
     "output_type": "execute_result"
    }
   ],
   "source": [
    "tsr2.shape"
   ]
  },
  {
   "cell_type": "code",
   "execution_count": 626,
   "id": "07a4f7c8-d189-4f1e-afdd-f04c3e15a3e1",
   "metadata": {
    "tags": []
   },
   "outputs": [
    {
     "data": {
      "text/plain": [
       "tensor([[ 25.,  28.,  31.,  34.,  37.],\n",
       "        [ 70.,  82.,  94., 106., 118.],\n",
       "        [115., 136., 157., 178., 199.],\n",
       "        [160., 190., 220., 250., 280.]])"
      ]
     },
     "execution_count": 626,
     "metadata": {},
     "output_type": "execute_result"
    }
   ],
   "source": [
    "tsr1 @ tsr2"
   ]
  },
  {
   "cell_type": "code",
   "execution_count": 627,
   "id": "0b01990c-424f-49ec-8c53-22d9fde57c88",
   "metadata": {
    "tags": []
   },
   "outputs": [
    {
     "data": {
      "text/plain": [
       "tensor([[ 25.,  28.,  31.,  34.,  37.],\n",
       "        [ 70.,  82.,  94., 106., 118.],\n",
       "        [115., 136., 157., 178., 199.],\n",
       "        [160., 190., 220., 250., 280.]])"
      ]
     },
     "execution_count": 627,
     "metadata": {},
     "output_type": "execute_result"
    }
   ],
   "source": [
    "torch.einsum('ij,jk -> ik',tsr1,tsr2) "
   ]
  },
  {
   "cell_type": "markdown",
   "id": "7c82940c-f262-490e-9b3c-556640e34728",
   "metadata": {},
   "source": [
    "# 4. MNIST -- 직접설계"
   ]
  },
  {
   "cell_type": "code",
   "execution_count": 200,
   "id": "84efbf3a-ab82-4e99-9bd1-f908a2da2919",
   "metadata": {
    "tags": []
   },
   "outputs": [],
   "source": [
    "path = untar_data(URLs.MNIST)\n",
    "X0 = torch.stack([torchvision.io.read_image(str(fname)) for fname in (path/'training/0').ls()])\n",
    "X1 = torch.stack([torchvision.io.read_image(str(fname)) for fname in (path/'training/1').ls()])\n",
    "X2 = torch.stack([torchvision.io.read_image(str(fname)) for fname in (path/'training/2').ls()])\n",
    "X = torch.concat([X0,X1,X2])/255\n",
    "y = torch.nn.functional.one_hot(torch.tensor([0]*len(X0) + [1]*len(X1) + [2]*len(X2))).float()\n",
    "X0 = torch.stack([torchvision.io.read_image(str(fname)) for fname in (path/'testing/0').ls()])\n",
    "X1 = torch.stack([torchvision.io.read_image(str(fname)) for fname in (path/'testing/1').ls()])\n",
    "X2 = torch.stack([torchvision.io.read_image(str(fname)) for fname in (path/'testing/2').ls()])\n",
    "XX = torch.concat([X0,X1,X2])/255\n",
    "yy = torch.nn.functional.one_hot(torch.tensor([0]*len(X0) + [1]*len(X1) + [2]*len(X2))).float()"
   ]
  },
  {
   "cell_type": "code",
   "execution_count": 620,
   "id": "d8912eed-0678-4f17-8ceb-e15fb1e50f84",
   "metadata": {
    "tags": []
   },
   "outputs": [
    {
     "name": "stdout",
     "output_type": "stream",
     "text": [
      "torch.Size([50000, 3, 32, 32]) \t torch.float32\n",
      "torch.Size([50000]) \t\t\t torch.int64\n",
      "torch.Size([10000, 3, 32, 32]) \t torch.float32\n",
      "torch.Size([10000]) \t\t\t torch.int64\n"
     ]
    }
   ],
   "source": [
    "print(X.shape,'\\t',X.dtype)\n",
    "print(y.shape,'\\t\\t\\t',y.dtype)\n",
    "print(XX.shape,'\\t',XX.dtype)\n",
    "print(yy.shape,'\\t\\t\\t',yy.dtype)"
   ]
  },
  {
   "cell_type": "code",
   "execution_count": 202,
   "id": "4404394e-174e-4134-8e9b-c42abb485e1b",
   "metadata": {
    "tags": []
   },
   "outputs": [
    {
     "data": {
      "text/plain": [
       "<matplotlib.image.AxesImage at 0x7f5f2ed0fd50>"
      ]
     },
     "execution_count": 202,
     "metadata": {},
     "output_type": "execute_result"
    },
    {
     "data": {
      "image/png": "[encoded data removed]",
      "text/plain": [
       "<Figure size 640x480 with 1 Axes>"
      ]
     },
     "metadata": {},
     "output_type": "display_data"
    }
   ],
   "source": [
    "plt.imshow(torch.einsum('cij -> ijc',X[0]),cmap=\"gray\")"
   ]
  },
  {
   "cell_type": "markdown",
   "id": "81058d3d-855b-47cc-bfdf-b6e70a7def2a",
   "metadata": {},
   "source": [
    "## A. y: (n,3)-float "
   ]
  },
  {
   "cell_type": "code",
   "execution_count": 203,
   "id": "ce223c36-98b7-442c-9aaf-9894bba83a1b",
   "metadata": {
    "tags": []
   },
   "outputs": [
    {
     "name": "stdout",
     "output_type": "stream",
     "text": [
      "train: 0.9858\n",
      "val: 0.9917\n"
     ]
    }
   ],
   "source": [
    "# Step1: 데이터정리 (dls생성)\n",
    "ds = torch.utils.data.TensorDataset(X,y)\n",
    "dl = torch.utils.data.DataLoader(ds,batch_size=128) \n",
    "# Step2: 적합에 필요한 오브젝트 생성\n",
    "net1 = torch.nn.Sequential(\n",
    "    torch.nn.Conv2d(1,16,(5,5)),\n",
    "    torch.nn.ReLU(),\n",
    "    torch.nn.MaxPool2d((2,2)),\n",
    "    torch.nn.Flatten()\n",
    ")\n",
    "net2 = torch.nn.Sequential(\n",
    "    torch.nn.Linear(2304,3),\n",
    ")\n",
    "net = torch.nn.Sequential(\n",
    "    net1, # 2d-part\n",
    "    net2, # 1d-part \n",
    ")\n",
    "loss_fn = torch.nn.CrossEntropyLoss()\n",
    "optimizr = torch.optim.Adam(net.parameters())\n",
    "# Step3: 적합 \n",
    "net.to(\"cuda:0\")\n",
    "for epoc in range(10):\n",
    "    for xi,yi in dl:\n",
    "        ## 1\n",
    "        ## 2\n",
    "        loss = loss_fn(net(xi.to(\"cuda:0\")),yi.to(\"cuda:0\"))\n",
    "        ## 3 \n",
    "        loss.backward()\n",
    "        ## 4 \n",
    "        optimizr.step()\n",
    "        optimizr.zero_grad()\n",
    "net.to(\"cpu\")\n",
    "# Step4: 예측 및 평가 \n",
    "print(f'train: {(net(X).data.argmax(axis=1) == y.argmax(axis=1)).float().mean():.4f}')\n",
    "print(f'val: {(net(XX).data.argmax(axis=1) == yy.argmax(axis=1)).float().mean():.4f}')"
   ]
  },
  {
   "cell_type": "markdown",
   "id": "ca21a270-bfe0-4659-8d61-2483478add8d",
   "metadata": {},
   "source": [
    "## B. y: (n,)-int"
   ]
  },
  {
   "cell_type": "code",
   "execution_count": 204,
   "id": "9e8ec864-ea1c-40bc-8734-915303281364",
   "metadata": {
    "tags": []
   },
   "outputs": [
    {
     "data": {
      "text/plain": [
       "(tensor([0, 0, 0,  ..., 2, 2, 2]), tensor([0, 0, 0,  ..., 2, 2, 2]))"
      ]
     },
     "execution_count": 204,
     "metadata": {},
     "output_type": "execute_result"
    }
   ],
   "source": [
    "y = y.argmax(axis=-1)\n",
    "yy = yy.argmax(axis=-1)\n",
    "y,yy"
   ]
  },
  {
   "cell_type": "code",
   "execution_count": 205,
   "id": "0261ae34-4574-43ef-a63e-2b9cbdf12121",
   "metadata": {
    "tags": []
   },
   "outputs": [
    {
     "name": "stdout",
     "output_type": "stream",
     "text": [
      "torch.Size([18623, 1, 28, 28]) \t torch.float32\n",
      "torch.Size([18623]) \t\t torch.int64\n",
      "torch.Size([3147, 1, 28, 28]) \t torch.float32\n",
      "torch.Size([3147]) \t\t torch.int64\n"
     ]
    }
   ],
   "source": [
    "print(X.shape,'\\t',X.dtype)\n",
    "print(y.shape,'\\t\\t',y.dtype)\n",
    "print(XX.shape,'\\t',XX.dtype)\n",
    "print(yy.shape,'\\t\\t',yy.dtype)"
   ]
  },
  {
   "cell_type": "code",
   "execution_count": 206,
   "id": "2e32ab1a-44cd-40d3-8344-03b17150d54c",
   "metadata": {
    "tags": []
   },
   "outputs": [
    {
     "name": "stdout",
     "output_type": "stream",
     "text": [
      "train: 0.9780\n",
      "val: 0.9822\n"
     ]
    }
   ],
   "source": [
    "# Step1: 데이터정리 (dls생성)\n",
    "ds = torch.utils.data.TensorDataset(X,y)\n",
    "dl = torch.utils.data.DataLoader(ds,batch_size=128) \n",
    "# Step2: 적합에 필요한 오브젝트 생성\n",
    "net1 = torch.nn.Sequential(\n",
    "    torch.nn.Conv2d(1,16,(5,5)),\n",
    "    torch.nn.ReLU(),\n",
    "    torch.nn.MaxPool2d((2,2)),\n",
    "    torch.nn.Flatten()\n",
    ")\n",
    "net2 = torch.nn.Sequential(\n",
    "    torch.nn.Linear(2304,3),\n",
    ")\n",
    "net = torch.nn.Sequential(\n",
    "    net1, # 2d-part\n",
    "    net2, # 1d-part \n",
    ")\n",
    "loss_fn = torch.nn.CrossEntropyLoss()\n",
    "optimizr = torch.optim.Adam(net.parameters())\n",
    "# Step3: 적합 \n",
    "net.to(\"cuda:0\")\n",
    "for epoc in range(10):\n",
    "    for xi,yi in dl:\n",
    "        ## 1\n",
    "        ## 2\n",
    "        loss = loss_fn(net(xi.to(\"cuda:0\")),yi.to(\"cuda:0\"))\n",
    "        ## 3 \n",
    "        loss.backward()\n",
    "        ## 4 \n",
    "        optimizr.step()\n",
    "        optimizr.zero_grad()\n",
    "net.to(\"cpu\")\n",
    "# Step4: 예측 및 평가 \n",
    "print(f'train: {(net(X).data.argmax(axis=1) == y).float().mean():.4f}') # <-- 여기수정\n",
    "print(f'val: {(net(XX).data.argmax(axis=1) == yy).float().mean():.4f}') # <-- 여기수정"
   ]
  },
  {
   "cell_type": "markdown",
   "id": "1a08e099-598c-4971-bd36-76973f366c3b",
   "metadata": {},
   "source": [
    "# 5. Fashion-MNIST -- fastai"
   ]
  },
  {
   "cell_type": "markdown",
   "id": "a5f02c98-b785-41ec-8ed1-5b77688dd1e9",
   "metadata": {},
   "source": [
    "`-` Data"
   ]
  },
  {
   "cell_type": "code",
   "execution_count": 207,
   "id": "155edf23-35db-4ac3-af9e-3a177e358944",
   "metadata": {
    "tags": []
   },
   "outputs": [],
   "source": [
    "df_train=pd.read_csv('https://media.githubusercontent.com/media/guebin/PP2023/main/posts/fashion-mnist_train.csv')\n",
    "df_test=pd.read_csv('https://media.githubusercontent.com/media/guebin/PP2023/main/posts/fashion-mnist_test.csv')\n",
    "def rshp(row):\n",
    "    return row.reshape(1,28,28)\n",
    "X = torch.tensor(np.apply_along_axis(rshp,axis=1,arr=np.array(df_train.iloc[:,1:]))).float()\n",
    "XX  = torch.tensor(np.apply_along_axis(rshp,axis=1,arr=np.array(df_test.iloc[:,1:]))).float()\n",
    "y = torch.tensor(np.array(df_train.label))\n",
    "yy  = torch.tensor(np.array(df_test.label))"
   ]
  },
  {
   "cell_type": "code",
   "execution_count": 208,
   "id": "6abf37c9-6418-44da-9575-bfd755b7838d",
   "metadata": {
    "tags": []
   },
   "outputs": [
    {
     "name": "stdout",
     "output_type": "stream",
     "text": [
      "torch.Size([60000, 1, 28, 28]) \t torch.float32\n",
      "torch.Size([60000]) \t\t torch.int64\n",
      "torch.Size([10000, 1, 28, 28]) \t torch.float32\n",
      "torch.Size([10000]) \t\t torch.int64\n"
     ]
    }
   ],
   "source": [
    "print(X.shape,'\\t',X.dtype)\n",
    "print(y.shape,'\\t\\t',y.dtype)\n",
    "print(XX.shape,'\\t',XX.dtype)\n",
    "print(yy.shape,'\\t\\t',yy.dtype)"
   ]
  },
  {
   "cell_type": "code",
   "execution_count": 209,
   "id": "c719fe6c-fc81-4259-8089-e9e49adae0d2",
   "metadata": {
    "tags": []
   },
   "outputs": [
    {
     "data": {
      "text/plain": [
       "<matplotlib.image.AxesImage at 0x7f5f2ecda2d0>"
      ]
     },
     "execution_count": 209,
     "metadata": {},
     "output_type": "execute_result"
    },
    {
     "data": {
      "image/png": "[encoded data removed]",
      "text/plain": [
       "<Figure size 640x480 with 1 Axes>"
      ]
     },
     "metadata": {},
     "output_type": "display_data"
    }
   ],
   "source": [
    "plt.imshow(torch.einsum('cij -> ijc',X[0]),cmap=\"gray\")"
   ]
  },
  {
   "cell_type": "markdown",
   "id": "402659db-7c3f-4fbc-834b-0ce8c5b06006",
   "metadata": {},
   "source": [
    "## A. torch"
   ]
  },
  {
   "cell_type": "code",
   "execution_count": 210,
   "id": "18a1516f-34c6-4802-b79b-8c8bc2f38688",
   "metadata": {
    "tags": []
   },
   "outputs": [
    {
     "name": "stdout",
     "output_type": "stream",
     "text": [
      "train: 0.9095\n",
      "val: 0.8692\n"
     ]
    }
   ],
   "source": [
    "# Step1: 데이터정리 (dls생성)\n",
    "ds = torch.utils.data.TensorDataset(X,y)\n",
    "dl = torch.utils.data.DataLoader(ds,batch_size=128) \n",
    "# Step2: 적합에 필요한 오브젝트 생성\n",
    "net1 = torch.nn.Sequential(\n",
    "    torch.nn.Conv2d(1,16,(5,5)),\n",
    "    torch.nn.ReLU(),\n",
    "    torch.nn.MaxPool2d((2,2)),\n",
    "    torch.nn.Flatten()\n",
    ")\n",
    "net2 = torch.nn.Sequential(\n",
    "    torch.nn.Linear(2304,10),\n",
    ")\n",
    "net = torch.nn.Sequential(\n",
    "    net1, # 2d-part\n",
    "    net2, # 1d-part \n",
    ")\n",
    "loss_fn = torch.nn.CrossEntropyLoss()\n",
    "optimizr = torch.optim.Adam(net.parameters())\n",
    "# Step3: 적합 \n",
    "net.to(\"cuda:0\")\n",
    "for epoc in range(10):\n",
    "    for xi,yi in dl:\n",
    "        ## 1\n",
    "        ## 2\n",
    "        loss = loss_fn(net(xi.to(\"cuda:0\")),yi.to(\"cuda:0\"))\n",
    "        ## 3 \n",
    "        loss.backward()\n",
    "        ## 4 \n",
    "        optimizr.step()\n",
    "        optimizr.zero_grad()\n",
    "net.to(\"cpu\")\n",
    "# Step4: 예측 및 평가 \n",
    "print(f'train: {(net(X).data.argmax(axis=1) == y).float().mean():.4f}')\n",
    "print(f'val: {(net(XX).data.argmax(axis=1) == yy).float().mean():.4f}')"
   ]
  },
  {
   "cell_type": "markdown",
   "id": "7e757b3c-1e4f-4acb-8ec8-47175f4cd776",
   "metadata": {},
   "source": [
    "## B. fastai"
   ]
  },
  {
   "cell_type": "code",
   "execution_count": 211,
   "id": "9508e991-9faf-4c0f-9f44-f28a0b4486c4",
   "metadata": {
    "tags": []
   },
   "outputs": [
    {
     "data": {
      "text/html": [
       "\n",
       "<style>\n",
       "    /* Turns off some styling */\n",
       "    progress {\n",
       "        /* gets rid of default border in Firefox and Opera. */\n",
       "        border: none;\n",
       "        /* Needs to be in here for Safari polyfill so background images work as expected. */\n",
       "        background-size: auto;\n",
       "    }\n",
       "    progress:not([value]), progress:not([value])::-webkit-progress-bar {\n",
       "        background: repeating-linear-gradient(45deg, #7e7e7e, #7e7e7e 10px, #5c5c5c 10px, #5c5c5c 20px);\n",
       "    }\n",
       "    .progress-bar-interrupted, .progress-bar-interrupted::-webkit-progress-bar {\n",
       "        background: #F44336;\n",
       "    }\n",
       "</style>\n"
      ],
      "text/plain": [
       "<IPython.core.display.HTML object>"
      ]
     },
     "metadata": {},
     "output_type": "display_data"
    },
    {
     "data": {
      "text/html": [
       "<table border=\"1\" class=\"dataframe\">\n",
       "  <thead>\n",
       "    <tr style=\"text-align: left;\">\n",
       "      <th>epoch</th>\n",
       "      <th>train_loss</th>\n",
       "      <th>valid_loss</th>\n",
       "      <th>accuracy</th>\n",
       "      <th>time</th>\n",
       "    </tr>\n",
       "  </thead>\n",
       "  <tbody>\n",
       "    <tr>\n",
       "      <td>0</td>\n",
       "      <td>0.543901</td>\n",
       "      <td>0.478390</td>\n",
       "      <td>0.854700</td>\n",
       "      <td>00:00</td>\n",
       "    </tr>\n",
       "    <tr>\n",
       "      <td>1</td>\n",
       "      <td>0.403238</td>\n",
       "      <td>0.417672</td>\n",
       "      <td>0.861200</td>\n",
       "      <td>00:00</td>\n",
       "    </tr>\n",
       "    <tr>\n",
       "      <td>2</td>\n",
       "      <td>0.353587</td>\n",
       "      <td>0.399633</td>\n",
       "      <td>0.867900</td>\n",
       "      <td>00:00</td>\n",
       "    </tr>\n",
       "    <tr>\n",
       "      <td>3</td>\n",
       "      <td>0.319807</td>\n",
       "      <td>0.401830</td>\n",
       "      <td>0.872600</td>\n",
       "      <td>00:00</td>\n",
       "    </tr>\n",
       "    <tr>\n",
       "      <td>4</td>\n",
       "      <td>0.297642</td>\n",
       "      <td>0.407712</td>\n",
       "      <td>0.875300</td>\n",
       "      <td>00:00</td>\n",
       "    </tr>\n",
       "    <tr>\n",
       "      <td>5</td>\n",
       "      <td>0.282916</td>\n",
       "      <td>0.416574</td>\n",
       "      <td>0.874500</td>\n",
       "      <td>00:00</td>\n",
       "    </tr>\n",
       "    <tr>\n",
       "      <td>6</td>\n",
       "      <td>0.266319</td>\n",
       "      <td>0.434183</td>\n",
       "      <td>0.874100</td>\n",
       "      <td>00:01</td>\n",
       "    </tr>\n",
       "    <tr>\n",
       "      <td>7</td>\n",
       "      <td>0.256538</td>\n",
       "      <td>0.447821</td>\n",
       "      <td>0.875200</td>\n",
       "      <td>00:00</td>\n",
       "    </tr>\n",
       "    <tr>\n",
       "      <td>8</td>\n",
       "      <td>0.250892</td>\n",
       "      <td>0.478167</td>\n",
       "      <td>0.871800</td>\n",
       "      <td>00:00</td>\n",
       "    </tr>\n",
       "    <tr>\n",
       "      <td>9</td>\n",
       "      <td>0.246810</td>\n",
       "      <td>0.490654</td>\n",
       "      <td>0.869000</td>\n",
       "      <td>00:00</td>\n",
       "    </tr>\n",
       "  </tbody>\n",
       "</table>"
      ],
      "text/plain": [
       "<IPython.core.display.HTML object>"
      ]
     },
     "metadata": {},
     "output_type": "display_data"
    },
    {
     "name": "stdout",
     "output_type": "stream",
     "text": [
      "train: 0.9089\n",
      "val: 0.8690\n"
     ]
    }
   ],
   "source": [
    "# Step1: 데이터정리 (dls생성)\n",
    "ds1 = torch.utils.data.TensorDataset(X,y)\n",
    "ds2 = torch.utils.data.TensorDataset(XX,yy)\n",
    "dl1 = torch.utils.data.DataLoader(ds1,batch_size=128) \n",
    "dl2 = torch.utils.data.DataLoader(ds2,batch_size=5000) \n",
    "dls = DataLoaders(dl1,dl2)\n",
    "# Step2: 적합에 필요한 오브젝트 생성\n",
    "net1 = torch.nn.Sequential(\n",
    "    torch.nn.Conv2d(1,16,(5,5)),\n",
    "    torch.nn.ReLU(),\n",
    "    torch.nn.MaxPool2d((2,2)),\n",
    "    torch.nn.Flatten()\n",
    ")\n",
    "net2 = torch.nn.Sequential(\n",
    "    torch.nn.Linear(2304,10),\n",
    ")\n",
    "net = torch.nn.Sequential(\n",
    "    net1, # 2d-part\n",
    "    net2, # 1d-part \n",
    ")\n",
    "loss_fn = torch.nn.CrossEntropyLoss()\n",
    "#optimizr = torch.optim.Adam(net.parameters())\n",
    "lrnr = Learner(\n",
    "    dls=dls,\n",
    "    model=net,\n",
    "    loss_func=loss_fn,\n",
    "    #--#\n",
    "    metrics=[accuracy]\n",
    ")\n",
    "# Step3: 적합 \n",
    "lrnr.fit(10)\n",
    "# Step4: 예측 및 평가 \n",
    "\n",
    "lrnr.model.to(\"cpu\")\n",
    "print(f'train: {(lrnr.model(X).data.argmax(axis=1) == y).float().mean():.4f}')\n",
    "print(f'val: {(lrnr.model(XX).data.argmax(axis=1) == yy).float().mean():.4f}')"
   ]
  },
  {
   "cell_type": "markdown",
   "id": "27bcb9fa-8a7b-47da-85dd-be161264df9e",
   "metadata": {},
   "source": [
    "# 6. ImageNet -- 직접설계/transfer "
   ]
  },
  {
   "cell_type": "markdown",
   "id": "e4f4ba73-626f-4852-abee-09c063cdd0e3",
   "metadata": {},
   "source": [
    "## A. 알렉스넷[@krizhevsky2012imagenet]의 의미"
   ]
  },
  {
   "cell_type": "markdown",
   "id": "2d9522c3-ca0b-4986-a86a-9fbc32cf5278",
   "metadata": {},
   "source": [
    "`-` 야사로 배우는 인공지능: <https://brunch.co.kr/@hvnpoet/109>"
   ]
  },
  {
   "cell_type": "markdown",
   "id": "bdb65429-a88b-4d95-bce5-44028e04438c",
   "metadata": {},
   "source": [
    "## B. 알렉스넷의 아키텍처 써보기 "
   ]
  },
  {
   "cell_type": "markdown",
   "id": "c16687d6-7d2b-40f1-948c-37ce7d8facc7",
   "metadata": {},
   "source": [
    "`-` 알렉스넷의 아키텍처: \n",
    "\n",
    "-ref: <https://upload.wikimedia.org/wikipedia/commons/thumb/c/cc/Comparison_image_neural_networks.svg/960px-Comparison_image_neural_networks.svg.png>"
   ]
  },
  {
   "cell_type": "markdown",
   "id": "f063c737-2620-4a96-a5fd-86e830b196d6",
   "metadata": {},
   "source": [
    "![](https://upload.wikimedia.org/wikipedia/commons/thumb/c/cc/Comparison_image_neural_networks.svg/960px-Comparison_image_neural_networks.svg.png)"
   ]
  },
  {
   "cell_type": "markdown",
   "id": "b3817fd8-1e80-4947-9ebf-706280d309a0",
   "metadata": {},
   "source": [
    "`-` 재미삼아 써보면.. "
   ]
  },
  {
   "cell_type": "code",
   "execution_count": 737,
   "id": "cd8bd6aa-9004-4cd6-9642-d2f121fd06b8",
   "metadata": {
    "tags": []
   },
   "outputs": [
    {
     "data": {
      "text/plain": [
       "torch.Size([1, 3, 227, 227])"
      ]
     },
     "execution_count": 737,
     "metadata": {},
     "output_type": "execute_result"
    }
   ],
   "source": [
    "img = torch.zeros(1,3*227*227).reshape(1,3,227,227)\n",
    "img.shape"
   ]
  },
  {
   "cell_type": "code",
   "execution_count": 747,
   "id": "bdd5f796-6695-480b-8ed6-df39a04ea845",
   "metadata": {
    "tags": []
   },
   "outputs": [],
   "source": [
    "net = torch.nn.Sequential(\n",
    "    torch.nn.Conv2d(3,96,kernel_size=(11,11),stride=4),\n",
    "    torch.nn.ReLU(),    \n",
    "    torch.nn.MaxPool2d((3,3),stride=2), # default stride는 3\n",
    "    torch.nn.Conv2d(96,256,kernel_size=(5,5),padding=2),\n",
    "    torch.nn.ReLU(),\n",
    "    torch.nn.MaxPool2d((3,3),stride=2), # default stride는 3\n",
    "    torch.nn.Conv2d(256,384,kernel_size=(3,3),padding=1),\n",
    "    torch.nn.ReLU(),\n",
    "    torch.nn.Conv2d(384,384,kernel_size=(3,3),padding=1),\n",
    "    torch.nn.ReLU(),    \n",
    "    torch.nn.Conv2d(384,256,kernel_size=(3,3),padding=1),\n",
    "    torch.nn.ReLU(),    \n",
    "    torch.nn.MaxPool2d((3,3),stride=2),\n",
    "    torch.nn.Flatten(),\n",
    "    torch.nn.Linear(9216,4096),\n",
    "    torch.nn.ReLU(),\n",
    "    torch.nn.Dropout(0.5),\n",
    "    torch.nn.Linear(4096,4096),        \n",
    "    torch.nn.ReLU(),\n",
    "    torch.nn.Dropout(0.5),    \n",
    "    torch.nn.Linear(4096,1000),\n",
    ")"
   ]
  },
  {
   "cell_type": "markdown",
   "id": "d1daf05d-9924-43e3-98e8-d987e3a55d75",
   "metadata": {},
   "source": [
    "## C. 알렉스넷으로 ImageNet 적합 -- HW"
   ]
  },
  {
   "cell_type": "code",
   "execution_count": 748,
   "id": "f6a4287e-c7fc-40e2-8291-28dafb5bd0f7",
   "metadata": {
    "tags": []
   },
   "outputs": [],
   "source": [
    "pass"
   ]
  },
  {
   "cell_type": "markdown",
   "id": "34923f60-be6a-4c4a-a836-eebc25cbbfa7",
   "metadata": {},
   "source": [
    "# 7. CIFAR10 -- transfer"
   ]
  },
  {
   "cell_type": "markdown",
   "id": "ef977c7e-e839-4c64-9e09-5191e324482a",
   "metadata": {},
   "source": [
    "## A. `dls` 만들자"
   ]
  },
  {
   "cell_type": "markdown",
   "id": "ea24d546-daf3-4678-a44a-0fe01fde57e5",
   "metadata": {},
   "source": [
    "`-` X,y를 얻자. "
   ]
  },
  {
   "cell_type": "code",
   "execution_count": 642,
   "id": "951a8d56-993b-4f21-8623-c9ee0c184dd8",
   "metadata": {
    "tags": []
   },
   "outputs": [
    {
     "data": {
      "text/plain": [
       "(#3) [Path('/home/cgb3/.fastai/data/cifar10/labels.txt'),Path('/home/cgb3/.fastai/data/cifar10/train'),Path('/home/cgb3/.fastai/data/cifar10/test')]"
      ]
     },
     "execution_count": 642,
     "metadata": {},
     "output_type": "execute_result"
    }
   ],
   "source": [
    "path = untar_data(URLs.CIFAR)\n",
    "path.ls()"
   ]
  },
  {
   "cell_type": "code",
   "execution_count": 643,
   "id": "54e33b0f-aa27-4a90-be18-9c431f1ac0ea",
   "metadata": {
    "tags": []
   },
   "outputs": [
    {
     "data": {
      "text/plain": [
       "['cat',\n",
       " 'dog',\n",
       " 'horse',\n",
       " 'frog',\n",
       " 'automobile',\n",
       " 'airplane',\n",
       " 'ship',\n",
       " 'deer',\n",
       " 'truck',\n",
       " 'bird']"
      ]
     },
     "execution_count": 643,
     "metadata": {},
     "output_type": "execute_result"
    }
   ],
   "source": [
    "labels = [str(l).split('/')[-1] for l in (path/'train').ls()]\n",
    "labels"
   ]
  },
  {
   "cell_type": "code",
   "execution_count": 644,
   "id": "6160ec79-b1d4-439c-90d0-e383e4c0f10c",
   "metadata": {
    "tags": []
   },
   "outputs": [],
   "source": [
    "X = torch.stack([torchvision.io.read_image(str(fname)) for l in labels for fname in (path/f'train/{l}').ls()],axis=0).float()/255\n",
    "XX = torch.stack([torchvision.io.read_image(str(fname)) for l in labels for fname in (path/f'test/{l}').ls()],axis=0).float()/255\n",
    "y = torch.tensor([i for i,l in enumerate(labels) for fname in (path/f'train/{l}').ls()])\n",
    "yy = torch.tensor([i for i,l in enumerate(labels) for fname in (path/f'test/{l}').ls()])"
   ]
  },
  {
   "cell_type": "code",
   "execution_count": 645,
   "id": "3e0a32f5-de50-4b65-8d2d-d04926b59aa3",
   "metadata": {
    "tags": []
   },
   "outputs": [
    {
     "name": "stdout",
     "output_type": "stream",
     "text": [
      "torch.Size([50000, 3, 32, 32]) \t torch.float32\n",
      "torch.Size([50000]) \t\t torch.int64\n",
      "torch.Size([10000, 3, 32, 32]) \t torch.float32\n",
      "torch.Size([10000]) \t\t torch.int64\n"
     ]
    }
   ],
   "source": [
    "print(X.shape,'\\t',X.dtype)\n",
    "print(y.shape,'\\t\\t',y.dtype)\n",
    "print(XX.shape,'\\t',XX.dtype)\n",
    "print(yy.shape,'\\t\\t',yy.dtype)"
   ]
  },
  {
   "cell_type": "markdown",
   "id": "de56a233-b8c9-4be5-abca-b2e957e5e3fb",
   "metadata": {},
   "source": [
    "`-` 데이터를 시각화해보자. "
   ]
  },
  {
   "cell_type": "code",
   "execution_count": 458,
   "id": "cf15b80e-d3a9-40c5-bfbd-f6cc91ece64f",
   "metadata": {
    "tags": []
   },
   "outputs": [
    {
     "data": {
      "text/plain": [
       "Text(0.5, 1.0, 'ship,6')"
      ]
     },
     "execution_count": 458,
     "metadata": {},
     "output_type": "execute_result"
    },
    {
     "data": {
      "image/png": "[encoded data removed]",
      "text/plain": [
       "<Figure size 640x480 with 1 Axes>"
      ]
     },
     "metadata": {},
     "output_type": "display_data"
    }
   ],
   "source": [
    "ylabel = [l for l in labels for fname in (path/f'train/{l}').ls()]\n",
    "i = 30002\n",
    "plt.imshow(torch.einsum('cij->ijc',X[i]))\n",
    "plt.title(f'{ylabel[i]},{y[i]}')"
   ]
  },
  {
   "cell_type": "markdown",
   "id": "768d0d69-02b6-4a31-a73f-2c6589ac8cb6",
   "metadata": {
    "tags": []
   },
   "source": [
    "- 넘.. 어려운뎅? \n",
    "- 스트레스받아.."
   ]
  },
  {
   "cell_type": "markdown",
   "id": "1406bfae-9074-4a20-8b3c-2e696ad6728a",
   "metadata": {},
   "source": [
    "`-` 아무튼 dls를 만들자. "
   ]
  },
  {
   "cell_type": "code",
   "execution_count": 550,
   "id": "32ced4a4-424f-4cbb-90b4-dd3f76fdbf72",
   "metadata": {
    "tags": []
   },
   "outputs": [],
   "source": [
    "ds1 = torch.utils.data.TensorDataset(X,y)\n",
    "ds2 = torch.utils.data.TensorDataset(XX,yy)\n",
    "dl1 = torch.utils.data.DataLoader(ds1,batch_size=256,shuffle=True)\n",
    "dl2 = torch.utils.data.DataLoader(ds2,batch_size=10000)\n",
    "dls = DataLoaders(dl1,dl2)"
   ]
  },
  {
   "cell_type": "markdown",
   "id": "b29ec224-a990-4b8c-afcc-40fa1df8f3c9",
   "metadata": {},
   "source": [
    "`-` 아래와 같이 쉽게 만들수도있음... "
   ]
  },
  {
   "cell_type": "code",
   "execution_count": 551,
   "id": "7033e450-dec3-4e40-81c5-97b47410635e",
   "metadata": {
    "tags": []
   },
   "outputs": [],
   "source": [
    "# dls = ImageDataLoaders.from_folder(path,train='train',valid='test')\n",
    "# dls.show_batch()"
   ]
  },
  {
   "cell_type": "markdown",
   "id": "b006400e-e76b-4e00-a911-405a2226d75e",
   "metadata": {},
   "source": [
    "## B. 수제네트워크로 학습"
   ]
  },
  {
   "cell_type": "markdown",
   "id": "1d0050fb-fe3a-47da-8854-624b7d496654",
   "metadata": {},
   "source": [
    "`-` 시도1: 이게 좀 힘들어요 ㅎㅎ"
   ]
  },
  {
   "cell_type": "code",
   "execution_count": 561,
   "id": "ba19fd0d-7c2d-476a-be5f-7cc2b7e6841f",
   "metadata": {
    "tags": []
   },
   "outputs": [
    {
     "data": {
      "text/html": [
       "\n",
       "<style>\n",
       "    /* Turns off some styling */\n",
       "    progress {\n",
       "        /* gets rid of default border in Firefox and Opera. */\n",
       "        border: none;\n",
       "        /* Needs to be in here for Safari polyfill so background images work as expected. */\n",
       "        background-size: auto;\n",
       "    }\n",
       "    progress:not([value]), progress:not([value])::-webkit-progress-bar {\n",
       "        background: repeating-linear-gradient(45deg, #7e7e7e, #7e7e7e 10px, #5c5c5c 10px, #5c5c5c 20px);\n",
       "    }\n",
       "    .progress-bar-interrupted, .progress-bar-interrupted::-webkit-progress-bar {\n",
       "        background: #F44336;\n",
       "    }\n",
       "</style>\n"
      ],
      "text/plain": [
       "<IPython.core.display.HTML object>"
      ]
     },
     "metadata": {},
     "output_type": "display_data"
    },
    {
     "data": {
      "text/html": [
       "<table border=\"1\" class=\"dataframe\">\n",
       "  <thead>\n",
       "    <tr style=\"text-align: left;\">\n",
       "      <th>epoch</th>\n",
       "      <th>train_loss</th>\n",
       "      <th>valid_loss</th>\n",
       "      <th>accuracy</th>\n",
       "      <th>time</th>\n",
       "    </tr>\n",
       "  </thead>\n",
       "  <tbody>\n",
       "    <tr>\n",
       "      <td>0</td>\n",
       "      <td>2.491399</td>\n",
       "      <td>2.304589</td>\n",
       "      <td>0.110600</td>\n",
       "      <td>00:01</td>\n",
       "    </tr>\n",
       "    <tr>\n",
       "      <td>1</td>\n",
       "      <td>2.404345</td>\n",
       "      <td>2.300255</td>\n",
       "      <td>0.117600</td>\n",
       "      <td>00:01</td>\n",
       "    </tr>\n",
       "    <tr>\n",
       "      <td>2</td>\n",
       "      <td>2.794670</td>\n",
       "      <td>2.297755</td>\n",
       "      <td>0.120000</td>\n",
       "      <td>00:01</td>\n",
       "    </tr>\n",
       "    <tr>\n",
       "      <td>3</td>\n",
       "      <td>2.466218</td>\n",
       "      <td>23.315241</td>\n",
       "      <td>0.100000</td>\n",
       "      <td>00:01</td>\n",
       "    </tr>\n",
       "    <tr>\n",
       "      <td>4</td>\n",
       "      <td>1.008362</td>\n",
       "      <td>55.064445</td>\n",
       "      <td>0.100000</td>\n",
       "      <td>00:01</td>\n",
       "    </tr>\n",
       "    <tr>\n",
       "      <td>5</td>\n",
       "      <td>0.679833</td>\n",
       "      <td>67.542747</td>\n",
       "      <td>0.100000</td>\n",
       "      <td>00:01</td>\n",
       "    </tr>\n",
       "    <tr>\n",
       "      <td>6</td>\n",
       "      <td>0.687613</td>\n",
       "      <td>54.044514</td>\n",
       "      <td>0.100000</td>\n",
       "      <td>00:01</td>\n",
       "    </tr>\n",
       "    <tr>\n",
       "      <td>7</td>\n",
       "      <td>0.861962</td>\n",
       "      <td>62.691330</td>\n",
       "      <td>0.100000</td>\n",
       "      <td>00:01</td>\n",
       "    </tr>\n",
       "    <tr>\n",
       "      <td>8</td>\n",
       "      <td>0.410336</td>\n",
       "      <td>73.803596</td>\n",
       "      <td>0.100000</td>\n",
       "      <td>00:01</td>\n",
       "    </tr>\n",
       "    <tr>\n",
       "      <td>9</td>\n",
       "      <td>0.461291</td>\n",
       "      <td>58.387405</td>\n",
       "      <td>0.099900</td>\n",
       "      <td>00:01</td>\n",
       "    </tr>\n",
       "  </tbody>\n",
       "</table>"
      ],
      "text/plain": [
       "<IPython.core.display.HTML object>"
      ]
     },
     "metadata": {},
     "output_type": "display_data"
    },
    {
     "name": "stdout",
     "output_type": "stream",
     "text": [
      "train: 0.1000\n",
      "val: 0.0999\n"
     ]
    }
   ],
   "source": [
    "# Step1:\n",
    "ds1 = torch.utils.data.TensorDataset(X,y)\n",
    "ds2 = torch.utils.data.TensorDataset(XX,yy)\n",
    "dl1 = torch.utils.data.DataLoader(ds1,batch_size=64)\n",
    "dl2 = torch.utils.data.DataLoader(ds2,batch_size=10000)\n",
    "dls = DataLoaders(dl1,dl2)\n",
    "# Step2:\n",
    "net1 = torch.nn.Sequential(\n",
    "    torch.nn.Conv2d(3,16,(5,5)),\n",
    "    torch.nn.ReLU(),\n",
    "    torch.nn.MaxPool2d((2,2)),\n",
    "    torch.nn.Flatten()\n",
    ")\n",
    "net2 = torch.nn.Sequential(\n",
    "    torch.nn.Linear(3136,10),\n",
    ")\n",
    "net = torch.nn.Sequential(\n",
    "    net1, # 2d-part\n",
    "    net2, # 1d-part \n",
    ")\n",
    "loss_fn = torch.nn.CrossEntropyLoss()\n",
    "lrnr = Learner(\n",
    "    dls=dls,\n",
    "    model=net,\n",
    "    loss_func=loss_fn,\n",
    "    #--#\n",
    "    metrics=[accuracy]\n",
    ")\n",
    "# Step3:\n",
    "lrnr.fit(10)\n",
    "# Step4: \n",
    "lrnr.model.to(\"cpu\")\n",
    "print(f'train: {(lrnr.model(X).data.argmax(axis=1) == y).float().mean():.4f}')\n",
    "print(f'val: {(lrnr.model(XX).data.argmax(axis=1) == yy).float().mean():.4f}')"
   ]
  },
  {
   "cell_type": "markdown",
   "id": "e83539a3-c107-4274-a9c1-d849c528bc9b",
   "metadata": {},
   "source": [
    "- ????"
   ]
  },
  {
   "cell_type": "markdown",
   "id": "4130e68a-a329-4b3e-bf50-d8231995f5f8",
   "metadata": {},
   "source": [
    "`-` 시도2: 셔플!"
   ]
  },
  {
   "cell_type": "code",
   "execution_count": 562,
   "id": "eb6a6fc1-c932-4a8b-8923-23a7d215d30c",
   "metadata": {
    "tags": []
   },
   "outputs": [
    {
     "data": {
      "text/html": [
       "\n",
       "<style>\n",
       "    /* Turns off some styling */\n",
       "    progress {\n",
       "        /* gets rid of default border in Firefox and Opera. */\n",
       "        border: none;\n",
       "        /* Needs to be in here for Safari polyfill so background images work as expected. */\n",
       "        background-size: auto;\n",
       "    }\n",
       "    progress:not([value]), progress:not([value])::-webkit-progress-bar {\n",
       "        background: repeating-linear-gradient(45deg, #7e7e7e, #7e7e7e 10px, #5c5c5c 10px, #5c5c5c 20px);\n",
       "    }\n",
       "    .progress-bar-interrupted, .progress-bar-interrupted::-webkit-progress-bar {\n",
       "        background: #F44336;\n",
       "    }\n",
       "</style>\n"
      ],
      "text/plain": [
       "<IPython.core.display.HTML object>"
      ]
     },
     "metadata": {},
     "output_type": "display_data"
    },
    {
     "data": {
      "text/html": [
       "<table border=\"1\" class=\"dataframe\">\n",
       "  <thead>\n",
       "    <tr style=\"text-align: left;\">\n",
       "      <th>epoch</th>\n",
       "      <th>train_loss</th>\n",
       "      <th>valid_loss</th>\n",
       "      <th>accuracy</th>\n",
       "      <th>time</th>\n",
       "    </tr>\n",
       "  </thead>\n",
       "  <tbody>\n",
       "    <tr>\n",
       "      <td>0</td>\n",
       "      <td>1.386804</td>\n",
       "      <td>1.365188</td>\n",
       "      <td>0.524000</td>\n",
       "      <td>00:01</td>\n",
       "    </tr>\n",
       "    <tr>\n",
       "      <td>1</td>\n",
       "      <td>1.271729</td>\n",
       "      <td>1.294105</td>\n",
       "      <td>0.535300</td>\n",
       "      <td>00:01</td>\n",
       "    </tr>\n",
       "    <tr>\n",
       "      <td>2</td>\n",
       "      <td>1.218193</td>\n",
       "      <td>1.232671</td>\n",
       "      <td>0.568100</td>\n",
       "      <td>00:01</td>\n",
       "    </tr>\n",
       "    <tr>\n",
       "      <td>3</td>\n",
       "      <td>1.143906</td>\n",
       "      <td>1.180212</td>\n",
       "      <td>0.585400</td>\n",
       "      <td>00:01</td>\n",
       "    </tr>\n",
       "    <tr>\n",
       "      <td>4</td>\n",
       "      <td>1.121700</td>\n",
       "      <td>1.159967</td>\n",
       "      <td>0.596500</td>\n",
       "      <td>00:01</td>\n",
       "    </tr>\n",
       "    <tr>\n",
       "      <td>5</td>\n",
       "      <td>1.081856</td>\n",
       "      <td>1.125518</td>\n",
       "      <td>0.605800</td>\n",
       "      <td>00:01</td>\n",
       "    </tr>\n",
       "    <tr>\n",
       "      <td>6</td>\n",
       "      <td>1.041728</td>\n",
       "      <td>1.094741</td>\n",
       "      <td>0.619400</td>\n",
       "      <td>00:01</td>\n",
       "    </tr>\n",
       "    <tr>\n",
       "      <td>7</td>\n",
       "      <td>1.035460</td>\n",
       "      <td>1.112487</td>\n",
       "      <td>0.617500</td>\n",
       "      <td>00:01</td>\n",
       "    </tr>\n",
       "    <tr>\n",
       "      <td>8</td>\n",
       "      <td>1.040533</td>\n",
       "      <td>1.094738</td>\n",
       "      <td>0.620600</td>\n",
       "      <td>00:01</td>\n",
       "    </tr>\n",
       "    <tr>\n",
       "      <td>9</td>\n",
       "      <td>0.990589</td>\n",
       "      <td>1.092688</td>\n",
       "      <td>0.617300</td>\n",
       "      <td>00:01</td>\n",
       "    </tr>\n",
       "  </tbody>\n",
       "</table>"
      ],
      "text/plain": [
       "<IPython.core.display.HTML object>"
      ]
     },
     "metadata": {},
     "output_type": "display_data"
    },
    {
     "name": "stdout",
     "output_type": "stream",
     "text": [
      "train: 0.6746\n",
      "val: 0.6173\n"
     ]
    }
   ],
   "source": [
    "# Step1:\n",
    "ds1 = torch.utils.data.TensorDataset(X,y)\n",
    "ds2 = torch.utils.data.TensorDataset(XX,yy)\n",
    "dl1 = torch.utils.data.DataLoader(ds1,batch_size=64,shuffle=True)\n",
    "dl2 = torch.utils.data.DataLoader(ds2,batch_size=10000)\n",
    "dls = DataLoaders(dl1,dl2)\n",
    "# Step2:\n",
    "net1 = torch.nn.Sequential(\n",
    "    torch.nn.Conv2d(3,16,(5,5)),\n",
    "    torch.nn.ReLU(),\n",
    "    torch.nn.MaxPool2d((2,2)),\n",
    "    torch.nn.Flatten()\n",
    ")\n",
    "net2 = torch.nn.Sequential(\n",
    "    torch.nn.Linear(3136,10),\n",
    ")\n",
    "net = torch.nn.Sequential(\n",
    "    net1, # 2d-part\n",
    "    net2, # 1d-part \n",
    ")\n",
    "loss_fn = torch.nn.CrossEntropyLoss()\n",
    "lrnr = Learner(\n",
    "    dls=dls,\n",
    "    model=net,\n",
    "    loss_func=loss_fn,\n",
    "    #--#\n",
    "    metrics=[accuracy]\n",
    ")\n",
    "# Step3:\n",
    "lrnr.fit(10)\n",
    "# Step4: \n",
    "lrnr.model.to(\"cpu\")\n",
    "print(f'train: {(lrnr.model(X).data.argmax(axis=1) == y).float().mean():.4f}')\n",
    "print(f'val: {(lrnr.model(XX).data.argmax(axis=1) == yy).float().mean():.4f}')"
   ]
  },
  {
   "cell_type": "markdown",
   "id": "8e04b1bd-6d64-47bc-b575-e1f3dbc3ab55",
   "metadata": {},
   "source": [
    "`-` 시도3: 복잡하게.."
   ]
  },
  {
   "cell_type": "code",
   "execution_count": 563,
   "id": "80d4267a-1897-42ac-8103-b332bb35db1a",
   "metadata": {
    "tags": []
   },
   "outputs": [
    {
     "data": {
      "text/html": [
       "\n",
       "<style>\n",
       "    /* Turns off some styling */\n",
       "    progress {\n",
       "        /* gets rid of default border in Firefox and Opera. */\n",
       "        border: none;\n",
       "        /* Needs to be in here for Safari polyfill so background images work as expected. */\n",
       "        background-size: auto;\n",
       "    }\n",
       "    progress:not([value]), progress:not([value])::-webkit-progress-bar {\n",
       "        background: repeating-linear-gradient(45deg, #7e7e7e, #7e7e7e 10px, #5c5c5c 10px, #5c5c5c 20px);\n",
       "    }\n",
       "    .progress-bar-interrupted, .progress-bar-interrupted::-webkit-progress-bar {\n",
       "        background: #F44336;\n",
       "    }\n",
       "</style>\n"
      ],
      "text/plain": [
       "<IPython.core.display.HTML object>"
      ]
     },
     "metadata": {},
     "output_type": "display_data"
    },
    {
     "data": {
      "text/html": [
       "<table border=\"1\" class=\"dataframe\">\n",
       "  <thead>\n",
       "    <tr style=\"text-align: left;\">\n",
       "      <th>epoch</th>\n",
       "      <th>train_loss</th>\n",
       "      <th>valid_loss</th>\n",
       "      <th>accuracy</th>\n",
       "      <th>time</th>\n",
       "    </tr>\n",
       "  </thead>\n",
       "  <tbody>\n",
       "    <tr>\n",
       "      <td>0</td>\n",
       "      <td>1.394630</td>\n",
       "      <td>1.359299</td>\n",
       "      <td>0.507800</td>\n",
       "      <td>00:05</td>\n",
       "    </tr>\n",
       "    <tr>\n",
       "      <td>1</td>\n",
       "      <td>1.276867</td>\n",
       "      <td>1.272218</td>\n",
       "      <td>0.550900</td>\n",
       "      <td>00:04</td>\n",
       "    </tr>\n",
       "    <tr>\n",
       "      <td>2</td>\n",
       "      <td>1.182427</td>\n",
       "      <td>1.185291</td>\n",
       "      <td>0.585700</td>\n",
       "      <td>00:04</td>\n",
       "    </tr>\n",
       "    <tr>\n",
       "      <td>3</td>\n",
       "      <td>1.109149</td>\n",
       "      <td>1.138360</td>\n",
       "      <td>0.601500</td>\n",
       "      <td>00:04</td>\n",
       "    </tr>\n",
       "    <tr>\n",
       "      <td>4</td>\n",
       "      <td>1.077146</td>\n",
       "      <td>1.140882</td>\n",
       "      <td>0.595000</td>\n",
       "      <td>00:04</td>\n",
       "    </tr>\n",
       "    <tr>\n",
       "      <td>5</td>\n",
       "      <td>1.020239</td>\n",
       "      <td>1.050353</td>\n",
       "      <td>0.635000</td>\n",
       "      <td>00:05</td>\n",
       "    </tr>\n",
       "    <tr>\n",
       "      <td>6</td>\n",
       "      <td>0.985863</td>\n",
       "      <td>1.020022</td>\n",
       "      <td>0.643400</td>\n",
       "      <td>00:04</td>\n",
       "    </tr>\n",
       "    <tr>\n",
       "      <td>7</td>\n",
       "      <td>0.953660</td>\n",
       "      <td>1.027684</td>\n",
       "      <td>0.639600</td>\n",
       "      <td>00:04</td>\n",
       "    </tr>\n",
       "    <tr>\n",
       "      <td>8</td>\n",
       "      <td>0.948453</td>\n",
       "      <td>1.033547</td>\n",
       "      <td>0.642200</td>\n",
       "      <td>00:04</td>\n",
       "    </tr>\n",
       "    <tr>\n",
       "      <td>9</td>\n",
       "      <td>0.901153</td>\n",
       "      <td>0.977052</td>\n",
       "      <td>0.659900</td>\n",
       "      <td>00:04</td>\n",
       "    </tr>\n",
       "  </tbody>\n",
       "</table>"
      ],
      "text/plain": [
       "<IPython.core.display.HTML object>"
      ]
     },
     "metadata": {},
     "output_type": "display_data"
    },
    {
     "name": "stdout",
     "output_type": "stream",
     "text": [
      "train: 0.7019\n",
      "val: 0.6599\n"
     ]
    }
   ],
   "source": [
    "# Step1:\n",
    "ds1 = torch.utils.data.TensorDataset(X,y)\n",
    "ds2 = torch.utils.data.TensorDataset(XX,yy)\n",
    "dl1 = torch.utils.data.DataLoader(ds1,batch_size=64,shuffle=True)\n",
    "dl2 = torch.utils.data.DataLoader(ds2,batch_size=10000)\n",
    "# Step2:\n",
    "net1 = torch.nn.Sequential(\n",
    "    torch.nn.Conv2d(3,256,(5,5)),\n",
    "    torch.nn.ReLU(),\n",
    "    torch.nn.Conv2d(256,64,(5,5)),\n",
    "    torch.nn.ReLU(),\n",
    "    torch.nn.Conv2d(64,16,(5,5)),\n",
    "    torch.nn.MaxPool2d((2,2)),\n",
    "    torch.nn.Flatten()\n",
    ")\n",
    "net2 = torch.nn.Sequential(\n",
    "    torch.nn.Linear(1600,10),\n",
    ")\n",
    "net = torch.nn.Sequential(\n",
    "    net1, # 2d-part\n",
    "    net2, # 1d-part \n",
    ")\n",
    "loss_fn = torch.nn.CrossEntropyLoss()\n",
    "lrnr = Learner(\n",
    "    dls=dls,\n",
    "    model=net,\n",
    "    loss_func=loss_fn,\n",
    "    #--#\n",
    "    metrics=[accuracy]\n",
    ")\n",
    "# Step3:\n",
    "lrnr.fit(10)\n",
    "# Step4: \n",
    "lrnr.model.to(\"cpu\")\n",
    "print(f'train: {(lrnr.model(X).data.argmax(axis=1) == y).float().mean():.4f}')\n",
    "print(f'val: {(lrnr.model(XX).data.argmax(axis=1) == yy).float().mean():.4f}')"
   ]
  },
  {
   "cell_type": "markdown",
   "id": "f1482c7c-a342-48c0-923b-73b80ea4627c",
   "metadata": {},
   "source": [
    "## C. TransferLearning으로 학습"
   ]
  },
  {
   "cell_type": "markdown",
   "id": "b3877433-1165-48a7-b1f1-a26206ff5c28",
   "metadata": {},
   "source": [
    "`-` ResNet18을 다운로드 "
   ]
  },
  {
   "cell_type": "code",
   "execution_count": 564,
   "id": "fec1f582-ee0b-4222-868f-7ac81bd3bc2c",
   "metadata": {
    "tags": []
   },
   "outputs": [
    {
     "name": "stderr",
     "output_type": "stream",
     "text": [
      "Downloading: \"https://download.pytorch.org/models/resnet18-f37072fd.pth\" to /home/cgb3/.cache/torch/hub/checkpoints/resnet18-f37072fd.pth\n",
      "100%|██████████| 44.7M/44.7M [00:00<00:00, 111MB/s] \n"
     ]
    },
    {
     "data": {
      "text/plain": [
       "ResNet(\n",
       "  (conv1): Conv2d(3, 64, kernel_size=(7, 7), stride=(2, 2), padding=(3, 3), bias=False)\n",
       "  (bn1): BatchNorm2d(64, eps=1e-05, momentum=0.1, affine=True, track_running_stats=True)\n",
       "  (relu): ReLU(inplace=True)\n",
       "  (maxpool): MaxPool2d(kernel_size=3, stride=2, padding=1, dilation=1, ceil_mode=False)\n",
       "  (layer1): Sequential(\n",
       "    (0): BasicBlock(\n",
       "      (conv1): Conv2d(64, 64, kernel_size=(3, 3), stride=(1, 1), padding=(1, 1), bias=False)\n",
       "      (bn1): BatchNorm2d(64, eps=1e-05, momentum=0.1, affine=True, track_running_stats=True)\n",
       "      (relu): ReLU(inplace=True)\n",
       "      (conv2): Conv2d(64, 64, kernel_size=(3, 3), stride=(1, 1), padding=(1, 1), bias=False)\n",
       "      (bn2): BatchNorm2d(64, eps=1e-05, momentum=0.1, affine=True, track_running_stats=True)\n",
       "    )\n",
       "    (1): BasicBlock(\n",
       "      (conv1): Conv2d(64, 64, kernel_size=(3, 3), stride=(1, 1), padding=(1, 1), bias=False)\n",
       "      (bn1): BatchNorm2d(64, eps=1e-05, momentum=0.1, affine=True, track_running_stats=True)\n",
       "      (relu): ReLU(inplace=True)\n",
       "      (conv2): Conv2d(64, 64, kernel_size=(3, 3), stride=(1, 1), padding=(1, 1), bias=False)\n",
       "      (bn2): BatchNorm2d(64, eps=1e-05, momentum=0.1, affine=True, track_running_stats=True)\n",
       "    )\n",
       "  )\n",
       "  (layer2): Sequential(\n",
       "    (0): BasicBlock(\n",
       "      (conv1): Conv2d(64, 128, kernel_size=(3, 3), stride=(2, 2), padding=(1, 1), bias=False)\n",
       "      (bn1): BatchNorm2d(128, eps=1e-05, momentum=0.1, affine=True, track_running_stats=True)\n",
       "      (relu): ReLU(inplace=True)\n",
       "      (conv2): Conv2d(128, 128, kernel_size=(3, 3), stride=(1, 1), padding=(1, 1), bias=False)\n",
       "      (bn2): BatchNorm2d(128, eps=1e-05, momentum=0.1, affine=True, track_running_stats=True)\n",
       "      (downsample): Sequential(\n",
       "        (0): Conv2d(64, 128, kernel_size=(1, 1), stride=(2, 2), bias=False)\n",
       "        (1): BatchNorm2d(128, eps=1e-05, momentum=0.1, affine=True, track_running_stats=True)\n",
       "      )\n",
       "    )\n",
       "    (1): BasicBlock(\n",
       "      (conv1): Conv2d(128, 128, kernel_size=(3, 3), stride=(1, 1), padding=(1, 1), bias=False)\n",
       "      (bn1): BatchNorm2d(128, eps=1e-05, momentum=0.1, affine=True, track_running_stats=True)\n",
       "      (relu): ReLU(inplace=True)\n",
       "      (conv2): Conv2d(128, 128, kernel_size=(3, 3), stride=(1, 1), padding=(1, 1), bias=False)\n",
       "      (bn2): BatchNorm2d(128, eps=1e-05, momentum=0.1, affine=True, track_running_stats=True)\n",
       "    )\n",
       "  )\n",
       "  (layer3): Sequential(\n",
       "    (0): BasicBlock(\n",
       "      (conv1): Conv2d(128, 256, kernel_size=(3, 3), stride=(2, 2), padding=(1, 1), bias=False)\n",
       "      (bn1): BatchNorm2d(256, eps=1e-05, momentum=0.1, affine=True, track_running_stats=True)\n",
       "      (relu): ReLU(inplace=True)\n",
       "      (conv2): Conv2d(256, 256, kernel_size=(3, 3), stride=(1, 1), padding=(1, 1), bias=False)\n",
       "      (bn2): BatchNorm2d(256, eps=1e-05, momentum=0.1, affine=True, track_running_stats=True)\n",
       "      (downsample): Sequential(\n",
       "        (0): Conv2d(128, 256, kernel_size=(1, 1), stride=(2, 2), bias=False)\n",
       "        (1): BatchNorm2d(256, eps=1e-05, momentum=0.1, affine=True, track_running_stats=True)\n",
       "      )\n",
       "    )\n",
       "    (1): BasicBlock(\n",
       "      (conv1): Conv2d(256, 256, kernel_size=(3, 3), stride=(1, 1), padding=(1, 1), bias=False)\n",
       "      (bn1): BatchNorm2d(256, eps=1e-05, momentum=0.1, affine=True, track_running_stats=True)\n",
       "      (relu): ReLU(inplace=True)\n",
       "      (conv2): Conv2d(256, 256, kernel_size=(3, 3), stride=(1, 1), padding=(1, 1), bias=False)\n",
       "      (bn2): BatchNorm2d(256, eps=1e-05, momentum=0.1, affine=True, track_running_stats=True)\n",
       "    )\n",
       "  )\n",
       "  (layer4): Sequential(\n",
       "    (0): BasicBlock(\n",
       "      (conv1): Conv2d(256, 512, kernel_size=(3, 3), stride=(2, 2), padding=(1, 1), bias=False)\n",
       "      (bn1): BatchNorm2d(512, eps=1e-05, momentum=0.1, affine=True, track_running_stats=True)\n",
       "      (relu): ReLU(inplace=True)\n",
       "      (conv2): Conv2d(512, 512, kernel_size=(3, 3), stride=(1, 1), padding=(1, 1), bias=False)\n",
       "      (bn2): BatchNorm2d(512, eps=1e-05, momentum=0.1, affine=True, track_running_stats=True)\n",
       "      (downsample): Sequential(\n",
       "        (0): Conv2d(256, 512, kernel_size=(1, 1), stride=(2, 2), bias=False)\n",
       "        (1): BatchNorm2d(512, eps=1e-05, momentum=0.1, affine=True, track_running_stats=True)\n",
       "      )\n",
       "    )\n",
       "    (1): BasicBlock(\n",
       "      (conv1): Conv2d(512, 512, kernel_size=(3, 3), stride=(1, 1), padding=(1, 1), bias=False)\n",
       "      (bn1): BatchNorm2d(512, eps=1e-05, momentum=0.1, affine=True, track_running_stats=True)\n",
       "      (relu): ReLU(inplace=True)\n",
       "      (conv2): Conv2d(512, 512, kernel_size=(3, 3), stride=(1, 1), padding=(1, 1), bias=False)\n",
       "      (bn2): BatchNorm2d(512, eps=1e-05, momentum=0.1, affine=True, track_running_stats=True)\n",
       "    )\n",
       "  )\n",
       "  (avgpool): AdaptiveAvgPool2d(output_size=(1, 1))\n",
       "  (fc): Linear(in_features=512, out_features=1000, bias=True)\n",
       ")"
      ]
     },
     "execution_count": 564,
     "metadata": {},
     "output_type": "execute_result"
    }
   ],
   "source": [
    "net = torchvision.models.resnet18(weights=torchvision.models.resnet.ResNet18_Weights.IMAGENET1K_V1)\n",
    "net"
   ]
  },
  {
   "cell_type": "markdown",
   "id": "11c87087-4b8c-4c26-9641-c24f13d03538",
   "metadata": {},
   "source": [
    "`-` 마지막의 레이어만 수정 "
   ]
  },
  {
   "cell_type": "code",
   "execution_count": 577,
   "id": "f0907f77-037e-44d1-8db1-3c2087c67870",
   "metadata": {
    "tags": []
   },
   "outputs": [],
   "source": [
    "net.fc = torch.nn.Linear(512,10)"
   ]
  },
  {
   "cell_type": "markdown",
   "id": "c9e8f01d-e2aa-4999-b7a0-6fa4cff2072b",
   "metadata": {},
   "source": [
    "`-` 학습해보자. "
   ]
  },
  {
   "cell_type": "code",
   "execution_count": 587,
   "id": "ebaf1a49-349d-457a-b3f2-99137b22c1d9",
   "metadata": {
    "tags": []
   },
   "outputs": [
    {
     "data": {
      "text/html": [
       "\n",
       "<style>\n",
       "    /* Turns off some styling */\n",
       "    progress {\n",
       "        /* gets rid of default border in Firefox and Opera. */\n",
       "        border: none;\n",
       "        /* Needs to be in here for Safari polyfill so background images work as expected. */\n",
       "        background-size: auto;\n",
       "    }\n",
       "    progress:not([value]), progress:not([value])::-webkit-progress-bar {\n",
       "        background: repeating-linear-gradient(45deg, #7e7e7e, #7e7e7e 10px, #5c5c5c 10px, #5c5c5c 20px);\n",
       "    }\n",
       "    .progress-bar-interrupted, .progress-bar-interrupted::-webkit-progress-bar {\n",
       "        background: #F44336;\n",
       "    }\n",
       "</style>\n"
      ],
      "text/plain": [
       "<IPython.core.display.HTML object>"
      ]
     },
     "metadata": {},
     "output_type": "display_data"
    },
    {
     "data": {
      "text/html": [
       "<table border=\"1\" class=\"dataframe\">\n",
       "  <thead>\n",
       "    <tr style=\"text-align: left;\">\n",
       "      <th>epoch</th>\n",
       "      <th>train_loss</th>\n",
       "      <th>valid_loss</th>\n",
       "      <th>accuracy</th>\n",
       "      <th>time</th>\n",
       "    </tr>\n",
       "  </thead>\n",
       "  <tbody>\n",
       "    <tr>\n",
       "      <td>0</td>\n",
       "      <td>0.807740</td>\n",
       "      <td>0.818521</td>\n",
       "      <td>0.726200</td>\n",
       "      <td>00:07</td>\n",
       "    </tr>\n",
       "    <tr>\n",
       "      <td>1</td>\n",
       "      <td>0.661819</td>\n",
       "      <td>0.744722</td>\n",
       "      <td>0.745600</td>\n",
       "      <td>00:07</td>\n",
       "    </tr>\n",
       "    <tr>\n",
       "      <td>2</td>\n",
       "      <td>0.540584</td>\n",
       "      <td>0.663652</td>\n",
       "      <td>0.779000</td>\n",
       "      <td>00:07</td>\n",
       "    </tr>\n",
       "    <tr>\n",
       "      <td>3</td>\n",
       "      <td>0.452428</td>\n",
       "      <td>0.668054</td>\n",
       "      <td>0.785000</td>\n",
       "      <td>00:08</td>\n",
       "    </tr>\n",
       "    <tr>\n",
       "      <td>4</td>\n",
       "      <td>0.368493</td>\n",
       "      <td>0.670008</td>\n",
       "      <td>0.790700</td>\n",
       "      <td>00:07</td>\n",
       "    </tr>\n",
       "    <tr>\n",
       "      <td>5</td>\n",
       "      <td>0.296857</td>\n",
       "      <td>0.676296</td>\n",
       "      <td>0.798000</td>\n",
       "      <td>00:07</td>\n",
       "    </tr>\n",
       "    <tr>\n",
       "      <td>6</td>\n",
       "      <td>0.261985</td>\n",
       "      <td>0.749436</td>\n",
       "      <td>0.789200</td>\n",
       "      <td>00:07</td>\n",
       "    </tr>\n",
       "    <tr>\n",
       "      <td>7</td>\n",
       "      <td>0.217399</td>\n",
       "      <td>0.937166</td>\n",
       "      <td>0.754400</td>\n",
       "      <td>00:07</td>\n",
       "    </tr>\n",
       "    <tr>\n",
       "      <td>8</td>\n",
       "      <td>0.179561</td>\n",
       "      <td>0.755643</td>\n",
       "      <td>0.791300</td>\n",
       "      <td>00:07</td>\n",
       "    </tr>\n",
       "    <tr>\n",
       "      <td>9</td>\n",
       "      <td>0.155781</td>\n",
       "      <td>0.827992</td>\n",
       "      <td>0.794200</td>\n",
       "      <td>00:07</td>\n",
       "    </tr>\n",
       "  </tbody>\n",
       "</table>"
      ],
      "text/plain": [
       "<IPython.core.display.HTML object>"
      ]
     },
     "metadata": {},
     "output_type": "display_data"
    },
    {
     "name": "stdout",
     "output_type": "stream",
     "text": [
      "train: 0.9603\n",
      "val: 0.7943\n"
     ]
    }
   ],
   "source": [
    "# Step1:\n",
    "ds1 = torch.utils.data.TensorDataset(X,y)\n",
    "ds2 = torch.utils.data.TensorDataset(XX,yy)\n",
    "dl1 = torch.utils.data.DataLoader(ds1,batch_size=64,shuffle=True)\n",
    "dl2 = torch.utils.data.DataLoader(ds2,batch_size=10000)\n",
    "# Step2:\n",
    "net = torchvision.models.resnet18(weights=torchvision.models.resnet.ResNet18_Weights.IMAGENET1K_V1)\n",
    "net.fc = torch.nn.Linear(512,10)\n",
    "loss_fn = torch.nn.CrossEntropyLoss()\n",
    "lrnr = Learner(\n",
    "    dls=dls,\n",
    "    model=net,\n",
    "    loss_func=loss_fn,\n",
    "    #--#\n",
    "    metrics=[accuracy]\n",
    ")\n",
    "# Step3:\n",
    "lrnr.fit(10)\n",
    "# Step4: \n",
    "lrnr.model.to(\"cpu\")\n",
    "print(f'train: {(lrnr.model(X).data.argmax(axis=1) == y).float().mean():.4f}')\n",
    "print(f'val: {(lrnr.model(XX).data.argmax(axis=1) == yy).float().mean():.4f}')"
   ]
  },
  {
   "cell_type": "markdown",
   "id": "e9ff2a4a-ffa6-49cf-9de0-a03575e7cc10",
   "metadata": {},
   "source": [
    "`-` 좀 더 fastai에 가깝게.."
   ]
  },
  {
   "cell_type": "code",
   "execution_count": 602,
   "id": "4f5a471e-358d-4d32-abd5-44356da16d8d",
   "metadata": {
    "tags": []
   },
   "outputs": [
    {
     "data": {
      "text/html": [
       "\n",
       "<style>\n",
       "    /* Turns off some styling */\n",
       "    progress {\n",
       "        /* gets rid of default border in Firefox and Opera. */\n",
       "        border: none;\n",
       "        /* Needs to be in here for Safari polyfill so background images work as expected. */\n",
       "        background-size: auto;\n",
       "    }\n",
       "    progress:not([value]), progress:not([value])::-webkit-progress-bar {\n",
       "        background: repeating-linear-gradient(45deg, #7e7e7e, #7e7e7e 10px, #5c5c5c 10px, #5c5c5c 20px);\n",
       "    }\n",
       "    .progress-bar-interrupted, .progress-bar-interrupted::-webkit-progress-bar {\n",
       "        background: #F44336;\n",
       "    }\n",
       "</style>\n"
      ],
      "text/plain": [
       "<IPython.core.display.HTML object>"
      ]
     },
     "metadata": {},
     "output_type": "display_data"
    },
    {
     "data": {
      "text/html": [
       "<table border=\"1\" class=\"dataframe\">\n",
       "  <thead>\n",
       "    <tr style=\"text-align: left;\">\n",
       "      <th>epoch</th>\n",
       "      <th>train_loss</th>\n",
       "      <th>valid_loss</th>\n",
       "      <th>accuracy</th>\n",
       "      <th>time</th>\n",
       "    </tr>\n",
       "  </thead>\n",
       "  <tbody>\n",
       "    <tr>\n",
       "      <td>0</td>\n",
       "      <td>1.244365</td>\n",
       "      <td>1.114961</td>\n",
       "      <td>0.606300</td>\n",
       "      <td>00:12</td>\n",
       "    </tr>\n",
       "    <tr>\n",
       "      <td>1</td>\n",
       "      <td>1.004763</td>\n",
       "      <td>0.914378</td>\n",
       "      <td>0.678500</td>\n",
       "      <td>00:12</td>\n",
       "    </tr>\n",
       "    <tr>\n",
       "      <td>2</td>\n",
       "      <td>0.872134</td>\n",
       "      <td>0.819131</td>\n",
       "      <td>0.712400</td>\n",
       "      <td>00:12</td>\n",
       "    </tr>\n",
       "    <tr>\n",
       "      <td>3</td>\n",
       "      <td>0.872844</td>\n",
       "      <td>0.781726</td>\n",
       "      <td>0.722900</td>\n",
       "      <td>00:13</td>\n",
       "    </tr>\n",
       "    <tr>\n",
       "      <td>4</td>\n",
       "      <td>0.838873</td>\n",
       "      <td>0.761367</td>\n",
       "      <td>0.732600</td>\n",
       "      <td>00:12</td>\n",
       "    </tr>\n",
       "    <tr>\n",
       "      <td>5</td>\n",
       "      <td>0.768586</td>\n",
       "      <td>0.739300</td>\n",
       "      <td>0.739900</td>\n",
       "      <td>00:12</td>\n",
       "    </tr>\n",
       "    <tr>\n",
       "      <td>6</td>\n",
       "      <td>0.755221</td>\n",
       "      <td>0.726606</td>\n",
       "      <td>0.749800</td>\n",
       "      <td>00:13</td>\n",
       "    </tr>\n",
       "    <tr>\n",
       "      <td>7</td>\n",
       "      <td>0.746790</td>\n",
       "      <td>0.715648</td>\n",
       "      <td>0.749500</td>\n",
       "      <td>00:13</td>\n",
       "    </tr>\n",
       "    <tr>\n",
       "      <td>8</td>\n",
       "      <td>0.724227</td>\n",
       "      <td>0.709525</td>\n",
       "      <td>0.755400</td>\n",
       "      <td>00:12</td>\n",
       "    </tr>\n",
       "    <tr>\n",
       "      <td>9</td>\n",
       "      <td>0.729048</td>\n",
       "      <td>0.700866</td>\n",
       "      <td>0.754700</td>\n",
       "      <td>00:12</td>\n",
       "    </tr>\n",
       "  </tbody>\n",
       "</table>"
      ],
      "text/plain": [
       "<IPython.core.display.HTML object>"
      ]
     },
     "metadata": {},
     "output_type": "display_data"
    }
   ],
   "source": [
    "# Step1:\n",
    "dls = ImageDataLoaders.from_folder(path, train='train', valid='test')\n",
    "# Step2:\n",
    "lrnr = vision_learner(\n",
    "    dls=dls,\n",
    "    arch=resnet18,\n",
    "    #--#\n",
    "    metrics=[accuracy]\n",
    ")\n",
    "# Step3:\n",
    "lrnr.fit(10)\n",
    "# Step4: \n",
    "# lrnr.model.to(\"cpu\")\n",
    "# print(f'train: {(lrnr.model(X).data.argmax(axis=1) == y).float().mean():.4f}')\n",
    "# print(f'val: {(lrnr.model(XX).data.argmax(axis=1) == yy).float().mean():.4f}')"
   ]
  },
  {
   "cell_type": "markdown",
   "id": "39de1df8-27e5-492a-ba1e-ed4a47fa4102",
   "metadata": {
    "tags": []
   },
   "source": [
    "# A1. 자잘한 용어 정리 ($\\star$)"
   ]
  },
  {
   "cell_type": "markdown",
   "id": "b392db2f-f51d-49db-9ec9-b961033fb1fd",
   "metadata": {
    "tags": []
   },
   "source": [
    "## A. 지도학습 \n",
    "\n",
    "`-` 우리가 수업에서 다루는 데이터는 주로 아래와 같은 느낌이다. \n",
    "\n",
    "1.  데이터는 $(X,y)$의 형태로 정리되어 있다. \n",
    "\n",
    "2.  $y$는 우리가 관심이 있는 변수이다. 즉 우리는 $y$를 적절하게 추정하는 것에 관심이 있다.\n",
    "\n",
    "3.  $X$는 $y$를 추정하기 위해 필요한 정보이다.\n",
    "\n",
    "|  $X$ = 설명변수 = 독립변수   | $y$ = 반응변수 = 종속변수  |     비고     |     순서     |           예시           |\n",
    "|:-------------:|:-------------:|:-------------:|:-------------:|:-------------:|\n",
    "|            이미지            |          카테고리          | 합성곱신경망 |   상관없음   |  개/고양이 이미지 구분   |\n",
    "|         유저,아이템          |            평점            |  추천시스템  |   상관없음   |    넷플릭스 영화추천     |\n",
    "|     과거~오늘까지의주가      |          내일주가          |  순환신경망  | 순서상관있음 |         주가예측         |\n",
    "| 처음 $m$개의 단어(혹은 문장) | 이후 1개의 단어(혹은 문장) |  순환신경망  | 순서상관있음 |     챗봇, 텍스트생성     |\n",
    "| 처음 $m$개의 단어(혹은 문장) |          카테고리          |  순환신경망  | 순서상관있음 | 영화리뷰 텍스트 감정분류 |\n",
    "\n",
    "`-` 이러한 문제상황, 즉 $(X,y)$가 주어졌을때 $X \\to y$를 추정하는 문제를 supervised learning 이라한다. "
   ]
  },
  {
   "cell_type": "markdown",
   "id": "7c2dfc4b-99b7-48fd-a4bb-abce8cf06675",
   "metadata": {},
   "source": [
    "## B. 모델이란? "
   ]
  },
  {
   "cell_type": "markdown",
   "id": "e4a8c88f-6e44-4daf-ae6d-31d0dff99222",
   "metadata": {},
   "source": [
    "> 모델이란 단어는 제 발작버튼이었어요.. "
   ]
  },
  {
   "cell_type": "markdown",
   "id": "66bcf657-af62-405c-a2ee-b309a0cffa2d",
   "metadata": {},
   "source": [
    "`-` 통계학에서 모델은 y와 x의 관계를 의미하며 오차항의 설계를 포함하는 개념이다. 이는 통계학이 \"데이터 = 정보 + 오차\"의 관점을 유지하기 때문이다. 따라서 통계학에서 모델링이란 \n",
    "\n",
    "$$y_i = net(x_i) + \\epsilon_i$$\n",
    "\n",
    "에서 (1) 적절한 함수 $net$를 선택하는 일 (2) 적절한 오차항 $\\epsilon_i$ 을 설계하는일 모두를 포함한다. "
   ]
  },
  {
   "cell_type": "markdown",
   "id": "fe92f936-321a-4750-9f72-6ff52c0740df",
   "metadata": {},
   "source": [
    "`-` 딥러닝 혹은 머신러닝에서 모델은 단순히\n",
    "\n",
    "$$y_i \\approx net(x_i)$$\n",
    "\n",
    "를 의미하는 경우가 많다. 즉 \"model=net\"라고 생각해도 무방하다. 이 경우 \"모델링\"이란 단순히 적절한 $net$을 설계하는 것만을 의미할 경우가 많다. "
   ]
  },
  {
   "cell_type": "markdown",
   "id": "1f7e9f2f-dd2b-4d79-9d9f-0ab16bbf0cf7",
   "metadata": {},
   "source": [
    "`-` 그래서 생긴일\n",
    "\n",
    "- 통계학교재 특: 분류문제와 회귀문제를 엄밀하게 구분하지 않는다. 사실 오차항만 다를뿐이지 크게보면 같은 회귀모형이라는 관점이다. 그래서 일반화선형모형(GLM)이라는 용어를 쓴다. \n",
    "- 머신러닝/딥러닝교재 특: 회귀문제와 분류문제를 구분해서 설명한다. (표도 만듦) 이는 오차항에 대한 기술을 모호하게 하여 생기는 현상이다."
   ]
  },
  {
   "cell_type": "markdown",
   "id": "951c3aea-6667-4f41-8b99-34f9e75258c7",
   "metadata": {
    "tags": []
   },
   "source": [
    "## C. 학습이란? \n",
    "\n",
    "`-` 학습이란 주어진 자료 $(X,y)$를 잘 분석하여 $X$에서 $y$로 가는 어떠한 “규칙” 혹은 “원리”를 찾는 것이다.\n",
    "\n",
    "-   학습이란 주어진 자료 $(X,y)$를 잘 분석하여 $X$에서 $y$로 가는 어떠한 “맵핑”을 찾는 것이다.\n",
    "-   학습이란 주어진 자료 $(X,y)$를 잘 분석하여 $X$에서 $y$로 가는 어떠한 \"함수”을 찾는 것이다. 즉 $y\\approx f(X)$가 되도록 만드는 $f$를 잘 찾는 것이다. (이 경우 \"함수를 추정한다\"라고 표현)\n",
    "-   학습이란 주어진 자료 $(X,y)$를 잘 분석하여 $X$에서 $y$로 가는 어떠한 “모델” 혹은 \"모형\"을 찾는 것이다. 즉 $y\\approx model(X)$가 되도록 만드는 $model$을 잘 찾는 것이다. (이 경우 \"모형을 학습시킨다\"라고 표현)\n",
    "-   **학습이란 주어진 자료 $(X,y)$를 잘 분석하여 $X$에서 $y$로 가는 어떠한 “네트워크”을 찾는 것이다. 즉 $y\\approx net(X)$가 되도록 만드는 $net$을 잘 찾는 것이다. (이 경우 \"네트워크를 학습시킨다\"라고 표현)**\n",
    "\n",
    "`-` prediction이란 학습과정에서 찾은 “규칙” 혹은 “원리”를 $X$에 적용하여 $\\hat{y}$을 구하는 과정이다. 학습과정에서 찾은 규칙 혹은 원리는 $f$,$model$,$net$ 으로 생각가능한데 이에 따르면 아래가 성립한다.\n",
    "\n",
    "-   $\\hat{y} = f(X)$\n",
    "-   $\\hat{y} = model(X)$\n",
    "-   $\\hat{y} = net(X)$"
   ]
  },
  {
   "cell_type": "markdown",
   "id": "f314cdd3-7293-4248-88a8-3cae06695f46",
   "metadata": {
    "tags": []
   },
   "source": [
    "## D. $\\hat{y}$를 부르는 다양한 이름\n",
    "\n",
    "`-` $\\hat{y}$는 $X$가 주어진 자료에 있는 값인지 아니면 새로운 값 인지에 따라 지칭하는 이름이 미묘하게 다르다.\n",
    "\n",
    "1.  $X \\in data$: $\\hat{y}=net(X)$ 는 predicted value, fitted value 라고\n",
    "    부른다.\n",
    "\n",
    "2.  $X \\notin data$: $\\hat{y}=net(X)$ 는 predicted value, predicted\n",
    "    value with new data 라고 부른다.\n",
    "\n",
    "`-` 경우1은 “$loss$ = $y$ 와 $\\hat{y}$ 의 차이” 를 정의할 수 있으나 경우2는 그렇지 않다."
   ]
  },
  {
   "cell_type": "markdown",
   "id": "6af032a5-a5b3-4659-94d9-75498faf2051",
   "metadata": {
    "tags": []
   },
   "source": [
    "## E. 다양한 코드들 "
   ]
  },
  {
   "cell_type": "markdown",
   "id": "eff6818b-7d16-47fb-b7e8-77fd9cfb8926",
   "metadata": {
    "tags": []
   },
   "source": [
    "\n",
    "`-` 파이썬 코드..\n",
    "\n",
    "```Python\n",
    "#Python\n",
    "predictor.fit(X,y) # autogluon 에서 \"학습\"을 의미하는 과정\n",
    "model.fit(X,y) # sklearn 에서 \"학습\"을 의미하는 과정\n",
    "learner.learn() # fastai 에서 \"학습\"을 의미하는 과정\n",
    "learner.fine_tune(1) # fastai 에서 \"부분학습\"을 의미하는 과정\n",
    "learner.predict(cat1) # fastai 에서 \"예측\"을 의미하는 과정 \n",
    "model.fit(x, y, batch_size=32, epochs=10) # keras에서 \"학습\"을 의미하는 과정\n",
    "model.predict(test_img) # keras에서 \"예측\"을 의미하는 과정 \n",
    "```\n",
    "\n",
    "`-` R 코드..\n",
    "\n",
    "```r\n",
    "# R\n",
    "ols <- lm(y~x) # 선형회귀분석에서 학습을 의미하는 함수\n",
    "ols$fitted.values # 선형회귀분석에서 yhat을 출력 \n",
    "predict(ols, newdata=test) # 선형회귀분석에서 test에 대한 예측값을 출력하는 함수\n",
    "ols$coef # 선형회귀분석에서 weight를 확인하는 방법\n",
    "```\n"
   ]
  },
  {
   "cell_type": "markdown",
   "id": "96318470-d917-4d3a-b429-fe6bf7dc15ee",
   "metadata": {
    "tags": []
   },
   "source": [
    "# A2. 참고자료들 "
   ]
  },
  {
   "cell_type": "markdown",
   "id": "0c6f636e-b765-463e-b0c4-2cd5ef2ca017",
   "metadata": {},
   "source": [
    "`-` 케라스/텐서플로우: <https://guebin.github.io/STBDA2022/>"
   ]
  },
  {
   "cell_type": "markdown",
   "id": "5de8a404-651d-41c5-8fad-76588718bb5a",
   "metadata": {},
   "source": [
    "`-` 상속: <https://guebin.github.io/PP2023/posts/03_Class/2023-06-12-15wk-1.html>"
   ]
  },
  {
   "cell_type": "markdown",
   "id": "fd83f4bd-8e7c-4c85-b99d-762d01d605f1",
   "metadata": {},
   "source": [
    "`-` sklearn/autogluon: <https://guebin.github.io/MP2023/>"
   ]
  },
  {
   "cell_type": "markdown",
   "id": "a5a70bc3-8fdb-49a2-8ba6-8cbf755c5f50",
   "metadata": {
    "tags": []
   },
   "source": [
    "`-` 리눅스관련: <https://guebin.github.io/DSTBX2024/> -- 자료 부실함.. 강의영상 없는것 많음.. "
   ]
  },
  {
   "cell_type": "markdown",
   "id": "a80d19bd-802a-438e-b697-27dc0703f4f4",
   "metadata": {},
   "source": [
    "# A3. DNN, ANN, MLP"
   ]
  },
  {
   "cell_type": "markdown",
   "id": "8307c2d0-ace4-4482-b07b-5559c4a7d8e3",
   "metadata": {
    "tags": []
   },
   "source": [
    "`-` DNN 은 깊은신경망, ANN 은 인공신경망, MLP 는 다층퍼셉트론이라 번역된다."
   ]
  },
  {
   "cell_type": "markdown",
   "id": "c956b602-509f-4f55-9779-3697dfc5ee57",
   "metadata": {
    "tags": []
   },
   "source": [
    "`-` 아래의 네트워크는 ANN이라 볼 수 있다. 또한 레이어가 2개 있으므로 MLP라고 볼 수 있다. DNN 이라 보기는 애매하다. (그래서 이걸 얕은신경망(shallow network)이라고 표현하기도 합니다)\n",
    "\n",
    "```Python\n",
    "net = torch.nn.Sequential(\n",
    "    torch.nn.Linear(in_features=1,out_features=2),\n",
    "    torch.nn.ReLU(),\n",
    "    torch.nn.Linear(in_features=2,out_features=1),\n",
    "    torch.nn.Sigmoid()\n",
    ")\n",
    "```"
   ]
  },
  {
   "cell_type": "markdown",
   "id": "9bf9103f-d301-4389-9b8e-6c0eda2057a8",
   "metadata": {
    "tags": []
   },
   "source": [
    "`-` 아래의 네트워크는 ANN이라 볼 수 있다. 또한 레이어가 7개 있으므로 MLP라고 볼 수 있다. 이 정도면 깊어보이니까 DNN 이라 주장할 수 있어보인다. \n",
    "\n",
    "```Python\n",
    "net = torch.nn.Sequential(\n",
    "    torch.nn.Linear(in_features=1,out_features=2),\n",
    "    torch.nn.ReLU(),\n",
    "    torch.nn.Linear(in_features=2,out_features=2),\n",
    "    torch.nn.ReLU(),\n",
    "    torch.nn.Linear(in_features=2,out_features=2),\n",
    "    torch.nn.ReLU(),\n",
    "    torch.nn.Linear(in_features=2,out_features=2),\n",
    "    torch.nn.ReLU(),\n",
    "    torch.nn.Linear(in_features=2,out_features=2),\n",
    "    torch.nn.ReLU(),\n",
    "    torch.nn.Linear(in_features=2,out_features=2),\n",
    "    torch.nn.ReLU(),\n",
    "    torch.nn.Linear(in_features=2,out_features=1),\n",
    "    torch.nn.Sigmoid(),    \n",
    ")\n",
    "```"
   ]
  },
  {
   "cell_type": "markdown",
   "id": "334d7765-eebc-4cbe-b072-27ea257004e4",
   "metadata": {
    "tags": []
   },
   "source": [
    "`-` 아래의 네트워크는 ANN이라 볼 수 있다. 또한 레이어가 3개 있으므로 MLP라고 볼 수 있다. 이건 DNN이라고 봐야하나? 깊다기 보다는 넓은 신경망인데... \n",
    "\n",
    "```Python\n",
    "net = torch.nn.Sequential(\n",
    "    torch.nn.Linear(in_features=1,out_features=1048576),\n",
    "    torch.nn.ReLU(),\n",
    "    torch.nn.Linear(in_features=1048576,out_features=1048576),\n",
    "    torch.nn.ReLU(),\n",
    "    torch.nn.Linear(in_features=1048576,out_features=1),\n",
    "    torch.nn.Sigmoid(),    \n",
    ")\n",
    "```"
   ]
  },
  {
   "cell_type": "markdown",
   "id": "27fcb826-d22d-40bb-8855-8c962a3c504c",
   "metadata": {
    "tags": []
   },
   "source": [
    "`-` 아래의 네트워크도 ANN이라 볼 수 있다.^[그렇지만 이걸 ANN이라고 부르는 사람은 없는듯] 레이어는 2장이지만 MLP라고 부르진 않는다. \n",
    "\n",
    "```Python\n",
    "net = torch.nn.Sequential(\n",
    "    torch.nn.Conv2d(1,16,(5,5)), # <-- 학습할 파라메터\n",
    "    torch.nn.ReLU(),\n",
    "    torch.nn.MaxPool2d((2,2)),\n",
    "    torch.nn.Flatten(),\n",
    "    torch.nn.Linear(2304,1), # <-- 학습할 파라메터\n",
    "    torch.nn.Sigmoid()\n",
    ")\n",
    "```"
   ]
  },
  {
   "cell_type": "markdown",
   "id": "53923753-9dcb-4ac4-b2a0-0d5d0ad5f6ce",
   "metadata": {},
   "source": [
    "`-` 야매개념: 요즘은 거의 ANN $\\approx$ MLP $\\approx$ DNN 의 느낌으로 이해해도 무방함\n",
    "\n",
    "- 어지간한 모형은 다 ANN이라 우길 수 있다. 회귀분석도, 로지스틱분석도 마음먹으면 ANN으로 우길 수 있다. 그래서 \"ANN을 썼다\"라는건 엄청 모호한 말이다. 이런 이유로 사람들은 거의 MLP를 쓴 경우에 ANN을 썼다고 하고, 회귀모형을 쓴 경우에는 굳이 ANN을 썼다고 표현하지 않는다. \n",
    "- MLP과 DNN은 구분이 모호하다. 하나이상의 은닉층만 포함하고 있으면 MLP라고 부를 수 있다. 적은 노드수를 유지하면서 은닉층을 여러개 쓰면 깊은 신경망이라고 하고, 많은 노드를 사용하면서 은닉층을 얇게, 그리고 노드를 많이 쓰면 넓은신경망이라고 한다. 노드수와 관계없이 층이 얇은 경우는 얕은신경망이라고 한다.^[저는 이 표현 너무 싫어해요] 즉 MLP의 모양에 따라서 \"깊은신경망\", \"얕은신경망\", \"넓은신경망\" 등의 용어를 사용한다. \n",
    "- 일반적으로 은닉층이 1개있으면 얕은신경망, 2개 이상이면 깊은신경망이라고 부른다고 합의되어있다. (은닉층이 2층까지 얕은신경망이라고 부르는 사람도 존재함) 얼마나 많은 노드부터 넓은신경망이라고 부르는지는 (제가 아는 한) 합의된바가 없다. \n",
    "얼마나 깊을때 DNN으로 부를지 명확한 합의가 되어있지 않다. (3층-MLP부터 DNN으로 부르는 방식이 지지를 얻는듯. 그렇지만 4층-MLP 부터 DNN으로 부르는 사람도 존재함.)\n",
    "- MLP의 정의가 가장 깔끔하다고 생각하지만 요즘 잘 쓰는 용어는 아니다. (MLP의 논문은 너무 예전임. 층을 세는것도 다름)\n",
    "- **제 결론**: 따지고 보자면 DNN $\\subset$ MLP $\\subset$ ANN 이다. 그렇지만 MLP이지만 DNN은 아닌 네트워크를 지칭한다든가, ANN 이지만 MLP는 아닌 네트워크를 지칭하는 일은 흔하지 않으며, 지칭하더라도 부연설명을 친절하게 해준다. 따라서 부연설명 없이 ANN, MLP, DNN 을 지칭한다면 거의 DNN을 의미한다고 봐도 무방하다. 즉 ANN $\\approx$ MLP $\\approx$ DNN 라고 보면 된다. (엄밀하게는 틀린개념이죠) "
   ]
  }
 ],
 "metadata": {
  "kernelspec": {
   "display_name": "Python 3 (ipykernel)",
   "language": "python",
   "name": "python3"
  },
  "language_info": {
   "codemirror_mode": {
    "name": "ipython",
    "version": 3
   },
   "file_extension": ".py",
   "mimetype": "text/x-python",
   "name": "python",
   "nbconvert_exporter": "python",
   "pygments_lexer": "ipython3",
   "version": "3.11.8"
  }
 },
 "nbformat": 4,
 "nbformat_minor": 5
}
