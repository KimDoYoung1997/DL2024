{
 "cells": [
  {
   "cell_type": "raw",
   "id": "c3a1f547-5d0b-43e7-8761-4166fa5999e2",
   "metadata": {
    "id": "87b5cded-346b-4915-acf5-b5ec93a5207d"
   },
   "source": [
    "---\n",
    "title: \"05wk-2: 합성곱신경망 (1) \"\n",
    "author: \"최규빈\"\n",
    "date: \"04/03/2024\"\n",
    "---"
   ]
  },
  {
   "cell_type": "markdown",
   "id": "255877c4-49cb-4246-bd14-829af4167cf4",
   "metadata": {
    "id": "e67ab8e0"
   },
   "source": [
    "<a href=\"https://colab.research.google.com/github/guebin/DL2024/blob/main/posts/05wk-2.ipynb\"><img src=\"https://colab.research.google.com/assets/colab-badge.svg\" style=\"text-align: left\"></a>"
   ]
  },
  {
   "cell_type": "markdown",
   "id": "e6564317-59eb-42cb-9c40-1388802e0bb1",
   "metadata": {
    "id": "4d47a7c9",
    "tags": []
   },
   "source": [
    "# 1. 강의영상"
   ]
  },
  {
   "cell_type": "markdown",
   "id": "a3b6adbf-4052-4479-a170-3b9e07c559de",
   "metadata": {
    "tags": []
   },
   "source": [
    "{{<video https://youtu.be/playlist?list=PLQqh36zP38-xetJQU7iWPjyBchV8YrWO1&si=Nti_aqqC5fOyNOtP >}}"
   ]
  },
  {
   "cell_type": "markdown",
   "id": "f75afe6d-bc27-49c8-aea4-637ca5aa2af7",
   "metadata": {},
   "source": [
    "# 2. Imports"
   ]
  },
  {
   "cell_type": "code",
   "execution_count": 4,
   "id": "b97e7cfa-2e5c-4b08-b735-5ff46de7869b",
   "metadata": {
    "tags": []
   },
   "outputs": [],
   "source": [
    "import torch\n",
    "import matplotlib.pyplot as plt\n",
    "from fastai.data.all import *\n",
    "import torchvision"
   ]
  },
  {
   "cell_type": "markdown",
   "id": "8f1a7af6-7c49-43c1-91ee-09b46ef64123",
   "metadata": {},
   "source": [
    "# 3. Data: MNIST"
   ]
  },
  {
   "cell_type": "markdown",
   "id": "47366f72-7f77-428f-bc74-c4722586d785",
   "metadata": {},
   "source": [
    "`-` download data "
   ]
  },
  {
   "cell_type": "code",
   "execution_count": 124,
   "id": "21f4d9dc-8718-40dc-b172-9edc1db81f7b",
   "metadata": {
    "tags": []
   },
   "outputs": [],
   "source": [
    "path = untar_data(URLs.MNIST)"
   ]
  },
  {
   "cell_type": "markdown",
   "id": "5197bd67-d696-45e9-8b3b-9cc558a64f8a",
   "metadata": {},
   "source": [
    "`-` training set "
   ]
  },
  {
   "cell_type": "code",
   "execution_count": 125,
   "id": "2a603395-ae40-4643-8e75-a2b08db12dac",
   "metadata": {
    "tags": []
   },
   "outputs": [],
   "source": [
    "X0 = torch.stack([torchvision.io.read_image(str(fname)) for fname in (path/'training/0').ls()])\n",
    "X1 = torch.stack([torchvision.io.read_image(str(fname)) for fname in (path/'training/1').ls()])\n",
    "X = torch.concat([X0,X1])/255\n",
    "y = torch.tensor([0.0]*len(X0) + [1.0]*len(X1)).reshape(-1,1)"
   ]
  },
  {
   "cell_type": "markdown",
   "id": "7a275966-b68d-4bbb-8229-3992493ad362",
   "metadata": {},
   "source": [
    "`-` test set "
   ]
  },
  {
   "cell_type": "code",
   "execution_count": 126,
   "id": "42fb9db2-8283-4c51-9a81-dbeace08d5ef",
   "metadata": {
    "tags": []
   },
   "outputs": [],
   "source": [
    "X0 = torch.stack([torchvision.io.read_image(str(fname)) for fname in (path/'testing/0').ls()])\n",
    "X1 = torch.stack([torchvision.io.read_image(str(fname)) for fname in (path/'testing/1').ls()])\n",
    "XX = torch.concat([X0,X1])/255\n",
    "yy = torch.tensor([0.0]*len(X0) + [1.0]*len(X1)).reshape(-1,1)"
   ]
  },
  {
   "cell_type": "code",
   "execution_count": 127,
   "id": "bf310997-830b-4ec7-897d-d1d6cfdf697e",
   "metadata": {
    "tags": []
   },
   "outputs": [
    {
     "data": {
      "text/plain": [
       "(torch.Size([12665, 1, 28, 28]),\n",
       " torch.Size([2115, 1, 28, 28]),\n",
       " torch.Size([12665, 1]),\n",
       " torch.Size([2115, 1]))"
      ]
     },
     "execution_count": 127,
     "metadata": {},
     "output_type": "execute_result"
    }
   ],
   "source": [
    "X.shape,XX.shape,y.shape,yy.shape"
   ]
  },
  {
   "cell_type": "markdown",
   "id": "a53cfd48-37df-4276-919d-d753314dea14",
   "metadata": {},
   "source": [
    "# 4. CNN 예비학습"
   ]
  },
  {
   "cell_type": "markdown",
   "id": "09657ca1-f64d-4850-84df-f78594d87e00",
   "metadata": {},
   "source": [
    "## A. 기존모형에 대한 불만"
   ]
  },
  {
   "cell_type": "markdown",
   "id": "a31b94fd-6c00-4b4f-a8ba-7c491c4db243",
   "metadata": {},
   "source": [
    "![](https://guebin.github.io/DL2022/posts/III.%20CNN/2022-10-18-7wk-2_files/figure-html/cell-8-output-1.svg)"
   ]
  },
  {
   "cell_type": "markdown",
   "id": "7ae3bd03-56b0-46eb-9edf-2fc8d8ed1698",
   "metadata": {},
   "source": [
    "`-` 왜 28 $\\times$ 28 이미지를 784개의 벡터로 만든 다음에 모형을 돌려야 하는가? "
   ]
  },
  {
   "cell_type": "markdown",
   "id": "ff01408d-84a3-466a-bfb4-92ce35021f1a",
   "metadata": {},
   "source": [
    "`-` 기존에 개발된 모형이 회귀분석 기반으로 되어있어서 결국 회귀분석 틀에 짜 맞추어서 이미지자료를 분석하는 느낌 "
   ]
  },
  {
   "cell_type": "markdown",
   "id": "37028e79-1d26-48c0-a337-1c6c3e0e53ea",
   "metadata": {},
   "source": [
    "`-` observation의 차원은 $784$가 아니라 $1\\times (28\\times 28)$이 되어야 맞다. "
   ]
  },
  {
   "cell_type": "markdown",
   "id": "bd3d8d99-e18b-43ed-9787-841c0a7475cf",
   "metadata": {},
   "source": [
    "## B. 새로운 아키텍처의 제시"
   ]
  },
  {
   "cell_type": "markdown",
   "id": "2170a392-e9e5-4c76-b522-230953929419",
   "metadata": {},
   "source": [
    "`-` 예전 아키텍처들\n",
    "\n",
    "- $\\underset{(n,1)}{\\bf X} \\overset{l_1}{\\to} \\underset{(n,2)}{\\boldsymbol u^{(1)}} \\overset{relu}{\\to} \\underset{(n,2)}{\\boldsymbol v^{(1)}} \\overset{l_1}{\\to} \\underset{(n,1)}{\\boldsymbol u^{(2)}} \\overset{sig}{\\to} \\underset{(n,1)}{\\boldsymbol v^{(2)}}=\\underset{(n,1)}{\\hat{\\boldsymbol y}}$\n",
    "- $\\underset{(n,1)}{\\bf X} \\overset{l_1}{\\to} \\underset{(n,256)}{\\boldsymbol u^{(1)}} \\overset{relu}{\\to} \\underset{(n,256)}{\\boldsymbol v^{(1)}} \\overset{l_1}{\\to} \\underset{(n,1)}{\\boldsymbol u^{(2)}} \\overset{sig}{\\to} \\underset{(n,1)}{\\boldsymbol v^{(2)}}=\\underset{(n,1)}{\\hat{\\boldsymbol y}}$\n",
    "- $\\underset{(n,784)}{\\bf X} \\overset{l_1}{\\to} \\underset{(n,30)}{\\boldsymbol u^{(1)}} \\overset{relu}{\\to} \\underset{(n,30)}{\\boldsymbol v^{(1)}} \\overset{l_2}{\\to} \\underset{(n,1)}{\\boldsymbol u^{(2)}} \\overset{sig}{\\to} \\underset{(n,1)}{\\boldsymbol v^{(2)}}=\\underset{(n,1)}{\\hat{\\boldsymbol y}}$"
   ]
  },
  {
   "cell_type": "markdown",
   "id": "905c1374-baf0-4cb2-bc9b-bb62dad9bae0",
   "metadata": {},
   "source": [
    "`-` 아키텍처들의 공통점? "
   ]
  },
  {
   "cell_type": "markdown",
   "id": "8cbd46d9-7671-4c93-bd39-7c0779310eaa",
   "metadata": {},
   "source": [
    "- $l_1$: 선형변환, feature를 뽑아내는 역할 (뻥튀기 혹은 요약)\n",
    "- $relu$: 뻥튀기된 feature에 비선형을 추가하여 표현력 극대화 \n",
    "- $l_2$: 선형변환, 뻥튀기된 feature를 요약 하는 역할 (=데이터를 요약하는 역할) "
   ]
  },
  {
   "cell_type": "markdown",
   "id": "b2a01ff2-8501-41ab-a1d4-40e7e9e1f6f2",
   "metadata": {},
   "source": [
    "`-` 새로운 아키텍처 \n",
    "\n",
    "- $conv$: feature를 뽑아내는 역할 (뻥튀기 혹은 요약) (2d ver $l_1$ 느낌) \n",
    "- $relu$: \n",
    "- $pooling$: 데이터를 요약하는 역할 "
   ]
  },
  {
   "cell_type": "markdown",
   "id": "424cadd7-a0e6-4c22-9600-e646f0bc7b72",
   "metadata": {},
   "source": [
    "## C. `torch.nn.Conv2d`"
   ]
  },
  {
   "cell_type": "markdown",
   "id": "d20cd62d-97e6-4b9a-ac50-3526a434fefd",
   "metadata": {},
   "source": [
    "`-` 우선 연산하는 방법만 살펴보자. "
   ]
  },
  {
   "cell_type": "markdown",
   "id": "dabc4e04-f67a-4687-85a8-04c12e8a233b",
   "metadata": {},
   "source": [
    "**(예시1)**"
   ]
  },
  {
   "cell_type": "code",
   "execution_count": 230,
   "id": "df01e491-f635-4cbc-a73f-a01d9333bb5f",
   "metadata": {
    "tags": []
   },
   "outputs": [
    {
     "data": {
      "text/plain": [
       "(tensor([[[[-0.1733, -0.4235],\n",
       "           [ 0.1802,  0.4668]]]]),\n",
       " tensor([0.2037]))"
      ]
     },
     "execution_count": 230,
     "metadata": {},
     "output_type": "execute_result"
    }
   ],
   "source": [
    "torch.manual_seed(43052)\n",
    "conv = torch.nn.Conv2d(1,1,(2,2)) # 입력1, 출력1, (2,2) window size\n",
    "conv.weight.data, conv.bias.data"
   ]
  },
  {
   "cell_type": "code",
   "execution_count": 231,
   "id": "7ece5860-fa0f-4a98-9398-1e646ead26f9",
   "metadata": {
    "tags": []
   },
   "outputs": [
    {
     "data": {
      "text/plain": [
       "tensor([[[[0., 1.],\n",
       "          [2., 3.]]]])"
      ]
     },
     "execution_count": 231,
     "metadata": {},
     "output_type": "execute_result"
    }
   ],
   "source": [
    "_X = torch.arange(0,4).reshape(1,1,2,2).float() # 2,2 흑백이미지. \n",
    "_X"
   ]
  },
  {
   "cell_type": "code",
   "execution_count": 232,
   "id": "c8ea2954-5099-4c92-800c-6c055d9a49e4",
   "metadata": {
    "tags": []
   },
   "outputs": [
    {
     "data": {
      "text/plain": [
       "1.541"
      ]
     },
     "execution_count": 232,
     "metadata": {},
     "output_type": "execute_result"
    }
   ],
   "source": [
    "(-0.1733)*0 + (-0.4235)*1 +\\\n",
    "(0.1802)*2 + (0.4668)*3 + 0.2037"
   ]
  },
  {
   "cell_type": "code",
   "execution_count": 233,
   "id": "5ec03ae5-5f94-40b2-b1a3-4ee2e588e6ea",
   "metadata": {
    "tags": []
   },
   "outputs": [
    {
     "data": {
      "text/plain": [
       "tensor([[[[1.5410]]]], grad_fn=<ConvolutionBackward0>)"
      ]
     },
     "execution_count": 233,
     "metadata": {},
     "output_type": "execute_result"
    }
   ],
   "source": [
    "conv(_X)"
   ]
  },
  {
   "cell_type": "markdown",
   "id": "c90d8bc3-1aa2-4e72-8d88-305e2824011b",
   "metadata": {},
   "source": [
    "**(예시2) 평균**"
   ]
  },
  {
   "cell_type": "code",
   "execution_count": 234,
   "id": "a411fabd-8018-4ce1-b64b-73f1c1d09e04",
   "metadata": {
    "tags": []
   },
   "outputs": [],
   "source": [
    "conv = torch.nn.Conv2d(1,1,(2,2))\n",
    "conv.weight.data = conv.weight.data * 0 + 1/4\n",
    "conv.bias.data = conv.bias.data * 0"
   ]
  },
  {
   "cell_type": "code",
   "execution_count": 235,
   "id": "060fca06-9ac1-4cc6-afaf-f07d53498b4c",
   "metadata": {
    "tags": []
   },
   "outputs": [
    {
     "data": {
      "text/plain": [
       "tensor([[[[0., 1.],\n",
       "          [2., 3.]]]])"
      ]
     },
     "execution_count": 235,
     "metadata": {},
     "output_type": "execute_result"
    }
   ],
   "source": [
    "_X"
   ]
  },
  {
   "cell_type": "code",
   "execution_count": 236,
   "id": "999aafd7-3bf4-4bb7-9ebd-1509b6a15a2d",
   "metadata": {
    "tags": []
   },
   "outputs": [
    {
     "data": {
      "text/plain": [
       "tensor([[[[1.5000]]]], grad_fn=<ConvolutionBackward0>)"
      ]
     },
     "execution_count": 236,
     "metadata": {},
     "output_type": "execute_result"
    }
   ],
   "source": [
    "conv(_X)"
   ]
  },
  {
   "cell_type": "markdown",
   "id": "bf93abf6-db8b-47ec-a42e-c3c52c849cd7",
   "metadata": {},
   "source": [
    "**(예시3) 이동평균?**"
   ]
  },
  {
   "cell_type": "code",
   "execution_count": 237,
   "id": "49fef574-89a5-4fab-856a-1c69654e2878",
   "metadata": {
    "tags": []
   },
   "outputs": [
    {
     "data": {
      "text/plain": [
       "(tensor([[[[ 0.,  1.,  2.,  3.],\n",
       "           [ 4.,  5.,  6.,  7.],\n",
       "           [ 8.,  9., 10., 11.],\n",
       "           [12., 13., 14., 15.]]]]),\n",
       " tensor([[[[ 2.5000,  3.5000,  4.5000],\n",
       "           [ 6.5000,  7.5000,  8.5000],\n",
       "           [10.5000, 11.5000, 12.5000]]]], grad_fn=<ConvolutionBackward0>))"
      ]
     },
     "execution_count": 237,
     "metadata": {},
     "output_type": "execute_result"
    }
   ],
   "source": [
    "_X = torch.arange(16).reshape(1,1,4,4).float()\n",
    "_X,conv(_X)"
   ]
  },
  {
   "cell_type": "markdown",
   "id": "9606c812-d6b3-4b1f-9466-3adfe8999cfd",
   "metadata": {},
   "source": [
    "**(예시4) window size가 증가한다면? (2d의 이동평균느낌)**"
   ]
  },
  {
   "cell_type": "code",
   "execution_count": 238,
   "id": "8a1e987e-55a9-46da-be92-a577401070c4",
   "metadata": {
    "tags": []
   },
   "outputs": [],
   "source": [
    "_X = torch.arange(16).reshape(1,1,4,4).float()\n",
    "conv = torch.nn.Conv2d(1,1,(3,3))\n",
    "conv.weight.data = conv.weight.data * 0 + 1/9\n",
    "conv.bias.data = conv.bias.data * 0"
   ]
  },
  {
   "cell_type": "code",
   "execution_count": 239,
   "id": "a8027a30-e089-4495-92df-41135730a1c1",
   "metadata": {
    "tags": []
   },
   "outputs": [
    {
     "data": {
      "text/plain": [
       "(tensor([[[[ 0.,  1.,  2.,  3.],\n",
       "           [ 4.,  5.,  6.,  7.],\n",
       "           [ 8.,  9., 10., 11.],\n",
       "           [12., 13., 14., 15.]]]]),\n",
       " tensor([[[[ 5.0000,  6.0000],\n",
       "           [ 9.0000, 10.0000]]]], grad_fn=<ConvolutionBackward0>))"
      ]
     },
     "execution_count": 239,
     "metadata": {},
     "output_type": "execute_result"
    }
   ],
   "source": [
    "_X,conv(_X)"
   ]
  },
  {
   "cell_type": "markdown",
   "id": "986588a6-ba2b-4ca5-9a50-ab43a3ca1aab",
   "metadata": {},
   "source": [
    "**(예시5)** 2개의 이미지 "
   ]
  },
  {
   "cell_type": "code",
   "execution_count": 240,
   "id": "93751fca-c721-4f7a-9084-f4934422d120",
   "metadata": {
    "tags": []
   },
   "outputs": [],
   "source": [
    "_X = torch.arange(32).reshape(2,1,4,4).float()\n",
    "conv = torch.nn.Conv2d(1,1,(3,3))\n",
    "conv.weight.data = conv.weight.data * 0 + 1/9\n",
    "conv.bias.data = conv.bias.data * 0"
   ]
  },
  {
   "cell_type": "code",
   "execution_count": 241,
   "id": "2e1ae357-a7d4-482a-a448-445664ebe125",
   "metadata": {
    "tags": []
   },
   "outputs": [
    {
     "data": {
      "text/plain": [
       "(tensor([[[[ 0.,  1.,  2.,  3.],\n",
       "           [ 4.,  5.,  6.,  7.],\n",
       "           [ 8.,  9., 10., 11.],\n",
       "           [12., 13., 14., 15.]]],\n",
       " \n",
       " \n",
       "         [[[16., 17., 18., 19.],\n",
       "           [20., 21., 22., 23.],\n",
       "           [24., 25., 26., 27.],\n",
       "           [28., 29., 30., 31.]]]]),\n",
       " tensor([[[[ 5.0000,  6.0000],\n",
       "           [ 9.0000, 10.0000]]],\n",
       " \n",
       " \n",
       "         [[[21.0000, 22.0000],\n",
       "           [25.0000, 26.0000]]]], grad_fn=<ConvolutionBackward0>))"
      ]
     },
     "execution_count": 241,
     "metadata": {},
     "output_type": "execute_result"
    }
   ],
   "source": [
    "_X,conv(_X)"
   ]
  },
  {
   "cell_type": "markdown",
   "id": "609e604c-df9a-4921-a8dc-797a3277b935",
   "metadata": {},
   "source": [
    "**(예시6) 피처뻥튀기**"
   ]
  },
  {
   "cell_type": "code",
   "execution_count": 242,
   "id": "29b3c0b7-f5a3-4d28-85ed-186aa678aa06",
   "metadata": {
    "tags": []
   },
   "outputs": [],
   "source": [
    "_X = torch.arange(32).reshape(2,1,4,4).float()\n",
    "conv = torch.nn.Conv2d(1,16,(3,3))"
   ]
  },
  {
   "cell_type": "code",
   "execution_count": 243,
   "id": "1294c956-46b1-43d2-8e6c-2e6fb21d3344",
   "metadata": {
    "tags": []
   },
   "outputs": [
    {
     "data": {
      "text/plain": [
       "(torch.Size([2, 1, 4, 4]), torch.Size([2, 16, 2, 2]))"
      ]
     },
     "execution_count": 243,
     "metadata": {},
     "output_type": "execute_result"
    }
   ],
   "source": [
    "_X.shape,conv(_X).shape"
   ]
  },
  {
   "cell_type": "markdown",
   "id": "a912072e-a980-4e0a-8055-45c08c77ef62",
   "metadata": {},
   "source": [
    "## D. `torch.nn.ReLU`"
   ]
  },
  {
   "cell_type": "code",
   "execution_count": 244,
   "id": "984c34b9-4db9-41e7-be87-95016746d4ad",
   "metadata": {
    "tags": []
   },
   "outputs": [
    {
     "data": {
      "text/plain": [
       "(tensor([[[[-0.2818, -1.1458,  1.8352,  1.8220,  0.2402],\n",
       "           [ 0.2336, -0.3763, -0.2860,  1.3095,  0.1935],\n",
       "           [ 2.2810, -0.0667, -1.0980, -0.8768, -1.2860],\n",
       "           [-2.0301,  2.0058, -1.4996, -2.3721, -0.2790],\n",
       "           [ 0.5234, -2.3032,  0.3850,  0.3517, -0.7517]]]]),\n",
       " tensor([[[[0.0000, 0.0000, 1.8352, 1.8220, 0.2402],\n",
       "           [0.2336, 0.0000, 0.0000, 1.3095, 0.1935],\n",
       "           [2.2810, 0.0000, 0.0000, 0.0000, 0.0000],\n",
       "           [0.0000, 2.0058, 0.0000, 0.0000, 0.0000],\n",
       "           [0.5234, 0.0000, 0.3850, 0.3517, 0.0000]]]]))"
      ]
     },
     "execution_count": 244,
     "metadata": {},
     "output_type": "execute_result"
    }
   ],
   "source": [
    "a1 = torch.nn.ReLU()\n",
    "_X = torch.randn(25).reshape(1,1,5,5)\n",
    "_X,a1(_X)"
   ]
  },
  {
   "cell_type": "markdown",
   "id": "7082a225-5ed3-4af4-86ee-f7c44dbc866e",
   "metadata": {},
   "source": [
    "## E. `torch.nn.MaxPool2d`"
   ]
  },
  {
   "cell_type": "code",
   "execution_count": 245,
   "id": "4a029eab-33a5-40b5-b3d1-98e450bd9bc8",
   "metadata": {
    "tags": []
   },
   "outputs": [
    {
     "data": {
      "text/plain": [
       "(tensor([[[[ 0.0766, -1.5961,  1.3616, -1.0197,  1.7961],\n",
       "           [ 1.0320, -1.4307,  1.5249,  0.5566,  0.4670],\n",
       "           [-1.2974, -0.0475,  0.0949, -0.5826, -0.2989],\n",
       "           [-1.6870,  0.0900, -0.2950,  1.1790,  0.5042],\n",
       "           [-1.7903,  0.8574, -1.2283,  0.6094,  0.0668]]]]),\n",
       " tensor([[[[1.0320, 1.5249],\n",
       "           [0.0900, 1.1790]]]]))"
      ]
     },
     "execution_count": 245,
     "metadata": {},
     "output_type": "execute_result"
    }
   ],
   "source": [
    "m1 = torch.nn.MaxPool2d((2,2))\n",
    "_X = torch.randn(25).reshape(1,1,5,5)\n",
    "_X,m1(_X)"
   ]
  },
  {
   "cell_type": "markdown",
   "id": "a85b9667-4064-4b2c-90d4-1c871d85a40f",
   "metadata": {},
   "source": [
    "# 5. MNIST(CPU)"
   ]
  },
  {
   "cell_type": "code",
   "execution_count": 246,
   "id": "b1c132d3-829b-4883-8dc1-690a05fa1cf4",
   "metadata": {
    "tags": []
   },
   "outputs": [
    {
     "data": {
      "text/plain": [
       "torch.Size([12665, 1, 28, 28])"
      ]
     },
     "execution_count": 246,
     "metadata": {},
     "output_type": "execute_result"
    }
   ],
   "source": [
    "X.shape"
   ]
  },
  {
   "cell_type": "markdown",
   "id": "f863958e-eba1-4777-9c2a-fac7e43c2385",
   "metadata": {
    "tags": []
   },
   "source": [
    "## A. Conv2d"
   ]
  },
  {
   "cell_type": "code",
   "execution_count": 247,
   "id": "c96ee07b-11c7-400d-9b93-e2adbaee9d25",
   "metadata": {
    "tags": []
   },
   "outputs": [
    {
     "name": "stdout",
     "output_type": "stream",
     "text": [
      "torch.Size([12665, 1, 28, 28])\n",
      "torch.Size([12665, 16, 24, 24])\n"
     ]
    }
   ],
   "source": [
    "c1 = torch.nn.Conv2d(1,16,(5,5))\n",
    "print(X.shape)\n",
    "print(c1(X).shape)"
   ]
  },
  {
   "cell_type": "markdown",
   "id": "311db851-8cfc-4a92-a5d3-eee0e6e1978f",
   "metadata": {},
   "source": [
    "## B. ReLU"
   ]
  },
  {
   "cell_type": "code",
   "execution_count": 248,
   "id": "69feaeed-0882-4b42-8f96-8e086d33a059",
   "metadata": {
    "tags": []
   },
   "outputs": [
    {
     "name": "stdout",
     "output_type": "stream",
     "text": [
      "torch.Size([12665, 1, 28, 28])\n",
      "torch.Size([12665, 16, 24, 24])\n",
      "torch.Size([12665, 16, 24, 24])\n"
     ]
    }
   ],
   "source": [
    "a1 = torch.nn.ReLU()\n",
    "print(X.shape)\n",
    "print(c1(X).shape)\n",
    "print(a1(c1(X)).shape)"
   ]
  },
  {
   "cell_type": "markdown",
   "id": "34d57bd6-0673-4942-aa62-38ca6ce53f3b",
   "metadata": {},
   "source": [
    "## C. MaxPool2D"
   ]
  },
  {
   "cell_type": "code",
   "execution_count": 249,
   "id": "79aeab16-58f4-48bb-9b14-8b1cd1a490f9",
   "metadata": {
    "tags": []
   },
   "outputs": [
    {
     "name": "stdout",
     "output_type": "stream",
     "text": [
      "torch.Size([12665, 1, 28, 28])\n",
      "torch.Size([12665, 16, 24, 24])\n",
      "torch.Size([12665, 16, 24, 24])\n",
      "torch.Size([12665, 16, 12, 12])\n"
     ]
    }
   ],
   "source": [
    "m1 =  torch.nn.MaxPool2d((2,2)) \n",
    "print(X.shape)\n",
    "print(c1(X).shape)\n",
    "print(a1(c1(X)).shape)\n",
    "print(m1(a1(c1(X))).shape)"
   ]
  },
  {
   "cell_type": "markdown",
   "id": "e3688d0a-d72b-4cd5-9f3d-49007aeb6823",
   "metadata": {},
   "source": [
    "## D. 적당히 마무리하고 시그모이드 태우자 "
   ]
  },
  {
   "cell_type": "markdown",
   "id": "e610fb29-a42c-4f20-8b13-fe6b30d4fcbf",
   "metadata": {},
   "source": [
    "`-` 펼치자. "
   ]
  },
  {
   "cell_type": "markdown",
   "id": "f7b3bb14-b02c-4bf5-87e4-1afed178a292",
   "metadata": {},
   "source": [
    "(방법1)"
   ]
  },
  {
   "cell_type": "code",
   "execution_count": 253,
   "id": "d8f6ff0a-3c44-436e-a5de-859bfb26fb0f",
   "metadata": {
    "tags": []
   },
   "outputs": [
    {
     "data": {
      "text/plain": [
       "torch.Size([12665, 2304])"
      ]
     },
     "execution_count": 253,
     "metadata": {},
     "output_type": "execute_result"
    }
   ],
   "source": [
    "m1(a1(c1(X))).reshape(-1,16*12*12).shape"
   ]
  },
  {
   "cell_type": "markdown",
   "id": "be82d4c5-543c-4410-a602-d3f405440949",
   "metadata": {},
   "source": [
    "(방법2)"
   ]
  },
  {
   "cell_type": "code",
   "execution_count": 254,
   "id": "bb37b55e-2978-4cdf-8a6c-a79857532e43",
   "metadata": {
    "tags": []
   },
   "outputs": [],
   "source": [
    "flttn = torch.nn.Flatten()"
   ]
  },
  {
   "cell_type": "code",
   "execution_count": 255,
   "id": "00814dfa-c0db-45d5-adc1-8a310396f3a1",
   "metadata": {
    "tags": []
   },
   "outputs": [
    {
     "name": "stdout",
     "output_type": "stream",
     "text": [
      "torch.Size([12665, 1, 28, 28])\n",
      "torch.Size([12665, 16, 24, 24])\n",
      "torch.Size([12665, 16, 24, 24])\n",
      "torch.Size([12665, 16, 12, 12])\n",
      "torch.Size([12665, 2304])\n"
     ]
    }
   ],
   "source": [
    "print(X.shape)\n",
    "print(c1(X).shape)\n",
    "print(a1(c1(X)).shape)\n",
    "print(m1(a1(c1(X))).shape)\n",
    "print(flttn(m1(a1(c1(X)))).shape)"
   ]
  },
  {
   "cell_type": "markdown",
   "id": "fa10d11c-6930-4bc9-a211-fb434c8e1697",
   "metadata": {},
   "source": [
    "`-` 2304 $\\to$ 1 로 차원축소하는 선형레이어를 설계"
   ]
  },
  {
   "cell_type": "code",
   "execution_count": 256,
   "id": "ec891599-8195-4d5e-8f4c-562d6abb12a1",
   "metadata": {
    "tags": []
   },
   "outputs": [
    {
     "name": "stdout",
     "output_type": "stream",
     "text": [
      "torch.Size([12665, 1, 28, 28])\n",
      "torch.Size([12665, 16, 24, 24])\n",
      "torch.Size([12665, 16, 24, 24])\n",
      "torch.Size([12665, 16, 12, 12])\n",
      "torch.Size([12665, 2304])\n",
      "torch.Size([12665, 1])\n"
     ]
    }
   ],
   "source": [
    "l1 = torch.nn.Linear(in_features=2304,out_features=1) \n",
    "print(X.shape)\n",
    "print(c1(X).shape)\n",
    "print(a1(c1(X)).shape)\n",
    "print(m1(a1(c1(X))).shape)\n",
    "print(flttn(m1(a1(c1(X)))).shape)\n",
    "print(l1(flttn(m1(a1(c1(X))))).shape)"
   ]
  },
  {
   "cell_type": "markdown",
   "id": "45bddf2e-50b1-4bbc-9148-b39f0ad85914",
   "metadata": {},
   "source": [
    "`-` 시그모이드"
   ]
  },
  {
   "cell_type": "code",
   "execution_count": 257,
   "id": "d040d9be-3c8c-4221-bc1e-0e7de6b7c239",
   "metadata": {
    "tags": []
   },
   "outputs": [],
   "source": [
    "a2 = torch.nn.Sigmoid()"
   ]
  },
  {
   "cell_type": "code",
   "execution_count": 259,
   "id": "630d9e5e-9bb5-41cd-80a8-e6bdb1545f73",
   "metadata": {
    "tags": []
   },
   "outputs": [
    {
     "name": "stdout",
     "output_type": "stream",
     "text": [
      "torch.Size([12665, 1, 28, 28])\n",
      "torch.Size([12665, 16, 24, 24])\n",
      "torch.Size([12665, 16, 24, 24])\n",
      "torch.Size([12665, 16, 12, 12])\n",
      "torch.Size([12665, 2304])\n",
      "torch.Size([12665, 1])\n",
      "torch.Size([12665, 1])\n"
     ]
    }
   ],
   "source": [
    "l1 = torch.nn.Linear(in_features=2304,out_features=1) \n",
    "print(X.shape)\n",
    "print(c1(X).shape)\n",
    "print(a1(c1(X)).shape)\n",
    "print(m1(a1(c1(X))).shape)\n",
    "print(flttn(m1(a1(c1(X)))).shape)\n",
    "print(l1(flttn(m1(a1(c1(X))))).shape)\n",
    "print(a2(l1(flttn(m1(a1(c1(X)))))).shape)"
   ]
  },
  {
   "cell_type": "markdown",
   "id": "f3e89f57-51c1-4ff5-a72e-adbd0a8a3c64",
   "metadata": {
    "tags": []
   },
   "source": [
    "## E. 학습"
   ]
  },
  {
   "cell_type": "markdown",
   "id": "3035198f-90eb-4aa7-a6e9-9435e3dfd07b",
   "metadata": {},
   "source": [
    "`-` 네트워크 설계"
   ]
  },
  {
   "cell_type": "code",
   "execution_count": 260,
   "id": "8f362c75-6e59-4f3c-8019-fe339faf81d8",
   "metadata": {
    "tags": []
   },
   "outputs": [],
   "source": [
    "net = torch.nn.Sequential(\n",
    "    c1, # 2d: 컨볼루션(선형변환), 피처 뻥튀기 \n",
    "    a1, # 2d: 렐루(비선형변환)\n",
    "    m1, # 2d: 맥스풀링: 데이터요약\n",
    "    flttn, # 2d->1d \n",
    "    l1, # 1d: 선형변환\n",
    "    a2 # 1d: 시그모이드(비선형변환) \n",
    ")\n",
    "loss_fn = torch.nn.BCELoss()\n",
    "optimizr = torch.optim.Adam(net.parameters())\n",
    "for epoc in range(50): \n",
    "    ## 1\n",
    "    yhat = net(X) \n",
    "    ## 2\n",
    "    loss = loss_fn(yhat,y) \n",
    "    ## 3\n",
    "    loss.backward()\n",
    "    ## 4\n",
    "    optimizr.step()\n",
    "    optimizr.zero_grad()"
   ]
  },
  {
   "cell_type": "code",
   "execution_count": 261,
   "id": "e2bf1cdd-a66b-4d8e-9928-039e436099ba",
   "metadata": {
    "tags": []
   },
   "outputs": [
    {
     "data": {
      "text/plain": [
       "Text(0.5, 1.0, 'Traning Set')"
      ]
     },
     "execution_count": 261,
     "metadata": {},
     "output_type": "execute_result"
    },
    {
     "data": {
      "image/png": "[encoded data removed]",
      "text/plain": [
       "<Figure size 640x480 with 1 Axes>"
      ]
     },
     "metadata": {},
     "output_type": "display_data"
    }
   ],
   "source": [
    "plt.plot(y)\n",
    "plt.plot(net(X).data,'.')\n",
    "plt.title('Traning Set',size=15)"
   ]
  },
  {
   "cell_type": "code",
   "execution_count": 262,
   "id": "2aa2efbb-9fb9-416b-8952-6685b41c9030",
   "metadata": {
    "tags": []
   },
   "outputs": [
    {
     "data": {
      "text/plain": [
       "Text(0.5, 1.0, 'Test Set')"
      ]
     },
     "execution_count": 262,
     "metadata": {},
     "output_type": "execute_result"
    },
    {
     "data": {
      "image/png": "[encoded data removed]",
      "text/plain": [
       "<Figure size 640x480 with 1 Axes>"
      ]
     },
     "metadata": {},
     "output_type": "display_data"
    }
   ],
   "source": [
    "plt.plot(yy)\n",
    "plt.plot(net(XX).data,'.')\n",
    "plt.title('Test Set',size=15)"
   ]
  },
  {
   "cell_type": "markdown",
   "id": "ab491c74-0696-46c0-ab57-4fdc86903cbf",
   "metadata": {},
   "source": [
    "# 6. MNIST (GPU)"
   ]
  },
  {
   "cell_type": "code",
   "execution_count": 264,
   "id": "117604c0-6060-4e77-a4b1-5f8ff72eab10",
   "metadata": {
    "tags": []
   },
   "outputs": [],
   "source": [
    "ds = torch.utils.data.TensorDataset(X,y)\n",
    "dl = torch.utils.data.DataLoader(ds,batch_size=128)\n",
    "#--#\n",
    "net = torch.nn.Sequential(\n",
    "    torch.nn.Conv2d(1,16,(5,5)),\n",
    "    torch.nn.ReLU(),\n",
    "    torch.nn.MaxPool2d((2,2)),\n",
    "    torch.nn.Flatten(),\n",
    "    torch.nn.Linear(2304,1),\n",
    "    torch.nn.Sigmoid()\n",
    ")\n",
    "loss_fn = torch.nn.BCELoss()\n",
    "optimizr = torch.optim.Adam(net.parameters())\n",
    "#--#\n",
    "net.to(\"cuda:0\")\n",
    "for epoc in range(5): \n",
    "    for xi,yi in dl: \n",
    "        ## 1\n",
    "        netout = net(xi.to(\"cuda:0\")) \n",
    "        ## 2\n",
    "        loss = loss_fn(netout,yi.to(\"cuda:0\")) \n",
    "        ## 3\n",
    "        loss.backward()\n",
    "        ## 4\n",
    "        optimizr.step()\n",
    "        optimizr.zero_grad()"
   ]
  },
  {
   "cell_type": "code",
   "execution_count": 267,
   "id": "a47a0262-fa48-4cde-9d02-b75c71fc9ac3",
   "metadata": {
    "tags": []
   },
   "outputs": [
    {
     "data": {
      "text/plain": [
       "Text(0.5, 1.0, 'Training Set')"
      ]
     },
     "execution_count": 267,
     "metadata": {},
     "output_type": "execute_result"
    },
    {
     "data": {
      "image/png": "[encoded data removed]",
      "text/plain": [
       "<Figure size 640x480 with 1 Axes>"
      ]
     },
     "metadata": {},
     "output_type": "display_data"
    }
   ],
   "source": [
    "net.to(\"cpu\")\n",
    "plt.plot(y)\n",
    "plt.plot(net(X).data,'.')\n",
    "plt.title(\"Training Set\",size=15)"
   ]
  },
  {
   "cell_type": "code",
   "execution_count": 269,
   "id": "6a3438c8-25f9-41a5-a47d-f6373316433c",
   "metadata": {
    "tags": []
   },
   "outputs": [
    {
     "data": {
      "text/plain": [
       "Text(0.5, 1.0, 'Test Set')"
      ]
     },
     "execution_count": 269,
     "metadata": {},
     "output_type": "execute_result"
    },
    {
     "data": {
      "image/png": "[encoded data removed]",
      "text/plain": [
       "<Figure size 640x480 with 1 Axes>"
      ]
     },
     "metadata": {},
     "output_type": "display_data"
    }
   ],
   "source": [
    "#net.to(\"cpu\")\n",
    "plt.plot(yy)\n",
    "plt.plot(net(XX).data,'.')\n",
    "plt.title(\"Test Set\",size=15)"
   ]
  }
 ],
 "metadata": {
  "kernelspec": {
   "display_name": "Python 3 (ipykernel)",
   "language": "python",
   "name": "python3"
  },
  "language_info": {
   "codemirror_mode": {
    "name": "ipython",
    "version": 3
   },
   "file_extension": ".py",
   "mimetype": "text/x-python",
   "name": "python",
   "nbconvert_exporter": "python",
   "pygments_lexer": "ipython3",
   "version": "3.11.8"
  }
 },
 "nbformat": 4,
 "nbformat_minor": 5
}
