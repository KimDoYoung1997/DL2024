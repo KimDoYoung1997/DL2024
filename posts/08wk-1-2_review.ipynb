{
 "cells": [
  {
   "cell_type": "code",
   "execution_count": 1,
   "id": "8f622828-1f15-4ee0-a2fd-680c24d412ad",
   "metadata": {
    "tags": []
   },
   "outputs": [],
   "source": [
    "import torch \n",
    "import torchvision\n",
    "import fastai.vision.all \n",
    "import matplotlib.pyplot as plt "
   ]
  },
  {
   "cell_type": "code",
   "execution_count": 2,
   "id": "866721d6",
   "metadata": {},
   "outputs": [],
   "source": [
    "path=fastai.data.external.untar_data(fastai.data.external.URLs.MNIST)"
   ]
  },
  {
   "cell_type": "code",
   "execution_count": 3,
   "id": "d0e8dd23",
   "metadata": {},
   "outputs": [],
   "source": [
    "X3_real = torch.stack([torchvision.io.read_image(str(l)) for l in (path/'training/3').ls()])/255\n",
    "X8_real = torch.stack([torchvision.io.read_image(str(l)) for l in (path/'training/8').ls()])/255\n",
    "X0_real = torch.stack([torchvision.io.read_image(str(l)) for l in (path/'training/0').ls()])/255"
   ]
  },
  {
   "cell_type": "code",
   "execution_count": null,
   "id": "891fca54-9896-45a0-a66d-3037a3a831e9",
   "metadata": {
    "tags": []
   },
   "outputs": [],
   "source": [
    "X3_real.shape,X8_real.shape,X0_real.shape"
   ]
  },
  {
   "cell_type": "code",
   "execution_count": null,
   "id": "a1efa4a3",
   "metadata": {},
   "outputs": [],
   "source": [
    "fig,ax = plt.subplots(3,3,figsize=(10,10))\n",
    "k=0\n",
    "for i in range(3):\n",
    "    for j in range(3):\n",
    "        if i==0:\n",
    "            ax[i][j].imshow(X3_real[k].reshape(28,28),cmap=\"gray\")\n",
    "            ax[i][j].set_title(f\"image {k}\")\n",
    "        if i==1:\n",
    "            ax[i][j].imshow(X8_real[k].reshape(28,28),cmap=\"gray\")\n",
    "            ax[i][j].set_title(f\"image {k}\")\n",
    "        if i==2:\n",
    "            ax[i][j].imshow(X0_real[k].reshape(28,28),cmap=\"gray\")\n",
    "            ax[i][j].set_title(f\"image {k}\")\n",
    "        k=k+1\n"
   ]
  },
  {
   "cell_type": "markdown",
   "id": "7a0f7474-02e8-4211-8cfd-91776d9c623d",
   "metadata": {},
   "source": [
    "## B. 페이커 생성"
   ]
  },
  {
   "cell_type": "code",
   "execution_count": null,
   "id": "46806f58",
   "metadata": {},
   "outputs": [],
   "source": [
    "X3_real.shape,X8_real.shape,X0_real.shape"
   ]
  },
  {
   "cell_type": "code",
   "execution_count": 5,
   "id": "e1c914e4",
   "metadata": {},
   "outputs": [],
   "source": [
    "class Reshape2828(torch.nn.Module):\n",
    "    def __init__(self):\n",
    "        super().__init__()\n",
    "    def forward(self,X):\n",
    "        return X.reshape(-1,1,28,28)\n",
    "\n",
    "X3_num = 6131\n",
    "latent_dim = 4\n",
    "Noise3 = torch.randn(X3_num,latent_dim)\n",
    "net3_faker = torch.nn.Sequential(\n",
    "    torch.nn.Linear(latent_dim,64),\n",
    "    torch.nn.ReLU(),\n",
    "    torch.nn.Linear(in_features=64, out_features=64), # (n,64) -> (n,64)   \n",
    "    torch.nn.ReLU(),\n",
    "    torch.nn.Linear(64,784),\n",
    "    torch.nn.Sigmoid(),\n",
    "    Reshape2828()\n",
    ")\n",
    "X8_num = 5851\n",
    "latent_dim = 4\n",
    "Noise8 = torch.randn(X8_num,latent_dim)\n",
    "net8_faker = torch.nn.Sequential(\n",
    "    torch.nn.Linear(latent_dim,64),\n",
    "    torch.nn.ReLU(),\n",
    "    torch.nn.Linear(in_features=64, out_features=64), # (n,64) -> (n,64)   \n",
    "    torch.nn.ReLU(),\n",
    "    torch.nn.Linear(64,784),\n",
    "    torch.nn.Sigmoid(),\n",
    "    Reshape2828()\n",
    ")\n",
    "X0_num = 5923\n",
    "latent_dim = 4\n",
    "Noise0 = torch.randn(X0_num,latent_dim)\n",
    "net0_faker = torch.nn.Sequential(\n",
    "    torch.nn.Linear(latent_dim,64),\n",
    "    torch.nn.ReLU(),\n",
    "    torch.nn.Linear(in_features=64, out_features=64), # (n,64) -> (n,64)   \n",
    "    torch.nn.ReLU(),\n",
    "    torch.nn.Linear(64,784),\n",
    "    torch.nn.Sigmoid(),\n",
    "    Reshape2828()\n",
    ")\n"
   ]
  },
  {
   "cell_type": "code",
   "execution_count": null,
   "id": "c157fbeb",
   "metadata": {},
   "outputs": [],
   "source": [
    "fig,ax = plt.subplots(3,3,figsize=(10,10))\n",
    "k=0\n",
    "for i in range(3):\n",
    "    for j in range(3):\n",
    "        if i==0:\n",
    "            ax[i][j].imshow(net3_faker(Noise3)[0].data.reshape(28,28),cmap=\"gray\")\n",
    "            ax[i][j].set_title(f\"net3_image {k}\")\n",
    "        if i==1:\n",
    "            ax[i][j].imshow(net8_faker(Noise3)[0].data.reshape(28,28),cmap=\"gray\")\n",
    "            ax[i][j].set_title(f\"net8_image {k}\")\n",
    "        if i==2:\n",
    "            ax[i][j].imshow(net0_faker(Noise3)[0].data.reshape(28,28),cmap=\"gray\")\n",
    "            ax[i][j].set_title(f\"net9_image {k}\")\n",
    "        k=k+1\n"
   ]
  },
  {
   "cell_type": "markdown",
   "id": "0fae8804-015b-4d71-afa2-76442e181774",
   "metadata": {},
   "source": [
    "## C. 경찰 생성"
   ]
  },
  {
   "cell_type": "markdown",
   "id": "9e13759d-132e-4405-a6b6-f17ab442cc13",
   "metadata": {},
   "source": [
    "> net_police: 진짜이미지 $\\to$ 0 // 가짜이미지 $\\to$ 1 와 같은 네트워크를 설계하자. "
   ]
  },
  {
   "cell_type": "markdown",
   "id": "28eb7a1a-a1e8-4898-b0e1-b8e9d7c7e670",
   "metadata": {},
   "source": [
    "`-` 네트워크의 입력: (n,1,28,28) 인 이미지 "
   ]
  },
  {
   "cell_type": "markdown",
   "id": "dada3a59-55f1-410d-9d3e-fb11e3166101",
   "metadata": {},
   "source": [
    "`-` 네트워크의 출력: 0,1 "
   ]
  },
  {
   "cell_type": "code",
   "execution_count": 7,
   "id": "aec6eca9-78a4-4a6c-9214-b4e3b5e19288",
   "metadata": {
    "tags": []
   },
   "outputs": [],
   "source": [
    "net_police = torch.nn.Sequential(\n",
    "    torch.nn.Flatten(),\n",
    "    torch.nn.Linear(in_features=784,out_features=30),\n",
    "    torch.nn.ReLU(),\n",
    "    torch.nn.Linear(in_features=30,out_features=1),\n",
    "    torch.nn.Sigmoid()\n",
    ")"
   ]
  },
  {
   "cell_type": "markdown",
   "id": "8cff0644-90a9-43c0-9ee7-936b7d89d8a5",
   "metadata": {},
   "source": [
    "## D. 바보경찰, 바보페이커"
   ]
  },
  {
   "cell_type": "markdown",
   "id": "df735ee5-32f2-4d2b-9be7-1f62a17ea6be",
   "metadata": {},
   "source": [
    "> 스토리를 전개해볼까? "
   ]
  },
  {
   "cell_type": "markdown",
   "id": "5609b4ec-4d45-4aba-a18a-751dcb7e75e2",
   "metadata": {},
   "source": [
    "`-` 경찰네트워크가 가짜이미지를 봤을때 어떤 판단을 하는지, 진짜 이미지를 봤을떄 어떤 판단을 하는지 살펴보자. "
   ]
  },
  {
   "cell_type": "markdown",
   "id": "87a9c1f5-d930-472d-b636-6bb6b3559eda",
   "metadata": {},
   "source": [
    "***<경찰이 진짜이미지를 봤다면>***"
   ]
  },
  {
   "cell_type": "markdown",
   "id": "2e7f86e0-3128-4972-8f89-9a3a37478a78",
   "metadata": {},
   "source": [
    "`-` 진짜이미지 "
   ]
  },
  {
   "cell_type": "code",
   "execution_count": null,
   "id": "bd8dea27-2d63-477e-b4b2-d4412cc1139d",
   "metadata": {
    "tags": []
   },
   "outputs": [],
   "source": [
    "plt.imshow(X3_real[0].reshape(28,28),cmap=\"gray\")"
   ]
  },
  {
   "cell_type": "markdown",
   "id": "7d64cedf-7833-4645-af60-a340f0dc9d73",
   "metadata": {},
   "source": [
    "`-` 진짜 이미지를 경찰한테 한장 줘볼까? $\\to$ yhat이 나올텐데, 이 값이 0이어야 함"
   ]
  },
  {
   "cell_type": "code",
   "execution_count": null,
   "id": "7390b7a2-0712-4c19-81c5-9186f847d55d",
   "metadata": {
    "tags": []
   },
   "outputs": [],
   "source": [
    "y3hat_real = net_police(X3_real[[0]]) # 이 값이 0이어야 하는데..\n",
    "y3hat_real"
   ]
  },
  {
   "cell_type": "code",
   "execution_count": null,
   "id": "6a467fa5",
   "metadata": {},
   "outputs": [],
   "source": [
    "y8hat_real = net_police(X8_real[[0]]) # 이 값이 0이어야 하는데..\n",
    "y8hat_real"
   ]
  },
  {
   "cell_type": "markdown",
   "id": "39df3054-25e8-4f8c-ae2e-42e3c80d7eeb",
   "metadata": {},
   "source": [
    "## E. 똑똑해진 경찰"
   ]
  },
  {
   "cell_type": "code",
   "execution_count": null,
   "id": "598ca13d",
   "metadata": {},
   "outputs": [],
   "source": [
    "X3_real = torch.stack([torchvision.io.read_image(str(l)) for l in (path/'training/3').ls()])/255\n",
    "X8_real = torch.stack([torchvision.io.read_image(str(l)) for l in (path/'training/8').ls()])/255\n",
    "X0_real = torch.stack([torchvision.io.read_image(str(l)) for l in (path/'training/0').ls()])/255"
   ]
  },
  {
   "cell_type": "code",
   "execution_count": null,
   "id": "af866cb1",
   "metadata": {},
   "outputs": [],
   "source": [
    "X3_real.shape,X8_real.shape,X0_real.shape"
   ]
  },
  {
   "cell_type": "code",
   "execution_count": 13,
   "id": "e245cbaa",
   "metadata": {},
   "outputs": [],
   "source": [
    "class Reshape2828(torch.nn.Module):\n",
    "    def __init__(self):\n",
    "        super().__init__()\n",
    "    def forward(self,X):\n",
    "        return X.reshape(-1,1,28,28)\n",
    "\n",
    "X3_num = 6131\n",
    "latent_dim = 4\n",
    "Noise3 = torch.randn(X3_num,latent_dim)\n",
    "net3_faker = torch.nn.Sequential(\n",
    "    torch.nn.Linear(latent_dim,64),\n",
    "    torch.nn.ReLU(),\n",
    "    torch.nn.Linear(in_features=64, out_features=64), # (n,64) -> (n,64)   \n",
    "    torch.nn.ReLU(),\n",
    "    torch.nn.Linear(64,784),\n",
    "    torch.nn.Sigmoid(),\n",
    "    Reshape2828()\n",
    ")\n",
    "\n",
    "X8_num = 5851\n",
    "latent_dim = 4\n",
    "Noise8 = torch.randn(X8_num,latent_dim)\n",
    "net8_faker = torch.nn.Sequential(\n",
    "    torch.nn.Linear(latent_dim,64),\n",
    "    torch.nn.ReLU(),\n",
    "    torch.nn.Linear(in_features=64, out_features=64), # (n,64) -> (n,64)   \n",
    "    torch.nn.ReLU(),\n",
    "    torch.nn.Linear(64,784),\n",
    "    torch.nn.Sigmoid(),\n",
    "    Reshape2828()\n",
    ")\n",
    "X0_num = 5923\n",
    "latent_dim = 4\n",
    "Noise0 = torch.randn(X0_num,latent_dim)\n",
    "net0_faker = torch.nn.Sequential(\n",
    "    torch.nn.Linear(latent_dim,64),\n",
    "    torch.nn.ReLU(),\n",
    "    torch.nn.Linear(in_features=64, out_features=64), # (n,64) -> (n,64)   \n",
    "    torch.nn.ReLU(),\n",
    "    torch.nn.Linear(64,784),\n",
    "    torch.nn.Sigmoid(),\n",
    "    Reshape2828()\n",
    ")\n"
   ]
  },
  {
   "cell_type": "code",
   "execution_count": 14,
   "id": "cbfedf23-b6ec-4bc2-baa7-c1716a627627",
   "metadata": {
    "tags": []
   },
   "outputs": [],
   "source": [
    "X3_num = 6131\n",
    "Noise3 = torch.randn(X3_num,4)     # n = 6131\n",
    "X3_fake = net3_faker(Noise3).data\n",
    "y3_real = torch.tensor([0]*X3_num).reshape(-1,1).float()   # real\n",
    "y3_fake = torch.tensor([1]*X3_num).reshape(-1,1).float()   # fake\n",
    "\n",
    "X8_num = 5851\n",
    "Noise8 = torch.randn(X8_num,latent_dim)\n",
    "X8_fake = net8_faker(Noise8).data\n",
    "y8_real = torch.tensor([0]*X8_num).reshape(-1,1).float()   # real\n",
    "y8_fake = torch.tensor([1]*X8_num).reshape(-1,1).float()   # fake\n",
    "\n",
    "X0_num = 5923\n",
    "Noise0 = torch.randn(X0_num,latent_dim)\n",
    "X0_fake = net0_faker(Noise0).data\n",
    "y0_real = torch.tensor([0]*X0_num).reshape(-1,1).float()   # real\n",
    "y0_fake = torch.tensor([1]*X0_num).reshape(-1,1).float()   # fake\n"
   ]
  },
  {
   "cell_type": "code",
   "execution_count": null,
   "id": "16dce045",
   "metadata": {},
   "outputs": [],
   "source": [
    "y3_real.shape , y3_fake.shape , y8_real.shape , y8_fake.shape , y0_real.shape , y0_fake.shape"
   ]
  },
  {
   "cell_type": "code",
   "execution_count": null,
   "id": "00bc6490",
   "metadata": {},
   "outputs": [],
   "source": [
    "X3_fake.shape , X3_real.shape ,X8_fake.shape , X8_real.shape ,X0_fake.shape , X0_real.shape"
   ]
  },
  {
   "cell_type": "markdown",
   "id": "cbaf9924-6d33-4321-9d62-cc344510823b",
   "metadata": {},
   "source": [
    "`-` step1: X_real, X_fake를 보고 각가 yhat_real, yhat_fake를 만드는 과정 "
   ]
  },
  {
   "cell_type": "code",
   "execution_count": 20,
   "id": "67b57d56-7e6d-486b-aeb7-d98b4cdb8bc0",
   "metadata": {
    "tags": []
   },
   "outputs": [],
   "source": [
    "y3hat_real = net_police(X3_real)\n",
    "y3hat_fake = net_police(X3_fake)\n",
    "#\n",
    "y8hat_real = net_police(X8_real)\n",
    "y8hat_fake = net_police(X8_fake)\n",
    "#\n",
    "y0hat_real = net_police(X0_real)\n",
    "y0hat_fake = net_police(X0_fake)"
   ]
  },
  {
   "cell_type": "markdown",
   "id": "94fe68ad-666f-4cd5-9f4b-f4b1c7b6ee0e",
   "metadata": {},
   "source": [
    "`-` step2: 손실을 계산 -- 경찰의 미덕은 (1) 가짜이미지를 가짜라고 하고 (yhat_fake $\\approx$ y_fake) (2) 진짜이미지를 진짜라고 해야한다. (yhat_real $\\approx$ y_real)"
   ]
  },
  {
   "cell_type": "code",
   "execution_count": null,
   "id": "631023f4-4a9c-4284-9788-4204065ddaa3",
   "metadata": {
    "tags": []
   },
   "outputs": [],
   "source": [
    "bce = torch.nn.BCELoss()\n",
    "loss_police = bce(y3hat_fake,y3_fake) + bce(y3hat_real,y3_real) + \\\n",
    "              bce(y8hat_fake,y8_fake) + bce(y8hat_real,y8_real) + \\\n",
    "              bce(y0hat_fake,y0_fake) + bce(y0hat_real,y0_real)\n",
    "loss_police"
   ]
  },
  {
   "cell_type": "markdown",
   "id": "4d9631ed-4316-46b9-897a-e618ad9f6149",
   "metadata": {},
   "source": [
    "`-` step3~4는 별로 특별한게 없음. 그래서 바로 epoch을 진행시켜보자."
   ]
  },
  {
   "cell_type": "code",
   "execution_count": 23,
   "id": "f4efa266-0721-40c2-85d8-78ced44d5873",
   "metadata": {
    "tags": []
   },
   "outputs": [],
   "source": [
    "##\n",
    "net_police = torch.nn.Sequential(\n",
    "    torch.nn.Flatten(),\n",
    "    torch.nn.Linear(in_features=784,out_features=30),\n",
    "    torch.nn.ReLU(),\n",
    "    torch.nn.Linear(in_features=30,out_features=1),\n",
    "    torch.nn.Sigmoid()\n",
    ")\n",
    "bce = torch.nn.BCELoss()\n",
    "optimizr_police = torch.optim.Adam(net_police.parameters())\n",
    "# Noise = torch.randn(6131,4) \n",
    "\n",
    "##\n",
    "for epoc in range(50):\n",
    "    latent_dim = 4\n",
    "\n",
    "    X3_num = 6131\n",
    "    Noise3 = torch.randn(X3_num,latent_dim)\n",
    "    X3_fake = net3_faker(Noise3).data\n",
    "    \n",
    "    X8_num = 5851\n",
    "    Noise8 = torch.randn(X8_num,latent_dim)\n",
    "    X8_fake = net8_faker(Noise8).data\n",
    "\n",
    "    X0_num = 5923\n",
    "    Noise0 = torch.randn(X0_num,latent_dim)\n",
    "    X0_fake = net0_faker(Noise0).data\n",
    "\n",
    "    ## step1 \n",
    "    y3hat_real = net_police(X3_real)  # 0이길 바람\n",
    "    y3hat_fake = net_police(X3_fake)  # 1이길 바람\n",
    "    y8hat_real = net_police(X8_real)  # 0이길 바람\n",
    "    y8hat_fake = net_police(X8_fake)  # 1이길 바람\n",
    "    y0hat_real = net_police(X0_real)  # 0이길 바람\n",
    "    y0hat_fake = net_police(X0_fake)  # 1이길 바람\n",
    "\n",
    "    ## step2\n",
    "    loss_police = bce(y3hat_fake,y3_fake) + bce(y3hat_real,y3_real) + \\\n",
    "                bce(y8hat_fake,y8_fake) + bce(y8hat_real,y8_real) + \\\n",
    "                bce(y0hat_fake,y0_fake) + bce(y0hat_real,y0_real)\n",
    "    ## step3 \n",
    "    loss_police.backward()\n",
    "    ## step4 \n",
    "    optimizr_police.step()\n",
    "    optimizr_police.zero_grad()"
   ]
  },
  {
   "cell_type": "markdown",
   "id": "efa3777b-4e9e-44f7-86b8-12c74055050a",
   "metadata": {},
   "source": [
    "`-` 훈련된 경찰의 성능을 살펴보자. "
   ]
  },
  {
   "cell_type": "code",
   "execution_count": null,
   "id": "0d50c334-f5ab-43b6-ba27-1520d27ff07a",
   "metadata": {
    "tags": []
   },
   "outputs": [],
   "source": [
    "net_police(X3_real),net_police(X8_real),net_police(X0_real) # 거의 0으로!"
   ]
  },
  {
   "cell_type": "code",
   "execution_count": null,
   "id": "04a58343-0e34-4624-b5fa-3b5120a84249",
   "metadata": {
    "tags": []
   },
   "outputs": [],
   "source": [
    "net_police(X3_fake) , net_police(X8_fake) ,net_police(X0_fake)# 거의 1로!"
   ]
  },
  {
   "cell_type": "markdown",
   "id": "134f6b37-4bb0-45b6-afe1-efb60bce8666",
   "metadata": {},
   "source": [
    "`-` 꽤 우수한 경찰이 되었음"
   ]
  },
  {
   "cell_type": "code",
   "execution_count": null,
   "id": "27f00013-439e-4f03-b8d1-e7af75f616d3",
   "metadata": {
    "tags": []
   },
   "outputs": [],
   "source": [
    "fig, ax = plt.subplots(1,2)\n",
    "ax[0].imshow(X3_fake[[-1]].data.reshape(28,28),cmap=\"gray\"); ax[0].set_title(\"fake\")\n",
    "ax[1].imshow(X3_real[[-1]].reshape(28,28),cmap=\"gray\"); ax[1].set_title(\"real\")"
   ]
  },
  {
   "cell_type": "markdown",
   "id": "b548e1be-c70c-4817-b81e-27c13ab37415",
   "metadata": {},
   "source": [
    "## F. 더 똑똑해지는 페이커"
   ]
  },
  {
   "cell_type": "markdown",
   "id": "0242a957-b812-460d-8ee9-4bd1225cb8de",
   "metadata": {},
   "source": [
    "`-` step1: Noise $\\to$ X_fake"
   ]
  },
  {
   "cell_type": "code",
   "execution_count": 31,
   "id": "9c11b5e0-2844-46d8-815b-d39f68c195a4",
   "metadata": {
    "tags": []
   },
   "outputs": [],
   "source": [
    "Noise3 = torch.randn(6131,4)\n",
    "X3_fake = net3_faker(Noise3) "
   ]
  },
  {
   "cell_type": "markdown",
   "id": "d619fecd-a594-4c5d-b12d-0cb1ae3a535a",
   "metadata": {},
   "source": [
    "`-` step2: 손실함수 -- 페이커의 미덕은 (잘 훈련된) 경찰이 가짜이미지를 진짜라고 판단하는 것. 즉 `yhat_fake` $\\approx$ `y_real` 이어야 페이커의 실력이 우수하다고 볼 수 있음. "
   ]
  },
  {
   "cell_type": "code",
   "execution_count": 34,
   "id": "ded32ace-c36c-4c3e-a82e-107ec746bb6a",
   "metadata": {
    "tags": []
   },
   "outputs": [],
   "source": [
    "y3hat_fake = net_police(X3_fake) \n",
    "loss_faker = bce(y3hat_fake,y3_real) ## 가짜이미지를 보고 잘 훈련된 경찰조차 진짜이미지라고 깜빡 속으면 위조범의 실력이 좋은 것임"
   ]
  },
  {
   "cell_type": "markdown",
   "id": "a6ae0af3-a0b3-4e30-bd11-67ac2013297e",
   "metadata": {},
   "source": [
    "`-` step3~4는 별로 특별한게 없음. 그래서 바로 epoch을 진행시켜보자."
   ]
  },
  {
   "cell_type": "code",
   "execution_count": 44,
   "id": "71129701-5022-4a79-8448-c2744e85c9d6",
   "metadata": {
    "tags": []
   },
   "outputs": [],
   "source": [
    "net3_faker = torch.nn.Sequential(\n",
    "    torch.nn.Linear(in_features=4, out_features=64), # (n,4) -> (n,64) \n",
    "    torch.nn.ReLU(),\n",
    "    torch.nn.Linear(in_features=64, out_features=64), # (n,64) -> (n,64)   \n",
    "    torch.nn.ReLU(),\n",
    "    torch.nn.Linear(in_features=64, out_features=784), # (n,64) -> (n,784) \n",
    "    torch.nn.Sigmoid(), # 출력을 0~1로 눌러주는 역할.. -- 저는 이 레이어가 일종의 문화충격이었어요.. (시그모이드를 이렇게 쓴다고??)\n",
    "    Reshape2828()\n",
    ")\n",
    "#bce = torch.nn.BCELoss()\n",
    "optimizr3_faker = torch.optim.Adam(net3_faker.parameters())\n",
    "#--#"
   ]
  },
  {
   "cell_type": "code",
   "execution_count": 48,
   "id": "0811cd56-b380-428d-860f-65ed893019fd",
   "metadata": {
    "tags": []
   },
   "outputs": [],
   "source": [
    "for epoc in range(10):\n",
    "    # step1\n",
    "    Noise3 = torch.randn(6131,4) \n",
    "    X3_fake = net3_faker(Noise3) \n",
    "    # step2\n",
    "    yhat3_fake = net_police(X3_fake) \n",
    "    # loss3_faker = bce(y3hat_fake,y3_real)\n",
    "    loss3_faker = bce(net_police(X3_fake),y3_real)\n",
    "\n",
    "    # step3 \n",
    "    loss3_faker.backward()\n",
    "    # step4 \n",
    "    optimizr3_faker.step()\n",
    "    optimizr3_faker.zero_grad()"
   ]
  },
  {
   "cell_type": "code",
   "execution_count": null,
   "id": "5cc2159d",
   "metadata": {},
   "outputs": [],
   "source": [
    "fig,ax = plt.subplots(2,5,figsize=(10,4))\n",
    "k = 0 \n",
    "for i in range(2):\n",
    "    for j in range(5):\n",
    "        ax[i][j].imshow(X3_fake[k].reshape(28,28).data,cmap=\"gray\")\n",
    "        ax[i][j].set_title(f\"police hat = {y3hat_fake[k].item():.4f}\")\n",
    "        k = k+1 \n",
    "fig.tight_layout()"
   ]
  },
  {
   "cell_type": "code",
   "execution_count": 50,
   "id": "c317fdb9",
   "metadata": {},
   "outputs": [],
   "source": [
    "net8_faker = torch.nn.Sequential(\n",
    "    torch.nn.Linear(in_features=4, out_features=64), # (n,4) -> (n,64) \n",
    "    torch.nn.ReLU(),\n",
    "    torch.nn.Linear(in_features=64, out_features=64), # (n,64) -> (n,64)   \n",
    "    torch.nn.ReLU(),\n",
    "    torch.nn.Linear(in_features=64, out_features=784), # (n,64) -> (n,784) \n",
    "    torch.nn.Sigmoid(), # 출력을 0~1로 눌러주는 역할.. -- 저는 이 레이어가 일종의 문화충격이었어요.. (시그모이드를 이렇게 쓴다고??)\n",
    "    Reshape2828()\n",
    ")\n",
    "#bce = torch.nn.BCELoss()\n",
    "optimizr8_faker = torch.optim.Adam(net8_faker.parameters())\n",
    "#--#"
   ]
  },
  {
   "cell_type": "code",
   "execution_count": 57,
   "id": "10a723da",
   "metadata": {},
   "outputs": [],
   "source": [
    "for epoc in range(10):\n",
    "    # step1\n",
    "    Noise8 = torch.randn(X8_num,latent_dim)\n",
    "    X8_fake = net8_faker(Noise8) \n",
    "    # step2\n",
    "    yhat8_fake = net_police(X8_fake) \n",
    "    # loss3_faker = bce(y3hat_fake,y3_real)\n",
    "    loss8_faker = bce(net_police(X8_fake),y8_real)\n",
    "\n",
    "    # step3 \n",
    "    loss8_faker.backward()\n",
    "    # step4 \n",
    "    optimizr8_faker.step()\n",
    "    optimizr8_faker.zero_grad()"
   ]
  },
  {
   "cell_type": "code",
   "execution_count": null,
   "id": "39e6ad08",
   "metadata": {},
   "outputs": [],
   "source": [
    "fig,ax = plt.subplots(2,5,figsize=(10,4))\n",
    "k = 0 \n",
    "for i in range(2):\n",
    "    for j in range(5):\n",
    "        ax[i][j].imshow(X8_fake[k].reshape(28,28).data,cmap=\"gray\")\n",
    "        ax[i][j].set_title(f\"police hat = {y8hat_fake[k].item():.4f}\")\n",
    "        k = k+1 \n",
    "fig.tight_layout()"
   ]
  },
  {
   "cell_type": "code",
   "execution_count": 64,
   "id": "3c4673fb",
   "metadata": {},
   "outputs": [],
   "source": [
    "net0_faker = torch.nn.Sequential(\n",
    "    torch.nn.Linear(in_features=4, out_features=64), # (n,4) -> (n,64) \n",
    "    torch.nn.ReLU(),\n",
    "    torch.nn.Linear(in_features=64, out_features=64), # (n,64) -> (n,64)   \n",
    "    torch.nn.ReLU(),\n",
    "    torch.nn.Linear(in_features=64, out_features=784), # (n,64) -> (n,784) \n",
    "    torch.nn.Sigmoid(), # 출력을 0~1로 눌러주는 역할.. -- 저는 이 레이어가 일종의 문화충격이었어요.. (시그모이드를 이렇게 쓴다고??)\n",
    "    Reshape2828()\n",
    ")\n",
    "#bce = torch.nn.BCELoss()\n",
    "optimizr0_faker = torch.optim.Adam(net0_faker.parameters())\n",
    "#--#"
   ]
  },
  {
   "cell_type": "code",
   "execution_count": 69,
   "id": "2c65d6d9",
   "metadata": {},
   "outputs": [],
   "source": [
    "for epoc in range(10):\n",
    "    # step1\n",
    "    X0_num = 5923\n",
    "    latent_dim = 4\n",
    "    Noise0 = torch.randn(X0_num,latent_dim)\n",
    "    X0_fake = net0_faker(Noise0) \n",
    "    # step2\n",
    "    yhat0_fake = net_police(X0_fake) \n",
    "    loss0_faker = bce(net_police(X0_fake) ,y0_real)\n",
    "\n",
    "    # step3 \n",
    "    loss0_faker.backward()\n",
    "    # step4 \n",
    "    optimizr0_faker.step()\n",
    "    optimizr0_faker.zero_grad()"
   ]
  },
  {
   "cell_type": "code",
   "execution_count": null,
   "id": "b875fa0f",
   "metadata": {},
   "outputs": [],
   "source": [
    "fig,ax = plt.subplots(2,5,figsize=(10,4))\n",
    "k = 0 \n",
    "for i in range(2):\n",
    "    for j in range(5):\n",
    "        ax[i][j].imshow(X0_fake[k].reshape(28,28).data,cmap=\"gray\")\n",
    "        ax[i][j].set_title(f\"police hat = {net_police(net0_faker(Noise0))[k].item():.4f}\")\n",
    "        k = k+1 \n",
    "fig.tight_layout()"
   ]
  },
  {
   "cell_type": "markdown",
   "id": "fd7f9364-b5d8-41a8-8566-53ebad467453",
   "metadata": {},
   "source": [
    "`-` 위조범의 실력향상을 감상해보자. "
   ]
  },
  {
   "cell_type": "code",
   "execution_count": null,
   "id": "61a77eb7",
   "metadata": {},
   "outputs": [],
   "source": [
    "net_police(X0_fake) # 거의 0으로!"
   ]
  },
  {
   "cell_type": "code",
   "execution_count": null,
   "id": "26b0a14f",
   "metadata": {},
   "outputs": [],
   "source": [
    "y0hat_fake  # 가짜 이미지를 받아서 경찰이 판단한 결과. 1일수록 가짜라고 생각"
   ]
  },
  {
   "cell_type": "code",
   "execution_count": null,
   "id": "87735657-7b6f-4138-8f01-39c8378b70ae",
   "metadata": {
    "tags": []
   },
   "outputs": [],
   "source": [
    "((y3hat_fake > 0.5) == 0)#.float().mean() # 경찰이 가짜이미지를 진짜라고 생각한 비율 = 페이커가 사기에 성공한 비율"
   ]
  },
  {
   "cell_type": "markdown",
   "id": "72339c95-84c9-428d-afd0-fdb396d1b332",
   "metadata": {},
   "source": [
    "## G. 경쟁학습"
   ]
  },
  {
   "cell_type": "markdown",
   "id": "97bd651d-b03f-4f1e-bf39-e06a24565d4f",
   "metadata": {},
   "source": [
    "> 두 적대적인 네트워크를 경쟁시키자!"
   ]
  },
  {
   "cell_type": "code",
   "execution_count": 1,
   "id": "7da1e387",
   "metadata": {},
   "outputs": [],
   "source": [
    "import torch \n",
    "import torchvision\n",
    "import fastai.vision.all \n",
    "import matplotlib.pyplot as plt "
   ]
  },
  {
   "cell_type": "code",
   "execution_count": 2,
   "id": "1783a9ab",
   "metadata": {},
   "outputs": [],
   "source": [
    "path=fastai.data.external.untar_data(fastai.data.external.URLs.MNIST)"
   ]
  },
  {
   "cell_type": "code",
   "execution_count": 3,
   "id": "36ba8d75",
   "metadata": {},
   "outputs": [],
   "source": [
    "X3_real = torch.stack([torchvision.io.read_image(str(l)) for l in (path/'training/3').ls()])/255\n",
    "X8_real = torch.stack([torchvision.io.read_image(str(l)) for l in (path/'training/8').ls()])/255\n",
    "X0_real = torch.stack([torchvision.io.read_image(str(l)) for l in (path/'training/0').ls()])/255"
   ]
  },
  {
   "cell_type": "code",
   "execution_count": 32,
   "id": "3d76ee39",
   "metadata": {},
   "outputs": [],
   "source": [
    "torch.manual_seed(43052)\n",
    "# net_police = torch.nn.Sequential(\n",
    "#     torch.nn.Flatten(),\n",
    "#     torch.nn.Linear(in_features=784,out_features=30),\n",
    "#     torch.nn.ReLU(),\n",
    "#     torch.nn.Linear(in_features=30,out_features=1),\n",
    "#     torch.nn.Sigmoid()\n",
    "# )\n",
    "net_police = torch.nn.Sequential(\n",
    "    # Conv Layer 1: (1, 28, 28) -> (64, 14, 14)\n",
    "    torch.nn.Conv2d(1, 64, kernel_size=7, stride=2, padding=3),  # 큰 커널로 초기 특징 추출\n",
    "    torch.nn.BatchNorm2d(64),\n",
    "    torch.nn.ReLU(),\n",
    "    torch.nn.MaxPool2d(kernel_size=3, stride=2, padding=1),      # (64, 14, 14) -> (64, 7, 7)\n",
    "    \n",
    "    # Conv Layer 2: (64, 7, 7) -> (128, 7, 7)\n",
    "    torch.nn.Conv2d(64, 128, kernel_size=3, stride=1, padding=1),\n",
    "    torch.nn.BatchNorm2d(128),\n",
    "    torch.nn.ReLU(),\n",
    "    \n",
    "    # Conv Layer 3: (128, 7, 7) -> (256, 7, 7)\n",
    "    torch.nn.Conv2d(128, 256, kernel_size=3, stride=1, padding=1),\n",
    "    torch.nn.BatchNorm2d(256),\n",
    "    torch.nn.ReLU(),\n",
    "    \n",
    "    # Flatten to a single vector (256 * 7 * 7 = 12544)\n",
    "    torch.nn.Flatten(),\n",
    "\n",
    "    # Fully Connected Layer 1: (12544 -> 128)\n",
    "    torch.nn.Linear(256 * 7 * 7, 128),\n",
    "    torch.nn.ReLU(),\n",
    "    \n",
    "    # Fully Connected Layer 2: (128 -> 1)\n",
    "    torch.nn.Linear(128, 1),\n",
    "    torch.nn.Sigmoid()  # Output probability\n",
    ")\n",
    "\n",
    "\n",
    "class Reshape2828(torch.nn.Module):\n",
    "    def __init__(self):\n",
    "        super().__init__()\n",
    "    def forward(self,X):\n",
    "        return X.reshape(-1,1,28,28)\n",
    "\n",
    "X3_num = 6131\n",
    "latent_dim = 64\n",
    "Noise3 = torch.randn(X3_num,latent_dim)\n",
    "net3_faker = torch.nn.Sequential(\n",
    "    torch.nn.Linear(latent_dim,64),\n",
    "    torch.nn.ReLU(),\n",
    "    torch.nn.Linear(in_features=64, out_features=64), # (n,64) -> (n,64)   \n",
    "    torch.nn.ReLU(),\n",
    "    torch.nn.Linear(64,784),\n",
    "    torch.nn.Sigmoid(),\n",
    "    Reshape2828()\n",
    ")\n",
    "X8_num = 5851\n",
    "Noise8 = torch.randn(X8_num,latent_dim)\n",
    "net8_faker = torch.nn.Sequential(\n",
    "    torch.nn.Linear(latent_dim,64),\n",
    "    torch.nn.ReLU(),\n",
    "    torch.nn.Linear(in_features=64, out_features=64), # (n,64) -> (n,64)   \n",
    "    torch.nn.ReLU(),\n",
    "    torch.nn.Linear(64,784),\n",
    "    torch.nn.Sigmoid(),\n",
    "    Reshape2828()\n",
    ")\n",
    "X0_num = 5923\n",
    "Noise0 = torch.randn(X0_num,latent_dim)\n",
    "net0_faker = torch.nn.Sequential(\n",
    "    torch.nn.Linear(latent_dim,64),\n",
    "    torch.nn.ReLU(),\n",
    "    torch.nn.Linear(in_features=64, out_features=64), # (n,64) -> (n,64)   \n",
    "    torch.nn.ReLU(),\n",
    "    torch.nn.Linear(64,784),\n",
    "    torch.nn.Sigmoid(),\n",
    "    Reshape2828()\n",
    ")\n",
    "\n",
    "bce = torch.nn.BCELoss()\n",
    "optimizr_police = torch.optim.Adam(net_police.parameters(),lr=0.001,betas=(0.5,0.999))\n",
    "optimizr3_faker = torch.optim.Adam(net3_faker.parameters(),lr=0.0002,betas=(0.5,0.999))\n",
    "optimizr8_faker = torch.optim.Adam(net8_faker.parameters(),lr=0.0002,betas=(0.5,0.999))\n",
    "optimizr0_faker = torch.optim.Adam(net0_faker.parameters(),lr=0.0002,betas=(0.5,0.999))\n"
   ]
  },
  {
   "cell_type": "code",
   "execution_count": 15,
   "metadata": {},
   "outputs": [
    {
     "data": {
      "text/plain": [
       "torch.Size([6131, 1, 28, 28])"
      ]
     },
     "execution_count": 15,
     "metadata": {},
     "output_type": "execute_result"
    }
   ],
   "source": [
    "net3_faker(Noise3).shape"
   ]
  },
  {
   "cell_type": "code",
   "execution_count": 33,
   "id": "cd2b83a2",
   "metadata": {},
   "outputs": [],
   "source": [
    "X3_num = 6131\n",
    "# Noise3 = torch.randn(X3_num,latent_dim)     # n = 6131\n",
    "X3_fake = net3_faker(Noise3).data\n",
    "y3_real = torch.tensor([0]*X3_num).reshape(-1,1).float()   # real\n",
    "y3_fake = torch.tensor([1]*X3_num).reshape(-1,1).float()   # fake\n",
    "\n",
    "X8_num = 5851\n",
    "# Noise8 = torch.randn(X8_num,latent_dim)\n",
    "X8_fake = net8_faker(Noise8).data\n",
    "y8_real = torch.tensor([0]*X8_num).reshape(-1,1).float()   # real\n",
    "y8_fake = torch.tensor([1]*X8_num).reshape(-1,1).float()   # fake\n",
    "\n",
    "X0_num = 5923\n",
    "# Noise0 = torch.randn(X0_num,latent_dim)\n",
    "X0_fake = net0_faker(Noise0).data\n",
    "y0_real = torch.tensor([0]*X0_num).reshape(-1,1).float()   # real\n",
    "y0_fake = torch.tensor([1]*X0_num).reshape(-1,1).float()   # fake\n"
   ]
  },
  {
   "cell_type": "code",
   "execution_count": null,
   "id": "6a13b02e-d9ae-46dc-9558-78432453abca",
   "metadata": {
    "tags": []
   },
   "outputs": [],
   "source": [
    "# for epoc in range(100):\n",
    "#     # net_police 을 훈련\n",
    "#     Noise3 = torch.randn(6131,4) \n",
    "#     X3_fake = net3_faker(Noise3).data # net_faker에 대한 미분꼬리표는 여기선 필요없으므로 .data 만을 이용\n",
    "#     ## step1 \n",
    "#     y3hat_real = net_police(X3_real)\n",
    "#     y3hat_fake = net_police(X3_fake)\n",
    "#     ## step2 \n",
    "#     loss_police = bce(y3hat_real,y3_real) + bce(y3hat_fake,y3_fake)\n",
    "#     ## step3 \n",
    "#     loss_police.backward()\n",
    "#     ## step4 \n",
    "#     optimizr_police.step()\n",
    "#     optimizr_police.zero_grad()\n",
    "#     # net_faker 를 훈련\n",
    "#     ## step1 \n",
    "#     Noise3 = torch.randn(6131,4) \n",
    "#     X3_fake = net3_faker(Noise3)\n",
    "#     ## step2 \n",
    "#     y3hat_fake = net_police(X3_fake)\n",
    "#     loss_faker = bce(y3hat_fake,y3_real) \n",
    "#     ## step3\n",
    "#     loss_faker.backward()\n",
    "#     ## step4 \n",
    "#     optimizr3_faker.step()\n",
    "#     optimizr3_faker.zero_grad()\n",
    "# fig,ax = plt.subplots(2,5,figsize=(10,4))\n",
    "# k = 0 \n",
    "# for i in range(2):\n",
    "#     for j in range(5):\n",
    "#         ax[i][j].imshow(X3_fake[k].reshape(28,28).data,cmap=\"gray\")\n",
    "#         ax[i][j].set_title(f\"police hat = {y3hat_fake[k].item():.4f}\")\n",
    "#         k = k+1 \n",
    "# fig.tight_layout()"
   ]
  },
  {
   "cell_type": "code",
   "execution_count": 34,
   "id": "b86ec84d",
   "metadata": {},
   "outputs": [],
   "source": [
    "for epoc in range(100):\n",
    "    # net_police 을 훈련\n",
    "    X3_num = 6131\n",
    "    # latent_dim = 4\n",
    "    Noise3 = torch.randn(X3_num,latent_dim)\n",
    "    X8_num = 5851\n",
    "    # latent_dim = 4\n",
    "    Noise8 = torch.randn(X8_num,latent_dim)\n",
    "    X0_num = 5923\n",
    "    # latent_dim = 4\n",
    "    Noise0 = torch.randn(X0_num,latent_dim)\n",
    "\n",
    "    X3_fake = net3_faker(Noise3).data # net_faker에 대한 미분꼬리표는 여기선 필요없으므로 .data 만을 이용\n",
    "    X8_fake = net8_faker(Noise8).data # net_faker에 대한 미분꼬리표는 여기선 필요없으므로 .data 만을 이용\n",
    "    X0_fake = net0_faker(Noise0).data # net_faker에 대한 미분꼬리표는 여기선 필요없으므로 .data 만을 이용\n",
    "\n",
    "    ## step1 \n",
    "    y3hat_real = net_police(X3_real)\n",
    "    y3hat_fake = net_police(X3_fake)\n",
    "    y8hat_real = net_police(X8_real)\n",
    "    y8hat_fake = net_police(X8_fake)\n",
    "    y0hat_real = net_police(X0_real)\n",
    "    y0hat_fake = net_police(X0_fake)\n",
    "\n",
    "    ## step2 \n",
    "    loss_police = bce(y3hat_real,y3_real) + bce(y3hat_fake,y3_fake) + \\\n",
    "                  bce(y8hat_real,y8_real) + bce(y8hat_fake,y8_fake) + \\\n",
    "                  bce(y0hat_real,y0_real) + bce(y0hat_fake,y0_fake) \n",
    "\n",
    "    ## step3 \n",
    "    loss_police.backward()\n",
    "    ## step4 \n",
    "    optimizr_police.step()\n",
    "    optimizr_police.zero_grad()\n",
    "    \n",
    "    # net_faker 를 훈련\n",
    "    ## step1 \n",
    "    Noise3 = torch.randn(6131,latent_dim) \n",
    "    X3_fake = net3_faker(Noise3)\n",
    "    X8_fake = net8_faker(Noise8)\n",
    "    X0_fake = net0_faker(Noise0)\n",
    "\n",
    "    ## step2 \n",
    "    y3hat_fake = net_police(X3_fake)\n",
    "    loss3_faker = bce(net_police(X3_fake),y3_real) \n",
    "    y8hat_fake = net_police(X8_fake)\n",
    "    loss8_faker = bce(net_police(X8_fake),y8_real) \n",
    "    y0hat_fake = net_police(X0_fake)\n",
    "    loss0_faker = bce(net_police(X0_fake),y0_real) \n",
    "\n",
    "    ## step3\n",
    "    loss3_faker.backward()\n",
    "    loss8_faker.backward()\n",
    "    loss0_faker.backward()\n",
    "\n",
    "    ## step4 \n",
    "    optimizr3_faker.step()\n",
    "    optimizr3_faker.zero_grad()\n",
    "    optimizr8_faker.step()\n",
    "    optimizr8_faker.zero_grad()\n",
    "    optimizr0_faker.step()\n",
    "    optimizr0_faker.zero_grad()\n",
    "\n",
    "fig,ax = plt.subplots(3,5,figsize=(10,4))\n",
    "k = 0 \n",
    "for i in range(3):\n",
    "    for j in range(5):\n",
    "        if i==0:\n",
    "            ax[i][j].imshow(X3_fake[k].reshape(28,28).data,cmap=\"gray\")\n",
    "            ax[i][j].set_title(f\"police hat = {y3hat_fake[k].item():.4f}\")\n",
    "        if i==1:\n",
    "            ax[i][j].imshow(X8_fake[k].reshape(28,28).data,cmap=\"gray\")\n",
    "            ax[i][j].set_title(f\"police hat = {y8hat_fake[k].item():.4f}\")\n",
    "        if i==2:\n",
    "            ax[i][j].imshow(X0_fake[k].reshape(28,28).data,cmap=\"gray\")\n",
    "            ax[i][j].set_title(f\"police hat = {y0hat_fake[k].item():.4f}\")\n",
    "\n",
    "\n",
    "        k = k+1 \n",
    "fig.tight_layout()"
   ]
  },
  {
   "cell_type": "code",
   "execution_count": 1,
   "id": "f8eb8a99",
   "metadata": {},
   "outputs": [],
   "source": [
    "import torch\n",
    "import torchvision\n",
    "import fastai.vision.all \n",
    "import matplotlib.pyplot as plt \n",
    "from torch.utils.data import DataLoader, TensorDataset\n",
    "\n",
    "# 데이터셋 불러오기\n",
    "path = fastai.data.external.untar_data(fastai.data.external.URLs.MNIST)\n",
    "X3_real = torch.stack([torchvision.io.read_image(str(l)) for l in (path/'training/3').ls()]) / 255.0\n",
    "X8_real = torch.stack([torchvision.io.read_image(str(l)) for l in (path/'training/8').ls()]) / 255.0\n",
    "X0_real = torch.stack([torchvision.io.read_image(str(l)) for l in (path/'training/0').ls()]) / 255.0\n",
    "\n",
    "# GPU 사용 여부 설정\n",
    "device = torch.device(\"cuda\" if torch.cuda.is_available() else \"cpu\")\n",
    "\n",
    "# 배치 크기 설정\n",
    "batch_size = 64\n",
    "\n",
    "# 데이터셋 정의 및 DataLoader 설정 (shuffle=True)\n",
    "X3_dataset = TensorDataset(X3_real, torch.zeros(len(X3_real), 1))  # label=0 for real\n",
    "X8_dataset = TensorDataset(X8_real, torch.zeros(len(X8_real), 1))\n",
    "X0_dataset = TensorDataset(X0_real, torch.zeros(len(X0_real), 1))\n",
    "\n",
    "X3_loader = DataLoader(X3_dataset, batch_size=batch_size, shuffle=True)\n",
    "X8_loader = DataLoader(X8_dataset, batch_size=batch_size, shuffle=True)\n",
    "X0_loader = DataLoader(X0_dataset, batch_size=batch_size, shuffle=True)\n",
    "net_police = torch.nn.Sequential(\n",
    "    torch.nn.Flatten(),\n",
    "    torch.nn.Linear(in_features=784,out_features=30),\n",
    "    torch.nn.ReLU(),\n",
    "    torch.nn.Linear(in_features=30,out_features=1),\n",
    "    torch.nn.Sigmoid()\n",
    ").to(device)\n",
    "\n",
    "# # 간소화된 net_police 구조\n",
    "# net_police = torch.nn.Sequential(\n",
    "#     # Conv Layer 1: (1, 28, 28) -> (32, 14, 14)\n",
    "#     torch.nn.Conv2d(1, 32, kernel_size=5, stride=2, padding=2),  # 작은 커널과 채널 수를 사용\n",
    "#     torch.nn.BatchNorm2d(32),\n",
    "#     torch.nn.ReLU(),\n",
    "    \n",
    "#     # Conv Layer 2: (32, 14, 14) -> (64, 7, 7)\n",
    "#     torch.nn.Conv2d(32, 64, kernel_size=3, stride=2, padding=1),\n",
    "#     torch.nn.BatchNorm2d(64),\n",
    "#     torch.nn.ReLU(),\n",
    "    \n",
    "#     # Conv Layer 3: (64, 7, 7) -> (128, 7, 7)\n",
    "#     torch.nn.Conv2d(64, 128, kernel_size=3, stride=1, padding=1),\n",
    "#     torch.nn.BatchNorm2d(128),\n",
    "#     torch.nn.ReLU(),\n",
    "    \n",
    "#     # Flatten to a single vector (128 * 7 * 7 = 6272)\n",
    "#     torch.nn.Flatten(),\n",
    "#     torch.nn.Linear(128 * 7 * 7, 64),  # Fully Connected Layer 1: (6272 -> 64)\n",
    "#     torch.nn.ReLU(),\n",
    "#     torch.nn.Linear(64, 1),  # Fully Connected Layer 2: (64 -> 1)\n",
    "#     torch.nn.Sigmoid()  # Output probability\n",
    "# ).to(device)  # 모델을 GPU로 이동\n",
    "\n",
    "# Reshape 레이어\n",
    "class Reshape2828(torch.nn.Module):\n",
    "    def __init__(self):\n",
    "        super().__init__()\n",
    "    def forward(self,X):\n",
    "        return X.reshape(-1,1,28,28)\n",
    "\n",
    "# 생성기(faker) 모델 정의\n",
    "latent_dim = 64\n",
    "net3_faker = torch.nn.Sequential(\n",
    "    torch.nn.Linear(latent_dim, 64),\n",
    "    torch.nn.ReLU(),\n",
    "    torch.nn.Linear(64, 64),\n",
    "    torch.nn.ReLU(),\n",
    "    torch.nn.Linear(64, 784),\n",
    "    torch.nn.Sigmoid(),\n",
    "    Reshape2828()\n",
    ").to(device)\n",
    "\n",
    "net8_faker = torch.nn.Sequential(\n",
    "    torch.nn.Linear(latent_dim, 64),\n",
    "    torch.nn.ReLU(),\n",
    "    torch.nn.Linear(64, 64),\n",
    "    torch.nn.ReLU(),\n",
    "    torch.nn.Linear(64, 784),\n",
    "    torch.nn.Sigmoid(),\n",
    "    Reshape2828()\n",
    ").to(device)\n",
    "\n",
    "net0_faker = torch.nn.Sequential(\n",
    "    torch.nn.Linear(latent_dim, 64),\n",
    "    torch.nn.ReLU(),\n",
    "    torch.nn.Linear(64, 64),\n",
    "    torch.nn.ReLU(),\n",
    "    torch.nn.Linear(64, 784),\n",
    "    torch.nn.Sigmoid(),\n",
    "    Reshape2828()\n",
    ").to(device)\n",
    "\n",
    "# 손실 함수와 옵티마이저 정의\n",
    "bce = torch.nn.BCELoss().to(device)\n",
    "optimizr_police = torch.optim.Adam(net_police.parameters(), lr=0.001, betas=(0.5, 0.999))\n",
    "optimizr3_faker = torch.optim.Adam(net3_faker.parameters(), lr=0.0002, betas=(0.5, 0.999))\n",
    "optimizr8_faker = torch.optim.Adam(net8_faker.parameters(), lr=0.0002, betas=(0.5, 0.999))\n",
    "optimizr0_faker = torch.optim.Adam(net0_faker.parameters(), lr=0.0002, betas=(0.5, 0.999))\n",
    "\n",
    "# 학습 루프\n",
    "epochs = 100\n",
    "for epoch in range(epochs):\n",
    "    for (X3_batch, _), (X8_batch, _), (X0_batch, _) in zip(X3_loader, X8_loader, X0_loader):\n",
    "        # 데이터를 GPU로 이동\n",
    "        X3_batch = X3_batch.to(device)\n",
    "        X8_batch = X8_batch.to(device)\n",
    "        X0_batch = X0_batch.to(device)\n",
    "\n",
    "        # 노이즈 생성 및 GPU로 이동\n",
    "        Noise3 = torch.randn(X3_batch.size(0), latent_dim).to(device)\n",
    "        Noise8 = torch.randn(X8_batch.size(0), latent_dim).to(device)\n",
    "        Noise0 = torch.randn(X0_batch.size(0), latent_dim).to(device)\n",
    "\n",
    "        X3_fake = net3_faker(Noise3).data\n",
    "        X8_fake = net8_faker(Noise8).data\n",
    "        X0_fake = net0_faker(Noise0).data\n",
    "\n",
    "        # 판별기 학습\n",
    "        ## real 데이터 예측\n",
    "        y3hat_real = net_police(X3_batch)\n",
    "        y8hat_real = net_police(X8_batch)\n",
    "        y0hat_real = net_police(X0_batch)\n",
    "        \n",
    "        ## fake 데이터 예측\n",
    "        y3hat_fake = net_police(X3_fake)\n",
    "        y8hat_fake = net_police(X8_fake)\n",
    "        y0hat_fake = net_police(X0_fake)\n",
    "\n",
    "        ## real 및 fake에 대한 손실 계산\n",
    "        loss_police = bce(y3hat_real, torch.zeros_like(y3hat_real)) + bce(y3hat_fake, torch.ones_like(y3hat_fake)) + \\\n",
    "                      bce(y8hat_real, torch.zeros_like(y8hat_real)) + bce(y8hat_fake, torch.ones_like(y8hat_fake)) + \\\n",
    "                      bce(y0hat_real, torch.zeros_like(y0hat_real)) + bce(y0hat_fake, torch.ones_like(y0hat_fake))\n",
    "\n",
    "        ## 판별기 업데이트\n",
    "        loss_police.backward()\n",
    "        optimizr_police.step()\n",
    "        optimizr_police.zero_grad()\n",
    "\n",
    "        # 생성기 학습\n",
    "        ## 새로 노이즈 생성 및 가짜 데이터 생성\n",
    "        Noise3 = torch.randn(X3_batch.size(0), latent_dim).to(device)\n",
    "        Noise8 = torch.randn(X8_batch.size(0), latent_dim).to(device)\n",
    "        Noise0 = torch.randn(X0_batch.size(0), latent_dim).to(device)\n",
    "\n",
    "        X3_fake = net3_faker(Noise3)\n",
    "        X8_fake = net8_faker(Noise8)\n",
    "        X0_fake = net0_faker(Noise0)\n",
    "\n",
    "        ## 생성기 손실 계산\n",
    "        loss3_faker = bce(net_police(X3_fake), torch.zeros_like(net_police(X3_fake)))\n",
    "        loss8_faker = bce(net_police(X8_fake), torch.zeros_like(net_police(X8_fake)))\n",
    "        loss0_faker = bce(net_police(X0_fake), torch.zeros_like(net_police(X0_fake)))\n",
    "\n",
    "        ## 생성기 업데이트\n",
    "        loss3_faker.backward()\n",
    "        loss8_faker.backward()\n",
    "        loss0_faker.backward()\n",
    "\n",
    "        optimizr3_faker.step()\n",
    "        optimizr3_faker.zero_grad()\n",
    "        optimizr8_faker.step()\n",
    "        optimizr8_faker.zero_grad()\n",
    "        optimizr0_faker.step()\n",
    "        optimizr0_faker.zero_grad()\n",
    "\n",
    "# 시각화\n",
    "fig, ax = plt.subplots(3, 5, figsize=(10, 4))\n",
    "k = 0 \n",
    "for i in range(3):\n",
    "    for j in range(5):\n",
    "        if i == 0:\n",
    "            ax[i][j].imshow(X3_fake[k].cpu().reshape(28, 28).data, cmap=\"gray\")\n",
    "            ax[i][j].set_title(f\"police hat = {y3hat_fake[k].item():.4f}\")\n",
    "        if i == 1:\n",
    "            ax[i][j].imshow(X8_fake[k].cpu().reshape(28, 28).data, cmap=\"gray\")\n",
    "            ax[i][j].set_title(f\"police hat = {y8hat_fake[k].item():.4f}\")\n",
    "        if i == 2:\n",
    "            ax[i][j].imshow(X0_fake[k].cpu().reshape(28, 28).data, cmap=\"gray\")\n",
    "            ax[i][j].set_title(f\"police hat = {y0hat_fake[k].item():.4f}\")\n",
    "\n",
    "        k += 1\n",
    "fig.tight_layout()\n"
   ]
  },
  {
   "cell_type": "code",
   "execution_count": 1,
   "id": "9e33f93c",
   "metadata": {},
   "outputs": [
    {
     "data": {
      "image/png": "[encoded data removed]",
      "text/plain": [
       "<Figure size 1000x400 with 15 Axes>"
      ]
     },
     "metadata": {},
     "output_type": "display_data"
    }
   ],
   "source": [
    "import torch\n",
    "import torchvision\n",
    "import fastai.vision.all \n",
    "import matplotlib.pyplot as plt \n",
    "from torch.utils.data import DataLoader, TensorDataset\n",
    "\n",
    "# 데이터셋 불러오기\n",
    "path = fastai.data.external.untar_data(fastai.data.external.URLs.MNIST)\n",
    "X3_real = torch.stack([torchvision.io.read_image(str(l)) for l in (path/'training/3').ls()]) / 255.0\n",
    "X8_real = torch.stack([torchvision.io.read_image(str(l)) for l in (path/'training/8').ls()]) / 255.0\n",
    "X0_real = torch.stack([torchvision.io.read_image(str(l)) for l in (path/'training/0').ls()]) / 255.0\n",
    "\n",
    "# GPU 사용 여부 설정\n",
    "device = torch.device(\"cuda\" if torch.cuda.is_available() else \"cpu\")\n",
    "\n",
    "# 배치 크기 설정\n",
    "batch_size = 64\n",
    "\n",
    "# 데이터셋 정의 및 DataLoader 설정 (shuffle=True)\n",
    "X3_dataset = TensorDataset(X3_real, torch.zeros(len(X3_real), 1))  # label=0 for real\n",
    "X8_dataset = TensorDataset(X8_real, torch.zeros(len(X8_real), 1))\n",
    "X0_dataset = TensorDataset(X0_real, torch.zeros(len(X0_real), 1))\n",
    "\n",
    "X3_loader = DataLoader(X3_dataset, batch_size=batch_size, shuffle=True)\n",
    "X8_loader = DataLoader(X8_dataset, batch_size=batch_size, shuffle=True)\n",
    "X0_loader = DataLoader(X0_dataset, batch_size=batch_size, shuffle=True)\n",
    "\n",
    "# Reshape 레이어\n",
    "class Reshape2828(torch.nn.Module):\n",
    "    def __init__(self):\n",
    "        super().__init__()\n",
    "    def forward(self, X):\n",
    "        return X.reshape(-1, 1, 28, 28)\n",
    "\n",
    "# Multi-task 판별기 정의\n",
    "class MultiTaskPolice(torch.nn.Module):\n",
    "    def __init__(self):\n",
    "        super(MultiTaskPolice, self).__init__()\n",
    "        self.shared_layers = torch.nn.Sequential(\n",
    "            torch.nn.Flatten(),\n",
    "            torch.nn.Linear(in_features=784, out_features=128),\n",
    "            torch.nn.ReLU(),\n",
    "            torch.nn.Linear(in_features=128, out_features=64),\n",
    "            torch.nn.ReLU()\n",
    "        )\n",
    "        \n",
    "        # 두 가지 출력: 진짜/가짜 여부와 클래스(3, 8, 0) 구분\n",
    "        self.real_fake = torch.nn.Linear(64, 1)  # 진짜/가짜 여부 (이진 분류)\n",
    "        self.classifier = torch.nn.Linear(64, 3)  # 숫자 3, 8, 0 구분 (세 가지 클래스)\n",
    "\n",
    "    def forward(self, x):\n",
    "        shared_representation = self.shared_layers(x)\n",
    "        real_fake_output = torch.sigmoid(self.real_fake(shared_representation))  # 진짜/가짜 확률\n",
    "        class_output = self.classifier(shared_representation)  # 클래스 (3, 8, 0)\n",
    "        return real_fake_output, class_output\n",
    "\n",
    "# Multi-task 판별기 초기화\n",
    "net_police = MultiTaskPolice().to(device)\n",
    "\n",
    "# 생성기(faker) 모델 정의\n",
    "latent_dim = 64\n",
    "net3_faker = torch.nn.Sequential(\n",
    "    torch.nn.Linear(latent_dim, 64),\n",
    "    torch.nn.ReLU(),\n",
    "    torch.nn.Linear(64, 64),\n",
    "    torch.nn.ReLU(),\n",
    "    torch.nn.Linear(64, 784),\n",
    "    torch.nn.Sigmoid(),\n",
    "    Reshape2828()\n",
    ").to(device)\n",
    "\n",
    "net8_faker = torch.nn.Sequential(\n",
    "    torch.nn.Linear(latent_dim, 64),\n",
    "    torch.nn.ReLU(),\n",
    "    torch.nn.Linear(64, 64),\n",
    "    torch.nn.ReLU(),\n",
    "    torch.nn.Linear(64, 784),\n",
    "    torch.nn.Sigmoid(),\n",
    "    Reshape2828()\n",
    ").to(device)\n",
    "\n",
    "net0_faker = torch.nn.Sequential(\n",
    "    torch.nn.Linear(latent_dim, 64),\n",
    "    torch.nn.ReLU(),\n",
    "    torch.nn.Linear(64, 64),\n",
    "    torch.nn.ReLU(),\n",
    "    torch.nn.Linear(64, 784),\n",
    "    torch.nn.Sigmoid(),\n",
    "    Reshape2828()\n",
    ").to(device)\n",
    "\n",
    "# 손실 함수 정의\n",
    "bce = torch.nn.BCELoss().to(device)  # 진짜/가짜에 대한 손실\n",
    "ce = torch.nn.CrossEntropyLoss().to(device)  # 숫자(3, 8, 0)에 대한 손실\n",
    "\n",
    "# 옵티마이저 정의\n",
    "optimizr_police = torch.optim.Adam(net_police.parameters(), lr=0.001, betas=(0.5, 0.999))\n",
    "optimizr3_faker = torch.optim.Adam(net3_faker.parameters(), lr=0.0002, betas=(0.5, 0.999))\n",
    "optimizr8_faker = torch.optim.Adam(net8_faker.parameters(), lr=0.0002, betas=(0.5, 0.999))\n",
    "optimizr0_faker = torch.optim.Adam(net0_faker.parameters(), lr=0.0002, betas=(0.5, 0.999))\n",
    "\n",
    "# 학습 루프\n",
    "epochs = 100\n",
    "for epoch in range(epochs):\n",
    "    for (X3_batch, _), (X8_batch, _), (X0_batch, _) in zip(X3_loader, X8_loader, X0_loader):\n",
    "        # 데이터를 GPU로 이동\n",
    "        X3_batch = X3_batch.to(device)\n",
    "        X8_batch = X8_batch.to(device)\n",
    "        X0_batch = X0_batch.to(device)\n",
    "\n",
    "        # 노이즈 생성 및 GPU로 이동\n",
    "        Noise3 = torch.randn(X3_batch.size(0), latent_dim).to(device)\n",
    "        Noise8 = torch.randn(X8_batch.size(0), latent_dim).to(device)\n",
    "        Noise0 = torch.randn(X0_batch.size(0), latent_dim).to(device)\n",
    "\n",
    "        X3_fake = net3_faker(Noise3).data\n",
    "        X8_fake = net8_faker(Noise8).data\n",
    "        X0_fake = net0_faker(Noise0).data\n",
    "\n",
    "        # 진짜/가짜 예측 및 클래스 예측\n",
    "        y3hat_real, class3_real = net_police(X3_batch)\n",
    "        y8hat_real, class8_real = net_police(X8_batch)\n",
    "        y0hat_real, class0_real = net_police(X0_batch)\n",
    "\n",
    "        y3hat_fake, class3_fake = net_police(X3_fake)\n",
    "        y8hat_fake, class8_fake = net_police(X8_fake)\n",
    "        y0hat_fake, class0_fake = net_police(X0_fake)\n",
    "\n",
    "        # 숫자에 대한 라벨 (3은 0, 8은 1, 0은 2로 라벨링)\n",
    "        class_labels_3 = torch.zeros(X3_batch.size(0), dtype=torch.long).to(device)  # 라벨 0 (3)\n",
    "        class_labels_8 = torch.ones(X8_batch.size(0), dtype=torch.long).to(device)   # 라벨 1 (8)\n",
    "        class_labels_0 = torch.full((X0_batch.size(0),), 2, dtype=torch.long).to(device)  # 라벨 2 (0)\n",
    "\n",
    "        # 진짜/가짜 손실 (BCELoss)\n",
    "        loss_real_fake = bce(y3hat_real, torch.zeros_like(y3hat_real)) + \\\n",
    "                         bce(y3hat_fake, torch.ones_like(y3hat_fake)) + \\\n",
    "                         bce(y8hat_real, torch.zeros_like(y8hat_real)) + \\\n",
    "                         bce(y8hat_fake, torch.ones_like(y8hat_fake)) + \\\n",
    "                         bce(y0hat_real, torch.zeros_like(y0hat_real)) + \\\n",
    "                         bce(y0hat_fake, torch.ones_like(y0hat_fake))\n",
    "\n",
    "        # 클래스 예측 손실 (CrossEntropyLoss)\n",
    "        loss_class = ce(class3_real, class_labels_3) + ce(class3_fake, class_labels_3) + \\\n",
    "                     ce(class8_real, class_labels_8) + ce(class8_fake, class_labels_8) + \\\n",
    "                     ce(class0_real, class_labels_0) + ce(class0_fake, class_labels_0)\n",
    "\n",
    "        # 최종 판별기 손실\n",
    "        loss_police = loss_real_fake + loss_class\n",
    "\n",
    "        # 판별기 업데이트\n",
    "        loss_police.backward()\n",
    "        optimizr_police.step()\n",
    "        optimizr_police.zero_grad()\n",
    "\n",
    "        # 생성기 학습은 기존과 동일\n",
    "        Noise3 = torch.randn(X3_batch.size(0), latent_dim).to(device)\n",
    "        Noise8 = torch.randn(X8_batch.size(0), latent_dim).to(device)\n",
    "        Noise0 = torch.randn(X0_batch.size(0), latent_dim).to(device)\n",
    "\n",
    "        X3_fake = net3_faker(Noise3)\n",
    "        X8_fake = net8_faker(Noise8)\n",
    "        X0_fake = net0_faker(Noise0)\n",
    "\n",
    "        loss3_faker = bce(net_police(X3_fake)[0], torch.zeros_like(net_police(X3_fake)[0]))\n",
    "        loss8_faker = bce(net_police(X8_fake)[0], torch.zeros_like(net_police(X8_fake)[0]))\n",
    "        loss0_faker = bce(net_police(X0_fake)[0], torch.zeros_like(net_police(X0_fake)[0]))\n",
    "\n",
    "        loss3_faker.backward()\n",
    "        loss8_faker.backward()\n",
    "        loss0_faker.backward()\n",
    "\n",
    "        optimizr3_faker.step()\n",
    "        optimizr3_faker.zero_grad()\n",
    "        optimizr8_faker.step()\n",
    "        optimizr8_faker.zero_grad()\n",
    "        optimizr0_faker.step()\n",
    "        optimizr0_faker.zero_grad()\n",
    "\n",
    "# 시각화\n",
    "fig, ax = plt.subplots(3, 5, figsize=(10, 4))\n",
    "k = 0 \n",
    "for i in range(3):\n",
    "    for j in range(5):\n",
    "        if i == 0:\n",
    "            ax[i][j].imshow(X3_fake[k].cpu().reshape(28, 28).data, cmap=\"gray\")\n",
    "            ax[i][j].set_title(f\"police hat = {y3hat_fake[k].item():.4f}\")\n",
    "        if i == 1:\n",
    "            ax[i][j].imshow(X8_fake[k].cpu().reshape(28, 28).data, cmap=\"gray\")\n",
    "            ax[i][j].set_title(f\"police hat = {y8hat_fake[k].item():.4f}\")\n",
    "        if i == 2:\n",
    "            ax[i][j].imshow(X0_fake[k].cpu().reshape(28, 28).data, cmap=\"gray\")\n",
    "            ax[i][j].set_title(f\"police hat = {y0hat_fake[k].item():.4f}\")\n",
    "\n",
    "        k += 1\n",
    "fig.tight_layout()\n",
    "plt.show()\n"
   ]
  },
  {
   "cell_type": "code",
   "execution_count": 6,
   "id": "ed52803e",
   "metadata": {},
   "outputs": [
    {
     "data": {
      "text/plain": [
       "[Parameter containing:\n",
       " tensor([[-0.1379, -0.1392]], requires_grad=True),\n",
       " Parameter containing:\n",
       " tensor([-0.2382], requires_grad=True)]"
      ]
     },
     "execution_count": 6,
     "metadata": {},
     "output_type": "execute_result"
    }
   ],
   "source": [
    "net = torch.nn.Linear(in_features=2,out_features=1,bias=True)\n",
    "list(net.parameters())"
   ]
  },
  {
   "cell_type": "code",
   "execution_count": null,
   "id": "f3113120",
   "metadata": {},
   "outputs": [],
   "source": [
    "for epoc in range(1000):\n",
    "    # net_police 훈련\n",
    "    X3_num = 6131\n",
    "    # latent_dim = 4\n",
    "    Noise3 = torch.randn(X3_num, latent_dim)\n",
    "    X8_num = 5851\n",
    "    # latent_dim = 4\n",
    "    Noise8 = torch.randn(X8_num, latent_dim)\n",
    "    X0_num = 5923\n",
    "    # latent_dim = 4\n",
    "    Noise0 = torch.randn(X0_num, latent_dim)\n",
    "\n",
    "    with torch.no_grad():  # .data 대신 no_grad 사용\n",
    "        X3_fake = net3_faker(Noise3)\n",
    "        X8_fake = net8_faker(Noise8)\n",
    "        X0_fake = net0_faker(Noise0)\n",
    "\n",
    "    ## step1: 실제 및 가짜 이미지에 대한 판별기 예측\n",
    "    y3hat_real = net_police(X3_real)\n",
    "    y3hat_fake = net_police(X3_fake)\n",
    "    y8hat_real = net_police(X8_real)\n",
    "    y8hat_fake = net_police(X8_fake)\n",
    "    y0hat_real = net_police(X0_real)\n",
    "    y0hat_fake = net_police(X0_fake)\n",
    "\n",
    "    ## step2: 판별기 손실 계산 (real은 1, fake는 0)\n",
    "    loss_police = bce(y3hat_real, torch.ones_like(y3hat_real)) + bce(y3hat_fake, torch.zeros_like(y3hat_fake)) + \\\n",
    "                  bce(y8hat_real, torch.ones_like(y8hat_real)) + bce(y8hat_fake, torch.zeros_like(y8hat_fake)) + \\\n",
    "                  bce(y0hat_real, torch.ones_like(y0hat_real)) + bce(y0hat_fake, torch.zeros_like(y0hat_fake))\n",
    "\n",
    "    ## step3: 판별기 역전파\n",
    "    loss_police.backward()\n",
    "    \n",
    "    ## step4: 가중치 업데이트\n",
    "    optimizr_police.step()\n",
    "    optimizr_police.zero_grad()\n",
    "\n",
    "    # net_faker 훈련\n",
    "    ## step1: 생성기 손실 계산 (fake가 real로 분류되도록)\n",
    "    Noise3 = torch.randn(6131, latent_dim)\n",
    "    X3_fake = net3_faker(Noise3)\n",
    "    X8_fake = net8_faker(Noise8)\n",
    "    X0_fake = net0_faker(Noise0)\n",
    "\n",
    "    ## step2: 판별기 예측 및 생성기 손실 계산\n",
    "    loss3_faker = bce(net_police(X3_fake), torch.ones_like(y3hat_fake))  # 생성된 이미지를 real로\n",
    "    loss8_faker = bce(net_police(X8_fake), torch.ones_like(y8hat_fake))\n",
    "    loss0_faker = bce(net_police(X0_fake), torch.ones_like(y0hat_fake))\n",
    "\n",
    "    ## step3: 생성기 역전파\n",
    "    optimizr3_faker.zero_grad()\n",
    "    loss3_faker.backward()\n",
    "    optimizr3_faker.step()\n",
    "\n",
    "    optimizr8_faker.zero_grad()\n",
    "    loss8_faker.backward()\n",
    "    optimizr8_faker.step()\n",
    "\n",
    "    optimizr0_faker.zero_grad()\n",
    "    loss0_faker.backward()\n",
    "    optimizr0_faker.step()\n",
    "\n",
    "fig, ax = plt.subplots(3, 5, figsize=(10, 4))\n",
    "k = 0\n",
    "for i in range(3):\n",
    "    for j in range(5):\n",
    "        if i == 0:\n",
    "            ax[i][j].imshow(X3_fake[k].reshape(28, 28).data, cmap=\"gray\")\n",
    "            ax[i][j].set_title(f\"police hat = {y3hat_fake[k].item():.4f}\")\n",
    "        if i == 1:\n",
    "            ax[i][j].imshow(X8_fake[k].reshape(28, 28).data, cmap=\"gray\")\n",
    "            ax[i][j].set_title(f\"police hat = {y8hat_fake[k].item():.4f}\")\n",
    "        if i == 2:\n",
    "            ax[i][j].imshow(X0_fake[k].reshape(28, 28).data, cmap=\"gray\")\n",
    "            ax[i][j].set_title(f\"police hat = {y0hat_fake[k].item():.4f}\")\n",
    "\n",
    "        k += 1\n",
    "fig.tight_layout()\n"
   ]
  },
  {
   "cell_type": "code",
   "execution_count": null,
   "id": "1e8e5183",
   "metadata": {},
   "outputs": [],
   "source": [
    "net3_faker = torch.nn.Sequential(\n",
    "    torch.nn.Linear(in_features=4, out_features=64), # (n,4) -> (n,64) \n",
    "    torch.nn.ReLU(),\n",
    "    torch.nn.Linear(in_features=64, out_features=64), # (n,64) -> (n,64)   \n",
    "    torch.nn.ReLU(),\n",
    "    torch.nn.Linear(in_features=64, out_features=784), # (n,64) -> (n,784) \n",
    "    torch.nn.Sigmoid(), # 출력을 0~1로 눌러주는 역할.. -- 저는 이 레이어가 일종의 문화충격이었어요.. (시그모이드를 이렇게 쓴다고??)\n",
    "    Reshape2828()\n",
    ")\n",
    "#bce = torch.nn.BCELoss()\n",
    "optimizr3_faker = torch.optim.Adam(net3_faker.parameters())\n",
    "#--#"
   ]
  },
  {
   "cell_type": "code",
   "execution_count": null,
   "id": "1fcbeec9",
   "metadata": {},
   "outputs": [],
   "source": [
    "net3_faker = torch.nn.Sequential(\n",
    "    torch.nn.Linear(in_features=4, out_features=64), # (n,4) -> (n,64) \n",
    "    torch.nn.ReLU(),\n",
    "    torch.nn.Linear(in_features=64, out_features=64), # (n,64) -> (n,64)   \n",
    "    torch.nn.ReLU(),\n",
    "    torch.nn.Linear(in_features=64, out_features=784), # (n,64) -> (n,784) \n",
    "    torch.nn.Sigmoid(), # 출력을 0~1로 눌러주는 역할.. -- 저는 이 레이어가 일종의 문화충격이었어요.. (시그모이드를 이렇게 쓴다고??)\n",
    "    Reshape2828()\n",
    ")\n",
    "#bce = torch.nn.BCELoss()\n",
    "optimizr3_faker = torch.optim.Adam(net3_faker.parameters())\n",
    "#--#"
   ]
  },
  {
   "cell_type": "code",
   "execution_count": null,
   "id": "dad3266e",
   "metadata": {},
   "outputs": [],
   "source": [
    "for epoc in range(10):\n",
    "    # step1\n",
    "    Noise3 = torch.randn(6131,4) \n",
    "    X3_fake = net3_faker(Noise3) \n",
    "    # step2\n",
    "    yhat3_fake = net_police(X3_fake) \n",
    "    # loss3_faker = bce(y3hat_fake,y3_real)\n",
    "    loss3_faker = bce(net_police(X3_fake),y3_real)\n",
    "\n",
    "    # step3 \n",
    "    loss3_faker.backward()\n",
    "    # step4 \n",
    "    optimizr3_faker.step()\n",
    "    optimizr3_faker.zero_grad()"
   ]
  },
  {
   "cell_type": "code",
   "execution_count": null,
   "id": "bcd2a730",
   "metadata": {},
   "outputs": [],
   "source": [
    "fig,ax = plt.subplots(2,5,figsize=(10,4))\n",
    "k = 0 \n",
    "for i in range(2):\n",
    "    for j in range(5):\n",
    "        ax[i][j].imshow(X3_fake[k].reshape(28,28).data,cmap=\"gray\")\n",
    "        ax[i][j].set_title(f\"police hat = {y3hat_fake[k].item():.4f}\")\n",
    "        k = k+1 \n",
    "fig.tight_layout()"
   ]
  },
  {
   "cell_type": "code",
   "execution_count": null,
   "id": "f688fa33",
   "metadata": {},
   "outputs": [],
   "source": [
    "for epoc in range(10):\n",
    "    # step1\n",
    "    Noise8 = torch.randn(6131,4) \n",
    "    X3_fake = net3_faker(Noise3) \n",
    "    # step2\n",
    "    yhat3_fake = net_police(X3_fake) \n",
    "    # loss3_faker = bce(y3hat_fake,y3_real)\n",
    "    loss3_faker = bce(net_police(X3_fake),y3_real)\n",
    "\n",
    "    # step3 \n",
    "    loss3_faker.backward()\n",
    "    # step4 \n",
    "    optimizr3_faker.step()\n",
    "    optimizr3_faker.zero_grad()"
   ]
  },
  {
   "cell_type": "code",
   "execution_count": null,
   "id": "3ec3c839",
   "metadata": {},
   "outputs": [],
   "source": [
    "for epoc in range(10):\n",
    "    # step1\n",
    "    Noise3 = torch.randn(6131,4) \n",
    "    X3_fake = net3_faker(Noise3) \n",
    "    # step2\n",
    "    yhat3_fake = net_police(X3_fake) \n",
    "    # loss3_faker = bce(y3hat_fake,y3_real)\n",
    "    loss3_faker = bce(net_police(X3_fake),y3_real)\n",
    "\n",
    "    # step3 \n",
    "    loss3_faker.backward()\n",
    "    # step4 \n",
    "    optimizr3_faker.step()\n",
    "    optimizr3_faker.zero_grad()"
   ]
  },
  {
   "cell_type": "code",
   "execution_count": null,
   "id": "97abec18",
   "metadata": {},
   "outputs": [],
   "source": [
    "fig,ax = plt.subplots(2,5,figsize=(10,4))\n",
    "k = 0 \n",
    "for i in range(2):\n",
    "    for j in range(5):\n",
    "        ax[i][j].imshow(X3_fake[k].reshape(28,28).data,cmap=\"gray\")\n",
    "        ax[i][j].set_title(f\"police hat = {y3hat_fake[k].item():.4f}\")\n",
    "        k = k+1 \n",
    "fig.tight_layout()"
   ]
  },
  {
   "cell_type": "code",
   "execution_count": null,
   "id": "59f449ad",
   "metadata": {},
   "outputs": [],
   "source": [
    "for epoc in range(10):\n",
    "    # step1\n",
    "    Noise8 = torch.randn(6131,4) \n",
    "    X3_fake = net3_faker(Noise3) \n",
    "    # step2\n",
    "    yhat3_fake = net_police(X3_fake) \n",
    "    # loss3_faker = bce(y3hat_fake,y3_real)\n",
    "    loss3_faker = bce(net_police(X3_fake),y3_real)\n",
    "\n",
    "    # step3 \n",
    "    loss3_faker.backward()\n",
    "    # step4 \n",
    "    optimizr3_faker.step()\n",
    "    optimizr3_faker.zero_grad()"
   ]
  },
  {
   "cell_type": "code",
   "execution_count": null,
   "id": "f9ed6e8c-342c-42a5-9a91-f2867ad4505f",
   "metadata": {
    "tags": []
   },
   "outputs": [],
   "source": []
  },
  {
   "cell_type": "markdown",
   "id": "1c6ff981",
   "metadata": {},
   "source": [
    "CUDA 사용하여 학습 30000회"
   ]
  },
  {
   "cell_type": "code",
   "execution_count": null,
   "id": "942c87a5",
   "metadata": {},
   "outputs": [],
   "source": [
    "\n",
    "# CUDA 사용 가능한지 확인\n",
    "device = torch.device(\"cuda:0\" if torch.cuda.is_available() else \"cpu\")\n",
    "print(\"Using device:\", device)\n",
    "\n",
    "# 임의의 시드 설정\n",
    "torch.manual_seed(43052)\n",
    "\n",
    "# 모델 정의\n",
    "class Reshape2828(torch.nn.Module):\n",
    "    def forward(self, x):\n",
    "        return x.view(-1, 28, 28)  # (n, 784) -> (n, 28, 28)\n",
    "\n",
    "net_police = torch.nn.Sequential(\n",
    "    torch.nn.Flatten(),\n",
    "    torch.nn.Linear(in_features=784, out_features=30),\n",
    "    torch.nn.ReLU(),\n",
    "    torch.nn.Linear(in_features=30, out_features=1),\n",
    "    torch.nn.Sigmoid()\n",
    ").to(device)\n",
    "\n",
    "net_faker = torch.nn.Sequential(\n",
    "    torch.nn.Linear(in_features=4, out_features=64),\n",
    "    torch.nn.ReLU(),\n",
    "    torch.nn.Linear(in_features=64, out_features=64),\n",
    "    torch.nn.ReLU(),\n",
    "    torch.nn.Linear(in_features=64, out_features=784),\n",
    "    torch.nn.Sigmoid(),\n",
    "    Reshape2828()\n",
    ").to(device)\n",
    "\n",
    "# 손실 함수와 옵티마이저\n",
    "bce = torch.nn.BCELoss().to(device)\n",
    "optimizr_police = torch.optim.Adam(net_police.parameters(), lr=0.001, betas=(0.5, 0.999))\n",
    "optimizr_faker = torch.optim.Adam(net_faker.parameters(), lr=0.0002, betas=(0.5, 0.999))\n",
    "\n",
    "for epoc in range(30000):\n",
    "    # net_police 훈련\n",
    "    Noise = torch.randn(6131, 4).to(device) \n",
    "    X_fake = net_faker(Noise).detach()  # .detach() 사용하여 불필요한 그래디언트 추적 방지\n",
    "    yhat_real = net_police(X_real.to(device))\n",
    "    yhat_fake = net_police(X_fake)\n",
    "    loss_police = bce(yhat_real, y_real.to(device)) + bce(yhat_fake, y_fake.to(device))\n",
    "    loss_police.backward()\n",
    "    optimizr_police.step()\n",
    "    optimizr_police.zero_grad()\n",
    "\n",
    "    # net_faker 훈련\n",
    "    Noise = torch.randn(6131, 4).to(device)\n",
    "    X_fake = net_faker(Noise)\n",
    "    yhat_fake = net_police(X_fake)\n",
    "    loss_faker = bce(yhat_fake, y_real.to(device))\n",
    "    loss_faker.backward()\n",
    "    optimizr_faker.step()\n",
    "    optimizr_faker.zero_grad()\n"
   ]
  },
  {
   "cell_type": "code",
   "execution_count": null,
   "id": "af699d7d",
   "metadata": {},
   "outputs": [],
   "source": [
    "fig,ax = plt.subplots(3,5,figsize=(10,4))\n",
    "k = 0 \n",
    "for i in range(3):\n",
    "    for j in range(5):\n",
    "        ax[i][j].imshow(X_fake[k].to(\"cpu\").reshape(28,28).data,cmap=\"gray\")\n",
    "        ax[i][j].set_title(f\"police hat = {yhat_fake[k].item():.4f}\")\n",
    "        k = k+1 \n",
    "fig.tight_layout()"
   ]
  },
  {
   "cell_type": "markdown",
   "id": "9a437c46",
   "metadata": {},
   "source": [
    "CUDA 사용하여 학습 10000회"
   ]
  },
  {
   "cell_type": "code",
   "execution_count": null,
   "id": "2e80e53a",
   "metadata": {},
   "outputs": [],
   "source": [
    "\n",
    "# CUDA 사용 가능한지 확인\n",
    "device = torch.device(\"cuda:0\" if torch.cuda.is_available() else \"cpu\")\n",
    "print(\"Using device:\", device)\n",
    "\n",
    "# 임의의 시드 설정\n",
    "torch.manual_seed(43052)\n",
    "\n",
    "# 모델 정의\n",
    "class Reshape2828(torch.nn.Module):\n",
    "    def forward(self, x):\n",
    "        return x.view(-1, 28, 28)  # (n, 784) -> (n, 28, 28)\n",
    "\n",
    "net_police = torch.nn.Sequential(\n",
    "    torch.nn.Flatten(),\n",
    "    torch.nn.Linear(in_features=784, out_features=30),\n",
    "    torch.nn.ReLU(),\n",
    "    torch.nn.Linear(in_features=30, out_features=1),\n",
    "    torch.nn.Sigmoid()\n",
    ").to(device)\n",
    "\n",
    "net_faker = torch.nn.Sequential(\n",
    "    torch.nn.Linear(in_features=4, out_features=64),\n",
    "    torch.nn.ReLU(),\n",
    "    torch.nn.Linear(in_features=64, out_features=64),\n",
    "    torch.nn.ReLU(),\n",
    "    torch.nn.Linear(in_features=64, out_features=784),\n",
    "    torch.nn.Sigmoid(),\n",
    "    Reshape2828()\n",
    ").to(device)\n",
    "\n",
    "\n"
   ]
  },
  {
   "cell_type": "code",
   "execution_count": 46,
   "id": "5f77af6e",
   "metadata": {},
   "outputs": [],
   "source": [
    "# 손실 함수와 옵티마이저\n",
    "bce = torch.nn.BCELoss().to(device)\n",
    "optimizr_police = torch.optim.Adam(net_police.parameters(), lr=0.001, betas=(0.5, 0.999))\n",
    "optimizr_faker = torch.optim.Adam(net_faker.parameters(), lr=0.0002, betas=(0.5, 0.999))\n",
    "\n",
    "for epoc in range(10000):\n",
    "    # net_police 훈련\n",
    "    Noise = torch.randn(6131, 4).to(device) \n",
    "    X_fake = net_faker(Noise).detach()  # .detach() 사용하여 불필요한 그래디언트 추적 방지\n",
    "    yhat_real = net_police(X_real.to(device))\n",
    "    yhat_fake = net_police(X_fake)\n",
    "    loss_police = bce(yhat_real, y_real.to(device)) + bce(yhat_fake, y_fake.to(device))\n",
    "    loss_police.backward()\n",
    "    optimizr_police.step()\n",
    "    optimizr_police.zero_grad()\n",
    "\n",
    "    # net_faker 훈련\n",
    "    Noise = torch.randn(6131, 4).to(device)\n",
    "    X_fake = net_faker(Noise)\n",
    "    yhat_fake = net_police(X_fake)\n",
    "    loss_faker = bce(yhat_fake, y_real.to(device))\n",
    "    loss_faker.backward()\n",
    "    optimizr_faker.step()\n",
    "    optimizr_faker.zero_grad()"
   ]
  },
  {
   "cell_type": "code",
   "execution_count": null,
   "id": "ec25a3d7",
   "metadata": {},
   "outputs": [],
   "source": [
    "fig,ax = plt.subplots(3,5,figsize=(10,4))\n",
    "k = 0 \n",
    "for i in range(3):\n",
    "    for j in range(5):\n",
    "        ax[i][j].imshow(X_fake[k].to(\"cpu\").reshape(28,28).data,cmap=\"gray\")\n",
    "        ax[i][j].set_title(f\"police hat = {yhat_fake[k].item():.4f}\")\n",
    "        k = k+1 \n",
    "fig.tight_layout()"
   ]
  },
  {
   "cell_type": "markdown",
   "id": "a0296711",
   "metadata": {},
   "source": [
    "CUDA 사용하여 학습 1000회"
   ]
  },
  {
   "cell_type": "code",
   "execution_count": null,
   "id": "9cd94f9c",
   "metadata": {},
   "outputs": [],
   "source": [
    "\n",
    "# CUDA 사용 가능한지 확인\n",
    "device = torch.device(\"cuda:0\" if torch.cuda.is_available() else \"cpu\")\n",
    "print(\"Using device:\", device)\n",
    "\n",
    "# 임의의 시드 설정\n",
    "torch.manual_seed(43052)\n",
    "\n",
    "# 모델 정의\n",
    "class Reshape2828(torch.nn.Module):\n",
    "    def forward(self, x):\n",
    "        return x.view(-1, 28, 28)  # (n, 784) -> (n, 28, 28)\n",
    "\n",
    "net_police = torch.nn.Sequential(\n",
    "    torch.nn.Flatten(),\n",
    "    torch.nn.Linear(in_features=784, out_features=30),\n",
    "    torch.nn.ReLU(),\n",
    "    torch.nn.Linear(in_features=30, out_features=1),\n",
    "    torch.nn.Sigmoid()\n",
    ").to(device)\n",
    "\n",
    "net_faker = torch.nn.Sequential(\n",
    "    torch.nn.Linear(in_features=4, out_features=64),\n",
    "    torch.nn.ReLU(),\n",
    "    torch.nn.Linear(in_features=64, out_features=64),\n",
    "    torch.nn.ReLU(),\n",
    "    torch.nn.Linear(in_features=64, out_features=784),\n",
    "    torch.nn.Sigmoid(),\n",
    "    Reshape2828()\n",
    ").to(device)\n",
    "\n",
    "\n",
    "# 손실 함수와 옵티마이저\n",
    "bce = torch.nn.BCELoss().to(device)\n",
    "optimizr_police = torch.optim.Adam(net_police.parameters(), lr=0.001, betas=(0.5, 0.999))\n",
    "optimizr_faker = torch.optim.Adam(net_faker.parameters(), lr=0.0002, betas=(0.5, 0.999))"
   ]
  },
  {
   "cell_type": "code",
   "execution_count": 49,
   "id": "5251eb34",
   "metadata": {},
   "outputs": [],
   "source": [
    "for epoc in range(100):\n",
    "    # net_police 훈련\n",
    "    Noise = torch.randn(6131, 4).to(device) \n",
    "    X_fake = net_faker(Noise).detach()  # .detach() 사용하여 불필요한 그래디언트 추적 방지\n",
    "    yhat_real = net_police(X_real.to(device))\n",
    "    yhat_fake = net_police(X_fake)\n",
    "    loss_police = bce(yhat_real, y_real.to(device)) + bce(yhat_fake, y_fake.to(device))\n",
    "    loss_police.backward()\n",
    "    optimizr_police.step()\n",
    "    optimizr_police.zero_grad()\n",
    "\n",
    "    # net_faker 훈련\n",
    "    Noise = torch.randn(6131, 4).to(device)\n",
    "    X_fake = net_faker(Noise)\n",
    "    yhat_fake = net_police(X_fake)\n",
    "    loss_faker = bce(yhat_fake, y_real.to(device))\n",
    "    loss_faker.backward()\n",
    "    optimizr_faker.step()\n",
    "    optimizr_faker.zero_grad()"
   ]
  },
  {
   "cell_type": "code",
   "execution_count": null,
   "id": "27b96328",
   "metadata": {},
   "outputs": [],
   "source": [
    "fig,ax = plt.subplots(3,5,figsize=(10,10))\n",
    "k = 0 \n",
    "for i in range(3):\n",
    "    for j in range(5):\n",
    "        ax[i][j].imshow(X_fake[k].to(\"cpu\").reshape(28,28).data,cmap=\"gray\")\n",
    "        ax[i][j].set_title(f\"police hat = {yhat_fake[k].item():.4f}\")\n",
    "        k = k+1 \n",
    "fig.tight_layout()"
   ]
  },
  {
   "cell_type": "markdown",
   "id": "a15273d5-5b0e-4d03-95b1-0ed6adce48c1",
   "metadata": {},
   "source": [
    "# 5. 초기 GAN의 한계점 "
   ]
  },
  {
   "cell_type": "markdown",
   "id": "db174dad-0f9e-43e0-a690-4950e8255d96",
   "metadata": {},
   "source": [
    "`-` 두 네트워크의 균형이 매우 중요함 -- 균형이 깨지는 순간 학습은 실패함"
   ]
  },
  {
   "cell_type": "markdown",
   "id": "2614cf01-f54e-4074-96e4-b1f209e4d51a",
   "metadata": {},
   "source": [
    "`-` 생성되는 이미지의 다양성이 부족한 경우가 발생함. (mode collapse)"
   ]
  }
 ],
 "metadata": {
  "kernelspec": {
   "display_name": "Python 3 (ipykernel)",
   "language": "python",
   "name": "python3"
  },
  "language_info": {
   "codemirror_mode": {
    "name": "ipython",
    "version": 3
   },
   "file_extension": ".py",
   "mimetype": "text/x-python",
   "name": "python",
   "nbconvert_exporter": "python",
   "pygments_lexer": "ipython3",
   "version": "3.8.19"
  }
 },
 "nbformat": 4,
 "nbformat_minor": 5
}
