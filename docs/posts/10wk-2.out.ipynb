{
  "cells": [
    {
      "cell_type": "markdown",
      "metadata": {},
      "source": [
        "# 10wk-2: 추천시스템 (1) – optimizer 사용 고급, 추천시스템의 학습\n",
        "\n",
        "최규빈  \n",
        "2024-04-29\n",
        "\n",
        "<a href=\"https://colab.research.google.com/github/guebin/DL2024/blob/main/posts/08wk-1-2.ipynb\"><img src=\"https://colab.research.google.com/assets/colab-badge.svg\" style=\"text-align: left\"></a>\n",
        "\n",
        "# 1. 강의영상"
      ],
      "id": "695887e9-e5ba-4399-875a-adaee99189e5"
    },
    {
      "cell_type": "code",
      "execution_count": 445,
      "metadata": {
        "tags": []
      },
      "outputs": [],
      "source": [
        "#{{<video https://youtu.be/playlist?list=PLQqh36zP38-xfh-AQQI0B_GONOjgj9DCi&si=uWImDc1bYBoNqCB_ >}}"
      ],
      "id": "cd4bf0dd-4a17-4400-9edd-d1a9a70ff280"
    },
    {
      "cell_type": "markdown",
      "metadata": {},
      "source": [
        "# 2. Imports"
      ],
      "id": "e52d3c29-3cc1-4e9c-b4d2-bcf16e3a7462"
    },
    {
      "cell_type": "code",
      "execution_count": 448,
      "metadata": {
        "tags": []
      },
      "outputs": [],
      "source": [
        "import torch\n",
        "import pandas as pd"
      ],
      "id": "be01850b-e0ed-45be-a675-799d9c90c0ee"
    },
    {
      "cell_type": "markdown",
      "metadata": {},
      "source": [
        "# 3. 예비학습: optimizer 사용 고급\n",
        "\n",
        "# 4. 추천시스템의 학습전략\n",
        "\n",
        "ref: <https://namu.wiki/w/나는%20SOLO>\n",
        "\n",
        "## A. Data: 나는 SOLO\n",
        "\n",
        "`-` Data"
      ],
      "id": "74e5d722-2924-4889-a2c3-2c60bba19d6e"
    },
    {
      "cell_type": "code",
      "execution_count": 28,
      "metadata": {
        "tags": []
      },
      "outputs": [],
      "source": [
        "#df_view = pd.read_csv('https://raw.githubusercontent.com/guebin/DL2024/main/posts/solo.csv',index_col=0)\n",
        "df_view = pd.read_csv('solo.csv',index_col=0)\n",
        "df_view"
      ],
      "id": "9ad42043-cdba-46a1-92f0-51aa4ce6e161"
    },
    {
      "cell_type": "markdown",
      "metadata": {},
      "source": [
        "`-` 데이터를 이해할 때 필요한 가정들 – 제가 마음대로 설정했어요..\n",
        "\n",
        "-   궁합이 잘맞으면 5점, 잘 안맞으면 0점 이다.\n",
        "-   ((옥순,영자,정숙),(영식,영철,영호))은 MBTI가 I로 시작하고\n",
        "    ((영숙,순자,현숙),(광수,상철,영수))는 MBTI가 E로 시작한다고\n",
        "    설정하자.\n",
        "-   (옥순,영자,정숙)은 (영식,영철,영호)와 성격이 잘 맞고\n",
        "    (영숙,순자,현숙)은 (광수,상철,영수)와 성격이 잘맞음.\n",
        "-   정숙은 대체적으로 모든 사람들이랑 궁합이 잘 맞는 편인것 같다.\n",
        "-   현숙은 전체적으로 모든 사람들이랑 궁합이 잘 안맞는 편인것 같다.\n",
        "    (눈이 높아보인다)\n",
        "\n",
        "## B. Fit / Predict\n",
        "\n",
        "`-` 목표: NaN을 추정\n",
        "\n",
        "`-` 수동추론:\n",
        "\n",
        "-   (옥순,영호)이 만난다면? $\\to$ 둘다 I성향이니까 잘 맞지 않을까? $\\to$\n",
        "    4.0 정도?\n",
        "-   (정숙,영식)조합은? $\\to$ 둘다 I성향이니까 잘 맞지 않을까? + 정숙은\n",
        "    다 잘맞던데..? $\\to$ 4.8 정도?\n",
        "-   (현숙,영식)조합은? $\\to$ 현숙은 E성향인데 영식은 I성향이므로 잘\n",
        "    안맞을 것임 + 현숙은 원래 좀 눈이 높음 $\\to$ 0.25 정도?\n",
        "\n",
        "`-` 좀 더 체계적인 추론 전략: 사람들이 가지고 있는 성향들을 E가 클수록\n",
        "양수, I가 클수록 음수로 표현하자.\n",
        "\n",
        "-   옥순의 성향 = -1.0\n",
        "-   영식의 성향 = +1.1\n",
        "-   현숙의 성향 = (I성향,E성향) = (0.0, 1.5)\n",
        "\n",
        "> 사람에 따라 E,I 둘다 높게 설정할수도있고, 둘다 낮게 설정할 수도 있다.\n",
        "\n",
        "**(1)** 옥순과 영식의 궁합 $\\approx$ 옥순의IE성향$\\times$영식의IE성향\n",
        "$+$ 옥순의NS성향$\\times$영식의NS성향 // 적합"
      ],
      "id": "2340390f-e27a-405e-8d3a-e5ebd66c92a1"
    },
    {
      "cell_type": "code",
      "execution_count": 29,
      "metadata": {
        "tags": []
      },
      "outputs": [],
      "source": [
        "옥순성향 = torch.tensor([1.9,0.0]).reshape(2,1) \n",
        "영식성향 = torch.tensor([2.0,0.1]).reshape(2,1) \n",
        "#(옥순성향*영식성향).sum().item() # 옥순과 영식의 궁합: a ∘ b 로 내적구함 \n",
        "(옥순성향.T @ 영식성향).item() # 옥순과 영식의 궁합: a.T @ b 로 내적구함 "
      ],
      "id": "96e2b6fb-9dea-432e-bd1a-3ee34975a5ff"
    },
    {
      "cell_type": "markdown",
      "metadata": {},
      "source": [
        "**(2)** 현숙과 영식의 궁합 $\\approx$ 현숙의IE성향$\\times$영식의IE성향\n",
        "$+$ 현숙의NS성향$\\times$영식의NS성향 // 예측"
      ],
      "id": "5ca6272a-9e33-4916-b66a-af0e08885b7e"
    },
    {
      "cell_type": "code",
      "execution_count": 30,
      "metadata": {
        "tags": []
      },
      "outputs": [],
      "source": [
        "현숙성향 = torch.tensor([0.0,1.5]).reshape(2,1)\n",
        "#(현숙성향*영식성향).sum().item() # 현숙과 영식의 궁합: a ∘ b 로 내적구함 \n",
        "(현숙성향.T @ 영식성향).item() # 현숙과 영식의 궁합: a.T @ b 로 내적구함 "
      ],
      "id": "5d7b2b4e-f216-4717-8b38-4815faefa8e4"
    },
    {
      "cell_type": "markdown",
      "metadata": {},
      "source": [
        "-   그럴싸함.\n",
        "\n",
        "`-` 전체 사용자의 설정값"
      ],
      "id": "5aa26d7f-bcda-498e-8fda-7e6d71d866f8"
    },
    {
      "cell_type": "code",
      "execution_count": 31,
      "metadata": {
        "tags": []
      },
      "outputs": [],
      "source": [
        "옥순성향 = a1 = torch.tensor([1.9,0.0]).reshape(2,1)\n",
        "영자성향 = a2 = torch.tensor([2.0,0.1]).reshape(2,1)\n",
        "정숙성향 = a3 = torch.tensor([2.5,1.0]).reshape(2,1)\n",
        "영숙성향 = a4 = torch.tensor([0.1,1.9]).reshape(2,1)\n",
        "순자성향 = a5 = torch.tensor([0.2,2.1]).reshape(2,1)\n",
        "현숙성향 = a6 = torch.tensor([0.0,1.5]).reshape(2,1)\n",
        "A = torch.concat([a1,a2,a3,a4,a5,a6],axis=1)\n",
        "A # 각 column은 여성출연자들의 성향을 의미함 "
      ],
      "id": "1679a6fd-7604-4e86-92b9-6aa53b834b74"
    },
    {
      "cell_type": "code",
      "execution_count": 32,
      "metadata": {
        "tags": []
      },
      "outputs": [],
      "source": [
        "영식성향 = b1 = torch.tensor([2.0,0.1]).reshape(2,1)\n",
        "영철성향 = b2 = torch.tensor([1.9,0.2]).reshape(2,1)\n",
        "영호성향 = b3 = torch.tensor([1.8,0.3]).reshape(2,1)\n",
        "광수성향 = b4 = torch.tensor([0.3,2.1]).reshape(2,1)\n",
        "상철성향 = b5 = torch.tensor([0.2,2.0]).reshape(2,1)\n",
        "영수성향 = b6 = torch.tensor([0.1,1.9]).reshape(2,1)\n",
        "B = torch.concat([b1,b2,b3,b4,b5,b6],axis=1)\n",
        "B # 각 column은 남성출연자의 성향을 의미함"
      ],
      "id": "946ea60e-e30b-4188-8bae-7c1b25ca0f47"
    },
    {
      "cell_type": "markdown",
      "metadata": {},
      "source": [
        "`-` 아래의 행렬곱 관찰"
      ],
      "id": "f2c74f4e-679c-47af-a523-71f5914821e6"
    },
    {
      "cell_type": "code",
      "execution_count": 33,
      "metadata": {
        "tags": []
      },
      "outputs": [],
      "source": [
        "A.T@B "
      ],
      "id": "33901998-5c7c-44fc-b97d-5a579514b540"
    },
    {
      "cell_type": "markdown",
      "metadata": {},
      "source": [
        "—저거 따져보자—\n",
        "\n",
        "${\\bf A}_{2 \\times 6} = \\begin{bmatrix} {\\boldsymbol a}_{\\text{옥순}} & {\\boldsymbol a}_{\\text{영자}} & {\\boldsymbol a}_{\\text{정숙}} & {\\boldsymbol a}_{\\text{영숙}} & {\\boldsymbol a}_{\\text{순자}} & {\\boldsymbol a}_{\\text{현숙}} \\end{bmatrix} = \\begin{bmatrix} 1.9 & 2.0 & 2.5 & 0.1 & 0.2 & 0 \\\\ 0 & 0.1 & 1.0 & 1.9 & 2.1 & 1.5 \\end{bmatrix}$\n",
        "\n",
        "${\\bf B}_{2 \\times 6} = \\begin{bmatrix} {\\boldsymbol b}_{\\text{영식}} & {\\boldsymbol b}_{\\text{영철}} & {\\boldsymbol b}_{\\text{영호}} & {\\boldsymbol b}_{\\text{광수}} & {\\boldsymbol b}_{\\text{상철}} & {\\boldsymbol b}_{\\text{영수}} \\end{bmatrix} = \\begin{bmatrix} 2.0 & 1.0 & 1.8 & 0.3 & 0.2 & 0.1 \\\\ 0.1 & 0.2 & 0.3 & 2.1 & 2.0 & 1.9 \\end{bmatrix}$\n",
        "\n",
        "$\\begin{align*}{\\bf A}^\\top @ {\\bf B} & = \\begin{bmatrix} 1.9 & 0.0 \\\\ 2.0 & 0.1 \\\\ 2.5 & 1.0 \\\\ 0.1 & 1.9 \\\\ 0.2 & 2.1 \\\\ 0.0 & 1.5 \\\\ \\end{bmatrix} \\begin{bmatrix} 2.0 & 1.0 & 1.8 & 0.3 & 0.2 & 0.1 \\\\ 0.1 & 0.2 & 0.3 & 2.1 & 2.0 & 1.9 \\end{bmatrix} \\\\ \\\\ & = \\begin{bmatrix} 3.8 & 3.61 & 3.42 & 0.57 & 0.38 & 0.19 \\\\ 4.01 & 3.82 & 3.63 & 0.81 & 0.6 & 0.39 \\\\ 5.1 & 4.95 & 4.8 & 2.85 & 2.5 & 2.15 \\\\ 0.39 & 0.57 & 0.75 & 4.02 & 3.82 & 3.62 \\\\ 0.61 & 0.8 & 0.99 & 4.47 & 4.24 & 4.01 \\\\ 0.15 & 0.3 & 0.45 & 3.15 & 3 & 2.85 \\\\ \\end{bmatrix} \\\\ \\\\ & =\\begin{bmatrix} {\\boldsymbol a}_{\\text{옥순}}^\\top @ {\\boldsymbol b}^{ }_{\\text{영식}} & {\\boldsymbol a}_{\\text{옥순}}^\\top @ {\\boldsymbol b}^{ }_{\\text{영철}} & {\\boldsymbol a}_{\\text{옥순}}^\\top @ {\\boldsymbol b}^{ }_{\\text{영호}} & {\\boldsymbol a}_{\\text{옥순}}^\\top @ {\\boldsymbol b}^{ }_{\\text{광수}} & {\\boldsymbol a}_{\\text{옥순}}^\\top @ {\\boldsymbol b}^{ }_{\\text{상철}} & {\\boldsymbol a}_{\\text{옥순}}^\\top @ {\\boldsymbol b}^{ }_{\\text{영수}} \\\\ {\\boldsymbol a}_{\\text{영자}}^\\top @ {\\boldsymbol b}^{ }_{\\text{영식}} & {\\boldsymbol a}_{\\text{영자}}^\\top @ {\\boldsymbol b}^{ }_{\\text{영철}} & {\\boldsymbol a}_{\\text{영자}}^\\top @ {\\boldsymbol b}^{ }_{\\text{영호}} & {\\boldsymbol a}_{\\text{영자}}^\\top @ {\\boldsymbol b}^{ }_{\\text{광수}} & {\\boldsymbol a}_{\\text{영자}}^\\top @ {\\boldsymbol b}^{ }_{\\text{상철}} & {\\boldsymbol a}_{\\text{영자}}^\\top @ {\\boldsymbol b}^{ }_{\\text{영수}} \\\\ {\\boldsymbol a}_{\\text{정숙}}^\\top @ {\\boldsymbol b}^{ }_{\\text{영식}} & {\\boldsymbol a}_{\\text{정숙}}^\\top @ {\\boldsymbol b}^{ }_{\\text{영철}} & {\\boldsymbol a}_{\\text{정숙}}^\\top @ {\\boldsymbol b}^{ }_{\\text{영호}} & {\\boldsymbol a}_{\\text{정숙}}^\\top @ {\\boldsymbol b}^{ }_{\\text{광수}} & {\\boldsymbol a}_{\\text{정숙}}^\\top @ {\\boldsymbol b}^{ }_{\\text{상철}} & {\\boldsymbol a}_{\\text{정숙}}^\\top @ {\\boldsymbol b}^{ }_{\\text{영수}} \\\\ {\\boldsymbol a}_{\\text{영숙}}^\\top @ {\\boldsymbol b}^{ }_{\\text{영식}} & {\\boldsymbol a}_{\\text{영숙}}^\\top @ {\\boldsymbol b}^{ }_{\\text{영철}} & {\\boldsymbol a}_{\\text{영숙}}^\\top @ {\\boldsymbol b}^{ }_{\\text{영호}} & {\\boldsymbol a}_{\\text{영숙}}^\\top @ {\\boldsymbol b}^{ }_{\\text{광수}} & {\\boldsymbol a}_{\\text{영숙}}^\\top @ {\\boldsymbol b}^{ }_{\\text{상철}} & {\\boldsymbol a}_{\\text{영숙}}^\\top @ {\\boldsymbol b}^{ }_{\\text{영수}} \\\\ {\\boldsymbol a}_{\\text{순자}}^\\top @ {\\boldsymbol b}^{ }_{\\text{영식}} & {\\boldsymbol a}_{\\text{순자}}^\\top @ {\\boldsymbol b}^{ }_{\\text{영철}} & {\\boldsymbol a}_{\\text{순자}}^\\top @ {\\boldsymbol b}^{ }_{\\text{영호}} & {\\boldsymbol a}_{\\text{순자}}^\\top @ {\\boldsymbol b}^{ }_{\\text{광수}} & {\\boldsymbol a}_{\\text{순자}}^\\top @ {\\boldsymbol b}^{ }_{\\text{상철}} & {\\boldsymbol a}_{\\text{순자}}^\\top @ {\\boldsymbol b}^{ }_{\\text{영수}} \\\\ {\\boldsymbol a}_{\\text{현숙}}^\\top @ {\\boldsymbol b}^{ }_{\\text{영식}} & {\\boldsymbol a}_{\\text{현숙}}^\\top @ {\\boldsymbol b}^{ }_{\\text{영철}} & {\\boldsymbol a}_{\\text{현숙}}^\\top @ {\\boldsymbol b}^{ }_{\\text{영호}} & {\\boldsymbol a}_{\\text{현숙}}^\\top @ {\\boldsymbol b}^{ }_{\\text{광수}} & {\\boldsymbol a}_{\\text{현숙}}^\\top @ {\\boldsymbol b}^{ }_{\\text{상철}} & {\\boldsymbol a}_{\\text{현숙}}^\\top @ {\\boldsymbol b}^{ }_{\\text{영수}} \\\\ \\end{bmatrix}\\end{align*}$\n",
        "\n",
        "`-` 궁합매트릭스: ${\\bf A}^\\top @ {\\bf B}$를 계산하면 (6,6) 인 행렬이\n",
        "나올텐데 이 행렬의 $(i,j)$의 원소는 $i$-th 여성출연자와 $j$-th\n",
        "남성출연자가 얼마나 잘 맞는지를 나타내는 숫자가 된다. (숫자가 높을수록\n",
        "잘 맞음) 이 수업에서는 이 매트릭스를 “궁합매트릭스” 라고 정의하자.\n",
        "\n",
        "-   걱정1: 5.0이 넘는 값도 있네?\n",
        "-   걱정2: 잘못잡으면 음수가 나올지도?\n",
        "-   로지스틱 느낌 나지 않음??\n",
        "\n",
        "`-` 주어진 자료와 우리가 임의로 만든 궁합매트릭스를 비교해보자."
      ],
      "id": "1b65d84a-1b20-4113-84cf-55a99a9fb6e5"
    },
    {
      "cell_type": "code",
      "execution_count": 34,
      "metadata": {
        "tags": []
      },
      "outputs": [],
      "source": [
        "A.T @ B, torch.tensor(np.array(df_view)).float()"
      ],
      "id": "5b043949-5231-49ca-8d5e-c357f8ba2dbe"
    },
    {
      "cell_type": "markdown",
      "metadata": {},
      "source": [
        "`-` 우리의 전략\n",
        "\n",
        "1.  ${\\bf A}^\\top @~ {\\bf B}$의 값과 `df_view` 의 값이 `nan`을 제외한\n",
        "    곳에서 거의 비슷하게 되도록 ${\\bf A}$, ${\\bf B}$를 잘 때려맞추면\n",
        "    되는것 아니야?\n",
        "\n",
        "2.  1을 만족하는 ${\\bf A}$, ${\\bf B}$를 찾았으면 그 숫자들을 이용하여\n",
        "    `df_view`의 `nan` 을 추정한다.\n",
        "\n",
        "`-` 따라서 모형은 아래와 같이 볼 수 있다.\n",
        "\n",
        "$${\\tt df\\_view} \\approx {\\bf A}^\\top @~ {\\bf B}$$\n",
        "\n",
        "`-` 아래의 정보를 참고하여 위의 수식을 다시 정리하면.."
      ],
      "id": "95ed44a5-a13c-4bdf-8b0f-67b7f3e360d7"
    },
    {
      "cell_type": "code",
      "execution_count": 35,
      "metadata": {
        "tags": []
      },
      "outputs": [],
      "source": [
        "df_view"
      ],
      "id": "93deeda5-66b8-470e-b8b5-25f6d4857dea"
    },
    {
      "cell_type": "code",
      "execution_count": 36,
      "metadata": {
        "tags": []
      },
      "outputs": [],
      "source": [
        "display(pd.DataFrame(A.T.tolist()).set_axis(['옥순(IN)','영자(IS)','정숙(I?)','영숙(EN)','순자(ES)','현숙(E?)']).set_axis(['IE성향','NS성향'],axis=1))\n",
        "display(pd.DataFrame(B.T.tolist()).set_axis(['영식(IN)','영철(IS)','영호(IN)','광수(ES)','상철(EN)','영수(ES)']).set_axis(['IE성향','NS성향'],axis=1))"
      ],
      "id": "ca2024ec-724e-45db-b9c6-ba34fd4c42df"
    },
    {
      "cell_type": "markdown",
      "metadata": {},
      "source": [
        "—이런식으로?—\n",
        "\n",
        "|  W   |  M   | W_MBTI := ${\\boldsymbol a}_{W}^T$ | M_MBTI := ${\\boldsymbol b}_{M}^T$ | yhat |  y  |\n",
        "|:----------:|:----------:|:----------:|:----------:|:----------:|:----------:|\n",
        "| 옥순 | 영식 |           \\[1.9, 0.0\\]            |           \\[2.0, 0.1\\]            | 3.8  | 3.9 |\n",
        "| 옥순 | 영철 |           \\[1.9, 0.0\\]            |           \\[1.9, 0.2\\]            | 3.6  | 4.1 |\n",
        "| 옥순 | 광수 |           \\[1.9, 0.0\\]            |           \\[0.3, 2.1\\]            | 0.57 | 0.5 |\n",
        "| 옥순 | 상철 |           \\[1.9, 0.0\\]            |           \\[0.2, 2.0\\]            | 0.38 | 0.3 |\n",
        "|  …   |  …   |                 …                 |                 …                 |  …   |  …  |\n",
        "| 현숙 | 영철 |           \\[0.0, 1.5\\]            |           \\[1.9, 0.2\\]            | 0.3  | 0.2 |\n",
        "| 현숙 | 영호 |           \\[0.0, 1.5\\]            |           \\[1.8, 0.3\\]            | 0.45 | 0.2 |\n",
        "| 현숙 | 상철 |           \\[0.0, 1.5\\]            |           \\[0.2, 2.0\\]            | 3.0  | 0.2 |\n",
        "| 현숙 | 영수 |           \\[0.0, 1.5\\]            |           \\[0.1, 1.9\\]            | 2.85 | 0.2 |\n",
        "\n",
        "`-` 이렇게 정리하면 `yhat` $\\approx$ `y` 를 만족하도록 하면 된다.\n",
        "\n",
        "-   `yhat`은 어떻게 구하지? `(W_MBTI * M_MBTI).sum()`?\n",
        "-   그럼 `W_IE`,`M_IE`는 어떻게 구하지?? 생각해보니까 데이터에서\n",
        "    주어진건 아니잖아\n",
        "\n",
        "`-` `W_IE`,`M_IE` 를 어떻게 만들지?\n",
        "\n",
        "-   그전엔 어떻게 했지?? `W`을 보고 적당히 특징을 상상하고 `W_IE`를\n",
        "    때려넣음 + `M`를 보고 적당히 특징을 상상하고 `M_IE`를 넣음.\n",
        "-   자동화하려면? `W` $\\to$ `W_IE` 인 함수를 만들고 `M` $\\to$ `M_IE` 인\n",
        "    함수를 만들자.\n",
        "\n",
        "`-` 앞으로 할일1: `W` $\\to$ `W_IE` 인 함수를 만들고 `M` $\\to$ `M_IE` 인\n",
        "함수를 만들자. 즉\n",
        "\n",
        "-   옥순 $\\to$ 1.9, 0.0\n",
        "-   영자 $\\to$ 2.0, 0.1 …\n",
        "-   현숙 $\\to$ 0.0, 1.5\n",
        "\n",
        "로 가는 함수를 하나 구현하고\n",
        "\n",
        "-   영식 $\\to$ 2.0, 0.1\n",
        "-   영철 $\\to$ 1.9, 0.2 …\n",
        "-   영수 $\\to$ 0.1, 1.9\n",
        "\n",
        "를 와 같은 함수도 하나 구현한다.\n",
        "\n",
        "`-` 앞으로 할일2: 우리가 익숙한 셋팅 (step1~4)\n",
        "\n",
        "1.  `W_IE`, `M_IE` $\\to$ `yhat` 를 수행\n",
        "2.  `y` $\\approx$ `yhat` 인지 체크: `loss = loss_fn(yhat,y)`\n",
        "3.  `loss.backward()`\n",
        "4.  더 나은 `W_IE`, `M_IE` 가 생기도록 update\n",
        "\n",
        "## C. 할일1: `W` $\\to$ `W_IE`, `M` $\\to$ `M_IE` 의 구현\n",
        "\n",
        "`-` dataframe의 변형"
      ],
      "id": "90f9eb6c-d4b9-4cd5-95ab-1240f4350c93"
    },
    {
      "cell_type": "code",
      "execution_count": 37,
      "metadata": {
        "tags": []
      },
      "outputs": [],
      "source": [
        "df = df_view.stack().reset_index().set_axis(['W','M','y'],axis=1)\n",
        "df[:5]"
      ],
      "id": "2148df47-d9f0-4216-b4b5-54c0d141ba64"
    },
    {
      "cell_type": "markdown",
      "metadata": {},
      "source": [
        "`-` 이름을 숫자화"
      ],
      "id": "9720e356-f1f7-4c5e-b616-805e7da94d6b"
    },
    {
      "cell_type": "code",
      "execution_count": 38,
      "metadata": {
        "tags": []
      },
      "outputs": [],
      "source": [
        "w = {'옥순(IN)':0, '영자(IS)':1, '정숙(I?)':2, '영숙(EN)':3, '순자(ES)':4, '현숙(E?)':5}\n",
        "m = {'영식(IN)':0, '영철(IS)':1, '영호(IN)':2, '광수(ES)':3, '상철(EN)':4, '영수(ES)':5}"
      ],
      "id": "75a555d0-cac7-4077-866c-3693e643a0e8"
    },
    {
      "cell_type": "code",
      "execution_count": 39,
      "metadata": {
        "tags": []
      },
      "outputs": [],
      "source": [
        "df['X1'] = df['W'].map(w)\n",
        "df['X2'] = df['M'].map(m)\n",
        "df[:5]"
      ],
      "id": "b279a1ee-3ee7-4dea-92fc-fc711b93d61b"
    },
    {
      "cell_type": "markdown",
      "metadata": {},
      "source": [
        "`-` 텐서화 + one_hot-인코딩"
      ],
      "id": "668c82d5-997b-44a5-9e4d-ef92046fcd67"
    },
    {
      "cell_type": "code",
      "execution_count": 40,
      "metadata": {
        "tags": []
      },
      "outputs": [],
      "source": [
        "y = torch.tensor(df['y']).float().reshape(-1,1)\n",
        "E1 = torch.nn.functional.one_hot(torch.tensor(df['X1'])).float()\n",
        "E2 = torch.nn.functional.one_hot(torch.tensor(df['X2'])).float()\n",
        "print(f'y.shape: {y.shape}')\n",
        "print(f'E1.shape: {E1.shape} // 이때 {E1.shape[-1]}은 여성참가자의 수')\n",
        "print(f'E2.shape: {E2.shape} // 이때 {E2.shape[-1]}은 남성참가자의 수')"
      ],
      "id": "c8ff8904-c747-4fff-a8aa-caa5e6c953de"
    },
    {
      "cell_type": "markdown",
      "metadata": {},
      "source": [
        "`-` `X1` -\\> `X1_IE`, `X2` -\\> `X2_IE` 인 변환구현"
      ],
      "id": "f6a98c1c-151c-4043-95ea-7759c12eaac1"
    },
    {
      "cell_type": "code",
      "execution_count": 41,
      "metadata": {
        "tags": []
      },
      "outputs": [],
      "source": [
        "torch.manual_seed(43052)\n",
        "l1 = torch.nn.Linear(in_features=6, out_features=2)\n",
        "l2 = torch.nn.Linear(in_features=6, out_features=2)\n",
        "W_IE = l1(E1) # W_IE = l1(onehot(X1))\n",
        "M_IE = l2(E2) # M_IE = l2(onehot(X2))"
      ],
      "id": "b8391d8a-dbfd-476d-bda6-374b74b733a7"
    },
    {
      "cell_type": "code",
      "execution_count": 42,
      "metadata": {
        "tags": []
      },
      "outputs": [],
      "source": [
        "W_IE[::5], M_IE[::5]"
      ],
      "id": "c00cc499-92d1-4992-87d4-27f2284d12c6"
    },
    {
      "cell_type": "markdown",
      "metadata": {},
      "source": [
        "## D. 할일2: step1~4 수행\n",
        "\n",
        "`-` step1: yhat을 구하자."
      ],
      "id": "5a09de11-27b9-4c31-a179-f125f146837c"
    },
    {
      "cell_type": "code",
      "execution_count": 43,
      "metadata": {
        "tags": []
      },
      "outputs": [],
      "source": [
        "W_IE[::5] # 여성참가자의 성향들 "
      ],
      "id": "cca7c6e4-d5f0-472c-bb66-ce56f8611bae"
    },
    {
      "cell_type": "code",
      "execution_count": 44,
      "metadata": {
        "tags": []
      },
      "outputs": [],
      "source": [
        "M_IE[::5] # 남성참가자의 성향들"
      ],
      "id": "c5c9d34b-9961-4fed-8944-950d506b3f4a"
    },
    {
      "cell_type": "code",
      "execution_count": 45,
      "metadata": {
        "tags": []
      },
      "outputs": [],
      "source": [
        "(-0.4139 * 0.5298) + (0.2151 * 0.1328) # 궁합을 의미하는 값 "
      ],
      "id": "5fccc718-511f-4f94-a478-29ce8eae2f2c"
    },
    {
      "cell_type": "code",
      "execution_count": 46,
      "metadata": {
        "tags": []
      },
      "outputs": [],
      "source": [
        "(W_IE * M_IE).sum(axis=1).reshape(-1,1)[::5]"
      ],
      "id": "aa7c4261-adaa-4a95-a9b9-4b9db2934d8d"
    },
    {
      "cell_type": "markdown",
      "metadata": {},
      "source": [
        "출력결과를 0~5사이로 맞춰주자."
      ],
      "id": "9693f4dc-385c-4645-9f72-3c538b9e9922"
    },
    {
      "cell_type": "code",
      "execution_count": 47,
      "metadata": {
        "tags": []
      },
      "outputs": [],
      "source": [
        "sig = torch.nn.Sigmoid()\n",
        "yhat = sig((W_IE * M_IE).sum(axis=1).reshape(-1,1))*5\n",
        "yhat"
      ],
      "id": "282459e5-9dd7-4978-bb91-bedf8dcea161"
    },
    {
      "cell_type": "markdown",
      "metadata": {},
      "source": [
        "`-` step2: 손실계산"
      ],
      "id": "d829ca52-fdf9-43f0-9365-e39f1b277813"
    },
    {
      "cell_type": "code",
      "execution_count": 48,
      "metadata": {
        "tags": []
      },
      "outputs": [],
      "source": [
        "loss_fn = torch.nn.MSELoss()\n",
        "loss = loss_fn(yhat,y)"
      ],
      "id": "18614713-76f7-4a54-a233-98289c3bcdc8"
    },
    {
      "cell_type": "markdown",
      "metadata": {},
      "source": [
        "`-` step3: 미분"
      ],
      "id": "b0327963-928b-4b7d-aa2a-453343d00d2d"
    },
    {
      "cell_type": "code",
      "execution_count": 49,
      "metadata": {
        "tags": []
      },
      "outputs": [],
      "source": [
        "l1.weight.data,l1.bias.data,l2.weight.data,l2.bias.data"
      ],
      "id": "54ee770b-bcf6-4069-87af-704fe9248c3f"
    },
    {
      "cell_type": "code",
      "execution_count": 50,
      "metadata": {
        "tags": []
      },
      "outputs": [],
      "source": [
        "l1.weight.grad,l1.bias.grad,l2.weight.grad,l2.bias.grad "
      ],
      "id": "2f6fa3cf-9dd3-49b4-9183-0d47ab236f49"
    },
    {
      "cell_type": "code",
      "execution_count": 51,
      "metadata": {
        "tags": []
      },
      "outputs": [],
      "source": [
        "loss.backward()"
      ],
      "id": "de90f4e7-9156-48cd-9be5-5475772114fc"
    },
    {
      "cell_type": "code",
      "execution_count": 52,
      "metadata": {
        "tags": []
      },
      "outputs": [],
      "source": [
        "l1.weight.data,l1.bias.data,l2.weight.data,l2.bias.data"
      ],
      "id": "164ba1e9-1c94-4bd2-88eb-66c44f32f546"
    },
    {
      "cell_type": "code",
      "execution_count": 53,
      "metadata": {
        "tags": []
      },
      "outputs": [],
      "source": [
        "l1.weight.grad,l1.bias.grad,l2.weight.grad,l2.bias.grad "
      ],
      "id": "2dd82f5b-eb68-4f71-ba59-c04e252f3c8c"
    },
    {
      "cell_type": "markdown",
      "metadata": {},
      "source": [
        "`-` step4: update"
      ],
      "id": "17d7dffc-5d74-4af5-a2ee-b15610b8be76"
    },
    {
      "cell_type": "code",
      "execution_count": 54,
      "metadata": {
        "tags": []
      },
      "outputs": [],
      "source": [
        "optimizr = torch.optim.Adam(list(l1.parameters())+list(l2.parameters()))\n",
        "optimizr.step()"
      ],
      "id": "8c7dcb39-516d-43f4-b203-db6a109d2c74"
    },
    {
      "cell_type": "code",
      "execution_count": 55,
      "metadata": {
        "tags": []
      },
      "outputs": [],
      "source": [
        "l1.weight.data,l1.bias.data,l2.weight.data,l2.bias.data"
      ],
      "id": "2c6e5271-5daf-4b4f-baa9-81c7866a7dc8"
    },
    {
      "cell_type": "code",
      "execution_count": 56,
      "metadata": {
        "tags": []
      },
      "outputs": [],
      "source": [
        "l1.weight.grad,l1.bias.grad,l2.weight.grad,l2.bias.grad "
      ],
      "id": "54970809-5f7e-4047-b7ac-8b5f21b5db69"
    },
    {
      "cell_type": "code",
      "execution_count": 57,
      "metadata": {
        "tags": []
      },
      "outputs": [],
      "source": [
        "optimizr.zero_grad()"
      ],
      "id": "74973a87-f260-4cf6-a1e7-a964fad656fd"
    },
    {
      "cell_type": "code",
      "execution_count": 58,
      "metadata": {
        "tags": []
      },
      "outputs": [],
      "source": [
        "l1.weight.data,l1.bias.data,l2.weight.data,l2.bias.data"
      ],
      "id": "a7f76a55-cde0-428d-ba1f-3f589b6376cf"
    },
    {
      "cell_type": "code",
      "execution_count": 59,
      "metadata": {
        "tags": []
      },
      "outputs": [],
      "source": [
        "l1.weight.grad,l1.bias.grad,l2.weight.grad,l2.bias.grad "
      ],
      "id": "015456f4-a8fa-4ff9-a796-e5da8cdd6940"
    },
    {
      "cell_type": "markdown",
      "metadata": {},
      "source": [
        "# 5. 추천시스템의 학습\n",
        "\n",
        "## A. Bias를 고려하지 않은 구현\n",
        "\n",
        "`-` 데이터를 불러오기"
      ],
      "id": "d324c597-330e-4f9a-9b4e-44b15cd69b80"
    },
    {
      "cell_type": "code",
      "execution_count": 384,
      "metadata": {
        "tags": []
      },
      "outputs": [],
      "source": [
        "pd.read_csv('solo1.csv',index_col=0)"
      ],
      "id": "53c70d9f-75db-4fa5-ac2d-205af1bf50ce"
    },
    {
      "cell_type": "code",
      "execution_count": 385,
      "metadata": {
        "tags": []
      },
      "outputs": [],
      "source": [
        "#df_view = pd.read_csv('https://raw.githubusercontent.com/guebin/STML2022/main/posts/V.%20RecSys/2022-12-21-rcmdsolo.csv',index_col=0)\n",
        "df = df_view.stack().reset_index().set_axis(['W','M','y'],axis=1)\n",
        "w = {'옥순(IN)':0, '영자(IN)':1, '정숙(IS)':2, '영숙(IS)':3, '순자(EN)':4, '현숙(EN)':5, '서연(ES)':6, '보람(ES)':7, '하니(I)':8}\n",
        "m = {'영식(IN)':0, '영철(IN)':1, '영호(IS)':2, '광수(IS)':3, '상철(EN)':4, '영수(EN)':5, '규빈(ES)':6, '다호(ES)':7}\n",
        "X1 = torch.tensor(df['W'].map(w)) # length-n vector \n",
        "X2 = torch.tensor(df['M'].map(m)) # length-n vector \n",
        "E1 = torch.nn.functional.one_hot(X1).float()\n",
        "E2 = torch.nn.functional.one_hot(X2).float()\n",
        "y = torch.tensor(df['y']).float().reshape(-1,1)"
      ],
      "id": "f44dd4cf-7db1-4870-b8da-9c29696c40cb"
    },
    {
      "cell_type": "markdown",
      "metadata": {},
      "source": [
        "`-` 데이터의 차원 및 dtype가 헷갈릴수 있는데 아래와 같이 되어있어야한다."
      ],
      "id": "e822fbf8-611b-4978-a2e5-e0a63c5b7cc4"
    },
    {
      "cell_type": "code",
      "execution_count": 386,
      "metadata": {
        "tags": []
      },
      "outputs": [
        {
          "output_type": "stream",
          "name": "stdout",
          "text": [
            "X1: shape = torch.Size([64]), dtype = torch.int64\n",
            "X2: shape = torch.Size([64]), dtype = torch.int64\n",
            "E1: shape = torch.Size([64, 9]), dtype = torch.float32\n",
            "E2: shape = torch.Size([64, 8]), dtype = torch.float32\n",
            "y: shape = torch.Size([64, 1]), dtype = torch.float32"
          ]
        }
      ],
      "source": [
        "print(f\"X1: shape = {X1.shape}, dtype = {X1.dtype}\") # one-hot 인코딩 넣을거라서.. lenght-n 벡터로\n",
        "print(f\"X2: shape = {X2.shape}, dtype = {X2.dtype}\") # one-hot 인코딩 넣을거라서.. lenght-n 벡터로\n",
        "print(f\"E1: shape = {E1.shape}, dtype = {E1.dtype}\") # one-hot 인코딩 처리된 X1\n",
        "print(f\"E2: shape = {E2.shape}, dtype = {E2.dtype}\") # one-hot 인코딩 처리된 X2\n",
        "print(f\"y: shape = {y.shape}, dtype = {y.dtype}\")"
      ],
      "id": "de6cbdca-32ec-4ede-94fc-b89231cb859f"
    },
    {
      "cell_type": "markdown",
      "metadata": {},
      "source": [
        "`-` 학습"
      ],
      "id": "b30709ed-456a-4dfc-8487-4cb5c673169e"
    },
    {
      "cell_type": "code",
      "execution_count": 424,
      "metadata": {
        "tags": []
      },
      "outputs": [],
      "source": [
        "# \n",
        "l1 = torch.nn.Linear(in_features=9,out_features=2)\n",
        "l2 = torch.nn.Linear(in_features=8,out_features=2)\n",
        "sig = torch.nn.Sigmoid()\n",
        "loss_fn = torch.nn.MSELoss()\n",
        "optimizr = torch.optim.Adam(\n",
        "    list(l1.parameters())+list(l2.parameters()),\n",
        "    lr = 0.1\n",
        ")\n",
        "#---#\n",
        "#torch.manual_seed(0)\n",
        "for epoc in range(3000):\n",
        "    ## step1 \n",
        "    W_features = l1(E1) # W_features = l1(E1)\n",
        "    M_features = l2(E2) # M_features = l1(E1)\n",
        "    score = (W_features * M_features).sum(axis=1)\n",
        "    yhat = sig(score).reshape(-1,1)*5\n",
        "    ## step2 \n",
        "    loss = loss_fn(yhat,y)\n",
        "    ## step3 \n",
        "    loss.backward()\n",
        "    ## step4 \n",
        "    optimizr.step()\n",
        "    optimizr.zero_grad()"
      ],
      "id": "496c7cfa-b41c-4e8d-b51a-8b0f02e249a4"
    },
    {
      "cell_type": "markdown",
      "metadata": {},
      "source": [
        "`-` 학습된결과"
      ],
      "id": "893acf68-1838-4227-b4d2-553de2d441ed"
    },
    {
      "cell_type": "code",
      "execution_count": 425,
      "metadata": {
        "tags": []
      },
      "outputs": [],
      "source": [
        "df_ebdspace = pd.DataFrame(torch.concat([W_features.data, M_features.data, W_features.data*M_features.data],axis=1))\n",
        "df_ebdspace.columns = ['여성잠재특징1','여성잠재특징2','남성잠재특징1','남성잠재특징2','여성잠재특징1*남성잠재특징1','여성잠재특징2*남성잠재특징2']\n",
        "df_yhat = pd.DataFrame(yhat.data,columns=['yhat'])"
      ],
      "id": "beb462d4-3e25-4b84-a0cc-bac7618d101f"
    },
    {
      "cell_type": "code",
      "execution_count": 426,
      "metadata": {
        "tags": []
      },
      "outputs": [],
      "source": [
        "df_result = pd.concat([df,df_yhat,df_ebdspace],axis=1)\n",
        "df_result[:56]"
      ],
      "id": "c482fcc9-e60a-425e-8d05-2d0b6dd7063c"
    },
    {
      "cell_type": "markdown",
      "metadata": {},
      "source": [
        "## B. Bias를 고려한 구현"
      ],
      "id": "0cc80669-82e6-42a1-a5c1-467b007a6815"
    },
    {
      "cell_type": "code",
      "execution_count": 427,
      "metadata": {
        "tags": []
      },
      "outputs": [],
      "source": [
        "df_view = pd.read_csv('solo1.csv',index_col=0)"
      ],
      "id": "bb21b4f4-b583-40ca-8811-44da202388a5"
    },
    {
      "cell_type": "code",
      "execution_count": 428,
      "metadata": {
        "tags": []
      },
      "outputs": [],
      "source": [
        "df_view = pd.read_csv('solo1.csv',index_col=0)\n",
        "df_view"
      ],
      "id": "133bbe2c-e1e1-4519-a419-c2ca1989ec75"
    },
    {
      "cell_type": "code",
      "execution_count": 440,
      "metadata": {
        "tags": []
      },
      "outputs": [],
      "source": [
        "#df_view = pd.read_csv('https://raw.githubusercontent.com/guebin/DL2024/main/posts/solo.csv',index_col=0)\n",
        "df_view = pd.read_csv('solo1.csv',index_col=0)\n",
        "df = df_view.stack().reset_index().set_axis(['W','M','y'],axis=1)\n",
        "w = {'옥순(IN)':0, '영자(IN)':1, '정숙(IS)':2, '영숙(IS)':3, '순자(EN)':4, '현숙(EN)':5, '서연(ES)':6, '보람(ES)':7, '하니(I)':8}\n",
        "m = {'영식(IN)':0, '영철(IN)':1, '영호(IS)':2, '광수(IS)':3, '상철(EN)':4, '영수(EN)':5, '규빈(ES)':6, '다호(ES)':7}\n",
        "X1 = torch.tensor(df['W'].map(w)) # length-n vector \n",
        "X2 = torch.tensor(df['M'].map(m)) # length-n vector \n",
        "E1 = torch.nn.functional.one_hot(X1).float()\n",
        "E2 = torch.nn.functional.one_hot(X2).float()\n",
        "y = torch.tensor(df['y']).float().reshape(-1,1)\n",
        "#--#\n",
        "torch.manual_seed(0)\n",
        "l1 = torch.nn.Linear(in_features=9,out_features=2,bias=False)\n",
        "b1 = torch.nn.Linear(in_features=9,out_features=1,bias=False)\n",
        "l2 = torch.nn.Linear(in_features=8,out_features=2,bias=False)\n",
        "b2 = torch.nn.Linear(in_features=8,out_features=1,bias=False)\n",
        "sig = torch.nn.Sigmoid()\n",
        "loss_fn = torch.nn.MSELoss()\n",
        "optimizr = torch.optim.Adam(\n",
        "    list(l1.parameters())+list(l2.parameters())+list(b1.parameters())+list(b2.parameters()),\n",
        "    lr=0.1\n",
        ")\n",
        "#--#\n",
        "for epoc in range(100):\n",
        "    ## step1 \n",
        "    W_features = l1(E1) \n",
        "    W_bias = b1(E1)\n",
        "    M_features = l2(E2) \n",
        "    M_bias = b2(E2)\n",
        "    dot = (W_features * M_features + W_bias + M_bias).sum(axis=1)\n",
        "    yhat = sig(dot).reshape(-1,1) * 5\n",
        "    ## step2 \n",
        "    loss = loss_fn(yhat,y)\n",
        "    ## step3 \n",
        "    loss.backward()\n",
        "    ## step4 \n",
        "    optimizr.step()\n",
        "    optimizr.zero_grad()"
      ],
      "id": "34694bd1-fc74-4927-806c-23fdc931cb7b"
    },
    {
      "cell_type": "code",
      "execution_count": 441,
      "metadata": {
        "tags": []
      },
      "outputs": [],
      "source": [
        "df_view"
      ],
      "id": "f9172ac3-1a80-4bb9-9679-c0085412905b"
    },
    {
      "cell_type": "code",
      "execution_count": 444,
      "metadata": {
        "tags": []
      },
      "outputs": [
        {
          "output_type": "stream",
          "name": "stdout",
          "text": [
            "tensor(0.0080, grad_fn=<MseLossBackward0>)"
          ]
        }
      ],
      "source": [
        "df_ebdspace = pd.DataFrame(torch.concat([W_features.data*M_features.data,W_bias.data, M_bias.data],axis=1))\n",
        "df_ebdspace.columns = ['잠재특징1궁합','잠재특징2궁합','여성바이어스','남성바이어스']\n",
        "#df_ebdspace.columns = ['여성잠재특징','여성바이어스','남성잠재특징','남성바이어스']\n",
        "df_yhat = pd.DataFrame(yhat.data,columns=['yhat'])\n",
        "print(loss)\n",
        "pd.concat([df,df_yhat,df_ebdspace],axis=1)[:57]"
      ],
      "id": "de49800a-7972-4d6c-ad0a-ccd5e19ce680"
    },
    {
      "cell_type": "markdown",
      "metadata": {},
      "source": [
        "`-` 예측: bias가 좀 더 반영된 느낌"
      ],
      "id": "8b0196a2-c230-4a27-9a22-52506f252652"
    },
    {
      "cell_type": "code",
      "execution_count": 348,
      "metadata": {
        "tags": []
      },
      "outputs": [],
      "source": [
        "# js_onehot = torch.tensor([[0., 0., 1., 0., 0., 0.]])\n",
        "# ys_onehot = torch.tensor([[1., 0., 0., 0., 0., 0.]])\n",
        "score = (l1(js_onehot) * l2(ys_onehot) + b1(js_onehot) + b2(ys_onehot)).sum(axis=1) \n",
        "sig(score)*10"
      ],
      "id": "8609c8fb-615a-4a75-84eb-f3c1d31915d3"
    },
    {
      "cell_type": "code",
      "execution_count": 349,
      "metadata": {
        "tags": []
      },
      "outputs": [],
      "source": [
        "# hs_onehot = torch.tensor([[0., 0., 0., 0., 0., 1.]])\n",
        "# ys_onehot = torch.tensor([[1., 0., 0., 0., 0., 0.]])\n",
        "score = (l1(hs_onehot) * l2(ys_onehot) + b1(hs_onehot) + b2(ys_onehot)).sum(axis=1) \n",
        "sig(score)*10"
      ],
      "id": "3d38331e-8e93-4293-997d-b49694581d41"
    },
    {
      "cell_type": "markdown",
      "metadata": {},
      "source": [
        "## C. 은닉층의 해석"
      ],
      "id": "eba6529c-b5ec-4ee2-a53a-824c6cfa00f2"
    }
  ],
  "nbformat": 4,
  "nbformat_minor": 5,
  "metadata": {
    "kernelspec": {
      "name": "python3",
      "display_name": "Python 3 (ipykernel)",
      "language": "python"
    },
    "language_info": {
      "name": "python",
      "codemirror_mode": {
        "name": "ipython",
        "version": "3"
      },
      "file_extension": ".py",
      "mimetype": "text/x-python",
      "nbconvert_exporter": "python",
      "pygments_lexer": "ipython3",
      "version": "3.11.8"
    }
  }
}