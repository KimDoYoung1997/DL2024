{
  "cells": [
    {
      "cell_type": "markdown",
      "metadata": {},
      "source": [
        "# 09wk-2: 중간고사\n",
        "\n",
        "최규빈  \n",
        "2024-05-01\n",
        "\n",
        "# 6. 나는 SOLO – 5의 다른구현 (torch)\n",
        "\n",
        "## A. 임베딩레이어 이용"
      ],
      "id": "ae23716b-7b98-4ad2-9ae4-cef86ab40bae"
    },
    {
      "cell_type": "code",
      "execution_count": 172,
      "metadata": {
        "tags": []
      },
      "outputs": [],
      "source": [
        "#df_view = pd.read_csv('https://raw.githubusercontent.com/guebin/DL2024/main/posts/solo.csv',index_col=0)\n",
        "df = df_view.stack().reset_index().set_axis(['W','M','y'],axis=1)\n",
        "w = {'옥순':0, '영자':1, '정숙':2, '영숙':3, '순자':4, '현숙':5}\n",
        "m = {'영식':0, '영철':1, '영호':2, '광수':3, '상철':4, '영수':5}\n",
        "X1 = torch.tensor(df['W'].map(w)) # length-n vector \n",
        "X2 = torch.tensor(df['M'].map(m)) # length-n vector \n",
        "# E1 = torch.nn.functional.one_hot(X1).float()\n",
        "# E2 = torch.nn.functional.one_hot(X2).float()\n",
        "y = torch.tensor(df['y']).float().reshape(-1,1)"
      ],
      "id": "3dda2b34-80d2-495f-aa65-94e420733ec9"
    },
    {
      "cell_type": "code",
      "execution_count": 178,
      "metadata": {
        "tags": []
      },
      "outputs": [],
      "source": [
        "#--#\n",
        "torch.manual_seed(43052)\n",
        "e1 = torch.nn.Embedding(num_embeddings=6,embedding_dim=2)\n",
        "b1 = torch.nn.Embedding(num_embeddings=6,embedding_dim=1)\n",
        "e2 = torch.nn.Embedding(num_embeddings=6,embedding_dim=2)\n",
        "b2 = torch.nn.Embedding(num_embeddings=6,embedding_dim=1)\n",
        "sig = torch.nn.Sigmoid()\n",
        "loss_fn = torch.nn.MSELoss()\n",
        "optimizr = torch.optim.Adam(\n",
        "    list(e1.parameters())+list(e2.parameters())+list(b1.parameters())+list(b2.parameters()),\n",
        "    lr = 0.01\n",
        ")\n",
        "#--#\n",
        "for epoc in range(300):\n",
        "    ## step1 \n",
        "    W_features = e1(X1) \n",
        "    W_bias = b1(X1)\n",
        "    M_features = e2(X2) \n",
        "    M_bias = b2(X2)\n",
        "    dot = (W_features * M_features + W_bias + M_bias).sum(axis=1)\n",
        "    yhat = (sig(dot)*5).reshape(-1,1)\n",
        "    ## step2 \n",
        "    loss = loss_fn(yhat,y)\n",
        "    ## step3 \n",
        "    loss.backward()\n",
        "    ## step4 \n",
        "    optimizr.step()\n",
        "    optimizr.zero_grad()"
      ],
      "id": "8c7da9c1-6e2c-4bd0-b9fd-0bc62b269669"
    },
    {
      "cell_type": "code",
      "execution_count": 179,
      "metadata": {
        "tags": []
      },
      "outputs": [],
      "source": [
        "df_ebdspace = pd.DataFrame(torch.concat([W_features.data,W_bias.data, M_features.data, M_bias.data],axis=1))\n",
        "df_ebdspace.columns = ['여성잠재특징1','여성잠재특징2','여성바이어스','남성잠재특징1','남성잠재특징2','남성바이어스']\n",
        "df_yhat = pd.DataFrame(yhat.data,columns=['yhat'])\n",
        "pd.concat([df,df_yhat,df_ebdspace],axis=1)"
      ],
      "id": "ab8d061a-cc3e-4658-a76f-9610fb298960"
    },
    {
      "cell_type": "markdown",
      "metadata": {},
      "source": [
        "## B. net이용\n",
        "\n",
        "# 7. 나는 SOLO – 5의 다른구현 (fastai)\n",
        "\n",
        "## A. 코딩.."
      ],
      "id": "d7fcf6c4-6d25-4160-a70c-6c11348dd7ea"
    },
    {
      "cell_type": "code",
      "execution_count": 800,
      "metadata": {
        "tags": []
      },
      "outputs": [],
      "source": [
        "dls = fastai.collab.CollabDataLoaders.from_df(df,bs=2,valid_pct = 2/24)\n",
        "lrnr = fastai.collab.collab_learner(dls, n_factors=2, y_range=(0,5))\n",
        "lrnr.fit(30,lr=0.1)"
      ],
      "id": "9ce41559-7b7c-4ca1-9aea-f66063d1ccf8"
    },
    {
      "cell_type": "markdown",
      "metadata": {},
      "source": [
        "`-` 예측"
      ],
      "id": "3e31a87b-1773-48d8-8f8f-2c92614ed83b"
    },
    {
      "cell_type": "code",
      "execution_count": 806,
      "metadata": {
        "tags": []
      },
      "outputs": [],
      "source": [
        "df_test = pd.DataFrame({'W':['정숙']*6, 'M':['영식','영철','영호','광수','상철','영수']})\n",
        "df_test"
      ],
      "id": "5728dd67-24ee-43b7-bb71-880666e7eafd"
    },
    {
      "cell_type": "code",
      "execution_count": 819,
      "metadata": {
        "tags": []
      },
      "outputs": [],
      "source": [
        "yhat,_ = lrnr.get_preds(dl = dls.test_dl(df_test))\n",
        "df_test.assign(yhat = yhat)"
      ],
      "id": "1fd62382-06ba-469c-9e29-7f8f40297083"
    },
    {
      "cell_type": "markdown",
      "metadata": {},
      "source": [
        "-   적절해보임\n",
        "\n",
        "## B. `fastai` 의 net, loss 등을 구경"
      ],
      "id": "5ae3e29d-d528-4d6d-a35b-b4defc135fe2"
    },
    {
      "cell_type": "code",
      "execution_count": 823,
      "metadata": {
        "tags": []
      },
      "outputs": [],
      "source": [
        "lrnr.model"
      ],
      "id": "b1d159f6-559d-4031-ad6f-19a03d8e0111"
    },
    {
      "cell_type": "code",
      "execution_count": 824,
      "metadata": {
        "tags": []
      },
      "outputs": [],
      "source": [
        "lrnr.forward?? "
      ],
      "id": "509a03d6-201b-4137-9282-d43a50c94cce"
    },
    {
      "cell_type": "markdown",
      "metadata": {},
      "source": [
        "-   우리가 만든 모델이랑 같음!"
      ],
      "id": "961403a2-fec1-4c26-a0d6-eba6290c1402"
    },
    {
      "cell_type": "code",
      "execution_count": 826,
      "metadata": {
        "tags": []
      },
      "outputs": [],
      "source": [
        "lrnr.loss_func "
      ],
      "id": "0b93f7a4-5a96-4271-91fd-8c7592638e7e"
    }
  ],
  "nbformat": 4,
  "nbformat_minor": 5,
  "metadata": {
    "kernelspec": {
      "name": "python3",
      "display_name": "Python 3 (ipykernel)",
      "language": "python"
    },
    "language_info": {
      "name": "python",
      "codemirror_mode": {
        "name": "ipython",
        "version": "3"
      },
      "file_extension": ".py",
      "mimetype": "text/x-python",
      "nbconvert_exporter": "python",
      "pygments_lexer": "ipython3",
      "version": "3.11.8"
    }
  }
}