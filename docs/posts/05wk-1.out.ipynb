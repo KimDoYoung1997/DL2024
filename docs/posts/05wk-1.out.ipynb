{
  "cells": [
    {
      "cell_type": "markdown",
      "metadata": {},
      "source": [
        "# 05wk-1: 깊은신경망 (4) – GPU 사용법, SGD, Softmax와 CrossEntropy\n",
        "\n",
        "최규빈  \n",
        "2024-04-01\n",
        "\n",
        "<a href=\"https://colab.research.google.com/github/guebin/DL2024/blob/main/posts/05wk-1.ipynb\"><img src=\"https://colab.research.google.com/assets/colab-badge.svg\" style=\"text-align: left\"></a>\n",
        "\n",
        "# 1. 강의영상"
      ],
      "id": "8d391dbe-fdcf-4399-994e-b5e4b546b880"
    },
    {
      "cell_type": "code",
      "execution_count": 1,
      "metadata": {
        "tags": []
      },
      "outputs": [],
      "source": [
        "#{{<video https://youtu.be/playlist?list=PLQqh36zP38-wHAizLm_MYaUweataauffD&si=U5TXo5UgkRGc6a-F >}}"
      ],
      "id": "df00dc1a-14ec-4073-b40d-836a31ac908c"
    },
    {
      "cell_type": "markdown",
      "metadata": {},
      "source": [
        "# 2. Imports"
      ],
      "id": "8a55f866-6caf-410f-8036-5d16a745f9f8"
    },
    {
      "cell_type": "code",
      "execution_count": 2,
      "metadata": {
        "tags": []
      },
      "outputs": [],
      "source": [
        "import torch\n",
        "import matplotlib.pyplot as plt\n",
        "from fastai.data.all import *\n",
        "import torchvision"
      ],
      "id": "a84306e3-564a-472e-ae0a-5322379da476"
    },
    {
      "cell_type": "markdown",
      "metadata": {},
      "source": [
        "# 3. CPU vs GPU\n",
        "\n",
        "`-` 파이토치에서 GPU를 쓰는 방법을 알아보자. (사실 지금까지 우리는 CPU만\n",
        "쓰고 있었음)\n",
        "\n",
        "## A. GPU 사용방법\n",
        "\n",
        "`-` cpu 연산이 가능한 메모리에 데이터 저장"
      ],
      "id": "1084bfc9-6b24-4537-b40a-0b241c361a8a"
    },
    {
      "cell_type": "code",
      "execution_count": 3,
      "metadata": {
        "tags": []
      },
      "outputs": [],
      "source": [
        "torch.manual_seed(43052)\n",
        "x_cpu = torch.tensor([0.0,0.1,0.2]).reshape(-1,1) \n",
        "y_cpu = torch.tensor([0.0,0.2,0.4]).reshape(-1,1) \n",
        "net_cpu = torch.nn.Linear(1,1) "
      ],
      "id": "3d54e22e-e238-4206-a7b6-ad0a42ea3048"
    },
    {
      "cell_type": "markdown",
      "metadata": {},
      "source": [
        "`-` gpu 연산이 가능한 메모리에 데이터 저장"
      ],
      "id": "020b230a-7241-488e-a213-3c97bb6c7520"
    },
    {
      "cell_type": "code",
      "execution_count": 4,
      "metadata": {
        "tags": []
      },
      "outputs": [
        {
          "output_type": "stream",
          "name": "stdout",
          "text": [
            "Mon Apr  1 12:48:31 2024       \n",
            "+---------------------------------------------------------------------------------------+\n",
            "| NVIDIA-SMI 535.161.07             Driver Version: 535.161.07   CUDA Version: 12.2     |\n",
            "|-----------------------------------------+----------------------+----------------------+\n",
            "| GPU  Name                 Persistence-M | Bus-Id        Disp.A | Volatile Uncorr. ECC |\n",
            "| Fan  Temp   Perf          Pwr:Usage/Cap |         Memory-Usage | GPU-Util  Compute M. |\n",
            "|                                         |                      |               MIG M. |\n",
            "|=========================================+======================+======================|\n",
            "|   0  NVIDIA GeForce RTX 3090        Off | 00000000:09:00.0 Off |                  N/A |\n",
            "|  0%   36C    P8              29W / 420W |     26MiB / 24576MiB |      0%      Default |\n",
            "|                                         |                      |                  N/A |\n",
            "+-----------------------------------------+----------------------+----------------------+\n",
            "                                                                                         \n",
            "+---------------------------------------------------------------------------------------+\n",
            "| Processes:                                                                            |\n",
            "|  GPU   GI   CI        PID   Type   Process name                            GPU Memory |\n",
            "|        ID   ID                                                             Usage      |\n",
            "|=======================================================================================|\n",
            "|    0   N/A  N/A      1130      G   /usr/lib/xorg/Xorg                            9MiB |\n",
            "|    0   N/A  N/A      1209      G   /usr/bin/gnome-shell                          8MiB |\n",
            "+---------------------------------------------------------------------------------------+"
          ]
        }
      ],
      "source": [
        "!nvidia-smi # before"
      ],
      "id": "91fc404a-ec68-4306-8c44-10f453373da7"
    },
    {
      "cell_type": "code",
      "execution_count": 5,
      "metadata": {
        "tags": []
      },
      "outputs": [],
      "source": [
        "torch.manual_seed(43052)\n",
        "x_gpu = x_cpu.to(\"cuda:0\")\n",
        "y_gpu = y_cpu.to(\"cuda:0\")\n",
        "net_gpu = torch.nn.Linear(1,1).to(\"cuda:0\") "
      ],
      "id": "f22b2e9c-9e14-4ad2-84ef-8885ffcea830"
    },
    {
      "cell_type": "code",
      "execution_count": 6,
      "metadata": {
        "tags": []
      },
      "outputs": [
        {
          "output_type": "stream",
          "name": "stdout",
          "text": [
            "Mon Apr  1 12:48:39 2024       \n",
            "+---------------------------------------------------------------------------------------+\n",
            "| NVIDIA-SMI 535.161.07             Driver Version: 535.161.07   CUDA Version: 12.2     |\n",
            "|-----------------------------------------+----------------------+----------------------+\n",
            "| GPU  Name                 Persistence-M | Bus-Id        Disp.A | Volatile Uncorr. ECC |\n",
            "| Fan  Temp   Perf          Pwr:Usage/Cap |         Memory-Usage | GPU-Util  Compute M. |\n",
            "|                                         |                      |               MIG M. |\n",
            "|=========================================+======================+======================|\n",
            "|   0  NVIDIA GeForce RTX 3090        Off | 00000000:09:00.0 Off |                  N/A |\n",
            "|  0%   43C    P2             122W / 420W |    287MiB / 24576MiB |      0%      Default |\n",
            "|                                         |                      |                  N/A |\n",
            "+-----------------------------------------+----------------------+----------------------+\n",
            "                                                                                         \n",
            "+---------------------------------------------------------------------------------------+\n",
            "| Processes:                                                                            |\n",
            "|  GPU   GI   CI        PID   Type   Process name                            GPU Memory |\n",
            "|        ID   ID                                                             Usage      |\n",
            "|=======================================================================================|\n",
            "|    0   N/A  N/A      1130      G   /usr/lib/xorg/Xorg                            9MiB |\n",
            "|    0   N/A  N/A      1209      G   /usr/bin/gnome-shell                          8MiB |\n",
            "|    0   N/A  N/A    358799      C   ...b3/anaconda3/envs/dl2024/bin/python      256MiB |\n",
            "+---------------------------------------------------------------------------------------+"
          ]
        }
      ],
      "source": [
        "!nvidia-smi"
      ],
      "id": "9601e845-9a4b-4bec-9053-879be0749db5"
    },
    {
      "cell_type": "markdown",
      "metadata": {},
      "source": [
        "> GPU에 메모리를 올리면 GPU메모리가 점유된다! (26MiB -\\> 287MiB)\n",
        "\n",
        "`-` cpu 혹은 gpu 연산이 가능한 메모리에 저장된 값들을 확인"
      ],
      "id": "3bf5b45a-8995-40f4-8016-ecc17a7d022a"
    },
    {
      "cell_type": "code",
      "execution_count": 7,
      "metadata": {
        "tags": []
      },
      "outputs": [],
      "source": [
        "x_cpu, y_cpu, net_cpu.weight, net_cpu.bias"
      ],
      "id": "4ed37ca9-745f-4e78-bea6-c17993c9fcc5"
    },
    {
      "cell_type": "code",
      "execution_count": 8,
      "metadata": {
        "tags": []
      },
      "outputs": [],
      "source": [
        "x_gpu, y_gpu, net_gpu.weight, net_gpu.bias"
      ],
      "id": "ae7cb375-73ca-4bdd-a290-ecedfc2bf7c0"
    },
    {
      "cell_type": "markdown",
      "metadata": {},
      "source": [
        "`-` gpu는 gpu끼리 연산가능하고 cpu는 cpu끼리 연산가능함\n",
        "\n",
        "(예시1)"
      ],
      "id": "55d4f667-0b55-40bc-8882-a082b6d7b5cf"
    },
    {
      "cell_type": "code",
      "execution_count": 9,
      "metadata": {
        "tags": []
      },
      "outputs": [],
      "source": [
        "net_cpu(x_cpu) "
      ],
      "id": "9843f929-e8e0-46b3-a799-c99ba1e46fa3"
    },
    {
      "cell_type": "markdown",
      "metadata": {},
      "source": [
        "(예시2)"
      ],
      "id": "6e87dcfc-7f4b-4f3b-886e-c189bfcd45b3"
    },
    {
      "cell_type": "code",
      "execution_count": 10,
      "metadata": {
        "tags": []
      },
      "outputs": [],
      "source": [
        "net_gpu(x_gpu) "
      ],
      "id": "16bdd165-cb2c-4c9b-9d16-e03c2346f273"
    },
    {
      "cell_type": "markdown",
      "metadata": {},
      "source": [
        "(예시3)"
      ],
      "id": "8ee58944-1798-4258-901b-95c3b67e677a"
    },
    {
      "cell_type": "code",
      "execution_count": 11,
      "metadata": {
        "tags": []
      },
      "outputs": [],
      "source": [
        "net_cpu(x_gpu) "
      ],
      "id": "97bae322-4185-43e4-92c2-8b3229153934"
    },
    {
      "cell_type": "markdown",
      "metadata": {},
      "source": [
        "(예시4)"
      ],
      "id": "5fe78c25-b8da-43f8-83aa-7f76a2ac8b77"
    },
    {
      "cell_type": "code",
      "execution_count": 12,
      "metadata": {
        "tags": []
      },
      "outputs": [],
      "source": [
        "net_gpu(x_cpu)"
      ],
      "id": "e25a3a7a-bc4e-4007-83cb-d2f8c3f9a4fe"
    },
    {
      "cell_type": "markdown",
      "metadata": {},
      "source": [
        "(예시5)"
      ],
      "id": "e8a16ec1-5390-4a8b-aa34-849e35058bd9"
    },
    {
      "cell_type": "code",
      "execution_count": 13,
      "metadata": {
        "tags": []
      },
      "outputs": [],
      "source": [
        "torch.mean((y_cpu-net_cpu(x_cpu))**2)"
      ],
      "id": "63858552-cc37-453f-8cf8-cac3d3d267c2"
    },
    {
      "cell_type": "markdown",
      "metadata": {},
      "source": [
        "(예시6)"
      ],
      "id": "f11a9f60-a143-40dc-b450-ff3b1e700fc6"
    },
    {
      "cell_type": "code",
      "execution_count": 14,
      "metadata": {
        "tags": []
      },
      "outputs": [],
      "source": [
        "torch.mean((y_gpu-net_gpu(x_gpu))**2)"
      ],
      "id": "72472217-0944-4268-8a3f-6bee4b8c8b29"
    },
    {
      "cell_type": "markdown",
      "metadata": {},
      "source": [
        "(예시7)"
      ],
      "id": "785fab8f-5727-49fb-9f67-e602db9d878a"
    },
    {
      "cell_type": "code",
      "execution_count": 15,
      "metadata": {
        "tags": []
      },
      "outputs": [],
      "source": [
        "torch.mean((y_gpu-net_cpu(x_cpu))**2)"
      ],
      "id": "6bc92139-3108-47c5-89b1-b01266c9d19c"
    },
    {
      "cell_type": "markdown",
      "metadata": {},
      "source": [
        "(예시8)"
      ],
      "id": "cfaeb8ca-e110-4e82-bcb8-d683f69bfcb8"
    },
    {
      "cell_type": "code",
      "execution_count": 16,
      "metadata": {
        "tags": []
      },
      "outputs": [],
      "source": [
        "torch.mean((y_cpu-net_gpu(x_gpu))**2)"
      ],
      "id": "07158f86-6034-411e-8530-633758eaad34"
    },
    {
      "cell_type": "markdown",
      "metadata": {},
      "source": [
        "## B. 시간측정 (예비학습)"
      ],
      "id": "6083ff81-6bba-401f-9603-2db59dca63eb"
    },
    {
      "cell_type": "code",
      "execution_count": 1,
      "metadata": {
        "tags": []
      },
      "outputs": [],
      "source": [
        "import time "
      ],
      "id": "a19a108c-fa7a-411d-8a3e-67d40fe149aa"
    },
    {
      "cell_type": "code",
      "execution_count": 2,
      "metadata": {
        "tags": []
      },
      "outputs": [],
      "source": [
        "t1 = time.time()"
      ],
      "id": "fccfd426-6b42-4b95-a862-c3de3dd6cb7e"
    },
    {
      "cell_type": "code",
      "execution_count": 3,
      "metadata": {
        "tags": []
      },
      "outputs": [],
      "source": [
        "t2 = time.time()"
      ],
      "id": "8e3f20e7-28a5-425e-8da1-4397987d1bb0"
    },
    {
      "cell_type": "code",
      "execution_count": 4,
      "metadata": {
        "tags": []
      },
      "outputs": [],
      "source": [
        "t2-t1"
      ],
      "id": "a89fe25c-94a1-4b53-8efa-b13afc1f705f"
    },
    {
      "cell_type": "markdown",
      "metadata": {},
      "source": [
        "## C. CPU vs GPU (512 nodes)\n",
        "\n",
        "`-` CPU (512 nodes)"
      ],
      "id": "2f664f91-8bc8-4451-9517-997fe22f4ab7"
    },
    {
      "cell_type": "code",
      "execution_count": 22,
      "metadata": {
        "tags": []
      },
      "outputs": [],
      "source": [
        "torch.manual_seed(5) \n",
        "x=torch.linspace(0,1,100).reshape(-1,1)\n",
        "y=torch.randn(100).reshape(-1,1)*0.01\n",
        "#--#\n",
        "net = torch.nn.Sequential(\n",
        "    torch.nn.Linear(1,512),\n",
        "    torch.nn.ReLU(),\n",
        "    torch.nn.Linear(512,1)\n",
        ")\n",
        "loss_fn = torch.nn.MSELoss()\n",
        "optimizr = torch.optim.Adam(net.parameters())\n",
        "#--#\n",
        "t1= time.time()\n",
        "for epoc in range(1000):\n",
        "    ## 1 \n",
        "    yhat = net(x) \n",
        "    ## 2 \n",
        "    loss = loss_fn(yhat,y)\n",
        "    ## 3 \n",
        "    loss.backward()\n",
        "    ## 4 \n",
        "    optimizr.step()\n",
        "    optimizr.zero_grad()\n",
        "t2 = time.time()\n",
        "t2-t1"
      ],
      "id": "458f74a6-03cd-4dd0-ad04-961bdae321a5"
    },
    {
      "cell_type": "markdown",
      "metadata": {},
      "source": [
        "`-` GPU (512 nodes)"
      ],
      "id": "f9cfa03c-0ea1-4913-84d1-b10bf4cfc1cd"
    },
    {
      "cell_type": "code",
      "execution_count": 23,
      "metadata": {
        "tags": []
      },
      "outputs": [],
      "source": [
        "torch.manual_seed(5) \n",
        "x=torch.linspace(0,1,100).reshape(-1,1).to(\"cuda:0\")\n",
        "y=(torch.randn(100).reshape(-1,1)*0.01).to(\"cuda:0\")\n",
        "#--#\n",
        "net = torch.nn.Sequential(\n",
        "    torch.nn.Linear(1,512),\n",
        "    torch.nn.ReLU(),\n",
        "    torch.nn.Linear(512,1)\n",
        ").to(\"cuda:0\")\n",
        "loss_fn = torch.nn.MSELoss()\n",
        "optimizr = torch.optim.Adam(net.parameters())\n",
        "#--#\n",
        "t1= time.time()\n",
        "for epoc in range(1000):\n",
        "    ## 1 \n",
        "    yhat = net(x) \n",
        "    ## 2 \n",
        "    loss = loss_fn(yhat,y)\n",
        "    ## 3 \n",
        "    loss.backward()\n",
        "    ## 4 \n",
        "    optimizr.step()\n",
        "    optimizr.zero_grad()\n",
        "t2 = time.time()\n",
        "t2-t1"
      ],
      "id": "efd447aa-d119-444f-9bb9-40180f679ff2"
    },
    {
      "cell_type": "markdown",
      "metadata": {},
      "source": [
        "-   !! CPU가 더 빠르다?\n",
        "\n",
        "## D. CPU vs GPU (20,480 nodes)\n",
        "\n",
        "`-` CPU (20,480)"
      ],
      "id": "41f47f92-3520-4104-a935-0c0eba19868c"
    },
    {
      "cell_type": "code",
      "execution_count": 24,
      "metadata": {
        "tags": []
      },
      "outputs": [],
      "source": [
        "torch.manual_seed(5) \n",
        "x=torch.linspace(0,1,100).reshape(-1,1)\n",
        "y=torch.randn(100).reshape(-1,1)*0.01\n",
        "#--#\n",
        "net = torch.nn.Sequential(\n",
        "    torch.nn.Linear(1,20480),\n",
        "    torch.nn.ReLU(),\n",
        "    torch.nn.Linear(20480,1)\n",
        ")\n",
        "loss_fn = torch.nn.MSELoss()\n",
        "optimizr = torch.optim.Adam(net.parameters())\n",
        "#--#\n",
        "t1= time.time()\n",
        "for epoc in range(1000):\n",
        "    ## 1 \n",
        "    yhat = net(x) \n",
        "    ## 2 \n",
        "    loss = loss_fn(yhat,y)\n",
        "    ## 3 \n",
        "    loss.backward()\n",
        "    ## 4 \n",
        "    optimizr.step()\n",
        "    optimizr.zero_grad()\n",
        "t2 = time.time()\n",
        "t2-t1"
      ],
      "id": "cd17ff3e-a648-4765-878b-af6e93e79479"
    },
    {
      "cell_type": "markdown",
      "metadata": {},
      "source": [
        "`-` GPU (20,480)"
      ],
      "id": "f28df57f-3c90-4ff3-9598-188ce0deb4fa"
    },
    {
      "cell_type": "code",
      "execution_count": 25,
      "metadata": {
        "tags": []
      },
      "outputs": [],
      "source": [
        "torch.manual_seed(5) \n",
        "x=torch.linspace(0,1,100).reshape(-1,1).to(\"cuda:0\")\n",
        "y=(torch.randn(100).reshape(-1,1)*0.01).to(\"cuda:0\")\n",
        "#--#\n",
        "net = torch.nn.Sequential(\n",
        "    torch.nn.Linear(1,20480),\n",
        "    torch.nn.ReLU(),\n",
        "    torch.nn.Linear(20480,1)\n",
        ").to(\"cuda:0\")\n",
        "loss_fn = torch.nn.MSELoss()\n",
        "optimizr = torch.optim.Adam(net.parameters())\n",
        "#--#\n",
        "t1= time.time()\n",
        "for epoc in range(1000):\n",
        "    ## 1 \n",
        "    yhat = net(x) \n",
        "    ## 2 \n",
        "    loss = loss_fn(yhat,y)\n",
        "    ## 3 \n",
        "    loss.backward()\n",
        "    ## 4 \n",
        "    optimizr.step()\n",
        "    optimizr.zero_grad()\n",
        "t2 = time.time()\n",
        "t2-t1"
      ],
      "id": "8a1d4c0d-62bd-4249-8675-cb3ce9d43bf7"
    },
    {
      "cell_type": "markdown",
      "metadata": {},
      "source": [
        "-   왜 이런 차이가 나는가?\n",
        "-   연산을 하는 주체는 코어인데 CPU는 수는 적지만 일을 잘하는 코어들을\n",
        "    가지고 있고 GPU는 일은 못하지만 다수의 코어를 가지고 있기 때문\n",
        "\n",
        "## E. CPU vs GPU (204,800 nodes)\n",
        "\n",
        "`-` CPU (204,800)"
      ],
      "id": "26c4b2eb-5425-4bd5-ad43-824cc2987499"
    },
    {
      "cell_type": "code",
      "execution_count": 26,
      "metadata": {
        "tags": []
      },
      "outputs": [],
      "source": [
        "torch.manual_seed(5) \n",
        "x=torch.linspace(0,1,100).reshape(-1,1)\n",
        "y=torch.randn(100).reshape(-1,1)*0.01\n",
        "#--#\n",
        "net = torch.nn.Sequential(\n",
        "    torch.nn.Linear(1,204800),\n",
        "    torch.nn.ReLU(),\n",
        "    torch.nn.Linear(204800,1)\n",
        ")\n",
        "loss_fn = torch.nn.MSELoss()\n",
        "optimizr = torch.optim.Adam(net.parameters())\n",
        "#--#\n",
        "t1= time.time()\n",
        "for epoc in range(1000):\n",
        "    ## 1 \n",
        "    yhat = net(x) \n",
        "    ## 2 \n",
        "    loss = loss_fn(yhat,y)\n",
        "    ## 3 \n",
        "    loss.backward()\n",
        "    ## 4 \n",
        "    optimizr.step()\n",
        "    optimizr.zero_grad()\n",
        "t2 = time.time()\n",
        "t2-t1"
      ],
      "id": "c0bca592-0980-4960-8969-73cd2f686460"
    },
    {
      "cell_type": "markdown",
      "metadata": {},
      "source": [
        "`-` GPU (204,800)"
      ],
      "id": "f9f1fbb9-7e13-4022-b615-ef37a4958150"
    },
    {
      "cell_type": "code",
      "execution_count": 27,
      "metadata": {
        "tags": []
      },
      "outputs": [],
      "source": [
        "torch.manual_seed(5) \n",
        "x=torch.linspace(0,1,100).reshape(-1,1).to(\"cuda:0\")\n",
        "y=(torch.randn(100).reshape(-1,1)*0.01).to(\"cuda:0\")\n",
        "#--#\n",
        "net = torch.nn.Sequential(\n",
        "    torch.nn.Linear(1,204800),\n",
        "    torch.nn.ReLU(),\n",
        "    torch.nn.Linear(204800,1)\n",
        ").to(\"cuda:0\")\n",
        "loss_fn = torch.nn.MSELoss()\n",
        "optimizr = torch.optim.Adam(net.parameters())\n",
        "#--#\n",
        "t1= time.time()\n",
        "for epoc in range(1000):\n",
        "    ## 1 \n",
        "    yhat = net(x) \n",
        "    ## 2 \n",
        "    loss = loss_fn(yhat,y)\n",
        "    ## 3 \n",
        "    loss.backward()\n",
        "    ## 4 \n",
        "    optimizr.step()\n",
        "    optimizr.zero_grad()\n",
        "t2 = time.time()\n",
        "t2-t1"
      ],
      "id": "423fecb9-4fae-4bee-a6d5-1d382217b754"
    },
    {
      "cell_type": "markdown",
      "metadata": {},
      "source": [
        "# 3. “확률적” 경사하강법\n",
        "\n",
        "## A. 의문: 좀 이상하지 않아요?\n",
        "\n",
        "`-` GPU 비싸요..\n",
        "\n",
        "-   GPU 메모리 끽해봐야 24GB, 그래도 비싸요..\n",
        "    <http://shop.danawa.com/virtualestimate/?controller=estimateMain&methods=index&marketPlaceSeq=16>\n",
        "-   GPU 메모리가 80GB일 경우 가격:\n",
        "    <https://prod.danawa.com/info/?pcode=21458333>\n",
        "\n",
        "`-` 우리가 분석하는 데이터: 빅데이터..?"
      ],
      "id": "d95db515-9ba4-41eb-82e9-6e1206640cf8"
    },
    {
      "cell_type": "code",
      "execution_count": 28,
      "metadata": {
        "tags": []
      },
      "outputs": [],
      "source": [
        "x = torch.linspace(-10,10,100000).reshape(-1,1)\n",
        "eps = torch.randn(100000).reshape(-1,1)\n",
        "y = x*2 + eps "
      ],
      "id": "7c0e8920-2867-49f5-bb5c-7d88f7ebf771"
    },
    {
      "cell_type": "code",
      "execution_count": 29,
      "metadata": {
        "tags": []
      },
      "outputs": [
        {
          "output_type": "display_data",
          "metadata": {},
          "data": {
            "image/png": "[encoded data removed]"
          }
        }
      ],
      "source": [
        "plt.plot(x,y,'o',alpha=0.05)\n",
        "plt.plot(x,2*x)"
      ],
      "id": "fe70984f-d684-4ddb-b948-113fb16d4f0d"
    },
    {
      "cell_type": "markdown",
      "metadata": {},
      "source": [
        "`-` 데이터의 크기가 커지는 순간 `X.to(\"cuda:0\")`, `y.to(\"cuda:0\")` 쓰면\n",
        "난리나겠는걸?\n",
        "\n",
        "`-` 데이터를 100개중에 1개만 꼴로만 쓰면 어떨까?"
      ],
      "id": "56657823-015a-4cee-8ae4-912705e520ce"
    },
    {
      "cell_type": "code",
      "execution_count": 30,
      "metadata": {
        "tags": []
      },
      "outputs": [
        {
          "output_type": "display_data",
          "metadata": {},
          "data": {
            "image/png": "[encoded data removed]"
          }
        }
      ],
      "source": [
        "plt.plot(x[::100],y[::100],'o',alpha=0.05)\n",
        "plt.plot(x,2*x)"
      ],
      "id": "f1422d07-a351-438d-bba0-024c9ef07cc5"
    },
    {
      "cell_type": "markdown",
      "metadata": {},
      "source": [
        "-   대충 이거만 가지고 적합해도 충분히 정확할것 같은데?\n",
        "\n",
        "## B. X,y 데이터를 굳이 모두 GPU에 넘겨야 하는가?\n",
        "\n",
        "`-` 데이터셋을 짝홀로 나누어서 번갈아가면서 GPU에 올렸다 내렸다하면\n",
        "안되나?\n",
        "\n",
        "`-` 아래의 알고리즘을 생각해보자.\n",
        "\n",
        "1.  데이터를 반으로 나눈다.\n",
        "2.  짝수obs의 x,y 그리고 net의 모든 파라메터를 GPU에 올린다.\n",
        "3.  yhat, loss, grad, update 수행\n",
        "4.  짝수obs의 x,y를 GPU메모리에서 내린다. 그리고 홀수obs의 x,y를\n",
        "    GPU메모리에 올린다.\n",
        "5.  yhat, loss, grad, update 수행\n",
        "6.  홀수obs의 x,y를 GPU메모리에서 내린다. 그리고 짝수obs의 x,y를\n",
        "    GPU메모리에 올린다.\n",
        "7.  반복\n",
        "\n",
        "> 이러면 되는거아니야???? —\\> 맞아요\n",
        "\n",
        "## C. 경사하강법, 확률적경사하강법, 미니배치 경사하강법\n",
        "\n",
        "10개의 샘플이 있다고 가정. $\\{(x_i,y_i)\\}_{i=1}^{10}$\n",
        "\n",
        "`# ver1` – 모든 샘플을 이용하여 slope 계산\n",
        "\n",
        "(epoch 1) $loss=\\sum_{i=1}^{10}(y_i-w_0-w_1x_i)^2 \\to slope \\to update$\n",
        "\n",
        "(epoch 2) $loss=\\sum_{i=1}^{10}(y_i-w_0-w_1x_i)^2 \\to slope \\to update$\n",
        "\n",
        "…\n",
        "\n",
        "> 우리가 항상 이렇게 했죠!\n",
        "\n",
        "`# ver2` – 하나의 샘플만을 이용하여 slope 계산\n",
        "\n",
        "(epoch 1)\n",
        "\n",
        "-   $loss=(y_1-w_0-w_1x_1)^2 \\to slope \\to update$\n",
        "-   $loss=(y_2-w_0-w_1x_2)^2 \\to slope \\to update$\n",
        "-   …\n",
        "-   $loss=(y_{10}-w_0-w_1x_{10})^2 \\to slope \\to update$\n",
        "\n",
        "(epoch 2)\n",
        "\n",
        "-   $loss=(y_1-w_0-w_1x_1)^2 \\to slope \\to update$\n",
        "-   $loss=(y_2-w_0-w_1x_2)^2 \\to slope \\to update$\n",
        "-   …\n",
        "-   $loss=(y_{10}-w_0-w_1x_{10})^2 \\to slope \\to update$\n",
        "\n",
        "…\n",
        "\n",
        "`# ver3` – $m (\\leq n)$ 개의 샘플을 이용하여 slope 계산\n",
        "\n",
        "$m=3$이라고 하자.\n",
        "\n",
        "(epoch 1)\n",
        "\n",
        "-   $loss=\\sum_{i=1}^{3}(y_i-w_0-w_1x_i)^2 \\to slope \\to update$\n",
        "-   $loss=\\sum_{i=4}^{6}(y_i-w_0-w_1x_i)^2 \\to slope \\to update$\n",
        "-   $loss=\\sum_{i=7}^{9}(y_i-w_0-w_1x_i)^2 \\to slope \\to update$\n",
        "-   $loss=(y_{10}-w_0-w_1x_{10})^2 \\to slope \\to update$\n",
        "\n",
        "(epoch 2)\n",
        "\n",
        "-   $loss=\\sum_{i=1}^{3}(y_i-w_0-w_1x_i)^2 \\to slope \\to update$\n",
        "-   $loss=\\sum_{i=4}^{6}(y_i-w_0-w_1x_i)^2 \\to slope \\to update$\n",
        "-   $loss=\\sum_{i=7}^{9}(y_i-w_0-w_1x_i)^2 \\to slope \\to update$\n",
        "-   $loss=(y_{10}-w_0-w_1x_{10})^2 \\to slope \\to update$\n",
        "\n",
        "…\n",
        "\n",
        "## D. 용어의 정리\n",
        "\n",
        "**옛날**\n",
        "\n",
        "`-` ver1: gradient descent, batch gradient descent\n",
        "\n",
        "`-` ver2: stochastic gradient descent\n",
        "\n",
        "`-` ver3: mini-batch gradient descent, mini-batch stochastic gradient\n",
        "descent\n",
        "\n",
        "**요즘**\n",
        "\n",
        "`-` ver1: gradient descent\n",
        "\n",
        "`-` ver2: stochastic gradient descent with batch size = 1\n",
        "\n",
        "`-` **ver3: stochastic gradient descent** -\n",
        "https://www.deeplearningbook.org/contents/optimization.html, 알고리즘\n",
        "8-1 참고.\n",
        "\n",
        "## E. Dataset(`ds`), DataLoader(`dl`)\n",
        "\n",
        "> 취지는 알겠으나, C의 과정을 실제 구현하려면 진짜 힘들것 같아요..\n",
        "> (입코딩과 손코딩의 차이)\n",
        "\n",
        "`-` ds: 이터러블하지 않지만 섭스크립터블함"
      ],
      "id": "785a9460-f41b-4e2a-8e85-e3175aefc1d4"
    },
    {
      "cell_type": "code",
      "execution_count": 42,
      "metadata": {
        "tags": []
      },
      "outputs": [],
      "source": [
        "x=torch.tensor(range(10)).float().reshape(-1,1)\n",
        "y=torch.tensor([1.0]*5+[0.0]*5).reshape(-1,1)\n",
        "torch.concat([x,y],axis=1)"
      ],
      "id": "fd133a9e-03df-4a28-80a1-eb07f327da25"
    },
    {
      "cell_type": "code",
      "execution_count": 9,
      "metadata": {
        "tags": []
      },
      "outputs": [],
      "source": [
        "ds=torch.utils.data.TensorDataset(x,y)\n",
        "ds"
      ],
      "id": "b339974a-d346-4aef-b991-eb737f4dbbba"
    },
    {
      "cell_type": "code",
      "execution_count": 18,
      "metadata": {
        "tags": []
      },
      "outputs": [],
      "source": [
        "ds.tensors \n",
        "# 생긴건 ds.tensors = (x,y) 임"
      ],
      "id": "38c41614-ece3-4067-8092-4ff8720279bd"
    },
    {
      "cell_type": "code",
      "execution_count": 33,
      "metadata": {},
      "outputs": [],
      "source": [
        "ds[0],(x,y)[0] # (x,y) 튜플자체는 아님.. 인덱싱이 다르게 동작"
      ],
      "id": "d93c4c02"
    },
    {
      "cell_type": "markdown",
      "metadata": {},
      "source": [
        "`-` dl: 섭스크립터블하지 않지만 이터러블함"
      ],
      "id": "553416c7-bf3f-4b61-b4ef-6bcc48edc86f"
    },
    {
      "cell_type": "code",
      "execution_count": 51,
      "metadata": {
        "tags": []
      },
      "outputs": [],
      "source": [
        "dl=torch.utils.data.DataLoader(ds,batch_size=3)\n",
        "#set(dir(dl)) & {'__iter__'}"
      ],
      "id": "05b05710-3ee4-4f65-b6cf-d0702c884166"
    },
    {
      "cell_type": "code",
      "execution_count": 55,
      "metadata": {
        "tags": []
      },
      "outputs": [
        {
          "output_type": "stream",
          "name": "stdout",
          "text": [
            "x_batch=[[0.0], [1.0], [2.0]]    y_batch=[[1.0], [1.0], [1.0]]\n",
            "x_batch=[[3.0], [4.0], [5.0]]    y_batch=[[1.0], [1.0], [0.0]]\n",
            "x_batch=[[6.0], [7.0], [8.0]]    y_batch=[[0.0], [0.0], [0.0]]\n",
            "x_batch=[[9.0]]      y_batch=[[0.0]]"
          ]
        }
      ],
      "source": [
        "for xi,yi in dl:\n",
        "    print(f'x_batch={xi.tolist()} \\t y_batch={yi.tolist()}')"
      ],
      "id": "bb8c3d6b-8497-4ee2-b718-b74836298e78"
    },
    {
      "cell_type": "markdown",
      "metadata": {},
      "source": [
        "`-` 마지막관측치는 뭔데 단독으로 업데이트하냐?? –\\> shuffle True 같이\n",
        "자잘한 옵션도 있음.."
      ],
      "id": "4f9ef58c-32c3-41f2-b823-fe530c55f29c"
    },
    {
      "cell_type": "code",
      "execution_count": 56,
      "metadata": {},
      "outputs": [
        {
          "output_type": "stream",
          "name": "stdout",
          "text": [
            "x_batch=[[6.0], [2.0], [8.0]]    y_batch=[[0.0], [1.0], [0.0]]\n",
            "x_batch=[[3.0], [4.0], [5.0]]    y_batch=[[1.0], [1.0], [0.0]]\n",
            "x_batch=[[9.0], [7.0], [0.0]]    y_batch=[[0.0], [0.0], [1.0]]\n",
            "x_batch=[[1.0]]      y_batch=[[1.0]]"
          ]
        }
      ],
      "source": [
        "dl = torch.utils.data.DataLoader(ds,batch_size=3,shuffle=True)\n",
        "for xi,yi in dl:\n",
        "    print(f'x_batch={xi.tolist()} \\t y_batch={yi.tolist()}')"
      ],
      "id": "35537fb1"
    },
    {
      "cell_type": "markdown",
      "metadata": {},
      "source": [
        "## F. ds, dl을 이용한 MNIST 구현\n",
        "\n",
        "`-` 목표: 확률적경사하강법과 그냥 경사하강법의 성능을 “동일 반복횟수”로\n",
        "비교해보자.\n",
        "\n",
        "-   batch_size = 2048로 설정할것\n",
        "\n",
        "`-` 그냥 경사하강법 – 미니배치 안쓰는 학습"
      ],
      "id": "a11a633d-9506-43cc-9a97-8796d2784132"
    },
    {
      "cell_type": "code",
      "execution_count": 31,
      "metadata": {
        "tags": []
      },
      "outputs": [],
      "source": [
        "## Step1: 데이터준비 \n",
        "path = untar_data(URLs.MNIST)\n",
        "X0 = torch.stack([torchvision.io.read_image(str(fname)) for fname in (path/'training/0').ls()])\n",
        "X1 = torch.stack([torchvision.io.read_image(str(fname)) for fname in (path/'training/1').ls()])\n",
        "X = torch.concat([X0,X1],axis=0).reshape(-1,1*28*28)/255\n",
        "y = torch.tensor([0.0]*len(X0) + [1.0]*len(X1)).reshape(-1,1)\n",
        "## Step2: 학습가능한 오브젝트 생성\n",
        "torch.manual_seed(1)\n",
        "net = torch.nn.Sequential(\n",
        "    torch.nn.Linear(784,32),\n",
        "    torch.nn.ReLU(),\n",
        "    torch.nn.Linear(32,1),\n",
        "    torch.nn.Sigmoid()\n",
        ")\n",
        "loss_fn = torch.nn.BCELoss()\n",
        "optimizr = torch.optim.SGD(net.parameters())\n",
        "## Step3: fit  \n",
        "for epoc in range(700): \n",
        "    ## 1 \n",
        "    yhat = net(X) \n",
        "    ## 2 \n",
        "    loss= loss_fn(yhat,y) \n",
        "    ## 3 \n",
        "    loss.backward()\n",
        "    ## 4 \n",
        "    optimizr.step()\n",
        "    optimizr.zero_grad() \n",
        "## Step4: Predict \n",
        "torch.sum((yhat>0.5) == y) / len(y) "
      ],
      "id": "0e853019-48ca-4bb6-8b4d-f02e248cf9b8"
    },
    {
      "cell_type": "markdown",
      "metadata": {},
      "source": [
        "`-` “확률적”경사하강법 – 미니배치 쓰는 학습"
      ],
      "id": "476df099-c999-4acd-b90f-aae39fbd60c8"
    },
    {
      "cell_type": "code",
      "execution_count": 35,
      "metadata": {
        "tags": []
      },
      "outputs": [],
      "source": [
        "## Step1: 데이터준비 \n",
        "path = untar_data(URLs.MNIST)\n",
        "X0 = torch.stack([torchvision.io.read_image(str(fname)) for fname in (path/'training/0').ls()])\n",
        "X1 = torch.stack([torchvision.io.read_image(str(fname)) for fname in (path/'training/1').ls()])\n",
        "X = torch.concat([X0,X1],axis=0).reshape(-1,1*28*28)/255\n",
        "y = torch.tensor([0.0]*len(X0) + [1.0]*len(X1)).reshape(-1,1)\n",
        "ds = torch.utils.data.TensorDataset(X,y)\n",
        "dl = torch.utils.data.DataLoader(ds,batch_size=2048) \n",
        "## Step2: 학습가능한 오브젝트 생성\n",
        "torch.manual_seed(1)\n",
        "net = torch.nn.Sequential(\n",
        "    torch.nn.Linear(784,32),\n",
        "    torch.nn.ReLU(),\n",
        "    torch.nn.Linear(32,1),\n",
        ")\n",
        "loss_fn = torch.nn.BCEWithLogitsLoss()\n",
        "optimizr = torch.optim.SGD(net.parameters())\n",
        "## Step3: fit  \n",
        "for epoc in range(100):\n",
        "    for xi,yi in dl: # 여기서 7번 돌아가요\n",
        "        ## 1\n",
        "        #yihat = net(xi) <-- 쓰기 귀찮을때도 있음.. + 노테이션이 지저분함.. + 쓰기 애매할떄도 있음\n",
        "        ## 2 \n",
        "        loss = loss_fn(net(xi),yi) \n",
        "        ## 3 \n",
        "        loss.backward() \n",
        "        ## 4 \n",
        "        optimizr.step()\n",
        "        optimizr.zero_grad()\n",
        "## Step4: Predict \n",
        "torch.sum((net(X)>0) == y) / len(y) "
      ],
      "id": "b2e6cacb-2191-4194-acb4-4da455019a9d"
    },
    {
      "cell_type": "markdown",
      "metadata": {},
      "source": [
        "`-` GPU를 활용하는 “확률적”경사하강법 – 실제적으로는 이게 최종알고리즘"
      ],
      "id": "a80fd8fd-b38e-4e1e-be2c-fd3dfb8082e4"
    },
    {
      "cell_type": "code",
      "execution_count": 36,
      "metadata": {
        "tags": []
      },
      "outputs": [],
      "source": [
        "## Step1: 데이터준비 \n",
        "path = untar_data(URLs.MNIST)\n",
        "X0 = torch.stack([torchvision.io.read_image(str(fname)) for fname in (path/'training/0').ls()])\n",
        "X1 = torch.stack([torchvision.io.read_image(str(fname)) for fname in (path/'training/1').ls()])\n",
        "X = torch.concat([X0,X1],axis=0).reshape(-1,1*28*28)/255\n",
        "y = torch.tensor([0.0]*len(X0) + [1.0]*len(X1)).reshape(-1,1)\n",
        "ds = torch.utils.data.TensorDataset(X,y)\n",
        "dl = torch.utils.data.DataLoader(ds,batch_size=2048) \n",
        "## Step2: 학습가능한 오브젝트 생성\n",
        "torch.manual_seed(1)\n",
        "net = torch.nn.Sequential(\n",
        "    torch.nn.Linear(784,32),\n",
        "    torch.nn.ReLU(),\n",
        "    torch.nn.Linear(32,1),\n",
        ").to(\"cuda:0\")\n",
        "loss_fn = torch.nn.BCEWithLogitsLoss()\n",
        "optimizr = torch.optim.SGD(net.parameters())\n",
        "## Step3: fit  \n",
        "for epoc in range(100):\n",
        "    for xi,yi in dl: # 이게 에폭별로 7번씩 돌아가요\n",
        "        ## 1\n",
        "        #yihat = net(xi) <-- 쓰기 귀찮을때도 있음.. + 노테이션이 지저분함.. + 쓰기 애매할떄도 있음\n",
        "        ## 2 \n",
        "        loss = loss_fn(net(xi.to(\"cuda:0\")),yi.to(\"cuda:0\"))\n",
        "        ## 3 \n",
        "        loss.backward() \n",
        "        ## 4 \n",
        "        optimizr.step()\n",
        "        optimizr.zero_grad()\n",
        "## Step4: Predict \n",
        "net.to(\"cpu\")\n",
        "torch.sum((net(X)>0) == y) / len(y) "
      ],
      "id": "a6653186-733c-447d-bde7-da5f5881b2db"
    },
    {
      "cell_type": "markdown",
      "metadata": {},
      "source": [
        "# 4. 다중클래스 분류\n",
        "\n",
        "## A. 결론 (그냥 외우세요)\n",
        "\n",
        "`-` 2개의 class를 구분하는 문제가 아니라 $k$개의 class를 구분해야\n",
        "한다면?\n",
        "\n",
        "***일반적인 개념***\n",
        "\n",
        "-   손실함수: BCE loss $\\to$ Cross Entropy loss\n",
        "-   마지막층의 선형변환: torch.nn.Linear(?,1) $\\to$ torch.nn.Linear(?,k)\n",
        "-   **마지막층의 활성화: sig $\\to$ softmax**\n",
        "\n",
        "***파이토치 한정***\n",
        "\n",
        "-   **y의형태: (n,) vector + int형 // (n,k) one-hot encoded vector +\n",
        "    float형**\n",
        "-   손실함수: torch.nn.BCEWithLogitsLoss, $\\to$\n",
        "    torch.nn.CrossEntropyLoss\n",
        "-   마지막층의 선형변환: torch.nn.Linear(?,1) $\\to$ torch.nn.Linear(?,k)\n",
        "-   **마지막층의 활성화: None $\\to$ None (손실함수에 이미 마지막층의\n",
        "    활성화가 포함)**\n",
        "\n",
        "## B. 실습: 3개의 클래스를 구분\n",
        "\n",
        "`-` 정리된 코드1: 통계잘하는데 파이토치 못쓰는 사람의 코드"
      ],
      "id": "2839a8ce-5c96-4b7a-b0cf-b4e36781b30c"
    },
    {
      "cell_type": "code",
      "execution_count": 37,
      "metadata": {
        "tags": []
      },
      "outputs": [],
      "source": [
        "## Step1: 데이터준비 \n",
        "path = untar_data(URLs.MNIST)\n",
        "X0 = torch.stack([torchvision.io.read_image(str(fname)) for fname in (path/'training/0').ls()])\n",
        "X1 = torch.stack([torchvision.io.read_image(str(fname)) for fname in (path/'training/1').ls()])\n",
        "X2 = torch.stack([torchvision.io.read_image(str(fname)) for fname in (path/'training/2').ls()])\n",
        "X = torch.concat([X0,X1,X2]).reshape(-1,1*28*28)/255\n",
        "y = torch.nn.functional.one_hot(torch.tensor([0]*len(X0) + [1]*len(X1)+ [2]*len(X2))).float()\n",
        "## Step2: 학습가능한 오브젝트 생성\n",
        "torch.manual_seed(43052)\n",
        "net = torch.nn.Sequential(\n",
        "    torch.nn.Linear(784,32),\n",
        "    torch.nn.ReLU(),\n",
        "    torch.nn.Linear(32,3),\n",
        "    #torch.nn.Softmax()\n",
        ")\n",
        "loss_fn = torch.nn.CrossEntropyLoss()\n",
        "optimizr = torch.optim.Adam(net.parameters())\n",
        "## Step3: fit  \n",
        "for epoc in range(70): \n",
        "    ## 1 \n",
        "    yhat = net(X) \n",
        "    ## 2 \n",
        "    loss= loss_fn(yhat,y) \n",
        "    ## 3 \n",
        "    loss.backward()\n",
        "    ## 4 \n",
        "    optimizr.step()\n",
        "    optimizr.zero_grad() \n",
        "## Step4: Predict \n",
        "softmax = torch.nn.Softmax()\n",
        "#net(X).argmax(axis=1) == yhat "
      ],
      "id": "f6d19628-cdc0-40ed-aebc-2f5ff95e0d3c"
    },
    {
      "cell_type": "code",
      "execution_count": 38,
      "metadata": {
        "tags": []
      },
      "outputs": [],
      "source": [
        "(net(X).argmax(axis=1) == y.argmax(axis=1)).float().mean()"
      ],
      "id": "d9614064-7bd9-497d-bd6d-8079d6cd9ec5"
    },
    {
      "cell_type": "markdown",
      "metadata": {},
      "source": [
        "`-` 정리된 코드2: 파이토치를 잘하는 사람의 코드"
      ],
      "id": "c1a69ed9-dcd9-4242-8d18-2e13da9c13d4"
    },
    {
      "cell_type": "code",
      "execution_count": 39,
      "metadata": {
        "tags": []
      },
      "outputs": [],
      "source": [
        "## Step1: 데이터준비 \n",
        "path = untar_data(URLs.MNIST)\n",
        "X0 = torch.stack([torchvision.io.read_image(str(fname)) for fname in (path/'training/0').ls()])\n",
        "X1 = torch.stack([torchvision.io.read_image(str(fname)) for fname in (path/'training/1').ls()])\n",
        "X2 = torch.stack([torchvision.io.read_image(str(fname)) for fname in (path/'training/2').ls()])\n",
        "X = torch.concat([X0,X1,X2]).reshape(-1,1*28*28)/255\n",
        "#y = torch.nn.functional.one_hot(torch.tensor([0]*len(X0) + [1]*len(X1)+ [2]*len(X2))).float()\n",
        "y = torch.tensor([0]*len(X0) + [1]*len(X1)+ [2]*len(X2))\n",
        "## Step2: 학습가능한 오브젝트 생성\n",
        "torch.manual_seed(43052)\n",
        "net = torch.nn.Sequential(\n",
        "    torch.nn.Linear(784,32),\n",
        "    torch.nn.ReLU(),\n",
        "    torch.nn.Linear(32,3),\n",
        "    #torch.nn.Softmax()\n",
        ")\n",
        "loss_fn = torch.nn.CrossEntropyLoss()\n",
        "optimizr = torch.optim.Adam(net.parameters())\n",
        "## Step3: fit  \n",
        "for epoc in range(70): \n",
        "    ## 1 \n",
        "    yhat = net(X) \n",
        "    ## 2 \n",
        "    loss= loss_fn(yhat,y) \n",
        "    ## 3 \n",
        "    loss.backward()\n",
        "    ## 4 \n",
        "    optimizr.step()\n",
        "    optimizr.zero_grad() \n",
        "## Step4: Predict \n",
        "softmax = torch.nn.Softmax()\n",
        "(net(X).argmax(axis=1) == y).float().mean()"
      ],
      "id": "be8953ee-bd7a-489c-be88-0946917e949e"
    },
    {
      "cell_type": "markdown",
      "metadata": {},
      "source": [
        "## C. Softmax\n",
        "\n",
        "`-` 눈치: softmax를 쓰기 직전의 숫자들은 (n,k)꼴로 되어있음. 각\n",
        "observation 마다 k개의 숫자가 있는데, 그중에서 유난히 큰 하나의 숫자가\n",
        "있음."
      ],
      "id": "edc9cd37-a198-4ab5-b1e7-2b1d8dd0cc31"
    },
    {
      "cell_type": "code",
      "execution_count": 40,
      "metadata": {
        "tags": []
      },
      "outputs": [],
      "source": [
        "net(X) # 이전예제의 결과"
      ],
      "id": "2356aac1-893d-485c-98c6-42c800d6cce4"
    },
    {
      "cell_type": "code",
      "execution_count": 41,
      "metadata": {
        "tags": []
      },
      "outputs": [],
      "source": [
        "y # y의 라벨"
      ],
      "id": "cd9c8eff-8c9f-4460-b08d-2bc11812216c"
    },
    {
      "cell_type": "markdown",
      "metadata": {},
      "source": [
        "`-` 수식\n",
        "\n",
        "-   $\\text{sig}(u)=\\frac{e^u}{1+e^u}$\n",
        "-   $\\text{softmax}({\\boldsymbol u})=\\text{softmax}([u_1,u_2,\\dots,u_k])=\\big[ \\frac{e^{u_1}}{e^{u_1}+\\dots e^{u_k}},\\dots,\\frac{e^{u_k}}{e^{u_1}+\\dots e^{u_k}}\\big]$\n",
        "\n",
        "`-` torch.nn.Softmax() 손계산\n",
        "\n",
        "(예시1) – 잘못계산"
      ],
      "id": "85757d63-aeff-41f4-b79e-9a56ce29d25c"
    },
    {
      "cell_type": "code",
      "execution_count": 42,
      "metadata": {
        "tags": []
      },
      "outputs": [],
      "source": [
        "softmax = torch.nn.Softmax(dim=0)"
      ],
      "id": "4d3ee620-908d-4a66-9c2e-314f7ecfadce"
    },
    {
      "cell_type": "code",
      "execution_count": 43,
      "metadata": {
        "tags": []
      },
      "outputs": [],
      "source": [
        "netout = torch.tensor([[-2.0,-2.0,0.0],\n",
        "                        [3.14,3.14,3.14],\n",
        "                        [0.0,0.0,2.0],\n",
        "                        [2.0,2.0,4.0],\n",
        "                        [0.0,0.0,0.0]])\n",
        "netout"
      ],
      "id": "e6c35f4f-9b07-4de6-b7bb-6b8a09b9490c"
    },
    {
      "cell_type": "code",
      "execution_count": 44,
      "metadata": {
        "tags": []
      },
      "outputs": [],
      "source": [
        "softmax(netout) "
      ],
      "id": "e65a43be-188d-4304-a8b5-ba766136bee6"
    },
    {
      "cell_type": "markdown",
      "metadata": {},
      "source": [
        "(예시2) – 이게 맞게 계산되는 것임"
      ],
      "id": "f1d6d38a-a79e-445f-8738-49ee4f5f8981"
    },
    {
      "cell_type": "code",
      "execution_count": 45,
      "metadata": {
        "tags": []
      },
      "outputs": [],
      "source": [
        "softmax = torch.nn.Softmax(dim=1)"
      ],
      "id": "bab3e4f5-2796-4399-b223-d910ea182e72"
    },
    {
      "cell_type": "code",
      "execution_count": 46,
      "metadata": {
        "tags": []
      },
      "outputs": [],
      "source": [
        "netout"
      ],
      "id": "0dafa544-0d9e-4977-8bb7-da1c945e0bb7"
    },
    {
      "cell_type": "code",
      "execution_count": 47,
      "metadata": {
        "tags": []
      },
      "outputs": [],
      "source": [
        "softmax(netout)"
      ],
      "id": "525e3435-eefa-49d9-82a8-13cb40571046"
    },
    {
      "cell_type": "markdown",
      "metadata": {},
      "source": [
        "(예시3) – 차원을 명시안하면 맞게 계산해주고 경고 줌"
      ],
      "id": "f88d7797-21eb-4a0d-a6c4-73b2fb16c0bb"
    },
    {
      "cell_type": "code",
      "execution_count": 48,
      "metadata": {
        "tags": []
      },
      "outputs": [],
      "source": [
        "softmax = torch.nn.Softmax()"
      ],
      "id": "1c7c8926-7e1e-4994-a04c-4ca3ea3f14a3"
    },
    {
      "cell_type": "code",
      "execution_count": 49,
      "metadata": {
        "tags": []
      },
      "outputs": [],
      "source": [
        "netout"
      ],
      "id": "5e59a46d-e2c1-4247-aae3-ff6171bb1d17"
    },
    {
      "cell_type": "code",
      "execution_count": 50,
      "metadata": {
        "tags": []
      },
      "outputs": [
        {
          "output_type": "stream",
          "name": "stderr",
          "text": [
            "/home/cgb3/anaconda3/envs/dl2024/lib/python3.11/site-packages/torch/nn/modules/module.py:1511: UserWarning: Implicit dimension choice for softmax has been deprecated. Change the call to include dim=X as an argument.\n",
            "  return self._call_impl(*args, **kwargs)"
          ]
        }
      ],
      "source": [
        "softmax(netout)"
      ],
      "id": "040d3bb0-49d1-4bc4-9ffb-eaadbd1228bc"
    },
    {
      "cell_type": "markdown",
      "metadata": {},
      "source": [
        "(예시4) – 진짜 손계산"
      ],
      "id": "a4bfb808-03e6-4b92-a38e-c9296543c778"
    },
    {
      "cell_type": "code",
      "execution_count": 51,
      "metadata": {
        "tags": []
      },
      "outputs": [],
      "source": [
        "netout "
      ],
      "id": "e80c623f-eab4-4324-a079-16252ece7706"
    },
    {
      "cell_type": "code",
      "execution_count": 52,
      "metadata": {
        "tags": []
      },
      "outputs": [],
      "source": [
        "torch.exp(netout)"
      ],
      "id": "9551d3b6-a6c4-4d6a-a402-8be14fe1c0d1"
    },
    {
      "cell_type": "code",
      "execution_count": 53,
      "metadata": {
        "tags": []
      },
      "outputs": [],
      "source": [
        "0.1353/(0.1353 + 0.1353 + 1.0000), 0.1353/(0.1353 + 0.1353 + 1.0000), 1.0000/(0.1353 + 0.1353 + 1.0000) # 첫 obs"
      ],
      "id": "694b5993-06b0-469b-a8aa-dfb6ef26a9af"
    },
    {
      "cell_type": "code",
      "execution_count": 54,
      "metadata": {
        "tags": []
      },
      "outputs": [],
      "source": [
        "torch.exp(netout[1])/torch.exp(netout[1]).sum() # 두번째 obs "
      ],
      "id": "f7e12995-da3a-4c23-8146-301dbaec52dc"
    },
    {
      "cell_type": "markdown",
      "metadata": {},
      "source": [
        "## D. CrossEntropyLoss\n",
        "\n",
        "`-` 수식\n",
        "\n",
        "***`# 2개의 카테고리`***\n",
        "\n",
        "`-` 예제1: BCELoss vs BCEWithLogisticLoss"
      ],
      "id": "8b09ce2e-1152-44d3-9324-9fb3e11c68cb"
    },
    {
      "cell_type": "code",
      "execution_count": 57,
      "metadata": {
        "tags": []
      },
      "outputs": [],
      "source": [
        "y = torch.tensor([0,0,1]).reshape(-1,1).float()\n",
        "netout = torch.tensor([-1, 0, 1]).reshape(-1,1).float()\n",
        "y,netout"
      ],
      "id": "accd1529-6526-4a8f-85a2-e068d09f025b"
    },
    {
      "cell_type": "code",
      "execution_count": 58,
      "metadata": {
        "tags": []
      },
      "outputs": [],
      "source": [
        "# 계산방법1: 공식암기\n",
        "sig = torch.nn.Sigmoid()\n",
        "yhat = sig(netout)\n",
        "-torch.mean(torch.log(yhat)*y + torch.log(1-yhat)*(1-y))"
      ],
      "id": "9dfb02cb-1749-4391-8446-fdec0734f6cb"
    },
    {
      "cell_type": "code",
      "execution_count": 59,
      "metadata": {
        "tags": []
      },
      "outputs": [],
      "source": [
        "# 계산방법2: torch.nn.BCELoss() 이용\n",
        "sig = torch.nn.Sigmoid()\n",
        "loss_fn = torch.nn.BCELoss()\n",
        "loss_fn(sig(netout),y)"
      ],
      "id": "736829af-f7ab-440d-82b5-768c60bea69a"
    },
    {
      "cell_type": "code",
      "execution_count": 60,
      "metadata": {
        "tags": []
      },
      "outputs": [],
      "source": [
        "# 계산방법3: torch.nn.BCEWithLogitsLoss() 이용\n",
        "loss_fn = torch.nn.BCEWithLogitsLoss()\n",
        "loss_fn(netout,y)"
      ],
      "id": "244f971b-a33a-46b5-9c99-38e4e9638ede"
    },
    {
      "cell_type": "markdown",
      "metadata": {},
      "source": [
        "`-` 예제2: BCEWithLogisticLoss vs CrossEntropyLoss"
      ],
      "id": "2b1da062-6363-45ce-bb5b-2a5f2bae0e98"
    },
    {
      "cell_type": "code",
      "execution_count": 61,
      "metadata": {
        "tags": []
      },
      "outputs": [],
      "source": [
        "netout = torch.tensor([[1,0],[0,0],[0,1]]).float()\n",
        "y = torch.tensor([[1,0],[1,0],[0,1]]).float()\n",
        "y,netout #,netout[:,[1]]-netout[:,[0]]"
      ],
      "id": "e54ce802-ab28-4f1b-b061-462feb61baf9"
    },
    {
      "cell_type": "code",
      "execution_count": 62,
      "metadata": {
        "tags": []
      },
      "outputs": [],
      "source": [
        "# 계산방법1: torch.nn.CrossEntropyLoss() 이용 + y는 one-hot으로 정리\n",
        "loss_fn = torch.nn.CrossEntropyLoss()\n",
        "loss_fn(netout,y)"
      ],
      "id": "992b1412-3913-4ca1-87e7-829c2951658d"
    },
    {
      "cell_type": "code",
      "execution_count": 63,
      "metadata": {
        "tags": []
      },
      "outputs": [],
      "source": [
        "# 계산방법2: 공식암기\n",
        "yhat = softmax(netout)\n",
        "-torch.sum(torch.log(yhat)*y)/3"
      ],
      "id": "2cc88737-fd06-450d-ad23-0084d1924e71"
    },
    {
      "cell_type": "code",
      "execution_count": 64,
      "metadata": {
        "tags": []
      },
      "outputs": [],
      "source": [
        "# 계산방법3: torch.nn.CrossEntropyLoss() 이용 + y는 0,1 로 정리\n",
        "y = y[:,-1].long() \n",
        "netout, y"
      ],
      "id": "090abc37-f55c-42ae-8116-4e34097f2b78"
    },
    {
      "cell_type": "code",
      "execution_count": 65,
      "metadata": {
        "tags": []
      },
      "outputs": [],
      "source": [
        "loss_fn = torch.nn.CrossEntropyLoss()\n",
        "loss_fn(netout,y)"
      ],
      "id": "bced33bc-df19-4b7f-aff3-879f3bfe3122"
    },
    {
      "cell_type": "markdown",
      "metadata": {},
      "source": [
        "`#`\n",
        "\n",
        "***`# 3개의 카테고리`***"
      ],
      "id": "15eb169d-f8b0-420a-8a23-8af6dd7eb2b7"
    },
    {
      "cell_type": "code",
      "execution_count": 66,
      "metadata": {
        "tags": []
      },
      "outputs": [],
      "source": [
        "y = torch.tensor([2,1,2,2,0])\n",
        "y_onehot = torch.nn.functional.one_hot(y)\n",
        "netout = torch.tensor(\n",
        "    [[-2.0000, -2.0000,  0.0000],\n",
        "     [ 3.1400,  3.1400,  3.1400],\n",
        "     [ 0.0000,  0.0000,  2.0000],\n",
        "     [ 2.0000,  2.0000,  4.0000],\n",
        "     [ 0.0000,  0.0000,  0.0000]]\n",
        ")\n",
        "y,y_onehot"
      ],
      "id": "548b72d7-3caa-43be-83fa-c920eafb9654"
    },
    {
      "cell_type": "code",
      "execution_count": 67,
      "metadata": {
        "tags": []
      },
      "outputs": [],
      "source": [
        "## 방법1 -- 추천X\n",
        "loss_fn = torch.nn.CrossEntropyLoss()\n",
        "loss_fn(netout,y_onehot.float())"
      ],
      "id": "01854de7-1bf6-424e-8365-d7a99e74994f"
    },
    {
      "cell_type": "code",
      "execution_count": 68,
      "metadata": {
        "tags": []
      },
      "outputs": [],
      "source": [
        "## 방법2 -- 추천O\n",
        "loss_fn = torch.nn.CrossEntropyLoss()\n",
        "loss_fn(netout,y)"
      ],
      "id": "ea9ac430-21df-4477-90ed-f875e53b9316"
    },
    {
      "cell_type": "code",
      "execution_count": 69,
      "metadata": {
        "tags": []
      },
      "outputs": [],
      "source": [
        "## 방법3 -- 공식.. (이걸 쓰는사람은 없겠지?)\n",
        "sft = torch.nn.Softmax()\n",
        "loss_fn = torch.nn.CrossEntropyLoss()\n",
        "- torch.sum(torch.log(sft(netout))*y_onehot)/5"
      ],
      "id": "386860b6-e2ce-49e9-8bda-dccab3f625ae"
    },
    {
      "cell_type": "markdown",
      "metadata": {},
      "source": [
        "`#`\n",
        "\n",
        "`-` 계산하는 공식을 아는것도 중요한데 torch.nn.CrossEntropyLoss() 에는\n",
        "softmax 활성화함수가 이미 포함되어 있다는 것을 확인하는 것이 더 중요함.\n",
        "\n",
        "`-` torch.nn.CrossEntropyLoss() 는 사실 torch.nn.CEWithSoftmaxLoss()\n",
        "정도로 바꾸는 것이 더 말이 되는 것 같다.\n",
        "\n",
        "## E. Minor Topic: 이진분류와 CrossEntropy\n",
        "\n",
        "`-` 2개의 클래스일경우에도 CrossEntropy를 쓸 수 있지 않을까?"
      ],
      "id": "513952f1-40c8-419e-a356-3de15d5ec406"
    },
    {
      "cell_type": "code",
      "execution_count": 70,
      "metadata": {
        "tags": []
      },
      "outputs": [],
      "source": [
        "## Step1: 데이터준비 \n",
        "path = untar_data(URLs.MNIST)\n",
        "X0 = torch.stack([torchvision.io.read_image(str(fname)) for fname in (path/'training/0').ls()])\n",
        "X1 = torch.stack([torchvision.io.read_image(str(fname)) for fname in (path/'training/1').ls()])\n",
        "X = torch.concat([X0,X1]).reshape(-1,1*28*28)/255\n",
        "y = torch.tensor([0]*len(X0) + [1]*len(X1))\n",
        "## Step2: 학습가능한 오브젝트 생성\n",
        "torch.manual_seed(43052)\n",
        "net = torch.nn.Sequential(\n",
        "    torch.nn.Linear(784,32),\n",
        "    torch.nn.ReLU(),\n",
        "    torch.nn.Linear(32,2),\n",
        "    #torch.nn.Softmax()\n",
        ")\n",
        "loss_fn = torch.nn.CrossEntropyLoss()\n",
        "optimizr = torch.optim.Adam(net.parameters())\n",
        "## Step3: fit  \n",
        "for epoc in range(70): \n",
        "    ## 1 \n",
        "    ## 2 \n",
        "    loss= loss_fn(net(X),y) \n",
        "    ## 3 \n",
        "    loss.backward()\n",
        "    ## 4 \n",
        "    optimizr.step()\n",
        "    optimizr.zero_grad() \n",
        "## Step4: Predict \n",
        "softmax = torch.nn.Softmax()\n",
        "(net(X).argmax(axis=1) == y).float().mean()"
      ],
      "id": "f3ebe3ec-d6b4-4f39-8ba7-84185ac104f2"
    },
    {
      "cell_type": "markdown",
      "metadata": {},
      "source": [
        "`-` 이진분류문제 = “y=0 or y=1” 을 맞추는 문제 = 성공과 실패를 맞추는\n",
        "문제 = 성공확률과 실패확률을 추정하는 문제\n",
        "\n",
        "`-` softmax, sigmoid\n",
        "\n",
        "-   softmax: (실패확률, 성공확률) 꼴로 결과가 나옴 // softmax는\n",
        "    실패확률과 성공확률을 둘다 추정한다.\n",
        "-   sigmoid: (성공확률) 꼴로 결과가 나옴 // sigmoid는 성공확률만\n",
        "    추정한다.\n",
        "\n",
        "`-` 그런데 “실패확률=1-성공확률” 이므로 사실상 둘은 같은걸 추정하는\n",
        "셈이다. (성공확률만 추정하면 실패확률은 저절로 추정되니까)\n",
        "\n",
        "`-` 즉 아래는 같은 표현력을 가진 모형이다.\n",
        "\n",
        "![](https://guebin.github.io/DL2022/posts/III.%20CNN/2022-10-20-8wk-1_files/figure-html/cell-53-output-1.svg)\n",
        "\n",
        "![](https://guebin.github.io/DL2022/posts/III.%20CNN/2022-10-20-8wk-1_files/figure-html/cell-54-output-1.svg)\n",
        "\n",
        "`-` 둘은 같은 표현력을 가진 모형인데 학습할 파라메터는 sigmoid의 경우가\n",
        "더 적다. $\\to$ sigmoid를 사용하는 모형이 비용은 싸고 효과는 동일하다는\n",
        "말 $\\to$ 이진분류 한정해서는 softmax를 쓰지말고 sigmoid를 써야함.\n",
        "\n",
        "-   softmax가 갑자기 너무 안좋아보이는데 sigmoid는 k개의 클래스로 확장이\n",
        "    불가능한 반면 softmax는 확장이 용이하다는 장점이 있음.\n",
        "\n",
        "## F. 정리\n",
        "\n",
        "`-` 결론\n",
        "\n",
        "1.  소프트맥스는 시그모이드의 확장이다.\n",
        "2.  클래스의 수가 2개일 경우에는 (Sigmoid, BCEloss) 조합을 사용해야 하고\n",
        "    클래스의 수가 2개보다 클 경우에는 (Softmax, CrossEntropyLoss) 를\n",
        "    사용해야 한다.\n",
        "\n",
        "`-` 그런데 사실.. 클래스의 수가 2개일 경우일때 (Softmax,\n",
        "CrossEntropyLoss)를 사용해도 그렇게 큰일나는것은 아니다. (그냥 좀\n",
        "비효율적인 느낌이 드는 것 뿐임. 흑백이미지를 칼라잉크로 출력하는 느낌)\n",
        "\n",
        "***참고***\n",
        "\n",
        "|               $y$               |            분포가정             | 마지막층의 활성화함수 |   손실함수    |\n",
        "|:-------------------------------:|:-------------------------------:|:---------------------:|:-------------:|\n",
        "|     3.45, 4.43, … (연속형)      |            정규분포             |  None (or Identity)   |      MSE      |\n",
        "|             0 or 1              | 이항분포 with $n=1$ (=베르누이) |        Sigmoid        |      BCE      |\n",
        "| \\[0,0,1\\], \\[0,1,0\\], \\[1,0,0\\] |       다항분포 with $n=1$       |        Softmax        | Cross Entropy |\n",
        "\n",
        "# A1. 자잘한 용어 정리 ($\\star$)\n",
        "\n",
        "## A. 지도학습\n",
        "\n",
        "`-` 우리가 수업에서 다루는 데이터는 주로 아래와 같은 느낌이다.\n",
        "\n",
        "1.  데이터는 $(X,y)$의 형태로 정리되어 있다.\n",
        "\n",
        "2.  $y$는 우리가 관심이 있는 변수이다. 즉 우리는 $y$를 적절하게 추정하는\n",
        "    것에 관심이 있다.\n",
        "\n",
        "3.  $X$는 $y$를 추정하기 위해 필요한 정보이다.\n",
        "\n",
        "|  $X$ = 설명변수 = 독립변수   | $y$ = 반응변수 = 종속변수  |     비고     |     순서     |           예시           |\n",
        "|:-------------:|:-------------:|:-------------:|:-------------:|:-------------:|\n",
        "|            이미지            |          카테고리          | 합성곱신경망 |   상관없음   |  개/고양이 이미지 구분   |\n",
        "|         유저,아이템          |            평점            |  추천시스템  |   상관없음   |    넷플릭스 영화추천     |\n",
        "|     과거~오늘까지의주가      |          내일주가          |  순환신경망  | 순서상관있음 |         주가예측         |\n",
        "| 처음 $m$개의 단어(혹은 문장) | 이후 1개의 단어(혹은 문장) |  순환신경망  | 순서상관있음 |     챗봇, 텍스트생성     |\n",
        "| 처음 $m$개의 단어(혹은 문장) |          카테고리          |  순환신경망  | 순서상관있음 | 영화리뷰 텍스트 감정분류 |\n",
        "\n",
        "`-` 이러한 문제상황, 즉 $(X,y)$가 주어졌을때 $X \\to y$를 추정하는 문제를\n",
        "supervised learning 이라한다.\n",
        "\n",
        "## B. 모델이란?\n",
        "\n",
        "> 모델이란 단어는 제 발작버튼이었어요..\n",
        "\n",
        "`-` 통계학에서 모델은 y와 x의 관계를 의미하며 오차항의 설계를 포함하는\n",
        "개념이다. 이는 통계학이 “데이터 = 정보 + 오차”의 관점을 유지하기\n",
        "때문이다. 따라서 통계학에서 모델링이란\n",
        "\n",
        "$$y_i = net(x_i) + \\epsilon_i$$\n",
        "\n",
        "에서 (1) 적절한 함수 $net$를 선택하는 일 (2) 적절한 오차항 $\\epsilon_i$\n",
        "을 설계하는일 모두를 포함한다.\n",
        "\n",
        "`-` 딥러닝 혹은 머신러닝에서 모델은 단순히\n",
        "\n",
        "$$y_i \\approx net(x_i)$$\n",
        "\n",
        "를 의미하는 경우가 많다. 즉 “model=net”라고 생각해도 무방하다. 이 경우\n",
        "“모델링”이란 단순히 적절한 $net$을 설계하는 것만을 의미할 경우가 많다.\n",
        "\n",
        "`-` 그래서 생긴일\n",
        "\n",
        "-   통계학교재 특: 분류문제와 회귀문제를 엄밀하게 구분하지 않는다. 사실\n",
        "    오차항만 다를뿐이지 크게보면 같은 회귀모형이라는 관점이다. 그래서\n",
        "    일반화선형모형(GLM)이라는 용어를 쓴다.\n",
        "-   머신러닝/딥러닝교재 특: 회귀문제와 분류문제를 구분해서 설명한다.\n",
        "    (표도 만듦) 이는 오차항에 대한 기술을 모호하게 하여 생기는 현상이다.\n",
        "\n",
        "## C. 학습이란?\n",
        "\n",
        "`-` 학습이란 주어진 자료 $(X,y)$를 잘 분석하여 $X$에서 $y$로 가는 어떠한\n",
        "“규칙” 혹은 “원리”를 찾는 것이다.\n",
        "\n",
        "-   학습이란 주어진 자료 $(X,y)$를 잘 분석하여 $X$에서 $y$로 가는 어떠한\n",
        "    “맵핑”을 찾는 것이다.\n",
        "-   학습이란 주어진 자료 $(X,y)$를 잘 분석하여 $X$에서 $y$로 가는 어떠한\n",
        "    “함수”을 찾는 것이다. 즉 $y\\approx f(X)$가 되도록 만드는 $f$를 잘\n",
        "    찾는 것이다. (이 경우 “함수를 추정한다”라고 표현)\n",
        "-   학습이란 주어진 자료 $(X,y)$를 잘 분석하여 $X$에서 $y$로 가는 어떠한\n",
        "    “모델” 혹은 “모형”을 찾는 것이다. 즉 $y\\approx model(X)$가 되도록\n",
        "    만드는 $model$을 잘 찾는 것이다. (이 경우 “모형을 학습시킨다”라고\n",
        "    표현)\n",
        "-   **학습이란 주어진 자료 $(X,y)$를 잘 분석하여 $X$에서 $y$로 가는\n",
        "    어떠한 “네트워크”을 찾는 것이다. 즉 $y\\approx net(X)$가 되도록\n",
        "    만드는 $net$을 잘 찾는 것이다. (이 경우 “네트워크를 학습시킨다”라고\n",
        "    표현)**\n",
        "\n",
        "`-` prediction이란 학습과정에서 찾은 “규칙” 혹은 “원리”를 $X$에 적용하여\n",
        "$\\hat{y}$을 구하는 과정이다. 학습과정에서 찾은 규칙 혹은 원리는\n",
        "$f$,$model$,$net$ 으로 생각가능한데 이에 따르면 아래가 성립한다.\n",
        "\n",
        "-   $\\hat{y} = f(X)$\n",
        "-   $\\hat{y} = model(X)$\n",
        "-   $\\hat{y} = net(X)$\n",
        "\n",
        "## D. $\\hat{y}$를 부르는 다양한 이름\n",
        "\n",
        "`-` $\\hat{y}$는 $X$가 주어진 자료에 있는 값인지 아니면 새로운 값 인지에\n",
        "따라 지칭하는 이름이 미묘하게 다르다.\n",
        "\n",
        "1.  $X \\in data$: $\\hat{y}=net(X)$ 는 predicted value, fitted value 라고\n",
        "    부른다.\n",
        "\n",
        "2.  $X \\notin data$: $\\hat{y}=net(X)$ 는 predicted value, predicted\n",
        "    value with new data 라고 부른다.\n",
        "\n",
        "`-` 경우1은 “$loss$ = $y$ 와 $\\hat{y}$ 의 차이” 를 정의할 수 있으나\n",
        "경우2는 그렇지 않다.\n",
        "\n",
        "## E. 다양한 코드들\n",
        "\n",
        "`-` 파이썬 코드..\n",
        "\n",
        "``` python\n",
        "#Python\n",
        "predictor.fit(X,y) # autogluon 에서 \"학습\"을 의미하는 과정\n",
        "model.fit(X,y) # sklearn 에서 \"학습\"을 의미하는 과정\n",
        "learner.learn() # fastai 에서 \"학습\"을 의미하는 과정\n",
        "learner.fine_tune(1) # fastai 에서 \"부분학습\"을 의미하는 과정\n",
        "learner.predict(cat1) # fastai 에서 \"예측\"을 의미하는 과정 \n",
        "model.fit(x, y, batch_size=32, epochs=10) # keras에서 \"학습\"을 의미하는 과정\n",
        "model.predict(test_img) # keras에서 \"예측\"을 의미하는 과정 \n",
        "```\n",
        "\n",
        "`-` R 코드..\n",
        "\n",
        "``` r\n",
        "# R\n",
        "ols <- lm(y~x) # 선형회귀분석에서 학습을 의미하는 함수\n",
        "ols$fitted.values # 선형회귀분석에서 yhat을 출력 \n",
        "predict(ols, newdata=test) # 선형회귀분석에서 test에 대한 예측값을 출력하는 함수\n",
        "ols$coef # 선형회귀분석에서 weight를 확인하는 방법\n",
        "```\n",
        "\n",
        "# A2. 참고자료들\n",
        "\n",
        "`-` 케라스/텐서플로우: <https://guebin.github.io/STBDA2022/>\n",
        "\n",
        "`-` 상속:\n",
        "<https://guebin.github.io/PP2023/posts/03_Class/2023-06-12-15wk-1.html>\n",
        "\n",
        "`-` sklearn/autogluon: <https://guebin.github.io/MP2023/>\n",
        "\n",
        "`-` 리눅스관련: <https://guebin.github.io/DSTBX2024/> – 자료 부실함..\n",
        "강의영상 없는것 많음.."
      ],
      "id": "17c32530-1ea8-4f01-86f3-26a38430206e"
    }
  ],
  "nbformat": 4,
  "nbformat_minor": 5,
  "metadata": {
    "kernelspec": {
      "name": "python3",
      "display_name": "Python 3 (ipykernel)",
      "language": "python"
    },
    "language_info": {
      "name": "python",
      "codemirror_mode": {
        "name": "ipython",
        "version": "3"
      },
      "file_extension": ".py",
      "mimetype": "text/x-python",
      "nbconvert_exporter": "python",
      "pygments_lexer": "ipython3",
      "version": "3.11.8"
    }
  }
}