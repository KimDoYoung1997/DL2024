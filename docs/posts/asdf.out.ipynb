{
  "cells": [
    {
      "cell_type": "markdown",
      "metadata": {},
      "source": [
        "# 12wk-1: 순환신경망 (2) – RNN\n",
        "\n",
        "최규빈  \n",
        "2024-05-15\n",
        "\n",
        "## E. 구현3 – RNN\n",
        "\n",
        "ref: <https://pytorch.org/docs/stable/generated/torch.nn.RNN.html>\n",
        "\n",
        "`-` 데이터정리"
      ],
      "id": "b7945cee-c6ab-4798-8a7d-fc6afb81021e"
    },
    {
      "cell_type": "code",
      "execution_count": 153,
      "metadata": {
        "tags": []
      },
      "outputs": [],
      "source": [
        "x = torch.tensor(df_train.x.map({'A':0,'b':1,'c':2,'d':3}))\n",
        "y = torch.tensor(df_train.y.map({'A':0,'b':1,'c':2,'d':3}))\n",
        "X = torch.nn.functional.one_hot(x).float()\n",
        "y = torch.nn.functional.one_hot(y).float()"
      ],
      "id": "075e6213-fc63-4c6b-8f85-b21fed283e7e"
    },
    {
      "cell_type": "markdown",
      "metadata": {},
      "source": [
        "`-` Net설계 및 가중치 설정 (구현1,2와 동일하도록 가중치 초기화)"
      ],
      "id": "854bab65-968d-4b0c-bea3-eb4a5d1bd79e"
    },
    {
      "cell_type": "code",
      "execution_count": 154,
      "metadata": {
        "tags": []
      },
      "outputs": [],
      "source": [
        "torch.manual_seed(43052)\n",
        "_rnncell = rNNCell()\n",
        "cook = torch.nn.Linear(2,4)"
      ],
      "id": "b0e48f72-aed4-4432-804f-f6ea6e6b1bba"
    },
    {
      "cell_type": "code",
      "execution_count": 155,
      "metadata": {
        "tags": []
      },
      "outputs": [],
      "source": [
        "rnn = torch.nn.RNN(4,2)\n",
        "rnn.weight_ih_l0.data = _rnncell.i2h.weight.data \n",
        "rnn.weight_hh_l0.data = _rnncell.h2h.weight.data \n",
        "rnn.bias_ih_l0.data = _rnncell.i2h.bias.data \n",
        "rnn.bias_hh_l0.data = _rnncell.h2h.bias.data "
      ],
      "id": "e5cfa17d-6ab8-4060-9937-b4470b6cac4c"
    },
    {
      "cell_type": "markdown",
      "metadata": {},
      "source": [
        "`-` 손실함수 및 옵티마이저 설정"
      ],
      "id": "cbb877cd-135e-4138-b701-04ed82442b5d"
    },
    {
      "cell_type": "code",
      "execution_count": 156,
      "metadata": {
        "tags": []
      },
      "outputs": [],
      "source": [
        "loss_fn = torch.nn.CrossEntropyLoss() \n",
        "optimizr = torch.optim.Adam(list(rnn.parameters())+list(cook.parameters()),lr=0.1)"
      ],
      "id": "6c0f4309-f82f-469c-82da-505830baff9d"
    },
    {
      "cell_type": "markdown",
      "metadata": {},
      "source": [
        "`-` 학습"
      ],
      "id": "b14df925-527c-4507-bb79-6612d0bb27a0"
    },
    {
      "cell_type": "code",
      "execution_count": 157,
      "metadata": {
        "tags": []
      },
      "outputs": [],
      "source": [
        "Water = torch.zeros(1,2) # 여기에서 1=D*num_layers임 //  D는 단방향=1 양방향=2, num_layers는 stacking RNN의 중첩수 \n",
        "for epoc in range(200):\n",
        "    ## 1 \n",
        "    h,hL = rnn(X,Water)\n",
        "    netout = cook(h) \n",
        "    ## 2 \n",
        "    loss = loss_fn(netout,y)\n",
        "    ## 3 \n",
        "    loss.backward()\n",
        "    ## 4 \n",
        "    optimizr.step()\n",
        "    optimizr.zero_grad()"
      ],
      "id": "6ada29c3-7b61-480f-be0e-a8a0abae8c6b"
    },
    {
      "cell_type": "markdown",
      "metadata": {},
      "source": [
        "`-` 결과확인"
      ],
      "id": "dc7b9a00-da4f-4b38-b059-2db2860305fb"
    },
    {
      "cell_type": "code",
      "execution_count": 158,
      "metadata": {
        "tags": []
      },
      "outputs": [],
      "source": [
        "h,_ = rnn(X,Water)\n",
        "netout = cook(h)\n",
        "yhat = soft(netout)\n",
        "yhat"
      ],
      "id": "f8dcb396-1ef3-454b-86ea-502933877979"
    },
    {
      "cell_type": "markdown",
      "metadata": {},
      "source": [
        "-   구현1, 구현2와 같은결과"
      ],
      "id": "ff3fc93b-e8cd-49ab-9065-0c9cfb4248cf"
    }
  ],
  "nbformat": 4,
  "nbformat_minor": 5,
  "metadata": {
    "kernelspec": {
      "name": "python3",
      "display_name": "Python 3 (ipykernel)",
      "language": "python"
    },
    "language_info": {
      "name": "python",
      "codemirror_mode": {
        "name": "ipython",
        "version": "3"
      },
      "file_extension": ".py",
      "mimetype": "text/x-python",
      "nbconvert_exporter": "python",
      "pygments_lexer": "ipython3",
      "version": "3.11.8"
    }
  }
}