{
  "cells": [
    {
      "cell_type": "markdown",
      "metadata": {},
      "source": [
        "# 12wk-1: 순환신경망 (2) – RNN\n",
        "\n",
        "최규빈  \n",
        "2024-05-15\n",
        "\n",
        "## E. 구현3 – RNN\n",
        "\n",
        "ref: <https://pytorch.org/docs/stable/generated/torch.nn.RNN.html>\n",
        "\n",
        "`-` 데이터정리"
      ],
      "id": "9f3cb0b6-a477-4f40-b830-759c1705af6f"
    },
    {
      "cell_type": "code",
      "execution_count": 153,
      "metadata": {
        "tags": []
      },
      "outputs": [],
      "source": [
        "x = torch.tensor(df_train.x.map({'A':0,'b':1,'c':2,'d':3}))\n",
        "y = torch.tensor(df_train.y.map({'A':0,'b':1,'c':2,'d':3}))\n",
        "X = torch.nn.functional.one_hot(x).float()\n",
        "y = torch.nn.functional.one_hot(y).float()"
      ],
      "id": "075e6213-fc63-4c6b-8f85-b21fed283e7e"
    },
    {
      "cell_type": "markdown",
      "metadata": {},
      "source": [
        "`-` Net설계 및 가중치 설정 (구현1,2와 동일하도록 가중치 초기화)"
      ],
      "id": "aacb3d0b-6bd9-405a-a51d-32940d88c4b3"
    },
    {
      "cell_type": "code",
      "execution_count": 154,
      "metadata": {
        "tags": []
      },
      "outputs": [],
      "source": [
        "torch.manual_seed(43052)\n",
        "_rnncell = rNNCell()\n",
        "cook = torch.nn.Linear(2,4)"
      ],
      "id": "b0e48f72-aed4-4432-804f-f6ea6e6b1bba"
    },
    {
      "cell_type": "code",
      "execution_count": 155,
      "metadata": {
        "tags": []
      },
      "outputs": [],
      "source": [
        "rnn = torch.nn.RNN(4,2)\n",
        "rnn.weight_ih_l0.data = _rnncell.i2h.weight.data \n",
        "rnn.weight_hh_l0.data = _rnncell.h2h.weight.data \n",
        "rnn.bias_ih_l0.data = _rnncell.i2h.bias.data \n",
        "rnn.bias_hh_l0.data = _rnncell.h2h.bias.data "
      ],
      "id": "e5cfa17d-6ab8-4060-9937-b4470b6cac4c"
    },
    {
      "cell_type": "markdown",
      "metadata": {},
      "source": [
        "`-` 손실함수 및 옵티마이저 설정"
      ],
      "id": "26b4fbbf-3a36-4196-9c43-24f8daeacf74"
    },
    {
      "cell_type": "code",
      "execution_count": 156,
      "metadata": {
        "tags": []
      },
      "outputs": [],
      "source": [
        "loss_fn = torch.nn.CrossEntropyLoss() \n",
        "optimizr = torch.optim.Adam(list(rnn.parameters())+list(cook.parameters()),lr=0.1)"
      ],
      "id": "6c0f4309-f82f-469c-82da-505830baff9d"
    },
    {
      "cell_type": "markdown",
      "metadata": {},
      "source": [
        "`-` 학습"
      ],
      "id": "9c294169-2788-46ad-a658-8b12ca15b4d0"
    },
    {
      "cell_type": "code",
      "execution_count": 157,
      "metadata": {
        "tags": []
      },
      "outputs": [],
      "source": [
        "Water = torch.zeros(1,2) # 여기에서 1=D*num_layers임 //  D는 단방향=1 양방향=2, num_layers는 stacking RNN의 중첩수 \n",
        "for epoc in range(200):\n",
        "    ## 1 \n",
        "    h,hL = rnn(X,Water)\n",
        "    netout = cook(h) \n",
        "    ## 2 \n",
        "    loss = loss_fn(netout,y)\n",
        "    ## 3 \n",
        "    loss.backward()\n",
        "    ## 4 \n",
        "    optimizr.step()\n",
        "    optimizr.zero_grad()"
      ],
      "id": "6ada29c3-7b61-480f-be0e-a8a0abae8c6b"
    },
    {
      "cell_type": "markdown",
      "metadata": {},
      "source": [
        "`-` 결과확인"
      ],
      "id": "a09a8ca6-fb51-4691-aa2b-7b327bba36f8"
    },
    {
      "cell_type": "code",
      "execution_count": 158,
      "metadata": {
        "tags": []
      },
      "outputs": [],
      "source": [
        "h,_ = rnn(X,Water)\n",
        "netout = cook(h)\n",
        "yhat = soft(netout)\n",
        "yhat"
      ],
      "id": "f8dcb396-1ef3-454b-86ea-502933877979"
    },
    {
      "cell_type": "markdown",
      "metadata": {},
      "source": [
        "-   구현1, 구현2와 같은결과"
      ],
      "id": "6cc0b944-c830-4634-b458-ff110d82ca69"
    }
  ],
  "nbformat": 4,
  "nbformat_minor": 5,
  "metadata": {
    "kernelspec": {
      "name": "python3",
      "display_name": "Python 3 (ipykernel)",
      "language": "python"
    },
    "language_info": {
      "name": "python",
      "codemirror_mode": {
        "name": "ipython",
        "version": "3"
      },
      "file_extension": ".py",
      "mimetype": "text/x-python",
      "nbconvert_exporter": "python",
      "pygments_lexer": "ipython3",
      "version": "3.11.8"
    }
  }
}