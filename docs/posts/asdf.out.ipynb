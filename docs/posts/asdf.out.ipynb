{
  "cells": [
    {
      "cell_type": "markdown",
      "metadata": {},
      "source": [
        "# 12wk-1: 순환신경망 (2) – RNN\n",
        "\n",
        "최규빈  \n",
        "2024-05-15\n",
        "\n",
        "## E. 구현3 – RNN\n",
        "\n",
        "ref: <https://pytorch.org/docs/stable/generated/torch.nn.RNN.html>\n",
        "\n",
        "`-` 데이터정리"
      ],
      "id": "47184f82-0fc6-45ba-935b-47b717f70081"
    },
    {
      "cell_type": "code",
      "execution_count": 153,
      "metadata": {
        "tags": []
      },
      "outputs": [],
      "source": [
        "x = torch.tensor(df_train.x.map({'A':0,'b':1,'c':2,'d':3}))\n",
        "y = torch.tensor(df_train.y.map({'A':0,'b':1,'c':2,'d':3}))\n",
        "X = torch.nn.functional.one_hot(x).float()\n",
        "y = torch.nn.functional.one_hot(y).float()"
      ],
      "id": "075e6213-fc63-4c6b-8f85-b21fed283e7e"
    },
    {
      "cell_type": "markdown",
      "metadata": {},
      "source": [
        "`-` Net설계 및 가중치 설정 (구현1,2와 동일하도록 가중치 초기화)"
      ],
      "id": "2e52caf8-3a8f-4295-b255-e56bbebf2469"
    },
    {
      "cell_type": "code",
      "execution_count": 154,
      "metadata": {
        "tags": []
      },
      "outputs": [],
      "source": [
        "torch.manual_seed(43052)\n",
        "_rnncell = rNNCell()\n",
        "cook = torch.nn.Linear(2,4)"
      ],
      "id": "b0e48f72-aed4-4432-804f-f6ea6e6b1bba"
    },
    {
      "cell_type": "code",
      "execution_count": 155,
      "metadata": {
        "tags": []
      },
      "outputs": [],
      "source": [
        "rnn = torch.nn.RNN(4,2)\n",
        "rnn.weight_ih_l0.data = _rnncell.i2h.weight.data \n",
        "rnn.weight_hh_l0.data = _rnncell.h2h.weight.data \n",
        "rnn.bias_ih_l0.data = _rnncell.i2h.bias.data \n",
        "rnn.bias_hh_l0.data = _rnncell.h2h.bias.data "
      ],
      "id": "e5cfa17d-6ab8-4060-9937-b4470b6cac4c"
    },
    {
      "cell_type": "markdown",
      "metadata": {},
      "source": [
        "`-` 손실함수 및 옵티마이저 설정"
      ],
      "id": "729a142c-3d3e-4dbf-936b-f1a479783f7a"
    },
    {
      "cell_type": "code",
      "execution_count": 156,
      "metadata": {
        "tags": []
      },
      "outputs": [],
      "source": [
        "loss_fn = torch.nn.CrossEntropyLoss() \n",
        "optimizr = torch.optim.Adam(list(rnn.parameters())+list(cook.parameters()),lr=0.1)"
      ],
      "id": "6c0f4309-f82f-469c-82da-505830baff9d"
    },
    {
      "cell_type": "markdown",
      "metadata": {},
      "source": [
        "`-` 학습"
      ],
      "id": "70221b06-af6e-479b-ab5e-9c51015bd461"
    },
    {
      "cell_type": "code",
      "execution_count": 157,
      "metadata": {
        "tags": []
      },
      "outputs": [],
      "source": [
        "Water = torch.zeros(1,2) # 여기에서 1=D*num_layers임 //  D는 단방향=1 양방향=2, num_layers는 stacking RNN의 중첩수 \n",
        "for epoc in range(200):\n",
        "    ## 1 \n",
        "    h,hL = rnn(X,Water)\n",
        "    netout = cook(h) \n",
        "    ## 2 \n",
        "    loss = loss_fn(netout,y)\n",
        "    ## 3 \n",
        "    loss.backward()\n",
        "    ## 4 \n",
        "    optimizr.step()\n",
        "    optimizr.zero_grad()"
      ],
      "id": "6ada29c3-7b61-480f-be0e-a8a0abae8c6b"
    },
    {
      "cell_type": "markdown",
      "metadata": {},
      "source": [
        "`-` 결과확인"
      ],
      "id": "512a4ae9-e1d5-487c-a129-fb6c6c377c0c"
    },
    {
      "cell_type": "code",
      "execution_count": 158,
      "metadata": {
        "tags": []
      },
      "outputs": [],
      "source": [
        "h,_ = rnn(X,Water)\n",
        "netout = cook(h)\n",
        "yhat = soft(netout)\n",
        "yhat"
      ],
      "id": "f8dcb396-1ef3-454b-86ea-502933877979"
    },
    {
      "cell_type": "markdown",
      "metadata": {},
      "source": [
        "-   구현1, 구현2와 같은결과"
      ],
      "id": "a8220221-b5ee-4e86-ae27-1088aa49abc4"
    }
  ],
  "nbformat": 4,
  "nbformat_minor": 5,
  "metadata": {
    "kernelspec": {
      "name": "python3",
      "display_name": "Python 3 (ipykernel)",
      "language": "python"
    },
    "language_info": {
      "name": "python",
      "codemirror_mode": {
        "name": "ipython",
        "version": "3"
      },
      "file_extension": ".py",
      "mimetype": "text/x-python",
      "nbconvert_exporter": "python",
      "pygments_lexer": "ipython3",
      "version": "3.11.8"
    }
  }
}