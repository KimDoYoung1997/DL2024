{
  "cells": [
    {
      "cell_type": "markdown",
      "metadata": {},
      "source": [
        "# 13wk-1: 순환신경망 (4)\n",
        "\n",
        "최규빈  \n",
        "2024-05-27\n",
        "\n",
        "# 1. 강의영상\n",
        "\n",
        "# 2. Import"
      ],
      "id": "053ac498-8401-4554-b447-8764f2753ce1"
    },
    {
      "cell_type": "code",
      "execution_count": 1,
      "metadata": {
        "tags": []
      },
      "outputs": [],
      "source": [
        "import torch\n",
        "import pandas as pd\n",
        "import matplotlib.pyplot as plt"
      ],
      "id": "7b9d91c0-5d8b-419c-8bd1-900b958ab38b"
    },
    {
      "cell_type": "code",
      "execution_count": 2,
      "metadata": {
        "tags": []
      },
      "outputs": [],
      "source": [
        "soft = torch.nn.Softmax(dim=1)\n",
        "sig = torch.nn.Sigmoid()\n",
        "tanh = torch.nn.Tanh()"
      ],
      "id": "94b48461-2be7-4dc9-9c8b-6538bf629cc2"
    },
    {
      "cell_type": "markdown",
      "metadata": {},
      "source": [
        "# 3. Data – `abcabC`"
      ],
      "id": "1ce1ea7a-3ed2-4a2f-a229-91bc4fc76d1f"
    },
    {
      "cell_type": "code",
      "execution_count": 354,
      "metadata": {
        "tags": []
      },
      "outputs": [],
      "source": [
        "txt = list('abcabC')*50\n",
        "txt[:10]"
      ],
      "id": "01e05d7e-833a-400f-80ac-68b24310ab6a"
    },
    {
      "cell_type": "code",
      "execution_count": 355,
      "metadata": {
        "tags": []
      },
      "outputs": [],
      "source": [
        "df_train = pd.DataFrame({'x':txt[:-1], 'y':txt[1:]})\n",
        "df_train[:5]"
      ],
      "id": "b4937931-a9f2-4efa-95c2-39bed26cd779"
    },
    {
      "cell_type": "code",
      "execution_count": 356,
      "metadata": {
        "tags": []
      },
      "outputs": [],
      "source": [
        "x = torch.tensor(df_train.x.map({'a':0,'b':1,'c':2,'C':3}))\n",
        "y = torch.tensor(df_train.y.map({'a':0,'b':1,'c':2,'C':3}))\n",
        "X = torch.nn.functional.one_hot(x).float()\n",
        "y = torch.nn.functional.one_hot(y).float()"
      ],
      "id": "a8bc9363-4c7f-41dd-b5d4-c1537937979f"
    },
    {
      "cell_type": "markdown",
      "metadata": {},
      "source": [
        "# 4. LSTM의 계산과정 재현\n",
        "\n",
        "## A. `torch.nn.LSTMCell`"
      ],
      "id": "84a45033-169d-4edd-85c4-f2a0b628ebca"
    },
    {
      "cell_type": "code",
      "execution_count": 591,
      "metadata": {
        "tags": []
      },
      "outputs": [],
      "source": [
        "torch.manual_seed(43052) \n",
        "lstmcell = torch.nn.LSTMCell(4,2) \n",
        "cook = torch.nn.Linear(2,4)\n",
        "loss_fn = torch.nn.CrossEntropyLoss() \n",
        "optimizr = torch.optim.Adam(list(lstmcell.parameters())+list(cook.parameters()),lr=0.1)"
      ],
      "id": "3ee83a6c-4e7f-4c70-9a87-9b6c824abaf9"
    },
    {
      "cell_type": "code",
      "execution_count": 592,
      "metadata": {
        "tags": []
      },
      "outputs": [],
      "source": [
        "T = len(x) \n",
        "for epoc in range(1):\n",
        "    ht = torch.zeros(2)\n",
        "    ct = torch.zeros(2)\n",
        "    loss = 0 \n",
        "    ## 1~2\n",
        "    for t in range(L):\n",
        "        Xt,yt = X[t], y[t]\n",
        "        ht,ct = lstmcell(Xt,(ht,ct))\n",
        "        ot = cook(ht) \n",
        "        loss = loss + loss_fn(ot,yt)\n",
        "    loss = loss / T\n",
        "    ## 3 \n",
        "    loss.backward()\n",
        "    ## 4 \n",
        "    optimizr.step()\n",
        "    optimizr.zero_grad()"
      ],
      "id": "73a1b4a0-644e-463e-abd1-46ee676cdd33"
    },
    {
      "cell_type": "code",
      "execution_count": 593,
      "metadata": {
        "tags": []
      },
      "outputs": [],
      "source": [
        "ht,ct "
      ],
      "id": "b21e6c50-233c-497d-99b7-b8a9601a0781"
    },
    {
      "cell_type": "markdown",
      "metadata": {},
      "source": [
        "## B. 직접구현\n",
        "\n",
        "### ***t=0 $\\to$ t=1***\n",
        "\n",
        "`-` lstm_cell 을 이용한 계산 (결과비교용)"
      ],
      "id": "7ab340b9-a3c8-46c9-8582-c060c264426d"
    },
    {
      "cell_type": "code",
      "execution_count": 594,
      "metadata": {
        "tags": []
      },
      "outputs": [],
      "source": [
        "torch.manual_seed(43052) \n",
        "lstmcell = torch.nn.LSTMCell(4,2) \n",
        "cook = torch.nn.Linear(2,4)\n",
        "loss_fn = torch.nn.CrossEntropyLoss() \n",
        "optimizr = torch.optim.Adam(list(lstmcell.parameters())+list(cook.parameters()),lr=0.1)"
      ],
      "id": "ca79e937-34cd-4c2e-933b-df07108a7e46"
    },
    {
      "cell_type": "code",
      "execution_count": 595,
      "metadata": {
        "tags": []
      },
      "outputs": [],
      "source": [
        "L = len(x) \n",
        "for epoc in range(1):\n",
        "    ht = torch.zeros(2)\n",
        "    ct = torch.zeros(2)\n",
        "    loss = 0 \n",
        "    ## 1~2\n",
        "    for t in range(1):\n",
        "        Xt,yt = X[t], y[t]\n",
        "        ht,ct = lstmcell(Xt,(ht,ct))\n",
        "        ot = cook(ht) \n",
        "        loss = loss + loss_fn(ot,yt)\n",
        "    loss = loss / T\n",
        "    ## 3 \n",
        "    loss.backward()\n",
        "    ## 4 \n",
        "    optimizr.step()\n",
        "    optimizr.zero_grad()"
      ],
      "id": "98c2dc3b-3dd3-4cdf-b324-e005fc46d91c"
    },
    {
      "cell_type": "code",
      "execution_count": 596,
      "metadata": {
        "tags": []
      },
      "outputs": [],
      "source": [
        "ht,ct "
      ],
      "id": "b193e6e0-ef11-4b74-9363-b59fd7255107"
    },
    {
      "cell_type": "markdown",
      "metadata": {},
      "source": [
        "-   이런결과를 어떻게 만드는걸까?\n",
        "-   <https://pytorch.org/docs/stable/generated/torch.nn.LSTM.html>\n",
        "\n",
        "`-` 직접계산"
      ],
      "id": "1f6591ca-5867-4dd7-83f5-f756bd1e620c"
    },
    {
      "cell_type": "code",
      "execution_count": 597,
      "metadata": {
        "tags": []
      },
      "outputs": [],
      "source": [
        "ht = torch.zeros(2)\n",
        "ct = torch.zeros(2)"
      ],
      "id": "9da8b17a-2a8a-4939-805e-9db848ffd3f6"
    },
    {
      "cell_type": "code",
      "execution_count": 598,
      "metadata": {
        "tags": []
      },
      "outputs": [],
      "source": [
        "ifgo = Xt @ lstmcell.weight_ih.T + ht @ lstmcell.weight_hh.T + lstmcell.bias_ih + lstmcell.bias_hh"
      ],
      "id": "106ead13-7493-433d-89a3-b81811356c31"
    },
    {
      "cell_type": "code",
      "execution_count": 599,
      "metadata": {
        "tags": []
      },
      "outputs": [],
      "source": [
        "ifgo"
      ],
      "id": "0aaa120e-3c08-417d-948b-13671d27cae2"
    },
    {
      "cell_type": "code",
      "execution_count": 600,
      "metadata": {
        "tags": []
      },
      "outputs": [],
      "source": [
        "input_gate = sig(ifgo[0:2])\n",
        "forget_gate = sig(ifgo[2:4])\n",
        "gt = tanh(ifgo[4:6])\n",
        "output_gate = sig(ifgo[6:8])"
      ],
      "id": "470a9854-f64e-478d-8360-8eb67ca43663"
    },
    {
      "cell_type": "code",
      "execution_count": 601,
      "metadata": {
        "tags": []
      },
      "outputs": [],
      "source": [
        "ct = forget_gate * ct + input_gate * gt\n",
        "ht = output_gate * tanh(ct)"
      ],
      "id": "a527c607-7881-4839-8f8d-4509e0a9a866"
    },
    {
      "cell_type": "code",
      "execution_count": 602,
      "metadata": {
        "tags": []
      },
      "outputs": [],
      "source": [
        "ht,ct"
      ],
      "id": "96ce65b6-8f12-4769-a6c6-b14a69d1dac2"
    },
    {
      "cell_type": "markdown",
      "metadata": {},
      "source": [
        "### ***t=0 $\\to$ t=T***"
      ],
      "id": "0f4e2045-75a3-4924-a2fe-9eaa0a1be693"
    },
    {
      "cell_type": "code",
      "execution_count": 603,
      "metadata": {
        "tags": []
      },
      "outputs": [],
      "source": [
        "torch.manual_seed(43052) \n",
        "lstmcell = torch.nn.LSTMCell(4,2) \n",
        "cook = torch.nn.Linear(2,4)\n",
        "loss_fn = torch.nn.CrossEntropyLoss() \n",
        "optimizr = torch.optim.Adam(list(lstmcell.parameters())+list(cook.parameters()),lr=0.1)"
      ],
      "id": "e7838cb2-3a22-4b28-b4bf-38ea0dc6c515"
    },
    {
      "cell_type": "code",
      "execution_count": 604,
      "metadata": {
        "tags": []
      },
      "outputs": [],
      "source": [
        "L = len(X) \n",
        "for epoc in range(1):\n",
        "    ht = torch.zeros(2)\n",
        "    ct = torch.zeros(2)\n",
        "    loss = 0 \n",
        "    ## 1~2\n",
        "    for t in range(L):\n",
        "        Xt,yt = X[t], y[t]\n",
        "        #--#\n",
        "        ## lstm_cell step1: calculate ifgo \n",
        "        ifgo = Xt @ lstmcell.weight_ih.T + ht @ lstmcell.weight_hh.T + lstmcell.bias_ih + lstmcell.bias_hh\n",
        "        ## lstm_cell step2: decompose ifgo \n",
        "        input_gate = sig(ifgo[0:2])\n",
        "        forget_gate = sig(ifgo[2:4])\n",
        "        gt = tanh(ifgo[4:6])\n",
        "        output_gate = sig(ifgo[6:8])\n",
        "        ## lstm_cell step3: calculate ht,ct \n",
        "        ct = forget_gate * ct + input_gate * gt\n",
        "        ht = output_gate * tanh(ct)\n",
        "        #--#    \n",
        "        ot = cook(ht) \n",
        "        loss = loss + loss_fn(ot,yt)\n",
        "    loss = loss / T\n",
        "    ## 3 \n",
        "    loss.backward()\n",
        "    ## 4 \n",
        "    optimizr.step()\n",
        "    optimizr.zero_grad()"
      ],
      "id": "baa1fbcb-ef5d-4b36-b9ef-6135344b2de4"
    },
    {
      "cell_type": "code",
      "execution_count": 605,
      "metadata": {
        "tags": []
      },
      "outputs": [],
      "source": [
        "ht,ct"
      ],
      "id": "d13701ce-03ea-45ec-b70d-b7f816d3a228"
    },
    {
      "cell_type": "code",
      "execution_count": null,
      "metadata": {},
      "outputs": [],
      "source": [
        "(tensor([0.0533, 0.2075], grad_fn=<SqueezeBackward1>),\n",
        " tensor([0.1218, 0.5590], grad_fn=<SqueezeBackward1>))"
      ],
      "id": "cf4d28e7-f4e5-4917-87be-40c4074b61dc"
    },
    {
      "cell_type": "markdown",
      "metadata": {},
      "source": [
        "## C. epoch ver3 (with torch.nn.LSTM)"
      ],
      "id": "2fa8e00c-c621-4a65-b701-d0baaa9a864b"
    },
    {
      "cell_type": "code",
      "execution_count": 606,
      "metadata": {
        "tags": []
      },
      "outputs": [],
      "source": [
        "torch.manual_seed(43052) \n",
        "lstmcell = torch.nn.LSTMCell(4,2)\n",
        "cook = torch.nn.Linear(2,4) "
      ],
      "id": "3cda7558-9132-41ba-b445-86413b517609"
    },
    {
      "cell_type": "code",
      "execution_count": 607,
      "metadata": {
        "tags": []
      },
      "outputs": [],
      "source": [
        "lstm = torch.nn.LSTM(4,2) "
      ],
      "id": "0cead8bf-4892-482b-aac4-59f9dc8e9bee"
    },
    {
      "cell_type": "code",
      "execution_count": 608,
      "metadata": {
        "tags": []
      },
      "outputs": [],
      "source": [
        "lstm.weight_hh_l0.data = lstmcell.weight_hh.data \n",
        "lstm.bias_hh_l0.data = lstmcell.bias_hh.data \n",
        "lstm.weight_ih_l0.data = lstmcell.weight_ih.data \n",
        "lstm.bias_ih_l0.data = lstmcell.bias_ih.data "
      ],
      "id": "d6032b0d-2620-421c-8d7f-a96781bc5cca"
    },
    {
      "cell_type": "code",
      "execution_count": 391,
      "metadata": {
        "tags": []
      },
      "outputs": [],
      "source": [
        "loss_fn = torch.nn.CrossEntropyLoss()\n",
        "optimizr = torch.optim.Adam(list(lstm.parameters()) + list(cook.parameters()), lr=0.1) "
      ],
      "id": "368458a1-9147-41f2-9416-0ae157cbba28"
    },
    {
      "cell_type": "code",
      "execution_count": 610,
      "metadata": {
        "tags": []
      },
      "outputs": [],
      "source": [
        "Water = torch.zeros(1,2) \n",
        "for epoc in range(1): \n",
        "    ## step1 \n",
        "    h, (ht,ct) = lstm(X,(Water,Water))\n",
        "    netout = cook(h)\n",
        "    ## step2\n",
        "    loss = loss_fn(netout,y) \n",
        "    ## step3\n",
        "    loss.backward()\n",
        "    ## step4 \n",
        "    optimizr.step()\n",
        "    optimizr.zero_grad() "
      ],
      "id": "1a6e1c71-cf26-4343-b75c-48de428f7902"
    },
    {
      "cell_type": "code",
      "execution_count": 611,
      "metadata": {
        "tags": []
      },
      "outputs": [],
      "source": [
        "ht,ct"
      ],
      "id": "7876e8be-6e9f-4454-a387-292df4625930"
    },
    {
      "cell_type": "markdown",
      "metadata": {},
      "source": [
        "# 5. LSTM은 왜 강한가?\n",
        "\n",
        "## A. 적합 및 시각화\n",
        "\n",
        "`-` 적합"
      ],
      "id": "2edc3a0c-168e-4957-8c92-be0c771fb0fb"
    },
    {
      "cell_type": "code",
      "execution_count": 526,
      "metadata": {
        "tags": []
      },
      "outputs": [],
      "source": [
        "torch.manual_seed(0)\n",
        "lstm = torch.nn.LSTM(4,2)\n",
        "cook = torch.nn.Linear(2,4)"
      ],
      "id": "40e55dd1-58ea-441b-9075-80fd9a2ccc17"
    },
    {
      "cell_type": "code",
      "execution_count": 527,
      "metadata": {
        "tags": []
      },
      "outputs": [],
      "source": [
        "loss_fn = torch.nn.CrossEntropyLoss() \n",
        "optimizr = torch.optim.Adam(list(lstm.parameters())+ list(cook.parameters()),lr=0.1)"
      ],
      "id": "76ebedf9-46f0-42ee-85bd-b4c7dd157db5"
    },
    {
      "cell_type": "code",
      "execution_count": 528,
      "metadata": {
        "tags": []
      },
      "outputs": [],
      "source": [
        "Water = torch.zeros(1,2) \n",
        "for epoc in range(200): \n",
        "    ## step1 \n",
        "    h, (ht,ct) = lstm(X,(Water,Water))\n",
        "    netout = cook(h)\n",
        "    ## step2\n",
        "    loss = loss_fn(netout,y) \n",
        "    ## step3\n",
        "    loss.backward()\n",
        "    ## step4 \n",
        "    optimizr.step()\n",
        "    optimizr.zero_grad() "
      ],
      "id": "402730b9-dce8-465e-bad9-6026cd4287b1"
    },
    {
      "cell_type": "markdown",
      "metadata": {},
      "source": [
        "`-` 시각화"
      ],
      "id": "4bd70080-2bda-428a-af29-a0d5f7f01642"
    },
    {
      "cell_type": "code",
      "execution_count": 529,
      "metadata": {
        "tags": []
      },
      "outputs": [],
      "source": [
        "L = len(x)\n",
        "input_gate = torch.zeros(L,2)\n",
        "forget_gate = torch.zeros(L,2)\n",
        "output_gate = torch.zeros(L,2)\n",
        "g = torch.zeros(L,2)\n",
        "cell = torch.zeros(L,2)\n",
        "h = torch.zeros(L,2) "
      ],
      "id": "509c6483-aaf5-45a5-8704-b2b396456ff5"
    },
    {
      "cell_type": "code",
      "execution_count": 540,
      "metadata": {
        "tags": []
      },
      "outputs": [],
      "source": [
        "# 중간에 숨겨진 층들을 시각화 하기 위한 도구\n",
        "## t=0\n",
        "water = torch.zeros(2)\n",
        "ifgo = X[0] @ lstm.weight_ih_l0.T + water @ lstm.weight_hh_l0.T + lstm.bias_ih_l0 + lstm.bias_hh_l0 \n",
        "input_gate[0] = sig(ifgo[0:2])\n",
        "forget_gate[0] = sig(ifgo[2:4])\n",
        "g[0] = tanh(ifgo[4:6])\n",
        "output_gate[0] = sig(ifgo[6:8])\n",
        "cell[0] = forget_gate[0] * water + input_gate[0] * g[0]\n",
        "h[0] = output_gate[0] * tanh(cell[0])\n",
        "## t>0 \n",
        "for t in range(1,L): \n",
        "    ## 1: calculate _ifgo \n",
        "    ifgo = X[t] @ lstm.weight_ih_l0.T + h[t-1] @ lstm.weight_hh_l0.T + lstm.bias_ih_l0 + lstm.bias_hh_l0 \n",
        "    ## 2: decompose _ifgo \n",
        "    input_gate[t] = sig(ifgo[0:2])\n",
        "    forget_gate[t] = sig(ifgo[2:4])\n",
        "    g[t] = tanh(ifgo[4:6])\n",
        "    output_gate[t] = sig(ifgo[6:8])\n",
        "    ## 3: calculate ht,ct \n",
        "    cell[t] = forget_gate[t] * cell[t-1] + input_gate[t] * g[t]\n",
        "    h[t] = output_gate[t] * tanh(cell[t])"
      ],
      "id": "e608d5c4-c983-48b0-a73c-6ba639e89f67"
    },
    {
      "cell_type": "code",
      "execution_count": 547,
      "metadata": {
        "tags": []
      },
      "outputs": [
        {
          "output_type": "display_data",
          "metadata": {},
          "data": {
            "image/png": "[encoded data removed]"
          }
        }
      ],
      "source": [
        "mat = torch.concat([g,h,soft(netout)],axis=1)[:8].data\n",
        "plt.matshow(mat,cmap='bwr',vmin=-1,vmax=1);\n",
        "plt.axvline(x=3.5,color=\"lime\")\n",
        "plt.xticks(\n",
        "    ticks=range(mat.shape[-1]),\n",
        "    labels=[r\"$g_0$\",r\"$g_1$\",r\"$h_0$\",r\"$h_1$\",\n",
        "            r\"$P_a$\",r\"$P_b$\",r\"$P_c$\",r\"$P_C$\"]\n",
        ")\n",
        "plt.colorbar()"
      ],
      "id": "f0a2a0db-0a9a-4e95-8f34-f1310f01b9aa"
    },
    {
      "cell_type": "markdown",
      "metadata": {},
      "source": [
        "## B. 시각화1: $({\\boldsymbol g}_t, {\\boldsymbol c}_{t-1}) \\to {\\boldsymbol c}_{t}$"
      ],
      "id": "22bd3ffe-d5df-4017-aed2-b4ce248e6fa9"
    },
    {
      "cell_type": "code",
      "execution_count": 542,
      "metadata": {
        "tags": []
      },
      "outputs": [],
      "source": [
        "mat1 = torch.concat([g[1:9],input_gate[1:9],g[1:9]*input_gate[1:9]],axis=1).data\n",
        "mat2 = torch.concat([cell[:8],forget_gate[1:9],cell[:8]*forget_gate[1:9]],axis=1).data\n",
        "mat3 = torch.concat([g[1:9]*input_gate[1:9],cell[:8]*forget_gate[1:9],cell[1:9]],axis=1).data"
      ],
      "id": "4e89e3d1-f1df-406e-a4ca-8ded1ce089dc"
    },
    {
      "cell_type": "code",
      "execution_count": 543,
      "metadata": {
        "tags": []
      },
      "outputs": [
        {
          "output_type": "display_data",
          "metadata": {},
          "data": {
            "image/png": "[encoded data removed]"
          }
        }
      ],
      "source": [
        "fig,ax = plt.subplots(1,3,figsize=(10,10))\n",
        "ax[0].matshow(mat1,cmap='bwr',vmin=-5,vmax=5);\n",
        "ax[0].axvline(x=1.5,linestyle=\"dashed\",color=\"lime\")\n",
        "ax[0].axvline(x=3.5,linestyle=\"dashed\",color=\"lime\")\n",
        "ax[0].set_xticks(ticks= [0.5,2.5,4.5],labels=[r'${\\bf g}_t$',r'${\\bf i}_t$',r'${\\bf g}_t \\odot {\\bf i}_t$']);\n",
        "ax[1].matshow(mat2,cmap='bwr',vmin=-5,vmax=5);\n",
        "ax[1].axvline(x=1.5,linestyle=\"dashed\",color=\"lime\")\n",
        "ax[1].axvline(x=3.5,linestyle=\"dashed\",color=\"lime\")\n",
        "ax[1].set_xticks(ticks= [0.5,2.5,4.5],labels=[r'${\\bf c}_{t-1}$',r'${\\bf f}_t$',r'${\\bf c}_{t-1} \\odot {\\bf f}_t$']);\n",
        "ax[2].matshow(mat3,cmap='bwr',vmin=-5,vmax=5);\n",
        "ax[2].axvline(x=1.5,linestyle=\"dashed\",color=\"lime\")\n",
        "ax[2].axvline(x=3.5,linestyle=\"dashed\",color=\"lime\")\n",
        "ax[2].set_xticks(ticks= [0.5,2.5,4.5],labels=[r'${\\bf g}_t \\odot {\\bf i}_t$',r'${\\bf c}_{t-1} \\odot {\\bf f}_t$',r'${\\bf c}_t$']);\n",
        "fig.tight_layout()"
      ],
      "id": "21930975-d835-4198-a750-4fca0254614c"
    },
    {
      "cell_type": "markdown",
      "metadata": {},
      "source": [
        "`-` ${\\boldsymbol g}_t$ 특징: 보통 -1,1 중 하나의 값을 가지도록 학습되어\n",
        "있다. (마치 RNN의 hidden node처럼!)\n",
        "\n",
        "-   $\\boldsymbol{g}_t = \\tanh({\\boldsymbol x}_t {\\bf W}_{ig} + {\\boldsymbol h}_{t-1} {\\bf W}_{hg}+ {\\boldsymbol b}_{ig}+{\\boldsymbol b}_{hg})$\n",
        "\n",
        "`-` ${\\boldsymbol c}_t$ 특징: ${\\boldsymbol g}_t$와 매우 비슷하지만 약간\n",
        "다른값을 가진다. 그래서 ${\\boldsymbol g}_t$와는 달리 -1,1 이외의 값도\n",
        "종종 등장.\n",
        "\n",
        "## C. 시각화2: ${\\boldsymbol g}_t \\to {\\boldsymbol h}_{t}$"
      ],
      "id": "8a80e98f-1873-4215-aa3f-682c4a9fae67"
    },
    {
      "cell_type": "code",
      "execution_count": 549,
      "metadata": {
        "tags": []
      },
      "outputs": [],
      "source": [
        "mat = torch.concat([g[:8],cell[:8],output_gate[:8],cell[:8]*output_gate[:8],h[:8]],axis=1).data"
      ],
      "id": "9285937a-8abc-4c8f-8a40-f3048b9731a8"
    },
    {
      "cell_type": "code",
      "execution_count": 556,
      "metadata": {
        "tags": []
      },
      "outputs": [
        {
          "output_type": "display_data",
          "metadata": {},
          "data": {
            "image/png": "[encoded data removed]"
          }
        }
      ],
      "source": [
        "plt.matshow(mat.data,cmap='bwr',vmin=-5,vmax=5)\n",
        "plt.xticks([0.5,2.5,4.5,6.5,8.5],[r'${\\bf g}_t$',r'${\\bf c}_t$',r'${\\bf o}_t$',r'${\\bf o}_t \\odot {\\bf c}_t$',r'${\\bf h}_t$']);\n",
        "plt.axvline(x=1.5,color=\"lime\")\n",
        "plt.axvline(x=3.5,linestyle=\"dashed\",color=\"lime\")\n",
        "plt.axvline(x=5.5,linestyle=\"dashed\",color=\"lime\")\n",
        "plt.axvline(x=7.5,color=\"lime\")"
      ],
      "id": "cd867a54-e1df-43c8-8a58-1152acea1f52"
    },
    {
      "cell_type": "markdown",
      "metadata": {},
      "source": [
        "`-` ${\\boldsymbol h}_t$ 특징: (1) ${\\boldsymbol c}_t$에서 원하는 것만\n",
        "선택적으로 특징으로 삼은 느낌. (2) $c_t$보다 훨씬 값을 다양하게 가진다.\n",
        "($\\odot$ 의 효과 )\n",
        "\n",
        "## D. LSTM의 알고리즘 리뷰 I (수식위주)\n",
        "\n",
        "**(step1)** calculate ${\\tt ifgo}$\n",
        "\n",
        "${\\tt ifgo} = {\\boldsymbol x}_t \\big[{\\bf W}_{ii} | {\\bf W}_{if}| {\\bf W}_{ig} |{\\bf W}_{io}\\big] + {\\boldsymbol h}_{t-1} \\big[ {\\bf W}_{hi}|{\\bf W}_{hf} |{\\bf W}_{hg} | {\\bf W}_{ho} \\big] + bias$\n",
        "\n",
        "$=\\big[{\\boldsymbol x}_t{\\bf W}_{ii} + {\\boldsymbol h}_{t-1}{\\bf W}_{hi} ~\\big|~ {\\boldsymbol x}_t{\\bf W}_{if}+ {\\boldsymbol h}_{t-1}{\\bf W}_{hf}~ \\big|~ {\\boldsymbol x}_t{\\bf W}_{ig} + {\\boldsymbol h}_{t-1}{\\bf W}_{hg} ~\\big|~ {\\boldsymbol x}_t{\\bf W}_{io} + {\\boldsymbol h}_{t-1}{\\bf W}_{ho} \\big] + bias$\n",
        "\n",
        "참고: 위의 수식은 아래코드에 해당하는 부분\n",
        "\n",
        "``` python\n",
        "ifgo = xt @ lstm_cell.weight_ih.T +\\\n",
        "       ht @ lstm_cell.weight_hh.T +\\\n",
        "       lstm_cell.bias_ih + lstm_cell.bias_hh\n",
        "```\n",
        "\n",
        "**(step2)** decompose ${\\tt ifgo}$ and get ${\\boldsymbol i}_t$,\n",
        "${\\boldsymbol f}_t$, ${\\boldsymbol g}_t$, ${\\boldsymbol o}_t$\n",
        "\n",
        "${\\boldsymbol i}_t = \\sigma({\\boldsymbol x}_t {\\bf W}_{ii} + {\\boldsymbol h}_{t-1} {\\bf W}_{hi} +bias )$\n",
        "\n",
        "${\\boldsymbol f}_t = \\sigma({\\boldsymbol x}_t {\\bf W}_{if} + {\\boldsymbol h}_{t-1} {\\bf W}_{hf} +bias )$\n",
        "\n",
        "${\\boldsymbol g}_t = \\tanh({\\boldsymbol x}_t {\\bf W}_{ig} + {\\boldsymbol h}_{t-1} {\\bf W}_{hg} +bias )$\n",
        "\n",
        "${\\boldsymbol o}_t = \\sigma({\\boldsymbol x}_t {\\bf W}_{io} + {\\boldsymbol h}_{t-1} {\\bf W}_{ho} +bias )$\n",
        "\n",
        "**(step3)** calculate ${\\boldsymbol c}_t$ and ${\\boldsymbol h}_t$\n",
        "\n",
        "${\\boldsymbol c}_t = {\\boldsymbol i}_t \\odot {\\boldsymbol g}_t+ {\\boldsymbol f}_t \\odot {\\boldsymbol c}_{t-1}$\n",
        "\n",
        "${\\boldsymbol h}_t = \\tanh({\\boldsymbol o}_t \\odot {\\boldsymbol c}_t)$\n",
        "\n",
        "## E. LSTM의 알고리즘 리뷰 II (느낌위주)\n",
        "\n",
        "-   이해 및 암기를 돕기위해서 비유적으로 설명한 챕터입니다..\n",
        "\n",
        "`-` 느낌: RNN이 콩물에서 간장을 한번에 숙성시키는 방법이라면 LSTM은\n",
        "콩물에서 간장을 단계를 나누어 숙성하는 느낌이다.\n",
        "\n",
        "-   RNN:\n",
        "    ${\\boldsymbol x}_t \\overset{{\\boldsymbol h}_{t-1}}{\\longrightarrow} {\\boldsymbol h}_t$\n",
        "-   LSTM:\n",
        "    ${\\boldsymbol x}_t \\overset{{\\boldsymbol h}_{t-1}}{\\longrightarrow} {\\boldsymbol g}_t \\overset{{\\boldsymbol c}_{t-1}}{\\longrightarrow} \\Big({\\boldsymbol c}_t \\to {\\boldsymbol h}_t \\Big)$\n",
        "\n",
        "`-` ${\\boldsymbol g}_t$에 대하여\n",
        "\n",
        "-   과거와 현재의 결합 (선형변환): ${\\boldsymbol x}_t$와\n",
        "    ${\\boldsymbol h}_{t-1}$를 ${\\bf W}_{ig}, {\\bf W}_{hg}$를 이용해\n",
        "    선형결합\n",
        "-   숙성(비선형변환): $\\tanh$\n",
        "-   느낌: RNN에서 간장을 만들던 그 수식에서 $h_t$를 $g_t$로 바꾼것\n",
        "    그래서 RNN의 간장과 비슷하다고 생각하면 된다.\n",
        "-   노트: RNN의 간장은 한계를 가지고 있는데 그 한계를 극복하기 위해 만든\n",
        "    것이 ${\\boldsymbol c}_t$\n",
        "\n",
        "`-` ${\\boldsymbol c}_t$에 대하여\n",
        "\n",
        "-   과거와 현재의 결합 (선형변환): ${\\boldsymbol g}_{t}$와\n",
        "    ${\\boldsymbol c}_{t-1}$를 요소별로 선택하고 더하는 과정\n",
        "-   숙성 (비선형변환): 없음.\n",
        "-   느낌: 과거와 현재의 정보중 유리한것만 기억하여 선택적으로 결합함.\n",
        "    이때 결합방식에 대한 노하우는 ${\\tt input-gate}$,\n",
        "    ${\\tt forget-gate}$ 에 있으며 그러한 결합의 결과가\n",
        "    ${\\boldsymbol c}_t$에 있음. 이 ${\\boldsymbol c}_t$에 대한 정보는\n",
        "    그대로 “냉동보관(?)”되어 다음세대로 내려옴.\n",
        "-   비고: ${\\boldsymbol c}_t$는 사실상 LSTM 알고리즘의 꽃이라 할 수\n",
        "    있음. LSTM은 long short term memory의 약자임. 기존의 RNN은\n",
        "    장기기억을 활용함에 약점이 있는데 LSTM은 단기기억/장기기억 모두 잘\n",
        "    활용함. LSTM이 장기기억을 잘 활용하는 비법은 바로\n",
        "    ${\\boldsymbol c}_t$에 있다.\n",
        "\n",
        "`-` ${\\boldsymbol h}_t$에 대하여\n",
        "\n",
        "-   과거와 현재의 결합 (선형변환): 없음\n",
        "-   숙성 (비선형변환): $\\tanh({\\boldsymbol c}_t)$를 요소별로 선택하여\n",
        "    숙성\n",
        "\n",
        "> RNN은 기억할 과거정보가 ${\\boldsymbol h}_{t-1}$ 하나이지만 LSTM은\n",
        "> ${\\boldsymbol c}_{t-1}$, ${\\boldsymbol h}_{t-1}$ 2개이다.\n",
        "\n",
        "## F. LSTM이 강한이유\n",
        "\n",
        "`-` 답변1: LSTM이 장기기억에 유리함. 그 이유는 input, forget, output\n",
        "gate 들이 장기기억을 위한 역할을 하기 때문.\n",
        "\n",
        "-   비판: 아키텍처에 대한 이론적 근거는 없음. 장기기억을 위하여 꼭\n",
        "    LSTM같은 구조일 필요는 없음. (게이트는 꼭3개이어야 하는지?)\n",
        "\n",
        "`-` 답변2: 아키텍처상으로 LSTM은 RNN을 포함함. 그래서 이론적으로 LSTM의\n",
        "성능이 RNN보다 떨어질 이유는 없음.\n",
        "\n",
        "`-` 답변3: 저는 사실 아까 살펴본 아래의 이유로 이해하고 있습니다.\n",
        "\n",
        "-   실험적으로 살펴보니 LSTM이 RNN보다 장기기억에 유리했음.\n",
        "-   그 이유: RNN은 ${\\boldsymbol h}_t$의 값이 -1 혹은 1로 결정되는\n",
        "    경우가 많았음. 그러나 경우에 따라서는 ${\\boldsymbol h}_t$이 -1~1의\n",
        "    값을 가지는 것이 문맥적 뉘앙스를 포착하기에는 유리한데 LSTM이 이러한\n",
        "    방식으로 학습되는 경우가 많았음.\n",
        "-   왜 LSTM의 ${\\boldsymbol h}_t$은 -1,1 이외의 값을 쉽게 가질 수\n",
        "    있는가? $\\odot$ 때문에.. 즉 게이트때문에..\n",
        "\n",
        "# 6. Ref\n",
        "\n",
        "`-` 참고자료들\n",
        "\n",
        "-   <https://colah.github.io/posts/2015-08-Understanding-LSTMs/>\n",
        "-   <https://pytorch.org/docs/stable/generated/torch.nn.LSTM.html>\n",
        "-   <https://arxiv.org/abs/1402.1128>"
      ],
      "id": "afe9b7e0-7e57-4a02-ba02-e8aadb9bff35"
    }
  ],
  "nbformat": 4,
  "nbformat_minor": 5,
  "metadata": {
    "kernelspec": {
      "name": "python3",
      "display_name": "Python 3 (ipykernel)",
      "language": "python"
    },
    "language_info": {
      "name": "python",
      "codemirror_mode": {
        "name": "ipython",
        "version": "3"
      },
      "file_extension": ".py",
      "mimetype": "text/x-python",
      "nbconvert_exporter": "python",
      "pygments_lexer": "ipython3",
      "version": "3.11.8"
    }
  }
}