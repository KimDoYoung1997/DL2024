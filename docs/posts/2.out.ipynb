{
  "cells": [
    {
      "cell_type": "markdown",
      "metadata": {},
      "source": [
        "# 7. CIFAR10 – transfer"
      ],
      "id": "add0bed3-13db-4edf-b0ce-cf7257f693df"
    },
    {
      "cell_type": "code",
      "execution_count": 2,
      "metadata": {
        "tags": []
      },
      "outputs": [],
      "source": [
        "import torch\n",
        "import torchvision\n",
        "import matplotlib.pyplot as plt\n",
        "import pandas as pd\n",
        "from fastai.data.all import *\n",
        "from fastai.vision.all import * "
      ],
      "id": "a1ce6486-b36e-4d26-9078-17c083fe3c76"
    },
    {
      "cell_type": "markdown",
      "metadata": {},
      "source": [
        "# 7. CIFAR10 – transfer\n",
        "\n",
        "## A. `dls` 만들자\n",
        "\n",
        "`-` X,y를 얻자."
      ],
      "id": "7b91fda7-a4d4-4607-84fe-bf1f1f4133ae"
    },
    {
      "cell_type": "code",
      "execution_count": 4,
      "metadata": {
        "tags": []
      },
      "outputs": [],
      "source": [
        "path = untar_data(URLs.CIFAR)\n",
        "path.ls()"
      ],
      "id": "bb36b0b2-7d15-454e-98ca-6af7aa24bc75"
    },
    {
      "cell_type": "code",
      "execution_count": 25,
      "metadata": {
        "tags": []
      },
      "outputs": [],
      "source": [
        "labels = [str(l).split('/')[-1] for l in Path('/home/cgb3/.fastai/data/cifar10/train').ls()]\n",
        "labels"
      ],
      "id": "19ad1869-03e5-4a96-b9e3-9aee0539dfd6"
    },
    {
      "cell_type": "code",
      "execution_count": 53,
      "metadata": {
        "tags": []
      },
      "outputs": [],
      "source": [
        "X = torch.stack([torchvision.io.read_image(str(fname)) for l in labels for fname in Path(f'/home/cgb3/.fastai/data/cifar10/train/{l}').ls()],axis=0)/255\n",
        "XX = torch.stack([torchvision.io.read_image(str(fname)) for l in labels for fname in Path(f'/home/cgb3/.fastai/data/cifar10/test/{l}').ls()],axis=0)/255\n",
        "y = torch.tensor([i for i,l in enumerate(labels) for fname in Path(f'/home/cgb3/.fastai/data/cifar10/train/{l}').ls()])\n",
        "yy = torch.tensor([i for i,l in enumerate(labels) for fname in Path(f'/home/cgb3/.fastai/data/cifar10/test/{l}').ls()])"
      ],
      "id": "78d4e8cd-cae0-4ef8-aa78-cb7de507a923"
    },
    {
      "cell_type": "markdown",
      "metadata": {},
      "source": [
        "`-` 데이터를 시각화해보자.\n",
        "\n",
        "`-` dls를 만들자."
      ],
      "id": "db8acf6f-f30d-4aa1-a80a-c74341ccdb09"
    },
    {
      "cell_type": "code",
      "execution_count": 63,
      "metadata": {
        "tags": []
      },
      "outputs": [],
      "source": [
        "ds1 = torch.utils.data.TensorDataset(X,y)\n",
        "dl1 = torch.utils.data.DataLoader(ds1)\n",
        "ds2 = torch.utils.data.TensorDataset(XX,yy)\n",
        "dl2 = torch.utils.data.DataLoader(ds2)\n",
        "dls = DataLoaders(dl1,dl2)"
      ],
      "id": "b85fa81e-5f25-4b03-b9f4-799c03e845f1"
    },
    {
      "cell_type": "markdown",
      "metadata": {},
      "source": [
        "`-` 아래와 같이 쉽게 만들수도있음…"
      ],
      "id": "af573f46-1cd6-44d5-a479-f30c1cc382ae"
    },
    {
      "cell_type": "code",
      "execution_count": 62,
      "metadata": {
        "tags": []
      },
      "outputs": [],
      "source": [
        "# dls = ImageDataLoaders.from_folder(\n",
        "#     path= path,\n",
        "#     train= 'train',\n",
        "#     valid= 'test'\n",
        "# )"
      ],
      "id": "b106a05f-1e77-480c-94b2-2fbca811da49"
    },
    {
      "cell_type": "markdown",
      "metadata": {},
      "source": [
        "## B. 수제네트워크로 학습"
      ],
      "id": "35722525-afad-45a0-8198-3fd2beb9512e"
    },
    {
      "cell_type": "code",
      "execution_count": 64,
      "metadata": {
        "tags": []
      },
      "outputs": [],
      "source": [
        "XX.shape"
      ],
      "id": "3dcb0146-cf2f-4909-ab99-43633c1f6119"
    },
    {
      "cell_type": "markdown",
      "metadata": {},
      "source": [
        "`-` 시도1:"
      ],
      "id": "ddeb5252-788f-4ddd-9788-ad70b9205e69"
    },
    {
      "cell_type": "code",
      "execution_count": 65,
      "metadata": {
        "tags": []
      },
      "outputs": [],
      "source": [
        "y"
      ],
      "id": "9bb536a5-dc89-4333-9d68-d1d0375a98b0"
    },
    {
      "cell_type": "code",
      "execution_count": 71,
      "metadata": {
        "tags": []
      },
      "outputs": [
        {
          "output_type": "stream",
          "name": "stdout",
          "text": [
            "train = 0.6167\n",
            "val = 0.5754"
          ]
        }
      ],
      "source": [
        "# step1: 데이터의 정리\n",
        "ds1 = torch.utils.data.TensorDataset(X,y)\n",
        "dl1 = torch.utils.data.DataLoader(ds1,batch_size=128,shuffle=True)\n",
        "ds2 = torch.utils.data.TensorDataset(XX,yy)\n",
        "dl2 = torch.utils.data.DataLoader(ds2,batch_size=10000)\n",
        "dls = DataLoaders(dl1,dl2)\n",
        "# step2: 학습에 필요한 오브젝트들을 선언 \n",
        "torch.manual_seed(43052)\n",
        "net = torch.nn.Sequential(\n",
        "    torch.nn.Conv2d(3,16,kernel_size=(2,2)),\n",
        "    torch.nn.ReLU(),\n",
        "    torch.nn.MaxPool2d(kernel_size=(2,2)),\n",
        "    torch.nn.Flatten(),\n",
        "    torch.nn.Linear(3600,10)\n",
        ")\n",
        "loss_fn = torch.nn.CrossEntropyLoss()\n",
        "lrnr = Learner(\n",
        "    dls = dls,\n",
        "    model = net,\n",
        "    loss_func = loss_fn,\n",
        "    metrics = [accuracy],\n",
        "    #---#\n",
        ")\n",
        "# step3: 학습을 하는 과정 = 적합을 하는 과정 \n",
        "lrnr.fit(10)\n",
        "## step4: \n",
        "lrnr.model.to(\"cpu\")\n",
        "print(f'train = {(lrnr.model(X).argmax(axis=-1) == y).float().mean():.4f}')\n",
        "print(f'val = {(lrnr.model(XX).argmax(axis=-1) == yy).float().mean():.4f}')"
      ],
      "id": "672f8bb9-eaa8-4084-85d3-10fb6d21a4f5"
    },
    {
      "cell_type": "markdown",
      "metadata": {},
      "source": [
        "`-` 시도2:\n",
        "\n",
        "`-` 시도3:"
      ],
      "id": "f198e002-7d0e-4581-80ee-3dc9ecd27877"
    },
    {
      "cell_type": "code",
      "execution_count": 74,
      "metadata": {
        "tags": []
      },
      "outputs": [
        {
          "output_type": "stream",
          "name": "stdout",
          "text": [
            "train = 0.9144\n",
            "val = 0.7067"
          ]
        }
      ],
      "source": [
        "# step1: 데이터의 정리\n",
        "ds1 = torch.utils.data.TensorDataset(X,y)\n",
        "dl1 = torch.utils.data.DataLoader(ds1,batch_size=128,shuffle=True)\n",
        "ds2 = torch.utils.data.TensorDataset(XX,yy)\n",
        "dl2 = torch.utils.data.DataLoader(ds2,batch_size=10000)\n",
        "dls = DataLoaders(dl1,dl2)\n",
        "# step2: 학습에 필요한 오브젝트들을 선언 \n",
        "torch.manual_seed(43052)\n",
        "net = torch.nn.Sequential(\n",
        "    torch.nn.Conv2d(3,128,kernel_size=(2,2)),\n",
        "    torch.nn.ReLU(),\n",
        "    torch.nn.MaxPool2d(kernel_size=(2,2)),    \n",
        "    torch.nn.Conv2d(128,128,kernel_size=(2,2)),\n",
        "    torch.nn.ReLU(),    \n",
        "    torch.nn.MaxPool2d(kernel_size=(2,2)),\n",
        "    torch.nn.Flatten(),\n",
        "    torch.nn.Linear(6272,800),\n",
        "    torch.nn.ReLU(),\n",
        "    torch.nn.Linear(800,10)    \n",
        ")\n",
        "loss_fn = torch.nn.CrossEntropyLoss()\n",
        "lrnr = Learner(\n",
        "    dls = dls,\n",
        "    model = net,\n",
        "    loss_func = loss_fn,\n",
        "    metrics = [accuracy],\n",
        "    #---#\n",
        ")\n",
        "# step3: 학습을 하는 과정 = 적합을 하는 과정 \n",
        "lrnr.fit(10)\n",
        "## step4: \n",
        "lrnr.model.to(\"cpu\")\n",
        "print(f'train = {(lrnr.model(X).argmax(axis=-1) == y).float().mean():.4f}')\n",
        "print(f'val = {(lrnr.model(XX).argmax(axis=-1) == yy).float().mean():.4f}')"
      ],
      "id": "51572856-a88c-41f7-be92-ab1c96af58ae"
    },
    {
      "cell_type": "markdown",
      "metadata": {},
      "source": [
        "## C. TransferLearning으로 학습\n",
        "\n",
        "`-` ResNet18을 다운로드:"
      ],
      "id": "509b12a9-84f0-4f96-b21f-0cd90ad029bb"
    },
    {
      "cell_type": "code",
      "execution_count": 76,
      "metadata": {
        "tags": []
      },
      "outputs": [],
      "source": [
        "net = torchvision.models.resnet18()\n",
        "net "
      ],
      "id": "91c68d3a-2bef-4747-a062-f0901afba09d"
    },
    {
      "cell_type": "markdown",
      "metadata": {},
      "source": [
        "-   `torchvision.models.resnet18()`: resnet18이라는 네크워크 대신\n",
        "    선언해주는 함수..\n",
        "\n",
        "`-` 마지막의 레이어만 수정"
      ],
      "id": "07eefd81-1f4b-43e4-bb91-e909543fdf36"
    },
    {
      "cell_type": "code",
      "execution_count": 80,
      "metadata": {
        "tags": []
      },
      "outputs": [],
      "source": [
        "net.fc = torch.nn.Linear(512,10)"
      ],
      "id": "521de70f-53b2-4faa-b89b-2bdbdc145f7d"
    },
    {
      "cell_type": "markdown",
      "metadata": {},
      "source": [
        "`-` 학습해보자."
      ],
      "id": "1681e38f-a892-42f8-8088-ceb09c0afb92"
    },
    {
      "cell_type": "code",
      "execution_count": 82,
      "metadata": {
        "tags": []
      },
      "outputs": [
        {
          "output_type": "stream",
          "name": "stdout",
          "text": [
            "train = 0.9123\n",
            "val = 0.7322"
          ]
        }
      ],
      "source": [
        "# step1: 데이터의 정리\n",
        "ds1 = torch.utils.data.TensorDataset(X,y)\n",
        "dl1 = torch.utils.data.DataLoader(ds1,batch_size=128,shuffle=True)\n",
        "ds2 = torch.utils.data.TensorDataset(XX,yy)\n",
        "dl2 = torch.utils.data.DataLoader(ds2,batch_size=10000)\n",
        "dls = DataLoaders(dl1,dl2)\n",
        "# step2: 학습에 필요한 오브젝트들을 선언 \n",
        "net = torchvision.models.resnet18()\n",
        "net.fc = torch.nn.Linear(512,10)\n",
        "loss_fn = torch.nn.CrossEntropyLoss()\n",
        "lrnr = Learner(\n",
        "    dls = dls,\n",
        "    model = net,\n",
        "    loss_func = loss_fn,\n",
        "    metrics = [accuracy],\n",
        "    #---#\n",
        ")\n",
        "# step3: 학습을 하는 과정 = 적합을 하는 과정 \n",
        "lrnr.fit(10)\n",
        "## step4: \n",
        "lrnr.model.to(\"cpu\")\n",
        "print(f'train = {(lrnr.model(X).argmax(axis=-1) == y).float().mean():.4f}')\n",
        "print(f'val = {(lrnr.model(XX).argmax(axis=-1) == yy).float().mean():.4f}')"
      ],
      "id": "a13f0bd3-7b16-4169-9aaf-b39d260146e2"
    }
  ],
  "nbformat": 4,
  "nbformat_minor": 5,
  "metadata": {
    "kernelspec": {
      "name": "python3",
      "display_name": "Python 3 (ipykernel)",
      "language": "python"
    },
    "language_info": {
      "name": "python",
      "codemirror_mode": {
        "name": "ipython",
        "version": "3"
      },
      "file_extension": ".py",
      "mimetype": "text/x-python",
      "nbconvert_exporter": "python",
      "pygments_lexer": "ipython3",
      "version": "3.11.8"
    }
  }
}