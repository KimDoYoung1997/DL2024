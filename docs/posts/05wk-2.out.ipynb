{
  "cells": [
    {
      "cell_type": "markdown",
      "metadata": {},
      "source": [
        "# 05wk-2: 합성곱신경망 (1) – CNN 예비학습, MNIST 자료 분석\n",
        "\n",
        "최규빈  \n",
        "2024-04-03\n",
        "\n",
        "<a href=\"https://colab.research.google.com/github/guebin/DL2024/blob/main/posts/05wk-2.ipynb\"><img src=\"https://colab.research.google.com/assets/colab-badge.svg\" style=\"text-align: left\"></a>\n",
        "\n",
        "# 1. 강의영상\n",
        "\n",
        "<https://youtu.be/playlist?list=PLQqh36zP38-xetJQU7iWPjyBchV8YrWO1&si=Nti_aqqC5fOyNOtP>\n",
        "\n",
        "# 2. Imports"
      ],
      "id": "cbf1ba6e-3672-4304-9e74-2766d079119c"
    },
    {
      "cell_type": "code",
      "execution_count": 4,
      "metadata": {
        "tags": []
      },
      "outputs": [],
      "source": [
        "import torch\n",
        "import matplotlib.pyplot as plt\n",
        "from fastai.data.all import *\n",
        "import torchvision"
      ],
      "id": "b97e7cfa-2e5c-4b08-b735-5ff46de7869b"
    },
    {
      "cell_type": "markdown",
      "metadata": {},
      "source": [
        "# 3. Data: MNIST\n",
        "\n",
        "`-` download data"
      ],
      "id": "ed5d6704-294f-461f-879b-0e38a494c61c"
    },
    {
      "cell_type": "code",
      "execution_count": 124,
      "metadata": {
        "tags": []
      },
      "outputs": [],
      "source": [
        "path = untar_data(URLs.MNIST)"
      ],
      "id": "21f4d9dc-8718-40dc-b172-9edc1db81f7b"
    },
    {
      "cell_type": "markdown",
      "metadata": {},
      "source": [
        "`-` training set"
      ],
      "id": "865521b7-345a-43a2-bfb7-68f45f7d7977"
    },
    {
      "cell_type": "code",
      "execution_count": 125,
      "metadata": {
        "tags": []
      },
      "outputs": [],
      "source": [
        "X0 = torch.stack([torchvision.io.read_image(str(fname)) for fname in (path/'training/0').ls()])\n",
        "X1 = torch.stack([torchvision.io.read_image(str(fname)) for fname in (path/'training/1').ls()])\n",
        "X = torch.concat([X0,X1])/255\n",
        "y = torch.tensor([0.0]*len(X0) + [1.0]*len(X1)).reshape(-1,1)"
      ],
      "id": "2a603395-ae40-4643-8e75-a2b08db12dac"
    },
    {
      "cell_type": "markdown",
      "metadata": {},
      "source": [
        "`-` test set"
      ],
      "id": "d68a38f8-3098-41ea-a634-ce901d7bc149"
    },
    {
      "cell_type": "code",
      "execution_count": 126,
      "metadata": {
        "tags": []
      },
      "outputs": [],
      "source": [
        "X0 = torch.stack([torchvision.io.read_image(str(fname)) for fname in (path/'testing/0').ls()])\n",
        "X1 = torch.stack([torchvision.io.read_image(str(fname)) for fname in (path/'testing/1').ls()])\n",
        "XX = torch.concat([X0,X1])/255\n",
        "yy = torch.tensor([0.0]*len(X0) + [1.0]*len(X1)).reshape(-1,1)"
      ],
      "id": "42fb9db2-8283-4c51-9a81-dbeace08d5ef"
    },
    {
      "cell_type": "code",
      "execution_count": 127,
      "metadata": {
        "tags": []
      },
      "outputs": [],
      "source": [
        "X.shape,XX.shape,y.shape,yy.shape"
      ],
      "id": "bf310997-830b-4ec7-897d-d1d6cfdf697e"
    },
    {
      "cell_type": "markdown",
      "metadata": {},
      "source": [
        "# 4. CNN 예비학습\n",
        "\n",
        "## A. 기존모형에 대한 불만\n",
        "\n",
        "![](https://guebin.github.io/DL2022/posts/III.%20CNN/2022-10-18-7wk-2_files/figure-html/cell-8-output-1.svg)\n",
        "\n",
        "`-` 왜 28 $\\times$ 28 이미지를 784개의 벡터로 만든 다음에 모형을 돌려야\n",
        "하는가?\n",
        "\n",
        "`-` 기존에 개발된 모형이 회귀분석 기반으로 되어있어서 결국 회귀분석 틀에\n",
        "짜 맞추어서 이미지자료를 분석하는 느낌\n",
        "\n",
        "`-` observation의 차원은 $784$가 아니라 $1\\times (28\\times 28)$이 되어야\n",
        "맞다.\n",
        "\n",
        "## B. 새로운 아키텍처의 제시\n",
        "\n",
        "`-` 예전 아키텍처들\n",
        "\n",
        "-   $\\underset{(n,1)}{\\bf X} \\overset{l_1}{\\to} \\underset{(n,2)}{\\boldsymbol u^{(1)}} \\overset{relu}{\\to} \\underset{(n,2)}{\\boldsymbol v^{(1)}} \\overset{l_2}{\\to} \\underset{(n,1)}{\\boldsymbol u^{(2)}} \\overset{sig}{\\to} \\underset{(n,1)}{\\boldsymbol v^{(2)}}=\\underset{(n,1)}{\\hat{\\boldsymbol y}}$\n",
        "-   $\\underset{(n,1)}{\\bf X} \\overset{l_1}{\\to} \\underset{(n,256)}{\\boldsymbol u^{(1)}} \\overset{relu}{\\to} \\underset{(n,256)}{\\boldsymbol v^{(1)}} \\overset{l_2}{\\to} \\underset{(n,1)}{\\boldsymbol u^{(2)}} \\overset{sig}{\\to} \\underset{(n,1)}{\\boldsymbol v^{(2)}}=\\underset{(n,1)}{\\hat{\\boldsymbol y}}$\n",
        "-   $\\underset{(n,784)}{\\bf X} \\overset{l_1}{\\to} \\underset{(n,30)}{\\boldsymbol u^{(1)}} \\overset{relu}{\\to} \\underset{(n,30)}{\\boldsymbol v^{(1)}} \\overset{l_2}{\\to} \\underset{(n,1)}{\\boldsymbol u^{(2)}} \\overset{sig}{\\to} \\underset{(n,1)}{\\boldsymbol v^{(2)}}=\\underset{(n,1)}{\\hat{\\boldsymbol y}}$\n",
        "\n",
        "`-` 아키텍처들의 공통점?\n",
        "\n",
        "-   $l_1$: 선형변환, feature를 뽑아내는 역할 (뻥튀기 혹은 요약)\n",
        "-   $relu$: 뻥튀기된 feature에 비선형을 추가하여 표현력 극대화\n",
        "-   $l_2$: 선형변환, 뻥튀기된 feature를 요약 하는 역할 (=데이터를\n",
        "    요약하는 역할)\n",
        "\n",
        "`-` 새로운 아키텍처\n",
        "\n",
        "-   $conv$: feature를 뽑아내는 역할 (뻥튀기 혹은 요약) (2d ver $l_1$\n",
        "    느낌)\n",
        "-   $relu$:\n",
        "-   $pooling$: 데이터를 요약하는 역할\n",
        "\n",
        "## C. `torch.nn.Conv2d`\n",
        "\n",
        "`-` 우선 연산하는 방법만 살펴보자.\n",
        "\n",
        "**(예시1)**"
      ],
      "id": "83095a95-e9e0-47ae-8ea2-ceadaa5f09c7"
    },
    {
      "cell_type": "code",
      "execution_count": 230,
      "metadata": {
        "tags": []
      },
      "outputs": [],
      "source": [
        "torch.manual_seed(43052)\n",
        "conv = torch.nn.Conv2d(1,1,(2,2)) # 입력1, 출력1, (2,2) window size\n",
        "conv.weight.data, conv.bias.data"
      ],
      "id": "df01e491-f635-4cbc-a73f-a01d9333bb5f"
    },
    {
      "cell_type": "code",
      "execution_count": 231,
      "metadata": {
        "tags": []
      },
      "outputs": [],
      "source": [
        "_X = torch.arange(0,4).reshape(1,1,2,2).float() # 2,2 흑백이미지. \n",
        "_X"
      ],
      "id": "7ece5860-fa0f-4a98-9398-1e646ead26f9"
    },
    {
      "cell_type": "code",
      "execution_count": 232,
      "metadata": {
        "tags": []
      },
      "outputs": [],
      "source": [
        "(-0.1733)*0 + (-0.4235)*1 +\\\n",
        "(0.1802)*2 + (0.4668)*3 + 0.2037"
      ],
      "id": "c8ea2954-5099-4c92-800c-6c055d9a49e4"
    },
    {
      "cell_type": "code",
      "execution_count": 233,
      "metadata": {
        "tags": []
      },
      "outputs": [],
      "source": [
        "conv(_X)"
      ],
      "id": "5ec03ae5-5f94-40b2-b1a3-4ee2e588e6ea"
    },
    {
      "cell_type": "markdown",
      "metadata": {},
      "source": [
        "**(예시2) 평균**"
      ],
      "id": "68ce6fc9-d813-4582-a073-cf7321be7fd6"
    },
    {
      "cell_type": "code",
      "execution_count": 234,
      "metadata": {
        "tags": []
      },
      "outputs": [],
      "source": [
        "conv = torch.nn.Conv2d(1,1,(2,2))\n",
        "conv.weight.data = conv.weight.data * 0 + 1/4\n",
        "conv.bias.data = conv.bias.data * 0"
      ],
      "id": "a411fabd-8018-4ce1-b64b-73f1c1d09e04"
    },
    {
      "cell_type": "code",
      "execution_count": 235,
      "metadata": {
        "tags": []
      },
      "outputs": [],
      "source": [
        "_X"
      ],
      "id": "060fca06-9ac1-4cc6-afaf-f07d53498b4c"
    },
    {
      "cell_type": "code",
      "execution_count": 236,
      "metadata": {
        "tags": []
      },
      "outputs": [],
      "source": [
        "conv(_X)"
      ],
      "id": "999aafd7-3bf4-4bb7-9ebd-1509b6a15a2d"
    },
    {
      "cell_type": "markdown",
      "metadata": {},
      "source": [
        "**(예시3) 이동평균?**"
      ],
      "id": "b990f35b-24db-41a4-bb0b-6f11bd9a96f7"
    },
    {
      "cell_type": "code",
      "execution_count": 237,
      "metadata": {
        "tags": []
      },
      "outputs": [],
      "source": [
        "_X = torch.arange(16).reshape(1,1,4,4).float()\n",
        "_X,conv(_X)"
      ],
      "id": "49fef574-89a5-4fab-856a-1c69654e2878"
    },
    {
      "cell_type": "markdown",
      "metadata": {},
      "source": [
        "**(예시4) window size가 증가한다면? (2d의 이동평균느낌)**"
      ],
      "id": "36b33d74-e721-4e2c-b83d-2f65ae8c41ad"
    },
    {
      "cell_type": "code",
      "execution_count": 238,
      "metadata": {
        "tags": []
      },
      "outputs": [],
      "source": [
        "_X = torch.arange(16).reshape(1,1,4,4).float()\n",
        "conv = torch.nn.Conv2d(1,1,(3,3))\n",
        "conv.weight.data = conv.weight.data * 0 + 1/9\n",
        "conv.bias.data = conv.bias.data * 0"
      ],
      "id": "8a1e987e-55a9-46da-be92-a577401070c4"
    },
    {
      "cell_type": "code",
      "execution_count": 239,
      "metadata": {
        "tags": []
      },
      "outputs": [],
      "source": [
        "_X,conv(_X)"
      ],
      "id": "a8027a30-e089-4495-92df-41135730a1c1"
    },
    {
      "cell_type": "markdown",
      "metadata": {},
      "source": [
        "**(예시5)** 2개의 이미지"
      ],
      "id": "a3bb4c2b-7ff1-49b8-96d3-8f36f3939486"
    },
    {
      "cell_type": "code",
      "execution_count": 240,
      "metadata": {
        "tags": []
      },
      "outputs": [],
      "source": [
        "_X = torch.arange(32).reshape(2,1,4,4).float()\n",
        "conv = torch.nn.Conv2d(1,1,(3,3))\n",
        "conv.weight.data = conv.weight.data * 0 + 1/9\n",
        "conv.bias.data = conv.bias.data * 0"
      ],
      "id": "93751fca-c721-4f7a-9084-f4934422d120"
    },
    {
      "cell_type": "code",
      "execution_count": 241,
      "metadata": {
        "tags": []
      },
      "outputs": [],
      "source": [
        "_X,conv(_X)"
      ],
      "id": "2e1ae357-a7d4-482a-a448-445664ebe125"
    },
    {
      "cell_type": "markdown",
      "metadata": {},
      "source": [
        "**(예시6) 피처뻥튀기**"
      ],
      "id": "ba38959b-1567-4a72-8577-351fff0679af"
    },
    {
      "cell_type": "code",
      "execution_count": 242,
      "metadata": {
        "tags": []
      },
      "outputs": [],
      "source": [
        "_X = torch.arange(32).reshape(2,1,4,4).float()\n",
        "conv = torch.nn.Conv2d(1,16,(3,3))"
      ],
      "id": "29b3c0b7-f5a3-4d28-85ed-186aa678aa06"
    },
    {
      "cell_type": "code",
      "execution_count": 243,
      "metadata": {
        "tags": []
      },
      "outputs": [],
      "source": [
        "_X.shape,conv(_X).shape"
      ],
      "id": "1294c956-46b1-43d2-8e6c-2e6fb21d3344"
    },
    {
      "cell_type": "markdown",
      "metadata": {},
      "source": [
        "## D. `torch.nn.ReLU`"
      ],
      "id": "3825ba08-df34-4299-80e1-7b0003a60d75"
    },
    {
      "cell_type": "code",
      "execution_count": 244,
      "metadata": {
        "tags": []
      },
      "outputs": [],
      "source": [
        "a1 = torch.nn.ReLU()\n",
        "_X = torch.randn(25).reshape(1,1,5,5)\n",
        "_X,a1(_X)"
      ],
      "id": "984c34b9-4db9-41e7-be87-95016746d4ad"
    },
    {
      "cell_type": "markdown",
      "metadata": {},
      "source": [
        "## E. `torch.nn.MaxPool2d`"
      ],
      "id": "124c328d-2b5d-45ca-8560-2d4a4c584196"
    },
    {
      "cell_type": "code",
      "execution_count": 245,
      "metadata": {
        "tags": []
      },
      "outputs": [],
      "source": [
        "m1 = torch.nn.MaxPool2d((2,2))\n",
        "_X = torch.randn(25).reshape(1,1,5,5)\n",
        "_X,m1(_X)"
      ],
      "id": "4a029eab-33a5-40b5-b3d1-98e450bd9bc8"
    },
    {
      "cell_type": "markdown",
      "metadata": {},
      "source": [
        "# 5. MNIST(CPU)"
      ],
      "id": "81b243d1-a23f-43e0-ae6f-8aab896bce84"
    },
    {
      "cell_type": "code",
      "execution_count": 246,
      "metadata": {
        "tags": []
      },
      "outputs": [],
      "source": [
        "X.shape"
      ],
      "id": "b1c132d3-829b-4883-8dc1-690a05fa1cf4"
    },
    {
      "cell_type": "markdown",
      "metadata": {},
      "source": [
        "## A. Conv2d"
      ],
      "id": "390ef9d6-62c6-48ec-83f2-9b89914049a6"
    },
    {
      "cell_type": "code",
      "execution_count": 247,
      "metadata": {
        "tags": []
      },
      "outputs": [
        {
          "output_type": "stream",
          "name": "stdout",
          "text": [
            "torch.Size([12665, 1, 28, 28])\n",
            "torch.Size([12665, 16, 24, 24])"
          ]
        }
      ],
      "source": [
        "c1 = torch.nn.Conv2d(1,16,(5,5))\n",
        "print(X.shape)\n",
        "print(c1(X).shape)"
      ],
      "id": "c96ee07b-11c7-400d-9b93-e2adbaee9d25"
    },
    {
      "cell_type": "markdown",
      "metadata": {},
      "source": [
        "## B. ReLU"
      ],
      "id": "781c7216-10e2-4b1c-a66d-c4015c192977"
    },
    {
      "cell_type": "code",
      "execution_count": 248,
      "metadata": {
        "tags": []
      },
      "outputs": [
        {
          "output_type": "stream",
          "name": "stdout",
          "text": [
            "torch.Size([12665, 1, 28, 28])\n",
            "torch.Size([12665, 16, 24, 24])\n",
            "torch.Size([12665, 16, 24, 24])"
          ]
        }
      ],
      "source": [
        "a1 = torch.nn.ReLU()\n",
        "print(X.shape)\n",
        "print(c1(X).shape)\n",
        "print(a1(c1(X)).shape)"
      ],
      "id": "69feaeed-0882-4b42-8f96-8e086d33a059"
    },
    {
      "cell_type": "markdown",
      "metadata": {},
      "source": [
        "## C. MaxPool2D"
      ],
      "id": "e643835a-f5d6-4ca9-bb45-d3083f03ece7"
    },
    {
      "cell_type": "code",
      "execution_count": 249,
      "metadata": {
        "tags": []
      },
      "outputs": [
        {
          "output_type": "stream",
          "name": "stdout",
          "text": [
            "torch.Size([12665, 1, 28, 28])\n",
            "torch.Size([12665, 16, 24, 24])\n",
            "torch.Size([12665, 16, 24, 24])\n",
            "torch.Size([12665, 16, 12, 12])"
          ]
        }
      ],
      "source": [
        "m1 =  torch.nn.MaxPool2d((2,2)) \n",
        "print(X.shape)\n",
        "print(c1(X).shape)\n",
        "print(a1(c1(X)).shape)\n",
        "print(m1(a1(c1(X))).shape)"
      ],
      "id": "79aeab16-58f4-48bb-9b14-8b1cd1a490f9"
    },
    {
      "cell_type": "markdown",
      "metadata": {},
      "source": [
        "## D. 적당히 마무리하고 시그모이드 태우자\n",
        "\n",
        "`-` 펼치자.\n",
        "\n",
        "(방법1)"
      ],
      "id": "e70e34be-7e71-4005-a861-434a01546384"
    },
    {
      "cell_type": "code",
      "execution_count": 253,
      "metadata": {
        "tags": []
      },
      "outputs": [],
      "source": [
        "m1(a1(c1(X))).reshape(-1,16*12*12).shape"
      ],
      "id": "d8f6ff0a-3c44-436e-a5de-859bfb26fb0f"
    },
    {
      "cell_type": "markdown",
      "metadata": {},
      "source": [
        "(방법2)"
      ],
      "id": "66c9e177-b3a3-48a9-9045-842a333b0a49"
    },
    {
      "cell_type": "code",
      "execution_count": 254,
      "metadata": {
        "tags": []
      },
      "outputs": [],
      "source": [
        "flttn = torch.nn.Flatten()"
      ],
      "id": "bb37b55e-2978-4cdf-8a6c-a79857532e43"
    },
    {
      "cell_type": "code",
      "execution_count": 255,
      "metadata": {
        "tags": []
      },
      "outputs": [
        {
          "output_type": "stream",
          "name": "stdout",
          "text": [
            "torch.Size([12665, 1, 28, 28])\n",
            "torch.Size([12665, 16, 24, 24])\n",
            "torch.Size([12665, 16, 24, 24])\n",
            "torch.Size([12665, 16, 12, 12])\n",
            "torch.Size([12665, 2304])"
          ]
        }
      ],
      "source": [
        "print(X.shape)\n",
        "print(c1(X).shape)\n",
        "print(a1(c1(X)).shape)\n",
        "print(m1(a1(c1(X))).shape)\n",
        "print(flttn(m1(a1(c1(X)))).shape)"
      ],
      "id": "00814dfa-c0db-45d5-adc1-8a310396f3a1"
    },
    {
      "cell_type": "markdown",
      "metadata": {},
      "source": [
        "`-` 2304 $\\to$ 1 로 차원축소하는 선형레이어를 설계"
      ],
      "id": "accb944e-0522-4fe8-a5bd-7233e4ed9d00"
    },
    {
      "cell_type": "code",
      "execution_count": 256,
      "metadata": {
        "tags": []
      },
      "outputs": [
        {
          "output_type": "stream",
          "name": "stdout",
          "text": [
            "torch.Size([12665, 1, 28, 28])\n",
            "torch.Size([12665, 16, 24, 24])\n",
            "torch.Size([12665, 16, 24, 24])\n",
            "torch.Size([12665, 16, 12, 12])\n",
            "torch.Size([12665, 2304])\n",
            "torch.Size([12665, 1])"
          ]
        }
      ],
      "source": [
        "l1 = torch.nn.Linear(in_features=2304,out_features=1) \n",
        "print(X.shape)\n",
        "print(c1(X).shape)\n",
        "print(a1(c1(X)).shape)\n",
        "print(m1(a1(c1(X))).shape)\n",
        "print(flttn(m1(a1(c1(X)))).shape)\n",
        "print(l1(flttn(m1(a1(c1(X))))).shape)"
      ],
      "id": "ec891599-8195-4d5e-8f4c-562d6abb12a1"
    },
    {
      "cell_type": "markdown",
      "metadata": {},
      "source": [
        "`-` 시그모이드"
      ],
      "id": "ccf8ef36-8d6b-4963-8bba-e5e790c85619"
    },
    {
      "cell_type": "code",
      "execution_count": 257,
      "metadata": {
        "tags": []
      },
      "outputs": [],
      "source": [
        "a2 = torch.nn.Sigmoid()"
      ],
      "id": "d040d9be-3c8c-4221-bc1e-0e7de6b7c239"
    },
    {
      "cell_type": "code",
      "execution_count": 259,
      "metadata": {
        "tags": []
      },
      "outputs": [
        {
          "output_type": "stream",
          "name": "stdout",
          "text": [
            "torch.Size([12665, 1, 28, 28])\n",
            "torch.Size([12665, 16, 24, 24])\n",
            "torch.Size([12665, 16, 24, 24])\n",
            "torch.Size([12665, 16, 12, 12])\n",
            "torch.Size([12665, 2304])\n",
            "torch.Size([12665, 1])\n",
            "torch.Size([12665, 1])"
          ]
        }
      ],
      "source": [
        "l1 = torch.nn.Linear(in_features=2304,out_features=1) \n",
        "print(X.shape)\n",
        "print(c1(X).shape)\n",
        "print(a1(c1(X)).shape)\n",
        "print(m1(a1(c1(X))).shape)\n",
        "print(flttn(m1(a1(c1(X)))).shape)\n",
        "print(l1(flttn(m1(a1(c1(X))))).shape)\n",
        "print(a2(l1(flttn(m1(a1(c1(X)))))).shape)"
      ],
      "id": "630d9e5e-9bb5-41cd-80a8-e6bdb1545f73"
    },
    {
      "cell_type": "markdown",
      "metadata": {},
      "source": [
        "## E. 학습\n",
        "\n",
        "`-` 네트워크 설계"
      ],
      "id": "8b777441-7893-4d34-aced-6575881e1ae4"
    },
    {
      "cell_type": "code",
      "execution_count": 260,
      "metadata": {
        "tags": []
      },
      "outputs": [],
      "source": [
        "net = torch.nn.Sequential(\n",
        "    c1, # 2d: 컨볼루션(선형변환), 피처 뻥튀기 \n",
        "    a1, # 2d: 렐루(비선형변환)\n",
        "    m1, # 2d: 맥스풀링: 데이터요약\n",
        "    flttn, # 2d->1d \n",
        "    l1, # 1d: 선형변환\n",
        "    a2 # 1d: 시그모이드(비선형변환) \n",
        ")\n",
        "loss_fn = torch.nn.BCELoss()\n",
        "optimizr = torch.optim.Adam(net.parameters())\n",
        "for epoc in range(50): \n",
        "    ## 1\n",
        "    yhat = net(X) \n",
        "    ## 2\n",
        "    loss = loss_fn(yhat,y) \n",
        "    ## 3\n",
        "    loss.backward()\n",
        "    ## 4\n",
        "    optimizr.step()\n",
        "    optimizr.zero_grad()"
      ],
      "id": "8f362c75-6e59-4f3c-8019-fe339faf81d8"
    },
    {
      "cell_type": "code",
      "execution_count": 261,
      "metadata": {
        "tags": []
      },
      "outputs": [
        {
          "output_type": "display_data",
          "metadata": {},
          "data": {
            "image/png": "[encoded data removed]"
          }
        }
      ],
      "source": [
        "plt.plot(y)\n",
        "plt.plot(net(X).data,'.')\n",
        "plt.title('Traning Set',size=15)"
      ],
      "id": "e2bf1cdd-a66b-4d8e-9928-039e436099ba"
    },
    {
      "cell_type": "code",
      "execution_count": 262,
      "metadata": {
        "tags": []
      },
      "outputs": [
        {
          "output_type": "display_data",
          "metadata": {},
          "data": {
            "image/png": "[encoded data removed]"
          }
        }
      ],
      "source": [
        "plt.plot(yy)\n",
        "plt.plot(net(XX).data,'.')\n",
        "plt.title('Test Set',size=15)"
      ],
      "id": "2aa2efbb-9fb9-416b-8952-6685b41c9030"
    },
    {
      "cell_type": "markdown",
      "metadata": {},
      "source": [
        "# 6. MNIST (GPU)"
      ],
      "id": "161c2329-30da-4f70-8282-3e2493027aeb"
    },
    {
      "cell_type": "code",
      "execution_count": 264,
      "metadata": {
        "tags": []
      },
      "outputs": [],
      "source": [
        "ds = torch.utils.data.TensorDataset(X,y)\n",
        "dl = torch.utils.data.DataLoader(ds,batch_size=128)\n",
        "#--#\n",
        "net = torch.nn.Sequential(\n",
        "    torch.nn.Conv2d(1,16,(5,5)),\n",
        "    torch.nn.ReLU(),\n",
        "    torch.nn.MaxPool2d((2,2)),\n",
        "    torch.nn.Flatten(),\n",
        "    torch.nn.Linear(2304,1),\n",
        "    torch.nn.Sigmoid()\n",
        ")\n",
        "loss_fn = torch.nn.BCELoss()\n",
        "optimizr = torch.optim.Adam(net.parameters())\n",
        "#--#\n",
        "net.to(\"cuda:0\")\n",
        "for epoc in range(5): \n",
        "    for xi,yi in dl: \n",
        "        ## 1\n",
        "        netout = net(xi.to(\"cuda:0\")) \n",
        "        ## 2\n",
        "        loss = loss_fn(netout,yi.to(\"cuda:0\")) \n",
        "        ## 3\n",
        "        loss.backward()\n",
        "        ## 4\n",
        "        optimizr.step()\n",
        "        optimizr.zero_grad()"
      ],
      "id": "117604c0-6060-4e77-a4b1-5f8ff72eab10"
    },
    {
      "cell_type": "code",
      "execution_count": 267,
      "metadata": {
        "tags": []
      },
      "outputs": [
        {
          "output_type": "display_data",
          "metadata": {},
          "data": {
            "image/png": "[encoded data removed]"
          }
        }
      ],
      "source": [
        "net.to(\"cpu\")\n",
        "plt.plot(y)\n",
        "plt.plot(net(X).data,'.')\n",
        "plt.title(\"Training Set\",size=15)"
      ],
      "id": "a47a0262-fa48-4cde-9d02-b75c71fc9ac3"
    },
    {
      "cell_type": "code",
      "execution_count": 269,
      "metadata": {
        "tags": []
      },
      "outputs": [
        {
          "output_type": "display_data",
          "metadata": {},
          "data": {
            "image/png": "[encoded data removed]"
          }
        }
      ],
      "source": [
        "#net.to(\"cpu\")\n",
        "plt.plot(yy)\n",
        "plt.plot(net(XX).data,'.')\n",
        "plt.title(\"Test Set\",size=15)"
      ],
      "id": "6a3438c8-25f9-41a5-a47d-f6373316433c"
    }
  ],
  "nbformat": 4,
  "nbformat_minor": 5,
  "metadata": {
    "kernelspec": {
      "name": "python3",
      "display_name": "Python 3 (ipykernel)",
      "language": "python"
    },
    "language_info": {
      "name": "python",
      "codemirror_mode": {
        "name": "ipython",
        "version": "3"
      },
      "file_extension": ".py",
      "mimetype": "text/x-python",
      "nbconvert_exporter": "python",
      "pygments_lexer": "ipython3",
      "version": "3.11.8"
    }
  }
}