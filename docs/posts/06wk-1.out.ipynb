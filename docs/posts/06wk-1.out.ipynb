{
  "cells": [
    {
      "cell_type": "markdown",
      "metadata": {},
      "source": [
        "# 06wk-1: 합성곱신경망 (2)\n",
        "\n",
        "최규빈  \n",
        "2024-04-08\n",
        "\n",
        "<a href=\"https://colab.research.google.com/github/guebin/DL2024/blob/main/posts/06wk-1.ipynb\"><img src=\"https://colab.research.google.com/assets/colab-badge.svg\" style=\"text-align: left\"></a>\n",
        "\n",
        "# 1. 강의영상"
      ],
      "id": "648265c2-c2fd-4bf6-a944-c4f398cc7721"
    },
    {
      "cell_type": "code",
      "execution_count": 1,
      "metadata": {
        "tags": []
      },
      "outputs": [],
      "source": [
        "#{{<video https://youtu.be/playlist?list=PLQqh36zP38-wjNGgd4gmQJbQ66NLjUC2y&si=dusDZAwGOJS9TOKJ >}}"
      ],
      "id": "12ba7872-1155-4c2f-8f94-e201f3a3ea25"
    },
    {
      "cell_type": "markdown",
      "metadata": {},
      "source": [
        "# 2. Imports"
      ],
      "id": "5c844f7b-3247-4185-b029-f9d887c871ac"
    },
    {
      "cell_type": "code",
      "execution_count": 184,
      "metadata": {
        "tags": []
      },
      "outputs": [],
      "source": [
        "import torch\n",
        "import torchvision\n",
        "import matplotlib.pyplot as plt\n",
        "from fastai.data.all import *\n",
        "from fastai.vision.all import * "
      ],
      "id": "66839c05-69cf-4da5-b8a8-861e89481e52"
    },
    {
      "cell_type": "markdown",
      "metadata": {},
      "source": [
        "# 3. torch.eigensum\n",
        "\n",
        "## A. transpose"
      ],
      "id": "c58a5139-c014-4a72-936d-f86c7d04f292"
    },
    {
      "cell_type": "code",
      "execution_count": 633,
      "metadata": {},
      "outputs": [],
      "source": [
        "tsr = torch.arange(12).reshape(4,3)\n",
        "tsr"
      ],
      "id": "fa3d65ef-9547-4b80-96c1-442457d0e23a"
    },
    {
      "cell_type": "code",
      "execution_count": 634,
      "metadata": {
        "tags": []
      },
      "outputs": [],
      "source": [
        "tsr.t()"
      ],
      "id": "01bb899f-b74e-4754-93d3-df0be29348d8"
    },
    {
      "cell_type": "code",
      "execution_count": 635,
      "metadata": {},
      "outputs": [],
      "source": [
        "torch.einsum('ij->ji',tsr)"
      ],
      "id": "18265793-22d8-4daa-9164-58d3f656e9cc"
    },
    {
      "cell_type": "markdown",
      "metadata": {},
      "source": [
        "## B. 행렬곱"
      ],
      "id": "8a4caa60-8e8d-49bb-a4e4-52674677ad02"
    },
    {
      "cell_type": "code",
      "execution_count": 623,
      "metadata": {
        "tags": []
      },
      "outputs": [],
      "source": [
        "tsr1 = torch.arange(12).reshape(4,3).float()\n",
        "tsr2 = torch.arange(15).reshape(3,5).float()"
      ],
      "id": "87678d33-7443-430a-bb1b-8969b398c792"
    },
    {
      "cell_type": "code",
      "execution_count": 624,
      "metadata": {
        "tags": []
      },
      "outputs": [],
      "source": [
        "tsr1.shape"
      ],
      "id": "701aaf62-9245-44e0-8c5b-a82726e2ddaf"
    },
    {
      "cell_type": "code",
      "execution_count": 625,
      "metadata": {
        "tags": []
      },
      "outputs": [],
      "source": [
        "tsr2.shape"
      ],
      "id": "3efc65bc-8115-4304-a74a-add116f4ca1c"
    },
    {
      "cell_type": "code",
      "execution_count": 626,
      "metadata": {
        "tags": []
      },
      "outputs": [],
      "source": [
        "tsr1 @ tsr2"
      ],
      "id": "07a4f7c8-d189-4f1e-afdd-f04c3e15a3e1"
    },
    {
      "cell_type": "code",
      "execution_count": 627,
      "metadata": {
        "tags": []
      },
      "outputs": [],
      "source": [
        "torch.einsum('ij,jk -> ik',tsr1,tsr2) "
      ],
      "id": "0b01990c-424f-49ec-8c53-22d9fde57c88"
    },
    {
      "cell_type": "markdown",
      "metadata": {},
      "source": [
        "## C. 이미지자료의 차원변환\n",
        "\n",
        "# 4. MNIST – 직접설계"
      ],
      "id": "bb970411-f907-4488-80ae-f30406f2c856"
    },
    {
      "cell_type": "code",
      "execution_count": 200,
      "metadata": {
        "tags": []
      },
      "outputs": [],
      "source": [
        "path = untar_data(URLs.MNIST)\n",
        "X0 = torch.stack([torchvision.io.read_image(str(fname)) for fname in (path/'training/0').ls()])\n",
        "X1 = torch.stack([torchvision.io.read_image(str(fname)) for fname in (path/'training/1').ls()])\n",
        "X2 = torch.stack([torchvision.io.read_image(str(fname)) for fname in (path/'training/2').ls()])\n",
        "X = torch.concat([X0,X1,X2])/255\n",
        "y = torch.nn.functional.one_hot(torch.tensor([0]*len(X0) + [1]*len(X1) + [2]*len(X2))).float()\n",
        "X0 = torch.stack([torchvision.io.read_image(str(fname)) for fname in (path/'testing/0').ls()])\n",
        "X1 = torch.stack([torchvision.io.read_image(str(fname)) for fname in (path/'testing/1').ls()])\n",
        "X2 = torch.stack([torchvision.io.read_image(str(fname)) for fname in (path/'testing/2').ls()])\n",
        "XX = torch.concat([X0,X1,X2])/255\n",
        "yy = torch.nn.functional.one_hot(torch.tensor([0]*len(X0) + [1]*len(X1) + [2]*len(X2))).float()"
      ],
      "id": "84efbf3a-ab82-4e99-9bd1-f908a2da2919"
    },
    {
      "cell_type": "code",
      "execution_count": 620,
      "metadata": {
        "tags": []
      },
      "outputs": [
        {
          "output_type": "stream",
          "name": "stdout",
          "text": [
            "torch.Size([50000, 3, 32, 32])   torch.float32\n",
            "torch.Size([50000])              torch.int64\n",
            "torch.Size([10000, 3, 32, 32])   torch.float32\n",
            "torch.Size([10000])              torch.int64"
          ]
        }
      ],
      "source": [
        "print(X.shape,'\\t',X.dtype)\n",
        "print(y.shape,'\\t\\t\\t',y.dtype)\n",
        "print(XX.shape,'\\t',XX.dtype)\n",
        "print(yy.shape,'\\t\\t\\t',yy.dtype)"
      ],
      "id": "d8912eed-0678-4f17-8ceb-e15fb1e50f84"
    },
    {
      "cell_type": "code",
      "execution_count": 202,
      "metadata": {
        "tags": []
      },
      "outputs": [
        {
          "output_type": "display_data",
          "metadata": {},
          "data": {
            "image/png": "[encoded data removed]"
          }
        }
      ],
      "source": [
        "plt.imshow(torch.einsum('cij -> ijc',X[0]),cmap=\"gray\")"
      ],
      "id": "4404394e-174e-4134-8e9b-c42abb485e1b"
    },
    {
      "cell_type": "markdown",
      "metadata": {},
      "source": [
        "## A. y: (n,3)-float"
      ],
      "id": "f94fb95d-6f7c-40ce-be0b-d5c19623b308"
    },
    {
      "cell_type": "code",
      "execution_count": 203,
      "metadata": {
        "tags": []
      },
      "outputs": [
        {
          "output_type": "stream",
          "name": "stdout",
          "text": [
            "train: 0.9858\n",
            "val: 0.9917"
          ]
        }
      ],
      "source": [
        "# Step1: 데이터정리 (dls생성)\n",
        "ds = torch.utils.data.TensorDataset(X,y)\n",
        "dl = torch.utils.data.DataLoader(ds,batch_size=128) \n",
        "# Step2: 적합에 필요한 오브젝트 생성\n",
        "net1 = torch.nn.Sequential(\n",
        "    torch.nn.Conv2d(1,16,(5,5)),\n",
        "    torch.nn.ReLU(),\n",
        "    torch.nn.MaxPool2d((2,2)),\n",
        "    torch.nn.Flatten()\n",
        ")\n",
        "net2 = torch.nn.Sequential(\n",
        "    torch.nn.Linear(2304,3),\n",
        ")\n",
        "net = torch.nn.Sequential(\n",
        "    net1, # 2d-part\n",
        "    net2, # 1d-part \n",
        ")\n",
        "loss_fn = torch.nn.CrossEntropyLoss()\n",
        "optimizr = torch.optim.Adam(net.parameters())\n",
        "# Step3: 적합 \n",
        "net.to(\"cuda:0\")\n",
        "for epoc in range(10):\n",
        "    for xi,yi in dl:\n",
        "        ## 1\n",
        "        ## 2\n",
        "        loss = loss_fn(net(xi.to(\"cuda:0\")),yi.to(\"cuda:0\"))\n",
        "        ## 3 \n",
        "        loss.backward()\n",
        "        ## 4 \n",
        "        optimizr.step()\n",
        "        optimizr.zero_grad()\n",
        "net.to(\"cpu\")\n",
        "# Step4: 예측 및 평가 \n",
        "print(f'train: {(net(X).data.argmax(axis=1) == y.argmax(axis=1)).float().mean():.4f}')\n",
        "print(f'val: {(net(XX).data.argmax(axis=1) == yy.argmax(axis=1)).float().mean():.4f}')"
      ],
      "id": "ce223c36-98b7-442c-9aaf-9894bba83a1b"
    },
    {
      "cell_type": "markdown",
      "metadata": {},
      "source": [
        "## B. y: (n,)-int"
      ],
      "id": "44eb2af3-733d-4b7b-8638-924e98b7eab0"
    },
    {
      "cell_type": "code",
      "execution_count": 204,
      "metadata": {
        "tags": []
      },
      "outputs": [],
      "source": [
        "y = y.argmax(axis=-1)\n",
        "yy = yy.argmax(axis=-1)\n",
        "y,yy"
      ],
      "id": "9e8ec864-ea1c-40bc-8734-915303281364"
    },
    {
      "cell_type": "code",
      "execution_count": 205,
      "metadata": {
        "tags": []
      },
      "outputs": [
        {
          "output_type": "stream",
          "name": "stdout",
          "text": [
            "torch.Size([18623, 1, 28, 28])   torch.float32\n",
            "torch.Size([18623])          torch.int64\n",
            "torch.Size([3147, 1, 28, 28])    torch.float32\n",
            "torch.Size([3147])       torch.int64"
          ]
        }
      ],
      "source": [
        "print(X.shape,'\\t',X.dtype)\n",
        "print(y.shape,'\\t\\t',y.dtype)\n",
        "print(XX.shape,'\\t',XX.dtype)\n",
        "print(yy.shape,'\\t\\t',yy.dtype)"
      ],
      "id": "0261ae34-4574-43ef-a63e-2b9cbdf12121"
    },
    {
      "cell_type": "code",
      "execution_count": 206,
      "metadata": {
        "tags": []
      },
      "outputs": [
        {
          "output_type": "stream",
          "name": "stdout",
          "text": [
            "train: 0.9780\n",
            "val: 0.9822"
          ]
        }
      ],
      "source": [
        "# Step1: 데이터정리 (dls생성)\n",
        "ds = torch.utils.data.TensorDataset(X,y)\n",
        "dl = torch.utils.data.DataLoader(ds,batch_size=128) \n",
        "# Step2: 적합에 필요한 오브젝트 생성\n",
        "net1 = torch.nn.Sequential(\n",
        "    torch.nn.Conv2d(1,16,(5,5)),\n",
        "    torch.nn.ReLU(),\n",
        "    torch.nn.MaxPool2d((2,2)),\n",
        "    torch.nn.Flatten()\n",
        ")\n",
        "net2 = torch.nn.Sequential(\n",
        "    torch.nn.Linear(2304,3),\n",
        ")\n",
        "net = torch.nn.Sequential(\n",
        "    net1, # 2d-part\n",
        "    net2, # 1d-part \n",
        ")\n",
        "loss_fn = torch.nn.CrossEntropyLoss()\n",
        "optimizr = torch.optim.Adam(net.parameters())\n",
        "# Step3: 적합 \n",
        "net.to(\"cuda:0\")\n",
        "for epoc in range(10):\n",
        "    for xi,yi in dl:\n",
        "        ## 1\n",
        "        ## 2\n",
        "        loss = loss_fn(net(xi.to(\"cuda:0\")),yi.to(\"cuda:0\"))\n",
        "        ## 3 \n",
        "        loss.backward()\n",
        "        ## 4 \n",
        "        optimizr.step()\n",
        "        optimizr.zero_grad()\n",
        "net.to(\"cpu\")\n",
        "# Step4: 예측 및 평가 \n",
        "print(f'train: {(net(X).data.argmax(axis=1) == y).float().mean():.4f}') # <-- 여기수정\n",
        "print(f'val: {(net(XX).data.argmax(axis=1) == yy).float().mean():.4f}') # <-- 여기수정"
      ],
      "id": "2e32ab1a-44cd-40d3-8344-03b17150d54c"
    },
    {
      "cell_type": "markdown",
      "metadata": {},
      "source": [
        "# 5. Fashion-MNIST – fastai\n",
        "\n",
        "`-` Data"
      ],
      "id": "2feee534-42ae-4f8d-a6cf-20443bcaf85c"
    },
    {
      "cell_type": "code",
      "execution_count": 207,
      "metadata": {
        "tags": []
      },
      "outputs": [],
      "source": [
        "df_train=pd.read_csv('https://media.githubusercontent.com/media/guebin/PP2023/main/posts/fashion-mnist_train.csv')\n",
        "df_test=pd.read_csv('https://media.githubusercontent.com/media/guebin/PP2023/main/posts/fashion-mnist_test.csv')\n",
        "def rshp(row):\n",
        "    return row.reshape(1,28,28)\n",
        "X = torch.tensor(np.apply_along_axis(rshp,axis=1,arr=np.array(df_train.iloc[:,1:]))).float()\n",
        "XX  = torch.tensor(np.apply_along_axis(rshp,axis=1,arr=np.array(df_test.iloc[:,1:]))).float()\n",
        "y = torch.tensor(np.array(df_train.label))\n",
        "yy  = torch.tensor(np.array(df_test.label))"
      ],
      "id": "155edf23-35db-4ac3-af9e-3a177e358944"
    },
    {
      "cell_type": "code",
      "execution_count": 208,
      "metadata": {
        "tags": []
      },
      "outputs": [
        {
          "output_type": "stream",
          "name": "stdout",
          "text": [
            "torch.Size([60000, 1, 28, 28])   torch.float32\n",
            "torch.Size([60000])          torch.int64\n",
            "torch.Size([10000, 1, 28, 28])   torch.float32\n",
            "torch.Size([10000])          torch.int64"
          ]
        }
      ],
      "source": [
        "print(X.shape,'\\t',X.dtype)\n",
        "print(y.shape,'\\t\\t',y.dtype)\n",
        "print(XX.shape,'\\t',XX.dtype)\n",
        "print(yy.shape,'\\t\\t',yy.dtype)"
      ],
      "id": "6abf37c9-6418-44da-9575-bfd755b7838d"
    },
    {
      "cell_type": "code",
      "execution_count": 209,
      "metadata": {
        "tags": []
      },
      "outputs": [
        {
          "output_type": "display_data",
          "metadata": {},
          "data": {
            "image/png": "[encoded data removed]"
          }
        }
      ],
      "source": [
        "plt.imshow(torch.einsum('cij -> ijc',X[0]),cmap=\"gray\")"
      ],
      "id": "c719fe6c-fc81-4259-8089-e9e49adae0d2"
    },
    {
      "cell_type": "markdown",
      "metadata": {},
      "source": [
        "## A. torch"
      ],
      "id": "57a85800-dc59-4d1f-9124-efca84cefb5a"
    },
    {
      "cell_type": "code",
      "execution_count": 210,
      "metadata": {
        "tags": []
      },
      "outputs": [
        {
          "output_type": "stream",
          "name": "stdout",
          "text": [
            "train: 0.9095\n",
            "val: 0.8692"
          ]
        }
      ],
      "source": [
        "# Step1: 데이터정리 (dls생성)\n",
        "ds = torch.utils.data.TensorDataset(X,y)\n",
        "dl = torch.utils.data.DataLoader(ds,batch_size=128) \n",
        "# Step2: 적합에 필요한 오브젝트 생성\n",
        "net1 = torch.nn.Sequential(\n",
        "    torch.nn.Conv2d(1,16,(5,5)),\n",
        "    torch.nn.ReLU(),\n",
        "    torch.nn.MaxPool2d((2,2)),\n",
        "    torch.nn.Flatten()\n",
        ")\n",
        "net2 = torch.nn.Sequential(\n",
        "    torch.nn.Linear(2304,10),\n",
        ")\n",
        "net = torch.nn.Sequential(\n",
        "    net1, # 2d-part\n",
        "    net2, # 1d-part \n",
        ")\n",
        "loss_fn = torch.nn.CrossEntropyLoss()\n",
        "optimizr = torch.optim.Adam(net.parameters())\n",
        "# Step3: 적합 \n",
        "net.to(\"cuda:0\")\n",
        "for epoc in range(10):\n",
        "    for xi,yi in dl:\n",
        "        ## 1\n",
        "        ## 2\n",
        "        loss = loss_fn(net(xi.to(\"cuda:0\")),yi.to(\"cuda:0\"))\n",
        "        ## 3 \n",
        "        loss.backward()\n",
        "        ## 4 \n",
        "        optimizr.step()\n",
        "        optimizr.zero_grad()\n",
        "net.to(\"cpu\")\n",
        "# Step4: 예측 및 평가 \n",
        "print(f'train: {(net(X).data.argmax(axis=1) == y).float().mean():.4f}')\n",
        "print(f'val: {(net(XX).data.argmax(axis=1) == yy).float().mean():.4f}')"
      ],
      "id": "18a1516f-34c6-4802-b79b-8c8bc2f38688"
    },
    {
      "cell_type": "markdown",
      "metadata": {},
      "source": [
        "## B. fastai"
      ],
      "id": "5b02bc99-072a-4e34-b3cc-d4ce50d85470"
    },
    {
      "cell_type": "code",
      "execution_count": 211,
      "metadata": {
        "tags": []
      },
      "outputs": [
        {
          "output_type": "stream",
          "name": "stdout",
          "text": [
            "train: 0.9089\n",
            "val: 0.8690"
          ]
        }
      ],
      "source": [
        "# Step1: 데이터정리 (dls생성)\n",
        "ds1 = torch.utils.data.TensorDataset(X,y)\n",
        "ds2 = torch.utils.data.TensorDataset(XX,yy)\n",
        "dl1 = torch.utils.data.DataLoader(ds1,batch_size=128) \n",
        "dl2 = torch.utils.data.DataLoader(ds2,batch_size=5000) \n",
        "dls = DataLoaders(dl1,dl2)\n",
        "# Step2: 적합에 필요한 오브젝트 생성\n",
        "net1 = torch.nn.Sequential(\n",
        "    torch.nn.Conv2d(1,16,(5,5)),\n",
        "    torch.nn.ReLU(),\n",
        "    torch.nn.MaxPool2d((2,2)),\n",
        "    torch.nn.Flatten()\n",
        ")\n",
        "net2 = torch.nn.Sequential(\n",
        "    torch.nn.Linear(2304,10),\n",
        ")\n",
        "net = torch.nn.Sequential(\n",
        "    net1, # 2d-part\n",
        "    net2, # 1d-part \n",
        ")\n",
        "loss_fn = torch.nn.CrossEntropyLoss()\n",
        "#optimizr = torch.optim.Adam(net.parameters())\n",
        "lrnr = Learner(\n",
        "    dls=dls,\n",
        "    model=net,\n",
        "    loss_func=loss_fn,\n",
        "    #--#\n",
        "    metrics=[accuracy]\n",
        ")\n",
        "# Step3: 적합 \n",
        "lrnr.fit(10)\n",
        "# Step4: 예측 및 평가 \n",
        "\n",
        "lrnr.model.to(\"cpu\")\n",
        "print(f'train: {(lrnr.model(X).data.argmax(axis=1) == y).float().mean():.4f}')\n",
        "print(f'val: {(lrnr.model(XX).data.argmax(axis=1) == yy).float().mean():.4f}')"
      ],
      "id": "9508e991-9faf-4c0f-9f44-f28a0b4486c4"
    },
    {
      "cell_type": "markdown",
      "metadata": {},
      "source": [
        "# 6. 알렉스넷 (Krizhevsky, Sutskever, and Hinton 2012)\n",
        "\n",
        "## A. 알렉스넷의 의미\n",
        "\n",
        "`-` 야사로 배우는 인공지능: <https://brunch.co.kr/@hvnpoet/109>\n",
        "\n",
        "## B. 알렉스넷의 아키텍처 써보기\n",
        "\n",
        "`-` 알렉스넷의 아키텍처:\n",
        "\n",
        "-ref:\n",
        "<https://en.wikipedia.org/wiki/AlexNet#:~:text=AlexNet%20is%20the%20name%20of,at%20the%20University%20of%20Toronto.>\n",
        "\n",
        "![](https://upload.wikimedia.org/wikipedia/commons/thumb/c/cc/Comparison_image_neural_networks.svg/480px-Comparison_image_neural_networks.svg.png)\n",
        "\n",
        "`-` 써보면.."
      ],
      "id": "c8259413-5833-447c-b5e0-15dc4037111f"
    },
    {
      "cell_type": "code",
      "execution_count": 673,
      "metadata": {
        "tags": []
      },
      "outputs": [],
      "source": [
        "conv1(img).shape"
      ],
      "id": "cd8bd6aa-9004-4cd6-9642-d2f121fd06b8"
    },
    {
      "cell_type": "code",
      "execution_count": null,
      "metadata": {},
      "outputs": [],
      "source": [
        "torch.nn.Conv2d(3,96,(11,11),st"
      ],
      "id": "80b58ffb-bfc9-4cd8-af17-523a01179df8"
    },
    {
      "cell_type": "code",
      "execution_count": null,
      "metadata": {},
      "outputs": [],
      "source": [
        "net = torch.nn.Sequential(\n",
        "    torch.nn.Conv2d(3,96),\n",
        "    torch.nn.MaxPool2d((3,3)),\n",
        "    torch.nn.Conv2d("
      ],
      "id": "bdd5f796-6695-480b-8ed6-df39a04ea845"
    },
    {
      "cell_type": "markdown",
      "metadata": {},
      "source": [
        "# 7. CIFAR10 – transfer\n",
        "\n",
        "## A. `dls` 만들자\n",
        "\n",
        "`-` X,y를 얻자."
      ],
      "id": "c73ebc0c-8754-4d9b-a17b-d10f553297d0"
    },
    {
      "cell_type": "code",
      "execution_count": 642,
      "metadata": {
        "tags": []
      },
      "outputs": [],
      "source": [
        "path = untar_data(URLs.CIFAR)\n",
        "path.ls()"
      ],
      "id": "951a8d56-993b-4f21-8623-c9ee0c184dd8"
    },
    {
      "cell_type": "code",
      "execution_count": 643,
      "metadata": {
        "tags": []
      },
      "outputs": [],
      "source": [
        "labels = [str(l).split('/')[-1] for l in (path/'train').ls()]\n",
        "labels"
      ],
      "id": "54e33b0f-aa27-4a90-be18-9c431f1ac0ea"
    },
    {
      "cell_type": "code",
      "execution_count": 644,
      "metadata": {
        "tags": []
      },
      "outputs": [],
      "source": [
        "X = torch.stack([torchvision.io.read_image(str(fname)) for l in labels for fname in (path/f'train/{l}').ls()],axis=0).float()/255\n",
        "XX = torch.stack([torchvision.io.read_image(str(fname)) for l in labels for fname in (path/f'test/{l}').ls()],axis=0).float()/255\n",
        "y = torch.tensor([i for i,l in enumerate(labels) for fname in (path/f'train/{l}').ls()])\n",
        "yy = torch.tensor([i for i,l in enumerate(labels) for fname in (path/f'test/{l}').ls()])"
      ],
      "id": "6160ec79-b1d4-439c-90d0-e383e4c0f10c"
    },
    {
      "cell_type": "code",
      "execution_count": 645,
      "metadata": {
        "tags": []
      },
      "outputs": [
        {
          "output_type": "stream",
          "name": "stdout",
          "text": [
            "torch.Size([50000, 3, 32, 32])   torch.float32\n",
            "torch.Size([50000])          torch.int64\n",
            "torch.Size([10000, 3, 32, 32])   torch.float32\n",
            "torch.Size([10000])          torch.int64"
          ]
        }
      ],
      "source": [
        "print(X.shape,'\\t',X.dtype)\n",
        "print(y.shape,'\\t\\t',y.dtype)\n",
        "print(XX.shape,'\\t',XX.dtype)\n",
        "print(yy.shape,'\\t\\t',yy.dtype)"
      ],
      "id": "3e0a32f5-de50-4b65-8d2d-d04926b59aa3"
    },
    {
      "cell_type": "markdown",
      "metadata": {},
      "source": [
        "`-` 데이터를 시각화해보자."
      ],
      "id": "7fec4e77-d0a3-41c9-a4d9-e02fbc1b80a7"
    },
    {
      "cell_type": "code",
      "execution_count": 458,
      "metadata": {
        "tags": []
      },
      "outputs": [
        {
          "output_type": "display_data",
          "metadata": {},
          "data": {
            "image/png": "[encoded data removed]"
          }
        }
      ],
      "source": [
        "ylabel = [l for l in labels for fname in (path/f'train/{l}').ls()]\n",
        "i = 30002\n",
        "plt.imshow(torch.einsum('cij->ijc',X[i]))\n",
        "plt.title(f'{ylabel[i]},{y[i]}')"
      ],
      "id": "cf15b80e-d3a9-40c5-bfbd-f6cc91ece64f"
    },
    {
      "cell_type": "markdown",
      "metadata": {},
      "source": [
        "-   넘.. 어려운뎅?\n",
        "-   스트레스받아..\n",
        "\n",
        "`-` 아무튼 dls를 만들자."
      ],
      "id": "14ac69a7-48c8-40b5-bc42-9c2d318f477e"
    },
    {
      "cell_type": "code",
      "execution_count": 550,
      "metadata": {
        "tags": []
      },
      "outputs": [],
      "source": [
        "ds1 = torch.utils.data.TensorDataset(X,y)\n",
        "ds2 = torch.utils.data.TensorDataset(XX,yy)\n",
        "dl1 = torch.utils.data.DataLoader(ds1,batch_size=256,shuffle=True)\n",
        "dl2 = torch.utils.data.DataLoader(ds2,batch_size=10000)\n",
        "dls = DataLoaders(dl1,dl2)"
      ],
      "id": "32ced4a4-424f-4cbb-90b4-dd3f76fdbf72"
    },
    {
      "cell_type": "markdown",
      "metadata": {},
      "source": [
        "`-` 아래와 같이 쉽게 만들수도있음…"
      ],
      "id": "0dbbddb1-e349-42eb-85b4-ed64c33a6f1c"
    },
    {
      "cell_type": "code",
      "execution_count": 551,
      "metadata": {
        "tags": []
      },
      "outputs": [],
      "source": [
        "# dls = ImageDataLoaders.from_folder(path,train='train',valid='test')\n",
        "# dls.show_batch()"
      ],
      "id": "7033e450-dec3-4e40-81c5-97b47410635e"
    },
    {
      "cell_type": "markdown",
      "metadata": {},
      "source": [
        "## B. 수제네트워크로 학습\n",
        "\n",
        "`-` 시도1: 이게 좀 힘들어요 ㅎㅎ"
      ],
      "id": "44e19a2e-983f-4539-8186-18cd2eea21b7"
    },
    {
      "cell_type": "code",
      "execution_count": 561,
      "metadata": {
        "tags": []
      },
      "outputs": [
        {
          "output_type": "stream",
          "name": "stdout",
          "text": [
            "train: 0.1000\n",
            "val: 0.0999"
          ]
        }
      ],
      "source": [
        "# Step1:\n",
        "ds1 = torch.utils.data.TensorDataset(X,y)\n",
        "ds2 = torch.utils.data.TensorDataset(XX,yy)\n",
        "dl1 = torch.utils.data.DataLoader(ds1,batch_size=64)\n",
        "dl2 = torch.utils.data.DataLoader(ds2,batch_size=10000)\n",
        "dls = DataLoaders(dl1,dl2)\n",
        "# Step2:\n",
        "net1 = torch.nn.Sequential(\n",
        "    torch.nn.Conv2d(3,16,(5,5)),\n",
        "    torch.nn.ReLU(),\n",
        "    torch.nn.MaxPool2d((2,2)),\n",
        "    torch.nn.Flatten()\n",
        ")\n",
        "net2 = torch.nn.Sequential(\n",
        "    torch.nn.Linear(3136,10),\n",
        ")\n",
        "net = torch.nn.Sequential(\n",
        "    net1, # 2d-part\n",
        "    net2, # 1d-part \n",
        ")\n",
        "loss_fn = torch.nn.CrossEntropyLoss()\n",
        "lrnr = Learner(\n",
        "    dls=dls,\n",
        "    model=net,\n",
        "    loss_func=loss_fn,\n",
        "    #--#\n",
        "    metrics=[accuracy]\n",
        ")\n",
        "# Step3:\n",
        "lrnr.fit(10)\n",
        "# Step4: \n",
        "lrnr.model.to(\"cpu\")\n",
        "print(f'train: {(lrnr.model(X).data.argmax(axis=1) == y).float().mean():.4f}')\n",
        "print(f'val: {(lrnr.model(XX).data.argmax(axis=1) == yy).float().mean():.4f}')"
      ],
      "id": "ba19fd0d-7c2d-476a-be5f-7cc2b7e6841f"
    },
    {
      "cell_type": "markdown",
      "metadata": {},
      "source": [
        "-   ????\n",
        "\n",
        "`-` 시도2: 셔플!"
      ],
      "id": "ea351e51-cd5d-4132-8006-063dc09c0205"
    },
    {
      "cell_type": "code",
      "execution_count": 562,
      "metadata": {
        "tags": []
      },
      "outputs": [
        {
          "output_type": "stream",
          "name": "stdout",
          "text": [
            "train: 0.6746\n",
            "val: 0.6173"
          ]
        }
      ],
      "source": [
        "# Step1:\n",
        "ds1 = torch.utils.data.TensorDataset(X,y)\n",
        "ds2 = torch.utils.data.TensorDataset(XX,yy)\n",
        "dl1 = torch.utils.data.DataLoader(ds1,batch_size=64,shuffle=True)\n",
        "dl2 = torch.utils.data.DataLoader(ds2,batch_size=10000)\n",
        "dls = DataLoaders(dl1,dl2)\n",
        "# Step2:\n",
        "net1 = torch.nn.Sequential(\n",
        "    torch.nn.Conv2d(3,16,(5,5)),\n",
        "    torch.nn.ReLU(),\n",
        "    torch.nn.MaxPool2d((2,2)),\n",
        "    torch.nn.Flatten()\n",
        ")\n",
        "net2 = torch.nn.Sequential(\n",
        "    torch.nn.Linear(3136,10),\n",
        ")\n",
        "net = torch.nn.Sequential(\n",
        "    net1, # 2d-part\n",
        "    net2, # 1d-part \n",
        ")\n",
        "loss_fn = torch.nn.CrossEntropyLoss()\n",
        "lrnr = Learner(\n",
        "    dls=dls,\n",
        "    model=net,\n",
        "    loss_func=loss_fn,\n",
        "    #--#\n",
        "    metrics=[accuracy]\n",
        ")\n",
        "# Step3:\n",
        "lrnr.fit(10)\n",
        "# Step4: \n",
        "lrnr.model.to(\"cpu\")\n",
        "print(f'train: {(lrnr.model(X).data.argmax(axis=1) == y).float().mean():.4f}')\n",
        "print(f'val: {(lrnr.model(XX).data.argmax(axis=1) == yy).float().mean():.4f}')"
      ],
      "id": "eb6a6fc1-c932-4a8b-8923-23a7d215d30c"
    },
    {
      "cell_type": "markdown",
      "metadata": {},
      "source": [
        "`-` 시도3: 복잡하게.."
      ],
      "id": "28289f51-d0a3-47f1-889e-1696173885a3"
    },
    {
      "cell_type": "code",
      "execution_count": 563,
      "metadata": {
        "tags": []
      },
      "outputs": [
        {
          "output_type": "stream",
          "name": "stdout",
          "text": [
            "train: 0.7019\n",
            "val: 0.6599"
          ]
        }
      ],
      "source": [
        "# Step1:\n",
        "ds1 = torch.utils.data.TensorDataset(X,y)\n",
        "ds2 = torch.utils.data.TensorDataset(XX,yy)\n",
        "dl1 = torch.utils.data.DataLoader(ds1,batch_size=64,shuffle=True)\n",
        "dl2 = torch.utils.data.DataLoader(ds2,batch_size=10000)\n",
        "# Step2:\n",
        "net1 = torch.nn.Sequential(\n",
        "    torch.nn.Conv2d(3,256,(5,5)),\n",
        "    torch.nn.ReLU(),\n",
        "    torch.nn.Conv2d(256,64,(5,5)),\n",
        "    torch.nn.ReLU(),\n",
        "    torch.nn.Conv2d(64,16,(5,5)),\n",
        "    torch.nn.MaxPool2d((2,2)),\n",
        "    torch.nn.Flatten()\n",
        ")\n",
        "net2 = torch.nn.Sequential(\n",
        "    torch.nn.Linear(1600,10),\n",
        ")\n",
        "net = torch.nn.Sequential(\n",
        "    net1, # 2d-part\n",
        "    net2, # 1d-part \n",
        ")\n",
        "loss_fn = torch.nn.CrossEntropyLoss()\n",
        "lrnr = Learner(\n",
        "    dls=dls,\n",
        "    model=net,\n",
        "    loss_func=loss_fn,\n",
        "    #--#\n",
        "    metrics=[accuracy]\n",
        ")\n",
        "# Step3:\n",
        "lrnr.fit(10)\n",
        "# Step4: \n",
        "lrnr.model.to(\"cpu\")\n",
        "print(f'train: {(lrnr.model(X).data.argmax(axis=1) == y).float().mean():.4f}')\n",
        "print(f'val: {(lrnr.model(XX).data.argmax(axis=1) == yy).float().mean():.4f}')"
      ],
      "id": "80d4267a-1897-42ac-8103-b332bb35db1a"
    },
    {
      "cell_type": "markdown",
      "metadata": {},
      "source": [
        "## C. TransferLearning으로 학습\n",
        "\n",
        "`-` ResNet18을 다운로드"
      ],
      "id": "5b6cfa0d-bd68-44ba-a2c3-9d6dbb24f81a"
    },
    {
      "cell_type": "code",
      "execution_count": 564,
      "metadata": {
        "tags": []
      },
      "outputs": [
        {
          "output_type": "stream",
          "name": "stderr",
          "text": [
            "Downloading: \"https://download.pytorch.org/models/resnet18-f37072fd.pth\" to /home/cgb3/.cache/torch/hub/checkpoints/resnet18-f37072fd.pth\n",
            "100%|██████████| 44.7M/44.7M [00:00<00:00, 111MB/s] "
          ]
        }
      ],
      "source": [
        "net = torchvision.models.resnet18(weights=torchvision.models.resnet.ResNet18_Weights.IMAGENET1K_V1)\n",
        "net"
      ],
      "id": "fec1f582-ee0b-4222-868f-7ac81bd3bc2c"
    },
    {
      "cell_type": "markdown",
      "metadata": {},
      "source": [
        "`-` 마지막의 레이어만 수정"
      ],
      "id": "b3cce2b2-ce03-49f6-ac0b-c69649d64b59"
    },
    {
      "cell_type": "code",
      "execution_count": 577,
      "metadata": {
        "tags": []
      },
      "outputs": [],
      "source": [
        "net.fc = torch.nn.Linear(512,10)"
      ],
      "id": "f0907f77-037e-44d1-8db1-3c2087c67870"
    },
    {
      "cell_type": "markdown",
      "metadata": {},
      "source": [
        "`-` 학습해보자."
      ],
      "id": "651b78c9-d3b0-46ec-9c0a-f61a3116d2fe"
    },
    {
      "cell_type": "code",
      "execution_count": 587,
      "metadata": {
        "tags": []
      },
      "outputs": [
        {
          "output_type": "stream",
          "name": "stdout",
          "text": [
            "train: 0.9603\n",
            "val: 0.7943"
          ]
        }
      ],
      "source": [
        "# Step1:\n",
        "ds1 = torch.utils.data.TensorDataset(X,y)\n",
        "ds2 = torch.utils.data.TensorDataset(XX,yy)\n",
        "dl1 = torch.utils.data.DataLoader(ds1,batch_size=64,shuffle=True)\n",
        "dl2 = torch.utils.data.DataLoader(ds2,batch_size=10000)\n",
        "# Step2:\n",
        "net = torchvision.models.resnet18(weights=torchvision.models.resnet.ResNet18_Weights.IMAGENET1K_V1)\n",
        "net.fc = torch.nn.Linear(512,10)\n",
        "loss_fn = torch.nn.CrossEntropyLoss()\n",
        "lrnr = Learner(\n",
        "    dls=dls,\n",
        "    model=net,\n",
        "    loss_func=loss_fn,\n",
        "    #--#\n",
        "    metrics=[accuracy]\n",
        ")\n",
        "# Step3:\n",
        "lrnr.fit(10)\n",
        "# Step4: \n",
        "lrnr.model.to(\"cpu\")\n",
        "print(f'train: {(lrnr.model(X).data.argmax(axis=1) == y).float().mean():.4f}')\n",
        "print(f'val: {(lrnr.model(XX).data.argmax(axis=1) == yy).float().mean():.4f}')"
      ],
      "id": "ebaf1a49-349d-457a-b3f2-99137b22c1d9"
    },
    {
      "cell_type": "markdown",
      "metadata": {},
      "source": [
        "`-` 좀 더 fastai에 가깝게.."
      ],
      "id": "c2e6acc4-2538-4c1e-8485-89fe14515759"
    },
    {
      "cell_type": "code",
      "execution_count": 602,
      "metadata": {
        "tags": []
      },
      "outputs": [],
      "source": [
        "# Step1:\n",
        "dls = ImageDataLoaders.from_folder(path, train='train', valid='test')\n",
        "# Step2:\n",
        "lrnr = vision_learner(\n",
        "    dls=dls,\n",
        "    arch=resnet18,\n",
        "    #--#\n",
        "    metrics=[accuracy]\n",
        ")\n",
        "# Step3:\n",
        "lrnr.fit(10)\n",
        "# Step4: \n",
        "# lrnr.model.to(\"cpu\")\n",
        "# print(f'train: {(lrnr.model(X).data.argmax(axis=1) == y).float().mean():.4f}')\n",
        "# print(f'val: {(lrnr.model(XX).data.argmax(axis=1) == yy).float().mean():.4f}')"
      ],
      "id": "4f5a471e-358d-4d32-abd5-44356da16d8d"
    },
    {
      "cell_type": "markdown",
      "metadata": {},
      "source": [
        "# A1. 자잘한 용어 정리 ($\\star$)\n",
        "\n",
        "## A. 지도학습\n",
        "\n",
        "`-` 우리가 수업에서 다루는 데이터는 주로 아래와 같은 느낌이다.\n",
        "\n",
        "1.  데이터는 $(X,y)$의 형태로 정리되어 있다.\n",
        "\n",
        "2.  $y$는 우리가 관심이 있는 변수이다. 즉 우리는 $y$를 적절하게 추정하는\n",
        "    것에 관심이 있다.\n",
        "\n",
        "3.  $X$는 $y$를 추정하기 위해 필요한 정보이다.\n",
        "\n",
        "|  $X$ = 설명변수 = 독립변수   | $y$ = 반응변수 = 종속변수  |     비고     |     순서     |           예시           |\n",
        "|:-------------:|:-------------:|:-------------:|:-------------:|:-------------:|\n",
        "|            이미지            |          카테고리          | 합성곱신경망 |   상관없음   |  개/고양이 이미지 구분   |\n",
        "|         유저,아이템          |            평점            |  추천시스템  |   상관없음   |    넷플릭스 영화추천     |\n",
        "|     과거~오늘까지의주가      |          내일주가          |  순환신경망  | 순서상관있음 |         주가예측         |\n",
        "| 처음 $m$개의 단어(혹은 문장) | 이후 1개의 단어(혹은 문장) |  순환신경망  | 순서상관있음 |     챗봇, 텍스트생성     |\n",
        "| 처음 $m$개의 단어(혹은 문장) |          카테고리          |  순환신경망  | 순서상관있음 | 영화리뷰 텍스트 감정분류 |\n",
        "\n",
        "`-` 이러한 문제상황, 즉 $(X,y)$가 주어졌을때 $X \\to y$를 추정하는 문제를\n",
        "supervised learning 이라한다.\n",
        "\n",
        "## B. 모델이란?\n",
        "\n",
        "> 모델이란 단어는 제 발작버튼이었어요..\n",
        "\n",
        "`-` 통계학에서 모델은 y와 x의 관계를 의미하며 오차항의 설계를 포함하는\n",
        "개념이다. 이는 통계학이 “데이터 = 정보 + 오차”의 관점을 유지하기\n",
        "때문이다. 따라서 통계학에서 모델링이란\n",
        "\n",
        "$$y_i = net(x_i) + \\epsilon_i$$\n",
        "\n",
        "에서 (1) 적절한 함수 $net$를 선택하는 일 (2) 적절한 오차항 $\\epsilon_i$\n",
        "을 설계하는일 모두를 포함한다.\n",
        "\n",
        "`-` 딥러닝 혹은 머신러닝에서 모델은 단순히\n",
        "\n",
        "$$y_i \\approx net(x_i)$$\n",
        "\n",
        "를 의미하는 경우가 많다. 즉 “model=net”라고 생각해도 무방하다. 이 경우\n",
        "“모델링”이란 단순히 적절한 $net$을 설계하는 것만을 의미할 경우가 많다.\n",
        "\n",
        "`-` 그래서 생긴일\n",
        "\n",
        "-   통계학교재 특: 분류문제와 회귀문제를 엄밀하게 구분하지 않는다. 사실\n",
        "    오차항만 다를뿐이지 크게보면 같은 회귀모형이라는 관점이다. 그래서\n",
        "    일반화선형모형(GLM)이라는 용어를 쓴다.\n",
        "-   머신러닝/딥러닝교재 특: 회귀문제와 분류문제를 구분해서 설명한다.\n",
        "    (표도 만듦) 이는 오차항에 대한 기술을 모호하게 하여 생기는 현상이다.\n",
        "\n",
        "## C. 학습이란?\n",
        "\n",
        "`-` 학습이란 주어진 자료 $(X,y)$를 잘 분석하여 $X$에서 $y$로 가는 어떠한\n",
        "“규칙” 혹은 “원리”를 찾는 것이다.\n",
        "\n",
        "-   학습이란 주어진 자료 $(X,y)$를 잘 분석하여 $X$에서 $y$로 가는 어떠한\n",
        "    “맵핑”을 찾는 것이다.\n",
        "-   학습이란 주어진 자료 $(X,y)$를 잘 분석하여 $X$에서 $y$로 가는 어떠한\n",
        "    “함수”을 찾는 것이다. 즉 $y\\approx f(X)$가 되도록 만드는 $f$를 잘\n",
        "    찾는 것이다. (이 경우 “함수를 추정한다”라고 표현)\n",
        "-   학습이란 주어진 자료 $(X,y)$를 잘 분석하여 $X$에서 $y$로 가는 어떠한\n",
        "    “모델” 혹은 “모형”을 찾는 것이다. 즉 $y\\approx model(X)$가 되도록\n",
        "    만드는 $model$을 잘 찾는 것이다. (이 경우 “모형을 학습시킨다”라고\n",
        "    표현)\n",
        "-   **학습이란 주어진 자료 $(X,y)$를 잘 분석하여 $X$에서 $y$로 가는\n",
        "    어떠한 “네트워크”을 찾는 것이다. 즉 $y\\approx net(X)$가 되도록\n",
        "    만드는 $net$을 잘 찾는 것이다. (이 경우 “네트워크를 학습시킨다”라고\n",
        "    표현)**\n",
        "\n",
        "`-` prediction이란 학습과정에서 찾은 “규칙” 혹은 “원리”를 $X$에 적용하여\n",
        "$\\hat{y}$을 구하는 과정이다. 학습과정에서 찾은 규칙 혹은 원리는\n",
        "$f$,$model$,$net$ 으로 생각가능한데 이에 따르면 아래가 성립한다.\n",
        "\n",
        "-   $\\hat{y} = f(X)$\n",
        "-   $\\hat{y} = model(X)$\n",
        "-   $\\hat{y} = net(X)$\n",
        "\n",
        "## D. $\\hat{y}$를 부르는 다양한 이름\n",
        "\n",
        "`-` $\\hat{y}$는 $X$가 주어진 자료에 있는 값인지 아니면 새로운 값 인지에\n",
        "따라 지칭하는 이름이 미묘하게 다르다.\n",
        "\n",
        "1.  $X \\in data$: $\\hat{y}=net(X)$ 는 predicted value, fitted value 라고\n",
        "    부른다.\n",
        "\n",
        "2.  $X \\notin data$: $\\hat{y}=net(X)$ 는 predicted value, predicted\n",
        "    value with new data 라고 부른다.\n",
        "\n",
        "`-` 경우1은 “$loss$ = $y$ 와 $\\hat{y}$ 의 차이” 를 정의할 수 있으나\n",
        "경우2는 그렇지 않다.\n",
        "\n",
        "## E. 다양한 코드들\n",
        "\n",
        "`-` 파이썬 코드..\n",
        "\n",
        "``` python\n",
        "#Python\n",
        "predictor.fit(X,y) # autogluon 에서 \"학습\"을 의미하는 과정\n",
        "model.fit(X,y) # sklearn 에서 \"학습\"을 의미하는 과정\n",
        "learner.learn() # fastai 에서 \"학습\"을 의미하는 과정\n",
        "learner.fine_tune(1) # fastai 에서 \"부분학습\"을 의미하는 과정\n",
        "learner.predict(cat1) # fastai 에서 \"예측\"을 의미하는 과정 \n",
        "model.fit(x, y, batch_size=32, epochs=10) # keras에서 \"학습\"을 의미하는 과정\n",
        "model.predict(test_img) # keras에서 \"예측\"을 의미하는 과정 \n",
        "```\n",
        "\n",
        "`-` R 코드..\n",
        "\n",
        "``` r\n",
        "# R\n",
        "ols <- lm(y~x) # 선형회귀분석에서 학습을 의미하는 함수\n",
        "ols$fitted.values # 선형회귀분석에서 yhat을 출력 \n",
        "predict(ols, newdata=test) # 선형회귀분석에서 test에 대한 예측값을 출력하는 함수\n",
        "ols$coef # 선형회귀분석에서 weight를 확인하는 방법\n",
        "```\n",
        "\n",
        "# A2. 참고자료들\n",
        "\n",
        "`-` 케라스/텐서플로우: <https://guebin.github.io/STBDA2022/>\n",
        "\n",
        "`-` 상속:\n",
        "<https://guebin.github.io/PP2023/posts/03_Class/2023-06-12-15wk-1.html>\n",
        "\n",
        "`-` sklearn/autogluon: <https://guebin.github.io/MP2023/>\n",
        "\n",
        "`-` 리눅스관련: <https://guebin.github.io/DSTBX2024/> – 자료 부실함..\n",
        "강의영상 없는것 많음..\n",
        "\n",
        "# A3. DNN, ANN, MLP\n",
        "\n",
        "`-` DNN 은 깊은신경망, ANN 은 인공신경망, MLP 는 다층퍼셉트론이라\n",
        "번역된다.\n",
        "\n",
        "`-` 아래의 네트워크는 ANN이라 볼 수 있다. 또한 레이어가 2개 있으므로\n",
        "MLP라고 볼 수 있다. DNN 이라 보기는 애매하다. (그래서 이걸\n",
        "얕은신경망(shallow network)이라고 표현하기도 합니다)\n",
        "\n",
        "``` python\n",
        "net = torch.nn.Sequential(\n",
        "    torch.nn.Linear(in_features=1,out_features=2),\n",
        "    torch.nn.ReLU(),\n",
        "    torch.nn.Linear(in_features=2,out_features=1),\n",
        "    torch.nn.Sigmoid()\n",
        ")\n",
        "```\n",
        "\n",
        "`-` 아래의 네트워크는 ANN이라 볼 수 있다. 또한 레이어가 7개 있으므로\n",
        "MLP라고 볼 수 있다. 이 정도면 깊어보이니까 DNN 이라 주장할 수\n",
        "있어보인다.\n",
        "\n",
        "``` python\n",
        "net = torch.nn.Sequential(\n",
        "    torch.nn.Linear(in_features=1,out_features=2),\n",
        "    torch.nn.ReLU(),\n",
        "    torch.nn.Linear(in_features=2,out_features=2),\n",
        "    torch.nn.ReLU(),\n",
        "    torch.nn.Linear(in_features=2,out_features=2),\n",
        "    torch.nn.ReLU(),\n",
        "    torch.nn.Linear(in_features=2,out_features=2),\n",
        "    torch.nn.ReLU(),\n",
        "    torch.nn.Linear(in_features=2,out_features=2),\n",
        "    torch.nn.ReLU(),\n",
        "    torch.nn.Linear(in_features=2,out_features=2),\n",
        "    torch.nn.ReLU(),\n",
        "    torch.nn.Linear(in_features=2,out_features=1),\n",
        "    torch.nn.Sigmoid(),    \n",
        ")\n",
        "```\n",
        "\n",
        "`-` 아래의 네트워크는 ANN이라 볼 수 있다. 또한 레이어가 3개 있으므로\n",
        "MLP라고 볼 수 있다. 이건 DNN이라고 봐야하나? 깊다기 보다는 넓은\n",
        "신경망인데…\n",
        "\n",
        "``` python\n",
        "net = torch.nn.Sequential(\n",
        "    torch.nn.Linear(in_features=1,out_features=1048576),\n",
        "    torch.nn.ReLU(),\n",
        "    torch.nn.Linear(in_features=1048576,out_features=1048576),\n",
        "    torch.nn.ReLU(),\n",
        "    torch.nn.Linear(in_features=1048576,out_features=1),\n",
        "    torch.nn.Sigmoid(),    \n",
        ")\n",
        "```\n",
        "\n",
        "`-` 아래의 네트워크도 ANN이라 볼 수 있다.[1] 레이어는 2장이지만 MLP라고\n",
        "부르진 않는다.\n",
        "\n",
        "``` python\n",
        "net = torch.nn.Sequential(\n",
        "    torch.nn.Conv2d(1,16,(5,5)), # <-- 학습할 파라메터\n",
        "    torch.nn.ReLU(),\n",
        "    torch.nn.MaxPool2d((2,2)),\n",
        "    torch.nn.Flatten(),\n",
        "    torch.nn.Linear(2304,1), # <-- 학습할 파라메터\n",
        "    torch.nn.Sigmoid()\n",
        ")\n",
        "```\n",
        "\n",
        "`-` 야매개념: 요즘은 거의 ANN $\\approx$ MLP $\\approx$ DNN 의 느낌으로\n",
        "이해해도 무방함\n",
        "\n",
        "-   어지간한 모형은 다 ANN이라 우길 수 있다. 회귀분석도, 로지스틱분석도\n",
        "    마음먹으면 ANN으로 우길 수 있다. 그래서 “ANN을 썼다”라는건 엄청\n",
        "    모호한 말이다. 이런 이유로 사람들은 거의 MLP를 쓴 경우에 ANN을\n",
        "    썼다고 하고, 회귀모형을 쓴 경우에는 굳이 ANN을 썼다고 표현하지\n",
        "    않는다.\n",
        "-   MLP과 DNN은 구분이 모호하다. 하나이상의 은닉층만 포함하고 있으면\n",
        "    MLP라고 부를 수 있다. 적은 노드수를 유지하면서 은닉층을 여러개 쓰면\n",
        "    깊은 신경망이라고 하고, 많은 노드를 사용하면서 은닉층을 얇게, 그리고\n",
        "    노드를 많이 쓰면 넓은신경망이라고 한다. 노드수와 관계없이 층이 얇은\n",
        "    경우는 얕은신경망이라고 한다.[2] 즉 MLP의 모양에 따라서\n",
        "    “깊은신경망”, “얕은신경망”, “넓은신경망” 등의 용어를 사용한다.\n",
        "-   일반적으로 은닉층이 1개있으면 얕은신경망, 2개 이상이면\n",
        "    깊은신경망이라고 부른다고 합의되어있다. (은닉층이 2층까지\n",
        "    얕은신경망이라고 부르는 사람도 존재함) 얼마나 많은 노드부터\n",
        "    넓은신경망이라고 부르는지는 (제가 아는 한) 합의된바가 없다. 얼마나\n",
        "    깊을때 DNN으로 부를지 명확한 합의가 되어있지 않다. (3층-MLP부터\n",
        "    DNN으로 부르는 방식이 지지를 얻는듯. 그렇지만 4층-MLP 부터 DNN으로\n",
        "    부르는 사람도 존재함.)\n",
        "-   MLP의 정의가 가장 깔끔하다고 생각하지만 요즘 잘 쓰는 용어는 아니다.\n",
        "    (MLP의 논문은 너무 예전임. 층을 세는것도 다름)\n",
        "-   **제 결론**: 따지고 보자면 DNN $\\subset$ MLP $\\subset$ ANN 이다.\n",
        "    그렇지만 MLP이지만 DNN은 아닌 네트워크를 지칭한다든가, ANN 이지만\n",
        "    MLP는 아닌 네트워크를 지칭하는 일은 흔하지 않으며, 지칭하더라도\n",
        "    부연설명을 친절하게 해준다. 따라서 부연설명 없이 ANN, MLP, DNN 을\n",
        "    지칭한다면 거의 DNN을 의미한다고 봐도 무방하다. 즉 ANN $\\approx$ MLP\n",
        "    $\\approx$ DNN 라고 보면 된다. (엄밀하게는 틀린개념이죠)\n",
        "\n",
        "Krizhevsky, Alex, Ilya Sutskever, and Geoffrey E Hinton. 2012. “Imagenet\n",
        "Classification with Deep Convolutional Neural Networks.” *Advances in\n",
        "Neural Information Processing Systems* 25.\n",
        "\n",
        "[1] 그렇지만 이걸 ANN이라고 부르는 사람은 없는듯\n",
        "\n",
        "[2] 저는 이 표현 너무 싫어해요"
      ],
      "id": "90c6c31d-3348-413d-aaa7-6d7085ff58a1"
    }
  ],
  "nbformat": 4,
  "nbformat_minor": 5,
  "metadata": {
    "kernelspec": {
      "name": "python3",
      "display_name": "Python 3 (ipykernel)",
      "language": "python"
    },
    "language_info": {
      "name": "python",
      "codemirror_mode": {
        "name": "ipython",
        "version": "3"
      },
      "file_extension": ".py",
      "mimetype": "text/x-python",
      "nbconvert_exporter": "python",
      "pygments_lexer": "ipython3",
      "version": "3.11.8"
    }
  }
}