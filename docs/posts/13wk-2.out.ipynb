{
  "cells": [
    {
      "cell_type": "markdown",
      "metadata": {},
      "source": [
        "# 13wk-1: 강화학습 (1) – bandit\n",
        "\n",
        "최규빈  \n",
        "2024-05-29\n",
        "\n",
        "<a href=\"https://colab.research.google.com/github/guebin/DL2024/blob/main/posts/13wk-2.ipynb\"><img src=\"https://colab.research.google.com/assets/colab-badge.svg\" style=\"text-align: left\"></a>\n",
        "\n",
        "# 1. 강의영상"
      ],
      "id": "a1fc862a-df48-4cb6-bdac-eee7591faf92"
    },
    {
      "cell_type": "code",
      "execution_count": 1,
      "metadata": {
        "tags": []
      },
      "outputs": [],
      "source": [
        "#{{<video https://youtu.be/playlist?list=PLQqh36zP38-zoOHd7w3N5q9Jc5P34Ux8X&si=MdJTHM3a27MCAssp >}}"
      ],
      "id": "4685c071-46e9-4bcb-84a7-ece876eb4654"
    },
    {
      "cell_type": "markdown",
      "metadata": {},
      "source": [
        "# 2. 환경셋팅 ($\\star\\star\\star$)\n",
        "\n",
        "`-` 설치 (코랩)\n",
        "\n",
        "``` python\n",
        "!pip install -q swig\n",
        "!pip install gymnasium\n",
        "!pip install gymnasium[box2d]\n",
        "```\n",
        "\n",
        "# 3. Imports"
      ],
      "id": "d7827905-490f-467f-90ba-cb2aa76bdfbc"
    },
    {
      "cell_type": "code",
      "execution_count": 2,
      "metadata": {
        "tags": []
      },
      "outputs": [],
      "source": [
        "import gymnasium as gym\n",
        "import numpy as np\n",
        "import matplotlib.pyplot as plt"
      ],
      "id": "da124c05-12c5-4e50-b7c2-c7156427cc82"
    },
    {
      "cell_type": "markdown",
      "metadata": {},
      "source": [
        "-   ref: <https://gymnasium.farama.org/index.html>\n",
        "\n",
        "# 4. 강화학습 Intro\n",
        "\n",
        "`-` 강화학습(대충설명): 어떠한 “(게임)환경”이 있을때 거기서 “뭘 할지”를\n",
        "학습하는 과업\n",
        "\n",
        "`-` 딥마인드: breakout $\\to$ 알파고\n",
        "\n",
        "-   <https://www.youtube.com/watch?v=TmPfTpjtdgg>\n",
        "\n",
        "`-` 강화학습 미래? (이거 잘하면 먹고 살 수 있을까?)\n",
        "\n",
        "# 5. Game1: `Bandit` 게임\n",
        "\n",
        "## A. 게임설명 및 원시코드\n",
        "\n",
        "`-` 문제설명: 두 개의 버튼이 있다. `버튼0`을 누르면 1의 보상을,\n",
        "`버튼1`을 누르면 100의 보상을 준다고 가정\n",
        "\n",
        "`-` 처음에 어떤 행동을 해야 하는가?\n",
        "\n",
        "-   처음에는 아는게 없음\n",
        "-   일단 “아무거나” 눌러보자.\n",
        "\n",
        "`-` 버튼을 아무거나 누르는 코드를 작성해보자."
      ],
      "id": "0e30f32f-2e8e-44ec-9b9c-57d434f48314"
    },
    {
      "cell_type": "code",
      "execution_count": 3,
      "metadata": {
        "tags": []
      },
      "outputs": [],
      "source": [
        "action_space = ['버튼0', '버튼1'] \n",
        "action = np.random.choice(action_space)\n",
        "action"
      ],
      "id": "cd4a7dbb-f420-479c-a420-4097bb2bad59"
    },
    {
      "cell_type": "markdown",
      "metadata": {},
      "source": [
        "> `action_space` 와 `action` 이라는 용어를 기억할 것\n",
        "\n",
        "`-` 버튼을 누른 행위에 따른 보상을 구현하자. 함수를 구현해보자."
      ],
      "id": "eb74dbe5-a956-4a79-8c02-09305f06b687"
    },
    {
      "cell_type": "code",
      "execution_count": 4,
      "metadata": {
        "tags": []
      },
      "outputs": [],
      "source": [
        "if action == '버튼0': # button0을 눌렀다면 \n",
        "    reward = 1 \n",
        "else: # button1을 눌렀다면 \n",
        "    reward = 100 "
      ],
      "id": "61b66eff-ec7c-4884-9e55-0a61279495a8"
    },
    {
      "cell_type": "markdown",
      "metadata": {},
      "source": [
        "> `reward`라는 용어를 기억할 것"
      ],
      "id": "f1e9c097-c27c-4f2c-bc0a-8ab7de8fce02"
    },
    {
      "cell_type": "code",
      "execution_count": 5,
      "metadata": {
        "tags": []
      },
      "outputs": [],
      "source": [
        "reward"
      ],
      "id": "d81e4baa-7bb5-4dfd-a786-488ac021a364"
    },
    {
      "cell_type": "markdown",
      "metadata": {},
      "source": [
        "`-` 아무버튼이나 10번정도 눌러보면서 데이터를 쌓아보자."
      ],
      "id": "8a1535cc-6a3e-4ae3-9969-65a40c0e69dd"
    },
    {
      "cell_type": "code",
      "execution_count": 6,
      "metadata": {
        "tags": []
      },
      "outputs": [
        {
          "output_type": "stream",
          "name": "stdout",
          "text": [
            "버튼0 1\n",
            "버튼1 100\n",
            "버튼0 1\n",
            "버튼0 1\n",
            "버튼0 1\n",
            "버튼0 1\n",
            "버튼0 1\n",
            "버튼1 100\n",
            "버튼1 100\n",
            "버튼1 100"
          ]
        }
      ],
      "source": [
        "for _ in range(10):\n",
        "    action = np.random.choice(action_space)\n",
        "    if action == '버튼0': \n",
        "        reward = 1 \n",
        "    else: \n",
        "        reward = 100     \n",
        "    print(action,reward) "
      ],
      "id": "d1e676d0-b3b8-427d-ace9-a887ff371c9e"
    },
    {
      "cell_type": "markdown",
      "metadata": {},
      "source": [
        "`-` 깨달았음: `버튼0`을 누르면 1점을 받고, `버튼1`을 누르면 100점을 받는\n",
        "“환경(environment)”이구나? $\\to$ `버튼1`을 누르는 “동작(=action)”을\n",
        "해야하는 상황이구나?\n",
        "\n",
        "-   여기에서 $\\to$의 과정을 체계화 시킨 학문이 강화학습\n",
        "\n",
        "> `environment`라는 용어를 기억할 것"
      ],
      "id": "1719cc46-a811-491d-bfa8-e29a8a99adaf"
    },
    {
      "cell_type": "code",
      "execution_count": 7,
      "metadata": {
        "tags": []
      },
      "outputs": [
        {
          "output_type": "stream",
          "name": "stdout",
          "text": [
            "버튼1 100\n",
            "버튼1 100\n",
            "버튼1 100\n",
            "버튼1 100\n",
            "버튼1 100\n",
            "버튼1 100\n",
            "버튼1 100\n",
            "버튼1 100\n",
            "버튼1 100\n",
            "버튼1 100"
          ]
        }
      ],
      "source": [
        "for _ in range(10):\n",
        "    action = action_space[1]\n",
        "    if action == '버튼0': \n",
        "        reward = 1 \n",
        "    else: \n",
        "        reward = 100     \n",
        "    print(action,reward) "
      ],
      "id": "84bb28cb-bae0-4364-b208-43f88a1e8690"
    },
    {
      "cell_type": "markdown",
      "metadata": {},
      "source": [
        "-   게임 클리어\n",
        "\n",
        "`-` 강화학습: 환경(environment)을 이해 $\\to$ 에이전트(agent)가\n",
        "행동(action)을 결정\n",
        "\n",
        "> `agent`라는 용어를 기억할 것\n",
        "\n",
        "***위의 과정이 잘 되었다는 의미로 사용하는 문장들***\n",
        "\n",
        "-   강화학습이 성공적으로 잘 되었다.\n",
        "-   에이전트가 환경의 과제를 완료했다.\n",
        "-   에이전트가 환경에서 성공적으로 학습했다.\n",
        "-   에이전트가 올바른 행동을 학습했다.\n",
        "-   게임 클리어 (비공식)\n",
        "\n",
        "`-` 게임이 클리어 되었다는 것을 의미하는 지표를 정하고 싶다.\n",
        "\n",
        "-   첫 생각: `버튼1`을 누르는 순간 게임클리어로 보면 되지 않나?\n",
        "-   두번째 생각: 아니지? 우연히 누를수도 있잖아?\n",
        "-   게임클리어조건: (1) 20번은 그냥 진행 (2) 최근 20번의 보상의 평균이\n",
        "    95점 이상이면 게임이 클리어 되었다고 생각하자.[1]\n",
        "\n",
        "`-` 원시코드1: 환경을 이해하지 못한 에이전트 – 게임을 클리어할 수 없다.\n",
        "\n",
        "[1] `버튼1`을 눌러야 하는건 맞지만 몇번의 실수는 눈감아 주자는 의미"
      ],
      "id": "6ed1cfcc-7cd3-4c3d-94f9-555b5590ecd3"
    },
    {
      "cell_type": "code",
      "execution_count": 8,
      "metadata": {
        "tags": []
      },
      "outputs": [
        {
          "output_type": "stream",
          "name": "stdout",
          "text": [
            "n_try = 1   action = 0  reward = 1  mean(recent_rewards) = 1.0\n",
            "n_try = 2   action = 0  reward = 1  mean(recent_rewards) = 1.0\n",
            "n_try = 3   action = 0  reward = 1  mean(recent_rewards) = 1.0\n",
            "n_try = 4   action = 0  reward = 1  mean(recent_rewards) = 1.0\n",
            "n_try = 5   action = 0  reward = 1  mean(recent_rewards) = 1.0\n",
            "n_try = 6   action = 0  reward = 1  mean(recent_rewards) = 1.0\n",
            "n_try = 7   action = 1  reward = 100    mean(recent_rewards) = 15.142857142857142\n",
            "n_try = 8   action = 0  reward = 1  mean(recent_rewards) = 13.375\n",
            "n_try = 9   action = 0  reward = 1  mean(recent_rewards) = 12.0\n",
            "n_try = 10  action = 0  reward = 1  mean(recent_rewards) = 10.9\n",
            "n_try = 11  action = 1  reward = 100    mean(recent_rewards) = 19.0\n",
            "n_try = 12  action = 1  reward = 100    mean(recent_rewards) = 25.75\n",
            "n_try = 13  action = 1  reward = 100    mean(recent_rewards) = 31.46153846153846\n",
            "n_try = 14  action = 1  reward = 100    mean(recent_rewards) = 36.357142857142854\n",
            "n_try = 15  action = 1  reward = 100    mean(recent_rewards) = 40.6\n",
            "n_try = 16  action = 1  reward = 100    mean(recent_rewards) = 44.3125\n",
            "n_try = 17  action = 1  reward = 100    mean(recent_rewards) = 47.588235294117645\n",
            "n_try = 18  action = 0  reward = 1  mean(recent_rewards) = 45.0\n",
            "n_try = 19  action = 1  reward = 100    mean(recent_rewards) = 47.89473684210526\n",
            "n_try = 20  action = 1  reward = 100    mean(recent_rewards) = 50.5\n",
            "n_try = 21  action = 0  reward = 1  mean(recent_rewards) = 50.5\n",
            "n_try = 22  action = 1  reward = 100    mean(recent_rewards) = 55.45\n",
            "n_try = 23  action = 1  reward = 100    mean(recent_rewards) = 60.4\n",
            "n_try = 24  action = 1  reward = 100    mean(recent_rewards) = 65.35\n",
            "n_try = 25  action = 0  reward = 1  mean(recent_rewards) = 65.35\n",
            "n_try = 26  action = 1  reward = 100    mean(recent_rewards) = 70.3\n",
            "n_try = 27  action = 1  reward = 100    mean(recent_rewards) = 70.3\n",
            "n_try = 28  action = 1  reward = 100    mean(recent_rewards) = 75.25\n",
            "n_try = 29  action = 0  reward = 1  mean(recent_rewards) = 75.25\n",
            "n_try = 30  action = 1  reward = 100    mean(recent_rewards) = 80.2\n",
            "n_try = 31  action = 1  reward = 100    mean(recent_rewards) = 80.2\n",
            "n_try = 32  action = 1  reward = 100    mean(recent_rewards) = 80.2\n",
            "n_try = 33  action = 0  reward = 1  mean(recent_rewards) = 75.25\n",
            "n_try = 34  action = 0  reward = 1  mean(recent_rewards) = 70.3\n",
            "n_try = 35  action = 1  reward = 100    mean(recent_rewards) = 70.3\n",
            "n_try = 36  action = 1  reward = 100    mean(recent_rewards) = 70.3\n",
            "n_try = 37  action = 0  reward = 1  mean(recent_rewards) = 65.35\n",
            "n_try = 38  action = 1  reward = 100    mean(recent_rewards) = 70.3\n",
            "n_try = 39  action = 0  reward = 1  mean(recent_rewards) = 65.35\n",
            "n_try = 40  action = 1  reward = 100    mean(recent_rewards) = 65.35\n",
            "n_try = 41  action = 1  reward = 100    mean(recent_rewards) = 70.3\n",
            "n_try = 42  action = 1  reward = 100    mean(recent_rewards) = 70.3\n",
            "n_try = 43  action = 1  reward = 100    mean(recent_rewards) = 70.3\n",
            "n_try = 44  action = 1  reward = 100    mean(recent_rewards) = 70.3\n",
            "n_try = 45  action = 1  reward = 100    mean(recent_rewards) = 75.25\n",
            "n_try = 46  action = 0  reward = 1  mean(recent_rewards) = 70.3\n",
            "n_try = 47  action = 0  reward = 1  mean(recent_rewards) = 65.35\n",
            "n_try = 48  action = 0  reward = 1  mean(recent_rewards) = 60.4\n",
            "n_try = 49  action = 1  reward = 100    mean(recent_rewards) = 65.35\n",
            "n_try = 50  action = 0  reward = 1  mean(recent_rewards) = 60.4"
          ]
        }
      ],
      "source": [
        "action_space = [0,1] \n",
        "rewards = [] \n",
        "for t in range(50): # 10000번을 해도 못깸  \n",
        "    action = np.random.choice(action_space) # 무지한자의 행동 (찍어) \n",
        "    if action == 0: \n",
        "        reward = 1 \n",
        "        rewards.append(reward)\n",
        "    else: \n",
        "        reward = 100\n",
        "        rewards.append(reward)\n",
        "    #--# \n",
        "    print(\n",
        "        f\"n_try = {t+1}\\t\"\n",
        "        f\"action = {action}\\t\"\n",
        "        f\"reward = {reward}\\t\"\n",
        "        f\"mean(recent_rewards) = {np.mean(rewards[-20:])}\"\n",
        "    )\n",
        "    #--#\n",
        "    if t < 20:\n",
        "        pass\n",
        "    else:\n",
        "        if np.mean(rewards[-20:]) >= 95:\n",
        "            break "
      ],
      "id": "88406414-89f3-44bc-bdd7-bc1b43788f74"
    },
    {
      "cell_type": "markdown",
      "metadata": {},
      "source": [
        "`-` 원시코드2: 환경을 깨달은 에이전트 – 게임클리어"
      ],
      "id": "142718e0-1f90-487f-82d0-e5c9b9846080"
    },
    {
      "cell_type": "code",
      "execution_count": 9,
      "metadata": {
        "tags": []
      },
      "outputs": [
        {
          "output_type": "stream",
          "name": "stdout",
          "text": [
            "n_try = 1   action = 1  reward = 100    mean(recent_rewards) = 100.0\n",
            "n_try = 2   action = 1  reward = 100    mean(recent_rewards) = 100.0\n",
            "n_try = 3   action = 1  reward = 100    mean(recent_rewards) = 100.0\n",
            "n_try = 4   action = 1  reward = 100    mean(recent_rewards) = 100.0\n",
            "n_try = 5   action = 1  reward = 100    mean(recent_rewards) = 100.0\n",
            "n_try = 6   action = 1  reward = 100    mean(recent_rewards) = 100.0\n",
            "n_try = 7   action = 1  reward = 100    mean(recent_rewards) = 100.0\n",
            "n_try = 8   action = 1  reward = 100    mean(recent_rewards) = 100.0\n",
            "n_try = 9   action = 1  reward = 100    mean(recent_rewards) = 100.0\n",
            "n_try = 10  action = 1  reward = 100    mean(recent_rewards) = 100.0\n",
            "n_try = 11  action = 1  reward = 100    mean(recent_rewards) = 100.0\n",
            "n_try = 12  action = 1  reward = 100    mean(recent_rewards) = 100.0\n",
            "n_try = 13  action = 1  reward = 100    mean(recent_rewards) = 100.0\n",
            "n_try = 14  action = 1  reward = 100    mean(recent_rewards) = 100.0\n",
            "n_try = 15  action = 1  reward = 100    mean(recent_rewards) = 100.0\n",
            "n_try = 16  action = 1  reward = 100    mean(recent_rewards) = 100.0\n",
            "n_try = 17  action = 1  reward = 100    mean(recent_rewards) = 100.0\n",
            "n_try = 18  action = 1  reward = 100    mean(recent_rewards) = 100.0\n",
            "n_try = 19  action = 1  reward = 100    mean(recent_rewards) = 100.0\n",
            "n_try = 20  action = 1  reward = 100    mean(recent_rewards) = 100.0\n",
            "n_try = 21  action = 1  reward = 100    mean(recent_rewards) = 100.0"
          ]
        }
      ],
      "source": [
        "action_space = [0,1]\n",
        "rewards = [] \n",
        "for t in range(50): \n",
        "    #action = np.random.choice(action_space) # 무지한자의 행동 (찍어) \n",
        "    action = 1 # 환경을 이해한 에이전트의 행동\n",
        "    if action == 0: \n",
        "        reward = 1 \n",
        "        rewards.append(reward)\n",
        "    else: \n",
        "        reward = 100\n",
        "        rewards.append(reward)\n",
        "    #--# \n",
        "    print(\n",
        "        f\"n_try = {t+1}\\t\"\n",
        "        f\"action = {action}\\t\"\n",
        "        f\"reward = {reward}\\t\"\n",
        "        f\"mean(recent_rewards) = {np.mean(rewards[-20:])}\"\n",
        "    )\n",
        "    #--#\n",
        "    if t < 20:\n",
        "        pass\n",
        "    else:\n",
        "        if np.mean(rewards[-20:]) >= 95:\n",
        "            break "
      ],
      "id": "a2f7b8d7-ba44-4bc7-987d-bd2660890203"
    },
    {
      "cell_type": "markdown",
      "metadata": {},
      "source": [
        "## C. 수정1: `Env` 구현\n",
        "\n",
        "`-` `Bandit` 클래스 선언 + `.step()` 구현"
      ],
      "id": "cfa952ee-8ae3-41e8-84e3-d3afdb548389"
    },
    {
      "cell_type": "code",
      "execution_count": 10,
      "metadata": {
        "tags": []
      },
      "outputs": [],
      "source": [
        "class Bandit: \n",
        "    def step(self, action):\n",
        "        if action == 0:\n",
        "            return 1 \n",
        "        else: \n",
        "            return 100 "
      ],
      "id": "c6091a16-b766-4546-aa94-877ed2653c52"
    },
    {
      "cell_type": "code",
      "execution_count": 11,
      "metadata": {
        "tags": []
      },
      "outputs": [
        {
          "output_type": "stream",
          "name": "stdout",
          "text": [
            "n_try = 1   action = 1  reward = 100    mean(recent_rewards) = 100.0\n",
            "n_try = 2   action = 0  reward = 1  mean(recent_rewards) = 50.5\n",
            "n_try = 3   action = 0  reward = 1  mean(recent_rewards) = 34.0\n",
            "n_try = 4   action = 1  reward = 100    mean(recent_rewards) = 50.5\n",
            "n_try = 5   action = 1  reward = 100    mean(recent_rewards) = 60.4\n",
            "n_try = 6   action = 1  reward = 100    mean(recent_rewards) = 67.0\n",
            "n_try = 7   action = 1  reward = 100    mean(recent_rewards) = 71.71428571428571\n",
            "n_try = 8   action = 0  reward = 1  mean(recent_rewards) = 62.875\n",
            "n_try = 9   action = 0  reward = 1  mean(recent_rewards) = 56.0\n",
            "n_try = 10  action = 1  reward = 100    mean(recent_rewards) = 60.4\n",
            "n_try = 11  action = 1  reward = 100    mean(recent_rewards) = 64.0\n",
            "n_try = 12  action = 0  reward = 1  mean(recent_rewards) = 58.75\n",
            "n_try = 13  action = 1  reward = 100    mean(recent_rewards) = 61.92307692307692\n",
            "n_try = 14  action = 1  reward = 100    mean(recent_rewards) = 64.64285714285714\n",
            "n_try = 15  action = 0  reward = 1  mean(recent_rewards) = 60.4\n",
            "n_try = 16  action = 1  reward = 100    mean(recent_rewards) = 62.875\n",
            "n_try = 17  action = 0  reward = 1  mean(recent_rewards) = 59.23529411764706\n",
            "n_try = 18  action = 0  reward = 1  mean(recent_rewards) = 56.0\n",
            "n_try = 19  action = 1  reward = 100    mean(recent_rewards) = 58.31578947368421\n",
            "n_try = 20  action = 1  reward = 100    mean(recent_rewards) = 60.4\n",
            "n_try = 21  action = 0  reward = 1  mean(recent_rewards) = 55.45\n",
            "n_try = 22  action = 0  reward = 1  mean(recent_rewards) = 55.45\n",
            "n_try = 23  action = 1  reward = 100    mean(recent_rewards) = 60.4\n",
            "n_try = 24  action = 1  reward = 100    mean(recent_rewards) = 60.4\n",
            "n_try = 25  action = 0  reward = 1  mean(recent_rewards) = 55.45\n",
            "n_try = 26  action = 1  reward = 100    mean(recent_rewards) = 55.45\n",
            "n_try = 27  action = 1  reward = 100    mean(recent_rewards) = 55.45\n",
            "n_try = 28  action = 1  reward = 100    mean(recent_rewards) = 60.4\n",
            "n_try = 29  action = 1  reward = 100    mean(recent_rewards) = 65.35\n",
            "n_try = 30  action = 0  reward = 1  mean(recent_rewards) = 60.4\n",
            "n_try = 31  action = 1  reward = 100    mean(recent_rewards) = 60.4\n",
            "n_try = 32  action = 0  reward = 1  mean(recent_rewards) = 60.4\n",
            "n_try = 33  action = 1  reward = 100    mean(recent_rewards) = 60.4\n",
            "n_try = 34  action = 0  reward = 1  mean(recent_rewards) = 55.45\n",
            "n_try = 35  action = 0  reward = 1  mean(recent_rewards) = 55.45\n",
            "n_try = 36  action = 1  reward = 100    mean(recent_rewards) = 55.45\n",
            "n_try = 37  action = 1  reward = 100    mean(recent_rewards) = 60.4\n",
            "n_try = 38  action = 1  reward = 100    mean(recent_rewards) = 65.35\n",
            "n_try = 39  action = 1  reward = 100    mean(recent_rewards) = 65.35\n",
            "n_try = 40  action = 1  reward = 100    mean(recent_rewards) = 65.35\n",
            "n_try = 41  action = 0  reward = 1  mean(recent_rewards) = 65.35\n",
            "n_try = 42  action = 1  reward = 100    mean(recent_rewards) = 70.3\n",
            "n_try = 43  action = 1  reward = 100    mean(recent_rewards) = 70.3\n",
            "n_try = 44  action = 0  reward = 1  mean(recent_rewards) = 65.35\n",
            "n_try = 45  action = 1  reward = 100    mean(recent_rewards) = 70.3\n",
            "n_try = 46  action = 1  reward = 100    mean(recent_rewards) = 70.3\n",
            "n_try = 47  action = 1  reward = 100    mean(recent_rewards) = 70.3\n",
            "n_try = 48  action = 0  reward = 1  mean(recent_rewards) = 65.35\n",
            "n_try = 49  action = 1  reward = 100    mean(recent_rewards) = 65.35\n",
            "n_try = 50  action = 1  reward = 100    mean(recent_rewards) = 70.3"
          ]
        }
      ],
      "source": [
        "action_space = [0,1]\n",
        "env = Bandit()\n",
        "rewards = []\n",
        "for t in range(50): \n",
        "    action = np.random.choice(action_space)\n",
        "    #action = 1\n",
        "    reward = env.step(action)\n",
        "    rewards.append(reward)\n",
        "    #--# \n",
        "    print(\n",
        "        f\"n_try = {t+1}\\t\"\n",
        "        f\"action = {action}\\t\"\n",
        "        f\"reward = {reward}\\t\"\n",
        "        f\"mean(recent_rewards) = {np.mean(rewards[-20:])}\"\n",
        "    )\n",
        "    #--#\n",
        "    if t < 20:\n",
        "        pass\n",
        "    else:\n",
        "        if np.mean(rewards[-20:]) >= 95:\n",
        "            break "
      ],
      "id": "28fb2c07-c995-4270-8f44-352b16fa9ca0"
    },
    {
      "cell_type": "markdown",
      "metadata": {},
      "source": [
        "## D. 수정2: `Agent` 구현 (인간지능)\n",
        "\n",
        "`-` Agent 클래스 설계\n",
        "\n",
        "-   액션을 하고, 본인의 행동과 환경에서 받은 reward를 기억\n",
        "-   `.act()`함수와 `.save_experience()`함수 구현"
      ],
      "id": "3e8f5667-87c9-40f6-aadd-b4aba135a863"
    },
    {
      "cell_type": "code",
      "execution_count": 12,
      "metadata": {
        "tags": []
      },
      "outputs": [],
      "source": [
        "class Agent:\n",
        "    def __init__(self):\n",
        "        self.action_space = [0,1]\n",
        "        self.action = None \n",
        "        self.reward = None \n",
        "        self.actions = [] \n",
        "        self.rewards = []\n",
        "    def act(self):\n",
        "        self.action = np.random.choice(self.action_space) # 무지한자 \n",
        "        #self.action = 1 # 깨달은 자\n",
        "    def save_experience(self):\n",
        "        self.actions.append(self.action)\n",
        "        self.rewards.append(self.reward)"
      ],
      "id": "0e5d87ae-8fe3-417d-848a-f49786c2b2ed"
    },
    {
      "cell_type": "markdown",
      "metadata": {},
      "source": [
        "— 대충 아래와 같은 느낌으로 코드가 돌아가요 —\n",
        "\n",
        "**시점0**: init"
      ],
      "id": "be270dd8-2188-495f-b80f-ad4bbd72377a"
    },
    {
      "cell_type": "code",
      "execution_count": 13,
      "metadata": {
        "tags": []
      },
      "outputs": [],
      "source": [
        "env = Bandit()\n",
        "agent = Agent() "
      ],
      "id": "6ee01a47-2ecc-41c9-9344-419f06f89d09"
    },
    {
      "cell_type": "code",
      "execution_count": 14,
      "metadata": {
        "tags": []
      },
      "outputs": [],
      "source": [
        "agent.action, agent.reward"
      ],
      "id": "43397ed8-1846-4db8-85e5-feab67bb12f1"
    },
    {
      "cell_type": "markdown",
      "metadata": {},
      "source": [
        "**시점1**: agent \\>\\> env"
      ],
      "id": "5ac6952e-d922-4f6e-a34d-158c117f494f"
    },
    {
      "cell_type": "code",
      "execution_count": 15,
      "metadata": {
        "tags": []
      },
      "outputs": [],
      "source": [
        "agent.act()"
      ],
      "id": "94b910e3-9d0d-4e32-bfe4-1ea5bc7a537b"
    },
    {
      "cell_type": "code",
      "execution_count": 16,
      "metadata": {
        "tags": []
      },
      "outputs": [],
      "source": [
        "agent.action, agent.reward"
      ],
      "id": "88ca0c67-6c67-461b-adad-5781c23e366a"
    },
    {
      "cell_type": "code",
      "execution_count": 17,
      "metadata": {
        "tags": []
      },
      "outputs": [],
      "source": [
        "env.agent_action = agent.action"
      ],
      "id": "390746fe-70f2-42ff-97e7-02872bf725fe"
    },
    {
      "cell_type": "markdown",
      "metadata": {},
      "source": [
        "**시점2**: agent \\<\\< env"
      ],
      "id": "708bf928-be99-4da0-b499-26287711685a"
    },
    {
      "cell_type": "code",
      "execution_count": 18,
      "metadata": {
        "tags": []
      },
      "outputs": [],
      "source": [
        "agent.reward = env.step(env.agent_action)"
      ],
      "id": "0c06f08a-96f0-454f-bb0e-76f3b80650a0"
    },
    {
      "cell_type": "code",
      "execution_count": 19,
      "metadata": {
        "tags": []
      },
      "outputs": [],
      "source": [
        "agent.action, agent.reward, env.agent_action"
      ],
      "id": "92121832-fc74-40ca-885b-1b7ebbc0b2ef"
    },
    {
      "cell_type": "code",
      "execution_count": 20,
      "metadata": {
        "tags": []
      },
      "outputs": [],
      "source": [
        "agent.actions,agent.rewards"
      ],
      "id": "5de5658f-352b-4080-a452-c7b9ceb32181"
    },
    {
      "cell_type": "code",
      "execution_count": 21,
      "metadata": {
        "tags": []
      },
      "outputs": [],
      "source": [
        "agent.save_experience()"
      ],
      "id": "5e3ea513-38ff-42a0-b298-c2b17347e30c"
    },
    {
      "cell_type": "code",
      "execution_count": 22,
      "metadata": {
        "tags": []
      },
      "outputs": [],
      "source": [
        "agent.actions,agent.rewards"
      ],
      "id": "89f2ead3-14ff-4db7-91b7-e7444900a2ae"
    },
    {
      "cell_type": "markdown",
      "metadata": {},
      "source": [
        "– 전체코드 –"
      ],
      "id": "315673f5-b03c-4859-85a8-1b9bf47053f1"
    },
    {
      "cell_type": "code",
      "execution_count": 23,
      "metadata": {
        "tags": []
      },
      "outputs": [
        {
          "output_type": "stream",
          "name": "stdout",
          "text": [
            "n_try = 1   action = 0  reward = 1  mean(recent_rewards) = 1.0\n",
            "n_try = 2   action = 0  reward = 1  mean(recent_rewards) = 1.0\n",
            "n_try = 3   action = 1  reward = 100    mean(recent_rewards) = 34.0\n",
            "n_try = 4   action = 0  reward = 1  mean(recent_rewards) = 25.75\n",
            "n_try = 5   action = 0  reward = 1  mean(recent_rewards) = 20.8\n",
            "n_try = 6   action = 0  reward = 1  mean(recent_rewards) = 17.5\n",
            "n_try = 7   action = 0  reward = 1  mean(recent_rewards) = 15.142857142857142\n",
            "n_try = 8   action = 0  reward = 1  mean(recent_rewards) = 13.375\n",
            "n_try = 9   action = 0  reward = 1  mean(recent_rewards) = 12.0\n",
            "n_try = 10  action = 0  reward = 1  mean(recent_rewards) = 10.9\n",
            "n_try = 11  action = 0  reward = 1  mean(recent_rewards) = 10.0\n",
            "n_try = 12  action = 0  reward = 1  mean(recent_rewards) = 9.25\n",
            "n_try = 13  action = 1  reward = 100    mean(recent_rewards) = 16.23076923076923\n",
            "n_try = 14  action = 0  reward = 1  mean(recent_rewards) = 15.142857142857142\n",
            "n_try = 15  action = 1  reward = 100    mean(recent_rewards) = 20.8\n",
            "n_try = 16  action = 0  reward = 1  mean(recent_rewards) = 19.5625\n",
            "n_try = 17  action = 0  reward = 1  mean(recent_rewards) = 18.470588235294116\n",
            "n_try = 18  action = 1  reward = 100    mean(recent_rewards) = 23.0\n",
            "n_try = 19  action = 1  reward = 100    mean(recent_rewards) = 27.05263157894737\n",
            "n_try = 20  action = 0  reward = 1  mean(recent_rewards) = 25.75\n",
            "n_try = 21  action = 1  reward = 100    mean(recent_rewards) = 30.7\n",
            "n_try = 22  action = 0  reward = 1  mean(recent_rewards) = 30.7\n",
            "n_try = 23  action = 0  reward = 1  mean(recent_rewards) = 25.75\n",
            "n_try = 24  action = 1  reward = 100    mean(recent_rewards) = 30.7\n",
            "n_try = 25  action = 0  reward = 1  mean(recent_rewards) = 30.7\n",
            "n_try = 26  action = 0  reward = 1  mean(recent_rewards) = 30.7\n",
            "n_try = 27  action = 1  reward = 100    mean(recent_rewards) = 35.65\n",
            "n_try = 28  action = 0  reward = 1  mean(recent_rewards) = 35.65\n",
            "n_try = 29  action = 0  reward = 1  mean(recent_rewards) = 35.65\n",
            "n_try = 30  action = 1  reward = 100    mean(recent_rewards) = 40.6\n",
            "n_try = 31  action = 0  reward = 1  mean(recent_rewards) = 40.6\n",
            "n_try = 32  action = 1  reward = 100    mean(recent_rewards) = 45.55\n",
            "n_try = 33  action = 0  reward = 1  mean(recent_rewards) = 40.6\n",
            "n_try = 34  action = 0  reward = 1  mean(recent_rewards) = 40.6\n",
            "n_try = 35  action = 1  reward = 100    mean(recent_rewards) = 40.6\n",
            "n_try = 36  action = 0  reward = 1  mean(recent_rewards) = 40.6\n",
            "n_try = 37  action = 1  reward = 100    mean(recent_rewards) = 45.55\n",
            "n_try = 38  action = 1  reward = 100    mean(recent_rewards) = 45.55\n",
            "n_try = 39  action = 0  reward = 1  mean(recent_rewards) = 40.6\n",
            "n_try = 40  action = 0  reward = 1  mean(recent_rewards) = 40.6\n",
            "n_try = 41  action = 1  reward = 100    mean(recent_rewards) = 40.6\n",
            "n_try = 42  action = 0  reward = 1  mean(recent_rewards) = 40.6\n",
            "n_try = 43  action = 1  reward = 100    mean(recent_rewards) = 45.55\n",
            "n_try = 44  action = 1  reward = 100    mean(recent_rewards) = 45.55\n",
            "n_try = 45  action = 0  reward = 1  mean(recent_rewards) = 45.55\n",
            "n_try = 46  action = 1  reward = 100    mean(recent_rewards) = 50.5\n",
            "n_try = 47  action = 0  reward = 1  mean(recent_rewards) = 45.55\n",
            "n_try = 48  action = 0  reward = 1  mean(recent_rewards) = 45.55\n",
            "n_try = 49  action = 0  reward = 1  mean(recent_rewards) = 45.55\n",
            "n_try = 50  action = 1  reward = 100    mean(recent_rewards) = 45.55"
          ]
        }
      ],
      "source": [
        "env = Bandit() \n",
        "agent = Agent()\n",
        "for t in range(50): \n",
        "    # step1: agent >> env \n",
        "    agent.act() \n",
        "    env.agent_action = agent.action\n",
        "    # step2: agent << env \n",
        "    agent.reward = env.step(env.agent_action)\n",
        "    agent.save_experience() \n",
        "    #--# \n",
        "    print(\n",
        "        f\"n_try = {t+1}\\t\"\n",
        "        f\"action = {agent.action}\\t\"\n",
        "        f\"reward = {agent.reward}\\t\"\n",
        "        f\"mean(recent_rewards) = {np.mean(agent.rewards[-20:])}\"\n",
        "    )\n",
        "    #--#\n",
        "    if t < 20:\n",
        "        pass\n",
        "    else:\n",
        "        if np.mean(rewards[-20:]) >= 95:\n",
        "            break "
      ],
      "id": "94d5f2d2-b38f-472c-97b1-a64c58f68455"
    },
    {
      "cell_type": "markdown",
      "metadata": {},
      "source": [
        "## E. 수정3: `Agent` 구현 (인공지능)\n",
        "\n",
        "`-` 지금까지 풀이의 한계\n",
        "\n",
        "-   사실 강화학습은 “환경을 이해 $\\to$ 행동을 결정” 의 과정에서\n",
        "    “$\\to$”의 과정을 수식화 한 것이다.\n",
        "-   그런데 지금까지 했던 코드는 환경(environment)를 이해하는 순간\n",
        "    에이전트(agent)가 최적의 행동(action)[1]을 **“직관적으로”**\n",
        "    결정하였으므로 기계가 스스로 학습을 했다고 볼 수 없다.\n",
        "\n",
        "`-` 에이전트가 데이터를 보고 스스로 학습할 수 있도록 설계 – 부제:\n",
        "`agent.learn()`을 설계하자.\n",
        "\n",
        "1.  데이터를 모아서 `q_table` 를 만든다. `q_table`은 아래와 같은 내용을\n",
        "    포함한다.\n",
        "\n",
        "|      행동      |   보상평균   |\n",
        "|:--------------:|:------------:|\n",
        "| 버튼0 ($=a_0$) |  1 ($=q_0$)  |\n",
        "| 버튼1 ($=a_1$) | 100 ($=q_1$) |\n",
        "\n",
        "1.  `q_table`을 바탕으로 적절한 정책(=`policy`)을 설정한다.\n",
        "\n",
        "-   이 예제에서는 버튼0과 버튼1을 각각\n",
        "    $\\big(\\frac{q_0}{q_0+q_1},\\frac{q_1}{q_0+q_1}\\big)$ 의 확률로\n",
        "    선택하는 “정책”을 이용하면 충분할 듯\n",
        "\n",
        "> 여기에서 `q_table`, `policy`라는 용어를 기억하세요.\n",
        "\n",
        "`-` `q_table`을 계산하는 코드 예시\n",
        "\n",
        "[1] `버튼1`을 누른다"
      ],
      "id": "526025ab-3990-46f0-8208-583646897a74"
    },
    {
      "cell_type": "code",
      "execution_count": 24,
      "metadata": {
        "tags": []
      },
      "outputs": [],
      "source": [
        "agent.actions = [0,1,1,0,1,0,0] \n",
        "agent.rewards = [1,101,102,1,99,1,1.2] \n",
        "actions = np.array(agent.actions)\n",
        "rewards = np.array(agent.rewards)"
      ],
      "id": "f725954b-d1fa-47e9-ab79-46ec3a53eef2"
    },
    {
      "cell_type": "code",
      "execution_count": 25,
      "metadata": {
        "tags": []
      },
      "outputs": [],
      "source": [
        "q0 = rewards[actions == 0].mean()\n",
        "q1 = rewards[actions == 1].mean()"
      ],
      "id": "2ca4712f-f522-431c-b71d-816820b5f6b2"
    },
    {
      "cell_type": "code",
      "execution_count": 26,
      "metadata": {
        "tags": []
      },
      "outputs": [],
      "source": [
        "agent.q = np.array([q0,q1]) \n",
        "agent.q"
      ],
      "id": "0f400b80-ff55-4b0c-bb7c-6bf4eded24f6"
    },
    {
      "cell_type": "code",
      "execution_count": 27,
      "metadata": {
        "tags": []
      },
      "outputs": [],
      "source": [
        "prob = agent.q / agent.q.sum()\n",
        "prob "
      ],
      "id": "3d52e620-b8ed-42de-a1a1-7d5961ccbccb"
    },
    {
      "cell_type": "code",
      "execution_count": 28,
      "metadata": {
        "tags": []
      },
      "outputs": [],
      "source": [
        "action = np.random.choice([0,1], p= prob)\n",
        "action"
      ],
      "id": "3ef3f7fe-29a4-473b-bfac-3bb00c45b045"
    },
    {
      "cell_type": "markdown",
      "metadata": {},
      "source": [
        "`-` 최종코드정리"
      ],
      "id": "347daffe-91a0-43e4-a53d-ca4af7a9123e"
    },
    {
      "cell_type": "code",
      "execution_count": 29,
      "metadata": {
        "tags": []
      },
      "outputs": [],
      "source": [
        "class Bandit: \n",
        "    def step(self, action):\n",
        "        if action == 0:\n",
        "            return 1 \n",
        "        else: \n",
        "            return 100 \n",
        "class Agent:\n",
        "    def __init__(self):\n",
        "        self.action_space = [0,1]\n",
        "        self.action = None \n",
        "        self.reward = None \n",
        "        self.actions = [] \n",
        "        self.rewards = []\n",
        "        self.q_table = np.array([0,0]) \n",
        "        self.n_experience = 0 \n",
        "    def act(self):\n",
        "        if self.n_experience < 20: \n",
        "            self.action = np.random.choice(self.action_space)\n",
        "        else: \n",
        "            prob = self.q_table / self.q_table.sum()\n",
        "            self.action = np.random.choice(self.action_space, p= prob)\n",
        "    def save_experience(self):\n",
        "        self.actions.append(self.action)\n",
        "        self.rewards.append(self.reward)\n",
        "        self.n_experience += 1 \n",
        "    def learn(self):\n",
        "        if self.n_experience<20: \n",
        "            pass \n",
        "        else: \n",
        "            actions = np.array(self.actions)\n",
        "            rewards = np.array(self.rewards)\n",
        "            q0 = rewards[actions == 0].mean()\n",
        "            q1 = rewards[actions == 1].mean()\n",
        "            self.q_table = np.array([q0,q1]) "
      ],
      "id": "a218caa5-b032-4e57-ab22-cca6b2c8ab02"
    },
    {
      "cell_type": "code",
      "execution_count": 30,
      "metadata": {
        "tags": []
      },
      "outputs": [
        {
          "output_type": "stream",
          "name": "stdout",
          "text": [
            "n_try = 1   action = 0  reward = 1  mean(recent_rewards) = 1.0\n",
            "n_try = 2   action = 0  reward = 1  mean(recent_rewards) = 1.0\n",
            "n_try = 3   action = 1  reward = 100    mean(recent_rewards) = 34.0\n",
            "n_try = 4   action = 1  reward = 100    mean(recent_rewards) = 50.5\n",
            "n_try = 5   action = 1  reward = 100    mean(recent_rewards) = 60.4\n",
            "n_try = 6   action = 0  reward = 1  mean(recent_rewards) = 50.5\n",
            "n_try = 7   action = 1  reward = 100    mean(recent_rewards) = 57.57142857142857\n",
            "n_try = 8   action = 1  reward = 100    mean(recent_rewards) = 62.875\n",
            "n_try = 9   action = 0  reward = 1  mean(recent_rewards) = 56.0\n",
            "n_try = 10  action = 1  reward = 100    mean(recent_rewards) = 60.4\n",
            "n_try = 11  action = 1  reward = 100    mean(recent_rewards) = 64.0\n",
            "n_try = 12  action = 1  reward = 100    mean(recent_rewards) = 67.0\n",
            "n_try = 13  action = 0  reward = 1  mean(recent_rewards) = 61.92307692307692\n",
            "n_try = 14  action = 0  reward = 1  mean(recent_rewards) = 57.57142857142857\n",
            "n_try = 15  action = 1  reward = 100    mean(recent_rewards) = 60.4\n",
            "n_try = 16  action = 1  reward = 100    mean(recent_rewards) = 62.875\n",
            "n_try = 17  action = 1  reward = 100    mean(recent_rewards) = 65.05882352941177\n",
            "n_try = 18  action = 1  reward = 100    mean(recent_rewards) = 67.0\n",
            "n_try = 19  action = 0  reward = 1  mean(recent_rewards) = 63.526315789473685\n",
            "n_try = 20  action = 1  reward = 100    mean(recent_rewards) = 65.35\n",
            "n_try = 21  action = 1  reward = 100    mean(recent_rewards) = 70.3\n",
            "n_try = 22  action = 1  reward = 100    mean(recent_rewards) = 75.25\n",
            "n_try = 23  action = 1  reward = 100    mean(recent_rewards) = 75.25\n",
            "n_try = 24  action = 1  reward = 100    mean(recent_rewards) = 75.25\n",
            "n_try = 25  action = 1  reward = 100    mean(recent_rewards) = 75.25\n",
            "n_try = 26  action = 1  reward = 100    mean(recent_rewards) = 80.2\n",
            "n_try = 27  action = 1  reward = 100    mean(recent_rewards) = 80.2\n",
            "n_try = 28  action = 1  reward = 100    mean(recent_rewards) = 80.2\n",
            "n_try = 29  action = 1  reward = 100    mean(recent_rewards) = 85.15\n",
            "n_try = 30  action = 1  reward = 100    mean(recent_rewards) = 85.15\n",
            "n_try = 31  action = 1  reward = 100    mean(recent_rewards) = 85.15\n",
            "n_try = 32  action = 1  reward = 100    mean(recent_rewards) = 85.15\n",
            "n_try = 33  action = 1  reward = 100    mean(recent_rewards) = 90.1\n",
            "n_try = 34  action = 1  reward = 100    mean(recent_rewards) = 95.05\n",
            "n_try = 35  action = 1  reward = 100    mean(recent_rewards) = 95.05\n",
            "n_try = 36  action = 1  reward = 100    mean(recent_rewards) = 95.05\n",
            "n_try = 37  action = 1  reward = 100    mean(recent_rewards) = 95.05\n",
            "n_try = 38  action = 1  reward = 100    mean(recent_rewards) = 95.05\n",
            "n_try = 39  action = 1  reward = 100    mean(recent_rewards) = 100.0\n",
            "n_try = 40  action = 1  reward = 100    mean(recent_rewards) = 100.0\n",
            "n_try = 41  action = 1  reward = 100    mean(recent_rewards) = 100.0\n",
            "n_try = 42  action = 1  reward = 100    mean(recent_rewards) = 100.0\n",
            "n_try = 43  action = 1  reward = 100    mean(recent_rewards) = 100.0\n",
            "n_try = 44  action = 1  reward = 100    mean(recent_rewards) = 100.0\n",
            "n_try = 45  action = 1  reward = 100    mean(recent_rewards) = 100.0\n",
            "n_try = 46  action = 1  reward = 100    mean(recent_rewards) = 100.0\n",
            "n_try = 47  action = 1  reward = 100    mean(recent_rewards) = 100.0\n",
            "n_try = 48  action = 1  reward = 100    mean(recent_rewards) = 100.0\n",
            "n_try = 49  action = 1  reward = 100    mean(recent_rewards) = 100.0\n",
            "n_try = 50  action = 1  reward = 100    mean(recent_rewards) = 100.0"
          ]
        }
      ],
      "source": [
        "env = Bandit() \n",
        "agent = Agent()\n",
        "for t in range(50): \n",
        "    ## 1. main 코드 \n",
        "    # step1: agent >> env \n",
        "    agent.act() \n",
        "    env.agent_action = agent.action\n",
        "    # step2: agent << env \n",
        "    agent.reward = env.step(env.agent_action)\n",
        "    agent.save_experience() \n",
        "    # step3: learn \n",
        "    agent.learn()\n",
        "    #--# \n",
        "    print(\n",
        "        f\"n_try = {t+1}\\t\"\n",
        "        f\"action = {agent.action}\\t\"\n",
        "        f\"reward = {agent.reward}\\t\"\n",
        "        f\"mean(recent_rewards) = {np.mean(agent.rewards[-20:])}\"\n",
        "    )\n",
        "    #--#\n",
        "    if t < 20:\n",
        "        pass\n",
        "    else:\n",
        "        if np.mean(rewards[-20:]) >= 95:\n",
        "            break  "
      ],
      "id": "23269b00-b8b6-4e57-89b2-963594874899"
    }
  ],
  "nbformat": 4,
  "nbformat_minor": 5,
  "metadata": {
    "kernelspec": {
      "name": "python3",
      "display_name": "Python 3 (ipykernel)",
      "language": "python"
    },
    "language_info": {
      "name": "python",
      "codemirror_mode": {
        "name": "ipython",
        "version": "3"
      },
      "file_extension": ".py",
      "mimetype": "text/x-python",
      "nbconvert_exporter": "python",
      "pygments_lexer": "ipython3",
      "version": "3.11.8"
    }
  }
}