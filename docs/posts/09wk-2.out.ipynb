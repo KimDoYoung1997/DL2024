{
  "cells": [
    {
      "cell_type": "markdown",
      "metadata": {},
      "source": [
        "# 09wk-2: 중간고사 (예상문제)\n",
        "\n",
        "최규빈  \n",
        "2024-05-01"
      ],
      "id": "4253e2e7-5d46-415d-946b-38b7d3626715"
    },
    {
      "cell_type": "code",
      "execution_count": 1,
      "metadata": {
        "tags": []
      },
      "outputs": [],
      "source": [
        "import torch \n",
        "import numpy as np\n",
        "import pandas as pd \n",
        "import matplotlib.pyplot as plt\n",
        "import fastai.vision.all"
      ],
      "id": "911f01f4-c5a9-4ac0-b41d-7500b8e3abc8"
    },
    {
      "cell_type": "markdown",
      "metadata": {},
      "source": [
        "## `1`. 크롤링을 통한 이미지 분석 및 CAM\n",
        "\n",
        "`(1)` 두 가지 키워드로 크롤링을 수행하여 이미지자료를 모아라. (키워드는\n",
        "각자 마음에 드는 것으로 설정할 것) – 01wk-1 의 HW를 그대로 활용해도 무방\n",
        "\n",
        "`(2)` ImageDataLoaders.from_folder 를 이용하여 dls를 만들어라.\n",
        "\n",
        "`(3)` resnet34를 이용하여 학습하라.\n",
        "\n",
        "`(4)` CAM (class activation mapping)을 이용하여 (3)의 모형의 판단근거를\n",
        "시각화하라."
      ],
      "id": "a739e47d-86d6-4f19-bbf3-77252560e983"
    }
  ],
  "nbformat": 4,
  "nbformat_minor": 5,
  "metadata": {
    "kernelspec": {
      "name": "python3",
      "display_name": "Python 3 (ipykernel)",
      "language": "python"
    },
    "language_info": {
      "name": "python",
      "codemirror_mode": {
        "name": "ipython",
        "version": "3"
      },
      "file_extension": ".py",
      "mimetype": "text/x-python",
      "nbconvert_exporter": "python",
      "pygments_lexer": "ipython3",
      "version": "3.11.8"
    }
  }
}