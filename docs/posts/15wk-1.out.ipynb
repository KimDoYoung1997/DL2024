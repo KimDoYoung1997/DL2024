{
  "cells": [
    {
      "cell_type": "markdown",
      "metadata": {},
      "source": [
        "# 15wk-1: 강화학습 (4) – LunarLander\n",
        "\n",
        "최규빈  \n",
        "2024-06-10\n",
        "\n",
        "<a href=\"https://colab.research.google.com/github/guebin/DL2024/blob/main/posts/15wk-1.ipynb\"><img src=\"https://colab.research.google.com/assets/colab-badge.svg\" style=\"text-align: left\"></a>\n",
        "\n",
        "# 1. 강의영상"
      ],
      "id": "add14704-3554-478b-8671-24ff35337828"
    },
    {
      "cell_type": "code",
      "execution_count": 2,
      "metadata": {
        "tags": []
      },
      "outputs": [],
      "source": [
        "# {{<video https://youtu.be/playlist?list=PLQqh36zP38-zBEizLbjgRE8qMfsJML6Ua&si=HALKE6fjiWB12AGW >}}"
      ],
      "id": "ad94a242-b1be-4b50-9a1b-73a54bc89579"
    },
    {
      "cell_type": "markdown",
      "metadata": {},
      "source": [
        "# 2. Imports"
      ],
      "id": "5daec95b-3f2d-4ae7-88c2-544f6c0d6faf"
    },
    {
      "cell_type": "code",
      "execution_count": 3,
      "metadata": {
        "tags": []
      },
      "outputs": [],
      "source": [
        "import gymnasium as gym\n",
        "import numpy as np\n",
        "import matplotlib.pyplot as plt\n",
        "from matplotlib.animation import FuncAnimation\n",
        "import torch\n",
        "import collections\n",
        "import IPython"
      ],
      "id": "55dc4e55-4d07-4c2f-a0f6-4cc338132568"
    },
    {
      "cell_type": "markdown",
      "metadata": {},
      "source": [
        "# 3. 예비학습\n",
        "\n",
        "`-` `collections.deque` 의 기능"
      ],
      "id": "4c70b2b4-2505-49c5-b42f-61585eaa714a"
    },
    {
      "cell_type": "code",
      "execution_count": 4,
      "metadata": {
        "tags": []
      },
      "outputs": [],
      "source": [
        "a = collections.deque([1,2,3], maxlen = 5 )\n",
        "a"
      ],
      "id": "b817509f-fa54-4f2f-9eac-8ce3a07b986a"
    },
    {
      "cell_type": "code",
      "execution_count": 5,
      "metadata": {
        "tags": []
      },
      "outputs": [],
      "source": [
        "a.append(4)\n",
        "a"
      ],
      "id": "eafca7dd-61d8-4cea-9a18-8b0e8922ae12"
    },
    {
      "cell_type": "code",
      "execution_count": 6,
      "metadata": {
        "tags": []
      },
      "outputs": [],
      "source": [
        "a.append(5)\n",
        "a"
      ],
      "id": "c5629ebe-98b5-4238-a1b1-4ac124fb6cc8"
    },
    {
      "cell_type": "code",
      "execution_count": 7,
      "metadata": {
        "tags": []
      },
      "outputs": [],
      "source": [
        "a.append(6)\n",
        "a"
      ],
      "id": "fb58a6c8-fa5f-473b-84d2-bd41ccc1ad7f"
    },
    {
      "cell_type": "markdown",
      "metadata": {},
      "source": [
        "`-` 단점? numpy array 보다는 list 느낌임 (연산에 특화된건 아님)"
      ],
      "id": "5e0d2f62-99f3-4262-be1b-2e1e456e4fc0"
    },
    {
      "cell_type": "code",
      "execution_count": 8,
      "metadata": {
        "tags": []
      },
      "outputs": [],
      "source": [
        "a + 1"
      ],
      "id": "6a05d02b-296f-4819-aa94-1e3c9414e874"
    },
    {
      "cell_type": "markdown",
      "metadata": {},
      "source": [
        "`-` 그렇지만 필요하다면 np.array 화 시킬 수 있음."
      ],
      "id": "fd5c6a00-b4c2-4f5e-812a-a5016e770b09"
    },
    {
      "cell_type": "code",
      "execution_count": 9,
      "metadata": {
        "tags": []
      },
      "outputs": [],
      "source": [
        "np.array(a) + 1"
      ],
      "id": "79e7311b-fd49-4693-bc7b-0c903120dda8"
    },
    {
      "cell_type": "markdown",
      "metadata": {},
      "source": [
        "`-` collection.deque 는 리플레이 버퍼를 구현할때 유용한 자료구조이다.\n",
        "\n",
        "-   (우리가 했던) 기존방식: 모든 데이터를 저장하며 하나의 경험씩 학습함\n",
        "-   리플레이버퍼: 최근 $N$개의 데이터를 저장하여 여러경험을 샘플링하여\n",
        "    학습하는 방식\n",
        "-   리플레이버퍼의 장점: 메모리를 아낄 수 있다, 다양한 종류의 경험을\n",
        "    저장하고 무작위로 재사용하여 학습이 안정적으로 된다, “저장 -\\> 학습\n",
        "    -\\> 저장” 순으로 반드시 실시간으로 학습할 필요가 없어서 병렬처리에\n",
        "    용이하다, 강화학습에서 연속된 경험은 상관관계가 있을 수 있는데\n",
        "    무작위 샘플로 이러한 상관관계를 제거할 수 있음\n",
        "\n",
        "# 4. LunarLander\n",
        "\n",
        "`-` 환경생성"
      ],
      "id": "48ccc4f2-f8f5-4c2b-b533-2f091bd73c3f"
    },
    {
      "cell_type": "code",
      "execution_count": 10,
      "metadata": {
        "tags": []
      },
      "outputs": [],
      "source": [
        "env = gym.make('LunarLander-v2', render_mode = 'rgb_array') \n",
        "env "
      ],
      "id": "a8852355-cd61-4a72-a5ee-c580e9a19b1d"
    },
    {
      "cell_type": "markdown",
      "metadata": {},
      "source": [
        "`-` state_space"
      ],
      "id": "efe109a0-0c7b-415e-9174-bc6abcc1f0f9"
    },
    {
      "cell_type": "code",
      "execution_count": 11,
      "metadata": {
        "tags": []
      },
      "outputs": [],
      "source": [
        "env.observation_space"
      ],
      "id": "171be784-03be-43d5-be68-75cc290bbc0a"
    },
    {
      "cell_type": "markdown",
      "metadata": {},
      "source": [
        "`-` action_space"
      ],
      "id": "3593d96f-d596-447d-aa8a-9922eaff8e71"
    },
    {
      "cell_type": "code",
      "execution_count": 12,
      "metadata": {
        "tags": []
      },
      "outputs": [],
      "source": [
        "env.action_space"
      ],
      "id": "bd779444-a5ea-43f2-a4fd-bfe9cecc276a"
    },
    {
      "cell_type": "markdown",
      "metadata": {},
      "source": [
        "`-` env.reset()"
      ],
      "id": "bf1456af-12af-4924-bd05-f0e43986b564"
    },
    {
      "cell_type": "code",
      "execution_count": 13,
      "metadata": {
        "tags": []
      },
      "outputs": [],
      "source": [
        "state, _ = env.reset()\n",
        "state "
      ],
      "id": "8af1fd90-6677-4a6c-96cd-2f01297a2fb4"
    },
    {
      "cell_type": "markdown",
      "metadata": {},
      "source": [
        "`-` env.render()"
      ],
      "id": "0a25b3ff-c8c7-4229-985c-c01ec303765b"
    },
    {
      "cell_type": "code",
      "execution_count": 14,
      "metadata": {
        "tags": []
      },
      "outputs": [
        {
          "output_type": "display_data",
          "metadata": {},
          "data": {
            "image/png": "[encoded data removed]"
          }
        }
      ],
      "source": [
        "plt.imshow(env.render())"
      ],
      "id": "24c9b860-ba38-40d8-bfac-4cd67c3e4b4b"
    },
    {
      "cell_type": "markdown",
      "metadata": {},
      "source": [
        "`-` env.step"
      ],
      "id": "c462ea2f-97f0-4f58-bc45-c57acb65e5c9"
    },
    {
      "cell_type": "code",
      "execution_count": 15,
      "metadata": {
        "tags": []
      },
      "outputs": [],
      "source": [
        "next_state, reward, terminated, _, _ = env.step(0)\n",
        "next_state, reward, terminated"
      ],
      "id": "e9a028ff-26fd-43e1-b5de-861e4b73cd7b"
    },
    {
      "cell_type": "markdown",
      "metadata": {},
      "source": [
        "`-` play"
      ],
      "id": "bbb92bf6-03bc-439f-b6a0-921c0ed3de87"
    },
    {
      "cell_type": "code",
      "execution_count": 16,
      "metadata": {
        "tags": []
      },
      "outputs": [
        {
          "output_type": "display_data",
          "metadata": {},
          "data": {
            "image/png": "[encoded data removed]"
          }
        }
      ],
      "source": [
        "env.reset()\n",
        "plt.imshow(env.render())"
      ],
      "id": "9d4b150c-714e-4cd9-98f6-93ffc6650c51"
    },
    {
      "cell_type": "code",
      "execution_count": 17,
      "metadata": {
        "tags": []
      },
      "outputs": [
        {
          "output_type": "display_data",
          "metadata": {},
          "data": {
            "image/png": "[encoded data removed]"
          }
        }
      ],
      "source": [
        "for _ in range(7):\n",
        "    env.step(3)\n",
        "    env.step(2)\n",
        "plt.imshow(env.render())"
      ],
      "id": "752bb619-6f28-4a73-9eca-ab52210f062c"
    },
    {
      "cell_type": "markdown",
      "metadata": {},
      "source": [
        "-   0 : 아무행동도 하지 않음\n",
        "-   1 : 왼쪽\n",
        "-   2 : 위\n",
        "-   3 : 오른쪽\n",
        "\n",
        "# 5. 시각화"
      ],
      "id": "212696e9-6170-4014-87b6-678b7472364c"
    },
    {
      "cell_type": "code",
      "execution_count": 18,
      "metadata": {
        "tags": []
      },
      "outputs": [],
      "source": [
        "def show(ims,jump=10):\n",
        "    ims = ims[::jump]\n",
        "    fig = plt.Figure()\n",
        "    ax = fig.subplots()\n",
        "    def update(i):\n",
        "        ax.imshow(ims[i])\n",
        "    ani = FuncAnimation(fig,update,frames=len(ims))\n",
        "    display(IPython.display.HTML(ani.to_jshtml()))"
      ],
      "id": "33e1586c-3738-43da-a3e2-2ceba519be2c"
    },
    {
      "cell_type": "code",
      "execution_count": 19,
      "metadata": {
        "tags": []
      },
      "outputs": [],
      "source": [
        "current_state, _ = env.reset()\n",
        "ims = [] \n",
        "for t in range(500): \n",
        "    action = env.action_space.sample()\n",
        "    next_state, reward, terminated, _, _ = env.step(action)\n",
        "    im = env.render()\n",
        "    ims.append(im) \n",
        "    current_state = next_state \n",
        "    if terminated: break "
      ],
      "id": "964665a7-8cae-4a96-96bc-6667576c8f85"
    },
    {
      "cell_type": "code",
      "execution_count": 20,
      "metadata": {
        "tags": []
      },
      "outputs": [],
      "source": [
        "show(ims) "
      ],
      "id": "245e132a-a1eb-4a88-85e5-392574fb69cc"
    },
    {
      "cell_type": "markdown",
      "metadata": {},
      "source": [
        "# 6. `q_net`\n",
        "\n",
        "`-` 원래는 `agent.q` 에 해당하는 것인데, 이전에서는 `agent.q`를 (4,4,4)\n",
        "shape의 numpy array 를 사용했는데 여기서는 불가능\n",
        "\n",
        "-   4x4 grid: 상태공간의 차원은 2차원이며 가질수 있는 값은 16개, 각\n",
        "    상태공간에서 할수 있는 행동이 4개 -\\> 총 16\\*4의 경우의 수에 대한\n",
        "    reward만 조사하면 되었음\n",
        "-   LunarLander: 상태공간의 차원은 8차원이지만 가질수 있는 값의 범위는\n",
        "    무한대 -\\> 무수히 많은 경우에 대한 reward 값을 조사하는건 현실적으로\n",
        "    불가능\n",
        "\n",
        "`-` 데이터를 모아보자."
      ],
      "id": "ac95a1c7-fa76-41f9-96a6-d690d43cbfa3"
    },
    {
      "cell_type": "code",
      "execution_count": 21,
      "metadata": {
        "tags": []
      },
      "outputs": [],
      "source": [
        "current_states = collections.deque(maxlen=50) \n",
        "actions = collections.deque(maxlen=50) \n",
        "next_states = collections.deque(maxlen=50) \n",
        "rewards = collections.deque(maxlen=50) \n",
        "terminations = collections.deque(maxlen=50) \n",
        "\n",
        "current_state, _ = env.reset()\n",
        "for t in range(500): \n",
        "    ## step1: agent >> env \n",
        "    action = env.action_space.sample()\n",
        "    ## step2:agent << env \n",
        "    next_state, reward, terminated, _, _ = env.step(action)\n",
        "    current_states.append(current_state)\n",
        "    actions.append(action)\n",
        "    next_states.append(next_state)\n",
        "    rewards.append(reward)\n",
        "    terminations.append(terminated) \n",
        "    ## step3: learn \n",
        "    ## step4: update state     \n",
        "    current_state = next_state \n",
        "    ## step5: 종료조건체크 \n",
        "    if terminated: break "
      ],
      "id": "b22fb206-6853-469b-9a0b-24dfa409c7de"
    },
    {
      "cell_type": "markdown",
      "metadata": {},
      "source": [
        "`-` 이전코드에서 아래에 대응하는 부분을 구현하면 된다.\n",
        "\n",
        "``` python\n",
        "## 1. q[x,y,a]를 초기화: q(s)를 넣으면 action에 대한 q값을 알려주는 기능 \n",
        "agent.q = np.zeros([4,4,4]) \n",
        "\n",
        "## 2. q_estimated 를 계산 \n",
        "x,y = agent.current_state\n",
        "xx,yy = agent.next_state\n",
        "a = agent.action \n",
        "q_estimated = agent.q[x,y,a] \n",
        "\n",
        "## 3. q_realistic = agent.reward + 0.99 * q_future 를 수행하는 과정 \n",
        "if agent.terminated:\n",
        "    q_realistic = agent.reward\n",
        "else:\n",
        "    q_future = q[xx,yy,:].max()\n",
        "    q_realistic = agent.reward + 0.99 * q_future\n",
        "\n",
        "## 4. q_estimated 를 점점 q_realistic 와 비슷하게 만드는 과정 \n",
        "diff = q_realistic - q_estimated \n",
        "agent.q[x,y,a] = q_estimated + 0.05 * diff \n",
        "```\n",
        "\n",
        "`1`. agent.q 에 대응하는 과정"
      ],
      "id": "35ba71fb-0cdc-4f04-8a19-9dd600b9a22d"
    },
    {
      "cell_type": "code",
      "execution_count": 22,
      "metadata": {
        "tags": []
      },
      "outputs": [],
      "source": [
        "q_net = torch.nn.Sequential(\n",
        "    torch.nn.Linear(8,128),\n",
        "    torch.nn.ReLU(),\n",
        "    torch.nn.Linear(128,64),\n",
        "    torch.nn.ReLU(),\n",
        "    torch.nn.Linear(64,32),\n",
        "    torch.nn.ReLU(),\n",
        "    torch.nn.Linear(32,4)\n",
        ")"
      ],
      "id": "9d21f88b-bf06-4f1c-9f94-723163310d8c"
    },
    {
      "cell_type": "code",
      "execution_count": 23,
      "metadata": {
        "tags": []
      },
      "outputs": [],
      "source": [
        "q_net # <- 8개의 숫자가 입력으로 오면 4개의 숫자를 리턴하는 함수 "
      ],
      "id": "b85c25c3-03f6-4fca-8592-663b07acc658"
    },
    {
      "cell_type": "code",
      "execution_count": 24,
      "metadata": {
        "tags": []
      },
      "outputs": [],
      "source": [
        "q_net(torch.tensor(current_state))"
      ],
      "id": "6fef26bf-9bbd-408d-b90c-d36853670e24"
    },
    {
      "cell_type": "markdown",
      "metadata": {},
      "source": [
        "-   q_net은 8개의 숫자가 입력으로 오면 4개의 숫자가 리턴되는 함수이다.\n",
        "-   해석을 하면 8개의 숫자는 state를 나타내는 숫자로 이해할 수 있고\n",
        "    4개의 숫자는 각 action에 대한 q값으로 해석할 수 있다.\n",
        "-   하지만 이 숫자가 합리적인건 아님 (아무숫자임)\n",
        "-   q_net의 특징: 고정된 함수가 아니고 데이터를 이용하여 점점 더\n",
        "    그럴듯한 숫자를 뱉어내도록 학습할 수 있는 함수이다. (뉴럴네트워크)\n",
        "\n",
        "`1`. agent.q 에 대응하는 과정 (배치버전)\n",
        "\n",
        "– get batch –"
      ],
      "id": "ff3865fc-57bb-4cc5-b124-bd172df07b55"
    },
    {
      "cell_type": "code",
      "execution_count": 25,
      "metadata": {
        "tags": []
      },
      "outputs": [],
      "source": [
        "batch_size = 4 \n",
        "idx = np.random.randint(0,50,size=batch_size)\n",
        "\n",
        "current_states_batch = torch.tensor(np.array(current_states))[idx].float()\n",
        "actions_batch = torch.tensor(np.array(actions))[idx].reshape(batch_size,-1) \n",
        "rewards_batch = torch.tensor(np.array(rewards))[idx].reshape(batch_size,-1).float()\n",
        "next_states_batch = torch.tensor(np.array(next_states))[idx].float()\n",
        "terminations_batch = torch.tensor(np.array(terminations))[idx].reshape(batch_size,-1)"
      ],
      "id": "3256e133-0895-4f99-af18-8ee2895f8061"
    },
    {
      "cell_type": "markdown",
      "metadata": {},
      "source": [
        "– q_net –"
      ],
      "id": "f209476f-234f-4755-aa85-65fa3c6f9077"
    },
    {
      "cell_type": "code",
      "execution_count": 26,
      "metadata": {
        "tags": []
      },
      "outputs": [],
      "source": [
        "current_states_batch"
      ],
      "id": "f2b18597-8b96-4e0b-8100-d71cbd450683"
    },
    {
      "cell_type": "code",
      "execution_count": 27,
      "metadata": {
        "tags": []
      },
      "outputs": [],
      "source": [
        "q_net(current_states_batch)"
      ],
      "id": "21c4efe5-5c4c-4a91-bdf2-221f09bcab96"
    },
    {
      "cell_type": "markdown",
      "metadata": {},
      "source": [
        "`2`. q_estimated"
      ],
      "id": "a6f56d4d-9f68-4aef-b755-e1d46d6433a1"
    },
    {
      "cell_type": "code",
      "execution_count": 28,
      "metadata": {
        "tags": []
      },
      "outputs": [],
      "source": [
        "q_net(current_states_batch), actions_batch"
      ],
      "id": "546fa364-c191-4c62-b9de-2658b0e43c37"
    },
    {
      "cell_type": "code",
      "execution_count": 29,
      "metadata": {
        "tags": []
      },
      "outputs": [],
      "source": [
        "q_net(current_states_batch).gather(1,actions_batch)"
      ],
      "id": "8c1c4b17-4223-4263-b4d5-00b56a2bcabb"
    },
    {
      "cell_type": "markdown",
      "metadata": {},
      "source": [
        "`3`. q_realistic = agent.reward + 0.99 \\* q_future\n",
        "\n",
        "– q_future –"
      ],
      "id": "89a36b03-d49b-47df-84ad-a36d2aa2aa15"
    },
    {
      "cell_type": "code",
      "execution_count": 30,
      "metadata": {
        "tags": []
      },
      "outputs": [],
      "source": [
        "q_future = q_net(next_states_batch).max(axis=1)[0].reshape(batch_size,1)\n",
        "q_future"
      ],
      "id": "9dfb27a0-a220-407a-a435-e9fc0300acf2"
    },
    {
      "cell_type": "code",
      "execution_count": 31,
      "metadata": {
        "tags": []
      },
      "outputs": [],
      "source": [
        "q_realistic = rewards_batch + 0.99 * q_future * (~terminations_batch)"
      ],
      "id": "3e9dc45f-b7e0-4193-a863-0fdea329a9f7"
    },
    {
      "cell_type": "markdown",
      "metadata": {},
      "source": [
        "`4`. q_estimated 를 점점 q_realistic 와 비슷하게 만드는 과정\n",
        "\n",
        "``` python\n",
        "## 여기는.. 딥러닝과 파이토치를 좀 알아야.. 모른다면 일단 패스해야합니다.. \n",
        "optimizer = torch.optim.Adam(q_net.parameters(),lr=0.0001) \n",
        "for _ in range(2000):\n",
        "    ~~~\n",
        "    ~~~\n",
        "    q_estimated = ~~~ \n",
        "    q_realistic = ~~~ \n",
        "    loss = torch.nn.functional.mse_loss(q_estimated,q_realistic)\n",
        "    loss.backward()\n",
        "    optimizer.step()\n",
        "    optimizer.zero_grad()\n",
        "```\n",
        "\n",
        "# 7. Policy"
      ],
      "id": "56968a51-9b7a-4153-bba4-2af7150298ac"
    },
    {
      "cell_type": "code",
      "execution_count": 32,
      "metadata": {
        "tags": []
      },
      "outputs": [],
      "source": [
        "eps = 0.5 \n",
        "if np.random.rand() < eps:\n",
        "    action = env.action_space.sample() \n",
        "else:\n",
        "    action = q_net(torch.tensor(current_state)).argmax().item()"
      ],
      "id": "f5af2ff0-e5da-4f24-ae7c-f5ad73097cb2"
    },
    {
      "cell_type": "code",
      "execution_count": 33,
      "metadata": {
        "tags": []
      },
      "outputs": [],
      "source": [
        "action"
      ],
      "id": "ac1140cb-bcf7-4ce9-9576-7f907dd34bdb"
    },
    {
      "cell_type": "markdown",
      "metadata": {},
      "source": [
        "# 8. Agent 클래스 + run"
      ],
      "id": "8fcfa57a-76be-4a74-a966-a4f7aef6586c"
    },
    {
      "cell_type": "code",
      "execution_count": 64,
      "metadata": {
        "tags": []
      },
      "outputs": [],
      "source": [
        "class Agent():\n",
        "    def __init__(self,env):\n",
        "        self.eps = 0\n",
        "        self.n_experiences = 0\n",
        "        self.n_episode = 0\n",
        "        self.score = 0\n",
        "        self.scores = []\n",
        "        self.playtimes = []\n",
        "        self.batch_size = 128\n",
        "        self.buffer_size = 50000\n",
        "        self.action_space = env.action_space\n",
        "        #self.state_space = env.observation_space\n",
        "\n",
        "        # Q-Network\n",
        "        self.q_net = torch.nn.Sequential(\n",
        "            torch.nn.Linear(8,128), \n",
        "            torch.nn.ReLU(),\n",
        "            torch.nn.Linear(128,64),\n",
        "            torch.nn.ReLU(),\n",
        "            torch.nn.Linear(64,32),\n",
        "            torch.nn.ReLU(),\n",
        "            torch.nn.Linear(32,4)\n",
        "        )\n",
        "        self.optimizer = torch.optim.Adam(self.q_net.parameters(), lr=0.0001)\n",
        "\n",
        "        # ReplayBuffer\n",
        "        self.current_states = collections.deque(maxlen=self.buffer_size)\n",
        "        self.actions = collections.deque(maxlen=self.buffer_size)\n",
        "        self.rewards = collections.deque(maxlen=self.buffer_size)\n",
        "        self.next_states = collections.deque(maxlen=self.buffer_size)\n",
        "        self.terminations = collections.deque(maxlen=self.buffer_size)\n",
        "       \n",
        "    def save_experience(self):\n",
        "        \"\"\"Add a new experience to memory.\"\"\"\n",
        "        self.current_states.append(self.current_state)\n",
        "        self.actions.append(self.action)\n",
        "        self.rewards.append(self.reward)\n",
        "        self.next_states.append(self.next_state)\n",
        "        self.terminations.append(self.terminated) \n",
        "        self.n_experiences = self.n_experiences+1\n",
        "        self.score += self.reward\n",
        "    \n",
        "    def act(self):\n",
        "        if np.random.rand() < self.eps:\n",
        "            self.action = self.action_space.sample()\n",
        "        else:\n",
        "            self.action = self.q_net(torch.tensor(self.current_state)).argmax().item()\n",
        "            \n",
        "    def get_batch(self):\n",
        "        idx = np.random.randint(0,self.buffer_size,size=self.batch_size) \n",
        "        self.current_states_batch = torch.tensor(np.array(self.current_states))[idx].float()\n",
        "        self.actions_batch = torch.tensor(np.array(self.actions))[idx].reshape(self.batch_size,1)\n",
        "        self.rewards_batch = torch.tensor(np.array(self.rewards))[idx].reshape(self.batch_size,-1).float()\n",
        "        self.next_states_batch = torch.tensor(np.array(self.next_states))[idx].float()\n",
        "        self.terminations_batch = torch.tensor(np.array(self.terminations))[idx].reshape(self.batch_size,-1) \n",
        "    \n",
        "    def learn(self):\n",
        "        if self.n_experiences < self.buffer_size:\n",
        "            pass\n",
        "        else: \n",
        "            self.get_batch()\n",
        "            q_estimated = self.q_net(self.current_states_batch).gather(1, self.actions_batch)\n",
        "            q_future = self.q_net(self.next_states_batch).detach().max(1)[0].reshape(self.batch_size,1)\n",
        "            q_realistic = self.rewards_batch + 0.99 * q_future * (~self.terminations_batch)\n",
        "\n",
        "            loss = torch.nn.functional.mse_loss(q_estimated, q_realistic)\n",
        "            loss.backward()\n",
        "            self.optimizer.step()\n",
        "            self.optimizer.zero_grad()"
      ],
      "id": "b1ab0b02-ff97-4bd0-8597-ccab8e93d482"
    },
    {
      "cell_type": "code",
      "execution_count": 35,
      "metadata": {
        "tags": []
      },
      "outputs": [
        {
          "output_type": "stream",
          "name": "stdout",
          "text": [
            "Episode 10  Score: -203.26  Playtime:  95.50    n_eps: 0.9511101304657719   n_experiences: 955  \n",
            "Episode 20  Score: -208.47  Playtime:  99.00    n_eps: 0.9046104802746175   n_experiences: 1980 \n",
            "Episode 30  Score: -229.49  Playtime:  103.27   n_eps: 0.8603841919146962   n_experiences: 3098 \n",
            "Episode 40  Score: -239.50  Playtime:  105.42   n_eps: 0.8183201210226743   n_experiences: 4217 \n",
            "Episode 50  Score: -237.79  Playtime:  105.02   n_eps: 0.778312557068642    n_experiences: 5251 \n",
            "Episode 60  Score: -250.40  Playtime:  109.72   n_eps: 0.7402609576967045   n_experiences: 6583 \n",
            "Episode 70  Score: -252.73  Playtime:  111.06   n_eps: 0.7040696960536299   n_experiences: 7774 \n",
            "Episode 80  Score: -256.20  Playtime:  114.19   n_eps: 0.6696478204705644   n_experiences: 9135 \n",
            "Episode 90  Score: -266.69  Playtime:  116.46   n_eps: 0.6369088258938781   n_experiences: 10481    \n",
            "Episode 100 Score: -275.97  Playtime:  118.12   n_eps: 0.6057704364907278   n_experiences: 11812    \n",
            "Episode 110 Score: -291.59  Playtime:  121.98   n_eps: 0.5761543988830038   n_experiences: 13153    \n",
            "Episode 120 Score: -310.13  Playtime:  126.92   n_eps: 0.547986285490042    n_experiences: 14672    \n",
            "Episode 130 Score: -320.79  Playtime:  128.20   n_eps: 0.5211953074858876   n_experiences: 15918    \n",
            "Episode 140 Score: -343.07  Playtime:  131.07   n_eps: 0.49571413690105054  n_experiences: 17324    \n",
            "Episode 150 Score: -369.19  Playtime:  135.16   n_eps: 0.47147873742168567  n_experiences: 18767    \n",
            "Episode 160 Score: -377.48  Playtime:  134.30   n_eps: 0.4484282034609769   n_experiences: 20013    \n",
            "Episode 170 Score: -398.14  Playtime:  137.79   n_eps: 0.42650460709830135  n_experiences: 21553    \n",
            "Episode 180 Score: -431.97  Playtime:  139.62   n_eps: 0.40565285250151817  n_experiences: 23097    \n",
            "Episode 190 Score: -451.56  Playtime:  138.87   n_eps: 0.3858205374665315   n_experiences: 24368    \n",
            "Episode 200 Score: -460.77  Playtime:  136.39   n_eps: 0.3669578217261671   n_experiences: 25451    \n",
            "Episode 210 Score: -475.05  Playtime:  134.97   n_eps: 0.34901730169741024  n_experiences: 26650    \n",
            "Episode 220 Score: -496.11  Playtime:  132.83   n_eps: 0.33195389135223546  n_experiences: 27955    \n",
            "Episode 230 Score: -521.16  Playtime:  134.90   n_eps: 0.3157247089126454   n_experiences: 29408    \n",
            "Episode 240 Score: -524.64  Playtime:  135.39   n_eps: 0.30028896908517405  n_experiences: 30863    \n",
            "Episode 250 Score: -530.87  Playtime:  134.16   n_eps: 0.285607880564032    n_experiences: 32183    \n",
            "Episode 260 Score: -552.55  Playtime:  135.27   n_eps: 0.27164454854530906  n_experiences: 33540    \n",
            "Episode 270 Score: -559.84  Playtime:  131.22   n_eps: 0.2583638820072446   n_experiences: 34675    \n",
            "Episode 280 Score: -547.27  Playtime:  128.87   n_eps: 0.2457325055235537   n_experiences: 35984    \n",
            "Episode 290 Score: -578.18  Playtime:  131.72   n_eps: 0.23371867538818816  n_experiences: 37540    \n",
            "Episode 300 Score: -592.47  Playtime:  132.75   n_eps: 0.22229219984074702  n_experiences: 38726    \n",
            "Episode 310 Score: -632.63  Playtime:  136.64   n_eps: 0.21142436319205632  n_experiences: 40314    \n",
            "Episode 320 Score: -616.55  Playtime:  133.50   n_eps: 0.2010878536592394   n_experiences: 41305    \n",
            "Episode 330 Score: -599.83  Playtime:  128.97   n_eps: 0.1912566947289212   n_experiences: 42305    \n",
            "Episode 340 Score: -613.43  Playtime:  126.90   n_eps: 0.18190617987607657  n_experiences: 43553    \n",
            "Episode 350 Score: -613.03  Playtime:  124.46   n_eps: 0.1730128104744653   n_experiences: 44629    \n",
            "Episode 360 Score: -652.51  Playtime:  127.37   n_eps: 0.16455423674261854  n_experiences: 46277    \n",
            "Episode 370 Score: -663.59  Playtime:  128.55   n_eps: 0.15650920157696743  n_experiences: 47530    \n",
            "Episode 380 Score: -701.79  Playtime:  129.69   n_eps: 0.14885748713096328  n_experiences: 48953    \n",
            "Episode 390 Score: -670.55  Playtime:  123.86   n_eps: 0.14157986400593744  n_experiences: 49926    \n",
            "Episode 400 Score: -663.04  Playtime:  119.17   n_eps: 0.1346580429260134   n_experiences: 50643    \n",
            "Episode 410 Score: -604.04  Playtime:  110.36   n_eps: 0.12807462877562611  n_experiences: 51350    \n",
            "Episode 420 Score: -571.99  Playtime:  107.68   n_eps: 0.12181307688414106  n_experiences: 52073    \n",
            "Episode 430 Score: -537.84  Playtime:  107.19   n_eps: 0.11585765144771248  n_experiences: 53024    \n",
            "Episode 440 Score: -478.01  Playtime:  118.34   n_eps: 0.11019338598389174  n_experiences: 55387    \n",
            "Episode 450 Score: -429.13  Playtime:  153.18   n_eps: 0.10480604571960442  n_experiences: 59947    \n",
            "Episode 460 Score: -332.37  Playtime:  177.25   n_eps: 0.0996820918179746   n_experiences: 64002    \n",
            "Episode 470 Score: -271.50  Playtime:  214.72   n_eps: 0.09480864735409487  n_experiences: 69002    \n",
            "Episode 480 Score: -188.63  Playtime:  248.63   n_eps: 0.09017346495423652  n_experiences: 73816    \n",
            "Episode 490 Score: -136.81  Playtime:  286.02   n_eps: 0.08576489601717459  n_experiences: 78528    \n",
            "Episode 500 Score: -86.78   Playtime:  325.18   n_eps: 0.08157186144027828  n_experiences: 83161    \n",
            "Episode 510 Score: -51.66   Playtime:  368.11   n_eps: 0.07758382377679894  n_experiences: 88161    \n",
            "Episode 520 Score: -34.57   Playtime:  410.88   n_eps: 0.07379076075438468  n_experiences: 93161    \n",
            "Episode 540 Score: -18.00   Playtime:  460.64   n_eps: 0.0667518955258533   n_experiences: 101451   \n",
            "Episode 550 Score: -9.18    Playtime:  465.04   n_eps: 0.06348840406243188  n_experiences: 106451   \n",
            "Episode 560 Score: -3.51    Playtime:  474.49   n_eps: 0.06038446427088321  n_experiences: 111451   \n",
            "Episode 570 Score:  7.43    Playtime:  472.65   n_eps: 0.05743227569078546  n_experiences: 116267   \n",
            "Episode 580 Score:  18.24   Playtime:  468.52   n_eps: 0.05462441922520914  n_experiences: 120668   \n",
            "Episode 590 Score:  25.54   Playtime:  470.99   n_eps: 0.05195383849590569  n_experiences: 125627   \n",
            "Episode 600 Score:  29.03   Playtime:  473.47   n_eps: 0.0494138221100385   n_experiences: 130508   \n",
            "Episode 610 Score:  32.39   Playtime:  462.86   n_eps: 0.046997986793891174 n_experiences: 134447   \n",
            "Episode 620 Score:  42.52   Playtime:  453.39   n_eps: 0.04470026135116646  n_experiences: 138500   \n",
            "Episode 630 Score:  61.03   Playtime:  456.46   n_eps: 0.04251487140556204  n_experiences: 143035   \n",
            "Episode 640 Score:  76.83   Playtime:  463.64   n_eps: 0.04043632488927963  n_experiences: 147815   \n",
            "Episode 650 Score:  84.03   Playtime:  463.55   n_eps: 0.03845939824099909  n_experiences: 152806   \n",
            "Episode 660 Score:  90.59   Playtime:  463.55   n_eps: 0.03657912327863173  n_experiences: 157806   \n",
            "Episode 670 Score:  101.13  Playtime:  461.77   n_eps: 0.03479077471386296  n_experiences: 162444   \n",
            "Episode 680 Score:  112.91  Playtime:  458.70   n_eps: 0.03308985827710748  n_experiences: 166538   \n",
            "Episode 690 Score:  124.81  Playtime:  448.38   n_eps: 0.03147209942303359  n_experiences: 170465   \n",
            "Episode 700 Score:  143.72  Playtime:  438.45   n_eps: 0.029933432588273214 n_experiences: 174353   \n",
            "Episode 710 Score:  161.21  Playtime:  437.05   n_eps: 0.028469990974320916 n_experiences: 178152   \n",
            "Episode 720 Score:  158.75  Playtime:  431.74   n_eps: 0.02707809682994571  n_experiences: 181674   \n",
            "Episode 730 Score:  163.18  Playtime:  425.20   n_eps: 0.025754252208694463 n_experiences: 185555   \n",
            "Episode 740 Score:  157.19  Playtime:  417.32   n_eps: 0.02449513017825978  n_experiences: 189547   \n",
            "Episode 750 Score:  156.28  Playtime:  410.95   n_eps: 0.023297566459620722 n_experiences: 193901   \n",
            "Episode 760 Score:  164.83  Playtime:  401.77   n_eps: 0.022158551474944856 n_experiences: 197983   \n",
            "Episode 770 Score:  160.70  Playtime:  398.39   n_eps: 0.021075222784267326 n_experiences: 202283   \n",
            "Episode 780 Score:  167.15  Playtime:  396.46   n_eps: 0.020044857891939702 n_experiences: 206184   \n",
            "Episode 790 Score:  175.98  Playtime:  390.68   n_eps: 0.019064867404770626 n_experiences: 209533   \n",
            "Episode 800 Score:  174.24  Playtime:  380.50   n_eps: 0.018132788524664028 n_experiences: 212403   \n",
            "Episode 810 Score:  164.69  Playtime:  377.37   n_eps: 0.01724627885940145  n_experiences: 215889   \n",
            "Episode 820 Score:  167.00  Playtime:  379.68   n_eps: 0.0164031105360144   n_experiences: 219642   \n",
            "Episode 830 Score:  170.16  Playtime:  373.30   n_eps: 0.015601164601953134 n_experiences: 222885   \n",
            "Episode 840 Score:  184.09  Playtime:  370.96   n_eps: 0.014838425699981627 n_experiences: 226643   \n",
            "Episode 850 Score:  195.88  Playtime:  363.03   n_eps: 0.014112977003416188 n_experiences: 230204   "
          ]
        }
      ],
      "source": [
        "env = gym.make('LunarLander-v2',render_mode='rgb_array')\n",
        "agent = Agent(env)\n",
        "agent.eps = 1.0 \n",
        "for _ in range(2000):\n",
        "    ### 1. 본질적인 코드\n",
        "    agent.current_state, _  = env.reset() \n",
        "    agent.terminated = False\n",
        "    agent.score = 0 \n",
        "    for t in range(500):\n",
        "        # step1: agent >> env \n",
        "        agent.act() \n",
        "        env.agent_action = agent.action  \n",
        "        # step2: agent << env \n",
        "        agent.next_state, agent.reward, agent.terminated, _,_ = env.step(env.agent_action)\n",
        "        agent.save_experience() \n",
        "        # step3: learn \n",
        "        agent.learn()\n",
        "        # step4: state update \n",
        "        agent.current_state = agent.next_state \n",
        "        # step5: \n",
        "        if agent.terminated: break \n",
        "    agent.scores.append(agent.score) \n",
        "    agent.playtimes.append(t+1)\n",
        "    agent.n_episode = agent.n_episode + 1 \n",
        "    agent.eps = agent.eps*0.995\n",
        "    ## 2. 비본질적 코드\n",
        "    if (agent.n_episode % 10) == 0:\n",
        "        print(\n",
        "            f'Episode {agent.n_episode}\\t'\n",
        "            f'Score: {np.mean(agent.scores[-100:]) : .2f}\\t'\n",
        "            f'Playtime: {np.mean(agent.playtimes[-100:]) : .2f}\\t'\n",
        "            f'n_eps: {agent.eps}\\t'\n",
        "            f'n_experiences: {agent.n_experiences}\\t'\n",
        "        )\n",
        "    if np.mean(agent.scores[-100:])>=200.0:\n",
        "        break"
      ],
      "id": "905a8edd-83a1-42a1-82f5-57c0eccd65ac"
    },
    {
      "cell_type": "markdown",
      "metadata": {},
      "source": [
        "`-` 시각화를 위한코드"
      ],
      "id": "e8d1e70f-839a-4994-b218-e3e673a288c4"
    },
    {
      "cell_type": "code",
      "execution_count": 50,
      "metadata": {
        "tags": []
      },
      "outputs": [],
      "source": [
        "agent2 = Agent(env) \n",
        "agent2.q_net = agent.q_net\n",
        "\n",
        "agent2.current_state, _ = env.reset()\n",
        "agent2.terminated = False \n",
        "ims = [] \n",
        "ims.append(env.render())\n",
        "for t in range(500):\n",
        "    agent2.act() \n",
        "    agent2.next_state, agent2.reward, agent2.terminated, _, _  = env.step(agent2.action)\n",
        "    im = env.render()\n",
        "    ims.append(im)\n",
        "    agent2.current_state = agent2.next_state\n",
        "    if agent2.terminated: break "
      ],
      "id": "677d6f52-8974-4944-ba70-83bc2ac61c8b"
    },
    {
      "cell_type": "code",
      "execution_count": 51,
      "metadata": {
        "tags": []
      },
      "outputs": [],
      "source": [
        "show(ims)"
      ],
      "id": "abc7a614-ac41-4970-9587-9829cb4bc5ca"
    }
  ],
  "nbformat": 4,
  "nbformat_minor": 5,
  "metadata": {
    "kernelspec": {
      "name": "python3",
      "display_name": "Python 3 (ipykernel)",
      "language": "python"
    },
    "language_info": {
      "name": "python",
      "codemirror_mode": {
        "name": "ipython",
        "version": "3"
      },
      "file_extension": ".py",
      "mimetype": "text/x-python",
      "nbconvert_exporter": "python",
      "pygments_lexer": "ipython3",
      "version": "3.11.8"
    }
  }
}