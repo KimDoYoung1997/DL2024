{
  "cells": [
    {
      "cell_type": "markdown",
      "metadata": {},
      "source": [
        "# 15wk-1: 강화학습 (4) – LunarLander\n",
        "\n",
        "최규빈  \n",
        "2024-06-10\n",
        "\n",
        "<a href=\"https://colab.research.google.com/github/guebin/DL2024/blob/main/posts/15wk-1.ipynb\"><img src=\"https://colab.research.google.com/assets/colab-badge.svg\" style=\"text-align: left\"></a>\n",
        "\n",
        "# 1. 강의영상"
      ],
      "id": "e20f5260-d4e9-4cc8-9b22-389a2859af87"
    },
    {
      "cell_type": "code",
      "execution_count": 2,
      "metadata": {
        "tags": []
      },
      "outputs": [],
      "source": [
        "# {{<video https://youtu.be/playlist?list=PLQqh36zP38-zBEizLbjgRE8qMfsJML6Ua&si=HALKE6fjiWB12AGW >}}"
      ],
      "id": "ad94a242-b1be-4b50-9a1b-73a54bc89579"
    },
    {
      "cell_type": "markdown",
      "metadata": {},
      "source": [
        "# 2. Imports"
      ],
      "id": "9ee497a1-cf12-4a15-866d-e7d2ddbe219f"
    },
    {
      "cell_type": "code",
      "execution_count": 111,
      "metadata": {
        "tags": []
      },
      "outputs": [],
      "source": [
        "import gymnasium as gym\n",
        "import numpy as np\n",
        "import matplotlib.pyplot as plt\n",
        "from matplotlib.animation import FuncAnimation\n",
        "import torch\n",
        "import collections\n",
        "import IPython"
      ],
      "id": "55dc4e55-4d07-4c2f-a0f6-4cc338132568"
    },
    {
      "cell_type": "markdown",
      "metadata": {},
      "source": [
        "# 3. 예비학습\n",
        "\n",
        "`-` `collections.deque` 의 기능"
      ],
      "id": "611ab5a0-e997-420d-9fa0-30270084ff11"
    },
    {
      "cell_type": "code",
      "execution_count": 4,
      "metadata": {
        "tags": []
      },
      "outputs": [],
      "source": [
        "a = collections.deque([1,2,3], maxlen = 5 )\n",
        "a"
      ],
      "id": "b817509f-fa54-4f2f-9eac-8ce3a07b986a"
    },
    {
      "cell_type": "code",
      "execution_count": 5,
      "metadata": {
        "tags": []
      },
      "outputs": [],
      "source": [
        "a.append(4)\n",
        "a"
      ],
      "id": "eafca7dd-61d8-4cea-9a18-8b0e8922ae12"
    },
    {
      "cell_type": "code",
      "execution_count": 6,
      "metadata": {
        "tags": []
      },
      "outputs": [],
      "source": [
        "a.append(5)\n",
        "a"
      ],
      "id": "c5629ebe-98b5-4238-a1b1-4ac124fb6cc8"
    },
    {
      "cell_type": "code",
      "execution_count": 7,
      "metadata": {
        "tags": []
      },
      "outputs": [],
      "source": [
        "a.append(6)\n",
        "a"
      ],
      "id": "fb58a6c8-fa5f-473b-84d2-bd41ccc1ad7f"
    },
    {
      "cell_type": "markdown",
      "metadata": {},
      "source": [
        "`-` 단점? numpy array 보다는 list 느낌임 (연산에 특화된건 아님)"
      ],
      "id": "324a3c96-a1e1-47e6-8be0-e2e2e238abb1"
    },
    {
      "cell_type": "code",
      "execution_count": 8,
      "metadata": {
        "tags": []
      },
      "outputs": [],
      "source": [
        "a + 1"
      ],
      "id": "6a05d02b-296f-4819-aa94-1e3c9414e874"
    },
    {
      "cell_type": "markdown",
      "metadata": {},
      "source": [
        "`-` 그렇지만 필요하다면 np.array 화 시킬 수 있음."
      ],
      "id": "a8a61f3d-38a3-4b01-841f-39f97dc18947"
    },
    {
      "cell_type": "code",
      "execution_count": 9,
      "metadata": {
        "tags": []
      },
      "outputs": [],
      "source": [
        "np.array(a) + 1"
      ],
      "id": "79e7311b-fd49-4693-bc7b-0c903120dda8"
    },
    {
      "cell_type": "markdown",
      "metadata": {},
      "source": [
        "`-` collection.deque 는 리플레이 버퍼를 구현할때 유용한 자료구조이다.\n",
        "\n",
        "-   (우리가 했던) 기존방식: 모든 데이터를 저장하며 하나의 경험씩 학습함\n",
        "-   리플레이버퍼: 최근 $N$개의 데이터를 저장하여 여러경험을 샘플링하여\n",
        "    학습하는 방식\n",
        "-   리플레이버퍼의 장점: 메모리를 아낄 수 있다, 다양한 종류의 경험을\n",
        "    저장하고 무작위로 재사용하여 학습이 안정적으로 된다, “저장 -\\> 학습\n",
        "    -\\> 저장” 순으로 반드시 실시간으로 학습할 필요가 없어서 병렬처리에\n",
        "    용이하다, 강화학습에서 연속된 경험은 상관관계가 있을 수 있는데\n",
        "    무작위 샘플로 이러한 상관관계를 제거할 수 있음\n",
        "\n",
        "# 4. LunarLander\n",
        "\n",
        "`-` 환경생성"
      ],
      "id": "94b45b8b-d85c-41b6-9a0b-93bcb0d5ff42"
    },
    {
      "cell_type": "code",
      "execution_count": 123,
      "metadata": {
        "tags": []
      },
      "outputs": [],
      "source": [
        "env = gym.make(\n",
        "    \"LunarLander-v2\",\n",
        "    continuous = False,\n",
        "    gravity = -5.0,\n",
        "    enable_wind = True,\n",
        "    wind_power = 15.0,\n",
        "    turbulence_power = 1.5,\n",
        "    render_mode = 'rgb_array',\n",
        ") \n",
        "env "
      ],
      "id": "a8852355-cd61-4a72-a5ee-c580e9a19b1d"
    },
    {
      "cell_type": "markdown",
      "metadata": {},
      "source": [
        "`-` state_space"
      ],
      "id": "1e624b32-2cb9-48e8-bc1b-da5ee14d771e"
    },
    {
      "cell_type": "code",
      "execution_count": 124,
      "metadata": {
        "tags": []
      },
      "outputs": [],
      "source": [
        "env.observation_space"
      ],
      "id": "171be784-03be-43d5-be68-75cc290bbc0a"
    },
    {
      "cell_type": "markdown",
      "metadata": {},
      "source": [
        "`-` action_space"
      ],
      "id": "35b78b44-ef35-4979-904f-fcde10d931a5"
    },
    {
      "cell_type": "code",
      "execution_count": 125,
      "metadata": {
        "tags": []
      },
      "outputs": [],
      "source": [
        "env.action_space"
      ],
      "id": "bd779444-a5ea-43f2-a4fd-bfe9cecc276a"
    },
    {
      "cell_type": "markdown",
      "metadata": {},
      "source": [
        "`-` env.reset()"
      ],
      "id": "1e6ed69c-f609-4786-b2e4-a0c132940879"
    },
    {
      "cell_type": "code",
      "execution_count": 126,
      "metadata": {
        "tags": []
      },
      "outputs": [],
      "source": [
        "state, _ = env.reset()\n",
        "state "
      ],
      "id": "8af1fd90-6677-4a6c-96cd-2f01297a2fb4"
    },
    {
      "cell_type": "markdown",
      "metadata": {},
      "source": [
        "`-` env.render()"
      ],
      "id": "52b96d8f-07e0-4608-a2df-c409a032e656"
    },
    {
      "cell_type": "code",
      "execution_count": 127,
      "metadata": {
        "tags": []
      },
      "outputs": [
        {
          "output_type": "display_data",
          "metadata": {},
          "data": {
            "image/png": "[encoded data removed]"
          }
        }
      ],
      "source": [
        "plt.imshow(env.render())"
      ],
      "id": "24c9b860-ba38-40d8-bfac-4cd67c3e4b4b"
    },
    {
      "cell_type": "markdown",
      "metadata": {},
      "source": [
        "`-` env.step"
      ],
      "id": "bf8451ac-1c9c-4423-aa8c-e38a7236a359"
    },
    {
      "cell_type": "code",
      "execution_count": 128,
      "metadata": {
        "tags": []
      },
      "outputs": [],
      "source": [
        "env.step??"
      ],
      "id": "978c4782-f58e-4e7e-bc7a-3bdf9b23af1a"
    },
    {
      "cell_type": "markdown",
      "metadata": {},
      "source": [
        "-   리턴되는 값은 (다음상태, 보상, 종료여부, 중단여부, 추가정보) 임.."
      ],
      "id": "a060ffe5-96e4-4112-9c28-a960aa876ff4"
    },
    {
      "cell_type": "code",
      "execution_count": 129,
      "metadata": {
        "tags": []
      },
      "outputs": [],
      "source": [
        "next_state, reward, terminated, _, _ = env.step(0)\n",
        "next_state, reward, terminated"
      ],
      "id": "e9a028ff-26fd-43e1-b5de-861e4b73cd7b"
    },
    {
      "cell_type": "markdown",
      "metadata": {},
      "source": [
        "`-` play"
      ],
      "id": "e81a8ad2-c1df-497c-9356-4851cd672b6c"
    },
    {
      "cell_type": "code",
      "execution_count": 132,
      "metadata": {
        "tags": []
      },
      "outputs": [
        {
          "output_type": "display_data",
          "metadata": {},
          "data": {
            "image/png": "[encoded data removed]"
          }
        }
      ],
      "source": [
        "env.reset()\n",
        "plt.imshow(env.render())"
      ],
      "id": "9d4b150c-714e-4cd9-98f6-93ffc6650c51"
    },
    {
      "cell_type": "code",
      "execution_count": 136,
      "metadata": {
        "tags": []
      },
      "outputs": [
        {
          "output_type": "display_data",
          "metadata": {},
          "data": {
            "image/png": "[encoded data removed]"
          }
        }
      ],
      "source": [
        "for _ in range(7):\n",
        "    env.step(2)\n",
        "    env.step(0)\n",
        "plt.imshow(env.render())"
      ],
      "id": "752bb619-6f28-4a73-9eca-ab52210f062c"
    },
    {
      "cell_type": "markdown",
      "metadata": {},
      "source": [
        "-   0 : 아무행동도 하지 않음\n",
        "-   1 : 왼쪽\n",
        "-   2 : 위\n",
        "-   3 : 오른쪽\n",
        "\n",
        "# 5. 시각화"
      ],
      "id": "dac49308-2b33-49f5-9466-9c166956a2a8"
    },
    {
      "cell_type": "code",
      "execution_count": 137,
      "metadata": {
        "tags": []
      },
      "outputs": [],
      "source": [
        "current_state, _ = env.reset()\n",
        "ims = [] \n",
        "for t in range(500): \n",
        "    action = env.action_space.sample()\n",
        "    next_state, reward, terminated, _, _ = env.step(action)\n",
        "    im = env.render()\n",
        "    ims.append(im) \n",
        "    current_state = next_state \n",
        "    if terminated: break "
      ],
      "id": "964665a7-8cae-4a96-96bc-6667576c8f85"
    },
    {
      "cell_type": "code",
      "execution_count": 138,
      "metadata": {
        "tags": []
      },
      "outputs": [],
      "source": [
        "show(ims) "
      ],
      "id": "245e132a-a1eb-4a88-85e5-392574fb69cc"
    },
    {
      "cell_type": "markdown",
      "metadata": {},
      "source": [
        "자세한 설명은 짐네이지엄 Lunar Lander를 참고할 것\n",
        "\n",
        "<https://gymnasium.farama.org/environments/box2d/lunar_lander/>\n",
        "\n",
        "# 6. `q_net`\n",
        "\n",
        "`-` 원래는 `agent.q` 에 해당하는 것인데, 이전에서는 `agent.q`를 (4,4,4)\n",
        "shape의 numpy array 를 사용했는데 여기서는 불가능\n",
        "\n",
        "-   4x4 grid: 상태공간의 차원은 2차원이며 가질수 있는 값은 16개, 각\n",
        "    상태공간에서 할수 있는 행동이 4개 -\\> 총 16\\*4의 경우의 수에 대한\n",
        "    reward만 조사하면 되었음\n",
        "-   LunarLander: 상태공간의 차원은 8차원이지만 가질수 있는 값의 범위는\n",
        "    무한대 -\\> 무수히 많은 경우에 대한 reward 값을 조사하는건 현실적으로\n",
        "    불가능\n",
        "\n",
        "`-` 데이터를 모아보자."
      ],
      "id": "6d15f565-e53b-48b0-b342-0e7b5495479e"
    },
    {
      "cell_type": "code",
      "execution_count": 139,
      "metadata": {
        "tags": []
      },
      "outputs": [],
      "source": [
        "current_states = collections.deque(maxlen=50) \n",
        "actions = collections.deque(maxlen=50) \n",
        "next_states = collections.deque(maxlen=50) \n",
        "rewards = collections.deque(maxlen=50) \n",
        "terminations = collections.deque(maxlen=50) \n",
        "\n",
        "current_state, _ = env.reset()\n",
        "for t in range(500): \n",
        "    ## step1: agent >> env \n",
        "    action = env.action_space.sample()\n",
        "    ## step2:agent << env \n",
        "    next_state, reward, terminated, _, _ = env.step(action)\n",
        "    current_states.append(current_state)\n",
        "    actions.append(action)\n",
        "    next_states.append(next_state)\n",
        "    rewards.append(reward)\n",
        "    terminations.append(terminated) \n",
        "    ## step3: learn \n",
        "    ## step4: update state     \n",
        "    current_state = next_state \n",
        "    ## step5: 종료조건체크 \n",
        "    if terminated: break "
      ],
      "id": "b22fb206-6853-469b-9a0b-24dfa409c7de"
    },
    {
      "cell_type": "markdown",
      "metadata": {},
      "source": [
        "`-` 이전코드에서 아래에 대응하는 부분을 구현하면 된다.\n",
        "\n",
        "``` python\n",
        "## 1. q[x,y,a]를 초기화: q(s)를 넣으면 action에 대한 q값을 알려주는 기능 \n",
        "agent.q = np.zeros([4,4,4]) \n",
        "\n",
        "## 2. q_estimated 를 계산 \n",
        "x,y = agent.current_state\n",
        "xx,yy = agent.next_state\n",
        "a = agent.action \n",
        "q_estimated = agent.q[x,y,a] \n",
        "\n",
        "## 3. q_realistic = agent.reward + 0.99 * q_future 를 수행하는 과정 \n",
        "if agent.terminated:\n",
        "    q_realistic = agent.reward\n",
        "else:\n",
        "    q_future = q[xx,yy,:].max()\n",
        "    q_realistic = agent.reward + 0.99 * q_future\n",
        "\n",
        "## 4. q_estimated 를 점점 q_realistic 와 비슷하게 만드는 과정 \n",
        "diff = q_realistic - q_estimated \n",
        "agent.q[x,y,a] = q_estimated + 0.05 * diff \n",
        "```\n",
        "\n",
        "`1`. agent.q 에 대응하는 과정"
      ],
      "id": "337caff6-9d30-4003-a581-2bed8826fc56"
    },
    {
      "cell_type": "code",
      "execution_count": 140,
      "metadata": {
        "tags": []
      },
      "outputs": [],
      "source": [
        "q_net = torch.nn.Sequential(\n",
        "    torch.nn.Linear(8,128),\n",
        "    torch.nn.ReLU(),\n",
        "    torch.nn.Linear(128,64),\n",
        "    torch.nn.ReLU(),\n",
        "    torch.nn.Linear(64,32),\n",
        "    torch.nn.ReLU(),\n",
        "    torch.nn.Linear(32,4)\n",
        ")"
      ],
      "id": "9d21f88b-bf06-4f1c-9f94-723163310d8c"
    },
    {
      "cell_type": "code",
      "execution_count": 141,
      "metadata": {
        "tags": []
      },
      "outputs": [],
      "source": [
        "q_net # <- 8개의 숫자가 입력으로 오면 4개의 숫자를 리턴하는 함수 "
      ],
      "id": "b85c25c3-03f6-4fca-8592-663b07acc658"
    },
    {
      "cell_type": "code",
      "execution_count": 142,
      "metadata": {
        "tags": []
      },
      "outputs": [],
      "source": [
        "q_net(torch.tensor(current_state))"
      ],
      "id": "6fef26bf-9bbd-408d-b90c-d36853670e24"
    },
    {
      "cell_type": "markdown",
      "metadata": {},
      "source": [
        "-   q_net은 8개의 숫자가 입력으로 오면 4개의 숫자가 리턴되는 함수이다.\n",
        "-   해석을 하면 8개의 숫자는 state를 나타내는 숫자로 이해할 수 있고\n",
        "    4개의 숫자는 각 action에 대한 q값으로 해석할 수 있다.\n",
        "-   하지만 이 숫자가 합리적인건 아님 (아무숫자임)\n",
        "-   q_net의 특징: 고정된 함수가 아니고 데이터를 이용하여 점점 더\n",
        "    그럴듯한 숫자를 뱉어내도록 학습할 수 있는 함수이다. (뉴럴네트워크)\n",
        "\n",
        "`1`. agent.q 에 대응하는 과정 (배치버전)\n",
        "\n",
        "– get batch –"
      ],
      "id": "b9ff0709-225a-41ba-a8f5-2b9a355f1d68"
    },
    {
      "cell_type": "code",
      "execution_count": 143,
      "metadata": {
        "tags": []
      },
      "outputs": [],
      "source": [
        "batch_size = 4 \n",
        "idx = np.random.randint(0,50,size=batch_size)\n",
        "\n",
        "current_states_batch = torch.tensor(np.array(current_states))[idx].float()\n",
        "actions_batch = torch.tensor(np.array(actions))[idx].reshape(batch_size,-1) \n",
        "rewards_batch = torch.tensor(np.array(rewards))[idx].reshape(batch_size,-1).float()\n",
        "next_states_batch = torch.tensor(np.array(next_states))[idx].float()\n",
        "terminations_batch = torch.tensor(np.array(terminations))[idx].reshape(batch_size,-1)"
      ],
      "id": "3256e133-0895-4f99-af18-8ee2895f8061"
    },
    {
      "cell_type": "markdown",
      "metadata": {},
      "source": [
        "– q_net –"
      ],
      "id": "03e0d05a-dc70-4cd7-9ba2-1ac8bb8a7526"
    },
    {
      "cell_type": "code",
      "execution_count": 144,
      "metadata": {
        "tags": []
      },
      "outputs": [],
      "source": [
        "current_states_batch"
      ],
      "id": "f2b18597-8b96-4e0b-8100-d71cbd450683"
    },
    {
      "cell_type": "code",
      "execution_count": 145,
      "metadata": {
        "tags": []
      },
      "outputs": [],
      "source": [
        "q_net(current_states_batch)"
      ],
      "id": "21c4efe5-5c4c-4a91-bdf2-221f09bcab96"
    },
    {
      "cell_type": "markdown",
      "metadata": {},
      "source": [
        "`2`. q_estimated"
      ],
      "id": "80ee7d15-cf61-41d9-8511-a1a01251b524"
    },
    {
      "cell_type": "code",
      "execution_count": 146,
      "metadata": {
        "tags": []
      },
      "outputs": [],
      "source": [
        "q_net(current_states_batch), actions_batch"
      ],
      "id": "546fa364-c191-4c62-b9de-2658b0e43c37"
    },
    {
      "cell_type": "code",
      "execution_count": 147,
      "metadata": {
        "tags": []
      },
      "outputs": [],
      "source": [
        "q_net(current_states_batch).gather(1,actions_batch)"
      ],
      "id": "8c1c4b17-4223-4263-b4d5-00b56a2bcabb"
    },
    {
      "cell_type": "markdown",
      "metadata": {},
      "source": [
        "`3`. q_realistic = agent.reward + 0.99 \\* q_future\n",
        "\n",
        "– q_future –"
      ],
      "id": "56c8182b-e267-416d-8d69-ef6fbad211f9"
    },
    {
      "cell_type": "code",
      "execution_count": 148,
      "metadata": {
        "tags": []
      },
      "outputs": [],
      "source": [
        "q_future = q_net(next_states_batch).max(axis=1)[0].reshape(batch_size,1)\n",
        "q_future"
      ],
      "id": "9dfb27a0-a220-407a-a435-e9fc0300acf2"
    },
    {
      "cell_type": "code",
      "execution_count": 149,
      "metadata": {
        "tags": []
      },
      "outputs": [],
      "source": [
        "q_realistic = rewards_batch + 0.99 * q_future * (~terminations_batch)"
      ],
      "id": "3e9dc45f-b7e0-4193-a863-0fdea329a9f7"
    },
    {
      "cell_type": "markdown",
      "metadata": {},
      "source": [
        "`4`. q_estimated 를 점점 q_realistic 와 비슷하게 만드는 과정\n",
        "\n",
        "``` python\n",
        "## 여기는.. 딥러닝과 파이토치를 좀 알아야.. 모른다면 일단 패스해야합니다.. \n",
        "optimizer = torch.optim.Adam(q_net.parameters(),lr=0.0001) \n",
        "for _ in range(2000):\n",
        "    ~~~\n",
        "    ~~~\n",
        "    q_estimated = ~~~ \n",
        "    q_realistic = ~~~ \n",
        "    loss = torch.nn.functional.mse_loss(q_estimated,q_realistic)\n",
        "    loss.backward()\n",
        "    optimizer.step()\n",
        "    optimizer.zero_grad()\n",
        "```\n",
        "\n",
        "# 7. Policy"
      ],
      "id": "6a8626c7-d8ba-4bf2-a980-1196be94bb23"
    },
    {
      "cell_type": "code",
      "execution_count": 150,
      "metadata": {
        "tags": []
      },
      "outputs": [],
      "source": [
        "eps = 0.5 \n",
        "if np.random.rand() < eps:\n",
        "    action = env.action_space.sample() \n",
        "else:\n",
        "    action = q_net(torch.tensor(current_state)).argmax().item()"
      ],
      "id": "f5af2ff0-e5da-4f24-ae7c-f5ad73097cb2"
    },
    {
      "cell_type": "code",
      "execution_count": 151,
      "metadata": {
        "tags": []
      },
      "outputs": [],
      "source": [
        "action"
      ],
      "id": "ac1140cb-bcf7-4ce9-9576-7f907dd34bdb"
    },
    {
      "cell_type": "markdown",
      "metadata": {},
      "source": [
        "# 8. Agent 클래스 + run"
      ],
      "id": "32e2a174-1fdd-420f-95b6-0791919ce5de"
    },
    {
      "cell_type": "code",
      "execution_count": 152,
      "metadata": {
        "tags": []
      },
      "outputs": [],
      "source": [
        "class Agent():\n",
        "    def __init__(self,env):\n",
        "        self.eps = 0\n",
        "        self.n_experiences = 0\n",
        "        self.n_episode = 0\n",
        "        self.score = 0\n",
        "        self.scores = []\n",
        "        self.playtimes = []\n",
        "        self.batch_size = 128\n",
        "        self.buffer_size = 50000\n",
        "        self.action_space = env.action_space\n",
        "        #self.state_space = env.observation_space\n",
        "\n",
        "        # Q-Network\n",
        "        self.q_net = torch.nn.Sequential(\n",
        "            torch.nn.Linear(8,128), \n",
        "            torch.nn.ReLU(),\n",
        "            torch.nn.Linear(128,64),\n",
        "            torch.nn.ReLU(),\n",
        "            torch.nn.Linear(64,32),\n",
        "            torch.nn.ReLU(),\n",
        "            torch.nn.Linear(32,4)\n",
        "        )\n",
        "        self.optimizer = torch.optim.Adam(self.q_net.parameters(), lr=0.0001)\n",
        "\n",
        "        # ReplayBuffer\n",
        "        self.current_states = collections.deque(maxlen=self.buffer_size)\n",
        "        self.actions = collections.deque(maxlen=self.buffer_size)\n",
        "        self.rewards = collections.deque(maxlen=self.buffer_size)\n",
        "        self.next_states = collections.deque(maxlen=self.buffer_size)\n",
        "        self.terminations = collections.deque(maxlen=self.buffer_size)\n",
        "       \n",
        "    def save_experience(self):\n",
        "        \"\"\"Add a new experience to memory.\"\"\"\n",
        "        self.current_states.append(self.current_state)\n",
        "        self.actions.append(self.action)\n",
        "        self.rewards.append(self.reward)\n",
        "        self.next_states.append(self.next_state)\n",
        "        self.terminations.append(self.terminated) \n",
        "        self.n_experiences = self.n_experiences+1\n",
        "        self.score += self.reward\n",
        "    \n",
        "    def act(self):\n",
        "        if np.random.rand() < self.eps:\n",
        "            self.action = self.action_space.sample()\n",
        "        else:\n",
        "            self.action = self.q_net(torch.tensor(self.current_state)).argmax().item()\n",
        "            \n",
        "    def get_batch(self):\n",
        "        idx = np.random.randint(0,self.buffer_size,size=self.batch_size) \n",
        "        self.current_states_batch = torch.tensor(np.array(self.current_states))[idx].float()\n",
        "        self.actions_batch = torch.tensor(np.array(self.actions))[idx].reshape(self.batch_size,1)\n",
        "        self.rewards_batch = torch.tensor(np.array(self.rewards))[idx].reshape(self.batch_size,-1).float()\n",
        "        self.next_states_batch = torch.tensor(np.array(self.next_states))[idx].float()\n",
        "        self.terminations_batch = torch.tensor(np.array(self.terminations))[idx].reshape(self.batch_size,-1) \n",
        "    \n",
        "    def learn(self):\n",
        "        if self.n_experiences < self.buffer_size:\n",
        "            pass\n",
        "        else: \n",
        "            self.get_batch()\n",
        "            q_estimated = self.q_net(self.current_states_batch).gather(1, self.actions_batch)\n",
        "            q_future = self.q_net(self.next_states_batch).detach().max(1)[0].reshape(self.batch_size,1)\n",
        "            q_realistic = self.rewards_batch + 0.99 * q_future * (~self.terminations_batch)\n",
        "\n",
        "            loss = torch.nn.functional.mse_loss(q_estimated, q_realistic)\n",
        "            loss.backward()\n",
        "            self.optimizer.step()\n",
        "            self.optimizer.zero_grad()"
      ],
      "id": "b1ab0b02-ff97-4bd0-8597-ccab8e93d482"
    },
    {
      "cell_type": "code",
      "execution_count": 153,
      "metadata": {
        "tags": []
      },
      "outputs": [
        {
          "output_type": "stream",
          "name": "stdout",
          "text": [
            "Episode 10  Score: -162.67  Playtime:  89.70    n_eps: 0.9511101304657719   n_experiences: 897  \n",
            "Episode 20  Score: -135.17  Playtime:  85.15    n_eps: 0.9046104802746175   n_experiences: 1703 \n",
            "Episode 30  Score: -140.50  Playtime:  87.90    n_eps: 0.8603841919146962   n_experiences: 2637 \n",
            "Episode 40  Score: -151.78  Playtime:  88.88    n_eps: 0.8183201210226743   n_experiences: 3555 \n",
            "Episode 50  Score: -151.92  Playtime:  90.48    n_eps: 0.778312557068642    n_experiences: 4524 \n",
            "Episode 60  Score: -156.58  Playtime:  88.98    n_eps: 0.7402609576967045   n_experiences: 5339 \n",
            "Episode 70  Score: -153.17  Playtime:  88.83    n_eps: 0.7040696960536299   n_experiences: 6218 \n",
            "Episode 80  Score: -161.02  Playtime:  88.76    n_eps: 0.6696478204705644   n_experiences: 7101 \n",
            "Episode 90  Score: -156.36  Playtime:  88.43    n_eps: 0.6369088258938781   n_experiences: 7959 \n",
            "Episode 100 Score: -153.28  Playtime:  87.49    n_eps: 0.6057704364907278   n_experiences: 8749 \n",
            "Episode 110 Score: -155.00  Playtime:  87.07    n_eps: 0.5761543988830038   n_experiences: 9604 \n",
            "Episode 120 Score: -157.77  Playtime:  86.76    n_eps: 0.547986285490042    n_experiences: 10379    \n",
            "Episode 130 Score: -156.32  Playtime:  85.09    n_eps: 0.5211953074858876   n_experiences: 11146    \n",
            "Episode 140 Score: -153.17  Playtime:  83.77    n_eps: 0.49571413690105054  n_experiences: 11932    \n",
            "Episode 150 Score: -152.72  Playtime:  81.58    n_eps: 0.47147873742168567  n_experiences: 12682    \n",
            "Episode 160 Score: -146.07  Playtime:  81.98    n_eps: 0.4484282034609769   n_experiences: 13537    \n",
            "Episode 170 Score: -145.26  Playtime:  81.04    n_eps: 0.42650460709830135  n_experiences: 14322    \n",
            "Episode 180 Score: -137.16  Playtime:  80.35    n_eps: 0.40565285250151817  n_experiences: 15136    \n",
            "Episode 190 Score: -137.85  Playtime:  79.93    n_eps: 0.3858205374665315   n_experiences: 15952    \n",
            "Episode 200 Score: -139.69  Playtime:  80.12    n_eps: 0.3669578217261671   n_experiences: 16761    \n",
            "Episode 210 Score: -136.24  Playtime:  79.03    n_eps: 0.34901730169741024  n_experiences: 17507    \n",
            "Episode 220 Score: -140.42  Playtime:  79.76    n_eps: 0.33195389135223546  n_experiences: 18355    \n",
            "Episode 230 Score: -139.87  Playtime:  79.09    n_eps: 0.3157247089126454   n_experiences: 19055    \n",
            "Episode 240 Score: -136.00  Playtime:  78.59    n_eps: 0.30028896908517405  n_experiences: 19791    \n",
            "Episode 250 Score: -134.72  Playtime:  78.56    n_eps: 0.285607880564032    n_experiences: 20538    \n",
            "Episode 260 Score: -135.61  Playtime:  77.06    n_eps: 0.27164454854530906  n_experiences: 21243    \n",
            "Episode 270 Score: -137.69  Playtime:  76.87    n_eps: 0.2583638820072446   n_experiences: 22009    \n",
            "Episode 280 Score: -138.04  Playtime:  76.68    n_eps: 0.2457325055235537   n_experiences: 22804    \n",
            "Episode 290 Score: -139.84  Playtime:  75.71    n_eps: 0.23371867538818816  n_experiences: 23523    \n",
            "Episode 300 Score: -138.87  Playtime:  74.42    n_eps: 0.22229219984074702  n_experiences: 24203    \n",
            "Episode 310 Score: -140.00  Playtime:  74.33    n_eps: 0.21142436319205632  n_experiences: 24940    \n",
            "Episode 320 Score: -135.27  Playtime:  73.88    n_eps: 0.2010878536592394   n_experiences: 25743    \n",
            "Episode 330 Score: -132.81  Playtime:  74.09    n_eps: 0.1912566947289212   n_experiences: 26464    \n",
            "Episode 340 Score: -136.56  Playtime:  74.16    n_eps: 0.18190617987607657  n_experiences: 27207    \n",
            "Episode 350 Score: -135.69  Playtime:  74.26    n_eps: 0.1730128104744653   n_experiences: 27964    \n",
            "Episode 360 Score: -138.37  Playtime:  74.55    n_eps: 0.16455423674261854  n_experiences: 28698    \n",
            "Episode 370 Score: -135.19  Playtime:  73.55    n_eps: 0.15650920157696743  n_experiences: 29364    \n",
            "Episode 380 Score: -136.44  Playtime:  72.76    n_eps: 0.14885748713096328  n_experiences: 30080    \n",
            "Episode 390 Score: -134.47  Playtime:  72.29    n_eps: 0.14157986400593744  n_experiences: 30752    \n",
            "Episode 400 Score: -129.75  Playtime:  72.50    n_eps: 0.1346580429260134   n_experiences: 31453    \n",
            "Episode 410 Score: -129.06  Playtime:  72.58    n_eps: 0.12807462877562611  n_experiences: 32198    \n",
            "Episode 420 Score: -129.69  Playtime:  71.47    n_eps: 0.12181307688414106  n_experiences: 32890    \n",
            "Episode 430 Score: -131.69  Playtime:  70.78    n_eps: 0.11585765144771248  n_experiences: 33542    \n",
            "Episode 440 Score: -129.65  Playtime:  70.87    n_eps: 0.11019338598389174  n_experiences: 34294    \n",
            "Episode 450 Score: -127.48  Playtime:  71.00    n_eps: 0.10480604571960442  n_experiences: 35064    \n",
            "Episode 460 Score: -123.97  Playtime:  70.98    n_eps: 0.0996820918179746   n_experiences: 35796    \n",
            "Episode 470 Score: -125.77  Playtime:  71.70    n_eps: 0.09480864735409487  n_experiences: 36534    \n",
            "Episode 480 Score: -123.65  Playtime:  71.57    n_eps: 0.09017346495423652  n_experiences: 37237    \n",
            "Episode 490 Score: -123.39  Playtime:  72.49    n_eps: 0.08576489601717459  n_experiences: 38001    \n",
            "Episode 500 Score: -130.76  Playtime:  72.73    n_eps: 0.08157186144027828  n_experiences: 38726    \n",
            "Episode 510 Score: -129.10  Playtime:  72.44    n_eps: 0.07758382377679894  n_experiences: 39442    \n",
            "Episode 520 Score: -128.14  Playtime:  71.86    n_eps: 0.07379076075438468  n_experiences: 40076    \n",
            "Episode 530 Score: -131.17  Playtime:  73.12    n_eps: 0.07018314008827135  n_experiences: 40854    \n",
            "Episode 540 Score: -131.25  Playtime:  72.55    n_eps: 0.0667518955258533   n_experiences: 41549    \n",
            "Episode 550 Score: -133.83  Playtime:  71.47    n_eps: 0.06348840406243188  n_experiences: 42211    \n",
            "Episode 560 Score: -136.74  Playtime:  72.01    n_eps: 0.06038446427088321  n_experiences: 42997    \n",
            "Episode 570 Score: -135.09  Playtime:  70.95    n_eps: 0.05743227569078546  n_experiences: 43629    \n",
            "Episode 580 Score: -133.79  Playtime:  70.17    n_eps: 0.05462441922520914  n_experiences: 44254    \n",
            "Episode 590 Score: -132.93  Playtime:  69.44    n_eps: 0.05195383849590569  n_experiences: 44945    \n",
            "Episode 600 Score: -129.35  Playtime:  69.38    n_eps: 0.0494138221100385   n_experiences: 45664    \n",
            "Episode 610 Score: -130.30  Playtime:  69.66    n_eps: 0.046997986793891174 n_experiences: 46408    \n",
            "Episode 620 Score: -130.02  Playtime:  70.08    n_eps: 0.04470026135116646  n_experiences: 47084    \n",
            "Episode 630 Score: -125.27  Playtime:  68.74    n_eps: 0.04251487140556204  n_experiences: 47728    \n",
            "Episode 640 Score: -125.93  Playtime:  69.13    n_eps: 0.04043632488927963  n_experiences: 48462    \n",
            "Episode 650 Score: -122.40  Playtime:  69.21    n_eps: 0.03845939824099909  n_experiences: 49132    \n",
            "Episode 660 Score: -122.61  Playtime:  68.22    n_eps: 0.03657912327863173  n_experiences: 49819    \n",
            "Episode 670 Score: -162.67  Playtime:  74.94    n_eps: 0.03479077471386296  n_experiences: 51123    \n",
            "Episode 680 Score: -189.99  Playtime:  83.73    n_eps: 0.03308985827710748  n_experiences: 52627    \n",
            "Episode 690 Score: -207.00  Playtime:  91.87    n_eps: 0.03147209942303359  n_experiences: 54132    \n",
            "Episode 700 Score: -226.71  Playtime:  101.73   n_eps: 0.029933432588273214 n_experiences: 55837    \n",
            "Episode 710 Score: -248.48  Playtime:  105.53   n_eps: 0.028469990974320916 n_experiences: 56961    \n",
            "Episode 720 Score: -279.93  Playtime:  108.36   n_eps: 0.02707809682994571  n_experiences: 57920    \n",
            "Episode 730 Score: -303.54  Playtime:  115.93   n_eps: 0.025754252208694463 n_experiences: 59321    \n",
            "Episode 740 Score: -327.76  Playtime:  124.18   n_eps: 0.02449513017825978  n_experiences: 60880    \n",
            "Episode 750 Score: -346.44  Playtime:  134.40   n_eps: 0.023297566459620722 n_experiences: 62572    \n",
            "Episode 760 Score: -352.33  Playtime:  144.93   n_eps: 0.022158551474944856 n_experiences: 64312    \n",
            "Episode 770 Score: -317.83  Playtime:  147.67   n_eps: 0.021075222784267326 n_experiences: 65890    \n",
            "Episode 780 Score: -285.47  Playtime:  145.24   n_eps: 0.020044857891939702 n_experiences: 67151    \n",
            "Episode 790 Score: -265.44  Playtime:  143.74   n_eps: 0.019064867404770626 n_experiences: 68506    \n",
            "Episode 800 Score: -245.49  Playtime:  138.56   n_eps: 0.018132788524664028 n_experiences: 69693    \n",
            "Episode 810 Score: -207.43  Playtime:  146.04   n_eps: 0.01724627885940145  n_experiences: 71565    \n",
            "Episode 820 Score: -168.93  Playtime:  157.72   n_eps: 0.0164031105360144   n_experiences: 73692    \n",
            "Episode 830 Score: -140.49  Playtime:  174.71   n_eps: 0.015601164601953134 n_experiences: 76792    \n",
            "Episode 840 Score: -107.77  Playtime:  204.39   n_eps: 0.014838425699981627 n_experiences: 81319    \n",
            "Episode 850 Score: -85.28   Playtime:  223.17   n_eps: 0.014112977003416188 n_experiences: 84889    \n",
            "Episode 860 Score: -66.89   Playtime:  254.23   n_eps: 0.013422995398979608 n_experiences: 89735    \n",
            "Episode 870 Score: -53.93   Playtime:  288.45   n_eps: 0.012766746905164949 n_experiences: 94735    \n",
            "Episode 880 Score: -49.71   Playtime:  325.84   n_eps: 0.012142582314594924 n_experiences: 99735    \n",
            "Episode 890 Score: -40.85   Playtime:  362.29   n_eps: 0.01154893304942575  n_experiences: 104735   \n",
            "Episode 900 Score: -27.01   Playtime:  400.42   n_eps: 0.01098430721937979  n_experiences: 109735   \n",
            "Episode 910 Score: -29.68   Playtime:  431.21   n_eps: 0.010447285872500434 n_experiences: 114686   \n",
            "Episode 920 Score: -20.80   Playtime:  459.94   n_eps: 0.009936519429207103 n_experiences: 119686   \n",
            "Episode 930 Score: -13.08   Playtime:  476.61   n_eps: 0.009450724290688845 n_experiences: 124453   \n",
            "Episode 940 Score: -4.94    Playtime:  481.34   n_eps: 0.008988679613113105 n_experiences: 129453   \n",
            "Episode 950 Score:  2.91    Playtime:  495.64   n_eps: 0.00854922423954303  n_experiences: 134453   \n",
            "Episode 960 Score:  8.22    Playtime:  497.18   n_eps: 0.008131253781852912 n_experiences: 139453   \n",
            "Episode 970 Score:  15.95   Playtime:  497.18   n_eps: 0.0077337178453084215    n_experiences: 144453   \n",
            "Episode 980 Score:  23.65   Playtime:  497.18   n_eps: 0.00735561738883676  n_experiences: 149453   \n",
            "Episode 990 Score:  28.15   Playtime:  497.18   n_eps: 0.00699600221435283  n_experiences: 154453   \n",
            "Episode 1000    Score:  30.99   Playtime:  497.18   n_eps: 0.006653968578831948 n_experiences: 159453   \n",
            "Episode 1010    Score:  38.91   Playtime:  497.67   n_eps: 0.006328656923128    n_experiences: 164453   \n",
            "Episode 1020    Score:  42.07   Playtime:  497.67   n_eps: 0.006019249711829383 n_experiences: 169453   \n",
            "Episode 1030    Score:  46.22   Playtime:  500.00   n_eps: 0.005724969378724105 n_experiences: 174453   \n",
            "Episode 1040    Score:  51.04   Playtime:  500.00   n_eps: 0.005445076372710831 n_experiences: 179453   \n",
            "Episode 1050    Score:  55.56   Playtime:  500.00   n_eps: 0.005178867299245091 n_experiences: 184453   \n",
            "Episode 1060    Score:  50.94   Playtime:  495.75   n_eps: 0.004925673152649918 n_experiences: 189028   \n",
            "Episode 1070    Score:  56.72   Playtime:  495.75   n_eps: 0.004684857634848613 n_experiences: 194028   \n",
            "Episode 1080    Score:  59.38   Playtime:  495.75   n_eps: 0.00445581555629443  n_experiences: 199028   \n",
            "Episode 1090    Score:  61.10   Playtime:  495.75   n_eps: 0.004237971315078611 n_experiences: 204028   \n",
            "Episode 1100    Score:  64.66   Playtime:  495.75   n_eps: 0.004030777450394616 n_experiences: 209028   \n",
            "Episode 1110    Score:  66.19   Playtime:  495.75   n_eps: 0.003833713266723314 n_experiences: 214028   \n",
            "Episode 1120    Score:  67.84   Playtime:  495.75   n_eps: 0.003646283525281571 n_experiences: 219028   \n",
            "Episode 1130    Score:  70.11   Playtime:  495.75   n_eps: 0.0034680171994457497    n_experiences: 224028   \n",
            "Episode 1140    Score:  69.79   Playtime:  495.75   n_eps: 0.003298466291022388 n_experiences: 229028   \n",
            "Episode 1150    Score:  70.75   Playtime:  495.75   n_eps: 0.0031372047043912534    n_experiences: 234028   \n",
            "Episode 1160    Score:  79.62   Playtime:  500.00   n_eps: 0.002983827175691398 n_experiences: 239028   \n",
            "Episode 1170    Score:  78.95   Playtime:  500.00   n_eps: 0.002837948254359161 n_experiences: 244028   \n",
            "Episode 1180    Score:  79.73   Playtime:  496.38   n_eps: 0.0026992013344586513    n_experiences: 248666   \n",
            "Episode 1190    Score:  80.41   Playtime:  492.57   n_eps: 0.002567237733370353 n_experiences: 253285   \n",
            "Episode 1200    Score:  79.94   Playtime:  492.57   n_eps: 0.002441725815522529 n_experiences: 258285   \n",
            "Episode 1210    Score:  80.64   Playtime:  492.57   n_eps: 0.002322350158963276 n_experiences: 263285   \n",
            "Episode 1220    Score:  80.87   Playtime:  492.57   n_eps: 0.0022088107626787677    n_experiences: 268285   \n",
            "Episode 1230    Score:  84.44   Playtime:  492.57   n_eps: 0.0021008222926656044    n_experiences: 273285   \n",
            "Episode 1240    Score:  85.63   Playtime:  492.57   n_eps: 0.0019981133648625847    n_experiences: 278285   \n",
            "Episode 1250    Score:  88.95   Playtime:  490.78   n_eps: 0.0019004258631398548    n_experiences: 283106   \n",
            "Episode 1260    Score:  94.55   Playtime:  490.55   n_eps: 0.0018075142906314743    n_experiences: 288083   \n",
            "Episode 1270    Score:  97.47   Playtime:  490.07   n_eps: 0.0017191451527812486    n_experiences: 293035   \n",
            "Episode 1280    Score:  106.59  Playtime:  484.82   n_eps: 0.0016350963705513723    n_experiences: 297148   \n",
            "Episode 1290    Score:  103.52  Playtime:  480.64   n_eps: 0.0015551567223192257    n_experiences: 301349   \n",
            "Episode 1300    Score:  101.88  Playtime:  480.39   n_eps: 0.0014791253130597608    n_experiences: 306324   \n",
            "Episode 1310    Score:  104.39  Playtime:  478.01   n_eps: 0.0014068110694794949    n_experiences: 311086   \n",
            "Episode 1320    Score:  111.34  Playtime:  475.70   n_eps: 0.0013380322598333348    n_experiences: 315855   \n",
            "Episode 1330    Score:  115.42  Playtime:  473.34   n_eps: 0.0012726160372174948    n_experiences: 320619   \n",
            "Episode 1340    Score:  119.72  Playtime:  472.01   n_eps: 0.0012103980051907653    n_experiences: 325486   \n",
            "Episode 1350    Score:  123.04  Playtime:  471.75   n_eps: 0.001151221804632499 n_experiences: 330281   \n",
            "Episode 1360    Score:  129.09  Playtime:  467.20   n_eps: 0.0010949387207990578    n_experiences: 334803   \n",
            "Episode 1370    Score:  138.24  Playtime:  462.03   n_eps: 0.0010414073095912173    n_experiences: 339238   \n",
            "Episode 1380    Score:  141.86  Playtime:  464.60   n_eps: 0.0009904930420933113    n_experiences: 343608   \n",
            "Episode 1390    Score:  158.59  Playtime:  465.09   n_eps: 0.0009420679664908086    n_experiences: 347858   \n",
            "Episode 1400    Score:  173.27  Playtime:  458.05   n_eps: 0.0008960103865166974    n_experiences: 352129   \n",
            "Episode 1410    Score:  183.67  Playtime:  449.60   n_eps: 0.0008522045556185825    n_experiences: 356046   \n",
            "Episode 1420    Score:  191.78  Playtime:  443.86   n_eps: 0.0008105403860779152    n_experiences: 360241   "
          ]
        }
      ],
      "source": [
        "env = gym.make('LunarLander-v2',render_mode='rgb_array')\n",
        "agent = Agent(env)\n",
        "agent.eps = 1.0 \n",
        "for _ in range(2000):\n",
        "    ### 1. 본질적인 코드\n",
        "    agent.current_state, _  = env.reset() \n",
        "    agent.terminated = False\n",
        "    agent.score = 0 \n",
        "    for t in range(500):\n",
        "        # step1: agent >> env \n",
        "        agent.act() \n",
        "        env.agent_action = agent.action  \n",
        "        # step2: agent << env \n",
        "        agent.next_state, agent.reward, agent.terminated, _,_ = env.step(env.agent_action)\n",
        "        agent.save_experience() \n",
        "        # step3: learn \n",
        "        agent.learn()\n",
        "        # step4: state update \n",
        "        agent.current_state = agent.next_state \n",
        "        # step5: \n",
        "        if agent.terminated: break \n",
        "    agent.scores.append(agent.score) \n",
        "    agent.playtimes.append(t+1)\n",
        "    agent.n_episode = agent.n_episode + 1 \n",
        "    agent.eps = agent.eps*0.995\n",
        "    ## 2. 비본질적 코드\n",
        "    if (agent.n_episode % 10) == 0:\n",
        "        print(\n",
        "            f'Episode {agent.n_episode}\\t'\n",
        "            f'Score: {np.mean(agent.scores[-100:]) : .2f}\\t'\n",
        "            f'Playtime: {np.mean(agent.playtimes[-100:]) : .2f}\\t'\n",
        "            f'n_eps: {agent.eps}\\t'\n",
        "            f'n_experiences: {agent.n_experiences}\\t'\n",
        "        )\n",
        "    if np.mean(agent.scores[-100:])>=200.0:\n",
        "        break"
      ],
      "id": "905a8edd-83a1-42a1-82f5-57c0eccd65ac"
    },
    {
      "cell_type": "markdown",
      "metadata": {},
      "source": [
        "`-` 시각화를 위한코드"
      ],
      "id": "02ab8ef2-f3e7-485b-a897-f7dbea5669b2"
    },
    {
      "cell_type": "code",
      "execution_count": 50,
      "metadata": {
        "tags": []
      },
      "outputs": [],
      "source": [
        "agent2 = Agent(env) \n",
        "agent2.q_net = agent.q_net\n",
        "\n",
        "agent2.current_state, _ = env.reset()\n",
        "agent2.terminated = False \n",
        "ims = [] \n",
        "ims.append(env.render())\n",
        "for t in range(500):\n",
        "    agent2.act() \n",
        "    agent2.next_state, agent2.reward, agent2.terminated, _, _  = env.step(agent2.action)\n",
        "    im = env.render()\n",
        "    ims.append(im)\n",
        "    agent2.current_state = agent2.next_state\n",
        "    if agent2.terminated: break "
      ],
      "id": "677d6f52-8974-4944-ba70-83bc2ac61c8b"
    },
    {
      "cell_type": "code",
      "execution_count": 51,
      "metadata": {
        "tags": []
      },
      "outputs": [],
      "source": [
        "show(ims)"
      ],
      "id": "abc7a614-ac41-4970-9587-9829cb4bc5ca"
    },
    {
      "cell_type": "markdown",
      "metadata": {},
      "source": [
        "# A1. 신경망관련 용어\n",
        "\n",
        "`-` 은근히 용어가 헷갈리는데, 뜻을 좀 살펴보자.\n",
        "\n",
        "-   ANN: 인공신경망\n",
        "-   MLP: 다층퍼셉트론 (레이어가 여러개 있어요)\n",
        "-   DNN: 깊은신경망, 심층신경망\n",
        "-   CNN: 합성곱신경망\n",
        "-   RNN: 순환신경망\n",
        "\n",
        "`# 예시1` – MLP, DNN\n",
        "\n",
        "``` python\n",
        "net = torch.nn.Sequential(\n",
        "    torch.nn.Linear(in_features=1,out_features=2),\n",
        "    torch.nn.ReLU(),\n",
        "    torch.nn.Linear(in_features=2,out_features=2),\n",
        "    torch.nn.ReLU(),\n",
        "    torch.nn.Linear(in_features=2,out_features=1),    \n",
        "    torch.nn.Sigmoid()\n",
        ")\n",
        "```\n",
        "\n",
        "-   ANN: O\n",
        "-   MLP: O\n",
        "-   DNN: O\n",
        "-   CNN: X (합성곱레이어가 없으므로)\n",
        "-   RNN: X (순환구조가 없으므로)\n",
        "\n",
        "`#`\n",
        "\n",
        "`# 예시2` – MLP, Shallow Network\n",
        "\n",
        "``` python\n",
        "net = torch.nn.Sequential(\n",
        "    torch.nn.Linear(in_features=1,out_features=2),\n",
        "    torch.nn.ReLU(),\n",
        "    torch.nn.Linear(in_features=2,out_features=1),\n",
        "    torch.nn.Sigmoid()\n",
        ")\n",
        "```\n",
        "\n",
        "-   ANN: O\n",
        "-   MLP: O\n",
        "-   DNN: X? (깊은 신경망으로 생각하려면 더 많은 레이어가 필요함. 합의된\n",
        "    기준은 히든레이어 2장이상, 이걸 설명하기 위해서 얕은 신경망이란\n",
        "    용어도 씀)\n",
        "-   CNN: X (합성곱레이어가 없으므로)\n",
        "-   RNN: X (순환구조가 없으므로)\n",
        "\n",
        "`#`\n",
        "\n",
        "`# 예시3` – MLP, DNN, Wide NN\n",
        "\n",
        "``` python\n",
        "net = torch.nn.Sequential(\n",
        "    torch.nn.Linear(in_features=1,out_features=1048576),\n",
        "    torch.nn.ReLU(),\n",
        "    torch.nn.Linear(in_features=1048576,out_features=1048576),\n",
        "    torch.nn.ReLU(),\n",
        "    torch.nn.Linear(in_features=1048576,out_features=1),\n",
        "    torch.nn.Sigmoid(),    \n",
        ")\n",
        "```\n",
        "\n",
        "-   ANN: O\n",
        "-   MLP: O\n",
        "-   DNN: O? (깊긴한데 이정도면 모양이 깊다기 보다는 넓은 신경망임,\n",
        "    그래서 어떤 연구세어는 이걸 넓은 신경망이라 부르기도 함)\n",
        "-   CNN: X (합성곱레이어가 없으므로)\n",
        "-   RNN: X (순환구조가 없으므로)\n",
        "\n",
        "`# 예시4` – CNN\n",
        "\n",
        "``` python\n",
        "net = torch.nn.Sequential(\n",
        "    # Layer1\n",
        "    torch.nn.Conv2d(1, 64, kernel_size=4, stride=2, padding=1, bias=False),\n",
        "    torch.nn.LeakyReLU(0.2),\n",
        "    # Layer2\n",
        "    torch.nn.Conv2d(64, 128, kernel_size=4, stride=2, padding=1, bias=False),\n",
        "    torch.nn.BatchNorm2d(128),\n",
        "    torch.nn.LeakyReLU(0.2),\n",
        "    # Layer3\n",
        "    torch.nn.Conv2d(128, 256, kernel_size=4, stride=2, padding=1, bias=False),\n",
        "    torch.nn.BatchNorm2d(256),\n",
        "    torch.nn.LeakyReLU(0.2),\n",
        "    # Layer4\n",
        "    torch.nn.Conv2d(256, 512, kernel_size=4, stride=2, padding=1, bias=False),\n",
        "    torch.nn.BatchNorm2d(512),\n",
        "    torch.nn.LeakyReLU(0.2),\n",
        "    # Layer5\n",
        "    torch.nn.Conv2d(512, 1, kernel_size=4, stride=1, padding=0, bias=False),\n",
        "    torch.nn.Sigmoid(),\n",
        "    torch.nn.Flatten()\n",
        ")\n",
        "```\n",
        "\n",
        "-   ANN: O\n",
        "-   MLP: X (합성곱연결이 포함되어있으므로, MLP가 아님, 완전연결만\n",
        "    포함해야 MLP임)  \n",
        "-   DNN: O\n",
        "-   CNN: O (합성곱레이어를 포함하고 있으므로)\n",
        "-   RNN: X (순환구조가 없으므로)\n",
        "\n",
        "`#`\n",
        "\n",
        "`# 예시5` – CNN\n",
        "\n",
        "``` python\n",
        "net = torch.nn.Sequential(\n",
        "    torch.nn.Conv2d(1,16,(5,5)),\n",
        "    torch.nn.ReLU(),\n",
        "    torch.nn.MaxPool2d((2,2)),\n",
        "    torch.nn.Flatten(),\n",
        "    torch.nn.Linear(2304,1),\n",
        "    torch.nn.Sigmoid()\n",
        ")\n",
        "```\n",
        "\n",
        "-   ANN: O\n",
        "-   MLP: X\n",
        "-   DNN: X? (히든레이어가 1장이므로..)\n",
        "-   CNN: O (합성곱레이어를 포함하고 있으므로)\n",
        "-   RNN: X (순환구조가 없으므로)\n",
        "\n",
        "> 근데 대부분의 문서에서는 CNN, RNN은 DNN의 한 종류로 설명하고\n",
        "> 있어서요.. 이런 네트워크에서는 개념충돌이 옵니다.\n",
        "\n",
        "`#`\n",
        "\n",
        "`# 예시6` – RNN\n",
        "\n",
        "``` python\n",
        "class Net(torch.nn.Module):\n",
        "    def __init__(self):\n",
        "        super().__init__()\n",
        "        self.rnn = torch.nn.RNN(4,2)\n",
        "        self.linr = torch.nn.Linear(2,2) \n",
        "    def forward(self,X):\n",
        "        h = self.rnn(X) \n",
        "        netout = self.linr(h)\n",
        "        return netout \n",
        "net = Net()     \n",
        "```\n",
        "\n",
        "-   ANN: O\n",
        "-   MLP: X\n",
        "-   DNN: X? (히든레이어가 1장이므로..)\n",
        "-   CNN: X (합성곱레이어가 없으므로)\n",
        "-   RNN: O\n",
        "\n",
        "> 이것도 비슷한 개념충돌\n",
        "\n",
        "`#`\n",
        "\n",
        "# A2. 학습\n",
        "\n",
        "`-` 모든 인공지능 관련 알고리즘은 아래의 분류로 가능함.\n",
        "\n",
        "|      **특징**       | **지도학습 (Supervised Learning)** | **비지도학습 (Unsupervised Learning)** | **강화학습 (Reinforcement Learning)**  |\n",
        "|:----------:|:------------------:|:-------------------:|:------------------:|\n",
        "|      **정의**       | 입력 데이터와 정답(레이블)을 사용  |           입력 데이터만 사용           |  에이전트가 환경과 상호작용하며 학습   |\n",
        "|      **목표**       |   입력에 대한 정확한 출력을 예측   |    데이터의 숨겨진 구조나 패턴 발견    | 최대 보상을 얻기 위한 최적의 정책 학습 |\n",
        "|      **예시**       |      이미지 분류, 스팸 필터링      |           군집화, 차원 축소            |         게임 플레이, 로봇 제어         |\n",
        "|  **주요 알고리즘**  |   선형 회귀, 로지스틱 회귀, SVM    |        K-평균, PCA, 오토인코더         |      Q-러닝, DQN, 정책 경사 방법       |\n",
        "|      **활용**       |             분류, 예측             |       데이터의 숨겨진 패턴 발견        |     복잡한 의사결정 문제 해결 가능     |\n",
        "| **데이터 요구사항** |       레이블링이 반드시 필요       |         많은 양의 데이터 필요          |     시뮬레이션 또는 실제 환경 필요     |\n",
        "\n",
        "`-` 그런데 사실 불가능함"
      ],
      "id": "73831dcb-6aa5-488a-a6a7-5b79300c6c30"
    }
  ],
  "nbformat": 4,
  "nbformat_minor": 5,
  "metadata": {
    "kernelspec": {
      "name": "python3",
      "display_name": "Python 3 (ipykernel)",
      "language": "python"
    },
    "language_info": {
      "name": "python",
      "codemirror_mode": {
        "name": "ipython",
        "version": "3"
      },
      "file_extension": ".py",
      "mimetype": "text/x-python",
      "nbconvert_exporter": "python",
      "pygments_lexer": "ipython3",
      "version": "3.11.8"
    }
  }
}