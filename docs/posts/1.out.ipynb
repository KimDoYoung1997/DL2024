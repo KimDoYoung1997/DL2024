{
  "cells": [
    {
      "cell_type": "markdown",
      "metadata": {},
      "source": [
        "# 3. torch.eigensum"
      ],
      "id": "c1c4e582-20ee-4a18-8c85-090803cdb6b6"
    },
    {
      "cell_type": "code",
      "execution_count": 1,
      "metadata": {
        "tags": []
      },
      "outputs": [],
      "source": [
        "import torch\n",
        "import torchvision\n",
        "import matplotlib.pyplot as plt\n",
        "import pandas as pd\n",
        "from fastai.data.all import *\n",
        "from fastai.vision.all import * "
      ],
      "id": "34ba28d1-0c15-4f10-8ec4-4fdad7487fb2"
    },
    {
      "cell_type": "markdown",
      "metadata": {},
      "source": [
        "# 3. torch.eigensum\n",
        "\n",
        "## A. transpose"
      ],
      "id": "745db53d-95a5-48b5-bbe6-3ae56b104e65"
    },
    {
      "cell_type": "code",
      "execution_count": 8,
      "metadata": {
        "tags": []
      },
      "outputs": [],
      "source": [
        "tsr = torch.tensor([1,2,3,4,5,6]).reshape(3,2)\n",
        "tsr "
      ],
      "id": "5b404f6d-800f-41ef-8f73-fd96aad3cf24"
    },
    {
      "cell_type": "code",
      "execution_count": 9,
      "metadata": {
        "tags": []
      },
      "outputs": [],
      "source": [
        "tsr.t()"
      ],
      "id": "3516f872-c2d0-41f5-909c-58577c9f675e"
    },
    {
      "cell_type": "code",
      "execution_count": 7,
      "metadata": {
        "tags": []
      },
      "outputs": [],
      "source": [
        "torch.einsum('ij -> ji',tsr) "
      ],
      "id": "d9ab378d-0b9b-4f88-a76b-05066d740e4a"
    },
    {
      "cell_type": "markdown",
      "metadata": {},
      "source": [
        "## B. 행렬곱"
      ],
      "id": "1152d0eb-cfd5-4f1f-8f35-daff36315894"
    },
    {
      "cell_type": "code",
      "execution_count": 10,
      "metadata": {
        "tags": []
      },
      "outputs": [],
      "source": [
        "tsr1 = torch.tensor([1,2,3,4,5,6]).reshape(3,2)/6\n",
        "tsr1 "
      ],
      "id": "73e84fff-283c-4612-a7c8-eeeb7fde25ed"
    },
    {
      "cell_type": "code",
      "execution_count": 12,
      "metadata": {
        "tags": []
      },
      "outputs": [],
      "source": [
        "tsr2 = torch.tensor([1,2.0]).reshape(2,1)\n",
        "tsr2"
      ],
      "id": "b01634b5-ee49-4d3f-bafc-1b3f4e019095"
    },
    {
      "cell_type": "code",
      "execution_count": 13,
      "metadata": {
        "tags": []
      },
      "outputs": [],
      "source": [
        "tsr1 @ tsr2"
      ],
      "id": "e789d70b-d72d-4933-b91d-94e62bbe983b"
    },
    {
      "cell_type": "code",
      "execution_count": 14,
      "metadata": {
        "tags": []
      },
      "outputs": [],
      "source": [
        "torch.einsum('ij,jk -> ik',tsr1,tsr2) "
      ],
      "id": "9ac87c86-eeb4-4db3-badc-0b2a8289c3b6"
    },
    {
      "cell_type": "markdown",
      "metadata": {},
      "source": [
        "## C. 이미지변환"
      ],
      "id": "f19eb5aa-d5b6-4630-b125-56b322a663a7"
    },
    {
      "cell_type": "code",
      "execution_count": 16,
      "metadata": {
        "tags": []
      },
      "outputs": [],
      "source": [
        "r = torch.zeros(16).reshape(4,4) + 1.0\n",
        "g = torch.zeros(16).reshape(4,4)\n",
        "b = torch.zeros(16).reshape(4,4)"
      ],
      "id": "10b1fc0a-53a3-4b6d-a288-0a641c96b7c7"
    },
    {
      "cell_type": "code",
      "execution_count": 25,
      "metadata": {
        "tags": []
      },
      "outputs": [],
      "source": [
        "img = torch.stack([r,g,b],axis=0).reshape(1,3,4,4)\n",
        "img"
      ],
      "id": "7f83b05f-926a-400e-b02f-49fcbe970afa"
    },
    {
      "cell_type": "code",
      "execution_count": 34,
      "metadata": {
        "tags": []
      },
      "outputs": [],
      "source": [
        "img.shape"
      ],
      "id": "cf346e81-a40a-4ad4-b5dd-0560bb5d4700"
    },
    {
      "cell_type": "code",
      "execution_count": 36,
      "metadata": {
        "tags": []
      },
      "outputs": [
        {
          "output_type": "display_data",
          "metadata": {},
          "data": {
            "image/png": "[encoded data removed]"
          }
        }
      ],
      "source": [
        "plt.imshow(torch.einsum('ocij -> ijc',img))"
      ],
      "id": "d66b7b6e-ed61-4f44-9a2e-a9bb4765f7a6"
    },
    {
      "cell_type": "code",
      "execution_count": 27,
      "metadata": {
        "tags": []
      },
      "outputs": [
        {
          "output_type": "display_data",
          "metadata": {},
          "data": {
            "image/png": "[encoded data removed]"
          }
        }
      ],
      "source": [
        "plt.imshow(torch.stack([r,g,b],axis=-1))"
      ],
      "id": "389e3ae5-f091-48cf-b854-38fb39ad4417"
    },
    {
      "cell_type": "markdown",
      "metadata": {},
      "source": [
        "# 4. MNIST – 직접설계"
      ],
      "id": "f4afeffd-bdc5-4336-bc00-dd31d198ad24"
    },
    {
      "cell_type": "code",
      "execution_count": 3,
      "metadata": {
        "tags": []
      },
      "outputs": [],
      "source": [
        "path = untar_data(URLs.MNIST)\n",
        "X0 = torch.stack([torchvision.io.read_image(str(fname)) for fname in (path/'training/0').ls()])\n",
        "X1 = torch.stack([torchvision.io.read_image(str(fname)) for fname in (path/'training/1').ls()])\n",
        "X2 = torch.stack([torchvision.io.read_image(str(fname)) for fname in (path/'training/2').ls()])\n",
        "X = torch.concat([X0,X1,X2])/255\n",
        "y = torch.nn.functional.one_hot(torch.tensor([0]*len(X0) + [1]*len(X1) + [2]*len(X2))).float()\n",
        "X0 = torch.stack([torchvision.io.read_image(str(fname)) for fname in (path/'testing/0').ls()])\n",
        "X1 = torch.stack([torchvision.io.read_image(str(fname)) for fname in (path/'testing/1').ls()])\n",
        "X2 = torch.stack([torchvision.io.read_image(str(fname)) for fname in (path/'testing/2').ls()])\n",
        "XX = torch.concat([X0,X1,X2])/255\n",
        "yy = torch.nn.functional.one_hot(torch.tensor([0]*len(X0) + [1]*len(X1) + [2]*len(X2))).float()"
      ],
      "id": "8701be9a-2036-48c6-90fc-6bb00dffb994"
    },
    {
      "cell_type": "code",
      "execution_count": 4,
      "metadata": {
        "tags": []
      },
      "outputs": [
        {
          "output_type": "stream",
          "name": "stdout",
          "text": [
            "torch.Size([18623, 1, 28, 28])   torch.float32\n",
            "torch.Size([18623, 3])       torch.float32\n",
            "torch.Size([3147, 1, 28, 28])    torch.float32\n",
            "torch.Size([3147, 3])        torch.float32"
          ]
        }
      ],
      "source": [
        "print(X.shape,'\\t',X.dtype)\n",
        "print(y.shape,'\\t\\t',y.dtype)\n",
        "print(XX.shape,'\\t',XX.dtype)\n",
        "print(yy.shape,'\\t\\t',yy.dtype)"
      ],
      "id": "035e1281-5622-4c02-94f7-dddaf6c2d856"
    },
    {
      "cell_type": "markdown",
      "metadata": {},
      "source": [
        "## A. y: (n,3)-float"
      ],
      "id": "7ac094e0-5001-4f5e-a246-9762e0af9218"
    },
    {
      "cell_type": "code",
      "execution_count": 29,
      "metadata": {
        "tags": []
      },
      "outputs": [
        {
          "output_type": "stream",
          "name": "stdout",
          "text": [
            "train = 0.9410\n",
            "val = 0.9431"
          ]
        }
      ],
      "source": [
        "# step1: 데이터의 정리\n",
        "ds1 = torch.utils.data.TensorDataset(X,y)\n",
        "#ds2 = torch.utils.data.TensorDataset(XX,yy)\n",
        "dl1 = torch.utils.data.DataLoader(ds1,batch_size=128)\n",
        "#dl2 = torch.utils.data.DataLoader(ds2)\n",
        "# step2: 학습에 필요한 오브젝트들을 선언 \n",
        "torch.manual_seed(43052)\n",
        "net = torch.nn.Sequential(\n",
        "    torch.nn.Conv2d(1,16,kernel_size=(2,2)),\n",
        "    torch.nn.ReLU(),\n",
        "    torch.nn.MaxPool2d(kernel_size=(2,2)),\n",
        "    torch.nn.Flatten(),\n",
        "    torch.nn.Linear(2704,3)\n",
        ")\n",
        "loss_fn = torch.nn.CrossEntropyLoss()\n",
        "optimizr = torch.optim.Adam(net.parameters())\n",
        "# step3: 학습을 하는 과정 = 적합을 하는 과정 \n",
        "net.to(\"cuda:0\")\n",
        "for epoc in range(8):\n",
        "    for xi,yi in dl1: \n",
        "        ## 1 \n",
        "        ## 2 \n",
        "        loss = loss_fn(net(xi.to(\"cuda:0\")),yi.to(\"cuda:0\"))\n",
        "        ## 3 \n",
        "        loss.backward()\n",
        "        ## 4 \n",
        "        optimizr.step()\n",
        "        optimizr.zero_grad()\n",
        "## step4: \n",
        "net.to(\"cpu\")\n",
        "print(f'train = {(net(X).argmax(axis=-1) == y.argmax(axis=-1)).float().mean():.4f}')\n",
        "print(f'val = {(net(XX).argmax(axis=-1) == yy.argmax(axis=-1)).float().mean():.4f}')"
      ],
      "id": "e0e0cd11-a62b-4471-a4e9-766efec104c9"
    },
    {
      "cell_type": "markdown",
      "metadata": {},
      "source": [
        "## B. y: (n,)-int"
      ],
      "id": "8c51f5a1-af3e-4fa8-8b7c-47290f7d5e79"
    },
    {
      "cell_type": "code",
      "execution_count": 34,
      "metadata": {
        "tags": []
      },
      "outputs": [],
      "source": [
        "y = y.argmax(axis=-1)\n",
        "yy = yy.argmax(axis=-1)"
      ],
      "id": "f2e93a1e-efbc-404e-be22-e09d9f131efe"
    },
    {
      "cell_type": "code",
      "execution_count": 35,
      "metadata": {
        "tags": []
      },
      "outputs": [
        {
          "output_type": "stream",
          "name": "stdout",
          "text": [
            "torch.Size([18623, 1, 28, 28])   torch.float32\n",
            "torch.Size([18623])          torch.int64\n",
            "torch.Size([3147, 1, 28, 28])    torch.float32\n",
            "torch.Size([3147])       torch.int64"
          ]
        }
      ],
      "source": [
        "print(X.shape,'\\t',X.dtype)\n",
        "print(y.shape,'\\t\\t',y.dtype)\n",
        "print(XX.shape,'\\t',XX.dtype)\n",
        "print(yy.shape,'\\t\\t',yy.dtype)"
      ],
      "id": "c98a31f9-eeac-43b0-8ac0-2b59850c78b3"
    },
    {
      "cell_type": "code",
      "execution_count": 37,
      "metadata": {
        "tags": []
      },
      "outputs": [
        {
          "output_type": "stream",
          "name": "stdout",
          "text": [
            "train = 0.9410\n",
            "val = 0.9431"
          ]
        }
      ],
      "source": [
        "# step1: 데이터의 정리\n",
        "ds1 = torch.utils.data.TensorDataset(X,y)\n",
        "#ds2 = torch.utils.data.TensorDataset(XX,yy)\n",
        "dl1 = torch.utils.data.DataLoader(ds1,batch_size=128)\n",
        "#dl2 = torch.utils.data.DataLoader(ds2)\n",
        "# step2: 학습에 필요한 오브젝트들을 선언 \n",
        "torch.manual_seed(43052)\n",
        "net = torch.nn.Sequential(\n",
        "    torch.nn.Conv2d(1,16,kernel_size=(2,2)),\n",
        "    torch.nn.ReLU(),\n",
        "    torch.nn.MaxPool2d(kernel_size=(2,2)),\n",
        "    torch.nn.Flatten(),\n",
        "    torch.nn.Linear(2704,3)\n",
        ")\n",
        "loss_fn = torch.nn.CrossEntropyLoss()\n",
        "optimizr = torch.optim.Adam(net.parameters())\n",
        "# step3: 학습을 하는 과정 = 적합을 하는 과정 \n",
        "net.to(\"cuda:0\")\n",
        "for epoc in range(8):\n",
        "    for xi,yi in dl1: \n",
        "        ## 1 \n",
        "        ## 2 \n",
        "        loss = loss_fn(net(xi.to(\"cuda:0\")),yi.to(\"cuda:0\"))\n",
        "        ## 3 \n",
        "        loss.backward()\n",
        "        ## 4 \n",
        "        optimizr.step()\n",
        "        optimizr.zero_grad()\n",
        "## step4: \n",
        "net.to(\"cpu\")\n",
        "print(f'train = {(net(X).argmax(axis=-1) == y).float().mean():.4f}')\n",
        "print(f'val = {(net(XX).argmax(axis=-1) == yy).float().mean():.4f}')"
      ],
      "id": "07015d74-dca6-4224-a92a-590f7f71d152"
    },
    {
      "cell_type": "markdown",
      "metadata": {},
      "source": [
        "# 5. Fashion-MNIST – fastai\n",
        "\n",
        "`-` Data"
      ],
      "id": "d2d2622e-28f8-42cc-abcd-d6941c5ee80e"
    },
    {
      "cell_type": "code",
      "execution_count": 3,
      "metadata": {
        "tags": []
      },
      "outputs": [],
      "source": [
        "df_train=pd.read_csv('https://media.githubusercontent.com/media/guebin/PP2023/main/posts/fashion-mnist_train.csv')\n",
        "df_test=pd.read_csv('https://media.githubusercontent.com/media/guebin/PP2023/main/posts/fashion-mnist_test.csv')\n",
        "def rshp(row):\n",
        "    return row.reshape(1,28,28)\n",
        "X = torch.tensor(np.apply_along_axis(rshp,axis=1,arr=np.array(df_train.iloc[:,1:]))).float()\n",
        "XX  = torch.tensor(np.apply_along_axis(rshp,axis=1,arr=np.array(df_test.iloc[:,1:]))).float()\n",
        "y = torch.tensor(np.array(df_train.label))\n",
        "yy  = torch.tensor(np.array(df_test.label))"
      ],
      "id": "5673debd-21e2-4d58-8eb5-100ee6bb42a6"
    },
    {
      "cell_type": "code",
      "execution_count": 4,
      "metadata": {
        "tags": []
      },
      "outputs": [
        {
          "output_type": "stream",
          "name": "stdout",
          "text": [
            "torch.Size([60000, 1, 28, 28])   torch.float32\n",
            "torch.Size([60000])          torch.int64\n",
            "torch.Size([10000, 1, 28, 28])   torch.float32\n",
            "torch.Size([10000])          torch.int64"
          ]
        }
      ],
      "source": [
        "print(X.shape,'\\t',X.dtype)\n",
        "print(y.shape,'\\t\\t',y.dtype)\n",
        "print(XX.shape,'\\t',XX.dtype)\n",
        "print(yy.shape,'\\t\\t',yy.dtype)"
      ],
      "id": "25e0bda5-1c2b-4289-8b99-fda6c8dd846f"
    },
    {
      "cell_type": "code",
      "execution_count": 5,
      "metadata": {
        "tags": []
      },
      "outputs": [
        {
          "output_type": "display_data",
          "metadata": {},
          "data": {
            "image/png": "[encoded data removed]"
          }
        }
      ],
      "source": [
        "plt.imshow(torch.einsum('cij -> ijc', X[-1]),cmap='gray')"
      ],
      "id": "4a5b1831-1ddd-4b27-844e-3c8e30267990"
    },
    {
      "cell_type": "markdown",
      "metadata": {},
      "source": [
        "## A. torch"
      ],
      "id": "abb83fde-e5fb-4ded-ab87-58298a118ef0"
    },
    {
      "cell_type": "code",
      "execution_count": 7,
      "metadata": {
        "tags": []
      },
      "outputs": [
        {
          "output_type": "stream",
          "name": "stdout",
          "text": [
            "train = 0.9123\n",
            "val = 0.8814"
          ]
        }
      ],
      "source": [
        "# step1: 데이터의 정리\n",
        "ds1 = torch.utils.data.TensorDataset(X,y)\n",
        "#ds2 = torch.utils.data.TensorDataset(XX,yy)\n",
        "dl1 = torch.utils.data.DataLoader(ds1,batch_size=128)\n",
        "#dl2 = torch.utils.data.DataLoader(ds2)\n",
        "# step2: 학습에 필요한 오브젝트들을 선언 \n",
        "torch.manual_seed(43052)\n",
        "net = torch.nn.Sequential(\n",
        "    torch.nn.Conv2d(1,16,kernel_size=(2,2)),\n",
        "    torch.nn.ReLU(),\n",
        "    torch.nn.MaxPool2d(kernel_size=(2,2)),\n",
        "    torch.nn.Flatten(),\n",
        "    torch.nn.Linear(2704,10)\n",
        ")\n",
        "loss_fn = torch.nn.CrossEntropyLoss()\n",
        "optimizr = torch.optim.Adam(net.parameters())\n",
        "# step3: 학습을 하는 과정 = 적합을 하는 과정 \n",
        "net.to(\"cuda:0\")\n",
        "for epoc in range(8):\n",
        "    for xi,yi in dl1: \n",
        "        ## 1 \n",
        "        ## 2 \n",
        "        loss = loss_fn(net(xi.to(\"cuda:0\")),yi.to(\"cuda:0\"))\n",
        "        ## 3 \n",
        "        loss.backward()\n",
        "        ## 4 \n",
        "        optimizr.step()\n",
        "        optimizr.zero_grad()\n",
        "## step4: \n",
        "net.to(\"cpu\")\n",
        "print(f'train = {(net(X).argmax(axis=-1) == y).float().mean():.4f}')\n",
        "print(f'val = {(net(XX).argmax(axis=-1) == yy).float().mean():.4f}')"
      ],
      "id": "73554969-e7e1-4fce-83d4-dd94cc1a9029"
    },
    {
      "cell_type": "markdown",
      "metadata": {},
      "source": [
        "## B. fastai"
      ],
      "id": "4b248895-a8c1-4652-8e2c-dc64d6eb3f00"
    },
    {
      "cell_type": "code",
      "execution_count": 53,
      "metadata": {
        "tags": []
      },
      "outputs": [
        {
          "output_type": "stream",
          "name": "stdout",
          "text": [
            "train = 0.9139\n",
            "val = 0.8804"
          ]
        }
      ],
      "source": [
        "# step1: 데이터의 정리\n",
        "ds1 = torch.utils.data.TensorDataset(X,y)\n",
        "ds2 = torch.utils.data.TensorDataset(XX,yy)\n",
        "dl1 = torch.utils.data.DataLoader(ds1,batch_size=128)\n",
        "dl2 = torch.utils.data.DataLoader(ds2,batch_size=10000)\n",
        "dls = DataLoaders(dl1,dl2)\n",
        "# step2: 학습에 필요한 오브젝트들을 선언 \n",
        "torch.manual_seed(43052)\n",
        "net = torch.nn.Sequential(\n",
        "    torch.nn.Conv2d(1,16,kernel_size=(2,2)),\n",
        "    torch.nn.ReLU(),\n",
        "    torch.nn.MaxPool2d(kernel_size=(2,2)),\n",
        "    torch.nn.Flatten(),\n",
        "    torch.nn.Linear(2704,10)\n",
        ")\n",
        "loss_fn = torch.nn.CrossEntropyLoss()\n",
        "lrnr = Learner(\n",
        "    dls = dls,\n",
        "    model = net,\n",
        "    loss_func = loss_fn,\n",
        "    #---#\n",
        "    metrics=[accuracy]\n",
        ")\n",
        "# step3: 학습을 하는 과정 = 적합을 하는 과정 \n",
        "lrnr.fit(10)\n",
        "# step4 \n",
        "lrnr.model.to(\"cpu\")\n",
        "print(f'train = {(lrnr.model(X).argmax(axis=-1) == y).float().mean():.4f}')\n",
        "print(f'val = {(lrnr.model(XX).argmax(axis=-1) == yy).float().mean():.4f}')"
      ],
      "id": "df907d1d-7f18-4b30-bf61-39ddaacc720c"
    },
    {
      "cell_type": "markdown",
      "metadata": {},
      "source": [
        "# 6. ImageNet – 직접설계/transfer\n",
        "\n",
        "## A. 알렉스넷(Krizhevsky, Sutskever, and Hinton 2012)의 의미\n",
        "\n",
        "`-` 야사로 배우는 인공지능: <https://brunch.co.kr/@hvnpoet/109>\n",
        "\n",
        "## B. 알렉스넷의 아키텍처 써보기\n",
        "\n",
        "`-` 알렉스넷의 아키텍처:\n",
        "\n",
        "-ref:\n",
        "<https://upload.wikimedia.org/wikipedia/commons/thumb/c/cc/Comparison_image_neural_networks.svg/960px-Comparison_image_neural_networks.svg.png>\n",
        "\n",
        "![](https://upload.wikimedia.org/wikipedia/commons/thumb/c/cc/Comparison_image_neural_networks.svg/960px-Comparison_image_neural_networks.svg.png)\n",
        "\n",
        "`-` 재미삼아 써보면..\n",
        "\n",
        "## C. 알렉스넷으로 ImageNet 적합 – HW"
      ],
      "id": "88de3abe-3ef8-4b68-8246-2b04f216e3a4"
    },
    {
      "cell_type": "code",
      "execution_count": 748,
      "metadata": {
        "tags": []
      },
      "outputs": [],
      "source": [
        "pass"
      ],
      "id": "6cfde131-2035-47e2-9ba8-e0dcf3e3ea1f"
    },
    {
      "cell_type": "markdown",
      "metadata": {},
      "source": [
        "Krizhevsky, Alex, Ilya Sutskever, and Geoffrey E Hinton. 2012. “Imagenet\n",
        "Classification with Deep Convolutional Neural Networks.” *Advances in\n",
        "Neural Information Processing Systems* 25."
      ],
      "id": "5ed2bd73-12cf-4367-b698-1005e011e2f7"
    }
  ],
  "nbformat": 4,
  "nbformat_minor": 5,
  "metadata": {
    "kernelspec": {
      "name": "python3",
      "display_name": "Python 3 (ipykernel)",
      "language": "python"
    },
    "language_info": {
      "name": "python",
      "codemirror_mode": {
        "name": "ipython",
        "version": "3"
      },
      "file_extension": ".py",
      "mimetype": "text/x-python",
      "nbconvert_exporter": "python",
      "pygments_lexer": "ipython3",
      "version": "3.11.8"
    }
  }
}