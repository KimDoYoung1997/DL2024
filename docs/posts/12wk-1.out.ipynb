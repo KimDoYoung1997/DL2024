{
  "cells": [
    {
      "cell_type": "markdown",
      "metadata": {},
      "source": [
        "# 12wk-1: 순환신경망 (2) – RNN\n",
        "\n",
        "최규빈  \n",
        "2024-05-15\n",
        "\n",
        "<a href=\"https://colab.research.google.com/github/guebin/DL2024/blob/main/posts/12wk-1.ipynb\"><img src=\"https://colab.research.google.com/assets/colab-badge.svg\" style=\"text-align: left\"></a>\n",
        "\n",
        "# 1. 강의영상"
      ],
      "id": "f00ebe9c-0a93-4fde-b7b8-e5e423794c73"
    },
    {
      "cell_type": "code",
      "execution_count": 1,
      "metadata": {
        "tags": []
      },
      "outputs": [],
      "source": [
        "# {{<video https://youtu.be/playlist?list=PLQqh36zP38-yrZ4HbNgYDmklcumxJHSOp&si=XO2ZBUtY_m1mSFvX >}}"
      ],
      "id": "5438ffc0-e158-4c22-9e4b-f759b5af2f75"
    },
    {
      "cell_type": "markdown",
      "metadata": {},
      "source": [
        "# 2. Import"
      ],
      "id": "6da028f8-4fe1-4ef4-9d85-4d0349465b7f"
    },
    {
      "cell_type": "code",
      "execution_count": 2,
      "metadata": {
        "tags": []
      },
      "outputs": [],
      "source": [
        "import torch\n",
        "import pandas as pd\n",
        "import matplotlib.pyplot as plt"
      ],
      "id": "97a51172-4f15-4481-95c2-0c3afdb59b0d"
    },
    {
      "cell_type": "code",
      "execution_count": 3,
      "metadata": {
        "tags": []
      },
      "outputs": [],
      "source": [
        "soft = torch.nn.Softmax(dim=1)"
      ],
      "id": "5b49b5ec-8728-462e-867a-5e8698c7934a"
    },
    {
      "cell_type": "markdown",
      "metadata": {},
      "source": [
        "# 3. AbAcAd – 실패\n",
        "\n",
        "## A. Data\n",
        "\n",
        "`-` 데이터 정리"
      ],
      "id": "51973151-9ed7-4d70-9416-8f27c0f593ac"
    },
    {
      "cell_type": "code",
      "execution_count": 4,
      "metadata": {
        "tags": []
      },
      "outputs": [],
      "source": [
        "txt = list('AbAcAd'*50)\n",
        "txt[:10]"
      ],
      "id": "5cb99a8b-a460-42b8-9a01-17358722e316"
    },
    {
      "cell_type": "code",
      "execution_count": 5,
      "metadata": {
        "tags": []
      },
      "outputs": [],
      "source": [
        "df_train = pd.DataFrame({'x':txt[:-1], 'y':txt[1:]})\n",
        "df_train[:5]"
      ],
      "id": "88500bd3-a944-44ab-96e7-2cdd39ef0dee"
    },
    {
      "cell_type": "code",
      "execution_count": 6,
      "metadata": {
        "tags": []
      },
      "outputs": [],
      "source": [
        "x = torch.tensor(df_train.x.map({'A':0,'b':1,'c':2,'d':3}))\n",
        "y = torch.tensor(df_train.y.map({'A':0,'b':1,'c':2,'d':3}))"
      ],
      "id": "c7d1717a-610e-4c78-8f60-d4343dba4c6f"
    },
    {
      "cell_type": "code",
      "execution_count": 7,
      "metadata": {
        "tags": []
      },
      "outputs": [],
      "source": [
        "x[:8],y[:8]"
      ],
      "id": "48d96002-a6ac-4a5a-ad81-73a961ce57f0"
    },
    {
      "cell_type": "markdown",
      "metadata": {},
      "source": [
        "## B. 풀이 – 실패"
      ],
      "id": "68a2a757-29a1-48f1-8687-738c76af8fa4"
    },
    {
      "cell_type": "code",
      "execution_count": 8,
      "metadata": {
        "tags": []
      },
      "outputs": [],
      "source": [
        "net = torch.nn.Sequential(\n",
        "    torch.nn.Embedding(num_embeddings=4,embedding_dim=2),\n",
        "    torch.nn.Tanh(),\n",
        "    torch.nn.Linear(in_features=2,out_features=4),\n",
        "    #torch.nn.Softmax()\n",
        ")\n",
        "loss_fn = torch.nn.CrossEntropyLoss()\n",
        "optimizr = torch.optim.Adam(net.parameters(),lr=0.1)"
      ],
      "id": "486ac21f-bd40-4f11-b9d7-ef43b66f309c"
    },
    {
      "cell_type": "code",
      "execution_count": 9,
      "metadata": {
        "tags": []
      },
      "outputs": [],
      "source": [
        "ebdd,tanh,linr = net"
      ],
      "id": "b1081f38-6806-4f46-9404-e53d1869fc7f"
    },
    {
      "cell_type": "code",
      "execution_count": 10,
      "metadata": {
        "tags": []
      },
      "outputs": [],
      "source": [
        "ebdd.weight.data = ebdd.weight.data*0 + 0.1\n",
        "linr.weight.data = linr.weight.data*0 + 0.1 \n",
        "linr.bias.data = linr.bias.data*0 + 0.1 "
      ],
      "id": "1c0cb05d-1a9c-436a-a705-23fc15b93c17"
    },
    {
      "cell_type": "code",
      "execution_count": 11,
      "metadata": {
        "tags": []
      },
      "outputs": [],
      "source": [
        "for epoc in range(200):\n",
        "    ## 1 \n",
        "    netout = net(x)\n",
        "    ## 2 \n",
        "    loss = loss_fn(netout,y)\n",
        "    ## 3 \n",
        "    loss.backward()\n",
        "    ## 4 \n",
        "    optimizr.step()\n",
        "    optimizr.zero_grad()"
      ],
      "id": "e70aab8b-2fde-47d1-bd3d-b694faf74077"
    },
    {
      "cell_type": "code",
      "execution_count": 12,
      "metadata": {
        "tags": []
      },
      "outputs": [
        {
          "output_type": "display_data",
          "metadata": {},
          "data": {
            "image/png": "[encoded data removed]"
          }
        }
      ],
      "source": [
        "h = tanh(ebdd(x)).data[:10]\n",
        "yhat = soft(net(x)).data[:10]\n",
        "mat = torch.concat([h,yhat],axis=1)\n",
        "#---#\n",
        "plt.matshow(mat,cmap=\"bwr\",vmin=-1,vmax=1)\n",
        "plt.colorbar()\n",
        "plt.axvline(1.5,color=\"lime\")\n",
        "plt.xticks(ticks=range(6),labels=[r\"$h_1$\",r\"$h_2$\",r\"$P_A$\",r\"$P_b$\",r\"$P_c$\",r\"$P_d$\"]);"
      ],
      "id": "157ca264-f647-4618-a152-dd68545f9a31"
    },
    {
      "cell_type": "markdown",
      "metadata": {},
      "source": [
        "-   망했음\n",
        "-   왜?\n",
        "\n",
        "`-` 일단 망한건 망한거고 분석을 위해서 숫자좀 체크하자."
      ],
      "id": "190dc070-6f48-4d98-bb78-31b14bf0d4d7"
    },
    {
      "cell_type": "code",
      "execution_count": 13,
      "metadata": {
        "tags": []
      },
      "outputs": [],
      "source": [
        "net(x)"
      ],
      "id": "37620690-43cb-4492-9f55-9b495d9d56b3"
    },
    {
      "cell_type": "markdown",
      "metadata": {},
      "source": [
        "## C. 실패한 풀이의 다른구현1"
      ],
      "id": "adc29f8f-1415-4523-aab8-97d3efbc462c"
    },
    {
      "cell_type": "code",
      "execution_count": 17,
      "metadata": {
        "tags": []
      },
      "outputs": [],
      "source": [
        "x = torch.tensor(df_train.x.map({'A':0,'b':1,'c':2,'d':3}))\n",
        "y = torch.tensor(df_train.y.map({'A':0,'b':1,'c':2,'d':3}))\n",
        "X = torch.nn.functional.one_hot(x).float()\n",
        "y = torch.nn.functional.one_hot(y).float()"
      ],
      "id": "4a0a0b81-ef21-4896-ad49-4dd1e9cb570a"
    },
    {
      "cell_type": "code",
      "execution_count": 18,
      "metadata": {
        "tags": []
      },
      "outputs": [],
      "source": [
        "X.shape,y.shape"
      ],
      "id": "c9841ffa-9065-4297-92d0-670c704818c8"
    },
    {
      "cell_type": "code",
      "execution_count": 19,
      "metadata": {
        "tags": []
      },
      "outputs": [],
      "source": [
        "class Hnet(torch.nn.Module):\n",
        "    def __init__(self):\n",
        "        super().__init__()\n",
        "        self.i2h = torch.nn.Linear(in_features=4,out_features=2,bias=False)\n",
        "        self.tanh = torch.nn.Tanh()\n",
        "    def forward(self,x):\n",
        "        h = self.tanh(self.i2h(x))\n",
        "        return h"
      ],
      "id": "e974b8d0-aa41-4a26-8ee4-8db8f04c31f9"
    },
    {
      "cell_type": "code",
      "execution_count": 20,
      "metadata": {
        "tags": []
      },
      "outputs": [],
      "source": [
        "hnet = Hnet()\n",
        "linr = torch.nn.Linear(in_features=2,out_features=4)\n",
        "loss_fn = torch.nn.CrossEntropyLoss()\n",
        "optimizr = torch.optim.Adam(list(hnet.parameters()) + list(linr.parameters()),lr=0.1)\n",
        "#--#\n",
        "hnet.i2h.weight.data = hnet.i2h.weight.data*0 + 0.1\n",
        "linr.weight.data = linr.weight.data*0 + 0.1\n",
        "linr.bias.data = linr.bias.data*0 + 0.1"
      ],
      "id": "41728b06-da66-4bc1-a335-c14d06b11ea1"
    },
    {
      "cell_type": "code",
      "execution_count": 21,
      "metadata": {
        "tags": []
      },
      "outputs": [],
      "source": [
        "for epoc in range(200):\n",
        "    ## 1 \n",
        "    h = hnet(X)\n",
        "    netout = linr(h)\n",
        "    ## 2 \n",
        "    loss = loss_fn(netout,y)\n",
        "    ## 3 \n",
        "    loss.backward()\n",
        "    ## 4 \n",
        "    optimizr.step()\n",
        "    optimizr.zero_grad()"
      ],
      "id": "9adba260-cb57-447f-a907-e1857bfd07e2"
    },
    {
      "cell_type": "code",
      "execution_count": 22,
      "metadata": {
        "tags": []
      },
      "outputs": [
        {
          "output_type": "display_data",
          "metadata": {},
          "data": {
            "image/png": "[encoded data removed]"
          }
        }
      ],
      "source": [
        "h = hnet(X).data[:10]\n",
        "yhat = soft(linr(hnet(X))).data[:10]\n",
        "mat = torch.concat([h,yhat],axis=1)\n",
        "#---#\n",
        "plt.matshow(mat,cmap=\"bwr\",vmin=-1,vmax=1)\n",
        "plt.colorbar()\n",
        "plt.axvline(1.5,color=\"lime\")\n",
        "plt.xticks(ticks=range(6),labels=[r\"$h_1$\",r\"$h_2$\",r\"$P_A$\",r\"$P_b$\",r\"$P_c$\",r\"$P_d$\"]);"
      ],
      "id": "aa067c72-0ef0-45b2-b802-1ba1af55bbe6"
    },
    {
      "cell_type": "markdown",
      "metadata": {},
      "source": [
        "`-` 망한건 망한거고.. 이것도 숫자좀 체크해보자."
      ],
      "id": "8f738870-9420-4d5e-bbf9-586c67713123"
    },
    {
      "cell_type": "code",
      "execution_count": 23,
      "metadata": {
        "tags": []
      },
      "outputs": [],
      "source": [
        "linr(hnet(X))"
      ],
      "id": "94581028-0d77-4867-9b1e-4ee94ea04247"
    },
    {
      "cell_type": "markdown",
      "metadata": {},
      "source": [
        "## D. 실패한 풀이의 다른구현2\n",
        "\n",
        "`# 예비학습` – 아래를 관찰하자."
      ],
      "id": "e652564d-45d1-4c0b-bef6-ba674dbf2631"
    },
    {
      "cell_type": "code",
      "execution_count": 59,
      "metadata": {
        "tags": []
      },
      "outputs": [],
      "source": [
        "X = torch.tensor(\n",
        "    [[1., 0., 0., 0.],\n",
        "     [0., 1., 0., 0.]]\n",
        ")\n",
        "linr = torch.nn.Linear(4,2)"
      ],
      "id": "52a3de2a-93e8-4810-a1a2-8b3999d212a5"
    },
    {
      "cell_type": "code",
      "execution_count": 60,
      "metadata": {
        "tags": []
      },
      "outputs": [],
      "source": [
        "linr(X)"
      ],
      "id": "13f5c536-6093-420f-ad11-199d9438bc2d"
    },
    {
      "cell_type": "code",
      "execution_count": 61,
      "metadata": {
        "tags": []
      },
      "outputs": [],
      "source": [
        "linr(X[[0]]),linr(X[[1]])"
      ],
      "id": "180fb0ee-24bf-4a39-9a04-f583876bfb24"
    },
    {
      "cell_type": "code",
      "execution_count": 62,
      "metadata": {
        "tags": []
      },
      "outputs": [],
      "source": [
        "linr(X[0]),linr(X[1])"
      ],
      "id": "01fce4c3-be94-4cc4-9edf-eaf0a6d6dd06"
    },
    {
      "cell_type": "markdown",
      "metadata": {},
      "source": [
        "`#`"
      ],
      "id": "76c49e89-80f7-43e8-8303-54ebc6d8237d"
    },
    {
      "cell_type": "code",
      "execution_count": 63,
      "metadata": {
        "tags": []
      },
      "outputs": [],
      "source": [
        "x = torch.tensor(df_train.x.map({'A':0,'b':1,'c':2,'d':3}))\n",
        "y = torch.tensor(df_train.y.map({'A':0,'b':1,'c':2,'d':3}))\n",
        "X = torch.nn.functional.one_hot(x).float()\n",
        "y = torch.nn.functional.one_hot(y).float()"
      ],
      "id": "c510971e-fec0-4445-8cfe-267e57a6177b"
    },
    {
      "cell_type": "code",
      "execution_count": 64,
      "metadata": {
        "tags": []
      },
      "outputs": [],
      "source": [
        "class Hnet(torch.nn.Module):\n",
        "    def __init__(self):\n",
        "        super().__init__()\n",
        "        self.i2h = torch.nn.Linear(in_features=4,out_features=2,bias=False)\n",
        "        self.tanh = torch.nn.Tanh()\n",
        "    def forward(self,x):\n",
        "        h = self.tanh(self.i2h(x))\n",
        "        return h"
      ],
      "id": "ea986083-a3a1-4719-8253-13709f34d280"
    },
    {
      "cell_type": "code",
      "execution_count": 65,
      "metadata": {
        "tags": []
      },
      "outputs": [],
      "source": [
        "hnet = Hnet()\n",
        "linr = torch.nn.Linear(in_features=2,out_features=4)\n",
        "loss_fn = torch.nn.CrossEntropyLoss()\n",
        "optimizr = torch.optim.Adam(list(hnet.parameters()) + list(linr.parameters()),lr=0.1)\n",
        "#--#\n",
        "hnet.i2h.weight.data = hnet.i2h.weight.data*0 + 0.1\n",
        "linr.weight.data = linr.weight.data*0 + 0.1\n",
        "linr.bias.data = linr.bias.data*0 + 0.1"
      ],
      "id": "0c61f306-d751-4588-95e1-fb6f5ec3a433"
    },
    {
      "cell_type": "code",
      "execution_count": 66,
      "metadata": {
        "tags": []
      },
      "outputs": [],
      "source": [
        "L = len(X)\n",
        "for epoc in range(200):\n",
        "    ## 1~2 \n",
        "    loss = 0 \n",
        "    for t in range(L):\n",
        "        Xt,yt = X[t],y[t]\n",
        "        ht = hnet(Xt)\n",
        "        ot = linr(ht)\n",
        "        loss = loss + loss_fn(ot,yt)\n",
        "    loss = loss/L\n",
        "    ## 3 \n",
        "    loss.backward()\n",
        "    ## 4 \n",
        "    optimizr.step()\n",
        "    optimizr.zero_grad()"
      ],
      "id": "1c996054-8b3a-40aa-ac37-d6ba2550d3e3"
    },
    {
      "cell_type": "code",
      "execution_count": 67,
      "metadata": {
        "tags": []
      },
      "outputs": [
        {
          "output_type": "display_data",
          "metadata": {},
          "data": {
            "image/png": "[encoded data removed]"
          }
        }
      ],
      "source": [
        "h = hnet(X).data[:10]\n",
        "yhat = soft(linr(hnet(X))).data[:10]\n",
        "mat = torch.concat([h,yhat],axis=1)\n",
        "#---#\n",
        "plt.matshow(mat,cmap=\"bwr\",vmin=-1,vmax=1)\n",
        "plt.colorbar()\n",
        "plt.axvline(1.5,color=\"lime\")\n",
        "plt.xticks(ticks=range(6),labels=[r\"$h_1$\",r\"$h_2$\",r\"$P_A$\",r\"$P_b$\",r\"$P_c$\",r\"$P_d$\"]);"
      ],
      "id": "ae9a60f3-122f-47fd-ae5b-bc8f670ed3cb"
    },
    {
      "cell_type": "markdown",
      "metadata": {},
      "source": [
        "`-` 망한건 망한거고.. 이것도 숫자좀 체크해보자."
      ],
      "id": "9f1b800b-b06d-4860-a41b-70b4a53b7852"
    },
    {
      "cell_type": "code",
      "execution_count": 68,
      "metadata": {
        "tags": []
      },
      "outputs": [],
      "source": [
        "linr(hnet(X))"
      ],
      "id": "6a75cd2f-82ff-428a-963c-e64ffe25443d"
    },
    {
      "cell_type": "markdown",
      "metadata": {},
      "source": [
        "`-` 임베딩공간의 해석"
      ],
      "id": "f018cfd8-bffb-42fd-97b6-4919541491f8"
    },
    {
      "cell_type": "code",
      "execution_count": 69,
      "metadata": {
        "tags": []
      },
      "outputs": [],
      "source": [
        "h1,h2 = hnet(X).T.data"
      ],
      "id": "e1975117-20f7-4581-b9e2-a9ebb9b1eb7c"
    },
    {
      "cell_type": "code",
      "execution_count": 70,
      "metadata": {
        "tags": []
      },
      "outputs": [
        {
          "output_type": "display_data",
          "metadata": {},
          "data": {
            "image/png": "[encoded data removed]"
          }
        }
      ],
      "source": [
        "plt.plot(h1[::6],h2[::6],'X',alpha=0.5,label=r\"$A$\")\n",
        "plt.plot(h1[1::6],h2[1::6],'X',alpha=0.5,label=r\"$b$\")\n",
        "plt.plot(h1[2::6],h2[2::6],'X',alpha=0.5,label=r\"$A$\")\n",
        "plt.plot(h1[3::6],h2[3::6],'X',alpha=0.5,label=r\"$c$\")\n",
        "plt.plot(h1[4::6],h2[4::6],'X',alpha=0.5,label=r\"$A$\")\n",
        "plt.plot(h1[5::6],h2[5::6],'X',alpha=0.5,label=r\"$d$\")\n",
        "plt.legend()"
      ],
      "id": "e09640b6-6b28-486b-90a8-3283fcb7afdf"
    },
    {
      "cell_type": "markdown",
      "metadata": {},
      "source": [
        "> 임베딩공간의 해석? b,c,d는 사실상 같은 문자로 취급한다.\n",
        "\n",
        "# 4. `AbAcAd` – 성공\n",
        "\n",
        "## A. 순환신경망의 모티브\n",
        "\n",
        "***(예비생각1) ${\\boldsymbol h}$에 대한 이해***\n",
        "\n",
        "`-` ${\\boldsymbol h}$는 사실 문자열 “abcd”들을 숫자로 바꾼 표현이라\n",
        "해석할 수 있음. 즉 원핫인코딩과 다른 또 다른 형태의 숫자표현이라 해석할\n",
        "수 있다.\n",
        "\n",
        "`-` 사실 ${\\boldsymbol h}$는 원핫인코딩보다 약간 더 (1) 액기스만 남은\n",
        "느낌 + (2) 숙성된 느낌을 준다\n",
        "\n",
        "-   (why1) ${\\boldsymbol h}$는 ${\\boldsymbol x}$ 보다\n",
        "    ${\\boldsymbol y}$를 예측함에 좀 더 직접적인 역할을 한다. 즉\n",
        "    ${\\boldsymbol x}$ 숫자보다 ${\\boldsymbol h}$ 숫자가 잘 정리되어 있고\n",
        "    (차원이 낮고) 입력의 특징을 잘 정리한 (추천시스템의 MBTI처럼)\n",
        "    의미있는 숫자이다.\n",
        "-   (why2) ${\\boldsymbol x}$는 학습없이 그냥 얻어지는 숫자표현이지만,\n",
        "    ${\\boldsymbol h}$는 학습을 통하여 고치고 고치고 고친 숫자표현이다.\n",
        "\n",
        "결론: 사실 ${\\boldsymbol h}$는 잘 숙성되어있는 입력정보\n",
        "${\\boldsymbol x}$ 그 자체로 해석 할 수 있다.\n",
        "\n",
        "***(예비생각2) [수백년전통을 이어가는\n",
        "방법](https://www.joongang.co.kr/article/24087690#home)***\n",
        "\n",
        "    “1리터에 500만원에 낙찰된 적 있습니다.”\n",
        "    “2kg에 1억원 정도 추산됩니다.”\n",
        "    “20여 종 종자장을 블렌딩해 100ml에 5000만원씩 분양 예정입니다.”\n",
        "\n",
        "    모두 씨간장(종자장) 가격에 관한 실제 일화다.\n",
        "\n",
        "    (중략...)\n",
        "\n",
        "    위스키나 와인처럼 블렌딩을 하기도 한다. \n",
        "    새로 담근 간장에 씨간장을 넣거나, 씨간장독에 햇간장을 넣어 맛을 유지하기도 한다. \n",
        "    이를 겹장(또는 덧장)이라 한다. \n",
        "    몇몇 종갓집에선 씨간장 잇기를 몇백 년째 해오고 있다. \n",
        "    매년 새로 간장을 담가야 이어갈 수 있으니 불씨 꺼트리지 않는 것처럼 굉장히 어려운 일이다.\n",
        "    이렇게 하는 이유는 집집마다 내려오는 고유 장맛을 잃지 않기 위함이다. \n",
        "    씨간장이란 그만큼 소중한 주방의 자산이며 정체성이다.\n",
        "\n",
        "덧장: 새로운간장을 만들때, 옛날간장을 섞어서 만듬\n",
        "\n",
        "`*` 기존방식 -\n",
        "$\\text{콩물} \\overset{\\text{숙성}}{\\longrightarrow} \\text{간장}$\n",
        "\n",
        "`*` 수백년 전통의 간장맛을 유지하는 방식\n",
        "\n",
        "-   $\\text{콩물}_1 \\overset{\\text{숙성}}{\\longrightarrow} \\text{간장}_1$\n",
        "-   $\\text{콩물}_2, \\text{간장}_1 \\overset{\\text{숙성}}{\\longrightarrow} \\text{간장}_2$\n",
        "-   $\\text{콩물}_3, \\text{간장}_2 \\overset{\\text{숙성}}{\\longrightarrow} \\text{간장}_3$\n",
        "\n",
        "`*` 수백년 전통의 간장맛을 유지하면서 조리를 한다면?\n",
        "\n",
        "-   $\\text{콩물}_1 \\overset{\\text{숙성}}{\\longrightarrow} \\text{간장}_1 \\overset{\\text{조리}}{\\longrightarrow} \\text{간장계란밥}_1$\n",
        "-   $\\text{콩물}_2, \\text{간장}_1 \\overset{\\text{숙성}}{\\longrightarrow} \\text{간장}_2 \\overset{\\text{조리}}{\\longrightarrow} \\text{간장계란밥}_2$\n",
        "-   $\\text{콩물}_3, \\text{간장}_2 \\overset{\\text{숙성}}{\\longrightarrow} \\text{간장}_3 \\overset{\\text{조리}}{\\longrightarrow} \\text{간장계란밥}_3$\n",
        "\n",
        "점점 맛있는 간장계란밥이 탄생함\n",
        "\n",
        "`*` 알고리즘의 편의상 아래와 같이 생각해도 무방\n",
        "\n",
        "-   $\\text{콩물}_1, \\text{간장}_0 \\overset{\\text{숙성}}{\\longrightarrow} \\text{간장}_1 \\overset{\\text{조리}}{\\longrightarrow} \\text{간장계란밥}_1$,\n",
        "    $\\text{간장}_0=\\text{맹물}$\n",
        "-   $\\text{콩물}_2, \\text{간장}_1 \\overset{\\text{숙성}}{\\longrightarrow} \\text{간장}_2 \\overset{\\text{조리}}{\\longrightarrow} \\text{간장계란밥}_2$\n",
        "-   $\\text{콩물}_3, \\text{간장}_2 \\overset{\\text{숙성}}{\\longrightarrow} \\text{간장}_3 \\overset{\\text{조리}}{\\longrightarrow} \\text{간장계란밥}_3$\n",
        "\n",
        "***아이디어***\n",
        "\n",
        "`*` 수백년 전통의 간장맛을 유지하면서 조리하는 과정을 수식으로? (콩물을\n",
        "$x$로, 간장을 $h$로!!)\n",
        "\n",
        "-   $\\boldsymbol{x}_1, \\boldsymbol{h}_0 \\overset{\\text{숙성}}{\\longrightarrow} \\boldsymbol{h}_1 \\overset{\\text{조리}}{\\longrightarrow} \\hat{\\boldsymbol y}_1$\n",
        "-   $\\boldsymbol{x}_2, \\boldsymbol{h}_1 \\overset{\\text{숙성}}{\\longrightarrow} \\boldsymbol{h}_2 \\overset{\\text{조리}}{\\longrightarrow} \\hat{\\boldsymbol y}_2$\n",
        "-   $\\boldsymbol{x}_3, \\boldsymbol{h}_2 \\overset{\\text{숙성}}{\\longrightarrow} \\boldsymbol{h}_3 \\overset{\\text{조리}}{\\longrightarrow} \\hat{\\boldsymbol y}_3$\n",
        "\n",
        "이제 우리가 배울것은 (1) “$\\text{콩물}_{t}$”와 “$\\text{간장}_{t-1}$”로\n",
        "“$\\text{간장}_t$”를 `숙성`하는 방법 (2) “$\\text{간장}_t$”로\n",
        "“$\\text{간장계란밥}_t$를 `조리`하는 방법이다\n",
        "\n",
        "즉 `숙성`담당 네트워크와 `조리`담당 네트워크를 각각 만들어 학습하면\n",
        "된다.\n",
        "\n",
        "## B. 순환신경망 알고리즘\n",
        "\n",
        "***`# 버전1`***\n",
        "\n",
        "**step 1**: 일단 $\\text{간장}_0(={\\boldsymbol h}_0)$을 맹물로 초기화\n",
        "한다. 즉 아래를 수행한다.\n",
        "\n",
        "$${\\boldsymbol h}_0 = [[0,0]]$$\n",
        "\n",
        "이때 ${\\boldsymbol h}_0 = [[0,0]]$ 은 이론상에서는 shape이 (1,2) 이지만\n",
        "알고리즘 상에서는 shape 을 (2,)로 생각해도 무방하다.\n",
        "\n",
        "**step 2**: $\\text{콩물}_1(={\\boldsymbol x}_1)$,\n",
        "$\\text{간장}_0(={\\boldsymbol h}_0)$ 을 이용하여\n",
        "$\\text{간장}_1(={\\boldsymbol h}_1)$을 숙성한다. 즉 아래를 수행한다.\n",
        "\n",
        "$${\\boldsymbol h}_1= \\tanh({\\boldsymbol x}_1{\\bf W}_{ih}+{\\boldsymbol h}_0{\\bf W}_{hh}+{\\boldsymbol b}_{ih}+{\\boldsymbol b}_{hh})$$\n",
        "\n",
        "이때 변수들의 차원은 아래와 같다.\n",
        "\n",
        "-   ${\\boldsymbol x}_1$: (1,4) 이지만 (4,) 로 생각한다.\n",
        "-   ${\\boldsymbol h}_0$,${\\boldsymbol h}_1$: (1,2) 이지만 (2,) 로\n",
        "    생각한다.\n",
        "-   ${\\bf W}_{ih}$: (4,2) // ${\\bf W}_{hh}$: (2,2) //\n",
        "    ${\\boldsymbol b}_{ih}$: (1,2) // ${\\boldsymbol b}_{hh}$: (1,2) 로\n",
        "    생각한다.\n",
        "\n",
        "**step 3:** $\\text{간장}_1$을 이용하여 $\\text{간장계란밥}_1$을 만든다.\n",
        "그리고 $\\hat{\\boldsymbol y}_1$을 만든다.\n",
        "\n",
        "$${\\boldsymbol o}_1= {\\bf W}_{ho}{\\boldsymbol h}_1+{\\boldsymbol b}_{ho}$$\n",
        "\n",
        "$$\\hat{\\boldsymbol y}_1 = \\text{soft}({\\boldsymbol o}_1)$$\n",
        "\n",
        "**step 4**: $t=2,3,4,5,\\dots,L$ 에 대하여 step2-3을 반복한다.\n",
        "\n",
        "`#`\n",
        "\n",
        "***`# 버전2`***\n",
        "\n",
        "init $\\boldsymbol{h}_0$\n",
        "\n",
        "for $t$ in $1:L$\n",
        "\n",
        "-   ${\\boldsymbol h}_t= \\tanh({\\boldsymbol x}_t{\\bf W}_{ih}+{\\boldsymbol h}_{t-1}{\\bf W}_{hh}+{\\boldsymbol b}_{ih}+{\\boldsymbol b}_{hh})$\n",
        "-   ${\\boldsymbol o}_t= {\\bf W}_{ho}{\\boldsymbol h}_1+{\\boldsymbol b}_{ho}$\n",
        "-   $\\hat{\\boldsymbol y}_t = \\text{soft}({\\boldsymbol o}_t)$\n",
        "\n",
        "`#`\n",
        "\n",
        "***`# 버전3`***\n",
        "\n",
        "``` python\n",
        "ht = [0,0]\n",
        "for t in 1:T \n",
        "    ht = tanh(linr(xt)+linr(ht))\n",
        "    ot = linr(ht)\n",
        "    yt_hat = soft(ot)\n",
        "```\n",
        "\n",
        "-   코드상으로는 $h_t$와 $h_{t-1}$의 구분이 교모하게 사라진다. (그래서\n",
        "    오히려 좋아)\n",
        "\n",
        "`#`"
      ],
      "id": "08a4c62d-e127-4399-a8f1-7e57f57412c3"
    },
    {
      "cell_type": "code",
      "execution_count": null,
      "metadata": {},
      "outputs": [],
      "source": [
        "`-` 따라서 실질적인 전체코드는 아래와 같은 방식으로 구현할 수 있다. "
      ],
      "id": "e9c053c7-a252-437f-9cc4-ef53f897fff9"
    },
    {
      "cell_type": "markdown",
      "metadata": {},
      "source": [
        "``` python\n",
        "class rNNCell(torch.nn.Module):\n",
        "    def __init__(self):\n",
        "        super().__init__()\n",
        "        linr1 = torch.nn.Linear(?,?) \n",
        "        linr2 = torch.nn.Linear(?,?) \n",
        "        tanh = torch.nn.Tanh()\n",
        "    def forward(self,xt,ht):\n",
        "        ht = tanh(lrnr1(xt)+lrnr2(ht))\n",
        "        return ht\n",
        "\n",
        "init ht\n",
        "rnncell = rNNCell()\n",
        "\n",
        "for t in 1:T \n",
        "    xt, yt = X[t], y[t]\n",
        "    ht = rnncell(xt, ht)\n",
        "    ot = linr(ht) \n",
        "    loss = loss + loss_fn(ot, yt)\n",
        "```\n",
        "\n",
        "## C. 구현1 – rNNCell\n",
        "\n",
        "`-` 데이터정리"
      ],
      "id": "5dfb600a-d3a9-4728-977f-555154a6602a"
    },
    {
      "cell_type": "code",
      "execution_count": 128,
      "metadata": {
        "tags": []
      },
      "outputs": [],
      "source": [
        "x = torch.tensor(df_train.x.map({'A':0,'b':1,'c':2,'d':3}))\n",
        "y = torch.tensor(df_train.y.map({'A':0,'b':1,'c':2,'d':3}))\n",
        "X = torch.nn.functional.one_hot(x).float()\n",
        "y = torch.nn.functional.one_hot(y).float()"
      ],
      "id": "f765c57b-faa7-4075-b3ce-b2438552413e"
    },
    {
      "cell_type": "markdown",
      "metadata": {},
      "source": [
        "`-` Net설계"
      ],
      "id": "a394c279-47fd-4531-aa86-b3b763280b0d"
    },
    {
      "cell_type": "code",
      "execution_count": 129,
      "metadata": {
        "tags": []
      },
      "outputs": [],
      "source": [
        "class rNNCell(torch.nn.Module):\n",
        "    def __init__(self):\n",
        "        super().__init__()\n",
        "        self.i2h = torch.nn.Linear(4,2) \n",
        "        self.h2h = torch.nn.Linear(2,2) \n",
        "        self.tanh = torch.nn.Tanh()\n",
        "    def forward(self,xt,ht):\n",
        "        ht = self.tanh(self.i2h(xt)+self.h2h(ht))\n",
        "        return ht"
      ],
      "id": "f2976630-e2b9-45c4-a74d-78aae6eda7d2"
    },
    {
      "cell_type": "code",
      "execution_count": 130,
      "metadata": {
        "tags": []
      },
      "outputs": [],
      "source": [
        "torch.manual_seed(43052) # 시드고정해야만 답나옴\n",
        "rnncell = rNNCell() # 숙성담당 네트워크 \n",
        "cook = torch.nn.Linear(2,4) "
      ],
      "id": "74e7ff3a-df1b-422a-9685-74e5b46aa422"
    },
    {
      "cell_type": "markdown",
      "metadata": {},
      "source": [
        "`-` 손실함수 및 옵티마이저 설정"
      ],
      "id": "0ac5874e-d380-453b-a365-ae09274ddd4f"
    },
    {
      "cell_type": "code",
      "execution_count": 131,
      "metadata": {
        "tags": []
      },
      "outputs": [],
      "source": [
        "loss_fn = torch.nn.CrossEntropyLoss() \n",
        "optimizr = torch.optim.Adam(list(rnncell.parameters())+list(cook.parameters()),lr=0.1)"
      ],
      "id": "2b79a8d9-1daa-4bb6-a893-e9f7e86dcd24"
    },
    {
      "cell_type": "markdown",
      "metadata": {},
      "source": [
        "`-` 학습"
      ],
      "id": "755f5c1a-41a3-4781-9b92-13f1488f8780"
    },
    {
      "cell_type": "code",
      "execution_count": 132,
      "metadata": {
        "tags": []
      },
      "outputs": [],
      "source": [
        "L = len(X) \n",
        "for epoc in range(200): \n",
        "    ## 1~2\n",
        "    loss = 0 \n",
        "    ht = torch.zeros(2) \n",
        "    for Xt,yt in zip(X,y):\n",
        "        ht = rnncell(Xt,ht) \n",
        "        ot = cook(ht) \n",
        "        loss = loss + loss_fn(ot,yt) \n",
        "    loss = loss / L\n",
        "    ## 3 \n",
        "    loss.backward()\n",
        "    ## 4 \n",
        "    optimizr.step()\n",
        "    optimizr.zero_grad()"
      ],
      "id": "90d9c9d5-675b-401a-9290-9a91061d8961"
    },
    {
      "cell_type": "markdown",
      "metadata": {},
      "source": [
        "`-` 결과 확인 및 시각화"
      ],
      "id": "125a4dc5-e7e3-4a0b-bb85-28a44719e04b"
    },
    {
      "cell_type": "code",
      "execution_count": 152,
      "metadata": {
        "tags": []
      },
      "outputs": [],
      "source": [
        "L = len(X)\n",
        "h = torch.zeros(L,2) #L년치 h를 담을 변수 \n",
        "water = torch.zeros(2)\n",
        "h[0] = rnncell(X[0],water) \n",
        "for t in range(1,L):\n",
        "    h[t] = rnncell(X[t],h[t-1]) \n",
        "yhat = soft(cook(h))\n",
        "yhat"
      ],
      "id": "a19c0eef-2f05-4cf0-a33e-60bb0f010a86"
    },
    {
      "cell_type": "code",
      "execution_count": 134,
      "metadata": {
        "tags": []
      },
      "outputs": [
        {
          "output_type": "display_data",
          "metadata": {},
          "data": {
            "image/png": "[encoded data removed]"
          }
        }
      ],
      "source": [
        "mat = torch.concat([h,yhat],axis=1).data\n",
        "#---#\n",
        "plt.matshow(mat[:15],cmap=\"bwr\",vmin=-1,vmax=1)\n",
        "plt.colorbar()\n",
        "plt.axvline(1.5,color=\"lime\")\n",
        "plt.xticks(ticks=range(6),labels=[r\"$h_1$\",r\"$h_2$\",r\"$P_A$\",r\"$P_b$\",r\"$P_c$\",r\"$P_d$\"]);"
      ],
      "id": "3822de3c-1035-476d-b1ea-df34df902e0e"
    },
    {
      "cell_type": "markdown",
      "metadata": {},
      "source": [
        "`-` yhat 값 분석"
      ],
      "id": "0499f57a-c9c2-40c6-9fae-2760dd661bea"
    },
    {
      "cell_type": "code",
      "execution_count": 136,
      "metadata": {
        "tags": []
      },
      "outputs": [],
      "source": [
        "yhat.data.numpy().round(3)[:10]"
      ],
      "id": "a1270480-8701-4d1c-8015-919c504299f5"
    },
    {
      "cell_type": "markdown",
      "metadata": {},
      "source": [
        "-   미세하지만 뒤로갈수록 좀 더 성능이 좋다.\n",
        "\n",
        "`-` h1,h2 분석 (= 임베딩스페이스 분석)"
      ],
      "id": "e0bf4cd4-ff5d-4806-ab84-45b1b27b94bd"
    },
    {
      "cell_type": "code",
      "execution_count": 111,
      "metadata": {
        "tags": []
      },
      "outputs": [],
      "source": [
        "h1,h2 = h.T.data"
      ],
      "id": "4f20bb7c-7d84-4c90-b81c-717cd23755bb"
    },
    {
      "cell_type": "code",
      "execution_count": 112,
      "metadata": {
        "tags": []
      },
      "outputs": [
        {
          "output_type": "display_data",
          "metadata": {},
          "data": {
            "image/png": "[encoded data removed]"
          }
        }
      ],
      "source": [
        "plt.plot(h1[::6],h2[::6],'X',alpha=0.5,label=r\"$A$\")\n",
        "plt.plot(h1[1::6],h2[1::6],'X',alpha=0.5,label=r\"$b$\")\n",
        "plt.plot(h1[2::6],h2[2::6],'X',alpha=0.5,label=r\"$A$\")\n",
        "plt.plot(h1[3::6],h2[3::6],'X',alpha=0.5,label=r\"$c$\")\n",
        "plt.plot(h1[4::6],h2[4::6],'X',alpha=0.5,label=r\"$A$\")\n",
        "plt.plot(h1[5::6],h2[5::6],'X',alpha=0.5,label=r\"$d$\")\n",
        "plt.legend()"
      ],
      "id": "eb9c505f-fbb9-49c4-b697-5725dfa46c9e"
    },
    {
      "cell_type": "markdown",
      "metadata": {},
      "source": [
        "## D. 구현2 – RNNCell\n",
        "\n",
        "ref: <https://pytorch.org/docs/stable/generated/torch.nn.RNNCell.html>\n",
        "\n",
        "`-` 데이터정리"
      ],
      "id": "5d0a83b5-6ebd-4160-b1b6-2ab8201cff9e"
    },
    {
      "cell_type": "code",
      "execution_count": 128,
      "metadata": {
        "tags": []
      },
      "outputs": [],
      "source": [
        "x = torch.tensor(df_train.x.map({'A':0,'b':1,'c':2,'d':3}))\n",
        "y = torch.tensor(df_train.y.map({'A':0,'b':1,'c':2,'d':3}))\n",
        "X = torch.nn.functional.one_hot(x).float()\n",
        "y = torch.nn.functional.one_hot(y).float()"
      ],
      "id": "83aec004-1cde-4696-bdef-3919283c53df"
    },
    {
      "cell_type": "markdown",
      "metadata": {},
      "source": [
        "`-` Net설계 및 가중치 설정 (구현1과 동일하도록 가중치 초기화)"
      ],
      "id": "97637e1d-01f9-4720-82fe-97334dd254af"
    },
    {
      "cell_type": "code",
      "execution_count": 137,
      "metadata": {
        "tags": []
      },
      "outputs": [],
      "source": [
        "torch.manual_seed(43052)\n",
        "_rnncell = rNNCell()\n",
        "cook = torch.nn.Linear(2,4)"
      ],
      "id": "8620447b-82c0-4dc0-9193-ec7f78492d9b"
    },
    {
      "cell_type": "code",
      "execution_count": 138,
      "metadata": {
        "tags": []
      },
      "outputs": [],
      "source": [
        "rnncell = torch.nn.RNNCell(4,2)\n",
        "rnncell.weight_ih.data = _rnncell.i2h.weight.data \n",
        "rnncell.weight_hh.data = _rnncell.h2h.weight.data \n",
        "rnncell.bias_ih.data = _rnncell.i2h.bias.data \n",
        "rnncell.bias_hh.data = _rnncell.h2h.bias.data "
      ],
      "id": "ef32746a-c3a8-4ee8-913a-cf2e974d608d"
    },
    {
      "cell_type": "markdown",
      "metadata": {},
      "source": [
        "`-` 손실함수 및 옵티마이저 설정"
      ],
      "id": "02c5922e-7c49-42df-80c9-880f427666e1"
    },
    {
      "cell_type": "code",
      "execution_count": 139,
      "metadata": {
        "tags": []
      },
      "outputs": [],
      "source": [
        "loss_fn = torch.nn.CrossEntropyLoss() \n",
        "optimizr = torch.optim.Adam(list(rnncell.parameters())+list(cook.parameters()),lr=0.1)"
      ],
      "id": "9500d720-0e29-4213-abe4-64d0d21baa49"
    },
    {
      "cell_type": "markdown",
      "metadata": {},
      "source": [
        "`-` 학습"
      ],
      "id": "02690899-e9b8-4666-a8ca-3c0c4bd3ff60"
    },
    {
      "cell_type": "code",
      "execution_count": 140,
      "metadata": {
        "tags": []
      },
      "outputs": [],
      "source": [
        "L = len(X) \n",
        "for epoc in range(200): \n",
        "    ## 1~2\n",
        "    loss = 0 \n",
        "    ht = torch.zeros(2)\n",
        "    for t in range(L):\n",
        "        Xt,yt = X[t],y[t]\n",
        "        ht = rnncell(Xt,ht) \n",
        "        ot = cook(ht) \n",
        "        loss = loss + loss_fn(ot,yt) \n",
        "    loss = loss / L\n",
        "    ## 3 \n",
        "    loss.backward()\n",
        "    ## 4 \n",
        "    optimizr.step()\n",
        "    optimizr.zero_grad()"
      ],
      "id": "ef728118-f55b-4c18-b95b-4519fb8398c8"
    },
    {
      "cell_type": "markdown",
      "metadata": {},
      "source": [
        "`-` 결과확인"
      ],
      "id": "69739b85-6934-47a9-a1fc-76bf001ce5bb"
    },
    {
      "cell_type": "code",
      "execution_count": 141,
      "metadata": {
        "tags": []
      },
      "outputs": [],
      "source": [
        "L = len(X)\n",
        "h = torch.zeros(L,2) #L년치 h를 담을 변수 \n",
        "water = torch.zeros(2)\n",
        "h[0] = rnncell(X[0],water) \n",
        "for t in range(1,L):\n",
        "    h[t] = rnncell(X[t],h[t-1]) \n",
        "yhat = soft(cook(h))    "
      ],
      "id": "ae557a31-3847-4cca-83ed-b0dc5ea16871"
    },
    {
      "cell_type": "code",
      "execution_count": 143,
      "metadata": {
        "tags": []
      },
      "outputs": [],
      "source": [
        "yhat"
      ],
      "id": "f8cbbb2f-e3ca-44c1-b134-43bb41b4bb74"
    },
    {
      "cell_type": "markdown",
      "metadata": {},
      "source": [
        "-   구현1과 같은 결과\n",
        "\n",
        "## E. 구현3 – RNN\n",
        "\n",
        "ref: <https://pytorch.org/docs/stable/generated/torch.nn.RNN.html>\n",
        "\n",
        "`-` 데이터정리"
      ],
      "id": "954b54f6-26f3-4f83-a1fd-495b390db779"
    },
    {
      "cell_type": "code",
      "execution_count": 153,
      "metadata": {
        "tags": []
      },
      "outputs": [],
      "source": [
        "x = torch.tensor(df_train.x.map({'A':0,'b':1,'c':2,'d':3}))\n",
        "y = torch.tensor(df_train.y.map({'A':0,'b':1,'c':2,'d':3}))\n",
        "X = torch.nn.functional.one_hot(x).float()\n",
        "y = torch.nn.functional.one_hot(y).float()"
      ],
      "id": "034999da-1bed-4a20-8262-7251688fb84a"
    },
    {
      "cell_type": "markdown",
      "metadata": {},
      "source": [
        "`-` Net설계 및 가중치 설정 (구현1,2와 동일하도록 가중치 초기화)"
      ],
      "id": "b8084fff-38c3-4a0d-826d-326a7adaa9c9"
    },
    {
      "cell_type": "code",
      "execution_count": 154,
      "metadata": {
        "tags": []
      },
      "outputs": [],
      "source": [
        "torch.manual_seed(43052)\n",
        "_rnncell = rNNCell()\n",
        "cook = torch.nn.Linear(2,4)"
      ],
      "id": "1d8e0482-8785-4dfb-91af-ac191f0ac4dd"
    },
    {
      "cell_type": "code",
      "execution_count": 155,
      "metadata": {
        "tags": []
      },
      "outputs": [],
      "source": [
        "rnn = torch.nn.RNN(4,2)\n",
        "rnn.weight_ih_l0.data = _rnncell.i2h.weight.data \n",
        "rnn.weight_hh_l0.data = _rnncell.h2h.weight.data \n",
        "rnn.bias_ih_l0.data = _rnncell.i2h.bias.data \n",
        "rnn.bias_hh_l0.data = _rnncell.h2h.bias.data "
      ],
      "id": "5e9510b8-7651-4399-89a3-7d097add4dfd"
    },
    {
      "cell_type": "markdown",
      "metadata": {},
      "source": [
        "`-` 손실함수 및 옵티마이저 설정"
      ],
      "id": "b966f1ef-6216-44f4-a940-e534e4d28f16"
    },
    {
      "cell_type": "code",
      "execution_count": 156,
      "metadata": {
        "tags": []
      },
      "outputs": [],
      "source": [
        "loss_fn = torch.nn.CrossEntropyLoss() \n",
        "optimizr = torch.optim.Adam(list(rnn.parameters())+list(cook.parameters()),lr=0.1)"
      ],
      "id": "88787449-54e6-4c99-a3ed-75d769abcd46"
    },
    {
      "cell_type": "markdown",
      "metadata": {},
      "source": [
        "`-` 학습"
      ],
      "id": "fbe1f227-0fcc-4e3a-8710-98bc1db54299"
    },
    {
      "cell_type": "code",
      "execution_count": 157,
      "metadata": {
        "tags": []
      },
      "outputs": [],
      "source": [
        "Water = torch.zeros(1,2) # 여기에서 1=D*num_layers임 //  D는 단방향=1 양방향=2, num_layers는 stacking RNN의 중첩수 \n",
        "for epoc in range(200):\n",
        "    ## 1 \n",
        "    h,hL = rnn(X,Water)\n",
        "    netout = cook(h) \n",
        "    ## 2 \n",
        "    loss = loss_fn(netout,y)\n",
        "    ## 3 \n",
        "    loss.backward()\n",
        "    ## 4 \n",
        "    optimizr.step()\n",
        "    optimizr.zero_grad()"
      ],
      "id": "30085ad0-3446-4040-868e-4f3ea342718f"
    },
    {
      "cell_type": "markdown",
      "metadata": {},
      "source": [
        "`-` 결과확인"
      ],
      "id": "20acd96b-cba7-4b85-85ad-7b12aac28ff5"
    },
    {
      "cell_type": "code",
      "execution_count": 158,
      "metadata": {
        "tags": []
      },
      "outputs": [],
      "source": [
        "h,_ = rnn(X,Water)\n",
        "netout = cook(h)\n",
        "yhat = soft(netout)\n",
        "yhat"
      ],
      "id": "b6c70654-35d5-4e71-a4dc-68187e22b0a5"
    },
    {
      "cell_type": "markdown",
      "metadata": {},
      "source": [
        "-   구현1, 구현2와 같은결과"
      ],
      "id": "8219a2a2-1541-4c61-a3db-ab6f7b91560f"
    }
  ],
  "nbformat": 4,
  "nbformat_minor": 5,
  "metadata": {
    "kernelspec": {
      "name": "python3",
      "display_name": "Python 3 (ipykernel)",
      "language": "python"
    },
    "language_info": {
      "name": "python",
      "codemirror_mode": {
        "name": "ipython",
        "version": "3"
      },
      "file_extension": ".py",
      "mimetype": "text/x-python",
      "nbconvert_exporter": "python",
      "pygments_lexer": "ipython3",
      "version": "3.11.8"
    }
  }
}