{
  "cells": [
    {
      "cell_type": "markdown",
      "metadata": {},
      "source": [
        "# 13wk-1: 강화학습 (1) – Bandit\n",
        "\n",
        "최규빈  \n",
        "2024-05-29\n",
        "\n",
        "<a href=\"https://colab.research.google.com/github/guebin/DL2024/blob/main/posts/13wk-2.ipynb\"><img src=\"https://colab.research.google.com/assets/colab-badge.svg\" style=\"text-align: left\"></a>\n",
        "\n",
        "# 1. 강의영상"
      ],
      "id": "d5fb0071-758d-4137-9d2e-5f466fc401e1"
    },
    {
      "cell_type": "code",
      "execution_count": 1,
      "metadata": {
        "tags": []
      },
      "outputs": [],
      "source": [
        "#{{<video https://youtu.be/playlist?list=PLQqh36zP38-zoOHd7w3N5q9Jc5P34Ux8X&si=MdJTHM3a27MCAssp >}}"
      ],
      "id": "4685c071-46e9-4bcb-84a7-ece876eb4654"
    },
    {
      "cell_type": "markdown",
      "metadata": {},
      "source": [
        "# 2. Imports"
      ],
      "id": "c4ee89b0-a860-475e-9a5f-1110b865626d"
    },
    {
      "cell_type": "code",
      "execution_count": 2,
      "metadata": {
        "tags": []
      },
      "outputs": [],
      "source": [
        "import numpy as np"
      ],
      "id": "da124c05-12c5-4e50-b7c2-c7156427cc82"
    },
    {
      "cell_type": "markdown",
      "metadata": {},
      "source": [
        "# 3. 강화학습 Intro\n",
        "\n",
        "`-` 강화학습(대충설명): 어떠한 “(게임)환경”이 있을때 거기서 “뭘 할지”를\n",
        "학습하는 과업\n",
        "\n",
        "`-` 딥마인드: breakout $\\to$ 알파고\n",
        "\n",
        "-   <https://www.youtube.com/watch?v=TmPfTpjtdgg>\n",
        "\n",
        "`-` 강화학습 미래? (이거 잘하면 먹고 살 수 있을까?)\n",
        "\n",
        "# 4. Game1: `Bandit` 게임\n",
        "\n",
        "## A. 게임설명 및 원시코드\n",
        "\n",
        "`-` 문제설명: 두 개의 버튼이 있다. `버튼0`을 누르면 1의 보상을,\n",
        "`버튼1`을 누르면 10의 보상을 준다고 가정\n",
        "\n",
        "`-` 처음에 어떤 행동을 해야 하는가?\n",
        "\n",
        "-   처음에는 아는게 없음\n",
        "-   일단 “아무거나” 눌러보자.\n",
        "\n",
        "`-` 버튼을 아무거나 누르는 코드를 작성해보자.\n",
        "\n",
        "> `action_space` 와 `action` 이라는 용어를 기억할 것\n",
        "\n",
        "`-` 버튼을 누른 행위에 따른 보상을 구현하자.\n",
        "\n",
        "> `reward`라는 용어를 기억할 것\n",
        "\n",
        "`-` 아무버튼이나 10번정도 눌러보면서 데이터를 쌓아보자.\n",
        "\n",
        "`-` 깨달았음: `버튼0`을 누르면 1점을 받고, `버튼1`을 누르면 10점을 받는\n",
        "“환경(environment)”이구나? $\\to$ `버튼1`을 누르는 “동작(=action)”을\n",
        "해야하는 상황이구나?\n",
        "\n",
        "-   여기에서 $\\to$의 과정을 체계화 시킨 학문이 강화학습\n",
        "\n",
        "> `environment`라는 용어를 기억할 것\n",
        "\n",
        "-   게임 클리어\n",
        "\n",
        "`-` 강화학습: 환경(environment)을 이해 $\\to$ 에이전트(agent)가\n",
        "행동(action)을 결정\n",
        "\n",
        "> `agent`라는 용어를 기억할 것\n",
        "\n",
        "***위의 과정이 잘 되었다는 의미로 사용하는 문장들***\n",
        "\n",
        "-   강화학습이 성공적으로 잘 되었다.\n",
        "-   에이전트가 환경의 과제를 완료했다.\n",
        "-   에이전트가 환경에서 성공적으로 학습했다.\n",
        "-   에이전트가 올바른 행동을 학습했다.\n",
        "-   게임 클리어 (비공식)\n",
        "\n",
        "`-` 게임이 클리어 되었다는 것을 의미하는 지표를 정하고 싶다.\n",
        "\n",
        "-   첫 생각: `버튼1`을 누르는 순간 게임클리어로 보면 되지 않나?\n",
        "-   두번째 생각: 아니지? 우연히 누를수도 있잖아?\n",
        "-   게임클리어조건: (1) 20번은 그냥 진행 (2) 최근 20번의 보상의 평균이\n",
        "    95점 이상이면 게임이 클리어 되었다고 생각하자.[1]\n",
        "\n",
        "`-` 원시코드1: 환경을 이해하지 못한 에이전트 – 게임을 클리어할 수 없다.\n",
        "\n",
        "`-` 원시코드2: 환경을 깨달은 에이전트 – 게임클리어\n",
        "\n",
        "## B. 수정1: `Env` 구현\n",
        "\n",
        "`-` `Bandit` 클래스 선언 + `.step()` 구현\n",
        "\n",
        "## C. 수정2: `Agent` 구현 (인간지능)\n",
        "\n",
        "`-` Agent 클래스 설계\n",
        "\n",
        "-   액션을 하고, 본인의 행동과 환경에서 받은 reward를 기억\n",
        "-   `.act()`함수와 `.save_experience()`함수 구현\n",
        "\n",
        "— 대충 아래와 같은 느낌으로 코드가 돌아가요 —\n",
        "\n",
        "**시점0**: init\n",
        "\n",
        "[1] `버튼1`을 눌러야 하는건 맞지만 몇번의 실수는 눈감아 주자는 의미"
      ],
      "id": "96ad35a8-2e57-40b1-853d-010bf5457c0c"
    },
    {
      "cell_type": "code",
      "execution_count": 137,
      "metadata": {
        "tags": []
      },
      "outputs": [],
      "source": [
        "env = Bandit()\n",
        "agent = Agent() "
      ],
      "id": "6ee01a47-2ecc-41c9-9344-419f06f89d09"
    },
    {
      "cell_type": "code",
      "execution_count": 138,
      "metadata": {
        "tags": []
      },
      "outputs": [],
      "source": [
        "agent.action, agent.reward"
      ],
      "id": "43397ed8-1846-4db8-85e5-feab67bb12f1"
    },
    {
      "cell_type": "markdown",
      "metadata": {},
      "source": [
        "**시점1**: agent \\>\\> env"
      ],
      "id": "f29b4eae-a9d1-480f-9457-c8f2ba700273"
    },
    {
      "cell_type": "code",
      "execution_count": 139,
      "metadata": {
        "tags": []
      },
      "outputs": [],
      "source": [
        "agent.act()"
      ],
      "id": "94b910e3-9d0d-4e32-bfe4-1ea5bc7a537b"
    },
    {
      "cell_type": "code",
      "execution_count": 140,
      "metadata": {
        "tags": []
      },
      "outputs": [],
      "source": [
        "agent.action, agent.reward"
      ],
      "id": "88ca0c67-6c67-461b-adad-5781c23e366a"
    },
    {
      "cell_type": "code",
      "execution_count": 141,
      "metadata": {
        "tags": []
      },
      "outputs": [],
      "source": [
        "env.agent_action = agent.action"
      ],
      "id": "390746fe-70f2-42ff-97e7-02872bf725fe"
    },
    {
      "cell_type": "markdown",
      "metadata": {},
      "source": [
        "**시점2**: agent \\<\\< env"
      ],
      "id": "7922d353-ad2f-486e-9845-632dc8f37b27"
    },
    {
      "cell_type": "code",
      "execution_count": 142,
      "metadata": {
        "tags": []
      },
      "outputs": [],
      "source": [
        "agent.reward = env.step(env.agent_action)"
      ],
      "id": "0c06f08a-96f0-454f-bb0e-76f3b80650a0"
    },
    {
      "cell_type": "code",
      "execution_count": 143,
      "metadata": {
        "tags": []
      },
      "outputs": [],
      "source": [
        "agent.action, agent.reward, env.agent_action"
      ],
      "id": "92121832-fc74-40ca-885b-1b7ebbc0b2ef"
    },
    {
      "cell_type": "code",
      "execution_count": 144,
      "metadata": {
        "tags": []
      },
      "outputs": [],
      "source": [
        "agent.actions,agent.rewards"
      ],
      "id": "5de5658f-352b-4080-a452-c7b9ceb32181"
    },
    {
      "cell_type": "code",
      "execution_count": 145,
      "metadata": {
        "tags": []
      },
      "outputs": [],
      "source": [
        "agent.save_experience()"
      ],
      "id": "5e3ea513-38ff-42a0-b298-c2b17347e30c"
    },
    {
      "cell_type": "code",
      "execution_count": 146,
      "metadata": {
        "tags": []
      },
      "outputs": [],
      "source": [
        "agent.actions,agent.rewards"
      ],
      "id": "89f2ead3-14ff-4db7-91b7-e7444900a2ae"
    },
    {
      "cell_type": "markdown",
      "metadata": {},
      "source": [
        "– 전체코드 –\n",
        "\n",
        "## D. 수정3: `Agent` 구현 (인공지능)\n",
        "\n",
        "`-` 지금까지 풀이의 한계\n",
        "\n",
        "-   사실 강화학습은 “환경을 이해 $\\to$ 행동을 결정” 의 과정에서\n",
        "    “$\\to$”의 과정을 수식화 한 것이다.\n",
        "-   그런데 지금까지 했던 코드는 환경(environment)를 이해하는 순간\n",
        "    에이전트(agent)가 최적의 행동(action)[1]을 **“직관적으로”**\n",
        "    결정하였으므로 기계가 스스로 학습을 했다고 볼 수 없다.\n",
        "\n",
        "`-` 에이전트가 데이터를 보고 스스로 학습할 수 있도록 설계 – 부제:\n",
        "`agent.learn()`을 설계하자.\n",
        "\n",
        "1.  데이터를 모아서 `q_table` 를 만든다. `q_table`은 아래와 같은 내용을\n",
        "    포함한다.\n",
        "\n",
        "|      행동      | 보상(추정값) |\n",
        "|:--------------:|:------------:|\n",
        "| 버튼0 ($=a_0$) |  1 ($=q_0$)  |\n",
        "| 버튼1 ($=a_1$) | 100 ($=q_1$) |\n",
        "\n",
        "1.  `q_table`을 바탕으로 적절한 정책(=`policy`)을 설정한다.\n",
        "\n",
        "-   이 예제에서는 버튼0과 버튼1을 각각\n",
        "    $\\big(\\frac{q_0}{q_0+q_1},\\frac{q_1}{q_0+q_1}\\big)$ 의 확률로\n",
        "    선택하는 “정책”을 이용하면 충분할 듯\n",
        "\n",
        "> 여기에서 `q_table`, `policy`라는 용어를 기억하세요.\n",
        "\n",
        "`-` `q_table`을 계산하는 코드 예시\n",
        "\n",
        "[1] `버튼1`을 누른다"
      ],
      "id": "75b6977b-1c55-4d64-8852-78fd287eef6c"
    },
    {
      "cell_type": "code",
      "execution_count": null,
      "metadata": {
        "tags": []
      },
      "outputs": [],
      "source": [
        "agent.actions = [0, 1, 1,  0, 1,   0, 0] \n",
        "agent.rewards = [1, 9, 10, 1, 9.5, 1, 1.2] \n",
        "actions = np.array(agent.actions)\n",
        "rewards = np.array(agent.rewards)"
      ],
      "id": "f725954b-d1fa-47e9-ab79-46ec3a53eef2"
    },
    {
      "cell_type": "markdown",
      "metadata": {},
      "source": [
        "`-` 최종코드정리"
      ],
      "id": "af772ae4-8d09-4761-b78f-89747eefea57"
    }
  ],
  "nbformat": 4,
  "nbformat_minor": 5,
  "metadata": {
    "kernelspec": {
      "name": "python3",
      "display_name": "Python 3 (ipykernel)",
      "language": "python"
    },
    "language_info": {
      "name": "python",
      "codemirror_mode": {
        "name": "ipython",
        "version": "3"
      },
      "file_extension": ".py",
      "mimetype": "text/x-python",
      "nbconvert_exporter": "python",
      "pygments_lexer": "ipython3",
      "version": "3.11.8"
    }
  }
}