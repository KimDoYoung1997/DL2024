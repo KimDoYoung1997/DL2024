{
  "cells": [
    {
      "cell_type": "markdown",
      "metadata": {},
      "source": [
        "# 13wk-2: 강화학습 (1) – Bandit\n",
        "\n",
        "최규빈  \n",
        "2024-05-29\n",
        "\n",
        "<a href=\"https://colab.research.google.com/github/guebin/DL2024/blob/main/posts/13wk-2.ipynb\"><img src=\"https://colab.research.google.com/assets/colab-badge.svg\" style=\"text-align: left\"></a>\n",
        "\n",
        "# 1. 강의영상"
      ],
      "id": "a8e45bd8-74ee-45a8-885d-c2dce66a533b"
    },
    {
      "cell_type": "code",
      "execution_count": 1,
      "metadata": {
        "tags": []
      },
      "outputs": [],
      "source": [
        "#{{<video https://youtu.be/playlist?list=PLQqh36zP38-zoOHd7w3N5q9Jc5P34Ux8X&si=MdJTHM3a27MCAssp >}}"
      ],
      "id": "4685c071-46e9-4bcb-84a7-ece876eb4654"
    },
    {
      "cell_type": "markdown",
      "metadata": {},
      "source": [
        "# 2. Imports"
      ],
      "id": "593851ca-2009-43fa-ad7d-aaed2eb870a4"
    },
    {
      "cell_type": "code",
      "execution_count": 2,
      "metadata": {
        "tags": []
      },
      "outputs": [],
      "source": [
        "import numpy as np"
      ],
      "id": "da124c05-12c5-4e50-b7c2-c7156427cc82"
    },
    {
      "cell_type": "markdown",
      "metadata": {},
      "source": [
        "# 3. 강화학습 Intro\n",
        "\n",
        "`-` 강화학습(대충설명): 어떠한 “(게임)환경”이 있을때 거기서 “뭘 할지”를\n",
        "학습하는 과업\n",
        "\n",
        "`-` 딥마인드: breakout $\\to$ 알파고\n",
        "\n",
        "-   <https://www.youtube.com/watch?v=TmPfTpjtdgg>\n",
        "\n",
        "`-` 강화학습 미래? (이거 잘하면 먹고 살 수 있을까?)\n",
        "\n",
        "# 4. Game1: `Bandit` 게임\n",
        "\n",
        "## A. 게임설명 및 원시코드\n",
        "\n",
        "`-` 문제설명: 두 개의 버튼이 있다. `버튼0`을 누르면 1의 보상을,\n",
        "`버튼1`을 누르면 10의 보상을 준다고 가정\n",
        "\n",
        "`-` 처음에 어떤 행동을 해야 하는가?\n",
        "\n",
        "-   처음에는 아는게 없음\n",
        "-   일단 “아무거나” 눌러보자.\n",
        "\n",
        "`-` 버튼을 아무거나 누르는 코드를 작성해보자.\n",
        "\n",
        "> `action_space` 와 `action` 이라는 용어를 기억할 것\n",
        "\n",
        "`-` 버튼을 누른 행위에 따른 보상을 구현하자.\n",
        "\n",
        "> `reward`라는 용어를 기억할 것\n",
        "\n",
        "`-` 아무버튼이나 10번정도 눌러보면서 데이터를 쌓아보자."
      ],
      "id": "cd6f8446-6186-48d8-8fe8-c0f91a61ba7e"
    },
    {
      "cell_type": "code",
      "execution_count": 24,
      "metadata": {
        "tags": []
      },
      "outputs": [
        {
          "output_type": "stream",
          "name": "stdout",
          "text": [
            "action= 버튼0 reward= 1\n",
            "action= 버튼1 reward= 10\n",
            "action= 버튼0 reward= 1\n",
            "action= 버튼1 reward= 10\n",
            "action= 버튼1 reward= 10\n",
            "action= 버튼0 reward= 1\n",
            "action= 버튼1 reward= 10\n",
            "action= 버튼1 reward= 10\n",
            "action= 버튼0 reward= 1\n",
            "action= 버튼1 reward= 10"
          ]
        }
      ],
      "source": [
        "action_space = ['버튼0','버튼1']\n",
        "for _ in range(10):\n",
        "    action = np.random.choice(action_space)\n",
        "    reward = 1 if action==\"버튼0\" else 10\n",
        "    print(f\"action= {action}\\t\"\n",
        "          f\"reward= {reward}\")"
      ],
      "id": "ee5d69d3-b3f9-4ef3-a450-2a659a3acc0b"
    },
    {
      "cell_type": "markdown",
      "metadata": {},
      "source": [
        "`-` 깨달았음: `버튼0`을 누르면 1점을 받고, `버튼1`을 누르면 10점을 받는\n",
        "“환경(environment)”이구나? $\\to$ `버튼1`을 누르는 “동작(=action)”을\n",
        "해야하는 상황이구나?\n",
        "\n",
        "-   여기에서 $\\to$의 과정을 체계화 시킨 학문이 강화학습\n",
        "\n",
        "> `environment`라는 용어를 기억할 것"
      ],
      "id": "c7330a5c-6b95-4c8b-8f62-675bbb619d53"
    },
    {
      "cell_type": "code",
      "execution_count": 25,
      "metadata": {
        "tags": []
      },
      "outputs": [
        {
          "output_type": "stream",
          "name": "stdout",
          "text": [
            "action= 버튼1 reward= 10\n",
            "action= 버튼1 reward= 10\n",
            "action= 버튼1 reward= 10\n",
            "action= 버튼1 reward= 10\n",
            "action= 버튼1 reward= 10\n",
            "action= 버튼1 reward= 10\n",
            "action= 버튼1 reward= 10\n",
            "action= 버튼1 reward= 10\n",
            "action= 버튼1 reward= 10\n",
            "action= 버튼1 reward= 10"
          ]
        }
      ],
      "source": [
        "action_space = ['버튼0','버튼1']\n",
        "for _ in range(10):\n",
        "    action = \"버튼1\"\n",
        "    reward = 1 if action==\"버튼0\" else 10\n",
        "    print(f\"action= {action}\\t\"\n",
        "          f\"reward= {reward}\")"
      ],
      "id": "490cdb80-7d34-4b5e-944a-8b77d56cd669"
    },
    {
      "cell_type": "markdown",
      "metadata": {},
      "source": [
        "-   게임 클리어\n",
        "\n",
        "`-` 강화학습: 환경(environment)을 이해 $\\to$ 에이전트(agent)가\n",
        "행동(action)을 결정\n",
        "\n",
        "> `agent`라는 용어를 기억할 것\n",
        "\n",
        "***위의 과정이 잘 되었다는 의미로 사용하는 문장들***\n",
        "\n",
        "-   강화학습이 성공적으로 잘 되었다.\n",
        "-   에이전트가 환경의 과제를 완료했다.\n",
        "-   에이전트가 환경에서 성공적으로 학습했다.\n",
        "-   에이전트가 올바른 행동을 학습했다.\n",
        "-   게임 클리어 (비공식)\n",
        "\n",
        "`-` 게임이 클리어 되었다는 것을 의미하는 지표를 정하고 싶다.\n",
        "\n",
        "-   첫 생각: `버튼1`을 누르는 순간 게임클리어로 보면 되지 않나?\n",
        "-   두번째 생각: 아니지? 우연히 누를수도 있잖아?\n",
        "-   게임클리어조건: (1) 20번은 그냥 진행 (2) 최근 20번의 보상의 평균이\n",
        "    9.5점 이상이면 게임이 클리어 되었다고 생각하자.[1]\n",
        "\n",
        "`-` 원시코드1: 환경을 이해하지 못한 에이전트 – 게임을 클리어할 수 없다.\n",
        "\n",
        "[1] `버튼1`을 눌러야 하는건 맞지만 몇번의 실수는 눈감아 주자는 의미"
      ],
      "id": "3fee5964-b8b5-4653-82c6-ad06fdea061f"
    },
    {
      "cell_type": "code",
      "execution_count": 32,
      "metadata": {
        "tags": []
      },
      "outputs": [
        {
          "output_type": "stream",
          "name": "stdout",
          "text": [
            "t = 1   action= 버튼0 reward= 1   mean(recent_rewards)= 1.0000    \n",
            "t = 2   action= 버튼0 reward= 1   mean(recent_rewards)= 1.0000    \n",
            "t = 3   action= 버튼1 reward= 10  mean(recent_rewards)= 4.0000    \n",
            "t = 4   action= 버튼0 reward= 1   mean(recent_rewards)= 3.2500    \n",
            "t = 5   action= 버튼1 reward= 10  mean(recent_rewards)= 4.6000    \n",
            "t = 6   action= 버튼1 reward= 10  mean(recent_rewards)= 5.5000    \n",
            "t = 7   action= 버튼0 reward= 1   mean(recent_rewards)= 4.8571    \n",
            "t = 8   action= 버튼0 reward= 1   mean(recent_rewards)= 4.3750    \n",
            "t = 9   action= 버튼0 reward= 1   mean(recent_rewards)= 4.0000    \n",
            "t = 10  action= 버튼1 reward= 10  mean(recent_rewards)= 4.6000    \n",
            "t = 11  action= 버튼1 reward= 10  mean(recent_rewards)= 5.0909    \n",
            "t = 12  action= 버튼1 reward= 10  mean(recent_rewards)= 5.5000    \n",
            "t = 13  action= 버튼1 reward= 10  mean(recent_rewards)= 5.8462    \n",
            "t = 14  action= 버튼1 reward= 10  mean(recent_rewards)= 6.1429    \n",
            "t = 15  action= 버튼0 reward= 1   mean(recent_rewards)= 5.8000    \n",
            "t = 16  action= 버튼1 reward= 10  mean(recent_rewards)= 6.0625    \n",
            "t = 17  action= 버튼0 reward= 1   mean(recent_rewards)= 5.7647    \n",
            "t = 18  action= 버튼1 reward= 10  mean(recent_rewards)= 6.0000    \n",
            "t = 19  action= 버튼0 reward= 1   mean(recent_rewards)= 5.7368    \n",
            "t = 20  action= 버튼1 reward= 10  mean(recent_rewards)= 5.9500    \n",
            "--\n",
            "t = 21  action= 버튼0 reward= 1   mean(recent_rewards)= 5.9500    \n",
            "t = 22  action= 버튼0 reward= 1   mean(recent_rewards)= 5.9500    \n",
            "t = 23  action= 버튼0 reward= 1   mean(recent_rewards)= 5.5000    \n",
            "t = 24  action= 버튼0 reward= 1   mean(recent_rewards)= 5.5000    \n",
            "t = 25  action= 버튼1 reward= 10  mean(recent_rewards)= 5.5000    \n",
            "t = 26  action= 버튼0 reward= 1   mean(recent_rewards)= 5.0500    \n",
            "t = 27  action= 버튼0 reward= 1   mean(recent_rewards)= 5.0500    \n",
            "t = 28  action= 버튼1 reward= 10  mean(recent_rewards)= 5.5000    \n",
            "t = 29  action= 버튼1 reward= 10  mean(recent_rewards)= 5.9500    \n",
            "t = 30  action= 버튼1 reward= 10  mean(recent_rewards)= 5.9500    \n",
            "t = 31  action= 버튼0 reward= 1   mean(recent_rewards)= 5.5000    \n",
            "t = 32  action= 버튼1 reward= 10  mean(recent_rewards)= 5.5000    \n",
            "t = 33  action= 버튼0 reward= 1   mean(recent_rewards)= 5.0500    \n",
            "t = 34  action= 버튼0 reward= 1   mean(recent_rewards)= 4.6000    \n",
            "t = 35  action= 버튼0 reward= 1   mean(recent_rewards)= 4.6000    \n",
            "t = 36  action= 버튼1 reward= 10  mean(recent_rewards)= 4.6000    \n",
            "t = 37  action= 버튼0 reward= 1   mean(recent_rewards)= 4.6000    \n",
            "t = 38  action= 버튼0 reward= 1   mean(recent_rewards)= 4.1500    \n",
            "t = 39  action= 버튼1 reward= 10  mean(recent_rewards)= 4.6000    \n",
            "t = 40  action= 버튼0 reward= 1   mean(recent_rewards)= 4.1500    \n",
            "t = 41  action= 버튼0 reward= 1   mean(recent_rewards)= 4.1500    \n",
            "t = 42  action= 버튼0 reward= 1   mean(recent_rewards)= 4.1500    \n",
            "t = 43  action= 버튼1 reward= 10  mean(recent_rewards)= 4.6000    \n",
            "t = 44  action= 버튼1 reward= 10  mean(recent_rewards)= 5.0500    \n",
            "t = 45  action= 버튼0 reward= 1   mean(recent_rewards)= 4.6000    \n",
            "t = 46  action= 버튼0 reward= 1   mean(recent_rewards)= 4.6000    \n",
            "t = 47  action= 버튼1 reward= 10  mean(recent_rewards)= 5.0500    \n",
            "t = 48  action= 버튼1 reward= 10  mean(recent_rewards)= 5.0500    \n",
            "t = 49  action= 버튼1 reward= 10  mean(recent_rewards)= 5.0500    \n",
            "t = 50  action= 버튼1 reward= 10  mean(recent_rewards)= 5.0500    "
          ]
        }
      ],
      "source": [
        "action_space = ['버튼0','버튼1']\n",
        "actions = []\n",
        "rewards = []\n",
        "for t in range(1,51):\n",
        "    action = np.random.choice(action_space)\n",
        "    actions.append(action)\n",
        "    reward = 1 if action==\"버튼0\" else 10\n",
        "    rewards.append(reward)\n",
        "    #--#\n",
        "    print(\n",
        "        f\"t = {t}\\t\"\n",
        "        f\"action= {action}\\t\"\n",
        "        f\"reward= {reward}\\t\"\n",
        "        f\"mean(recent_rewards)= {np.mean(rewards[-20:]):.4f}\\t\"\n",
        "    )\n",
        "    if t<20:\n",
        "        pass\n",
        "    elif t==20:\n",
        "        print(\"--\")\n",
        "    else:\n",
        "        if np.mean(rewards[-20:])> 9.5:\n",
        "            print(\"Game Clear!!\")\n",
        "            break"
      ],
      "id": "42891a56-8fc9-4a26-873e-8ad83000415f"
    },
    {
      "cell_type": "markdown",
      "metadata": {},
      "source": [
        "`-` 원시코드2: 환경을 깨달은 에이전트 – 게임클리어"
      ],
      "id": "36c28e53-e192-455f-a976-24a0b2aca4f2"
    },
    {
      "cell_type": "code",
      "execution_count": 34,
      "metadata": {
        "tags": []
      },
      "outputs": [
        {
          "output_type": "stream",
          "name": "stdout",
          "text": [
            "t = 1   action= 버튼1 reward= 10  mean(recent_rewards)= 10.0000   \n",
            "t = 2   action= 버튼1 reward= 10  mean(recent_rewards)= 10.0000   \n",
            "t = 3   action= 버튼1 reward= 10  mean(recent_rewards)= 10.0000   \n",
            "t = 4   action= 버튼1 reward= 10  mean(recent_rewards)= 10.0000   \n",
            "t = 5   action= 버튼1 reward= 10  mean(recent_rewards)= 10.0000   \n",
            "t = 6   action= 버튼1 reward= 10  mean(recent_rewards)= 10.0000   \n",
            "t = 7   action= 버튼1 reward= 10  mean(recent_rewards)= 10.0000   \n",
            "t = 8   action= 버튼1 reward= 10  mean(recent_rewards)= 10.0000   \n",
            "t = 9   action= 버튼1 reward= 10  mean(recent_rewards)= 10.0000   \n",
            "t = 10  action= 버튼1 reward= 10  mean(recent_rewards)= 10.0000   \n",
            "t = 11  action= 버튼1 reward= 10  mean(recent_rewards)= 10.0000   \n",
            "t = 12  action= 버튼1 reward= 10  mean(recent_rewards)= 10.0000   \n",
            "t = 13  action= 버튼1 reward= 10  mean(recent_rewards)= 10.0000   \n",
            "t = 14  action= 버튼1 reward= 10  mean(recent_rewards)= 10.0000   \n",
            "t = 15  action= 버튼1 reward= 10  mean(recent_rewards)= 10.0000   \n",
            "t = 16  action= 버튼1 reward= 10  mean(recent_rewards)= 10.0000   \n",
            "t = 17  action= 버튼1 reward= 10  mean(recent_rewards)= 10.0000   \n",
            "t = 18  action= 버튼1 reward= 10  mean(recent_rewards)= 10.0000   \n",
            "t = 19  action= 버튼1 reward= 10  mean(recent_rewards)= 10.0000   \n",
            "t = 20  action= 버튼1 reward= 10  mean(recent_rewards)= 10.0000   \n",
            "--\n",
            "t = 21  action= 버튼1 reward= 10  mean(recent_rewards)= 10.0000   \n",
            "Game Clear!!"
          ]
        }
      ],
      "source": [
        "action_space = ['버튼0','버튼1']\n",
        "actions = []\n",
        "rewards = []\n",
        "for t in range(1,51):\n",
        "    action = \"버튼1\"\n",
        "    actions.append(action)\n",
        "    reward = 1 if action==\"버튼0\" else 10\n",
        "    rewards.append(reward)\n",
        "    #--#\n",
        "    print(\n",
        "        f\"t = {t}\\t\"\n",
        "        f\"action= {action}\\t\"\n",
        "        f\"reward= {reward}\\t\"\n",
        "        f\"mean(recent_rewards)= {np.mean(rewards[-20:]):.4f}\\t\"\n",
        "    )\n",
        "    if t<20:\n",
        "        pass\n",
        "    elif t==20:\n",
        "        print(\"--\")\n",
        "    else:\n",
        "        if np.mean(rewards[-20:])> 9.5:\n",
        "            print(\"Game Clear!!\")\n",
        "            break"
      ],
      "id": "9ca2f857-efa5-4246-b527-f814c6a15695"
    },
    {
      "cell_type": "markdown",
      "metadata": {},
      "source": [
        "## B. 수정1: `Env` 구현\n",
        "\n",
        "`-` `Bandit` 클래스 선언 + `.step()` 구현"
      ],
      "id": "7e9dfd7f-f83c-4fae-839a-082ab3e1aa7e"
    },
    {
      "cell_type": "code",
      "execution_count": 63,
      "metadata": {
        "tags": []
      },
      "outputs": [],
      "source": [
        "class Bandit:\n",
        "    def step(self,agent_action):\n",
        "        reward = 1 if agent_action == 0 else 10\n",
        "        return reward"
      ],
      "id": "9560cef1-6b08-43a4-8dd9-65e6992326bd"
    },
    {
      "cell_type": "code",
      "execution_count": 38,
      "metadata": {
        "tags": []
      },
      "outputs": [
        {
          "output_type": "stream",
          "name": "stdout",
          "text": [
            "t = 1   action= 0   reward= 1   mean(recent_rewards)= 1.0000    \n",
            "t = 2   action= 1   reward= 10  mean(recent_rewards)= 5.5000    \n",
            "t = 3   action= 1   reward= 10  mean(recent_rewards)= 7.0000    \n",
            "t = 4   action= 1   reward= 10  mean(recent_rewards)= 7.7500    \n",
            "t = 5   action= 0   reward= 1   mean(recent_rewards)= 6.4000    \n",
            "t = 6   action= 0   reward= 1   mean(recent_rewards)= 5.5000    \n",
            "t = 7   action= 0   reward= 1   mean(recent_rewards)= 4.8571    \n",
            "t = 8   action= 0   reward= 1   mean(recent_rewards)= 4.3750    \n",
            "t = 9   action= 1   reward= 10  mean(recent_rewards)= 5.0000    \n",
            "t = 10  action= 0   reward= 1   mean(recent_rewards)= 4.6000    \n",
            "t = 11  action= 0   reward= 1   mean(recent_rewards)= 4.2727    \n",
            "t = 12  action= 0   reward= 1   mean(recent_rewards)= 4.0000    \n",
            "t = 13  action= 1   reward= 10  mean(recent_rewards)= 4.4615    \n",
            "t = 14  action= 1   reward= 10  mean(recent_rewards)= 4.8571    \n",
            "t = 15  action= 1   reward= 10  mean(recent_rewards)= 5.2000    \n",
            "t = 16  action= 1   reward= 10  mean(recent_rewards)= 5.5000    \n",
            "t = 17  action= 1   reward= 10  mean(recent_rewards)= 5.7647    \n",
            "t = 18  action= 0   reward= 1   mean(recent_rewards)= 5.5000    \n",
            "t = 19  action= 1   reward= 10  mean(recent_rewards)= 5.7368    \n",
            "t = 20  action= 0   reward= 1   mean(recent_rewards)= 5.5000    \n",
            "--\n",
            "t = 21  action= 0   reward= 1   mean(recent_rewards)= 5.5000    \n",
            "t = 22  action= 1   reward= 10  mean(recent_rewards)= 5.5000    \n",
            "t = 23  action= 1   reward= 10  mean(recent_rewards)= 5.5000    \n",
            "t = 24  action= 1   reward= 10  mean(recent_rewards)= 5.5000    \n",
            "t = 25  action= 1   reward= 10  mean(recent_rewards)= 5.9500    \n",
            "t = 26  action= 0   reward= 1   mean(recent_rewards)= 5.9500    \n",
            "t = 27  action= 1   reward= 10  mean(recent_rewards)= 6.4000    \n",
            "t = 28  action= 0   reward= 1   mean(recent_rewards)= 6.4000    \n",
            "t = 29  action= 0   reward= 1   mean(recent_rewards)= 5.9500    \n",
            "t = 30  action= 0   reward= 1   mean(recent_rewards)= 5.9500    \n",
            "t = 31  action= 0   reward= 1   mean(recent_rewards)= 5.9500    \n",
            "t = 32  action= 0   reward= 1   mean(recent_rewards)= 5.9500    \n",
            "t = 33  action= 1   reward= 10  mean(recent_rewards)= 5.9500    \n",
            "t = 34  action= 1   reward= 10  mean(recent_rewards)= 5.9500    \n",
            "t = 35  action= 0   reward= 1   mean(recent_rewards)= 5.5000    \n",
            "t = 36  action= 1   reward= 10  mean(recent_rewards)= 5.5000    \n",
            "t = 37  action= 1   reward= 10  mean(recent_rewards)= 5.5000    \n",
            "t = 38  action= 1   reward= 10  mean(recent_rewards)= 5.9500    \n",
            "t = 39  action= 0   reward= 1   mean(recent_rewards)= 5.5000    \n",
            "t = 40  action= 1   reward= 10  mean(recent_rewards)= 5.9500    \n",
            "t = 41  action= 0   reward= 1   mean(recent_rewards)= 5.9500    \n",
            "t = 42  action= 0   reward= 1   mean(recent_rewards)= 5.5000    \n",
            "t = 43  action= 0   reward= 1   mean(recent_rewards)= 5.0500    \n",
            "t = 44  action= 1   reward= 10  mean(recent_rewards)= 5.0500    \n",
            "t = 45  action= 1   reward= 10  mean(recent_rewards)= 5.0500    \n",
            "t = 46  action= 0   reward= 1   mean(recent_rewards)= 5.0500    \n",
            "t = 47  action= 1   reward= 10  mean(recent_rewards)= 5.0500    \n",
            "t = 48  action= 0   reward= 1   mean(recent_rewards)= 5.0500    \n",
            "t = 49  action= 1   reward= 10  mean(recent_rewards)= 5.5000    \n",
            "t = 50  action= 0   reward= 1   mean(recent_rewards)= 5.5000    "
          ]
        }
      ],
      "source": [
        "action_space = [0,1]\n",
        "actions = []\n",
        "rewards = []\n",
        "env = Bandit()\n",
        "for t in range(1,51):\n",
        "    action = np.random.choice(action_space)\n",
        "    actions.append(action)\n",
        "    reward = env.step(action)\n",
        "    rewards.append(reward)\n",
        "    #--#\n",
        "    print(\n",
        "        f\"t = {t}\\t\"\n",
        "        f\"action= {action}\\t\"\n",
        "        f\"reward= {reward}\\t\"\n",
        "        f\"mean(recent_rewards)= {np.mean(rewards[-20:]):.4f}\\t\"\n",
        "    )\n",
        "    if t<20:\n",
        "        pass\n",
        "    elif t==20:\n",
        "        print(\"--\")\n",
        "    else:\n",
        "        if np.mean(rewards[-20:])> 9.5:\n",
        "            print(\"Game Clear!!\")\n",
        "            break"
      ],
      "id": "990da7ca-6725-4b80-b323-f4f4f3996c23"
    },
    {
      "cell_type": "markdown",
      "metadata": {},
      "source": [
        "## C. 수정2: `Agent` 구현 (인간지능)\n",
        "\n",
        "`-` Agent 클래스 설계\n",
        "\n",
        "-   액션을 하고, 본인의 행동과 환경에서 받은 reward를 기억\n",
        "-   `.act()`함수와 `.save_experience()`함수 구현"
      ],
      "id": "07ebea99-505f-445c-a9c2-311f50a44b18"
    },
    {
      "cell_type": "code",
      "execution_count": 53,
      "metadata": {
        "tags": []
      },
      "outputs": [],
      "source": [
        "class Agent:\n",
        "    def __init__(self):\n",
        "        self.action_space = [0,1]\n",
        "        self.action = None\n",
        "        self.actions = []\n",
        "        self.reward = None\n",
        "        self.rewards = []\n",
        "    def act(self):\n",
        "        prob = [0.5,0.5]\n",
        "        self.action = np.random.choice(self.action_space,p=prob)\n",
        "    def save_experience(self):\n",
        "        self.actions.append(action)\n",
        "        self.rewards.append(reward)"
      ],
      "id": "bca18160-7ca4-456c-91c8-ad226d68bd1d"
    },
    {
      "cell_type": "markdown",
      "metadata": {},
      "source": [
        "— 대충 아래와 같은 느낌으로 코드가 돌아가요 —\n",
        "\n",
        "**시점0**: init"
      ],
      "id": "3005ccbf-9c68-48cd-a3d6-2c5f7b7306fd"
    },
    {
      "cell_type": "code",
      "execution_count": 54,
      "metadata": {
        "tags": []
      },
      "outputs": [],
      "source": [
        "env = Bandit()\n",
        "agent = Agent() "
      ],
      "id": "6ee01a47-2ecc-41c9-9344-419f06f89d09"
    },
    {
      "cell_type": "code",
      "execution_count": 55,
      "metadata": {
        "tags": []
      },
      "outputs": [],
      "source": [
        "agent.action, agent.reward"
      ],
      "id": "43397ed8-1846-4db8-85e5-feab67bb12f1"
    },
    {
      "cell_type": "markdown",
      "metadata": {},
      "source": [
        "**시점1**: agent 가 acition을 선택"
      ],
      "id": "2395e2d1-3aa9-45e7-9411-ed87ba6e65ee"
    },
    {
      "cell_type": "code",
      "execution_count": 56,
      "metadata": {
        "tags": []
      },
      "outputs": [],
      "source": [
        "agent.act()"
      ],
      "id": "94b910e3-9d0d-4e32-bfe4-1ea5bc7a537b"
    },
    {
      "cell_type": "code",
      "execution_count": 57,
      "metadata": {
        "tags": []
      },
      "outputs": [],
      "source": [
        "agent.action, agent.reward"
      ],
      "id": "88ca0c67-6c67-461b-adad-5781c23e366a"
    },
    {
      "cell_type": "markdown",
      "metadata": {},
      "source": [
        "**시점2**: env가 agent에게 보상을 줌"
      ],
      "id": "3d3397bf-2e5e-41c5-9c2f-493aec48ee5f"
    },
    {
      "cell_type": "code",
      "execution_count": 58,
      "metadata": {
        "tags": []
      },
      "outputs": [],
      "source": [
        "agent.reward = env.step(agent.action)"
      ],
      "id": "0c06f08a-96f0-454f-bb0e-76f3b80650a0"
    },
    {
      "cell_type": "code",
      "execution_count": 59,
      "metadata": {
        "tags": []
      },
      "outputs": [],
      "source": [
        "agent.action, agent.reward"
      ],
      "id": "92121832-fc74-40ca-885b-1b7ebbc0b2ef"
    },
    {
      "cell_type": "code",
      "execution_count": 60,
      "metadata": {
        "tags": []
      },
      "outputs": [],
      "source": [
        "agent.actions,agent.rewards"
      ],
      "id": "5de5658f-352b-4080-a452-c7b9ceb32181"
    },
    {
      "cell_type": "markdown",
      "metadata": {},
      "source": [
        "**시점3**: 경험을 저장"
      ],
      "id": "52819a58-a383-4636-ade2-c84a88bd55fc"
    },
    {
      "cell_type": "code",
      "execution_count": 61,
      "metadata": {
        "tags": []
      },
      "outputs": [],
      "source": [
        "agent.save_experience()"
      ],
      "id": "5e3ea513-38ff-42a0-b298-c2b17347e30c"
    },
    {
      "cell_type": "code",
      "execution_count": 62,
      "metadata": {
        "tags": []
      },
      "outputs": [],
      "source": [
        "agent.actions,agent.rewards"
      ],
      "id": "89f2ead3-14ff-4db7-91b7-e7444900a2ae"
    },
    {
      "cell_type": "markdown",
      "metadata": {},
      "source": [
        "– 전체코드 –\n",
        "\n",
        "## D. 수정3: `Agent` 구현 (인공지능)\n",
        "\n",
        "`-` 지금까지 풀이의 한계\n",
        "\n",
        "-   사실 강화학습은 “환경을 이해 $\\to$ 행동을 결정” 의 과정에서\n",
        "    “$\\to$”의 과정을 수식화 한 것이다.\n",
        "-   그런데 지금까지 했던 코드는 환경(environment)를 이해하는 순간\n",
        "    에이전트(agent)가 최적의 행동(action)[1]을 **“직관적으로”**\n",
        "    결정하였으므로 기계가 스스로 학습을 했다고 볼 수 없다.\n",
        "\n",
        "`-` 에이전트가 데이터를 보고 스스로 학습할 수 있도록 설계 – 부제:\n",
        "`agent.learn()`을 설계하자.\n",
        "\n",
        "1.  데이터를 모아서 `q_table` 를 만든다. `q_table`은 아래와 같은 내용을\n",
        "    포함한다.\n",
        "\n",
        "|      행동      | 보상(추정값) |\n",
        "|:--------------:|:------------:|\n",
        "| 버튼0 ($=a_0$) |  1 ($=q_0$)  |\n",
        "| 버튼1 ($=a_1$) | 100 ($=q_1$) |\n",
        "\n",
        "1.  `q_table`을 바탕으로 적절한 정책(=`policy`)을 설정한다.\n",
        "\n",
        "-   이 예제에서는 버튼0과 버튼1을 각각\n",
        "    $\\big(\\frac{q_0}{q_0+q_1},\\frac{q_1}{q_0+q_1}\\big)$ 의 확률로\n",
        "    선택하는 “정책”을 이용하면 충분할 듯\n",
        "\n",
        "> 여기에서 `q_table`, `policy`라는 용어를 기억하세요.\n",
        "\n",
        "`-` `q_table`을 계산하는 코드 예시\n",
        "\n",
        "[1] `버튼1`을 누른다"
      ],
      "id": "599b70f9-4ed3-4eac-a999-9b1da0819729"
    },
    {
      "cell_type": "code",
      "execution_count": 64,
      "metadata": {
        "tags": []
      },
      "outputs": [],
      "source": [
        "agent.actions = [0, 1, 1,  0, 1,   0, 0] \n",
        "agent.rewards = [1, 9, 10, 1, 9.5, 1, 1.2] \n",
        "actions = np.array(agent.actions)\n",
        "rewards = np.array(agent.rewards)"
      ],
      "id": "f725954b-d1fa-47e9-ab79-46ec3a53eef2"
    },
    {
      "cell_type": "code",
      "execution_count": 73,
      "metadata": {
        "tags": []
      },
      "outputs": [],
      "source": [
        "q0,q1 = rewards[actions == 0].mean(), rewards[actions == 1].mean()"
      ],
      "id": "4647d67a-5086-4f46-a388-65724312b3d5"
    },
    {
      "cell_type": "code",
      "execution_count": 75,
      "metadata": {
        "tags": []
      },
      "outputs": [],
      "source": [
        "q_table = np.array([q0,q1])\n",
        "q_table"
      ],
      "id": "e1f867a6-3e0a-40a2-a950-4dc5b67c5f6b"
    },
    {
      "cell_type": "code",
      "execution_count": 77,
      "metadata": {
        "tags": []
      },
      "outputs": [],
      "source": [
        "prob = q_table/q_table.sum()\n",
        "prob"
      ],
      "id": "c0cc4d00-61c9-4cf1-b92c-ea70e3a1bed4"
    },
    {
      "cell_type": "markdown",
      "metadata": {},
      "source": [
        "`-` 최종코드정리"
      ],
      "id": "3672f805-f0c2-4523-8c28-f7ce6176e916"
    },
    {
      "cell_type": "code",
      "execution_count": 85,
      "metadata": {
        "tags": []
      },
      "outputs": [],
      "source": [
        "class Agent:\n",
        "    def __init__(self):\n",
        "        self.action_space = [0,1]\n",
        "        self.action = None\n",
        "        self.actions = []\n",
        "        self.reward = None\n",
        "        self.rewards = []\n",
        "        self.n_experience = 0\n",
        "        self.q_table = None\n",
        "    def act(self):\n",
        "        if self.n_experience < 20:\n",
        "            prob = [0.5,0.5]\n",
        "        else: \n",
        "            prob = self.q_table/self.q_table.sum()\n",
        "        self.action = np.random.choice(self.action_space,p=prob)\n",
        "    def save_experience(self):\n",
        "        self.actions.append(self.action)\n",
        "        self.rewards.append(self.reward)\n",
        "        self.n_experience = self.n_experience +1\n",
        "    def learn(self):\n",
        "        if self.n_experience < 20:\n",
        "            pass\n",
        "        else:\n",
        "            actions = np.array(self.actions)\n",
        "            rewards = np.array(self.rewards)\n",
        "            q0,q1 = rewards[actions == 0].mean(), rewards[actions == 1].mean()\n",
        "            self.q_table = np.array([q0,q1])"
      ],
      "id": "b4fef197-6ec6-45a3-8292-1d4f7dcaa3dc"
    },
    {
      "cell_type": "code",
      "execution_count": 94,
      "metadata": {
        "tags": []
      },
      "outputs": [
        {
          "output_type": "stream",
          "name": "stdout",
          "text": [
            "t = 1   action= 0   reward= 1   mean(recent_rewards)= 1.0000    \n",
            "t = 2   action= 0   reward= 1   mean(recent_rewards)= 1.0000    \n",
            "t = 3   action= 1   reward= 10  mean(recent_rewards)= 4.0000    \n",
            "t = 4   action= 0   reward= 1   mean(recent_rewards)= 3.2500    \n",
            "t = 5   action= 0   reward= 1   mean(recent_rewards)= 2.8000    \n",
            "t = 6   action= 1   reward= 10  mean(recent_rewards)= 4.0000    \n",
            "t = 7   action= 1   reward= 10  mean(recent_rewards)= 4.8571    \n",
            "t = 8   action= 1   reward= 10  mean(recent_rewards)= 5.5000    \n",
            "t = 9   action= 0   reward= 1   mean(recent_rewards)= 5.0000    \n",
            "t = 10  action= 0   reward= 1   mean(recent_rewards)= 4.6000    \n",
            "t = 11  action= 0   reward= 1   mean(recent_rewards)= 4.2727    \n",
            "t = 12  action= 0   reward= 1   mean(recent_rewards)= 4.0000    \n",
            "t = 13  action= 1   reward= 10  mean(recent_rewards)= 4.4615    \n",
            "t = 14  action= 0   reward= 1   mean(recent_rewards)= 4.2143    \n",
            "t = 15  action= 1   reward= 10  mean(recent_rewards)= 4.6000    \n",
            "t = 16  action= 0   reward= 1   mean(recent_rewards)= 4.3750    \n",
            "t = 17  action= 0   reward= 1   mean(recent_rewards)= 4.1765    \n",
            "t = 18  action= 0   reward= 1   mean(recent_rewards)= 4.0000    \n",
            "t = 19  action= 1   reward= 10  mean(recent_rewards)= 4.3158    \n",
            "t = 20  action= 0   reward= 1   mean(recent_rewards)= 4.1500    \n",
            "--\n",
            "t = 21  action= 0   reward= 1   mean(recent_rewards)= 4.1500    \n",
            "t = 22  action= 1   reward= 10  mean(recent_rewards)= 4.6000    \n",
            "t = 23  action= 1   reward= 10  mean(recent_rewards)= 4.6000    \n",
            "t = 24  action= 1   reward= 10  mean(recent_rewards)= 5.0500    \n",
            "t = 25  action= 1   reward= 10  mean(recent_rewards)= 5.5000    \n",
            "t = 26  action= 1   reward= 10  mean(recent_rewards)= 5.5000    \n",
            "t = 27  action= 1   reward= 10  mean(recent_rewards)= 5.5000    \n",
            "t = 28  action= 1   reward= 10  mean(recent_rewards)= 5.5000    \n",
            "t = 29  action= 1   reward= 10  mean(recent_rewards)= 5.9500    \n",
            "t = 30  action= 1   reward= 10  mean(recent_rewards)= 6.4000    \n",
            "t = 31  action= 1   reward= 10  mean(recent_rewards)= 6.8500    \n",
            "t = 32  action= 1   reward= 10  mean(recent_rewards)= 7.3000    \n",
            "t = 33  action= 1   reward= 10  mean(recent_rewards)= 7.3000    \n",
            "t = 34  action= 1   reward= 10  mean(recent_rewards)= 7.7500    \n",
            "t = 35  action= 1   reward= 10  mean(recent_rewards)= 7.7500    \n",
            "t = 36  action= 1   reward= 10  mean(recent_rewards)= 8.2000    \n",
            "t = 37  action= 1   reward= 10  mean(recent_rewards)= 8.6500    \n",
            "t = 38  action= 1   reward= 10  mean(recent_rewards)= 9.1000    \n",
            "t = 39  action= 1   reward= 10  mean(recent_rewards)= 9.1000    \n",
            "t = 40  action= 1   reward= 10  mean(recent_rewards)= 9.5500    \n",
            "Game Clear!!"
          ]
        }
      ],
      "source": [
        "env = Bandit()\n",
        "agent = Agent()\n",
        "for t in range(1,51):\n",
        "    agent.act()\n",
        "    agent.reward = env.step(agent.action)\n",
        "    agent.save_experience()\n",
        "    agent.learn()\n",
        "    #--#\n",
        "    print(\n",
        "        f\"t = {t}\\t\"\n",
        "        f\"action= {agent.action}\\t\"\n",
        "        f\"reward= {agent.reward}\\t\"\n",
        "        f\"mean(recent_rewards)= {np.mean(agent.rewards[-20:]):.4f}\\t\"\n",
        "    )\n",
        "    if t<20:\n",
        "        pass\n",
        "    elif t==20:\n",
        "        print(\"--\")\n",
        "    else:\n",
        "        if np.mean(agent.rewards[-20:])> 9.5:\n",
        "            print(\"Game Clear!!\")\n",
        "            break"
      ],
      "id": "245e7f6d-2587-4d4d-aedb-9231e9df6696"
    }
  ],
  "nbformat": 4,
  "nbformat_minor": 5,
  "metadata": {
    "kernelspec": {
      "name": "python3",
      "display_name": "Python 3 (ipykernel)",
      "language": "python"
    },
    "language_info": {
      "name": "python",
      "codemirror_mode": {
        "name": "ipython",
        "version": "3"
      },
      "file_extension": ".py",
      "mimetype": "text/x-python",
      "nbconvert_exporter": "python",
      "pygments_lexer": "ipython3",
      "version": "3.11.8"
    }
  }
}