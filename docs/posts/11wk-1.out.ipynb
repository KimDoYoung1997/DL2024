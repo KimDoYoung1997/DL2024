{
  "cells": [
    {
      "cell_type": "markdown",
      "metadata": {},
      "source": [
        "# 11wk-1: 추천시스템 (2) – Embedding 레이어, 사용자정의 네트워크,\n",
        "\n",
        "NN-based 추천시스템\n",
        "\n",
        "최규빈  \n",
        "2024-05-14\n",
        "\n",
        "<a href=\"https://colab.research.google.com/github/guebin/DL2024/blob/main/posts/11wk-1.ipynb\"><img src=\"https://colab.research.google.com/assets/colab-badge.svg\" style=\"text-align: left\"></a>\n",
        "\n",
        "# 1. 강의영상\n",
        "\n",
        "<https://youtu.be/playlist?list=PLQqh36zP38-xl7f2bcPTKMVCe3kHM380M&si=5SO7pni3fXX4kK-4>\n",
        "\n",
        "# 2. Imports"
      ],
      "id": "767d16da-3cae-4e87-8961-48ad3dbd0124"
    },
    {
      "cell_type": "code",
      "execution_count": 1,
      "metadata": {
        "tags": []
      },
      "outputs": [],
      "source": [
        "import torch\n",
        "import pandas as pd\n",
        "import matplotlib.pyplot as plt"
      ],
      "id": "4dab14d4-fa0a-4be1-a9eb-3f25a4ed1150"
    },
    {
      "cell_type": "markdown",
      "metadata": {},
      "source": [
        "# 3. `torch.nn.Embedding`\n",
        "\n",
        "## A. 임베딩레이어\n",
        "\n",
        "`-` 모티브: `torch.nn.functional.one_hot` + `torch.nn.Linear` 를 매번\n",
        "쓰는건 너무 귀찮지 않어?"
      ],
      "id": "35fe812c-60ed-44f0-afaf-5edd734f9f3c"
    },
    {
      "cell_type": "code",
      "execution_count": 72,
      "metadata": {
        "tags": []
      },
      "outputs": [],
      "source": [
        "torch.manual_seed(43052)\n",
        "#x = ['옥순','영숙','하니']\n",
        "x = torch.tensor([0,1,2,0,1])\n",
        "E = torch.nn.functional.one_hot(x).float()\n",
        "linr = torch.nn.Linear(3,1,bias=False) \n",
        "lf = linr(E)\n",
        "lf"
      ],
      "id": "27b3df8e-5758-445d-93df-711714b18602"
    },
    {
      "cell_type": "markdown",
      "metadata": {},
      "source": [
        "`-` 코드를 뜯어보면.."
      ],
      "id": "887431d6-d3cc-474e-aefa-4d5a4c17fe16"
    },
    {
      "cell_type": "code",
      "execution_count": 73,
      "metadata": {
        "tags": []
      },
      "outputs": [],
      "source": [
        "linr.weight"
      ],
      "id": "f92bf6f0-bbe0-45ed-9666-6a59fd20e4e7"
    },
    {
      "cell_type": "markdown",
      "metadata": {},
      "source": [
        "-   ${\\boldsymbol x}= \\begin{bmatrix} 0 \\\\ 1 \\\\ 2 \\\\ 0 \\\\ 1 \\end{bmatrix} \\Longrightarrow {\\bf E}= \\begin{bmatrix} 1 & 0 & 0 \\\\ 0 & 1 & 0 \\\\ 0 & 0 & 1 \\\\ 1 & 0 & 0 \\\\ 0 & 1 & 0 \\end{bmatrix}$\n",
        "\n",
        "-   $\\text{linr}({\\bf E})= \\begin{bmatrix} 1 & 0 & 0 \\\\ 0 & 1 & 0 \\\\ 0 & 0 & 1 \\\\ 1 & 0 & 0 \\\\ 0 & 1 & 0 \\end{bmatrix}\\begin{bmatrix} -0.2002 \\\\ -0.4890 \\\\ 0.2081 \\end{bmatrix} = \\begin{bmatrix} -0.2002 \\\\ -0.4890 \\\\ 0.2081 \\\\ -0.2002 \\\\ -0.4890 \\end{bmatrix}$\n",
        "\n",
        "`-` `torch.nn.functional.one_hot` + `torch.nn.Linear` 를 함께처리해주는\n",
        "레이어 “embd” 존재"
      ],
      "id": "8dc3cbbc-0424-44ac-aed4-0600717dd609"
    },
    {
      "cell_type": "code",
      "execution_count": 101,
      "metadata": {
        "tags": []
      },
      "outputs": [],
      "source": [
        "torch.manual_seed(43052)\n",
        "ebdd = torch.nn.Embedding(3,1) \n",
        "ebdd(x)"
      ],
      "id": "5e993dff-ace1-46f3-b70c-3e93445bc014"
    },
    {
      "cell_type": "code",
      "execution_count": 102,
      "metadata": {
        "tags": []
      },
      "outputs": [],
      "source": [
        "ebdd.weight"
      ],
      "id": "90e0664b-8c87-4f14-bfcb-4850ea1ee0d3"
    },
    {
      "cell_type": "markdown",
      "metadata": {},
      "source": [
        "-   $\\text{ebdd}({\\boldsymbol x})= \\dots = \\begin{bmatrix} 1 & 0 & 0 \\\\ 0 & 1 & 0 \\\\ 0 & 0 & 1 \\\\ 1 & 0 & 0 \\\\ 0 & 1 & 0 \\end{bmatrix}\\begin{bmatrix} -0.8178 \\\\ -0.7052 \\\\ -0.5843 \\end{bmatrix} = \\begin{bmatrix} -0.8178 \\\\ -0.7052 \\\\ -0.5843 \\\\ -0.8178 \\\\ -0.7052 \\end{bmatrix}$\n",
        "\n",
        "-   우리가 이전에 구현했던 코드들과 정확하게 동일한 동작\n",
        "\n",
        "`-` 결론: 아래의 두개의 코드는 같다.\n",
        "\n",
        "``` python\n",
        "X = torch.tensor([0,1,2,0,1])\n",
        "\n",
        "## 코드1 \n",
        "linr = torch.nn.Linear(3,1) \n",
        "linr(torch.nn.functional.one_hot(X))\n",
        "\n",
        "## 코드2 \n",
        "ebdd = torch.nn.Embedding(3,1)\n",
        "ebdd(X) \n",
        "```\n",
        "\n",
        "`# 의문`: 그냥 원핫인코딩없이 바로 선형변환하면 안되나?"
      ],
      "id": "eda988a1-bd3d-420f-ae27-8ac4f8951948"
    },
    {
      "cell_type": "code",
      "execution_count": 95,
      "metadata": {
        "tags": []
      },
      "outputs": [],
      "source": [
        "x = torch.tensor([0,1,2,0,1])\n",
        "X = x.reshape(-1,1).float()\n",
        "x,X"
      ],
      "id": "80425748-2575-4418-9ec1-12c35afa9af3"
    },
    {
      "cell_type": "code",
      "execution_count": 96,
      "metadata": {
        "tags": []
      },
      "outputs": [],
      "source": [
        "torch.manual_seed(43052)\n",
        "l1 = torch.nn.Linear(1,1)\n",
        "l1(X)"
      ],
      "id": "6f23c789-ea69-4e87-b697-85f7f113dcf5"
    },
    {
      "cell_type": "code",
      "execution_count": 103,
      "metadata": {
        "tags": []
      },
      "outputs": [],
      "source": [
        "torch.manual_seed(43052)\n",
        "ebdd = torch.nn.Embedding(3,1) \n",
        "ebdd(x)"
      ],
      "id": "d61e3940-a2d7-49a0-841d-acb9a2f542cc"
    },
    {
      "cell_type": "markdown",
      "metadata": {},
      "source": [
        "결과적으로 0,1,2 를 다른숫자들로 맵핑한건 비슷해보이는데?\n",
        "\n",
        "`-` 수식의 차이: 비슷해보이지만 계산방식이 조금 다름"
      ],
      "id": "a5b7a0e0-7425-466a-9dfc-47cb05965f73"
    },
    {
      "cell_type": "code",
      "execution_count": 98,
      "metadata": {
        "tags": []
      },
      "outputs": [],
      "source": [
        "l1.weight, l1.bias"
      ],
      "id": "e556b75f-55e0-4b56-b551-a60a30b12c9b"
    },
    {
      "cell_type": "markdown",
      "metadata": {},
      "source": [
        "-   $\\text{linr}({\\bf X}) = \\begin{bmatrix} 0 \\\\ 1 \\\\ 2 \\\\ 0 \\\\ 1 \\end{bmatrix} \\times (-0.3467) + (-0.8470)=\\begin{bmatrix} -0.8470 \\\\ -1.1937 \\\\ -1.5404 \\\\ -0.8470 \\\\ -1.1937 \\end{bmatrix}$\n",
        "\n",
        "-   $\\text{ebdd}({\\boldsymbol x})= \\dots = \\begin{bmatrix} 1 & 0 & 0 \\\\ 0 & 1 & 0 \\\\ 0 & 0 & 1 \\\\ 1 & 0 & 0 \\\\ 0 & 1 & 0 \\end{bmatrix}\\begin{bmatrix} -0.8178 \\\\ -0.7052 \\\\ -0.5843 \\end{bmatrix} = \\begin{bmatrix} -0.8178 \\\\ -0.7052 \\\\ -0.5843 \\\\ -0.8178 \\\\ -0.7052 \\end{bmatrix}$\n",
        "\n",
        "`-` 데이터를 읽으며 해석: 사실상 0,1,2에 대한 의미는\n",
        "“옥순”,“영숙”,“하니” 같은 자료였고, 임베딩의 결과는\n",
        "“옥순”,“영숙”,“하니”가 가지는 어떠한 특징이었음 (예를들면 매력같은).\n",
        "데이터를 상상하며 위의 결과를 다시 해석해보자.\n",
        "\n",
        "-   옥순이 가지는 어떠한 특징 (-0.8470 혹은 -0.8178) 을 바꾸고 싶다면?\n",
        "    `ebdd`의 경우 -0.8178 이라는 숫자를 조정하면 된다. 이 조정은 옥순의\n",
        "    특징만 바꾸며 영숙과 하니의 특징은 바꾸지 않는다. 반면 `linr`의 경우\n",
        "    -0.3467 혹은 -0.8470 을 조정하면 되는데, 이는 옥순의 특징을 바꿈과\n",
        "    동시에 영숙과 하니의 특징까지 같이 바꾼다. 하니, 혹은 영숙이 가지는\n",
        "    특징을 바꾸고 싶을 경우도 마찬가지 현상이 일어남.\n",
        "-   만약에 출연자가 1000명이라면 `linr`그 1000명의 특징을 단 2개의\n",
        "    파라메터로 조정해야한다. (그리고 하나를 바꾸면 999명이 같이 바뀐다)\n",
        "    하지만 `ebdd`는 1000개의 특징을 조정할 수 있는 1000개의 파라메터를\n",
        "    확보할 수 있게 된다.\n",
        "\n",
        "`-` 결론: ebdd가 더 파라메터 조정을 통하여 특징을 학습하기 용이하다.\n",
        "(독립적으로 특징값을 줄 수 있으니까!)\n",
        "\n",
        "> 만약에 문자열이 “최우수(A)”, “우수(B)”, “보통(C)”, “미흡(D)”,\n",
        "> “매우미흡(F)” 이었다면 특징을 뽑아낼때 linr 가 더 적절했겠죠?\n",
        "\n",
        "## B. MF-based 추천시스템 재설계"
      ],
      "id": "a232f588-b98a-4ec5-94e7-80b3f16206d6"
    },
    {
      "cell_type": "code",
      "execution_count": 109,
      "metadata": {
        "tags": []
      },
      "outputs": [],
      "source": [
        "df_view = pd.read_csv('https://raw.githubusercontent.com/guebin/DL2024/main/posts/solo.csv',index_col=0)\n",
        "df_view"
      ],
      "id": "32312f78-6890-4878-b22c-372df4797dd7"
    },
    {
      "cell_type": "code",
      "execution_count": 114,
      "metadata": {
        "tags": []
      },
      "outputs": [],
      "source": [
        "df_train = df_view.stack().reset_index().set_axis(['W','M','y'],axis=1)\n",
        "w = {'옥순(IN)':0, '영자(IN)':1, '정숙(IS)':2, '영숙(IS)':3, '순자(EN)':4, '현숙(EN)':5, '서연(ES)':6, '보람(ES)':7, '하니(I)':8}\n",
        "m = {'영식(IN)':0, '영철(IN)':1, '영호(IS)':2, '광수(IS)':3, '상철(EN)':4, '영수(EN)':5, '규빈(ES)':6, '다호(ES)':7}\n",
        "X1 = torch.tensor(df_train['W'].map(w)) # length-n int vector \n",
        "X2 = torch.tensor(df_train['M'].map(m)) # length-n int vector \n",
        "y = torch.tensor(df_train['y']).float().reshape(-1,1) # (n,1) float vector"
      ],
      "id": "1a5017f3-f863-483a-a894-c63f960aa739"
    },
    {
      "cell_type": "code",
      "execution_count": 115,
      "metadata": {
        "tags": []
      },
      "outputs": [],
      "source": [
        "torch.manual_seed(43052)\n",
        "ebdd1 = torch.nn.Embedding(9,2)\n",
        "b1 = torch.nn.Embedding(9,1)\n",
        "ebdd2 = torch.nn.Embedding(8,2)\n",
        "b2 = torch.nn.Embedding(8,1)\n",
        "sig = torch.nn.Sigmoid()\n",
        "loss_fn = torch.nn.MSELoss()\n",
        "params = list(ebdd1.parameters())+list(b1.parameters())+list(ebdd2.parameters())+list(b2.parameters()) \n",
        "optimizr = torch.optim.Adam(params, lr=0.1) \n",
        "#--#\n",
        "for epoc in range(100):\n",
        "    # 1\n",
        "    W_feature = ebdd1(X1)\n",
        "    W_bias = b1(X1)\n",
        "    M_feature = ebdd2(X2)\n",
        "    M_bias = b2(X2)\n",
        "    score = (W_feature * M_feature).sum(axis=1).reshape(-1,1) + W_bias + M_bias\n",
        "    yhat = sig(score)*5 \n",
        "    # 2 \n",
        "    loss = loss_fn(yhat,y)\n",
        "    # 3 \n",
        "    loss.backward()\n",
        "    # 4 \n",
        "    optimizr.step()\n",
        "    optimizr.zero_grad()"
      ],
      "id": "14cc7f8f-0075-41f5-9365-23d9ccce6443"
    },
    {
      "cell_type": "code",
      "execution_count": 116,
      "metadata": {
        "tags": []
      },
      "outputs": [],
      "source": [
        "torch.concat([yhat,y],axis=1)[::4]"
      ],
      "id": "a1df7f97-f3b1-4e55-aaf2-9485c11f0f32"
    },
    {
      "cell_type": "markdown",
      "metadata": {},
      "source": [
        "# 4. 사용자정의 네트워크\n",
        "\n",
        "## A. 사용자정의 네트워크 사용법\n",
        "\n",
        "`# 예비학습1`: net(x)와 사실 net.forwardx(x)는 같다."
      ],
      "id": "76523114-e9a7-40f7-8455-3006699f91e0"
    },
    {
      "cell_type": "code",
      "execution_count": 138,
      "metadata": {
        "tags": []
      },
      "outputs": [],
      "source": [
        "net = torch.nn.Sequential(\n",
        "    torch.nn.Linear(1,1),\n",
        "    torch.nn.Sigmoid()\n",
        ")"
      ],
      "id": "dd1a7b1c-38e3-4d6e-bbc4-718f59683558"
    },
    {
      "cell_type": "code",
      "execution_count": 139,
      "metadata": {
        "tags": []
      },
      "outputs": [],
      "source": [
        "X = torch.randn(5,1)\n",
        "X"
      ],
      "id": "5f9803b2-90bc-4a61-88df-3808d8e71ec3"
    },
    {
      "cell_type": "code",
      "execution_count": 140,
      "metadata": {
        "tags": []
      },
      "outputs": [],
      "source": [
        "net(X)"
      ],
      "id": "593af51e-60a3-4f62-a92a-483b90dfedd5"
    },
    {
      "cell_type": "code",
      "execution_count": 141,
      "metadata": {
        "tags": []
      },
      "outputs": [],
      "source": [
        "net.forward(X)"
      ],
      "id": "453cc4cb-f63a-4e35-8b79-0fdc23471a0a"
    },
    {
      "cell_type": "markdown",
      "metadata": {},
      "source": [
        "그래서 net.forward를 재정의하면 net(x)의 기능을 재정의 할 수 있다."
      ],
      "id": "f2e8a812-0b8a-4362-96c3-d3631be875d3"
    },
    {
      "cell_type": "code",
      "execution_count": 142,
      "metadata": {
        "tags": []
      },
      "outputs": [],
      "source": [
        "net.forward = lambda x: '메롱'"
      ],
      "id": "d3e7a61c-ee75-4aec-97c7-4752297a7ca9"
    },
    {
      "cell_type": "markdown",
      "metadata": {},
      "source": [
        "-   “lambda x: 1” 은 입력이 x 출력이 1인 함수를 의미 (즉 입력값에\n",
        "    상관없이 항상 1을 출력하는 함수)\n",
        "-   “net.forward = lambda x:1” 이라고 새롭게 선언하였므로 앞으론\n",
        "    net.forward(x), net(x) 도 입력값에 상관없이 항상 1을 출력하게 될것임"
      ],
      "id": "1855b0aa-5ea1-48e2-9c7d-04470a3c372a"
    },
    {
      "cell_type": "code",
      "execution_count": 143,
      "metadata": {
        "tags": []
      },
      "outputs": [],
      "source": [
        "net.forward(X)"
      ],
      "id": "da78a850-7eac-446f-ad53-760939555332"
    },
    {
      "cell_type": "code",
      "execution_count": 144,
      "metadata": {
        "tags": []
      },
      "outputs": [],
      "source": [
        "net(X)"
      ],
      "id": "f5e60aa4-0ddb-4cbb-9cc5-25f5ddd1d1d9"
    },
    {
      "cell_type": "markdown",
      "metadata": {},
      "source": [
        "`#`\n",
        "\n",
        "`# 예비학습2`: torch.nn.Module을 상속받아서 네트워크를 만들면 (= “class\n",
        "XXX(torch.nn.Module):” 와 같은 방식으로 클래스를 선언하면) 약속된\n",
        "아키텍처를 가진 네트워크를 찍어내는 함수를 만들 수 있다.\n",
        "\n",
        "(예시1)"
      ],
      "id": "16e03920-a56e-42a1-a091-0563cb3b0eb7"
    },
    {
      "cell_type": "code",
      "execution_count": 147,
      "metadata": {
        "tags": []
      },
      "outputs": [],
      "source": [
        "class Mynet1(torch.nn.Module):\n",
        "    def __init__(self):\n",
        "        super().__init__()\n",
        "        self.l1 = torch.nn.Linear(in_features=1,out_features=1,bias=True)\n",
        "        self.a1 = torch.nn.Sigmoid()\n",
        "        self.l2 = torch.nn.Linear(in_features=1,out_features=1,bias=False)\n",
        "    def forward(self,x):\n",
        "        yhat = self.l2(self.a1(self.l1(x)))\n",
        "        return yhat"
      ],
      "id": "982c2476-cedc-4719-9564-81cfbcacb7d1"
    },
    {
      "cell_type": "markdown",
      "metadata": {},
      "source": [
        "이제\n",
        "\n",
        "``` python\n",
        "net = Mynet1()\n",
        "```\n",
        "\n",
        "는 아래와 같은 효과를 가진다.\n",
        "\n",
        "``` python\n",
        "net = torch.nn.Sequential(\n",
        "    torch.nn.Linear(in_features=1,out_features=1,bias=True),\n",
        "    torch.nn.Sigmoid(),\n",
        "    torch.nn.Linear(in_features=1,out_features=1,bias=False)\n",
        ")\n",
        "```\n",
        "\n",
        "(예시2)"
      ],
      "id": "9edab1b9-53a0-4e96-86bf-246f84d1a10a"
    },
    {
      "cell_type": "code",
      "execution_count": 149,
      "metadata": {
        "tags": []
      },
      "outputs": [],
      "source": [
        "class Mynet2(torch.nn.Module):\n",
        "    def __init__(self):\n",
        "        super().__init__()\n",
        "        self.l1 = torch.nn.Linear(in_features=1,out_features=1,bias=True)\n",
        "        self.a1 = torch.nn.ReLU()\n",
        "        self.l2 = torch.nn.Linear(in_features=1,out_features=1,bias=False)\n",
        "    def forward(self,x):\n",
        "        yhat = self.l2(self.a1(self.l1(x)))\n",
        "        return yhat"
      ],
      "id": "f7e575f5-5738-4dac-a2a8-1e1c9b63eab0"
    },
    {
      "cell_type": "markdown",
      "metadata": {},
      "source": [
        "이제\n",
        "\n",
        "``` python\n",
        "net = Mynet2()\n",
        "```\n",
        "\n",
        "는 아래와 같은 효과를 가진다.\n",
        "\n",
        "``` python\n",
        "net = torch.nn.Sequential(\n",
        "    torch.nn.Linear(in_features=1,out_features=1,bias=True),\n",
        "    torch.nn.RuLU(),\n",
        "    torch.nn.Linear(in_features=1,out_features=1,bias=False)\n",
        ")\n",
        "```\n",
        "\n",
        "***클래스에 대한 이해가 부족한 학생을 위한 암기방법***\n",
        "\n",
        "**step1:** 아래와 코드를 복사하여 틀을 만든다. (이건 무조건 고정임, XXXX\n",
        "자리는 원하는 이름을 넣는다)\n",
        "\n",
        "``` python\n",
        "class XXXX(torch.nn.Module):\n",
        "    def __init__(self):\n",
        "        super().__init__()\n",
        "        ## 우리가 yhat을 구할때 사용할 레이어를 정의 \n",
        "        \n",
        "        ## 정의 끝\n",
        "    def forward(self,X):\n",
        "        ## yhat을 어떻게 구할것인지 정의 \n",
        "        \n",
        "        ## 정의 끝\n",
        "        return yhat\n",
        "```\n",
        "\n",
        "-   net(X)에 사용하는 X임, yhat은 net.forward(X) 함수의 리턴값임\n",
        "-   사실, X/yhat은 다른 변수로 써도 무방하나 (예를들면 input/output\n",
        "    이라든지, netin/netout 이라든지) 설명의 편의상 X와 yhat을 고정한다.\n",
        "\n",
        "**step2:** `def __init__(self):`에 yhat을 구하기 위해 필요한 재료를\n",
        "레이어를 정의하고 이름을 붙인다. 이름은 항상 `self.xxx` 와 같은 식으로\n",
        "정의한다.\n",
        "\n",
        "``` python\n",
        "class XXXX(torch.nn.Module):\n",
        "    def __init__(self):\n",
        "        super().__init__()\n",
        "        ## 우리가 yhat을 구할때 사용할 레이어를 정의 \n",
        "        self.xxx1 = torch.nn.Linear(in_features=1,out_features=1,bias=True)\n",
        "        self.xxx2 = torch.nn.Sigmoid()\n",
        "        self.xxx3 = torch.nn.Linear(in_features=1,out_features=1,bias=True)\n",
        "        ## 정의 끝\n",
        "    def forward(self,X):\n",
        "        ## yhat을 어떻게 구할것인지 정의 \n",
        "        \n",
        "        ## 정의 끝\n",
        "        return yhat\n",
        "```\n",
        "\n",
        "**step3:** `def forward:`에 “X –\\> yhat” 으로 가는 과정을 묘사한 코드를\n",
        "작성하고 yhat을 리턴하도록 한다.\n",
        "\n",
        "``` python\n",
        "class XXXX(torch.nn.Module):\n",
        "    def __init__(self):\n",
        "        super().__init__()\n",
        "        ## 우리가 yhat을 구할때 사용할 레이어를 정의 \n",
        "        self.xxx1 = torch.nn.Linear(in_features=1,out_features=1,bias=True)\n",
        "        self.xxx2 = torch.nn.Sigmoid()\n",
        "        self.xxx3 = torch.nn.Linear(in_features=1,out_features=1,bias=True)\n",
        "        ## 정의 끝\n",
        "    def forward(self,X):\n",
        "        ## yhat을 어떻게 구할것인지 정의 \n",
        "        u = self.xxx1(X) \n",
        "        v = self.xxx2(u)\n",
        "        yhat = self.xxx3(v) \n",
        "        ## 정의 끝\n",
        "        return yhat\n",
        "```\n",
        "\n",
        "`#`\n",
        "\n",
        "`# 실습`: 사용자정의 네트워크를 사용하여 아래의 자료를 학습해보자."
      ],
      "id": "e2e6a81a-e65c-423a-bd02-dd84e2222292"
    },
    {
      "cell_type": "code",
      "execution_count": 169,
      "metadata": {
        "tags": []
      },
      "outputs": [],
      "source": [
        "torch.manual_seed(43052)\n",
        "x,_ = torch.randn(100).sort()\n",
        "x = x.reshape(-1,1)\n",
        "ϵ = torch.randn(100).reshape(-1,1)*0.5\n",
        "y = 2.5+ 4*x + ϵ"
      ],
      "id": "1c4cdc0a-f1b7-42c3-9035-f071ca50b756"
    },
    {
      "cell_type": "code",
      "execution_count": 170,
      "metadata": {
        "tags": []
      },
      "outputs": [
        {
          "output_type": "display_data",
          "metadata": {},
          "data": {
            "image/png": "[encoded data removed]"
          }
        }
      ],
      "source": [
        "plt.plot(x,y,'o')"
      ],
      "id": "915f53b7-86c9-4a07-9862-d6dd5520c647"
    },
    {
      "cell_type": "markdown",
      "metadata": {},
      "source": [
        "(풀이)"
      ],
      "id": "0cc15e0c-b9e7-4eb2-b2ee-2ab292cbb7e0"
    },
    {
      "cell_type": "code",
      "execution_count": 194,
      "metadata": {
        "tags": []
      },
      "outputs": [],
      "source": [
        "class Net(torch.nn.Module):\n",
        "    def __init__(self):\n",
        "        super().__init__()\n",
        "        ## 우리가 yhat을 구할때 사용할 레어어를 정의\n",
        "        self.linr = torch.nn.Linear(1,1)\n",
        "        ## 정의 끝\n",
        "    def forward(self,X):\n",
        "        ## yhat을 어떻게 구할것인지 정의 \n",
        "        yhat = self.linr(X)\n",
        "        ## 정의 끝\n",
        "        return yhat"
      ],
      "id": "363609bd-a671-4df9-b043-2b3b439f809f"
    },
    {
      "cell_type": "code",
      "execution_count": 172,
      "metadata": {
        "tags": []
      },
      "outputs": [],
      "source": [
        "net = Net()"
      ],
      "id": "59a9a864-5f30-44eb-98ff-a45b1e498965"
    },
    {
      "cell_type": "code",
      "execution_count": 173,
      "metadata": {
        "tags": []
      },
      "outputs": [
        {
          "output_type": "display_data",
          "metadata": {},
          "data": {
            "image/png": "[encoded data removed]"
          }
        }
      ],
      "source": [
        "plt.plot(x,y,'o')\n",
        "plt.plot(x,net(x).data,'--') # 최초의 직선"
      ],
      "id": "5240d6c3-183c-4496-bec1-44403a1ae6fb"
    },
    {
      "cell_type": "code",
      "execution_count": 195,
      "metadata": {},
      "outputs": [],
      "source": [
        "net = Net()\n",
        "loss_fn = torch.nn.MSELoss()\n",
        "optimizr = torch.optim.SGD(net.parameters(),lr=0.1)\n",
        "for epoc in range(30):\n",
        "    # 1\n",
        "    yhat = net(x)\n",
        "    # 2 \n",
        "    loss = loss_fn(yhat,y)\n",
        "    # 3 \n",
        "    loss.backward()\n",
        "    # 4 \n",
        "    optimizr.step()\n",
        "    optimizr.zero_grad()"
      ],
      "id": "f716d2d3-d17d-49df-bce0-bfa77c220043"
    },
    {
      "cell_type": "code",
      "execution_count": 196,
      "metadata": {
        "tags": []
      },
      "outputs": [
        {
          "output_type": "display_data",
          "metadata": {},
          "data": {
            "image/png": "[encoded data removed]"
          }
        }
      ],
      "source": [
        "plt.plot(x,y,'o')\n",
        "plt.plot(x,net(x).data,'--') # 최초의 직선"
      ],
      "id": "bf3b1d7c-4536-4fbe-a43a-6a715778f45f"
    },
    {
      "cell_type": "markdown",
      "metadata": {},
      "source": [
        "`#`\n",
        "\n",
        "## B. MF-based 추천시스템 재설계\n",
        "\n",
        "아래의 자료를 활용하여 추천시스템을 설계하고자한다."
      ],
      "id": "caadf704-410a-4635-ba14-a50f24c10d08"
    },
    {
      "cell_type": "code",
      "execution_count": 198,
      "metadata": {
        "tags": []
      },
      "outputs": [],
      "source": [
        "df_view = pd.read_csv('https://raw.githubusercontent.com/guebin/DL2024/main/posts/solo.csv',index_col=0)\n",
        "df_view"
      ],
      "id": "23143b68-f0fb-4392-84c3-51c18749603e"
    },
    {
      "cell_type": "code",
      "execution_count": 199,
      "metadata": {
        "tags": []
      },
      "outputs": [],
      "source": [
        "df_train = df_view.stack().reset_index().set_axis(['W','M','y'],axis=1)\n",
        "w = {'옥순(IN)':0, '영자(IN)':1, '정숙(IS)':2, '영숙(IS)':3, '순자(EN)':4, '현숙(EN)':5, '서연(ES)':6, '보람(ES)':7, '하니(I)':8}\n",
        "m = {'영식(IN)':0, '영철(IN)':1, '영호(IS)':2, '광수(IS)':3, '상철(EN)':4, '영수(EN)':5, '규빈(ES)':6, '다호(ES)':7}\n",
        "X1 = torch.tensor(df_train['W'].map(w)) # length-n int vector \n",
        "X2 = torch.tensor(df_train['M'].map(m)) # length-n int vector \n",
        "y = torch.tensor(df_train['y']).float().reshape(-1,1) # (n,1) float vector"
      ],
      "id": "c8453f26-93a6-4b60-9ed5-73cdf85a01d1"
    },
    {
      "cell_type": "markdown",
      "metadata": {},
      "source": [
        "사용자정의 네트워크를 이용하여 설계하라.\n",
        "\n",
        "(풀이1)"
      ],
      "id": "bd545d93-2678-4ceb-9516-f81187ebff93"
    },
    {
      "cell_type": "code",
      "execution_count": 201,
      "metadata": {
        "tags": []
      },
      "outputs": [],
      "source": [
        "class Net(torch.nn.Module):\n",
        "    def __init__(self):\n",
        "        super().__init__()\n",
        "        #--#\n",
        "        self.ebdd1 = torch.nn.Embedding(9,2)\n",
        "        self.ebdd2 = torch.nn.Embedding(8,2)\n",
        "        self.b1 = torch.nn.Embedding(9,1)\n",
        "        self.b2 = torch.nn.Embedding(8,1)\n",
        "        self.sig = torch.nn.Sigmoid()\n",
        "    def forward(self,X1,X2):\n",
        "        W_feature = self.ebdd1(X1)\n",
        "        W_bias = self.b1(X1)\n",
        "        M_feature = self.ebdd2(X2)\n",
        "        M_bias = self.b2(X2)\n",
        "        score = (W_feature * M_feature).sum(axis=1).reshape(-1,1) + W_bias + M_bias \n",
        "        yhat = sig(score) * 5 \n",
        "        return yhat"
      ],
      "id": "38c3ae91-f198-418f-9fd3-a81fb754d8fc"
    },
    {
      "cell_type": "code",
      "execution_count": 206,
      "metadata": {
        "tags": []
      },
      "outputs": [],
      "source": [
        "net = Net()\n",
        "loss_fn = torch.nn.MSELoss()\n",
        "optimizr = torch.optim.Adam(net.parameters(),lr=0.1) # 이게 편해요!!\n",
        "#--# \n",
        "for epoc in range(100):\n",
        "    # 1\n",
        "    yhat = net(X1,X2) \n",
        "    # 2\n",
        "    loss = loss_fn(yhat,y)\n",
        "    # 3 \n",
        "    loss.backward()\n",
        "    # 4 \n",
        "    optimizr.step()\n",
        "    optimizr.zero_grad()"
      ],
      "id": "f4a763d2-4645-432e-807f-96ee1d44cc9a"
    },
    {
      "cell_type": "code",
      "execution_count": 210,
      "metadata": {
        "tags": []
      },
      "outputs": [],
      "source": [
        "torch.concat([yhat.data,y],axis=1)[::5]"
      ],
      "id": "13574fdd-37d1-42cb-8623-cf7c2da1df1c"
    },
    {
      "cell_type": "markdown",
      "metadata": {},
      "source": [
        "(풀이2)"
      ],
      "id": "3e0bfd3b-e479-4c0e-bbc2-d660dd1fe78e"
    },
    {
      "cell_type": "code",
      "execution_count": 213,
      "metadata": {
        "tags": []
      },
      "outputs": [],
      "source": [
        "X = torch.stack([X1,X2],axis=1)\n",
        "X[:5]"
      ],
      "id": "a1d5df19-0796-446e-a285-9df9a336f12c"
    },
    {
      "cell_type": "code",
      "execution_count": 215,
      "metadata": {
        "tags": []
      },
      "outputs": [],
      "source": [
        "X[:,0], X[:,1]"
      ],
      "id": "030d6434-a850-4a63-86f7-33c43dfe6016"
    },
    {
      "cell_type": "code",
      "execution_count": 216,
      "metadata": {
        "tags": []
      },
      "outputs": [],
      "source": [
        "class Net(torch.nn.Module):\n",
        "    def __init__(self):\n",
        "        super().__init__()\n",
        "        #--#\n",
        "        self.ebdd1 = torch.nn.Embedding(9,2)\n",
        "        self.ebdd2 = torch.nn.Embedding(8,2)\n",
        "        self.b1 = torch.nn.Embedding(9,1)\n",
        "        self.b2 = torch.nn.Embedding(8,1)\n",
        "        self.sig = torch.nn.Sigmoid()\n",
        "    def forward(self,X):\n",
        "        X1,X2 = X[:,0],X[:,1]\n",
        "        W_feature = self.ebdd1(X1)\n",
        "        W_bias = self.b1(X1)\n",
        "        M_feature = self.ebdd2(X2)\n",
        "        M_bias = self.b2(X2)\n",
        "        score = (W_feature * M_feature).sum(axis=1).reshape(-1,1) + W_bias + M_bias \n",
        "        yhat = sig(score) * 5 \n",
        "        return yhat"
      ],
      "id": "74dbc47f-1236-4030-b6f9-44814dee2696"
    },
    {
      "cell_type": "code",
      "execution_count": 217,
      "metadata": {
        "tags": []
      },
      "outputs": [],
      "source": [
        "net = Net()\n",
        "loss_fn = torch.nn.MSELoss()\n",
        "optimizr = torch.optim.Adam(net.parameters(),lr=0.1) # 이게 편해요!!\n",
        "#--# \n",
        "for epoc in range(100):\n",
        "    # 1\n",
        "    yhat = net(X) \n",
        "    # 2\n",
        "    loss = loss_fn(yhat,y)\n",
        "    # 3 \n",
        "    loss.backward()\n",
        "    # 4 \n",
        "    optimizr.step()\n",
        "    optimizr.zero_grad()"
      ],
      "id": "0ecbec60-fc8a-433c-a6ce-3ba5a5b64d79"
    },
    {
      "cell_type": "code",
      "execution_count": 218,
      "metadata": {
        "tags": []
      },
      "outputs": [],
      "source": [
        "torch.concat([yhat.data,y],axis=1)[::5]"
      ],
      "id": "5527bfd7-36de-48bd-9258-c33f01547d50"
    },
    {
      "cell_type": "markdown",
      "metadata": {},
      "source": [
        "# 5. NN-based 추천시스템\n",
        "\n",
        "## A. NN-based 방식\n",
        "\n",
        "아래의 자료를 활용하여 추천시스템을 설계하고자한다."
      ],
      "id": "77686bcd-6bc0-46fb-826b-a4ee4b84f79e"
    },
    {
      "cell_type": "code",
      "execution_count": 233,
      "metadata": {
        "tags": []
      },
      "outputs": [],
      "source": [
        "df_view = pd.read_csv('https://raw.githubusercontent.com/guebin/DL2024/main/posts/solo.csv',index_col=0)\n",
        "df_view"
      ],
      "id": "1351ee6f-0b65-4f43-94d2-00afabfc4601"
    },
    {
      "cell_type": "code",
      "execution_count": 234,
      "metadata": {
        "tags": []
      },
      "outputs": [],
      "source": [
        "df_train = df_view.stack().reset_index().set_axis(['W','M','y'],axis=1)\n",
        "w = {'옥순(IN)':0, '영자(IN)':1, '정숙(IS)':2, '영숙(IS)':3, '순자(EN)':4, '현숙(EN)':5, '서연(ES)':6, '보람(ES)':7, '하니(I)':8}\n",
        "m = {'영식(IN)':0, '영철(IN)':1, '영호(IS)':2, '광수(IS)':3, '상철(EN)':4, '영수(EN)':5, '규빈(ES)':6, '다호(ES)':7}\n",
        "X1 = torch.tensor(df_train['W'].map(w)) # length-n int vector \n",
        "X2 = torch.tensor(df_train['M'].map(m)) # length-n int vector \n",
        "y = torch.tensor(df_train['y']).float().reshape(-1,1) # (n,1) float vector"
      ],
      "id": "2d522a56-bcf5-45f0-8c10-342e14a7002f"
    },
    {
      "cell_type": "markdown",
      "metadata": {},
      "source": [
        "**소망**: NN-based 모델로 만들어 보고싶다.\n",
        "\n",
        "(풀이1) – 실패"
      ],
      "id": "eaf6397f-ce24-4f2e-a615-6f8b867e6672"
    },
    {
      "cell_type": "code",
      "execution_count": 289,
      "metadata": {
        "tags": []
      },
      "outputs": [],
      "source": [
        "class Net(torch.nn.Module):\n",
        "    def __init__(self):\n",
        "        super().__init__()\n",
        "        #--#\n",
        "        self.ebdd1 = torch.nn.Embedding(9,2)\n",
        "        self.b1 = torch.nn.Embedding(9,1)\n",
        "        self.ebdd2 = torch.nn.Embedding(8,2)\n",
        "        self.b2 = torch.nn.Embedding(8,1)\n",
        "        self.dnn = torch.nn.Sequential(\n",
        "            torch.nn.Linear(6,1),\n",
        "            torch.nn.Sigmoid()\n",
        "        )   \n",
        "    def forward(self,X1,X2):\n",
        "        W_feature = self.ebdd1(X1)\n",
        "        M_feature = self.ebdd2(X2)\n",
        "        W_bias = self.b1(X1)\n",
        "        M_bias = self.b2(X2)\n",
        "        Z = torch.concat([W_feature,M_feature,W_bias,M_bias],axis=1)\n",
        "        yhat = self.dnn(Z) * 5 \n",
        "        return yhat"
      ],
      "id": "7103a280-dcc4-4d00-950e-fcac841f4312"
    },
    {
      "cell_type": "code",
      "execution_count": 290,
      "metadata": {
        "tags": []
      },
      "outputs": [],
      "source": [
        "net = Net()\n",
        "loss_fn = torch.nn.MSELoss()\n",
        "optimizr = torch.optim.Adam(net.parameters(),lr=0.1) # 이게 편해요!!\n",
        "#--# \n",
        "for epoc in range(100):\n",
        "    # 1\n",
        "    yhat = net(X1,X2) \n",
        "    # 2\n",
        "    loss = loss_fn(yhat,y)\n",
        "    # 3 \n",
        "    loss.backward()\n",
        "    # 4 \n",
        "    optimizr.step()\n",
        "    optimizr.zero_grad()"
      ],
      "id": "db750148-e75a-49da-885a-73c1ecf1ea34"
    },
    {
      "cell_type": "code",
      "execution_count": 291,
      "metadata": {
        "tags": []
      },
      "outputs": [],
      "source": [
        "torch.concat([yhat.data,y],axis=1)[::5]"
      ],
      "id": "b3361aa2-94cc-4367-87ab-3564afea76a4"
    },
    {
      "cell_type": "markdown",
      "metadata": {},
      "source": [
        "-   못하겠네?\n",
        "\n",
        "(풀이2) – 에라 모르겠다 깊은신경망.."
      ],
      "id": "c96cab68-7649-4d0a-a34f-fe16c8dee008"
    },
    {
      "cell_type": "code",
      "execution_count": 292,
      "metadata": {
        "tags": []
      },
      "outputs": [],
      "source": [
        "class Net(torch.nn.Module):\n",
        "    def __init__(self):\n",
        "        super().__init__()\n",
        "        #--#\n",
        "        self.ebdd1 = torch.nn.Embedding(9,2)\n",
        "        self.b1 = torch.nn.Embedding(9,1)\n",
        "        self.ebdd2 = torch.nn.Embedding(8,2)\n",
        "        self.b2 = torch.nn.Embedding(8,1)\n",
        "        self.dnn = torch.nn.Sequential(\n",
        "            torch.nn.Linear(6,15),\n",
        "            torch.nn.ReLU(),\n",
        "            torch.nn.Linear(15,15),\n",
        "            torch.nn.ReLU(),\n",
        "            torch.nn.Linear(15,1),\n",
        "            torch.nn.Sigmoid()\n",
        "        )   \n",
        "    def forward(self,X1,X2):\n",
        "        W_feature = self.ebdd1(X1)\n",
        "        M_feature = self.ebdd2(X2)\n",
        "        W_bias = self.b1(X1)\n",
        "        M_bias = self.b2(X2)\n",
        "        Z = torch.concat([W_feature,M_feature,W_bias,M_bias],axis=1)\n",
        "        yhat = self.dnn(Z) * 5 \n",
        "        return yhat"
      ],
      "id": "eb7b4c62-25c9-43b5-9c23-81023c731113"
    },
    {
      "cell_type": "code",
      "execution_count": 293,
      "metadata": {
        "tags": []
      },
      "outputs": [],
      "source": [
        "net = Net()\n",
        "loss_fn = torch.nn.MSELoss()\n",
        "optimizr = torch.optim.Adam(net.parameters(),lr=0.1) # 이게 편해요!!\n",
        "#--# \n",
        "for epoc in range(100):\n",
        "    # 1\n",
        "    yhat = net(X1,X2) \n",
        "    # 2\n",
        "    loss = loss_fn(yhat,y)\n",
        "    # 3 \n",
        "    loss.backward()\n",
        "    # 4 \n",
        "    optimizr.step()\n",
        "    optimizr.zero_grad()"
      ],
      "id": "920d811c-844a-4e91-855a-ae8886407c7b"
    },
    {
      "cell_type": "code",
      "execution_count": 294,
      "metadata": {
        "tags": []
      },
      "outputs": [],
      "source": [
        "torch.concat([yhat.data,y],axis=1)[::5]"
      ],
      "id": "594c1a90-9ec1-47c6-ab15-fd8f6b050caf"
    },
    {
      "cell_type": "markdown",
      "metadata": {},
      "source": [
        "-   잘 맞추긴했는데 불안함"
      ],
      "id": "4ba71d69-a485-417c-99b6-9f7b3767db65"
    },
    {
      "cell_type": "code",
      "execution_count": 295,
      "metadata": {
        "tags": []
      },
      "outputs": [],
      "source": [
        "df_view"
      ],
      "id": "1f0b7bb1-f025-4b90-8fb6-49070ed70cc6"
    },
    {
      "cell_type": "markdown",
      "metadata": {},
      "source": [
        "(영자-다호), (보람-다호), (하니-영호) 를 예측해보자."
      ],
      "id": "5473bff5-2cb5-4022-a526-49ab263ff61e"
    },
    {
      "cell_type": "code",
      "execution_count": 296,
      "metadata": {
        "tags": []
      },
      "outputs": [],
      "source": [
        "XX1 = torch.tensor([1,7,8])\n",
        "XX2 = torch.tensor([7,7,2])"
      ],
      "id": "bb83cd8a-6911-4b4d-a491-ac1f0dbceeba"
    },
    {
      "cell_type": "code",
      "execution_count": 297,
      "metadata": {
        "tags": []
      },
      "outputs": [],
      "source": [
        "net(XX1,XX2)"
      ],
      "id": "9e2ca08f-479d-4b43-91ce-eb1b0f8b47dd"
    },
    {
      "cell_type": "markdown",
      "metadata": {},
      "source": [
        "그럴싸함.. (오버피팅 아닌듯)\n",
        "\n",
        "## B. NCF (He et al. 2017)\n",
        "\n",
        "![](https://github.com/guebin/DL2024/blob/main/posts/NCF.png?raw=true)\n",
        "\n",
        "He, Xiangnan, Lizi Liao, Hanwang Zhang, Liqiang Nie, Xia Hu, and\n",
        "Tat-Seng Chua. 2017. “Neural Collaborative Filtering.” In *Proceedings\n",
        "of the 26th International Conference on World Wide Web*, 173–82."
      ],
      "id": "f5dfc1eb-f524-4dee-a41e-6e2765345de3"
    }
  ],
  "nbformat": 4,
  "nbformat_minor": 5,
  "metadata": {
    "kernelspec": {
      "name": "python3",
      "display_name": "Python 3 (ipykernel)",
      "language": "python"
    },
    "language_info": {
      "name": "python",
      "codemirror_mode": {
        "name": "ipython",
        "version": "3"
      },
      "file_extension": ".py",
      "mimetype": "text/x-python",
      "nbconvert_exporter": "python",
      "pygments_lexer": "ipython3",
      "version": "3.11.8"
    }
  }
}