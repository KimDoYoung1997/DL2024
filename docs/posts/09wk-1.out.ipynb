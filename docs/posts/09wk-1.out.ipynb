{
  "cells": [
    {
      "cell_type": "markdown",
      "metadata": {},
      "source": [
        "# 09wk-1: 추천시스템\n",
        "\n",
        "최규빈  \n",
        "2024-04-29\n",
        "\n",
        "<a href=\"https://colab.research.google.com/github/guebin/DL2024/blob/main/posts/08wk-1-2.ipynb\"><img src=\"https://colab.research.google.com/assets/colab-badge.svg\" style=\"text-align: left\"></a>\n",
        "\n",
        "# 1. 강의영상"
      ],
      "id": "cfb575ca-78e9-4bf2-981c-0aa8b11e6957"
    },
    {
      "cell_type": "code",
      "execution_count": 1,
      "metadata": {
        "tags": []
      },
      "outputs": [],
      "source": [
        "#{{<video https://youtu.be/playlist?list=PLQqh36zP38-xfh-AQQI0B_GONOjgj9DCi&si=uWImDc1bYBoNqCB_ >}}"
      ],
      "id": "cd4bf0dd-4a17-4400-9edd-d1a9a70ff280"
    },
    {
      "cell_type": "markdown",
      "metadata": {},
      "source": [
        "# 2. Imports"
      ],
      "id": "f4e9290a-562c-4612-a8d7-989e4e7b6776"
    },
    {
      "cell_type": "code",
      "execution_count": 2,
      "metadata": {
        "tags": []
      },
      "outputs": [],
      "source": [
        "import torch\n",
        "import numpy as np \n",
        "import pandas as pd\n",
        "import fastai.collab"
      ],
      "id": "be01850b-e0ed-45be-a675-799d9c90c0ee"
    },
    {
      "cell_type": "markdown",
      "metadata": {},
      "source": [
        "# 4. 나는 SOLO\n",
        "\n",
        "ref: <https://namu.wiki/w/나는%20SOLO>\n",
        "\n",
        "## A. Data\n",
        "\n",
        "`-` Data"
      ],
      "id": "07064da7-dd53-4b3a-9226-a65eafff356c"
    },
    {
      "cell_type": "code",
      "execution_count": 3,
      "metadata": {
        "tags": []
      },
      "outputs": [],
      "source": [
        "df_view = pd.read_csv('https://raw.githubusercontent.com/guebin/STML2022/main/posts/V.%20RecSys/2022-12-21-rcmdsolo.csv',index_col=0)\n",
        "df_view "
      ],
      "id": "9ad42043-cdba-46a1-92f0-51aa4ce6e161"
    },
    {
      "cell_type": "markdown",
      "metadata": {},
      "source": [
        "`-` 데이터를 이해할 때 필요한 가정들 – 제가 마음대로 설정했어요..\n",
        "\n",
        "-   궁합이 잘맞으면 5점, 잘 안맞으면 0점 이다.\n",
        "-   ((옥순,영자,정숙),(영식,영철,영호))은 MBTI가 I로 시작하고\n",
        "    ((영숙,순자,현숙),(광수,상철,영수))는 MBTI가 E로 시작한다고\n",
        "    설정하자.\n",
        "-   (옥순,영자,정숙)은 (영식,영철,영호)와 성격이 잘 맞고\n",
        "    (영숙,순자,현숙)은 (광수,상철,영수)와 성격이 잘맞음.\n",
        "-   정숙은 대체적으로 모든 사람들이랑 궁합이 잘 맞는 편인것 같다.\n",
        "-   현숙은 전체적으로 모든 사람들이랑 궁합이 잘 안맞는 편인것 같다.\n",
        "    (눈이 높아보인다)\n",
        "\n",
        "## B. Fit / Predict\n",
        "\n",
        "`-` 목표: NaN을 추정\n",
        "\n",
        "`-` 수동추론:\n",
        "\n",
        "-   (옥순,영호)이 만난다면? $\\to$ 둘다 I성향이니까 잘 맞지 않을까? $\\to$\n",
        "    4.0 정도?\n",
        "-   (정숙,영식)조합은? $\\to$ 둘다 I성향이니까 잘 맞지 않을까? + 정숙은\n",
        "    다 잘맞던데..? $\\to$ 4.8 정도?\n",
        "-   (현숙,영식)조합은? $\\to$ 현숙은 E성향인데 영식은 I성향이므로 잘\n",
        "    안맞을 것임 + 현숙은 원래 좀 눈이 높음 $\\to$ 0.25 정도?\n",
        "\n",
        "`-` 좀 더 체계적인 추론 전략: 사람들이 가지고 있는 성향들을 두 개의\n",
        "숫자로 표현하자.\n",
        "\n",
        "-   옥순의 성향 = (I성향,E성향) = (1.9, 0.0)\n",
        "-   영식의 성향 = (I성향,E성향) = (2.0, 0.1)\n",
        "-   현숙의 성향 = (I성향,E성향) = (0.0, 1.5)\n",
        "\n",
        "> 사람에 따라 E,I 둘다 높게 설정할수도있고, 둘다 낮게 설정할 수도 있다.\n",
        "\n",
        "**(1)** 옥순과 영식의 궁합 $\\approx$ 옥순의I성향$\\times$영식의I성향 $+$\n",
        "옥순의E성향$\\times$영식의E성향 // 적합"
      ],
      "id": "d1505304-3a3d-4c67-b956-c3f1f46294a9"
    },
    {
      "cell_type": "code",
      "execution_count": 4,
      "metadata": {
        "tags": []
      },
      "outputs": [],
      "source": [
        "옥순성향 = torch.tensor([1.9,0.0]).reshape(2,1) \n",
        "영식성향 = torch.tensor([2.0,0.1]).reshape(2,1) \n",
        "#(옥순성향*영식성향).sum().item() # 옥순과 영식의 궁합: a ∘ b 로 내적구함 \n",
        "(옥순성향.T @ 영식성향).item() # 옥순과 영식의 궁합: a.T @ b 로 내적구함 "
      ],
      "id": "96e2b6fb-9dea-432e-bd1a-3ee34975a5ff"
    },
    {
      "cell_type": "markdown",
      "metadata": {},
      "source": [
        "**(2)** 현숙과 영식의 궁합 $\\approx$ 현숙의I성향$\\times$영식의I성향 $+$\n",
        "현숙의E성향$\\times$영식의E성향 // 예측"
      ],
      "id": "6b64a34e-85e1-4635-98f9-4b61fcd487bb"
    },
    {
      "cell_type": "code",
      "execution_count": 5,
      "metadata": {
        "tags": []
      },
      "outputs": [],
      "source": [
        "현숙성향 = torch.tensor([0.0,1.5]).reshape(2,1)\n",
        "#(현숙성향*영식성향).sum().item() # 현숙과 영식의 궁합: a ∘ b 로 내적구함 \n",
        "(현숙성향.T @ 영식성향).item() # 현숙과 영식의 궁합: a.T @ b 로 내적구함 "
      ],
      "id": "5d7b2b4e-f216-4717-8b38-4815faefa8e4"
    },
    {
      "cell_type": "markdown",
      "metadata": {},
      "source": [
        "-   그럴싸함.\n",
        "\n",
        "`-` 전체 사용자의 설정값"
      ],
      "id": "ca97338d-c010-4d54-aa27-552fffbe8c1c"
    },
    {
      "cell_type": "code",
      "execution_count": 101,
      "metadata": {
        "tags": []
      },
      "outputs": [],
      "source": [
        "옥순성향 = a1 = torch.tensor([1.9,0.0]).reshape(2,1)\n",
        "영자성향 = a2 = torch.tensor([2.0,0.1]).reshape(2,1)\n",
        "정숙성향 = a3 = torch.tensor([2.5,1.0]).reshape(2,1)\n",
        "영숙성향 = a4 = torch.tensor([0.1,1.9]).reshape(2,1)\n",
        "순자성향 = a5 = torch.tensor([0.2,2.1]).reshape(2,1)\n",
        "현숙성향 = a6 = torch.tensor([0.0,1.5]).reshape(2,1)\n",
        "A = torch.concat([a1,a2,a3,a4,a5,a6],axis=1)\n",
        "A # 각 column은 여성출연자들의 성향을 의미함 "
      ],
      "id": "1679a6fd-7604-4e86-92b9-6aa53b834b74"
    },
    {
      "cell_type": "code",
      "execution_count": 102,
      "metadata": {
        "tags": []
      },
      "outputs": [],
      "source": [
        "영식성향 = b1 = torch.tensor([2.0,0.1]).reshape(2,1)\n",
        "영철성향 = b2 = torch.tensor([1.9,0.2]).reshape(2,1)\n",
        "영호성향 = b3 = torch.tensor([1.8,0.3]).reshape(2,1)\n",
        "광수성향 = b4 = torch.tensor([0.3,2.1]).reshape(2,1)\n",
        "상철성향 = b5 = torch.tensor([0.2,2.0]).reshape(2,1)\n",
        "영수성향 = b6 = torch.tensor([0.1,1.9]).reshape(2,1)\n",
        "B = torch.concat([b1,b2,b3,b4,b5,b6],axis=1)\n",
        "B # 각 column은 남성출연자의 성향을 의미함"
      ],
      "id": "946ea60e-e30b-4188-8bae-7c1b25ca0f47"
    },
    {
      "cell_type": "markdown",
      "metadata": {},
      "source": [
        "`-` 아래의 행렬곱 관찰"
      ],
      "id": "4427b67f-0077-4d42-9dc6-eb505ddc0644"
    },
    {
      "cell_type": "code",
      "execution_count": 8,
      "metadata": {
        "tags": []
      },
      "outputs": [],
      "source": [
        "A.T@B "
      ],
      "id": "33901998-5c7c-44fc-b97d-5a579514b540"
    },
    {
      "cell_type": "markdown",
      "metadata": {},
      "source": [
        "—저거 따져보자—\n",
        "\n",
        "${\\bf A}_{2 \\times 6} = \\begin{bmatrix} {\\boldsymbol a}_{\\text{옥순}} & {\\boldsymbol a}_{\\text{영자}} & {\\boldsymbol a}_{\\text{정숙}} & {\\boldsymbol a}_{\\text{영숙}} & {\\boldsymbol a}_{\\text{순자}} & {\\boldsymbol a}_{\\text{현숙}} \\end{bmatrix} = \\begin{bmatrix} 1.9 & 2.0 & 2.5 & 0.1 & 0.2 & 0 \\\\ 0 & 0.1 & 1.0 & 1.9 & 2.1 & 1.5 \\end{bmatrix}$\n",
        "\n",
        "${\\bf B}_{2 \\times 6} = \\begin{bmatrix} {\\boldsymbol b}_{\\text{영식}} & {\\boldsymbol b}_{\\text{영철}} & {\\boldsymbol b}_{\\text{영호}} & {\\boldsymbol b}_{\\text{광수}} & {\\boldsymbol b}_{\\text{상철}} & {\\boldsymbol b}_{\\text{영수}} \\end{bmatrix} = \\begin{bmatrix} 2.0 & 1.0 & 1.8 & 0.3 & 0.2 & 0.1 \\\\ 0.1 & 0.2 & 0.3 & 2.1 & 2.0 & 1.9 \\end{bmatrix}$\n",
        "\n",
        "$\\begin{align*}{\\bf A}^\\top @ {\\bf B} & = \\begin{bmatrix} 1.9 & 0.0 \\\\ 2.0 & 0.1 \\\\ 2.5 & 1.0 \\\\ 0.1 & 1.9 \\\\ 0.2 & 2.1 \\\\ 0.0 & 1.5 \\\\ \\end{bmatrix} \\begin{bmatrix} 2.0 & 1.0 & 1.8 & 0.3 & 0.2 & 0.1 \\\\ 0.1 & 0.2 & 0.3 & 2.1 & 2.0 & 1.9 \\end{bmatrix} \\\\ \\\\ & = \\begin{bmatrix} 3.8 & 3.61 & 3.42 & 0.57 & 0.38 & 0.19 \\\\ 4.01 & 3.82 & 3.63 & 0.81 & 0.6 & 0.39 \\\\ 5.1 & 4.95 & 4.8 & 2.85 & 2.5 & 2.15 \\\\ 0.39 & 0.57 & 0.75 & 4.02 & 3.82 & 3.62 \\\\ 0.61 & 0.8 & 0.99 & 4.47 & 4.24 & 4.01 \\\\ 0.15 & 0.3 & 0.45 & 3.15 & 3 & 2.85 \\\\ \\end{bmatrix} \\\\ \\\\ & =\\begin{bmatrix} {\\boldsymbol a}_{\\text{옥순}}^\\top @ {\\boldsymbol b}^{ }_{\\text{영식}} & {\\boldsymbol a}_{\\text{옥순}}^\\top @ {\\boldsymbol b}^{ }_{\\text{영철}} & {\\boldsymbol a}_{\\text{옥순}}^\\top @ {\\boldsymbol b}^{ }_{\\text{영호}} & {\\boldsymbol a}_{\\text{옥순}}^\\top @ {\\boldsymbol b}^{ }_{\\text{광수}} & {\\boldsymbol a}_{\\text{옥순}}^\\top @ {\\boldsymbol b}^{ }_{\\text{상철}} & {\\boldsymbol a}_{\\text{옥순}}^\\top @ {\\boldsymbol b}^{ }_{\\text{영수}} \\\\ {\\boldsymbol a}_{\\text{영자}}^\\top @ {\\boldsymbol b}^{ }_{\\text{영식}} & {\\boldsymbol a}_{\\text{영자}}^\\top @ {\\boldsymbol b}^{ }_{\\text{영철}} & {\\boldsymbol a}_{\\text{영자}}^\\top @ {\\boldsymbol b}^{ }_{\\text{영호}} & {\\boldsymbol a}_{\\text{영자}}^\\top @ {\\boldsymbol b}^{ }_{\\text{광수}} & {\\boldsymbol a}_{\\text{영자}}^\\top @ {\\boldsymbol b}^{ }_{\\text{상철}} & {\\boldsymbol a}_{\\text{영자}}^\\top @ {\\boldsymbol b}^{ }_{\\text{영수}} \\\\ {\\boldsymbol a}_{\\text{정숙}}^\\top @ {\\boldsymbol b}^{ }_{\\text{영식}} & {\\boldsymbol a}_{\\text{정숙}}^\\top @ {\\boldsymbol b}^{ }_{\\text{영철}} & {\\boldsymbol a}_{\\text{정숙}}^\\top @ {\\boldsymbol b}^{ }_{\\text{영호}} & {\\boldsymbol a}_{\\text{정숙}}^\\top @ {\\boldsymbol b}^{ }_{\\text{광수}} & {\\boldsymbol a}_{\\text{정숙}}^\\top @ {\\boldsymbol b}^{ }_{\\text{상철}} & {\\boldsymbol a}_{\\text{정숙}}^\\top @ {\\boldsymbol b}^{ }_{\\text{영수}} \\\\ {\\boldsymbol a}_{\\text{영숙}}^\\top @ {\\boldsymbol b}^{ }_{\\text{영식}} & {\\boldsymbol a}_{\\text{영숙}}^\\top @ {\\boldsymbol b}^{ }_{\\text{영철}} & {\\boldsymbol a}_{\\text{영숙}}^\\top @ {\\boldsymbol b}^{ }_{\\text{영호}} & {\\boldsymbol a}_{\\text{영숙}}^\\top @ {\\boldsymbol b}^{ }_{\\text{광수}} & {\\boldsymbol a}_{\\text{영숙}}^\\top @ {\\boldsymbol b}^{ }_{\\text{상철}} & {\\boldsymbol a}_{\\text{영숙}}^\\top @ {\\boldsymbol b}^{ }_{\\text{영수}} \\\\ {\\boldsymbol a}_{\\text{순자}}^\\top @ {\\boldsymbol b}^{ }_{\\text{영식}} & {\\boldsymbol a}_{\\text{순자}}^\\top @ {\\boldsymbol b}^{ }_{\\text{영철}} & {\\boldsymbol a}_{\\text{순자}}^\\top @ {\\boldsymbol b}^{ }_{\\text{영호}} & {\\boldsymbol a}_{\\text{순자}}^\\top @ {\\boldsymbol b}^{ }_{\\text{광수}} & {\\boldsymbol a}_{\\text{순자}}^\\top @ {\\boldsymbol b}^{ }_{\\text{상철}} & {\\boldsymbol a}_{\\text{순자}}^\\top @ {\\boldsymbol b}^{ }_{\\text{영수}} \\\\ {\\boldsymbol a}_{\\text{현숙}}^\\top @ {\\boldsymbol b}^{ }_{\\text{영식}} & {\\boldsymbol a}_{\\text{현숙}}^\\top @ {\\boldsymbol b}^{ }_{\\text{영철}} & {\\boldsymbol a}_{\\text{현숙}}^\\top @ {\\boldsymbol b}^{ }_{\\text{영호}} & {\\boldsymbol a}_{\\text{현숙}}^\\top @ {\\boldsymbol b}^{ }_{\\text{광수}} & {\\boldsymbol a}_{\\text{현숙}}^\\top @ {\\boldsymbol b}^{ }_{\\text{상철}} & {\\boldsymbol a}_{\\text{현숙}}^\\top @ {\\boldsymbol b}^{ }_{\\text{영수}} \\\\ \\end{bmatrix}\\end{align*}$\n",
        "\n",
        "`-` 궁합매트릭스: ${\\bf A}^\\top @ {\\bf B}$를 계산하면 (6,6) 인 행렬이\n",
        "나올텐데 이 행렬의 $(i,j)$의 원소는 $i$-th 여성출연자와 $j$-th\n",
        "남성출연자가 얼마나 잘 맞는지를 나타내는 숫자가 된다. (숫자가 높을수록\n",
        "잘 맞음) 이 수업에서는 이 매트릭스를 “궁합매트릭스” 라고 정의하자.\n",
        "\n",
        "`-` 주어진 자료와 우리가 임의로 만든 궁합매트릭스를 비교해보자."
      ],
      "id": "13685477-674a-4eec-a165-48aec70205bb"
    },
    {
      "cell_type": "code",
      "execution_count": 9,
      "metadata": {
        "tags": []
      },
      "outputs": [],
      "source": [
        "A.T @ B, torch.tensor(np.array(df_view)).float()"
      ],
      "id": "5b043949-5231-49ca-8d5e-c357f8ba2dbe"
    },
    {
      "cell_type": "markdown",
      "metadata": {},
      "source": [
        "`-` 우리의 전략\n",
        "\n",
        "1.  ${\\bf A}^\\top @ {\\bf B}$의 값과 `df_view` 의 값이 `nan`을 제외한\n",
        "    곳에서 거의 비슷하게 되도록 ${\\bf A}$, ${\\bf B}$를 잘 때려맞추면\n",
        "    되는것 아니야?\n",
        "\n",
        "2.  1을 만족하는 ${\\bf A}$, ${\\bf A}$를 찾았으면 그 숫자들을 이용하여\n",
        "    `df_view`의 `nan` 을 추정한다.\n",
        "\n",
        "`-` 따라서 모형은 아래와 같이 볼 수 있다.\n",
        "\n",
        "$$\\textbf{df_view} \\approx {\\bf A}^\\top @ {\\bf B}$$\n",
        "\n",
        "`-` 아래의 정보를 참고하여 위의 수식을 다시 정리하면.."
      ],
      "id": "2b76e290-3221-422c-8953-295811e04736"
    },
    {
      "cell_type": "code",
      "execution_count": 15,
      "metadata": {
        "tags": []
      },
      "outputs": [],
      "source": [
        "df_view"
      ],
      "id": "93deeda5-66b8-470e-b8b5-25f6d4857dea"
    },
    {
      "cell_type": "code",
      "execution_count": 29,
      "metadata": {
        "tags": []
      },
      "outputs": [],
      "source": [
        "display(pd.DataFrame(A.T.tolist()).set_axis(['옥순','영자','정숙','영숙','순자','현숙']).set_axis(['I성향','E성향'],axis=1))\n",
        "display(pd.DataFrame(B.T.tolist()).set_axis(['영식','영철','영호','광수','상철','영수']).set_axis(['I성향','E성향'],axis=1))"
      ],
      "id": "ca2024ec-724e-45db-b9c6-ba34fd4c42df"
    },
    {
      "cell_type": "markdown",
      "metadata": {},
      "source": [
        "—이런식으로?—\n",
        "\n",
        "|  X1  |  X2  | ${\\boldsymbol a}_{X1}^T$ | ${\\boldsymbol b}_{X2}^T$ | yhat |  y  |\n",
        "|:----:|:----:|:------------------------:|:------------------------:|:----:|:---:|\n",
        "| 옥순 | 영식 |       \\[1.9, 0.0\\]       |       \\[2.0, 0.1\\]       | 3.8  | 3.9 |\n",
        "| 옥순 | 영철 |       \\[1.9, 0.0\\]       |       \\[1.9, 0.2\\]       | 3.6  | 4.1 |\n",
        "| 옥순 | 광수 |       \\[1.9, 0.0\\]       |       \\[0.3, 2.1\\]       | 0.57 | 0.5 |\n",
        "| 옥순 | 상철 |       \\[1.9, 0.0\\]       |       \\[0.2, 2.0\\]       | 0.38 | 0.3 |\n",
        "|  …   |  …   |            …             |            …             |  …   |  …  |\n",
        "| 현숙 | 영철 |       \\[0.0, 1.5\\]       |       \\[1.9, 0.2\\]       | 0.3  | 0.2 |\n",
        "| 현숙 | 영호 |       \\[0.0, 1.5\\]       |       \\[1.8, 0.3\\]       | 0.45 | 0.2 |\n",
        "| 현숙 | 상철 |       \\[0.0, 1.5\\]       |       \\[0.2, 2.0\\]       | 3.0  | 0.2 |\n",
        "| 현숙 | 영수 |       \\[0.0, 1.5\\]       |       \\[0.1, 1.9\\]       | 2.85 | 0.2 |\n",
        "\n",
        "`-` 이렇게 정리하면 `yhat` $\\approx$ `y` 를 만족하도록 하면 된다.\n",
        "\n",
        "-   `yhat`은 어떻게 구하지? `(A*B).sum()`?\n",
        "-   그럼 `X1의[I,E]`,`X2의[I,E]`는 어떻게 구하지?? 생각해보니까\n",
        "    데이터에서 주어진건 아니잖아\n",
        "\n",
        "`-` `X1의[I,E]`,`X2의[I,E]` 를 어떻게 만들지?\n",
        "\n",
        "-   그전엔 어떻게 했지? `X1`을 보고 적당히 특징을 상상하고 `X1`의\n",
        "    `[I,E]`를 때려넣음, `X2`를 보고 적당히 특징을 상상하고 `X2`의\n",
        "    `[I,E]`를 때려넣음.\n",
        "-   자동화하려면? `X1` $\\to$ \\[`X1_I`, `X1_E`\\] 인 함수를 만들고 `X2`\n",
        "    $\\to$ \\[`X2_I`,`X2_E`\\] 인 함수를 만들자.\n",
        "\n",
        "`-` 앞으로 할일1: `X1` $\\to$ \\[`X1_I`, `X1_E`\\] 인 함수를 만들고 `X2`\n",
        "$\\to$ \\[`X2_I`,`X2_E`\\] 인 함수를 만들자. 즉\n",
        "\n",
        "-   옥순 $\\to$ 1.9, 0.0\n",
        "-   영자 $\\to$ 2.0, 0.1 …\n",
        "-   현숙 $\\to$ 0.0, 1.5\n",
        "\n",
        "로 가는 함수를 하나 구현하고\n",
        "\n",
        "-   영식 $\\to$ 2.0, 0.1\n",
        "-   영철 $\\to$ 1.9, 0.2 …\n",
        "-   영수 $\\to$ 0.1, 1.9\n",
        "\n",
        "를 와 같은 함수도 하나 구현한다.\n",
        "\n",
        "`-` 앞으로 할일2: 우리가 익숙한 셋팅\n",
        "\n",
        "1.  `X1_I`, `X1_E`, `X2_I`, `X2_E` $\\to$ `yhat` 를 수행\n",
        "2.  `y` $\\approx$ `yhat` 인지 체크: `loss = loss_fn(yhat,y)`\n",
        "3.  `loss.backward()`\n",
        "4.  더 나은 `X1_I`, `X1_E`, `X2_I`, `X2_E` 가 생기도록 update\n",
        "\n",
        "## C. X1 $\\to$ Z1, X2 $\\to$ Z2 의 구현 – 실패\n",
        "\n",
        "`-` dataframe의 변형"
      ],
      "id": "611515f5-0c06-4f76-af18-bb222f246860"
    },
    {
      "cell_type": "code",
      "execution_count": 91,
      "metadata": {
        "tags": []
      },
      "outputs": [],
      "source": [
        "df = df_view.stack().reset_index().set_axis(['X1','X2','y'],axis=1)\n",
        "df[:5]"
      ],
      "id": "2148df47-d9f0-4216-b4b5-54c0d141ba64"
    },
    {
      "cell_type": "markdown",
      "metadata": {},
      "source": [
        "`-` 이름을 숫자화"
      ],
      "id": "b521eae3-fcd9-43cf-851d-82c0bb5ed5cc"
    },
    {
      "cell_type": "code",
      "execution_count": 92,
      "metadata": {
        "tags": []
      },
      "outputs": [],
      "source": [
        "w = {'옥순':0, '영자':1, '정숙':2, '영숙':3, '순자':4, '현숙':5}\n",
        "m = {'영식':0, '영철':1, '영호':2, '광수':3, '상철':4, '영수':5}"
      ],
      "id": "75a555d0-cac7-4077-866c-3693e643a0e8"
    },
    {
      "cell_type": "code",
      "execution_count": 93,
      "metadata": {
        "tags": []
      },
      "outputs": [],
      "source": [
        "df['X1'] = df['X1'].map(w)\n",
        "df['X2'] = df['X2'].map(m)\n",
        "df[:5]"
      ],
      "id": "b279a1ee-3ee7-4dea-92fc-fc711b93d61b"
    },
    {
      "cell_type": "markdown",
      "metadata": {},
      "source": [
        "`-` X1 -\\> Z1, X2 -\\> Z2 로가는 변환구현"
      ],
      "id": "abe010d4-3e1a-4a1d-bd0f-030789dbe93b"
    },
    {
      "cell_type": "code",
      "execution_count": 100,
      "metadata": {
        "tags": []
      },
      "outputs": [],
      "source": [
        "X1 = torch.tensor(df['X1']).reshape(-1,1).float()\n",
        "X2 = torch.tensor(df['X2']).reshape(-1,1).float()\n",
        "l1 = torch.nn.Linear(1,2)\n",
        "l2 = torch.nn.Linear(1,2)\n",
        "Zdf = pd.DataFrame(torch.concat([l1(X1),l2(X2)],axis=1)).round(2)\n",
        "Zdf.set_axis[Z\n",
        "pd.concat([df,Zdf],axis=1)[::2] "
      ],
      "id": "b8391d8a-dbfd-476d-bda6-374b74b733a7"
    },
    {
      "cell_type": "markdown",
      "metadata": {},
      "source": [
        "성공했나?"
      ],
      "id": "b28d7ed5-2902-4500-a743-5645cb1982a7"
    }
  ],
  "nbformat": 4,
  "nbformat_minor": 5,
  "metadata": {
    "kernelspec": {
      "name": "python3",
      "display_name": "Python 3 (ipykernel)",
      "language": "python"
    },
    "language_info": {
      "name": "python",
      "codemirror_mode": {
        "name": "ipython",
        "version": "3"
      },
      "file_extension": ".py",
      "mimetype": "text/x-python",
      "nbconvert_exporter": "python",
      "pygments_lexer": "ipython3",
      "version": "3.11.8"
    }
  }
}