{
  "cells": [
    {
      "cell_type": "markdown",
      "metadata": {},
      "source": [
        "# 09wk-1: 추천시스템\n",
        "\n",
        "최규빈  \n",
        "2024-04-28"
      ],
      "id": "a6528ff0-77f1-46c4-bafe-20c6c682c4db"
    },
    {
      "cell_type": "code",
      "execution_count": 2,
      "metadata": {
        "tags": []
      },
      "outputs": [],
      "source": [
        "import torch\n",
        "import numpy as np \n",
        "import pandas as pd\n",
        "import fastai.collab"
      ],
      "id": "be01850b-e0ed-45be-a675-799d9c90c0ee"
    },
    {
      "cell_type": "code",
      "execution_count": 3,
      "metadata": {
        "tags": []
      },
      "outputs": [],
      "source": [
        "df_view = pd.read_csv('https://raw.githubusercontent.com/guebin/STML2022/main/posts/V.%20RecSys/2022-12-21-rcmdsolo.csv',index_col=0)\n",
        "df_view "
      ],
      "id": "9ad42043-cdba-46a1-92f0-51aa4ce6e161"
    },
    {
      "cell_type": "code",
      "execution_count": 4,
      "metadata": {
        "tags": []
      },
      "outputs": [],
      "source": [
        "a1 = np.array([1.9,0.0]).reshape(2,1) \n",
        "b1= np.array([2.0,0.1]).reshape(2,1)"
      ],
      "id": "43bbdba0-1ced-4e09-8d39-5105ca5fcb3e"
    },
    {
      "cell_type": "code",
      "execution_count": 5,
      "metadata": {
        "tags": []
      },
      "outputs": [],
      "source": [
        "sum(a1*b1)"
      ],
      "id": "737a962b-3e43-4d3d-9a9e-a5011970ce14"
    },
    {
      "cell_type": "code",
      "execution_count": 6,
      "metadata": {
        "tags": []
      },
      "outputs": [],
      "source": [
        "a1= np.array([1.9,0.0]).reshape(2,1)\n",
        "a2= np.array([2.0,0.1]).reshape(2,1)\n",
        "a3= np.array([2.5,1.0]).reshape(2,1)\n",
        "a4= np.array([0.1,1.9]).reshape(2,1)\n",
        "a5= np.array([0.2,2.1]).reshape(2,1)\n",
        "a6= np.array([0.0,1.5]).reshape(2,1)\n",
        "A = np.concatenate([a1,a2,a3,a4,a5,a6],axis=1)\n",
        "A"
      ],
      "id": "1679a6fd-7604-4e86-92b9-6aa53b834b74"
    },
    {
      "cell_type": "code",
      "execution_count": 7,
      "metadata": {
        "tags": []
      },
      "outputs": [],
      "source": [
        "b1= np.array([2.0,0.1]).reshape(2,1)\n",
        "b2= np.array([1.9,0.2]).reshape(2,1)\n",
        "b3= np.array([1.8,0.3]).reshape(2,1)\n",
        "b4= np.array([0.3,2.1]).reshape(2,1)\n",
        "b5= np.array([0.2,2.0]).reshape(2,1)\n",
        "b6= np.array([0.1,1.9]).reshape(2,1)\n",
        "B = np.concatenate([b1,b2,b3,b4,b5,b6],axis=1)\n",
        "B"
      ],
      "id": "946ea60e-e30b-4188-8bae-7c1b25ca0f47"
    },
    {
      "cell_type": "code",
      "execution_count": 8,
      "metadata": {
        "tags": []
      },
      "outputs": [],
      "source": [
        "A.T@B"
      ],
      "id": "7336587f-95f1-478f-bb9a-746cc318d1ab"
    },
    {
      "cell_type": "code",
      "execution_count": 9,
      "metadata": {
        "tags": []
      },
      "outputs": [],
      "source": [
        "a1.T@b1, a2.T@b2, a3.T@b1"
      ],
      "id": "b8294204-113c-4bde-9f17-9a24a6ff4d0e"
    },
    {
      "cell_type": "code",
      "execution_count": 10,
      "metadata": {
        "tags": []
      },
      "outputs": [],
      "source": [
        "A.T@B "
      ],
      "id": "33901998-5c7c-44fc-b97d-5a579514b540"
    },
    {
      "cell_type": "code",
      "execution_count": 11,
      "metadata": {
        "tags": []
      },
      "outputs": [],
      "source": [
        "df_view"
      ],
      "id": "931cdb35-1082-4386-ad02-5c08b8ca1d0a"
    },
    {
      "cell_type": "code",
      "execution_count": 12,
      "metadata": {
        "tags": []
      },
      "outputs": [],
      "source": [
        "df = pd.DataFrame([(f,m,df_view.loc[f,m]) for f in df_view.index for m in df_view.columns if not np.isnan(df_view.loc[f,m])])\n",
        "df.columns = ['X1','X2','y']\n",
        "df"
      ],
      "id": "cc391e6d-0eaa-49df-b21d-b474f3931b87"
    },
    {
      "cell_type": "code",
      "execution_count": 13,
      "metadata": {
        "tags": []
      },
      "outputs": [],
      "source": [
        "mapp1 = {k[1]:k[0] for k in enumerate(df.X1.unique())}\n",
        "mapp2 = {k[1]:k[0] for k in enumerate(df.X2.unique())}\n",
        "mapp1,mapp2"
      ],
      "id": "4aa701b1-bb2d-4b6f-affa-4f997ff1ff07"
    },
    {
      "cell_type": "code",
      "execution_count": 38,
      "metadata": {
        "tags": []
      },
      "outputs": [],
      "source": [
        "X1 = torch.tensor(list(map(lambda name: mapp1[name], df.X1)))\n",
        "X2 = torch.tensor(list(map(lambda name: mapp2[name], df.X2)))\n",
        "X1_onehot = torch.nn.functional.one_hot(X1).float()\n",
        "X2_onehot = torch.nn.functional.one_hot(X2).float()\n",
        "y = torch.tensor(df.y).float()"
      ],
      "id": "03d09c5c-7773-4ded-9474-c7c11e744972"
    },
    {
      "cell_type": "code",
      "execution_count": 39,
      "metadata": {
        "tags": []
      },
      "outputs": [],
      "source": [
        "X1,X2,y"
      ],
      "id": "1123cf30-6faf-4a5d-9ce2-3b0f795ca8cd"
    },
    {
      "cell_type": "code",
      "execution_count": 40,
      "metadata": {
        "tags": []
      },
      "outputs": [],
      "source": [
        "X1_ebdd"
      ],
      "id": "bcc47048-6223-4f69-9578-48feed6e6de5"
    },
    {
      "cell_type": "code",
      "execution_count": 41,
      "metadata": {
        "tags": []
      },
      "outputs": [],
      "source": [
        "e1 = torch.nn.Embedding(6,2)\n",
        "l1 = torch.nn.Linear(in_features=6,out_features=2) "
      ],
      "id": "ab0f48b6-c1d5-4ea6-8b87-34e7a4fa2dc1"
    },
    {
      "cell_type": "code",
      "execution_count": 42,
      "metadata": {
        "tags": []
      },
      "outputs": [],
      "source": [
        "ebdd(X1),l1(X1_onehot)"
      ],
      "id": "5f859ea2-bde3-45d2-bc71-01a406c27c25"
    },
    {
      "cell_type": "code",
      "execution_count": null,
      "metadata": {},
      "outputs": [],
      "source": [
        "li"
      ],
      "id": "2148df47-d9f0-4216-b4b5-54c0d141ba64"
    }
  ],
  "nbformat": 4,
  "nbformat_minor": 5,
  "metadata": {
    "kernelspec": {
      "name": "python3",
      "display_name": "Python 3 (ipykernel)",
      "language": "python"
    },
    "language_info": {
      "name": "python",
      "codemirror_mode": {
        "name": "ipython",
        "version": "3"
      },
      "file_extension": ".py",
      "mimetype": "text/x-python",
      "nbconvert_exporter": "python",
      "pygments_lexer": "ipython3",
      "version": "3.11.8"
    }
  }
}